{
 "cells": [
  {
   "cell_type": "markdown",
   "metadata": {
    "id": "Qn3V06AALjUc"
   },
   "source": [
    "#機械学習　回帰"
   ]
  },
  {
   "cell_type": "code",
   "execution_count": 205,
   "metadata": {
    "colab": {
     "base_uri": "https://localhost:8080/"
    },
    "executionInfo": {
     "elapsed": 2242,
     "status": "ok",
     "timestamp": 1646986778375,
     "user": {
      "displayName": "竹井一馬",
      "photoUrl": "https://lh3.googleusercontent.com/a/default-user=s64",
      "userId": "10196723697392395950"
     },
     "user_tz": -540
    },
    "id": "n7fWq447LaRr",
    "outputId": "bb684430-e9e0-4435-f46a-b88032c1f4c6"
   },
   "outputs": [
    {
     "name": "stdout",
     "output_type": "stream",
     "text": [
      "Drive already mounted at /content/drive; to attempt to forcibly remount, call drive.mount(\"/content/drive\", force_remount=True).\n"
     ]
    }
   ],
   "source": [
    "from google.colab import drive\n",
    "drive.mount('/content/drive')"
   ]
  },
  {
   "cell_type": "code",
   "execution_count": 206,
   "metadata": {
    "colab": {
     "base_uri": "https://localhost:8080/"
    },
    "executionInfo": {
     "elapsed": 3764,
     "status": "ok",
     "timestamp": 1646986782136,
     "user": {
      "displayName": "竹井一馬",
      "photoUrl": "https://lh3.googleusercontent.com/a/default-user=s64",
      "userId": "10196723697392395950"
     },
     "user_tz": -540
    },
    "id": "yPB8o7fBMjYA",
    "outputId": "76fb29c1-75a2-4e0b-f058-e768a91f9a68"
   },
   "outputs": [
    {
     "name": "stdout",
     "output_type": "stream",
     "text": [
      "Requirement already satisfied: japanize-matplotlib in /usr/local/lib/python3.7/dist-packages (1.1.3)\n",
      "Requirement already satisfied: matplotlib in /usr/local/lib/python3.7/dist-packages (from japanize-matplotlib) (3.2.2)\n",
      "Requirement already satisfied: cycler>=0.10 in /usr/local/lib/python3.7/dist-packages (from matplotlib->japanize-matplotlib) (0.11.0)\n",
      "Requirement already satisfied: pyparsing!=2.0.4,!=2.1.2,!=2.1.6,>=2.0.1 in /usr/local/lib/python3.7/dist-packages (from matplotlib->japanize-matplotlib) (3.0.7)\n",
      "Requirement already satisfied: kiwisolver>=1.0.1 in /usr/local/lib/python3.7/dist-packages (from matplotlib->japanize-matplotlib) (1.3.2)\n",
      "Requirement already satisfied: python-dateutil>=2.1 in /usr/local/lib/python3.7/dist-packages (from matplotlib->japanize-matplotlib) (2.8.2)\n",
      "Requirement already satisfied: numpy>=1.11 in /usr/local/lib/python3.7/dist-packages (from matplotlib->japanize-matplotlib) (1.21.5)\n",
      "Requirement already satisfied: six>=1.5 in /usr/local/lib/python3.7/dist-packages (from python-dateutil>=2.1->matplotlib->japanize-matplotlib) (1.15.0)\n"
     ]
    }
   ],
   "source": [
    "#※ matplotlib日本語化のためのライブラリのインストール\n",
    "!pip install japanize-matplotlib"
   ]
  },
  {
   "cell_type": "code",
   "execution_count": 207,
   "metadata": {
    "executionInfo": {
     "elapsed": 17,
     "status": "ok",
     "timestamp": 1646986782137,
     "user": {
      "displayName": "竹井一馬",
      "photoUrl": "https://lh3.googleusercontent.com/a/default-user=s64",
      "userId": "10196723697392395950"
     },
     "user_tz": -540
    },
    "id": "bomArzRAMKJQ"
   },
   "outputs": [],
   "source": [
    "#各種ライブラリをインポートする\n",
    "import pandas as pd\n",
    "#matplotlibの日本語化\n",
    "import japanize_matplotlib"
   ]
  },
  {
   "cell_type": "markdown",
   "metadata": {
    "id": "vIBZLl2nFdJr"
   },
   "source": [
    "#1.CSVファイルの読み込みと表示"
   ]
  },
  {
   "cell_type": "code",
   "execution_count": 208,
   "metadata": {
    "executionInfo": {
     "elapsed": 15,
     "status": "ok",
     "timestamp": 1646986782137,
     "user": {
      "displayName": "竹井一馬",
      "photoUrl": "https://lh3.googleusercontent.com/a/default-user=s64",
      "userId": "10196723697392395950"
     },
     "user_tz": -540
    },
    "id": "sXJFc5WnNJ32"
   },
   "outputs": [],
   "source": [
    "#CSVファイル auto_mgp.csv を読み込む\n",
    "df = pd.read_csv('/content/drive/MyDrive/Colab Notebooks/auto_mgp.csv')"
   ]
  },
  {
   "cell_type": "code",
   "execution_count": 209,
   "metadata": {
    "colab": {
     "base_uri": "https://localhost:8080/",
     "height": 0
    },
    "executionInfo": {
     "elapsed": 15,
     "status": "ok",
     "timestamp": 1646986782137,
     "user": {
      "displayName": "竹井一馬",
      "photoUrl": "https://lh3.googleusercontent.com/a/default-user=s64",
      "userId": "10196723697392395950"
     },
     "user_tz": -540
    },
    "id": "N8I7SNHkNsZV",
    "outputId": "faef7785-7f52-4f10-a613-40f8125cce5e"
   },
   "outputs": [
    {
     "data": {
      "text/html": [
       "\n",
       "  <div id=\"df-04b9c931-1d0d-4559-85a5-daf971308f92\">\n",
       "    <div class=\"colab-df-container\">\n",
       "      <div>\n",
       "<style scoped>\n",
       "    .dataframe tbody tr th:only-of-type {\n",
       "        vertical-align: middle;\n",
       "    }\n",
       "\n",
       "    .dataframe tbody tr th {\n",
       "        vertical-align: top;\n",
       "    }\n",
       "\n",
       "    .dataframe thead th {\n",
       "        text-align: right;\n",
       "    }\n",
       "</style>\n",
       "<table border=\"1\" class=\"dataframe\">\n",
       "  <thead>\n",
       "    <tr style=\"text-align: right;\">\n",
       "      <th></th>\n",
       "      <th>Unnamed: 0</th>\n",
       "      <th>MPG</th>\n",
       "      <th>Cylinders</th>\n",
       "      <th>Displacement</th>\n",
       "      <th>Horsepower</th>\n",
       "      <th>Weight</th>\n",
       "      <th>Acceleration</th>\n",
       "      <th>Model Year</th>\n",
       "      <th>Origin</th>\n",
       "    </tr>\n",
       "  </thead>\n",
       "  <tbody>\n",
       "    <tr>\n",
       "      <th>0</th>\n",
       "      <td>0</td>\n",
       "      <td>18.0</td>\n",
       "      <td>8</td>\n",
       "      <td>307.0</td>\n",
       "      <td>130.0</td>\n",
       "      <td>3504</td>\n",
       "      <td>12.0</td>\n",
       "      <td>70</td>\n",
       "      <td>1</td>\n",
       "    </tr>\n",
       "    <tr>\n",
       "      <th>1</th>\n",
       "      <td>1</td>\n",
       "      <td>15.0</td>\n",
       "      <td>8</td>\n",
       "      <td>350.0</td>\n",
       "      <td>165.0</td>\n",
       "      <td>3693</td>\n",
       "      <td>11.5</td>\n",
       "      <td>70</td>\n",
       "      <td>1</td>\n",
       "    </tr>\n",
       "    <tr>\n",
       "      <th>2</th>\n",
       "      <td>2</td>\n",
       "      <td>18.0</td>\n",
       "      <td>8</td>\n",
       "      <td>318.0</td>\n",
       "      <td>150.0</td>\n",
       "      <td>3436</td>\n",
       "      <td>11.0</td>\n",
       "      <td>70</td>\n",
       "      <td>1</td>\n",
       "    </tr>\n",
       "    <tr>\n",
       "      <th>3</th>\n",
       "      <td>3</td>\n",
       "      <td>16.0</td>\n",
       "      <td>8</td>\n",
       "      <td>304.0</td>\n",
       "      <td>150.0</td>\n",
       "      <td>3433</td>\n",
       "      <td>12.0</td>\n",
       "      <td>70</td>\n",
       "      <td>1</td>\n",
       "    </tr>\n",
       "    <tr>\n",
       "      <th>4</th>\n",
       "      <td>4</td>\n",
       "      <td>17.0</td>\n",
       "      <td>8</td>\n",
       "      <td>302.0</td>\n",
       "      <td>140.0</td>\n",
       "      <td>3449</td>\n",
       "      <td>10.5</td>\n",
       "      <td>70</td>\n",
       "      <td>1</td>\n",
       "    </tr>\n",
       "  </tbody>\n",
       "</table>\n",
       "</div>\n",
       "      <button class=\"colab-df-convert\" onclick=\"convertToInteractive('df-04b9c931-1d0d-4559-85a5-daf971308f92')\"\n",
       "              title=\"Convert this dataframe to an interactive table.\"\n",
       "              style=\"display:none;\">\n",
       "        \n",
       "  <svg xmlns=\"http://www.w3.org/2000/svg\" height=\"24px\"viewBox=\"0 0 24 24\"\n",
       "       width=\"24px\">\n",
       "    <path d=\"M0 0h24v24H0V0z\" fill=\"none\"/>\n",
       "    <path d=\"M18.56 5.44l.94 2.06.94-2.06 2.06-.94-2.06-.94-.94-2.06-.94 2.06-2.06.94zm-11 1L8.5 8.5l.94-2.06 2.06-.94-2.06-.94L8.5 2.5l-.94 2.06-2.06.94zm10 10l.94 2.06.94-2.06 2.06-.94-2.06-.94-.94-2.06-.94 2.06-2.06.94z\"/><path d=\"M17.41 7.96l-1.37-1.37c-.4-.4-.92-.59-1.43-.59-.52 0-1.04.2-1.43.59L10.3 9.45l-7.72 7.72c-.78.78-.78 2.05 0 2.83L4 21.41c.39.39.9.59 1.41.59.51 0 1.02-.2 1.41-.59l7.78-7.78 2.81-2.81c.8-.78.8-2.07 0-2.86zM5.41 20L4 18.59l7.72-7.72 1.47 1.35L5.41 20z\"/>\n",
       "  </svg>\n",
       "      </button>\n",
       "      \n",
       "  <style>\n",
       "    .colab-df-container {\n",
       "      display:flex;\n",
       "      flex-wrap:wrap;\n",
       "      gap: 12px;\n",
       "    }\n",
       "\n",
       "    .colab-df-convert {\n",
       "      background-color: #E8F0FE;\n",
       "      border: none;\n",
       "      border-radius: 50%;\n",
       "      cursor: pointer;\n",
       "      display: none;\n",
       "      fill: #1967D2;\n",
       "      height: 32px;\n",
       "      padding: 0 0 0 0;\n",
       "      width: 32px;\n",
       "    }\n",
       "\n",
       "    .colab-df-convert:hover {\n",
       "      background-color: #E2EBFA;\n",
       "      box-shadow: 0px 1px 2px rgba(60, 64, 67, 0.3), 0px 1px 3px 1px rgba(60, 64, 67, 0.15);\n",
       "      fill: #174EA6;\n",
       "    }\n",
       "\n",
       "    [theme=dark] .colab-df-convert {\n",
       "      background-color: #3B4455;\n",
       "      fill: #D2E3FC;\n",
       "    }\n",
       "\n",
       "    [theme=dark] .colab-df-convert:hover {\n",
       "      background-color: #434B5C;\n",
       "      box-shadow: 0px 1px 3px 1px rgba(0, 0, 0, 0.15);\n",
       "      filter: drop-shadow(0px 1px 2px rgba(0, 0, 0, 0.3));\n",
       "      fill: #FFFFFF;\n",
       "    }\n",
       "  </style>\n",
       "\n",
       "      <script>\n",
       "        const buttonEl =\n",
       "          document.querySelector('#df-04b9c931-1d0d-4559-85a5-daf971308f92 button.colab-df-convert');\n",
       "        buttonEl.style.display =\n",
       "          google.colab.kernel.accessAllowed ? 'block' : 'none';\n",
       "\n",
       "        async function convertToInteractive(key) {\n",
       "          const element = document.querySelector('#df-04b9c931-1d0d-4559-85a5-daf971308f92');\n",
       "          const dataTable =\n",
       "            await google.colab.kernel.invokeFunction('convertToInteractive',\n",
       "                                                     [key], {});\n",
       "          if (!dataTable) return;\n",
       "\n",
       "          const docLinkHtml = 'Like what you see? Visit the ' +\n",
       "            '<a target=\"_blank\" href=https://colab.research.google.com/notebooks/data_table.ipynb>data table notebook</a>'\n",
       "            + ' to learn more about interactive tables.';\n",
       "          element.innerHTML = '';\n",
       "          dataTable['output_type'] = 'display_data';\n",
       "          await google.colab.output.renderOutput(dataTable, element);\n",
       "          const docLink = document.createElement('div');\n",
       "          docLink.innerHTML = docLinkHtml;\n",
       "          element.appendChild(docLink);\n",
       "        }\n",
       "      </script>\n",
       "    </div>\n",
       "  </div>\n",
       "  "
      ],
      "text/plain": [
       "   Unnamed: 0   MPG  Cylinders  Displacement  Horsepower  Weight  \\\n",
       "0           0  18.0          8         307.0       130.0    3504   \n",
       "1           1  15.0          8         350.0       165.0    3693   \n",
       "2           2  18.0          8         318.0       150.0    3436   \n",
       "3           3  16.0          8         304.0       150.0    3433   \n",
       "4           4  17.0          8         302.0       140.0    3449   \n",
       "\n",
       "   Acceleration  Model Year  Origin  \n",
       "0          12.0          70       1  \n",
       "1          11.5          70       1  \n",
       "2          11.0          70       1  \n",
       "3          12.0          70       1  \n",
       "4          10.5          70       1  "
      ]
     },
     "execution_count": 209,
     "metadata": {},
     "output_type": "execute_result"
    }
   ],
   "source": [
    "#読み込んだCSVファイルの先頭５行と末尾５行を表示する\n",
    "df.head(5)"
   ]
  },
  {
   "cell_type": "code",
   "execution_count": 210,
   "metadata": {
    "colab": {
     "base_uri": "https://localhost:8080/",
     "height": 0
    },
    "executionInfo": {
     "elapsed": 13,
     "status": "ok",
     "timestamp": 1646986782138,
     "user": {
      "displayName": "竹井一馬",
      "photoUrl": "https://lh3.googleusercontent.com/a/default-user=s64",
      "userId": "10196723697392395950"
     },
     "user_tz": -540
    },
    "id": "U627ywc4N74z",
    "outputId": "b20efaff-e214-4018-9448-fb743930dc07"
   },
   "outputs": [
    {
     "data": {
      "text/html": [
       "\n",
       "  <div id=\"df-2d7ab97a-050a-4065-b498-c8478ae5d50b\">\n",
       "    <div class=\"colab-df-container\">\n",
       "      <div>\n",
       "<style scoped>\n",
       "    .dataframe tbody tr th:only-of-type {\n",
       "        vertical-align: middle;\n",
       "    }\n",
       "\n",
       "    .dataframe tbody tr th {\n",
       "        vertical-align: top;\n",
       "    }\n",
       "\n",
       "    .dataframe thead th {\n",
       "        text-align: right;\n",
       "    }\n",
       "</style>\n",
       "<table border=\"1\" class=\"dataframe\">\n",
       "  <thead>\n",
       "    <tr style=\"text-align: right;\">\n",
       "      <th></th>\n",
       "      <th>Unnamed: 0</th>\n",
       "      <th>MPG</th>\n",
       "      <th>Cylinders</th>\n",
       "      <th>Displacement</th>\n",
       "      <th>Horsepower</th>\n",
       "      <th>Weight</th>\n",
       "      <th>Acceleration</th>\n",
       "      <th>Model Year</th>\n",
       "      <th>Origin</th>\n",
       "    </tr>\n",
       "  </thead>\n",
       "  <tbody>\n",
       "    <tr>\n",
       "      <th>393</th>\n",
       "      <td>393</td>\n",
       "      <td>27.0</td>\n",
       "      <td>4</td>\n",
       "      <td>140.0</td>\n",
       "      <td>86.0</td>\n",
       "      <td>2790</td>\n",
       "      <td>15.6</td>\n",
       "      <td>82</td>\n",
       "      <td>1</td>\n",
       "    </tr>\n",
       "    <tr>\n",
       "      <th>394</th>\n",
       "      <td>394</td>\n",
       "      <td>44.0</td>\n",
       "      <td>4</td>\n",
       "      <td>97.0</td>\n",
       "      <td>52.0</td>\n",
       "      <td>2130</td>\n",
       "      <td>24.6</td>\n",
       "      <td>82</td>\n",
       "      <td>2</td>\n",
       "    </tr>\n",
       "    <tr>\n",
       "      <th>395</th>\n",
       "      <td>395</td>\n",
       "      <td>32.0</td>\n",
       "      <td>4</td>\n",
       "      <td>135.0</td>\n",
       "      <td>84.0</td>\n",
       "      <td>2295</td>\n",
       "      <td>11.6</td>\n",
       "      <td>82</td>\n",
       "      <td>1</td>\n",
       "    </tr>\n",
       "    <tr>\n",
       "      <th>396</th>\n",
       "      <td>396</td>\n",
       "      <td>28.0</td>\n",
       "      <td>4</td>\n",
       "      <td>120.0</td>\n",
       "      <td>79.0</td>\n",
       "      <td>2625</td>\n",
       "      <td>18.6</td>\n",
       "      <td>82</td>\n",
       "      <td>1</td>\n",
       "    </tr>\n",
       "    <tr>\n",
       "      <th>397</th>\n",
       "      <td>397</td>\n",
       "      <td>31.0</td>\n",
       "      <td>4</td>\n",
       "      <td>119.0</td>\n",
       "      <td>82.0</td>\n",
       "      <td>2720</td>\n",
       "      <td>19.4</td>\n",
       "      <td>82</td>\n",
       "      <td>1</td>\n",
       "    </tr>\n",
       "  </tbody>\n",
       "</table>\n",
       "</div>\n",
       "      <button class=\"colab-df-convert\" onclick=\"convertToInteractive('df-2d7ab97a-050a-4065-b498-c8478ae5d50b')\"\n",
       "              title=\"Convert this dataframe to an interactive table.\"\n",
       "              style=\"display:none;\">\n",
       "        \n",
       "  <svg xmlns=\"http://www.w3.org/2000/svg\" height=\"24px\"viewBox=\"0 0 24 24\"\n",
       "       width=\"24px\">\n",
       "    <path d=\"M0 0h24v24H0V0z\" fill=\"none\"/>\n",
       "    <path d=\"M18.56 5.44l.94 2.06.94-2.06 2.06-.94-2.06-.94-.94-2.06-.94 2.06-2.06.94zm-11 1L8.5 8.5l.94-2.06 2.06-.94-2.06-.94L8.5 2.5l-.94 2.06-2.06.94zm10 10l.94 2.06.94-2.06 2.06-.94-2.06-.94-.94-2.06-.94 2.06-2.06.94z\"/><path d=\"M17.41 7.96l-1.37-1.37c-.4-.4-.92-.59-1.43-.59-.52 0-1.04.2-1.43.59L10.3 9.45l-7.72 7.72c-.78.78-.78 2.05 0 2.83L4 21.41c.39.39.9.59 1.41.59.51 0 1.02-.2 1.41-.59l7.78-7.78 2.81-2.81c.8-.78.8-2.07 0-2.86zM5.41 20L4 18.59l7.72-7.72 1.47 1.35L5.41 20z\"/>\n",
       "  </svg>\n",
       "      </button>\n",
       "      \n",
       "  <style>\n",
       "    .colab-df-container {\n",
       "      display:flex;\n",
       "      flex-wrap:wrap;\n",
       "      gap: 12px;\n",
       "    }\n",
       "\n",
       "    .colab-df-convert {\n",
       "      background-color: #E8F0FE;\n",
       "      border: none;\n",
       "      border-radius: 50%;\n",
       "      cursor: pointer;\n",
       "      display: none;\n",
       "      fill: #1967D2;\n",
       "      height: 32px;\n",
       "      padding: 0 0 0 0;\n",
       "      width: 32px;\n",
       "    }\n",
       "\n",
       "    .colab-df-convert:hover {\n",
       "      background-color: #E2EBFA;\n",
       "      box-shadow: 0px 1px 2px rgba(60, 64, 67, 0.3), 0px 1px 3px 1px rgba(60, 64, 67, 0.15);\n",
       "      fill: #174EA6;\n",
       "    }\n",
       "\n",
       "    [theme=dark] .colab-df-convert {\n",
       "      background-color: #3B4455;\n",
       "      fill: #D2E3FC;\n",
       "    }\n",
       "\n",
       "    [theme=dark] .colab-df-convert:hover {\n",
       "      background-color: #434B5C;\n",
       "      box-shadow: 0px 1px 3px 1px rgba(0, 0, 0, 0.15);\n",
       "      filter: drop-shadow(0px 1px 2px rgba(0, 0, 0, 0.3));\n",
       "      fill: #FFFFFF;\n",
       "    }\n",
       "  </style>\n",
       "\n",
       "      <script>\n",
       "        const buttonEl =\n",
       "          document.querySelector('#df-2d7ab97a-050a-4065-b498-c8478ae5d50b button.colab-df-convert');\n",
       "        buttonEl.style.display =\n",
       "          google.colab.kernel.accessAllowed ? 'block' : 'none';\n",
       "\n",
       "        async function convertToInteractive(key) {\n",
       "          const element = document.querySelector('#df-2d7ab97a-050a-4065-b498-c8478ae5d50b');\n",
       "          const dataTable =\n",
       "            await google.colab.kernel.invokeFunction('convertToInteractive',\n",
       "                                                     [key], {});\n",
       "          if (!dataTable) return;\n",
       "\n",
       "          const docLinkHtml = 'Like what you see? Visit the ' +\n",
       "            '<a target=\"_blank\" href=https://colab.research.google.com/notebooks/data_table.ipynb>data table notebook</a>'\n",
       "            + ' to learn more about interactive tables.';\n",
       "          element.innerHTML = '';\n",
       "          dataTable['output_type'] = 'display_data';\n",
       "          await google.colab.output.renderOutput(dataTable, element);\n",
       "          const docLink = document.createElement('div');\n",
       "          docLink.innerHTML = docLinkHtml;\n",
       "          element.appendChild(docLink);\n",
       "        }\n",
       "      </script>\n",
       "    </div>\n",
       "  </div>\n",
       "  "
      ],
      "text/plain": [
       "     Unnamed: 0   MPG  Cylinders  Displacement  Horsepower  Weight  \\\n",
       "393         393  27.0          4         140.0        86.0    2790   \n",
       "394         394  44.0          4          97.0        52.0    2130   \n",
       "395         395  32.0          4         135.0        84.0    2295   \n",
       "396         396  28.0          4         120.0        79.0    2625   \n",
       "397         397  31.0          4         119.0        82.0    2720   \n",
       "\n",
       "     Acceleration  Model Year  Origin  \n",
       "393          15.6          82       1  \n",
       "394          24.6          82       2  \n",
       "395          11.6          82       1  \n",
       "396          18.6          82       1  \n",
       "397          19.4          82       1  "
      ]
     },
     "execution_count": 210,
     "metadata": {},
     "output_type": "execute_result"
    }
   ],
   "source": [
    "df.tail(5)"
   ]
  },
  {
   "cell_type": "code",
   "execution_count": 211,
   "metadata": {
    "executionInfo": {
     "elapsed": 13,
     "status": "ok",
     "timestamp": 1646986782138,
     "user": {
      "displayName": "竹井一馬",
      "photoUrl": "https://lh3.googleusercontent.com/a/default-user=s64",
      "userId": "10196723697392395950"
     },
     "user_tz": -540
    },
    "id": "a1UGxPwB-jRH"
   },
   "outputs": [],
   "source": [
    "#列(Unnamed: 0)を削除する\n",
    "df = df.drop('Unnamed: 0', axis = 1)"
   ]
  },
  {
   "cell_type": "markdown",
   "metadata": {
    "id": "pvgT70PhGUs3"
   },
   "source": [
    "#2.カテゴリ特徴量列があるときはダミー変数化"
   ]
  },
  {
   "cell_type": "code",
   "execution_count": 212,
   "metadata": {
    "colab": {
     "base_uri": "https://localhost:8080/",
     "height": 0
    },
    "executionInfo": {
     "elapsed": 13,
     "status": "ok",
     "timestamp": 1646986782138,
     "user": {
      "displayName": "竹井一馬",
      "photoUrl": "https://lh3.googleusercontent.com/a/default-user=s64",
      "userId": "10196723697392395950"
     },
     "user_tz": -540
    },
    "id": "fXUwA5YnGavC",
    "outputId": "d19f787e-a5c1-41bf-d393-57c889ddb959"
   },
   "outputs": [
    {
     "data": {
      "text/html": [
       "\n",
       "  <div id=\"df-b87c6957-df17-4603-8d68-2d8ac7570d4b\">\n",
       "    <div class=\"colab-df-container\">\n",
       "      <div>\n",
       "<style scoped>\n",
       "    .dataframe tbody tr th:only-of-type {\n",
       "        vertical-align: middle;\n",
       "    }\n",
       "\n",
       "    .dataframe tbody tr th {\n",
       "        vertical-align: top;\n",
       "    }\n",
       "\n",
       "    .dataframe thead th {\n",
       "        text-align: right;\n",
       "    }\n",
       "</style>\n",
       "<table border=\"1\" class=\"dataframe\">\n",
       "  <thead>\n",
       "    <tr style=\"text-align: right;\">\n",
       "      <th></th>\n",
       "      <th>MPG</th>\n",
       "      <th>Cylinders</th>\n",
       "      <th>Displacement</th>\n",
       "      <th>Horsepower</th>\n",
       "      <th>Weight</th>\n",
       "      <th>Acceleration</th>\n",
       "      <th>Model Year</th>\n",
       "      <th>2</th>\n",
       "      <th>3</th>\n",
       "    </tr>\n",
       "  </thead>\n",
       "  <tbody>\n",
       "    <tr>\n",
       "      <th>0</th>\n",
       "      <td>18.0</td>\n",
       "      <td>8</td>\n",
       "      <td>307.0</td>\n",
       "      <td>130.0</td>\n",
       "      <td>3504</td>\n",
       "      <td>12.0</td>\n",
       "      <td>70</td>\n",
       "      <td>0</td>\n",
       "      <td>0</td>\n",
       "    </tr>\n",
       "    <tr>\n",
       "      <th>1</th>\n",
       "      <td>15.0</td>\n",
       "      <td>8</td>\n",
       "      <td>350.0</td>\n",
       "      <td>165.0</td>\n",
       "      <td>3693</td>\n",
       "      <td>11.5</td>\n",
       "      <td>70</td>\n",
       "      <td>0</td>\n",
       "      <td>0</td>\n",
       "    </tr>\n",
       "    <tr>\n",
       "      <th>2</th>\n",
       "      <td>18.0</td>\n",
       "      <td>8</td>\n",
       "      <td>318.0</td>\n",
       "      <td>150.0</td>\n",
       "      <td>3436</td>\n",
       "      <td>11.0</td>\n",
       "      <td>70</td>\n",
       "      <td>0</td>\n",
       "      <td>0</td>\n",
       "    </tr>\n",
       "    <tr>\n",
       "      <th>3</th>\n",
       "      <td>16.0</td>\n",
       "      <td>8</td>\n",
       "      <td>304.0</td>\n",
       "      <td>150.0</td>\n",
       "      <td>3433</td>\n",
       "      <td>12.0</td>\n",
       "      <td>70</td>\n",
       "      <td>0</td>\n",
       "      <td>0</td>\n",
       "    </tr>\n",
       "    <tr>\n",
       "      <th>4</th>\n",
       "      <td>17.0</td>\n",
       "      <td>8</td>\n",
       "      <td>302.0</td>\n",
       "      <td>140.0</td>\n",
       "      <td>3449</td>\n",
       "      <td>10.5</td>\n",
       "      <td>70</td>\n",
       "      <td>0</td>\n",
       "      <td>0</td>\n",
       "    </tr>\n",
       "  </tbody>\n",
       "</table>\n",
       "</div>\n",
       "      <button class=\"colab-df-convert\" onclick=\"convertToInteractive('df-b87c6957-df17-4603-8d68-2d8ac7570d4b')\"\n",
       "              title=\"Convert this dataframe to an interactive table.\"\n",
       "              style=\"display:none;\">\n",
       "        \n",
       "  <svg xmlns=\"http://www.w3.org/2000/svg\" height=\"24px\"viewBox=\"0 0 24 24\"\n",
       "       width=\"24px\">\n",
       "    <path d=\"M0 0h24v24H0V0z\" fill=\"none\"/>\n",
       "    <path d=\"M18.56 5.44l.94 2.06.94-2.06 2.06-.94-2.06-.94-.94-2.06-.94 2.06-2.06.94zm-11 1L8.5 8.5l.94-2.06 2.06-.94-2.06-.94L8.5 2.5l-.94 2.06-2.06.94zm10 10l.94 2.06.94-2.06 2.06-.94-2.06-.94-.94-2.06-.94 2.06-2.06.94z\"/><path d=\"M17.41 7.96l-1.37-1.37c-.4-.4-.92-.59-1.43-.59-.52 0-1.04.2-1.43.59L10.3 9.45l-7.72 7.72c-.78.78-.78 2.05 0 2.83L4 21.41c.39.39.9.59 1.41.59.51 0 1.02-.2 1.41-.59l7.78-7.78 2.81-2.81c.8-.78.8-2.07 0-2.86zM5.41 20L4 18.59l7.72-7.72 1.47 1.35L5.41 20z\"/>\n",
       "  </svg>\n",
       "      </button>\n",
       "      \n",
       "  <style>\n",
       "    .colab-df-container {\n",
       "      display:flex;\n",
       "      flex-wrap:wrap;\n",
       "      gap: 12px;\n",
       "    }\n",
       "\n",
       "    .colab-df-convert {\n",
       "      background-color: #E8F0FE;\n",
       "      border: none;\n",
       "      border-radius: 50%;\n",
       "      cursor: pointer;\n",
       "      display: none;\n",
       "      fill: #1967D2;\n",
       "      height: 32px;\n",
       "      padding: 0 0 0 0;\n",
       "      width: 32px;\n",
       "    }\n",
       "\n",
       "    .colab-df-convert:hover {\n",
       "      background-color: #E2EBFA;\n",
       "      box-shadow: 0px 1px 2px rgba(60, 64, 67, 0.3), 0px 1px 3px 1px rgba(60, 64, 67, 0.15);\n",
       "      fill: #174EA6;\n",
       "    }\n",
       "\n",
       "    [theme=dark] .colab-df-convert {\n",
       "      background-color: #3B4455;\n",
       "      fill: #D2E3FC;\n",
       "    }\n",
       "\n",
       "    [theme=dark] .colab-df-convert:hover {\n",
       "      background-color: #434B5C;\n",
       "      box-shadow: 0px 1px 3px 1px rgba(0, 0, 0, 0.15);\n",
       "      filter: drop-shadow(0px 1px 2px rgba(0, 0, 0, 0.3));\n",
       "      fill: #FFFFFF;\n",
       "    }\n",
       "  </style>\n",
       "\n",
       "      <script>\n",
       "        const buttonEl =\n",
       "          document.querySelector('#df-b87c6957-df17-4603-8d68-2d8ac7570d4b button.colab-df-convert');\n",
       "        buttonEl.style.display =\n",
       "          google.colab.kernel.accessAllowed ? 'block' : 'none';\n",
       "\n",
       "        async function convertToInteractive(key) {\n",
       "          const element = document.querySelector('#df-b87c6957-df17-4603-8d68-2d8ac7570d4b');\n",
       "          const dataTable =\n",
       "            await google.colab.kernel.invokeFunction('convertToInteractive',\n",
       "                                                     [key], {});\n",
       "          if (!dataTable) return;\n",
       "\n",
       "          const docLinkHtml = 'Like what you see? Visit the ' +\n",
       "            '<a target=\"_blank\" href=https://colab.research.google.com/notebooks/data_table.ipynb>data table notebook</a>'\n",
       "            + ' to learn more about interactive tables.';\n",
       "          element.innerHTML = '';\n",
       "          dataTable['output_type'] = 'display_data';\n",
       "          await google.colab.output.renderOutput(dataTable, element);\n",
       "          const docLink = document.createElement('div');\n",
       "          docLink.innerHTML = docLinkHtml;\n",
       "          element.appendChild(docLink);\n",
       "        }\n",
       "      </script>\n",
       "    </div>\n",
       "  </div>\n",
       "  "
      ],
      "text/plain": [
       "    MPG  Cylinders  Displacement  Horsepower  Weight  Acceleration  \\\n",
       "0  18.0          8         307.0       130.0    3504          12.0   \n",
       "1  15.0          8         350.0       165.0    3693          11.5   \n",
       "2  18.0          8         318.0       150.0    3436          11.0   \n",
       "3  16.0          8         304.0       150.0    3433          12.0   \n",
       "4  17.0          8         302.0       140.0    3449          10.5   \n",
       "\n",
       "   Model Year  2  3  \n",
       "0          70  0  0  \n",
       "1          70  0  0  \n",
       "2          70  0  0  \n",
       "3          70  0  0  \n",
       "4          70  0  0  "
      ]
     },
     "execution_count": 212,
     "metadata": {},
     "output_type": "execute_result"
    }
   ],
   "source": [
    "#ダミー変数化(Origin 1=アメ車 2=欧州車 3=日本車)\n",
    "#Originをダミー変数に変更する\n",
    "origin = pd.get_dummies(df['Origin'], drop_first = True)\n",
    "df2 = pd.concat([df, origin], axis = 1)\n",
    "df2 = df2.drop(['Origin'], axis = 1)\n",
    "df2.head(5)"
   ]
  },
  {
   "cell_type": "markdown",
   "metadata": {
    "id": "v6wSVS_6G5cT"
   },
   "source": [
    "#3.テストデータの分離がなされている"
   ]
  },
  {
   "cell_type": "code",
   "execution_count": 213,
   "metadata": {
    "executionInfo": {
     "elapsed": 12,
     "status": "ok",
     "timestamp": 1646986782138,
     "user": {
      "displayName": "竹井一馬",
      "photoUrl": "https://lh3.googleusercontent.com/a/default-user=s64",
      "userId": "10196723697392395950"
     },
     "user_tz": -540
    },
    "id": "kL3JqzrJG-hS"
   },
   "outputs": [],
   "source": [
    "from sklearn.model_selection import train_test_split\n",
    "train_val, test = train_test_split(df2, test_size = 0.2, random_state = 0)"
   ]
  },
  {
   "cell_type": "markdown",
   "metadata": {
    "id": "A_pHnN8YQHmw"
   },
   "source": [
    "#4.正しく前処理が実装されている"
   ]
  },
  {
   "cell_type": "markdown",
   "metadata": {
    "id": "WTbyCwICHk6J"
   },
   "source": [
    "# 4-1 欠損値処理の過程が実装されている"
   ]
  },
  {
   "cell_type": "code",
   "execution_count": 214,
   "metadata": {
    "colab": {
     "base_uri": "https://localhost:8080/"
    },
    "executionInfo": {
     "elapsed": 13,
     "status": "ok",
     "timestamp": 1646986782139,
     "user": {
      "displayName": "竹井一馬",
      "photoUrl": "https://lh3.googleusercontent.com/a/default-user=s64",
      "userId": "10196723697392395950"
     },
     "user_tz": -540
    },
    "id": "sdfT_oATOBmj",
    "outputId": "d0f456b1-cea7-4d6f-ebc4-1140b27028af"
   },
   "outputs": [
    {
     "data": {
      "text/plain": [
       "MPG             False\n",
       "Cylinders       False\n",
       "Displacement    False\n",
       "Horsepower       True\n",
       "Weight          False\n",
       "Acceleration    False\n",
       "Model Year      False\n",
       "2               False\n",
       "3               False\n",
       "dtype: bool"
      ]
     },
     "execution_count": 214,
     "metadata": {},
     "output_type": "execute_result"
    }
   ],
   "source": [
    "#欠損値の確認\n",
    "train_val.isnull().any(axis=0)"
   ]
  },
  {
   "cell_type": "code",
   "execution_count": 215,
   "metadata": {
    "colab": {
     "base_uri": "https://localhost:8080/"
    },
    "executionInfo": {
     "elapsed": 12,
     "status": "ok",
     "timestamp": 1646986782139,
     "user": {
      "displayName": "竹井一馬",
      "photoUrl": "https://lh3.googleusercontent.com/a/default-user=s64",
      "userId": "10196723697392395950"
     },
     "user_tz": -540
    },
    "id": "JzLP-U3NPDAM",
    "outputId": "94e36d4e-7fa7-4e71-8408-4c8fdb7ab617"
   },
   "outputs": [
    {
     "data": {
      "text/plain": [
       "5"
      ]
     },
     "execution_count": 215,
     "metadata": {},
     "output_type": "execute_result"
    }
   ],
   "source": [
    "#欠損値の数を求める\n",
    "tmp = train_val['Horsepower'].isnull()\n",
    "tmp.sum()"
   ]
  },
  {
   "cell_type": "code",
   "execution_count": 216,
   "metadata": {
    "executionInfo": {
     "elapsed": 11,
     "status": "ok",
     "timestamp": 1646986782139,
     "user": {
      "displayName": "竹井一馬",
      "photoUrl": "https://lh3.googleusercontent.com/a/default-user=s64",
      "userId": "10196723697392395950"
     },
     "user_tz": -540
    },
    "id": "C2tn2m59QhzS"
   },
   "outputs": [],
   "source": [
    "# Horsepower列を平均値で穴埋め\n",
    "train_val[\"Horsepower\"] = train_val[\"Horsepower\"].fillna(train_val[\"Horsepower\"].mean())"
   ]
  },
  {
   "cell_type": "code",
   "execution_count": 217,
   "metadata": {
    "colab": {
     "base_uri": "https://localhost:8080/"
    },
    "executionInfo": {
     "elapsed": 10,
     "status": "ok",
     "timestamp": 1646986782139,
     "user": {
      "displayName": "竹井一馬",
      "photoUrl": "https://lh3.googleusercontent.com/a/default-user=s64",
      "userId": "10196723697392395950"
     },
     "user_tz": -540
    },
    "id": "ODJQ-uPmRimu",
    "outputId": "e8d4ca5e-52d3-40c1-a285-98805a1d345f"
   },
   "outputs": [
    {
     "data": {
      "text/plain": [
       "MPG             False\n",
       "Cylinders       False\n",
       "Displacement    False\n",
       "Horsepower      False\n",
       "Weight          False\n",
       "Acceleration    False\n",
       "Model Year      False\n",
       "2               False\n",
       "3               False\n",
       "dtype: bool"
      ]
     },
     "execution_count": 217,
     "metadata": {},
     "output_type": "execute_result"
    }
   ],
   "source": [
    "#欠損値の再確認\n",
    "train_val.isnull().any(axis=0)"
   ]
  },
  {
   "cell_type": "markdown",
   "metadata": {
    "id": "jPGg8U10H9KG"
   },
   "source": [
    "# 4-2-1 外れ値の処理過程が理解できるように実装されている"
   ]
  },
  {
   "cell_type": "code",
   "execution_count": 218,
   "metadata": {
    "colab": {
     "base_uri": "https://localhost:8080/",
     "height": 1000
    },
    "executionInfo": {
     "elapsed": 2271,
     "status": "ok",
     "timestamp": 1646986784763,
     "user": {
      "displayName": "竹井一馬",
      "photoUrl": "https://lh3.googleusercontent.com/a/default-user=s64",
      "userId": "10196723697392395950"
     },
     "user_tz": -540
    },
    "id": "tw8C_UDqjwv4",
    "outputId": "9c023623-c2c3-4549-e862-7611176fb50d"
   },
   "outputs": [
    {
     "data": {
      "image/png": "[encoded data removed]",
      "text/plain": [
       "<Figure size 432x288 with 1 Axes>"
      ]
     },
     "metadata": {
      "needs_background": "light"
     },
     "output_type": "display_data"
    },
    {
     "data": {
      "image/png": "[encoded data removed]",
      "text/plain": [
       "<Figure size 432x288 with 1 Axes>"
      ]
     },
     "metadata": {
      "needs_background": "light"
     },
     "output_type": "display_data"
    },
    {
     "data": {
      "image/png": "[encoded data removed]",
      "text/plain": [
       "<Figure size 432x288 with 1 Axes>"
      ]
     },
     "metadata": {
      "needs_background": "light"
     },
     "output_type": "display_data"
    },
    {
     "data": {
      "image/png": "[encoded data removed]",
      "text/plain": [
       "<Figure size 432x288 with 1 Axes>"
      ]
     },
     "metadata": {
      "needs_background": "light"
     },
     "output_type": "display_data"
    },
    {
     "data": {
      "image/png": "[encoded data removed]",
      "text/plain": [
       "<Figure size 432x288 with 1 Axes>"
      ]
     },
     "metadata": {
      "needs_background": "light"
     },
     "output_type": "display_data"
    },
    {
     "data": {
      "image/png": "[encoded data removed]",
      "text/plain": [
       "<Figure size 432x288 with 1 Axes>"
      ]
     },
     "metadata": {
      "needs_background": "light"
     },
     "output_type": "display_data"
    },
    {
     "data": {
      "image/png": "[encoded data removed]",
      "text/plain": [
       "<Figure size 432x288 with 1 Axes>"
      ]
     },
     "metadata": {
      "needs_background": "light"
     },
     "output_type": "display_data"
    },
    {
     "data": {
      "image/png": "[encoded data removed]",
      "text/plain": [
       "<Figure size 432x288 with 1 Axes>"
      ]
     },
     "metadata": {
      "needs_background": "light"
     },
     "output_type": "display_data"
    },
    {
     "data": {
      "image/png": "[encoded data removed]",
      "text/plain": [
       "<Figure size 432x288 with 1 Axes>"
      ]
     },
     "metadata": {
      "needs_background": "light"
     },
     "output_type": "display_data"
    }
   ],
   "source": [
    "#各特徴量の列とMPGの列の相関関係を示す散布図を描く\n",
    "colname = train_val.columns\n",
    "for name in colname:\n",
    "    train_val.plot(kind = 'scatter', x = name, y = 'MPG')"
   ]
  },
  {
   "cell_type": "code",
   "execution_count": 219,
   "metadata": {
    "colab": {
     "base_uri": "https://localhost:8080/"
    },
    "executionInfo": {
     "elapsed": 11,
     "status": "ok",
     "timestamp": 1646986784763,
     "user": {
      "displayName": "竹井一馬",
      "photoUrl": "https://lh3.googleusercontent.com/a/default-user=s64",
      "userId": "10196723697392395950"
     },
     "user_tz": -540
    },
    "id": "04OhbAtTRzsK",
    "outputId": "c624db57-967a-4d24-c6f7-079c686e060b"
   },
   "outputs": [
    {
     "name": "stderr",
     "output_type": "stream",
     "text": [
      "/usr/local/lib/python3.7/dist-packages/sklearn/utils/validation.py:1692: FutureWarning: Feature names only support names that are all strings. Got feature names with dtypes: ['int', 'str']. An error will be raised in 1.2.\n",
      "  FutureWarning,\n",
      "/usr/local/lib/python3.7/dist-packages/sklearn/utils/validation.py:1692: FutureWarning: Feature names only support names that are all strings. Got feature names with dtypes: ['int', 'str']. An error will be raised in 1.2.\n",
      "  FutureWarning,\n"
     ]
    },
    {
     "data": {
      "text/plain": [
       "array([  5.66796767,  19.78488823,  11.5203647 ,  24.22665612,\n",
       "         8.27103931,   5.46952875,   5.19559044,   4.98246685,\n",
       "        50.20677521,  14.84772093,  21.06358006, 104.10183841,\n",
       "        26.16417466,   9.86857792,  41.92686698,   6.73466142,\n",
       "        29.47860621,  11.21809125,   6.29842923,  25.08529756,\n",
       "         8.13920456,   7.86146307,   6.55032057,  10.74905514,\n",
       "        11.65452887,   7.07574962,   9.78357649,  18.34355184,\n",
       "         4.31277943,  12.57315156,   9.39514827,   8.59326897,\n",
       "         6.76405265,   7.46293051,  10.61879568,   4.77151811,\n",
       "        10.47361141,   5.40179311,   5.21222042,  38.35341581,\n",
       "         9.1458022 ,  10.26241235,   9.65636392,  16.59958424,\n",
       "         5.23958131,  24.05530858,   5.34907891,   6.28641255,\n",
       "         6.27953194,   8.3017407 ,   6.81967407,  11.00729927,\n",
       "         1.97655619,   4.1354517 ,  11.12548341,  91.10217782,\n",
       "        19.41616111,   9.48401664,   8.12747363,   3.31055905,\n",
       "        14.42025296,   7.58116881,   7.53629504,  24.53556811,\n",
       "         7.91938367,  32.23476837,  10.90261853,  78.5409424 ,\n",
       "        38.96140647,  14.42836138,   7.11403609,  14.16475211,\n",
       "        29.69534709,   7.40821402,  17.07461759,   4.97489048,\n",
       "        15.66243387,  27.8209607 ,   2.14269208,   9.39647259,\n",
       "        11.93577042,   8.81741354,   8.87000671,   6.45322188,\n",
       "         9.87815003,   2.6387866 ,  14.09638526,   9.77585074,\n",
       "         5.24871745,   2.03553805,   7.9967424 ,  13.29050361,\n",
       "         6.58728013,  20.91164201,  20.97360327,  11.23326095,\n",
       "         6.61281459,   4.86075739,  12.66967451,   8.45911832,\n",
       "         9.76925663,   9.92760161,   5.06471222,  12.2880598 ,\n",
       "         9.98576456,   8.77154233,   9.39617814,   2.28161235,\n",
       "        22.33630469,  76.46863266,  11.24629691,  56.05934539,\n",
       "        11.68870099,   9.29159696,  22.86358326,  24.91615092,\n",
       "        22.88349345,   7.75420678,   9.78910798,   4.70344877,\n",
       "         5.55746748,   8.6476928 ,  57.29590495,  15.2682341 ,\n",
       "         5.80448394,   8.20955426,   4.88880039,  14.40757247,\n",
       "        49.45150787,   8.17748842,   8.73082277,  31.18884945,\n",
       "         5.22102675,   9.31053662,   5.72311082,  38.67214899,\n",
       "        18.43138323,  18.04791627,   5.79111786,   4.9174747 ,\n",
       "         7.49994175,  11.27978281,   6.31125562,  10.30919413,\n",
       "        17.49297877,  13.3636313 ,  34.81149282, 233.46748104,\n",
       "        11.29787777,   7.10868553,   8.49324319,   7.68450002,\n",
       "         8.10731613,  15.95744258,  20.20028723,   8.6277892 ,\n",
       "        10.90243185,   9.63184657,  16.12551426,   9.1082565 ,\n",
       "         5.03365023,   5.17836205,   5.58669066,   8.74836062,\n",
       "        12.18853908,   9.25414508,   6.91516812,   3.62546564,\n",
       "         6.91369   ,   8.43765372,   4.79079945,  11.19709849,\n",
       "        64.69556666,   5.28772156,   8.01675773,   6.54262926,\n",
       "        19.68995329,   5.42932735,   8.45582279,   7.21213975,\n",
       "        12.37937517,  27.10362402,   1.8167295 ,   6.3005373 ,\n",
       "        10.09191262,  29.80121131,   3.98839384,  10.75065439,\n",
       "         4.96660446,  37.75982121,   9.30169839,  14.5930061 ,\n",
       "         6.77131291,  23.43487755,   7.37587641,   1.67418767,\n",
       "        15.82431129,  30.38439249,   7.01014855,   4.96116781,\n",
       "        15.69891423,   9.63544683,   9.61159013,   5.66797316,\n",
       "        18.51342455,  11.46452738,  28.3694909 ,   7.80209198,\n",
       "        11.35948651,  24.40161895,  23.85468747,  24.50100887,\n",
       "         6.61592845,  15.08503042,   4.93531886,   9.97819225,\n",
       "        16.2002508 ,  22.91271453,   9.31616286,   3.49268151,\n",
       "        16.09410148,   8.62555036,   7.54011042,  11.21711864,\n",
       "         2.68450884,  64.41857535,  13.72192072,  77.66163136,\n",
       "         5.49516045,   4.88150171,   6.43658635,   5.8458741 ,\n",
       "        16.57696337,  14.88562164,   5.39119306,   5.29791956,\n",
       "         9.50424062,   7.70724728,  11.99524003,  19.25092543,\n",
       "         7.89489689,   6.39721399,  11.55273936,  13.38062277,\n",
       "         8.93067597,  10.41688582,   8.80483191,  48.48055605,\n",
       "        22.42308242,  11.63439011,   8.62082931,  11.87429307,\n",
       "        12.39903564,   9.75520514,   6.11201056,   5.7183491 ,\n",
       "        11.18925857,  21.29134286,  10.63756689,  16.92153626,\n",
       "        12.78450132,   7.14025464,   8.37599549,  14.4929814 ,\n",
       "         6.99100752,   7.26937452,   8.7436786 ,  67.25694446,\n",
       "        10.31650375,  10.90263002,   9.49919036,  62.19629657,\n",
       "        12.51869873,  10.79111497,  38.40281772,   5.49883981,\n",
       "         7.04103   ,   7.47825065,   6.61372628,  37.44908537,\n",
       "         8.5025576 ,   6.36740289,  10.64752502,   8.28314666,\n",
       "         5.32372207,   5.08446535,  17.24236769,   8.36770358,\n",
       "        36.20282896,   5.9879512 ,   4.42867227,   6.0343592 ,\n",
       "        24.66662805,  55.3821405 ,  13.03087883,   4.85740162,\n",
       "         6.22977936,  17.74350139,   8.70594984,  24.74745466,\n",
       "         5.89723372,   5.82112597,   5.65722227,  33.24036813,\n",
       "         5.69052879,  13.49284305,  14.80938725,  37.22765523,\n",
       "        35.62833176,  38.00620876,  26.55709261,  17.64237661,\n",
       "         6.33465881,   8.93220788,   5.39558037,  16.36111323,\n",
       "         9.34762875,   7.8436288 ])"
      ]
     },
     "execution_count": 219,
     "metadata": {},
     "output_type": "execute_result"
    }
   ],
   "source": [
    "from sklearn.covariance import MinCovDet\n",
    "\n",
    "#train_valに対して、各データの中心点からのマハラノビス距離を計算\n",
    "\n",
    "mcd = MinCovDet(random_state=0,support_fraction=0.7)\n",
    "mcd.fit(train_val)\n",
    "#マハラノビス距離\n",
    "distance = mcd.mahalanobis(train_val)\n",
    "distance"
   ]
  },
  {
   "cell_type": "code",
   "execution_count": 220,
   "metadata": {
    "colab": {
     "base_uri": "https://localhost:8080/",
     "height": 282
    },
    "executionInfo": {
     "elapsed": 489,
     "status": "ok",
     "timestamp": 1646986785245,
     "user": {
      "displayName": "竹井一馬",
      "photoUrl": "https://lh3.googleusercontent.com/a/default-user=s64",
      "userId": "10196723697392395950"
     },
     "user_tz": -540
    },
    "id": "VJx-Bic_lgto",
    "outputId": "eb28791a-acdd-47d9-c6dd-1ad1499fe170"
   },
   "outputs": [
    {
     "data": {
      "text/plain": [
       "<matplotlib.axes._subplots.AxesSubplot at 0x7fcfbe23f890>"
      ]
     },
     "execution_count": 220,
     "metadata": {},
     "output_type": "execute_result"
    },
    {
     "data": {
      "image/png": "[encoded data removed]",
      "text/plain": [
       "<Figure size 432x288 with 1 Axes>"
      ]
     },
     "metadata": {
      "needs_background": "light"
     },
     "output_type": "display_data"
    }
   ],
   "source": [
    "distance=pd.Series(distance)\n",
    "distance.plot(kind=\"box\")"
   ]
  },
  {
   "cell_type": "code",
   "execution_count": 221,
   "metadata": {
    "colab": {
     "base_uri": "https://localhost:8080/"
    },
    "executionInfo": {
     "elapsed": 8,
     "status": "ok",
     "timestamp": 1646986785245,
     "user": {
      "displayName": "竹井一馬",
      "photoUrl": "https://lh3.googleusercontent.com/a/default-user=s64",
      "userId": "10196723697392395950"
     },
     "user_tz": -540
    },
    "id": "HveSicRxfSDL",
    "outputId": "83dc27f9-9a8c-4213-ca16-8d3e7588ff1f"
   },
   "outputs": [
    {
     "data": {
      "text/plain": [
       "count    318.000000\n",
       "mean      15.317018\n",
       "std       19.025074\n",
       "min        1.674188\n",
       "25%        6.614277\n",
       "50%        9.621718\n",
       "75%       16.117661\n",
       "max      233.467481\n",
       "dtype: float64"
      ]
     },
     "execution_count": 221,
     "metadata": {},
     "output_type": "execute_result"
    }
   ],
   "source": [
    "tmp=distance.describe()#様々な基本統計量を計算\n",
    "tmp"
   ]
  },
  {
   "cell_type": "code",
   "execution_count": 222,
   "metadata": {
    "colab": {
     "base_uri": "https://localhost:8080/"
    },
    "executionInfo": {
     "elapsed": 7,
     "status": "ok",
     "timestamp": 1646986785246,
     "user": {
      "displayName": "竹井一馬",
      "photoUrl": "https://lh3.googleusercontent.com/a/default-user=s64",
      "userId": "10196723697392395950"
     },
     "user_tz": -540
    },
    "id": "Noha_lBqhfhI",
    "outputId": "b4849a69-4e8e-4792-ddb9-7630a13bbd05"
   },
   "outputs": [
    {
     "data": {
      "text/plain": [
       "8       50.206775\n",
       "11     104.101838\n",
       "14      41.926867\n",
       "39      38.353416\n",
       "55      91.102178\n",
       "65      32.234768\n",
       "67      78.540942\n",
       "68      38.961406\n",
       "109     76.468633\n",
       "111     56.059345\n",
       "122     57.295905\n",
       "128     49.451508\n",
       "131     31.188849\n",
       "135     38.672149\n",
       "146     34.811493\n",
       "147    233.467481\n",
       "172     64.695567\n",
       "189     37.759821\n",
       "197     30.384392\n",
       "225     64.418575\n",
       "227     77.661631\n",
       "247     48.480556\n",
       "267     67.256944\n",
       "271     62.196297\n",
       "274     38.402818\n",
       "279     37.449085\n",
       "288     36.202829\n",
       "293     55.382140\n",
       "303     33.240368\n",
       "307     37.227655\n",
       "308     35.628332\n",
       "309     38.006209\n",
       "dtype: float64"
      ]
     },
     "execution_count": 222,
     "metadata": {},
     "output_type": "execute_result"
    }
   ],
   "source": [
    "IQR = tmp['75%'] -tmp['25%']#IQR計算\n",
    "jougen = 1.5*(IQR) + tmp['75%'] # 上限値\n",
    "kagen = tmp['25%'] -1.5*(IQR) # 下限値\n",
    "\n",
    "# 上限と下限の条件をもとに、シリーズで条件検索\n",
    "outliner = distance[ (distance > jougen) | (distance < kagen) ]\n",
    "outliner"
   ]
  },
  {
   "cell_type": "code",
   "execution_count": 223,
   "metadata": {
    "colab": {
     "base_uri": "https://localhost:8080/"
    },
    "executionInfo": {
     "elapsed": 6,
     "status": "ok",
     "timestamp": 1646986785246,
     "user": {
      "displayName": "竹井一馬",
      "photoUrl": "https://lh3.googleusercontent.com/a/default-user=s64",
      "userId": "10196723697392395950"
     },
     "user_tz": -540
    },
    "id": "UclNrfUiODKe",
    "outputId": "effe1616-bbbe-493d-c68b-a6a845488df5"
   },
   "outputs": [
    {
     "data": {
      "text/plain": [
       "Int64Index([  8,  11,  14,  39,  55,  65,  67,  68, 109, 111, 122, 128, 131,\n",
       "            135, 146, 147, 172, 189, 197, 225, 227, 247, 267, 271, 274, 279,\n",
       "            288, 293, 303, 307, 308, 309],\n",
       "           dtype='int64')"
      ]
     },
     "execution_count": 223,
     "metadata": {},
     "output_type": "execute_result"
    }
   ],
   "source": [
    "no = outliner.index\n",
    "no"
   ]
  },
  {
   "cell_type": "code",
   "execution_count": 224,
   "metadata": {
    "executionInfo": {
     "elapsed": 3,
     "status": "ok",
     "timestamp": 1646986785246,
     "user": {
      "displayName": "竹井一馬",
      "photoUrl": "https://lh3.googleusercontent.com/a/default-user=s64",
      "userId": "10196723697392395950"
     },
     "user_tz": -540
    },
    "id": "u-21GndFOIFX"
   },
   "outputs": [],
   "source": [
    "train_val2 = train_val.drop(train_val.index[no], axis = 0)"
   ]
  },
  {
   "cell_type": "code",
   "execution_count": 225,
   "metadata": {
    "colab": {
     "base_uri": "https://localhost:8080/",
     "height": 1000
    },
    "executionInfo": {
     "elapsed": 1655,
     "status": "ok",
     "timestamp": 1646986786898,
     "user": {
      "displayName": "竹井一馬",
      "photoUrl": "https://lh3.googleusercontent.com/a/default-user=s64",
      "userId": "10196723697392395950"
     },
     "user_tz": -540
    },
    "id": "yJljNvXfh6EI",
    "outputId": "17f29855-f54f-4159-eeb1-e0b4baa1d37e"
   },
   "outputs": [
    {
     "data": {
      "image/png": "[encoded data removed]",
      "text/plain": [
       "<Figure size 432x288 with 1 Axes>"
      ]
     },
     "metadata": {
      "needs_background": "light"
     },
     "output_type": "display_data"
    },
    {
     "data": {
      "image/png": "[encoded data removed]",
      "text/plain": [
       "<Figure size 432x288 with 1 Axes>"
      ]
     },
     "metadata": {
      "needs_background": "light"
     },
     "output_type": "display_data"
    },
    {
     "data": {
      "image/png": "[encoded data removed]",
      "text/plain": [
       "<Figure size 432x288 with 1 Axes>"
      ]
     },
     "metadata": {
      "needs_background": "light"
     },
     "output_type": "display_data"
    },
    {
     "data": {
      "image/png": "[encoded data removed]",
      "text/plain": [
       "<Figure size 432x288 with 1 Axes>"
      ]
     },
     "metadata": {
      "needs_background": "light"
     },
     "output_type": "display_data"
    },
    {
     "data": {
      "image/png": "[encoded data removed]",
      "text/plain": [
       "<Figure size 432x288 with 1 Axes>"
      ]
     },
     "metadata": {
      "needs_background": "light"
     },
     "output_type": "display_data"
    },
    {
     "data": {
      "image/png": "[encoded data removed]",
      "text/plain": [
       "<Figure size 432x288 with 1 Axes>"
      ]
     },
     "metadata": {
      "needs_background": "light"
     },
     "output_type": "display_data"
    },
    {
     "data": {
      "image/png": "[encoded data removed]",
      "text/plain": [
       "<Figure size 432x288 with 1 Axes>"
      ]
     },
     "metadata": {
      "needs_background": "light"
     },
     "output_type": "display_data"
    },
    {
     "data": {
      "image/png": "[encoded data removed]",
      "text/plain": [
       "<Figure size 432x288 with 1 Axes>"
      ]
     },
     "metadata": {
      "needs_background": "light"
     },
     "output_type": "display_data"
    },
    {
     "data": {
      "image/png": "[encoded data removed]",
      "text/plain": [
       "<Figure size 432x288 with 1 Axes>"
      ]
     },
     "metadata": {
      "needs_background": "light"
     },
     "output_type": "display_data"
    }
   ],
   "source": [
    "#各特徴量の列と家賃（円）の列の相関関係を示す散布図を描く\n",
    "colname = train_val2.columns\n",
    "for name in colname:\n",
    "    train_val2.plot(kind = 'scatter', x = name, y = 'MPG')"
   ]
  },
  {
   "cell_type": "code",
   "execution_count": 226,
   "metadata": {
    "colab": {
     "base_uri": "https://localhost:8080/"
    },
    "executionInfo": {
     "elapsed": 14,
     "status": "ok",
     "timestamp": 1646986786898,
     "user": {
      "displayName": "竹井一馬",
      "photoUrl": "https://lh3.googleusercontent.com/a/default-user=s64",
      "userId": "10196723697392395950"
     },
     "user_tz": -540
    },
    "id": "7waqhm7AjpgG",
    "outputId": "c814a326-92df-4346-f9ed-4128fc559e5d"
   },
   "outputs": [
    {
     "data": {
      "text/plain": [
       "(318, 9)"
      ]
     },
     "execution_count": 226,
     "metadata": {},
     "output_type": "execute_result"
    }
   ],
   "source": [
    "#外れ値の削除の確認\n",
    "train_val.shape"
   ]
  },
  {
   "cell_type": "code",
   "execution_count": 227,
   "metadata": {
    "colab": {
     "base_uri": "https://localhost:8080/"
    },
    "executionInfo": {
     "elapsed": 12,
     "status": "ok",
     "timestamp": 1646986786899,
     "user": {
      "displayName": "竹井一馬",
      "photoUrl": "https://lh3.googleusercontent.com/a/default-user=s64",
      "userId": "10196723697392395950"
     },
     "user_tz": -540
    },
    "id": "7lZycX-JmcNG",
    "outputId": "f973e40e-f571-4283-c3a5-529969c760fa"
   },
   "outputs": [
    {
     "data": {
      "text/plain": [
       "(286, 9)"
      ]
     },
     "execution_count": 227,
     "metadata": {},
     "output_type": "execute_result"
    }
   ],
   "source": [
    "#外れ値の削除の確認\n",
    "train_val2.shape"
   ]
  },
  {
   "cell_type": "markdown",
   "metadata": {
    "id": "9G5UoD7PcZ2k"
   },
   "source": [
    "# 4-2-2 特徴量の絞り込みが理解できるように実装されている(決定係数0.5以上)\n",
    "# 4-2-5 特徴量と正解の分割が実装されている"
   ]
  },
  {
   "cell_type": "code",
   "execution_count": 228,
   "metadata": {
    "colab": {
     "base_uri": "https://localhost:8080/"
    },
    "executionInfo": {
     "elapsed": 9,
     "status": "ok",
     "timestamp": 1646986786899,
     "user": {
      "displayName": "竹井一馬",
      "photoUrl": "https://lh3.googleusercontent.com/a/default-user=s64",
      "userId": "10196723697392395950"
     },
     "user_tz": -540
    },
    "id": "EISWh_1bmdPj",
    "outputId": "f18960a9-628a-41d2-8638-4c80981382f8"
   },
   "outputs": [
    {
     "data": {
      "text/plain": [
       "MPG             1.000000\n",
       "Cylinders      -0.801918\n",
       "Displacement   -0.840970\n",
       "Horsepower     -0.798050\n",
       "Weight         -0.856998\n",
       "Acceleration    0.366816\n",
       "Model Year      0.525862\n",
       "2               0.181923\n",
       "3               0.525112\n",
       "Name: MPG, dtype: float64"
      ]
     },
     "execution_count": 228,
     "metadata": {},
     "output_type": "execute_result"
    }
   ],
   "source": [
    "#特徴量の絞り込み\n",
    "#列同士の相関関数を調べる\n",
    "train_val2.corr()['MPG']"
   ]
  },
  {
   "cell_type": "markdown",
   "metadata": {
    "id": "ApepK2Wwc4gK"
   },
   "source": []
  },
  {
   "cell_type": "code",
   "execution_count": 229,
   "metadata": {
    "executionInfo": {
     "elapsed": 8,
     "status": "ok",
     "timestamp": 1646986786899,
     "user": {
      "displayName": "竹井一馬",
      "photoUrl": "https://lh3.googleusercontent.com/a/default-user=s64",
      "userId": "10196723697392395950"
     },
     "user_tz": -540
    },
    "id": "ggHFeWa2ALd_"
   },
   "outputs": [],
   "source": [
    "#訓練データと検証データに分割する\n",
    "#特徴量は相関係数が0.5以上に絞る\n",
    "col =['Weight', 'Displacement', 'Cylinders', 'Horsepower', 'Model Year', 3]\n",
    "x = train_val2[col]\n",
    "t = train_val2[['MPG']]\n"
   ]
  },
  {
   "cell_type": "code",
   "execution_count": 230,
   "metadata": {
    "executionInfo": {
     "elapsed": 8,
     "status": "ok",
     "timestamp": 1646986786900,
     "user": {
      "displayName": "竹井一馬",
      "photoUrl": "https://lh3.googleusercontent.com/a/default-user=s64",
      "userId": "10196723697392395950"
     },
     "user_tz": -540
    },
    "id": "jTjJRQeqdqRF"
   },
   "outputs": [],
   "source": [
    "#訓練データと検証データに分割\n",
    "x_train, x_val, y_train, y_val = train_test_split(x, t,\n",
    "    test_size = 0.2, random_state = 0)"
   ]
  },
  {
   "cell_type": "markdown",
   "metadata": {
    "id": "RbZCS6_5eWqn"
   },
   "source": [
    "# 4-2-3 標準化が実装されている"
   ]
  },
  {
   "cell_type": "code",
   "execution_count": 231,
   "metadata": {
    "colab": {
     "base_uri": "https://localhost:8080/"
    },
    "executionInfo": {
     "elapsed": 8,
     "status": "ok",
     "timestamp": 1646986786900,
     "user": {
      "displayName": "竹井一馬",
      "photoUrl": "https://lh3.googleusercontent.com/a/default-user=s64",
      "userId": "10196723697392395950"
     },
     "user_tz": -540
    },
    "id": "wvGavYx7BiCl",
    "outputId": "f86e8836-b509-43dd-91c7-a17a7134aff5"
   },
   "outputs": [
    {
     "name": "stderr",
     "output_type": "stream",
     "text": [
      "/usr/local/lib/python3.7/dist-packages/sklearn/utils/validation.py:1692: FutureWarning: Feature names only support names that are all strings. Got feature names with dtypes: ['int', 'str']. An error will be raised in 1.2.\n",
      "  FutureWarning,\n",
      "/usr/local/lib/python3.7/dist-packages/sklearn/utils/validation.py:1692: FutureWarning: Feature names only support names that are all strings. Got feature names with dtypes: ['int', 'str']. An error will be raised in 1.2.\n",
      "  FutureWarning,\n"
     ]
    },
    {
     "data": {
      "text/plain": [
       "array([[ 0.93857771,  1.21686881,  1.53780659,  1.55411061, -1.12739079,\n",
       "        -0.50273975],\n",
       "       [-0.28535625, -0.7532366 , -0.84331329, -0.21149356, -0.27247361,\n",
       "        -0.50273975],\n",
       "       [ 0.88601613,  0.39338559,  0.34724665, -0.05098409,  0.29747118,\n",
       "        -0.50273975],\n",
       "       ...,\n",
       "       [-0.3429237 ,  0.1223658 ,  0.34724665, -0.37200303, -1.69733558,\n",
       "        -0.50273975],\n",
       "       [-1.06001384, -0.93044185, -0.84331329, -0.59671629,  0.29747118,\n",
       "        -0.50273975],\n",
       "       [-1.1914178 , -1.00340872, -0.84331329, -1.0782447 ,  1.72233316,\n",
       "         1.98910074]])"
      ]
     },
     "execution_count": 231,
     "metadata": {},
     "output_type": "execute_result"
    }
   ],
   "source": [
    "#データの標準化（平均値が０、標準偏差が1にする処理）\n",
    "from sklearn.preprocessing import StandardScaler\n",
    "\n",
    "sc_model_x = StandardScaler()\n",
    "sc_model_x.fit(x_train)\n",
    "\n",
    "# 各列のデータを標準化してsc_xに代入\n",
    "sc_x = sc_model_x.transform(x_train)\n",
    "sc_x # 表示"
   ]
  },
  {
   "cell_type": "code",
   "execution_count": 232,
   "metadata": {
    "executionInfo": {
     "elapsed": 7,
     "status": "ok",
     "timestamp": 1646986786900,
     "user": {
      "displayName": "竹井一馬",
      "photoUrl": "https://lh3.googleusercontent.com/a/default-user=s64",
      "userId": "10196723697392395950"
     },
     "user_tz": -540
    },
    "id": "_M5-winPB8Ek"
   },
   "outputs": [],
   "source": [
    "#正解データを標準化する\n",
    "sc_model_y = StandardScaler()\n",
    "sc_model_y.fit(y_train)\n",
    "\n",
    "sc_y = sc_model_y.transform(y_train)"
   ]
  },
  {
   "cell_type": "markdown",
   "metadata": {
    "id": "VaDKgCdBCKnf"
   },
   "source": [
    "# 5.学習モデルの選択とそのモデルがなぜ選択されたかが理解できるように実装されている"
   ]
  },
  {
   "cell_type": "code",
   "execution_count": 233,
   "metadata": {
    "executionInfo": {
     "elapsed": 7,
     "status": "ok",
     "timestamp": 1646986786900,
     "user": {
      "displayName": "竹井一馬",
      "photoUrl": "https://lh3.googleusercontent.com/a/default-user=s64",
      "userId": "10196723697392395950"
     },
     "user_tz": -540
    },
    "id": "zRW4V70QCQbw"
   },
   "outputs": [],
   "source": [
    "#重回帰モデルで試します\n",
    "from sklearn.linear_model import LinearRegression\n",
    "model = LinearRegression()"
   ]
  },
  {
   "cell_type": "markdown",
   "metadata": {
    "id": "Xh-r_bSefN0J"
   },
   "source": []
  },
  {
   "cell_type": "markdown",
   "metadata": {
    "id": "onaXwRFiCk_J"
   },
   "source": [
    "# 6.選択された学習モデルで学習\n"
   ]
  },
  {
   "cell_type": "code",
   "execution_count": 234,
   "metadata": {
    "colab": {
     "base_uri": "https://localhost:8080/"
    },
    "executionInfo": {
     "elapsed": 7,
     "status": "ok",
     "timestamp": 1646986786900,
     "user": {
      "displayName": "竹井一馬",
      "photoUrl": "https://lh3.googleusercontent.com/a/default-user=s64",
      "userId": "10196723697392395950"
     },
     "user_tz": -540
    },
    "id": "mLHqULXTfO58",
    "outputId": "69e09adf-afd6-42e8-bcdd-33250b9ae373"
   },
   "outputs": [
    {
     "data": {
      "text/plain": [
       "LinearRegression()"
      ]
     },
     "execution_count": 234,
     "metadata": {},
     "output_type": "execute_result"
    }
   ],
   "source": [
    "model.fit(sc_x, sc_y)"
   ]
  },
  {
   "cell_type": "markdown",
   "metadata": {
    "id": "NIHN2njOfVic"
   },
   "source": [
    "# 7.正解率または決定係数の表示（未知のデータを使用して予測、判断させれば更に良い）"
   ]
  },
  {
   "cell_type": "code",
   "execution_count": 235,
   "metadata": {
    "colab": {
     "base_uri": "https://localhost:8080/"
    },
    "executionInfo": {
     "elapsed": 6,
     "status": "ok",
     "timestamp": 1646986786900,
     "user": {
      "displayName": "竹井一馬",
      "photoUrl": "https://lh3.googleusercontent.com/a/default-user=s64",
      "userId": "10196723697392395950"
     },
     "user_tz": -540
    },
    "id": "osuYWCe1CjCO",
    "outputId": "428e8bb8-ba60-4fee-b732-31f9f085ffb1"
   },
   "outputs": [
    {
     "name": "stderr",
     "output_type": "stream",
     "text": [
      "/usr/local/lib/python3.7/dist-packages/sklearn/utils/validation.py:1692: FutureWarning: Feature names only support names that are all strings. Got feature names with dtypes: ['int', 'str']. An error will be raised in 1.2.\n",
      "  FutureWarning,\n"
     ]
    },
    {
     "data": {
      "text/plain": [
       "0.8798174649504961"
      ]
     },
     "execution_count": 235,
     "metadata": {},
     "output_type": "execute_result"
    }
   ],
   "source": [
    "#検証データを標準化する\n",
    "sc_x_val = sc_model_x.transform(x_val)\n",
    "sc_y_val = sc_model_y.transform(y_val)\n",
    "# 標準化した検証データで決定係数を計算\n",
    "model.score(sc_x_val, sc_y_val)"
   ]
  },
  {
   "cell_type": "markdown",
   "metadata": {
    "id": "vh9ZaHoaf_gl"
   },
   "source": [
    "# 4-2-2 特徴量の絞り込みが理解できるように実装されている(決定係数0.3以上で確定)"
   ]
  },
  {
   "cell_type": "code",
   "execution_count": 236,
   "metadata": {
    "executionInfo": {
     "elapsed": 5,
     "status": "ok",
     "timestamp": 1646986786900,
     "user": {
      "displayName": "竹井一馬",
      "photoUrl": "https://lh3.googleusercontent.com/a/default-user=s64",
      "userId": "10196723697392395950"
     },
     "user_tz": -540
    },
    "id": "X4Q1hBlDH2OY"
   },
   "outputs": [],
   "source": [
    "def learn(x, t):\n",
    "    x_train, x_val, y_train, y_val = train_test_split(x, t,\n",
    "    test_size = 0.2, random_state = 0)\n",
    "    # 訓練データを標準化\n",
    "    sc_model_x = StandardScaler()\n",
    "    sc_model_y = StandardScaler()\n",
    "    sc_model_x.fit(x_train)\n",
    "    sc_x_train = sc_model_x.transform(x_train)\n",
    "    sc_model_y.fit(y_train)\n",
    "    sc_y_train = sc_model_y.transform(y_train)\n",
    "    # 学習\n",
    "    model = LinearRegression()\n",
    "    model.fit(sc_x_train, sc_y_train)\n",
    "    #検証データを標準化\n",
    "    sc_x_val = sc_model_x.transform(x_val)\n",
    "    sc_y_val = sc_model_y.transform(y_val)\n",
    "    # 訓練データと検証データの決定係数計算\n",
    "    train_score = model.score(sc_x_train, sc_y_train)\n",
    "    val_score = model.score(sc_x_val, sc_y_val)\n",
    "    return train_score, val_score"
   ]
  },
  {
   "cell_type": "code",
   "execution_count": 237,
   "metadata": {
    "colab": {
     "base_uri": "https://localhost:8080/"
    },
    "executionInfo": {
     "elapsed": 391,
     "status": "ok",
     "timestamp": 1646986787286,
     "user": {
      "displayName": "竹井一馬",
      "photoUrl": "https://lh3.googleusercontent.com/a/default-user=s64",
      "userId": "10196723697392395950"
     },
     "user_tz": -540
    },
    "id": "MlSdRp9ZgY5f",
    "outputId": "be2e08b8-a5a6-4c2d-f8e5-12b0e6325d7a"
   },
   "outputs": [
    {
     "name": "stdout",
     "output_type": "stream",
     "text": [
      "0.8457698120394458 0.8798174649504961\n"
     ]
    },
    {
     "name": "stderr",
     "output_type": "stream",
     "text": [
      "/usr/local/lib/python3.7/dist-packages/sklearn/utils/validation.py:1692: FutureWarning: Feature names only support names that are all strings. Got feature names with dtypes: ['int', 'str']. An error will be raised in 1.2.\n",
      "  FutureWarning,\n",
      "/usr/local/lib/python3.7/dist-packages/sklearn/utils/validation.py:1692: FutureWarning: Feature names only support names that are all strings. Got feature names with dtypes: ['int', 'str']. An error will be raised in 1.2.\n",
      "  FutureWarning,\n",
      "/usr/local/lib/python3.7/dist-packages/sklearn/utils/validation.py:1692: FutureWarning: Feature names only support names that are all strings. Got feature names with dtypes: ['int', 'str']. An error will be raised in 1.2.\n",
      "  FutureWarning,\n"
     ]
    }
   ],
   "source": [
    "#決定係数0.5以上\n",
    "col =['Weight', 'Displacement', 'Cylinders', 'Horsepower', 'Model Year', 3]\n",
    "x = train_val2[col]\n",
    "t = train_val2[['MPG']]\n",
    "s1,s2 = learn(x, t)\n",
    "print(s1, s2)"
   ]
  },
  {
   "cell_type": "code",
   "execution_count": 238,
   "metadata": {
    "colab": {
     "base_uri": "https://localhost:8080/"
    },
    "executionInfo": {
     "elapsed": 16,
     "status": "ok",
     "timestamp": 1646986787286,
     "user": {
      "displayName": "竹井一馬",
      "photoUrl": "https://lh3.googleusercontent.com/a/default-user=s64",
      "userId": "10196723697392395950"
     },
     "user_tz": -540
    },
    "id": "p4YTvYwLgrie",
    "outputId": "4daaec29-847a-40fe-c912-4c5f738f55d3"
   },
   "outputs": [
    {
     "name": "stdout",
     "output_type": "stream",
     "text": [
      "0.8490015032515191 0.8889272849329386\n"
     ]
    },
    {
     "name": "stderr",
     "output_type": "stream",
     "text": [
      "/usr/local/lib/python3.7/dist-packages/sklearn/utils/validation.py:1692: FutureWarning: Feature names only support names that are all strings. Got feature names with dtypes: ['int', 'str']. An error will be raised in 1.2.\n",
      "  FutureWarning,\n",
      "/usr/local/lib/python3.7/dist-packages/sklearn/utils/validation.py:1692: FutureWarning: Feature names only support names that are all strings. Got feature names with dtypes: ['int', 'str']. An error will be raised in 1.2.\n",
      "  FutureWarning,\n",
      "/usr/local/lib/python3.7/dist-packages/sklearn/utils/validation.py:1692: FutureWarning: Feature names only support names that are all strings. Got feature names with dtypes: ['int', 'str']. An error will be raised in 1.2.\n",
      "  FutureWarning,\n"
     ]
    }
   ],
   "source": [
    "#決定係数0.3以上\n",
    "col =['Weight', 'Displacement', 'Cylinders', 'Horsepower', 'Acceleration','Model Year', 3]\n",
    "x = train_val2[col]\n",
    "t = train_val2[['MPG']]\n",
    "s1,s2 = learn(x, t)\n",
    "print(s1, s2)"
   ]
  },
  {
   "cell_type": "markdown",
   "metadata": {
    "id": "wxviyujqhscm"
   },
   "source": [
    "# 4-2-4 多項式特徴量、交互作用特徴量が必要に応じて追加実装されている"
   ]
  },
  {
   "cell_type": "code",
   "execution_count": 239,
   "metadata": {
    "colab": {
     "base_uri": "https://localhost:8080/"
    },
    "executionInfo": {
     "elapsed": 15,
     "status": "ok",
     "timestamp": 1646986787286,
     "user": {
      "displayName": "竹井一馬",
      "photoUrl": "https://lh3.googleusercontent.com/a/default-user=s64",
      "userId": "10196723697392395950"
     },
     "user_tz": -540
    },
    "id": "sst_ROt5hSYJ",
    "outputId": "d086770b-5cf6-4ce0-c5b8-8e4b225b6776"
   },
   "outputs": [
    {
     "name": "stderr",
     "output_type": "stream",
     "text": [
      "/usr/local/lib/python3.7/dist-packages/ipykernel_launcher.py:2: SettingWithCopyWarning: \n",
      "A value is trying to be set on a copy of a slice from a DataFrame.\n",
      "Try using .loc[row_indexer,col_indexer] = value instead\n",
      "\n",
      "See the caveats in the documentation: https://pandas.pydata.org/pandas-docs/stable/user_guide/indexing.html#returning-a-view-versus-a-copy\n",
      "  \n",
      "/usr/local/lib/python3.7/dist-packages/sklearn/utils/validation.py:1692: FutureWarning: Feature names only support names that are all strings. Got feature names with dtypes: ['int', 'str']. An error will be raised in 1.2.\n",
      "  FutureWarning,\n",
      "/usr/local/lib/python3.7/dist-packages/sklearn/utils/validation.py:1692: FutureWarning: Feature names only support names that are all strings. Got feature names with dtypes: ['int', 'str']. An error will be raised in 1.2.\n",
      "  FutureWarning,\n",
      "/usr/local/lib/python3.7/dist-packages/sklearn/utils/validation.py:1692: FutureWarning: Feature names only support names that are all strings. Got feature names with dtypes: ['int', 'str']. An error will be raised in 1.2.\n",
      "  FutureWarning,\n",
      "/usr/local/lib/python3.7/dist-packages/sklearn/utils/validation.py:1692: FutureWarning: Feature names only support names that are all strings. Got feature names with dtypes: ['int', 'str']. An error will be raised in 1.2.\n",
      "  FutureWarning,\n",
      "/usr/local/lib/python3.7/dist-packages/sklearn/utils/validation.py:1692: FutureWarning: Feature names only support names that are all strings. Got feature names with dtypes: ['int', 'str']. An error will be raised in 1.2.\n",
      "  FutureWarning,\n",
      "/usr/local/lib/python3.7/dist-packages/sklearn/utils/validation.py:1692: FutureWarning: Feature names only support names that are all strings. Got feature names with dtypes: ['int', 'str']. An error will be raised in 1.2.\n",
      "  FutureWarning,\n"
     ]
    },
    {
     "name": "stdout",
     "output_type": "stream",
     "text": [
      "0.8858634359821106 0.9179109885354606\n",
      "0.8861684996129964 0.9186891585999262\n",
      "0.8865837691266307 0.9203609539237728\n",
      "0.8869824972067778 0.9209226743470779\n",
      "0.8943347594298294 0.9250187799027382\n"
     ]
    },
    {
     "name": "stderr",
     "output_type": "stream",
     "text": [
      "/usr/local/lib/python3.7/dist-packages/sklearn/utils/validation.py:1692: FutureWarning: Feature names only support names that are all strings. Got feature names with dtypes: ['int', 'str']. An error will be raised in 1.2.\n",
      "  FutureWarning,\n",
      "/usr/local/lib/python3.7/dist-packages/sklearn/utils/validation.py:1692: FutureWarning: Feature names only support names that are all strings. Got feature names with dtypes: ['int', 'str']. An error will be raised in 1.2.\n",
      "  FutureWarning,\n",
      "/usr/local/lib/python3.7/dist-packages/sklearn/utils/validation.py:1692: FutureWarning: Feature names only support names that are all strings. Got feature names with dtypes: ['int', 'str']. An error will be raised in 1.2.\n",
      "  FutureWarning,\n",
      "/usr/local/lib/python3.7/dist-packages/sklearn/utils/validation.py:1692: FutureWarning: Feature names only support names that are all strings. Got feature names with dtypes: ['int', 'str']. An error will be raised in 1.2.\n",
      "  FutureWarning,\n",
      "/usr/local/lib/python3.7/dist-packages/sklearn/utils/validation.py:1692: FutureWarning: Feature names only support names that are all strings. Got feature names with dtypes: ['int', 'str']. An error will be raised in 1.2.\n",
      "  FutureWarning,\n",
      "/usr/local/lib/python3.7/dist-packages/sklearn/utils/validation.py:1692: FutureWarning: Feature names only support names that are all strings. Got feature names with dtypes: ['int', 'str']. An error will be raised in 1.2.\n",
      "  FutureWarning,\n",
      "/usr/local/lib/python3.7/dist-packages/sklearn/utils/validation.py:1692: FutureWarning: Feature names only support names that are all strings. Got feature names with dtypes: ['int', 'str']. An error will be raised in 1.2.\n",
      "  FutureWarning,\n",
      "/usr/local/lib/python3.7/dist-packages/sklearn/utils/validation.py:1692: FutureWarning: Feature names only support names that are all strings. Got feature names with dtypes: ['int', 'str']. An error will be raised in 1.2.\n",
      "  FutureWarning,\n",
      "/usr/local/lib/python3.7/dist-packages/sklearn/utils/validation.py:1692: FutureWarning: Feature names only support names that are all strings. Got feature names with dtypes: ['int', 'str']. An error will be raised in 1.2.\n",
      "  FutureWarning,\n"
     ]
    }
   ],
   "source": [
    "# Weight列の2乗を追加\n",
    "x['Weight2'] = x['Weight'] ** 2\n",
    "s1, s2 = learn(x, t)\n",
    "print(s1, s2)\n",
    "\n",
    "# Cylinders列の2乗を追加\n",
    "x['Cylinders2'] = x['Cylinders'] ** 2\n",
    "s1, s2 = learn(x, t)\n",
    "print(s1, s2)\n",
    "\n",
    "# Displacement列の2乗を追加\n",
    "x['Displacement2'] = x['Displacement'] ** 2\n",
    "s1, s2 = learn(x, t)\n",
    "print(s1, s2)\n",
    "\n",
    "# Horsepower列の2乗を追加\n",
    "x['Horsepower2'] = x['Horsepower'] ** 2\n",
    "s1, s2 = learn(x, t)\n",
    "print(s1, s2)\n",
    "\n",
    "# Model Year列の2乗を追加\n",
    "x['Model Year2'] = x['Model Year'] ** 2\n",
    "s1, s2 = learn(x, t)\n",
    "print(s1, s2)"
   ]
  },
  {
   "cell_type": "code",
   "execution_count": 240,
   "metadata": {
    "colab": {
     "base_uri": "https://localhost:8080/"
    },
    "executionInfo": {
     "elapsed": 11,
     "status": "ok",
     "timestamp": 1646986787286,
     "user": {
      "displayName": "竹井一馬",
      "photoUrl": "https://lh3.googleusercontent.com/a/default-user=s64",
      "userId": "10196723697392395950"
     },
     "user_tz": -540
    },
    "id": "EgozxpMaijPZ",
    "outputId": "de71f99b-7fc1-4ebf-9d89-48f5c8b493d3"
   },
   "outputs": [
    {
     "name": "stdout",
     "output_type": "stream",
     "text": [
      "0.8943753833570022 0.9253641599893929\n"
     ]
    },
    {
     "name": "stderr",
     "output_type": "stream",
     "text": [
      "/usr/local/lib/python3.7/dist-packages/sklearn/utils/validation.py:1692: FutureWarning: Feature names only support names that are all strings. Got feature names with dtypes: ['int', 'str']. An error will be raised in 1.2.\n",
      "  FutureWarning,\n",
      "/usr/local/lib/python3.7/dist-packages/sklearn/utils/validation.py:1692: FutureWarning: Feature names only support names that are all strings. Got feature names with dtypes: ['int', 'str']. An error will be raised in 1.2.\n",
      "  FutureWarning,\n",
      "/usr/local/lib/python3.7/dist-packages/sklearn/utils/validation.py:1692: FutureWarning: Feature names only support names that are all strings. Got feature names with dtypes: ['int', 'str']. An error will be raised in 1.2.\n",
      "  FutureWarning,\n"
     ]
    }
   ],
   "source": [
    "x['W * C'] = x['Weight'] * x['Cylinders']\n",
    "s1, s2 = learn(x, t)\n",
    "print(s1, s2)"
   ]
  },
  {
   "cell_type": "markdown",
   "metadata": {
    "id": "Rnkw0XtYl69j"
   },
   "source": [
    "# テストデータにて学習をさせる"
   ]
  },
  {
   "cell_type": "code",
   "execution_count": 241,
   "metadata": {
    "colab": {
     "base_uri": "https://localhost:8080/"
    },
    "executionInfo": {
     "elapsed": 10,
     "status": "ok",
     "timestamp": 1646986787287,
     "user": {
      "displayName": "竹井一馬",
      "photoUrl": "https://lh3.googleusercontent.com/a/default-user=s64",
      "userId": "10196723697392395950"
     },
     "user_tz": -540
    },
    "id": "sA17VclCkEDA",
    "outputId": "33c0b611-377c-4933-a4bf-e8ab8d2c9802"
   },
   "outputs": [
    {
     "name": "stderr",
     "output_type": "stream",
     "text": [
      "/usr/local/lib/python3.7/dist-packages/sklearn/utils/validation.py:1692: FutureWarning: Feature names only support names that are all strings. Got feature names with dtypes: ['int', 'str']. An error will be raised in 1.2.\n",
      "  FutureWarning,\n",
      "/usr/local/lib/python3.7/dist-packages/sklearn/utils/validation.py:1692: FutureWarning: Feature names only support names that are all strings. Got feature names with dtypes: ['int', 'str']. An error will be raised in 1.2.\n",
      "  FutureWarning,\n"
     ]
    },
    {
     "data": {
      "text/plain": [
       "LinearRegression()"
      ]
     },
     "execution_count": 241,
     "metadata": {},
     "output_type": "execute_result"
    }
   ],
   "source": [
    "# 訓練データと検証データを合わせて再学習させるので\n",
    "# 再度、標準化する\n",
    "sc_model_x2 = StandardScaler()\n",
    "sc_model_x2.fit(x)\n",
    "sc_x = sc_model_x2.transform(x)\n",
    "\n",
    "sc_model_y2 = StandardScaler()\n",
    "sc_model_y2.fit(t)\n",
    "sc_y = sc_model_y2.transform(t)\n",
    "model = LinearRegression()\n",
    "model.fit(sc_x, sc_y)"
   ]
  },
  {
   "cell_type": "code",
   "execution_count": 242,
   "metadata": {
    "colab": {
     "base_uri": "https://localhost:8080/"
    },
    "executionInfo": {
     "elapsed": 9,
     "status": "ok",
     "timestamp": 1646986787287,
     "user": {
      "displayName": "竹井一馬",
      "photoUrl": "https://lh3.googleusercontent.com/a/default-user=s64",
      "userId": "10196723697392395950"
     },
     "user_tz": -540
    },
    "id": "brrBxlRkkRc8",
    "outputId": "d478d9e8-68b0-416b-8054-f3f29cf76783"
   },
   "outputs": [
    {
     "name": "stderr",
     "output_type": "stream",
     "text": [
      "/usr/local/lib/python3.7/dist-packages/ipykernel_launcher.py:6: SettingWithCopyWarning: \n",
      "A value is trying to be set on a copy of a slice from a DataFrame.\n",
      "Try using .loc[row_indexer,col_indexer] = value instead\n",
      "\n",
      "See the caveats in the documentation: https://pandas.pydata.org/pandas-docs/stable/user_guide/indexing.html#returning-a-view-versus-a-copy\n",
      "  \n"
     ]
    }
   ],
   "source": [
    "test2 = test.fillna(train_val.mean()) # 欠損値を平均値で補完\n",
    "\n",
    "col =['Weight', 'Displacement', 'Cylinders', 'Horsepower', 'Acceleration','Model Year', 3]\n",
    "x_test = test2[col]\n",
    "t_test = test2[['MPG']]\n",
    "x_test['Weight2'] = x_test['Weight'] ** 2\n",
    "x_test['Cylinders2'] = x_test['Cylinders'] ** 2\n",
    "x_test['Displacement2'] = x_test['Displacement'] ** 2\n",
    "x_test['Horsepower2'] = x_test['Horsepower'] ** 2\n",
    "x_test['Model Year2'] = x_test['Model Year'] ** 2\n",
    "x_test['W * C'] = x_test['Weight'] * x_test['Cylinders']"
   ]
  },
  {
   "cell_type": "code",
   "execution_count": 243,
   "metadata": {
    "colab": {
     "base_uri": "https://localhost:8080/"
    },
    "executionInfo": {
     "elapsed": 8,
     "status": "ok",
     "timestamp": 1646986787287,
     "user": {
      "displayName": "竹井一馬",
      "photoUrl": "https://lh3.googleusercontent.com/a/default-user=s64",
      "userId": "10196723697392395950"
     },
     "user_tz": -540
    },
    "id": "4OnJLuJtlgx6",
    "outputId": "8b4e00e6-9cc4-4fe7-e1cf-7f1d952b7c5c"
   },
   "outputs": [
    {
     "name": "stderr",
     "output_type": "stream",
     "text": [
      "/usr/local/lib/python3.7/dist-packages/sklearn/utils/validation.py:1692: FutureWarning: Feature names only support names that are all strings. Got feature names with dtypes: ['int', 'str']. An error will be raised in 1.2.\n",
      "  FutureWarning,\n"
     ]
    }
   ],
   "source": [
    "sc_x_test = sc_model_x2.transform(x_test)\n",
    "sc_y_test = sc_model_y2.transform(t_test)"
   ]
  },
  {
   "cell_type": "markdown",
   "metadata": {
    "id": "WD5B8vuMnFMG"
   },
   "source": [
    "#重回帰モデルでは、訓練データは89%、検証データ92%、テストデータは88%"
   ]
  },
  {
   "cell_type": "code",
   "execution_count": 244,
   "metadata": {
    "colab": {
     "base_uri": "https://localhost:8080/"
    },
    "executionInfo": {
     "elapsed": 7,
     "status": "ok",
     "timestamp": 1646986787287,
     "user": {
      "displayName": "竹井一馬",
      "photoUrl": "https://lh3.googleusercontent.com/a/default-user=s64",
      "userId": "10196723697392395950"
     },
     "user_tz": -540
    },
    "id": "eQ1pRI1DllM6",
    "outputId": "16c986fd-b116-4ba6-adef-3b7ba4ea821e"
   },
   "outputs": [
    {
     "data": {
      "text/plain": [
       "0.8833106487971147"
      ]
     },
     "execution_count": 244,
     "metadata": {},
     "output_type": "execute_result"
    }
   ],
   "source": [
    "model.score(sc_x_test, sc_y_test)"
   ]
  },
  {
   "cell_type": "markdown",
   "metadata": {
    "id": "KiggrFKBoSjV"
   },
   "source": [
    "# リッジ回帰は、訓練データ86%、検証データ90%、テストデータ84%"
   ]
  },
  {
   "cell_type": "code",
   "execution_count": 245,
   "metadata": {
    "executionInfo": {
     "elapsed": 6,
     "status": "ok",
     "timestamp": 1646986787287,
     "user": {
      "displayName": "竹井一馬",
      "photoUrl": "https://lh3.googleusercontent.com/a/default-user=s64",
      "userId": "10196723697392395950"
     },
     "user_tz": -540
    },
    "id": "MQ4TcpWGrvxs"
   },
   "outputs": [],
   "source": [
    "#リッジ回帰で試します\n",
    "from sklearn.linear_model import Ridge # モジュールインポート"
   ]
  },
  {
   "cell_type": "code",
   "execution_count": 246,
   "metadata": {
    "executionInfo": {
     "elapsed": 6,
     "status": "ok",
     "timestamp": 1646986787287,
     "user": {
      "displayName": "竹井一馬",
      "photoUrl": "https://lh3.googleusercontent.com/a/default-user=s64",
      "userId": "10196723697392395950"
     },
     "user_tz": -540
    },
    "id": "vKBbB56xnKe_"
   },
   "outputs": [],
   "source": [
    "def learn2(x, t):\n",
    "    x_train, x_val, y_train, y_val = train_test_split(x, t,\n",
    "    test_size = 0.2, random_state = 0)\n",
    "    # 訓練データを標準化\n",
    "    sc_model_x = StandardScaler()\n",
    "    sc_model_y = StandardScaler()\n",
    "    sc_model_x.fit(x_train)\n",
    "    sc_x_train = sc_model_x.transform(x_train)\n",
    "    sc_model_y.fit(y_train)\n",
    "    sc_y_train = sc_model_y.transform(y_train)\n",
    "    # 学習\n",
    "    ridgeModel = Ridge(alpha = 10)\n",
    "    ridgeModel.fit(sc_x_train, sc_y_train) # 学習\n",
    "    #検証データを標準化\n",
    "    sc_x_val = sc_model_x.transform(x_val)\n",
    "    sc_y_val = sc_model_y.transform(y_val)\n",
    "    # 訓練データと検証データの決定係数計算\n",
    "    train_score = ridgeModel.score(sc_x_train, sc_y_train)\n",
    "    val_score = ridgeModel.score(sc_x_val, sc_y_val)\n",
    "    return train_score, val_score\n"
   ]
  },
  {
   "cell_type": "code",
   "execution_count": 247,
   "metadata": {
    "colab": {
     "base_uri": "https://localhost:8080/"
    },
    "executionInfo": {
     "elapsed": 7,
     "status": "ok",
     "timestamp": 1646986787288,
     "user": {
      "displayName": "竹井一馬",
      "photoUrl": "https://lh3.googleusercontent.com/a/default-user=s64",
      "userId": "10196723697392395950"
     },
     "user_tz": -540
    },
    "id": "8bOfECoRr6ph",
    "outputId": "90a9e1a8-7d12-4001-d6fa-c6d0242b558e"
   },
   "outputs": [
    {
     "name": "stdout",
     "output_type": "stream",
     "text": [
      "0.8472320516985945 0.8889586602102506\n"
     ]
    },
    {
     "name": "stderr",
     "output_type": "stream",
     "text": [
      "/usr/local/lib/python3.7/dist-packages/sklearn/utils/validation.py:1692: FutureWarning: Feature names only support names that are all strings. Got feature names with dtypes: ['int', 'str']. An error will be raised in 1.2.\n",
      "  FutureWarning,\n",
      "/usr/local/lib/python3.7/dist-packages/sklearn/utils/validation.py:1692: FutureWarning: Feature names only support names that are all strings. Got feature names with dtypes: ['int', 'str']. An error will be raised in 1.2.\n",
      "  FutureWarning,\n",
      "/usr/local/lib/python3.7/dist-packages/sklearn/utils/validation.py:1692: FutureWarning: Feature names only support names that are all strings. Got feature names with dtypes: ['int', 'str']. An error will be raised in 1.2.\n",
      "  FutureWarning,\n"
     ]
    }
   ],
   "source": [
    "#決定係数0.3以上\n",
    "col =['Weight', 'Displacement', 'Cylinders', 'Horsepower', 'Acceleration','Model Year', 3]\n",
    "x = train_val2[col]\n",
    "t = train_val2[['MPG']]\n",
    "s1,s2 = learn2(x, t)\n",
    "print(s1, s2)"
   ]
  },
  {
   "cell_type": "code",
   "execution_count": 248,
   "metadata": {
    "colab": {
     "base_uri": "https://localhost:8080/"
    },
    "executionInfo": {
     "elapsed": 389,
     "status": "ok",
     "timestamp": 1646986787672,
     "user": {
      "displayName": "竹井一馬",
      "photoUrl": "https://lh3.googleusercontent.com/a/default-user=s64",
      "userId": "10196723697392395950"
     },
     "user_tz": -540
    },
    "id": "QXmQ18EKtpDd",
    "outputId": "011e4c5f-d7be-4151-8565-2b1c925f8dce"
   },
   "outputs": [
    {
     "name": "stderr",
     "output_type": "stream",
     "text": [
      "/usr/local/lib/python3.7/dist-packages/ipykernel_launcher.py:2: SettingWithCopyWarning: \n",
      "A value is trying to be set on a copy of a slice from a DataFrame.\n",
      "Try using .loc[row_indexer,col_indexer] = value instead\n",
      "\n",
      "See the caveats in the documentation: https://pandas.pydata.org/pandas-docs/stable/user_guide/indexing.html#returning-a-view-versus-a-copy\n",
      "  \n",
      "/usr/local/lib/python3.7/dist-packages/sklearn/utils/validation.py:1692: FutureWarning: Feature names only support names that are all strings. Got feature names with dtypes: ['int', 'str']. An error will be raised in 1.2.\n",
      "  FutureWarning,\n",
      "/usr/local/lib/python3.7/dist-packages/sklearn/utils/validation.py:1692: FutureWarning: Feature names only support names that are all strings. Got feature names with dtypes: ['int', 'str']. An error will be raised in 1.2.\n",
      "  FutureWarning,\n"
     ]
    },
    {
     "name": "stdout",
     "output_type": "stream",
     "text": [
      "0.8493076849689454 0.8912393970231729\n"
     ]
    },
    {
     "name": "stderr",
     "output_type": "stream",
     "text": [
      "/usr/local/lib/python3.7/dist-packages/sklearn/utils/validation.py:1692: FutureWarning: Feature names only support names that are all strings. Got feature names with dtypes: ['int', 'str']. An error will be raised in 1.2.\n",
      "  FutureWarning,\n",
      "/usr/local/lib/python3.7/dist-packages/sklearn/utils/validation.py:1692: FutureWarning: Feature names only support names that are all strings. Got feature names with dtypes: ['int', 'str']. An error will be raised in 1.2.\n",
      "  FutureWarning,\n",
      "/usr/local/lib/python3.7/dist-packages/sklearn/utils/validation.py:1692: FutureWarning: Feature names only support names that are all strings. Got feature names with dtypes: ['int', 'str']. An error will be raised in 1.2.\n",
      "  FutureWarning,\n",
      "/usr/local/lib/python3.7/dist-packages/sklearn/utils/validation.py:1692: FutureWarning: Feature names only support names that are all strings. Got feature names with dtypes: ['int', 'str']. An error will be raised in 1.2.\n",
      "  FutureWarning,\n",
      "/usr/local/lib/python3.7/dist-packages/sklearn/utils/validation.py:1692: FutureWarning: Feature names only support names that are all strings. Got feature names with dtypes: ['int', 'str']. An error will be raised in 1.2.\n",
      "  FutureWarning,\n",
      "/usr/local/lib/python3.7/dist-packages/sklearn/utils/validation.py:1692: FutureWarning: Feature names only support names that are all strings. Got feature names with dtypes: ['int', 'str']. An error will be raised in 1.2.\n",
      "  FutureWarning,\n",
      "/usr/local/lib/python3.7/dist-packages/sklearn/utils/validation.py:1692: FutureWarning: Feature names only support names that are all strings. Got feature names with dtypes: ['int', 'str']. An error will be raised in 1.2.\n",
      "  FutureWarning,\n",
      "/usr/local/lib/python3.7/dist-packages/sklearn/utils/validation.py:1692: FutureWarning: Feature names only support names that are all strings. Got feature names with dtypes: ['int', 'str']. An error will be raised in 1.2.\n",
      "  FutureWarning,\n",
      "/usr/local/lib/python3.7/dist-packages/sklearn/utils/validation.py:1692: FutureWarning: Feature names only support names that are all strings. Got feature names with dtypes: ['int', 'str']. An error will be raised in 1.2.\n",
      "  FutureWarning,\n",
      "/usr/local/lib/python3.7/dist-packages/sklearn/utils/validation.py:1692: FutureWarning: Feature names only support names that are all strings. Got feature names with dtypes: ['int', 'str']. An error will be raised in 1.2.\n",
      "  FutureWarning,\n",
      "/usr/local/lib/python3.7/dist-packages/sklearn/utils/validation.py:1692: FutureWarning: Feature names only support names that are all strings. Got feature names with dtypes: ['int', 'str']. An error will be raised in 1.2.\n",
      "  FutureWarning,\n",
      "/usr/local/lib/python3.7/dist-packages/sklearn/utils/validation.py:1692: FutureWarning: Feature names only support names that are all strings. Got feature names with dtypes: ['int', 'str']. An error will be raised in 1.2.\n",
      "  FutureWarning,\n"
     ]
    },
    {
     "name": "stdout",
     "output_type": "stream",
     "text": [
      "0.8506304094868127 0.8922322555514637\n",
      "0.8582561254787107 0.9005999602445466\n",
      "0.8606197244421467 0.9024229058649689\n",
      "0.8615543032028681 0.902944975852695\n"
     ]
    },
    {
     "name": "stderr",
     "output_type": "stream",
     "text": [
      "/usr/local/lib/python3.7/dist-packages/sklearn/utils/validation.py:1692: FutureWarning: Feature names only support names that are all strings. Got feature names with dtypes: ['int', 'str']. An error will be raised in 1.2.\n",
      "  FutureWarning,\n"
     ]
    }
   ],
   "source": [
    "# Weight列の2乗を追加\n",
    "x['Weight2'] = x['Weight'] ** 2\n",
    "s1, s2 = learn2(x, t)\n",
    "print(s1, s2)\n",
    "\n",
    "# Cylinders列の2乗を追加\n",
    "x['Cylinders2'] = x['Cylinders'] ** 2\n",
    "s1, s2 = learn2(x, t)\n",
    "print(s1, s2)\n",
    "\n",
    "# Displacement列の2乗を追加\n",
    "x['Displacement2'] = x['Displacement'] ** 2\n",
    "s1, s2 = learn2(x, t)\n",
    "print(s1, s2)\n",
    "\n",
    "# Horsepower列の2乗を追加\n",
    "x['Horsepower2'] = x['Horsepower'] ** 2\n",
    "s1, s2 = learn2(x, t)\n",
    "print(s1, s2)\n",
    "\n",
    "# Model Year列の2乗を追加\n",
    "x['Model Year2'] = x['Model Year'] ** 2\n",
    "s1, s2 = learn2(x, t)\n",
    "print(s1, s2)"
   ]
  },
  {
   "cell_type": "code",
   "execution_count": 249,
   "metadata": {
    "colab": {
     "base_uri": "https://localhost:8080/"
    },
    "executionInfo": {
     "elapsed": 14,
     "status": "ok",
     "timestamp": 1646986787672,
     "user": {
      "displayName": "竹井一馬",
      "photoUrl": "https://lh3.googleusercontent.com/a/default-user=s64",
      "userId": "10196723697392395950"
     },
     "user_tz": -540
    },
    "id": "FZWrPmAb2rdI",
    "outputId": "ed0bcf6a-f8f9-4224-aefd-a17ff7a5b819"
   },
   "outputs": [
    {
     "name": "stdout",
     "output_type": "stream",
     "text": [
      "0.8618750956246325 0.9032495246067279\n"
     ]
    },
    {
     "name": "stderr",
     "output_type": "stream",
     "text": [
      "/usr/local/lib/python3.7/dist-packages/sklearn/utils/validation.py:1692: FutureWarning: Feature names only support names that are all strings. Got feature names with dtypes: ['int', 'str']. An error will be raised in 1.2.\n",
      "  FutureWarning,\n",
      "/usr/local/lib/python3.7/dist-packages/sklearn/utils/validation.py:1692: FutureWarning: Feature names only support names that are all strings. Got feature names with dtypes: ['int', 'str']. An error will be raised in 1.2.\n",
      "  FutureWarning,\n",
      "/usr/local/lib/python3.7/dist-packages/sklearn/utils/validation.py:1692: FutureWarning: Feature names only support names that are all strings. Got feature names with dtypes: ['int', 'str']. An error will be raised in 1.2.\n",
      "  FutureWarning,\n"
     ]
    }
   ],
   "source": [
    "x['W * C'] = x['Weight'] * x['Cylinders']\n",
    "s1, s2 = learn2(x, t)\n",
    "print(s1, s2)"
   ]
  },
  {
   "cell_type": "code",
   "execution_count": 250,
   "metadata": {
    "colab": {
     "base_uri": "https://localhost:8080/"
    },
    "executionInfo": {
     "elapsed": 11,
     "status": "ok",
     "timestamp": 1646986787672,
     "user": {
      "displayName": "竹井一馬",
      "photoUrl": "https://lh3.googleusercontent.com/a/default-user=s64",
      "userId": "10196723697392395950"
     },
     "user_tz": -540
    },
    "id": "ByF0gqrUtAf4",
    "outputId": "55041e15-ea59-47f6-9d3a-5594d4a2fc9c"
   },
   "outputs": [
    {
     "name": "stderr",
     "output_type": "stream",
     "text": [
      "/usr/local/lib/python3.7/dist-packages/sklearn/utils/validation.py:1692: FutureWarning: Feature names only support names that are all strings. Got feature names with dtypes: ['int', 'str']. An error will be raised in 1.2.\n",
      "  FutureWarning,\n",
      "/usr/local/lib/python3.7/dist-packages/sklearn/utils/validation.py:1692: FutureWarning: Feature names only support names that are all strings. Got feature names with dtypes: ['int', 'str']. An error will be raised in 1.2.\n",
      "  FutureWarning,\n"
     ]
    },
    {
     "data": {
      "text/plain": [
       "0.8415384797101239"
      ]
     },
     "execution_count": 250,
     "metadata": {},
     "output_type": "execute_result"
    }
   ],
   "source": [
    "# 訓練データと検証データを合わせて再学習させるので\n",
    "# 再度、標準化する\n",
    "sc_model_x2 = StandardScaler()\n",
    "sc_model_x2.fit(x)\n",
    "sc_x = sc_model_x2.transform(x)\n",
    "\n",
    "sc_model_y2 = StandardScaler()\n",
    "sc_model_y2.fit(t)\n",
    "sc_y = sc_model_y2.transform(t)\n",
    "ridgeModel = Ridge(alpha = 10)\n",
    "ridgeModel.fit(sc_x, sc_y)\n",
    "ridgeModel.score(sc_x_test, sc_y_test)"
   ]
  },
  {
   "cell_type": "markdown",
   "metadata": {
    "id": "IxyIr-9aoVjb"
   },
   "source": [
    "# ラッソ回帰も訓練データ89%、検証データ92%、テストデータ81%\n",
    "\n",
    "---\n",
    "\n"
   ]
  },
  {
   "cell_type": "code",
   "execution_count": 251,
   "metadata": {
    "executionInfo": {
     "elapsed": 10,
     "status": "ok",
     "timestamp": 1646986787672,
     "user": {
      "displayName": "竹井一馬",
      "photoUrl": "https://lh3.googleusercontent.com/a/default-user=s64",
      "userId": "10196723697392395950"
     },
     "user_tz": -540
    },
    "id": "fSrq3HyMnQ3g"
   },
   "outputs": [],
   "source": [
    "from sklearn.linear_model import Lasso"
   ]
  },
  {
   "cell_type": "code",
   "execution_count": 252,
   "metadata": {
    "executionInfo": {
     "elapsed": 10,
     "status": "ok",
     "timestamp": 1646986787673,
     "user": {
      "displayName": "竹井一馬",
      "photoUrl": "https://lh3.googleusercontent.com/a/default-user=s64",
      "userId": "10196723697392395950"
     },
     "user_tz": -540
    },
    "id": "Lrf5u4KouAT1"
   },
   "outputs": [],
   "source": [
    "def learn3(x, t):\n",
    "    x_train, x_val, y_train, y_val = train_test_split(x, t,\n",
    "    test_size = 0.2, random_state = 0)\n",
    "    # 訓練データを標準化\n",
    "    sc_model_x = StandardScaler()\n",
    "    sc_model_y = StandardScaler()\n",
    "    sc_model_x.fit(x_train)\n",
    "    sc_x_train = sc_model_x.transform(x_train)\n",
    "    sc_model_y.fit(y_train)\n",
    "    sc_y_train = sc_model_y.transform(y_train)\n",
    "    # ラッソ回帰のモデル作成（alphaは正則化項につく定数）\n",
    "    lassoModel = Lasso(alpha = 0.1)\n",
    "    lassoModel.fit(sc_x_train, sc_y_train)\n",
    "    #検証データを標準化\n",
    "    sc_x_val = sc_model_x.transform(x_val)\n",
    "    sc_y_val = sc_model_y.transform(y_val)\n",
    "    # 訓練データと検証データの決定係数計算\n",
    "    train_score = lassoModel.score(sc_x_train, sc_y_train)\n",
    "    val_score = lassoModel.score(sc_x_val, sc_y_val)\n",
    "    \n",
    "    return train_score, val_score\n"
   ]
  },
  {
   "cell_type": "code",
   "execution_count": 253,
   "metadata": {
    "colab": {
     "base_uri": "https://localhost:8080/"
    },
    "executionInfo": {
     "elapsed": 10,
     "status": "ok",
     "timestamp": 1646986787673,
     "user": {
      "displayName": "竹井一馬",
      "photoUrl": "https://lh3.googleusercontent.com/a/default-user=s64",
      "userId": "10196723697392395950"
     },
     "user_tz": -540
    },
    "id": "3J2-uUwZolNp",
    "outputId": "3aa428b9-bc37-4764-da41-65c83582dc70"
   },
   "outputs": [
    {
     "name": "stderr",
     "output_type": "stream",
     "text": [
      "/usr/local/lib/python3.7/dist-packages/sklearn/utils/validation.py:1692: FutureWarning: Feature names only support names that are all strings. Got feature names with dtypes: ['int', 'str']. An error will be raised in 1.2.\n",
      "  FutureWarning,\n",
      "/usr/local/lib/python3.7/dist-packages/sklearn/utils/validation.py:1692: FutureWarning: Feature names only support names that are all strings. Got feature names with dtypes: ['int', 'str']. An error will be raised in 1.2.\n",
      "  FutureWarning,\n",
      "/usr/local/lib/python3.7/dist-packages/sklearn/utils/validation.py:1692: FutureWarning: Feature names only support names that are all strings. Got feature names with dtypes: ['int', 'str']. An error will be raised in 1.2.\n",
      "  FutureWarning,\n"
     ]
    },
    {
     "name": "stdout",
     "output_type": "stream",
     "text": [
      "0.8267081230548337 0.8575934327186046\n"
     ]
    }
   ],
   "source": [
    "#決定係数0.3以上\n",
    "col =['Weight', 'Displacement', 'Cylinders', 'Horsepower', 'Acceleration','Model Year', 3]\n",
    "x = train_val2[col]\n",
    "t = train_val2[['MPG']]\n",
    "s1,s2 = learn3(x, t)\n",
    "print(s1, s2)"
   ]
  },
  {
   "cell_type": "code",
   "execution_count": 254,
   "metadata": {
    "colab": {
     "base_uri": "https://localhost:8080/"
    },
    "executionInfo": {
     "elapsed": 9,
     "status": "ok",
     "timestamp": 1646986787673,
     "user": {
      "displayName": "竹井一馬",
      "photoUrl": "https://lh3.googleusercontent.com/a/default-user=s64",
      "userId": "10196723697392395950"
     },
     "user_tz": -540
    },
    "id": "-XC34vJjufgL",
    "outputId": "604d71db-296f-4e8a-8ee9-7a9c4c59c3af"
   },
   "outputs": [
    {
     "name": "stderr",
     "output_type": "stream",
     "text": [
      "/usr/local/lib/python3.7/dist-packages/ipykernel_launcher.py:2: SettingWithCopyWarning: \n",
      "A value is trying to be set on a copy of a slice from a DataFrame.\n",
      "Try using .loc[row_indexer,col_indexer] = value instead\n",
      "\n",
      "See the caveats in the documentation: https://pandas.pydata.org/pandas-docs/stable/user_guide/indexing.html#returning-a-view-versus-a-copy\n",
      "  \n",
      "/usr/local/lib/python3.7/dist-packages/sklearn/utils/validation.py:1692: FutureWarning: Feature names only support names that are all strings. Got feature names with dtypes: ['int', 'str']. An error will be raised in 1.2.\n",
      "  FutureWarning,\n",
      "/usr/local/lib/python3.7/dist-packages/sklearn/utils/validation.py:1692: FutureWarning: Feature names only support names that are all strings. Got feature names with dtypes: ['int', 'str']. An error will be raised in 1.2.\n",
      "  FutureWarning,\n",
      "/usr/local/lib/python3.7/dist-packages/sklearn/utils/validation.py:1692: FutureWarning: Feature names only support names that are all strings. Got feature names with dtypes: ['int', 'str']. An error will be raised in 1.2.\n",
      "  FutureWarning,\n",
      "/usr/local/lib/python3.7/dist-packages/sklearn/utils/validation.py:1692: FutureWarning: Feature names only support names that are all strings. Got feature names with dtypes: ['int', 'str']. An error will be raised in 1.2.\n",
      "  FutureWarning,\n",
      "/usr/local/lib/python3.7/dist-packages/sklearn/utils/validation.py:1692: FutureWarning: Feature names only support names that are all strings. Got feature names with dtypes: ['int', 'str']. An error will be raised in 1.2.\n",
      "  FutureWarning,\n",
      "/usr/local/lib/python3.7/dist-packages/sklearn/utils/validation.py:1692: FutureWarning: Feature names only support names that are all strings. Got feature names with dtypes: ['int', 'str']. An error will be raised in 1.2.\n",
      "  FutureWarning,\n",
      "/usr/local/lib/python3.7/dist-packages/sklearn/utils/validation.py:1692: FutureWarning: Feature names only support names that are all strings. Got feature names with dtypes: ['int', 'str']. An error will be raised in 1.2.\n",
      "  FutureWarning,\n",
      "/usr/local/lib/python3.7/dist-packages/sklearn/utils/validation.py:1692: FutureWarning: Feature names only support names that are all strings. Got feature names with dtypes: ['int', 'str']. An error will be raised in 1.2.\n",
      "  FutureWarning,\n",
      "/usr/local/lib/python3.7/dist-packages/sklearn/utils/validation.py:1692: FutureWarning: Feature names only support names that are all strings. Got feature names with dtypes: ['int', 'str']. An error will be raised in 1.2.\n",
      "  FutureWarning,\n",
      "/usr/local/lib/python3.7/dist-packages/sklearn/utils/validation.py:1692: FutureWarning: Feature names only support names that are all strings. Got feature names with dtypes: ['int', 'str']. An error will be raised in 1.2.\n",
      "  FutureWarning,\n",
      "/usr/local/lib/python3.7/dist-packages/sklearn/utils/validation.py:1692: FutureWarning: Feature names only support names that are all strings. Got feature names with dtypes: ['int', 'str']. An error will be raised in 1.2.\n",
      "  FutureWarning,\n"
     ]
    },
    {
     "name": "stdout",
     "output_type": "stream",
     "text": [
      "0.8267081230548337 0.8575934327186046\n",
      "0.8267081230548337 0.8575934327186046\n",
      "0.8267081230548337 0.8575934327186046\n",
      "0.8267081230548337 0.8575934327186046\n",
      "0.8279202684746643 0.8592159632156404\n"
     ]
    },
    {
     "name": "stderr",
     "output_type": "stream",
     "text": [
      "/usr/local/lib/python3.7/dist-packages/sklearn/utils/validation.py:1692: FutureWarning: Feature names only support names that are all strings. Got feature names with dtypes: ['int', 'str']. An error will be raised in 1.2.\n",
      "  FutureWarning,\n",
      "/usr/local/lib/python3.7/dist-packages/sklearn/utils/validation.py:1692: FutureWarning: Feature names only support names that are all strings. Got feature names with dtypes: ['int', 'str']. An error will be raised in 1.2.\n",
      "  FutureWarning,\n",
      "/usr/local/lib/python3.7/dist-packages/sklearn/utils/validation.py:1692: FutureWarning: Feature names only support names that are all strings. Got feature names with dtypes: ['int', 'str']. An error will be raised in 1.2.\n",
      "  FutureWarning,\n",
      "/usr/local/lib/python3.7/dist-packages/sklearn/utils/validation.py:1692: FutureWarning: Feature names only support names that are all strings. Got feature names with dtypes: ['int', 'str']. An error will be raised in 1.2.\n",
      "  FutureWarning,\n"
     ]
    }
   ],
   "source": [
    "# Weight列の2乗を追加\n",
    "x['Weight2'] = x['Weight'] ** 2\n",
    "s1, s2 = learn3(x, t)\n",
    "print(s1, s2)\n",
    "\n",
    "# Cylinders列の2乗を追加\n",
    "x['Cylinders2'] = x['Cylinders'] ** 2\n",
    "s1, s2 = learn3(x, t)\n",
    "print(s1, s2)\n",
    "\n",
    "# Displacement列の2乗を追加\n",
    "x['Displacement2'] = x['Displacement'] ** 2\n",
    "s1, s2 = learn3(x, t)\n",
    "print(s1, s2)\n",
    "\n",
    "# Horsepower列の2乗を追加\n",
    "x['Horsepower2'] = x['Horsepower'] ** 2\n",
    "s1, s2 = learn3(x, t)\n",
    "print(s1, s2)\n",
    "\n",
    "# Model Year列の2乗を追加\n",
    "x['Model Year2'] = x['Model Year'] ** 2\n",
    "s1, s2 = learn3(x, t)\n",
    "print(s1, s2)"
   ]
  },
  {
   "cell_type": "code",
   "execution_count": 255,
   "metadata": {
    "colab": {
     "base_uri": "https://localhost:8080/"
    },
    "executionInfo": {
     "elapsed": 7,
     "status": "ok",
     "timestamp": 1646986787673,
     "user": {
      "displayName": "竹井一馬",
      "photoUrl": "https://lh3.googleusercontent.com/a/default-user=s64",
      "userId": "10196723697392395950"
     },
     "user_tz": -540
    },
    "id": "3w2KmQu62_XV",
    "outputId": "9ab3ca62-d4b5-482d-80f4-b58155bb3b64"
   },
   "outputs": [
    {
     "name": "stderr",
     "output_type": "stream",
     "text": [
      "/usr/local/lib/python3.7/dist-packages/sklearn/utils/validation.py:1692: FutureWarning: Feature names only support names that are all strings. Got feature names with dtypes: ['int', 'str']. An error will be raised in 1.2.\n",
      "  FutureWarning,\n",
      "/usr/local/lib/python3.7/dist-packages/sklearn/utils/validation.py:1692: FutureWarning: Feature names only support names that are all strings. Got feature names with dtypes: ['int', 'str']. An error will be raised in 1.2.\n",
      "  FutureWarning,\n"
     ]
    },
    {
     "name": "stdout",
     "output_type": "stream",
     "text": [
      "0.8943753833570022 0.9253641599893929\n"
     ]
    },
    {
     "name": "stderr",
     "output_type": "stream",
     "text": [
      "/usr/local/lib/python3.7/dist-packages/sklearn/utils/validation.py:1692: FutureWarning: Feature names only support names that are all strings. Got feature names with dtypes: ['int', 'str']. An error will be raised in 1.2.\n",
      "  FutureWarning,\n"
     ]
    }
   ],
   "source": [
    "x['W * C'] = x['Weight'] * x['Cylinders']\n",
    "s1, s2 = learn(x, t)\n",
    "print(s1, s2)"
   ]
  },
  {
   "cell_type": "code",
   "execution_count": 256,
   "metadata": {
    "colab": {
     "base_uri": "https://localhost:8080/"
    },
    "executionInfo": {
     "elapsed": 5,
     "status": "ok",
     "timestamp": 1646986787673,
     "user": {
      "displayName": "竹井一馬",
      "photoUrl": "https://lh3.googleusercontent.com/a/default-user=s64",
      "userId": "10196723697392395950"
     },
     "user_tz": -540
    },
    "id": "eSO6nJo1xI2K",
    "outputId": "b0817e21-d537-45f0-de88-552a202e8860"
   },
   "outputs": [
    {
     "name": "stderr",
     "output_type": "stream",
     "text": [
      "/usr/local/lib/python3.7/dist-packages/sklearn/utils/validation.py:1692: FutureWarning: Feature names only support names that are all strings. Got feature names with dtypes: ['int', 'str']. An error will be raised in 1.2.\n",
      "  FutureWarning,\n",
      "/usr/local/lib/python3.7/dist-packages/sklearn/utils/validation.py:1692: FutureWarning: Feature names only support names that are all strings. Got feature names with dtypes: ['int', 'str']. An error will be raised in 1.2.\n",
      "  FutureWarning,\n"
     ]
    },
    {
     "data": {
      "text/plain": [
       "0.8131161702295269"
      ]
     },
     "execution_count": 256,
     "metadata": {},
     "output_type": "execute_result"
    }
   ],
   "source": [
    "# 訓練データと検証データを合わせて再学習させるので\n",
    "# 再度、標準化する\n",
    "sc_model_x2 = StandardScaler()\n",
    "sc_model_x2.fit(x)\n",
    "sc_x = sc_model_x2.transform(x)\n",
    "\n",
    "sc_model_y2 = StandardScaler()\n",
    "sc_model_y2.fit(t)\n",
    "sc_y = sc_model_y2.transform(t)\n",
    "lassoModel = Lasso(alpha = 0.1)\n",
    "lassoModel.fit(sc_x, sc_y)\n",
    "lassoModel.score(sc_x_test, sc_y_test)"
   ]
  },
  {
   "cell_type": "code",
   "execution_count": 256,
   "metadata": {
    "executionInfo": {
     "elapsed": 4,
     "status": "ok",
     "timestamp": 1646986787673,
     "user": {
      "displayName": "竹井一馬",
      "photoUrl": "https://lh3.googleusercontent.com/a/default-user=s64",
      "userId": "10196723697392395950"
     },
     "user_tz": -540
    },
    "id": "8XFhzZFv0B2p"
   },
   "outputs": [],
   "source": []
  }
 ],
 "metadata": {
  "colab": {
   "authorship_tag": "ABX9TyOsrtxMku31uashK0YQceOM",
   "collapsed_sections": [
    "jPGg8U10H9KG",
    "9G5UoD7PcZ2k",
    "RbZCS6_5eWqn"
   ],
   "name": "kouka_回帰_東京情報校_竹井.ipynb",
   "provenance": []
  },
  "kernelspec": {
   "display_name": "Python 3",
   "language": "python",
   "name": "python3"
  },
  "language_info": {
   "codemirror_mode": {
    "name": "ipython",
    "version": 3
   },
   "file_extension": ".py",
   "mimetype": "text/x-python",
   "name": "python",
   "nbconvert_exporter": "python",
   "pygments_lexer": "ipython3",
   "version": "3.8.5"
  }
 },
 "nbformat": 4,
 "nbformat_minor": 1
}
