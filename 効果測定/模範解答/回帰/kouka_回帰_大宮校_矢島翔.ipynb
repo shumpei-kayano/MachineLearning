{
 "cells": [
  {
   "cell_type": "code",
   "execution_count": null,
   "metadata": {
    "colab": {
     "base_uri": "https://localhost:8080/"
    },
    "id": "tZ730ky0XUKM",
    "outputId": "5ae85f53-471c-4fc3-bde7-c1a333e0917f"
   },
   "outputs": [
    {
     "name": "stdout",
     "output_type": "stream",
     "text": [
      "mkdir: cannot create directory ‘/content/data’: File exists\n"
     ]
    }
   ],
   "source": [
    "mkdir /content/data"
   ]
  },
  {
   "cell_type": "code",
   "execution_count": null,
   "metadata": {
    "colab": {
     "base_uri": "https://localhost:8080/"
    },
    "id": "ar4NPB3qXteg",
    "outputId": "eeba303f-68ba-4bd6-b3bd-5cf07b2f3743"
   },
   "outputs": [
    {
     "name": "stdout",
     "output_type": "stream",
     "text": [
      "/content/data\n"
     ]
    }
   ],
   "source": [
    "cd /content/data"
   ]
  },
  {
   "cell_type": "markdown",
   "metadata": {
    "id": "Tz436tdwX1Ov"
   },
   "source": [
    "dataフォルダに「auto_mgp.csv」をアップロード"
   ]
  },
  {
   "cell_type": "code",
   "execution_count": null,
   "metadata": {
    "id": "MSeZndMdYI3O"
   },
   "outputs": [],
   "source": [
    "import pandas as pd\n",
    "import matplotlib.pyplot as plt\n",
    "\n",
    "# 回帰のためのモジュールをインポート\n",
    "from sklearn.linear_model import LinearRegression\n",
    "from sklearn.linear_model import Ridge\n",
    "from sklearn.linear_model import Lasso\n",
    "from sklearn.tree import DecisionTreeRegressor\n",
    "\n",
    "# 前処理用のモジュールをインポート\n",
    "from sklearn.covariance import MinCovDet  # 外れ値処理用\n",
    "from sklearn.preprocessing import PolynomialFeatures  # 相互特徴量生成用\n",
    "\n",
    "\n",
    "from sklearn.model_selection import train_test_split\n",
    "\n",
    "%matplotlib inline\n",
    "\n",
    "from sklearn.preprocessing import StandardScaler\n",
    "\n",
    "import pickle"
   ]
  },
  {
   "cell_type": "code",
   "execution_count": null,
   "metadata": {
    "id": "wXoxAoddnjfq"
   },
   "outputs": [],
   "source": [
    "# 学習評価用関数\n",
    "def learn(x, t, model):\n",
    "    x_train, x_val, y_train, y_val = train_test_split(x, t, test_size = 0.2, random_state = 0)\n",
    "    # 学習\n",
    "    model.fit(x_train, y_train)\n",
    "    # 訓練データと検証データの正解率計算\n",
    "    train_score = model.score(x_train, y_train)\n",
    "    val_score = model.score(x_val, y_val)\n",
    "    return train_score, val_score\n",
    "\n",
    "\n",
    "# グラフ表示関数\n",
    "def plot_progress(data, title):\n",
    "  tmp = pd.DataFrame(data)\n",
    "  tmp.plot.line(x=tmp.columns[0], style=['r.-', 'bo-'], title=title)\n",
    "\n",
    "\n",
    "# 散布図表示関数\n",
    "def plot_scatter(data, t_col):\n",
    "  colname = data.columns\n",
    "  for name in colname:\n",
    "    data.plot(kind='scatter', x=name, y=t_col)\n",
    "\n",
    "\n",
    "# 相関係数の一覧を出力する関数\n",
    "def print_corrs(data, t_col):\n",
    "  # 特徴量として選択する項目の相関係数に対する閾値\n",
    "  threshold = {\n",
    "    '非常に強い相関(0.9以上)':[1.0, 0.9],\n",
    "    '強い相関(0.7以上)':[0.9, 0.7],\n",
    "    '相関あり(0.5以上)':[0.7, 0.5],\n",
    "    '弱い相関(0.3以上)':[0.5, 0.3],\n",
    "    '相関なし(0.3未満)':[0.3, 0.0]\n",
    "    }\n",
    "\n",
    "  val_corr_abs = data.corr()[t_col].map(abs).sort_values(ascending=False)\n",
    "\n",
    "  print(f'正解データ「{t_col}」に対する各特徴量の相関係数')\n",
    "\n",
    "  for k in threshold:\n",
    "    print('---', k, '---')\n",
    "    for i in val_corr_abs[(threshold[k][0]>val_corr_abs) & (val_corr_abs>=threshold[k][1])].index:\n",
    "      print(f'{i:8}\\t{val_corr_abs[i]:.5f}')\n",
    "    \n",
    "    print()"
   ]
  },
  {
   "cell_type": "code",
   "execution_count": null,
   "metadata": {
    "id": "nNtF_D9Rar51"
   },
   "outputs": [],
   "source": [
    "df0 = pd.read_csv('auto_mgp.csv')\n"
   ]
  },
  {
   "cell_type": "code",
   "execution_count": null,
   "metadata": {
    "colab": {
     "base_uri": "https://localhost:8080/"
    },
    "id": "mZ8mUVTChdPQ",
    "outputId": "d171333d-8fc3-4cc7-f917-a28ba995f213"
   },
   "outputs": [
    {
     "data": {
      "text/plain": [
       "Index(['Cylinders', 'Displacement', 'Horsepower', 'Weight', 'Acceleration',\n",
       "       'Model Year', 'Origin'],\n",
       "      dtype='object')"
      ]
     },
     "execution_count": 503,
     "metadata": {},
     "output_type": "execute_result"
    }
   ],
   "source": [
    "# 正解データの列名\n",
    "t_col = 'MPG'\n",
    "\n",
    "# 特徴量データの列名\n",
    "x_col = df0.loc[:, 'Cylinders':'Origin'].columns\n",
    "x_col"
   ]
  },
  {
   "cell_type": "code",
   "execution_count": null,
   "metadata": {
    "colab": {
     "base_uri": "https://localhost:8080/",
     "height": 206
    },
    "id": "wgdhtqNfaxbK",
    "outputId": "7ac8c7df-ac82-417a-8a50-94f4900459b2"
   },
   "outputs": [
    {
     "data": {
      "text/html": [
       "\n",
       "  <div id=\"df-a102f3ce-a36b-496e-aa5e-ac279166a48b\">\n",
       "    <div class=\"colab-df-container\">\n",
       "      <div>\n",
       "<style scoped>\n",
       "    .dataframe tbody tr th:only-of-type {\n",
       "        vertical-align: middle;\n",
       "    }\n",
       "\n",
       "    .dataframe tbody tr th {\n",
       "        vertical-align: top;\n",
       "    }\n",
       "\n",
       "    .dataframe thead th {\n",
       "        text-align: right;\n",
       "    }\n",
       "</style>\n",
       "<table border=\"1\" class=\"dataframe\">\n",
       "  <thead>\n",
       "    <tr style=\"text-align: right;\">\n",
       "      <th></th>\n",
       "      <th>Unnamed: 0</th>\n",
       "      <th>MPG</th>\n",
       "      <th>Cylinders</th>\n",
       "      <th>Displacement</th>\n",
       "      <th>Horsepower</th>\n",
       "      <th>Weight</th>\n",
       "      <th>Acceleration</th>\n",
       "      <th>Model Year</th>\n",
       "      <th>Origin</th>\n",
       "    </tr>\n",
       "  </thead>\n",
       "  <tbody>\n",
       "    <tr>\n",
       "      <th>0</th>\n",
       "      <td>0</td>\n",
       "      <td>18.0</td>\n",
       "      <td>8</td>\n",
       "      <td>307.0</td>\n",
       "      <td>130.0</td>\n",
       "      <td>3504</td>\n",
       "      <td>12.0</td>\n",
       "      <td>70</td>\n",
       "      <td>1</td>\n",
       "    </tr>\n",
       "    <tr>\n",
       "      <th>1</th>\n",
       "      <td>1</td>\n",
       "      <td>15.0</td>\n",
       "      <td>8</td>\n",
       "      <td>350.0</td>\n",
       "      <td>165.0</td>\n",
       "      <td>3693</td>\n",
       "      <td>11.5</td>\n",
       "      <td>70</td>\n",
       "      <td>1</td>\n",
       "    </tr>\n",
       "    <tr>\n",
       "      <th>2</th>\n",
       "      <td>2</td>\n",
       "      <td>18.0</td>\n",
       "      <td>8</td>\n",
       "      <td>318.0</td>\n",
       "      <td>150.0</td>\n",
       "      <td>3436</td>\n",
       "      <td>11.0</td>\n",
       "      <td>70</td>\n",
       "      <td>1</td>\n",
       "    </tr>\n",
       "    <tr>\n",
       "      <th>3</th>\n",
       "      <td>3</td>\n",
       "      <td>16.0</td>\n",
       "      <td>8</td>\n",
       "      <td>304.0</td>\n",
       "      <td>150.0</td>\n",
       "      <td>3433</td>\n",
       "      <td>12.0</td>\n",
       "      <td>70</td>\n",
       "      <td>1</td>\n",
       "    </tr>\n",
       "    <tr>\n",
       "      <th>4</th>\n",
       "      <td>4</td>\n",
       "      <td>17.0</td>\n",
       "      <td>8</td>\n",
       "      <td>302.0</td>\n",
       "      <td>140.0</td>\n",
       "      <td>3449</td>\n",
       "      <td>10.5</td>\n",
       "      <td>70</td>\n",
       "      <td>1</td>\n",
       "    </tr>\n",
       "  </tbody>\n",
       "</table>\n",
       "</div>\n",
       "      <button class=\"colab-df-convert\" onclick=\"convertToInteractive('df-a102f3ce-a36b-496e-aa5e-ac279166a48b')\"\n",
       "              title=\"Convert this dataframe to an interactive table.\"\n",
       "              style=\"display:none;\">\n",
       "        \n",
       "  <svg xmlns=\"http://www.w3.org/2000/svg\" height=\"24px\"viewBox=\"0 0 24 24\"\n",
       "       width=\"24px\">\n",
       "    <path d=\"M0 0h24v24H0V0z\" fill=\"none\"/>\n",
       "    <path d=\"M18.56 5.44l.94 2.06.94-2.06 2.06-.94-2.06-.94-.94-2.06-.94 2.06-2.06.94zm-11 1L8.5 8.5l.94-2.06 2.06-.94-2.06-.94L8.5 2.5l-.94 2.06-2.06.94zm10 10l.94 2.06.94-2.06 2.06-.94-2.06-.94-.94-2.06-.94 2.06-2.06.94z\"/><path d=\"M17.41 7.96l-1.37-1.37c-.4-.4-.92-.59-1.43-.59-.52 0-1.04.2-1.43.59L10.3 9.45l-7.72 7.72c-.78.78-.78 2.05 0 2.83L4 21.41c.39.39.9.59 1.41.59.51 0 1.02-.2 1.41-.59l7.78-7.78 2.81-2.81c.8-.78.8-2.07 0-2.86zM5.41 20L4 18.59l7.72-7.72 1.47 1.35L5.41 20z\"/>\n",
       "  </svg>\n",
       "      </button>\n",
       "      \n",
       "  <style>\n",
       "    .colab-df-container {\n",
       "      display:flex;\n",
       "      flex-wrap:wrap;\n",
       "      gap: 12px;\n",
       "    }\n",
       "\n",
       "    .colab-df-convert {\n",
       "      background-color: #E8F0FE;\n",
       "      border: none;\n",
       "      border-radius: 50%;\n",
       "      cursor: pointer;\n",
       "      display: none;\n",
       "      fill: #1967D2;\n",
       "      height: 32px;\n",
       "      padding: 0 0 0 0;\n",
       "      width: 32px;\n",
       "    }\n",
       "\n",
       "    .colab-df-convert:hover {\n",
       "      background-color: #E2EBFA;\n",
       "      box-shadow: 0px 1px 2px rgba(60, 64, 67, 0.3), 0px 1px 3px 1px rgba(60, 64, 67, 0.15);\n",
       "      fill: #174EA6;\n",
       "    }\n",
       "\n",
       "    [theme=dark] .colab-df-convert {\n",
       "      background-color: #3B4455;\n",
       "      fill: #D2E3FC;\n",
       "    }\n",
       "\n",
       "    [theme=dark] .colab-df-convert:hover {\n",
       "      background-color: #434B5C;\n",
       "      box-shadow: 0px 1px 3px 1px rgba(0, 0, 0, 0.15);\n",
       "      filter: drop-shadow(0px 1px 2px rgba(0, 0, 0, 0.3));\n",
       "      fill: #FFFFFF;\n",
       "    }\n",
       "  </style>\n",
       "\n",
       "      <script>\n",
       "        const buttonEl =\n",
       "          document.querySelector('#df-a102f3ce-a36b-496e-aa5e-ac279166a48b button.colab-df-convert');\n",
       "        buttonEl.style.display =\n",
       "          google.colab.kernel.accessAllowed ? 'block' : 'none';\n",
       "\n",
       "        async function convertToInteractive(key) {\n",
       "          const element = document.querySelector('#df-a102f3ce-a36b-496e-aa5e-ac279166a48b');\n",
       "          const dataTable =\n",
       "            await google.colab.kernel.invokeFunction('convertToInteractive',\n",
       "                                                     [key], {});\n",
       "          if (!dataTable) return;\n",
       "\n",
       "          const docLinkHtml = 'Like what you see? Visit the ' +\n",
       "            '<a target=\"_blank\" href=https://colab.research.google.com/notebooks/data_table.ipynb>data table notebook</a>'\n",
       "            + ' to learn more about interactive tables.';\n",
       "          element.innerHTML = '';\n",
       "          dataTable['output_type'] = 'display_data';\n",
       "          await google.colab.output.renderOutput(dataTable, element);\n",
       "          const docLink = document.createElement('div');\n",
       "          docLink.innerHTML = docLinkHtml;\n",
       "          element.appendChild(docLink);\n",
       "        }\n",
       "      </script>\n",
       "    </div>\n",
       "  </div>\n",
       "  "
      ],
      "text/plain": [
       "   Unnamed: 0   MPG  Cylinders  Displacement  Horsepower  Weight  \\\n",
       "0           0  18.0          8         307.0       130.0    3504   \n",
       "1           1  15.0          8         350.0       165.0    3693   \n",
       "2           2  18.0          8         318.0       150.0    3436   \n",
       "3           3  16.0          8         304.0       150.0    3433   \n",
       "4           4  17.0          8         302.0       140.0    3449   \n",
       "\n",
       "   Acceleration  Model Year  Origin  \n",
       "0          12.0          70       1  \n",
       "1          11.5          70       1  \n",
       "2          11.0          70       1  \n",
       "3          12.0          70       1  \n",
       "4          10.5          70       1  "
      ]
     },
     "execution_count": 504,
     "metadata": {},
     "output_type": "execute_result"
    }
   ],
   "source": [
    "df0.head()"
   ]
  },
  {
   "cell_type": "code",
   "execution_count": null,
   "metadata": {
    "colab": {
     "base_uri": "https://localhost:8080/",
     "height": 206
    },
    "id": "We4ixchJY9kz",
    "outputId": "d48c87b4-325d-45bf-caf7-deeeccb6f6ef"
   },
   "outputs": [
    {
     "data": {
      "text/html": [
       "\n",
       "  <div id=\"df-8feabfa5-8086-4114-8247-af8d3923c2f6\">\n",
       "    <div class=\"colab-df-container\">\n",
       "      <div>\n",
       "<style scoped>\n",
       "    .dataframe tbody tr th:only-of-type {\n",
       "        vertical-align: middle;\n",
       "    }\n",
       "\n",
       "    .dataframe tbody tr th {\n",
       "        vertical-align: top;\n",
       "    }\n",
       "\n",
       "    .dataframe thead th {\n",
       "        text-align: right;\n",
       "    }\n",
       "</style>\n",
       "<table border=\"1\" class=\"dataframe\">\n",
       "  <thead>\n",
       "    <tr style=\"text-align: right;\">\n",
       "      <th></th>\n",
       "      <th>Unnamed: 0</th>\n",
       "      <th>MPG</th>\n",
       "      <th>Cylinders</th>\n",
       "      <th>Displacement</th>\n",
       "      <th>Horsepower</th>\n",
       "      <th>Weight</th>\n",
       "      <th>Acceleration</th>\n",
       "      <th>Model Year</th>\n",
       "      <th>Origin</th>\n",
       "    </tr>\n",
       "  </thead>\n",
       "  <tbody>\n",
       "    <tr>\n",
       "      <th>393</th>\n",
       "      <td>393</td>\n",
       "      <td>27.0</td>\n",
       "      <td>4</td>\n",
       "      <td>140.0</td>\n",
       "      <td>86.0</td>\n",
       "      <td>2790</td>\n",
       "      <td>15.6</td>\n",
       "      <td>82</td>\n",
       "      <td>1</td>\n",
       "    </tr>\n",
       "    <tr>\n",
       "      <th>394</th>\n",
       "      <td>394</td>\n",
       "      <td>44.0</td>\n",
       "      <td>4</td>\n",
       "      <td>97.0</td>\n",
       "      <td>52.0</td>\n",
       "      <td>2130</td>\n",
       "      <td>24.6</td>\n",
       "      <td>82</td>\n",
       "      <td>2</td>\n",
       "    </tr>\n",
       "    <tr>\n",
       "      <th>395</th>\n",
       "      <td>395</td>\n",
       "      <td>32.0</td>\n",
       "      <td>4</td>\n",
       "      <td>135.0</td>\n",
       "      <td>84.0</td>\n",
       "      <td>2295</td>\n",
       "      <td>11.6</td>\n",
       "      <td>82</td>\n",
       "      <td>1</td>\n",
       "    </tr>\n",
       "    <tr>\n",
       "      <th>396</th>\n",
       "      <td>396</td>\n",
       "      <td>28.0</td>\n",
       "      <td>4</td>\n",
       "      <td>120.0</td>\n",
       "      <td>79.0</td>\n",
       "      <td>2625</td>\n",
       "      <td>18.6</td>\n",
       "      <td>82</td>\n",
       "      <td>1</td>\n",
       "    </tr>\n",
       "    <tr>\n",
       "      <th>397</th>\n",
       "      <td>397</td>\n",
       "      <td>31.0</td>\n",
       "      <td>4</td>\n",
       "      <td>119.0</td>\n",
       "      <td>82.0</td>\n",
       "      <td>2720</td>\n",
       "      <td>19.4</td>\n",
       "      <td>82</td>\n",
       "      <td>1</td>\n",
       "    </tr>\n",
       "  </tbody>\n",
       "</table>\n",
       "</div>\n",
       "      <button class=\"colab-df-convert\" onclick=\"convertToInteractive('df-8feabfa5-8086-4114-8247-af8d3923c2f6')\"\n",
       "              title=\"Convert this dataframe to an interactive table.\"\n",
       "              style=\"display:none;\">\n",
       "        \n",
       "  <svg xmlns=\"http://www.w3.org/2000/svg\" height=\"24px\"viewBox=\"0 0 24 24\"\n",
       "       width=\"24px\">\n",
       "    <path d=\"M0 0h24v24H0V0z\" fill=\"none\"/>\n",
       "    <path d=\"M18.56 5.44l.94 2.06.94-2.06 2.06-.94-2.06-.94-.94-2.06-.94 2.06-2.06.94zm-11 1L8.5 8.5l.94-2.06 2.06-.94-2.06-.94L8.5 2.5l-.94 2.06-2.06.94zm10 10l.94 2.06.94-2.06 2.06-.94-2.06-.94-.94-2.06-.94 2.06-2.06.94z\"/><path d=\"M17.41 7.96l-1.37-1.37c-.4-.4-.92-.59-1.43-.59-.52 0-1.04.2-1.43.59L10.3 9.45l-7.72 7.72c-.78.78-.78 2.05 0 2.83L4 21.41c.39.39.9.59 1.41.59.51 0 1.02-.2 1.41-.59l7.78-7.78 2.81-2.81c.8-.78.8-2.07 0-2.86zM5.41 20L4 18.59l7.72-7.72 1.47 1.35L5.41 20z\"/>\n",
       "  </svg>\n",
       "      </button>\n",
       "      \n",
       "  <style>\n",
       "    .colab-df-container {\n",
       "      display:flex;\n",
       "      flex-wrap:wrap;\n",
       "      gap: 12px;\n",
       "    }\n",
       "\n",
       "    .colab-df-convert {\n",
       "      background-color: #E8F0FE;\n",
       "      border: none;\n",
       "      border-radius: 50%;\n",
       "      cursor: pointer;\n",
       "      display: none;\n",
       "      fill: #1967D2;\n",
       "      height: 32px;\n",
       "      padding: 0 0 0 0;\n",
       "      width: 32px;\n",
       "    }\n",
       "\n",
       "    .colab-df-convert:hover {\n",
       "      background-color: #E2EBFA;\n",
       "      box-shadow: 0px 1px 2px rgba(60, 64, 67, 0.3), 0px 1px 3px 1px rgba(60, 64, 67, 0.15);\n",
       "      fill: #174EA6;\n",
       "    }\n",
       "\n",
       "    [theme=dark] .colab-df-convert {\n",
       "      background-color: #3B4455;\n",
       "      fill: #D2E3FC;\n",
       "    }\n",
       "\n",
       "    [theme=dark] .colab-df-convert:hover {\n",
       "      background-color: #434B5C;\n",
       "      box-shadow: 0px 1px 3px 1px rgba(0, 0, 0, 0.15);\n",
       "      filter: drop-shadow(0px 1px 2px rgba(0, 0, 0, 0.3));\n",
       "      fill: #FFFFFF;\n",
       "    }\n",
       "  </style>\n",
       "\n",
       "      <script>\n",
       "        const buttonEl =\n",
       "          document.querySelector('#df-8feabfa5-8086-4114-8247-af8d3923c2f6 button.colab-df-convert');\n",
       "        buttonEl.style.display =\n",
       "          google.colab.kernel.accessAllowed ? 'block' : 'none';\n",
       "\n",
       "        async function convertToInteractive(key) {\n",
       "          const element = document.querySelector('#df-8feabfa5-8086-4114-8247-af8d3923c2f6');\n",
       "          const dataTable =\n",
       "            await google.colab.kernel.invokeFunction('convertToInteractive',\n",
       "                                                     [key], {});\n",
       "          if (!dataTable) return;\n",
       "\n",
       "          const docLinkHtml = 'Like what you see? Visit the ' +\n",
       "            '<a target=\"_blank\" href=https://colab.research.google.com/notebooks/data_table.ipynb>data table notebook</a>'\n",
       "            + ' to learn more about interactive tables.';\n",
       "          element.innerHTML = '';\n",
       "          dataTable['output_type'] = 'display_data';\n",
       "          await google.colab.output.renderOutput(dataTable, element);\n",
       "          const docLink = document.createElement('div');\n",
       "          docLink.innerHTML = docLinkHtml;\n",
       "          element.appendChild(docLink);\n",
       "        }\n",
       "      </script>\n",
       "    </div>\n",
       "  </div>\n",
       "  "
      ],
      "text/plain": [
       "     Unnamed: 0   MPG  Cylinders  Displacement  Horsepower  Weight  \\\n",
       "393         393  27.0          4         140.0        86.0    2790   \n",
       "394         394  44.0          4          97.0        52.0    2130   \n",
       "395         395  32.0          4         135.0        84.0    2295   \n",
       "396         396  28.0          4         120.0        79.0    2625   \n",
       "397         397  31.0          4         119.0        82.0    2720   \n",
       "\n",
       "     Acceleration  Model Year  Origin  \n",
       "393          15.6          82       1  \n",
       "394          24.6          82       2  \n",
       "395          11.6          82       1  \n",
       "396          18.6          82       1  \n",
       "397          19.4          82       1  "
      ]
     },
     "execution_count": 505,
     "metadata": {},
     "output_type": "execute_result"
    }
   ],
   "source": [
    "df0.tail()"
   ]
  },
  {
   "cell_type": "markdown",
   "metadata": {
    "id": "fkuAGVLabDBN"
   },
   "source": [
    "「Unnamed: 0」列は不要なインデックスなので、削除"
   ]
  },
  {
   "cell_type": "code",
   "execution_count": null,
   "metadata": {
    "colab": {
     "base_uri": "https://localhost:8080/",
     "height": 206
    },
    "id": "Qt6-OzuYbLPC",
    "outputId": "8cfe1082-9508-4bce-8b58-67634ef5bff2"
   },
   "outputs": [
    {
     "data": {
      "text/html": [
       "\n",
       "  <div id=\"df-d385986c-bead-4d4b-9773-ccce8d5ae20c\">\n",
       "    <div class=\"colab-df-container\">\n",
       "      <div>\n",
       "<style scoped>\n",
       "    .dataframe tbody tr th:only-of-type {\n",
       "        vertical-align: middle;\n",
       "    }\n",
       "\n",
       "    .dataframe tbody tr th {\n",
       "        vertical-align: top;\n",
       "    }\n",
       "\n",
       "    .dataframe thead th {\n",
       "        text-align: right;\n",
       "    }\n",
       "</style>\n",
       "<table border=\"1\" class=\"dataframe\">\n",
       "  <thead>\n",
       "    <tr style=\"text-align: right;\">\n",
       "      <th></th>\n",
       "      <th>MPG</th>\n",
       "      <th>Cylinders</th>\n",
       "      <th>Displacement</th>\n",
       "      <th>Horsepower</th>\n",
       "      <th>Weight</th>\n",
       "      <th>Acceleration</th>\n",
       "      <th>Model Year</th>\n",
       "      <th>Origin</th>\n",
       "    </tr>\n",
       "  </thead>\n",
       "  <tbody>\n",
       "    <tr>\n",
       "      <th>0</th>\n",
       "      <td>18.0</td>\n",
       "      <td>8</td>\n",
       "      <td>307.0</td>\n",
       "      <td>130.0</td>\n",
       "      <td>3504</td>\n",
       "      <td>12.0</td>\n",
       "      <td>70</td>\n",
       "      <td>1</td>\n",
       "    </tr>\n",
       "    <tr>\n",
       "      <th>1</th>\n",
       "      <td>15.0</td>\n",
       "      <td>8</td>\n",
       "      <td>350.0</td>\n",
       "      <td>165.0</td>\n",
       "      <td>3693</td>\n",
       "      <td>11.5</td>\n",
       "      <td>70</td>\n",
       "      <td>1</td>\n",
       "    </tr>\n",
       "    <tr>\n",
       "      <th>2</th>\n",
       "      <td>18.0</td>\n",
       "      <td>8</td>\n",
       "      <td>318.0</td>\n",
       "      <td>150.0</td>\n",
       "      <td>3436</td>\n",
       "      <td>11.0</td>\n",
       "      <td>70</td>\n",
       "      <td>1</td>\n",
       "    </tr>\n",
       "    <tr>\n",
       "      <th>3</th>\n",
       "      <td>16.0</td>\n",
       "      <td>8</td>\n",
       "      <td>304.0</td>\n",
       "      <td>150.0</td>\n",
       "      <td>3433</td>\n",
       "      <td>12.0</td>\n",
       "      <td>70</td>\n",
       "      <td>1</td>\n",
       "    </tr>\n",
       "    <tr>\n",
       "      <th>4</th>\n",
       "      <td>17.0</td>\n",
       "      <td>8</td>\n",
       "      <td>302.0</td>\n",
       "      <td>140.0</td>\n",
       "      <td>3449</td>\n",
       "      <td>10.5</td>\n",
       "      <td>70</td>\n",
       "      <td>1</td>\n",
       "    </tr>\n",
       "  </tbody>\n",
       "</table>\n",
       "</div>\n",
       "      <button class=\"colab-df-convert\" onclick=\"convertToInteractive('df-d385986c-bead-4d4b-9773-ccce8d5ae20c')\"\n",
       "              title=\"Convert this dataframe to an interactive table.\"\n",
       "              style=\"display:none;\">\n",
       "        \n",
       "  <svg xmlns=\"http://www.w3.org/2000/svg\" height=\"24px\"viewBox=\"0 0 24 24\"\n",
       "       width=\"24px\">\n",
       "    <path d=\"M0 0h24v24H0V0z\" fill=\"none\"/>\n",
       "    <path d=\"M18.56 5.44l.94 2.06.94-2.06 2.06-.94-2.06-.94-.94-2.06-.94 2.06-2.06.94zm-11 1L8.5 8.5l.94-2.06 2.06-.94-2.06-.94L8.5 2.5l-.94 2.06-2.06.94zm10 10l.94 2.06.94-2.06 2.06-.94-2.06-.94-.94-2.06-.94 2.06-2.06.94z\"/><path d=\"M17.41 7.96l-1.37-1.37c-.4-.4-.92-.59-1.43-.59-.52 0-1.04.2-1.43.59L10.3 9.45l-7.72 7.72c-.78.78-.78 2.05 0 2.83L4 21.41c.39.39.9.59 1.41.59.51 0 1.02-.2 1.41-.59l7.78-7.78 2.81-2.81c.8-.78.8-2.07 0-2.86zM5.41 20L4 18.59l7.72-7.72 1.47 1.35L5.41 20z\"/>\n",
       "  </svg>\n",
       "      </button>\n",
       "      \n",
       "  <style>\n",
       "    .colab-df-container {\n",
       "      display:flex;\n",
       "      flex-wrap:wrap;\n",
       "      gap: 12px;\n",
       "    }\n",
       "\n",
       "    .colab-df-convert {\n",
       "      background-color: #E8F0FE;\n",
       "      border: none;\n",
       "      border-radius: 50%;\n",
       "      cursor: pointer;\n",
       "      display: none;\n",
       "      fill: #1967D2;\n",
       "      height: 32px;\n",
       "      padding: 0 0 0 0;\n",
       "      width: 32px;\n",
       "    }\n",
       "\n",
       "    .colab-df-convert:hover {\n",
       "      background-color: #E2EBFA;\n",
       "      box-shadow: 0px 1px 2px rgba(60, 64, 67, 0.3), 0px 1px 3px 1px rgba(60, 64, 67, 0.15);\n",
       "      fill: #174EA6;\n",
       "    }\n",
       "\n",
       "    [theme=dark] .colab-df-convert {\n",
       "      background-color: #3B4455;\n",
       "      fill: #D2E3FC;\n",
       "    }\n",
       "\n",
       "    [theme=dark] .colab-df-convert:hover {\n",
       "      background-color: #434B5C;\n",
       "      box-shadow: 0px 1px 3px 1px rgba(0, 0, 0, 0.15);\n",
       "      filter: drop-shadow(0px 1px 2px rgba(0, 0, 0, 0.3));\n",
       "      fill: #FFFFFF;\n",
       "    }\n",
       "  </style>\n",
       "\n",
       "      <script>\n",
       "        const buttonEl =\n",
       "          document.querySelector('#df-d385986c-bead-4d4b-9773-ccce8d5ae20c button.colab-df-convert');\n",
       "        buttonEl.style.display =\n",
       "          google.colab.kernel.accessAllowed ? 'block' : 'none';\n",
       "\n",
       "        async function convertToInteractive(key) {\n",
       "          const element = document.querySelector('#df-d385986c-bead-4d4b-9773-ccce8d5ae20c');\n",
       "          const dataTable =\n",
       "            await google.colab.kernel.invokeFunction('convertToInteractive',\n",
       "                                                     [key], {});\n",
       "          if (!dataTable) return;\n",
       "\n",
       "          const docLinkHtml = 'Like what you see? Visit the ' +\n",
       "            '<a target=\"_blank\" href=https://colab.research.google.com/notebooks/data_table.ipynb>data table notebook</a>'\n",
       "            + ' to learn more about interactive tables.';\n",
       "          element.innerHTML = '';\n",
       "          dataTable['output_type'] = 'display_data';\n",
       "          await google.colab.output.renderOutput(dataTable, element);\n",
       "          const docLink = document.createElement('div');\n",
       "          docLink.innerHTML = docLinkHtml;\n",
       "          element.appendChild(docLink);\n",
       "        }\n",
       "      </script>\n",
       "    </div>\n",
       "  </div>\n",
       "  "
      ],
      "text/plain": [
       "    MPG  Cylinders  Displacement  Horsepower  Weight  Acceleration  \\\n",
       "0  18.0          8         307.0       130.0    3504          12.0   \n",
       "1  15.0          8         350.0       165.0    3693          11.5   \n",
       "2  18.0          8         318.0       150.0    3436          11.0   \n",
       "3  16.0          8         304.0       150.0    3433          12.0   \n",
       "4  17.0          8         302.0       140.0    3449          10.5   \n",
       "\n",
       "   Model Year  Origin  \n",
       "0          70       1  \n",
       "1          70       1  \n",
       "2          70       1  \n",
       "3          70       1  \n",
       "4          70       1  "
      ]
     },
     "execution_count": 506,
     "metadata": {},
     "output_type": "execute_result"
    }
   ],
   "source": [
    "df0 = df0.drop(['Unnamed: 0'], axis=1)\n",
    "df0.head()"
   ]
  },
  {
   "cell_type": "markdown",
   "metadata": {
    "id": "fAmPIvmdf4LI"
   },
   "source": [
    "Originは一見数値データだが、(origin == 1)はアメ車、(origin == 2)は欧州車、(origin == 3)は日本車​を表すことから、カテゴリーデータとみなされる"
   ]
  },
  {
   "cell_type": "code",
   "execution_count": null,
   "metadata": {
    "colab": {
     "base_uri": "https://localhost:8080/",
     "height": 206
    },
    "id": "ZbS9y7vkf68K",
    "outputId": "89cc3a64-ad58-49a3-84f0-e32a7338e059"
   },
   "outputs": [
    {
     "data": {
      "text/html": [
       "\n",
       "  <div id=\"df-d6360ed0-4204-4de2-afbe-d530c8ca1eb8\">\n",
       "    <div class=\"colab-df-container\">\n",
       "      <div>\n",
       "<style scoped>\n",
       "    .dataframe tbody tr th:only-of-type {\n",
       "        vertical-align: middle;\n",
       "    }\n",
       "\n",
       "    .dataframe tbody tr th {\n",
       "        vertical-align: top;\n",
       "    }\n",
       "\n",
       "    .dataframe thead th {\n",
       "        text-align: right;\n",
       "    }\n",
       "</style>\n",
       "<table border=\"1\" class=\"dataframe\">\n",
       "  <thead>\n",
       "    <tr style=\"text-align: right;\">\n",
       "      <th></th>\n",
       "      <th>MPG</th>\n",
       "      <th>Cylinders</th>\n",
       "      <th>Displacement</th>\n",
       "      <th>Horsepower</th>\n",
       "      <th>Weight</th>\n",
       "      <th>Acceleration</th>\n",
       "      <th>Model Year</th>\n",
       "      <th>America</th>\n",
       "      <th>Europe</th>\n",
       "      <th>Japan</th>\n",
       "    </tr>\n",
       "  </thead>\n",
       "  <tbody>\n",
       "    <tr>\n",
       "      <th>0</th>\n",
       "      <td>18.0</td>\n",
       "      <td>8</td>\n",
       "      <td>307.0</td>\n",
       "      <td>130.0</td>\n",
       "      <td>3504</td>\n",
       "      <td>12.0</td>\n",
       "      <td>70</td>\n",
       "      <td>1</td>\n",
       "      <td>0</td>\n",
       "      <td>0</td>\n",
       "    </tr>\n",
       "    <tr>\n",
       "      <th>1</th>\n",
       "      <td>15.0</td>\n",
       "      <td>8</td>\n",
       "      <td>350.0</td>\n",
       "      <td>165.0</td>\n",
       "      <td>3693</td>\n",
       "      <td>11.5</td>\n",
       "      <td>70</td>\n",
       "      <td>1</td>\n",
       "      <td>0</td>\n",
       "      <td>0</td>\n",
       "    </tr>\n",
       "    <tr>\n",
       "      <th>2</th>\n",
       "      <td>18.0</td>\n",
       "      <td>8</td>\n",
       "      <td>318.0</td>\n",
       "      <td>150.0</td>\n",
       "      <td>3436</td>\n",
       "      <td>11.0</td>\n",
       "      <td>70</td>\n",
       "      <td>1</td>\n",
       "      <td>0</td>\n",
       "      <td>0</td>\n",
       "    </tr>\n",
       "    <tr>\n",
       "      <th>3</th>\n",
       "      <td>16.0</td>\n",
       "      <td>8</td>\n",
       "      <td>304.0</td>\n",
       "      <td>150.0</td>\n",
       "      <td>3433</td>\n",
       "      <td>12.0</td>\n",
       "      <td>70</td>\n",
       "      <td>1</td>\n",
       "      <td>0</td>\n",
       "      <td>0</td>\n",
       "    </tr>\n",
       "    <tr>\n",
       "      <th>4</th>\n",
       "      <td>17.0</td>\n",
       "      <td>8</td>\n",
       "      <td>302.0</td>\n",
       "      <td>140.0</td>\n",
       "      <td>3449</td>\n",
       "      <td>10.5</td>\n",
       "      <td>70</td>\n",
       "      <td>1</td>\n",
       "      <td>0</td>\n",
       "      <td>0</td>\n",
       "    </tr>\n",
       "  </tbody>\n",
       "</table>\n",
       "</div>\n",
       "      <button class=\"colab-df-convert\" onclick=\"convertToInteractive('df-d6360ed0-4204-4de2-afbe-d530c8ca1eb8')\"\n",
       "              title=\"Convert this dataframe to an interactive table.\"\n",
       "              style=\"display:none;\">\n",
       "        \n",
       "  <svg xmlns=\"http://www.w3.org/2000/svg\" height=\"24px\"viewBox=\"0 0 24 24\"\n",
       "       width=\"24px\">\n",
       "    <path d=\"M0 0h24v24H0V0z\" fill=\"none\"/>\n",
       "    <path d=\"M18.56 5.44l.94 2.06.94-2.06 2.06-.94-2.06-.94-.94-2.06-.94 2.06-2.06.94zm-11 1L8.5 8.5l.94-2.06 2.06-.94-2.06-.94L8.5 2.5l-.94 2.06-2.06.94zm10 10l.94 2.06.94-2.06 2.06-.94-2.06-.94-.94-2.06-.94 2.06-2.06.94z\"/><path d=\"M17.41 7.96l-1.37-1.37c-.4-.4-.92-.59-1.43-.59-.52 0-1.04.2-1.43.59L10.3 9.45l-7.72 7.72c-.78.78-.78 2.05 0 2.83L4 21.41c.39.39.9.59 1.41.59.51 0 1.02-.2 1.41-.59l7.78-7.78 2.81-2.81c.8-.78.8-2.07 0-2.86zM5.41 20L4 18.59l7.72-7.72 1.47 1.35L5.41 20z\"/>\n",
       "  </svg>\n",
       "      </button>\n",
       "      \n",
       "  <style>\n",
       "    .colab-df-container {\n",
       "      display:flex;\n",
       "      flex-wrap:wrap;\n",
       "      gap: 12px;\n",
       "    }\n",
       "\n",
       "    .colab-df-convert {\n",
       "      background-color: #E8F0FE;\n",
       "      border: none;\n",
       "      border-radius: 50%;\n",
       "      cursor: pointer;\n",
       "      display: none;\n",
       "      fill: #1967D2;\n",
       "      height: 32px;\n",
       "      padding: 0 0 0 0;\n",
       "      width: 32px;\n",
       "    }\n",
       "\n",
       "    .colab-df-convert:hover {\n",
       "      background-color: #E2EBFA;\n",
       "      box-shadow: 0px 1px 2px rgba(60, 64, 67, 0.3), 0px 1px 3px 1px rgba(60, 64, 67, 0.15);\n",
       "      fill: #174EA6;\n",
       "    }\n",
       "\n",
       "    [theme=dark] .colab-df-convert {\n",
       "      background-color: #3B4455;\n",
       "      fill: #D2E3FC;\n",
       "    }\n",
       "\n",
       "    [theme=dark] .colab-df-convert:hover {\n",
       "      background-color: #434B5C;\n",
       "      box-shadow: 0px 1px 3px 1px rgba(0, 0, 0, 0.15);\n",
       "      filter: drop-shadow(0px 1px 2px rgba(0, 0, 0, 0.3));\n",
       "      fill: #FFFFFF;\n",
       "    }\n",
       "  </style>\n",
       "\n",
       "      <script>\n",
       "        const buttonEl =\n",
       "          document.querySelector('#df-d6360ed0-4204-4de2-afbe-d530c8ca1eb8 button.colab-df-convert');\n",
       "        buttonEl.style.display =\n",
       "          google.colab.kernel.accessAllowed ? 'block' : 'none';\n",
       "\n",
       "        async function convertToInteractive(key) {\n",
       "          const element = document.querySelector('#df-d6360ed0-4204-4de2-afbe-d530c8ca1eb8');\n",
       "          const dataTable =\n",
       "            await google.colab.kernel.invokeFunction('convertToInteractive',\n",
       "                                                     [key], {});\n",
       "          if (!dataTable) return;\n",
       "\n",
       "          const docLinkHtml = 'Like what you see? Visit the ' +\n",
       "            '<a target=\"_blank\" href=https://colab.research.google.com/notebooks/data_table.ipynb>data table notebook</a>'\n",
       "            + ' to learn more about interactive tables.';\n",
       "          element.innerHTML = '';\n",
       "          dataTable['output_type'] = 'display_data';\n",
       "          await google.colab.output.renderOutput(dataTable, element);\n",
       "          const docLink = document.createElement('div');\n",
       "          docLink.innerHTML = docLinkHtml;\n",
       "          element.appendChild(docLink);\n",
       "        }\n",
       "      </script>\n",
       "    </div>\n",
       "  </div>\n",
       "  "
      ],
      "text/plain": [
       "    MPG  Cylinders  Displacement  Horsepower  Weight  Acceleration  \\\n",
       "0  18.0          8         307.0       130.0    3504          12.0   \n",
       "1  15.0          8         350.0       165.0    3693          11.5   \n",
       "2  18.0          8         318.0       150.0    3436          11.0   \n",
       "3  16.0          8         304.0       150.0    3433          12.0   \n",
       "4  17.0          8         302.0       140.0    3449          10.5   \n",
       "\n",
       "   Model Year  America  Europe  Japan  \n",
       "0          70        1       0      0  \n",
       "1          70        1       0      0  \n",
       "2          70        1       0      0  \n",
       "3          70        1       0      0  \n",
       "4          70        1       0      0  "
      ]
     },
     "execution_count": 507,
     "metadata": {},
     "output_type": "execute_result"
    }
   ],
   "source": [
    "# ダミー変数化\n",
    "df_dummy = df0.replace({'Origin': {1:'America', 2:'Europe', 3:'Japan'}})\n",
    "\n",
    "df_dummy = pd.concat([df_dummy, pd.get_dummies(df_dummy['Origin'], drop_first=False)], axis=1)\n",
    "df_dummy = df_dummy.drop(['Origin'], axis=1)\n",
    "\n",
    "df_dummy.head()"
   ]
  },
  {
   "cell_type": "code",
   "execution_count": null,
   "metadata": {
    "colab": {
     "base_uri": "https://localhost:8080/"
    },
    "id": "Enl9OH3wf-XZ",
    "outputId": "50945548-1ff6-47e0-9c2d-9db138181963"
   },
   "outputs": [
    {
     "data": {
      "text/plain": [
       "Index(['Cylinders', 'Displacement', 'Horsepower', 'Weight', 'Acceleration',\n",
       "       'Model Year', 'America', 'Europe', 'Japan'],\n",
       "      dtype='object')"
      ]
     },
     "execution_count": 508,
     "metadata": {},
     "output_type": "execute_result"
    }
   ],
   "source": [
    "# 特徴量データの列名\n",
    "x_col = df_dummy.loc[:, 'Cylinders':'Japan'].columns\n",
    "x_col"
   ]
  },
  {
   "cell_type": "markdown",
   "metadata": {
    "id": "Dh-h3nGAinE8"
   },
   "source": [
    "訓練データ・検証データ、テストデータに分割"
   ]
  },
  {
   "cell_type": "code",
   "execution_count": null,
   "metadata": {
    "colab": {
     "base_uri": "https://localhost:8080/",
     "height": 206
    },
    "id": "75KSKvIscJNB",
    "outputId": "b04031ba-9c16-4757-c4f6-bfd0e9abcae8"
   },
   "outputs": [
    {
     "data": {
      "text/html": [
       "\n",
       "  <div id=\"df-69d68178-32e5-445d-bfb4-0d82a786e04a\">\n",
       "    <div class=\"colab-df-container\">\n",
       "      <div>\n",
       "<style scoped>\n",
       "    .dataframe tbody tr th:only-of-type {\n",
       "        vertical-align: middle;\n",
       "    }\n",
       "\n",
       "    .dataframe tbody tr th {\n",
       "        vertical-align: top;\n",
       "    }\n",
       "\n",
       "    .dataframe thead th {\n",
       "        text-align: right;\n",
       "    }\n",
       "</style>\n",
       "<table border=\"1\" class=\"dataframe\">\n",
       "  <thead>\n",
       "    <tr style=\"text-align: right;\">\n",
       "      <th></th>\n",
       "      <th>MPG</th>\n",
       "      <th>Cylinders</th>\n",
       "      <th>Displacement</th>\n",
       "      <th>Horsepower</th>\n",
       "      <th>Weight</th>\n",
       "      <th>Acceleration</th>\n",
       "      <th>Model Year</th>\n",
       "      <th>America</th>\n",
       "      <th>Europe</th>\n",
       "      <th>Japan</th>\n",
       "    </tr>\n",
       "  </thead>\n",
       "  <tbody>\n",
       "    <tr>\n",
       "      <th>64</th>\n",
       "      <td>15.0</td>\n",
       "      <td>8</td>\n",
       "      <td>318.0</td>\n",
       "      <td>150.0</td>\n",
       "      <td>4135</td>\n",
       "      <td>13.5</td>\n",
       "      <td>72</td>\n",
       "      <td>1</td>\n",
       "      <td>0</td>\n",
       "      <td>0</td>\n",
       "    </tr>\n",
       "    <tr>\n",
       "      <th>55</th>\n",
       "      <td>27.0</td>\n",
       "      <td>4</td>\n",
       "      <td>97.0</td>\n",
       "      <td>60.0</td>\n",
       "      <td>1834</td>\n",
       "      <td>19.0</td>\n",
       "      <td>71</td>\n",
       "      <td>0</td>\n",
       "      <td>1</td>\n",
       "      <td>0</td>\n",
       "    </tr>\n",
       "    <tr>\n",
       "      <th>317</th>\n",
       "      <td>34.3</td>\n",
       "      <td>4</td>\n",
       "      <td>97.0</td>\n",
       "      <td>78.0</td>\n",
       "      <td>2188</td>\n",
       "      <td>15.8</td>\n",
       "      <td>80</td>\n",
       "      <td>0</td>\n",
       "      <td>1</td>\n",
       "      <td>0</td>\n",
       "    </tr>\n",
       "    <tr>\n",
       "      <th>102</th>\n",
       "      <td>26.0</td>\n",
       "      <td>4</td>\n",
       "      <td>97.0</td>\n",
       "      <td>46.0</td>\n",
       "      <td>1950</td>\n",
       "      <td>21.0</td>\n",
       "      <td>73</td>\n",
       "      <td>0</td>\n",
       "      <td>1</td>\n",
       "      <td>0</td>\n",
       "    </tr>\n",
       "    <tr>\n",
       "      <th>358</th>\n",
       "      <td>31.6</td>\n",
       "      <td>4</td>\n",
       "      <td>120.0</td>\n",
       "      <td>74.0</td>\n",
       "      <td>2635</td>\n",
       "      <td>18.3</td>\n",
       "      <td>81</td>\n",
       "      <td>0</td>\n",
       "      <td>0</td>\n",
       "      <td>1</td>\n",
       "    </tr>\n",
       "  </tbody>\n",
       "</table>\n",
       "</div>\n",
       "      <button class=\"colab-df-convert\" onclick=\"convertToInteractive('df-69d68178-32e5-445d-bfb4-0d82a786e04a')\"\n",
       "              title=\"Convert this dataframe to an interactive table.\"\n",
       "              style=\"display:none;\">\n",
       "        \n",
       "  <svg xmlns=\"http://www.w3.org/2000/svg\" height=\"24px\"viewBox=\"0 0 24 24\"\n",
       "       width=\"24px\">\n",
       "    <path d=\"M0 0h24v24H0V0z\" fill=\"none\"/>\n",
       "    <path d=\"M18.56 5.44l.94 2.06.94-2.06 2.06-.94-2.06-.94-.94-2.06-.94 2.06-2.06.94zm-11 1L8.5 8.5l.94-2.06 2.06-.94-2.06-.94L8.5 2.5l-.94 2.06-2.06.94zm10 10l.94 2.06.94-2.06 2.06-.94-2.06-.94-.94-2.06-.94 2.06-2.06.94z\"/><path d=\"M17.41 7.96l-1.37-1.37c-.4-.4-.92-.59-1.43-.59-.52 0-1.04.2-1.43.59L10.3 9.45l-7.72 7.72c-.78.78-.78 2.05 0 2.83L4 21.41c.39.39.9.59 1.41.59.51 0 1.02-.2 1.41-.59l7.78-7.78 2.81-2.81c.8-.78.8-2.07 0-2.86zM5.41 20L4 18.59l7.72-7.72 1.47 1.35L5.41 20z\"/>\n",
       "  </svg>\n",
       "      </button>\n",
       "      \n",
       "  <style>\n",
       "    .colab-df-container {\n",
       "      display:flex;\n",
       "      flex-wrap:wrap;\n",
       "      gap: 12px;\n",
       "    }\n",
       "\n",
       "    .colab-df-convert {\n",
       "      background-color: #E8F0FE;\n",
       "      border: none;\n",
       "      border-radius: 50%;\n",
       "      cursor: pointer;\n",
       "      display: none;\n",
       "      fill: #1967D2;\n",
       "      height: 32px;\n",
       "      padding: 0 0 0 0;\n",
       "      width: 32px;\n",
       "    }\n",
       "\n",
       "    .colab-df-convert:hover {\n",
       "      background-color: #E2EBFA;\n",
       "      box-shadow: 0px 1px 2px rgba(60, 64, 67, 0.3), 0px 1px 3px 1px rgba(60, 64, 67, 0.15);\n",
       "      fill: #174EA6;\n",
       "    }\n",
       "\n",
       "    [theme=dark] .colab-df-convert {\n",
       "      background-color: #3B4455;\n",
       "      fill: #D2E3FC;\n",
       "    }\n",
       "\n",
       "    [theme=dark] .colab-df-convert:hover {\n",
       "      background-color: #434B5C;\n",
       "      box-shadow: 0px 1px 3px 1px rgba(0, 0, 0, 0.15);\n",
       "      filter: drop-shadow(0px 1px 2px rgba(0, 0, 0, 0.3));\n",
       "      fill: #FFFFFF;\n",
       "    }\n",
       "  </style>\n",
       "\n",
       "      <script>\n",
       "        const buttonEl =\n",
       "          document.querySelector('#df-69d68178-32e5-445d-bfb4-0d82a786e04a button.colab-df-convert');\n",
       "        buttonEl.style.display =\n",
       "          google.colab.kernel.accessAllowed ? 'block' : 'none';\n",
       "\n",
       "        async function convertToInteractive(key) {\n",
       "          const element = document.querySelector('#df-69d68178-32e5-445d-bfb4-0d82a786e04a');\n",
       "          const dataTable =\n",
       "            await google.colab.kernel.invokeFunction('convertToInteractive',\n",
       "                                                     [key], {});\n",
       "          if (!dataTable) return;\n",
       "\n",
       "          const docLinkHtml = 'Like what you see? Visit the ' +\n",
       "            '<a target=\"_blank\" href=https://colab.research.google.com/notebooks/data_table.ipynb>data table notebook</a>'\n",
       "            + ' to learn more about interactive tables.';\n",
       "          element.innerHTML = '';\n",
       "          dataTable['output_type'] = 'display_data';\n",
       "          await google.colab.output.renderOutput(dataTable, element);\n",
       "          const docLink = document.createElement('div');\n",
       "          docLink.innerHTML = docLinkHtml;\n",
       "          element.appendChild(docLink);\n",
       "        }\n",
       "      </script>\n",
       "    </div>\n",
       "  </div>\n",
       "  "
      ],
      "text/plain": [
       "      MPG  Cylinders  Displacement  Horsepower  Weight  Acceleration  \\\n",
       "64   15.0          8         318.0       150.0    4135          13.5   \n",
       "55   27.0          4          97.0        60.0    1834          19.0   \n",
       "317  34.3          4          97.0        78.0    2188          15.8   \n",
       "102  26.0          4          97.0        46.0    1950          21.0   \n",
       "358  31.6          4         120.0        74.0    2635          18.3   \n",
       "\n",
       "     Model Year  America  Europe  Japan  \n",
       "64           72        1       0      0  \n",
       "55           71        0       1      0  \n",
       "317          80        0       1      0  \n",
       "102          73        0       1      0  \n",
       "358          81        0       0      1  "
      ]
     },
     "execution_count": 509,
     "metadata": {},
     "output_type": "execute_result"
    }
   ],
   "source": [
    "# 訓練データ・検証データ、テストデータに分割\n",
    "train_val, test = train_test_split(df_dummy, test_size = 0.2, random_state = 0)\n",
    "\n",
    "train_val.head()"
   ]
  },
  {
   "cell_type": "markdown",
   "metadata": {
    "id": "3HRZhMEzXmwz"
   },
   "source": [
    "欠損値処理"
   ]
  },
  {
   "cell_type": "code",
   "execution_count": null,
   "metadata": {
    "colab": {
     "base_uri": "https://localhost:8080/"
    },
    "id": "hbYHN5j1kapT",
    "outputId": "12fc97c0-f3d2-45e3-c487-6e297d4367ba"
   },
   "outputs": [
    {
     "name": "stdout",
     "output_type": "stream",
     "text": [
      "MPG             0\n",
      "Cylinders       0\n",
      "Displacement    0\n",
      "Horsepower      5\n",
      "Weight          0\n",
      "Acceleration    0\n",
      "Model Year      0\n",
      "America         0\n",
      "Europe          0\n",
      "Japan           0\n",
      "dtype: int64\n"
     ]
    }
   ],
   "source": [
    "# 欠損値の確認\n",
    "print(train_val.isnull().sum())"
   ]
  },
  {
   "cell_type": "markdown",
   "metadata": {
    "id": "PWxkv3xUiuQ5"
   },
   "source": [
    "Horsepowerに5件の欠損値があるため、欠損値処理を機械学習を用いて行う<br>\n",
    "なお、時系列データではない為、線形補完は行えないため、重線形回帰を用いて補完する"
   ]
  },
  {
   "cell_type": "code",
   "execution_count": null,
   "metadata": {
    "colab": {
     "base_uri": "https://localhost:8080/",
     "height": 206
    },
    "id": "EbT3eHq9UzTy",
    "outputId": "45681c4f-a36e-4c4a-9f49-ecd45d09dbe9"
   },
   "outputs": [
    {
     "data": {
      "text/html": [
       "\n",
       "  <div id=\"df-61c5c2fc-a326-4770-8dad-d87ab5113fc6\">\n",
       "    <div class=\"colab-df-container\">\n",
       "      <div>\n",
       "<style scoped>\n",
       "    .dataframe tbody tr th:only-of-type {\n",
       "        vertical-align: middle;\n",
       "    }\n",
       "\n",
       "    .dataframe tbody tr th {\n",
       "        vertical-align: top;\n",
       "    }\n",
       "\n",
       "    .dataframe thead th {\n",
       "        text-align: right;\n",
       "    }\n",
       "</style>\n",
       "<table border=\"1\" class=\"dataframe\">\n",
       "  <thead>\n",
       "    <tr style=\"text-align: right;\">\n",
       "      <th></th>\n",
       "      <th>MPG</th>\n",
       "      <th>Cylinders</th>\n",
       "      <th>Displacement</th>\n",
       "      <th>Horsepower</th>\n",
       "      <th>Weight</th>\n",
       "      <th>Acceleration</th>\n",
       "      <th>Model Year</th>\n",
       "      <th>America</th>\n",
       "      <th>Europe</th>\n",
       "      <th>Japan</th>\n",
       "    </tr>\n",
       "  </thead>\n",
       "  <tbody>\n",
       "    <tr>\n",
       "      <th>126</th>\n",
       "      <td>21.0</td>\n",
       "      <td>6</td>\n",
       "      <td>200.0</td>\n",
       "      <td>NaN</td>\n",
       "      <td>2875</td>\n",
       "      <td>17.0</td>\n",
       "      <td>74</td>\n",
       "      <td>1</td>\n",
       "      <td>0</td>\n",
       "      <td>0</td>\n",
       "    </tr>\n",
       "    <tr>\n",
       "      <th>374</th>\n",
       "      <td>23.0</td>\n",
       "      <td>4</td>\n",
       "      <td>151.0</td>\n",
       "      <td>NaN</td>\n",
       "      <td>3035</td>\n",
       "      <td>20.5</td>\n",
       "      <td>82</td>\n",
       "      <td>1</td>\n",
       "      <td>0</td>\n",
       "      <td>0</td>\n",
       "    </tr>\n",
       "    <tr>\n",
       "      <th>336</th>\n",
       "      <td>23.6</td>\n",
       "      <td>4</td>\n",
       "      <td>140.0</td>\n",
       "      <td>NaN</td>\n",
       "      <td>2905</td>\n",
       "      <td>14.3</td>\n",
       "      <td>80</td>\n",
       "      <td>1</td>\n",
       "      <td>0</td>\n",
       "      <td>0</td>\n",
       "    </tr>\n",
       "    <tr>\n",
       "      <th>354</th>\n",
       "      <td>34.5</td>\n",
       "      <td>4</td>\n",
       "      <td>100.0</td>\n",
       "      <td>NaN</td>\n",
       "      <td>2320</td>\n",
       "      <td>15.8</td>\n",
       "      <td>81</td>\n",
       "      <td>0</td>\n",
       "      <td>1</td>\n",
       "      <td>0</td>\n",
       "    </tr>\n",
       "    <tr>\n",
       "      <th>32</th>\n",
       "      <td>25.0</td>\n",
       "      <td>4</td>\n",
       "      <td>98.0</td>\n",
       "      <td>NaN</td>\n",
       "      <td>2046</td>\n",
       "      <td>19.0</td>\n",
       "      <td>71</td>\n",
       "      <td>1</td>\n",
       "      <td>0</td>\n",
       "      <td>0</td>\n",
       "    </tr>\n",
       "  </tbody>\n",
       "</table>\n",
       "</div>\n",
       "      <button class=\"colab-df-convert\" onclick=\"convertToInteractive('df-61c5c2fc-a326-4770-8dad-d87ab5113fc6')\"\n",
       "              title=\"Convert this dataframe to an interactive table.\"\n",
       "              style=\"display:none;\">\n",
       "        \n",
       "  <svg xmlns=\"http://www.w3.org/2000/svg\" height=\"24px\"viewBox=\"0 0 24 24\"\n",
       "       width=\"24px\">\n",
       "    <path d=\"M0 0h24v24H0V0z\" fill=\"none\"/>\n",
       "    <path d=\"M18.56 5.44l.94 2.06.94-2.06 2.06-.94-2.06-.94-.94-2.06-.94 2.06-2.06.94zm-11 1L8.5 8.5l.94-2.06 2.06-.94-2.06-.94L8.5 2.5l-.94 2.06-2.06.94zm10 10l.94 2.06.94-2.06 2.06-.94-2.06-.94-.94-2.06-.94 2.06-2.06.94z\"/><path d=\"M17.41 7.96l-1.37-1.37c-.4-.4-.92-.59-1.43-.59-.52 0-1.04.2-1.43.59L10.3 9.45l-7.72 7.72c-.78.78-.78 2.05 0 2.83L4 21.41c.39.39.9.59 1.41.59.51 0 1.02-.2 1.41-.59l7.78-7.78 2.81-2.81c.8-.78.8-2.07 0-2.86zM5.41 20L4 18.59l7.72-7.72 1.47 1.35L5.41 20z\"/>\n",
       "  </svg>\n",
       "      </button>\n",
       "      \n",
       "  <style>\n",
       "    .colab-df-container {\n",
       "      display:flex;\n",
       "      flex-wrap:wrap;\n",
       "      gap: 12px;\n",
       "    }\n",
       "\n",
       "    .colab-df-convert {\n",
       "      background-color: #E8F0FE;\n",
       "      border: none;\n",
       "      border-radius: 50%;\n",
       "      cursor: pointer;\n",
       "      display: none;\n",
       "      fill: #1967D2;\n",
       "      height: 32px;\n",
       "      padding: 0 0 0 0;\n",
       "      width: 32px;\n",
       "    }\n",
       "\n",
       "    .colab-df-convert:hover {\n",
       "      background-color: #E2EBFA;\n",
       "      box-shadow: 0px 1px 2px rgba(60, 64, 67, 0.3), 0px 1px 3px 1px rgba(60, 64, 67, 0.15);\n",
       "      fill: #174EA6;\n",
       "    }\n",
       "\n",
       "    [theme=dark] .colab-df-convert {\n",
       "      background-color: #3B4455;\n",
       "      fill: #D2E3FC;\n",
       "    }\n",
       "\n",
       "    [theme=dark] .colab-df-convert:hover {\n",
       "      background-color: #434B5C;\n",
       "      box-shadow: 0px 1px 3px 1px rgba(0, 0, 0, 0.15);\n",
       "      filter: drop-shadow(0px 1px 2px rgba(0, 0, 0, 0.3));\n",
       "      fill: #FFFFFF;\n",
       "    }\n",
       "  </style>\n",
       "\n",
       "      <script>\n",
       "        const buttonEl =\n",
       "          document.querySelector('#df-61c5c2fc-a326-4770-8dad-d87ab5113fc6 button.colab-df-convert');\n",
       "        buttonEl.style.display =\n",
       "          google.colab.kernel.accessAllowed ? 'block' : 'none';\n",
       "\n",
       "        async function convertToInteractive(key) {\n",
       "          const element = document.querySelector('#df-61c5c2fc-a326-4770-8dad-d87ab5113fc6');\n",
       "          const dataTable =\n",
       "            await google.colab.kernel.invokeFunction('convertToInteractive',\n",
       "                                                     [key], {});\n",
       "          if (!dataTable) return;\n",
       "\n",
       "          const docLinkHtml = 'Like what you see? Visit the ' +\n",
       "            '<a target=\"_blank\" href=https://colab.research.google.com/notebooks/data_table.ipynb>data table notebook</a>'\n",
       "            + ' to learn more about interactive tables.';\n",
       "          element.innerHTML = '';\n",
       "          dataTable['output_type'] = 'display_data';\n",
       "          await google.colab.output.renderOutput(dataTable, element);\n",
       "          const docLink = document.createElement('div');\n",
       "          docLink.innerHTML = docLinkHtml;\n",
       "          element.appendChild(docLink);\n",
       "        }\n",
       "      </script>\n",
       "    </div>\n",
       "  </div>\n",
       "  "
      ],
      "text/plain": [
       "      MPG  Cylinders  Displacement  Horsepower  Weight  Acceleration  \\\n",
       "126  21.0          6         200.0         NaN    2875          17.0   \n",
       "374  23.0          4         151.0         NaN    3035          20.5   \n",
       "336  23.6          4         140.0         NaN    2905          14.3   \n",
       "354  34.5          4         100.0         NaN    2320          15.8   \n",
       "32   25.0          4          98.0         NaN    2046          19.0   \n",
       "\n",
       "     Model Year  America  Europe  Japan  \n",
       "126          74        1       0      0  \n",
       "374          82        1       0      0  \n",
       "336          80        1       0      0  \n",
       "354          81        0       1      0  \n",
       "32           71        1       0      0  "
      ]
     },
     "execution_count": 511,
     "metadata": {},
     "output_type": "execute_result"
    }
   ],
   "source": [
    "# 欠損値を含まない行で学習\n",
    "non_df = train_val.dropna()\n",
    "x = non_df.drop(['Horsepower'], axis=1)\n",
    "t = non_df['Horsepower']\n",
    "hp_regret_model = LinearRegression()\n",
    "hp_regret_model.fit(x, t)\n",
    "\n",
    "# 欠損値を含む行を抽出\n",
    "condition = train_val['Horsepower'].isnull()\n",
    "non_data = train_val.loc[condition]\n",
    "\n",
    "non_data"
   ]
  },
  {
   "cell_type": "code",
   "execution_count": null,
   "metadata": {
    "colab": {
     "base_uri": "https://localhost:8080/",
     "height": 206
    },
    "id": "FnHx91DlWv1W",
    "outputId": "0e4fc67f-9bfc-413d-da6c-0f6c90e6b181"
   },
   "outputs": [
    {
     "data": {
      "text/html": [
       "\n",
       "  <div id=\"df-dfea92b3-bb1d-44cc-b417-8fc866c0de19\">\n",
       "    <div class=\"colab-df-container\">\n",
       "      <div>\n",
       "<style scoped>\n",
       "    .dataframe tbody tr th:only-of-type {\n",
       "        vertical-align: middle;\n",
       "    }\n",
       "\n",
       "    .dataframe tbody tr th {\n",
       "        vertical-align: top;\n",
       "    }\n",
       "\n",
       "    .dataframe thead th {\n",
       "        text-align: right;\n",
       "    }\n",
       "</style>\n",
       "<table border=\"1\" class=\"dataframe\">\n",
       "  <thead>\n",
       "    <tr style=\"text-align: right;\">\n",
       "      <th></th>\n",
       "      <th>MPG</th>\n",
       "      <th>Cylinders</th>\n",
       "      <th>Displacement</th>\n",
       "      <th>Horsepower</th>\n",
       "      <th>Weight</th>\n",
       "      <th>Acceleration</th>\n",
       "      <th>Model Year</th>\n",
       "      <th>America</th>\n",
       "      <th>Europe</th>\n",
       "      <th>Japan</th>\n",
       "    </tr>\n",
       "  </thead>\n",
       "  <tbody>\n",
       "    <tr>\n",
       "      <th>126</th>\n",
       "      <td>21.0</td>\n",
       "      <td>6</td>\n",
       "      <td>200.0</td>\n",
       "      <td>94.375298</td>\n",
       "      <td>2875</td>\n",
       "      <td>17.0</td>\n",
       "      <td>74</td>\n",
       "      <td>1</td>\n",
       "      <td>0</td>\n",
       "      <td>0</td>\n",
       "    </tr>\n",
       "    <tr>\n",
       "      <th>374</th>\n",
       "      <td>23.0</td>\n",
       "      <td>4</td>\n",
       "      <td>151.0</td>\n",
       "      <td>74.939384</td>\n",
       "      <td>3035</td>\n",
       "      <td>20.5</td>\n",
       "      <td>82</td>\n",
       "      <td>1</td>\n",
       "      <td>0</td>\n",
       "      <td>0</td>\n",
       "    </tr>\n",
       "    <tr>\n",
       "      <th>336</th>\n",
       "      <td>23.6</td>\n",
       "      <td>4</td>\n",
       "      <td>140.0</td>\n",
       "      <td>98.240267</td>\n",
       "      <td>2905</td>\n",
       "      <td>14.3</td>\n",
       "      <td>80</td>\n",
       "      <td>1</td>\n",
       "      <td>0</td>\n",
       "      <td>0</td>\n",
       "    </tr>\n",
       "    <tr>\n",
       "      <th>354</th>\n",
       "      <td>34.5</td>\n",
       "      <td>4</td>\n",
       "      <td>100.0</td>\n",
       "      <td>76.507448</td>\n",
       "      <td>2320</td>\n",
       "      <td>15.8</td>\n",
       "      <td>81</td>\n",
       "      <td>0</td>\n",
       "      <td>1</td>\n",
       "      <td>0</td>\n",
       "    </tr>\n",
       "    <tr>\n",
       "      <th>32</th>\n",
       "      <td>25.0</td>\n",
       "      <td>4</td>\n",
       "      <td>98.0</td>\n",
       "      <td>59.461251</td>\n",
       "      <td>2046</td>\n",
       "      <td>19.0</td>\n",
       "      <td>71</td>\n",
       "      <td>1</td>\n",
       "      <td>0</td>\n",
       "      <td>0</td>\n",
       "    </tr>\n",
       "  </tbody>\n",
       "</table>\n",
       "</div>\n",
       "      <button class=\"colab-df-convert\" onclick=\"convertToInteractive('df-dfea92b3-bb1d-44cc-b417-8fc866c0de19')\"\n",
       "              title=\"Convert this dataframe to an interactive table.\"\n",
       "              style=\"display:none;\">\n",
       "        \n",
       "  <svg xmlns=\"http://www.w3.org/2000/svg\" height=\"24px\"viewBox=\"0 0 24 24\"\n",
       "       width=\"24px\">\n",
       "    <path d=\"M0 0h24v24H0V0z\" fill=\"none\"/>\n",
       "    <path d=\"M18.56 5.44l.94 2.06.94-2.06 2.06-.94-2.06-.94-.94-2.06-.94 2.06-2.06.94zm-11 1L8.5 8.5l.94-2.06 2.06-.94-2.06-.94L8.5 2.5l-.94 2.06-2.06.94zm10 10l.94 2.06.94-2.06 2.06-.94-2.06-.94-.94-2.06-.94 2.06-2.06.94z\"/><path d=\"M17.41 7.96l-1.37-1.37c-.4-.4-.92-.59-1.43-.59-.52 0-1.04.2-1.43.59L10.3 9.45l-7.72 7.72c-.78.78-.78 2.05 0 2.83L4 21.41c.39.39.9.59 1.41.59.51 0 1.02-.2 1.41-.59l7.78-7.78 2.81-2.81c.8-.78.8-2.07 0-2.86zM5.41 20L4 18.59l7.72-7.72 1.47 1.35L5.41 20z\"/>\n",
       "  </svg>\n",
       "      </button>\n",
       "      \n",
       "  <style>\n",
       "    .colab-df-container {\n",
       "      display:flex;\n",
       "      flex-wrap:wrap;\n",
       "      gap: 12px;\n",
       "    }\n",
       "\n",
       "    .colab-df-convert {\n",
       "      background-color: #E8F0FE;\n",
       "      border: none;\n",
       "      border-radius: 50%;\n",
       "      cursor: pointer;\n",
       "      display: none;\n",
       "      fill: #1967D2;\n",
       "      height: 32px;\n",
       "      padding: 0 0 0 0;\n",
       "      width: 32px;\n",
       "    }\n",
       "\n",
       "    .colab-df-convert:hover {\n",
       "      background-color: #E2EBFA;\n",
       "      box-shadow: 0px 1px 2px rgba(60, 64, 67, 0.3), 0px 1px 3px 1px rgba(60, 64, 67, 0.15);\n",
       "      fill: #174EA6;\n",
       "    }\n",
       "\n",
       "    [theme=dark] .colab-df-convert {\n",
       "      background-color: #3B4455;\n",
       "      fill: #D2E3FC;\n",
       "    }\n",
       "\n",
       "    [theme=dark] .colab-df-convert:hover {\n",
       "      background-color: #434B5C;\n",
       "      box-shadow: 0px 1px 3px 1px rgba(0, 0, 0, 0.15);\n",
       "      filter: drop-shadow(0px 1px 2px rgba(0, 0, 0, 0.3));\n",
       "      fill: #FFFFFF;\n",
       "    }\n",
       "  </style>\n",
       "\n",
       "      <script>\n",
       "        const buttonEl =\n",
       "          document.querySelector('#df-dfea92b3-bb1d-44cc-b417-8fc866c0de19 button.colab-df-convert');\n",
       "        buttonEl.style.display =\n",
       "          google.colab.kernel.accessAllowed ? 'block' : 'none';\n",
       "\n",
       "        async function convertToInteractive(key) {\n",
       "          const element = document.querySelector('#df-dfea92b3-bb1d-44cc-b417-8fc866c0de19');\n",
       "          const dataTable =\n",
       "            await google.colab.kernel.invokeFunction('convertToInteractive',\n",
       "                                                     [key], {});\n",
       "          if (!dataTable) return;\n",
       "\n",
       "          const docLinkHtml = 'Like what you see? Visit the ' +\n",
       "            '<a target=\"_blank\" href=https://colab.research.google.com/notebooks/data_table.ipynb>data table notebook</a>'\n",
       "            + ' to learn more about interactive tables.';\n",
       "          element.innerHTML = '';\n",
       "          dataTable['output_type'] = 'display_data';\n",
       "          await google.colab.output.renderOutput(dataTable, element);\n",
       "          const docLink = document.createElement('div');\n",
       "          docLink.innerHTML = docLinkHtml;\n",
       "          element.appendChild(docLink);\n",
       "        }\n",
       "      </script>\n",
       "    </div>\n",
       "  </div>\n",
       "  "
      ],
      "text/plain": [
       "      MPG  Cylinders  Displacement  Horsepower  Weight  Acceleration  \\\n",
       "126  21.0          6         200.0   94.375298    2875          17.0   \n",
       "374  23.0          4         151.0   74.939384    3035          20.5   \n",
       "336  23.6          4         140.0   98.240267    2905          14.3   \n",
       "354  34.5          4         100.0   76.507448    2320          15.8   \n",
       "32   25.0          4          98.0   59.461251    2046          19.0   \n",
       "\n",
       "     Model Year  America  Europe  Japan  \n",
       "126          74        1       0      0  \n",
       "374          82        1       0      0  \n",
       "336          80        1       0      0  \n",
       "354          81        0       1      0  \n",
       "32           71        1       0      0  "
      ]
     },
     "execution_count": 512,
     "metadata": {},
     "output_type": "execute_result"
    }
   ],
   "source": [
    "# 欠損値を除いたデータで値を予測\n",
    "x = non_data.drop(['Horsepower'], axis=1)\n",
    "pred = hp_regret_model.predict(x)\n",
    "\n",
    "# 予測した値をセット\n",
    "train_val2 = train_val.copy()\n",
    "train_val2.loc[condition, 'Horsepower'] = pred\n",
    "\n",
    "train_val2.loc[condition]"
   ]
  },
  {
   "cell_type": "markdown",
   "metadata": {
    "id": "0g17f2gNX1JA"
   },
   "source": [
    "外れ値処理"
   ]
  },
  {
   "cell_type": "code",
   "execution_count": null,
   "metadata": {
    "colab": {
     "base_uri": "https://localhost:8080/",
     "height": 1000
    },
    "id": "L45dh32ncXNN",
    "outputId": "d4c8e3a9-3d90-4d45-e3bd-0e4c0bc4cc3b"
   },
   "outputs": [
    {
     "data": {
      "image/png": "[encoded data removed]",
      "text/plain": [
       "<Figure size 432x288 with 1 Axes>"
      ]
     },
     "metadata": {
      "needs_background": "light"
     },
     "output_type": "display_data"
    },
    {
     "data": {
      "image/png": "[encoded data removed]",
      "text/plain": [
       "<Figure size 432x288 with 1 Axes>"
      ]
     },
     "metadata": {
      "needs_background": "light"
     },
     "output_type": "display_data"
    },
    {
     "data": {
      "image/png": "[encoded data removed]",
      "text/plain": [
       "<Figure size 432x288 with 1 Axes>"
      ]
     },
     "metadata": {
      "needs_background": "light"
     },
     "output_type": "display_data"
    },
    {
     "data": {
      "image/png": "[encoded data removed]",
      "text/plain": [
       "<Figure size 432x288 with 1 Axes>"
      ]
     },
     "metadata": {
      "needs_background": "light"
     },
     "output_type": "display_data"
    },
    {
     "data": {
      "image/png": "[encoded data removed]",
      "text/plain": [
       "<Figure size 432x288 with 1 Axes>"
      ]
     },
     "metadata": {
      "needs_background": "light"
     },
     "output_type": "display_data"
    },
    {
     "data": {
      "image/png": "[encoded data removed]",
      "text/plain": [
       "<Figure size 432x288 with 1 Axes>"
      ]
     },
     "metadata": {
      "needs_background": "light"
     },
     "output_type": "display_data"
    },
    {
     "data": {
      "image/png": "[encoded data removed]",
      "text/plain": [
       "<Figure size 432x288 with 1 Axes>"
      ]
     },
     "metadata": {
      "needs_background": "light"
     },
     "output_type": "display_data"
    },
    {
     "data": {
      "image/png": "[encoded data removed]",
      "text/plain": [
       "<Figure size 432x288 with 1 Axes>"
      ]
     },
     "metadata": {
      "needs_background": "light"
     },
     "output_type": "display_data"
    },
    {
     "data": {
      "image/png": "[encoded data removed]",
      "text/plain": [
       "<Figure size 432x288 with 1 Axes>"
      ]
     },
     "metadata": {
      "needs_background": "light"
     },
     "output_type": "display_data"
    },
    {
     "data": {
      "image/png": "[encoded data removed]",
      "text/plain": [
       "<Figure size 432x288 with 1 Axes>"
      ]
     },
     "metadata": {
      "needs_background": "light"
     },
     "output_type": "display_data"
    }
   ],
   "source": [
    "plot_scatter(train_val2, t_col=t_col)"
   ]
  },
  {
   "cell_type": "markdown",
   "metadata": {
    "id": "ynszSh2Rhrw4"
   },
   "source": [
    "大きな外れ値はないので、Displacementに絞ってマハラノビス距離による処理を行う"
   ]
  },
  {
   "cell_type": "code",
   "execution_count": null,
   "metadata": {
    "colab": {
     "base_uri": "https://localhost:8080/"
    },
    "id": "mobwse52X2aK",
    "outputId": "9625af06-9b06-4311-e63c-6cb4a597a627"
   },
   "outputs": [
    {
     "data": {
      "text/plain": [
       "0      1.455228\n",
       "1      1.071633\n",
       "2      4.943225\n",
       "3      1.326861\n",
       "4      2.993683\n",
       "         ...   \n",
       "313    1.224605\n",
       "314    0.940060\n",
       "315    1.684056\n",
       "316    0.279626\n",
       "317    2.139888\n",
       "Length: 318, dtype: float64"
      ]
     },
     "execution_count": 514,
     "metadata": {},
     "output_type": "execute_result"
    }
   ],
   "source": [
    "# マハラノビス距離を計算\n",
    "mcd = MinCovDet(random_state=0, support_fraction=0.7)\n",
    "train_val2_tmp = train_val2[['MPG', 'Displacement']]\n",
    "mcd.fit(train_val2_tmp)\n",
    "\n",
    "distance = pd.Series(mcd.mahalanobis(train_val2_tmp))\n",
    "distance"
   ]
  },
  {
   "cell_type": "code",
   "execution_count": null,
   "metadata": {
    "colab": {
     "base_uri": "https://localhost:8080/",
     "height": 282
    },
    "id": "Sf_LG1wGZEAv",
    "outputId": "c0b21ea3-cfea-4625-f7f7-6e3d53375f12"
   },
   "outputs": [
    {
     "data": {
      "text/plain": [
       "<matplotlib.axes._subplots.AxesSubplot at 0x7fdeca50d110>"
      ]
     },
     "execution_count": 515,
     "metadata": {},
     "output_type": "execute_result"
    },
    {
     "data": {
      "image/png": "[encoded data removed]",
      "text/plain": [
       "<Figure size 432x288 with 1 Axes>"
      ]
     },
     "metadata": {
      "needs_background": "light"
     },
     "output_type": "display_data"
    }
   ],
   "source": [
    "# マハラノビス距離の分布を確認\n",
    "distance.plot(kind='box')"
   ]
  },
  {
   "cell_type": "code",
   "execution_count": null,
   "metadata": {
    "colab": {
     "base_uri": "https://localhost:8080/",
     "height": 282
    },
    "id": "ei-BMeTHgOZv",
    "outputId": "9235a4e4-6878-473c-9a58-e8f6b2840922"
   },
   "outputs": [
    {
     "data": {
      "text/plain": [
       "<matplotlib.axes._subplots.AxesSubplot at 0x7fdeca17da90>"
      ]
     },
     "execution_count": 516,
     "metadata": {},
     "output_type": "execute_result"
    },
    {
     "data": {
      "image/png": "[encoded data removed]",
      "text/plain": [
       "<Figure size 432x288 with 1 Axes>"
      ]
     },
     "metadata": {
      "needs_background": "light"
     },
     "output_type": "display_data"
    }
   ],
   "source": [
    "distance.plot(kind='hist')"
   ]
  },
  {
   "cell_type": "code",
   "execution_count": null,
   "metadata": {
    "colab": {
     "base_uri": "https://localhost:8080/"
    },
    "id": "lnXbuSezZSHR",
    "outputId": "27cb86ab-f106-4805-8ba5-4f7d38ef5aae"
   },
   "outputs": [
    {
     "data": {
      "text/plain": [
       "9      11.478747\n",
       "11     10.014477\n",
       "14      9.834394\n",
       "24      8.069530\n",
       "39     32.378733\n",
       "54     10.271539\n",
       "55     25.695207\n",
       "56     15.539153\n",
       "64      9.544133\n",
       "76      7.307540\n",
       "77     10.342869\n",
       "81      8.486013\n",
       "101     7.359276\n",
       "109    22.906983\n",
       "122    35.773921\n",
       "130     7.991443\n",
       "135    13.806470\n",
       "144    12.469167\n",
       "146    11.752546\n",
       "147    10.014477\n",
       "150    10.249870\n",
       "172    25.566809\n",
       "179     7.060391\n",
       "191    11.748692\n",
       "201     9.016581\n",
       "209    26.638895\n",
       "220     7.845478\n",
       "222    10.249870\n",
       "225     7.486647\n",
       "227     8.096169\n",
       "246    11.338615\n",
       "247    17.856660\n",
       "271    22.054448\n",
       "286     7.474337\n",
       "292     7.419643\n",
       "dtype: float64"
      ]
     },
     "execution_count": 517,
     "metadata": {},
     "output_type": "execute_result"
    }
   ],
   "source": [
    "# 四分位範囲を用いて外れ値のindexを確認\n",
    "tmp = distance.describe()\n",
    "\n",
    "iqr = tmp['75%'] - tmp['25%']\n",
    "jougen = 1.5 * iqr + tmp['75%']\n",
    "kagen = tmp['25%'] -1.5 * iqr\n",
    "outliner = distance[(distance < kagen) | (jougen < distance)]\n",
    "outliner"
   ]
  },
  {
   "cell_type": "code",
   "execution_count": null,
   "metadata": {
    "colab": {
     "base_uri": "https://localhost:8080/",
     "height": 282
    },
    "id": "0r96xQVTgJQ6",
    "outputId": "dcf81c89-3769-4fd4-f2ec-dc8a9fd4d0b5"
   },
   "outputs": [
    {
     "data": {
      "text/plain": [
       "<matplotlib.axes._subplots.AxesSubplot at 0x7fdec9b08450>"
      ]
     },
     "execution_count": 518,
     "metadata": {},
     "output_type": "execute_result"
    },
    {
     "data": {
      "image/png": "[encoded data removed]",
      "text/plain": [
       "<Figure size 432x288 with 1 Axes>"
      ]
     },
     "metadata": {
      "needs_background": "light"
     },
     "output_type": "display_data"
    }
   ],
   "source": [
    "# 削除後のマハラノビス距離の分布を確認\n",
    "distance2 = distance.drop(outliner.index)\n",
    "distance2.plot(kind='box')"
   ]
  },
  {
   "cell_type": "code",
   "execution_count": null,
   "metadata": {
    "colab": {
     "base_uri": "https://localhost:8080/",
     "height": 282
    },
    "id": "Tec3NvEagZlX",
    "outputId": "bf041c4d-51a2-4715-b0b8-fbf276be30b8"
   },
   "outputs": [
    {
     "data": {
      "text/plain": [
       "<matplotlib.axes._subplots.AxesSubplot at 0x7fdec9e6fe50>"
      ]
     },
     "execution_count": 519,
     "metadata": {},
     "output_type": "execute_result"
    },
    {
     "data": {
      "image/png": "[encoded data removed]",
      "text/plain": [
       "<Figure size 432x288 with 1 Axes>"
      ]
     },
     "metadata": {
      "needs_background": "light"
     },
     "output_type": "display_data"
    }
   ],
   "source": [
    "distance2.plot(kind='hist')"
   ]
  },
  {
   "cell_type": "code",
   "execution_count": null,
   "metadata": {
    "id": "YqNzBm62jMio"
   },
   "outputs": [],
   "source": [
    "# 外れ値を除去\n",
    "# outlinerはdistanceのインデックス番号の為、train_val2のインデックスラベルに置き換えて処理を行う\n",
    "train_val3 = train_val2.drop(index=train_val2.index[outliner.index], axis=0)"
   ]
  },
  {
   "cell_type": "code",
   "execution_count": null,
   "metadata": {
    "colab": {
     "base_uri": "https://localhost:8080/",
     "height": 1000
    },
    "id": "VBYu2yiOemB8",
    "outputId": "9e013912-955b-4d94-c328-3c9e9d850d87"
   },
   "outputs": [
    {
     "data": {
      "image/png": "[encoded data removed]",
      "text/plain": [
       "<Figure size 432x288 with 1 Axes>"
      ]
     },
     "metadata": {
      "needs_background": "light"
     },
     "output_type": "display_data"
    },
    {
     "data": {
      "image/png": "[encoded data removed]",
      "text/plain": [
       "<Figure size 432x288 with 1 Axes>"
      ]
     },
     "metadata": {
      "needs_background": "light"
     },
     "output_type": "display_data"
    },
    {
     "data": {
      "image/png": "[encoded data removed]",
      "text/plain": [
       "<Figure size 432x288 with 1 Axes>"
      ]
     },
     "metadata": {
      "needs_background": "light"
     },
     "output_type": "display_data"
    },
    {
     "data": {
      "image/png": "[encoded data removed]",
      "text/plain": [
       "<Figure size 432x288 with 1 Axes>"
      ]
     },
     "metadata": {
      "needs_background": "light"
     },
     "output_type": "display_data"
    },
    {
     "data": {
      "image/png": "[encoded data removed]",
      "text/plain": [
       "<Figure size 432x288 with 1 Axes>"
      ]
     },
     "metadata": {
      "needs_background": "light"
     },
     "output_type": "display_data"
    },
    {
     "data": {
      "image/png": "[encoded data removed]",
      "text/plain": [
       "<Figure size 432x288 with 1 Axes>"
      ]
     },
     "metadata": {
      "needs_background": "light"
     },
     "output_type": "display_data"
    },
    {
     "data": {
      "image/png": "[encoded data removed]",
      "text/plain": [
       "<Figure size 432x288 with 1 Axes>"
      ]
     },
     "metadata": {
      "needs_background": "light"
     },
     "output_type": "display_data"
    },
    {
     "data": {
      "image/png": "[encoded data removed]",
      "text/plain": [
       "<Figure size 432x288 with 1 Axes>"
      ]
     },
     "metadata": {
      "needs_background": "light"
     },
     "output_type": "display_data"
    },
    {
     "data": {
      "image/png": "[encoded data removed]",
      "text/plain": [
       "<Figure size 432x288 with 1 Axes>"
      ]
     },
     "metadata": {
      "needs_background": "light"
     },
     "output_type": "display_data"
    },
    {
     "data": {
      "image/png": "[encoded data removed]",
      "text/plain": [
       "<Figure size 432x288 with 1 Axes>"
      ]
     },
     "metadata": {
      "needs_background": "light"
     },
     "output_type": "display_data"
    }
   ],
   "source": [
    "# 削除後の散布図を確認\n",
    "plot_scatter(train_val3, t_col=t_col)"
   ]
  },
  {
   "cell_type": "markdown",
   "metadata": {
    "id": "pADtEVWjb_L7"
   },
   "source": [
    "学習開始"
   ]
  },
  {
   "cell_type": "code",
   "execution_count": null,
   "metadata": {
    "id": "CPno74oNuwtW"
   },
   "outputs": [],
   "source": [
    "# 正解データの抽出、標準化\n",
    "y_train = train_val3.loc[:, [t_col]]\n",
    "sc_y = StandardScaler()\n",
    "sc_y_train = sc_y.fit_transform(y_train)"
   ]
  },
  {
   "cell_type": "code",
   "execution_count": null,
   "metadata": {
    "colab": {
     "base_uri": "https://localhost:8080/"
    },
    "id": "ZfopSpQNr11i",
    "outputId": "a301aeb5-d950-49cc-d16b-75b49ef1b888"
   },
   "outputs": [
    {
     "name": "stdout",
     "output_type": "stream",
     "text": [
      "正解データ「MPG」に対する各特徴量の相関係数\n",
      "--- 非常に強い相関(0.9以上) ---\n",
      "\n",
      "--- 強い相関(0.7以上) ---\n",
      "Weight  \t0.87119\n",
      "Displacement\t0.86421\n",
      "Cylinders\t0.83398\n",
      "Horsepower\t0.81900\n",
      "\n",
      "--- 相関あり(0.5以上) ---\n",
      "America \t0.55801\n",
      "\n",
      "--- 弱い相関(0.3以上) ---\n",
      "Model Year\t0.46965\n",
      "Japan   \t0.43903\n",
      "Acceleration\t0.41440\n",
      "\n",
      "--- 相関なし(0.3未満) ---\n",
      "Europe  \t0.26371\n",
      "\n"
     ]
    }
   ],
   "source": [
    "# 相関係数を確認\n",
    "print_corrs(train_val3, t_col=t_col)"
   ]
  },
  {
   "cell_type": "markdown",
   "metadata": {
    "id": "ERJNgIJ5vVRs"
   },
   "source": [
    "強い相関のあるWeight, Displacement, Horspower, Cylindersについて重回帰分析を行う"
   ]
  },
  {
   "cell_type": "code",
   "execution_count": null,
   "metadata": {
    "colab": {
     "base_uri": "https://localhost:8080/",
     "height": 206
    },
    "id": "RKg_gHUnutlA",
    "outputId": "afa4a8d8-4b78-4b17-a514-5cdbcb0d5381"
   },
   "outputs": [
    {
     "data": {
      "text/html": [
       "\n",
       "  <div id=\"df-4c528bdb-f31b-42c7-8d8d-b7b12d91e6ba\">\n",
       "    <div class=\"colab-df-container\">\n",
       "      <div>\n",
       "<style scoped>\n",
       "    .dataframe tbody tr th:only-of-type {\n",
       "        vertical-align: middle;\n",
       "    }\n",
       "\n",
       "    .dataframe tbody tr th {\n",
       "        vertical-align: top;\n",
       "    }\n",
       "\n",
       "    .dataframe thead th {\n",
       "        text-align: right;\n",
       "    }\n",
       "</style>\n",
       "<table border=\"1\" class=\"dataframe\">\n",
       "  <thead>\n",
       "    <tr style=\"text-align: right;\">\n",
       "      <th></th>\n",
       "      <th>Weight</th>\n",
       "      <th>Displacement</th>\n",
       "      <th>Horsepower</th>\n",
       "      <th>Cylinders</th>\n",
       "    </tr>\n",
       "  </thead>\n",
       "  <tbody>\n",
       "    <tr>\n",
       "      <th>64</th>\n",
       "      <td>4135</td>\n",
       "      <td>318.0</td>\n",
       "      <td>150.0</td>\n",
       "      <td>8</td>\n",
       "    </tr>\n",
       "    <tr>\n",
       "      <th>55</th>\n",
       "      <td>1834</td>\n",
       "      <td>97.0</td>\n",
       "      <td>60.0</td>\n",
       "      <td>4</td>\n",
       "    </tr>\n",
       "    <tr>\n",
       "      <th>317</th>\n",
       "      <td>2188</td>\n",
       "      <td>97.0</td>\n",
       "      <td>78.0</td>\n",
       "      <td>4</td>\n",
       "    </tr>\n",
       "    <tr>\n",
       "      <th>102</th>\n",
       "      <td>1950</td>\n",
       "      <td>97.0</td>\n",
       "      <td>46.0</td>\n",
       "      <td>4</td>\n",
       "    </tr>\n",
       "    <tr>\n",
       "      <th>358</th>\n",
       "      <td>2635</td>\n",
       "      <td>120.0</td>\n",
       "      <td>74.0</td>\n",
       "      <td>4</td>\n",
       "    </tr>\n",
       "  </tbody>\n",
       "</table>\n",
       "</div>\n",
       "      <button class=\"colab-df-convert\" onclick=\"convertToInteractive('df-4c528bdb-f31b-42c7-8d8d-b7b12d91e6ba')\"\n",
       "              title=\"Convert this dataframe to an interactive table.\"\n",
       "              style=\"display:none;\">\n",
       "        \n",
       "  <svg xmlns=\"http://www.w3.org/2000/svg\" height=\"24px\"viewBox=\"0 0 24 24\"\n",
       "       width=\"24px\">\n",
       "    <path d=\"M0 0h24v24H0V0z\" fill=\"none\"/>\n",
       "    <path d=\"M18.56 5.44l.94 2.06.94-2.06 2.06-.94-2.06-.94-.94-2.06-.94 2.06-2.06.94zm-11 1L8.5 8.5l.94-2.06 2.06-.94-2.06-.94L8.5 2.5l-.94 2.06-2.06.94zm10 10l.94 2.06.94-2.06 2.06-.94-2.06-.94-.94-2.06-.94 2.06-2.06.94z\"/><path d=\"M17.41 7.96l-1.37-1.37c-.4-.4-.92-.59-1.43-.59-.52 0-1.04.2-1.43.59L10.3 9.45l-7.72 7.72c-.78.78-.78 2.05 0 2.83L4 21.41c.39.39.9.59 1.41.59.51 0 1.02-.2 1.41-.59l7.78-7.78 2.81-2.81c.8-.78.8-2.07 0-2.86zM5.41 20L4 18.59l7.72-7.72 1.47 1.35L5.41 20z\"/>\n",
       "  </svg>\n",
       "      </button>\n",
       "      \n",
       "  <style>\n",
       "    .colab-df-container {\n",
       "      display:flex;\n",
       "      flex-wrap:wrap;\n",
       "      gap: 12px;\n",
       "    }\n",
       "\n",
       "    .colab-df-convert {\n",
       "      background-color: #E8F0FE;\n",
       "      border: none;\n",
       "      border-radius: 50%;\n",
       "      cursor: pointer;\n",
       "      display: none;\n",
       "      fill: #1967D2;\n",
       "      height: 32px;\n",
       "      padding: 0 0 0 0;\n",
       "      width: 32px;\n",
       "    }\n",
       "\n",
       "    .colab-df-convert:hover {\n",
       "      background-color: #E2EBFA;\n",
       "      box-shadow: 0px 1px 2px rgba(60, 64, 67, 0.3), 0px 1px 3px 1px rgba(60, 64, 67, 0.15);\n",
       "      fill: #174EA6;\n",
       "    }\n",
       "\n",
       "    [theme=dark] .colab-df-convert {\n",
       "      background-color: #3B4455;\n",
       "      fill: #D2E3FC;\n",
       "    }\n",
       "\n",
       "    [theme=dark] .colab-df-convert:hover {\n",
       "      background-color: #434B5C;\n",
       "      box-shadow: 0px 1px 3px 1px rgba(0, 0, 0, 0.15);\n",
       "      filter: drop-shadow(0px 1px 2px rgba(0, 0, 0, 0.3));\n",
       "      fill: #FFFFFF;\n",
       "    }\n",
       "  </style>\n",
       "\n",
       "      <script>\n",
       "        const buttonEl =\n",
       "          document.querySelector('#df-4c528bdb-f31b-42c7-8d8d-b7b12d91e6ba button.colab-df-convert');\n",
       "        buttonEl.style.display =\n",
       "          google.colab.kernel.accessAllowed ? 'block' : 'none';\n",
       "\n",
       "        async function convertToInteractive(key) {\n",
       "          const element = document.querySelector('#df-4c528bdb-f31b-42c7-8d8d-b7b12d91e6ba');\n",
       "          const dataTable =\n",
       "            await google.colab.kernel.invokeFunction('convertToInteractive',\n",
       "                                                     [key], {});\n",
       "          if (!dataTable) return;\n",
       "\n",
       "          const docLinkHtml = 'Like what you see? Visit the ' +\n",
       "            '<a target=\"_blank\" href=https://colab.research.google.com/notebooks/data_table.ipynb>data table notebook</a>'\n",
       "            + ' to learn more about interactive tables.';\n",
       "          element.innerHTML = '';\n",
       "          dataTable['output_type'] = 'display_data';\n",
       "          await google.colab.output.renderOutput(dataTable, element);\n",
       "          const docLink = document.createElement('div');\n",
       "          docLink.innerHTML = docLinkHtml;\n",
       "          element.appendChild(docLink);\n",
       "        }\n",
       "      </script>\n",
       "    </div>\n",
       "  </div>\n",
       "  "
      ],
      "text/plain": [
       "     Weight  Displacement  Horsepower  Cylinders\n",
       "64     4135         318.0       150.0          8\n",
       "55     1834          97.0        60.0          4\n",
       "317    2188          97.0        78.0          4\n",
       "102    1950          97.0        46.0          4\n",
       "358    2635         120.0        74.0          4"
      ]
     },
     "execution_count": 524,
     "metadata": {},
     "output_type": "execute_result"
    }
   ],
   "source": [
    "x_col_LR = ['Weight', 'Displacement', 'Horsepower', 'Cylinders']\n",
    "x_train_LR = train_val3.loc[:, x_col_LR]\n",
    "x_train_LR.head()"
   ]
  },
  {
   "cell_type": "code",
   "execution_count": null,
   "metadata": {
    "colab": {
     "base_uri": "https://localhost:8080/"
    },
    "id": "4UiwzcjeplZH",
    "outputId": "d1ebecf6-434a-4388-fc44-626d109dd94e"
   },
   "outputs": [
    {
     "name": "stdout",
     "output_type": "stream",
     "text": [
      "x_score: 0.779, t_score: 0.800\n"
     ]
    }
   ],
   "source": [
    "# 特徴量データの標準化し、学習\n",
    "sc_x_LR0 = StandardScaler()\n",
    "sc_x_train_LR0 = sc_x_LR0.fit_transform(x_train_LR)\n",
    "model_LR0 = LinearRegression()\n",
    "x_score, t_score = learn(sc_x_train_LR0, sc_y_train, model_LR0)\n",
    "print(f\"x_score: {x_score:.3f}, t_score: {t_score:.3f}\")\n"
   ]
  },
  {
   "cell_type": "code",
   "execution_count": null,
   "metadata": {
    "colab": {
     "base_uri": "https://localhost:8080/"
    },
    "id": "VTEtr2-Dsg6v",
    "outputId": "dfeafbc6-1b44-4651-84a0-4128768e42e6"
   },
   "outputs": [
    {
     "data": {
      "text/plain": [
       "array(['Weight', 'Displacement', 'Horsepower', 'Cylinders', 'Weight^2',\n",
       "       'Weight Displacement', 'Weight Horsepower', 'Weight Cylinders',\n",
       "       'Displacement^2', 'Displacement Horsepower',\n",
       "       'Displacement Cylinders', 'Horsepower^2', 'Horsepower Cylinders',\n",
       "       'Cylinders^2'], dtype=object)"
      ]
     },
     "execution_count": 525,
     "metadata": {},
     "output_type": "execute_result"
    }
   ],
   "source": [
    "# 累乗列と交互作用特徴量を一括追加\n",
    "pf_LR = PolynomialFeatures(degree=2, include_bias=False)\n",
    "pf_x_train_LR = pf_LR.fit_transform(x_train_LR)\n",
    "\n",
    "# ..._out()を使うと元の列名を使ってくれるようです\n",
    "pf_LR.get_feature_names_out()"
   ]
  },
  {
   "cell_type": "code",
   "execution_count": null,
   "metadata": {
    "colab": {
     "base_uri": "https://localhost:8080/",
     "height": 288
    },
    "id": "wSwdg9BQwAU5",
    "outputId": "0132a10c-2860-4b1c-f482-4ac2d5a9e2ae"
   },
   "outputs": [
    {
     "data": {
      "text/html": [
       "\n",
       "  <div id=\"df-61721062-2ade-447e-99d4-8804e429c213\">\n",
       "    <div class=\"colab-df-container\">\n",
       "      <div>\n",
       "<style scoped>\n",
       "    .dataframe tbody tr th:only-of-type {\n",
       "        vertical-align: middle;\n",
       "    }\n",
       "\n",
       "    .dataframe tbody tr th {\n",
       "        vertical-align: top;\n",
       "    }\n",
       "\n",
       "    .dataframe thead th {\n",
       "        text-align: right;\n",
       "    }\n",
       "</style>\n",
       "<table border=\"1\" class=\"dataframe\">\n",
       "  <thead>\n",
       "    <tr style=\"text-align: right;\">\n",
       "      <th></th>\n",
       "      <th>Weight</th>\n",
       "      <th>Displacement</th>\n",
       "      <th>Horsepower</th>\n",
       "      <th>Cylinders</th>\n",
       "      <th>Weight^2</th>\n",
       "      <th>Weight Displacement</th>\n",
       "      <th>Weight Horsepower</th>\n",
       "      <th>Weight Cylinders</th>\n",
       "      <th>Displacement^2</th>\n",
       "      <th>Displacement Horsepower</th>\n",
       "      <th>Displacement Cylinders</th>\n",
       "      <th>Horsepower^2</th>\n",
       "      <th>Horsepower Cylinders</th>\n",
       "      <th>Cylinders^2</th>\n",
       "    </tr>\n",
       "  </thead>\n",
       "  <tbody>\n",
       "    <tr>\n",
       "      <th>0</th>\n",
       "      <td>4135.0</td>\n",
       "      <td>318.0</td>\n",
       "      <td>150.0</td>\n",
       "      <td>8.0</td>\n",
       "      <td>17098225.0</td>\n",
       "      <td>1314930.0</td>\n",
       "      <td>620250.0</td>\n",
       "      <td>33080.0</td>\n",
       "      <td>101124.0</td>\n",
       "      <td>47700.0</td>\n",
       "      <td>2544.0</td>\n",
       "      <td>22500.0</td>\n",
       "      <td>1200.0</td>\n",
       "      <td>64.0</td>\n",
       "    </tr>\n",
       "    <tr>\n",
       "      <th>1</th>\n",
       "      <td>1834.0</td>\n",
       "      <td>97.0</td>\n",
       "      <td>60.0</td>\n",
       "      <td>4.0</td>\n",
       "      <td>3363556.0</td>\n",
       "      <td>177898.0</td>\n",
       "      <td>110040.0</td>\n",
       "      <td>7336.0</td>\n",
       "      <td>9409.0</td>\n",
       "      <td>5820.0</td>\n",
       "      <td>388.0</td>\n",
       "      <td>3600.0</td>\n",
       "      <td>240.0</td>\n",
       "      <td>16.0</td>\n",
       "    </tr>\n",
       "    <tr>\n",
       "      <th>2</th>\n",
       "      <td>2188.0</td>\n",
       "      <td>97.0</td>\n",
       "      <td>78.0</td>\n",
       "      <td>4.0</td>\n",
       "      <td>4787344.0</td>\n",
       "      <td>212236.0</td>\n",
       "      <td>170664.0</td>\n",
       "      <td>8752.0</td>\n",
       "      <td>9409.0</td>\n",
       "      <td>7566.0</td>\n",
       "      <td>388.0</td>\n",
       "      <td>6084.0</td>\n",
       "      <td>312.0</td>\n",
       "      <td>16.0</td>\n",
       "    </tr>\n",
       "    <tr>\n",
       "      <th>3</th>\n",
       "      <td>1950.0</td>\n",
       "      <td>97.0</td>\n",
       "      <td>46.0</td>\n",
       "      <td>4.0</td>\n",
       "      <td>3802500.0</td>\n",
       "      <td>189150.0</td>\n",
       "      <td>89700.0</td>\n",
       "      <td>7800.0</td>\n",
       "      <td>9409.0</td>\n",
       "      <td>4462.0</td>\n",
       "      <td>388.0</td>\n",
       "      <td>2116.0</td>\n",
       "      <td>184.0</td>\n",
       "      <td>16.0</td>\n",
       "    </tr>\n",
       "    <tr>\n",
       "      <th>4</th>\n",
       "      <td>2635.0</td>\n",
       "      <td>120.0</td>\n",
       "      <td>74.0</td>\n",
       "      <td>4.0</td>\n",
       "      <td>6943225.0</td>\n",
       "      <td>316200.0</td>\n",
       "      <td>194990.0</td>\n",
       "      <td>10540.0</td>\n",
       "      <td>14400.0</td>\n",
       "      <td>8880.0</td>\n",
       "      <td>480.0</td>\n",
       "      <td>5476.0</td>\n",
       "      <td>296.0</td>\n",
       "      <td>16.0</td>\n",
       "    </tr>\n",
       "  </tbody>\n",
       "</table>\n",
       "</div>\n",
       "      <button class=\"colab-df-convert\" onclick=\"convertToInteractive('df-61721062-2ade-447e-99d4-8804e429c213')\"\n",
       "              title=\"Convert this dataframe to an interactive table.\"\n",
       "              style=\"display:none;\">\n",
       "        \n",
       "  <svg xmlns=\"http://www.w3.org/2000/svg\" height=\"24px\"viewBox=\"0 0 24 24\"\n",
       "       width=\"24px\">\n",
       "    <path d=\"M0 0h24v24H0V0z\" fill=\"none\"/>\n",
       "    <path d=\"M18.56 5.44l.94 2.06.94-2.06 2.06-.94-2.06-.94-.94-2.06-.94 2.06-2.06.94zm-11 1L8.5 8.5l.94-2.06 2.06-.94-2.06-.94L8.5 2.5l-.94 2.06-2.06.94zm10 10l.94 2.06.94-2.06 2.06-.94-2.06-.94-.94-2.06-.94 2.06-2.06.94z\"/><path d=\"M17.41 7.96l-1.37-1.37c-.4-.4-.92-.59-1.43-.59-.52 0-1.04.2-1.43.59L10.3 9.45l-7.72 7.72c-.78.78-.78 2.05 0 2.83L4 21.41c.39.39.9.59 1.41.59.51 0 1.02-.2 1.41-.59l7.78-7.78 2.81-2.81c.8-.78.8-2.07 0-2.86zM5.41 20L4 18.59l7.72-7.72 1.47 1.35L5.41 20z\"/>\n",
       "  </svg>\n",
       "      </button>\n",
       "      \n",
       "  <style>\n",
       "    .colab-df-container {\n",
       "      display:flex;\n",
       "      flex-wrap:wrap;\n",
       "      gap: 12px;\n",
       "    }\n",
       "\n",
       "    .colab-df-convert {\n",
       "      background-color: #E8F0FE;\n",
       "      border: none;\n",
       "      border-radius: 50%;\n",
       "      cursor: pointer;\n",
       "      display: none;\n",
       "      fill: #1967D2;\n",
       "      height: 32px;\n",
       "      padding: 0 0 0 0;\n",
       "      width: 32px;\n",
       "    }\n",
       "\n",
       "    .colab-df-convert:hover {\n",
       "      background-color: #E2EBFA;\n",
       "      box-shadow: 0px 1px 2px rgba(60, 64, 67, 0.3), 0px 1px 3px 1px rgba(60, 64, 67, 0.15);\n",
       "      fill: #174EA6;\n",
       "    }\n",
       "\n",
       "    [theme=dark] .colab-df-convert {\n",
       "      background-color: #3B4455;\n",
       "      fill: #D2E3FC;\n",
       "    }\n",
       "\n",
       "    [theme=dark] .colab-df-convert:hover {\n",
       "      background-color: #434B5C;\n",
       "      box-shadow: 0px 1px 3px 1px rgba(0, 0, 0, 0.15);\n",
       "      filter: drop-shadow(0px 1px 2px rgba(0, 0, 0, 0.3));\n",
       "      fill: #FFFFFF;\n",
       "    }\n",
       "  </style>\n",
       "\n",
       "      <script>\n",
       "        const buttonEl =\n",
       "          document.querySelector('#df-61721062-2ade-447e-99d4-8804e429c213 button.colab-df-convert');\n",
       "        buttonEl.style.display =\n",
       "          google.colab.kernel.accessAllowed ? 'block' : 'none';\n",
       "\n",
       "        async function convertToInteractive(key) {\n",
       "          const element = document.querySelector('#df-61721062-2ade-447e-99d4-8804e429c213');\n",
       "          const dataTable =\n",
       "            await google.colab.kernel.invokeFunction('convertToInteractive',\n",
       "                                                     [key], {});\n",
       "          if (!dataTable) return;\n",
       "\n",
       "          const docLinkHtml = 'Like what you see? Visit the ' +\n",
       "            '<a target=\"_blank\" href=https://colab.research.google.com/notebooks/data_table.ipynb>data table notebook</a>'\n",
       "            + ' to learn more about interactive tables.';\n",
       "          element.innerHTML = '';\n",
       "          dataTable['output_type'] = 'display_data';\n",
       "          await google.colab.output.renderOutput(dataTable, element);\n",
       "          const docLink = document.createElement('div');\n",
       "          docLink.innerHTML = docLinkHtml;\n",
       "          element.appendChild(docLink);\n",
       "        }\n",
       "      </script>\n",
       "    </div>\n",
       "  </div>\n",
       "  "
      ],
      "text/plain": [
       "   Weight  Displacement  Horsepower  Cylinders    Weight^2  \\\n",
       "0  4135.0         318.0       150.0        8.0  17098225.0   \n",
       "1  1834.0          97.0        60.0        4.0   3363556.0   \n",
       "2  2188.0          97.0        78.0        4.0   4787344.0   \n",
       "3  1950.0          97.0        46.0        4.0   3802500.0   \n",
       "4  2635.0         120.0        74.0        4.0   6943225.0   \n",
       "\n",
       "   Weight Displacement  Weight Horsepower  Weight Cylinders  Displacement^2  \\\n",
       "0            1314930.0           620250.0           33080.0        101124.0   \n",
       "1             177898.0           110040.0            7336.0          9409.0   \n",
       "2             212236.0           170664.0            8752.0          9409.0   \n",
       "3             189150.0            89700.0            7800.0          9409.0   \n",
       "4             316200.0           194990.0           10540.0         14400.0   \n",
       "\n",
       "   Displacement Horsepower  Displacement Cylinders  Horsepower^2  \\\n",
       "0                  47700.0                  2544.0       22500.0   \n",
       "1                   5820.0                   388.0        3600.0   \n",
       "2                   7566.0                   388.0        6084.0   \n",
       "3                   4462.0                   388.0        2116.0   \n",
       "4                   8880.0                   480.0        5476.0   \n",
       "\n",
       "   Horsepower Cylinders  Cylinders^2  \n",
       "0                1200.0         64.0  \n",
       "1                 240.0         16.0  \n",
       "2                 312.0         16.0  \n",
       "3                 184.0         16.0  \n",
       "4                 296.0         16.0  "
      ]
     },
     "execution_count": 526,
     "metadata": {},
     "output_type": "execute_result"
    }
   ],
   "source": [
    "# 特徴量を追加したデータをDataFrameに変換し、列名をつけなおす\n",
    "x_train_LR2 = pd.DataFrame(pf_x_train_LR)\n",
    "\n",
    "# LR_columns = ['Weight', 'Displacement', 'Horsepower', 'Cylinders', 'W2', 'WxD', 'WxH', 'WxC', 'D2', 'DxH', 'DxC', 'H2', 'HxC', 'C2']\n",
    "LR_columns = pf_LR.get_feature_names_out()\n",
    "\n",
    "x_train_LR2.columns = LR_columns\n",
    "x_train_LR2.head()"
   ]
  },
  {
   "cell_type": "code",
   "execution_count": null,
   "metadata": {
    "colab": {
     "base_uri": "https://localhost:8080/"
    },
    "id": "T1jHgC13ye2O",
    "outputId": "eb110b69-a71e-4273-8328-7db79df7f978"
   },
   "outputs": [
    {
     "name": "stdout",
     "output_type": "stream",
     "text": [
      "('Weight', 'Displacement', 'Horsepower', 'Cylinders', 'Weight^2', 'Weight Displacement', 'Weight Horsepower', 'Weight Cylinders', 'Displacement^2')\n",
      "... x_score: 0.8153, t_score: 0.8029\n",
      "\n",
      "('Weight', 'Displacement', 'Horsepower', 'Cylinders', 'Weight^2', 'Weight Displacement', 'Weight Horsepower', 'Weight Cylinders', 'Displacement Horsepower')\n",
      "... x_score: 0.8233, t_score: 0.8277\n",
      "\n",
      "('Weight', 'Displacement', 'Horsepower', 'Cylinders', 'Weight^2', 'Weight Displacement', 'Weight Horsepower', 'Displacement^2', 'Displacement Horsepower')\n",
      "... x_score: 0.8295, t_score: 0.8292\n",
      "\n",
      "('Weight', 'Displacement', 'Horsepower', 'Cylinders', 'Weight^2', 'Weight Horsepower', 'Weight Cylinders', 'Displacement^2', 'Displacement Horsepower')\n",
      "... x_score: 0.8258, t_score: 0.8333\n",
      "\n",
      "('Weight', 'Displacement', 'Horsepower', 'Cylinders', 'Weight^2', 'Weight Horsepower', 'Displacement^2', 'Displacement Horsepower', 'Displacement Cylinders')\n",
      "... x_score: 0.8239, t_score: 0.8337\n",
      "\n",
      "('Weight', 'Displacement', 'Horsepower', 'Cylinders', 'Weight^2', 'Weight Horsepower', 'Displacement^2', 'Displacement Horsepower', 'Horsepower^2')\n",
      "... x_score: 0.8256, t_score: 0.8341\n",
      "\n",
      "('Weight', 'Displacement', 'Horsepower', 'Cylinders', 'Weight^2', 'Weight Horsepower', 'Displacement^2', 'Displacement Horsepower', 'Cylinders^2')\n",
      "... x_score: 0.8249, t_score: 0.8365\n",
      "\n",
      "('Weight', 'Displacement', 'Horsepower', 'Cylinders', 'Weight^2', 'Weight Horsepower', 'Displacement Horsepower', 'Displacement Cylinders', 'Cylinders^2')\n",
      "... x_score: 0.8262, t_score: 0.8397\n",
      "\n",
      "('Weight', 'Displacement', 'Horsepower', 'Cylinders', 'Weight Displacement', 'Weight Horsepower', 'Displacement Horsepower', 'Displacement Cylinders', 'Cylinders^2')\n",
      "... x_score: 0.8313, t_score: 0.8425\n",
      "\n",
      "('Weight', 'Displacement', 'Cylinders', 'Weight Displacement', 'Weight Horsepower', 'Displacement Horsepower', 'Displacement Cylinders', 'Horsepower^2', 'Cylinders^2')\n",
      "... x_score: 0.8317, t_score: 0.8425\n",
      "\n",
      "('Weight', 'Horsepower', 'Cylinders', 'Weight^2', 'Weight Displacement', 'Weight Horsepower', 'Displacement Horsepower', 'Displacement Cylinders', 'Cylinders^2')\n",
      "... x_score: 0.8291, t_score: 0.8432\n",
      "\n",
      "('Weight', 'Horsepower', 'Cylinders', 'Weight^2', 'Weight Horsepower', 'Displacement Horsepower', 'Displacement Cylinders', 'Horsepower^2', 'Cylinders^2')\n",
      "... x_score: 0.8280, t_score: 0.8432\n",
      "\n",
      "('Weight', 'Horsepower', 'Cylinders', 'Weight Displacement', 'Weight Horsepower', 'Displacement Horsepower', 'Displacement Cylinders', 'Horsepower^2', 'Cylinders^2')\n",
      "... x_score: 0.8307, t_score: 0.8442\n",
      "\n",
      "('Horsepower', 'Cylinders', 'Weight Displacement', 'Weight Horsepower', 'Weight Cylinders', 'Displacement Horsepower', 'Displacement Cylinders', 'Horsepower^2', 'Cylinders^2')\n",
      "... x_score: 0.8307, t_score: 0.8443\n",
      "\n",
      "('Horsepower', 'Cylinders', 'Weight Displacement', 'Weight Horsepower', 'Displacement^2', 'Displacement Horsepower', 'Displacement Cylinders', 'Horsepower^2', 'Cylinders^2')\n",
      "... x_score: 0.8306, t_score: 0.8448\n",
      "\n",
      "\n",
      "特徴量として('Horsepower', 'Cylinders', 'Weight Displacement', 'Weight Horsepower', 'Displacement^2', 'Displacement Horsepower', 'Displacement Cylinders', 'Horsepower^2', 'Cylinders^2')を選択したとき\n",
      "決定係数が最大値 0.8448となる\n"
     ]
    }
   ],
   "source": [
    "# 特徴量として最適な組み合わせを探索\n",
    "# 処理時間の都合で、もともとあった特徴量はそのまま利用し、累乗列と交互作用特徴量のみで組み合わせる\n",
    "import itertools, copy\n",
    "\n",
    "max_score = 0\n",
    "LR_pattern = []\n",
    "LR_model = None\n",
    "sc_x_LR = None\n",
    "\n",
    "# 累乗、交互作用特徴量の列名を取り出す\n",
    "tmp = LR_columns[:]\n",
    "\n",
    "# 時短のため9以上の組み合わせから全パターンを試行\n",
    "for i in range(8, len(tmp)):\n",
    "  for pattern in itertools.combinations(tmp, i+1):\n",
    "    # print(pattern)\n",
    "    # x_tmp_col = copy.copy(x_col_LR)\n",
    "    # x_tmp_col += pattern\n",
    "    # x_tmp = x_train_LR2.loc[:, x_tmp_col]\n",
    "    x_tmp = x_train_LR2.loc[:, pattern]\n",
    "\n",
    "    model = LinearRegression()\n",
    "\n",
    "    # 標準化\n",
    "    sc_tmp = StandardScaler()\n",
    "    sc_x_tmp = sc_tmp.fit_transform(x_tmp)\n",
    "\n",
    "    x_score, t_score = learn(sc_x_tmp, sc_y_train, model)\n",
    "\n",
    "    if t_score > max_score:\n",
    "      # print(x_tmp_col)\n",
    "      print(pattern)\n",
    "      print(f\"... x_score: {x_score:.4f}, t_score: {t_score:.4f}\")\n",
    "      print()\n",
    "      max_score = t_score\n",
    "      # LR_pattern = x_tmp_col\n",
    "      LR_pattern = pattern\n",
    "      LR_model = model\n",
    "      sc_x_LR = sc_tmp\n",
    "\n",
    "print()\n",
    "print(f'特徴量として{LR_pattern}を選択したとき')\n",
    "print(f'決定係数が最大値 {max_score:.4f}となる')"
   ]
  },
  {
   "cell_type": "code",
   "execution_count": null,
   "metadata": {
    "colab": {
     "base_uri": "https://localhost:8080/"
    },
    "id": "D4MzanaVnsuF",
    "outputId": "d8ab3151-1f5c-42a7-a4a9-593587281d05"
   },
   "outputs": [
    {
     "data": {
      "text/plain": [
       "array([[ 0.13118341, -2.75081288,  2.36221684, -2.5404938 ,  0.29583868,\n",
       "         4.33254408, -7.50889041, -0.78665681,  5.60762318]])"
      ]
     },
     "execution_count": 528,
     "metadata": {},
     "output_type": "execute_result"
    }
   ],
   "source": [
    "LR_model.coef_"
   ]
  },
  {
   "cell_type": "markdown",
   "metadata": {
    "id": "zMxeoUHL-hny"
   },
   "source": [
    "リッジ回帰を行う"
   ]
  },
  {
   "cell_type": "code",
   "execution_count": null,
   "metadata": {
    "colab": {
     "base_uri": "https://localhost:8080/"
    },
    "id": "dGZETJ1o--31",
    "outputId": "eecd0f89-f2e5-473b-d090-ca2fc1e40d62"
   },
   "outputs": [
    {
     "data": {
      "text/plain": [
       "array(['1', 'Cylinders', 'Displacement', 'Horsepower', 'Weight',\n",
       "       'Acceleration', 'Model Year', 'America', 'Europe', 'Japan',\n",
       "       'Cylinders^2', 'Cylinders Displacement', 'Cylinders Horsepower',\n",
       "       'Cylinders Weight', 'Cylinders Acceleration',\n",
       "       'Cylinders Model Year', 'Cylinders America', 'Cylinders Europe',\n",
       "       'Cylinders Japan', 'Displacement^2', 'Displacement Horsepower',\n",
       "       'Displacement Weight', 'Displacement Acceleration',\n",
       "       'Displacement Model Year', 'Displacement America',\n",
       "       'Displacement Europe', 'Displacement Japan', 'Horsepower^2',\n",
       "       'Horsepower Weight', 'Horsepower Acceleration',\n",
       "       'Horsepower Model Year', 'Horsepower America', 'Horsepower Europe',\n",
       "       'Horsepower Japan', 'Weight^2', 'Weight Acceleration',\n",
       "       'Weight Model Year', 'Weight America', 'Weight Europe',\n",
       "       'Weight Japan', 'Acceleration^2', 'Acceleration Model Year',\n",
       "       'Acceleration America', 'Acceleration Europe',\n",
       "       'Acceleration Japan', 'Model Year^2', 'Model Year America',\n",
       "       'Model Year Europe', 'Model Year Japan', 'America^2',\n",
       "       'America Europe', 'America Japan', 'Europe^2', 'Europe Japan',\n",
       "       'Japan^2'], dtype=object)"
      ]
     },
     "execution_count": 529,
     "metadata": {},
     "output_type": "execute_result"
    }
   ],
   "source": [
    "# 特徴量データの抽出、累乗列と交互作用特徴量を一括追加\n",
    "x_train = train_val3.loc[:, x_col]\n",
    "\n",
    "# 定数項を入れることでy切片を調整する\n",
    "pf = PolynomialFeatures(degree=2, include_bias=True)\n",
    "pf_x = pf.fit_transform(x_train)\n",
    "pf.get_feature_names_out()"
   ]
  },
  {
   "cell_type": "code",
   "execution_count": null,
   "metadata": {
    "id": "B1pMY3H2-ndE"
   },
   "outputs": [],
   "source": [
    "# 特徴量データの標準化\n",
    "sc_x = StandardScaler()\n",
    "sc_x_train = sc_x.fit_transform(pf_x)"
   ]
  },
  {
   "cell_type": "markdown",
   "metadata": {
    "id": "JBu3glUnBLcA"
   },
   "source": [
    "まずは重回帰分析での決定係数を確認"
   ]
  },
  {
   "cell_type": "code",
   "execution_count": null,
   "metadata": {
    "colab": {
     "base_uri": "https://localhost:8080/"
    },
    "id": "GmplxQFNBJva",
    "outputId": "85308775-3488-43ab-f6b8-ed485e4cd272"
   },
   "outputs": [
    {
     "name": "stdout",
     "output_type": "stream",
     "text": [
      "x_score: 0.895, t_score: 0.854\n"
     ]
    }
   ],
   "source": [
    "model_LR_tmp = LinearRegression()\n",
    "x_score, t_score = learn(sc_x_train, sc_y_train, model_LR_tmp)\n",
    "print(f\"x_score: {x_score:.3f}, t_score: {t_score:.3f}\")\n"
   ]
  },
  {
   "cell_type": "markdown",
   "metadata": {
    "id": "_lhjuZAqiYon"
   },
   "source": [
    "特徴量を選択した時よりも結果が良くなってしまったが気にしない"
   ]
  },
  {
   "cell_type": "code",
   "execution_count": null,
   "metadata": {
    "colab": {
     "base_uri": "https://localhost:8080/"
    },
    "id": "I_TXjilIC_of",
    "outputId": "19ba80d5-4223-4bea-9e60-1012b56d1ea7"
   },
   "outputs": [
    {
     "data": {
      "text/plain": [
       "1                            4.394546e+12\n",
       "Displacement Weight          1.005178e+01\n",
       "Displacement Model Year      6.573380e+00\n",
       "Horsepower Weight            6.269670e+00\n",
       "Model Year                   5.277179e+00\n",
       "Horsepower                   4.972849e+00\n",
       "Model Year^2                 4.913419e+00\n",
       "Displacement                 4.787963e+00\n",
       "Cylinders Horsepower         4.672340e+00\n",
       "Horsepower Model Year        4.122345e+00\n",
       "Displacement^2               3.672683e+00\n",
       "Displacement America         3.185366e+00\n",
       "Acceleration                 2.693631e+00\n",
       "Cylinders Displacement       2.330334e+00\n",
       "Cylinders                    2.184872e+00\n",
       "Horsepower Japan             2.085079e+00\n",
       "Weight Japan                 1.611675e+00\n",
       "Weight America               1.417489e+00\n",
       "Acceleration Model Year      1.394818e+00\n",
       "Horsepower Europe            1.368937e+00\n",
       "Cylinders Model Year         1.366172e+00\n",
       "Displacement Acceleration    1.362552e+00\n",
       "Weight Europe                1.327538e+00\n",
       "Model Year Japan             1.306874e+00\n",
       "Cylinders Weight             1.264791e+00\n",
       "Cylinders Japan              1.244129e+00\n",
       "Cylinders Acceleration       1.117870e+00\n",
       "Acceleration^2               1.098721e+00\n",
       "Horsepower Acceleration      1.073651e+00\n",
       "Horsepower^2                 1.066225e+00\n",
       "Horsepower America           1.027517e+00\n",
       "Displacement Japan           9.975405e-01\n",
       "Weight Acceleration          9.656731e-01\n",
       "Cylinders^2                  8.372163e-01\n",
       "Japan                        8.070409e-01\n",
       "Japan^2                      8.070409e-01\n",
       "Model Year America           7.649919e-01\n",
       "America^2                    7.257433e-01\n",
       "America                      7.257433e-01\n",
       "Acceleration Europe          6.524042e-01\n",
       "Acceleration Japan           5.427006e-01\n",
       "Weight Model Year            5.200497e-01\n",
       "Cylinders America            4.995288e-01\n",
       "Displacement Horsepower      4.193589e-01\n",
       "Model Year Europe            2.902297e-01\n",
       "Weight                       2.767552e-01\n",
       "Weight^2                     1.554134e-01\n",
       "Displacement Europe          1.229756e-01\n",
       "Europe                       1.125027e-01\n",
       "Europe^2                     1.125027e-01\n",
       "Acceleration America         8.544829e-02\n",
       "Cylinders Europe             7.455639e-02\n",
       "America Europe               0.000000e+00\n",
       "America Japan                0.000000e+00\n",
       "Europe Japan                 0.000000e+00\n",
       "dtype: float64"
      ]
     },
     "execution_count": 532,
     "metadata": {},
     "output_type": "execute_result"
    }
   ],
   "source": [
    "# 重回帰の係数を確認\n",
    "# 絶対値で降順に表示する\n",
    "pd.Series(model_LR_tmp.coef_[0], index=pf.get_feature_names_out()).map(abs).sort_values(ascending=False)"
   ]
  },
  {
   "cell_type": "code",
   "execution_count": null,
   "metadata": {
    "colab": {
     "base_uri": "https://localhost:8080/",
     "height": 555
    },
    "id": "b0L9zmpZ_g2W",
    "outputId": "0d2915d5-741a-4955-b8dc-8e1a7b9ab211"
   },
   "outputs": [
    {
     "name": "stdout",
     "output_type": "stream",
     "text": [
      "alpha: 0.01 ... x_score: 0.92733, t_score: 0.9157780\n",
      "alpha: 0.02 ... x_score: 0.92560, t_score: 0.9191952\n",
      "alpha: 0.03 ... x_score: 0.92427, t_score: 0.9208533\n",
      "alpha: 0.04 ... x_score: 0.92320, t_score: 0.9218073\n",
      "alpha: 0.05 ... x_score: 0.92231, t_score: 0.9224010\n",
      "alpha: 0.06 ... x_score: 0.92156, t_score: 0.9227865\n",
      "alpha: 0.07 ... x_score: 0.92091, t_score: 0.9230422\n",
      "alpha: 0.08 ... x_score: 0.92033, t_score: 0.9232127\n",
      "alpha: 0.09 ... x_score: 0.91982, t_score: 0.9233251\n",
      "alpha: 0.1 ... x_score: 0.91937, t_score: 0.9233965\n",
      "alpha: 0.11 ... x_score: 0.91896, t_score: 0.9234384\n",
      "alpha: 0.12 ... x_score: 0.91859, t_score: 0.9234585\n",
      "alpha: 0.13 ... x_score: 0.91824, t_score: 0.9234624\n",
      "\n",
      "alpha = 0.13で、正解率が0.9234624となる\n"
     ]
    },
    {
     "data": {
      "image/png": "[encoded data removed]",
      "text/plain": [
       "<Figure size 432x288 with 1 Axes>"
      ]
     },
     "metadata": {
      "needs_background": "light"
     },
     "output_type": "display_data"
    }
   ],
   "source": [
    "# Ridgeで回帰分析\n",
    "\n",
    "max_score = 0\n",
    "R_model = None\n",
    "max_alpha = 0\n",
    "R_scores = []\n",
    "\n",
    "num = 100\n",
    "for i in range(num):\n",
    "  a_val = (i+1)/100\n",
    "  model = Ridge(random_state=0, alpha = a_val)\n",
    "  x_score, t_score = learn(sc_x_train, sc_y_train, model)\n",
    "  R_scores.append( {'alpha': a_val, 'x_score': x_score, 't_score': t_score} )\n",
    "  if t_score > max_score:\n",
    "    max_score = t_score\n",
    "    R_model = model\n",
    "    max_alpha = a_val\n",
    "    print(f\"alpha: {a_val} ... x_score: {x_score:.5f}, t_score: {t_score:.7f}\")\n",
    "\n",
    "print()\n",
    "print(f\"alpha = {max_alpha}で、正解率が{max_score:.7f}となる\")\n",
    "\n",
    "# 学習の度合いをグラフで表示\n",
    "plot_progress(R_scores, title='R')\n"
   ]
  },
  {
   "cell_type": "code",
   "execution_count": null,
   "metadata": {
    "colab": {
     "base_uri": "https://localhost:8080/"
    },
    "id": "0CMQMdUUCX-U",
    "outputId": "eaef9399-f21e-4f46-b387-825b3ab06b87"
   },
   "outputs": [
    {
     "data": {
      "text/plain": [
       "Model Year^2                 1.183079\n",
       "Displacement Weight          0.964016\n",
       "Model Year                   0.836296\n",
       "Cylinders Acceleration       0.795489\n",
       "Acceleration                 0.773563\n",
       "Displacement Horsepower      0.678421\n",
       "Horsepower Weight            0.638382\n",
       "Weight                       0.618271\n",
       "Displacement Model Year      0.520131\n",
       "Displacement                 0.430536\n",
       "Horsepower Japan             0.408222\n",
       "Cylinders                    0.389918\n",
       "Displacement America         0.374809\n",
       "Cylinders Weight             0.358601\n",
       "Acceleration America         0.355671\n",
       "Cylinders Model Year         0.355204\n",
       "Horsepower America           0.343477\n",
       "Weight America               0.334757\n",
       "Cylinders^2                  0.313656\n",
       "Cylinders Horsepower         0.307788\n",
       "Cylinders Europe             0.299215\n",
       "Displacement Acceleration    0.275074\n",
       "Cylinders Displacement       0.247659\n",
       "Horsepower^2                 0.243976\n",
       "Acceleration^2               0.225944\n",
       "Displacement^2               0.201650\n",
       "Model Year Japan             0.200974\n",
       "Horsepower Model Year        0.188972\n",
       "Weight Japan                 0.187237\n",
       "Horsepower                   0.178933\n",
       "Acceleration Model Year      0.163206\n",
       "Cylinders Japan              0.152246\n",
       "Horsepower Acceleration      0.152121\n",
       "Displacement Japan           0.151962\n",
       "Weight Europe                0.097537\n",
       "Acceleration Europe          0.086644\n",
       "Horsepower Europe            0.078119\n",
       "Weight Acceleration          0.078113\n",
       "Weight^2                     0.073797\n",
       "Displacement Europe          0.064749\n",
       "Europe                       0.061885\n",
       "Europe^2                     0.061885\n",
       "Model Year Europe            0.056812\n",
       "Weight Model Year            0.040783\n",
       "Japan^2                      0.040080\n",
       "Japan                        0.040080\n",
       "Model Year America           0.033836\n",
       "Acceleration Japan           0.022485\n",
       "Cylinders America            0.019660\n",
       "America                      0.018336\n",
       "America^2                    0.018336\n",
       "America Europe               0.000000\n",
       "America Japan                0.000000\n",
       "Europe Japan                 0.000000\n",
       "1                            0.000000\n",
       "dtype: float64"
      ]
     },
     "execution_count": 534,
     "metadata": {},
     "output_type": "execute_result"
    }
   ],
   "source": [
    "# リッジ回帰の係数\n",
    "pd.Series(R_model.coef_[0], index=pf.get_feature_names_out()).map(abs).sort_values(ascending=False)"
   ]
  },
  {
   "cell_type": "code",
   "execution_count": null,
   "metadata": {
    "colab": {
     "base_uri": "https://localhost:8080/"
    },
    "id": "-j8cAbpnDame",
    "outputId": "fac66ae5-e230-40d5-fd67-b0e667a2e28a"
   },
   "outputs": [
    {
     "name": "stdout",
     "output_type": "stream",
     "text": [
      "重回帰: 4394545879809.1714\n",
      "リッジ: 14.742593670304293\n"
     ]
    }
   ],
   "source": [
    "# 重回帰とリッジ回帰の係数の大きさを比較\n",
    "print('重回帰:', sum(abs(model_LR_tmp.coef_)[0]))\n",
    "print('リッジ:', sum(abs(R_model.coef_)[0]))"
   ]
  },
  {
   "cell_type": "markdown",
   "metadata": {
    "id": "0S5Z5eAKD5KN"
   },
   "source": [
    "リッジ回帰の方が回帰式の係数が小さくなった"
   ]
  },
  {
   "cell_type": "code",
   "execution_count": null,
   "metadata": {
    "colab": {
     "base_uri": "https://localhost:8080/",
     "height": 437
    },
    "id": "agvVU2UduZ6Z",
    "outputId": "87d70699-e8db-4ae5-84f9-d25e71b88945"
   },
   "outputs": [
    {
     "name": "stdout",
     "output_type": "stream",
     "text": [
      "alpha: 0.0005 ... x_score: 0.91739, t_score: 0.9186956\n"
     ]
    },
    {
     "name": "stderr",
     "output_type": "stream",
     "text": [
      "/usr/local/lib/python3.7/dist-packages/sklearn/linear_model/_coordinate_descent.py:648: ConvergenceWarning: Objective did not converge. You might want to increase the number of iterations, check the scale of the features or consider increasing regularisation. Duality gap: 3.819e-02, tolerance: 2.275e-02\n",
      "  coef_, l1_reg, l2_reg, X, y, max_iter, tol, rng, random, positive\n"
     ]
    },
    {
     "name": "stdout",
     "output_type": "stream",
     "text": [
      "alpha: 0.001 ... x_score: 0.90936, t_score: 0.9188630\n",
      "alpha: 0.0025 ... x_score: 0.90362, t_score: 0.9195395\n",
      "\n",
      "alpha = 0.0025で、正解率が0.9195395となる\n"
     ]
    },
    {
     "data": {
      "image/png": "[encoded data removed]",
      "text/plain": [
       "<Figure size 432x288 with 1 Axes>"
      ]
     },
     "metadata": {
      "needs_background": "light"
     },
     "output_type": "display_data"
    }
   ],
   "source": [
    "# Lassoで回帰分析\n",
    "\n",
    "max_score = 0\n",
    "L_model = None\n",
    "max_alpha = 0\n",
    "L_scores = []\n",
    "\n",
    "num = 20\n",
    "for i in range(num):\n",
    "  a_val = (i+1)/2000\n",
    "  model = Lasso(random_state=0, alpha = a_val, max_iter=10000)\n",
    "  x_score, t_score = learn(sc_x_train, sc_y_train, model)\n",
    "  L_scores.append( {'alpha': a_val, 'x_score': x_score, 't_score': t_score} )\n",
    "  if t_score > max_score:\n",
    "    max_score = t_score\n",
    "    L_model = model\n",
    "    max_alpha = a_val\n",
    "    print(f\"alpha: {a_val} ... x_score: {x_score:.5f}, t_score: {t_score:.7f}\")\n",
    "\n",
    "print()\n",
    "print(f\"alpha = {max_alpha}で、正解率が{max_score:.7f}となる\")\n",
    "\n",
    "# 学習の度合いをグラフで表示\n",
    "plot_progress(L_scores, title='L')"
   ]
  },
  {
   "cell_type": "code",
   "execution_count": null,
   "metadata": {
    "colab": {
     "base_uri": "https://localhost:8080/"
    },
    "id": "PQMEV6U5IJwf",
    "outputId": "42063e5c-a251-4016-e009-7afd2ff88a88"
   },
   "outputs": [
    {
     "data": {
      "text/plain": [
       "Displacement Model Year      0.856702\n",
       "Displacement Weight          0.491698\n",
       "Weight                       0.434251\n",
       "Model Year^2                 0.379705\n",
       "Displacement Horsepower      0.328709\n",
       "Acceleration America         0.227361\n",
       "Horsepower Model Year        0.196012\n",
       "Horsepower Europe            0.191759\n",
       "Horsepower Japan             0.170631\n",
       "Horsepower Acceleration      0.129050\n",
       "Weight Model Year            0.037721\n",
       "Acceleration Japan           0.029867\n",
       "Cylinders Acceleration       0.022568\n",
       "Displacement Japan           0.009396\n",
       "America^2                    0.000000\n",
       "Europe^2                     0.000000\n",
       "Weight^2                     0.000000\n",
       "Weight Acceleration          0.000000\n",
       "Europe Japan                 0.000000\n",
       "Weight America               0.000000\n",
       "Weight Europe                0.000000\n",
       "America Japan                0.000000\n",
       "Model Year Japan             0.000000\n",
       "Weight Japan                 0.000000\n",
       "Acceleration^2               0.000000\n",
       "Acceleration Model Year      0.000000\n",
       "Acceleration Europe          0.000000\n",
       "America Europe               0.000000\n",
       "Model Year America           0.000000\n",
       "Model Year Europe            0.000000\n",
       "1                            0.000000\n",
       "Horsepower^2                 0.000000\n",
       "Horsepower America           0.000000\n",
       "Cylinders Horsepower         0.000000\n",
       "Displacement                 0.000000\n",
       "Horsepower                   0.000000\n",
       "Acceleration                 0.000000\n",
       "Model Year                   0.000000\n",
       "America                      0.000000\n",
       "Europe                       0.000000\n",
       "Japan                        0.000000\n",
       "Cylinders^2                  0.000000\n",
       "Cylinders Displacement       0.000000\n",
       "Cylinders Weight             0.000000\n",
       "Horsepower Weight            0.000000\n",
       "Cylinders Model Year         0.000000\n",
       "Cylinders America            0.000000\n",
       "Cylinders Europe             0.000000\n",
       "Cylinders Japan              0.000000\n",
       "Displacement^2               0.000000\n",
       "Displacement Acceleration    0.000000\n",
       "Displacement America         0.000000\n",
       "Displacement Europe          0.000000\n",
       "Cylinders                    0.000000\n",
       "Japan^2                      0.000000\n",
       "dtype: float64"
      ]
     },
     "execution_count": 537,
     "metadata": {},
     "output_type": "execute_result"
    }
   ],
   "source": [
    "# ラッソ回帰の回帰式の係数を確認\n",
    "pd.Series(L_model.coef_, index=pf.get_feature_names_out()).map(abs).sort_values(ascending=False)"
   ]
  },
  {
   "cell_type": "code",
   "execution_count": null,
   "metadata": {
    "colab": {
     "base_uri": "https://localhost:8080/"
    },
    "id": "Wz0gCDHODeK6",
    "outputId": "85e7d5cf-c2bb-4221-9e08-db6edec22c51"
   },
   "outputs": [
    {
     "name": "stdout",
     "output_type": "stream",
     "text": [
      "重回帰: 4394545879809.1714\n",
      "ラッソ: 3.505428654963801\n"
     ]
    }
   ],
   "source": [
    "# 重回帰とラッソ回帰の係数の大きさを比較\n",
    "print('重回帰:', sum(abs(model_LR_tmp.coef_)[0]))\n",
    "print('ラッソ:', sum(abs(L_model.coef_)))"
   ]
  },
  {
   "cell_type": "markdown",
   "metadata": {
    "id": "oC4kY6JdKVlq"
   },
   "source": [
    "不要な特徴量が削除されていることが分かる"
   ]
  },
  {
   "cell_type": "markdown",
   "metadata": {
    "id": "b8lW4h9L0Xfp"
   },
   "source": [
    "試しにラッソ回帰の結果をもとに重回帰分析を行ってみる"
   ]
  },
  {
   "cell_type": "code",
   "execution_count": null,
   "metadata": {
    "colab": {
     "base_uri": "https://localhost:8080/"
    },
    "id": "rQ3nyx-l0cDc",
    "outputId": "45d7c51f-507c-4cf6-d4a7-68553f8a8120"
   },
   "outputs": [
    {
     "data": {
      "text/plain": [
       "Index(['Displacement Model Year', 'Displacement Weight', 'Weight',\n",
       "       'Model Year^2', 'Displacement Horsepower', 'Acceleration America',\n",
       "       'Horsepower Model Year', 'Horsepower Europe', 'Horsepower Japan',\n",
       "       'Horsepower Acceleration', 'Weight Model Year', 'Acceleration Japan',\n",
       "       'Cylinders Acceleration', 'Displacement Japan'],\n",
       "      dtype='object')"
      ]
     },
     "execution_count": 539,
     "metadata": {},
     "output_type": "execute_result"
    }
   ],
   "source": [
    "# ラッソ回帰による特徴量の列名\n",
    "tmp = pd.Series(L_model.coef_, index=pf.get_feature_names_out()).map(abs).sort_values(ascending=False)\n",
    "L_columns = tmp[tmp>0].index\n",
    "L_columns"
   ]
  },
  {
   "cell_type": "code",
   "execution_count": null,
   "metadata": {
    "colab": {
     "base_uri": "https://localhost:8080/",
     "height": 305
    },
    "id": "Fr85DIcP0tiW",
    "outputId": "936ef5b1-2240-412b-bd0a-3cf1617d1f4e"
   },
   "outputs": [
    {
     "data": {
      "text/html": [
       "\n",
       "  <div id=\"df-db503ed3-acd7-4c01-9911-3352dc90f493\">\n",
       "    <div class=\"colab-df-container\">\n",
       "      <div>\n",
       "<style scoped>\n",
       "    .dataframe tbody tr th:only-of-type {\n",
       "        vertical-align: middle;\n",
       "    }\n",
       "\n",
       "    .dataframe tbody tr th {\n",
       "        vertical-align: top;\n",
       "    }\n",
       "\n",
       "    .dataframe thead th {\n",
       "        text-align: right;\n",
       "    }\n",
       "</style>\n",
       "<table border=\"1\" class=\"dataframe\">\n",
       "  <thead>\n",
       "    <tr style=\"text-align: right;\">\n",
       "      <th></th>\n",
       "      <th>Displacement Model Year</th>\n",
       "      <th>Displacement Weight</th>\n",
       "      <th>Weight</th>\n",
       "      <th>Model Year^2</th>\n",
       "      <th>Displacement Horsepower</th>\n",
       "      <th>Acceleration America</th>\n",
       "      <th>Horsepower Model Year</th>\n",
       "      <th>Horsepower Europe</th>\n",
       "      <th>Horsepower Japan</th>\n",
       "      <th>Horsepower Acceleration</th>\n",
       "      <th>Weight Model Year</th>\n",
       "      <th>Acceleration Japan</th>\n",
       "      <th>Cylinders Acceleration</th>\n",
       "      <th>Displacement Japan</th>\n",
       "    </tr>\n",
       "  </thead>\n",
       "  <tbody>\n",
       "    <tr>\n",
       "      <th>0</th>\n",
       "      <td>22896.0</td>\n",
       "      <td>1314930.0</td>\n",
       "      <td>4135.0</td>\n",
       "      <td>5184.0</td>\n",
       "      <td>47700.0</td>\n",
       "      <td>13.5</td>\n",
       "      <td>10800.0</td>\n",
       "      <td>0.0</td>\n",
       "      <td>0.0</td>\n",
       "      <td>2025.0</td>\n",
       "      <td>297720.0</td>\n",
       "      <td>0.0</td>\n",
       "      <td>108.0</td>\n",
       "      <td>0.0</td>\n",
       "    </tr>\n",
       "    <tr>\n",
       "      <th>1</th>\n",
       "      <td>6887.0</td>\n",
       "      <td>177898.0</td>\n",
       "      <td>1834.0</td>\n",
       "      <td>5041.0</td>\n",
       "      <td>5820.0</td>\n",
       "      <td>0.0</td>\n",
       "      <td>4260.0</td>\n",
       "      <td>60.0</td>\n",
       "      <td>0.0</td>\n",
       "      <td>1140.0</td>\n",
       "      <td>130214.0</td>\n",
       "      <td>0.0</td>\n",
       "      <td>76.0</td>\n",
       "      <td>0.0</td>\n",
       "    </tr>\n",
       "    <tr>\n",
       "      <th>2</th>\n",
       "      <td>7760.0</td>\n",
       "      <td>212236.0</td>\n",
       "      <td>2188.0</td>\n",
       "      <td>6400.0</td>\n",
       "      <td>7566.0</td>\n",
       "      <td>0.0</td>\n",
       "      <td>6240.0</td>\n",
       "      <td>78.0</td>\n",
       "      <td>0.0</td>\n",
       "      <td>1232.4</td>\n",
       "      <td>175040.0</td>\n",
       "      <td>0.0</td>\n",
       "      <td>63.2</td>\n",
       "      <td>0.0</td>\n",
       "    </tr>\n",
       "    <tr>\n",
       "      <th>3</th>\n",
       "      <td>7081.0</td>\n",
       "      <td>189150.0</td>\n",
       "      <td>1950.0</td>\n",
       "      <td>5329.0</td>\n",
       "      <td>4462.0</td>\n",
       "      <td>0.0</td>\n",
       "      <td>3358.0</td>\n",
       "      <td>46.0</td>\n",
       "      <td>0.0</td>\n",
       "      <td>966.0</td>\n",
       "      <td>142350.0</td>\n",
       "      <td>0.0</td>\n",
       "      <td>84.0</td>\n",
       "      <td>0.0</td>\n",
       "    </tr>\n",
       "    <tr>\n",
       "      <th>4</th>\n",
       "      <td>9720.0</td>\n",
       "      <td>316200.0</td>\n",
       "      <td>2635.0</td>\n",
       "      <td>6561.0</td>\n",
       "      <td>8880.0</td>\n",
       "      <td>0.0</td>\n",
       "      <td>5994.0</td>\n",
       "      <td>0.0</td>\n",
       "      <td>74.0</td>\n",
       "      <td>1354.2</td>\n",
       "      <td>213435.0</td>\n",
       "      <td>18.3</td>\n",
       "      <td>73.2</td>\n",
       "      <td>120.0</td>\n",
       "    </tr>\n",
       "  </tbody>\n",
       "</table>\n",
       "</div>\n",
       "      <button class=\"colab-df-convert\" onclick=\"convertToInteractive('df-db503ed3-acd7-4c01-9911-3352dc90f493')\"\n",
       "              title=\"Convert this dataframe to an interactive table.\"\n",
       "              style=\"display:none;\">\n",
       "        \n",
       "  <svg xmlns=\"http://www.w3.org/2000/svg\" height=\"24px\"viewBox=\"0 0 24 24\"\n",
       "       width=\"24px\">\n",
       "    <path d=\"M0 0h24v24H0V0z\" fill=\"none\"/>\n",
       "    <path d=\"M18.56 5.44l.94 2.06.94-2.06 2.06-.94-2.06-.94-.94-2.06-.94 2.06-2.06.94zm-11 1L8.5 8.5l.94-2.06 2.06-.94-2.06-.94L8.5 2.5l-.94 2.06-2.06.94zm10 10l.94 2.06.94-2.06 2.06-.94-2.06-.94-.94-2.06-.94 2.06-2.06.94z\"/><path d=\"M17.41 7.96l-1.37-1.37c-.4-.4-.92-.59-1.43-.59-.52 0-1.04.2-1.43.59L10.3 9.45l-7.72 7.72c-.78.78-.78 2.05 0 2.83L4 21.41c.39.39.9.59 1.41.59.51 0 1.02-.2 1.41-.59l7.78-7.78 2.81-2.81c.8-.78.8-2.07 0-2.86zM5.41 20L4 18.59l7.72-7.72 1.47 1.35L5.41 20z\"/>\n",
       "  </svg>\n",
       "      </button>\n",
       "      \n",
       "  <style>\n",
       "    .colab-df-container {\n",
       "      display:flex;\n",
       "      flex-wrap:wrap;\n",
       "      gap: 12px;\n",
       "    }\n",
       "\n",
       "    .colab-df-convert {\n",
       "      background-color: #E8F0FE;\n",
       "      border: none;\n",
       "      border-radius: 50%;\n",
       "      cursor: pointer;\n",
       "      display: none;\n",
       "      fill: #1967D2;\n",
       "      height: 32px;\n",
       "      padding: 0 0 0 0;\n",
       "      width: 32px;\n",
       "    }\n",
       "\n",
       "    .colab-df-convert:hover {\n",
       "      background-color: #E2EBFA;\n",
       "      box-shadow: 0px 1px 2px rgba(60, 64, 67, 0.3), 0px 1px 3px 1px rgba(60, 64, 67, 0.15);\n",
       "      fill: #174EA6;\n",
       "    }\n",
       "\n",
       "    [theme=dark] .colab-df-convert {\n",
       "      background-color: #3B4455;\n",
       "      fill: #D2E3FC;\n",
       "    }\n",
       "\n",
       "    [theme=dark] .colab-df-convert:hover {\n",
       "      background-color: #434B5C;\n",
       "      box-shadow: 0px 1px 3px 1px rgba(0, 0, 0, 0.15);\n",
       "      filter: drop-shadow(0px 1px 2px rgba(0, 0, 0, 0.3));\n",
       "      fill: #FFFFFF;\n",
       "    }\n",
       "  </style>\n",
       "\n",
       "      <script>\n",
       "        const buttonEl =\n",
       "          document.querySelector('#df-db503ed3-acd7-4c01-9911-3352dc90f493 button.colab-df-convert');\n",
       "        buttonEl.style.display =\n",
       "          google.colab.kernel.accessAllowed ? 'block' : 'none';\n",
       "\n",
       "        async function convertToInteractive(key) {\n",
       "          const element = document.querySelector('#df-db503ed3-acd7-4c01-9911-3352dc90f493');\n",
       "          const dataTable =\n",
       "            await google.colab.kernel.invokeFunction('convertToInteractive',\n",
       "                                                     [key], {});\n",
       "          if (!dataTable) return;\n",
       "\n",
       "          const docLinkHtml = 'Like what you see? Visit the ' +\n",
       "            '<a target=\"_blank\" href=https://colab.research.google.com/notebooks/data_table.ipynb>data table notebook</a>'\n",
       "            + ' to learn more about interactive tables.';\n",
       "          element.innerHTML = '';\n",
       "          dataTable['output_type'] = 'display_data';\n",
       "          await google.colab.output.renderOutput(dataTable, element);\n",
       "          const docLink = document.createElement('div');\n",
       "          docLink.innerHTML = docLinkHtml;\n",
       "          element.appendChild(docLink);\n",
       "        }\n",
       "      </script>\n",
       "    </div>\n",
       "  </div>\n",
       "  "
      ],
      "text/plain": [
       "   Displacement Model Year  Displacement Weight  Weight  Model Year^2  \\\n",
       "0                  22896.0            1314930.0  4135.0        5184.0   \n",
       "1                   6887.0             177898.0  1834.0        5041.0   \n",
       "2                   7760.0             212236.0  2188.0        6400.0   \n",
       "3                   7081.0             189150.0  1950.0        5329.0   \n",
       "4                   9720.0             316200.0  2635.0        6561.0   \n",
       "\n",
       "   Displacement Horsepower  Acceleration America  Horsepower Model Year  \\\n",
       "0                  47700.0                  13.5                10800.0   \n",
       "1                   5820.0                   0.0                 4260.0   \n",
       "2                   7566.0                   0.0                 6240.0   \n",
       "3                   4462.0                   0.0                 3358.0   \n",
       "4                   8880.0                   0.0                 5994.0   \n",
       "\n",
       "   Horsepower Europe  Horsepower Japan  Horsepower Acceleration  \\\n",
       "0                0.0               0.0                   2025.0   \n",
       "1               60.0               0.0                   1140.0   \n",
       "2               78.0               0.0                   1232.4   \n",
       "3               46.0               0.0                    966.0   \n",
       "4                0.0              74.0                   1354.2   \n",
       "\n",
       "   Weight Model Year  Acceleration Japan  Cylinders Acceleration  \\\n",
       "0           297720.0                 0.0                   108.0   \n",
       "1           130214.0                 0.0                    76.0   \n",
       "2           175040.0                 0.0                    63.2   \n",
       "3           142350.0                 0.0                    84.0   \n",
       "4           213435.0                18.3                    73.2   \n",
       "\n",
       "   Displacement Japan  \n",
       "0                 0.0  \n",
       "1                 0.0  \n",
       "2                 0.0  \n",
       "3                 0.0  \n",
       "4               120.0  "
      ]
     },
     "execution_count": 540,
     "metadata": {},
     "output_type": "execute_result"
    }
   ],
   "source": [
    "# ラッソ回帰による特徴量を抽出\n",
    "tmp = pd.DataFrame(pf_x)\n",
    "tmp.columns = pf.get_feature_names_out()\n",
    "x_train_L = tmp.loc[:, L_columns]\n",
    "x_train_L.head()"
   ]
  },
  {
   "cell_type": "code",
   "execution_count": null,
   "metadata": {
    "id": "_QSxP75G133R"
   },
   "outputs": [],
   "source": [
    "# 特徴量データの標準化\n",
    "sc_x_L = StandardScaler()\n",
    "sc_x_train_L = sc_x.fit_transform(x_train_L)"
   ]
  },
  {
   "cell_type": "code",
   "execution_count": null,
   "metadata": {
    "colab": {
     "base_uri": "https://localhost:8080/"
    },
    "id": "ruoQOeog15pk",
    "outputId": "c9a02b23-4db8-4767-9743-a6fe846892e3"
   },
   "outputs": [
    {
     "name": "stdout",
     "output_type": "stream",
     "text": [
      "x_score: 0.907, t_score: 0.915\n"
     ]
    }
   ],
   "source": [
    "# 重回帰分析で学習\n",
    "model_LR2 = LinearRegression()\n",
    "x_score, t_score = learn(sc_x_train_L, sc_y_train, model_LR2)\n",
    "print(f\"x_score: {x_score:.3f}, t_score: {t_score:.3f}\")"
   ]
  },
  {
   "cell_type": "code",
   "execution_count": null,
   "metadata": {
    "colab": {
     "base_uri": "https://localhost:8080/"
    },
    "id": "ChdVSFYWDpUH",
    "outputId": "1aac8b83-1c06-4d43-9944-e950a8f44a58"
   },
   "outputs": [
    {
     "data": {
      "text/plain": [
       "Displacement Model Year    1.189765\n",
       "Weight                     1.083006\n",
       "Displacement Weight        0.969521\n",
       "Weight Model Year          0.433462\n",
       "Horsepower Japan           0.410410\n",
       "Model Year^2               0.322347\n",
       "Displacement Japan         0.259955\n",
       "Acceleration America       0.259743\n",
       "Horsepower Europe          0.237825\n",
       "Displacement Horsepower    0.207181\n",
       "Horsepower Acceleration    0.148710\n",
       "Horsepower Model Year      0.087881\n",
       "Cylinders Acceleration     0.071230\n",
       "Acceleration Japan         0.031905\n",
       "dtype: float64"
      ]
     },
     "execution_count": 543,
     "metadata": {},
     "output_type": "execute_result"
    }
   ],
   "source": [
    "# ラッソ回帰によるの重回帰分析の回帰式の係数を確認\n",
    "pd.Series(model_LR2.coef_[0], index=L_columns).map(abs).sort_values(ascending=False)"
   ]
  },
  {
   "cell_type": "markdown",
   "metadata": {
    "id": "LUtYRIK62cVv"
   },
   "source": [
    "単純にラッソ回帰を行った場合と同程度の精度が出るようだ"
   ]
  },
  {
   "cell_type": "markdown",
   "metadata": {
    "id": "weOzXr-Feph6"
   },
   "source": [
    "回帰木を用いて分析する<br>\n",
    "なお、決定木なので標準化は行わない"
   ]
  },
  {
   "cell_type": "code",
   "execution_count": null,
   "metadata": {
    "colab": {
     "base_uri": "https://localhost:8080/",
     "height": 206
    },
    "id": "iMACmyYofHhK",
    "outputId": "1038b42f-4b50-4553-d680-9042f0c62295"
   },
   "outputs": [
    {
     "data": {
      "text/html": [
       "\n",
       "  <div id=\"df-b8770103-2411-445a-9bad-8ddfa73cb576\">\n",
       "    <div class=\"colab-df-container\">\n",
       "      <div>\n",
       "<style scoped>\n",
       "    .dataframe tbody tr th:only-of-type {\n",
       "        vertical-align: middle;\n",
       "    }\n",
       "\n",
       "    .dataframe tbody tr th {\n",
       "        vertical-align: top;\n",
       "    }\n",
       "\n",
       "    .dataframe thead th {\n",
       "        text-align: right;\n",
       "    }\n",
       "</style>\n",
       "<table border=\"1\" class=\"dataframe\">\n",
       "  <thead>\n",
       "    <tr style=\"text-align: right;\">\n",
       "      <th></th>\n",
       "      <th>Cylinders</th>\n",
       "      <th>Displacement</th>\n",
       "      <th>Horsepower</th>\n",
       "      <th>Weight</th>\n",
       "      <th>Acceleration</th>\n",
       "      <th>Model Year</th>\n",
       "      <th>America</th>\n",
       "      <th>Europe</th>\n",
       "      <th>Japan</th>\n",
       "    </tr>\n",
       "  </thead>\n",
       "  <tbody>\n",
       "    <tr>\n",
       "      <th>64</th>\n",
       "      <td>8</td>\n",
       "      <td>318.0</td>\n",
       "      <td>150.0</td>\n",
       "      <td>4135</td>\n",
       "      <td>13.5</td>\n",
       "      <td>72</td>\n",
       "      <td>1</td>\n",
       "      <td>0</td>\n",
       "      <td>0</td>\n",
       "    </tr>\n",
       "    <tr>\n",
       "      <th>55</th>\n",
       "      <td>4</td>\n",
       "      <td>97.0</td>\n",
       "      <td>60.0</td>\n",
       "      <td>1834</td>\n",
       "      <td>19.0</td>\n",
       "      <td>71</td>\n",
       "      <td>0</td>\n",
       "      <td>1</td>\n",
       "      <td>0</td>\n",
       "    </tr>\n",
       "    <tr>\n",
       "      <th>317</th>\n",
       "      <td>4</td>\n",
       "      <td>97.0</td>\n",
       "      <td>78.0</td>\n",
       "      <td>2188</td>\n",
       "      <td>15.8</td>\n",
       "      <td>80</td>\n",
       "      <td>0</td>\n",
       "      <td>1</td>\n",
       "      <td>0</td>\n",
       "    </tr>\n",
       "    <tr>\n",
       "      <th>102</th>\n",
       "      <td>4</td>\n",
       "      <td>97.0</td>\n",
       "      <td>46.0</td>\n",
       "      <td>1950</td>\n",
       "      <td>21.0</td>\n",
       "      <td>73</td>\n",
       "      <td>0</td>\n",
       "      <td>1</td>\n",
       "      <td>0</td>\n",
       "    </tr>\n",
       "    <tr>\n",
       "      <th>358</th>\n",
       "      <td>4</td>\n",
       "      <td>120.0</td>\n",
       "      <td>74.0</td>\n",
       "      <td>2635</td>\n",
       "      <td>18.3</td>\n",
       "      <td>81</td>\n",
       "      <td>0</td>\n",
       "      <td>0</td>\n",
       "      <td>1</td>\n",
       "    </tr>\n",
       "  </tbody>\n",
       "</table>\n",
       "</div>\n",
       "      <button class=\"colab-df-convert\" onclick=\"convertToInteractive('df-b8770103-2411-445a-9bad-8ddfa73cb576')\"\n",
       "              title=\"Convert this dataframe to an interactive table.\"\n",
       "              style=\"display:none;\">\n",
       "        \n",
       "  <svg xmlns=\"http://www.w3.org/2000/svg\" height=\"24px\"viewBox=\"0 0 24 24\"\n",
       "       width=\"24px\">\n",
       "    <path d=\"M0 0h24v24H0V0z\" fill=\"none\"/>\n",
       "    <path d=\"M18.56 5.44l.94 2.06.94-2.06 2.06-.94-2.06-.94-.94-2.06-.94 2.06-2.06.94zm-11 1L8.5 8.5l.94-2.06 2.06-.94-2.06-.94L8.5 2.5l-.94 2.06-2.06.94zm10 10l.94 2.06.94-2.06 2.06-.94-2.06-.94-.94-2.06-.94 2.06-2.06.94z\"/><path d=\"M17.41 7.96l-1.37-1.37c-.4-.4-.92-.59-1.43-.59-.52 0-1.04.2-1.43.59L10.3 9.45l-7.72 7.72c-.78.78-.78 2.05 0 2.83L4 21.41c.39.39.9.59 1.41.59.51 0 1.02-.2 1.41-.59l7.78-7.78 2.81-2.81c.8-.78.8-2.07 0-2.86zM5.41 20L4 18.59l7.72-7.72 1.47 1.35L5.41 20z\"/>\n",
       "  </svg>\n",
       "      </button>\n",
       "      \n",
       "  <style>\n",
       "    .colab-df-container {\n",
       "      display:flex;\n",
       "      flex-wrap:wrap;\n",
       "      gap: 12px;\n",
       "    }\n",
       "\n",
       "    .colab-df-convert {\n",
       "      background-color: #E8F0FE;\n",
       "      border: none;\n",
       "      border-radius: 50%;\n",
       "      cursor: pointer;\n",
       "      display: none;\n",
       "      fill: #1967D2;\n",
       "      height: 32px;\n",
       "      padding: 0 0 0 0;\n",
       "      width: 32px;\n",
       "    }\n",
       "\n",
       "    .colab-df-convert:hover {\n",
       "      background-color: #E2EBFA;\n",
       "      box-shadow: 0px 1px 2px rgba(60, 64, 67, 0.3), 0px 1px 3px 1px rgba(60, 64, 67, 0.15);\n",
       "      fill: #174EA6;\n",
       "    }\n",
       "\n",
       "    [theme=dark] .colab-df-convert {\n",
       "      background-color: #3B4455;\n",
       "      fill: #D2E3FC;\n",
       "    }\n",
       "\n",
       "    [theme=dark] .colab-df-convert:hover {\n",
       "      background-color: #434B5C;\n",
       "      box-shadow: 0px 1px 3px 1px rgba(0, 0, 0, 0.15);\n",
       "      filter: drop-shadow(0px 1px 2px rgba(0, 0, 0, 0.3));\n",
       "      fill: #FFFFFF;\n",
       "    }\n",
       "  </style>\n",
       "\n",
       "      <script>\n",
       "        const buttonEl =\n",
       "          document.querySelector('#df-b8770103-2411-445a-9bad-8ddfa73cb576 button.colab-df-convert');\n",
       "        buttonEl.style.display =\n",
       "          google.colab.kernel.accessAllowed ? 'block' : 'none';\n",
       "\n",
       "        async function convertToInteractive(key) {\n",
       "          const element = document.querySelector('#df-b8770103-2411-445a-9bad-8ddfa73cb576');\n",
       "          const dataTable =\n",
       "            await google.colab.kernel.invokeFunction('convertToInteractive',\n",
       "                                                     [key], {});\n",
       "          if (!dataTable) return;\n",
       "\n",
       "          const docLinkHtml = 'Like what you see? Visit the ' +\n",
       "            '<a target=\"_blank\" href=https://colab.research.google.com/notebooks/data_table.ipynb>data table notebook</a>'\n",
       "            + ' to learn more about interactive tables.';\n",
       "          element.innerHTML = '';\n",
       "          dataTable['output_type'] = 'display_data';\n",
       "          await google.colab.output.renderOutput(dataTable, element);\n",
       "          const docLink = document.createElement('div');\n",
       "          docLink.innerHTML = docLinkHtml;\n",
       "          element.appendChild(docLink);\n",
       "        }\n",
       "      </script>\n",
       "    </div>\n",
       "  </div>\n",
       "  "
      ],
      "text/plain": [
       "     Cylinders  Displacement  Horsepower  Weight  Acceleration  Model Year  \\\n",
       "64           8         318.0       150.0    4135          13.5          72   \n",
       "55           4          97.0        60.0    1834          19.0          71   \n",
       "317          4          97.0        78.0    2188          15.8          80   \n",
       "102          4          97.0        46.0    1950          21.0          73   \n",
       "358          4         120.0        74.0    2635          18.3          81   \n",
       "\n",
       "     America  Europe  Japan  \n",
       "64         1       0      0  \n",
       "55         0       1      0  \n",
       "317        0       1      0  \n",
       "102        0       1      0  \n",
       "358        0       0      1  "
      ]
     },
     "execution_count": 544,
     "metadata": {},
     "output_type": "execute_result"
    }
   ],
   "source": [
    "x_train.head()"
   ]
  },
  {
   "cell_type": "code",
   "execution_count": null,
   "metadata": {
    "colab": {
     "base_uri": "https://localhost:8080/",
     "height": 206
    },
    "id": "_4D0oPssfJnZ",
    "outputId": "216dd7d9-fd52-4372-e7c5-e6fa638c33e2"
   },
   "outputs": [
    {
     "data": {
      "text/html": [
       "\n",
       "  <div id=\"df-4cc6d2b4-4b04-404f-b882-bc8970fd0ad3\">\n",
       "    <div class=\"colab-df-container\">\n",
       "      <div>\n",
       "<style scoped>\n",
       "    .dataframe tbody tr th:only-of-type {\n",
       "        vertical-align: middle;\n",
       "    }\n",
       "\n",
       "    .dataframe tbody tr th {\n",
       "        vertical-align: top;\n",
       "    }\n",
       "\n",
       "    .dataframe thead th {\n",
       "        text-align: right;\n",
       "    }\n",
       "</style>\n",
       "<table border=\"1\" class=\"dataframe\">\n",
       "  <thead>\n",
       "    <tr style=\"text-align: right;\">\n",
       "      <th></th>\n",
       "      <th>MPG</th>\n",
       "    </tr>\n",
       "  </thead>\n",
       "  <tbody>\n",
       "    <tr>\n",
       "      <th>64</th>\n",
       "      <td>15.0</td>\n",
       "    </tr>\n",
       "    <tr>\n",
       "      <th>55</th>\n",
       "      <td>27.0</td>\n",
       "    </tr>\n",
       "    <tr>\n",
       "      <th>317</th>\n",
       "      <td>34.3</td>\n",
       "    </tr>\n",
       "    <tr>\n",
       "      <th>102</th>\n",
       "      <td>26.0</td>\n",
       "    </tr>\n",
       "    <tr>\n",
       "      <th>358</th>\n",
       "      <td>31.6</td>\n",
       "    </tr>\n",
       "  </tbody>\n",
       "</table>\n",
       "</div>\n",
       "      <button class=\"colab-df-convert\" onclick=\"convertToInteractive('df-4cc6d2b4-4b04-404f-b882-bc8970fd0ad3')\"\n",
       "              title=\"Convert this dataframe to an interactive table.\"\n",
       "              style=\"display:none;\">\n",
       "        \n",
       "  <svg xmlns=\"http://www.w3.org/2000/svg\" height=\"24px\"viewBox=\"0 0 24 24\"\n",
       "       width=\"24px\">\n",
       "    <path d=\"M0 0h24v24H0V0z\" fill=\"none\"/>\n",
       "    <path d=\"M18.56 5.44l.94 2.06.94-2.06 2.06-.94-2.06-.94-.94-2.06-.94 2.06-2.06.94zm-11 1L8.5 8.5l.94-2.06 2.06-.94-2.06-.94L8.5 2.5l-.94 2.06-2.06.94zm10 10l.94 2.06.94-2.06 2.06-.94-2.06-.94-.94-2.06-.94 2.06-2.06.94z\"/><path d=\"M17.41 7.96l-1.37-1.37c-.4-.4-.92-.59-1.43-.59-.52 0-1.04.2-1.43.59L10.3 9.45l-7.72 7.72c-.78.78-.78 2.05 0 2.83L4 21.41c.39.39.9.59 1.41.59.51 0 1.02-.2 1.41-.59l7.78-7.78 2.81-2.81c.8-.78.8-2.07 0-2.86zM5.41 20L4 18.59l7.72-7.72 1.47 1.35L5.41 20z\"/>\n",
       "  </svg>\n",
       "      </button>\n",
       "      \n",
       "  <style>\n",
       "    .colab-df-container {\n",
       "      display:flex;\n",
       "      flex-wrap:wrap;\n",
       "      gap: 12px;\n",
       "    }\n",
       "\n",
       "    .colab-df-convert {\n",
       "      background-color: #E8F0FE;\n",
       "      border: none;\n",
       "      border-radius: 50%;\n",
       "      cursor: pointer;\n",
       "      display: none;\n",
       "      fill: #1967D2;\n",
       "      height: 32px;\n",
       "      padding: 0 0 0 0;\n",
       "      width: 32px;\n",
       "    }\n",
       "\n",
       "    .colab-df-convert:hover {\n",
       "      background-color: #E2EBFA;\n",
       "      box-shadow: 0px 1px 2px rgba(60, 64, 67, 0.3), 0px 1px 3px 1px rgba(60, 64, 67, 0.15);\n",
       "      fill: #174EA6;\n",
       "    }\n",
       "\n",
       "    [theme=dark] .colab-df-convert {\n",
       "      background-color: #3B4455;\n",
       "      fill: #D2E3FC;\n",
       "    }\n",
       "\n",
       "    [theme=dark] .colab-df-convert:hover {\n",
       "      background-color: #434B5C;\n",
       "      box-shadow: 0px 1px 3px 1px rgba(0, 0, 0, 0.15);\n",
       "      filter: drop-shadow(0px 1px 2px rgba(0, 0, 0, 0.3));\n",
       "      fill: #FFFFFF;\n",
       "    }\n",
       "  </style>\n",
       "\n",
       "      <script>\n",
       "        const buttonEl =\n",
       "          document.querySelector('#df-4cc6d2b4-4b04-404f-b882-bc8970fd0ad3 button.colab-df-convert');\n",
       "        buttonEl.style.display =\n",
       "          google.colab.kernel.accessAllowed ? 'block' : 'none';\n",
       "\n",
       "        async function convertToInteractive(key) {\n",
       "          const element = document.querySelector('#df-4cc6d2b4-4b04-404f-b882-bc8970fd0ad3');\n",
       "          const dataTable =\n",
       "            await google.colab.kernel.invokeFunction('convertToInteractive',\n",
       "                                                     [key], {});\n",
       "          if (!dataTable) return;\n",
       "\n",
       "          const docLinkHtml = 'Like what you see? Visit the ' +\n",
       "            '<a target=\"_blank\" href=https://colab.research.google.com/notebooks/data_table.ipynb>data table notebook</a>'\n",
       "            + ' to learn more about interactive tables.';\n",
       "          element.innerHTML = '';\n",
       "          dataTable['output_type'] = 'display_data';\n",
       "          await google.colab.output.renderOutput(dataTable, element);\n",
       "          const docLink = document.createElement('div');\n",
       "          docLink.innerHTML = docLinkHtml;\n",
       "          element.appendChild(docLink);\n",
       "        }\n",
       "      </script>\n",
       "    </div>\n",
       "  </div>\n",
       "  "
      ],
      "text/plain": [
       "      MPG\n",
       "64   15.0\n",
       "55   27.0\n",
       "317  34.3\n",
       "102  26.0\n",
       "358  31.6"
      ]
     },
     "execution_count": 545,
     "metadata": {},
     "output_type": "execute_result"
    }
   ],
   "source": [
    "y_train.head()"
   ]
  },
  {
   "cell_type": "code",
   "execution_count": null,
   "metadata": {
    "colab": {
     "base_uri": "https://localhost:8080/",
     "height": 678
    },
    "id": "G014DmQgoGt1",
    "outputId": "b60621e4-0d86-47ec-fdaf-7e7fd5d2a1be"
   },
   "outputs": [
    {
     "name": "stdout",
     "output_type": "stream",
     "text": [
      "max_depth:  1 ... x_score: 0.646, t_score: 0.646\n",
      "max_depth:  2 ... x_score: 0.800, t_score: 0.732\n",
      "max_depth:  3 ... x_score: 0.862, t_score: 0.788\n",
      "max_depth:  4 ... x_score: 0.923, t_score: 0.813\n",
      "max_depth:  5 ... x_score: 0.949, t_score: 0.828\n",
      "max_depth:  6 ... x_score: 0.967, t_score: 0.848\n",
      "max_depth:  7 ... x_score: 0.979, t_score: 0.858\n",
      "max_depth:  8 ... x_score: 0.986, t_score: 0.867\n",
      "max_depth:  9 ... x_score: 0.991, t_score: 0.841\n",
      "max_depth: 10 ... x_score: 0.994, t_score: 0.837\n",
      "max_depth: 11 ... x_score: 0.996, t_score: 0.863\n",
      "max_depth: 12 ... x_score: 0.999, t_score: 0.839\n",
      "max_depth: 13 ... x_score: 0.999, t_score: 0.849\n",
      "max_depth: 14 ... x_score: 1.000, t_score: 0.823\n",
      "max_depth: 15 ... x_score: 1.000, t_score: 0.847\n",
      "max_depth: 16 ... x_score: 1.000, t_score: 0.845\n",
      "max_depth: 17 ... x_score: 1.000, t_score: 0.845\n",
      "max_depth: 18 ... x_score: 1.000, t_score: 0.845\n",
      "max_depth: 19 ... x_score: 1.000, t_score: 0.845\n",
      "max_depth: 20 ... x_score: 1.000, t_score: 0.845\n",
      "\n",
      "max_depth = 8で、正解率が0.867となる\n"
     ]
    },
    {
     "data": {
      "image/png": "[encoded data removed]",
      "text/plain": [
       "<Figure size 432x288 with 1 Axes>"
      ]
     },
     "metadata": {
      "needs_background": "light"
     },
     "output_type": "display_data"
    }
   ],
   "source": [
    "# DecisionTreeRegressorで分類\n",
    "max_score = 0\n",
    "DTR_model = None\n",
    "max_depth = 0\n",
    "DTR_scores = []\n",
    "\n",
    "num=20\n",
    "for i in range(num):\n",
    "  model = DecisionTreeRegressor(max_depth = i+1, random_state = 0)\n",
    "  x_score, t_score = learn(x_train, y_train, model)\n",
    "  DTR_scores.append( {'max_depth': i+1, 'x_score': x_score, 't_score': t_score} )\n",
    "  if t_score > max_score:\n",
    "    max_score = t_score\n",
    "    DTR_model = model\n",
    "    max_depth = i+1\n",
    "  print(f\"max_depth: {i+1:2} ... x_score: {x_score:.3f}, t_score: {t_score:.3f}\")\n",
    "\n",
    "print()\n",
    "print(f\"max_depth = {max_depth}で、正解率が{max_score:.3f}となる\")\n",
    "\n",
    "# 学習の度合いをグラフで表示\n",
    "plot_progress(DTR_scores, title='DTR')\n"
   ]
  },
  {
   "cell_type": "markdown",
   "metadata": {
    "id": "nAfBjV4ih3Z9"
   },
   "source": [
    "最後にテストデータを用いて検証を行う"
   ]
  },
  {
   "cell_type": "code",
   "execution_count": null,
   "metadata": {
    "colab": {
     "base_uri": "https://localhost:8080/"
    },
    "id": "ukDLJm8fgE84",
    "outputId": "883a7aac-92f9-4e4c-ad36-029f10f1c74a"
   },
   "outputs": [
    {
     "name": "stdout",
     "output_type": "stream",
     "text": [
      "MPG             0\n",
      "Cylinders       0\n",
      "Displacement    0\n",
      "Horsepower      1\n",
      "Weight          0\n",
      "Acceleration    0\n",
      "Model Year      0\n",
      "America         0\n",
      "Europe          0\n",
      "Japan           0\n",
      "dtype: int64\n"
     ]
    }
   ],
   "source": [
    "# 欠損値の確認\n",
    "print(test.isnull().sum())"
   ]
  },
  {
   "cell_type": "code",
   "execution_count": null,
   "metadata": {
    "colab": {
     "base_uri": "https://localhost:8080/",
     "height": 81
    },
    "id": "UYAxImBKgbLH",
    "outputId": "098ea3bc-d41e-49a2-99aa-737bc7140653"
   },
   "outputs": [
    {
     "data": {
      "text/html": [
       "\n",
       "  <div id=\"df-3b90894e-e74c-4d50-a8cc-0b664007612e\">\n",
       "    <div class=\"colab-df-container\">\n",
       "      <div>\n",
       "<style scoped>\n",
       "    .dataframe tbody tr th:only-of-type {\n",
       "        vertical-align: middle;\n",
       "    }\n",
       "\n",
       "    .dataframe tbody tr th {\n",
       "        vertical-align: top;\n",
       "    }\n",
       "\n",
       "    .dataframe thead th {\n",
       "        text-align: right;\n",
       "    }\n",
       "</style>\n",
       "<table border=\"1\" class=\"dataframe\">\n",
       "  <thead>\n",
       "    <tr style=\"text-align: right;\">\n",
       "      <th></th>\n",
       "      <th>MPG</th>\n",
       "      <th>Cylinders</th>\n",
       "      <th>Displacement</th>\n",
       "      <th>Horsepower</th>\n",
       "      <th>Weight</th>\n",
       "      <th>Acceleration</th>\n",
       "      <th>Model Year</th>\n",
       "      <th>America</th>\n",
       "      <th>Europe</th>\n",
       "      <th>Japan</th>\n",
       "    </tr>\n",
       "  </thead>\n",
       "  <tbody>\n",
       "    <tr>\n",
       "      <th>330</th>\n",
       "      <td>40.9</td>\n",
       "      <td>4</td>\n",
       "      <td>85.0</td>\n",
       "      <td>NaN</td>\n",
       "      <td>1835</td>\n",
       "      <td>17.3</td>\n",
       "      <td>80</td>\n",
       "      <td>0</td>\n",
       "      <td>1</td>\n",
       "      <td>0</td>\n",
       "    </tr>\n",
       "  </tbody>\n",
       "</table>\n",
       "</div>\n",
       "      <button class=\"colab-df-convert\" onclick=\"convertToInteractive('df-3b90894e-e74c-4d50-a8cc-0b664007612e')\"\n",
       "              title=\"Convert this dataframe to an interactive table.\"\n",
       "              style=\"display:none;\">\n",
       "        \n",
       "  <svg xmlns=\"http://www.w3.org/2000/svg\" height=\"24px\"viewBox=\"0 0 24 24\"\n",
       "       width=\"24px\">\n",
       "    <path d=\"M0 0h24v24H0V0z\" fill=\"none\"/>\n",
       "    <path d=\"M18.56 5.44l.94 2.06.94-2.06 2.06-.94-2.06-.94-.94-2.06-.94 2.06-2.06.94zm-11 1L8.5 8.5l.94-2.06 2.06-.94-2.06-.94L8.5 2.5l-.94 2.06-2.06.94zm10 10l.94 2.06.94-2.06 2.06-.94-2.06-.94-.94-2.06-.94 2.06-2.06.94z\"/><path d=\"M17.41 7.96l-1.37-1.37c-.4-.4-.92-.59-1.43-.59-.52 0-1.04.2-1.43.59L10.3 9.45l-7.72 7.72c-.78.78-.78 2.05 0 2.83L4 21.41c.39.39.9.59 1.41.59.51 0 1.02-.2 1.41-.59l7.78-7.78 2.81-2.81c.8-.78.8-2.07 0-2.86zM5.41 20L4 18.59l7.72-7.72 1.47 1.35L5.41 20z\"/>\n",
       "  </svg>\n",
       "      </button>\n",
       "      \n",
       "  <style>\n",
       "    .colab-df-container {\n",
       "      display:flex;\n",
       "      flex-wrap:wrap;\n",
       "      gap: 12px;\n",
       "    }\n",
       "\n",
       "    .colab-df-convert {\n",
       "      background-color: #E8F0FE;\n",
       "      border: none;\n",
       "      border-radius: 50%;\n",
       "      cursor: pointer;\n",
       "      display: none;\n",
       "      fill: #1967D2;\n",
       "      height: 32px;\n",
       "      padding: 0 0 0 0;\n",
       "      width: 32px;\n",
       "    }\n",
       "\n",
       "    .colab-df-convert:hover {\n",
       "      background-color: #E2EBFA;\n",
       "      box-shadow: 0px 1px 2px rgba(60, 64, 67, 0.3), 0px 1px 3px 1px rgba(60, 64, 67, 0.15);\n",
       "      fill: #174EA6;\n",
       "    }\n",
       "\n",
       "    [theme=dark] .colab-df-convert {\n",
       "      background-color: #3B4455;\n",
       "      fill: #D2E3FC;\n",
       "    }\n",
       "\n",
       "    [theme=dark] .colab-df-convert:hover {\n",
       "      background-color: #434B5C;\n",
       "      box-shadow: 0px 1px 3px 1px rgba(0, 0, 0, 0.15);\n",
       "      filter: drop-shadow(0px 1px 2px rgba(0, 0, 0, 0.3));\n",
       "      fill: #FFFFFF;\n",
       "    }\n",
       "  </style>\n",
       "\n",
       "      <script>\n",
       "        const buttonEl =\n",
       "          document.querySelector('#df-3b90894e-e74c-4d50-a8cc-0b664007612e button.colab-df-convert');\n",
       "        buttonEl.style.display =\n",
       "          google.colab.kernel.accessAllowed ? 'block' : 'none';\n",
       "\n",
       "        async function convertToInteractive(key) {\n",
       "          const element = document.querySelector('#df-3b90894e-e74c-4d50-a8cc-0b664007612e');\n",
       "          const dataTable =\n",
       "            await google.colab.kernel.invokeFunction('convertToInteractive',\n",
       "                                                     [key], {});\n",
       "          if (!dataTable) return;\n",
       "\n",
       "          const docLinkHtml = 'Like what you see? Visit the ' +\n",
       "            '<a target=\"_blank\" href=https://colab.research.google.com/notebooks/data_table.ipynb>data table notebook</a>'\n",
       "            + ' to learn more about interactive tables.';\n",
       "          element.innerHTML = '';\n",
       "          dataTable['output_type'] = 'display_data';\n",
       "          await google.colab.output.renderOutput(dataTable, element);\n",
       "          const docLink = document.createElement('div');\n",
       "          docLink.innerHTML = docLinkHtml;\n",
       "          element.appendChild(docLink);\n",
       "        }\n",
       "      </script>\n",
       "    </div>\n",
       "  </div>\n",
       "  "
      ],
      "text/plain": [
       "      MPG  Cylinders  Displacement  Horsepower  Weight  Acceleration  \\\n",
       "330  40.9          4          85.0         NaN    1835          17.3   \n",
       "\n",
       "     Model Year  America  Europe  Japan  \n",
       "330          80        0       1      0  "
      ]
     },
     "execution_count": 548,
     "metadata": {},
     "output_type": "execute_result"
    }
   ],
   "source": [
    "# 欠損値を含む行を抽出\n",
    "condition = test['Horsepower'].isnull()\n",
    "non_data = test.loc[condition]\n",
    "\n",
    "non_data"
   ]
  },
  {
   "cell_type": "code",
   "execution_count": null,
   "metadata": {
    "colab": {
     "base_uri": "https://localhost:8080/",
     "height": 81
    },
    "id": "YdRHbpLAgt3K",
    "outputId": "577d6cef-9cde-4156-b111-87cf95cae330"
   },
   "outputs": [
    {
     "data": {
      "text/html": [
       "\n",
       "  <div id=\"df-96f2e54e-fd32-49c6-9a77-9b0ab3c2c463\">\n",
       "    <div class=\"colab-df-container\">\n",
       "      <div>\n",
       "<style scoped>\n",
       "    .dataframe tbody tr th:only-of-type {\n",
       "        vertical-align: middle;\n",
       "    }\n",
       "\n",
       "    .dataframe tbody tr th {\n",
       "        vertical-align: top;\n",
       "    }\n",
       "\n",
       "    .dataframe thead th {\n",
       "        text-align: right;\n",
       "    }\n",
       "</style>\n",
       "<table border=\"1\" class=\"dataframe\">\n",
       "  <thead>\n",
       "    <tr style=\"text-align: right;\">\n",
       "      <th></th>\n",
       "      <th>MPG</th>\n",
       "      <th>Cylinders</th>\n",
       "      <th>Displacement</th>\n",
       "      <th>Horsepower</th>\n",
       "      <th>Weight</th>\n",
       "      <th>Acceleration</th>\n",
       "      <th>Model Year</th>\n",
       "      <th>America</th>\n",
       "      <th>Europe</th>\n",
       "      <th>Japan</th>\n",
       "    </tr>\n",
       "  </thead>\n",
       "  <tbody>\n",
       "    <tr>\n",
       "      <th>330</th>\n",
       "      <td>40.9</td>\n",
       "      <td>4</td>\n",
       "      <td>85.0</td>\n",
       "      <td>57.10319</td>\n",
       "      <td>1835</td>\n",
       "      <td>17.3</td>\n",
       "      <td>80</td>\n",
       "      <td>0</td>\n",
       "      <td>1</td>\n",
       "      <td>0</td>\n",
       "    </tr>\n",
       "  </tbody>\n",
       "</table>\n",
       "</div>\n",
       "      <button class=\"colab-df-convert\" onclick=\"convertToInteractive('df-96f2e54e-fd32-49c6-9a77-9b0ab3c2c463')\"\n",
       "              title=\"Convert this dataframe to an interactive table.\"\n",
       "              style=\"display:none;\">\n",
       "        \n",
       "  <svg xmlns=\"http://www.w3.org/2000/svg\" height=\"24px\"viewBox=\"0 0 24 24\"\n",
       "       width=\"24px\">\n",
       "    <path d=\"M0 0h24v24H0V0z\" fill=\"none\"/>\n",
       "    <path d=\"M18.56 5.44l.94 2.06.94-2.06 2.06-.94-2.06-.94-.94-2.06-.94 2.06-2.06.94zm-11 1L8.5 8.5l.94-2.06 2.06-.94-2.06-.94L8.5 2.5l-.94 2.06-2.06.94zm10 10l.94 2.06.94-2.06 2.06-.94-2.06-.94-.94-2.06-.94 2.06-2.06.94z\"/><path d=\"M17.41 7.96l-1.37-1.37c-.4-.4-.92-.59-1.43-.59-.52 0-1.04.2-1.43.59L10.3 9.45l-7.72 7.72c-.78.78-.78 2.05 0 2.83L4 21.41c.39.39.9.59 1.41.59.51 0 1.02-.2 1.41-.59l7.78-7.78 2.81-2.81c.8-.78.8-2.07 0-2.86zM5.41 20L4 18.59l7.72-7.72 1.47 1.35L5.41 20z\"/>\n",
       "  </svg>\n",
       "      </button>\n",
       "      \n",
       "  <style>\n",
       "    .colab-df-container {\n",
       "      display:flex;\n",
       "      flex-wrap:wrap;\n",
       "      gap: 12px;\n",
       "    }\n",
       "\n",
       "    .colab-df-convert {\n",
       "      background-color: #E8F0FE;\n",
       "      border: none;\n",
       "      border-radius: 50%;\n",
       "      cursor: pointer;\n",
       "      display: none;\n",
       "      fill: #1967D2;\n",
       "      height: 32px;\n",
       "      padding: 0 0 0 0;\n",
       "      width: 32px;\n",
       "    }\n",
       "\n",
       "    .colab-df-convert:hover {\n",
       "      background-color: #E2EBFA;\n",
       "      box-shadow: 0px 1px 2px rgba(60, 64, 67, 0.3), 0px 1px 3px 1px rgba(60, 64, 67, 0.15);\n",
       "      fill: #174EA6;\n",
       "    }\n",
       "\n",
       "    [theme=dark] .colab-df-convert {\n",
       "      background-color: #3B4455;\n",
       "      fill: #D2E3FC;\n",
       "    }\n",
       "\n",
       "    [theme=dark] .colab-df-convert:hover {\n",
       "      background-color: #434B5C;\n",
       "      box-shadow: 0px 1px 3px 1px rgba(0, 0, 0, 0.15);\n",
       "      filter: drop-shadow(0px 1px 2px rgba(0, 0, 0, 0.3));\n",
       "      fill: #FFFFFF;\n",
       "    }\n",
       "  </style>\n",
       "\n",
       "      <script>\n",
       "        const buttonEl =\n",
       "          document.querySelector('#df-96f2e54e-fd32-49c6-9a77-9b0ab3c2c463 button.colab-df-convert');\n",
       "        buttonEl.style.display =\n",
       "          google.colab.kernel.accessAllowed ? 'block' : 'none';\n",
       "\n",
       "        async function convertToInteractive(key) {\n",
       "          const element = document.querySelector('#df-96f2e54e-fd32-49c6-9a77-9b0ab3c2c463');\n",
       "          const dataTable =\n",
       "            await google.colab.kernel.invokeFunction('convertToInteractive',\n",
       "                                                     [key], {});\n",
       "          if (!dataTable) return;\n",
       "\n",
       "          const docLinkHtml = 'Like what you see? Visit the ' +\n",
       "            '<a target=\"_blank\" href=https://colab.research.google.com/notebooks/data_table.ipynb>data table notebook</a>'\n",
       "            + ' to learn more about interactive tables.';\n",
       "          element.innerHTML = '';\n",
       "          dataTable['output_type'] = 'display_data';\n",
       "          await google.colab.output.renderOutput(dataTable, element);\n",
       "          const docLink = document.createElement('div');\n",
       "          docLink.innerHTML = docLinkHtml;\n",
       "          element.appendChild(docLink);\n",
       "        }\n",
       "      </script>\n",
       "    </div>\n",
       "  </div>\n",
       "  "
      ],
      "text/plain": [
       "      MPG  Cylinders  Displacement  Horsepower  Weight  Acceleration  \\\n",
       "330  40.9          4          85.0    57.10319    1835          17.3   \n",
       "\n",
       "     Model Year  America  Europe  Japan  \n",
       "330          80        0       1      0  "
      ]
     },
     "execution_count": 549,
     "metadata": {},
     "output_type": "execute_result"
    }
   ],
   "source": [
    "# 欠損値を除いたデータで値を予測\n",
    "x = non_data.drop(['Horsepower'], axis=1)\n",
    "pred = hp_regret_model.predict(x)\n",
    "\n",
    "# 予測した値をセット\n",
    "test2 = test.copy()\n",
    "test2.loc[condition, 'Horsepower'] = pred\n",
    "\n",
    "test2.loc[condition]"
   ]
  },
  {
   "cell_type": "code",
   "execution_count": null,
   "metadata": {
    "colab": {
     "base_uri": "https://localhost:8080/",
     "height": 206
    },
    "id": "CoJRWUR6iHMr",
    "outputId": "80cfc6ad-3099-4356-c08c-2927455c3020"
   },
   "outputs": [
    {
     "data": {
      "text/html": [
       "\n",
       "  <div id=\"df-66f642fa-f79c-47fe-83e6-555dadcc07bc\">\n",
       "    <div class=\"colab-df-container\">\n",
       "      <div>\n",
       "<style scoped>\n",
       "    .dataframe tbody tr th:only-of-type {\n",
       "        vertical-align: middle;\n",
       "    }\n",
       "\n",
       "    .dataframe tbody tr th {\n",
       "        vertical-align: top;\n",
       "    }\n",
       "\n",
       "    .dataframe thead th {\n",
       "        text-align: right;\n",
       "    }\n",
       "</style>\n",
       "<table border=\"1\" class=\"dataframe\">\n",
       "  <thead>\n",
       "    <tr style=\"text-align: right;\">\n",
       "      <th></th>\n",
       "      <th>MPG</th>\n",
       "    </tr>\n",
       "  </thead>\n",
       "  <tbody>\n",
       "    <tr>\n",
       "      <th>65</th>\n",
       "      <td>14.0</td>\n",
       "    </tr>\n",
       "    <tr>\n",
       "      <th>132</th>\n",
       "      <td>25.0</td>\n",
       "    </tr>\n",
       "    <tr>\n",
       "      <th>74</th>\n",
       "      <td>13.0</td>\n",
       "    </tr>\n",
       "    <tr>\n",
       "      <th>78</th>\n",
       "      <td>21.0</td>\n",
       "    </tr>\n",
       "    <tr>\n",
       "      <th>37</th>\n",
       "      <td>18.0</td>\n",
       "    </tr>\n",
       "  </tbody>\n",
       "</table>\n",
       "</div>\n",
       "      <button class=\"colab-df-convert\" onclick=\"convertToInteractive('df-66f642fa-f79c-47fe-83e6-555dadcc07bc')\"\n",
       "              title=\"Convert this dataframe to an interactive table.\"\n",
       "              style=\"display:none;\">\n",
       "        \n",
       "  <svg xmlns=\"http://www.w3.org/2000/svg\" height=\"24px\"viewBox=\"0 0 24 24\"\n",
       "       width=\"24px\">\n",
       "    <path d=\"M0 0h24v24H0V0z\" fill=\"none\"/>\n",
       "    <path d=\"M18.56 5.44l.94 2.06.94-2.06 2.06-.94-2.06-.94-.94-2.06-.94 2.06-2.06.94zm-11 1L8.5 8.5l.94-2.06 2.06-.94-2.06-.94L8.5 2.5l-.94 2.06-2.06.94zm10 10l.94 2.06.94-2.06 2.06-.94-2.06-.94-.94-2.06-.94 2.06-2.06.94z\"/><path d=\"M17.41 7.96l-1.37-1.37c-.4-.4-.92-.59-1.43-.59-.52 0-1.04.2-1.43.59L10.3 9.45l-7.72 7.72c-.78.78-.78 2.05 0 2.83L4 21.41c.39.39.9.59 1.41.59.51 0 1.02-.2 1.41-.59l7.78-7.78 2.81-2.81c.8-.78.8-2.07 0-2.86zM5.41 20L4 18.59l7.72-7.72 1.47 1.35L5.41 20z\"/>\n",
       "  </svg>\n",
       "      </button>\n",
       "      \n",
       "  <style>\n",
       "    .colab-df-container {\n",
       "      display:flex;\n",
       "      flex-wrap:wrap;\n",
       "      gap: 12px;\n",
       "    }\n",
       "\n",
       "    .colab-df-convert {\n",
       "      background-color: #E8F0FE;\n",
       "      border: none;\n",
       "      border-radius: 50%;\n",
       "      cursor: pointer;\n",
       "      display: none;\n",
       "      fill: #1967D2;\n",
       "      height: 32px;\n",
       "      padding: 0 0 0 0;\n",
       "      width: 32px;\n",
       "    }\n",
       "\n",
       "    .colab-df-convert:hover {\n",
       "      background-color: #E2EBFA;\n",
       "      box-shadow: 0px 1px 2px rgba(60, 64, 67, 0.3), 0px 1px 3px 1px rgba(60, 64, 67, 0.15);\n",
       "      fill: #174EA6;\n",
       "    }\n",
       "\n",
       "    [theme=dark] .colab-df-convert {\n",
       "      background-color: #3B4455;\n",
       "      fill: #D2E3FC;\n",
       "    }\n",
       "\n",
       "    [theme=dark] .colab-df-convert:hover {\n",
       "      background-color: #434B5C;\n",
       "      box-shadow: 0px 1px 3px 1px rgba(0, 0, 0, 0.15);\n",
       "      filter: drop-shadow(0px 1px 2px rgba(0, 0, 0, 0.3));\n",
       "      fill: #FFFFFF;\n",
       "    }\n",
       "  </style>\n",
       "\n",
       "      <script>\n",
       "        const buttonEl =\n",
       "          document.querySelector('#df-66f642fa-f79c-47fe-83e6-555dadcc07bc button.colab-df-convert');\n",
       "        buttonEl.style.display =\n",
       "          google.colab.kernel.accessAllowed ? 'block' : 'none';\n",
       "\n",
       "        async function convertToInteractive(key) {\n",
       "          const element = document.querySelector('#df-66f642fa-f79c-47fe-83e6-555dadcc07bc');\n",
       "          const dataTable =\n",
       "            await google.colab.kernel.invokeFunction('convertToInteractive',\n",
       "                                                     [key], {});\n",
       "          if (!dataTable) return;\n",
       "\n",
       "          const docLinkHtml = 'Like what you see? Visit the ' +\n",
       "            '<a target=\"_blank\" href=https://colab.research.google.com/notebooks/data_table.ipynb>data table notebook</a>'\n",
       "            + ' to learn more about interactive tables.';\n",
       "          element.innerHTML = '';\n",
       "          dataTable['output_type'] = 'display_data';\n",
       "          await google.colab.output.renderOutput(dataTable, element);\n",
       "          const docLink = document.createElement('div');\n",
       "          docLink.innerHTML = docLinkHtml;\n",
       "          element.appendChild(docLink);\n",
       "        }\n",
       "      </script>\n",
       "    </div>\n",
       "  </div>\n",
       "  "
      ],
      "text/plain": [
       "      MPG\n",
       "65   14.0\n",
       "132  25.0\n",
       "74   13.0\n",
       "78   21.0\n",
       "37   18.0"
      ]
     },
     "execution_count": 550,
     "metadata": {},
     "output_type": "execute_result"
    }
   ],
   "source": [
    "# 正解データと特徴量とに分割\n",
    "y_test = test2.loc[:, [t_col]]\n",
    "y_test.head()\n"
   ]
  },
  {
   "cell_type": "code",
   "execution_count": null,
   "metadata": {
    "colab": {
     "base_uri": "https://localhost:8080/",
     "height": 206
    },
    "id": "gGCgrM-NinsE",
    "outputId": "27f50bf0-3fcf-44a3-d6b4-7e8965955cf6"
   },
   "outputs": [
    {
     "data": {
      "text/html": [
       "\n",
       "  <div id=\"df-b48ad829-906f-46c9-b513-a565d8cf8ac1\">\n",
       "    <div class=\"colab-df-container\">\n",
       "      <div>\n",
       "<style scoped>\n",
       "    .dataframe tbody tr th:only-of-type {\n",
       "        vertical-align: middle;\n",
       "    }\n",
       "\n",
       "    .dataframe tbody tr th {\n",
       "        vertical-align: top;\n",
       "    }\n",
       "\n",
       "    .dataframe thead th {\n",
       "        text-align: right;\n",
       "    }\n",
       "</style>\n",
       "<table border=\"1\" class=\"dataframe\">\n",
       "  <thead>\n",
       "    <tr style=\"text-align: right;\">\n",
       "      <th></th>\n",
       "      <th>Cylinders</th>\n",
       "      <th>Displacement</th>\n",
       "      <th>Horsepower</th>\n",
       "      <th>Weight</th>\n",
       "      <th>Acceleration</th>\n",
       "      <th>Model Year</th>\n",
       "      <th>America</th>\n",
       "      <th>Europe</th>\n",
       "      <th>Japan</th>\n",
       "    </tr>\n",
       "  </thead>\n",
       "  <tbody>\n",
       "    <tr>\n",
       "      <th>65</th>\n",
       "      <td>8</td>\n",
       "      <td>351.0</td>\n",
       "      <td>153.0</td>\n",
       "      <td>4129</td>\n",
       "      <td>13.0</td>\n",
       "      <td>72</td>\n",
       "      <td>1</td>\n",
       "      <td>0</td>\n",
       "      <td>0</td>\n",
       "    </tr>\n",
       "    <tr>\n",
       "      <th>132</th>\n",
       "      <td>4</td>\n",
       "      <td>140.0</td>\n",
       "      <td>75.0</td>\n",
       "      <td>2542</td>\n",
       "      <td>17.0</td>\n",
       "      <td>74</td>\n",
       "      <td>1</td>\n",
       "      <td>0</td>\n",
       "      <td>0</td>\n",
       "    </tr>\n",
       "    <tr>\n",
       "      <th>74</th>\n",
       "      <td>8</td>\n",
       "      <td>302.0</td>\n",
       "      <td>140.0</td>\n",
       "      <td>4294</td>\n",
       "      <td>16.0</td>\n",
       "      <td>72</td>\n",
       "      <td>1</td>\n",
       "      <td>0</td>\n",
       "      <td>0</td>\n",
       "    </tr>\n",
       "    <tr>\n",
       "      <th>78</th>\n",
       "      <td>4</td>\n",
       "      <td>120.0</td>\n",
       "      <td>87.0</td>\n",
       "      <td>2979</td>\n",
       "      <td>19.5</td>\n",
       "      <td>72</td>\n",
       "      <td>0</td>\n",
       "      <td>1</td>\n",
       "      <td>0</td>\n",
       "    </tr>\n",
       "    <tr>\n",
       "      <th>37</th>\n",
       "      <td>6</td>\n",
       "      <td>232.0</td>\n",
       "      <td>100.0</td>\n",
       "      <td>3288</td>\n",
       "      <td>15.5</td>\n",
       "      <td>71</td>\n",
       "      <td>1</td>\n",
       "      <td>0</td>\n",
       "      <td>0</td>\n",
       "    </tr>\n",
       "  </tbody>\n",
       "</table>\n",
       "</div>\n",
       "      <button class=\"colab-df-convert\" onclick=\"convertToInteractive('df-b48ad829-906f-46c9-b513-a565d8cf8ac1')\"\n",
       "              title=\"Convert this dataframe to an interactive table.\"\n",
       "              style=\"display:none;\">\n",
       "        \n",
       "  <svg xmlns=\"http://www.w3.org/2000/svg\" height=\"24px\"viewBox=\"0 0 24 24\"\n",
       "       width=\"24px\">\n",
       "    <path d=\"M0 0h24v24H0V0z\" fill=\"none\"/>\n",
       "    <path d=\"M18.56 5.44l.94 2.06.94-2.06 2.06-.94-2.06-.94-.94-2.06-.94 2.06-2.06.94zm-11 1L8.5 8.5l.94-2.06 2.06-.94-2.06-.94L8.5 2.5l-.94 2.06-2.06.94zm10 10l.94 2.06.94-2.06 2.06-.94-2.06-.94-.94-2.06-.94 2.06-2.06.94z\"/><path d=\"M17.41 7.96l-1.37-1.37c-.4-.4-.92-.59-1.43-.59-.52 0-1.04.2-1.43.59L10.3 9.45l-7.72 7.72c-.78.78-.78 2.05 0 2.83L4 21.41c.39.39.9.59 1.41.59.51 0 1.02-.2 1.41-.59l7.78-7.78 2.81-2.81c.8-.78.8-2.07 0-2.86zM5.41 20L4 18.59l7.72-7.72 1.47 1.35L5.41 20z\"/>\n",
       "  </svg>\n",
       "      </button>\n",
       "      \n",
       "  <style>\n",
       "    .colab-df-container {\n",
       "      display:flex;\n",
       "      flex-wrap:wrap;\n",
       "      gap: 12px;\n",
       "    }\n",
       "\n",
       "    .colab-df-convert {\n",
       "      background-color: #E8F0FE;\n",
       "      border: none;\n",
       "      border-radius: 50%;\n",
       "      cursor: pointer;\n",
       "      display: none;\n",
       "      fill: #1967D2;\n",
       "      height: 32px;\n",
       "      padding: 0 0 0 0;\n",
       "      width: 32px;\n",
       "    }\n",
       "\n",
       "    .colab-df-convert:hover {\n",
       "      background-color: #E2EBFA;\n",
       "      box-shadow: 0px 1px 2px rgba(60, 64, 67, 0.3), 0px 1px 3px 1px rgba(60, 64, 67, 0.15);\n",
       "      fill: #174EA6;\n",
       "    }\n",
       "\n",
       "    [theme=dark] .colab-df-convert {\n",
       "      background-color: #3B4455;\n",
       "      fill: #D2E3FC;\n",
       "    }\n",
       "\n",
       "    [theme=dark] .colab-df-convert:hover {\n",
       "      background-color: #434B5C;\n",
       "      box-shadow: 0px 1px 3px 1px rgba(0, 0, 0, 0.15);\n",
       "      filter: drop-shadow(0px 1px 2px rgba(0, 0, 0, 0.3));\n",
       "      fill: #FFFFFF;\n",
       "    }\n",
       "  </style>\n",
       "\n",
       "      <script>\n",
       "        const buttonEl =\n",
       "          document.querySelector('#df-b48ad829-906f-46c9-b513-a565d8cf8ac1 button.colab-df-convert');\n",
       "        buttonEl.style.display =\n",
       "          google.colab.kernel.accessAllowed ? 'block' : 'none';\n",
       "\n",
       "        async function convertToInteractive(key) {\n",
       "          const element = document.querySelector('#df-b48ad829-906f-46c9-b513-a565d8cf8ac1');\n",
       "          const dataTable =\n",
       "            await google.colab.kernel.invokeFunction('convertToInteractive',\n",
       "                                                     [key], {});\n",
       "          if (!dataTable) return;\n",
       "\n",
       "          const docLinkHtml = 'Like what you see? Visit the ' +\n",
       "            '<a target=\"_blank\" href=https://colab.research.google.com/notebooks/data_table.ipynb>data table notebook</a>'\n",
       "            + ' to learn more about interactive tables.';\n",
       "          element.innerHTML = '';\n",
       "          dataTable['output_type'] = 'display_data';\n",
       "          await google.colab.output.renderOutput(dataTable, element);\n",
       "          const docLink = document.createElement('div');\n",
       "          docLink.innerHTML = docLinkHtml;\n",
       "          element.appendChild(docLink);\n",
       "        }\n",
       "      </script>\n",
       "    </div>\n",
       "  </div>\n",
       "  "
      ],
      "text/plain": [
       "     Cylinders  Displacement  Horsepower  Weight  Acceleration  Model Year  \\\n",
       "65           8         351.0       153.0    4129          13.0          72   \n",
       "132          4         140.0        75.0    2542          17.0          74   \n",
       "74           8         302.0       140.0    4294          16.0          72   \n",
       "78           4         120.0        87.0    2979          19.5          72   \n",
       "37           6         232.0       100.0    3288          15.5          71   \n",
       "\n",
       "     America  Europe  Japan  \n",
       "65         1       0      0  \n",
       "132        1       0      0  \n",
       "74         1       0      0  \n",
       "78         0       1      0  \n",
       "37         1       0      0  "
      ]
     },
     "execution_count": 551,
     "metadata": {},
     "output_type": "execute_result"
    }
   ],
   "source": [
    "x_test = test2.loc[:, x_col]\n",
    "x_test.head()"
   ]
  },
  {
   "cell_type": "code",
   "execution_count": null,
   "metadata": {
    "id": "cF4E0EDahw9y"
   },
   "outputs": [],
   "source": [
    "# 正解データを標準化\n",
    "sc_y_test = sc_y.fit_transform(y_test)"
   ]
  },
  {
   "cell_type": "code",
   "execution_count": null,
   "metadata": {
    "colab": {
     "base_uri": "https://localhost:8080/",
     "height": 206
    },
    "id": "z1uJHqi4hX5f",
    "outputId": "368607e7-2edf-4f1f-cdbc-f2d77fd698be"
   },
   "outputs": [
    {
     "data": {
      "text/html": [
       "\n",
       "  <div id=\"df-6122500a-9d1a-4851-b1f0-0ae50100d0b9\">\n",
       "    <div class=\"colab-df-container\">\n",
       "      <div>\n",
       "<style scoped>\n",
       "    .dataframe tbody tr th:only-of-type {\n",
       "        vertical-align: middle;\n",
       "    }\n",
       "\n",
       "    .dataframe tbody tr th {\n",
       "        vertical-align: top;\n",
       "    }\n",
       "\n",
       "    .dataframe thead th {\n",
       "        text-align: right;\n",
       "    }\n",
       "</style>\n",
       "<table border=\"1\" class=\"dataframe\">\n",
       "  <thead>\n",
       "    <tr style=\"text-align: right;\">\n",
       "      <th></th>\n",
       "      <th>Weight</th>\n",
       "      <th>Displacement</th>\n",
       "      <th>Horsepower</th>\n",
       "      <th>Cylinders</th>\n",
       "    </tr>\n",
       "  </thead>\n",
       "  <tbody>\n",
       "    <tr>\n",
       "      <th>65</th>\n",
       "      <td>4129</td>\n",
       "      <td>351.0</td>\n",
       "      <td>153.0</td>\n",
       "      <td>8</td>\n",
       "    </tr>\n",
       "    <tr>\n",
       "      <th>132</th>\n",
       "      <td>2542</td>\n",
       "      <td>140.0</td>\n",
       "      <td>75.0</td>\n",
       "      <td>4</td>\n",
       "    </tr>\n",
       "    <tr>\n",
       "      <th>74</th>\n",
       "      <td>4294</td>\n",
       "      <td>302.0</td>\n",
       "      <td>140.0</td>\n",
       "      <td>8</td>\n",
       "    </tr>\n",
       "    <tr>\n",
       "      <th>78</th>\n",
       "      <td>2979</td>\n",
       "      <td>120.0</td>\n",
       "      <td>87.0</td>\n",
       "      <td>4</td>\n",
       "    </tr>\n",
       "    <tr>\n",
       "      <th>37</th>\n",
       "      <td>3288</td>\n",
       "      <td>232.0</td>\n",
       "      <td>100.0</td>\n",
       "      <td>6</td>\n",
       "    </tr>\n",
       "  </tbody>\n",
       "</table>\n",
       "</div>\n",
       "      <button class=\"colab-df-convert\" onclick=\"convertToInteractive('df-6122500a-9d1a-4851-b1f0-0ae50100d0b9')\"\n",
       "              title=\"Convert this dataframe to an interactive table.\"\n",
       "              style=\"display:none;\">\n",
       "        \n",
       "  <svg xmlns=\"http://www.w3.org/2000/svg\" height=\"24px\"viewBox=\"0 0 24 24\"\n",
       "       width=\"24px\">\n",
       "    <path d=\"M0 0h24v24H0V0z\" fill=\"none\"/>\n",
       "    <path d=\"M18.56 5.44l.94 2.06.94-2.06 2.06-.94-2.06-.94-.94-2.06-.94 2.06-2.06.94zm-11 1L8.5 8.5l.94-2.06 2.06-.94-2.06-.94L8.5 2.5l-.94 2.06-2.06.94zm10 10l.94 2.06.94-2.06 2.06-.94-2.06-.94-.94-2.06-.94 2.06-2.06.94z\"/><path d=\"M17.41 7.96l-1.37-1.37c-.4-.4-.92-.59-1.43-.59-.52 0-1.04.2-1.43.59L10.3 9.45l-7.72 7.72c-.78.78-.78 2.05 0 2.83L4 21.41c.39.39.9.59 1.41.59.51 0 1.02-.2 1.41-.59l7.78-7.78 2.81-2.81c.8-.78.8-2.07 0-2.86zM5.41 20L4 18.59l7.72-7.72 1.47 1.35L5.41 20z\"/>\n",
       "  </svg>\n",
       "      </button>\n",
       "      \n",
       "  <style>\n",
       "    .colab-df-container {\n",
       "      display:flex;\n",
       "      flex-wrap:wrap;\n",
       "      gap: 12px;\n",
       "    }\n",
       "\n",
       "    .colab-df-convert {\n",
       "      background-color: #E8F0FE;\n",
       "      border: none;\n",
       "      border-radius: 50%;\n",
       "      cursor: pointer;\n",
       "      display: none;\n",
       "      fill: #1967D2;\n",
       "      height: 32px;\n",
       "      padding: 0 0 0 0;\n",
       "      width: 32px;\n",
       "    }\n",
       "\n",
       "    .colab-df-convert:hover {\n",
       "      background-color: #E2EBFA;\n",
       "      box-shadow: 0px 1px 2px rgba(60, 64, 67, 0.3), 0px 1px 3px 1px rgba(60, 64, 67, 0.15);\n",
       "      fill: #174EA6;\n",
       "    }\n",
       "\n",
       "    [theme=dark] .colab-df-convert {\n",
       "      background-color: #3B4455;\n",
       "      fill: #D2E3FC;\n",
       "    }\n",
       "\n",
       "    [theme=dark] .colab-df-convert:hover {\n",
       "      background-color: #434B5C;\n",
       "      box-shadow: 0px 1px 3px 1px rgba(0, 0, 0, 0.15);\n",
       "      filter: drop-shadow(0px 1px 2px rgba(0, 0, 0, 0.3));\n",
       "      fill: #FFFFFF;\n",
       "    }\n",
       "  </style>\n",
       "\n",
       "      <script>\n",
       "        const buttonEl =\n",
       "          document.querySelector('#df-6122500a-9d1a-4851-b1f0-0ae50100d0b9 button.colab-df-convert');\n",
       "        buttonEl.style.display =\n",
       "          google.colab.kernel.accessAllowed ? 'block' : 'none';\n",
       "\n",
       "        async function convertToInteractive(key) {\n",
       "          const element = document.querySelector('#df-6122500a-9d1a-4851-b1f0-0ae50100d0b9');\n",
       "          const dataTable =\n",
       "            await google.colab.kernel.invokeFunction('convertToInteractive',\n",
       "                                                     [key], {});\n",
       "          if (!dataTable) return;\n",
       "\n",
       "          const docLinkHtml = 'Like what you see? Visit the ' +\n",
       "            '<a target=\"_blank\" href=https://colab.research.google.com/notebooks/data_table.ipynb>data table notebook</a>'\n",
       "            + ' to learn more about interactive tables.';\n",
       "          element.innerHTML = '';\n",
       "          dataTable['output_type'] = 'display_data';\n",
       "          await google.colab.output.renderOutput(dataTable, element);\n",
       "          const docLink = document.createElement('div');\n",
       "          docLink.innerHTML = docLinkHtml;\n",
       "          element.appendChild(docLink);\n",
       "        }\n",
       "      </script>\n",
       "    </div>\n",
       "  </div>\n",
       "  "
      ],
      "text/plain": [
       "     Weight  Displacement  Horsepower  Cylinders\n",
       "65     4129         351.0       153.0          8\n",
       "132    2542         140.0        75.0          4\n",
       "74     4294         302.0       140.0          8\n",
       "78     2979         120.0        87.0          4\n",
       "37     3288         232.0       100.0          6"
      ]
     },
     "execution_count": 553,
     "metadata": {},
     "output_type": "execute_result"
    }
   ],
   "source": [
    "# 重回帰用の特徴量を抽出\n",
    "x_test_LR = test2.loc[:, x_col_LR]\n",
    "x_test_LR.head()"
   ]
  },
  {
   "cell_type": "code",
   "execution_count": null,
   "metadata": {
    "colab": {
     "base_uri": "https://localhost:8080/",
     "height": 288
    },
    "id": "LD_nRWadiI5S",
    "outputId": "bba45eaa-619c-42d6-df70-c8e07ab7ecd7"
   },
   "outputs": [
    {
     "data": {
      "text/html": [
       "\n",
       "  <div id=\"df-fb39f049-1643-4984-bda3-5bdd284c17cb\">\n",
       "    <div class=\"colab-df-container\">\n",
       "      <div>\n",
       "<style scoped>\n",
       "    .dataframe tbody tr th:only-of-type {\n",
       "        vertical-align: middle;\n",
       "    }\n",
       "\n",
       "    .dataframe tbody tr th {\n",
       "        vertical-align: top;\n",
       "    }\n",
       "\n",
       "    .dataframe thead th {\n",
       "        text-align: right;\n",
       "    }\n",
       "</style>\n",
       "<table border=\"1\" class=\"dataframe\">\n",
       "  <thead>\n",
       "    <tr style=\"text-align: right;\">\n",
       "      <th></th>\n",
       "      <th>Weight</th>\n",
       "      <th>Displacement</th>\n",
       "      <th>Horsepower</th>\n",
       "      <th>Cylinders</th>\n",
       "      <th>Weight^2</th>\n",
       "      <th>Weight Displacement</th>\n",
       "      <th>Weight Horsepower</th>\n",
       "      <th>Weight Cylinders</th>\n",
       "      <th>Displacement^2</th>\n",
       "      <th>Displacement Horsepower</th>\n",
       "      <th>Displacement Cylinders</th>\n",
       "      <th>Horsepower^2</th>\n",
       "      <th>Horsepower Cylinders</th>\n",
       "      <th>Cylinders^2</th>\n",
       "    </tr>\n",
       "  </thead>\n",
       "  <tbody>\n",
       "    <tr>\n",
       "      <th>0</th>\n",
       "      <td>4129.0</td>\n",
       "      <td>351.0</td>\n",
       "      <td>153.0</td>\n",
       "      <td>8.0</td>\n",
       "      <td>17048641.0</td>\n",
       "      <td>1449279.0</td>\n",
       "      <td>631737.0</td>\n",
       "      <td>33032.0</td>\n",
       "      <td>123201.0</td>\n",
       "      <td>53703.0</td>\n",
       "      <td>2808.0</td>\n",
       "      <td>23409.0</td>\n",
       "      <td>1224.0</td>\n",
       "      <td>64.0</td>\n",
       "    </tr>\n",
       "    <tr>\n",
       "      <th>1</th>\n",
       "      <td>2542.0</td>\n",
       "      <td>140.0</td>\n",
       "      <td>75.0</td>\n",
       "      <td>4.0</td>\n",
       "      <td>6461764.0</td>\n",
       "      <td>355880.0</td>\n",
       "      <td>190650.0</td>\n",
       "      <td>10168.0</td>\n",
       "      <td>19600.0</td>\n",
       "      <td>10500.0</td>\n",
       "      <td>560.0</td>\n",
       "      <td>5625.0</td>\n",
       "      <td>300.0</td>\n",
       "      <td>16.0</td>\n",
       "    </tr>\n",
       "    <tr>\n",
       "      <th>2</th>\n",
       "      <td>4294.0</td>\n",
       "      <td>302.0</td>\n",
       "      <td>140.0</td>\n",
       "      <td>8.0</td>\n",
       "      <td>18438436.0</td>\n",
       "      <td>1296788.0</td>\n",
       "      <td>601160.0</td>\n",
       "      <td>34352.0</td>\n",
       "      <td>91204.0</td>\n",
       "      <td>42280.0</td>\n",
       "      <td>2416.0</td>\n",
       "      <td>19600.0</td>\n",
       "      <td>1120.0</td>\n",
       "      <td>64.0</td>\n",
       "    </tr>\n",
       "    <tr>\n",
       "      <th>3</th>\n",
       "      <td>2979.0</td>\n",
       "      <td>120.0</td>\n",
       "      <td>87.0</td>\n",
       "      <td>4.0</td>\n",
       "      <td>8874441.0</td>\n",
       "      <td>357480.0</td>\n",
       "      <td>259173.0</td>\n",
       "      <td>11916.0</td>\n",
       "      <td>14400.0</td>\n",
       "      <td>10440.0</td>\n",
       "      <td>480.0</td>\n",
       "      <td>7569.0</td>\n",
       "      <td>348.0</td>\n",
       "      <td>16.0</td>\n",
       "    </tr>\n",
       "    <tr>\n",
       "      <th>4</th>\n",
       "      <td>3288.0</td>\n",
       "      <td>232.0</td>\n",
       "      <td>100.0</td>\n",
       "      <td>6.0</td>\n",
       "      <td>10810944.0</td>\n",
       "      <td>762816.0</td>\n",
       "      <td>328800.0</td>\n",
       "      <td>19728.0</td>\n",
       "      <td>53824.0</td>\n",
       "      <td>23200.0</td>\n",
       "      <td>1392.0</td>\n",
       "      <td>10000.0</td>\n",
       "      <td>600.0</td>\n",
       "      <td>36.0</td>\n",
       "    </tr>\n",
       "  </tbody>\n",
       "</table>\n",
       "</div>\n",
       "      <button class=\"colab-df-convert\" onclick=\"convertToInteractive('df-fb39f049-1643-4984-bda3-5bdd284c17cb')\"\n",
       "              title=\"Convert this dataframe to an interactive table.\"\n",
       "              style=\"display:none;\">\n",
       "        \n",
       "  <svg xmlns=\"http://www.w3.org/2000/svg\" height=\"24px\"viewBox=\"0 0 24 24\"\n",
       "       width=\"24px\">\n",
       "    <path d=\"M0 0h24v24H0V0z\" fill=\"none\"/>\n",
       "    <path d=\"M18.56 5.44l.94 2.06.94-2.06 2.06-.94-2.06-.94-.94-2.06-.94 2.06-2.06.94zm-11 1L8.5 8.5l.94-2.06 2.06-.94-2.06-.94L8.5 2.5l-.94 2.06-2.06.94zm10 10l.94 2.06.94-2.06 2.06-.94-2.06-.94-.94-2.06-.94 2.06-2.06.94z\"/><path d=\"M17.41 7.96l-1.37-1.37c-.4-.4-.92-.59-1.43-.59-.52 0-1.04.2-1.43.59L10.3 9.45l-7.72 7.72c-.78.78-.78 2.05 0 2.83L4 21.41c.39.39.9.59 1.41.59.51 0 1.02-.2 1.41-.59l7.78-7.78 2.81-2.81c.8-.78.8-2.07 0-2.86zM5.41 20L4 18.59l7.72-7.72 1.47 1.35L5.41 20z\"/>\n",
       "  </svg>\n",
       "      </button>\n",
       "      \n",
       "  <style>\n",
       "    .colab-df-container {\n",
       "      display:flex;\n",
       "      flex-wrap:wrap;\n",
       "      gap: 12px;\n",
       "    }\n",
       "\n",
       "    .colab-df-convert {\n",
       "      background-color: #E8F0FE;\n",
       "      border: none;\n",
       "      border-radius: 50%;\n",
       "      cursor: pointer;\n",
       "      display: none;\n",
       "      fill: #1967D2;\n",
       "      height: 32px;\n",
       "      padding: 0 0 0 0;\n",
       "      width: 32px;\n",
       "    }\n",
       "\n",
       "    .colab-df-convert:hover {\n",
       "      background-color: #E2EBFA;\n",
       "      box-shadow: 0px 1px 2px rgba(60, 64, 67, 0.3), 0px 1px 3px 1px rgba(60, 64, 67, 0.15);\n",
       "      fill: #174EA6;\n",
       "    }\n",
       "\n",
       "    [theme=dark] .colab-df-convert {\n",
       "      background-color: #3B4455;\n",
       "      fill: #D2E3FC;\n",
       "    }\n",
       "\n",
       "    [theme=dark] .colab-df-convert:hover {\n",
       "      background-color: #434B5C;\n",
       "      box-shadow: 0px 1px 3px 1px rgba(0, 0, 0, 0.15);\n",
       "      filter: drop-shadow(0px 1px 2px rgba(0, 0, 0, 0.3));\n",
       "      fill: #FFFFFF;\n",
       "    }\n",
       "  </style>\n",
       "\n",
       "      <script>\n",
       "        const buttonEl =\n",
       "          document.querySelector('#df-fb39f049-1643-4984-bda3-5bdd284c17cb button.colab-df-convert');\n",
       "        buttonEl.style.display =\n",
       "          google.colab.kernel.accessAllowed ? 'block' : 'none';\n",
       "\n",
       "        async function convertToInteractive(key) {\n",
       "          const element = document.querySelector('#df-fb39f049-1643-4984-bda3-5bdd284c17cb');\n",
       "          const dataTable =\n",
       "            await google.colab.kernel.invokeFunction('convertToInteractive',\n",
       "                                                     [key], {});\n",
       "          if (!dataTable) return;\n",
       "\n",
       "          const docLinkHtml = 'Like what you see? Visit the ' +\n",
       "            '<a target=\"_blank\" href=https://colab.research.google.com/notebooks/data_table.ipynb>data table notebook</a>'\n",
       "            + ' to learn more about interactive tables.';\n",
       "          element.innerHTML = '';\n",
       "          dataTable['output_type'] = 'display_data';\n",
       "          await google.colab.output.renderOutput(dataTable, element);\n",
       "          const docLink = document.createElement('div');\n",
       "          docLink.innerHTML = docLinkHtml;\n",
       "          element.appendChild(docLink);\n",
       "        }\n",
       "      </script>\n",
       "    </div>\n",
       "  </div>\n",
       "  "
      ],
      "text/plain": [
       "   Weight  Displacement  Horsepower  Cylinders    Weight^2  \\\n",
       "0  4129.0         351.0       153.0        8.0  17048641.0   \n",
       "1  2542.0         140.0        75.0        4.0   6461764.0   \n",
       "2  4294.0         302.0       140.0        8.0  18438436.0   \n",
       "3  2979.0         120.0        87.0        4.0   8874441.0   \n",
       "4  3288.0         232.0       100.0        6.0  10810944.0   \n",
       "\n",
       "   Weight Displacement  Weight Horsepower  Weight Cylinders  Displacement^2  \\\n",
       "0            1449279.0           631737.0           33032.0        123201.0   \n",
       "1             355880.0           190650.0           10168.0         19600.0   \n",
       "2            1296788.0           601160.0           34352.0         91204.0   \n",
       "3             357480.0           259173.0           11916.0         14400.0   \n",
       "4             762816.0           328800.0           19728.0         53824.0   \n",
       "\n",
       "   Displacement Horsepower  Displacement Cylinders  Horsepower^2  \\\n",
       "0                  53703.0                  2808.0       23409.0   \n",
       "1                  10500.0                   560.0        5625.0   \n",
       "2                  42280.0                  2416.0       19600.0   \n",
       "3                  10440.0                   480.0        7569.0   \n",
       "4                  23200.0                  1392.0       10000.0   \n",
       "\n",
       "   Horsepower Cylinders  Cylinders^2  \n",
       "0                1224.0         64.0  \n",
       "1                 300.0         16.0  \n",
       "2                1120.0         64.0  \n",
       "3                 348.0         16.0  \n",
       "4                 600.0         36.0  "
      ]
     },
     "execution_count": 554,
     "metadata": {},
     "output_type": "execute_result"
    }
   ],
   "source": [
    "# 重回帰用に累乗列と交互作用特徴量を一括追加\n",
    "pf_test_LR = PolynomialFeatures(degree=2, include_bias=False)\n",
    "pf_x_test_LR = pf_test_LR.fit_transform(x_test_LR)\n",
    "x_test_LR2 = pd.DataFrame(pf_x_test_LR)\n",
    "\n",
    "# 列名の変更\n",
    "x_test_LR2.columns = LR_columns\n",
    "\n",
    "x_test_LR2.head()"
   ]
  },
  {
   "cell_type": "code",
   "execution_count": null,
   "metadata": {
    "colab": {
     "base_uri": "https://localhost:8080/",
     "height": 206
    },
    "id": "TLNsokIckq2k",
    "outputId": "e921dea1-3190-442c-ffed-fe1da9fbb6fc"
   },
   "outputs": [
    {
     "data": {
      "text/html": [
       "\n",
       "  <div id=\"df-d4d38059-7965-43b8-8fd5-225952f6d1f9\">\n",
       "    <div class=\"colab-df-container\">\n",
       "      <div>\n",
       "<style scoped>\n",
       "    .dataframe tbody tr th:only-of-type {\n",
       "        vertical-align: middle;\n",
       "    }\n",
       "\n",
       "    .dataframe tbody tr th {\n",
       "        vertical-align: top;\n",
       "    }\n",
       "\n",
       "    .dataframe thead th {\n",
       "        text-align: right;\n",
       "    }\n",
       "</style>\n",
       "<table border=\"1\" class=\"dataframe\">\n",
       "  <thead>\n",
       "    <tr style=\"text-align: right;\">\n",
       "      <th></th>\n",
       "      <th>Horsepower</th>\n",
       "      <th>Cylinders</th>\n",
       "      <th>Weight Displacement</th>\n",
       "      <th>Weight Horsepower</th>\n",
       "      <th>Displacement^2</th>\n",
       "      <th>Displacement Horsepower</th>\n",
       "      <th>Displacement Cylinders</th>\n",
       "      <th>Horsepower^2</th>\n",
       "      <th>Cylinders^2</th>\n",
       "    </tr>\n",
       "  </thead>\n",
       "  <tbody>\n",
       "    <tr>\n",
       "      <th>0</th>\n",
       "      <td>153.0</td>\n",
       "      <td>8.0</td>\n",
       "      <td>1449279.0</td>\n",
       "      <td>631737.0</td>\n",
       "      <td>123201.0</td>\n",
       "      <td>53703.0</td>\n",
       "      <td>2808.0</td>\n",
       "      <td>23409.0</td>\n",
       "      <td>64.0</td>\n",
       "    </tr>\n",
       "    <tr>\n",
       "      <th>1</th>\n",
       "      <td>75.0</td>\n",
       "      <td>4.0</td>\n",
       "      <td>355880.0</td>\n",
       "      <td>190650.0</td>\n",
       "      <td>19600.0</td>\n",
       "      <td>10500.0</td>\n",
       "      <td>560.0</td>\n",
       "      <td>5625.0</td>\n",
       "      <td>16.0</td>\n",
       "    </tr>\n",
       "    <tr>\n",
       "      <th>2</th>\n",
       "      <td>140.0</td>\n",
       "      <td>8.0</td>\n",
       "      <td>1296788.0</td>\n",
       "      <td>601160.0</td>\n",
       "      <td>91204.0</td>\n",
       "      <td>42280.0</td>\n",
       "      <td>2416.0</td>\n",
       "      <td>19600.0</td>\n",
       "      <td>64.0</td>\n",
       "    </tr>\n",
       "    <tr>\n",
       "      <th>3</th>\n",
       "      <td>87.0</td>\n",
       "      <td>4.0</td>\n",
       "      <td>357480.0</td>\n",
       "      <td>259173.0</td>\n",
       "      <td>14400.0</td>\n",
       "      <td>10440.0</td>\n",
       "      <td>480.0</td>\n",
       "      <td>7569.0</td>\n",
       "      <td>16.0</td>\n",
       "    </tr>\n",
       "    <tr>\n",
       "      <th>4</th>\n",
       "      <td>100.0</td>\n",
       "      <td>6.0</td>\n",
       "      <td>762816.0</td>\n",
       "      <td>328800.0</td>\n",
       "      <td>53824.0</td>\n",
       "      <td>23200.0</td>\n",
       "      <td>1392.0</td>\n",
       "      <td>10000.0</td>\n",
       "      <td>36.0</td>\n",
       "    </tr>\n",
       "  </tbody>\n",
       "</table>\n",
       "</div>\n",
       "      <button class=\"colab-df-convert\" onclick=\"convertToInteractive('df-d4d38059-7965-43b8-8fd5-225952f6d1f9')\"\n",
       "              title=\"Convert this dataframe to an interactive table.\"\n",
       "              style=\"display:none;\">\n",
       "        \n",
       "  <svg xmlns=\"http://www.w3.org/2000/svg\" height=\"24px\"viewBox=\"0 0 24 24\"\n",
       "       width=\"24px\">\n",
       "    <path d=\"M0 0h24v24H0V0z\" fill=\"none\"/>\n",
       "    <path d=\"M18.56 5.44l.94 2.06.94-2.06 2.06-.94-2.06-.94-.94-2.06-.94 2.06-2.06.94zm-11 1L8.5 8.5l.94-2.06 2.06-.94-2.06-.94L8.5 2.5l-.94 2.06-2.06.94zm10 10l.94 2.06.94-2.06 2.06-.94-2.06-.94-.94-2.06-.94 2.06-2.06.94z\"/><path d=\"M17.41 7.96l-1.37-1.37c-.4-.4-.92-.59-1.43-.59-.52 0-1.04.2-1.43.59L10.3 9.45l-7.72 7.72c-.78.78-.78 2.05 0 2.83L4 21.41c.39.39.9.59 1.41.59.51 0 1.02-.2 1.41-.59l7.78-7.78 2.81-2.81c.8-.78.8-2.07 0-2.86zM5.41 20L4 18.59l7.72-7.72 1.47 1.35L5.41 20z\"/>\n",
       "  </svg>\n",
       "      </button>\n",
       "      \n",
       "  <style>\n",
       "    .colab-df-container {\n",
       "      display:flex;\n",
       "      flex-wrap:wrap;\n",
       "      gap: 12px;\n",
       "    }\n",
       "\n",
       "    .colab-df-convert {\n",
       "      background-color: #E8F0FE;\n",
       "      border: none;\n",
       "      border-radius: 50%;\n",
       "      cursor: pointer;\n",
       "      display: none;\n",
       "      fill: #1967D2;\n",
       "      height: 32px;\n",
       "      padding: 0 0 0 0;\n",
       "      width: 32px;\n",
       "    }\n",
       "\n",
       "    .colab-df-convert:hover {\n",
       "      background-color: #E2EBFA;\n",
       "      box-shadow: 0px 1px 2px rgba(60, 64, 67, 0.3), 0px 1px 3px 1px rgba(60, 64, 67, 0.15);\n",
       "      fill: #174EA6;\n",
       "    }\n",
       "\n",
       "    [theme=dark] .colab-df-convert {\n",
       "      background-color: #3B4455;\n",
       "      fill: #D2E3FC;\n",
       "    }\n",
       "\n",
       "    [theme=dark] .colab-df-convert:hover {\n",
       "      background-color: #434B5C;\n",
       "      box-shadow: 0px 1px 3px 1px rgba(0, 0, 0, 0.15);\n",
       "      filter: drop-shadow(0px 1px 2px rgba(0, 0, 0, 0.3));\n",
       "      fill: #FFFFFF;\n",
       "    }\n",
       "  </style>\n",
       "\n",
       "      <script>\n",
       "        const buttonEl =\n",
       "          document.querySelector('#df-d4d38059-7965-43b8-8fd5-225952f6d1f9 button.colab-df-convert');\n",
       "        buttonEl.style.display =\n",
       "          google.colab.kernel.accessAllowed ? 'block' : 'none';\n",
       "\n",
       "        async function convertToInteractive(key) {\n",
       "          const element = document.querySelector('#df-d4d38059-7965-43b8-8fd5-225952f6d1f9');\n",
       "          const dataTable =\n",
       "            await google.colab.kernel.invokeFunction('convertToInteractive',\n",
       "                                                     [key], {});\n",
       "          if (!dataTable) return;\n",
       "\n",
       "          const docLinkHtml = 'Like what you see? Visit the ' +\n",
       "            '<a target=\"_blank\" href=https://colab.research.google.com/notebooks/data_table.ipynb>data table notebook</a>'\n",
       "            + ' to learn more about interactive tables.';\n",
       "          element.innerHTML = '';\n",
       "          dataTable['output_type'] = 'display_data';\n",
       "          await google.colab.output.renderOutput(dataTable, element);\n",
       "          const docLink = document.createElement('div');\n",
       "          docLink.innerHTML = docLinkHtml;\n",
       "          element.appendChild(docLink);\n",
       "        }\n",
       "      </script>\n",
       "    </div>\n",
       "  </div>\n",
       "  "
      ],
      "text/plain": [
       "   Horsepower  Cylinders  Weight Displacement  Weight Horsepower  \\\n",
       "0       153.0        8.0            1449279.0           631737.0   \n",
       "1        75.0        4.0             355880.0           190650.0   \n",
       "2       140.0        8.0            1296788.0           601160.0   \n",
       "3        87.0        4.0             357480.0           259173.0   \n",
       "4       100.0        6.0             762816.0           328800.0   \n",
       "\n",
       "   Displacement^2  Displacement Horsepower  Displacement Cylinders  \\\n",
       "0        123201.0                  53703.0                  2808.0   \n",
       "1         19600.0                  10500.0                   560.0   \n",
       "2         91204.0                  42280.0                  2416.0   \n",
       "3         14400.0                  10440.0                   480.0   \n",
       "4         53824.0                  23200.0                  1392.0   \n",
       "\n",
       "   Horsepower^2  Cylinders^2  \n",
       "0       23409.0         64.0  \n",
       "1        5625.0         16.0  \n",
       "2       19600.0         64.0  \n",
       "3        7569.0         16.0  \n",
       "4       10000.0         36.0  "
      ]
     },
     "execution_count": 555,
     "metadata": {},
     "output_type": "execute_result"
    }
   ],
   "source": [
    "# 最終的な特徴量の抽出\n",
    "x_test_LR = x_test_LR2.loc[:, LR_pattern]\n",
    "\n",
    "x_test_LR.head()"
   ]
  },
  {
   "cell_type": "code",
   "execution_count": null,
   "metadata": {
    "id": "r7gBsxx1h8ks"
   },
   "outputs": [],
   "source": [
    "# 重回帰用特徴量を標準化\n",
    "sc_x_test_LR = sc_x_LR.fit_transform(x_test_LR)"
   ]
  },
  {
   "cell_type": "code",
   "execution_count": null,
   "metadata": {
    "id": "aR5UpCptiaG5"
   },
   "outputs": [],
   "source": [
    "# リッジ回帰とラッソ回帰用に累乗列と交互作用特徴量を一括追加\n",
    "pf = PolynomialFeatures(degree=2, include_bias=True)\n",
    "x_test_pf = pf.fit_transform(x_test)"
   ]
  },
  {
   "cell_type": "code",
   "execution_count": null,
   "metadata": {
    "id": "FBHNl7o5lg95"
   },
   "outputs": [],
   "source": [
    "# リッジ回帰とラッソ回帰用特徴量を標準化\n",
    "sc_x_test = sc_x.fit_transform(x_test_pf)"
   ]
  },
  {
   "cell_type": "code",
   "execution_count": null,
   "metadata": {
    "colab": {
     "base_uri": "https://localhost:8080/"
    },
    "id": "jcOJryJzi1ja",
    "outputId": "70e3e644-c46f-4c1e-dfaa-5454f7a6ead0"
   },
   "outputs": [
    {
     "name": "stdout",
     "output_type": "stream",
     "text": [
      "重回帰  ... 0.76654\n",
      "重回帰2 ... 0.83247\n",
      "リッジ  ... 0.85803\n",
      "ラッソ  ... 0.87859\n",
      "回帰木  ... 0.80678\n"
     ]
    }
   ],
   "source": [
    "# LinearRegressionでテスト\n",
    "print(f\"重回帰  ... {LR_model.score(sc_x_test_LR, sc_y_test):.5f}\")\n",
    "\n",
    "\n",
    "# 特徴量選択無しのLinearRegressionでテスト\n",
    "print(f\"重回帰2 ... {model_LR_tmp.score(sc_x_test, sc_y_test):.5f}\")\n",
    "\n",
    "\n",
    "# Ridgeでテスト\n",
    "print(f\"リッジ  ... {R_model.score(sc_x_test, sc_y_test):.5f}\")\n",
    "\n",
    "\n",
    "# Lassoでテスト\n",
    "print(f\"ラッソ  ... {L_model.score(sc_x_test, sc_y_test):.5f}\")\n",
    "\n",
    "\n",
    "# DecisionTreeRegressorで分類\n",
    "print(f\"回帰木  ... {DTR_model.score(x_test, y_test):.5f}\")"
   ]
  },
  {
   "cell_type": "markdown",
   "metadata": {
    "id": "SnywRNJKnkgH"
   },
   "source": [
    "以上により、もっとも精度の良い回帰は「ラッソ回帰」となった"
   ]
  },
  {
   "cell_type": "code",
   "execution_count": null,
   "metadata": {
    "id": "3rcfDyDUn7fP"
   },
   "outputs": [],
   "source": [
    "# モデルの保存\n",
    "\n",
    "with open('auto_mpg_sc_y.pkl', 'wb') as f:\n",
    "  pickle.dump(sc_y, f)\n",
    "with open('auto_mpg_LR_sc.pkl', 'wb') as f:\n",
    "  pickle.dump(sc_x_LR, f)\n",
    "with open('auto_mpg_LR.pkl', 'wb') as f:\n",
    "  pickle.dump(LR_model, f)\n",
    "with open('auto_mpg_sc.pkl', 'wb') as f:\n",
    "  pickle.dump(sc_x, f)\n",
    "with open('auto_mpg_R.pkl', 'wb') as f:\n",
    "  pickle.dump(R_model, f)\n",
    "with open('auto_mpg_L.pkl', 'wb') as f:\n",
    "  pickle.dump(L_model, f)\n",
    "with open('auto_mpg_DTR.pkl', 'wb') as f:\n",
    "  pickle.dump(DTR_model, f)"
   ]
  },
  {
   "cell_type": "code",
   "execution_count": null,
   "metadata": {
    "id": "C3Cgx6jBnFEy"
   },
   "outputs": [],
   "source": []
  }
 ],
 "metadata": {
  "colab": {
   "collapsed_sections": [],
   "name": "kouka_回帰_大宮校_矢島翔ipynb",
   "provenance": []
  },
  "kernelspec": {
   "display_name": "Python 3",
   "language": "python",
   "name": "python3"
  },
  "language_info": {
   "codemirror_mode": {
    "name": "ipython",
    "version": 3
   },
   "file_extension": ".py",
   "mimetype": "text/x-python",
   "name": "python",
   "nbconvert_exporter": "python",
   "pygments_lexer": "ipython3",
   "version": "3.8.5"
  }
 },
 "nbformat": 4,
 "nbformat_minor": 1
}
