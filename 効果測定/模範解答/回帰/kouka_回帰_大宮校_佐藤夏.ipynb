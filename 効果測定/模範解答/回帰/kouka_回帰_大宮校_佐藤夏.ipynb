{
 "cells": [
  {
   "cell_type": "markdown",
   "metadata": {
    "id": "tO-ahUd-Z-QW"
   },
   "source": [
    "# 回帰：燃料１ガロンあたりにつき何マイル走るのか"
   ]
  },
  {
   "cell_type": "code",
   "execution_count": 5,
   "metadata": {
    "id": "brGWbw35xmYh"
   },
   "outputs": [],
   "source": []
  },
  {
   "cell_type": "markdown",
   "metadata": {
    "id": "uRLzI6Weaux6"
   },
   "source": [
    "ライブラリのインポート"
   ]
  },
  {
   "cell_type": "code",
   "execution_count": 6,
   "metadata": {
    "id": "h5IE4ayEaYO1"
   },
   "outputs": [],
   "source": [
    "import pandas as pd\n",
    "#文字化けの防止\n",
    "%matplotlib inline\n",
    "from sklearn.linear_model import LinearRegression #重回帰\n",
    "from sklearn.model_selection import train_test_split\n",
    "from sklearn.covariance import MinCovDet\n",
    "from sklearn.preprocessing import StandardScaler #データの標準化\n",
    "from sklearn.preprocessing import PolynomialFeatures   #多項式特徴量と交互作用特徴量の追加\n",
    "from sklearn.linear_model import Ridge #リッジ回帰 - \n",
    "from sklearn.linear_model import Lasso #ラッソ回帰 - 不要な特徴量を削除したうえで回帰式を作成するモデル\n",
    "from sklearn.tree import DecisionTreeRegressor"
   ]
  },
  {
   "cell_type": "markdown",
   "metadata": {
    "id": "ddzeiEI_a1fD"
   },
   "source": [
    " CSVファイルのインポート\n",
    "CSVファイルを読み込んで、先頭５行表示"
   ]
  },
  {
   "cell_type": "code",
   "execution_count": 7,
   "metadata": {
    "colab": {
     "base_uri": "https://localhost:8080/"
    },
    "id": "OwDf87Ooa0oS",
    "outputId": "bd4e5e4f-9f8f-4ab7-c811-70970bbedb94"
   },
   "outputs": [
    {
     "name": "stdout",
     "output_type": "stream",
     "text": [
      "     Unnamed: 0   MPG  Cylinders  Displacement  Horsepower  Weight  \\\n",
      "0             0  18.0          8         307.0       130.0    3504   \n",
      "1             1  15.0          8         350.0       165.0    3693   \n",
      "2             2  18.0          8         318.0       150.0    3436   \n",
      "3             3  16.0          8         304.0       150.0    3433   \n",
      "4             4  17.0          8         302.0       140.0    3449   \n",
      "..          ...   ...        ...           ...         ...     ...   \n",
      "393         393  27.0          4         140.0        86.0    2790   \n",
      "394         394  44.0          4          97.0        52.0    2130   \n",
      "395         395  32.0          4         135.0        84.0    2295   \n",
      "396         396  28.0          4         120.0        79.0    2625   \n",
      "397         397  31.0          4         119.0        82.0    2720   \n",
      "\n",
      "     Acceleration  Model Year  Origin  \n",
      "0            12.0          70       1  \n",
      "1            11.5          70       1  \n",
      "2            11.0          70       1  \n",
      "3            12.0          70       1  \n",
      "4            10.5          70       1  \n",
      "..            ...         ...     ...  \n",
      "393          15.6          82       1  \n",
      "394          24.6          82       2  \n",
      "395          11.6          82       1  \n",
      "396          18.6          82       1  \n",
      "397          19.4          82       1  \n",
      "\n",
      "[398 rows x 9 columns]\n"
     ]
    }
   ],
   "source": [
    "df = pd.read_csv('auto_mgp.csv')\n",
    "print(df)"
   ]
  },
  {
   "cell_type": "markdown",
   "metadata": {},
   "source": [
    "### ▼print関数を使うのではなく、pandasのデータフレーム形式で表示"
   ]
  },
  {
   "cell_type": "markdown",
   "metadata": {
    "id": "snoLJoLx-PjE"
   },
   "source": [
    "カテゴリ特徴量列があるときはダミー変数化"
   ]
  },
  {
   "cell_type": "code",
   "execution_count": 8,
   "metadata": {
    "colab": {
     "base_uri": "https://localhost:8080/"
    },
    "id": "E8UCFDVT-Sz-",
    "outputId": "047d37b1-0b20-4950-f43a-78f1561ebc28"
   },
   "outputs": [
    {
     "name": "stdout",
     "output_type": "stream",
     "text": [
      "     Unnamed: 0   MPG  Cylinders  Displacement  Horsepower  Weight  \\\n",
      "0             0  18.0          8         307.0       130.0    3504   \n",
      "1             1  15.0          8         350.0       165.0    3693   \n",
      "2             2  18.0          8         318.0       150.0    3436   \n",
      "3             3  16.0          8         304.0       150.0    3433   \n",
      "4             4  17.0          8         302.0       140.0    3449   \n",
      "..          ...   ...        ...           ...         ...     ...   \n",
      "393         393  27.0          4         140.0        86.0    2790   \n",
      "394         394  44.0          4          97.0        52.0    2130   \n",
      "395         395  32.0          4         135.0        84.0    2295   \n",
      "396         396  28.0          4         120.0        79.0    2625   \n",
      "397         397  31.0          4         119.0        82.0    2720   \n",
      "\n",
      "     Acceleration  Model Year  2  3  \n",
      "0            12.0          70  0  0  \n",
      "1            11.5          70  0  0  \n",
      "2            11.0          70  0  0  \n",
      "3            12.0          70  0  0  \n",
      "4            10.5          70  0  0  \n",
      "..            ...         ... .. ..  \n",
      "393          15.6          82  0  0  \n",
      "394          24.6          82  1  0  \n",
      "395          11.6          82  0  0  \n",
      "396          18.6          82  0  0  \n",
      "397          19.4          82  0  0  \n",
      "\n",
      "[398 rows x 10 columns]\n"
     ]
    }
   ],
   "source": [
    "#Originをカテゴリとするか検討 - ダミー変数化する\n",
    "temp_df = pd.get_dummies(df['Origin'], drop_first = True)\n",
    "df2 = df.drop('Origin', axis=1)\n",
    "df3 = pd.concat([df2, temp_df], axis=1)\n",
    "print(df3)"
   ]
  },
  {
   "cell_type": "markdown",
   "metadata": {},
   "source": [
    "### ▼メソッドを呼び出すごとに何をしているのかを記述\n",
    "### ▼print関数ではなく、pandasのデータフレーム形式で表示"
   ]
  },
  {
   "cell_type": "markdown",
   "metadata": {
    "id": "HP630wsMzhHh"
   },
   "source": [
    "訓練データ&検証データとテストデータに分割"
   ]
  },
  {
   "cell_type": "code",
   "execution_count": 9,
   "metadata": {
    "colab": {
     "base_uri": "https://localhost:8080/"
    },
    "id": "Ho0mfOWgaerw",
    "outputId": "ca4cef0b-2259-48fe-deb4-822afd5781af"
   },
   "outputs": [
    {
     "name": "stdout",
     "output_type": "stream",
     "text": [
      "      MPG  Cylinders  Displacement  Horsepower  Weight  Acceleration  \\\n",
      "64   15.0          8         318.0       150.0    4135          13.5   \n",
      "55   27.0          4          97.0        60.0    1834          19.0   \n",
      "317  34.3          4          97.0        78.0    2188          15.8   \n",
      "102  26.0          4          97.0        46.0    1950          21.0   \n",
      "358  31.6          4         120.0        74.0    2635          18.3   \n",
      "..    ...        ...           ...         ...     ...           ...   \n",
      "323  27.9          4         156.0       105.0    2800          14.4   \n",
      "192  22.0          6         250.0       105.0    3353          14.5   \n",
      "117  29.0          4          68.0        49.0    1867          19.5   \n",
      "47   19.0          6         250.0       100.0    3282          15.0   \n",
      "172  25.0          4          90.0        71.0    2223          16.5   \n",
      "\n",
      "     Model Year  2  3  \n",
      "64           72  0  0  \n",
      "55           71  1  0  \n",
      "317          80  1  0  \n",
      "102          73  1  0  \n",
      "358          81  0  1  \n",
      "..          ... .. ..  \n",
      "323          80  0  0  \n",
      "192          76  0  0  \n",
      "117          73  1  0  \n",
      "47           71  0  0  \n",
      "172          75  1  0  \n",
      "\n",
      "[318 rows x 9 columns]\n"
     ]
    }
   ],
   "source": [
    "#左端の行番号削除\n",
    "df4 = df3.drop(df.columns[[0, 0]], axis=1)\n",
    "\n",
    "#訓練データ&検証データとテストデータに分割\n",
    "train_val, test = train_test_split(df4, test_size=0.2, random_state=0)\n",
    "print(train_val)"
   ]
  },
  {
   "cell_type": "markdown",
   "metadata": {},
   "source": [
    "### ▼訓練データとテストデータの比率を記述\n",
    "### ▼print関数ではなく、pandasのデータフレーム形式で表示"
   ]
  },
  {
   "cell_type": "code",
   "execution_count": 10,
   "metadata": {
    "colab": {
     "base_uri": "https://localhost:8080/"
    },
    "id": "pHtC4rcYLVpu",
    "outputId": "6f57d617-ea10-4bf1-c274-33094fa4bebc"
   },
   "outputs": [
    {
     "name": "stdout",
     "output_type": "stream",
     "text": [
      "      MPG  Cylinders  Displacement  Horsepower  Weight  Acceleration  \\\n",
      "0    15.0          8         318.0       150.0    4135          13.5   \n",
      "1    27.0          4          97.0        60.0    1834          19.0   \n",
      "2    34.3          4          97.0        78.0    2188          15.8   \n",
      "3    26.0          4          97.0        46.0    1950          21.0   \n",
      "4    31.6          4         120.0        74.0    2635          18.3   \n",
      "..    ...        ...           ...         ...     ...           ...   \n",
      "313  27.9          4         156.0       105.0    2800          14.4   \n",
      "314  22.0          6         250.0       105.0    3353          14.5   \n",
      "315  29.0          4          68.0        49.0    1867          19.5   \n",
      "316  19.0          6         250.0       100.0    3282          15.0   \n",
      "317  25.0          4          90.0        71.0    2223          16.5   \n",
      "\n",
      "     Model Year  2  3  \n",
      "0            72  0  0  \n",
      "1            71  1  0  \n",
      "2            80  1  0  \n",
      "3            73  1  0  \n",
      "4            81  0  1  \n",
      "..          ... .. ..  \n",
      "313          80  0  0  \n",
      "314          76  0  0  \n",
      "315          73  1  0  \n",
      "316          71  0  0  \n",
      "317          75  1  0  \n",
      "\n",
      "[318 rows x 9 columns]\n"
     ]
    }
   ],
   "source": [
    "#train_valとtestの行番号を振りなおす ★外れ値の処理で消せない★ … testは最後に使用\n",
    "train_val = train_val.reset_index(drop=True)\n",
    "print(train_val)"
   ]
  },
  {
   "cell_type": "markdown",
   "metadata": {},
   "source": [
    "### ▼print関数ではなく、pandasのデータフレーム形式で表示"
   ]
  },
  {
   "cell_type": "markdown",
   "metadata": {
    "id": "mcjpvb6S1m4O"
   },
   "source": [
    "欠損値の処理"
   ]
  },
  {
   "cell_type": "code",
   "execution_count": 11,
   "metadata": {
    "colab": {
     "base_uri": "https://localhost:8080/"
    },
    "id": "xwDdsXyKcSNy",
    "outputId": "ccbec520-bf75-4aa1-b5a9-6f9e8651b5be"
   },
   "outputs": [
    {
     "data": {
      "text/plain": [
       "MPG             0\n",
       "Cylinders       0\n",
       "Displacement    0\n",
       "Horsepower      5\n",
       "Weight          0\n",
       "Acceleration    0\n",
       "Model Year      0\n",
       "2               0\n",
       "3               0\n",
       "dtype: int64"
      ]
     },
     "execution_count": 11,
     "metadata": {},
     "output_type": "execute_result"
    }
   ],
   "source": [
    "#欠損値の確認\n",
    "train_val.isnull().sum()"
   ]
  },
  {
   "cell_type": "code",
   "execution_count": 12,
   "metadata": {
    "colab": {
     "base_uri": "https://localhost:8080/"
    },
    "id": "5P1-pYnAcqFF",
    "outputId": "e28f7460-4b9a-4dfe-a584-d0f3b2e50046"
   },
   "outputs": [
    {
     "name": "stderr",
     "output_type": "stream",
     "text": [
      "/usr/local/lib/python3.7/dist-packages/sklearn/utils/validation.py:1692: FutureWarning: Feature names only support names that are all strings. Got feature names with dtypes: ['int', 'str']. An error will be raised in 1.2.\n",
      "  FutureWarning,\n",
      "/usr/local/lib/python3.7/dist-packages/sklearn/utils/validation.py:1692: FutureWarning: Feature names only support names that are all strings. Got feature names with dtypes: ['int', 'str']. An error will be raised in 1.2.\n",
      "  FutureWarning,\n"
     ]
    }
   ],
   "source": [
    "#### Horsepower(馬力) は時系列ではないため、教師あり学習による補完を行う\n",
    "\n",
    "## Horsepower(馬力) を予測する重回帰の予測モデルを作成\n",
    "#  Horsepower(馬力)の欠損は5個\n",
    "non_df = train_val.dropna() #欠損値を含む行を削除\n",
    "\n",
    "temp_x = non_df.drop(['Horsepower'], axis=1)\n",
    "temp_t = non_df['Horsepower']\n",
    "\n",
    "temp_model = LinearRegression()\n",
    "temp_model.fit(temp_x, temp_t)   #Horsepowerを予測するための学習\n",
    "\n",
    "## 欠損データの本来の値を予測して補完\n",
    "# 欠損行の抜き出し\n",
    "condition = train_val['Horsepower'].isnull() #欠損値有り：True、欠損値無し：False\n",
    "non_data = train_val.loc[condition]          #欠損値有り：True の行だけを抜き出す\n",
    "\n",
    "#特徴量を抜き出し、モデルで予測\n",
    "temp_x = non_data.drop(['Horsepower'], axis=1)\n",
    "pred = temp_model.predict(temp_x)\n",
    "\n",
    "#欠損行のHorsepowerのマスを抜き出して、predで代入\n",
    "train_val.loc[condition, 'Horsepower'] = pred"
   ]
  },
  {
   "cell_type": "code",
   "execution_count": 13,
   "metadata": {
    "id": "g2dvP-tDMrCX"
   },
   "outputs": [],
   "source": [
    "#以下,結果確認用\n",
    "#non_data.head(10)\n",
    "#train_val.isnull().sum() \n",
    "#print(train_val)"
   ]
  },
  {
   "cell_type": "markdown",
   "metadata": {
    "id": "JGZTlMrG1_zO"
   },
   "source": [
    "外れ値の処理"
   ]
  },
  {
   "cell_type": "markdown",
   "metadata": {
    "id": "w0lfmvdQYjg-"
   },
   "source": [
    "マハラノビス距離を計算"
   ]
  },
  {
   "cell_type": "code",
   "execution_count": 14,
   "metadata": {
    "colab": {
     "base_uri": "https://localhost:8080/"
    },
    "id": "laiCzHeO7pbu",
    "outputId": "41081513-a804-49d8-d99a-e2d7d8eb8005"
   },
   "outputs": [
    {
     "name": "stderr",
     "output_type": "stream",
     "text": [
      "/usr/local/lib/python3.7/dist-packages/sklearn/utils/validation.py:1692: FutureWarning: Feature names only support names that are all strings. Got feature names with dtypes: ['int', 'str']. An error will be raised in 1.2.\n",
      "  FutureWarning,\n",
      "/usr/local/lib/python3.7/dist-packages/sklearn/utils/validation.py:1692: FutureWarning: Feature names only support names that are all strings. Got feature names with dtypes: ['int', 'str']. An error will be raised in 1.2.\n",
      "  FutureWarning,\n"
     ]
    },
    {
     "data": {
      "text/plain": [
       "array([  4.7097141 ,  15.77967991,   7.9920654 ,  19.73924082,\n",
       "         7.7758966 ,   4.74611413,   5.33013985,   4.08034365,\n",
       "        39.43226584,   9.83930522,  17.22591592,  90.75277739,\n",
       "        16.29048467,   9.23072612,  23.28540854,   5.86665159,\n",
       "        30.55111785,  10.62584831,   5.09711238,  19.23366649,\n",
       "         5.14521666,   7.05264266,   5.1538877 ,   8.59206395,\n",
       "         8.34657918,   7.00703206,   9.86544334,  20.02075005,\n",
       "         4.63552596,  12.18294919,   9.02662356,   8.47000024,\n",
       "         4.3953604 ,   6.30193264,   9.80413256,   4.57066188,\n",
       "         9.382632  ,   4.5529119 ,   5.2516027 ,   4.73517359,\n",
       "         9.30667849,   8.39257578,   9.65744665,  13.18872389,\n",
       "         5.16959126,  19.01948914,   5.01072295,   5.45120898,\n",
       "         5.94450571,   4.68826143,   6.55297418,   7.09795128,\n",
       "         2.0035083 ,   3.44318141,   6.20455506,  40.68106518,\n",
       "         6.24951564,   9.16551753,   7.782968  ,   2.57086484,\n",
       "         9.79417041,   7.05963873,   5.76969323,  20.04605425,\n",
       "         5.30887971,  22.92742158,   9.42295644,  74.54409758,\n",
       "        28.76551126,  13.01002396,   6.69212963,   9.18465537,\n",
       "        27.75205948,   7.26706287,  12.13437933,   3.12401605,\n",
       "         8.57077338,  16.64349409,   2.19408739,   9.82504254,\n",
       "        11.74465881,   6.81652293,   7.93946835,   6.51378671,\n",
       "         8.57242748,   2.23427774,  14.55483256,   7.60778195,\n",
       "         4.4200803 ,   1.97332368,   7.76889824,  11.2322115 ,\n",
       "         5.19944941,  11.20355866,  11.26296344,  10.09522545,\n",
       "         6.19265444,   4.43123689,  10.579133  ,   8.89205472,\n",
       "         8.56576355,   6.53724307,   4.15915783,  11.81841585,\n",
       "         8.29924287,   8.23790231,   8.54695833,   2.15577906,\n",
       "        13.61346595,  26.91912555,   9.63569789,  54.91964303,\n",
       "        10.71254184,   7.80147188,  14.12372074,  13.01216427,\n",
       "        10.7393847 ,   7.74244288,   9.49832386,   4.48456775,\n",
       "         5.35858099,   7.62561686,  19.79222161,  14.74273256,\n",
       "         5.52371242,   8.04448137,   3.98619073,  13.38809447,\n",
       "        45.3882665 ,   8.15368917,   7.53889756,  18.31041749,\n",
       "         4.38666449,   7.25610061,   5.46257288,  12.38259478,\n",
       "        10.75418156,  16.51651996,   5.31739233,   4.73795797,\n",
       "         5.43740657,   9.53676565,   5.21745733,   8.696277  ,\n",
       "         5.2762778 ,  12.29953332,  16.82571278, 243.5914414 ,\n",
       "         8.94349899,   5.68261454,   7.13681967,   7.21833554,\n",
       "         7.15585427,  15.25982212,  14.41960523,   9.00627756,\n",
       "         9.5468301 ,   9.56388071,  15.0175728 ,   8.16112493,\n",
       "         4.72251586,   5.00341761,   4.28118061,   6.84584609,\n",
       "         7.02769628,   6.43371342,   5.36193591,   3.59037   ,\n",
       "         6.04534419,   6.42895219,   4.53509868,   9.23866138,\n",
       "        20.12350787,   3.68040221,   7.48378087,   6.08251877,\n",
       "        20.289391  ,   5.00361841,   7.56409964,   5.93515204,\n",
       "        12.17611582,  22.25569816,   1.79354452,   6.20384396,\n",
       "        10.39849305,  20.32026598,   4.01727118,   9.75603237,\n",
       "         4.80881001,  30.03402275,   6.46305102,   7.80670013,\n",
       "         6.15426001,   8.72784595,   6.44612214,   1.63331867,\n",
       "        15.82537885,  27.14050489,   6.33558984,   4.89837825,\n",
       "        15.29777491,   8.65908016,   8.70571352,   5.12862314,\n",
       "         6.51523742,   9.17527333,  27.50650571,   5.98820001,\n",
       "        10.91716884,   8.62180066,  15.67494829,  25.36015626,\n",
       "         5.71769696,  12.68833757,   4.5446278 ,   9.43978467,\n",
       "        15.03323347,  14.4393874 ,   8.3064345 ,   3.32684739,\n",
       "        12.67080644,   7.30719186,   5.76162188,  11.6250153 ,\n",
       "         2.83604246,  55.33551529,  13.53191491,  66.52114387,\n",
       "         5.10800223,   4.33531308,   5.51125765,   4.75198982,\n",
       "        16.49462929,  13.976202  ,   4.13822604,   5.91359849,\n",
       "         9.38455931,   7.67884923,  11.98889196,  14.63358036,\n",
       "         7.17199458,   6.47364605,  12.28575323,  13.08365485,\n",
       "         7.54288298,  10.93018077,   6.4284503 ,  30.06737   ,\n",
       "        18.25501737,   8.46302563,   7.10795989,   8.60392772,\n",
       "        11.63833284,   7.49148416,   5.55729927,   4.35825996,\n",
       "        10.27158806,  14.14333706,   7.89912044,  11.19786158,\n",
       "         5.86181632,   6.13339015,   6.3156809 ,  11.09524092,\n",
       "         6.53647982,   5.1381712 ,   8.01778585,  63.85710026,\n",
       "         8.80054691,  12.10956889,   7.4085774 ,  19.39993625,\n",
       "        10.33657282,   8.90093802,  10.13665086,   4.7539027 ,\n",
       "         6.32034644,   7.31771451,   6.36718951,  32.76957523,\n",
       "         6.2490696 ,   5.8942707 ,  10.52070251,   7.9134436 ,\n",
       "         4.48618208,   4.7742217 ,   8.61000793,   8.07562622,\n",
       "        22.20542745,   4.8130452 ,   4.38454511,   5.87761981,\n",
       "        19.33479888,  53.18085933,  12.70747127,   4.54564265,\n",
       "         5.93998254,  11.81968596,   6.18665467,  17.10053228,\n",
       "         5.60592682,   5.80195124,   5.90213257,  28.75108082,\n",
       "         5.47377484,  12.38804991,  10.91721308,  30.73842217,\n",
       "        35.23630281,  36.64297068,  22.63634939,  13.92163139,\n",
       "         6.56785628,   8.25539769,   4.23084184,  13.35632546,\n",
       "         8.53023445,   6.59019497])"
      ]
     },
     "execution_count": 14,
     "metadata": {},
     "output_type": "execute_result"
    }
   ],
   "source": [
    "#マハラノビス距離を計算\n",
    "temp_mbs_df = train_val.drop(['MPG'], axis=1)\n",
    "\n",
    "#マハラノビス距離を計算するための準備\n",
    "mcd = MinCovDet(random_state=0, support_fraction=0.7)\n",
    "mcd.fit(temp_mbs_df)\n",
    "\n",
    "#マハラノビス距離\n",
    "distance = mcd.mahalanobis(temp_mbs_df)\n",
    "distance"
   ]
  },
  {
   "cell_type": "code",
   "execution_count": 15,
   "metadata": {
    "colab": {
     "base_uri": "https://localhost:8080/",
     "height": 283
    },
    "id": "-kZEhTeb_trx",
    "outputId": "38172257-3d8f-47e4-8a24-35c3cb827fbf"
   },
   "outputs": [
    {
     "data": {
      "text/plain": [
       "<matplotlib.axes._subplots.AxesSubplot at 0x7fda828b9790>"
      ]
     },
     "execution_count": 15,
     "metadata": {},
     "output_type": "execute_result"
    },
    {
     "data": {
      "image/png": "[encoded data removed]",
      "text/plain": [
       "<Figure size 432x288 with 1 Axes>"
      ]
     },
     "metadata": {
      "needs_background": "light"
     },
     "output_type": "display_data"
    }
   ],
   "source": [
    "#箱ひげ図を描く\n",
    "#シリーズに変換\n",
    "distance = pd.Series(distance)\n",
    "distance.plot(kind='box')"
   ]
  },
  {
   "cell_type": "markdown",
   "metadata": {
    "id": "lV5rrJXizmxJ"
   },
   "source": [
    "外れ値の判定"
   ]
  },
  {
   "cell_type": "code",
   "execution_count": 16,
   "metadata": {
    "colab": {
     "base_uri": "https://localhost:8080/"
    },
    "id": "rfrLC_L9Ym85",
    "outputId": "aeecd32c-2a3f-46d7-d678-12f315fed722"
   },
   "outputs": [
    {
     "name": "stdout",
     "output_type": "stream",
     "text": [
      "Int64Index([  8,  11,  14,  16,  55,  65,  67,  68,  72, 109, 111, 128, 147,\n",
      "            181, 189, 197, 206, 211, 225, 227, 247, 267, 279, 288, 293, 303,\n",
      "            307, 308, 309, 310],\n",
      "           dtype='int64')\n"
     ]
    }
   ],
   "source": [
    "#基本統計量を調べる\n",
    "tmp = distance.describe()\n",
    "\n",
    "#四分位範囲を用いた外れ値の判定\n",
    "iqr = tmp['75%'] - tmp['25%'] #IQR(第3四分位数と第1四分位数の差分)計算 \n",
    "jougen = 1.5 * (iqr) + tmp['75%'] #値が大きい側の外れ値の閾値\n",
    "kagen = tmp['25%'] - 1.5 * (iqr)  #値が小さい側の外れ値の閾値\n",
    "#print(iqr, jougen, kagen)\n",
    "\n",
    "#上限と下限の条件をもとに、シリーズで条件検索\n",
    "outliner = distance[ (distance > jougen) | (distance < kagen)]\n",
    "print(outliner.index)"
   ]
  },
  {
   "cell_type": "markdown",
   "metadata": {
    "id": "AYxyb5q-eZYG"
   },
   "source": [
    "外れ値の削除"
   ]
  },
  {
   "cell_type": "code",
   "execution_count": 17,
   "metadata": {
    "colab": {
     "base_uri": "https://localhost:8080/",
     "height": 363
    },
    "id": "75Ttd7_xCsFx",
    "outputId": "8135f7ca-b45d-432e-ad5f-b880138de264"
   },
   "outputs": [
    {
     "data": {
      "text/html": [
       "\n",
       "  <div id=\"df-ab26f6f5-c132-4cb6-8f5d-8c74c6ae7791\">\n",
       "    <div class=\"colab-df-container\">\n",
       "      <div>\n",
       "<style scoped>\n",
       "    .dataframe tbody tr th:only-of-type {\n",
       "        vertical-align: middle;\n",
       "    }\n",
       "\n",
       "    .dataframe tbody tr th {\n",
       "        vertical-align: top;\n",
       "    }\n",
       "\n",
       "    .dataframe thead th {\n",
       "        text-align: right;\n",
       "    }\n",
       "</style>\n",
       "<table border=\"1\" class=\"dataframe\">\n",
       "  <thead>\n",
       "    <tr style=\"text-align: right;\">\n",
       "      <th></th>\n",
       "      <th>MPG</th>\n",
       "      <th>Cylinders</th>\n",
       "      <th>Displacement</th>\n",
       "      <th>Horsepower</th>\n",
       "      <th>Weight</th>\n",
       "      <th>Acceleration</th>\n",
       "      <th>Model Year</th>\n",
       "      <th>2</th>\n",
       "      <th>3</th>\n",
       "    </tr>\n",
       "  </thead>\n",
       "  <tbody>\n",
       "    <tr>\n",
       "      <th>304</th>\n",
       "      <td>13.0</td>\n",
       "      <td>8</td>\n",
       "      <td>350.0</td>\n",
       "      <td>145.0</td>\n",
       "      <td>3988</td>\n",
       "      <td>13.0</td>\n",
       "      <td>73</td>\n",
       "      <td>0</td>\n",
       "      <td>0</td>\n",
       "    </tr>\n",
       "    <tr>\n",
       "      <th>305</th>\n",
       "      <td>18.5</td>\n",
       "      <td>8</td>\n",
       "      <td>360.0</td>\n",
       "      <td>150.0</td>\n",
       "      <td>3940</td>\n",
       "      <td>13.0</td>\n",
       "      <td>79</td>\n",
       "      <td>0</td>\n",
       "      <td>0</td>\n",
       "    </tr>\n",
       "    <tr>\n",
       "      <th>306</th>\n",
       "      <td>21.5</td>\n",
       "      <td>4</td>\n",
       "      <td>121.0</td>\n",
       "      <td>110.0</td>\n",
       "      <td>2600</td>\n",
       "      <td>12.8</td>\n",
       "      <td>77</td>\n",
       "      <td>1</td>\n",
       "      <td>0</td>\n",
       "    </tr>\n",
       "    <tr>\n",
       "      <th>311</th>\n",
       "      <td>29.0</td>\n",
       "      <td>4</td>\n",
       "      <td>85.0</td>\n",
       "      <td>52.0</td>\n",
       "      <td>2035</td>\n",
       "      <td>22.2</td>\n",
       "      <td>76</td>\n",
       "      <td>0</td>\n",
       "      <td>0</td>\n",
       "    </tr>\n",
       "    <tr>\n",
       "      <th>312</th>\n",
       "      <td>20.2</td>\n",
       "      <td>8</td>\n",
       "      <td>302.0</td>\n",
       "      <td>139.0</td>\n",
       "      <td>3570</td>\n",
       "      <td>12.8</td>\n",
       "      <td>78</td>\n",
       "      <td>0</td>\n",
       "      <td>0</td>\n",
       "    </tr>\n",
       "    <tr>\n",
       "      <th>313</th>\n",
       "      <td>27.9</td>\n",
       "      <td>4</td>\n",
       "      <td>156.0</td>\n",
       "      <td>105.0</td>\n",
       "      <td>2800</td>\n",
       "      <td>14.4</td>\n",
       "      <td>80</td>\n",
       "      <td>0</td>\n",
       "      <td>0</td>\n",
       "    </tr>\n",
       "    <tr>\n",
       "      <th>314</th>\n",
       "      <td>22.0</td>\n",
       "      <td>6</td>\n",
       "      <td>250.0</td>\n",
       "      <td>105.0</td>\n",
       "      <td>3353</td>\n",
       "      <td>14.5</td>\n",
       "      <td>76</td>\n",
       "      <td>0</td>\n",
       "      <td>0</td>\n",
       "    </tr>\n",
       "    <tr>\n",
       "      <th>315</th>\n",
       "      <td>29.0</td>\n",
       "      <td>4</td>\n",
       "      <td>68.0</td>\n",
       "      <td>49.0</td>\n",
       "      <td>1867</td>\n",
       "      <td>19.5</td>\n",
       "      <td>73</td>\n",
       "      <td>1</td>\n",
       "      <td>0</td>\n",
       "    </tr>\n",
       "    <tr>\n",
       "      <th>316</th>\n",
       "      <td>19.0</td>\n",
       "      <td>6</td>\n",
       "      <td>250.0</td>\n",
       "      <td>100.0</td>\n",
       "      <td>3282</td>\n",
       "      <td>15.0</td>\n",
       "      <td>71</td>\n",
       "      <td>0</td>\n",
       "      <td>0</td>\n",
       "    </tr>\n",
       "    <tr>\n",
       "      <th>317</th>\n",
       "      <td>25.0</td>\n",
       "      <td>4</td>\n",
       "      <td>90.0</td>\n",
       "      <td>71.0</td>\n",
       "      <td>2223</td>\n",
       "      <td>16.5</td>\n",
       "      <td>75</td>\n",
       "      <td>1</td>\n",
       "      <td>0</td>\n",
       "    </tr>\n",
       "  </tbody>\n",
       "</table>\n",
       "</div>\n",
       "      <button class=\"colab-df-convert\" onclick=\"convertToInteractive('df-ab26f6f5-c132-4cb6-8f5d-8c74c6ae7791')\"\n",
       "              title=\"Convert this dataframe to an interactive table.\"\n",
       "              style=\"display:none;\">\n",
       "        \n",
       "  <svg xmlns=\"http://www.w3.org/2000/svg\" height=\"24px\"viewBox=\"0 0 24 24\"\n",
       "       width=\"24px\">\n",
       "    <path d=\"M0 0h24v24H0V0z\" fill=\"none\"/>\n",
       "    <path d=\"M18.56 5.44l.94 2.06.94-2.06 2.06-.94-2.06-.94-.94-2.06-.94 2.06-2.06.94zm-11 1L8.5 8.5l.94-2.06 2.06-.94-2.06-.94L8.5 2.5l-.94 2.06-2.06.94zm10 10l.94 2.06.94-2.06 2.06-.94-2.06-.94-.94-2.06-.94 2.06-2.06.94z\"/><path d=\"M17.41 7.96l-1.37-1.37c-.4-.4-.92-.59-1.43-.59-.52 0-1.04.2-1.43.59L10.3 9.45l-7.72 7.72c-.78.78-.78 2.05 0 2.83L4 21.41c.39.39.9.59 1.41.59.51 0 1.02-.2 1.41-.59l7.78-7.78 2.81-2.81c.8-.78.8-2.07 0-2.86zM5.41 20L4 18.59l7.72-7.72 1.47 1.35L5.41 20z\"/>\n",
       "  </svg>\n",
       "      </button>\n",
       "      \n",
       "  <style>\n",
       "    .colab-df-container {\n",
       "      display:flex;\n",
       "      flex-wrap:wrap;\n",
       "      gap: 12px;\n",
       "    }\n",
       "\n",
       "    .colab-df-convert {\n",
       "      background-color: #E8F0FE;\n",
       "      border: none;\n",
       "      border-radius: 50%;\n",
       "      cursor: pointer;\n",
       "      display: none;\n",
       "      fill: #1967D2;\n",
       "      height: 32px;\n",
       "      padding: 0 0 0 0;\n",
       "      width: 32px;\n",
       "    }\n",
       "\n",
       "    .colab-df-convert:hover {\n",
       "      background-color: #E2EBFA;\n",
       "      box-shadow: 0px 1px 2px rgba(60, 64, 67, 0.3), 0px 1px 3px 1px rgba(60, 64, 67, 0.15);\n",
       "      fill: #174EA6;\n",
       "    }\n",
       "\n",
       "    [theme=dark] .colab-df-convert {\n",
       "      background-color: #3B4455;\n",
       "      fill: #D2E3FC;\n",
       "    }\n",
       "\n",
       "    [theme=dark] .colab-df-convert:hover {\n",
       "      background-color: #434B5C;\n",
       "      box-shadow: 0px 1px 3px 1px rgba(0, 0, 0, 0.15);\n",
       "      filter: drop-shadow(0px 1px 2px rgba(0, 0, 0, 0.3));\n",
       "      fill: #FFFFFF;\n",
       "    }\n",
       "  </style>\n",
       "\n",
       "      <script>\n",
       "        const buttonEl =\n",
       "          document.querySelector('#df-ab26f6f5-c132-4cb6-8f5d-8c74c6ae7791 button.colab-df-convert');\n",
       "        buttonEl.style.display =\n",
       "          google.colab.kernel.accessAllowed ? 'block' : 'none';\n",
       "\n",
       "        async function convertToInteractive(key) {\n",
       "          const element = document.querySelector('#df-ab26f6f5-c132-4cb6-8f5d-8c74c6ae7791');\n",
       "          const dataTable =\n",
       "            await google.colab.kernel.invokeFunction('convertToInteractive',\n",
       "                                                     [key], {});\n",
       "          if (!dataTable) return;\n",
       "\n",
       "          const docLinkHtml = 'Like what you see? Visit the ' +\n",
       "            '<a target=\"_blank\" href=https://colab.research.google.com/notebooks/data_table.ipynb>data table notebook</a>'\n",
       "            + ' to learn more about interactive tables.';\n",
       "          element.innerHTML = '';\n",
       "          dataTable['output_type'] = 'display_data';\n",
       "          await google.colab.output.renderOutput(dataTable, element);\n",
       "          const docLink = document.createElement('div');\n",
       "          docLink.innerHTML = docLinkHtml;\n",
       "          element.appendChild(docLink);\n",
       "        }\n",
       "      </script>\n",
       "    </div>\n",
       "  </div>\n",
       "  "
      ],
      "text/plain": [
       "      MPG  Cylinders  Displacement  Horsepower  Weight  Acceleration  \\\n",
       "304  13.0          8         350.0       145.0    3988          13.0   \n",
       "305  18.5          8         360.0       150.0    3940          13.0   \n",
       "306  21.5          4         121.0       110.0    2600          12.8   \n",
       "311  29.0          4          85.0        52.0    2035          22.2   \n",
       "312  20.2          8         302.0       139.0    3570          12.8   \n",
       "313  27.9          4         156.0       105.0    2800          14.4   \n",
       "314  22.0          6         250.0       105.0    3353          14.5   \n",
       "315  29.0          4          68.0        49.0    1867          19.5   \n",
       "316  19.0          6         250.0       100.0    3282          15.0   \n",
       "317  25.0          4          90.0        71.0    2223          16.5   \n",
       "\n",
       "     Model Year  2  3  \n",
       "304          73  0  0  \n",
       "305          79  0  0  \n",
       "306          77  1  0  \n",
       "311          76  0  0  \n",
       "312          78  0  0  \n",
       "313          80  0  0  \n",
       "314          76  0  0  \n",
       "315          73  1  0  \n",
       "316          71  0  0  \n",
       "317          75  1  0  "
      ]
     },
     "execution_count": 17,
     "metadata": {},
     "output_type": "execute_result"
    }
   ],
   "source": [
    "train_val2 = train_val.drop(outliner.index)\n",
    "train_val2.tail(10)"
   ]
  },
  {
   "cell_type": "code",
   "execution_count": 18,
   "metadata": {
    "colab": {
     "base_uri": "https://localhost:8080/",
     "height": 339
    },
    "id": "jQXlTXBX4Lmj",
    "outputId": "0c3b2200-5f31-48a7-fac7-e52f367cb791"
   },
   "outputs": [
    {
     "name": "stderr",
     "output_type": "stream",
     "text": [
      "/usr/local/lib/python3.7/dist-packages/sklearn/utils/validation.py:1692: FutureWarning: Feature names only support names that are all strings. Got feature names with dtypes: ['int', 'str']. An error will be raised in 1.2.\n",
      "  FutureWarning,\n"
     ]
    },
    {
     "data": {
      "text/plain": [
       "<matplotlib.axes._subplots.AxesSubplot at 0x7fda84960b50>"
      ]
     },
     "execution_count": 18,
     "metadata": {},
     "output_type": "execute_result"
    },
    {
     "data": {
      "image/png": "[encoded data removed]",
      "text/plain": [
       "<Figure size 432x288 with 1 Axes>"
      ]
     },
     "metadata": {
      "needs_background": "light"
     },
     "output_type": "display_data"
    }
   ],
   "source": [
    "#はずれ値処理の結果 - 箱ひげ図を描く\n",
    "\n",
    "#マハラノビス距離を計算\n",
    "after_df = train_val2.drop(['MPG'], axis=1)\n",
    "\n",
    "#マハラノビス距離を計算するための準備\n",
    "#after_mcd = MinCovDet(random_state=0, support_fraction=0.7)\n",
    "#after_mcd.fit(after_df)\n",
    "\n",
    "#マハラノビス距離\n",
    "after_distance = mcd.mahalanobis(after_df)\n",
    "#シリーズに変換\n",
    "after_distance = pd.Series(after_distance)\n",
    "after_distance.plot(kind='box')"
   ]
  },
  {
   "cell_type": "markdown",
   "metadata": {
    "id": "pcLAHZHcc5XV"
   },
   "source": [
    "# ★ここまでで、欠損値の処理・外れ値の削除まで完了★\n",
    "# 使用するデータフレームは train_val2 から開始"
   ]
  },
  {
   "cell_type": "markdown",
   "metadata": {
    "id": "mqvhZBhGRfAA"
   },
   "source": [
    "★１ 自力で特徴量の絞り込みをする場合"
   ]
  },
  {
   "cell_type": "markdown",
   "metadata": {
    "id": "TSJamuIB4nId"
   },
   "source": [
    "正解データと各特徴量の相関関係"
   ]
  },
  {
   "cell_type": "code",
   "execution_count": 19,
   "metadata": {
    "colab": {
     "base_uri": "https://localhost:8080/"
    },
    "id": "w6ae7XVN4rPn",
    "outputId": "cefb10ac-da0c-4163-8a5d-b831e48f688c"
   },
   "outputs": [
    {
     "data": {
      "text/plain": [
       "MPG             1.000000\n",
       "Weight          0.833257\n",
       "Displacement    0.811897\n",
       "Horsepower      0.801064\n",
       "Cylinders       0.771582\n",
       "Model Year      0.545033\n",
       "3               0.486824\n",
       "Acceleration    0.420276\n",
       "2               0.207078\n",
       "Name: MPG, dtype: float64"
      ]
     },
     "execution_count": 19,
     "metadata": {},
     "output_type": "execute_result"
    }
   ],
   "source": [
    "#各列とMPG列との相関係数\n",
    "train_cor = train_val2.corr()['MPG']\n",
    "\n",
    "#相関係数を絶対値に変換\n",
    "abs_cor = train_cor.map(abs)\n",
    "\n",
    "#降順に並べ替え\n",
    "abs_cor.sort_values(ascending = False)\n"
   ]
  },
  {
   "cell_type": "markdown",
   "metadata": {
    "id": "tdIplzW157iN"
   },
   "source": [
    "正解データと特徴量を抽出"
   ]
  },
  {
   "cell_type": "code",
   "execution_count": 20,
   "metadata": {
    "colab": {
     "base_uri": "https://localhost:8080/",
     "height": 206
    },
    "id": "XEUJXrOF56MH",
    "outputId": "daf6a61d-44ff-424e-d138-3247a523da2f"
   },
   "outputs": [
    {
     "data": {
      "text/html": [
       "\n",
       "  <div id=\"df-cfd08693-e51d-4ad7-9405-0d4318eec67a\">\n",
       "    <div class=\"colab-df-container\">\n",
       "      <div>\n",
       "<style scoped>\n",
       "    .dataframe tbody tr th:only-of-type {\n",
       "        vertical-align: middle;\n",
       "    }\n",
       "\n",
       "    .dataframe tbody tr th {\n",
       "        vertical-align: top;\n",
       "    }\n",
       "\n",
       "    .dataframe thead th {\n",
       "        text-align: right;\n",
       "    }\n",
       "</style>\n",
       "<table border=\"1\" class=\"dataframe\">\n",
       "  <thead>\n",
       "    <tr style=\"text-align: right;\">\n",
       "      <th></th>\n",
       "      <th>Weight</th>\n",
       "      <th>Displacement</th>\n",
       "      <th>Horsepower</th>\n",
       "      <th>Cylinders</th>\n",
       "      <th>Model Year</th>\n",
       "    </tr>\n",
       "  </thead>\n",
       "  <tbody>\n",
       "    <tr>\n",
       "      <th>0</th>\n",
       "      <td>4135</td>\n",
       "      <td>318.0</td>\n",
       "      <td>150.0</td>\n",
       "      <td>8</td>\n",
       "      <td>72</td>\n",
       "    </tr>\n",
       "    <tr>\n",
       "      <th>1</th>\n",
       "      <td>1834</td>\n",
       "      <td>97.0</td>\n",
       "      <td>60.0</td>\n",
       "      <td>4</td>\n",
       "      <td>71</td>\n",
       "    </tr>\n",
       "    <tr>\n",
       "      <th>2</th>\n",
       "      <td>2188</td>\n",
       "      <td>97.0</td>\n",
       "      <td>78.0</td>\n",
       "      <td>4</td>\n",
       "      <td>80</td>\n",
       "    </tr>\n",
       "    <tr>\n",
       "      <th>3</th>\n",
       "      <td>1950</td>\n",
       "      <td>97.0</td>\n",
       "      <td>46.0</td>\n",
       "      <td>4</td>\n",
       "      <td>73</td>\n",
       "    </tr>\n",
       "    <tr>\n",
       "      <th>4</th>\n",
       "      <td>2635</td>\n",
       "      <td>120.0</td>\n",
       "      <td>74.0</td>\n",
       "      <td>4</td>\n",
       "      <td>81</td>\n",
       "    </tr>\n",
       "  </tbody>\n",
       "</table>\n",
       "</div>\n",
       "      <button class=\"colab-df-convert\" onclick=\"convertToInteractive('df-cfd08693-e51d-4ad7-9405-0d4318eec67a')\"\n",
       "              title=\"Convert this dataframe to an interactive table.\"\n",
       "              style=\"display:none;\">\n",
       "        \n",
       "  <svg xmlns=\"http://www.w3.org/2000/svg\" height=\"24px\"viewBox=\"0 0 24 24\"\n",
       "       width=\"24px\">\n",
       "    <path d=\"M0 0h24v24H0V0z\" fill=\"none\"/>\n",
       "    <path d=\"M18.56 5.44l.94 2.06.94-2.06 2.06-.94-2.06-.94-.94-2.06-.94 2.06-2.06.94zm-11 1L8.5 8.5l.94-2.06 2.06-.94-2.06-.94L8.5 2.5l-.94 2.06-2.06.94zm10 10l.94 2.06.94-2.06 2.06-.94-2.06-.94-.94-2.06-.94 2.06-2.06.94z\"/><path d=\"M17.41 7.96l-1.37-1.37c-.4-.4-.92-.59-1.43-.59-.52 0-1.04.2-1.43.59L10.3 9.45l-7.72 7.72c-.78.78-.78 2.05 0 2.83L4 21.41c.39.39.9.59 1.41.59.51 0 1.02-.2 1.41-.59l7.78-7.78 2.81-2.81c.8-.78.8-2.07 0-2.86zM5.41 20L4 18.59l7.72-7.72 1.47 1.35L5.41 20z\"/>\n",
       "  </svg>\n",
       "      </button>\n",
       "      \n",
       "  <style>\n",
       "    .colab-df-container {\n",
       "      display:flex;\n",
       "      flex-wrap:wrap;\n",
       "      gap: 12px;\n",
       "    }\n",
       "\n",
       "    .colab-df-convert {\n",
       "      background-color: #E8F0FE;\n",
       "      border: none;\n",
       "      border-radius: 50%;\n",
       "      cursor: pointer;\n",
       "      display: none;\n",
       "      fill: #1967D2;\n",
       "      height: 32px;\n",
       "      padding: 0 0 0 0;\n",
       "      width: 32px;\n",
       "    }\n",
       "\n",
       "    .colab-df-convert:hover {\n",
       "      background-color: #E2EBFA;\n",
       "      box-shadow: 0px 1px 2px rgba(60, 64, 67, 0.3), 0px 1px 3px 1px rgba(60, 64, 67, 0.15);\n",
       "      fill: #174EA6;\n",
       "    }\n",
       "\n",
       "    [theme=dark] .colab-df-convert {\n",
       "      background-color: #3B4455;\n",
       "      fill: #D2E3FC;\n",
       "    }\n",
       "\n",
       "    [theme=dark] .colab-df-convert:hover {\n",
       "      background-color: #434B5C;\n",
       "      box-shadow: 0px 1px 3px 1px rgba(0, 0, 0, 0.15);\n",
       "      filter: drop-shadow(0px 1px 2px rgba(0, 0, 0, 0.3));\n",
       "      fill: #FFFFFF;\n",
       "    }\n",
       "  </style>\n",
       "\n",
       "      <script>\n",
       "        const buttonEl =\n",
       "          document.querySelector('#df-cfd08693-e51d-4ad7-9405-0d4318eec67a button.colab-df-convert');\n",
       "        buttonEl.style.display =\n",
       "          google.colab.kernel.accessAllowed ? 'block' : 'none';\n",
       "\n",
       "        async function convertToInteractive(key) {\n",
       "          const element = document.querySelector('#df-cfd08693-e51d-4ad7-9405-0d4318eec67a');\n",
       "          const dataTable =\n",
       "            await google.colab.kernel.invokeFunction('convertToInteractive',\n",
       "                                                     [key], {});\n",
       "          if (!dataTable) return;\n",
       "\n",
       "          const docLinkHtml = 'Like what you see? Visit the ' +\n",
       "            '<a target=\"_blank\" href=https://colab.research.google.com/notebooks/data_table.ipynb>data table notebook</a>'\n",
       "            + ' to learn more about interactive tables.';\n",
       "          element.innerHTML = '';\n",
       "          dataTable['output_type'] = 'display_data';\n",
       "          await google.colab.output.renderOutput(dataTable, element);\n",
       "          const docLink = document.createElement('div');\n",
       "          docLink.innerHTML = docLinkHtml;\n",
       "          element.appendChild(docLink);\n",
       "        }\n",
       "      </script>\n",
       "    </div>\n",
       "  </div>\n",
       "  "
      ],
      "text/plain": [
       "   Weight  Displacement  Horsepower  Cylinders  Model Year\n",
       "0    4135         318.0       150.0          8          72\n",
       "1    1834          97.0        60.0          4          71\n",
       "2    2188          97.0        78.0          4          80\n",
       "3    1950          97.0        46.0          4          73\n",
       "4    2635         120.0        74.0          4          81"
      ]
     },
     "execution_count": 20,
     "metadata": {},
     "output_type": "execute_result"
    }
   ],
   "source": [
    "#0～0.3未満：ほぼ無関係、0.3～0.5未満：非常に弱い相関、\n",
    "#0.5～0.7未満：相関がある、0.7～0.9未満：強い相関、0.9以上：非常に強い相関\n",
    "\n",
    "#特徴量 相関係数が0.5以上\n",
    "col = ['Weight','Displacement','Horsepower','Cylinders', 'Model Year']\n",
    "\n",
    "#特徴量 相関係数が0.7以上 -決定係数が下がるので却下\n",
    "#col = ['Weight','Displacement','Horsepower','Cylinders']\n",
    "\n",
    "x = train_val2.loc[:,col]\n",
    "x.head(5)"
   ]
  },
  {
   "cell_type": "code",
   "execution_count": 21,
   "metadata": {
    "colab": {
     "base_uri": "https://localhost:8080/",
     "height": 206
    },
    "id": "d9M0DAwE5o9U",
    "outputId": "fad89280-1f04-43b6-d81a-c71d481f4a20"
   },
   "outputs": [
    {
     "data": {
      "text/html": [
       "\n",
       "  <div id=\"df-5268893f-80d2-40ac-8b34-505c92d9ae07\">\n",
       "    <div class=\"colab-df-container\">\n",
       "      <div>\n",
       "<style scoped>\n",
       "    .dataframe tbody tr th:only-of-type {\n",
       "        vertical-align: middle;\n",
       "    }\n",
       "\n",
       "    .dataframe tbody tr th {\n",
       "        vertical-align: top;\n",
       "    }\n",
       "\n",
       "    .dataframe thead th {\n",
       "        text-align: right;\n",
       "    }\n",
       "</style>\n",
       "<table border=\"1\" class=\"dataframe\">\n",
       "  <thead>\n",
       "    <tr style=\"text-align: right;\">\n",
       "      <th></th>\n",
       "      <th>MPG</th>\n",
       "    </tr>\n",
       "  </thead>\n",
       "  <tbody>\n",
       "    <tr>\n",
       "      <th>0</th>\n",
       "      <td>15.0</td>\n",
       "    </tr>\n",
       "    <tr>\n",
       "      <th>1</th>\n",
       "      <td>27.0</td>\n",
       "    </tr>\n",
       "    <tr>\n",
       "      <th>2</th>\n",
       "      <td>34.3</td>\n",
       "    </tr>\n",
       "    <tr>\n",
       "      <th>3</th>\n",
       "      <td>26.0</td>\n",
       "    </tr>\n",
       "    <tr>\n",
       "      <th>4</th>\n",
       "      <td>31.6</td>\n",
       "    </tr>\n",
       "  </tbody>\n",
       "</table>\n",
       "</div>\n",
       "      <button class=\"colab-df-convert\" onclick=\"convertToInteractive('df-5268893f-80d2-40ac-8b34-505c92d9ae07')\"\n",
       "              title=\"Convert this dataframe to an interactive table.\"\n",
       "              style=\"display:none;\">\n",
       "        \n",
       "  <svg xmlns=\"http://www.w3.org/2000/svg\" height=\"24px\"viewBox=\"0 0 24 24\"\n",
       "       width=\"24px\">\n",
       "    <path d=\"M0 0h24v24H0V0z\" fill=\"none\"/>\n",
       "    <path d=\"M18.56 5.44l.94 2.06.94-2.06 2.06-.94-2.06-.94-.94-2.06-.94 2.06-2.06.94zm-11 1L8.5 8.5l.94-2.06 2.06-.94-2.06-.94L8.5 2.5l-.94 2.06-2.06.94zm10 10l.94 2.06.94-2.06 2.06-.94-2.06-.94-.94-2.06-.94 2.06-2.06.94z\"/><path d=\"M17.41 7.96l-1.37-1.37c-.4-.4-.92-.59-1.43-.59-.52 0-1.04.2-1.43.59L10.3 9.45l-7.72 7.72c-.78.78-.78 2.05 0 2.83L4 21.41c.39.39.9.59 1.41.59.51 0 1.02-.2 1.41-.59l7.78-7.78 2.81-2.81c.8-.78.8-2.07 0-2.86zM5.41 20L4 18.59l7.72-7.72 1.47 1.35L5.41 20z\"/>\n",
       "  </svg>\n",
       "      </button>\n",
       "      \n",
       "  <style>\n",
       "    .colab-df-container {\n",
       "      display:flex;\n",
       "      flex-wrap:wrap;\n",
       "      gap: 12px;\n",
       "    }\n",
       "\n",
       "    .colab-df-convert {\n",
       "      background-color: #E8F0FE;\n",
       "      border: none;\n",
       "      border-radius: 50%;\n",
       "      cursor: pointer;\n",
       "      display: none;\n",
       "      fill: #1967D2;\n",
       "      height: 32px;\n",
       "      padding: 0 0 0 0;\n",
       "      width: 32px;\n",
       "    }\n",
       "\n",
       "    .colab-df-convert:hover {\n",
       "      background-color: #E2EBFA;\n",
       "      box-shadow: 0px 1px 2px rgba(60, 64, 67, 0.3), 0px 1px 3px 1px rgba(60, 64, 67, 0.15);\n",
       "      fill: #174EA6;\n",
       "    }\n",
       "\n",
       "    [theme=dark] .colab-df-convert {\n",
       "      background-color: #3B4455;\n",
       "      fill: #D2E3FC;\n",
       "    }\n",
       "\n",
       "    [theme=dark] .colab-df-convert:hover {\n",
       "      background-color: #434B5C;\n",
       "      box-shadow: 0px 1px 3px 1px rgba(0, 0, 0, 0.15);\n",
       "      filter: drop-shadow(0px 1px 2px rgba(0, 0, 0, 0.3));\n",
       "      fill: #FFFFFF;\n",
       "    }\n",
       "  </style>\n",
       "\n",
       "      <script>\n",
       "        const buttonEl =\n",
       "          document.querySelector('#df-5268893f-80d2-40ac-8b34-505c92d9ae07 button.colab-df-convert');\n",
       "        buttonEl.style.display =\n",
       "          google.colab.kernel.accessAllowed ? 'block' : 'none';\n",
       "\n",
       "        async function convertToInteractive(key) {\n",
       "          const element = document.querySelector('#df-5268893f-80d2-40ac-8b34-505c92d9ae07');\n",
       "          const dataTable =\n",
       "            await google.colab.kernel.invokeFunction('convertToInteractive',\n",
       "                                                     [key], {});\n",
       "          if (!dataTable) return;\n",
       "\n",
       "          const docLinkHtml = 'Like what you see? Visit the ' +\n",
       "            '<a target=\"_blank\" href=https://colab.research.google.com/notebooks/data_table.ipynb>data table notebook</a>'\n",
       "            + ' to learn more about interactive tables.';\n",
       "          element.innerHTML = '';\n",
       "          dataTable['output_type'] = 'display_data';\n",
       "          await google.colab.output.renderOutput(dataTable, element);\n",
       "          const docLink = document.createElement('div');\n",
       "          docLink.innerHTML = docLinkHtml;\n",
       "          element.appendChild(docLink);\n",
       "        }\n",
       "      </script>\n",
       "    </div>\n",
       "  </div>\n",
       "  "
      ],
      "text/plain": [
       "    MPG\n",
       "0  15.0\n",
       "1  27.0\n",
       "2  34.3\n",
       "3  26.0\n",
       "4  31.6"
      ]
     },
     "execution_count": 21,
     "metadata": {},
     "output_type": "execute_result"
    }
   ],
   "source": [
    "#正解データ\n",
    "t = train_val2[['MPG']]\n",
    "t.head(5)"
   ]
  },
  {
   "cell_type": "markdown",
   "metadata": {
    "id": "-saxZJJm7xa-"
   },
   "source": [
    "特徴量エンジニアリングで訓練データと検証データの決定係数が特徴量エンジニアリングを行う前より良くなるようにする"
   ]
  },
  {
   "cell_type": "code",
   "execution_count": 22,
   "metadata": {
    "colab": {
     "base_uri": "https://localhost:8080/",
     "height": 206
    },
    "id": "z-oEV7aE71A1",
    "outputId": "3d278950-4f6f-48e4-814b-3abda54028c1"
   },
   "outputs": [
    {
     "data": {
      "text/html": [
       "\n",
       "  <div id=\"df-7605d39f-5d39-44cb-b861-425d1d9a86a6\">\n",
       "    <div class=\"colab-df-container\">\n",
       "      <div>\n",
       "<style scoped>\n",
       "    .dataframe tbody tr th:only-of-type {\n",
       "        vertical-align: middle;\n",
       "    }\n",
       "\n",
       "    .dataframe tbody tr th {\n",
       "        vertical-align: top;\n",
       "    }\n",
       "\n",
       "    .dataframe thead th {\n",
       "        text-align: right;\n",
       "    }\n",
       "</style>\n",
       "<table border=\"1\" class=\"dataframe\">\n",
       "  <thead>\n",
       "    <tr style=\"text-align: right;\">\n",
       "      <th></th>\n",
       "      <th>Weight</th>\n",
       "      <th>Displacement</th>\n",
       "      <th>Horsepower</th>\n",
       "      <th>Cylinders</th>\n",
       "      <th>Model Year</th>\n",
       "      <th>Weight_2</th>\n",
       "      <th>Displacement_2</th>\n",
       "    </tr>\n",
       "  </thead>\n",
       "  <tbody>\n",
       "    <tr>\n",
       "      <th>0</th>\n",
       "      <td>4135</td>\n",
       "      <td>318.0</td>\n",
       "      <td>150.0</td>\n",
       "      <td>8</td>\n",
       "      <td>72</td>\n",
       "      <td>17098225</td>\n",
       "      <td>101124.0</td>\n",
       "    </tr>\n",
       "    <tr>\n",
       "      <th>1</th>\n",
       "      <td>1834</td>\n",
       "      <td>97.0</td>\n",
       "      <td>60.0</td>\n",
       "      <td>4</td>\n",
       "      <td>71</td>\n",
       "      <td>3363556</td>\n",
       "      <td>9409.0</td>\n",
       "    </tr>\n",
       "    <tr>\n",
       "      <th>2</th>\n",
       "      <td>2188</td>\n",
       "      <td>97.0</td>\n",
       "      <td>78.0</td>\n",
       "      <td>4</td>\n",
       "      <td>80</td>\n",
       "      <td>4787344</td>\n",
       "      <td>9409.0</td>\n",
       "    </tr>\n",
       "    <tr>\n",
       "      <th>3</th>\n",
       "      <td>1950</td>\n",
       "      <td>97.0</td>\n",
       "      <td>46.0</td>\n",
       "      <td>4</td>\n",
       "      <td>73</td>\n",
       "      <td>3802500</td>\n",
       "      <td>9409.0</td>\n",
       "    </tr>\n",
       "    <tr>\n",
       "      <th>4</th>\n",
       "      <td>2635</td>\n",
       "      <td>120.0</td>\n",
       "      <td>74.0</td>\n",
       "      <td>4</td>\n",
       "      <td>81</td>\n",
       "      <td>6943225</td>\n",
       "      <td>14400.0</td>\n",
       "    </tr>\n",
       "  </tbody>\n",
       "</table>\n",
       "</div>\n",
       "      <button class=\"colab-df-convert\" onclick=\"convertToInteractive('df-7605d39f-5d39-44cb-b861-425d1d9a86a6')\"\n",
       "              title=\"Convert this dataframe to an interactive table.\"\n",
       "              style=\"display:none;\">\n",
       "        \n",
       "  <svg xmlns=\"http://www.w3.org/2000/svg\" height=\"24px\"viewBox=\"0 0 24 24\"\n",
       "       width=\"24px\">\n",
       "    <path d=\"M0 0h24v24H0V0z\" fill=\"none\"/>\n",
       "    <path d=\"M18.56 5.44l.94 2.06.94-2.06 2.06-.94-2.06-.94-.94-2.06-.94 2.06-2.06.94zm-11 1L8.5 8.5l.94-2.06 2.06-.94-2.06-.94L8.5 2.5l-.94 2.06-2.06.94zm10 10l.94 2.06.94-2.06 2.06-.94-2.06-.94-.94-2.06-.94 2.06-2.06.94z\"/><path d=\"M17.41 7.96l-1.37-1.37c-.4-.4-.92-.59-1.43-.59-.52 0-1.04.2-1.43.59L10.3 9.45l-7.72 7.72c-.78.78-.78 2.05 0 2.83L4 21.41c.39.39.9.59 1.41.59.51 0 1.02-.2 1.41-.59l7.78-7.78 2.81-2.81c.8-.78.8-2.07 0-2.86zM5.41 20L4 18.59l7.72-7.72 1.47 1.35L5.41 20z\"/>\n",
       "  </svg>\n",
       "      </button>\n",
       "      \n",
       "  <style>\n",
       "    .colab-df-container {\n",
       "      display:flex;\n",
       "      flex-wrap:wrap;\n",
       "      gap: 12px;\n",
       "    }\n",
       "\n",
       "    .colab-df-convert {\n",
       "      background-color: #E8F0FE;\n",
       "      border: none;\n",
       "      border-radius: 50%;\n",
       "      cursor: pointer;\n",
       "      display: none;\n",
       "      fill: #1967D2;\n",
       "      height: 32px;\n",
       "      padding: 0 0 0 0;\n",
       "      width: 32px;\n",
       "    }\n",
       "\n",
       "    .colab-df-convert:hover {\n",
       "      background-color: #E2EBFA;\n",
       "      box-shadow: 0px 1px 2px rgba(60, 64, 67, 0.3), 0px 1px 3px 1px rgba(60, 64, 67, 0.15);\n",
       "      fill: #174EA6;\n",
       "    }\n",
       "\n",
       "    [theme=dark] .colab-df-convert {\n",
       "      background-color: #3B4455;\n",
       "      fill: #D2E3FC;\n",
       "    }\n",
       "\n",
       "    [theme=dark] .colab-df-convert:hover {\n",
       "      background-color: #434B5C;\n",
       "      box-shadow: 0px 1px 3px 1px rgba(0, 0, 0, 0.15);\n",
       "      filter: drop-shadow(0px 1px 2px rgba(0, 0, 0, 0.3));\n",
       "      fill: #FFFFFF;\n",
       "    }\n",
       "  </style>\n",
       "\n",
       "      <script>\n",
       "        const buttonEl =\n",
       "          document.querySelector('#df-7605d39f-5d39-44cb-b861-425d1d9a86a6 button.colab-df-convert');\n",
       "        buttonEl.style.display =\n",
       "          google.colab.kernel.accessAllowed ? 'block' : 'none';\n",
       "\n",
       "        async function convertToInteractive(key) {\n",
       "          const element = document.querySelector('#df-7605d39f-5d39-44cb-b861-425d1d9a86a6');\n",
       "          const dataTable =\n",
       "            await google.colab.kernel.invokeFunction('convertToInteractive',\n",
       "                                                     [key], {});\n",
       "          if (!dataTable) return;\n",
       "\n",
       "          const docLinkHtml = 'Like what you see? Visit the ' +\n",
       "            '<a target=\"_blank\" href=https://colab.research.google.com/notebooks/data_table.ipynb>data table notebook</a>'\n",
       "            + ' to learn more about interactive tables.';\n",
       "          element.innerHTML = '';\n",
       "          dataTable['output_type'] = 'display_data';\n",
       "          await google.colab.output.renderOutput(dataTable, element);\n",
       "          const docLink = document.createElement('div');\n",
       "          docLink.innerHTML = docLinkHtml;\n",
       "          element.appendChild(docLink);\n",
       "        }\n",
       "      </script>\n",
       "    </div>\n",
       "  </div>\n",
       "  "
      ],
      "text/plain": [
       "   Weight  Displacement  Horsepower  Cylinders  Model Year  Weight_2  \\\n",
       "0    4135         318.0       150.0          8          72  17098225   \n",
       "1    1834          97.0        60.0          4          71   3363556   \n",
       "2    2188          97.0        78.0          4          80   4787344   \n",
       "3    1950          97.0        46.0          4          73   3802500   \n",
       "4    2635         120.0        74.0          4          81   6943225   \n",
       "\n",
       "   Displacement_2  \n",
       "0        101124.0  \n",
       "1          9409.0  \n",
       "2          9409.0  \n",
       "3          9409.0  \n",
       "4         14400.0  "
      ]
     },
     "execution_count": 22,
     "metadata": {},
     "output_type": "execute_result"
    }
   ],
   "source": [
    "#多項式特徴量  … 相関係数が0.8以上の Weight, Displacement\n",
    "#特徴量 x, 正解データ t\n",
    "x['Weight_2'] = x['Weight'] ** 2\n",
    "x['Displacement_2'] = x['Displacement'] ** 2\n",
    "x.head(5)"
   ]
  },
  {
   "cell_type": "code",
   "execution_count": 23,
   "metadata": {
    "colab": {
     "base_uri": "https://localhost:8080/",
     "height": 287
    },
    "id": "DZOM3HL277DT",
    "outputId": "95ab5cb8-9033-40f4-d59e-21d9c64071d2"
   },
   "outputs": [
    {
     "data": {
      "text/html": [
       "\n",
       "  <div id=\"df-51bb7142-4bbd-429d-8eed-f30b53e3e8fa\">\n",
       "    <div class=\"colab-df-container\">\n",
       "      <div>\n",
       "<style scoped>\n",
       "    .dataframe tbody tr th:only-of-type {\n",
       "        vertical-align: middle;\n",
       "    }\n",
       "\n",
       "    .dataframe tbody tr th {\n",
       "        vertical-align: top;\n",
       "    }\n",
       "\n",
       "    .dataframe thead th {\n",
       "        text-align: right;\n",
       "    }\n",
       "</style>\n",
       "<table border=\"1\" class=\"dataframe\">\n",
       "  <thead>\n",
       "    <tr style=\"text-align: right;\">\n",
       "      <th></th>\n",
       "      <th>Weight</th>\n",
       "      <th>Displacement</th>\n",
       "      <th>Horsepower</th>\n",
       "      <th>Cylinders</th>\n",
       "      <th>Model Year</th>\n",
       "      <th>Weight_2</th>\n",
       "      <th>Displacement_2</th>\n",
       "      <th>Displacemen*Horsepower</th>\n",
       "      <th>Displacemen*Weight</th>\n",
       "      <th>Horsepower*Weight</th>\n",
       "    </tr>\n",
       "  </thead>\n",
       "  <tbody>\n",
       "    <tr>\n",
       "      <th>0</th>\n",
       "      <td>4135</td>\n",
       "      <td>318.0</td>\n",
       "      <td>150.0</td>\n",
       "      <td>8</td>\n",
       "      <td>72</td>\n",
       "      <td>17098225</td>\n",
       "      <td>101124.0</td>\n",
       "      <td>47700.0</td>\n",
       "      <td>1314930.0</td>\n",
       "      <td>620250.0</td>\n",
       "    </tr>\n",
       "    <tr>\n",
       "      <th>1</th>\n",
       "      <td>1834</td>\n",
       "      <td>97.0</td>\n",
       "      <td>60.0</td>\n",
       "      <td>4</td>\n",
       "      <td>71</td>\n",
       "      <td>3363556</td>\n",
       "      <td>9409.0</td>\n",
       "      <td>5820.0</td>\n",
       "      <td>177898.0</td>\n",
       "      <td>110040.0</td>\n",
       "    </tr>\n",
       "    <tr>\n",
       "      <th>2</th>\n",
       "      <td>2188</td>\n",
       "      <td>97.0</td>\n",
       "      <td>78.0</td>\n",
       "      <td>4</td>\n",
       "      <td>80</td>\n",
       "      <td>4787344</td>\n",
       "      <td>9409.0</td>\n",
       "      <td>7566.0</td>\n",
       "      <td>212236.0</td>\n",
       "      <td>170664.0</td>\n",
       "    </tr>\n",
       "    <tr>\n",
       "      <th>3</th>\n",
       "      <td>1950</td>\n",
       "      <td>97.0</td>\n",
       "      <td>46.0</td>\n",
       "      <td>4</td>\n",
       "      <td>73</td>\n",
       "      <td>3802500</td>\n",
       "      <td>9409.0</td>\n",
       "      <td>4462.0</td>\n",
       "      <td>189150.0</td>\n",
       "      <td>89700.0</td>\n",
       "    </tr>\n",
       "    <tr>\n",
       "      <th>4</th>\n",
       "      <td>2635</td>\n",
       "      <td>120.0</td>\n",
       "      <td>74.0</td>\n",
       "      <td>4</td>\n",
       "      <td>81</td>\n",
       "      <td>6943225</td>\n",
       "      <td>14400.0</td>\n",
       "      <td>8880.0</td>\n",
       "      <td>316200.0</td>\n",
       "      <td>194990.0</td>\n",
       "    </tr>\n",
       "  </tbody>\n",
       "</table>\n",
       "</div>\n",
       "      <button class=\"colab-df-convert\" onclick=\"convertToInteractive('df-51bb7142-4bbd-429d-8eed-f30b53e3e8fa')\"\n",
       "              title=\"Convert this dataframe to an interactive table.\"\n",
       "              style=\"display:none;\">\n",
       "        \n",
       "  <svg xmlns=\"http://www.w3.org/2000/svg\" height=\"24px\"viewBox=\"0 0 24 24\"\n",
       "       width=\"24px\">\n",
       "    <path d=\"M0 0h24v24H0V0z\" fill=\"none\"/>\n",
       "    <path d=\"M18.56 5.44l.94 2.06.94-2.06 2.06-.94-2.06-.94-.94-2.06-.94 2.06-2.06.94zm-11 1L8.5 8.5l.94-2.06 2.06-.94-2.06-.94L8.5 2.5l-.94 2.06-2.06.94zm10 10l.94 2.06.94-2.06 2.06-.94-2.06-.94-.94-2.06-.94 2.06-2.06.94z\"/><path d=\"M17.41 7.96l-1.37-1.37c-.4-.4-.92-.59-1.43-.59-.52 0-1.04.2-1.43.59L10.3 9.45l-7.72 7.72c-.78.78-.78 2.05 0 2.83L4 21.41c.39.39.9.59 1.41.59.51 0 1.02-.2 1.41-.59l7.78-7.78 2.81-2.81c.8-.78.8-2.07 0-2.86zM5.41 20L4 18.59l7.72-7.72 1.47 1.35L5.41 20z\"/>\n",
       "  </svg>\n",
       "      </button>\n",
       "      \n",
       "  <style>\n",
       "    .colab-df-container {\n",
       "      display:flex;\n",
       "      flex-wrap:wrap;\n",
       "      gap: 12px;\n",
       "    }\n",
       "\n",
       "    .colab-df-convert {\n",
       "      background-color: #E8F0FE;\n",
       "      border: none;\n",
       "      border-radius: 50%;\n",
       "      cursor: pointer;\n",
       "      display: none;\n",
       "      fill: #1967D2;\n",
       "      height: 32px;\n",
       "      padding: 0 0 0 0;\n",
       "      width: 32px;\n",
       "    }\n",
       "\n",
       "    .colab-df-convert:hover {\n",
       "      background-color: #E2EBFA;\n",
       "      box-shadow: 0px 1px 2px rgba(60, 64, 67, 0.3), 0px 1px 3px 1px rgba(60, 64, 67, 0.15);\n",
       "      fill: #174EA6;\n",
       "    }\n",
       "\n",
       "    [theme=dark] .colab-df-convert {\n",
       "      background-color: #3B4455;\n",
       "      fill: #D2E3FC;\n",
       "    }\n",
       "\n",
       "    [theme=dark] .colab-df-convert:hover {\n",
       "      background-color: #434B5C;\n",
       "      box-shadow: 0px 1px 3px 1px rgba(0, 0, 0, 0.15);\n",
       "      filter: drop-shadow(0px 1px 2px rgba(0, 0, 0, 0.3));\n",
       "      fill: #FFFFFF;\n",
       "    }\n",
       "  </style>\n",
       "\n",
       "      <script>\n",
       "        const buttonEl =\n",
       "          document.querySelector('#df-51bb7142-4bbd-429d-8eed-f30b53e3e8fa button.colab-df-convert');\n",
       "        buttonEl.style.display =\n",
       "          google.colab.kernel.accessAllowed ? 'block' : 'none';\n",
       "\n",
       "        async function convertToInteractive(key) {\n",
       "          const element = document.querySelector('#df-51bb7142-4bbd-429d-8eed-f30b53e3e8fa');\n",
       "          const dataTable =\n",
       "            await google.colab.kernel.invokeFunction('convertToInteractive',\n",
       "                                                     [key], {});\n",
       "          if (!dataTable) return;\n",
       "\n",
       "          const docLinkHtml = 'Like what you see? Visit the ' +\n",
       "            '<a target=\"_blank\" href=https://colab.research.google.com/notebooks/data_table.ipynb>data table notebook</a>'\n",
       "            + ' to learn more about interactive tables.';\n",
       "          element.innerHTML = '';\n",
       "          dataTable['output_type'] = 'display_data';\n",
       "          await google.colab.output.renderOutput(dataTable, element);\n",
       "          const docLink = document.createElement('div');\n",
       "          docLink.innerHTML = docLinkHtml;\n",
       "          element.appendChild(docLink);\n",
       "        }\n",
       "      </script>\n",
       "    </div>\n",
       "  </div>\n",
       "  "
      ],
      "text/plain": [
       "   Weight  Displacement  Horsepower  Cylinders  Model Year  Weight_2  \\\n",
       "0    4135         318.0       150.0          8          72  17098225   \n",
       "1    1834          97.0        60.0          4          71   3363556   \n",
       "2    2188          97.0        78.0          4          80   4787344   \n",
       "3    1950          97.0        46.0          4          73   3802500   \n",
       "4    2635         120.0        74.0          4          81   6943225   \n",
       "\n",
       "   Displacement_2  Displacemen*Horsepower  Displacemen*Weight  \\\n",
       "0        101124.0                 47700.0           1314930.0   \n",
       "1          9409.0                  5820.0            177898.0   \n",
       "2          9409.0                  7566.0            212236.0   \n",
       "3          9409.0                  4462.0            189150.0   \n",
       "4         14400.0                  8880.0            316200.0   \n",
       "\n",
       "   Horsepower*Weight  \n",
       "0           620250.0  \n",
       "1           110040.0  \n",
       "2           170664.0  \n",
       "3            89700.0  \n",
       "4           194990.0  "
      ]
     },
     "execution_count": 23,
     "metadata": {},
     "output_type": "execute_result"
    }
   ],
   "source": [
    "#交互作用特徴量 … 排気量(Displacement), 馬力(Horsepower), 車重(Weight) が高いほど燃費が悪いと思う\n",
    "x['Displacemen*Horsepower'] = x['Displacement'] * x['Horsepower']\n",
    "x['Displacemen*Weight'] = x['Displacement'] * x['Weight']\n",
    "x['Horsepower*Weight'] = x['Horsepower'] * x['Weight']\n",
    "x.head(5)"
   ]
  },
  {
   "cell_type": "markdown",
   "metadata": {
    "id": "L2QXQrAO8M3z"
   },
   "source": [
    "訓練データと検証データに分けて、データを標準化"
   ]
  },
  {
   "cell_type": "code",
   "execution_count": 24,
   "metadata": {
    "id": "6dDXSlLspku2"
   },
   "outputs": [],
   "source": [
    "#訓練データと検証データに分割\n",
    "x_train, x_val, y_train, y_val = train_test_split(x, t, test_size=0.2, random_state=0)\n",
    "\n",
    "#訓練データを標準化\n",
    "sc_model_x = StandardScaler()\n",
    "sc_model_y = StandardScaler()\n",
    "sc_model_x.fit(x_train) #学習\n",
    "sc_x_train = sc_model_x.transform(x_train) #標準化\n",
    "sc_model_y.fit(y_train)\n",
    "sc_y_train = sc_model_y.transform(y_train)\n",
    "\n",
    "\n",
    "#検証データを標準化する\n",
    "sc_x_val = sc_model_x.transform(x_val)\n",
    "sc_y_val = sc_model_y.transform(y_val)\n"
   ]
  },
  {
   "cell_type": "markdown",
   "metadata": {
    "id": "deOOd9nwUSj1"
   },
   "source": [
    "★1の特徴量における 重回帰・リッジ回帰・ラッソ回帰で予測性能の評価"
   ]
  },
  {
   "cell_type": "code",
   "execution_count": 25,
   "metadata": {
    "colab": {
     "base_uri": "https://localhost:8080/"
    },
    "id": "RW0OVjS4TXzq",
    "outputId": "4a56b3b3-5fea-430a-87b2-b7bd61c29947"
   },
   "outputs": [
    {
     "name": "stdout",
     "output_type": "stream",
     "text": [
      "重回帰 =  0.862185193558483 0.8550041683075292\n"
     ]
    }
   ],
   "source": [
    "#重回帰モデルの作成と学習\n",
    "lnreg_model_h1 = LinearRegression()\n",
    "lnreg_model_h1.fit(sc_x_train, sc_y_train)\n",
    "\n",
    "#訓練データと検証データの決定係数計算\n",
    "lnreg_train_score_h1 = lnreg_model_h1.score(sc_x_train, sc_y_train)\n",
    "lnreg_val_score_h1 = lnreg_model_h1.score(sc_x_val, sc_y_val)\n",
    "\n",
    "print('重回帰 = ',lnreg_train_score_h1, lnreg_val_score_h1)"
   ]
  },
  {
   "cell_type": "code",
   "execution_count": 26,
   "metadata": {
    "colab": {
     "base_uri": "https://localhost:8080/"
    },
    "id": "sX1Rf28cFzkc",
    "outputId": "8b057dbd-52fc-4723-931a-6cef2c773575"
   },
   "outputs": [
    {
     "name": "stdout",
     "output_type": "stream",
     "text": [
      "リッジ回帰 =  0.8620394711454814 0.857896599337762 0.01\n"
     ]
    }
   ],
   "source": [
    "#リッジ回帰モデル\n",
    "r_maxScore_h1 = 0\n",
    "r_maxIndex_h1 = 0\n",
    "#正則化項の定数を0.01 ～ 20まで0.01刻みで検証\n",
    "for i in range(1, 2001):\n",
    "  num = i/100\n",
    "  ridge_model_h1 = Ridge(random_state = 0, alpha = num)\n",
    "  ridge_model_h1.fit(sc_x_train, sc_y_train)\n",
    "\n",
    "  redge_train_score_h1 = ridge_model_h1.score(sc_x_train, sc_y_train)\n",
    "  if redge_train_score_h1 > r_maxScore_h1:\n",
    "    r_maxScore_h1 = redge_train_score_h1\n",
    "    r_maxIndex_h1 = num\n",
    "\n",
    "#上記で求めた正則化項を使用\n",
    "ridge_model_h1 = Ridge(random_state = 0, alpha = r_maxIndex_h1)\n",
    "ridge_model_h1.fit(sc_x_train, sc_y_train)\n",
    "redge_train_score_h1 = ridge_model_h1.score(sc_x_train, sc_y_train)\n",
    "redge_val_score_h1 = ridge_model_h1.score(sc_x_val, sc_y_val)\n",
    "\n",
    "print('リッジ回帰 = ', redge_train_score_h1, redge_val_score_h1, r_maxIndex_h1)"
   ]
  },
  {
   "cell_type": "code",
   "execution_count": 27,
   "metadata": {
    "colab": {
     "base_uri": "https://localhost:8080/"
    },
    "id": "_WYKdz6AGosO",
    "outputId": "9c46cdd2-e912-4cad-e033-ec984f68e336"
   },
   "outputs": [
    {
     "name": "stderr",
     "output_type": "stream",
     "text": [
      "/usr/local/lib/python3.7/dist-packages/sklearn/linear_model/_coordinate_descent.py:648: ConvergenceWarning: Objective did not converge. You might want to increase the number of iterations, check the scale of the features or consider increasing regularisation. Duality gap: 2.867e-02, tolerance: 2.300e-02\n",
      "  coef_, l1_reg, l2_reg, X, y, max_iter, tol, rng, random, positive\n"
     ]
    },
    {
     "name": "stdout",
     "output_type": "stream",
     "text": [
      "ラッソ回帰 =  0.8368406157278739 0.8422071513375198 0.01\n"
     ]
    },
    {
     "name": "stderr",
     "output_type": "stream",
     "text": [
      "/usr/local/lib/python3.7/dist-packages/sklearn/linear_model/_coordinate_descent.py:648: ConvergenceWarning: Objective did not converge. You might want to increase the number of iterations, check the scale of the features or consider increasing regularisation. Duality gap: 2.867e-02, tolerance: 2.300e-02\n",
      "  coef_, l1_reg, l2_reg, X, y, max_iter, tol, rng, random, positive\n"
     ]
    }
   ],
   "source": [
    "#ラッソ回帰\n",
    "l_maxScore_h1 = 0\n",
    "l_maxIndex_h1 = 0\n",
    "#正則化項の定数を0.01 ～ 20まで0.01刻みで検証\n",
    "for i in range(1, 2001):\n",
    "  num = i/100\n",
    "  lasso_model_h1 = Lasso(random_state = 0, alpha = num)\n",
    "  lasso_model_h1.fit(sc_x_train, sc_y_train)\n",
    "\n",
    "  lasso_train_score_h1 = lasso_model_h1.score(sc_x_train, sc_y_train)\n",
    "  if lasso_train_score_h1 > l_maxScore_h1:\n",
    "    l_maxScore_h1 = lasso_train_score_h1\n",
    "    l_maxIndex_h1 = num\n",
    "\n",
    "#上記で求めた正則化項を使用\n",
    "lasso_model_h1 = Lasso(random_state = 0, alpha = r_maxIndex_h1)\n",
    "lasso_model_h1.fit(sc_x_train, sc_y_train)\n",
    "lasso_train_score_h1 = lasso_model_h1.score(sc_x_train, sc_y_train)\n",
    "lasso_val_score_h1 = lasso_model_h1.score(sc_x_val, sc_y_val)\n",
    "\n",
    "print('ラッソ回帰 = ', lasso_train_score_h1, lasso_val_score_h1, l_maxIndex_h1)"
   ]
  },
  {
   "cell_type": "code",
   "execution_count": 28,
   "metadata": {
    "colab": {
     "base_uri": "https://localhost:8080/"
    },
    "id": "l-dKfUUQYc0u",
    "outputId": "96f91aa4-7a82-4a7c-abcd-63c8c4899334"
   },
   "outputs": [
    {
     "name": "stdout",
     "output_type": "stream",
     "text": [
      "回帰木 =  0.9981205919949864 0.8015208366761281\n"
     ]
    }
   ],
   "source": [
    "#回帰木\n",
    "\n",
    "dtree_model_h1 = DecisionTreeRegressor(max_depth=10, random_state=0)\n",
    "dtree_model_h1.fit(sc_x_train, sc_y_train)\n",
    "\n",
    "dtree_train_score_h1 = dtree_model_h1.score(sc_x_train, sc_y_train)\n",
    "dtree_val_score_h1 = dtree_model_h1.score(sc_x_val, sc_y_val)\n",
    "\n",
    "print('回帰木 = ', dtree_train_score_h1, dtree_val_score_h1)"
   ]
  },
  {
   "cell_type": "markdown",
   "metadata": {
    "id": "IVrGdXjfZjE7"
   },
   "source": [
    "★2 特徴量をPolynomialFeaturesで自動化した場合"
   ]
  },
  {
   "cell_type": "code",
   "execution_count": 29,
   "metadata": {
    "colab": {
     "base_uri": "https://localhost:8080/"
    },
    "id": "jDlwTykeZ_AL",
    "outputId": "30aac5cf-ac4a-423c-b5c8-47d4342b0410"
   },
   "outputs": [
    {
     "name": "stderr",
     "output_type": "stream",
     "text": [
      "/usr/local/lib/python3.7/dist-packages/sklearn/utils/validation.py:1692: FutureWarning: Feature names only support names that are all strings. Got feature names with dtypes: ['int', 'str']. An error will be raised in 1.2.\n",
      "  FutureWarning,\n",
      "/usr/local/lib/python3.7/dist-packages/sklearn/utils/validation.py:1692: FutureWarning: Feature names only support names that are all strings. Got feature names with dtypes: ['int', 'str']. An error will be raised in 1.2.\n",
      "  FutureWarning,\n"
     ]
    },
    {
     "data": {
      "text/plain": [
       "(288, 44)"
      ]
     },
     "execution_count": 29,
     "metadata": {},
     "output_type": "execute_result"
    }
   ],
   "source": [
    "h2_t = train_val2[['MPG']] #正解データ\n",
    "h2_x = train_val2.drop(['MPG'], axis=1) #特徴量(正解データ以外)\n",
    "\n",
    "#標準化\n",
    "h2_sc = StandardScaler()\n",
    "h2_sc_x = h2_sc.fit_transform(h2_x)\n",
    "h2_sc2 = StandardScaler()\n",
    "h2_sc_t = h2_sc2.fit_transform(h2_t)\n",
    "\n",
    "#累乗列と交互作用特徴量を一括追加\n",
    "pf = PolynomialFeatures(degree = 2, include_bias = False)\n",
    "pf_x = pf.fit_transform(h2_sc_x)  #2乗列と交互作用特徴量の追加\n",
    "pf_x.shape"
   ]
  },
  {
   "cell_type": "code",
   "execution_count": 30,
   "metadata": {
    "colab": {
     "base_uri": "https://localhost:8080/"
    },
    "id": "w9tt3p69fvPT",
    "outputId": "ab6dceac-2256-4192-e95b-3c2bf601e6b1"
   },
   "outputs": [
    {
     "name": "stderr",
     "output_type": "stream",
     "text": [
      "/usr/local/lib/python3.7/dist-packages/sklearn/utils/deprecation.py:87: FutureWarning: Function get_feature_names is deprecated; get_feature_names is deprecated in 1.0 and will be removed in 1.2. Please use get_feature_names_out instead.\n",
      "  warnings.warn(msg, category=FutureWarning)\n"
     ]
    },
    {
     "data": {
      "text/plain": [
       "['x0',\n",
       " 'x1',\n",
       " 'x2',\n",
       " 'x3',\n",
       " 'x4',\n",
       " 'x5',\n",
       " 'x6',\n",
       " 'x7',\n",
       " 'x0^2',\n",
       " 'x0 x1',\n",
       " 'x0 x2',\n",
       " 'x0 x3',\n",
       " 'x0 x4',\n",
       " 'x0 x5',\n",
       " 'x0 x6',\n",
       " 'x0 x7',\n",
       " 'x1^2',\n",
       " 'x1 x2',\n",
       " 'x1 x3',\n",
       " 'x1 x4',\n",
       " 'x1 x5',\n",
       " 'x1 x6',\n",
       " 'x1 x7',\n",
       " 'x2^2',\n",
       " 'x2 x3',\n",
       " 'x2 x4',\n",
       " 'x2 x5',\n",
       " 'x2 x6',\n",
       " 'x2 x7',\n",
       " 'x3^2',\n",
       " 'x3 x4',\n",
       " 'x3 x5',\n",
       " 'x3 x6',\n",
       " 'x3 x7',\n",
       " 'x4^2',\n",
       " 'x4 x5',\n",
       " 'x4 x6',\n",
       " 'x4 x7',\n",
       " 'x5^2',\n",
       " 'x5 x6',\n",
       " 'x5 x7',\n",
       " 'x6^2',\n",
       " 'x6 x7',\n",
       " 'x7^2']"
      ]
     },
     "execution_count": 30,
     "metadata": {},
     "output_type": "execute_result"
    }
   ],
   "source": [
    "#確認\n",
    "pf.get_feature_names()"
   ]
  },
  {
   "cell_type": "markdown",
   "metadata": {
    "id": "IeOOGlZ5dfFU"
   },
   "source": [
    "★2の特徴量における 重回帰・リッジ回帰・ラッソ回帰で予測性能の評価"
   ]
  },
  {
   "cell_type": "code",
   "execution_count": 31,
   "metadata": {
    "id": "9JLabT3YMjXL"
   },
   "outputs": [],
   "source": [
    "#訓練データと検証データに分割 -標準化済\n",
    "x_train, x_test, y_train, y_test = train_test_split(pf_x, h2_sc_t, test_size=0.2, random_state=0)"
   ]
  },
  {
   "cell_type": "code",
   "execution_count": 32,
   "metadata": {
    "colab": {
     "base_uri": "https://localhost:8080/"
    },
    "id": "OFV70Y3qNS3e",
    "outputId": "61915447-9c57-499d-f0aa-e3943f8a087d"
   },
   "outputs": [
    {
     "name": "stdout",
     "output_type": "stream",
     "text": [
      "重回帰 =  0.8992919598923387 0.8250716820705016\n"
     ]
    }
   ],
   "source": [
    "#重回帰モデルの作成と学習\n",
    "lnreg_model_h2 = LinearRegression()\n",
    "lnreg_model_h2.fit(x_train, y_train)\n",
    "\n",
    "#訓練データと検証データの決定係数計算\n",
    "lnreg_train_score_h2 = lnreg_model_h2.score(x_train, y_train)\n",
    "lnreg_val_score_h2 = lnreg_model_h2.score(x_test, y_test)\n",
    "\n",
    "print('重回帰 = ',lnreg_train_score_h2, lnreg_val_score_h2)"
   ]
  },
  {
   "cell_type": "code",
   "execution_count": 33,
   "metadata": {
    "colab": {
     "base_uri": "https://localhost:8080/"
    },
    "id": "OVUhPiHbOFF7",
    "outputId": "07624f0e-1b5b-4a39-e7d6-28d1c4932aef"
   },
   "outputs": [
    {
     "name": "stdout",
     "output_type": "stream",
     "text": [
      "リッジ回帰 =  0.899305737707804 0.8274892354642319 0.01\n"
     ]
    }
   ],
   "source": [
    "#リッジ回帰モデル\n",
    "r_maxScore_h2 = 0\n",
    "r_maxIndex_h2 = 0\n",
    "#正則化項の定数を0.01 ～ 20まで0.01刻みで検証\n",
    "for i in range(1, 2001):\n",
    "  num = i/100\n",
    "  ridge_model_h2 = Ridge(random_state = 0, alpha = num)\n",
    "  ridge_model_h2.fit(x_train, y_train)\n",
    "\n",
    "  redge_train_score_h2 = ridge_model_h2.score(x_train, y_train)\n",
    "  if redge_train_score_h2 > r_maxScore_h2:\n",
    "    r_maxScore_h2 = redge_train_score_h2\n",
    "    r_maxIndex_h2 = num\n",
    "\n",
    "#上記で求めた正則化項を使用\n",
    "ridge_model_h2 = Ridge(random_state = 0, alpha = r_maxIndex_h2)\n",
    "ridge_model_h2.fit(x_train, y_train)\n",
    "redge_train_score_h2 = ridge_model_h2.score(x_train, y_train)\n",
    "redge_val_score_h2 = ridge_model_h2.score(x_test, y_test)\n",
    "\n",
    "print('リッジ回帰 = ', redge_train_score_h2, redge_val_score_h2, r_maxIndex_h2)"
   ]
  },
  {
   "cell_type": "code",
   "execution_count": 34,
   "metadata": {
    "colab": {
     "base_uri": "https://localhost:8080/"
    },
    "id": "jnkYdmWxdmqK",
    "outputId": "cd4067e3-6d6c-432b-9ccb-f65921fded8a"
   },
   "outputs": [
    {
     "name": "stdout",
     "output_type": "stream",
     "text": [
      "ラッソ回帰 =  0.8797693629127527 0.8716960212939054 0.01\n"
     ]
    }
   ],
   "source": [
    "#ラッソ回帰\n",
    "l_maxScore_h2 = 0\n",
    "l_maxIndex_h2 = 0\n",
    "#正則化項の定数を0.01 ～ 20まで0.01刻みで検証\n",
    "for i in range(1, 2001):\n",
    "  num = i/100\n",
    "  lasso_model_h2 = Lasso(random_state = 0, alpha = num)\n",
    "  lasso_model_h2.fit(x_train, y_train)\n",
    "\n",
    "  lasso_train_score_h2 = lasso_model_h2.score(x_train, y_train)\n",
    "  if lasso_train_score_h2 > l_maxScore_h2:\n",
    "    l_maxScore_h2 = lasso_train_score_h2\n",
    "    l_maxIndex_h2 = num\n",
    "\n",
    "#上記で求めた正則化項を使用\n",
    "lasso_model_h2 = Lasso(random_state = 0, alpha = l_maxIndex_h2)\n",
    "lasso_model_h2.fit(x_train, y_train)\n",
    "lasso_train_score_h2 = lasso_model_h2.score(x_train, y_train)\n",
    "lasso_val_score_h2 = lasso_model_h2.score(x_test, y_test)\n",
    "\n",
    "print('ラッソ回帰 = ', lasso_train_score_h2, lasso_val_score_h2, l_maxIndex_h2)"
   ]
  },
  {
   "cell_type": "code",
   "execution_count": 35,
   "metadata": {
    "colab": {
     "base_uri": "https://localhost:8080/"
    },
    "id": "ZYnLhHA-bhYf",
    "outputId": "853a878b-da8c-4641-9902-862b6afa6f37"
   },
   "outputs": [
    {
     "name": "stdout",
     "output_type": "stream",
     "text": [
      "回帰木 =  0.9969225117453833 0.7973808818865522\n"
     ]
    }
   ],
   "source": [
    "#回帰木\n",
    "dtree_model_h2 = DecisionTreeRegressor(max_depth=10, random_state=0)\n",
    "dtree_model_h2.fit(x_train, y_train)\n",
    "\n",
    "dtree_train_score_h2 = dtree_model_h2.score(x_train, y_train)\n",
    "dtree_val_score_h2 = dtree_model_h2.score(x_test, y_test)\n",
    "\n",
    "print('回帰木 = ', dtree_train_score_h2, dtree_val_score_h2)"
   ]
  },
  {
   "cell_type": "code",
   "execution_count": 36,
   "metadata": {
    "colab": {
     "base_uri": "https://localhost:8080/"
    },
    "id": "3JatSWNXQ0Up",
    "outputId": "a9ec2a73-45a9-48b1-c2f8-62b6335bd40d"
   },
   "outputs": [
    {
     "name": "stdout",
     "output_type": "stream",
     "text": [
      "★1 特徴量を自前で追加した場合\n",
      "重回帰     =  0.862185193558483 0.8550041683075292\n",
      "リッジ回帰 =  0.8620394711454814 0.857896599337762 0.01\n",
      "ラッソ回帰 =  0.8368406157278739 0.8422071513375198 0.01\n",
      "回帰木     =   0.9981205919949864 0.8015208366761281\n",
      "★2 特徴量をPolynomialFeaturesで自動化した場合\n",
      "重回帰     =  0.8992919598923387 0.8250716820705016\n",
      "リッジ回帰 =  0.899305737707804 0.8274892354642319 0.01\n",
      "ラッソ回帰 =  0.8797693629127527 0.8716960212939054 0.01\n",
      "回帰木     =   0.9969225117453833 0.7973808818865522\n"
     ]
    }
   ],
   "source": [
    "#学習モデルの比較\n",
    "print('★1 特徴量を自前で追加した場合')\n",
    "print('重回帰     = ',lnreg_train_score_h1, lnreg_val_score_h1) #モデル lnreg_model_h1\n",
    "print('リッジ回帰 = ', redge_train_score_h1, redge_val_score_h1, r_maxIndex_h1) #モデル ridge_model_h1\n",
    "print('ラッソ回帰 = ', lasso_train_score_h1, lasso_val_score_h1, l_maxIndex_h1) #モデル lasso_model_h1\n",
    "print('回帰木     =  ', dtree_train_score_h1, dtree_val_score_h1) #モデル dtree_model_h1\n",
    "\n",
    "print('★2 特徴量をPolynomialFeaturesで自動化した場合')\n",
    "print('重回帰     = ',lnreg_train_score_h2, lnreg_val_score_h2) #モデル lnreg_model_h2\n",
    "print('リッジ回帰 = ', redge_train_score_h2, redge_val_score_h2, r_maxIndex_h2) #モデル ridge_model_h2\n",
    "print('ラッソ回帰 = ', lasso_train_score_h2, lasso_val_score_h2, l_maxIndex_h2) #モデル lasso_model_h2\n",
    "print('回帰木     =  ', dtree_train_score_h2, dtree_val_score_h2) #モデル dtree_model_h2"
   ]
  },
  {
   "cell_type": "markdown",
   "metadata": {
    "id": "pmBSD81Cdgu0"
   },
   "source": [
    "★★★上記結果より、PolynomialFeaturesを使用して多項式項や交互作用特徴量を自動で生成し、検証データの決定係数が最も高いラッソ回帰(正則化項0.01)がベストと思われる★★★"
   ]
  },
  {
   "cell_type": "markdown",
   "metadata": {
    "id": "dJ_-VTygPsQe"
   },
   "source": [
    "## 正解率または決定係数の表示(未知のデータ:testを使用した予測)"
   ]
  },
  {
   "cell_type": "markdown",
   "metadata": {
    "id": "_tPr0O_TqCBa"
   },
   "source": [
    "テストデータを使用したモデルの評価"
   ]
  },
  {
   "cell_type": "code",
   "execution_count": 37,
   "metadata": {
    "colab": {
     "base_uri": "https://localhost:8080/",
     "height": 423
    },
    "id": "dPKfphBSTEQs",
    "outputId": "3c6c9d1e-40ee-455d-a97f-69fd51b7547e"
   },
   "outputs": [
    {
     "data": {
      "text/html": [
       "\n",
       "  <div id=\"df-5cab77e9-ec8d-4da6-ba3f-0ca4f0c0042b\">\n",
       "    <div class=\"colab-df-container\">\n",
       "      <div>\n",
       "<style scoped>\n",
       "    .dataframe tbody tr th:only-of-type {\n",
       "        vertical-align: middle;\n",
       "    }\n",
       "\n",
       "    .dataframe tbody tr th {\n",
       "        vertical-align: top;\n",
       "    }\n",
       "\n",
       "    .dataframe thead th {\n",
       "        text-align: right;\n",
       "    }\n",
       "</style>\n",
       "<table border=\"1\" class=\"dataframe\">\n",
       "  <thead>\n",
       "    <tr style=\"text-align: right;\">\n",
       "      <th></th>\n",
       "      <th>MPG</th>\n",
       "      <th>Cylinders</th>\n",
       "      <th>Displacement</th>\n",
       "      <th>Horsepower</th>\n",
       "      <th>Weight</th>\n",
       "      <th>Acceleration</th>\n",
       "      <th>Model Year</th>\n",
       "      <th>2</th>\n",
       "      <th>3</th>\n",
       "    </tr>\n",
       "  </thead>\n",
       "  <tbody>\n",
       "    <tr>\n",
       "      <th>0</th>\n",
       "      <td>14.0</td>\n",
       "      <td>8</td>\n",
       "      <td>351.0</td>\n",
       "      <td>153.0</td>\n",
       "      <td>4129</td>\n",
       "      <td>13.0</td>\n",
       "      <td>72</td>\n",
       "      <td>0</td>\n",
       "      <td>0</td>\n",
       "    </tr>\n",
       "    <tr>\n",
       "      <th>1</th>\n",
       "      <td>25.0</td>\n",
       "      <td>4</td>\n",
       "      <td>140.0</td>\n",
       "      <td>75.0</td>\n",
       "      <td>2542</td>\n",
       "      <td>17.0</td>\n",
       "      <td>74</td>\n",
       "      <td>0</td>\n",
       "      <td>0</td>\n",
       "    </tr>\n",
       "    <tr>\n",
       "      <th>2</th>\n",
       "      <td>13.0</td>\n",
       "      <td>8</td>\n",
       "      <td>302.0</td>\n",
       "      <td>140.0</td>\n",
       "      <td>4294</td>\n",
       "      <td>16.0</td>\n",
       "      <td>72</td>\n",
       "      <td>0</td>\n",
       "      <td>0</td>\n",
       "    </tr>\n",
       "    <tr>\n",
       "      <th>3</th>\n",
       "      <td>21.0</td>\n",
       "      <td>4</td>\n",
       "      <td>120.0</td>\n",
       "      <td>87.0</td>\n",
       "      <td>2979</td>\n",
       "      <td>19.5</td>\n",
       "      <td>72</td>\n",
       "      <td>1</td>\n",
       "      <td>0</td>\n",
       "    </tr>\n",
       "    <tr>\n",
       "      <th>4</th>\n",
       "      <td>18.0</td>\n",
       "      <td>6</td>\n",
       "      <td>232.0</td>\n",
       "      <td>100.0</td>\n",
       "      <td>3288</td>\n",
       "      <td>15.5</td>\n",
       "      <td>71</td>\n",
       "      <td>0</td>\n",
       "      <td>0</td>\n",
       "    </tr>\n",
       "    <tr>\n",
       "      <th>...</th>\n",
       "      <td>...</td>\n",
       "      <td>...</td>\n",
       "      <td>...</td>\n",
       "      <td>...</td>\n",
       "      <td>...</td>\n",
       "      <td>...</td>\n",
       "      <td>...</td>\n",
       "      <td>...</td>\n",
       "      <td>...</td>\n",
       "    </tr>\n",
       "    <tr>\n",
       "      <th>75</th>\n",
       "      <td>30.9</td>\n",
       "      <td>4</td>\n",
       "      <td>105.0</td>\n",
       "      <td>75.0</td>\n",
       "      <td>2230</td>\n",
       "      <td>14.5</td>\n",
       "      <td>78</td>\n",
       "      <td>0</td>\n",
       "      <td>0</td>\n",
       "    </tr>\n",
       "    <tr>\n",
       "      <th>76</th>\n",
       "      <td>26.0</td>\n",
       "      <td>4</td>\n",
       "      <td>97.0</td>\n",
       "      <td>75.0</td>\n",
       "      <td>2265</td>\n",
       "      <td>18.2</td>\n",
       "      <td>77</td>\n",
       "      <td>0</td>\n",
       "      <td>1</td>\n",
       "    </tr>\n",
       "    <tr>\n",
       "      <th>77</th>\n",
       "      <td>32.0</td>\n",
       "      <td>4</td>\n",
       "      <td>83.0</td>\n",
       "      <td>61.0</td>\n",
       "      <td>2003</td>\n",
       "      <td>19.0</td>\n",
       "      <td>74</td>\n",
       "      <td>0</td>\n",
       "      <td>1</td>\n",
       "    </tr>\n",
       "    <tr>\n",
       "      <th>78</th>\n",
       "      <td>24.5</td>\n",
       "      <td>4</td>\n",
       "      <td>98.0</td>\n",
       "      <td>60.0</td>\n",
       "      <td>2164</td>\n",
       "      <td>22.1</td>\n",
       "      <td>76</td>\n",
       "      <td>0</td>\n",
       "      <td>0</td>\n",
       "    </tr>\n",
       "    <tr>\n",
       "      <th>79</th>\n",
       "      <td>11.0</td>\n",
       "      <td>8</td>\n",
       "      <td>350.0</td>\n",
       "      <td>180.0</td>\n",
       "      <td>3664</td>\n",
       "      <td>11.0</td>\n",
       "      <td>73</td>\n",
       "      <td>0</td>\n",
       "      <td>0</td>\n",
       "    </tr>\n",
       "  </tbody>\n",
       "</table>\n",
       "<p>80 rows × 9 columns</p>\n",
       "</div>\n",
       "      <button class=\"colab-df-convert\" onclick=\"convertToInteractive('df-5cab77e9-ec8d-4da6-ba3f-0ca4f0c0042b')\"\n",
       "              title=\"Convert this dataframe to an interactive table.\"\n",
       "              style=\"display:none;\">\n",
       "        \n",
       "  <svg xmlns=\"http://www.w3.org/2000/svg\" height=\"24px\"viewBox=\"0 0 24 24\"\n",
       "       width=\"24px\">\n",
       "    <path d=\"M0 0h24v24H0V0z\" fill=\"none\"/>\n",
       "    <path d=\"M18.56 5.44l.94 2.06.94-2.06 2.06-.94-2.06-.94-.94-2.06-.94 2.06-2.06.94zm-11 1L8.5 8.5l.94-2.06 2.06-.94-2.06-.94L8.5 2.5l-.94 2.06-2.06.94zm10 10l.94 2.06.94-2.06 2.06-.94-2.06-.94-.94-2.06-.94 2.06-2.06.94z\"/><path d=\"M17.41 7.96l-1.37-1.37c-.4-.4-.92-.59-1.43-.59-.52 0-1.04.2-1.43.59L10.3 9.45l-7.72 7.72c-.78.78-.78 2.05 0 2.83L4 21.41c.39.39.9.59 1.41.59.51 0 1.02-.2 1.41-.59l7.78-7.78 2.81-2.81c.8-.78.8-2.07 0-2.86zM5.41 20L4 18.59l7.72-7.72 1.47 1.35L5.41 20z\"/>\n",
       "  </svg>\n",
       "      </button>\n",
       "      \n",
       "  <style>\n",
       "    .colab-df-container {\n",
       "      display:flex;\n",
       "      flex-wrap:wrap;\n",
       "      gap: 12px;\n",
       "    }\n",
       "\n",
       "    .colab-df-convert {\n",
       "      background-color: #E8F0FE;\n",
       "      border: none;\n",
       "      border-radius: 50%;\n",
       "      cursor: pointer;\n",
       "      display: none;\n",
       "      fill: #1967D2;\n",
       "      height: 32px;\n",
       "      padding: 0 0 0 0;\n",
       "      width: 32px;\n",
       "    }\n",
       "\n",
       "    .colab-df-convert:hover {\n",
       "      background-color: #E2EBFA;\n",
       "      box-shadow: 0px 1px 2px rgba(60, 64, 67, 0.3), 0px 1px 3px 1px rgba(60, 64, 67, 0.15);\n",
       "      fill: #174EA6;\n",
       "    }\n",
       "\n",
       "    [theme=dark] .colab-df-convert {\n",
       "      background-color: #3B4455;\n",
       "      fill: #D2E3FC;\n",
       "    }\n",
       "\n",
       "    [theme=dark] .colab-df-convert:hover {\n",
       "      background-color: #434B5C;\n",
       "      box-shadow: 0px 1px 3px 1px rgba(0, 0, 0, 0.15);\n",
       "      filter: drop-shadow(0px 1px 2px rgba(0, 0, 0, 0.3));\n",
       "      fill: #FFFFFF;\n",
       "    }\n",
       "  </style>\n",
       "\n",
       "      <script>\n",
       "        const buttonEl =\n",
       "          document.querySelector('#df-5cab77e9-ec8d-4da6-ba3f-0ca4f0c0042b button.colab-df-convert');\n",
       "        buttonEl.style.display =\n",
       "          google.colab.kernel.accessAllowed ? 'block' : 'none';\n",
       "\n",
       "        async function convertToInteractive(key) {\n",
       "          const element = document.querySelector('#df-5cab77e9-ec8d-4da6-ba3f-0ca4f0c0042b');\n",
       "          const dataTable =\n",
       "            await google.colab.kernel.invokeFunction('convertToInteractive',\n",
       "                                                     [key], {});\n",
       "          if (!dataTable) return;\n",
       "\n",
       "          const docLinkHtml = 'Like what you see? Visit the ' +\n",
       "            '<a target=\"_blank\" href=https://colab.research.google.com/notebooks/data_table.ipynb>data table notebook</a>'\n",
       "            + ' to learn more about interactive tables.';\n",
       "          element.innerHTML = '';\n",
       "          dataTable['output_type'] = 'display_data';\n",
       "          await google.colab.output.renderOutput(dataTable, element);\n",
       "          const docLink = document.createElement('div');\n",
       "          docLink.innerHTML = docLinkHtml;\n",
       "          element.appendChild(docLink);\n",
       "        }\n",
       "      </script>\n",
       "    </div>\n",
       "  </div>\n",
       "  "
      ],
      "text/plain": [
       "     MPG  Cylinders  Displacement  Horsepower  Weight  Acceleration  \\\n",
       "0   14.0          8         351.0       153.0    4129          13.0   \n",
       "1   25.0          4         140.0        75.0    2542          17.0   \n",
       "2   13.0          8         302.0       140.0    4294          16.0   \n",
       "3   21.0          4         120.0        87.0    2979          19.5   \n",
       "4   18.0          6         232.0       100.0    3288          15.5   \n",
       "..   ...        ...           ...         ...     ...           ...   \n",
       "75  30.9          4         105.0        75.0    2230          14.5   \n",
       "76  26.0          4          97.0        75.0    2265          18.2   \n",
       "77  32.0          4          83.0        61.0    2003          19.0   \n",
       "78  24.5          4          98.0        60.0    2164          22.1   \n",
       "79  11.0          8         350.0       180.0    3664          11.0   \n",
       "\n",
       "    Model Year  2  3  \n",
       "0           72  0  0  \n",
       "1           74  0  0  \n",
       "2           72  0  0  \n",
       "3           72  1  0  \n",
       "4           71  0  0  \n",
       "..         ... .. ..  \n",
       "75          78  0  0  \n",
       "76          77  0  1  \n",
       "77          74  0  1  \n",
       "78          76  0  0  \n",
       "79          73  0  0  \n",
       "\n",
       "[80 rows x 9 columns]"
      ]
     },
     "execution_count": 37,
     "metadata": {},
     "output_type": "execute_result"
    }
   ],
   "source": [
    "test = test.reset_index(drop=True)\n",
    "test"
   ]
  },
  {
   "cell_type": "code",
   "execution_count": 38,
   "metadata": {
    "colab": {
     "base_uri": "https://localhost:8080/"
    },
    "id": "enWxEhRDqX6m",
    "outputId": "98dc6afe-9021-4dea-debb-7b8e3c97b4b2"
   },
   "outputs": [
    {
     "data": {
      "text/plain": [
       "MPG             0\n",
       "Cylinders       0\n",
       "Displacement    0\n",
       "Horsepower      1\n",
       "Weight          0\n",
       "Acceleration    0\n",
       "Model Year      0\n",
       "2               0\n",
       "3               0\n",
       "dtype: int64"
      ]
     },
     "execution_count": 38,
     "metadata": {},
     "output_type": "execute_result"
    }
   ],
   "source": [
    "#testの欠損値処理 - 欠損値の確認\n",
    "test.isnull().sum()"
   ]
  },
  {
   "cell_type": "code",
   "execution_count": 39,
   "metadata": {
    "colab": {
     "base_uri": "https://localhost:8080/"
    },
    "id": "ybD8DUwCqD--",
    "outputId": "48413ba8-02a3-40f1-a31e-0dd2096a72b5"
   },
   "outputs": [
    {
     "name": "stderr",
     "output_type": "stream",
     "text": [
      "/usr/local/lib/python3.7/dist-packages/sklearn/utils/validation.py:1692: FutureWarning: Feature names only support names that are all strings. Got feature names with dtypes: ['int', 'str']. An error will be raised in 1.2.\n",
      "  FutureWarning,\n",
      "/usr/local/lib/python3.7/dist-packages/sklearn/utils/validation.py:1692: FutureWarning: Feature names only support names that are all strings. Got feature names with dtypes: ['int', 'str']. An error will be raised in 1.2.\n",
      "  FutureWarning,\n"
     ]
    }
   ],
   "source": [
    "#### Horsepower(馬力) は時系列ではないため、教師あり学習による補完を行う\n",
    "\n",
    "## Horsepower(馬力) を予測する重回帰の予測モデルを作成\n",
    "#  Horsepower(馬力)の欠損は1個\n",
    "test_non_df = test.dropna() #欠損値を含む行を削除\n",
    "\n",
    "test_temp_x = test_non_df.drop(['Horsepower'], axis=1)\n",
    "test_temp_t = test_non_df['Horsepower']\n",
    "\n",
    "test_temp_model = LinearRegression()\n",
    "test_temp_model.fit(test_temp_x, test_temp_t)   #Horsepowerを予測するための学習\n",
    "\n",
    "## 欠損データの本来の値を予測して補完\n",
    "# 欠損行の抜き出し\n",
    "test_condition = test['Horsepower'].isnull() #欠損値有り：True、欠損値無し：False\n",
    "test_non_data = test.loc[test_condition]          #欠損値有り：True の行だけを抜き出す\n",
    "\n",
    "#特徴量を抜き出し、モデルで予測\n",
    "test_temp_x = test_non_data.drop(['Horsepower'], axis=1)\n",
    "test_pred = temp_model.predict(test_temp_x)\n",
    "\n",
    "#欠損行のHorsepowerのマスを抜き出して、predで代入\n",
    "test.loc[test_condition, 'Horsepower'] = test_pred"
   ]
  },
  {
   "cell_type": "code",
   "execution_count": 40,
   "metadata": {
    "colab": {
     "base_uri": "https://localhost:8080/"
    },
    "id": "3ZtU3FGyVIyx",
    "outputId": "2a5a55d7-de28-4f4c-8019-cd508eaaa18b"
   },
   "outputs": [
    {
     "data": {
      "text/plain": [
       "MPG             0\n",
       "Cylinders       0\n",
       "Displacement    0\n",
       "Horsepower      0\n",
       "Weight          0\n",
       "Acceleration    0\n",
       "Model Year      0\n",
       "2               0\n",
       "3               0\n",
       "dtype: int64"
      ]
     },
     "execution_count": 40,
     "metadata": {},
     "output_type": "execute_result"
    }
   ],
   "source": [
    "#確認用\n",
    "test.isnull().sum()"
   ]
  },
  {
   "cell_type": "code",
   "execution_count": 41,
   "metadata": {
    "colab": {
     "base_uri": "https://localhost:8080/"
    },
    "id": "JCRX-Kboqp-f",
    "outputId": "a8aa62a8-a6fc-41aa-fee5-02563afa4958"
   },
   "outputs": [
    {
     "name": "stdout",
     "output_type": "stream",
     "text": [
      "    Cylinders  Displacement  Horsepower  Weight  Acceleration  Model Year  2  \\\n",
      "0           8         351.0       153.0    4129          13.0          72  0   \n",
      "1           4         140.0        75.0    2542          17.0          74  0   \n",
      "2           8         302.0       140.0    4294          16.0          72  0   \n",
      "3           4         120.0        87.0    2979          19.5          72  1   \n",
      "4           6         232.0       100.0    3288          15.5          71  0   \n",
      "..        ...           ...         ...     ...           ...         ... ..   \n",
      "75          4         105.0        75.0    2230          14.5          78  0   \n",
      "76          4          97.0        75.0    2265          18.2          77  0   \n",
      "77          4          83.0        61.0    2003          19.0          74  0   \n",
      "78          4          98.0        60.0    2164          22.1          76  0   \n",
      "79          8         350.0       180.0    3664          11.0          73  0   \n",
      "\n",
      "    3  \n",
      "0   0  \n",
      "1   0  \n",
      "2   0  \n",
      "3   0  \n",
      "4   0  \n",
      ".. ..  \n",
      "75  0  \n",
      "76  1  \n",
      "77  1  \n",
      "78  0  \n",
      "79  0  \n",
      "\n",
      "[80 rows x 8 columns]\n"
     ]
    },
    {
     "name": "stderr",
     "output_type": "stream",
     "text": [
      "/usr/local/lib/python3.7/dist-packages/sklearn/utils/validation.py:1692: FutureWarning: Feature names only support names that are all strings. Got feature names with dtypes: ['int', 'str']. An error will be raised in 1.2.\n",
      "  FutureWarning,\n",
      "/usr/local/lib/python3.7/dist-packages/sklearn/utils/validation.py:1692: FutureWarning: Feature names only support names that are all strings. Got feature names with dtypes: ['int', 'str']. An error will be raised in 1.2.\n",
      "  FutureWarning,\n"
     ]
    },
    {
     "data": {
      "text/plain": [
       "array([  7.11890404,   4.20442112,  10.79959692,  12.04428017,\n",
       "         4.181197  ,  14.0533251 ,   6.1672223 ,  13.12221553,\n",
       "        43.60287242,  11.3252057 ,  12.13508158,   5.74590058,\n",
       "         8.17456254,  18.63873548,   5.1512565 ,   7.08328891,\n",
       "         8.83419605,   8.74177711,   4.95617567,   8.00831427,\n",
       "        42.89070481,   3.9395039 ,   6.48606397,  11.44802109,\n",
       "         4.63351467,  11.88625742,   6.63190055,   9.64864705,\n",
       "         7.04231797,   3.73678793,   4.99759771,   5.69175189,\n",
       "        12.42324951,   5.09718348,   3.23415897,   9.48419752,\n",
       "         2.70766022,   9.88375418,   8.8835405 ,  36.28043039,\n",
       "       100.02337523,  22.04480894,   7.03375278,  13.29799575,\n",
       "        12.1848265 ,   9.06675173,   3.34612698,  12.83491126,\n",
       "        19.58739925,   6.99270073,   8.39560451,   6.16517284,\n",
       "        11.18494391,   8.02999394,  47.2571279 ,  44.31623652,\n",
       "        11.64486085,   5.39827749,   7.46425683,  13.70896353,\n",
       "        11.02873977,  11.11811326,   6.36935049,   7.4578063 ,\n",
       "        10.89147137,   7.66011854,  57.73573919,   2.36015827,\n",
       "         3.75221093,  81.62731085,   7.22509003,   5.52792798,\n",
       "         9.06805375,   5.20937713,   9.53132562,   5.36227428,\n",
       "         5.12976119,   7.8807987 ,  11.97525311,  33.91965507])"
      ]
     },
     "execution_count": 41,
     "metadata": {},
     "output_type": "execute_result"
    }
   ],
   "source": [
    "#外れ値の処理 \n",
    "#マハラノビス距離を計算\n",
    "test_temp_df = test.drop(['MPG'], axis=1)\n",
    "print(test_temp_df)\n",
    "\n",
    "#マハラノビス距離を計算するための準備\n",
    "test_mcd = MinCovDet(random_state=0, support_fraction=0.7)\n",
    "test_mcd.fit(test_temp_df)\n",
    "\n",
    "#マハラノビス距離\n",
    "test_distance = test_mcd.mahalanobis(test_temp_df)\n",
    "test_distance"
   ]
  },
  {
   "cell_type": "code",
   "execution_count": 42,
   "metadata": {
    "colab": {
     "base_uri": "https://localhost:8080/",
     "height": 283
    },
    "id": "W3br_kcVrXxh",
    "outputId": "70de2dfd-88b4-4f45-8457-98f27eac672e"
   },
   "outputs": [
    {
     "data": {
      "text/plain": [
       "<matplotlib.axes._subplots.AxesSubplot at 0x7fda822712d0>"
      ]
     },
     "execution_count": 42,
     "metadata": {},
     "output_type": "execute_result"
    },
    {
     "data": {
      "image/png": "[encoded data removed]",
      "text/plain": [
       "<Figure size 432x288 with 1 Axes>"
      ]
     },
     "metadata": {
      "needs_background": "light"
     },
     "output_type": "display_data"
    }
   ],
   "source": [
    "#箱ひげ図を描く\n",
    "#シリーズに変換\n",
    "test_distance = pd.Series(test_distance)\n",
    "test_distance.plot(kind='box')"
   ]
  },
  {
   "cell_type": "code",
   "execution_count": 43,
   "metadata": {
    "colab": {
     "base_uri": "https://localhost:8080/"
    },
    "id": "80sOkZhtWKYy",
    "outputId": "915981c0-6e64-4b8d-8f4f-606c9c03db69"
   },
   "outputs": [
    {
     "name": "stdout",
     "output_type": "stream",
     "text": [
      "Int64Index([8, 20, 39, 40, 41, 54, 55, 66, 69, 79], dtype='int64')\n"
     ]
    }
   ],
   "source": [
    "#基本統計量を調べる\n",
    "tmp = test_distance.describe()\n",
    "\n",
    "#四分位範囲を用いた外れ値の判定\n",
    "iqr = tmp['75%'] - tmp['25%'] #IQR(第3四分位数と第1四分位数の差分)計算 \n",
    "jougen = 1.5 * (iqr) + tmp['75%'] #値が大きい側の外れ値の閾値\n",
    "kagen = tmp['25%'] - 1.5 * (iqr)  #値が小さい側の外れ値の閾値\n",
    "#print(iqr, jougen, kagen)\n",
    "\n",
    "#上限と下限の条件をもとに、シリーズで条件検索\n",
    "outliner = test_distance[ (test_distance > jougen) | (test_distance < kagen)]\n",
    "print(outliner.index)"
   ]
  },
  {
   "cell_type": "code",
   "execution_count": 44,
   "metadata": {
    "colab": {
     "base_uri": "https://localhost:8080/"
    },
    "id": "NfABGsiiWb0H",
    "outputId": "2a24f86e-5b87-4145-b6d2-e07554f6602c"
   },
   "outputs": [
    {
     "name": "stdout",
     "output_type": "stream",
     "text": [
      "     MPG  Cylinders  Displacement  Horsepower  Weight  Acceleration  \\\n",
      "0   14.0          8         351.0       153.0    4129          13.0   \n",
      "1   25.0          4         140.0        75.0    2542          17.0   \n",
      "2   13.0          8         302.0       140.0    4294          16.0   \n",
      "3   21.0          4         120.0        87.0    2979          19.5   \n",
      "4   18.0          6         232.0       100.0    3288          15.5   \n",
      "..   ...        ...           ...         ...     ...           ...   \n",
      "75  30.9          4         105.0        75.0    2230          14.5   \n",
      "76  26.0          4          97.0        75.0    2265          18.2   \n",
      "77  32.0          4          83.0        61.0    2003          19.0   \n",
      "78  24.5          4          98.0        60.0    2164          22.1   \n",
      "79  11.0          8         350.0       180.0    3664          11.0   \n",
      "\n",
      "    Model Year  2  3  \n",
      "0           72  0  0  \n",
      "1           74  0  0  \n",
      "2           72  0  0  \n",
      "3           72  1  0  \n",
      "4           71  0  0  \n",
      "..         ... .. ..  \n",
      "75          78  0  0  \n",
      "76          77  0  1  \n",
      "77          74  0  1  \n",
      "78          76  0  0  \n",
      "79          73  0  0  \n",
      "\n",
      "[80 rows x 9 columns]\n"
     ]
    }
   ],
   "source": [
    "#確認用\n",
    "print(test)"
   ]
  },
  {
   "cell_type": "markdown",
   "metadata": {},
   "source": [
    "### ▼データフレーム形式で表示"
   ]
  },
  {
   "cell_type": "code",
   "execution_count": 45,
   "metadata": {
    "colab": {
     "base_uri": "https://localhost:8080/",
     "height": 363
    },
    "id": "Qhs7ICOFWpV3",
    "outputId": "c3c322c0-a6d1-4990-8132-fd39e2533db6"
   },
   "outputs": [
    {
     "data": {
      "text/html": [
       "\n",
       "  <div id=\"df-c9c2026c-aabb-4142-b86e-2836c906970d\">\n",
       "    <div class=\"colab-df-container\">\n",
       "      <div>\n",
       "<style scoped>\n",
       "    .dataframe tbody tr th:only-of-type {\n",
       "        vertical-align: middle;\n",
       "    }\n",
       "\n",
       "    .dataframe tbody tr th {\n",
       "        vertical-align: top;\n",
       "    }\n",
       "\n",
       "    .dataframe thead th {\n",
       "        text-align: right;\n",
       "    }\n",
       "</style>\n",
       "<table border=\"1\" class=\"dataframe\">\n",
       "  <thead>\n",
       "    <tr style=\"text-align: right;\">\n",
       "      <th></th>\n",
       "      <th>MPG</th>\n",
       "      <th>Cylinders</th>\n",
       "      <th>Displacement</th>\n",
       "      <th>Horsepower</th>\n",
       "      <th>Weight</th>\n",
       "      <th>Acceleration</th>\n",
       "      <th>Model Year</th>\n",
       "      <th>2</th>\n",
       "      <th>3</th>\n",
       "    </tr>\n",
       "  </thead>\n",
       "  <tbody>\n",
       "    <tr>\n",
       "      <th>0</th>\n",
       "      <td>14.0</td>\n",
       "      <td>8</td>\n",
       "      <td>351.0</td>\n",
       "      <td>153.00000</td>\n",
       "      <td>4129</td>\n",
       "      <td>13.0</td>\n",
       "      <td>72</td>\n",
       "      <td>0</td>\n",
       "      <td>0</td>\n",
       "    </tr>\n",
       "    <tr>\n",
       "      <th>1</th>\n",
       "      <td>25.0</td>\n",
       "      <td>4</td>\n",
       "      <td>140.0</td>\n",
       "      <td>75.00000</td>\n",
       "      <td>2542</td>\n",
       "      <td>17.0</td>\n",
       "      <td>74</td>\n",
       "      <td>0</td>\n",
       "      <td>0</td>\n",
       "    </tr>\n",
       "    <tr>\n",
       "      <th>2</th>\n",
       "      <td>13.0</td>\n",
       "      <td>8</td>\n",
       "      <td>302.0</td>\n",
       "      <td>140.00000</td>\n",
       "      <td>4294</td>\n",
       "      <td>16.0</td>\n",
       "      <td>72</td>\n",
       "      <td>0</td>\n",
       "      <td>0</td>\n",
       "    </tr>\n",
       "    <tr>\n",
       "      <th>3</th>\n",
       "      <td>21.0</td>\n",
       "      <td>4</td>\n",
       "      <td>120.0</td>\n",
       "      <td>87.00000</td>\n",
       "      <td>2979</td>\n",
       "      <td>19.5</td>\n",
       "      <td>72</td>\n",
       "      <td>1</td>\n",
       "      <td>0</td>\n",
       "    </tr>\n",
       "    <tr>\n",
       "      <th>4</th>\n",
       "      <td>18.0</td>\n",
       "      <td>6</td>\n",
       "      <td>232.0</td>\n",
       "      <td>100.00000</td>\n",
       "      <td>3288</td>\n",
       "      <td>15.5</td>\n",
       "      <td>71</td>\n",
       "      <td>0</td>\n",
       "      <td>0</td>\n",
       "    </tr>\n",
       "    <tr>\n",
       "      <th>5</th>\n",
       "      <td>35.0</td>\n",
       "      <td>4</td>\n",
       "      <td>72.0</td>\n",
       "      <td>69.00000</td>\n",
       "      <td>1613</td>\n",
       "      <td>18.0</td>\n",
       "      <td>71</td>\n",
       "      <td>0</td>\n",
       "      <td>1</td>\n",
       "    </tr>\n",
       "    <tr>\n",
       "      <th>6</th>\n",
       "      <td>34.1</td>\n",
       "      <td>4</td>\n",
       "      <td>86.0</td>\n",
       "      <td>65.00000</td>\n",
       "      <td>1975</td>\n",
       "      <td>15.2</td>\n",
       "      <td>79</td>\n",
       "      <td>0</td>\n",
       "      <td>1</td>\n",
       "    </tr>\n",
       "    <tr>\n",
       "      <th>7</th>\n",
       "      <td>20.0</td>\n",
       "      <td>4</td>\n",
       "      <td>140.0</td>\n",
       "      <td>90.00000</td>\n",
       "      <td>2408</td>\n",
       "      <td>19.5</td>\n",
       "      <td>72</td>\n",
       "      <td>0</td>\n",
       "      <td>0</td>\n",
       "    </tr>\n",
       "    <tr>\n",
       "      <th>9</th>\n",
       "      <td>23.5</td>\n",
       "      <td>6</td>\n",
       "      <td>173.0</td>\n",
       "      <td>110.00000</td>\n",
       "      <td>2725</td>\n",
       "      <td>12.6</td>\n",
       "      <td>81</td>\n",
       "      <td>0</td>\n",
       "      <td>0</td>\n",
       "    </tr>\n",
       "    <tr>\n",
       "      <th>10</th>\n",
       "      <td>40.9</td>\n",
       "      <td>4</td>\n",
       "      <td>85.0</td>\n",
       "      <td>57.10319</td>\n",
       "      <td>1835</td>\n",
       "      <td>17.3</td>\n",
       "      <td>80</td>\n",
       "      <td>1</td>\n",
       "      <td>0</td>\n",
       "    </tr>\n",
       "  </tbody>\n",
       "</table>\n",
       "</div>\n",
       "      <button class=\"colab-df-convert\" onclick=\"convertToInteractive('df-c9c2026c-aabb-4142-b86e-2836c906970d')\"\n",
       "              title=\"Convert this dataframe to an interactive table.\"\n",
       "              style=\"display:none;\">\n",
       "        \n",
       "  <svg xmlns=\"http://www.w3.org/2000/svg\" height=\"24px\"viewBox=\"0 0 24 24\"\n",
       "       width=\"24px\">\n",
       "    <path d=\"M0 0h24v24H0V0z\" fill=\"none\"/>\n",
       "    <path d=\"M18.56 5.44l.94 2.06.94-2.06 2.06-.94-2.06-.94-.94-2.06-.94 2.06-2.06.94zm-11 1L8.5 8.5l.94-2.06 2.06-.94-2.06-.94L8.5 2.5l-.94 2.06-2.06.94zm10 10l.94 2.06.94-2.06 2.06-.94-2.06-.94-.94-2.06-.94 2.06-2.06.94z\"/><path d=\"M17.41 7.96l-1.37-1.37c-.4-.4-.92-.59-1.43-.59-.52 0-1.04.2-1.43.59L10.3 9.45l-7.72 7.72c-.78.78-.78 2.05 0 2.83L4 21.41c.39.39.9.59 1.41.59.51 0 1.02-.2 1.41-.59l7.78-7.78 2.81-2.81c.8-.78.8-2.07 0-2.86zM5.41 20L4 18.59l7.72-7.72 1.47 1.35L5.41 20z\"/>\n",
       "  </svg>\n",
       "      </button>\n",
       "      \n",
       "  <style>\n",
       "    .colab-df-container {\n",
       "      display:flex;\n",
       "      flex-wrap:wrap;\n",
       "      gap: 12px;\n",
       "    }\n",
       "\n",
       "    .colab-df-convert {\n",
       "      background-color: #E8F0FE;\n",
       "      border: none;\n",
       "      border-radius: 50%;\n",
       "      cursor: pointer;\n",
       "      display: none;\n",
       "      fill: #1967D2;\n",
       "      height: 32px;\n",
       "      padding: 0 0 0 0;\n",
       "      width: 32px;\n",
       "    }\n",
       "\n",
       "    .colab-df-convert:hover {\n",
       "      background-color: #E2EBFA;\n",
       "      box-shadow: 0px 1px 2px rgba(60, 64, 67, 0.3), 0px 1px 3px 1px rgba(60, 64, 67, 0.15);\n",
       "      fill: #174EA6;\n",
       "    }\n",
       "\n",
       "    [theme=dark] .colab-df-convert {\n",
       "      background-color: #3B4455;\n",
       "      fill: #D2E3FC;\n",
       "    }\n",
       "\n",
       "    [theme=dark] .colab-df-convert:hover {\n",
       "      background-color: #434B5C;\n",
       "      box-shadow: 0px 1px 3px 1px rgba(0, 0, 0, 0.15);\n",
       "      filter: drop-shadow(0px 1px 2px rgba(0, 0, 0, 0.3));\n",
       "      fill: #FFFFFF;\n",
       "    }\n",
       "  </style>\n",
       "\n",
       "      <script>\n",
       "        const buttonEl =\n",
       "          document.querySelector('#df-c9c2026c-aabb-4142-b86e-2836c906970d button.colab-df-convert');\n",
       "        buttonEl.style.display =\n",
       "          google.colab.kernel.accessAllowed ? 'block' : 'none';\n",
       "\n",
       "        async function convertToInteractive(key) {\n",
       "          const element = document.querySelector('#df-c9c2026c-aabb-4142-b86e-2836c906970d');\n",
       "          const dataTable =\n",
       "            await google.colab.kernel.invokeFunction('convertToInteractive',\n",
       "                                                     [key], {});\n",
       "          if (!dataTable) return;\n",
       "\n",
       "          const docLinkHtml = 'Like what you see? Visit the ' +\n",
       "            '<a target=\"_blank\" href=https://colab.research.google.com/notebooks/data_table.ipynb>data table notebook</a>'\n",
       "            + ' to learn more about interactive tables.';\n",
       "          element.innerHTML = '';\n",
       "          dataTable['output_type'] = 'display_data';\n",
       "          await google.colab.output.renderOutput(dataTable, element);\n",
       "          const docLink = document.createElement('div');\n",
       "          docLink.innerHTML = docLinkHtml;\n",
       "          element.appendChild(docLink);\n",
       "        }\n",
       "      </script>\n",
       "    </div>\n",
       "  </div>\n",
       "  "
      ],
      "text/plain": [
       "     MPG  Cylinders  Displacement  Horsepower  Weight  Acceleration  \\\n",
       "0   14.0          8         351.0   153.00000    4129          13.0   \n",
       "1   25.0          4         140.0    75.00000    2542          17.0   \n",
       "2   13.0          8         302.0   140.00000    4294          16.0   \n",
       "3   21.0          4         120.0    87.00000    2979          19.5   \n",
       "4   18.0          6         232.0   100.00000    3288          15.5   \n",
       "5   35.0          4          72.0    69.00000    1613          18.0   \n",
       "6   34.1          4          86.0    65.00000    1975          15.2   \n",
       "7   20.0          4         140.0    90.00000    2408          19.5   \n",
       "9   23.5          6         173.0   110.00000    2725          12.6   \n",
       "10  40.9          4          85.0    57.10319    1835          17.3   \n",
       "\n",
       "    Model Year  2  3  \n",
       "0           72  0  0  \n",
       "1           74  0  0  \n",
       "2           72  0  0  \n",
       "3           72  1  0  \n",
       "4           71  0  0  \n",
       "5           71  0  1  \n",
       "6           79  0  1  \n",
       "7           72  0  0  \n",
       "9           81  0  0  \n",
       "10          80  1  0  "
      ]
     },
     "execution_count": 45,
     "metadata": {},
     "output_type": "execute_result"
    }
   ],
   "source": [
    "test2 = test.drop(outliner.index)\n",
    "test2.head(10)"
   ]
  },
  {
   "cell_type": "markdown",
   "metadata": {},
   "source": [
    "### ▼メソッドを使用するときはどのような処理をするのかを記述"
   ]
  },
  {
   "cell_type": "markdown",
   "metadata": {
    "id": "ZpvZ-xYZUdtR"
   },
   "source": [
    "テスト用の欠損値・外れ値処理終了(test2を使え)"
   ]
  },
  {
   "cell_type": "code",
   "execution_count": 46,
   "metadata": {
    "colab": {
     "base_uri": "https://localhost:8080/"
    },
    "id": "KX_1wTC8rbbK",
    "outputId": "a459308d-c54a-4f69-f5b9-e165d4e8404f"
   },
   "outputs": [
    {
     "name": "stderr",
     "output_type": "stream",
     "text": [
      "/usr/local/lib/python3.7/dist-packages/sklearn/utils/validation.py:1692: FutureWarning: Feature names only support names that are all strings. Got feature names with dtypes: ['int', 'str']. An error will be raised in 1.2.\n",
      "  FutureWarning,\n",
      "/usr/local/lib/python3.7/dist-packages/sklearn/utils/validation.py:1692: FutureWarning: Feature names only support names that are all strings. Got feature names with dtypes: ['int', 'str']. An error will be raised in 1.2.\n",
      "  FutureWarning,\n"
     ]
    },
    {
     "data": {
      "text/plain": [
       "(70, 44)"
      ]
     },
     "execution_count": 46,
     "metadata": {},
     "output_type": "execute_result"
    }
   ],
   "source": [
    "#PolynomialFeaturesを使用して特徴量を出す\n",
    "h2_test_t = test2[['MPG']] #正解データ\n",
    "h2_test_x = test2.drop(['MPG'], axis=1) #特徴量(正解データ以外)\n",
    "\n",
    "#標準化\n",
    "h2_test_sc = StandardScaler()\n",
    "h2_test_sc_x = h2_test_sc.fit_transform(h2_test_x)\n",
    "h2_test_sc2 = StandardScaler()\n",
    "h2_test_sc_t = h2_test_sc2.fit_transform(h2_test_t)\n",
    "\n",
    "#累乗列と交互作用特徴量を一括追加\n",
    "test_pf = PolynomialFeatures(degree = 2, include_bias = False)\n",
    "test_pf_x = test_pf.fit_transform(h2_test_sc_x)  #2乗列と交互作用特徴量の追加\n",
    "test_pf_x.shape"
   ]
  },
  {
   "cell_type": "code",
   "execution_count": 47,
   "metadata": {
    "colab": {
     "base_uri": "https://localhost:8080/"
    },
    "id": "MLLe0oryssA2",
    "outputId": "2da9b9ff-bc4f-48dc-819b-090aa2d48604"
   },
   "outputs": [
    {
     "name": "stdout",
     "output_type": "stream",
     "text": [
      "ラッソ回帰 0.8563370417155265\n"
     ]
    }
   ],
   "source": [
    "#決定係数を求める\n",
    "print('ラッソ回帰', lasso_model_h2.score(test_pf_x, h2_test_sc_t))"
   ]
  },
  {
   "cell_type": "markdown",
   "metadata": {
    "id": "gK7qaUYGs05k"
   },
   "source": [
    "保存：モデルは auto_mgp.pkl, 選択モデルはラッソ回帰"
   ]
  },
  {
   "cell_type": "code",
   "execution_count": 48,
   "metadata": {
    "id": "mr0W3jUfsxFt"
   },
   "outputs": [],
   "source": [
    "import pickle\n",
    "\n",
    "with open('auto_mgp.pkl', 'wb') as f:\n",
    "  pickle.dump(lasso_model_h2, f)"
   ]
  }
 ],
 "metadata": {
  "colab": {
   "collapsed_sections": [],
   "name": "kouka_回帰_大宮校_佐藤夏.ipynb",
   "provenance": []
  },
  "kernelspec": {
   "display_name": "Python 3",
   "language": "python",
   "name": "python3"
  },
  "language_info": {
   "codemirror_mode": {
    "name": "ipython",
    "version": 3
   },
   "file_extension": ".py",
   "mimetype": "text/x-python",
   "name": "python",
   "nbconvert_exporter": "python",
   "pygments_lexer": "ipython3",
   "version": "3.8.5"
  }
 },
 "nbformat": 4,
 "nbformat_minor": 1
}
