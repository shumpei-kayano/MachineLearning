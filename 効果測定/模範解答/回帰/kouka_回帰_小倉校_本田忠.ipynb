{
 "cells": [
  {
   "cell_type": "markdown",
   "metadata": {
    "id": "KvMFvNyQsHH_"
   },
   "source": [
    "# 燃費を予測"
   ]
  },
  {
   "cell_type": "markdown",
   "metadata": {},
   "source": [
    "### ≪機械学習の流れ≫\n",
    "１.データ収集<br>\n",
    "２.ダミー変数化（カテゴリ特徴量列）<br>\n",
    "３.テストデータの分離<br>\n",
    "４.前処理<br>　\n",
    " ①欠損値処理<br>　\n",
    " ②外れ値の処理<br>　\n",
    " ③特徴量の絞り込み<br>　\n",
    " ④標準化<br>　\n",
    " ⑤多項式特徴量、交互作用特徴量の追加<br>　\n",
    " ⑥特徴量と正解データに分割<br>　\n",
    " ⑦教師データの分割<br>\n",
    "５.学習<br>　\n",
    " ①未学習状態のモデルの生成<br>　\n",
    " ②訓練データで学習<br>\n",
    "６.評価<br>　\n",
    " ①検証データで評価し指標確認<br>　　\n",
    "⇒OK:最終性能評価（テストデータで評価）<br>　　\n",
    "⇒NG:改善案検討、前処理に戻る<br>"
   ]
  },
  {
   "cell_type": "markdown",
   "metadata": {
    "id": "Mi5qPaSysqQk"
   },
   "source": [
    "準備：matplotlib日本語化のためのライブラリのインストール"
   ]
  },
  {
   "cell_type": "code",
   "execution_count": 49,
   "metadata": {
    "colab": {
     "base_uri": "https://localhost:8080/"
    },
    "id": "wWSmggEfAm-D",
    "outputId": "ea20c9ba-9584-47ab-bbbb-890bfdb58ad0"
   },
   "outputs": [
    {
     "name": "stdout",
     "output_type": "stream",
     "text": [
      "Requirement already satisfied: japanize-matplotlib in c:\\users\\t_honda\\anaconda3\\lib\\site-packages (1.1.3)\n",
      "Requirement already satisfied: matplotlib in c:\\users\\t_honda\\anaconda3\\lib\\site-packages (from japanize-matplotlib) (3.3.4)\n",
      "Requirement already satisfied: cycler>=0.10 in c:\\users\\t_honda\\anaconda3\\lib\\site-packages (from matplotlib->japanize-matplotlib) (0.10.0)\n",
      "Requirement already satisfied: pillow>=6.2.0 in c:\\users\\t_honda\\anaconda3\\lib\\site-packages (from matplotlib->japanize-matplotlib) (8.2.0)\n",
      "Requirement already satisfied: python-dateutil>=2.1 in c:\\users\\t_honda\\anaconda3\\lib\\site-packages (from matplotlib->japanize-matplotlib) (2.8.1)\n",
      "Requirement already satisfied: pyparsing!=2.0.4,!=2.1.2,!=2.1.6,>=2.0.3 in c:\\users\\t_honda\\anaconda3\\lib\\site-packages (from matplotlib->japanize-matplotlib) (2.4.7)\n",
      "Requirement already satisfied: kiwisolver>=1.0.1 in c:\\users\\t_honda\\anaconda3\\lib\\site-packages (from matplotlib->japanize-matplotlib) (1.3.1)\n",
      "Requirement already satisfied: numpy>=1.15 in c:\\users\\t_honda\\anaconda3\\lib\\site-packages (from matplotlib->japanize-matplotlib) (1.20.1)\n",
      "Requirement already satisfied: six in c:\\users\\t_honda\\anaconda3\\lib\\site-packages (from cycler>=0.10->matplotlib->japanize-matplotlib) (1.15.0)\n"
     ]
    }
   ],
   "source": [
    "!pip install japanize-matplotlib"
   ]
  },
  {
   "cell_type": "markdown",
   "metadata": {
    "id": "Cqnd24AFs3rc"
   },
   "source": [
    "準備：使用する各種ライブラリをインポートしてします。<br>\n",
    "また、グラフ表示が同一タブ上に表示されるようにします。"
   ]
  },
  {
   "cell_type": "code",
   "execution_count": 50,
   "metadata": {},
   "outputs": [],
   "source": [
    "import japanize_matplotlib\n",
    "\n",
    "# pandasをインポートし、別名 pd とする\n",
    "import pandas as pd\n",
    "\n",
    "# treeモジュールのインポート\n",
    "from sklearn import tree\n",
    "\n",
    "# グラフ描画を当タブに表示\n",
    "%matplotlib inline"
   ]
  },
  {
   "cell_type": "markdown",
   "metadata": {},
   "source": [
    "### ≪機械学習の流れ≫　１.データ収集"
   ]
  },
  {
   "cell_type": "markdown",
   "metadata": {},
   "source": [
    "事前に準備しているCSVファイルを読み込み、pandasを利用してデータフレームを作成します。<br>\n",
    "読み込み後にデータフレームの先頭5行を表示します。"
   ]
  },
  {
   "cell_type": "code",
   "execution_count": 51,
   "metadata": {},
   "outputs": [
    {
     "data": {
      "text/html": [
       "<div>\n",
       "<style scoped>\n",
       "    .dataframe tbody tr th:only-of-type {\n",
       "        vertical-align: middle;\n",
       "    }\n",
       "\n",
       "    .dataframe tbody tr th {\n",
       "        vertical-align: top;\n",
       "    }\n",
       "\n",
       "    .dataframe thead th {\n",
       "        text-align: right;\n",
       "    }\n",
       "</style>\n",
       "<table border=\"1\" class=\"dataframe\">\n",
       "  <thead>\n",
       "    <tr style=\"text-align: right;\">\n",
       "      <th></th>\n",
       "      <th>Unnamed: 0</th>\n",
       "      <th>MPG</th>\n",
       "      <th>Cylinders</th>\n",
       "      <th>Displacement</th>\n",
       "      <th>Horsepower</th>\n",
       "      <th>Weight</th>\n",
       "      <th>Acceleration</th>\n",
       "      <th>Model Year</th>\n",
       "      <th>Origin</th>\n",
       "    </tr>\n",
       "  </thead>\n",
       "  <tbody>\n",
       "    <tr>\n",
       "      <th>0</th>\n",
       "      <td>0</td>\n",
       "      <td>18.0</td>\n",
       "      <td>8</td>\n",
       "      <td>307.0</td>\n",
       "      <td>130.0</td>\n",
       "      <td>3504</td>\n",
       "      <td>12.0</td>\n",
       "      <td>70</td>\n",
       "      <td>1</td>\n",
       "    </tr>\n",
       "    <tr>\n",
       "      <th>1</th>\n",
       "      <td>1</td>\n",
       "      <td>15.0</td>\n",
       "      <td>8</td>\n",
       "      <td>350.0</td>\n",
       "      <td>165.0</td>\n",
       "      <td>3693</td>\n",
       "      <td>11.5</td>\n",
       "      <td>70</td>\n",
       "      <td>1</td>\n",
       "    </tr>\n",
       "    <tr>\n",
       "      <th>2</th>\n",
       "      <td>2</td>\n",
       "      <td>18.0</td>\n",
       "      <td>8</td>\n",
       "      <td>318.0</td>\n",
       "      <td>150.0</td>\n",
       "      <td>3436</td>\n",
       "      <td>11.0</td>\n",
       "      <td>70</td>\n",
       "      <td>1</td>\n",
       "    </tr>\n",
       "    <tr>\n",
       "      <th>3</th>\n",
       "      <td>3</td>\n",
       "      <td>16.0</td>\n",
       "      <td>8</td>\n",
       "      <td>304.0</td>\n",
       "      <td>150.0</td>\n",
       "      <td>3433</td>\n",
       "      <td>12.0</td>\n",
       "      <td>70</td>\n",
       "      <td>1</td>\n",
       "    </tr>\n",
       "    <tr>\n",
       "      <th>4</th>\n",
       "      <td>4</td>\n",
       "      <td>17.0</td>\n",
       "      <td>8</td>\n",
       "      <td>302.0</td>\n",
       "      <td>140.0</td>\n",
       "      <td>3449</td>\n",
       "      <td>10.5</td>\n",
       "      <td>70</td>\n",
       "      <td>1</td>\n",
       "    </tr>\n",
       "  </tbody>\n",
       "</table>\n",
       "</div>"
      ],
      "text/plain": [
       "   Unnamed: 0   MPG  Cylinders  Displacement  Horsepower  Weight  \\\n",
       "0           0  18.0          8         307.0       130.0    3504   \n",
       "1           1  15.0          8         350.0       165.0    3693   \n",
       "2           2  18.0          8         318.0       150.0    3436   \n",
       "3           3  16.0          8         304.0       150.0    3433   \n",
       "4           4  17.0          8         302.0       140.0    3449   \n",
       "\n",
       "   Acceleration  Model Year  Origin  \n",
       "0          12.0          70       1  \n",
       "1          11.5          70       1  \n",
       "2          11.0          70       1  \n",
       "3          12.0          70       1  \n",
       "4          10.5          70       1  "
      ]
     },
     "execution_count": 51,
     "metadata": {},
     "output_type": "execute_result"
    }
   ],
   "source": [
    "# house_rent.csv を読み込みデータフレームを生成\n",
    "df = pd.read_csv('auto_mgp.csv', encoding='cp932')\n",
    "\n",
    "# 先頭の５行を表示\n",
    "df.head(5)"
   ]
  },
  {
   "cell_type": "markdown",
   "metadata": {},
   "source": [
    "### ≪機械学習の流れ≫　２.ダミー変数化（カテゴリ特徴量列）"
   ]
  },
  {
   "cell_type": "markdown",
   "metadata": {},
   "source": [
    "scikit-learnでは、特徴量には数値の列しか追加できません。<br>\n",
    "そのため、文字列である列を特徴量に加えたいときには、文字列を数値に変換します。<br>"
   ]
  },
  {
   "cell_type": "markdown",
   "metadata": {},
   "source": [
    "※「今回はカテゴリ特徴量列（文字の列）が存在しない」ため実施しないと思いましたが。。。  \n",
    "進んでいくうちに、「Orign」が数値に意味がないのではないか！？と気付きましたので、ここまで戻り以下を追加しました。"
   ]
  },
  {
   "cell_type": "code",
   "execution_count": 52,
   "metadata": {},
   "outputs": [],
   "source": [
    "# 特徴量のみダミー変数化\n",
    "df2 = pd.get_dummies(df, drop_first=True, columns=['Origin'])"
   ]
  },
  {
   "cell_type": "markdown",
   "metadata": {},
   "source": [
    "### ≪機械学習の流れ≫　３.テストデータの分離"
   ]
  },
  {
   "cell_type": "markdown",
   "metadata": {},
   "source": [
    "訓練データ（訓練・検証）とテストデータに分割します。<br>\n",
    "<br>　\n",
    "訓練データ：学習に利用するデータ<br>　\n",
    "検証データ：学習には利用せず、チューニングの参考にするために利用するデータ<br>　\n",
    "テストデータ：最終的なモデルの予測性能を評価するためだけのデータ"
   ]
  },
  {
   "cell_type": "code",
   "execution_count": 53,
   "metadata": {},
   "outputs": [],
   "source": [
    "# データの分割で使用する関数をインポート\n",
    "from sklearn.model_selection import train_test_split\n",
    "\n",
    "# 訓練（訓練・検証）データとテストデータに分割します。　割合 8:2\n",
    "train_vol, test_vol = train_test_split(df2, test_size=0.2, random_state=0)"
   ]
  },
  {
   "cell_type": "markdown",
   "metadata": {},
   "source": [
    "### ≪機械学習の流れ≫　４.前処理　①欠損値処理"
   ]
  },
  {
   "cell_type": "markdown",
   "metadata": {},
   "source": [
    "欠損値（空欄のデータ）を確認します。<br>\n",
    "今回は３パータンで確認しています。"
   ]
  },
  {
   "cell_type": "code",
   "execution_count": 54,
   "metadata": {},
   "outputs": [
    {
     "data": {
      "text/html": [
       "<div>\n",
       "<style scoped>\n",
       "    .dataframe tbody tr th:only-of-type {\n",
       "        vertical-align: middle;\n",
       "    }\n",
       "\n",
       "    .dataframe tbody tr th {\n",
       "        vertical-align: top;\n",
       "    }\n",
       "\n",
       "    .dataframe thead th {\n",
       "        text-align: right;\n",
       "    }\n",
       "</style>\n",
       "<table border=\"1\" class=\"dataframe\">\n",
       "  <thead>\n",
       "    <tr style=\"text-align: right;\">\n",
       "      <th></th>\n",
       "      <th>Unnamed: 0</th>\n",
       "      <th>MPG</th>\n",
       "      <th>Cylinders</th>\n",
       "      <th>Displacement</th>\n",
       "      <th>Horsepower</th>\n",
       "      <th>Weight</th>\n",
       "      <th>Acceleration</th>\n",
       "      <th>Model Year</th>\n",
       "      <th>Origin_2</th>\n",
       "      <th>Origin_3</th>\n",
       "    </tr>\n",
       "  </thead>\n",
       "  <tbody>\n",
       "    <tr>\n",
       "      <th>64</th>\n",
       "      <td>False</td>\n",
       "      <td>False</td>\n",
       "      <td>False</td>\n",
       "      <td>False</td>\n",
       "      <td>False</td>\n",
       "      <td>False</td>\n",
       "      <td>False</td>\n",
       "      <td>False</td>\n",
       "      <td>False</td>\n",
       "      <td>False</td>\n",
       "    </tr>\n",
       "    <tr>\n",
       "      <th>55</th>\n",
       "      <td>False</td>\n",
       "      <td>False</td>\n",
       "      <td>False</td>\n",
       "      <td>False</td>\n",
       "      <td>False</td>\n",
       "      <td>False</td>\n",
       "      <td>False</td>\n",
       "      <td>False</td>\n",
       "      <td>False</td>\n",
       "      <td>False</td>\n",
       "    </tr>\n",
       "    <tr>\n",
       "      <th>317</th>\n",
       "      <td>False</td>\n",
       "      <td>False</td>\n",
       "      <td>False</td>\n",
       "      <td>False</td>\n",
       "      <td>False</td>\n",
       "      <td>False</td>\n",
       "      <td>False</td>\n",
       "      <td>False</td>\n",
       "      <td>False</td>\n",
       "      <td>False</td>\n",
       "    </tr>\n",
       "    <tr>\n",
       "      <th>102</th>\n",
       "      <td>False</td>\n",
       "      <td>False</td>\n",
       "      <td>False</td>\n",
       "      <td>False</td>\n",
       "      <td>False</td>\n",
       "      <td>False</td>\n",
       "      <td>False</td>\n",
       "      <td>False</td>\n",
       "      <td>False</td>\n",
       "      <td>False</td>\n",
       "    </tr>\n",
       "    <tr>\n",
       "      <th>358</th>\n",
       "      <td>False</td>\n",
       "      <td>False</td>\n",
       "      <td>False</td>\n",
       "      <td>False</td>\n",
       "      <td>False</td>\n",
       "      <td>False</td>\n",
       "      <td>False</td>\n",
       "      <td>False</td>\n",
       "      <td>False</td>\n",
       "      <td>False</td>\n",
       "    </tr>\n",
       "    <tr>\n",
       "      <th>...</th>\n",
       "      <td>...</td>\n",
       "      <td>...</td>\n",
       "      <td>...</td>\n",
       "      <td>...</td>\n",
       "      <td>...</td>\n",
       "      <td>...</td>\n",
       "      <td>...</td>\n",
       "      <td>...</td>\n",
       "      <td>...</td>\n",
       "      <td>...</td>\n",
       "    </tr>\n",
       "    <tr>\n",
       "      <th>323</th>\n",
       "      <td>False</td>\n",
       "      <td>False</td>\n",
       "      <td>False</td>\n",
       "      <td>False</td>\n",
       "      <td>False</td>\n",
       "      <td>False</td>\n",
       "      <td>False</td>\n",
       "      <td>False</td>\n",
       "      <td>False</td>\n",
       "      <td>False</td>\n",
       "    </tr>\n",
       "    <tr>\n",
       "      <th>192</th>\n",
       "      <td>False</td>\n",
       "      <td>False</td>\n",
       "      <td>False</td>\n",
       "      <td>False</td>\n",
       "      <td>False</td>\n",
       "      <td>False</td>\n",
       "      <td>False</td>\n",
       "      <td>False</td>\n",
       "      <td>False</td>\n",
       "      <td>False</td>\n",
       "    </tr>\n",
       "    <tr>\n",
       "      <th>117</th>\n",
       "      <td>False</td>\n",
       "      <td>False</td>\n",
       "      <td>False</td>\n",
       "      <td>False</td>\n",
       "      <td>False</td>\n",
       "      <td>False</td>\n",
       "      <td>False</td>\n",
       "      <td>False</td>\n",
       "      <td>False</td>\n",
       "      <td>False</td>\n",
       "    </tr>\n",
       "    <tr>\n",
       "      <th>47</th>\n",
       "      <td>False</td>\n",
       "      <td>False</td>\n",
       "      <td>False</td>\n",
       "      <td>False</td>\n",
       "      <td>False</td>\n",
       "      <td>False</td>\n",
       "      <td>False</td>\n",
       "      <td>False</td>\n",
       "      <td>False</td>\n",
       "      <td>False</td>\n",
       "    </tr>\n",
       "    <tr>\n",
       "      <th>172</th>\n",
       "      <td>False</td>\n",
       "      <td>False</td>\n",
       "      <td>False</td>\n",
       "      <td>False</td>\n",
       "      <td>False</td>\n",
       "      <td>False</td>\n",
       "      <td>False</td>\n",
       "      <td>False</td>\n",
       "      <td>False</td>\n",
       "      <td>False</td>\n",
       "    </tr>\n",
       "  </tbody>\n",
       "</table>\n",
       "<p>318 rows × 10 columns</p>\n",
       "</div>"
      ],
      "text/plain": [
       "     Unnamed: 0    MPG  Cylinders  Displacement  Horsepower  Weight  \\\n",
       "64        False  False      False         False       False   False   \n",
       "55        False  False      False         False       False   False   \n",
       "317       False  False      False         False       False   False   \n",
       "102       False  False      False         False       False   False   \n",
       "358       False  False      False         False       False   False   \n",
       "..          ...    ...        ...           ...         ...     ...   \n",
       "323       False  False      False         False       False   False   \n",
       "192       False  False      False         False       False   False   \n",
       "117       False  False      False         False       False   False   \n",
       "47        False  False      False         False       False   False   \n",
       "172       False  False      False         False       False   False   \n",
       "\n",
       "     Acceleration  Model Year  Origin_2  Origin_3  \n",
       "64          False       False     False     False  \n",
       "55          False       False     False     False  \n",
       "317         False       False     False     False  \n",
       "102         False       False     False     False  \n",
       "358         False       False     False     False  \n",
       "..            ...         ...       ...       ...  \n",
       "323         False       False     False     False  \n",
       "192         False       False     False     False  \n",
       "117         False       False     False     False  \n",
       "47          False       False     False     False  \n",
       "172         False       False     False     False  \n",
       "\n",
       "[318 rows x 10 columns]"
      ]
     },
     "execution_count": 54,
     "metadata": {},
     "output_type": "execute_result"
    }
   ],
   "source": [
    "# データフレーム全体で欠損値が存在するか確認\n",
    "train_vol.isnull()"
   ]
  },
  {
   "cell_type": "code",
   "execution_count": 55,
   "metadata": {},
   "outputs": [
    {
     "data": {
      "text/plain": [
       "Unnamed: 0      False\n",
       "MPG             False\n",
       "Cylinders       False\n",
       "Displacement    False\n",
       "Horsepower       True\n",
       "Weight          False\n",
       "Acceleration    False\n",
       "Model Year      False\n",
       "Origin_2        False\n",
       "Origin_3        False\n",
       "dtype: bool"
      ]
     },
     "execution_count": 55,
     "metadata": {},
     "output_type": "execute_result"
    }
   ],
   "source": [
    "# 列単位で欠損値が存在するか確認\n",
    "train_vol.isnull().any(axis=0)"
   ]
  },
  {
   "cell_type": "code",
   "execution_count": 56,
   "metadata": {},
   "outputs": [
    {
     "data": {
      "text/plain": [
       "Unnamed: 0      0\n",
       "MPG             0\n",
       "Cylinders       0\n",
       "Displacement    0\n",
       "Horsepower      5\n",
       "Weight          0\n",
       "Acceleration    0\n",
       "Model Year      0\n",
       "Origin_2        0\n",
       "Origin_3        0\n",
       "dtype: int64"
      ]
     },
     "execution_count": 56,
     "metadata": {},
     "output_type": "execute_result"
    }
   ],
   "source": [
    "# train_vol(訓練データ)の欠損値を確認\n",
    "train_vol.isnull().sum()"
   ]
  },
  {
   "cell_type": "code",
   "execution_count": 57,
   "metadata": {},
   "outputs": [
    {
     "data": {
      "text/plain": [
       "Unnamed: 0      0\n",
       "MPG             0\n",
       "Cylinders       0\n",
       "Displacement    0\n",
       "Horsepower      5\n",
       "Weight          0\n",
       "Acceleration    0\n",
       "Model Year      0\n",
       "Origin_2        0\n",
       "Origin_3        0\n",
       "dtype: int64"
      ]
     },
     "execution_count": 57,
     "metadata": {},
     "output_type": "execute_result"
    }
   ],
   "source": [
    "# 列単位で欠損値の数を確認\n",
    "train_vol.isnull().sum()"
   ]
  },
  {
   "cell_type": "markdown",
   "metadata": {},
   "source": [
    "Horsepower（馬力）に\"５つ\"の欠損値があることが分かりました。<br>\n",
    "穴埋めは「数値の場合は平均値や中央値」、「文字列の場合は最頻値」を入れます。<br>"
   ]
  },
  {
   "cell_type": "markdown",
   "metadata": {},
   "source": [
    "今回は、数値のため平均値での穴埋めを行います。<br>"
   ]
  },
  {
   "cell_type": "code",
   "execution_count": 58,
   "metadata": {},
   "outputs": [
    {
     "data": {
      "text/plain": [
       "Unnamed: 0      0\n",
       "MPG             0\n",
       "Cylinders       0\n",
       "Displacement    0\n",
       "Horsepower      0\n",
       "Weight          0\n",
       "Acceleration    0\n",
       "Model Year      0\n",
       "Origin_2        0\n",
       "Origin_3        0\n",
       "dtype: int64"
      ]
     },
     "execution_count": 58,
     "metadata": {},
     "output_type": "execute_result"
    }
   ],
   "source": [
    "# 欠損値を平均値で穴埋め\n",
    "train_vol2 = train_vol.fillna(train_vol.mean())\n",
    "\n",
    "# 穴埋め後に列単位で欠損値の数を確認\n",
    "train_vol2.isnull().sum()"
   ]
  },
  {
   "cell_type": "markdown",
   "metadata": {},
   "source": [
    "欠損値を補完できたことを確認できました。"
   ]
  },
  {
   "cell_type": "markdown",
   "metadata": {},
   "source": [
    "### ≪機械学習の流れ≫　４.前処理 ②外れ値の処理　"
   ]
  },
  {
   "cell_type": "markdown",
   "metadata": {},
   "source": [
    "教師あり学習のモデルは、教師データの全体の傾向をもとに、法則を導き出します。<br>\n",
    "”全体の傾向からかけ離れたデータ（外れ値）”を含んだデータで機械学習を行うと、予測性能が上がりにくくなってしまいます。<br>\n",
    "１つの外れ値がモデルに大きな影響を与えるため、学習前に取り除きます。<br>"
   ]
  },
  {
   "cell_type": "markdown",
   "metadata": {},
   "source": [
    "plotメソッドを使って、各特徴量の列とMPG列との相関関係を示す散布図を描きます。"
   ]
  },
  {
   "cell_type": "code",
   "execution_count": 59,
   "metadata": {},
   "outputs": [
    {
     "data": {
      "image/png": "[encoded data removed]",
      "text/plain": [
       "<Figure size 432x288 with 1 Axes>"
      ]
     },
     "metadata": {
      "needs_background": "light"
     },
     "output_type": "display_data"
    },
    {
     "data": {
      "image/png": "[encoded data removed]",
      "text/plain": [
       "<Figure size 432x288 with 1 Axes>"
      ]
     },
     "metadata": {
      "needs_background": "light"
     },
     "output_type": "display_data"
    },
    {
     "data": {
      "image/png": "[encoded data removed]",
      "text/plain": [
       "<Figure size 432x288 with 1 Axes>"
      ]
     },
     "metadata": {
      "needs_background": "light"
     },
     "output_type": "display_data"
    },
    {
     "data": {
      "image/png": "[encoded data removed]",
      "text/plain": [
       "<Figure size 432x288 with 1 Axes>"
      ]
     },
     "metadata": {
      "needs_background": "light"
     },
     "output_type": "display_data"
    },
    {
     "data": {
      "image/png": "[encoded data removed]",
      "text/plain": [
       "<Figure size 432x288 with 1 Axes>"
      ]
     },
     "metadata": {
      "needs_background": "light"
     },
     "output_type": "display_data"
    },
    {
     "data": {
      "image/png": "[encoded data removed]",
      "text/plain": [
       "<Figure size 432x288 with 1 Axes>"
      ]
     },
     "metadata": {
      "needs_background": "light"
     },
     "output_type": "display_data"
    },
    {
     "data": {
      "image/png": "[encoded data removed]",
      "text/plain": [
       "<Figure size 432x288 with 1 Axes>"
      ]
     },
     "metadata": {
      "needs_background": "light"
     },
     "output_type": "display_data"
    },
    {
     "data": {
      "image/png": "[encoded data removed]",
      "text/plain": [
       "<Figure size 432x288 with 1 Axes>"
      ]
     },
     "metadata": {
      "needs_background": "light"
     },
     "output_type": "display_data"
    },
    {
     "data": {
      "image/png": "[encoded data removed]",
      "text/plain": [
       "<Figure size 432x288 with 1 Axes>"
      ]
     },
     "metadata": {
      "needs_background": "light"
     },
     "output_type": "display_data"
    },
    {
     "data": {
      "image/png": "[encoded data removed]",
      "text/plain": [
       "<Figure size 432x288 with 1 Axes>"
      ]
     },
     "metadata": {
      "needs_background": "light"
     },
     "output_type": "display_data"
    }
   ],
   "source": [
    "# 「MPG(燃費)」と「その他の項目」の相関関係を確認\n",
    "colname = train_vol2.columns\n",
    "for name in colname:\n",
    "     train_vol2.plot(kind = 'scatter', x = name, y = 'MPG')"
   ]
  },
  {
   "cell_type": "markdown",
   "metadata": {},
   "source": [
    "各列とMPGの散布図で外れ値のデータを探すと、MPG列とDisplacement列に分布傾向から外れた値があります。<br>\n",
    "【外れ値の大まかな値】<br>\n",
    "　MPG：40<br>\n",
    "　Displacement：250"
   ]
  },
  {
   "cell_type": "markdown",
   "metadata": {},
   "source": [
    "外れ値のインデックスを確認します。"
   ]
  },
  {
   "cell_type": "code",
   "execution_count": 60,
   "metadata": {},
   "outputs": [
    {
     "data": {
      "text/plain": [
       "Int64Index([387], dtype='int64')"
      ]
     },
     "execution_count": 60,
     "metadata": {},
     "output_type": "execute_result"
    }
   ],
   "source": [
    "# 「MPG」と「Displacement」の外れ値のインデックスを確認  \n",
    "train_vol2[(train_vol2['MPG'] > 30) & (train_vol2['Displacement'] > 200)].index"
   ]
  },
  {
   "cell_type": "markdown",
   "metadata": {},
   "source": [
    "インデックス値は387でした。<br>\n",
    "dropメソッドを使って外れ値を削除します。"
   ]
  },
  {
   "cell_type": "code",
   "execution_count": 61,
   "metadata": {},
   "outputs": [],
   "source": [
    "# 外れ値を削除\n",
    "train_vol3 = train_vol2.drop([387], axis = 0)"
   ]
  },
  {
   "cell_type": "markdown",
   "metadata": {},
   "source": [
    "外れ値を削除できたか、「外れ値の削除前」と「外れ値の削除後」の行数を表示 して確認します。"
   ]
  },
  {
   "cell_type": "code",
   "execution_count": 62,
   "metadata": {},
   "outputs": [
    {
     "name": "stdout",
     "output_type": "stream",
     "text": [
      "処理前： 318 　処理後： 317\n"
     ]
    }
   ],
   "source": [
    "# 「外れ値の削除前」と「外れ値の削除後」の行数を表示 \n",
    "vol2 = train_vol2.shape[0]  # 外れ値削除「前」の行数を取得  \n",
    "vol3 = train_vol3.shape[0]  # 外れ値削除「後」の行数を取得\n",
    "print(\"処理前：\",vol2,\"　処理後：\",vol3) "
   ]
  },
  {
   "cell_type": "markdown",
   "metadata": {},
   "source": [
    "１行削除済みを確認できました。"
   ]
  },
  {
   "cell_type": "markdown",
   "metadata": {},
   "source": [
    "### ≪機械学習の流れ≫　４.前処理　 ③特徴量の絞り込み<br>　"
   ]
  },
  {
   "cell_type": "markdown",
   "metadata": {},
   "source": [
    "２つの項目の相関関係の強さは図る指標の１つとして、相関係数があります。<br>\n",
    "今回のデータは、項目数が少ないですが、正解データ（MPG）との相関係数を確認します。"
   ]
  },
  {
   "cell_type": "code",
   "execution_count": 63,
   "metadata": {},
   "outputs": [
    {
     "data": {
      "text/plain": [
       "MPG             1.000000\n",
       "Weight          0.823764\n",
       "Displacement    0.798952\n",
       "Horsepower      0.786905\n",
       "Cylinders       0.766144\n",
       "Unnamed: 0      0.579292\n",
       "Model Year      0.573256\n",
       "Acceleration    0.462807\n",
       "Origin_3        0.455004\n",
       "Origin_2        0.249051\n",
       "Name: MPG, dtype: float64"
      ]
     },
     "execution_count": 63,
     "metadata": {},
     "output_type": "execute_result"
    }
   ],
   "source": [
    "# MPG列との相関係数を絶対値で確認\n",
    "abs_cor = train_vol2.corr()['MPG'].map(abs)\n",
    "# 相関係数を降順に並び替える\n",
    "abs_cor.sort_values(ascending = False)"
   ]
  },
  {
   "cell_type": "markdown",
   "metadata": {},
   "source": [
    "全ての列の相関係数が0.4を超えているため、何らかの関係性があると判断しました。<br>\n",
    "Cylinders列からOrigin列を特徴量とします。"
   ]
  },
  {
   "cell_type": "markdown",
   "metadata": {},
   "source": [
    "### ≪機械学習の流れ≫　４.前処理　⑥特徴量と正解データに分割<br>"
   ]
  },
  {
   "cell_type": "markdown",
   "metadata": {},
   "source": [
    "「④標準化～⑤多項式特徴量、交互作用特徴量の追加」は「６．評価」後に検証します。<br>\n",
    "１回目の検証を行うために、特徴量と正解データを分割します。"
   ]
  },
  {
   "cell_type": "code",
   "execution_count": 64,
   "metadata": {},
   "outputs": [],
   "source": [
    "# 特徴を取り出す\n",
    "x = train_vol2.loc[ : , 'Cylinders':'Origin_3']\n",
    "\n",
    "# 正解データを取り出す\n",
    "t = train_vol2['MPG']"
   ]
  },
  {
   "cell_type": "markdown",
   "metadata": {},
   "source": [
    "### ４.前処理 ⑦教師データの分割"
   ]
  },
  {
   "cell_type": "markdown",
   "metadata": {},
   "source": [
    "訓練（訓練・検証）データを分割し、訓練データと検証データに分割します。<br>\n",
    "訓練データで学習し、検証データで評価します。"
   ]
  },
  {
   "cell_type": "code",
   "execution_count": 65,
   "metadata": {},
   "outputs": [],
   "source": [
    "# 訓練データと検証データに分割　8:2\n",
    "x_train, x_test, y_train, y_test = train_test_split(x, t, test_size=0.2, random_state=0)"
   ]
  },
  {
   "cell_type": "markdown",
   "metadata": {},
   "source": [
    "### ≪機械学習の流れ≫　５.学習　①未学習状態のモデルの生成"
   ]
  },
  {
   "cell_type": "markdown",
   "metadata": {},
   "source": [
    "特徴量が２つ以上あるため、「重回帰分析」を使用します。<br>\n",
    "最小２乗法をアレンジしたラッソ回帰やリッジ回帰がありますが、今回はシンプルな最小２乗法のみを用いた重回帰モデルを使用します。"
   ]
  },
  {
   "cell_type": "code",
   "execution_count": 66,
   "metadata": {},
   "outputs": [],
   "source": [
    "# LinearRegression関数をインポート\n",
    "from sklearn.linear_model import LinearRegression\n",
    "\n",
    "# 未学習モデルを生成\n",
    "model = LinearRegression()"
   ]
  },
  {
   "cell_type": "markdown",
   "metadata": {},
   "source": [
    "### ≪機械学習の流れ≫　５.学習　②訓練データで学習"
   ]
  },
  {
   "cell_type": "markdown",
   "metadata": {},
   "source": [
    "訓練データで学習を行い、検証データで決定係数を計算します。"
   ]
  },
  {
   "cell_type": "code",
   "execution_count": 67,
   "metadata": {},
   "outputs": [
    {
     "data": {
      "text/plain": [
       "LinearRegression()"
      ]
     },
     "execution_count": 67,
     "metadata": {},
     "output_type": "execute_result"
    }
   ],
   "source": [
    "# 訓練データで学習\n",
    "model.fit(x_train, y_train)"
   ]
  },
  {
   "cell_type": "markdown",
   "metadata": {},
   "source": [
    "### ≪機械学習の流れ≫　６.評価　①検証データで評価し指標確認<br>　"
   ]
  },
  {
   "cell_type": "markdown",
   "metadata": {},
   "source": [
    "学習したモデルを使用し、検証データで評価します。"
   ]
  },
  {
   "cell_type": "code",
   "execution_count": 68,
   "metadata": {},
   "outputs": [
    {
     "name": "stdout",
     "output_type": "stream",
     "text": [
      "訓練データ：0.8219880516063901     検証データ：0.8086313420316488\n"
     ]
    }
   ],
   "source": [
    "# 訓練データと検証データの決定係数\n",
    "s1 = model.score(x_train, y_train)\n",
    "s2 = model.score(x_test, y_test)\n",
    "\n",
    "print(\"訓練データ：{}     検証データ：{}\".format(s1, s2))"
   ]
  },
  {
   "cell_type": "markdown",
   "metadata": {},
   "source": [
    "訓練データ、検証データともに80%を超えており、過学習も起きておりません。<br>\n",
    "\n",
    "目標をテストデータで決定係数85%に設定し、「4.前処理」に戻りチューニングを行います。"
   ]
  },
  {
   "cell_type": "markdown",
   "metadata": {},
   "source": [
    "### ≪機械学習の流れ≫　４.前処理 ①欠損値処理"
   ]
  },
  {
   "cell_type": "markdown",
   "metadata": {},
   "source": [
    "欠損値の処理を「平均値」から「中央値」に変更し評価します。"
   ]
  },
  {
   "cell_type": "code",
   "execution_count": 69,
   "metadata": {},
   "outputs": [],
   "source": [
    "#「中央値」で欠損値処理\n",
    "# train_vol2 = train_vol.fillna(train_vol.median())\n",
    "\n",
    "# 外れ値の削除\n",
    "# train_vol3 = train_vol2.drop([387], axis = 0)\n",
    "\n",
    "# 特徴を取り出す\n",
    "# x = train_vol2.loc[ : , 'Cylinders':'Origin']\n",
    "\n",
    "# 正解データを取り出す\n",
    "# t = train_vol2['MPG']\n",
    "\n",
    "# 訓練データと検証データに分割　8:2\n",
    "# x_train, x_test, y_train, y_test = train_test_split(x, t, test_size=0.2, random_state=0)\n",
    "\n",
    "# 未学習モデルを生成\n",
    "# model = LinearRegression()\n",
    "\n",
    "# 訓練データで学習\n",
    "# model.fit(x_train, y_train)\n",
    "\n",
    "# 訓練データと検証データの決定係数\n",
    "# s1 = model.score(x_train, y_train)\n",
    "# s2 = model.score(x_test, y_test)\n",
    "\n",
    "# print(\"訓練データ：{}     検証データ：{}\".format(s1, s2))"
   ]
  },
  {
   "cell_type": "markdown",
   "metadata": {},
   "source": [
    "学習結果は、以下の通りです。\n",
    "訓練データ：0.819185714353794     検証データ：0.8062014692113475\n",
    "\n",
    "平均値と比較し、約0.01％下がりました。\n",
    "\n",
    "平均値で進めていくため、上記コードはコメント化しておきます。"
   ]
  },
  {
   "cell_type": "markdown",
   "metadata": {},
   "source": [
    "### ≪機械学習の流れ≫　４.前処理　 ⑤多項式特徴量、交互作用特徴量の追加"
   ]
  },
  {
   "cell_type": "markdown",
   "metadata": {},
   "source": [
    "新しい列を作成して、特徴量に加える”特徴量エンジニアリング”を行います。<br>\n",
    "\n",
    "元のデータ列に対して２乗した値や３乗した値の列を加える「多項式特徴量」と<br>\n",
    "特徴量同士を組み合わせて新しい特徴量を加える「相互作用特徴量」を使用します。"
   ]
  },
  {
   "cell_type": "markdown",
   "metadata": {},
   "source": [
    "「多項式特徴量」を加えるために、正解データと各列の相関関係を表示し、相関係数が高い項目を確認します。"
   ]
  },
  {
   "cell_type": "code",
   "execution_count": 70,
   "metadata": {},
   "outputs": [
    {
     "data": {
      "text/plain": [
       "MPG             1.000000\n",
       "Weight          0.823764\n",
       "Displacement    0.798952\n",
       "Horsepower      0.786905\n",
       "Cylinders       0.766144\n",
       "Unnamed: 0      0.579292\n",
       "Model Year      0.573256\n",
       "Acceleration    0.462807\n",
       "Origin_3        0.455004\n",
       "Origin_2        0.249051\n",
       "Name: MPG, dtype: float64"
      ]
     },
     "execution_count": 70,
     "metadata": {},
     "output_type": "execute_result"
    }
   ],
   "source": [
    "# MPG列との相関係数を絶対値で確認\n",
    "abs_cor = train_vol2.corr()['MPG'].map(abs)\n",
    "\n",
    "# 相関係数を降順で整列\n",
    "abs_cor.sort_values(ascending = False)"
   ]
  },
  {
   "cell_type": "markdown",
   "metadata": {},
   "source": [
    "MPG列と最も相関関係が高い列は「Weight」と判明しました。<br>\n",
    "「Weight」や「Displacement」、「Horsepower」を2乗したデータを加えて学習します。"
   ]
  },
  {
   "cell_type": "markdown",
   "metadata": {},
   "source": [
    "今後は学習繰り返すため、訓練データと検証データを決定係数を計算する関数を作成します。"
   ]
  },
  {
   "cell_type": "code",
   "execution_count": 71,
   "metadata": {},
   "outputs": [],
   "source": [
    "# learn関数の定義\n",
    "def learn(x,t):\n",
    "  # 訓練データと検証データに分割　8:2\n",
    "  x_train, x_test, y_train, y_test = train_test_split(x, t, test_size=0.2, random_state=0)\n",
    "\n",
    "  model = LinearRegression()\n",
    "  # 訓練データで学習 \n",
    "  model.fit(x_train, y_train)\n",
    "  # 訓練データの決定係数\n",
    "  train_score = model.score(x_train, y_train)\n",
    "  # 検証データの決定係数\n",
    "  test_score = model.score(x_test, y_test)\n",
    "\n",
    "  return train_score, test_score"
   ]
  },
  {
   "cell_type": "code",
   "execution_count": 72,
   "metadata": {},
   "outputs": [
    {
     "name": "stdout",
     "output_type": "stream",
     "text": [
      "「チューニング前」との比較\n",
      "0.8572080201977221  -  0.8219880516063901  =  訓練データとの差 0.03521996859133203\n",
      "0.8417409858637049  -  0.8086313420316488  =  検証データとの差 0.03310964383205617\n"
     ]
    }
   ],
   "source": [
    "# チューニング（特徴量エンジニアリング）\n",
    "\n",
    "# 特徴量と正解データを取り出し\n",
    "x = train_vol2.loc[ : , 'Cylinders':'Origin_3']\n",
    "t = train_vol2['MPG']\n",
    "\n",
    "# チューニング（多項式）\n",
    "x['Weight**2'] = x['Weight'] ** 2\n",
    "\n",
    "# learn関数を呼び出し（訓練・検証に分割、学習、決定係数）\n",
    "m2, m3 = learn(x, t)\n",
    "\n",
    "# チューニング前　と　訓練・検証データの差を表示\n",
    "print(\"「チューニング前」との比較\",)\n",
    "print(m2, \" - \", s1, \" = \", \"訓練データとの差\", m2 - s1)\n",
    "print(m3, \" - \", s2, \" = \", \"検証データとの差\", m3 - s2)\n"
   ]
  },
  {
   "cell_type": "code",
   "execution_count": 73,
   "metadata": {},
   "outputs": [
    {
     "name": "stdout",
     "output_type": "stream",
     "text": [
      "「チューニング前」との比較\n",
      "0.8625184272112565  -  0.8219880516063901  =  訓練データとの差 0.04053037560486639\n",
      "0.8298133459421021  -  0.8086313420316488  =  検証データとの差 0.02118200391045333\n"
     ]
    }
   ],
   "source": [
    "# チューニング（特徴量エンジニアリング）\n",
    "\n",
    "# 特徴量と正解データを取り出し\n",
    "x = train_vol2.loc[ : , 'Cylinders':'Origin_3']\n",
    "t = train_vol2['MPG']\n",
    "\n",
    "# チューニング（多項式）\n",
    "x['Weight**2'] = x['Weight'] ** 2\n",
    "x['Displacement**2'] = x['Displacement'] ** 2\n",
    "\n",
    "# learn関数を呼び出し（訓練・検証に分割、学習、決定係数）\n",
    "m2, m3 = learn(x, t)\n",
    "\n",
    "# チューニング前　と　訓練・検証データの差を表示\n",
    "print(\"「チューニング前」との比較\",)\n",
    "print(m2, \" - \", s1, \" = \", \"訓練データとの差\", m2 - s1)\n",
    "print(m3, \" - \", s2, \" = \", \"検証データとの差\", m3 - s2)\n"
   ]
  },
  {
   "cell_type": "code",
   "execution_count": 74,
   "metadata": {},
   "outputs": [
    {
     "name": "stdout",
     "output_type": "stream",
     "text": [
      "「チューニング前」との比較\n",
      "0.8679486880737729  -  0.8219880516063901  =  訓練データとの差 0.0459606364673828\n",
      "0.8364110146858791  -  0.8086313420316488  =  検証データとの差 0.027779672654230314\n"
     ]
    }
   ],
   "source": [
    "# チューニング（特徴量エンジニアリング）\n",
    "\n",
    "# 特徴量と正解データを取り出し\n",
    "x = train_vol2.loc[ : , 'Cylinders':'Origin_3']\n",
    "t = train_vol2['MPG']\n",
    "\n",
    "# チューニング（多項式）\n",
    "x['Weight**2'] = x['Weight'] ** 2\n",
    "x['Displacement**2'] = x['Displacement'] ** 2\n",
    "x['Horsepower**2'] = x['Horsepower'] ** 2\n",
    "\n",
    "# learn関数を呼び出し（訓練・検証に分割、学習、決定係数）\n",
    "m2, m3 = learn(x, t)\n",
    "\n",
    "# チューニング前　と　訓練・検証データの差を表示\n",
    "print(\"「チューニング前」との比較\",)\n",
    "print(m2, \" - \", s1, \" = \", \"訓練データとの差\", m2 - s1)\n",
    "print(m3, \" - \", s2, \" = \", \"検証データとの差\", m3 - s2)"
   ]
  },
  {
   "cell_type": "markdown",
   "metadata": {},
   "source": [
    "続いて、「相互作用特徴量」を加えるために、各列の相関係数を確認し、相関関係が高い項目を見つけます。"
   ]
  },
  {
   "cell_type": "code",
   "execution_count": 75,
   "metadata": {},
   "outputs": [
    {
     "data": {
      "text/plain": [
       "Cylinders       1.000000\n",
       "Displacement    0.950317\n",
       "Weight          0.892376\n",
       "Horsepower      0.834949\n",
       "MPG             0.766144\n",
       "Acceleration    0.504479\n",
       "Origin_3        0.400244\n",
       "Origin_2        0.350229\n",
       "Unnamed: 0      0.346003\n",
       "Model Year      0.330734\n",
       "Name: Cylinders, dtype: float64"
      ]
     },
     "execution_count": 75,
     "metadata": {},
     "output_type": "execute_result"
    }
   ],
   "source": [
    "abs_cor = train_vol2.corr()['Cylinders'].map(abs)\n",
    "abs_cor.sort_values(ascending = False)"
   ]
  },
  {
   "cell_type": "code",
   "execution_count": 76,
   "metadata": {},
   "outputs": [
    {
     "data": {
      "text/plain": [
       "Displacement    1.000000\n",
       "Cylinders       0.950317\n",
       "Weight          0.933113\n",
       "Horsepower      0.892149\n",
       "MPG             0.798952\n",
       "Acceleration    0.540952\n",
       "Origin_3        0.442655\n",
       "Origin_2        0.371439\n",
       "Unnamed: 0      0.366072\n",
       "Model Year      0.348404\n",
       "Name: Displacement, dtype: float64"
      ]
     },
     "execution_count": 76,
     "metadata": {},
     "output_type": "execute_result"
    }
   ],
   "source": [
    "abs_cor = train_vol2.corr()['Displacement'].map(abs)\n",
    "abs_cor.sort_values(ascending = False)"
   ]
  },
  {
   "cell_type": "code",
   "execution_count": 77,
   "metadata": {},
   "outputs": [
    {
     "data": {
      "text/plain": [
       "Horsepower      1.000000\n",
       "Displacement    0.892149\n",
       "Weight          0.862924\n",
       "Cylinders       0.834949\n",
       "MPG             0.786905\n",
       "Acceleration    0.682716\n",
       "Unnamed: 0      0.415323\n",
       "Model Year      0.408135\n",
       "Origin_3        0.333423\n",
       "Origin_2        0.288774\n",
       "Name: Horsepower, dtype: float64"
      ]
     },
     "execution_count": 77,
     "metadata": {},
     "output_type": "execute_result"
    }
   ],
   "source": [
    "abs_cor = train_vol2.corr()['Horsepower'].map(abs)\n",
    "abs_cor.sort_values(ascending = False)"
   ]
  },
  {
   "cell_type": "code",
   "execution_count": 78,
   "metadata": {},
   "outputs": [
    {
     "data": {
      "text/plain": [
       "Weight          1.000000\n",
       "Displacement    0.933113\n",
       "Cylinders       0.892376\n",
       "Horsepower      0.862924\n",
       "MPG             0.823764\n",
       "Origin_3        0.453397\n",
       "Acceleration    0.420194\n",
       "Unnamed: 0      0.303319\n",
       "Model Year      0.290503\n",
       "Origin_2        0.289728\n",
       "Name: Weight, dtype: float64"
      ]
     },
     "execution_count": 78,
     "metadata": {},
     "output_type": "execute_result"
    }
   ],
   "source": [
    "abs_cor = train_vol2.corr()['Weight'].map(abs)\n",
    "abs_cor.sort_values(ascending = False)"
   ]
  },
  {
   "cell_type": "code",
   "execution_count": 79,
   "metadata": {},
   "outputs": [
    {
     "data": {
      "text/plain": [
       "Acceleration    1.000000\n",
       "Horsepower      0.682716\n",
       "Displacement    0.540952\n",
       "Cylinders       0.504479\n",
       "MPG             0.462807\n",
       "Weight          0.420194\n",
       "Unnamed: 0      0.311091\n",
       "Model Year      0.310562\n",
       "Origin_2        0.215918\n",
       "Origin_3        0.115070\n",
       "Name: Acceleration, dtype: float64"
      ]
     },
     "execution_count": 79,
     "metadata": {},
     "output_type": "execute_result"
    }
   ],
   "source": [
    "abs_cor = train_vol2.corr()['Acceleration'].map(abs)\n",
    "abs_cor.sort_values(ascending = False)"
   ]
  },
  {
   "cell_type": "code",
   "execution_count": 80,
   "metadata": {},
   "outputs": [
    {
     "data": {
      "text/plain": [
       "Model Year      1.000000\n",
       "Unnamed: 0      0.996612\n",
       "MPG             0.573256\n",
       "Horsepower      0.408135\n",
       "Displacement    0.348404\n",
       "Cylinders       0.330734\n",
       "Acceleration    0.310562\n",
       "Weight          0.290503\n",
       "Origin_3        0.184759\n",
       "Origin_2        0.012445\n",
       "Name: Model Year, dtype: float64"
      ]
     },
     "execution_count": 80,
     "metadata": {},
     "output_type": "execute_result"
    }
   ],
   "source": [
    "abs_cor = train_vol2.corr()['Model Year'].map(abs)\n",
    "abs_cor.sort_values(ascending = False)"
   ]
  },
  {
   "cell_type": "markdown",
   "metadata": {},
   "source": [
    "上記結果より、相関関係が高いものは以下の通りとなります。<br>\n",
    "<br>\n",
    "Displacement列<br>\n",
    " ・Cylinders 0.950317<br>\n",
    " ・Weight 0.933113<br>\n",
    " ・Horsepower 0.893952<br>\n",
    "\n",
    "Weight列<br>\n",
    " ・Cylinders 0.892376<br>\n",
    " ・Horsepower 0.864121<br>"
   ]
  },
  {
   "cell_type": "code",
   "execution_count": 81,
   "metadata": {},
   "outputs": [
    {
     "name": "stdout",
     "output_type": "stream",
     "text": [
      "「チューニング前」との比較\n",
      "0.8610672237760568  -  0.8219880516063901  =  訓練データとの差 0.03907917216966672\n",
      "0.8395452595646857  -  0.8086313420316488  =  検証データとの差 0.03091391753303696\n"
     ]
    }
   ],
   "source": [
    "# チューニング（特徴量エンジニアリング）\n",
    "\n",
    "# 特徴量と正解データを取り出し\n",
    "x = train_vol2.loc[ : , 'Cylinders':'Origin_3']\n",
    "t = train_vol2['MPG']\n",
    "\n",
    "# チューニング（多項式）\n",
    "x['Weight**2'] = x['Weight'] ** 2\n",
    "# x['Displacement**2'] = x['Displacement'] ** 2\n",
    "# x['Horsepower**2'] = x['Horsepower'] ** 2\n",
    "\n",
    "# チューニング（交互作用特徴量）\n",
    "x['Dis*Cyl'] = x['Displacement'] * x['Cylinders']\n",
    "x['Dis*Wei*Cyl'] = x['Displacement'] * x['Weight'] * x['Cylinders']\n",
    "# x['Wei2*Dis2'] = x['Weight**2'] * x['Displacement**2']\n",
    "# x['Dis*Wei'] = x['Displacement'] * x['Weight']\n",
    "# x['Dis*Hor'] = x['Displacement'] * x['Horsepower']\n",
    "# x['Wei*Cyl'] = x['Weight'] * x['Cylinders']\n",
    "\n",
    "\n",
    "# learn関数を呼び出し（訓練・検証に分割、学習、決定係数）\n",
    "m2, m3 = learn(x, t)\n",
    "\n",
    "# チューニング前　と　訓練・検証データの差を表示\n",
    "print(\"「チューニング前」との比較\",)\n",
    "print(m2, \" - \", s1, \" = \", \"訓練データとの差\", m2 - s1)\n",
    "print(m3, \" - \", s2, \" = \", \"検証データとの差\", m3 - s2)\n"
   ]
  },
  {
   "cell_type": "markdown",
   "metadata": {},
   "source": [
    "多項式特徴量を3パーン、相互作用特徴量を4パターン試しました（3乗等も行ってみました）が<br>\n",
    "最も検証データの高い多項式特徴量を１つ、相互作用特徴量を２つ加えたデータで進めます。"
   ]
  },
  {
   "cell_type": "markdown",
   "metadata": {},
   "source": [
    "### ≪機械学習の流れ≫　４.前処理　④標準化"
   ]
  },
  {
   "cell_type": "markdown",
   "metadata": {},
   "source": [
    "各特徴量の分布において、分布を表す平均値と標準偏差が大きく異なる可能性があるため<br>\n",
    "”標準化”という加工処理を行って、特徴量の平均値とばらつきを統一させます。<br>\n",
    "標準化で特徴量がもつ値の重みを平等にできます。<br>"
   ]
  },
  {
   "cell_type": "code",
   "execution_count": 82,
   "metadata": {},
   "outputs": [
    {
     "name": "stdout",
     "output_type": "stream",
     "text": [
      "「標準化前」との比較\n",
      "0.8610672237760569  -  0.8610672237760568  =  訓練データとの差 1.1102230246251565e-16\n",
      "0.8395452595643322  -  0.8395452595646857  =  検証データとの差 -3.5349501104064984e-13\n"
     ]
    }
   ],
   "source": [
    "# 訓練データ（訓練・検証）を標準化後に再学習\n",
    "\n",
    "from sklearn.preprocessing import StandardScaler\n",
    "import numpy as np\n",
    "\n",
    "# 特徴量を標準化\n",
    "sc_model_x = StandardScaler()\n",
    "sc_model_x.fit(x)\n",
    "sc_x = sc_model_x.transform(x)\n",
    "\n",
    "# 正解データを2次元に変換 ← これがないとエラー？\n",
    "t = np.array(t).reshape(-1,1)\n",
    "\n",
    "# 正解データを標準化\n",
    "sc_model_t = StandardScaler()\n",
    "sc_model_t.fit(t)\n",
    "sc_t = sc_model_t.transform(t)\n",
    "\n",
    "# learn関数を呼び出し（訓練・検証に分割、学習、決定係数）\n",
    "sc1, sc2 = learn(sc_x, sc_t)\n",
    "\n",
    "# チューニング前　と　訓練・検証データの差を表示\n",
    "print(\"「標準化前」との比較\",)\n",
    "print(sc1, \" - \", m2, \" = \", \"訓練データとの差\", sc1 - m2)\n",
    "print(sc2, \" - \", m3, \" = \", \"検証データとの差\", sc2 - m3)"
   ]
  },
  {
   "cell_type": "markdown",
   "metadata": {},
   "source": [
    "標準化は必ず実施ではありませんが、私が調べる限り、一般的な機械学習を用いた予測モデルを作る上では、標準化は特徴量に対して適用しておいたほうが良いようです。\n",
    "\n",
    "ですが、今回は検証データの決定係数が下がったため、標準化は行いません。"
   ]
  },
  {
   "cell_type": "markdown",
   "metadata": {},
   "source": [
    "訓練データ（訓練・検証）を合わせたデータで学習させ、評価へと進みます。<br>"
   ]
  },
  {
   "cell_type": "code",
   "execution_count": 83,
   "metadata": {},
   "outputs": [
    {
     "data": {
      "text/plain": [
       "0.8585953648978161"
      ]
     },
     "execution_count": 83,
     "metadata": {},
     "output_type": "execute_result"
    }
   ],
   "source": [
    "# 特徴量と正解データを取り出し\n",
    "x = train_vol2.loc[ : , 'Cylinders':'Origin_3']\n",
    "t = train_vol2['MPG']\n",
    "\n",
    "# チューニング（多項式）\n",
    "x['Weight**2'] = x['Weight'] ** 2\n",
    "\n",
    "# チューニング（交互作用特徴量）\n",
    "x['Dis*Cyl'] = x['Displacement'] * x['Cylinders']\n",
    "x['Dis*Wei*Cyl'] = x['Displacement'] * x['Weight'] * x['Cylinders']\n",
    "\n",
    "model = LinearRegression()\n",
    "# 訓練データで学習 \n",
    "model.fit(x, t)\n",
    "model.score(x, t)"
   ]
  },
  {
   "cell_type": "markdown",
   "metadata": {},
   "source": [
    "### ≪機械学習の流れ≫　６.評価　①検証データで評価し指標確認<br>　"
   ]
  },
  {
   "cell_type": "markdown",
   "metadata": {},
   "source": [
    "最終評価として、テストデータで決定係数を計算するために、テストデータの前処理を行います。"
   ]
  },
  {
   "cell_type": "code",
   "execution_count": 84,
   "metadata": {},
   "outputs": [],
   "source": [
    "# テストデータの欠損値を平均値で穴埋め\n",
    "test_vol2 = test_vol.fillna(test_vol.mean())\n",
    "# 特徴量と正解データを取り出し\n",
    "xf = test_vol2.loc[ : , 'Cylinders':'Origin_3']\n",
    "tf = test_vol2['MPG']\n",
    "\n",
    "# テストデータのチューニング（多項式）\n",
    "xf['Weight**2'] = xf['Weight'] ** 2\n",
    "\n",
    "# テストデータのチューニング（交互作用特徴量）\n",
    "xf['Dis*Cyl'] = xf['Displacement'] * xf['Cylinders']\n",
    "xf['Dis*Wei*Cyl'] = xf['Displacement'] * xf['Weight'] * xf['Cylinders']"
   ]
  },
  {
   "cell_type": "code",
   "execution_count": 85,
   "metadata": {},
   "outputs": [
    {
     "data": {
      "text/plain": [
       "0.8645526359091451"
      ]
     },
     "execution_count": 85,
     "metadata": {},
     "output_type": "execute_result"
    }
   ],
   "source": [
    "# テストデータで決定係数を計算\n",
    "model.score(xf, tf)"
   ]
  },
  {
   "cell_type": "markdown",
   "metadata": {},
   "source": [
    "## 目標の決定係数85%を超えることができました！！！"
   ]
  },
  {
   "cell_type": "markdown",
   "metadata": {},
   "source": [
    "今回の学習結果では、過学習もなく、正解データと各特徴量の相関係数も0.4を超えているため<br>\n",
    "不要な特徴量も少ないと判断しましたが、「リッジ回帰」と「ラッソ回帰」も実施してみます。"
   ]
  },
  {
   "cell_type": "code",
   "execution_count": 86,
   "metadata": {},
   "outputs": [
    {
     "name": "stdout",
     "output_type": "stream",
     "text": [
      "正則化項の定数:1.21　　決定係数：0.8645724470001339\n"
     ]
    }
   ],
   "source": [
    "from sklearn.linear_model import Ridge\n",
    "\n",
    "max_s = 0\n",
    "mas_i = 0\n",
    "\n",
    "for i in range(1, 2001):\n",
    "    num = i/100\n",
    "    r_model = Ridge(random_state=0, alpha = num)\n",
    "    r_model.fit(x,t)\n",
    "\n",
    "    result = r_model.score(xf, tf)\n",
    "    if result > max_s:\n",
    "        max_s = result\n",
    "        mas_i = num\n",
    "\n",
    "print(\"正則化項の定数:{}　　決定係数：{}\".format(mas_i, max_s))"
   ]
  },
  {
   "cell_type": "markdown",
   "metadata": {},
   "source": [
    "## リッジ回帰では、決定係数86.45%になりました。"
   ]
  },
  {
   "cell_type": "code",
   "execution_count": 87,
   "metadata": {},
   "outputs": [
    {
     "name": "stdout",
     "output_type": "stream",
     "text": [
      "正則化項の定数:20.0　　決定係数：0.8701723624789077\n"
     ]
    }
   ],
   "source": [
    "from sklearn.linear_model import Lasso\n",
    "\n",
    "trial = 100\n",
    "\n",
    "max_ss = 0\n",
    "mas_ii = 0\n",
    "\n",
    "for i in range(trial):\n",
    "      \n",
    "    rs_model = Lasso(max_iter=100000, tol=1e-10)\n",
    "    rs_model.fit(x, t)\n",
    "\n",
    "    result = rs_model.score(xf, tf)\n",
    "    if result > max_s:\n",
    "        max_s = result\n",
    "        mas_i = num\n",
    "\n",
    "print(\"正則化項の定数:{}　　決定係数：{}\".format(mas_i, max_s))"
   ]
  },
  {
   "cell_type": "markdown",
   "metadata": {},
   "source": [
    "## ロッソ回帰では、決定係数87.01%になりました！！！"
   ]
  },
  {
   "cell_type": "markdown",
   "metadata": {},
   "source": [
    "機械学習は、様々な回帰モデルがあるため、決定係数を上げるためには根気強く確認することが重要です。"
   ]
  },
  {
   "cell_type": "markdown",
   "metadata": {},
   "source": [
    "### モデルを保存して、機械学習が終了です"
   ]
  },
  {
   "cell_type": "code",
   "execution_count": 88,
   "metadata": {},
   "outputs": [],
   "source": [
    "# pickleのインポート\n",
    "import pickle\n",
    "\n",
    "# モデルを保存\n",
    "with open('automgp_model.pkl', 'wb') as f:\n",
    "    pickle.dump(rs_model, f)"
   ]
  }
 ],
 "metadata": {
  "colab": {
   "collapsed_sections": [],
   "name": "ml_ex_5_stu.ipynb",
   "provenance": []
  },
  "kernelspec": {
   "display_name": "Python 3",
   "language": "python",
   "name": "python3"
  },
  "language_info": {
   "codemirror_mode": {
    "name": "ipython",
    "version": 3
   },
   "file_extension": ".py",
   "mimetype": "text/x-python",
   "name": "python",
   "nbconvert_exporter": "python",
   "pygments_lexer": "ipython3",
   "version": "3.8.5"
  }
 },
 "nbformat": 4,
 "nbformat_minor": 1
}
