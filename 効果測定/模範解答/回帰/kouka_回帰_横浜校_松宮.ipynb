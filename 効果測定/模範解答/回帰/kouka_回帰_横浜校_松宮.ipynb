{
 "cells": [
  {
   "cell_type": "code",
   "execution_count": null,
   "metadata": {
    "colab": {
     "base_uri": "https://localhost:8080/",
     "height": 36
    },
    "executionInfo": {
     "elapsed": 12,
     "status": "ok",
     "timestamp": 1647332692557,
     "user": {
      "displayName": "松宮正弥",
      "photoUrl": "https://lh3.googleusercontent.com/a/default-user=s64",
      "userId": "03574679515194343736"
     },
     "user_tz": -540
    },
    "id": "aDwRlaR8iRXi",
    "outputId": "cf9be4c7-ea0f-43a5-efc4-55d9d9376437"
   },
   "outputs": [
    {
     "data": {
      "application/vnd.google.colaboratory.intrinsic+json": {
       "type": "string"
      },
      "text/plain": [
       "'/content/data'"
      ]
     },
     "execution_count": 53,
     "metadata": {},
     "output_type": "execute_result"
    }
   ],
   "source": [
    "pwd"
   ]
  },
  {
   "cell_type": "code",
   "execution_count": null,
   "metadata": {
    "id": "qMugNMVDizAP"
   },
   "outputs": [],
   "source": [
    "mkdir data"
   ]
  },
  {
   "cell_type": "code",
   "execution_count": null,
   "metadata": {
    "colab": {
     "base_uri": "https://localhost:8080/"
    },
    "executionInfo": {
     "elapsed": 432,
     "status": "ok",
     "timestamp": 1647332742177,
     "user": {
      "displayName": "松宮正弥",
      "photoUrl": "https://lh3.googleusercontent.com/a/default-user=s64",
      "userId": "03574679515194343736"
     },
     "user_tz": -540
    },
    "id": "4QANTghyi2cT",
    "outputId": "01425f06-e406-4f49-fb2c-ba7960b0c63c"
   },
   "outputs": [
    {
     "name": "stdout",
     "output_type": "stream",
     "text": [
      "/content/data\n"
     ]
    }
   ],
   "source": [
    "cd data"
   ]
  },
  {
   "cell_type": "markdown",
   "metadata": {
    "id": "qxYdoMi49bpf"
   },
   "source": [
    "各種ライブラリのインポート"
   ]
  },
  {
   "cell_type": "code",
   "execution_count": null,
   "metadata": {
    "id": "qwZXSijqi5gw"
   },
   "outputs": [],
   "source": [
    "import pandas as pd\n",
    "%matplotlib inline\n",
    "from sklearn.linear_model import LinearRegression\n",
    "from sklearn.model_selection import train_test_split"
   ]
  },
  {
   "cell_type": "markdown",
   "metadata": {
    "id": "OidjUMnH9qfk"
   },
   "source": [
    " matplotlib日本語化のためのライブラリのインストール"
   ]
  },
  {
   "cell_type": "code",
   "execution_count": null,
   "metadata": {
    "colab": {
     "base_uri": "https://localhost:8080/"
    },
    "executionInfo": {
     "elapsed": 3499,
     "status": "ok",
     "timestamp": 1647332763965,
     "user": {
      "displayName": "松宮正弥",
      "photoUrl": "https://lh3.googleusercontent.com/a/default-user=s64",
      "userId": "03574679515194343736"
     },
     "user_tz": -540
    },
    "id": "4Gl0eF7F9W5O",
    "outputId": "4eef59de-80a2-49a0-b29a-5c524c67ba09"
   },
   "outputs": [
    {
     "name": "stdout",
     "output_type": "stream",
     "text": [
      "Requirement already satisfied: japanize-matplotlib in /usr/local/lib/python3.7/dist-packages (1.1.3)\n",
      "Requirement already satisfied: matplotlib in /usr/local/lib/python3.7/dist-packages (from japanize-matplotlib) (3.2.2)\n",
      "Requirement already satisfied: pyparsing!=2.0.4,!=2.1.2,!=2.1.6,>=2.0.1 in /usr/local/lib/python3.7/dist-packages (from matplotlib->japanize-matplotlib) (3.0.7)\n",
      "Requirement already satisfied: cycler>=0.10 in /usr/local/lib/python3.7/dist-packages (from matplotlib->japanize-matplotlib) (0.11.0)\n",
      "Requirement already satisfied: kiwisolver>=1.0.1 in /usr/local/lib/python3.7/dist-packages (from matplotlib->japanize-matplotlib) (1.3.2)\n",
      "Requirement already satisfied: numpy>=1.11 in /usr/local/lib/python3.7/dist-packages (from matplotlib->japanize-matplotlib) (1.21.5)\n",
      "Requirement already satisfied: python-dateutil>=2.1 in /usr/local/lib/python3.7/dist-packages (from matplotlib->japanize-matplotlib) (2.8.2)\n",
      "Requirement already satisfied: six>=1.5 in /usr/local/lib/python3.7/dist-packages (from python-dateutil>=2.1->matplotlib->japanize-matplotlib) (1.15.0)\n"
     ]
    }
   ],
   "source": [
    "!pip install japanize-matplotlib"
   ]
  },
  {
   "cell_type": "markdown",
   "metadata": {
    "id": "TRY03ByC0asE"
   },
   "source": [
    "CSVファイルを読み込み、先頭20件を表示"
   ]
  },
  {
   "cell_type": "code",
   "execution_count": null,
   "metadata": {
    "colab": {
     "base_uri": "https://localhost:8080/",
     "height": 676
    },
    "executionInfo": {
     "elapsed": 9,
     "status": "ok",
     "timestamp": 1647332767572,
     "user": {
      "displayName": "松宮正弥",
      "photoUrl": "https://lh3.googleusercontent.com/a/default-user=s64",
      "userId": "03574679515194343736"
     },
     "user_tz": -540
    },
    "id": "CHrw2P7mjjXx",
    "outputId": "6f25d754-ac96-4cfc-d394-62374590d60c"
   },
   "outputs": [
    {
     "data": {
      "text/html": [
       "\n",
       "  <div id=\"df-c95666f1-265a-4aa8-81b5-ca4ea48c57b4\">\n",
       "    <div class=\"colab-df-container\">\n",
       "      <div>\n",
       "<style scoped>\n",
       "    .dataframe tbody tr th:only-of-type {\n",
       "        vertical-align: middle;\n",
       "    }\n",
       "\n",
       "    .dataframe tbody tr th {\n",
       "        vertical-align: top;\n",
       "    }\n",
       "\n",
       "    .dataframe thead th {\n",
       "        text-align: right;\n",
       "    }\n",
       "</style>\n",
       "<table border=\"1\" class=\"dataframe\">\n",
       "  <thead>\n",
       "    <tr style=\"text-align: right;\">\n",
       "      <th></th>\n",
       "      <th>Unnamed: 0</th>\n",
       "      <th>MPG</th>\n",
       "      <th>Cylinders</th>\n",
       "      <th>Displacement</th>\n",
       "      <th>Horsepower</th>\n",
       "      <th>Weight</th>\n",
       "      <th>Acceleration</th>\n",
       "      <th>Model Year</th>\n",
       "      <th>Origin</th>\n",
       "    </tr>\n",
       "  </thead>\n",
       "  <tbody>\n",
       "    <tr>\n",
       "      <th>0</th>\n",
       "      <td>0</td>\n",
       "      <td>18.0</td>\n",
       "      <td>8</td>\n",
       "      <td>307.0</td>\n",
       "      <td>130.0</td>\n",
       "      <td>3504</td>\n",
       "      <td>12.0</td>\n",
       "      <td>70</td>\n",
       "      <td>1</td>\n",
       "    </tr>\n",
       "    <tr>\n",
       "      <th>1</th>\n",
       "      <td>1</td>\n",
       "      <td>15.0</td>\n",
       "      <td>8</td>\n",
       "      <td>350.0</td>\n",
       "      <td>165.0</td>\n",
       "      <td>3693</td>\n",
       "      <td>11.5</td>\n",
       "      <td>70</td>\n",
       "      <td>1</td>\n",
       "    </tr>\n",
       "    <tr>\n",
       "      <th>2</th>\n",
       "      <td>2</td>\n",
       "      <td>18.0</td>\n",
       "      <td>8</td>\n",
       "      <td>318.0</td>\n",
       "      <td>150.0</td>\n",
       "      <td>3436</td>\n",
       "      <td>11.0</td>\n",
       "      <td>70</td>\n",
       "      <td>1</td>\n",
       "    </tr>\n",
       "    <tr>\n",
       "      <th>3</th>\n",
       "      <td>3</td>\n",
       "      <td>16.0</td>\n",
       "      <td>8</td>\n",
       "      <td>304.0</td>\n",
       "      <td>150.0</td>\n",
       "      <td>3433</td>\n",
       "      <td>12.0</td>\n",
       "      <td>70</td>\n",
       "      <td>1</td>\n",
       "    </tr>\n",
       "    <tr>\n",
       "      <th>4</th>\n",
       "      <td>4</td>\n",
       "      <td>17.0</td>\n",
       "      <td>8</td>\n",
       "      <td>302.0</td>\n",
       "      <td>140.0</td>\n",
       "      <td>3449</td>\n",
       "      <td>10.5</td>\n",
       "      <td>70</td>\n",
       "      <td>1</td>\n",
       "    </tr>\n",
       "    <tr>\n",
       "      <th>5</th>\n",
       "      <td>5</td>\n",
       "      <td>15.0</td>\n",
       "      <td>8</td>\n",
       "      <td>429.0</td>\n",
       "      <td>198.0</td>\n",
       "      <td>4341</td>\n",
       "      <td>10.0</td>\n",
       "      <td>70</td>\n",
       "      <td>1</td>\n",
       "    </tr>\n",
       "    <tr>\n",
       "      <th>6</th>\n",
       "      <td>6</td>\n",
       "      <td>14.0</td>\n",
       "      <td>8</td>\n",
       "      <td>454.0</td>\n",
       "      <td>220.0</td>\n",
       "      <td>4354</td>\n",
       "      <td>9.0</td>\n",
       "      <td>70</td>\n",
       "      <td>1</td>\n",
       "    </tr>\n",
       "    <tr>\n",
       "      <th>7</th>\n",
       "      <td>7</td>\n",
       "      <td>14.0</td>\n",
       "      <td>8</td>\n",
       "      <td>440.0</td>\n",
       "      <td>215.0</td>\n",
       "      <td>4312</td>\n",
       "      <td>8.5</td>\n",
       "      <td>70</td>\n",
       "      <td>1</td>\n",
       "    </tr>\n",
       "    <tr>\n",
       "      <th>8</th>\n",
       "      <td>8</td>\n",
       "      <td>14.0</td>\n",
       "      <td>8</td>\n",
       "      <td>455.0</td>\n",
       "      <td>225.0</td>\n",
       "      <td>4425</td>\n",
       "      <td>10.0</td>\n",
       "      <td>70</td>\n",
       "      <td>1</td>\n",
       "    </tr>\n",
       "    <tr>\n",
       "      <th>9</th>\n",
       "      <td>9</td>\n",
       "      <td>15.0</td>\n",
       "      <td>8</td>\n",
       "      <td>390.0</td>\n",
       "      <td>190.0</td>\n",
       "      <td>3850</td>\n",
       "      <td>8.5</td>\n",
       "      <td>70</td>\n",
       "      <td>1</td>\n",
       "    </tr>\n",
       "    <tr>\n",
       "      <th>10</th>\n",
       "      <td>10</td>\n",
       "      <td>15.0</td>\n",
       "      <td>8</td>\n",
       "      <td>383.0</td>\n",
       "      <td>170.0</td>\n",
       "      <td>3563</td>\n",
       "      <td>10.0</td>\n",
       "      <td>70</td>\n",
       "      <td>1</td>\n",
       "    </tr>\n",
       "    <tr>\n",
       "      <th>11</th>\n",
       "      <td>11</td>\n",
       "      <td>14.0</td>\n",
       "      <td>8</td>\n",
       "      <td>340.0</td>\n",
       "      <td>160.0</td>\n",
       "      <td>3609</td>\n",
       "      <td>8.0</td>\n",
       "      <td>70</td>\n",
       "      <td>1</td>\n",
       "    </tr>\n",
       "    <tr>\n",
       "      <th>12</th>\n",
       "      <td>12</td>\n",
       "      <td>15.0</td>\n",
       "      <td>8</td>\n",
       "      <td>400.0</td>\n",
       "      <td>150.0</td>\n",
       "      <td>3761</td>\n",
       "      <td>9.5</td>\n",
       "      <td>70</td>\n",
       "      <td>1</td>\n",
       "    </tr>\n",
       "    <tr>\n",
       "      <th>13</th>\n",
       "      <td>13</td>\n",
       "      <td>14.0</td>\n",
       "      <td>8</td>\n",
       "      <td>455.0</td>\n",
       "      <td>225.0</td>\n",
       "      <td>3086</td>\n",
       "      <td>10.0</td>\n",
       "      <td>70</td>\n",
       "      <td>1</td>\n",
       "    </tr>\n",
       "    <tr>\n",
       "      <th>14</th>\n",
       "      <td>14</td>\n",
       "      <td>24.0</td>\n",
       "      <td>4</td>\n",
       "      <td>113.0</td>\n",
       "      <td>95.0</td>\n",
       "      <td>2372</td>\n",
       "      <td>15.0</td>\n",
       "      <td>70</td>\n",
       "      <td>3</td>\n",
       "    </tr>\n",
       "    <tr>\n",
       "      <th>15</th>\n",
       "      <td>15</td>\n",
       "      <td>22.0</td>\n",
       "      <td>6</td>\n",
       "      <td>198.0</td>\n",
       "      <td>95.0</td>\n",
       "      <td>2833</td>\n",
       "      <td>15.5</td>\n",
       "      <td>70</td>\n",
       "      <td>1</td>\n",
       "    </tr>\n",
       "    <tr>\n",
       "      <th>16</th>\n",
       "      <td>16</td>\n",
       "      <td>18.0</td>\n",
       "      <td>6</td>\n",
       "      <td>199.0</td>\n",
       "      <td>97.0</td>\n",
       "      <td>2774</td>\n",
       "      <td>15.5</td>\n",
       "      <td>70</td>\n",
       "      <td>1</td>\n",
       "    </tr>\n",
       "    <tr>\n",
       "      <th>17</th>\n",
       "      <td>17</td>\n",
       "      <td>21.0</td>\n",
       "      <td>6</td>\n",
       "      <td>200.0</td>\n",
       "      <td>85.0</td>\n",
       "      <td>2587</td>\n",
       "      <td>16.0</td>\n",
       "      <td>70</td>\n",
       "      <td>1</td>\n",
       "    </tr>\n",
       "    <tr>\n",
       "      <th>18</th>\n",
       "      <td>18</td>\n",
       "      <td>27.0</td>\n",
       "      <td>4</td>\n",
       "      <td>97.0</td>\n",
       "      <td>88.0</td>\n",
       "      <td>2130</td>\n",
       "      <td>14.5</td>\n",
       "      <td>70</td>\n",
       "      <td>3</td>\n",
       "    </tr>\n",
       "    <tr>\n",
       "      <th>19</th>\n",
       "      <td>19</td>\n",
       "      <td>26.0</td>\n",
       "      <td>4</td>\n",
       "      <td>97.0</td>\n",
       "      <td>46.0</td>\n",
       "      <td>1835</td>\n",
       "      <td>20.5</td>\n",
       "      <td>70</td>\n",
       "      <td>2</td>\n",
       "    </tr>\n",
       "  </tbody>\n",
       "</table>\n",
       "</div>\n",
       "      <button class=\"colab-df-convert\" onclick=\"convertToInteractive('df-c95666f1-265a-4aa8-81b5-ca4ea48c57b4')\"\n",
       "              title=\"Convert this dataframe to an interactive table.\"\n",
       "              style=\"display:none;\">\n",
       "        \n",
       "  <svg xmlns=\"http://www.w3.org/2000/svg\" height=\"24px\"viewBox=\"0 0 24 24\"\n",
       "       width=\"24px\">\n",
       "    <path d=\"M0 0h24v24H0V0z\" fill=\"none\"/>\n",
       "    <path d=\"M18.56 5.44l.94 2.06.94-2.06 2.06-.94-2.06-.94-.94-2.06-.94 2.06-2.06.94zm-11 1L8.5 8.5l.94-2.06 2.06-.94-2.06-.94L8.5 2.5l-.94 2.06-2.06.94zm10 10l.94 2.06.94-2.06 2.06-.94-2.06-.94-.94-2.06-.94 2.06-2.06.94z\"/><path d=\"M17.41 7.96l-1.37-1.37c-.4-.4-.92-.59-1.43-.59-.52 0-1.04.2-1.43.59L10.3 9.45l-7.72 7.72c-.78.78-.78 2.05 0 2.83L4 21.41c.39.39.9.59 1.41.59.51 0 1.02-.2 1.41-.59l7.78-7.78 2.81-2.81c.8-.78.8-2.07 0-2.86zM5.41 20L4 18.59l7.72-7.72 1.47 1.35L5.41 20z\"/>\n",
       "  </svg>\n",
       "      </button>\n",
       "      \n",
       "  <style>\n",
       "    .colab-df-container {\n",
       "      display:flex;\n",
       "      flex-wrap:wrap;\n",
       "      gap: 12px;\n",
       "    }\n",
       "\n",
       "    .colab-df-convert {\n",
       "      background-color: #E8F0FE;\n",
       "      border: none;\n",
       "      border-radius: 50%;\n",
       "      cursor: pointer;\n",
       "      display: none;\n",
       "      fill: #1967D2;\n",
       "      height: 32px;\n",
       "      padding: 0 0 0 0;\n",
       "      width: 32px;\n",
       "    }\n",
       "\n",
       "    .colab-df-convert:hover {\n",
       "      background-color: #E2EBFA;\n",
       "      box-shadow: 0px 1px 2px rgba(60, 64, 67, 0.3), 0px 1px 3px 1px rgba(60, 64, 67, 0.15);\n",
       "      fill: #174EA6;\n",
       "    }\n",
       "\n",
       "    [theme=dark] .colab-df-convert {\n",
       "      background-color: #3B4455;\n",
       "      fill: #D2E3FC;\n",
       "    }\n",
       "\n",
       "    [theme=dark] .colab-df-convert:hover {\n",
       "      background-color: #434B5C;\n",
       "      box-shadow: 0px 1px 3px 1px rgba(0, 0, 0, 0.15);\n",
       "      filter: drop-shadow(0px 1px 2px rgba(0, 0, 0, 0.3));\n",
       "      fill: #FFFFFF;\n",
       "    }\n",
       "  </style>\n",
       "\n",
       "      <script>\n",
       "        const buttonEl =\n",
       "          document.querySelector('#df-c95666f1-265a-4aa8-81b5-ca4ea48c57b4 button.colab-df-convert');\n",
       "        buttonEl.style.display =\n",
       "          google.colab.kernel.accessAllowed ? 'block' : 'none';\n",
       "\n",
       "        async function convertToInteractive(key) {\n",
       "          const element = document.querySelector('#df-c95666f1-265a-4aa8-81b5-ca4ea48c57b4');\n",
       "          const dataTable =\n",
       "            await google.colab.kernel.invokeFunction('convertToInteractive',\n",
       "                                                     [key], {});\n",
       "          if (!dataTable) return;\n",
       "\n",
       "          const docLinkHtml = 'Like what you see? Visit the ' +\n",
       "            '<a target=\"_blank\" href=https://colab.research.google.com/notebooks/data_table.ipynb>data table notebook</a>'\n",
       "            + ' to learn more about interactive tables.';\n",
       "          element.innerHTML = '';\n",
       "          dataTable['output_type'] = 'display_data';\n",
       "          await google.colab.output.renderOutput(dataTable, element);\n",
       "          const docLink = document.createElement('div');\n",
       "          docLink.innerHTML = docLinkHtml;\n",
       "          element.appendChild(docLink);\n",
       "        }\n",
       "      </script>\n",
       "    </div>\n",
       "  </div>\n",
       "  "
      ],
      "text/plain": [
       "    Unnamed: 0   MPG  Cylinders  Displacement  Horsepower  Weight  \\\n",
       "0            0  18.0          8         307.0       130.0    3504   \n",
       "1            1  15.0          8         350.0       165.0    3693   \n",
       "2            2  18.0          8         318.0       150.0    3436   \n",
       "3            3  16.0          8         304.0       150.0    3433   \n",
       "4            4  17.0          8         302.0       140.0    3449   \n",
       "5            5  15.0          8         429.0       198.0    4341   \n",
       "6            6  14.0          8         454.0       220.0    4354   \n",
       "7            7  14.0          8         440.0       215.0    4312   \n",
       "8            8  14.0          8         455.0       225.0    4425   \n",
       "9            9  15.0          8         390.0       190.0    3850   \n",
       "10          10  15.0          8         383.0       170.0    3563   \n",
       "11          11  14.0          8         340.0       160.0    3609   \n",
       "12          12  15.0          8         400.0       150.0    3761   \n",
       "13          13  14.0          8         455.0       225.0    3086   \n",
       "14          14  24.0          4         113.0        95.0    2372   \n",
       "15          15  22.0          6         198.0        95.0    2833   \n",
       "16          16  18.0          6         199.0        97.0    2774   \n",
       "17          17  21.0          6         200.0        85.0    2587   \n",
       "18          18  27.0          4          97.0        88.0    2130   \n",
       "19          19  26.0          4          97.0        46.0    1835   \n",
       "\n",
       "    Acceleration  Model Year  Origin  \n",
       "0           12.0          70       1  \n",
       "1           11.5          70       1  \n",
       "2           11.0          70       1  \n",
       "3           12.0          70       1  \n",
       "4           10.5          70       1  \n",
       "5           10.0          70       1  \n",
       "6            9.0          70       1  \n",
       "7            8.5          70       1  \n",
       "8           10.0          70       1  \n",
       "9            8.5          70       1  \n",
       "10          10.0          70       1  \n",
       "11           8.0          70       1  \n",
       "12           9.5          70       1  \n",
       "13          10.0          70       1  \n",
       "14          15.0          70       3  \n",
       "15          15.5          70       1  \n",
       "16          15.5          70       1  \n",
       "17          16.0          70       1  \n",
       "18          14.5          70       3  \n",
       "19          20.5          70       2  "
      ]
     },
     "execution_count": 59,
     "metadata": {},
     "output_type": "execute_result"
    }
   ],
   "source": [
    "df = pd.read_csv('auto_mgp.csv')\n",
    "df.head(20)"
   ]
  },
  {
   "cell_type": "markdown",
   "metadata": {
    "id": "4Wgrto8i0v0b"
   },
   "source": [
    "行数と列数を確認"
   ]
  },
  {
   "cell_type": "code",
   "execution_count": null,
   "metadata": {
    "colab": {
     "base_uri": "https://localhost:8080/"
    },
    "executionInfo": {
     "elapsed": 375,
     "status": "ok",
     "timestamp": 1647332774219,
     "user": {
      "displayName": "松宮正弥",
      "photoUrl": "https://lh3.googleusercontent.com/a/default-user=s64",
      "userId": "03574679515194343736"
     },
     "user_tz": -540
    },
    "id": "ZqlDIuVSjtuA",
    "outputId": "a8c5f008-5769-4ad3-f892-2f5ec43d8a57"
   },
   "outputs": [
    {
     "data": {
      "text/plain": [
       "(398, 9)"
      ]
     },
     "execution_count": 60,
     "metadata": {},
     "output_type": "execute_result"
    }
   ],
   "source": [
    "df.shape"
   ]
  },
  {
   "cell_type": "markdown",
   "metadata": {
    "id": "I0M7t56401ok"
   },
   "source": [
    "Originの値別の件数を確認"
   ]
  },
  {
   "cell_type": "code",
   "execution_count": null,
   "metadata": {
    "colab": {
     "base_uri": "https://localhost:8080/"
    },
    "executionInfo": {
     "elapsed": 372,
     "status": "ok",
     "timestamp": 1647332778335,
     "user": {
      "displayName": "松宮正弥",
      "photoUrl": "https://lh3.googleusercontent.com/a/default-user=s64",
      "userId": "03574679515194343736"
     },
     "user_tz": -540
    },
    "id": "u4FfmMxQ96nr",
    "outputId": "ae4446f4-eb43-4a09-f371-dbc1e2978bb7"
   },
   "outputs": [
    {
     "data": {
      "text/plain": [
       "1    249\n",
       "3     79\n",
       "2     70\n",
       "Name: Origin, dtype: int64"
      ]
     },
     "execution_count": 61,
     "metadata": {},
     "output_type": "execute_result"
    }
   ],
   "source": [
    "df['Origin'].value_counts()"
   ]
  },
  {
   "cell_type": "markdown",
   "metadata": {
    "id": "9ccz5FC31Ltd"
   },
   "source": [
    "Originをダミー変数化（Originは文字列データではありませんが、その性質上、ダミー変数化が必要と考えました→これをカテゴリー特徴量というのか・・・）"
   ]
  },
  {
   "cell_type": "code",
   "execution_count": null,
   "metadata": {
    "colab": {
     "base_uri": "https://localhost:8080/",
     "height": 676
    },
    "executionInfo": {
     "elapsed": 483,
     "status": "ok",
     "timestamp": 1647332792470,
     "user": {
      "displayName": "松宮正弥",
      "photoUrl": "https://lh3.googleusercontent.com/a/default-user=s64",
      "userId": "03574679515194343736"
     },
     "user_tz": -540
    },
    "id": "DqOscV0l-SJX",
    "outputId": "bc7fda37-3efa-4ff3-af9e-340b0de95d89"
   },
   "outputs": [
    {
     "data": {
      "text/html": [
       "\n",
       "  <div id=\"df-857a14e8-99b6-4606-a2f8-77fdf1114ce3\">\n",
       "    <div class=\"colab-df-container\">\n",
       "      <div>\n",
       "<style scoped>\n",
       "    .dataframe tbody tr th:only-of-type {\n",
       "        vertical-align: middle;\n",
       "    }\n",
       "\n",
       "    .dataframe tbody tr th {\n",
       "        vertical-align: top;\n",
       "    }\n",
       "\n",
       "    .dataframe thead th {\n",
       "        text-align: right;\n",
       "    }\n",
       "</style>\n",
       "<table border=\"1\" class=\"dataframe\">\n",
       "  <thead>\n",
       "    <tr style=\"text-align: right;\">\n",
       "      <th></th>\n",
       "      <th>Unnamed: 0</th>\n",
       "      <th>MPG</th>\n",
       "      <th>Cylinders</th>\n",
       "      <th>Displacement</th>\n",
       "      <th>Horsepower</th>\n",
       "      <th>Weight</th>\n",
       "      <th>Acceleration</th>\n",
       "      <th>Model Year</th>\n",
       "      <th>2</th>\n",
       "      <th>3</th>\n",
       "    </tr>\n",
       "  </thead>\n",
       "  <tbody>\n",
       "    <tr>\n",
       "      <th>0</th>\n",
       "      <td>0</td>\n",
       "      <td>18.0</td>\n",
       "      <td>8</td>\n",
       "      <td>307.0</td>\n",
       "      <td>130.0</td>\n",
       "      <td>3504</td>\n",
       "      <td>12.0</td>\n",
       "      <td>70</td>\n",
       "      <td>0</td>\n",
       "      <td>0</td>\n",
       "    </tr>\n",
       "    <tr>\n",
       "      <th>1</th>\n",
       "      <td>1</td>\n",
       "      <td>15.0</td>\n",
       "      <td>8</td>\n",
       "      <td>350.0</td>\n",
       "      <td>165.0</td>\n",
       "      <td>3693</td>\n",
       "      <td>11.5</td>\n",
       "      <td>70</td>\n",
       "      <td>0</td>\n",
       "      <td>0</td>\n",
       "    </tr>\n",
       "    <tr>\n",
       "      <th>2</th>\n",
       "      <td>2</td>\n",
       "      <td>18.0</td>\n",
       "      <td>8</td>\n",
       "      <td>318.0</td>\n",
       "      <td>150.0</td>\n",
       "      <td>3436</td>\n",
       "      <td>11.0</td>\n",
       "      <td>70</td>\n",
       "      <td>0</td>\n",
       "      <td>0</td>\n",
       "    </tr>\n",
       "    <tr>\n",
       "      <th>3</th>\n",
       "      <td>3</td>\n",
       "      <td>16.0</td>\n",
       "      <td>8</td>\n",
       "      <td>304.0</td>\n",
       "      <td>150.0</td>\n",
       "      <td>3433</td>\n",
       "      <td>12.0</td>\n",
       "      <td>70</td>\n",
       "      <td>0</td>\n",
       "      <td>0</td>\n",
       "    </tr>\n",
       "    <tr>\n",
       "      <th>4</th>\n",
       "      <td>4</td>\n",
       "      <td>17.0</td>\n",
       "      <td>8</td>\n",
       "      <td>302.0</td>\n",
       "      <td>140.0</td>\n",
       "      <td>3449</td>\n",
       "      <td>10.5</td>\n",
       "      <td>70</td>\n",
       "      <td>0</td>\n",
       "      <td>0</td>\n",
       "    </tr>\n",
       "    <tr>\n",
       "      <th>5</th>\n",
       "      <td>5</td>\n",
       "      <td>15.0</td>\n",
       "      <td>8</td>\n",
       "      <td>429.0</td>\n",
       "      <td>198.0</td>\n",
       "      <td>4341</td>\n",
       "      <td>10.0</td>\n",
       "      <td>70</td>\n",
       "      <td>0</td>\n",
       "      <td>0</td>\n",
       "    </tr>\n",
       "    <tr>\n",
       "      <th>6</th>\n",
       "      <td>6</td>\n",
       "      <td>14.0</td>\n",
       "      <td>8</td>\n",
       "      <td>454.0</td>\n",
       "      <td>220.0</td>\n",
       "      <td>4354</td>\n",
       "      <td>9.0</td>\n",
       "      <td>70</td>\n",
       "      <td>0</td>\n",
       "      <td>0</td>\n",
       "    </tr>\n",
       "    <tr>\n",
       "      <th>7</th>\n",
       "      <td>7</td>\n",
       "      <td>14.0</td>\n",
       "      <td>8</td>\n",
       "      <td>440.0</td>\n",
       "      <td>215.0</td>\n",
       "      <td>4312</td>\n",
       "      <td>8.5</td>\n",
       "      <td>70</td>\n",
       "      <td>0</td>\n",
       "      <td>0</td>\n",
       "    </tr>\n",
       "    <tr>\n",
       "      <th>8</th>\n",
       "      <td>8</td>\n",
       "      <td>14.0</td>\n",
       "      <td>8</td>\n",
       "      <td>455.0</td>\n",
       "      <td>225.0</td>\n",
       "      <td>4425</td>\n",
       "      <td>10.0</td>\n",
       "      <td>70</td>\n",
       "      <td>0</td>\n",
       "      <td>0</td>\n",
       "    </tr>\n",
       "    <tr>\n",
       "      <th>9</th>\n",
       "      <td>9</td>\n",
       "      <td>15.0</td>\n",
       "      <td>8</td>\n",
       "      <td>390.0</td>\n",
       "      <td>190.0</td>\n",
       "      <td>3850</td>\n",
       "      <td>8.5</td>\n",
       "      <td>70</td>\n",
       "      <td>0</td>\n",
       "      <td>0</td>\n",
       "    </tr>\n",
       "    <tr>\n",
       "      <th>10</th>\n",
       "      <td>10</td>\n",
       "      <td>15.0</td>\n",
       "      <td>8</td>\n",
       "      <td>383.0</td>\n",
       "      <td>170.0</td>\n",
       "      <td>3563</td>\n",
       "      <td>10.0</td>\n",
       "      <td>70</td>\n",
       "      <td>0</td>\n",
       "      <td>0</td>\n",
       "    </tr>\n",
       "    <tr>\n",
       "      <th>11</th>\n",
       "      <td>11</td>\n",
       "      <td>14.0</td>\n",
       "      <td>8</td>\n",
       "      <td>340.0</td>\n",
       "      <td>160.0</td>\n",
       "      <td>3609</td>\n",
       "      <td>8.0</td>\n",
       "      <td>70</td>\n",
       "      <td>0</td>\n",
       "      <td>0</td>\n",
       "    </tr>\n",
       "    <tr>\n",
       "      <th>12</th>\n",
       "      <td>12</td>\n",
       "      <td>15.0</td>\n",
       "      <td>8</td>\n",
       "      <td>400.0</td>\n",
       "      <td>150.0</td>\n",
       "      <td>3761</td>\n",
       "      <td>9.5</td>\n",
       "      <td>70</td>\n",
       "      <td>0</td>\n",
       "      <td>0</td>\n",
       "    </tr>\n",
       "    <tr>\n",
       "      <th>13</th>\n",
       "      <td>13</td>\n",
       "      <td>14.0</td>\n",
       "      <td>8</td>\n",
       "      <td>455.0</td>\n",
       "      <td>225.0</td>\n",
       "      <td>3086</td>\n",
       "      <td>10.0</td>\n",
       "      <td>70</td>\n",
       "      <td>0</td>\n",
       "      <td>0</td>\n",
       "    </tr>\n",
       "    <tr>\n",
       "      <th>14</th>\n",
       "      <td>14</td>\n",
       "      <td>24.0</td>\n",
       "      <td>4</td>\n",
       "      <td>113.0</td>\n",
       "      <td>95.0</td>\n",
       "      <td>2372</td>\n",
       "      <td>15.0</td>\n",
       "      <td>70</td>\n",
       "      <td>0</td>\n",
       "      <td>1</td>\n",
       "    </tr>\n",
       "    <tr>\n",
       "      <th>15</th>\n",
       "      <td>15</td>\n",
       "      <td>22.0</td>\n",
       "      <td>6</td>\n",
       "      <td>198.0</td>\n",
       "      <td>95.0</td>\n",
       "      <td>2833</td>\n",
       "      <td>15.5</td>\n",
       "      <td>70</td>\n",
       "      <td>0</td>\n",
       "      <td>0</td>\n",
       "    </tr>\n",
       "    <tr>\n",
       "      <th>16</th>\n",
       "      <td>16</td>\n",
       "      <td>18.0</td>\n",
       "      <td>6</td>\n",
       "      <td>199.0</td>\n",
       "      <td>97.0</td>\n",
       "      <td>2774</td>\n",
       "      <td>15.5</td>\n",
       "      <td>70</td>\n",
       "      <td>0</td>\n",
       "      <td>0</td>\n",
       "    </tr>\n",
       "    <tr>\n",
       "      <th>17</th>\n",
       "      <td>17</td>\n",
       "      <td>21.0</td>\n",
       "      <td>6</td>\n",
       "      <td>200.0</td>\n",
       "      <td>85.0</td>\n",
       "      <td>2587</td>\n",
       "      <td>16.0</td>\n",
       "      <td>70</td>\n",
       "      <td>0</td>\n",
       "      <td>0</td>\n",
       "    </tr>\n",
       "    <tr>\n",
       "      <th>18</th>\n",
       "      <td>18</td>\n",
       "      <td>27.0</td>\n",
       "      <td>4</td>\n",
       "      <td>97.0</td>\n",
       "      <td>88.0</td>\n",
       "      <td>2130</td>\n",
       "      <td>14.5</td>\n",
       "      <td>70</td>\n",
       "      <td>0</td>\n",
       "      <td>1</td>\n",
       "    </tr>\n",
       "    <tr>\n",
       "      <th>19</th>\n",
       "      <td>19</td>\n",
       "      <td>26.0</td>\n",
       "      <td>4</td>\n",
       "      <td>97.0</td>\n",
       "      <td>46.0</td>\n",
       "      <td>1835</td>\n",
       "      <td>20.5</td>\n",
       "      <td>70</td>\n",
       "      <td>1</td>\n",
       "      <td>0</td>\n",
       "    </tr>\n",
       "  </tbody>\n",
       "</table>\n",
       "</div>\n",
       "      <button class=\"colab-df-convert\" onclick=\"convertToInteractive('df-857a14e8-99b6-4606-a2f8-77fdf1114ce3')\"\n",
       "              title=\"Convert this dataframe to an interactive table.\"\n",
       "              style=\"display:none;\">\n",
       "        \n",
       "  <svg xmlns=\"http://www.w3.org/2000/svg\" height=\"24px\"viewBox=\"0 0 24 24\"\n",
       "       width=\"24px\">\n",
       "    <path d=\"M0 0h24v24H0V0z\" fill=\"none\"/>\n",
       "    <path d=\"M18.56 5.44l.94 2.06.94-2.06 2.06-.94-2.06-.94-.94-2.06-.94 2.06-2.06.94zm-11 1L8.5 8.5l.94-2.06 2.06-.94-2.06-.94L8.5 2.5l-.94 2.06-2.06.94zm10 10l.94 2.06.94-2.06 2.06-.94-2.06-.94-.94-2.06-.94 2.06-2.06.94z\"/><path d=\"M17.41 7.96l-1.37-1.37c-.4-.4-.92-.59-1.43-.59-.52 0-1.04.2-1.43.59L10.3 9.45l-7.72 7.72c-.78.78-.78 2.05 0 2.83L4 21.41c.39.39.9.59 1.41.59.51 0 1.02-.2 1.41-.59l7.78-7.78 2.81-2.81c.8-.78.8-2.07 0-2.86zM5.41 20L4 18.59l7.72-7.72 1.47 1.35L5.41 20z\"/>\n",
       "  </svg>\n",
       "      </button>\n",
       "      \n",
       "  <style>\n",
       "    .colab-df-container {\n",
       "      display:flex;\n",
       "      flex-wrap:wrap;\n",
       "      gap: 12px;\n",
       "    }\n",
       "\n",
       "    .colab-df-convert {\n",
       "      background-color: #E8F0FE;\n",
       "      border: none;\n",
       "      border-radius: 50%;\n",
       "      cursor: pointer;\n",
       "      display: none;\n",
       "      fill: #1967D2;\n",
       "      height: 32px;\n",
       "      padding: 0 0 0 0;\n",
       "      width: 32px;\n",
       "    }\n",
       "\n",
       "    .colab-df-convert:hover {\n",
       "      background-color: #E2EBFA;\n",
       "      box-shadow: 0px 1px 2px rgba(60, 64, 67, 0.3), 0px 1px 3px 1px rgba(60, 64, 67, 0.15);\n",
       "      fill: #174EA6;\n",
       "    }\n",
       "\n",
       "    [theme=dark] .colab-df-convert {\n",
       "      background-color: #3B4455;\n",
       "      fill: #D2E3FC;\n",
       "    }\n",
       "\n",
       "    [theme=dark] .colab-df-convert:hover {\n",
       "      background-color: #434B5C;\n",
       "      box-shadow: 0px 1px 3px 1px rgba(0, 0, 0, 0.15);\n",
       "      filter: drop-shadow(0px 1px 2px rgba(0, 0, 0, 0.3));\n",
       "      fill: #FFFFFF;\n",
       "    }\n",
       "  </style>\n",
       "\n",
       "      <script>\n",
       "        const buttonEl =\n",
       "          document.querySelector('#df-857a14e8-99b6-4606-a2f8-77fdf1114ce3 button.colab-df-convert');\n",
       "        buttonEl.style.display =\n",
       "          google.colab.kernel.accessAllowed ? 'block' : 'none';\n",
       "\n",
       "        async function convertToInteractive(key) {\n",
       "          const element = document.querySelector('#df-857a14e8-99b6-4606-a2f8-77fdf1114ce3');\n",
       "          const dataTable =\n",
       "            await google.colab.kernel.invokeFunction('convertToInteractive',\n",
       "                                                     [key], {});\n",
       "          if (!dataTable) return;\n",
       "\n",
       "          const docLinkHtml = 'Like what you see? Visit the ' +\n",
       "            '<a target=\"_blank\" href=https://colab.research.google.com/notebooks/data_table.ipynb>data table notebook</a>'\n",
       "            + ' to learn more about interactive tables.';\n",
       "          element.innerHTML = '';\n",
       "          dataTable['output_type'] = 'display_data';\n",
       "          await google.colab.output.renderOutput(dataTable, element);\n",
       "          const docLink = document.createElement('div');\n",
       "          docLink.innerHTML = docLinkHtml;\n",
       "          element.appendChild(docLink);\n",
       "        }\n",
       "      </script>\n",
       "    </div>\n",
       "  </div>\n",
       "  "
      ],
      "text/plain": [
       "    Unnamed: 0   MPG  Cylinders  Displacement  Horsepower  Weight  \\\n",
       "0            0  18.0          8         307.0       130.0    3504   \n",
       "1            1  15.0          8         350.0       165.0    3693   \n",
       "2            2  18.0          8         318.0       150.0    3436   \n",
       "3            3  16.0          8         304.0       150.0    3433   \n",
       "4            4  17.0          8         302.0       140.0    3449   \n",
       "5            5  15.0          8         429.0       198.0    4341   \n",
       "6            6  14.0          8         454.0       220.0    4354   \n",
       "7            7  14.0          8         440.0       215.0    4312   \n",
       "8            8  14.0          8         455.0       225.0    4425   \n",
       "9            9  15.0          8         390.0       190.0    3850   \n",
       "10          10  15.0          8         383.0       170.0    3563   \n",
       "11          11  14.0          8         340.0       160.0    3609   \n",
       "12          12  15.0          8         400.0       150.0    3761   \n",
       "13          13  14.0          8         455.0       225.0    3086   \n",
       "14          14  24.0          4         113.0        95.0    2372   \n",
       "15          15  22.0          6         198.0        95.0    2833   \n",
       "16          16  18.0          6         199.0        97.0    2774   \n",
       "17          17  21.0          6         200.0        85.0    2587   \n",
       "18          18  27.0          4          97.0        88.0    2130   \n",
       "19          19  26.0          4          97.0        46.0    1835   \n",
       "\n",
       "    Acceleration  Model Year  2  3  \n",
       "0           12.0          70  0  0  \n",
       "1           11.5          70  0  0  \n",
       "2           11.0          70  0  0  \n",
       "3           12.0          70  0  0  \n",
       "4           10.5          70  0  0  \n",
       "5           10.0          70  0  0  \n",
       "6            9.0          70  0  0  \n",
       "7            8.5          70  0  0  \n",
       "8           10.0          70  0  0  \n",
       "9            8.5          70  0  0  \n",
       "10          10.0          70  0  0  \n",
       "11           8.0          70  0  0  \n",
       "12           9.5          70  0  0  \n",
       "13          10.0          70  0  0  \n",
       "14          15.0          70  0  1  \n",
       "15          15.5          70  0  0  \n",
       "16          15.5          70  0  0  \n",
       "17          16.0          70  0  0  \n",
       "18          14.5          70  0  1  \n",
       "19          20.5          70  1  0  "
      ]
     },
     "execution_count": 62,
     "metadata": {},
     "output_type": "execute_result"
    }
   ],
   "source": [
    "dm1 = pd.get_dummies(df['Origin'], drop_first = True)\n",
    "df2 = pd.concat([df, dm1], axis = 1)\n",
    "df2 = df2.drop(['Origin'], axis = 1)\n",
    "df2.head(20)"
   ]
  },
  {
   "cell_type": "markdown",
   "metadata": {
    "id": "ULQk5NZ716Wu"
   },
   "source": [
    "ダミー変数化した列の列名を変更"
   ]
  },
  {
   "cell_type": "code",
   "execution_count": null,
   "metadata": {
    "colab": {
     "base_uri": "https://localhost:8080/",
     "height": 676
    },
    "executionInfo": {
     "elapsed": 378,
     "status": "ok",
     "timestamp": 1647332800205,
     "user": {
      "displayName": "松宮正弥",
      "photoUrl": "https://lh3.googleusercontent.com/a/default-user=s64",
      "userId": "03574679515194343736"
     },
     "user_tz": -540
    },
    "id": "Wo-mFB0VCy9x",
    "outputId": "2981b6c2-defd-4a67-9079-629dab8772b4"
   },
   "outputs": [
    {
     "data": {
      "text/html": [
       "\n",
       "  <div id=\"df-8af1f22c-efa9-4eae-ab68-b689b6c110df\">\n",
       "    <div class=\"colab-df-container\">\n",
       "      <div>\n",
       "<style scoped>\n",
       "    .dataframe tbody tr th:only-of-type {\n",
       "        vertical-align: middle;\n",
       "    }\n",
       "\n",
       "    .dataframe tbody tr th {\n",
       "        vertical-align: top;\n",
       "    }\n",
       "\n",
       "    .dataframe thead th {\n",
       "        text-align: right;\n",
       "    }\n",
       "</style>\n",
       "<table border=\"1\" class=\"dataframe\">\n",
       "  <thead>\n",
       "    <tr style=\"text-align: right;\">\n",
       "      <th></th>\n",
       "      <th>Unnamed: 0</th>\n",
       "      <th>MPG</th>\n",
       "      <th>Cylinders</th>\n",
       "      <th>Displacement</th>\n",
       "      <th>Horsepower</th>\n",
       "      <th>Weight</th>\n",
       "      <th>Acceleration</th>\n",
       "      <th>Model Year</th>\n",
       "      <th>eu</th>\n",
       "      <th>ja</th>\n",
       "    </tr>\n",
       "  </thead>\n",
       "  <tbody>\n",
       "    <tr>\n",
       "      <th>0</th>\n",
       "      <td>0</td>\n",
       "      <td>18.0</td>\n",
       "      <td>8</td>\n",
       "      <td>307.0</td>\n",
       "      <td>130.0</td>\n",
       "      <td>3504</td>\n",
       "      <td>12.0</td>\n",
       "      <td>70</td>\n",
       "      <td>0</td>\n",
       "      <td>0</td>\n",
       "    </tr>\n",
       "    <tr>\n",
       "      <th>1</th>\n",
       "      <td>1</td>\n",
       "      <td>15.0</td>\n",
       "      <td>8</td>\n",
       "      <td>350.0</td>\n",
       "      <td>165.0</td>\n",
       "      <td>3693</td>\n",
       "      <td>11.5</td>\n",
       "      <td>70</td>\n",
       "      <td>0</td>\n",
       "      <td>0</td>\n",
       "    </tr>\n",
       "    <tr>\n",
       "      <th>2</th>\n",
       "      <td>2</td>\n",
       "      <td>18.0</td>\n",
       "      <td>8</td>\n",
       "      <td>318.0</td>\n",
       "      <td>150.0</td>\n",
       "      <td>3436</td>\n",
       "      <td>11.0</td>\n",
       "      <td>70</td>\n",
       "      <td>0</td>\n",
       "      <td>0</td>\n",
       "    </tr>\n",
       "    <tr>\n",
       "      <th>3</th>\n",
       "      <td>3</td>\n",
       "      <td>16.0</td>\n",
       "      <td>8</td>\n",
       "      <td>304.0</td>\n",
       "      <td>150.0</td>\n",
       "      <td>3433</td>\n",
       "      <td>12.0</td>\n",
       "      <td>70</td>\n",
       "      <td>0</td>\n",
       "      <td>0</td>\n",
       "    </tr>\n",
       "    <tr>\n",
       "      <th>4</th>\n",
       "      <td>4</td>\n",
       "      <td>17.0</td>\n",
       "      <td>8</td>\n",
       "      <td>302.0</td>\n",
       "      <td>140.0</td>\n",
       "      <td>3449</td>\n",
       "      <td>10.5</td>\n",
       "      <td>70</td>\n",
       "      <td>0</td>\n",
       "      <td>0</td>\n",
       "    </tr>\n",
       "    <tr>\n",
       "      <th>5</th>\n",
       "      <td>5</td>\n",
       "      <td>15.0</td>\n",
       "      <td>8</td>\n",
       "      <td>429.0</td>\n",
       "      <td>198.0</td>\n",
       "      <td>4341</td>\n",
       "      <td>10.0</td>\n",
       "      <td>70</td>\n",
       "      <td>0</td>\n",
       "      <td>0</td>\n",
       "    </tr>\n",
       "    <tr>\n",
       "      <th>6</th>\n",
       "      <td>6</td>\n",
       "      <td>14.0</td>\n",
       "      <td>8</td>\n",
       "      <td>454.0</td>\n",
       "      <td>220.0</td>\n",
       "      <td>4354</td>\n",
       "      <td>9.0</td>\n",
       "      <td>70</td>\n",
       "      <td>0</td>\n",
       "      <td>0</td>\n",
       "    </tr>\n",
       "    <tr>\n",
       "      <th>7</th>\n",
       "      <td>7</td>\n",
       "      <td>14.0</td>\n",
       "      <td>8</td>\n",
       "      <td>440.0</td>\n",
       "      <td>215.0</td>\n",
       "      <td>4312</td>\n",
       "      <td>8.5</td>\n",
       "      <td>70</td>\n",
       "      <td>0</td>\n",
       "      <td>0</td>\n",
       "    </tr>\n",
       "    <tr>\n",
       "      <th>8</th>\n",
       "      <td>8</td>\n",
       "      <td>14.0</td>\n",
       "      <td>8</td>\n",
       "      <td>455.0</td>\n",
       "      <td>225.0</td>\n",
       "      <td>4425</td>\n",
       "      <td>10.0</td>\n",
       "      <td>70</td>\n",
       "      <td>0</td>\n",
       "      <td>0</td>\n",
       "    </tr>\n",
       "    <tr>\n",
       "      <th>9</th>\n",
       "      <td>9</td>\n",
       "      <td>15.0</td>\n",
       "      <td>8</td>\n",
       "      <td>390.0</td>\n",
       "      <td>190.0</td>\n",
       "      <td>3850</td>\n",
       "      <td>8.5</td>\n",
       "      <td>70</td>\n",
       "      <td>0</td>\n",
       "      <td>0</td>\n",
       "    </tr>\n",
       "    <tr>\n",
       "      <th>10</th>\n",
       "      <td>10</td>\n",
       "      <td>15.0</td>\n",
       "      <td>8</td>\n",
       "      <td>383.0</td>\n",
       "      <td>170.0</td>\n",
       "      <td>3563</td>\n",
       "      <td>10.0</td>\n",
       "      <td>70</td>\n",
       "      <td>0</td>\n",
       "      <td>0</td>\n",
       "    </tr>\n",
       "    <tr>\n",
       "      <th>11</th>\n",
       "      <td>11</td>\n",
       "      <td>14.0</td>\n",
       "      <td>8</td>\n",
       "      <td>340.0</td>\n",
       "      <td>160.0</td>\n",
       "      <td>3609</td>\n",
       "      <td>8.0</td>\n",
       "      <td>70</td>\n",
       "      <td>0</td>\n",
       "      <td>0</td>\n",
       "    </tr>\n",
       "    <tr>\n",
       "      <th>12</th>\n",
       "      <td>12</td>\n",
       "      <td>15.0</td>\n",
       "      <td>8</td>\n",
       "      <td>400.0</td>\n",
       "      <td>150.0</td>\n",
       "      <td>3761</td>\n",
       "      <td>9.5</td>\n",
       "      <td>70</td>\n",
       "      <td>0</td>\n",
       "      <td>0</td>\n",
       "    </tr>\n",
       "    <tr>\n",
       "      <th>13</th>\n",
       "      <td>13</td>\n",
       "      <td>14.0</td>\n",
       "      <td>8</td>\n",
       "      <td>455.0</td>\n",
       "      <td>225.0</td>\n",
       "      <td>3086</td>\n",
       "      <td>10.0</td>\n",
       "      <td>70</td>\n",
       "      <td>0</td>\n",
       "      <td>0</td>\n",
       "    </tr>\n",
       "    <tr>\n",
       "      <th>14</th>\n",
       "      <td>14</td>\n",
       "      <td>24.0</td>\n",
       "      <td>4</td>\n",
       "      <td>113.0</td>\n",
       "      <td>95.0</td>\n",
       "      <td>2372</td>\n",
       "      <td>15.0</td>\n",
       "      <td>70</td>\n",
       "      <td>0</td>\n",
       "      <td>1</td>\n",
       "    </tr>\n",
       "    <tr>\n",
       "      <th>15</th>\n",
       "      <td>15</td>\n",
       "      <td>22.0</td>\n",
       "      <td>6</td>\n",
       "      <td>198.0</td>\n",
       "      <td>95.0</td>\n",
       "      <td>2833</td>\n",
       "      <td>15.5</td>\n",
       "      <td>70</td>\n",
       "      <td>0</td>\n",
       "      <td>0</td>\n",
       "    </tr>\n",
       "    <tr>\n",
       "      <th>16</th>\n",
       "      <td>16</td>\n",
       "      <td>18.0</td>\n",
       "      <td>6</td>\n",
       "      <td>199.0</td>\n",
       "      <td>97.0</td>\n",
       "      <td>2774</td>\n",
       "      <td>15.5</td>\n",
       "      <td>70</td>\n",
       "      <td>0</td>\n",
       "      <td>0</td>\n",
       "    </tr>\n",
       "    <tr>\n",
       "      <th>17</th>\n",
       "      <td>17</td>\n",
       "      <td>21.0</td>\n",
       "      <td>6</td>\n",
       "      <td>200.0</td>\n",
       "      <td>85.0</td>\n",
       "      <td>2587</td>\n",
       "      <td>16.0</td>\n",
       "      <td>70</td>\n",
       "      <td>0</td>\n",
       "      <td>0</td>\n",
       "    </tr>\n",
       "    <tr>\n",
       "      <th>18</th>\n",
       "      <td>18</td>\n",
       "      <td>27.0</td>\n",
       "      <td>4</td>\n",
       "      <td>97.0</td>\n",
       "      <td>88.0</td>\n",
       "      <td>2130</td>\n",
       "      <td>14.5</td>\n",
       "      <td>70</td>\n",
       "      <td>0</td>\n",
       "      <td>1</td>\n",
       "    </tr>\n",
       "    <tr>\n",
       "      <th>19</th>\n",
       "      <td>19</td>\n",
       "      <td>26.0</td>\n",
       "      <td>4</td>\n",
       "      <td>97.0</td>\n",
       "      <td>46.0</td>\n",
       "      <td>1835</td>\n",
       "      <td>20.5</td>\n",
       "      <td>70</td>\n",
       "      <td>1</td>\n",
       "      <td>0</td>\n",
       "    </tr>\n",
       "  </tbody>\n",
       "</table>\n",
       "</div>\n",
       "      <button class=\"colab-df-convert\" onclick=\"convertToInteractive('df-8af1f22c-efa9-4eae-ab68-b689b6c110df')\"\n",
       "              title=\"Convert this dataframe to an interactive table.\"\n",
       "              style=\"display:none;\">\n",
       "        \n",
       "  <svg xmlns=\"http://www.w3.org/2000/svg\" height=\"24px\"viewBox=\"0 0 24 24\"\n",
       "       width=\"24px\">\n",
       "    <path d=\"M0 0h24v24H0V0z\" fill=\"none\"/>\n",
       "    <path d=\"M18.56 5.44l.94 2.06.94-2.06 2.06-.94-2.06-.94-.94-2.06-.94 2.06-2.06.94zm-11 1L8.5 8.5l.94-2.06 2.06-.94-2.06-.94L8.5 2.5l-.94 2.06-2.06.94zm10 10l.94 2.06.94-2.06 2.06-.94-2.06-.94-.94-2.06-.94 2.06-2.06.94z\"/><path d=\"M17.41 7.96l-1.37-1.37c-.4-.4-.92-.59-1.43-.59-.52 0-1.04.2-1.43.59L10.3 9.45l-7.72 7.72c-.78.78-.78 2.05 0 2.83L4 21.41c.39.39.9.59 1.41.59.51 0 1.02-.2 1.41-.59l7.78-7.78 2.81-2.81c.8-.78.8-2.07 0-2.86zM5.41 20L4 18.59l7.72-7.72 1.47 1.35L5.41 20z\"/>\n",
       "  </svg>\n",
       "      </button>\n",
       "      \n",
       "  <style>\n",
       "    .colab-df-container {\n",
       "      display:flex;\n",
       "      flex-wrap:wrap;\n",
       "      gap: 12px;\n",
       "    }\n",
       "\n",
       "    .colab-df-convert {\n",
       "      background-color: #E8F0FE;\n",
       "      border: none;\n",
       "      border-radius: 50%;\n",
       "      cursor: pointer;\n",
       "      display: none;\n",
       "      fill: #1967D2;\n",
       "      height: 32px;\n",
       "      padding: 0 0 0 0;\n",
       "      width: 32px;\n",
       "    }\n",
       "\n",
       "    .colab-df-convert:hover {\n",
       "      background-color: #E2EBFA;\n",
       "      box-shadow: 0px 1px 2px rgba(60, 64, 67, 0.3), 0px 1px 3px 1px rgba(60, 64, 67, 0.15);\n",
       "      fill: #174EA6;\n",
       "    }\n",
       "\n",
       "    [theme=dark] .colab-df-convert {\n",
       "      background-color: #3B4455;\n",
       "      fill: #D2E3FC;\n",
       "    }\n",
       "\n",
       "    [theme=dark] .colab-df-convert:hover {\n",
       "      background-color: #434B5C;\n",
       "      box-shadow: 0px 1px 3px 1px rgba(0, 0, 0, 0.15);\n",
       "      filter: drop-shadow(0px 1px 2px rgba(0, 0, 0, 0.3));\n",
       "      fill: #FFFFFF;\n",
       "    }\n",
       "  </style>\n",
       "\n",
       "      <script>\n",
       "        const buttonEl =\n",
       "          document.querySelector('#df-8af1f22c-efa9-4eae-ab68-b689b6c110df button.colab-df-convert');\n",
       "        buttonEl.style.display =\n",
       "          google.colab.kernel.accessAllowed ? 'block' : 'none';\n",
       "\n",
       "        async function convertToInteractive(key) {\n",
       "          const element = document.querySelector('#df-8af1f22c-efa9-4eae-ab68-b689b6c110df');\n",
       "          const dataTable =\n",
       "            await google.colab.kernel.invokeFunction('convertToInteractive',\n",
       "                                                     [key], {});\n",
       "          if (!dataTable) return;\n",
       "\n",
       "          const docLinkHtml = 'Like what you see? Visit the ' +\n",
       "            '<a target=\"_blank\" href=https://colab.research.google.com/notebooks/data_table.ipynb>data table notebook</a>'\n",
       "            + ' to learn more about interactive tables.';\n",
       "          element.innerHTML = '';\n",
       "          dataTable['output_type'] = 'display_data';\n",
       "          await google.colab.output.renderOutput(dataTable, element);\n",
       "          const docLink = document.createElement('div');\n",
       "          docLink.innerHTML = docLinkHtml;\n",
       "          element.appendChild(docLink);\n",
       "        }\n",
       "      </script>\n",
       "    </div>\n",
       "  </div>\n",
       "  "
      ],
      "text/plain": [
       "    Unnamed: 0   MPG  Cylinders  Displacement  Horsepower  Weight  \\\n",
       "0            0  18.0          8         307.0       130.0    3504   \n",
       "1            1  15.0          8         350.0       165.0    3693   \n",
       "2            2  18.0          8         318.0       150.0    3436   \n",
       "3            3  16.0          8         304.0       150.0    3433   \n",
       "4            4  17.0          8         302.0       140.0    3449   \n",
       "5            5  15.0          8         429.0       198.0    4341   \n",
       "6            6  14.0          8         454.0       220.0    4354   \n",
       "7            7  14.0          8         440.0       215.0    4312   \n",
       "8            8  14.0          8         455.0       225.0    4425   \n",
       "9            9  15.0          8         390.0       190.0    3850   \n",
       "10          10  15.0          8         383.0       170.0    3563   \n",
       "11          11  14.0          8         340.0       160.0    3609   \n",
       "12          12  15.0          8         400.0       150.0    3761   \n",
       "13          13  14.0          8         455.0       225.0    3086   \n",
       "14          14  24.0          4         113.0        95.0    2372   \n",
       "15          15  22.0          6         198.0        95.0    2833   \n",
       "16          16  18.0          6         199.0        97.0    2774   \n",
       "17          17  21.0          6         200.0        85.0    2587   \n",
       "18          18  27.0          4          97.0        88.0    2130   \n",
       "19          19  26.0          4          97.0        46.0    1835   \n",
       "\n",
       "    Acceleration  Model Year  eu  ja  \n",
       "0           12.0          70   0   0  \n",
       "1           11.5          70   0   0  \n",
       "2           11.0          70   0   0  \n",
       "3           12.0          70   0   0  \n",
       "4           10.5          70   0   0  \n",
       "5           10.0          70   0   0  \n",
       "6            9.0          70   0   0  \n",
       "7            8.5          70   0   0  \n",
       "8           10.0          70   0   0  \n",
       "9            8.5          70   0   0  \n",
       "10          10.0          70   0   0  \n",
       "11           8.0          70   0   0  \n",
       "12           9.5          70   0   0  \n",
       "13          10.0          70   0   0  \n",
       "14          15.0          70   0   1  \n",
       "15          15.5          70   0   0  \n",
       "16          15.5          70   0   0  \n",
       "17          16.0          70   0   0  \n",
       "18          14.5          70   0   1  \n",
       "19          20.5          70   1   0  "
      ]
     },
     "execution_count": 63,
     "metadata": {},
     "output_type": "execute_result"
    }
   ],
   "source": [
    "df2 = df2.rename(columns={2: 'eu'})\n",
    "df2 = df2.rename(columns={3: 'ja'})\n",
    "df2.head(20)"
   ]
  },
  {
   "cell_type": "markdown",
   "metadata": {
    "id": "ZkcnSU2B23Nz"
   },
   "source": [
    "「訓練データ＆検証データ」と「テストデータ」に分割"
   ]
  },
  {
   "cell_type": "code",
   "execution_count": null,
   "metadata": {
    "id": "8A397v3s-m8A"
   },
   "outputs": [],
   "source": [
    "train_val, test = train_test_split(df2,test_size = 0.2,random_state = 0)"
   ]
  },
  {
   "cell_type": "markdown",
   "metadata": {
    "id": "Xrw0rFY93fpC"
   },
   "source": [
    "欠損値の確認"
   ]
  },
  {
   "cell_type": "code",
   "execution_count": null,
   "metadata": {
    "colab": {
     "base_uri": "https://localhost:8080/"
    },
    "executionInfo": {
     "elapsed": 5,
     "status": "ok",
     "timestamp": 1647332810634,
     "user": {
      "displayName": "松宮正弥",
      "photoUrl": "https://lh3.googleusercontent.com/a/default-user=s64",
      "userId": "03574679515194343736"
     },
     "user_tz": -540
    },
    "id": "HgPy6-M_BiIp",
    "outputId": "4f536012-6a46-4882-d636-6a7bbb6fc998"
   },
   "outputs": [
    {
     "data": {
      "text/plain": [
       "Unnamed: 0      0\n",
       "MPG             0\n",
       "Cylinders       0\n",
       "Displacement    0\n",
       "Horsepower      5\n",
       "Weight          0\n",
       "Acceleration    0\n",
       "Model Year      0\n",
       "eu              0\n",
       "ja              0\n",
       "dtype: int64"
      ]
     },
     "execution_count": 65,
     "metadata": {},
     "output_type": "execute_result"
    }
   ],
   "source": [
    "train_val.isnull().sum()"
   ]
  },
  {
   "cell_type": "markdown",
   "metadata": {
    "id": "9-q2EwnI5ABq"
   },
   "source": [
    "欠損値を教師あり学習により補完\n",
    "\n",
    "①Horsepowerを予測する重回帰の予測モデルを作成"
   ]
  },
  {
   "cell_type": "code",
   "execution_count": null,
   "metadata": {
    "colab": {
     "base_uri": "https://localhost:8080/"
    },
    "executionInfo": {
     "elapsed": 412,
     "status": "ok",
     "timestamp": 1647332823516,
     "user": {
      "displayName": "松宮正弥",
      "photoUrl": "https://lh3.googleusercontent.com/a/default-user=s64",
      "userId": "03574679515194343736"
     },
     "user_tz": -540
    },
    "id": "NNLqr_kgBnLY",
    "outputId": "a2ff1637-f6d8-4545-d5cf-fb29645b3e73"
   },
   "outputs": [
    {
     "data": {
      "text/plain": [
       "LinearRegression()"
      ]
     },
     "execution_count": 66,
     "metadata": {},
     "output_type": "execute_result"
    }
   ],
   "source": [
    "non_df = train_val.dropna() # 欠損値を含む行を削除\n",
    "\n",
    "\n",
    "from sklearn.linear_model import LinearRegression\n",
    "x = non_df.loc[:,[\"MPG\",\"Cylinders\"\t,\"Displacement\",\"Weight\",\"Acceleration\",\"Model Year\",\"eu\",\"ja\"]]\n",
    "t = non_df['Horsepower']\n",
    "model = LinearRegression()\n",
    "model.fit(x,t) # 欠損値予測のためのモデルを予測"
   ]
  },
  {
   "cell_type": "markdown",
   "metadata": {
    "id": "la8htw2s9KlU"
   },
   "source": [
    "②欠損データの本来のデータを予測"
   ]
  },
  {
   "cell_type": "code",
   "execution_count": null,
   "metadata": {
    "id": "s4UwTaEM6Gvk"
   },
   "outputs": [],
   "source": [
    "# 欠損行の抜き出し\n",
    "condition = train_val['Horsepower'].isnull()\n",
    "non_data = train_val.loc[ condition ]\n",
    "\n",
    "\n",
    "# 欠損行の入力に利用する特徴量だけを抜き出して、モデルで予測\n",
    "x = non_data.loc[:,[\"MPG\",\"Cylinders\"\t,\"Displacement\",\"Weight\",\"Acceleration\",\"Model Year\",\"eu\",\"ja\"]]\n",
    "pred = model.predict(x)\n",
    "\n",
    "\n",
    "# 欠損行のHorsepowerのマスを抜き出して、predで代入\n",
    "train_val.loc[condition,'Horsepower']=pred"
   ]
  },
  {
   "cell_type": "markdown",
   "metadata": {
    "id": "lL2vpXth_Exo"
   },
   "source": [
    "欠損データが無くなったことを確認"
   ]
  },
  {
   "cell_type": "code",
   "execution_count": null,
   "metadata": {
    "colab": {
     "base_uri": "https://localhost:8080/"
    },
    "executionInfo": {
     "elapsed": 415,
     "status": "ok",
     "timestamp": 1647332840004,
     "user": {
      "displayName": "松宮正弥",
      "photoUrl": "https://lh3.googleusercontent.com/a/default-user=s64",
      "userId": "03574679515194343736"
     },
     "user_tz": -540
    },
    "id": "K_w4ZYrq-r4u",
    "outputId": "e1c24813-7b41-4cfb-a814-11b54713503b"
   },
   "outputs": [
    {
     "data": {
      "text/plain": [
       "Unnamed: 0      0\n",
       "MPG             0\n",
       "Cylinders       0\n",
       "Displacement    0\n",
       "Horsepower      0\n",
       "Weight          0\n",
       "Acceleration    0\n",
       "Model Year      0\n",
       "eu              0\n",
       "ja              0\n",
       "dtype: int64"
      ]
     },
     "execution_count": 68,
     "metadata": {},
     "output_type": "execute_result"
    }
   ],
   "source": [
    "train_val.isnull().sum()"
   ]
  },
  {
   "cell_type": "markdown",
   "metadata": {
    "id": "0fODbddy_evA"
   },
   "source": [
    "外れ値の処理\n",
    "\n",
    "①各特徴量の列とMPG列の相関関係を示す散布図を描く"
   ]
  },
  {
   "cell_type": "code",
   "execution_count": null,
   "metadata": {
    "colab": {
     "base_uri": "https://localhost:8080/",
     "height": 1000
    },
    "executionInfo": {
     "elapsed": 2596,
     "status": "ok",
     "timestamp": 1647332846793,
     "user": {
      "displayName": "松宮正弥",
      "photoUrl": "https://lh3.googleusercontent.com/a/default-user=s64",
      "userId": "03574679515194343736"
     },
     "user_tz": -540
    },
    "id": "3J-EbzPc_B-N",
    "outputId": "585fb57f-2212-47ca-d23f-bde1ba1530a8"
   },
   "outputs": [
    {
     "data": {
      "image/png": "[encoded data removed]",
      "text/plain": [
       "<Figure size 432x288 with 1 Axes>"
      ]
     },
     "metadata": {
      "needs_background": "light"
     },
     "output_type": "display_data"
    },
    {
     "data": {
      "image/png": "[encoded data removed]",
      "text/plain": [
       "<Figure size 432x288 with 1 Axes>"
      ]
     },
     "metadata": {
      "needs_background": "light"
     },
     "output_type": "display_data"
    },
    {
     "data": {
      "image/png": "[encoded data removed]",
      "text/plain": [
       "<Figure size 432x288 with 1 Axes>"
      ]
     },
     "metadata": {
      "needs_background": "light"
     },
     "output_type": "display_data"
    },
    {
     "data": {
      "image/png": "[encoded data removed]",
      "text/plain": [
       "<Figure size 432x288 with 1 Axes>"
      ]
     },
     "metadata": {
      "needs_background": "light"
     },
     "output_type": "display_data"
    },
    {
     "data": {
      "image/png": "[encoded data removed]",
      "text/plain": [
       "<Figure size 432x288 with 1 Axes>"
      ]
     },
     "metadata": {
      "needs_background": "light"
     },
     "output_type": "display_data"
    },
    {
     "data": {
      "image/png": "[encoded data removed]",
      "text/plain": [
       "<Figure size 432x288 with 1 Axes>"
      ]
     },
     "metadata": {
      "needs_background": "light"
     },
     "output_type": "display_data"
    },
    {
     "data": {
      "image/png": "[encoded data removed]",
      "text/plain": [
       "<Figure size 432x288 with 1 Axes>"
      ]
     },
     "metadata": {
      "needs_background": "light"
     },
     "output_type": "display_data"
    },
    {
     "data": {
      "image/png": "[encoded data removed]",
      "text/plain": [
       "<Figure size 432x288 with 1 Axes>"
      ]
     },
     "metadata": {
      "needs_background": "light"
     },
     "output_type": "display_data"
    },
    {
     "data": {
      "image/png": "[encoded data removed]",
      "text/plain": [
       "<Figure size 432x288 with 1 Axes>"
      ]
     },
     "metadata": {
      "needs_background": "light"
     },
     "output_type": "display_data"
    },
    {
     "data": {
      "image/png": "[encoded data removed]",
      "text/plain": [
       "<Figure size 432x288 with 1 Axes>"
      ]
     },
     "metadata": {
      "needs_background": "light"
     },
     "output_type": "display_data"
    }
   ],
   "source": [
    "colname = train_val.columns\n",
    "for name in colname:\n",
    "    train_val.plot(kind = 'scatter', x = name, y = 'MPG')"
   ]
  },
  {
   "cell_type": "markdown",
   "metadata": {
    "id": "d3urXwg0SG1t"
   },
   "source": [
    "マハラノビス距離を計算"
   ]
  },
  {
   "cell_type": "markdown",
   "metadata": {
    "id": "DJuojMe-Jndm"
   },
   "source": [
    "まずはインデックスをリセット（**紆余曲折の結果、この処理にたどり着く**）"
   ]
  },
  {
   "cell_type": "code",
   "execution_count": null,
   "metadata": {
    "colab": {
     "base_uri": "https://localhost:8080/",
     "height": 424
    },
    "executionInfo": {
     "elapsed": 435,
     "status": "ok",
     "timestamp": 1647332851693,
     "user": {
      "displayName": "松宮正弥",
      "photoUrl": "https://lh3.googleusercontent.com/a/default-user=s64",
      "userId": "03574679515194343736"
     },
     "user_tz": -540
    },
    "id": "Q14rdf7taSg9",
    "outputId": "a6ff2d07-bf3e-4b09-a855-72c2dc5d2b31"
   },
   "outputs": [
    {
     "data": {
      "text/html": [
       "\n",
       "  <div id=\"df-819ba55a-be8a-4f1d-917c-370175cc56d4\">\n",
       "    <div class=\"colab-df-container\">\n",
       "      <div>\n",
       "<style scoped>\n",
       "    .dataframe tbody tr th:only-of-type {\n",
       "        vertical-align: middle;\n",
       "    }\n",
       "\n",
       "    .dataframe tbody tr th {\n",
       "        vertical-align: top;\n",
       "    }\n",
       "\n",
       "    .dataframe thead th {\n",
       "        text-align: right;\n",
       "    }\n",
       "</style>\n",
       "<table border=\"1\" class=\"dataframe\">\n",
       "  <thead>\n",
       "    <tr style=\"text-align: right;\">\n",
       "      <th></th>\n",
       "      <th>index</th>\n",
       "      <th>Unnamed: 0</th>\n",
       "      <th>MPG</th>\n",
       "      <th>Cylinders</th>\n",
       "      <th>Displacement</th>\n",
       "      <th>Horsepower</th>\n",
       "      <th>Weight</th>\n",
       "      <th>Acceleration</th>\n",
       "      <th>Model Year</th>\n",
       "      <th>eu</th>\n",
       "      <th>ja</th>\n",
       "    </tr>\n",
       "  </thead>\n",
       "  <tbody>\n",
       "    <tr>\n",
       "      <th>0</th>\n",
       "      <td>64</td>\n",
       "      <td>64</td>\n",
       "      <td>15.0</td>\n",
       "      <td>8</td>\n",
       "      <td>318.0</td>\n",
       "      <td>150.0</td>\n",
       "      <td>4135</td>\n",
       "      <td>13.5</td>\n",
       "      <td>72</td>\n",
       "      <td>0</td>\n",
       "      <td>0</td>\n",
       "    </tr>\n",
       "    <tr>\n",
       "      <th>1</th>\n",
       "      <td>55</td>\n",
       "      <td>55</td>\n",
       "      <td>27.0</td>\n",
       "      <td>4</td>\n",
       "      <td>97.0</td>\n",
       "      <td>60.0</td>\n",
       "      <td>1834</td>\n",
       "      <td>19.0</td>\n",
       "      <td>71</td>\n",
       "      <td>1</td>\n",
       "      <td>0</td>\n",
       "    </tr>\n",
       "    <tr>\n",
       "      <th>2</th>\n",
       "      <td>317</td>\n",
       "      <td>317</td>\n",
       "      <td>34.3</td>\n",
       "      <td>4</td>\n",
       "      <td>97.0</td>\n",
       "      <td>78.0</td>\n",
       "      <td>2188</td>\n",
       "      <td>15.8</td>\n",
       "      <td>80</td>\n",
       "      <td>1</td>\n",
       "      <td>0</td>\n",
       "    </tr>\n",
       "    <tr>\n",
       "      <th>3</th>\n",
       "      <td>102</td>\n",
       "      <td>102</td>\n",
       "      <td>26.0</td>\n",
       "      <td>4</td>\n",
       "      <td>97.0</td>\n",
       "      <td>46.0</td>\n",
       "      <td>1950</td>\n",
       "      <td>21.0</td>\n",
       "      <td>73</td>\n",
       "      <td>1</td>\n",
       "      <td>0</td>\n",
       "    </tr>\n",
       "    <tr>\n",
       "      <th>4</th>\n",
       "      <td>358</td>\n",
       "      <td>358</td>\n",
       "      <td>31.6</td>\n",
       "      <td>4</td>\n",
       "      <td>120.0</td>\n",
       "      <td>74.0</td>\n",
       "      <td>2635</td>\n",
       "      <td>18.3</td>\n",
       "      <td>81</td>\n",
       "      <td>0</td>\n",
       "      <td>1</td>\n",
       "    </tr>\n",
       "    <tr>\n",
       "      <th>...</th>\n",
       "      <td>...</td>\n",
       "      <td>...</td>\n",
       "      <td>...</td>\n",
       "      <td>...</td>\n",
       "      <td>...</td>\n",
       "      <td>...</td>\n",
       "      <td>...</td>\n",
       "      <td>...</td>\n",
       "      <td>...</td>\n",
       "      <td>...</td>\n",
       "      <td>...</td>\n",
       "    </tr>\n",
       "    <tr>\n",
       "      <th>313</th>\n",
       "      <td>323</td>\n",
       "      <td>323</td>\n",
       "      <td>27.9</td>\n",
       "      <td>4</td>\n",
       "      <td>156.0</td>\n",
       "      <td>105.0</td>\n",
       "      <td>2800</td>\n",
       "      <td>14.4</td>\n",
       "      <td>80</td>\n",
       "      <td>0</td>\n",
       "      <td>0</td>\n",
       "    </tr>\n",
       "    <tr>\n",
       "      <th>314</th>\n",
       "      <td>192</td>\n",
       "      <td>192</td>\n",
       "      <td>22.0</td>\n",
       "      <td>6</td>\n",
       "      <td>250.0</td>\n",
       "      <td>105.0</td>\n",
       "      <td>3353</td>\n",
       "      <td>14.5</td>\n",
       "      <td>76</td>\n",
       "      <td>0</td>\n",
       "      <td>0</td>\n",
       "    </tr>\n",
       "    <tr>\n",
       "      <th>315</th>\n",
       "      <td>117</td>\n",
       "      <td>117</td>\n",
       "      <td>29.0</td>\n",
       "      <td>4</td>\n",
       "      <td>68.0</td>\n",
       "      <td>49.0</td>\n",
       "      <td>1867</td>\n",
       "      <td>19.5</td>\n",
       "      <td>73</td>\n",
       "      <td>1</td>\n",
       "      <td>0</td>\n",
       "    </tr>\n",
       "    <tr>\n",
       "      <th>316</th>\n",
       "      <td>47</td>\n",
       "      <td>47</td>\n",
       "      <td>19.0</td>\n",
       "      <td>6</td>\n",
       "      <td>250.0</td>\n",
       "      <td>100.0</td>\n",
       "      <td>3282</td>\n",
       "      <td>15.0</td>\n",
       "      <td>71</td>\n",
       "      <td>0</td>\n",
       "      <td>0</td>\n",
       "    </tr>\n",
       "    <tr>\n",
       "      <th>317</th>\n",
       "      <td>172</td>\n",
       "      <td>172</td>\n",
       "      <td>25.0</td>\n",
       "      <td>4</td>\n",
       "      <td>90.0</td>\n",
       "      <td>71.0</td>\n",
       "      <td>2223</td>\n",
       "      <td>16.5</td>\n",
       "      <td>75</td>\n",
       "      <td>1</td>\n",
       "      <td>0</td>\n",
       "    </tr>\n",
       "  </tbody>\n",
       "</table>\n",
       "<p>318 rows × 11 columns</p>\n",
       "</div>\n",
       "      <button class=\"colab-df-convert\" onclick=\"convertToInteractive('df-819ba55a-be8a-4f1d-917c-370175cc56d4')\"\n",
       "              title=\"Convert this dataframe to an interactive table.\"\n",
       "              style=\"display:none;\">\n",
       "        \n",
       "  <svg xmlns=\"http://www.w3.org/2000/svg\" height=\"24px\"viewBox=\"0 0 24 24\"\n",
       "       width=\"24px\">\n",
       "    <path d=\"M0 0h24v24H0V0z\" fill=\"none\"/>\n",
       "    <path d=\"M18.56 5.44l.94 2.06.94-2.06 2.06-.94-2.06-.94-.94-2.06-.94 2.06-2.06.94zm-11 1L8.5 8.5l.94-2.06 2.06-.94-2.06-.94L8.5 2.5l-.94 2.06-2.06.94zm10 10l.94 2.06.94-2.06 2.06-.94-2.06-.94-.94-2.06-.94 2.06-2.06.94z\"/><path d=\"M17.41 7.96l-1.37-1.37c-.4-.4-.92-.59-1.43-.59-.52 0-1.04.2-1.43.59L10.3 9.45l-7.72 7.72c-.78.78-.78 2.05 0 2.83L4 21.41c.39.39.9.59 1.41.59.51 0 1.02-.2 1.41-.59l7.78-7.78 2.81-2.81c.8-.78.8-2.07 0-2.86zM5.41 20L4 18.59l7.72-7.72 1.47 1.35L5.41 20z\"/>\n",
       "  </svg>\n",
       "      </button>\n",
       "      \n",
       "  <style>\n",
       "    .colab-df-container {\n",
       "      display:flex;\n",
       "      flex-wrap:wrap;\n",
       "      gap: 12px;\n",
       "    }\n",
       "\n",
       "    .colab-df-convert {\n",
       "      background-color: #E8F0FE;\n",
       "      border: none;\n",
       "      border-radius: 50%;\n",
       "      cursor: pointer;\n",
       "      display: none;\n",
       "      fill: #1967D2;\n",
       "      height: 32px;\n",
       "      padding: 0 0 0 0;\n",
       "      width: 32px;\n",
       "    }\n",
       "\n",
       "    .colab-df-convert:hover {\n",
       "      background-color: #E2EBFA;\n",
       "      box-shadow: 0px 1px 2px rgba(60, 64, 67, 0.3), 0px 1px 3px 1px rgba(60, 64, 67, 0.15);\n",
       "      fill: #174EA6;\n",
       "    }\n",
       "\n",
       "    [theme=dark] .colab-df-convert {\n",
       "      background-color: #3B4455;\n",
       "      fill: #D2E3FC;\n",
       "    }\n",
       "\n",
       "    [theme=dark] .colab-df-convert:hover {\n",
       "      background-color: #434B5C;\n",
       "      box-shadow: 0px 1px 3px 1px rgba(0, 0, 0, 0.15);\n",
       "      filter: drop-shadow(0px 1px 2px rgba(0, 0, 0, 0.3));\n",
       "      fill: #FFFFFF;\n",
       "    }\n",
       "  </style>\n",
       "\n",
       "      <script>\n",
       "        const buttonEl =\n",
       "          document.querySelector('#df-819ba55a-be8a-4f1d-917c-370175cc56d4 button.colab-df-convert');\n",
       "        buttonEl.style.display =\n",
       "          google.colab.kernel.accessAllowed ? 'block' : 'none';\n",
       "\n",
       "        async function convertToInteractive(key) {\n",
       "          const element = document.querySelector('#df-819ba55a-be8a-4f1d-917c-370175cc56d4');\n",
       "          const dataTable =\n",
       "            await google.colab.kernel.invokeFunction('convertToInteractive',\n",
       "                                                     [key], {});\n",
       "          if (!dataTable) return;\n",
       "\n",
       "          const docLinkHtml = 'Like what you see? Visit the ' +\n",
       "            '<a target=\"_blank\" href=https://colab.research.google.com/notebooks/data_table.ipynb>data table notebook</a>'\n",
       "            + ' to learn more about interactive tables.';\n",
       "          element.innerHTML = '';\n",
       "          dataTable['output_type'] = 'display_data';\n",
       "          await google.colab.output.renderOutput(dataTable, element);\n",
       "          const docLink = document.createElement('div');\n",
       "          docLink.innerHTML = docLinkHtml;\n",
       "          element.appendChild(docLink);\n",
       "        }\n",
       "      </script>\n",
       "    </div>\n",
       "  </div>\n",
       "  "
      ],
      "text/plain": [
       "     index  Unnamed: 0   MPG  Cylinders  Displacement  Horsepower  Weight  \\\n",
       "0       64          64  15.0          8         318.0       150.0    4135   \n",
       "1       55          55  27.0          4          97.0        60.0    1834   \n",
       "2      317         317  34.3          4          97.0        78.0    2188   \n",
       "3      102         102  26.0          4          97.0        46.0    1950   \n",
       "4      358         358  31.6          4         120.0        74.0    2635   \n",
       "..     ...         ...   ...        ...           ...         ...     ...   \n",
       "313    323         323  27.9          4         156.0       105.0    2800   \n",
       "314    192         192  22.0          6         250.0       105.0    3353   \n",
       "315    117         117  29.0          4          68.0        49.0    1867   \n",
       "316     47          47  19.0          6         250.0       100.0    3282   \n",
       "317    172         172  25.0          4          90.0        71.0    2223   \n",
       "\n",
       "     Acceleration  Model Year  eu  ja  \n",
       "0            13.5          72   0   0  \n",
       "1            19.0          71   1   0  \n",
       "2            15.8          80   1   0  \n",
       "3            21.0          73   1   0  \n",
       "4            18.3          81   0   1  \n",
       "..            ...         ...  ..  ..  \n",
       "313          14.4          80   0   0  \n",
       "314          14.5          76   0   0  \n",
       "315          19.5          73   1   0  \n",
       "316          15.0          71   0   0  \n",
       "317          16.5          75   1   0  \n",
       "\n",
       "[318 rows x 11 columns]"
      ]
     },
     "execution_count": 70,
     "metadata": {},
     "output_type": "execute_result"
    }
   ],
   "source": [
    "train_val = train_val.reset_index()\n",
    "train_val"
   ]
  },
  {
   "cell_type": "code",
   "execution_count": null,
   "metadata": {
    "colab": {
     "base_uri": "https://localhost:8080/"
    },
    "executionInfo": {
     "elapsed": 413,
     "status": "ok",
     "timestamp": 1647332876032,
     "user": {
      "displayName": "松宮正弥",
      "photoUrl": "https://lh3.googleusercontent.com/a/default-user=s64",
      "userId": "03574679515194343736"
     },
     "user_tz": -540
    },
    "id": "p5R_WlSQYXxZ",
    "outputId": "1584622a-b422-4243-c556-66f577d1a89e"
   },
   "outputs": [
    {
     "data": {
      "text/plain": [
       "array([  5.71925124,  18.1217061 ,  10.90479324,  22.45470715,\n",
       "         8.23685417,   5.49539591,   5.13696956,   4.95729653,\n",
       "        48.06210028,  15.01396708,  20.19450757, 105.42299579,\n",
       "        26.68742976,   9.81681071,  40.81040874,   6.8433779 ,\n",
       "        30.36526923,  11.07108449,   6.30347641,  25.56620178,\n",
       "         8.17054759,   7.84141087,   6.38751555,  10.81619184,\n",
       "        11.57677628,   6.8789968 ,   9.83457583,  18.50982362,\n",
       "         4.34984342,  12.96278286,   9.32232711,   8.44420325,\n",
       "         7.00652841,   7.4872979 ,  10.4696218 ,   4.73802322,\n",
       "        10.27921955,   5.45835902,   5.23698778,  38.62454051,\n",
       "         9.11114263,  10.08780901,   9.95462407,  16.03216878,\n",
       "         5.25703537,  23.55929408,   5.34941245,   6.23841134,\n",
       "         6.23951757,   8.31001854,   6.76780433,  11.09233096,\n",
       "         1.97819286,   4.02217194,  11.08662748,  87.04283236,\n",
       "        19.3931783 ,   9.0903769 ,   7.97941536,   3.2249125 ,\n",
       "        14.64904734,   7.49743087,   7.58622614,  25.02873974,\n",
       "         7.9677199 ,  33.08449002,  10.9484668 ,  79.29724018,\n",
       "        37.52613138,  15.20050539,   6.89387705,  13.86195911,\n",
       "        29.90740438,   7.47145321,  18.51063111,   3.41627608,\n",
       "        16.12988467,  27.57700621,   2.15741706,   9.38712799,\n",
       "        11.94242126,   8.80175581,   8.58358899,   6.3784092 ,\n",
       "         9.80377212,   2.48955357,  14.28612388,   9.53081588,\n",
       "         5.286012  ,   2.05891843,   8.0317397 ,  13.44026993,\n",
       "         6.5710571 ,  19.42905213,  21.26042033,  10.70760838,\n",
       "         6.6264969 ,   4.8617406 ,  12.6724731 ,   8.51131   ,\n",
       "         9.8145815 ,   9.9276896 ,   5.0959116 ,  12.79495866,\n",
       "         9.9233082 ,   8.79064057,   9.41655913,   2.27912254,\n",
       "        20.95614773,  73.35989046,  11.30174122,  57.43864556,\n",
       "        11.63115306,   9.58725246,  23.24338282,  25.77624283,\n",
       "        11.55707431,   7.8767433 ,   9.78254852,   4.68443716,\n",
       "         5.59568464,   8.58379059,  58.25400274,  15.19533045,\n",
       "         5.7215681 ,   8.32056686,   4.91635141,  14.59241485,\n",
       "        50.00538301,   7.91196618,   8.66485048,  31.73870755,\n",
       "         5.276461  ,   9.17093328,   5.83495677,  38.50396168,\n",
       "        18.62966587,  18.99939943,   5.79540974,   4.77339307,\n",
       "         7.6264321 ,  11.20295185,   6.12509601,   9.60197572,\n",
       "        17.50445217,  13.67316117,  34.56395122, 234.25133009,\n",
       "        10.95854429,   7.12509878,   8.49793997,   7.49608705,\n",
       "         7.81862291,  15.79222105,  20.53762752,   8.4928692 ,\n",
       "        10.79555438,   9.71368781,  16.0705963 ,   8.81620336,\n",
       "         4.94865774,   5.16426253,   5.78167569,   8.57403099,\n",
       "        12.3176533 ,   9.27251171,   6.97826895,   3.59094775,\n",
       "         6.60704166,   8.50177224,   4.86600854,  10.58023317,\n",
       "        61.89489679,   5.34209206,   7.75175303,   6.37430587,\n",
       "        19.89586814,   5.32890309,   8.35677633,   7.31968853,\n",
       "        12.54791349,  24.96355965,   1.75843862,   6.29689244,\n",
       "         9.99403384,  32.19280645,   3.92496824,  10.27270371,\n",
       "         4.98059687,  37.14465046,   9.48163579,  14.64846486,\n",
       "         6.61019284,  11.67216484,   7.19898873,   1.63196489,\n",
       "        15.74965971,  29.56493325,   7.05787618,   4.90910448,\n",
       "        16.15012642,   9.62112379,   9.37809898,   5.69211954,\n",
       "        18.52322665,  10.90584656,  28.64979837,   7.65351391,\n",
       "        11.0940815 ,  24.73845369,  24.33303464,  25.04694614,\n",
       "         6.67249761,  15.13495039,   4.87522846,   9.89417462,\n",
       "        15.96124215,  23.5210155 ,   9.29588856,   3.46735402,\n",
       "        15.26392025,   8.29156491,   7.55943202,  11.34943327,\n",
       "         2.61527648,  65.11189793,  13.87260168,  78.44404844,\n",
       "         5.54702553,   4.7650718 ,   6.51570622,   5.92779369,\n",
       "        16.98343232,  15.41030332,   5.45869617,   5.2268783 ,\n",
       "         9.4073386 ,   7.78696621,  12.24382507,  18.84382049,\n",
       "         7.83839334,   6.30877289,  11.73330926,  13.32771229,\n",
       "         8.92376908,  10.44459617,   8.84714498,  48.06781919,\n",
       "        23.12040369,  11.59811701,   8.54761693,  12.39810609,\n",
       "        12.84274054,   9.77799843,   6.10727706,   5.61088099,\n",
       "        10.82253305,  21.45803034,  10.6997568 ,  16.83950767,\n",
       "        12.88387576,   7.15878603,   8.4864875 ,  14.10586024,\n",
       "         7.07871473,   7.08357387,   8.71624604,  69.08064265,\n",
       "         9.97450864,  10.8193611 ,   8.99098047,  59.33792392,\n",
       "        12.24348193,  10.7497086 ,  10.69887723,   5.34170682,\n",
       "         7.00705337,   7.42072949,   6.65222976,  37.30418154,\n",
       "         8.73623769,   6.53183349,  10.80647155,   8.61285941,\n",
       "         5.14399997,   5.03326932,  16.417343  ,   8.27234424,\n",
       "        35.83794558,   6.1305615 ,   4.4183117 ,   6.05752205,\n",
       "        24.18091161,  56.33764559,  13.08057769,   4.89334861,\n",
       "         6.23171119,  17.87286395,   8.79822157,  25.35329156,\n",
       "         5.80508885,   5.69968682,   5.76258167,  33.59992334,\n",
       "         5.76961007,  13.50802153,  15.55974627,  40.20794824,\n",
       "        37.62900046,  38.53152924,  25.59361329,  16.81831781,\n",
       "         6.38770624,   8.95391995,   5.610722  ,  15.30355435,\n",
       "         9.630496  ,   7.97823397])"
      ]
     },
     "execution_count": 71,
     "metadata": {},
     "output_type": "execute_result"
    }
   ],
   "source": [
    "from sklearn.covariance import MinCovDet\n",
    "\n",
    "#数値列を適当に取り出す\n",
    "# train_val2=train_val.loc[:,[\"MPG\",\"Displacement\",\"Horsepower\",\"Weight\",\"Acceleration\"]]\n",
    "train_val2=train_val.loc[:,\"MPG\":\"ja\"]\n",
    "#train_val2=train_val2.dropna()#欠損値を削除\n",
    "\n",
    "#train_val2に対して、各データの中心点からのマハラノビス距離を計算\n",
    "\n",
    "mcd = MinCovDet(random_state=0,support_fraction=0.7)\n",
    "mcd.fit(train_val2)\n",
    "#マハラノビス距離\n",
    "distance = mcd.mahalanobis(train_val2)\n",
    "distance"
   ]
  },
  {
   "cell_type": "code",
   "execution_count": null,
   "metadata": {
    "colab": {
     "base_uri": "https://localhost:8080/"
    },
    "executionInfo": {
     "elapsed": 384,
     "status": "ok",
     "timestamp": 1647329731724,
     "user": {
      "displayName": "松宮正弥",
      "photoUrl": "https://lh3.googleusercontent.com/a/default-user=s64",
      "userId": "03574679515194343736"
     },
     "user_tz": -540
    },
    "id": "vaDxti1JU0dc",
    "outputId": "d94cae6d-f5e7-44e2-89a4-221709bd3eec"
   },
   "outputs": [
    {
     "data": {
      "text/plain": [
       "RangeIndex(start=0, stop=318, step=1)"
      ]
     },
     "execution_count": 19,
     "metadata": {},
     "output_type": "execute_result"
    }
   ],
   "source": [
    "train_val2.index"
   ]
  },
  {
   "cell_type": "code",
   "execution_count": null,
   "metadata": {
    "colab": {
     "base_uri": "https://localhost:8080/"
    },
    "executionInfo": {
     "elapsed": 443,
     "status": "ok",
     "timestamp": 1647329735891,
     "user": {
      "displayName": "松宮正弥",
      "photoUrl": "https://lh3.googleusercontent.com/a/default-user=s64",
      "userId": "03574679515194343736"
     },
     "user_tz": -540
    },
    "id": "QxGXE_jyPo9c",
    "outputId": "1e2909be-bf09-4371-b343-4444ae427373"
   },
   "outputs": [
    {
     "data": {
      "text/plain": [
       "(318, 9)"
      ]
     },
     "execution_count": 20,
     "metadata": {},
     "output_type": "execute_result"
    }
   ],
   "source": [
    "train_val2.shape"
   ]
  },
  {
   "cell_type": "markdown",
   "metadata": {
    "id": "Iy59Q4XiVCQF"
   },
   "source": [
    "箱ひげ図で外れ値を見てみる"
   ]
  },
  {
   "cell_type": "code",
   "execution_count": null,
   "metadata": {
    "colab": {
     "base_uri": "https://localhost:8080/",
     "height": 283
    },
    "executionInfo": {
     "elapsed": 408,
     "status": "ok",
     "timestamp": 1647332884760,
     "user": {
      "displayName": "松宮正弥",
      "photoUrl": "https://lh3.googleusercontent.com/a/default-user=s64",
      "userId": "03574679515194343736"
     },
     "user_tz": -540
    },
    "id": "Y0lgYyaOU7OM",
    "outputId": "2d239d3f-aec4-4fa5-bc17-af70c53d5f9f"
   },
   "outputs": [
    {
     "data": {
      "text/plain": [
       "<matplotlib.axes._subplots.AxesSubplot at 0x7fbddc47dd50>"
      ]
     },
     "execution_count": 72,
     "metadata": {},
     "output_type": "execute_result"
    },
    {
     "data": {
      "image/png": "[encoded data removed]",
      "text/plain": [
       "<Figure size 432x288 with 1 Axes>"
      ]
     },
     "metadata": {
      "needs_background": "light"
     },
     "output_type": "display_data"
    }
   ],
   "source": [
    "distance=pd.Series(distance)\n",
    "distance.plot(kind=\"box\")"
   ]
  },
  {
   "cell_type": "markdown",
   "metadata": {
    "id": "Y7nU3PL-q2F_"
   },
   "source": [
    "基本統計量を計算する"
   ]
  },
  {
   "cell_type": "code",
   "execution_count": null,
   "metadata": {
    "colab": {
     "base_uri": "https://localhost:8080/"
    },
    "executionInfo": {
     "elapsed": 782,
     "status": "ok",
     "timestamp": 1647332890972,
     "user": {
      "displayName": "松宮正弥",
      "photoUrl": "https://lh3.googleusercontent.com/a/default-user=s64",
      "userId": "03574679515194343736"
     },
     "user_tz": -540
    },
    "id": "pEDlXyeWVLgo",
    "outputId": "58720e09-1106-41d6-e2af-d17fccc45f32"
   },
   "outputs": [
    {
     "data": {
      "text/plain": [
       "count    318.000000\n",
       "mean      15.125743\n",
       "std       18.972215\n",
       "min        1.631965\n",
       "25%        6.614269\n",
       "50%        9.594614\n",
       "75%       15.702181\n",
       "max      234.251330\n",
       "dtype: float64"
      ]
     },
     "execution_count": 73,
     "metadata": {},
     "output_type": "execute_result"
    }
   ],
   "source": [
    "tmp=distance.describe()#様々な基本統計量を計算\n",
    "tmp"
   ]
  },
  {
   "cell_type": "markdown",
   "metadata": {
    "id": "ml2R9RVHq6vS"
   },
   "source": [
    "四分位範囲を用いて外れ値を判定する"
   ]
  },
  {
   "cell_type": "code",
   "execution_count": null,
   "metadata": {
    "colab": {
     "base_uri": "https://localhost:8080/"
    },
    "executionInfo": {
     "elapsed": 570,
     "status": "ok",
     "timestamp": 1647332897339,
     "user": {
      "displayName": "松宮正弥",
      "photoUrl": "https://lh3.googleusercontent.com/a/default-user=s64",
      "userId": "03574679515194343736"
     },
     "user_tz": -540
    },
    "id": "puWZi9ESVW48",
    "outputId": "43f08d78-7ec3-4816-a960-4e0f89afb43e"
   },
   "outputs": [
    {
     "data": {
      "text/plain": [
       "8       48.062100\n",
       "11     105.422996\n",
       "14      40.810409\n",
       "16      30.365269\n",
       "39      38.624541\n",
       "55      87.042832\n",
       "65      33.084490\n",
       "67      79.297240\n",
       "68      37.526131\n",
       "72      29.907404\n",
       "109     73.359890\n",
       "111     57.438646\n",
       "122     58.254003\n",
       "128     50.005383\n",
       "131     31.738708\n",
       "135     38.503962\n",
       "146     34.563951\n",
       "147    234.251330\n",
       "172     61.894897\n",
       "185     32.192806\n",
       "189     37.144650\n",
       "197     29.564933\n",
       "225     65.111898\n",
       "227     78.444048\n",
       "247     48.067819\n",
       "267     69.080643\n",
       "271     59.337924\n",
       "279     37.304182\n",
       "288     35.837946\n",
       "293     56.337646\n",
       "303     33.599923\n",
       "307     40.207948\n",
       "308     37.629000\n",
       "309     38.531529\n",
       "dtype: float64"
      ]
     },
     "execution_count": 74,
     "metadata": {},
     "output_type": "execute_result"
    }
   ],
   "source": [
    "IQR = tmp['75%'] -tmp['25%']#IQR計算\n",
    "jougen = 1.5*(IQR) + tmp['75%'] # 上限値\n",
    "kagen = tmp['25%'] -1.5*(IQR) # 下限値\n",
    "\n",
    "# 上限と下限の条件をもとに、シリーズで条件検索\n",
    "outliner = distance[ (distance > jougen) | (distance < kagen) ]\n",
    "outliner"
   ]
  },
  {
   "cell_type": "markdown",
   "metadata": {
    "id": "P_YraHrGrMpw"
   },
   "source": [
    "外れ値のインデックスを求めて"
   ]
  },
  {
   "cell_type": "code",
   "execution_count": null,
   "metadata": {
    "colab": {
     "base_uri": "https://localhost:8080/"
    },
    "executionInfo": {
     "elapsed": 560,
     "status": "ok",
     "timestamp": 1647332903009,
     "user": {
      "displayName": "松宮正弥",
      "photoUrl": "https://lh3.googleusercontent.com/a/default-user=s64",
      "userId": "03574679515194343736"
     },
     "user_tz": -540
    },
    "id": "tKy3XF3ze6ug",
    "outputId": "aa35852e-d4fb-4272-a57e-f35794ade274"
   },
   "outputs": [
    {
     "data": {
      "text/plain": [
       "Int64Index([  8,  11,  14,  16,  39,  55,  65,  67,  68,  72, 109, 111, 122,\n",
       "            128, 131, 135, 146, 147, 172, 185, 189, 197, 225, 227, 247, 267,\n",
       "            271, 279, 288, 293, 303, 307, 308, 309],\n",
       "           dtype='int64')"
      ]
     },
     "execution_count": 75,
     "metadata": {},
     "output_type": "execute_result"
    }
   ],
   "source": [
    "outliner.index"
   ]
  },
  {
   "cell_type": "markdown",
   "metadata": {
    "id": "P4G0cZMbrSr9"
   },
   "source": [
    "そのインデックスをもとに外れ値を削除"
   ]
  },
  {
   "cell_type": "code",
   "execution_count": null,
   "metadata": {
    "id": "_FC4qwRMJwh4"
   },
   "outputs": [],
   "source": [
    "train_val2.drop([  8,  11,  14,  16,  39,  55,  65,  67,  68,  72, 109, 111, 122,128, 131, 135, 146, 147, 172, 185, 189, 197, 225, 227, 247, 267,271, 279, 288, 293, 303, 307, 308, 309], inplace=True)"
   ]
  },
  {
   "cell_type": "code",
   "execution_count": null,
   "metadata": {
    "colab": {
     "base_uri": "https://localhost:8080/"
    },
    "executionInfo": {
     "elapsed": 3,
     "status": "ok",
     "timestamp": 1647332929412,
     "user": {
      "displayName": "松宮正弥",
      "photoUrl": "https://lh3.googleusercontent.com/a/default-user=s64",
      "userId": "03574679515194343736"
     },
     "user_tz": -540
    },
    "id": "RX525V0GO9_Q",
    "outputId": "a2f869b6-c774-4706-fd3e-8a2f25b38092"
   },
   "outputs": [
    {
     "data": {
      "text/plain": [
       "(284, 9)"
      ]
     },
     "execution_count": 77,
     "metadata": {},
     "output_type": "execute_result"
    }
   ],
   "source": [
    "train_val2.shape"
   ]
  },
  {
   "cell_type": "markdown",
   "metadata": {
    "id": "F6lJfJq7rmeK"
   },
   "source": [
    "再び散布図を見てみる"
   ]
  },
  {
   "cell_type": "code",
   "execution_count": null,
   "metadata": {
    "colab": {
     "base_uri": "https://localhost:8080/",
     "height": 1000
    },
    "executionInfo": {
     "elapsed": 4117,
     "status": "ok",
     "timestamp": 1647332938237,
     "user": {
      "displayName": "松宮正弥",
      "photoUrl": "https://lh3.googleusercontent.com/a/default-user=s64",
      "userId": "03574679515194343736"
     },
     "user_tz": -540
    },
    "id": "3FyA4g7Rlno9",
    "outputId": "106759e8-3d2e-449b-99eb-05ba044bc287"
   },
   "outputs": [
    {
     "data": {
      "image/png": "[encoded data removed]",
      "text/plain": [
       "<Figure size 432x288 with 1 Axes>"
      ]
     },
     "metadata": {
      "needs_background": "light"
     },
     "output_type": "display_data"
    },
    {
     "data": {
      "image/png": "[encoded data removed]",
      "text/plain": [
       "<Figure size 432x288 with 1 Axes>"
      ]
     },
     "metadata": {
      "needs_background": "light"
     },
     "output_type": "display_data"
    },
    {
     "data": {
      "image/png": "[encoded data removed]",
      "text/plain": [
       "<Figure size 432x288 with 1 Axes>"
      ]
     },
     "metadata": {
      "needs_background": "light"
     },
     "output_type": "display_data"
    },
    {
     "data": {
      "image/png": "[encoded data removed]",
      "text/plain": [
       "<Figure size 432x288 with 1 Axes>"
      ]
     },
     "metadata": {
      "needs_background": "light"
     },
     "output_type": "display_data"
    },
    {
     "data": {
      "image/png": "[encoded data removed]",
      "text/plain": [
       "<Figure size 432x288 with 1 Axes>"
      ]
     },
     "metadata": {
      "needs_background": "light"
     },
     "output_type": "display_data"
    },
    {
     "data": {
      "image/png": "[encoded data removed]",
      "text/plain": [
       "<Figure size 432x288 with 1 Axes>"
      ]
     },
     "metadata": {
      "needs_background": "light"
     },
     "output_type": "display_data"
    },
    {
     "data": {
      "image/png": "[encoded data removed]",
      "text/plain": [
       "<Figure size 432x288 with 1 Axes>"
      ]
     },
     "metadata": {
      "needs_background": "light"
     },
     "output_type": "display_data"
    },
    {
     "data": {
      "image/png": "[encoded data removed]",
      "text/plain": [
       "<Figure size 432x288 with 1 Axes>"
      ]
     },
     "metadata": {
      "needs_background": "light"
     },
     "output_type": "display_data"
    },
    {
     "data": {
      "image/png": "[encoded data removed]",
      "text/plain": [
       "<Figure size 432x288 with 1 Axes>"
      ]
     },
     "metadata": {
      "needs_background": "light"
     },
     "output_type": "display_data"
    }
   ],
   "source": [
    "colname = train_val2.columns\n",
    "for name in colname:\n",
    "    train_val2.plot(kind = 'scatter', x = name, y = 'MPG')"
   ]
  },
  {
   "cell_type": "markdown",
   "metadata": {
    "id": "LsIJboYzkQZd"
   },
   "source": [
    "再び、マハラノビス距離を求めてみる（おまけ）"
   ]
  },
  {
   "cell_type": "code",
   "execution_count": null,
   "metadata": {
    "colab": {
     "base_uri": "https://localhost:8080/"
    },
    "executionInfo": {
     "elapsed": 463,
     "status": "ok",
     "timestamp": 1647332942458,
     "user": {
      "displayName": "松宮正弥",
      "photoUrl": "https://lh3.googleusercontent.com/a/default-user=s64",
      "userId": "03574679515194343736"
     },
     "user_tz": -540
    },
    "id": "ay_2U6hvbVcE",
    "outputId": "1c4de972-94ed-4685-be8c-e160a7233292"
   },
   "outputs": [
    {
     "data": {
      "text/plain": [
       "array([ 5.65094655, 22.53565084, 14.21065598, 26.45099384,  8.29311434,\n",
       "        5.55441867,  5.51946603,  5.04839819, 19.52590224, 21.88361289,\n",
       "       31.20807512,  9.84673674,  7.22131375, 11.68781143,  6.95415984,\n",
       "       28.72386833,  9.51390102,  8.04218222,  6.76915375, 11.21644808,\n",
       "       12.88697344,  7.13986216,  9.71306049, 18.80480696,  4.20461259,\n",
       "       15.23168261, 10.99811488,  9.29166004,  8.0763283 ,  7.70970949,\n",
       "       10.63109442,  5.10577058, 10.54586317,  5.67972207,  5.13833961,\n",
       "        9.2978382 , 10.6180349 , 10.0403793 , 21.10795212,  5.25031232,\n",
       "       23.89829071,  5.23402116,  6.47610411,  7.91001464,  9.22381903,\n",
       "        6.54007422, 13.04155924,  2.01400044,  4.37773333, 13.16479001,\n",
       "       24.28852854,  9.48286152,  9.40200167,  3.19906851, 16.70911918,\n",
       "        9.85430112,  8.05669798, 26.7962716 ,  8.87398426, 11.04807938,\n",
       "       19.45085934,  7.69876266, 14.86416758,  7.2766115 , 22.65853938,\n",
       "        3.65153206, 20.93149028, 32.82858523,  2.05747261,  9.34110083,\n",
       "       12.16312054,  9.476102  ,  8.7495655 ,  6.44372546, 10.690552  ,\n",
       "        2.49269354, 14.71240338,  9.74945505,  5.18100653,  2.23954495,\n",
       "        8.13258549, 13.7311124 ,  6.9280232 , 26.19720206, 25.79591967,\n",
       "       10.63708481,  6.63919859,  4.98246773, 13.77298142,  8.58501273,\n",
       "       10.17380887, 12.24125229,  5.3331688 , 12.7894321 ,  9.84992284,\n",
       "        9.0232042 ,  9.59687178,  2.13705817, 27.90044235, 13.90622495,\n",
       "       12.01347976, 10.24796193, 27.00968545, 31.46397922, 11.06564011,\n",
       "        7.8356472 ,  9.80907702,  4.89728483,  6.29413157,  9.48941139,\n",
       "       16.11909232,  5.89506164,  8.19535867,  4.83465228, 15.43482434,\n",
       "        8.08506633,  9.29267018,  5.27281315,  9.85275968,  5.78291225,\n",
       "       21.66751466, 23.19830129,  6.3786547 ,  4.67419355,  8.28091496,\n",
       "       10.99176657,  6.00391839, 12.33052851, 21.80856218, 14.5399126 ,\n",
       "       12.76964982,  7.67887819,  9.16793859,  8.82049482,  7.81605351,\n",
       "       16.74040931, 22.89113562,  8.48790908, 11.19310344, 10.13451975,\n",
       "       19.26910059, 10.17699789,  5.43778997,  5.0402824 ,  6.40372448,\n",
       "        9.33032077, 14.57966829, 10.39944052,  7.35193998,  3.6351319 ,\n",
       "        6.93969252,  9.26820383,  4.79704115, 10.42740962,  5.62581561,\n",
       "        9.14110555,  6.36503308, 19.95192103,  6.00234737,  8.77571252,\n",
       "        7.92905317, 12.94405564, 29.60250494,  1.69152592,  7.28449846,\n",
       "        9.9100194 ,  4.07606147, 12.65676571,  5.27458415,  9.93919368,\n",
       "       18.99943068,  8.57444874, 14.74463493,  7.20457495,  1.64391832,\n",
       "       16.1837201 ,  7.51607244,  5.39952397, 16.41344474, 10.37873626,\n",
       "        9.42155719,  5.53146394, 23.12974711, 13.85292452, 33.91744568,\n",
       "        7.72181586, 10.95347542, 31.13739396, 27.96112992, 25.78039961,\n",
       "        6.9266165 , 18.15775741,  4.98200455,  9.89020767, 19.25462502,\n",
       "       26.78437858,  9.50946923,  3.51413812, 18.84563741,  8.36402585,\n",
       "        8.22922443, 13.45606469,  2.49622534, 13.56431839,  5.48698755,\n",
       "        4.81276102,  6.79988077,  6.93993489, 17.05180559, 18.5928093 ,\n",
       "        5.60928251,  5.14552536, 10.14014119,  8.77353561, 15.14742257,\n",
       "       21.26695321,  8.19847417,  6.06516317, 11.63864498, 14.09514136,\n",
       "        9.19205641, 10.65227954,  9.93430714, 24.91843909, 12.79104741,\n",
       "        9.26103182, 15.09868521, 13.25485187, 10.57942732,  6.20828524,\n",
       "        5.65455107, 12.40017689, 23.86874995, 11.6003291 , 18.98573546,\n",
       "       15.63358728,  8.76848104,  9.02002534, 15.36272234,  7.15653778,\n",
       "        7.22142754,  8.6701905 , 12.33238936, 10.796474  , 11.15601225,\n",
       "       12.2287886 , 11.07937755, 11.01411307,  5.39674137,  7.06185996,\n",
       "        8.0431043 ,  6.51489973, 10.64166294,  6.49285551, 10.5307972 ,\n",
       "       10.73576684,  5.18688619,  5.37249617, 22.17027152,  9.18250318,\n",
       "        6.46886393,  4.25524225,  5.85859503, 23.95549372, 13.89109919,\n",
       "        4.77679821,  6.19500152, 21.29357609,  9.44967557, 28.85143248,\n",
       "        6.31579291,  5.71763004,  5.74417243,  5.81080571, 14.2660122 ,\n",
       "       19.35878018, 29.9954924 , 18.60137726,  6.30913806, 10.15009145,\n",
       "        6.40210255, 18.61673838,  9.91588352,  9.59383429])"
      ]
     },
     "execution_count": 79,
     "metadata": {},
     "output_type": "execute_result"
    }
   ],
   "source": [
    "#train_val2に対して、各データの中心点からのマハラノビス距離を計算\n",
    "\n",
    "mcd = MinCovDet(random_state=0,support_fraction=0.7)\n",
    "mcd.fit(train_val2)\n",
    "#マハラノビス距離\n",
    "distance = mcd.mahalanobis(train_val2)\n",
    "distance"
   ]
  },
  {
   "cell_type": "code",
   "execution_count": null,
   "metadata": {
    "colab": {
     "base_uri": "https://localhost:8080/",
     "height": 284
    },
    "executionInfo": {
     "elapsed": 520,
     "status": "ok",
     "timestamp": 1647332946886,
     "user": {
      "displayName": "松宮正弥",
      "photoUrl": "https://lh3.googleusercontent.com/a/default-user=s64",
      "userId": "03574679515194343736"
     },
     "user_tz": -540
    },
    "id": "zx2KPUc4kWjW",
    "outputId": "65fdef83-b74a-4d6a-d60f-64a83bcb49cb"
   },
   "outputs": [
    {
     "data": {
      "text/plain": [
       "<matplotlib.axes._subplots.AxesSubplot at 0x7fbddc534cd0>"
      ]
     },
     "execution_count": 80,
     "metadata": {},
     "output_type": "execute_result"
    },
    {
     "data": {
      "image/png": "[encoded data removed]",
      "text/plain": [
       "<Figure size 432x288 with 1 Axes>"
      ]
     },
     "metadata": {
      "needs_background": "light"
     },
     "output_type": "display_data"
    }
   ],
   "source": [
    "distance=pd.Series(distance)\n",
    "distance.plot(kind=\"box\")"
   ]
  },
  {
   "cell_type": "code",
   "execution_count": null,
   "metadata": {
    "colab": {
     "base_uri": "https://localhost:8080/"
    },
    "executionInfo": {
     "elapsed": 373,
     "status": "ok",
     "timestamp": 1647332951917,
     "user": {
      "displayName": "松宮正弥",
      "photoUrl": "https://lh3.googleusercontent.com/a/default-user=s64",
      "userId": "03574679515194343736"
     },
     "user_tz": -540
    },
    "id": "MkWr9yxck-kh",
    "outputId": "e8d76972-477c-447b-e712-3dad164e684a"
   },
   "outputs": [
    {
     "data": {
      "text/plain": [
       "count    284.000000\n",
       "mean      11.439408\n",
       "std        6.755314\n",
       "min        1.643918\n",
       "25%        6.509389\n",
       "50%        9.511685\n",
       "75%       13.894881\n",
       "max       33.917446\n",
       "dtype: float64"
      ]
     },
     "execution_count": 81,
     "metadata": {},
     "output_type": "execute_result"
    }
   ],
   "source": [
    "tmp=distance.describe()#様々な基本統計量を計算\n",
    "tmp"
   ]
  },
  {
   "cell_type": "code",
   "execution_count": null,
   "metadata": {
    "colab": {
     "base_uri": "https://localhost:8080/"
    },
    "executionInfo": {
     "elapsed": 3,
     "status": "ok",
     "timestamp": 1647332955661,
     "user": {
      "displayName": "松宮正弥",
      "photoUrl": "https://lh3.googleusercontent.com/a/default-user=s64",
      "userId": "03574679515194343736"
     },
     "user_tz": -540
    },
    "id": "eOaOoOcXkiWU",
    "outputId": "3cab6cea-9489-4d34-eb92-44a0922f3704"
   },
   "outputs": [
    {
     "data": {
      "text/plain": [
       "3      26.450994\n",
       "10     31.208075\n",
       "15     28.723868\n",
       "57     26.796272\n",
       "67     32.828585\n",
       "83     26.197202\n",
       "84     25.795920\n",
       "98     27.900442\n",
       "102    27.009685\n",
       "103    31.463979\n",
       "162    29.602505\n",
       "184    33.917446\n",
       "187    31.137394\n",
       "188    27.961130\n",
       "189    25.780400\n",
       "195    26.784379\n",
       "269    28.851432\n",
       "276    29.995492\n",
       "dtype: float64"
      ]
     },
     "execution_count": 82,
     "metadata": {},
     "output_type": "execute_result"
    }
   ],
   "source": [
    "IQR = tmp['75%'] -tmp['25%']#IQR計算\n",
    "jougen = 1.5*(IQR) + tmp['75%'] # 上限値\n",
    "kagen = tmp['25%'] -1.5*(IQR) # 下限値\n",
    "\n",
    "# 上限と下限の条件をもとに、シリーズで条件検索\n",
    "outliner = distance[ (distance > jougen) | (distance < kagen) ]\n",
    "outliner"
   ]
  },
  {
   "cell_type": "markdown",
   "metadata": {
    "id": "XmkWiPNSmHXh"
   },
   "source": [
    "列同士の相関係数を調べる"
   ]
  },
  {
   "cell_type": "code",
   "execution_count": null,
   "metadata": {
    "colab": {
     "base_uri": "https://localhost:8080/",
     "height": 331
    },
    "executionInfo": {
     "elapsed": 381,
     "status": "ok",
     "timestamp": 1647332959346,
     "user": {
      "displayName": "松宮正弥",
      "photoUrl": "https://lh3.googleusercontent.com/a/default-user=s64",
      "userId": "03574679515194343736"
     },
     "user_tz": -540
    },
    "id": "oFWqahwBkvSL",
    "outputId": "d3a139e0-341a-41e2-fce1-a0dc0c08ac86"
   },
   "outputs": [
    {
     "data": {
      "text/html": [
       "\n",
       "  <div id=\"df-35e4a569-e0b2-4edb-94bf-90fc96b58607\">\n",
       "    <div class=\"colab-df-container\">\n",
       "      <div>\n",
       "<style scoped>\n",
       "    .dataframe tbody tr th:only-of-type {\n",
       "        vertical-align: middle;\n",
       "    }\n",
       "\n",
       "    .dataframe tbody tr th {\n",
       "        vertical-align: top;\n",
       "    }\n",
       "\n",
       "    .dataframe thead th {\n",
       "        text-align: right;\n",
       "    }\n",
       "</style>\n",
       "<table border=\"1\" class=\"dataframe\">\n",
       "  <thead>\n",
       "    <tr style=\"text-align: right;\">\n",
       "      <th></th>\n",
       "      <th>MPG</th>\n",
       "      <th>Cylinders</th>\n",
       "      <th>Displacement</th>\n",
       "      <th>Horsepower</th>\n",
       "      <th>Weight</th>\n",
       "      <th>Acceleration</th>\n",
       "      <th>Model Year</th>\n",
       "      <th>eu</th>\n",
       "      <th>ja</th>\n",
       "    </tr>\n",
       "  </thead>\n",
       "  <tbody>\n",
       "    <tr>\n",
       "      <th>MPG</th>\n",
       "      <td>1.000000</td>\n",
       "      <td>-0.800923</td>\n",
       "      <td>-0.843093</td>\n",
       "      <td>-0.800398</td>\n",
       "      <td>-0.855803</td>\n",
       "      <td>0.358897</td>\n",
       "      <td>0.529855</td>\n",
       "      <td>0.188596</td>\n",
       "      <td>0.522577</td>\n",
       "    </tr>\n",
       "    <tr>\n",
       "      <th>Cylinders</th>\n",
       "      <td>-0.800923</td>\n",
       "      <td>1.000000</td>\n",
       "      <td>0.960382</td>\n",
       "      <td>0.879482</td>\n",
       "      <td>0.896959</td>\n",
       "      <td>-0.522010</td>\n",
       "      <td>-0.300902</td>\n",
       "      <td>-0.355730</td>\n",
       "      <td>-0.384107</td>\n",
       "    </tr>\n",
       "    <tr>\n",
       "      <th>Displacement</th>\n",
       "      <td>-0.843093</td>\n",
       "      <td>0.960382</td>\n",
       "      <td>1.000000</td>\n",
       "      <td>0.911461</td>\n",
       "      <td>0.950287</td>\n",
       "      <td>-0.525525</td>\n",
       "      <td>-0.294627</td>\n",
       "      <td>-0.367738</td>\n",
       "      <td>-0.444808</td>\n",
       "    </tr>\n",
       "    <tr>\n",
       "      <th>Horsepower</th>\n",
       "      <td>-0.800398</td>\n",
       "      <td>0.879482</td>\n",
       "      <td>0.911461</td>\n",
       "      <td>1.000000</td>\n",
       "      <td>0.899163</td>\n",
       "      <td>-0.674347</td>\n",
       "      <td>-0.323333</td>\n",
       "      <td>-0.262147</td>\n",
       "      <td>-0.365173</td>\n",
       "    </tr>\n",
       "    <tr>\n",
       "      <th>Weight</th>\n",
       "      <td>-0.855803</td>\n",
       "      <td>0.896959</td>\n",
       "      <td>0.950287</td>\n",
       "      <td>0.899163</td>\n",
       "      <td>1.000000</td>\n",
       "      <td>-0.421526</td>\n",
       "      <td>-0.243245</td>\n",
       "      <td>-0.313149</td>\n",
       "      <td>-0.454162</td>\n",
       "    </tr>\n",
       "    <tr>\n",
       "      <th>Acceleration</th>\n",
       "      <td>0.358897</td>\n",
       "      <td>-0.522010</td>\n",
       "      <td>-0.525525</td>\n",
       "      <td>-0.674347</td>\n",
       "      <td>-0.421526</td>\n",
       "      <td>1.000000</td>\n",
       "      <td>0.207026</td>\n",
       "      <td>0.068540</td>\n",
       "      <td>0.175293</td>\n",
       "    </tr>\n",
       "    <tr>\n",
       "      <th>Model Year</th>\n",
       "      <td>0.529855</td>\n",
       "      <td>-0.300902</td>\n",
       "      <td>-0.294627</td>\n",
       "      <td>-0.323333</td>\n",
       "      <td>-0.243245</td>\n",
       "      <td>0.207026</td>\n",
       "      <td>1.000000</td>\n",
       "      <td>-0.116146</td>\n",
       "      <td>0.200920</td>\n",
       "    </tr>\n",
       "    <tr>\n",
       "      <th>eu</th>\n",
       "      <td>0.188596</td>\n",
       "      <td>-0.355730</td>\n",
       "      <td>-0.367738</td>\n",
       "      <td>-0.262147</td>\n",
       "      <td>-0.313149</td>\n",
       "      <td>0.068540</td>\n",
       "      <td>-0.116146</td>\n",
       "      <td>1.000000</td>\n",
       "      <td>-0.227532</td>\n",
       "    </tr>\n",
       "    <tr>\n",
       "      <th>ja</th>\n",
       "      <td>0.522577</td>\n",
       "      <td>-0.384107</td>\n",
       "      <td>-0.444808</td>\n",
       "      <td>-0.365173</td>\n",
       "      <td>-0.454162</td>\n",
       "      <td>0.175293</td>\n",
       "      <td>0.200920</td>\n",
       "      <td>-0.227532</td>\n",
       "      <td>1.000000</td>\n",
       "    </tr>\n",
       "  </tbody>\n",
       "</table>\n",
       "</div>\n",
       "      <button class=\"colab-df-convert\" onclick=\"convertToInteractive('df-35e4a569-e0b2-4edb-94bf-90fc96b58607')\"\n",
       "              title=\"Convert this dataframe to an interactive table.\"\n",
       "              style=\"display:none;\">\n",
       "        \n",
       "  <svg xmlns=\"http://www.w3.org/2000/svg\" height=\"24px\"viewBox=\"0 0 24 24\"\n",
       "       width=\"24px\">\n",
       "    <path d=\"M0 0h24v24H0V0z\" fill=\"none\"/>\n",
       "    <path d=\"M18.56 5.44l.94 2.06.94-2.06 2.06-.94-2.06-.94-.94-2.06-.94 2.06-2.06.94zm-11 1L8.5 8.5l.94-2.06 2.06-.94-2.06-.94L8.5 2.5l-.94 2.06-2.06.94zm10 10l.94 2.06.94-2.06 2.06-.94-2.06-.94-.94-2.06-.94 2.06-2.06.94z\"/><path d=\"M17.41 7.96l-1.37-1.37c-.4-.4-.92-.59-1.43-.59-.52 0-1.04.2-1.43.59L10.3 9.45l-7.72 7.72c-.78.78-.78 2.05 0 2.83L4 21.41c.39.39.9.59 1.41.59.51 0 1.02-.2 1.41-.59l7.78-7.78 2.81-2.81c.8-.78.8-2.07 0-2.86zM5.41 20L4 18.59l7.72-7.72 1.47 1.35L5.41 20z\"/>\n",
       "  </svg>\n",
       "      </button>\n",
       "      \n",
       "  <style>\n",
       "    .colab-df-container {\n",
       "      display:flex;\n",
       "      flex-wrap:wrap;\n",
       "      gap: 12px;\n",
       "    }\n",
       "\n",
       "    .colab-df-convert {\n",
       "      background-color: #E8F0FE;\n",
       "      border: none;\n",
       "      border-radius: 50%;\n",
       "      cursor: pointer;\n",
       "      display: none;\n",
       "      fill: #1967D2;\n",
       "      height: 32px;\n",
       "      padding: 0 0 0 0;\n",
       "      width: 32px;\n",
       "    }\n",
       "\n",
       "    .colab-df-convert:hover {\n",
       "      background-color: #E2EBFA;\n",
       "      box-shadow: 0px 1px 2px rgba(60, 64, 67, 0.3), 0px 1px 3px 1px rgba(60, 64, 67, 0.15);\n",
       "      fill: #174EA6;\n",
       "    }\n",
       "\n",
       "    [theme=dark] .colab-df-convert {\n",
       "      background-color: #3B4455;\n",
       "      fill: #D2E3FC;\n",
       "    }\n",
       "\n",
       "    [theme=dark] .colab-df-convert:hover {\n",
       "      background-color: #434B5C;\n",
       "      box-shadow: 0px 1px 3px 1px rgba(0, 0, 0, 0.15);\n",
       "      filter: drop-shadow(0px 1px 2px rgba(0, 0, 0, 0.3));\n",
       "      fill: #FFFFFF;\n",
       "    }\n",
       "  </style>\n",
       "\n",
       "      <script>\n",
       "        const buttonEl =\n",
       "          document.querySelector('#df-35e4a569-e0b2-4edb-94bf-90fc96b58607 button.colab-df-convert');\n",
       "        buttonEl.style.display =\n",
       "          google.colab.kernel.accessAllowed ? 'block' : 'none';\n",
       "\n",
       "        async function convertToInteractive(key) {\n",
       "          const element = document.querySelector('#df-35e4a569-e0b2-4edb-94bf-90fc96b58607');\n",
       "          const dataTable =\n",
       "            await google.colab.kernel.invokeFunction('convertToInteractive',\n",
       "                                                     [key], {});\n",
       "          if (!dataTable) return;\n",
       "\n",
       "          const docLinkHtml = 'Like what you see? Visit the ' +\n",
       "            '<a target=\"_blank\" href=https://colab.research.google.com/notebooks/data_table.ipynb>data table notebook</a>'\n",
       "            + ' to learn more about interactive tables.';\n",
       "          element.innerHTML = '';\n",
       "          dataTable['output_type'] = 'display_data';\n",
       "          await google.colab.output.renderOutput(dataTable, element);\n",
       "          const docLink = document.createElement('div');\n",
       "          docLink.innerHTML = docLinkHtml;\n",
       "          element.appendChild(docLink);\n",
       "        }\n",
       "      </script>\n",
       "    </div>\n",
       "  </div>\n",
       "  "
      ],
      "text/plain": [
       "                   MPG  Cylinders  Displacement  Horsepower    Weight  \\\n",
       "MPG           1.000000  -0.800923     -0.843093   -0.800398 -0.855803   \n",
       "Cylinders    -0.800923   1.000000      0.960382    0.879482  0.896959   \n",
       "Displacement -0.843093   0.960382      1.000000    0.911461  0.950287   \n",
       "Horsepower   -0.800398   0.879482      0.911461    1.000000  0.899163   \n",
       "Weight       -0.855803   0.896959      0.950287    0.899163  1.000000   \n",
       "Acceleration  0.358897  -0.522010     -0.525525   -0.674347 -0.421526   \n",
       "Model Year    0.529855  -0.300902     -0.294627   -0.323333 -0.243245   \n",
       "eu            0.188596  -0.355730     -0.367738   -0.262147 -0.313149   \n",
       "ja            0.522577  -0.384107     -0.444808   -0.365173 -0.454162   \n",
       "\n",
       "              Acceleration  Model Year        eu        ja  \n",
       "MPG               0.358897    0.529855  0.188596  0.522577  \n",
       "Cylinders        -0.522010   -0.300902 -0.355730 -0.384107  \n",
       "Displacement     -0.525525   -0.294627 -0.367738 -0.444808  \n",
       "Horsepower       -0.674347   -0.323333 -0.262147 -0.365173  \n",
       "Weight           -0.421526   -0.243245 -0.313149 -0.454162  \n",
       "Acceleration      1.000000    0.207026  0.068540  0.175293  \n",
       "Model Year        0.207026    1.000000 -0.116146  0.200920  \n",
       "eu                0.068540   -0.116146  1.000000 -0.227532  \n",
       "ja                0.175293    0.200920 -0.227532  1.000000  "
      ]
     },
     "execution_count": 83,
     "metadata": {},
     "output_type": "execute_result"
    }
   ],
   "source": [
    "train_val2.corr()"
   ]
  },
  {
   "cell_type": "code",
   "execution_count": null,
   "metadata": {
    "colab": {
     "base_uri": "https://localhost:8080/"
    },
    "executionInfo": {
     "elapsed": 425,
     "status": "ok",
     "timestamp": 1647332964154,
     "user": {
      "displayName": "松宮正弥",
      "photoUrl": "https://lh3.googleusercontent.com/a/default-user=s64",
      "userId": "03574679515194343736"
     },
     "user_tz": -540
    },
    "id": "xJukDfp_mCbR",
    "outputId": "40b59eb5-d256-4fe5-d758-5501030c4c9d"
   },
   "outputs": [
    {
     "data": {
      "text/plain": [
       "MPG             1.000000\n",
       "Cylinders      -0.800923\n",
       "Displacement   -0.843093\n",
       "Horsepower     -0.800398\n",
       "Weight         -0.855803\n",
       "Acceleration    0.358897\n",
       "Model Year      0.529855\n",
       "eu              0.188596\n",
       "ja              0.522577\n",
       "Name: MPG, dtype: float64"
      ]
     },
     "execution_count": 84,
     "metadata": {},
     "output_type": "execute_result"
    }
   ],
   "source": [
    "train_cor = train_val2.corr()['MPG']\n",
    "train_cor"
   ]
  },
  {
   "cell_type": "markdown",
   "metadata": {
    "id": "dfk3U8wlmx1U"
   },
   "source": [
    "絶対値に変換"
   ]
  },
  {
   "cell_type": "code",
   "execution_count": null,
   "metadata": {
    "colab": {
     "base_uri": "https://localhost:8080/"
    },
    "executionInfo": {
     "elapsed": 406,
     "status": "ok",
     "timestamp": 1647332969613,
     "user": {
      "displayName": "松宮正弥",
      "photoUrl": "https://lh3.googleusercontent.com/a/default-user=s64",
      "userId": "03574679515194343736"
     },
     "user_tz": -540
    },
    "id": "zneraJIzmiBE",
    "outputId": "6cd3d84a-ae9e-48c2-e5c0-c4a99943ebdb"
   },
   "outputs": [
    {
     "data": {
      "text/plain": [
       "MPG             1.000000\n",
       "Cylinders       0.800923\n",
       "Displacement    0.843093\n",
       "Horsepower      0.800398\n",
       "Weight          0.855803\n",
       "Acceleration    0.358897\n",
       "Model Year      0.529855\n",
       "eu              0.188596\n",
       "ja              0.522577\n",
       "Name: MPG, dtype: float64"
      ]
     },
     "execution_count": 85,
     "metadata": {},
     "output_type": "execute_result"
    }
   ],
   "source": [
    "abs_cor = train_cor.map(abs)\n",
    "abs_cor"
   ]
  },
  {
   "cell_type": "markdown",
   "metadata": {
    "id": "-xoiDP6Fm5uJ"
   },
   "source": [
    "降順に並び替える"
   ]
  },
  {
   "cell_type": "code",
   "execution_count": null,
   "metadata": {
    "colab": {
     "base_uri": "https://localhost:8080/"
    },
    "executionInfo": {
     "elapsed": 395,
     "status": "ok",
     "timestamp": 1647332976702,
     "user": {
      "displayName": "松宮正弥",
      "photoUrl": "https://lh3.googleusercontent.com/a/default-user=s64",
      "userId": "03574679515194343736"
     },
     "user_tz": -540
    },
    "id": "uWm8006NmuZO",
    "outputId": "1ef9a8a4-9cf4-45a9-879c-72e7803d26d3"
   },
   "outputs": [
    {
     "data": {
      "text/plain": [
       "MPG             1.000000\n",
       "Weight          0.855803\n",
       "Displacement    0.843093\n",
       "Cylinders       0.800923\n",
       "Horsepower      0.800398\n",
       "Model Year      0.529855\n",
       "ja              0.522577\n",
       "Acceleration    0.358897\n",
       "eu              0.188596\n",
       "Name: MPG, dtype: float64"
      ]
     },
     "execution_count": 86,
     "metadata": {},
     "output_type": "execute_result"
    }
   ],
   "source": [
    "abs_cor.sort_values(ascending = False)"
   ]
  },
  {
   "cell_type": "markdown",
   "metadata": {
    "id": "gIhkNtdmoXZb"
   },
   "source": [
    "特徴量として相関の大きいWeight,Displacement,Cylinders,Horsepower,Model Year,jaを利用することにする       "
   ]
  },
  {
   "cell_type": "code",
   "execution_count": null,
   "metadata": {
    "id": "RyUs88Lum87R"
   },
   "outputs": [],
   "source": [
    "col =['Weight','Displacement','Cylinders','Horsepower','Model Year','ja']\n",
    "x = train_val2[col]\n",
    "t = train_val2[['MPG']]\n",
    "\n",
    "#訓練データと検証データに分割\n",
    "x_train, x_val, y_train, y_val = train_test_split(x, t,\n",
    "    test_size = 0.2, random_state = 0)"
   ]
  },
  {
   "cell_type": "markdown",
   "metadata": {
    "id": "JMKFMrouqMvJ"
   },
   "source": [
    "データの標準化"
   ]
  },
  {
   "cell_type": "code",
   "execution_count": null,
   "metadata": {
    "colab": {
     "base_uri": "https://localhost:8080/"
    },
    "executionInfo": {
     "elapsed": 474,
     "status": "ok",
     "timestamp": 1647333001772,
     "user": {
      "displayName": "松宮正弥",
      "photoUrl": "https://lh3.googleusercontent.com/a/default-user=s64",
      "userId": "03574679515194343736"
     },
     "user_tz": -540
    },
    "id": "a4ZdnPdUpqr9",
    "outputId": "4c2ede67-6783-4b2d-de6c-d68814d8458f"
   },
   "outputs": [
    {
     "data": {
      "text/plain": [
       "array([[ 0.94380425,  1.23751031,  1.57650372,  1.61336607, -0.88724019,\n",
       "        -0.49724516],\n",
       "       [ 1.44237759,  1.38278515,  1.57650372,  1.29519149,  0.52117606,\n",
       "        -0.49724516],\n",
       "       [ 2.12424995,  1.21675676,  1.57650372,  1.29519149, -0.60555694,\n",
       "        -0.49724516],\n",
       "       ...,\n",
       "       [-1.11769876, -0.91048193, -0.80927191, -1.02748294,  0.23949281,\n",
       "         2.01108042],\n",
       "       [ 0.17028237,  0.4800058 ,  0.3836159 ,  0.34066775, -0.32387369,\n",
       "        -0.49724516],\n",
       "       [-0.70833095, -0.87935161, -0.80927191, -0.7249801 ,  1.3662258 ,\n",
       "        -0.49724516]])"
      ]
     },
     "execution_count": 88,
     "metadata": {},
     "output_type": "execute_result"
    }
   ],
   "source": [
    "from sklearn.preprocessing import StandardScaler\n",
    "\n",
    "sc_model_x = StandardScaler()\n",
    "sc_model_x.fit(x_train)\n",
    "\n",
    "# 各列のデータを標準化してsc_xに代入\n",
    "sc_x = sc_model_x.transform(x_train)\n",
    "sc_x # 表示"
   ]
  },
  {
   "cell_type": "markdown",
   "metadata": {
    "id": "mXCu79M3qsHl"
   },
   "source": [
    "平均値がほぼ0になっていることを確認"
   ]
  },
  {
   "cell_type": "code",
   "execution_count": null,
   "metadata": {
    "colab": {
     "base_uri": "https://localhost:8080/"
    },
    "executionInfo": {
     "elapsed": 492,
     "status": "ok",
     "timestamp": 1647333006564,
     "user": {
      "displayName": "松宮正弥",
      "photoUrl": "https://lh3.googleusercontent.com/a/default-user=s64",
      "userId": "03574679515194343736"
     },
     "user_tz": -540
    },
    "id": "jDIMISXgp71x",
    "outputId": "653a6094-60d3-4977-e59f-c8d6c54b5887"
   },
   "outputs": [
    {
     "data": {
      "text/plain": [
       "Weight          2.328045e-16\n",
       "Displacement   -4.108314e-17\n",
       "Cylinders       1.594417e-16\n",
       "Horsepower      5.722295e-17\n",
       "Model Year      1.835047e-15\n",
       "ja             -3.472504e-17\n",
       "dtype: float64"
      ]
     },
     "execution_count": 89,
     "metadata": {},
     "output_type": "execute_result"
    }
   ],
   "source": [
    "# array 型だと見づらいのでデータフレームに変換\n",
    "tmp_df = pd.DataFrame(sc_x, columns = x_train.columns)\n",
    "# 平均値の計算\n",
    "tmp_df.mean()"
   ]
  },
  {
   "cell_type": "markdown",
   "metadata": {
    "id": "ckfVHAVVq3ks"
   },
   "source": [
    "標準偏差がほぼ1になっていることを確認"
   ]
  },
  {
   "cell_type": "code",
   "execution_count": null,
   "metadata": {
    "colab": {
     "base_uri": "https://localhost:8080/"
    },
    "executionInfo": {
     "elapsed": 493,
     "status": "ok",
     "timestamp": 1647333012983,
     "user": {
      "displayName": "松宮正弥",
      "photoUrl": "https://lh3.googleusercontent.com/a/default-user=s64",
      "userId": "03574679515194343736"
     },
     "user_tz": -540
    },
    "id": "l1HYPG5Kqo66",
    "outputId": "f847bd7d-c8eb-4472-e7c3-f031c50db9a0"
   },
   "outputs": [
    {
     "data": {
      "text/plain": [
       "Weight          1.00221\n",
       "Displacement    1.00221\n",
       "Cylinders       1.00221\n",
       "Horsepower      1.00221\n",
       "Model Year      1.00221\n",
       "ja              1.00221\n",
       "dtype: float64"
      ]
     },
     "execution_count": 90,
     "metadata": {},
     "output_type": "execute_result"
    }
   ],
   "source": [
    "tmp_df.std() # 標準偏差の計算"
   ]
  },
  {
   "cell_type": "markdown",
   "metadata": {
    "id": "_NCfNOG9rL_B"
   },
   "source": [
    "正解データも標準化する"
   ]
  },
  {
   "cell_type": "code",
   "execution_count": null,
   "metadata": {
    "id": "d27uMpkwq0oa"
   },
   "outputs": [],
   "source": [
    "sc_model_y = StandardScaler()\n",
    "sc_model_y.fit(y_train)\n",
    "\n",
    "sc_y = sc_model_y.transform(y_train)"
   ]
  },
  {
   "cell_type": "markdown",
   "metadata": {
    "id": "W2jTvWHyrvEK"
   },
   "source": [
    "標準化したデータで学習してみる"
   ]
  },
  {
   "cell_type": "code",
   "execution_count": null,
   "metadata": {
    "colab": {
     "base_uri": "https://localhost:8080/"
    },
    "executionInfo": {
     "elapsed": 380,
     "status": "ok",
     "timestamp": 1647333025063,
     "user": {
      "displayName": "松宮正弥",
      "photoUrl": "https://lh3.googleusercontent.com/a/default-user=s64",
      "userId": "03574679515194343736"
     },
     "user_tz": -540
    },
    "id": "McLDwFHZrK-8",
    "outputId": "762d4fe0-120c-49ab-9ac3-3b7037c46c64"
   },
   "outputs": [
    {
     "data": {
      "text/plain": [
       "LinearRegression()"
      ]
     },
     "execution_count": 92,
     "metadata": {},
     "output_type": "execute_result"
    }
   ],
   "source": [
    "model = LinearRegression()\n",
    "model.fit(sc_x, sc_y)"
   ]
  },
  {
   "cell_type": "markdown",
   "metadata": {
    "id": "ExifSoo8sGCk"
   },
   "source": [
    "検証データも標準化してから決定係数を求める"
   ]
  },
  {
   "cell_type": "code",
   "execution_count": null,
   "metadata": {
    "colab": {
     "base_uri": "https://localhost:8080/"
    },
    "executionInfo": {
     "elapsed": 466,
     "status": "ok",
     "timestamp": 1647333040154,
     "user": {
      "displayName": "松宮正弥",
      "photoUrl": "https://lh3.googleusercontent.com/a/default-user=s64",
      "userId": "03574679515194343736"
     },
     "user_tz": -540
    },
    "id": "ywM9fhcrr2eW",
    "outputId": "57ba7d1b-6fea-43de-c7af-58af657afb7d"
   },
   "outputs": [
    {
     "data": {
      "text/plain": [
       "0.8833301485584578"
      ]
     },
     "execution_count": 93,
     "metadata": {},
     "output_type": "execute_result"
    }
   ],
   "source": [
    "sc_x_val = sc_model_x.transform(x_val)\n",
    "sc_y_val = sc_model_y.transform(y_val)\n",
    "# 標準化した検証データで決定係数を計算\n",
    "model.score(sc_x_val, sc_y_val)"
   ]
  },
  {
   "cell_type": "markdown",
   "metadata": {
    "id": "UUUUEICXsZTq"
   },
   "source": [
    "この時点でいい感じ！C"
   ]
  },
  {
   "cell_type": "markdown",
   "metadata": {
    "id": "ImA8AWJUE6ji"
   },
   "source": [
    "チューニングをしやすいようにlearn関数を定義"
   ]
  },
  {
   "cell_type": "code",
   "execution_count": null,
   "metadata": {
    "id": "JHddKPoLFCpn"
   },
   "outputs": [],
   "source": [
    "def learn(x, t):\n",
    "    x_train, x_val, y_train, y_val = train_test_split(x, t,\n",
    "    test_size = 0.2, random_state = 0)\n",
    "    # 訓練データを標準化\n",
    "    sc_model_x = StandardScaler()\n",
    "    sc_model_y = StandardScaler()\n",
    "    sc_model_x.fit(x_train)\n",
    "    sc_x_train = sc_model_x.transform(x_train)\n",
    "    sc_model_y.fit(y_train)\n",
    "    sc_y_train = sc_model_y.transform(y_train)\n",
    "    # 学習\n",
    "    model = LinearRegression()\n",
    "    model.fit(sc_x_train, sc_y_train)\n",
    "    #検証データを標準化\n",
    "    sc_x_val = sc_model_x.transform(x_val)\n",
    "    sc_y_val = sc_model_y.transform(y_val)\n",
    "    # 訓練データと検証データの決定係数計算\n",
    "    train_score = model.score(sc_x_train, sc_y_train)\n",
    "    val_score = model.score(sc_x_val, sc_y_val)\n",
    "    return train_score, val_score"
   ]
  },
  {
   "cell_type": "markdown",
   "metadata": {
    "id": "-wF3eAM8FkQT"
   },
   "source": [
    "learn関数を使い、訓練データと検証データで決定係数を求める"
   ]
  },
  {
   "cell_type": "code",
   "execution_count": null,
   "metadata": {
    "colab": {
     "base_uri": "https://localhost:8080/"
    },
    "executionInfo": {
     "elapsed": 378,
     "status": "ok",
     "timestamp": 1647333069223,
     "user": {
      "displayName": "松宮正弥",
      "photoUrl": "https://lh3.googleusercontent.com/a/default-user=s64",
      "userId": "03574679515194343736"
     },
     "user_tz": -540
    },
    "id": "_GkxefvRFiAp",
    "outputId": "44f0f2b9-599d-4b02-95ad-571cece6f045"
   },
   "outputs": [
    {
     "name": "stdout",
     "output_type": "stream",
     "text": [
      "0.849334101419354 0.8833301485584578\n"
     ]
    }
   ],
   "source": [
    "col =['Weight','Displacement','Cylinders','Horsepower','Model Year','ja']\n",
    "x = train_val2[col]\n",
    "t = train_val2[['MPG']]\n",
    "\n",
    "s1,s2 = learn(x, t)\n",
    "print(s1, s2)"
   ]
  },
  {
   "cell_type": "markdown",
   "metadata": {
    "id": "zYs1UubXHCp6"
   },
   "source": [
    "いろいろチューニングする\n",
    "→Displacement(排気量)の3乗値を加えるとなかなか良さそうだ"
   ]
  },
  {
   "cell_type": "code",
   "execution_count": null,
   "metadata": {
    "colab": {
     "base_uri": "https://localhost:8080/"
    },
    "executionInfo": {
     "elapsed": 389,
     "status": "ok",
     "timestamp": 1647333082040,
     "user": {
      "displayName": "松宮正弥",
      "photoUrl": "https://lh3.googleusercontent.com/a/default-user=s64",
      "userId": "03574679515194343736"
     },
     "user_tz": -540
    },
    "id": "aFYpftgwGw5r",
    "outputId": "f831b11f-c3bd-4965-eb1d-2a351c6042ec"
   },
   "outputs": [
    {
     "name": "stdout",
     "output_type": "stream",
     "text": [
      "0.8639733237743115 0.9003466454438154\n"
     ]
    },
    {
     "name": "stderr",
     "output_type": "stream",
     "text": [
      "/usr/local/lib/python3.7/dist-packages/ipykernel_launcher.py:2: SettingWithCopyWarning: \n",
      "A value is trying to be set on a copy of a slice from a DataFrame.\n",
      "Try using .loc[row_indexer,col_indexer] = value instead\n",
      "\n",
      "See the caveats in the documentation: https://pandas.pydata.org/pandas-docs/stable/user_guide/indexing.html#returning-a-view-versus-a-copy\n",
      "  \n"
     ]
    }
   ],
   "source": [
    "# x['Weight']=x['Weight']**2\n",
    "x['Displacement']=x['Displacement']**3\n",
    "# x['Cylinders']=x['Cylinders']**3\n",
    "s1,s2 = learn(x, t)\n",
    "print(s1, s2)"
   ]
  },
  {
   "cell_type": "markdown",
   "metadata": {
    "id": "LD8iOxhIVNJ3"
   },
   "source": [
    "検証データでの決定係数が0.9を超えてかなり満足b"
   ]
  },
  {
   "cell_type": "markdown",
   "metadata": {
    "id": "4b3JA3EzKbzH"
   },
   "source": [
    "そこで、リッジ回帰を試す\n",
    "\n",
    "標準化を行い、2,3乗列と交互作用項を追加する"
   ]
  },
  {
   "cell_type": "code",
   "execution_count": null,
   "metadata": {
    "colab": {
     "base_uri": "https://localhost:8080/"
    },
    "executionInfo": {
     "elapsed": 410,
     "status": "ok",
     "timestamp": 1647333103759,
     "user": {
      "displayName": "松宮正弥",
      "photoUrl": "https://lh3.googleusercontent.com/a/default-user=s64",
      "userId": "03574679515194343736"
     },
     "user_tz": -540
    },
    "id": "QgVyJ0nDXlfd",
    "outputId": "0cd579d1-625e-487d-ebb9-c5ca93b562d7"
   },
   "outputs": [
    {
     "data": {
      "text/plain": [
       "(284, 83)"
      ]
     },
     "execution_count": 97,
     "metadata": {},
     "output_type": "execute_result"
    }
   ],
   "source": [
    "from sklearn.preprocessing import PolynomialFeatures\n",
    "from sklearn.preprocessing import StandardScaler\n",
    "\n",
    "sc_model_x = StandardScaler()\n",
    "sc_model_x.fit(x)\n",
    "\n",
    "# 各列のデータを標準化してsc_xに代入\n",
    "sc_x = sc_model_x.transform(x)\n",
    "\n",
    "sc_model_y = StandardScaler()\n",
    "sc_model_y.fit(t)\n",
    "\n",
    "sc_y = sc_model_y.transform(t)\n",
    "\n",
    "pf = PolynomialFeatures(degree = 3, include_bias = False)\n",
    "pf_x = pf.fit_transform(sc_x) # 2,3乗列と交互作用項の追加\n",
    "pf_x.shape # 行数と列数"
   ]
  },
  {
   "cell_type": "markdown",
   "metadata": {
    "id": "yrXpgN4QblF-"
   },
   "source": [
    "線形回帰で過学習が起こることを確認"
   ]
  },
  {
   "cell_type": "code",
   "execution_count": null,
   "metadata": {
    "colab": {
     "base_uri": "https://localhost:8080/"
    },
    "executionInfo": {
     "elapsed": 354,
     "status": "ok",
     "timestamp": 1647333109411,
     "user": {
      "displayName": "松宮正弥",
      "photoUrl": "https://lh3.googleusercontent.com/a/default-user=s64",
      "userId": "03574679515194343736"
     },
     "user_tz": -540
    },
    "id": "OcyPBYQQZ6da",
    "outputId": "3d6868ac-db43-4f77-fec2-da8c86962e5d"
   },
   "outputs": [
    {
     "name": "stdout",
     "output_type": "stream",
     "text": [
      "-57244360774791.3\n"
     ]
    }
   ],
   "source": [
    "from sklearn.linear_model import LinearRegression\n",
    "\n",
    "x_train, x_val, y_train, y_val = train_test_split(pf_x,\n",
    "    sc_y, test_size = 0.3, random_state = 0)\n",
    "model = LinearRegression()\n",
    "model.fit(x_train, y_train)\n",
    "\n",
    "print(model.score(x_val, y_val)) # 訓練データの決定係数"
   ]
  },
  {
   "cell_type": "markdown",
   "metadata": {
    "id": "KovlMu3IcDux"
   },
   "source": [
    "よくわからない結果になったので見なかったことにする"
   ]
  },
  {
   "cell_type": "markdown",
   "metadata": {
    "id": "488zOxPIcS39"
   },
   "source": [
    "リッジ回帰をしてみると"
   ]
  },
  {
   "cell_type": "code",
   "execution_count": null,
   "metadata": {
    "colab": {
     "base_uri": "https://localhost:8080/"
    },
    "executionInfo": {
     "elapsed": 494,
     "status": "ok",
     "timestamp": 1647333117222,
     "user": {
      "displayName": "松宮正弥",
      "photoUrl": "https://lh3.googleusercontent.com/a/default-user=s64",
      "userId": "03574679515194343736"
     },
     "user_tz": -540
    },
    "id": "z0LPW6i_KbX0",
    "outputId": "d94221b3-1f65-49cd-a1f7-82f356ca3810"
   },
   "outputs": [
    {
     "name": "stdout",
     "output_type": "stream",
     "text": [
      "0.9094743795750494\n",
      "0.9333385993082661\n"
     ]
    }
   ],
   "source": [
    "from sklearn.linear_model import Ridge # モジュールインポート\n",
    "# モデルの作成\n",
    "ridgeModel = Ridge(alpha = 10)\n",
    "ridgeModel.fit(x_train, y_train) # 学習\n",
    "print(ridgeModel.score(x_train, y_train))\n",
    "print(ridgeModel.score(x_val, y_val))"
   ]
  },
  {
   "cell_type": "markdown",
   "metadata": {
    "id": "AsZPdJpaztx1"
   },
   "source": [
    "かなり良い結果が出た！\n",
    "\n",
    "さらに、正規化項の定数を0.01刻みで検証する"
   ]
  },
  {
   "cell_type": "code",
   "execution_count": null,
   "metadata": {
    "colab": {
     "base_uri": "https://localhost:8080/"
    },
    "executionInfo": {
     "elapsed": 5893,
     "status": "ok",
     "timestamp": 1647333128562,
     "user": {
      "displayName": "松宮正弥",
      "photoUrl": "https://lh3.googleusercontent.com/a/default-user=s64",
      "userId": "03574679515194343736"
     },
     "user_tz": -540
    },
    "id": "rbGz4f91chUf",
    "outputId": "222b2827-2a52-4af8-ac35-5dd99782f529"
   },
   "outputs": [
    {
     "name": "stdout",
     "output_type": "stream",
     "text": [
      "9.16 0.9333589321825809\n"
     ]
    }
   ],
   "source": [
    "maxScore = 0\n",
    "maxIndex = 0\n",
    "# range関数により整数列を1～2000生成\n",
    "for i in range(1, 2001):\n",
    "    num = i/100\n",
    "    ridgeModel = Ridge(random_state = 0, alpha = num)\n",
    "    ridgeModel.fit(x_train, y_train)\n",
    "    result = ridgeModel.score(x_val, y_val)\n",
    "    if result > maxScore:\n",
    "        maxScore = result\n",
    "        maxIndex = num\n",
    "\n",
    "print(maxIndex, maxScore)"
   ]
  },
  {
   "cell_type": "markdown",
   "metadata": {
    "id": "xljvG9goAZLf"
   },
   "source": [
    "正規化項9.16でモデルを再作成"
   ]
  },
  {
   "cell_type": "code",
   "execution_count": null,
   "metadata": {
    "colab": {
     "base_uri": "https://localhost:8080/"
    },
    "executionInfo": {
     "elapsed": 509,
     "status": "ok",
     "timestamp": 1647333138351,
     "user": {
      "displayName": "松宮正弥",
      "photoUrl": "https://lh3.googleusercontent.com/a/default-user=s64",
      "userId": "03574679515194343736"
     },
     "user_tz": -540
    },
    "id": "Bz2x7SwcANA9",
    "outputId": "7f11b980-0f8a-40ba-8c53-e8d225d89e5f"
   },
   "outputs": [
    {
     "name": "stdout",
     "output_type": "stream",
     "text": [
      "0.9100507382740975\n",
      "0.9333589321825809\n"
     ]
    }
   ],
   "source": [
    "ridgeModel = Ridge(alpha = 9.16)\n",
    "ridgeModel.fit(x_train, y_train) # 学習\n",
    "print(ridgeModel.score(x_train, y_train))\n",
    "print(ridgeModel.score(x_val, y_val))"
   ]
  },
  {
   "cell_type": "markdown",
   "metadata": {
    "id": "MfXrsoqTvvbr"
   },
   "source": [
    "もう満足だが、ラッソ回帰もやってみる"
   ]
  },
  {
   "cell_type": "code",
   "execution_count": null,
   "metadata": {
    "colab": {
     "base_uri": "https://localhost:8080/"
    },
    "executionInfo": {
     "elapsed": 355,
     "status": "ok",
     "timestamp": 1647333147922,
     "user": {
      "displayName": "松宮正弥",
      "photoUrl": "https://lh3.googleusercontent.com/a/default-user=s64",
      "userId": "03574679515194343736"
     },
     "user_tz": -540
    },
    "id": "Kn10pvW32H1z",
    "outputId": "2cd5bdf8-1db9-4879-8307-8803d7e9d816"
   },
   "outputs": [
    {
     "name": "stdout",
     "output_type": "stream",
     "text": [
      "0.8200177990482742\n",
      "0.8951138031983791\n"
     ]
    }
   ],
   "source": [
    "from sklearn.linear_model import Lasso\n",
    "\n",
    "x_train, x_val, y_train, y_val = train_test_split(pf_x,\n",
    "    sc_y, test_size = 0.3, random_state = 0)\n",
    "\n",
    "# ラッソ回帰のモデル作成（alphaは正則化項につく定数）\n",
    "model = Lasso(alpha = 0.1)\n",
    "model.fit(x_train, y_train)\n",
    "\n",
    "print(model.score(x_train, y_train)) # 訓練データの決定係数\n",
    "print(model.score(x_val, y_val)) # テストデータの決定係数"
   ]
  },
  {
   "cell_type": "markdown",
   "metadata": {
    "id": "gD3C7M6W2oRn"
   },
   "source": [
    "回帰木も試す（試行錯誤のすえ、木の最大深さは6にする）"
   ]
  },
  {
   "cell_type": "code",
   "execution_count": null,
   "metadata": {
    "colab": {
     "base_uri": "https://localhost:8080/"
    },
    "executionInfo": {
     "elapsed": 506,
     "status": "ok",
     "timestamp": 1647333609238,
     "user": {
      "displayName": "松宮正弥",
      "photoUrl": "https://lh3.googleusercontent.com/a/default-user=s64",
      "userId": "03574679515194343736"
     },
     "user_tz": -540
    },
    "id": "im6Vy4Y53AMY",
    "outputId": "506ffbf8-9c16-4a40-cf82-80e885c2c531"
   },
   "outputs": [
    {
     "data": {
      "text/plain": [
       "0.8361375563113129"
      ]
     },
     "execution_count": 111,
     "metadata": {},
     "output_type": "execute_result"
    }
   ],
   "source": [
    "from sklearn.tree import DecisionTreeRegressor\n",
    "\n",
    "x_train, x_val, y_train, y_val = train_test_split(pf_x,\n",
    "    sc_y, test_size = 0.3, random_state = 0)\n",
    "\n",
    "# 木の深さの最大を6と設定←いろいろ試した結果6がよかった\n",
    "model = DecisionTreeRegressor(max_depth = 6,\n",
    "random_state = 0)\n",
    "model.fit(x_train, y_train)\n",
    "model.score(x_val, y_val) # テストデータでの決定係数"
   ]
  },
  {
   "cell_type": "markdown",
   "metadata": {
    "id": "hEkKpX_84Rhg"
   },
   "source": [
    "結論\n",
    "\n",
    "重回帰分析:0.8833301485584578\n",
    "\n",
    "チューニング（排気量の3乗）後:0.9003466454438154\n",
    "\n",
    "累乗列と交互作用特徴量を一括追加してから\n",
    "\n",
    "  リッジ回帰:0.9333385993082661\n",
    "  \n",
    "  さらに正規化項を調整0.9333589321825809\n",
    "\n",
    "  ラッソ回帰:0.8951138031983791\n",
    "\n",
    "  回帰木:0.8361375563113129\n",
    "\n"
   ]
  },
  {
   "cell_type": "markdown",
   "metadata": {
    "id": "rrH-97NL7bIe"
   },
   "source": [
    "リッジ回帰を利用し、テストデータでの評価を行う\n",
    "\n",
    "まずはテストデータでの前処理"
   ]
  },
  {
   "cell_type": "markdown",
   "metadata": {
    "id": "xiIsbJXn9HA4"
   },
   "source": [
    "欠損値の確認"
   ]
  },
  {
   "cell_type": "code",
   "execution_count": null,
   "metadata": {
    "colab": {
     "base_uri": "https://localhost:8080/"
    },
    "executionInfo": {
     "elapsed": 867,
     "status": "ok",
     "timestamp": 1647333851760,
     "user": {
      "displayName": "松宮正弥",
      "photoUrl": "https://lh3.googleusercontent.com/a/default-user=s64",
      "userId": "03574679515194343736"
     },
     "user_tz": -540
    },
    "id": "m4tA5DHDsNiv",
    "outputId": "71f54cdf-1437-457d-ec8a-f0f789dc6a58"
   },
   "outputs": [
    {
     "data": {
      "text/plain": [
       "Unnamed: 0      0\n",
       "MPG             0\n",
       "Cylinders       0\n",
       "Displacement    0\n",
       "Horsepower      1\n",
       "Weight          0\n",
       "Acceleration    0\n",
       "Model Year      0\n",
       "eu              0\n",
       "ja              0\n",
       "dtype: int64"
      ]
     },
     "execution_count": 112,
     "metadata": {},
     "output_type": "execute_result"
    }
   ],
   "source": [
    "test.isnull().sum()"
   ]
  },
  {
   "cell_type": "markdown",
   "metadata": {
    "id": "XDAFZqck9Lsf"
   },
   "source": [
    "欠損値を教師あり学習により補完"
   ]
  },
  {
   "cell_type": "code",
   "execution_count": null,
   "metadata": {
    "colab": {
     "base_uri": "https://localhost:8080/"
    },
    "executionInfo": {
     "elapsed": 3,
     "status": "ok",
     "timestamp": 1647333856662,
     "user": {
      "displayName": "松宮正弥",
      "photoUrl": "https://lh3.googleusercontent.com/a/default-user=s64",
      "userId": "03574679515194343736"
     },
     "user_tz": -540
    },
    "id": "W3N0Z9k_vsjA",
    "outputId": "c38fa0d1-e6ea-4a59-9e51-af5acdc0cd4c"
   },
   "outputs": [
    {
     "data": {
      "text/plain": [
       "LinearRegression()"
      ]
     },
     "execution_count": 113,
     "metadata": {},
     "output_type": "execute_result"
    }
   ],
   "source": [
    "non_df = test.dropna() # 欠損値を含む行を削除\n",
    "\n",
    "\n",
    "from sklearn.linear_model import LinearRegression\n",
    "x = non_df.loc[:,[\"MPG\",\"Cylinders\"\t,\"Displacement\",\"Weight\",\"Acceleration\",\"Model Year\",\"eu\",\"ja\"]]\n",
    "t = non_df['Horsepower']\n",
    "model = LinearRegression()\n",
    "model.fit(x,t) # 欠損値予測のためのモデルを予測"
   ]
  },
  {
   "cell_type": "code",
   "execution_count": null,
   "metadata": {
    "id": "uZHgbPfw8df4"
   },
   "outputs": [],
   "source": [
    "# 欠損行の抜き出し\n",
    "condition = test['Horsepower'].isnull()\n",
    "non_data = test.loc[ condition ]\n",
    "\n",
    "\n",
    "# 欠損行の入力に利用する特徴量だけを抜き出して、モデルで予測\n",
    "x = non_data.loc[:,[\"MPG\",\"Cylinders\"\t,\"Displacement\",\"Weight\",\"Acceleration\",\"Model Year\",\"eu\",\"ja\"]]\n",
    "pred = model.predict(x)\n",
    "\n",
    "\n",
    "# 欠損行のHorsepowerのマスを抜き出して、predで代入\n",
    "test.loc[condition,'Horsepower']=pred"
   ]
  },
  {
   "cell_type": "markdown",
   "metadata": {
    "id": "95xrY2fk9d1E"
   },
   "source": [
    "欠損値がなくなったことを確認"
   ]
  },
  {
   "cell_type": "code",
   "execution_count": null,
   "metadata": {
    "colab": {
     "base_uri": "https://localhost:8080/"
    },
    "executionInfo": {
     "elapsed": 590,
     "status": "ok",
     "timestamp": 1647333869158,
     "user": {
      "displayName": "松宮正弥",
      "photoUrl": "https://lh3.googleusercontent.com/a/default-user=s64",
      "userId": "03574679515194343736"
     },
     "user_tz": -540
    },
    "id": "FMBP-reI9Apm",
    "outputId": "2b19a6f4-7f96-41d0-8e6f-ec92f098a1f7"
   },
   "outputs": [
    {
     "data": {
      "text/plain": [
       "Unnamed: 0      0\n",
       "MPG             0\n",
       "Cylinders       0\n",
       "Displacement    0\n",
       "Horsepower      0\n",
       "Weight          0\n",
       "Acceleration    0\n",
       "Model Year      0\n",
       "eu              0\n",
       "ja              0\n",
       "dtype: int64"
      ]
     },
     "execution_count": 115,
     "metadata": {},
     "output_type": "execute_result"
    }
   ],
   "source": [
    "test.isnull().sum()"
   ]
  },
  {
   "cell_type": "markdown",
   "metadata": {
    "id": "97RbcYOGxWC0"
   },
   "source": [
    "データをxとtに分割する"
   ]
  },
  {
   "cell_type": "code",
   "execution_count": null,
   "metadata": {
    "id": "ip7DmF7Z9D6U"
   },
   "outputs": [],
   "source": [
    "test2=test.loc[:,\"MPG\":\"ja\"]\n",
    "\n",
    "col =['Weight','Displacement','Cylinders','Horsepower','Model Year','ja']\n",
    "x = test2[col]\n",
    "t = test2[['MPG']]"
   ]
  },
  {
   "cell_type": "markdown",
   "metadata": {
    "id": "8gj4kdGuBHLW"
   },
   "source": [
    "標準化や2,3乗列・交互作用項の追加を行う"
   ]
  },
  {
   "cell_type": "code",
   "execution_count": null,
   "metadata": {
    "colab": {
     "base_uri": "https://localhost:8080/"
    },
    "executionInfo": {
     "elapsed": 792,
     "status": "ok",
     "timestamp": 1647334246785,
     "user": {
      "displayName": "松宮正弥",
      "photoUrl": "https://lh3.googleusercontent.com/a/default-user=s64",
      "userId": "03574679515194343736"
     },
     "user_tz": -540
    },
    "id": "Z6lqqIwH-LT2",
    "outputId": "8558a63b-0b79-4379-f8f6-3452993953c1"
   },
   "outputs": [
    {
     "data": {
      "text/plain": [
       "(80, 83)"
      ]
     },
     "execution_count": 120,
     "metadata": {},
     "output_type": "execute_result"
    }
   ],
   "source": [
    "from sklearn.preprocessing import PolynomialFeatures\n",
    "from sklearn.preprocessing import StandardScaler\n",
    "\n",
    "sc_model_x = StandardScaler()\n",
    "sc_model_x.fit(x)\n",
    "\n",
    "# 各列のデータを標準化してsc_xに代入\n",
    "sc_x = sc_model_x.transform(x)\n",
    "\n",
    "sc_model_y = StandardScaler()\n",
    "sc_model_y.fit(t)\n",
    "\n",
    "sc_y = sc_model_y.transform(t)\n",
    "\n",
    "pf = PolynomialFeatures(degree = 3, include_bias = False)\n",
    "pf_x = pf.fit_transform(sc_x) # 2,3乗列と交互作用項の追加\n",
    "pf_x.shape # 行数と列数"
   ]
  },
  {
   "cell_type": "markdown",
   "metadata": {
    "id": "D51lpEiYBBwo"
   },
   "source": [
    "リッジ回帰モデルで決定係数を求める"
   ]
  },
  {
   "cell_type": "code",
   "execution_count": null,
   "metadata": {
    "colab": {
     "base_uri": "https://localhost:8080/"
    },
    "executionInfo": {
     "elapsed": 555,
     "status": "ok",
     "timestamp": 1647334252463,
     "user": {
      "displayName": "松宮正弥",
      "photoUrl": "https://lh3.googleusercontent.com/a/default-user=s64",
      "userId": "03574679515194343736"
     },
     "user_tz": -540
    },
    "id": "qItpNhK-_K9K",
    "outputId": "a370653b-c746-494c-846c-cc111d9345ac"
   },
   "outputs": [
    {
     "name": "stdout",
     "output_type": "stream",
     "text": [
      "0.8334931286263619\n"
     ]
    }
   ],
   "source": [
    "print(ridgeModel.score(pf_x, sc_y))"
   ]
  },
  {
   "cell_type": "markdown",
   "metadata": {
    "id": "9heI-rYWBANp"
   },
   "source": [
    "モデルを保存する\n",
    "\n",
    "標準化のためのオブジェクトも保存する"
   ]
  },
  {
   "cell_type": "code",
   "execution_count": null,
   "metadata": {
    "id": "WFpeJKLg_MpG"
   },
   "outputs": [],
   "source": [
    "import pickle\n",
    "with open('auto_mpg.pkl',\"wb\") as f:\n",
    "    pickle.dump(ridgeModel,f)\n",
    "with open('auto_scx.pkl','wb') as f:\n",
    "    pickle.dump(sc_model_x,f)\n",
    "with open('auto_scy.pkl','wb') as f:\n",
    "    pickle.dump(sc_model_y,f)\n"
   ]
  },
  {
   "cell_type": "code",
   "execution_count": null,
   "metadata": {
    "id": "v-iVoaYUCqi-"
   },
   "outputs": [],
   "source": []
  }
 ],
 "metadata": {
  "colab": {
   "authorship_tag": "ABX9TyOedjRAYk7WXgPNkVoKa7MX",
   "collapsed_sections": [],
   "mount_file_id": "1lsrOuOtWArc6oWnp4y8nnrhQ8u81HRj4",
   "name": "kouka_kaiki.ipynb",
   "provenance": []
  },
  "kernelspec": {
   "display_name": "Python 3",
   "language": "python",
   "name": "python3"
  },
  "language_info": {
   "codemirror_mode": {
    "name": "ipython",
    "version": 3
   },
   "file_extension": ".py",
   "mimetype": "text/x-python",
   "name": "python",
   "nbconvert_exporter": "python",
   "pygments_lexer": "ipython3",
   "version": "3.8.5"
  }
 },
 "nbformat": 4,
 "nbformat_minor": 1
}
