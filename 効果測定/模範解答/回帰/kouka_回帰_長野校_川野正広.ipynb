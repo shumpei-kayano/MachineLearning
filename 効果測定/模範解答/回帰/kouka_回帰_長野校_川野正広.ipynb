{
 "cells": [
  {
   "cell_type": "code",
   "execution_count": null,
   "metadata": {
    "id": "Nln-HILEiG0m"
   },
   "outputs": [],
   "source": [
    "mkdir data"
   ]
  },
  {
   "cell_type": "code",
   "execution_count": 95,
   "metadata": {
    "colab": {
     "base_uri": "https://localhost:8080/"
    },
    "id": "BSx3RHJBiJz3",
    "outputId": "f11f3a56-41ad-4526-a65c-248e19efe92c"
   },
   "outputs": [
    {
     "name": "stdout",
     "output_type": "stream",
     "text": [
      "[Errno 2] No such file or directory: 'data'\n",
      "/content/data\n"
     ]
    }
   ],
   "source": [
    "cd data"
   ]
  },
  {
   "cell_type": "code",
   "execution_count": 96,
   "metadata": {
    "colab": {
     "base_uri": "https://localhost:8080/"
    },
    "id": "7BBocYe7iVbF",
    "outputId": "a9fcef83-80ac-43c3-c402-0cd60acb55f6"
   },
   "outputs": [
    {
     "name": "stdout",
     "output_type": "stream",
     "text": [
      "Requirement already satisfied: japanize-matplotlib in /usr/local/lib/python3.7/dist-packages (1.1.3)\n",
      "Requirement already satisfied: matplotlib in /usr/local/lib/python3.7/dist-packages (from japanize-matplotlib) (3.2.2)\n",
      "Requirement already satisfied: cycler>=0.10 in /usr/local/lib/python3.7/dist-packages (from matplotlib->japanize-matplotlib) (0.11.0)\n",
      "Requirement already satisfied: python-dateutil>=2.1 in /usr/local/lib/python3.7/dist-packages (from matplotlib->japanize-matplotlib) (2.8.2)\n",
      "Requirement already satisfied: pyparsing!=2.0.4,!=2.1.2,!=2.1.6,>=2.0.1 in /usr/local/lib/python3.7/dist-packages (from matplotlib->japanize-matplotlib) (3.0.7)\n",
      "Requirement already satisfied: kiwisolver>=1.0.1 in /usr/local/lib/python3.7/dist-packages (from matplotlib->japanize-matplotlib) (1.3.2)\n",
      "Requirement already satisfied: numpy>=1.11 in /usr/local/lib/python3.7/dist-packages (from matplotlib->japanize-matplotlib) (1.21.5)\n",
      "Requirement already satisfied: six>=1.5 in /usr/local/lib/python3.7/dist-packages (from python-dateutil>=2.1->matplotlib->japanize-matplotlib) (1.15.0)\n"
     ]
    }
   ],
   "source": [
    "# matplotlib日本語化のためのライブラリのインストール\n",
    "!pip install japanize-matplotlib"
   ]
  },
  {
   "cell_type": "code",
   "execution_count": 97,
   "metadata": {
    "id": "B4Q5XWS-ii6h"
   },
   "outputs": [],
   "source": [
    "# 各種ライブラリのインポート\n",
    "import pandas as pd\n",
    "import japanize_matplotlib\n",
    "%matplotlib inline\n",
    "from sklearn.linear_model import LinearRegression\n",
    "from sklearn.model_selection import train_test_split"
   ]
  },
  {
   "cell_type": "code",
   "execution_count": 98,
   "metadata": {
    "id": "ELGmzwOFikzd"
   },
   "outputs": [],
   "source": [
    "# csvファイルの読み込み\n",
    "df = pd.read_csv('auto_mgp.csv', encoding='cp932')"
   ]
  },
  {
   "cell_type": "code",
   "execution_count": 99,
   "metadata": {
    "colab": {
     "base_uri": "https://localhost:8080/",
     "height": 206
    },
    "id": "YpuIHhHXiqLo",
    "outputId": "46aaddf3-1845-4fce-f6b6-a3171cb80ed1"
   },
   "outputs": [
    {
     "data": {
      "text/html": [
       "\n",
       "  <div id=\"df-578dcef1-4829-4a11-846c-b1d5adc8ec7f\">\n",
       "    <div class=\"colab-df-container\">\n",
       "      <div>\n",
       "<style scoped>\n",
       "    .dataframe tbody tr th:only-of-type {\n",
       "        vertical-align: middle;\n",
       "    }\n",
       "\n",
       "    .dataframe tbody tr th {\n",
       "        vertical-align: top;\n",
       "    }\n",
       "\n",
       "    .dataframe thead th {\n",
       "        text-align: right;\n",
       "    }\n",
       "</style>\n",
       "<table border=\"1\" class=\"dataframe\">\n",
       "  <thead>\n",
       "    <tr style=\"text-align: right;\">\n",
       "      <th></th>\n",
       "      <th>Unnamed: 0</th>\n",
       "      <th>MPG</th>\n",
       "      <th>Cylinders</th>\n",
       "      <th>Displacement</th>\n",
       "      <th>Horsepower</th>\n",
       "      <th>Weight</th>\n",
       "      <th>Acceleration</th>\n",
       "      <th>Model Year</th>\n",
       "      <th>Origin</th>\n",
       "    </tr>\n",
       "  </thead>\n",
       "  <tbody>\n",
       "    <tr>\n",
       "      <th>0</th>\n",
       "      <td>0</td>\n",
       "      <td>18.0</td>\n",
       "      <td>8</td>\n",
       "      <td>307.0</td>\n",
       "      <td>130.0</td>\n",
       "      <td>3504</td>\n",
       "      <td>12.0</td>\n",
       "      <td>70</td>\n",
       "      <td>1</td>\n",
       "    </tr>\n",
       "    <tr>\n",
       "      <th>1</th>\n",
       "      <td>1</td>\n",
       "      <td>15.0</td>\n",
       "      <td>8</td>\n",
       "      <td>350.0</td>\n",
       "      <td>165.0</td>\n",
       "      <td>3693</td>\n",
       "      <td>11.5</td>\n",
       "      <td>70</td>\n",
       "      <td>1</td>\n",
       "    </tr>\n",
       "    <tr>\n",
       "      <th>2</th>\n",
       "      <td>2</td>\n",
       "      <td>18.0</td>\n",
       "      <td>8</td>\n",
       "      <td>318.0</td>\n",
       "      <td>150.0</td>\n",
       "      <td>3436</td>\n",
       "      <td>11.0</td>\n",
       "      <td>70</td>\n",
       "      <td>1</td>\n",
       "    </tr>\n",
       "    <tr>\n",
       "      <th>3</th>\n",
       "      <td>3</td>\n",
       "      <td>16.0</td>\n",
       "      <td>8</td>\n",
       "      <td>304.0</td>\n",
       "      <td>150.0</td>\n",
       "      <td>3433</td>\n",
       "      <td>12.0</td>\n",
       "      <td>70</td>\n",
       "      <td>1</td>\n",
       "    </tr>\n",
       "    <tr>\n",
       "      <th>4</th>\n",
       "      <td>4</td>\n",
       "      <td>17.0</td>\n",
       "      <td>8</td>\n",
       "      <td>302.0</td>\n",
       "      <td>140.0</td>\n",
       "      <td>3449</td>\n",
       "      <td>10.5</td>\n",
       "      <td>70</td>\n",
       "      <td>1</td>\n",
       "    </tr>\n",
       "  </tbody>\n",
       "</table>\n",
       "</div>\n",
       "      <button class=\"colab-df-convert\" onclick=\"convertToInteractive('df-578dcef1-4829-4a11-846c-b1d5adc8ec7f')\"\n",
       "              title=\"Convert this dataframe to an interactive table.\"\n",
       "              style=\"display:none;\">\n",
       "        \n",
       "  <svg xmlns=\"http://www.w3.org/2000/svg\" height=\"24px\"viewBox=\"0 0 24 24\"\n",
       "       width=\"24px\">\n",
       "    <path d=\"M0 0h24v24H0V0z\" fill=\"none\"/>\n",
       "    <path d=\"M18.56 5.44l.94 2.06.94-2.06 2.06-.94-2.06-.94-.94-2.06-.94 2.06-2.06.94zm-11 1L8.5 8.5l.94-2.06 2.06-.94-2.06-.94L8.5 2.5l-.94 2.06-2.06.94zm10 10l.94 2.06.94-2.06 2.06-.94-2.06-.94-.94-2.06-.94 2.06-2.06.94z\"/><path d=\"M17.41 7.96l-1.37-1.37c-.4-.4-.92-.59-1.43-.59-.52 0-1.04.2-1.43.59L10.3 9.45l-7.72 7.72c-.78.78-.78 2.05 0 2.83L4 21.41c.39.39.9.59 1.41.59.51 0 1.02-.2 1.41-.59l7.78-7.78 2.81-2.81c.8-.78.8-2.07 0-2.86zM5.41 20L4 18.59l7.72-7.72 1.47 1.35L5.41 20z\"/>\n",
       "  </svg>\n",
       "      </button>\n",
       "      \n",
       "  <style>\n",
       "    .colab-df-container {\n",
       "      display:flex;\n",
       "      flex-wrap:wrap;\n",
       "      gap: 12px;\n",
       "    }\n",
       "\n",
       "    .colab-df-convert {\n",
       "      background-color: #E8F0FE;\n",
       "      border: none;\n",
       "      border-radius: 50%;\n",
       "      cursor: pointer;\n",
       "      display: none;\n",
       "      fill: #1967D2;\n",
       "      height: 32px;\n",
       "      padding: 0 0 0 0;\n",
       "      width: 32px;\n",
       "    }\n",
       "\n",
       "    .colab-df-convert:hover {\n",
       "      background-color: #E2EBFA;\n",
       "      box-shadow: 0px 1px 2px rgba(60, 64, 67, 0.3), 0px 1px 3px 1px rgba(60, 64, 67, 0.15);\n",
       "      fill: #174EA6;\n",
       "    }\n",
       "\n",
       "    [theme=dark] .colab-df-convert {\n",
       "      background-color: #3B4455;\n",
       "      fill: #D2E3FC;\n",
       "    }\n",
       "\n",
       "    [theme=dark] .colab-df-convert:hover {\n",
       "      background-color: #434B5C;\n",
       "      box-shadow: 0px 1px 3px 1px rgba(0, 0, 0, 0.15);\n",
       "      filter: drop-shadow(0px 1px 2px rgba(0, 0, 0, 0.3));\n",
       "      fill: #FFFFFF;\n",
       "    }\n",
       "  </style>\n",
       "\n",
       "      <script>\n",
       "        const buttonEl =\n",
       "          document.querySelector('#df-578dcef1-4829-4a11-846c-b1d5adc8ec7f button.colab-df-convert');\n",
       "        buttonEl.style.display =\n",
       "          google.colab.kernel.accessAllowed ? 'block' : 'none';\n",
       "\n",
       "        async function convertToInteractive(key) {\n",
       "          const element = document.querySelector('#df-578dcef1-4829-4a11-846c-b1d5adc8ec7f');\n",
       "          const dataTable =\n",
       "            await google.colab.kernel.invokeFunction('convertToInteractive',\n",
       "                                                     [key], {});\n",
       "          if (!dataTable) return;\n",
       "\n",
       "          const docLinkHtml = 'Like what you see? Visit the ' +\n",
       "            '<a target=\"_blank\" href=https://colab.research.google.com/notebooks/data_table.ipynb>data table notebook</a>'\n",
       "            + ' to learn more about interactive tables.';\n",
       "          element.innerHTML = '';\n",
       "          dataTable['output_type'] = 'display_data';\n",
       "          await google.colab.output.renderOutput(dataTable, element);\n",
       "          const docLink = document.createElement('div');\n",
       "          docLink.innerHTML = docLinkHtml;\n",
       "          element.appendChild(docLink);\n",
       "        }\n",
       "      </script>\n",
       "    </div>\n",
       "  </div>\n",
       "  "
      ],
      "text/plain": [
       "   Unnamed: 0   MPG  Cylinders  Displacement  Horsepower  Weight  \\\n",
       "0           0  18.0          8         307.0       130.0    3504   \n",
       "1           1  15.0          8         350.0       165.0    3693   \n",
       "2           2  18.0          8         318.0       150.0    3436   \n",
       "3           3  16.0          8         304.0       150.0    3433   \n",
       "4           4  17.0          8         302.0       140.0    3449   \n",
       "\n",
       "   Acceleration  Model Year  Origin  \n",
       "0          12.0          70       1  \n",
       "1          11.5          70       1  \n",
       "2          11.0          70       1  \n",
       "3          12.0          70       1  \n",
       "4          10.5          70       1  "
      ]
     },
     "execution_count": 99,
     "metadata": {},
     "output_type": "execute_result"
    }
   ],
   "source": [
    "# 先頭5行表示\n",
    "df.head(5)"
   ]
  },
  {
   "cell_type": "code",
   "execution_count": 100,
   "metadata": {
    "colab": {
     "base_uri": "https://localhost:8080/",
     "height": 206
    },
    "id": "Pxf2Lhzditk5",
    "outputId": "f6949b9e-7d63-449b-ee27-32e52663401f"
   },
   "outputs": [
    {
     "data": {
      "text/html": [
       "\n",
       "  <div id=\"df-36c28191-924e-4080-8f12-6d733d0f7263\">\n",
       "    <div class=\"colab-df-container\">\n",
       "      <div>\n",
       "<style scoped>\n",
       "    .dataframe tbody tr th:only-of-type {\n",
       "        vertical-align: middle;\n",
       "    }\n",
       "\n",
       "    .dataframe tbody tr th {\n",
       "        vertical-align: top;\n",
       "    }\n",
       "\n",
       "    .dataframe thead th {\n",
       "        text-align: right;\n",
       "    }\n",
       "</style>\n",
       "<table border=\"1\" class=\"dataframe\">\n",
       "  <thead>\n",
       "    <tr style=\"text-align: right;\">\n",
       "      <th></th>\n",
       "      <th>Unnamed: 0</th>\n",
       "      <th>MPG</th>\n",
       "      <th>Cylinders</th>\n",
       "      <th>Displacement</th>\n",
       "      <th>Horsepower</th>\n",
       "      <th>Weight</th>\n",
       "      <th>Acceleration</th>\n",
       "      <th>Model Year</th>\n",
       "      <th>Origin</th>\n",
       "    </tr>\n",
       "  </thead>\n",
       "  <tbody>\n",
       "    <tr>\n",
       "      <th>393</th>\n",
       "      <td>393</td>\n",
       "      <td>27.0</td>\n",
       "      <td>4</td>\n",
       "      <td>140.0</td>\n",
       "      <td>86.0</td>\n",
       "      <td>2790</td>\n",
       "      <td>15.6</td>\n",
       "      <td>82</td>\n",
       "      <td>1</td>\n",
       "    </tr>\n",
       "    <tr>\n",
       "      <th>394</th>\n",
       "      <td>394</td>\n",
       "      <td>44.0</td>\n",
       "      <td>4</td>\n",
       "      <td>97.0</td>\n",
       "      <td>52.0</td>\n",
       "      <td>2130</td>\n",
       "      <td>24.6</td>\n",
       "      <td>82</td>\n",
       "      <td>2</td>\n",
       "    </tr>\n",
       "    <tr>\n",
       "      <th>395</th>\n",
       "      <td>395</td>\n",
       "      <td>32.0</td>\n",
       "      <td>4</td>\n",
       "      <td>135.0</td>\n",
       "      <td>84.0</td>\n",
       "      <td>2295</td>\n",
       "      <td>11.6</td>\n",
       "      <td>82</td>\n",
       "      <td>1</td>\n",
       "    </tr>\n",
       "    <tr>\n",
       "      <th>396</th>\n",
       "      <td>396</td>\n",
       "      <td>28.0</td>\n",
       "      <td>4</td>\n",
       "      <td>120.0</td>\n",
       "      <td>79.0</td>\n",
       "      <td>2625</td>\n",
       "      <td>18.6</td>\n",
       "      <td>82</td>\n",
       "      <td>1</td>\n",
       "    </tr>\n",
       "    <tr>\n",
       "      <th>397</th>\n",
       "      <td>397</td>\n",
       "      <td>31.0</td>\n",
       "      <td>4</td>\n",
       "      <td>119.0</td>\n",
       "      <td>82.0</td>\n",
       "      <td>2720</td>\n",
       "      <td>19.4</td>\n",
       "      <td>82</td>\n",
       "      <td>1</td>\n",
       "    </tr>\n",
       "  </tbody>\n",
       "</table>\n",
       "</div>\n",
       "      <button class=\"colab-df-convert\" onclick=\"convertToInteractive('df-36c28191-924e-4080-8f12-6d733d0f7263')\"\n",
       "              title=\"Convert this dataframe to an interactive table.\"\n",
       "              style=\"display:none;\">\n",
       "        \n",
       "  <svg xmlns=\"http://www.w3.org/2000/svg\" height=\"24px\"viewBox=\"0 0 24 24\"\n",
       "       width=\"24px\">\n",
       "    <path d=\"M0 0h24v24H0V0z\" fill=\"none\"/>\n",
       "    <path d=\"M18.56 5.44l.94 2.06.94-2.06 2.06-.94-2.06-.94-.94-2.06-.94 2.06-2.06.94zm-11 1L8.5 8.5l.94-2.06 2.06-.94-2.06-.94L8.5 2.5l-.94 2.06-2.06.94zm10 10l.94 2.06.94-2.06 2.06-.94-2.06-.94-.94-2.06-.94 2.06-2.06.94z\"/><path d=\"M17.41 7.96l-1.37-1.37c-.4-.4-.92-.59-1.43-.59-.52 0-1.04.2-1.43.59L10.3 9.45l-7.72 7.72c-.78.78-.78 2.05 0 2.83L4 21.41c.39.39.9.59 1.41.59.51 0 1.02-.2 1.41-.59l7.78-7.78 2.81-2.81c.8-.78.8-2.07 0-2.86zM5.41 20L4 18.59l7.72-7.72 1.47 1.35L5.41 20z\"/>\n",
       "  </svg>\n",
       "      </button>\n",
       "      \n",
       "  <style>\n",
       "    .colab-df-container {\n",
       "      display:flex;\n",
       "      flex-wrap:wrap;\n",
       "      gap: 12px;\n",
       "    }\n",
       "\n",
       "    .colab-df-convert {\n",
       "      background-color: #E8F0FE;\n",
       "      border: none;\n",
       "      border-radius: 50%;\n",
       "      cursor: pointer;\n",
       "      display: none;\n",
       "      fill: #1967D2;\n",
       "      height: 32px;\n",
       "      padding: 0 0 0 0;\n",
       "      width: 32px;\n",
       "    }\n",
       "\n",
       "    .colab-df-convert:hover {\n",
       "      background-color: #E2EBFA;\n",
       "      box-shadow: 0px 1px 2px rgba(60, 64, 67, 0.3), 0px 1px 3px 1px rgba(60, 64, 67, 0.15);\n",
       "      fill: #174EA6;\n",
       "    }\n",
       "\n",
       "    [theme=dark] .colab-df-convert {\n",
       "      background-color: #3B4455;\n",
       "      fill: #D2E3FC;\n",
       "    }\n",
       "\n",
       "    [theme=dark] .colab-df-convert:hover {\n",
       "      background-color: #434B5C;\n",
       "      box-shadow: 0px 1px 3px 1px rgba(0, 0, 0, 0.15);\n",
       "      filter: drop-shadow(0px 1px 2px rgba(0, 0, 0, 0.3));\n",
       "      fill: #FFFFFF;\n",
       "    }\n",
       "  </style>\n",
       "\n",
       "      <script>\n",
       "        const buttonEl =\n",
       "          document.querySelector('#df-36c28191-924e-4080-8f12-6d733d0f7263 button.colab-df-convert');\n",
       "        buttonEl.style.display =\n",
       "          google.colab.kernel.accessAllowed ? 'block' : 'none';\n",
       "\n",
       "        async function convertToInteractive(key) {\n",
       "          const element = document.querySelector('#df-36c28191-924e-4080-8f12-6d733d0f7263');\n",
       "          const dataTable =\n",
       "            await google.colab.kernel.invokeFunction('convertToInteractive',\n",
       "                                                     [key], {});\n",
       "          if (!dataTable) return;\n",
       "\n",
       "          const docLinkHtml = 'Like what you see? Visit the ' +\n",
       "            '<a target=\"_blank\" href=https://colab.research.google.com/notebooks/data_table.ipynb>data table notebook</a>'\n",
       "            + ' to learn more about interactive tables.';\n",
       "          element.innerHTML = '';\n",
       "          dataTable['output_type'] = 'display_data';\n",
       "          await google.colab.output.renderOutput(dataTable, element);\n",
       "          const docLink = document.createElement('div');\n",
       "          docLink.innerHTML = docLinkHtml;\n",
       "          element.appendChild(docLink);\n",
       "        }\n",
       "      </script>\n",
       "    </div>\n",
       "  </div>\n",
       "  "
      ],
      "text/plain": [
       "     Unnamed: 0   MPG  Cylinders  Displacement  Horsepower  Weight  \\\n",
       "393         393  27.0          4         140.0        86.0    2790   \n",
       "394         394  44.0          4          97.0        52.0    2130   \n",
       "395         395  32.0          4         135.0        84.0    2295   \n",
       "396         396  28.0          4         120.0        79.0    2625   \n",
       "397         397  31.0          4         119.0        82.0    2720   \n",
       "\n",
       "     Acceleration  Model Year  Origin  \n",
       "393          15.6          82       1  \n",
       "394          24.6          82       2  \n",
       "395          11.6          82       1  \n",
       "396          18.6          82       1  \n",
       "397          19.4          82       1  "
      ]
     },
     "execution_count": 100,
     "metadata": {},
     "output_type": "execute_result"
    }
   ],
   "source": [
    "# 末尾5行表示\n",
    "df.tail(5)"
   ]
  },
  {
   "cell_type": "code",
   "execution_count": 101,
   "metadata": {
    "colab": {
     "base_uri": "https://localhost:8080/",
     "height": 206
    },
    "id": "HttFe_ohiwtf",
    "outputId": "ecce8ab0-c326-415f-e95e-c63e5e398059"
   },
   "outputs": [
    {
     "data": {
      "text/html": [
       "\n",
       "  <div id=\"df-54c2ee9b-bbed-47e3-b75a-b4653aa57748\">\n",
       "    <div class=\"colab-df-container\">\n",
       "      <div>\n",
       "<style scoped>\n",
       "    .dataframe tbody tr th:only-of-type {\n",
       "        vertical-align: middle;\n",
       "    }\n",
       "\n",
       "    .dataframe tbody tr th {\n",
       "        vertical-align: top;\n",
       "    }\n",
       "\n",
       "    .dataframe thead th {\n",
       "        text-align: right;\n",
       "    }\n",
       "</style>\n",
       "<table border=\"1\" class=\"dataframe\">\n",
       "  <thead>\n",
       "    <tr style=\"text-align: right;\">\n",
       "      <th></th>\n",
       "      <th>MPG</th>\n",
       "      <th>Cylinders</th>\n",
       "      <th>Displacement</th>\n",
       "      <th>Horsepower</th>\n",
       "      <th>Weight</th>\n",
       "      <th>Acceleration</th>\n",
       "      <th>Model Year</th>\n",
       "      <th>Origin</th>\n",
       "    </tr>\n",
       "  </thead>\n",
       "  <tbody>\n",
       "    <tr>\n",
       "      <th>0</th>\n",
       "      <td>18.0</td>\n",
       "      <td>8</td>\n",
       "      <td>307.0</td>\n",
       "      <td>130.0</td>\n",
       "      <td>3504</td>\n",
       "      <td>12.0</td>\n",
       "      <td>70</td>\n",
       "      <td>1</td>\n",
       "    </tr>\n",
       "    <tr>\n",
       "      <th>1</th>\n",
       "      <td>15.0</td>\n",
       "      <td>8</td>\n",
       "      <td>350.0</td>\n",
       "      <td>165.0</td>\n",
       "      <td>3693</td>\n",
       "      <td>11.5</td>\n",
       "      <td>70</td>\n",
       "      <td>1</td>\n",
       "    </tr>\n",
       "    <tr>\n",
       "      <th>2</th>\n",
       "      <td>18.0</td>\n",
       "      <td>8</td>\n",
       "      <td>318.0</td>\n",
       "      <td>150.0</td>\n",
       "      <td>3436</td>\n",
       "      <td>11.0</td>\n",
       "      <td>70</td>\n",
       "      <td>1</td>\n",
       "    </tr>\n",
       "    <tr>\n",
       "      <th>3</th>\n",
       "      <td>16.0</td>\n",
       "      <td>8</td>\n",
       "      <td>304.0</td>\n",
       "      <td>150.0</td>\n",
       "      <td>3433</td>\n",
       "      <td>12.0</td>\n",
       "      <td>70</td>\n",
       "      <td>1</td>\n",
       "    </tr>\n",
       "    <tr>\n",
       "      <th>4</th>\n",
       "      <td>17.0</td>\n",
       "      <td>8</td>\n",
       "      <td>302.0</td>\n",
       "      <td>140.0</td>\n",
       "      <td>3449</td>\n",
       "      <td>10.5</td>\n",
       "      <td>70</td>\n",
       "      <td>1</td>\n",
       "    </tr>\n",
       "  </tbody>\n",
       "</table>\n",
       "</div>\n",
       "      <button class=\"colab-df-convert\" onclick=\"convertToInteractive('df-54c2ee9b-bbed-47e3-b75a-b4653aa57748')\"\n",
       "              title=\"Convert this dataframe to an interactive table.\"\n",
       "              style=\"display:none;\">\n",
       "        \n",
       "  <svg xmlns=\"http://www.w3.org/2000/svg\" height=\"24px\"viewBox=\"0 0 24 24\"\n",
       "       width=\"24px\">\n",
       "    <path d=\"M0 0h24v24H0V0z\" fill=\"none\"/>\n",
       "    <path d=\"M18.56 5.44l.94 2.06.94-2.06 2.06-.94-2.06-.94-.94-2.06-.94 2.06-2.06.94zm-11 1L8.5 8.5l.94-2.06 2.06-.94-2.06-.94L8.5 2.5l-.94 2.06-2.06.94zm10 10l.94 2.06.94-2.06 2.06-.94-2.06-.94-.94-2.06-.94 2.06-2.06.94z\"/><path d=\"M17.41 7.96l-1.37-1.37c-.4-.4-.92-.59-1.43-.59-.52 0-1.04.2-1.43.59L10.3 9.45l-7.72 7.72c-.78.78-.78 2.05 0 2.83L4 21.41c.39.39.9.59 1.41.59.51 0 1.02-.2 1.41-.59l7.78-7.78 2.81-2.81c.8-.78.8-2.07 0-2.86zM5.41 20L4 18.59l7.72-7.72 1.47 1.35L5.41 20z\"/>\n",
       "  </svg>\n",
       "      </button>\n",
       "      \n",
       "  <style>\n",
       "    .colab-df-container {\n",
       "      display:flex;\n",
       "      flex-wrap:wrap;\n",
       "      gap: 12px;\n",
       "    }\n",
       "\n",
       "    .colab-df-convert {\n",
       "      background-color: #E8F0FE;\n",
       "      border: none;\n",
       "      border-radius: 50%;\n",
       "      cursor: pointer;\n",
       "      display: none;\n",
       "      fill: #1967D2;\n",
       "      height: 32px;\n",
       "      padding: 0 0 0 0;\n",
       "      width: 32px;\n",
       "    }\n",
       "\n",
       "    .colab-df-convert:hover {\n",
       "      background-color: #E2EBFA;\n",
       "      box-shadow: 0px 1px 2px rgba(60, 64, 67, 0.3), 0px 1px 3px 1px rgba(60, 64, 67, 0.15);\n",
       "      fill: #174EA6;\n",
       "    }\n",
       "\n",
       "    [theme=dark] .colab-df-convert {\n",
       "      background-color: #3B4455;\n",
       "      fill: #D2E3FC;\n",
       "    }\n",
       "\n",
       "    [theme=dark] .colab-df-convert:hover {\n",
       "      background-color: #434B5C;\n",
       "      box-shadow: 0px 1px 3px 1px rgba(0, 0, 0, 0.15);\n",
       "      filter: drop-shadow(0px 1px 2px rgba(0, 0, 0, 0.3));\n",
       "      fill: #FFFFFF;\n",
       "    }\n",
       "  </style>\n",
       "\n",
       "      <script>\n",
       "        const buttonEl =\n",
       "          document.querySelector('#df-54c2ee9b-bbed-47e3-b75a-b4653aa57748 button.colab-df-convert');\n",
       "        buttonEl.style.display =\n",
       "          google.colab.kernel.accessAllowed ? 'block' : 'none';\n",
       "\n",
       "        async function convertToInteractive(key) {\n",
       "          const element = document.querySelector('#df-54c2ee9b-bbed-47e3-b75a-b4653aa57748');\n",
       "          const dataTable =\n",
       "            await google.colab.kernel.invokeFunction('convertToInteractive',\n",
       "                                                     [key], {});\n",
       "          if (!dataTable) return;\n",
       "\n",
       "          const docLinkHtml = 'Like what you see? Visit the ' +\n",
       "            '<a target=\"_blank\" href=https://colab.research.google.com/notebooks/data_table.ipynb>data table notebook</a>'\n",
       "            + ' to learn more about interactive tables.';\n",
       "          element.innerHTML = '';\n",
       "          dataTable['output_type'] = 'display_data';\n",
       "          await google.colab.output.renderOutput(dataTable, element);\n",
       "          const docLink = document.createElement('div');\n",
       "          docLink.innerHTML = docLinkHtml;\n",
       "          element.appendChild(docLink);\n",
       "        }\n",
       "      </script>\n",
       "    </div>\n",
       "  </div>\n",
       "  "
      ],
      "text/plain": [
       "    MPG  Cylinders  Displacement  Horsepower  Weight  Acceleration  \\\n",
       "0  18.0          8         307.0       130.0    3504          12.0   \n",
       "1  15.0          8         350.0       165.0    3693          11.5   \n",
       "2  18.0          8         318.0       150.0    3436          11.0   \n",
       "3  16.0          8         304.0       150.0    3433          12.0   \n",
       "4  17.0          8         302.0       140.0    3449          10.5   \n",
       "\n",
       "   Model Year  Origin  \n",
       "0          70       1  \n",
       "1          70       1  \n",
       "2          70       1  \n",
       "3          70       1  \n",
       "4          70       1  "
      ]
     },
     "execution_count": 101,
     "metadata": {},
     "output_type": "execute_result"
    }
   ],
   "source": [
    "# 1列目、不要なので削除\n",
    "df2 = df.drop('Unnamed: 0', axis=1)\n",
    "df2.head(5)"
   ]
  },
  {
   "cell_type": "code",
   "execution_count": 160,
   "metadata": {
    "colab": {
     "base_uri": "https://localhost:8080/",
     "height": 423
    },
    "id": "MH4WjPrhnVxI",
    "outputId": "933977af-f5ae-478b-c637-e19f8e1d773a"
   },
   "outputs": [
    {
     "data": {
      "text/html": [
       "\n",
       "  <div id=\"df-985c1c0e-8494-4416-b223-05b69d34fb44\">\n",
       "    <div class=\"colab-df-container\">\n",
       "      <div>\n",
       "<style scoped>\n",
       "    .dataframe tbody tr th:only-of-type {\n",
       "        vertical-align: middle;\n",
       "    }\n",
       "\n",
       "    .dataframe tbody tr th {\n",
       "        vertical-align: top;\n",
       "    }\n",
       "\n",
       "    .dataframe thead th {\n",
       "        text-align: right;\n",
       "    }\n",
       "</style>\n",
       "<table border=\"1\" class=\"dataframe\">\n",
       "  <thead>\n",
       "    <tr style=\"text-align: right;\">\n",
       "      <th></th>\n",
       "      <th>MPG</th>\n",
       "      <th>Cylinders</th>\n",
       "      <th>Displacement</th>\n",
       "      <th>Horsepower</th>\n",
       "      <th>Weight</th>\n",
       "      <th>Acceleration</th>\n",
       "      <th>Model Year</th>\n",
       "      <th>アメ車</th>\n",
       "      <th>欧州車</th>\n",
       "      <th>日本車</th>\n",
       "    </tr>\n",
       "  </thead>\n",
       "  <tbody>\n",
       "    <tr>\n",
       "      <th>0</th>\n",
       "      <td>18.0</td>\n",
       "      <td>8</td>\n",
       "      <td>307.0</td>\n",
       "      <td>130.0</td>\n",
       "      <td>3504</td>\n",
       "      <td>12.0</td>\n",
       "      <td>70</td>\n",
       "      <td>1</td>\n",
       "      <td>0</td>\n",
       "      <td>0</td>\n",
       "    </tr>\n",
       "    <tr>\n",
       "      <th>1</th>\n",
       "      <td>15.0</td>\n",
       "      <td>8</td>\n",
       "      <td>350.0</td>\n",
       "      <td>165.0</td>\n",
       "      <td>3693</td>\n",
       "      <td>11.5</td>\n",
       "      <td>70</td>\n",
       "      <td>1</td>\n",
       "      <td>0</td>\n",
       "      <td>0</td>\n",
       "    </tr>\n",
       "    <tr>\n",
       "      <th>2</th>\n",
       "      <td>18.0</td>\n",
       "      <td>8</td>\n",
       "      <td>318.0</td>\n",
       "      <td>150.0</td>\n",
       "      <td>3436</td>\n",
       "      <td>11.0</td>\n",
       "      <td>70</td>\n",
       "      <td>1</td>\n",
       "      <td>0</td>\n",
       "      <td>0</td>\n",
       "    </tr>\n",
       "    <tr>\n",
       "      <th>3</th>\n",
       "      <td>16.0</td>\n",
       "      <td>8</td>\n",
       "      <td>304.0</td>\n",
       "      <td>150.0</td>\n",
       "      <td>3433</td>\n",
       "      <td>12.0</td>\n",
       "      <td>70</td>\n",
       "      <td>1</td>\n",
       "      <td>0</td>\n",
       "      <td>0</td>\n",
       "    </tr>\n",
       "    <tr>\n",
       "      <th>4</th>\n",
       "      <td>17.0</td>\n",
       "      <td>8</td>\n",
       "      <td>302.0</td>\n",
       "      <td>140.0</td>\n",
       "      <td>3449</td>\n",
       "      <td>10.5</td>\n",
       "      <td>70</td>\n",
       "      <td>1</td>\n",
       "      <td>0</td>\n",
       "      <td>0</td>\n",
       "    </tr>\n",
       "    <tr>\n",
       "      <th>...</th>\n",
       "      <td>...</td>\n",
       "      <td>...</td>\n",
       "      <td>...</td>\n",
       "      <td>...</td>\n",
       "      <td>...</td>\n",
       "      <td>...</td>\n",
       "      <td>...</td>\n",
       "      <td>...</td>\n",
       "      <td>...</td>\n",
       "      <td>...</td>\n",
       "    </tr>\n",
       "    <tr>\n",
       "      <th>393</th>\n",
       "      <td>27.0</td>\n",
       "      <td>4</td>\n",
       "      <td>140.0</td>\n",
       "      <td>86.0</td>\n",
       "      <td>2790</td>\n",
       "      <td>15.6</td>\n",
       "      <td>82</td>\n",
       "      <td>1</td>\n",
       "      <td>0</td>\n",
       "      <td>0</td>\n",
       "    </tr>\n",
       "    <tr>\n",
       "      <th>394</th>\n",
       "      <td>44.0</td>\n",
       "      <td>4</td>\n",
       "      <td>97.0</td>\n",
       "      <td>52.0</td>\n",
       "      <td>2130</td>\n",
       "      <td>24.6</td>\n",
       "      <td>82</td>\n",
       "      <td>0</td>\n",
       "      <td>1</td>\n",
       "      <td>0</td>\n",
       "    </tr>\n",
       "    <tr>\n",
       "      <th>395</th>\n",
       "      <td>32.0</td>\n",
       "      <td>4</td>\n",
       "      <td>135.0</td>\n",
       "      <td>84.0</td>\n",
       "      <td>2295</td>\n",
       "      <td>11.6</td>\n",
       "      <td>82</td>\n",
       "      <td>1</td>\n",
       "      <td>0</td>\n",
       "      <td>0</td>\n",
       "    </tr>\n",
       "    <tr>\n",
       "      <th>396</th>\n",
       "      <td>28.0</td>\n",
       "      <td>4</td>\n",
       "      <td>120.0</td>\n",
       "      <td>79.0</td>\n",
       "      <td>2625</td>\n",
       "      <td>18.6</td>\n",
       "      <td>82</td>\n",
       "      <td>1</td>\n",
       "      <td>0</td>\n",
       "      <td>0</td>\n",
       "    </tr>\n",
       "    <tr>\n",
       "      <th>397</th>\n",
       "      <td>31.0</td>\n",
       "      <td>4</td>\n",
       "      <td>119.0</td>\n",
       "      <td>82.0</td>\n",
       "      <td>2720</td>\n",
       "      <td>19.4</td>\n",
       "      <td>82</td>\n",
       "      <td>1</td>\n",
       "      <td>0</td>\n",
       "      <td>0</td>\n",
       "    </tr>\n",
       "  </tbody>\n",
       "</table>\n",
       "<p>398 rows × 10 columns</p>\n",
       "</div>\n",
       "      <button class=\"colab-df-convert\" onclick=\"convertToInteractive('df-985c1c0e-8494-4416-b223-05b69d34fb44')\"\n",
       "              title=\"Convert this dataframe to an interactive table.\"\n",
       "              style=\"display:none;\">\n",
       "        \n",
       "  <svg xmlns=\"http://www.w3.org/2000/svg\" height=\"24px\"viewBox=\"0 0 24 24\"\n",
       "       width=\"24px\">\n",
       "    <path d=\"M0 0h24v24H0V0z\" fill=\"none\"/>\n",
       "    <path d=\"M18.56 5.44l.94 2.06.94-2.06 2.06-.94-2.06-.94-.94-2.06-.94 2.06-2.06.94zm-11 1L8.5 8.5l.94-2.06 2.06-.94-2.06-.94L8.5 2.5l-.94 2.06-2.06.94zm10 10l.94 2.06.94-2.06 2.06-.94-2.06-.94-.94-2.06-.94 2.06-2.06.94z\"/><path d=\"M17.41 7.96l-1.37-1.37c-.4-.4-.92-.59-1.43-.59-.52 0-1.04.2-1.43.59L10.3 9.45l-7.72 7.72c-.78.78-.78 2.05 0 2.83L4 21.41c.39.39.9.59 1.41.59.51 0 1.02-.2 1.41-.59l7.78-7.78 2.81-2.81c.8-.78.8-2.07 0-2.86zM5.41 20L4 18.59l7.72-7.72 1.47 1.35L5.41 20z\"/>\n",
       "  </svg>\n",
       "      </button>\n",
       "      \n",
       "  <style>\n",
       "    .colab-df-container {\n",
       "      display:flex;\n",
       "      flex-wrap:wrap;\n",
       "      gap: 12px;\n",
       "    }\n",
       "\n",
       "    .colab-df-convert {\n",
       "      background-color: #E8F0FE;\n",
       "      border: none;\n",
       "      border-radius: 50%;\n",
       "      cursor: pointer;\n",
       "      display: none;\n",
       "      fill: #1967D2;\n",
       "      height: 32px;\n",
       "      padding: 0 0 0 0;\n",
       "      width: 32px;\n",
       "    }\n",
       "\n",
       "    .colab-df-convert:hover {\n",
       "      background-color: #E2EBFA;\n",
       "      box-shadow: 0px 1px 2px rgba(60, 64, 67, 0.3), 0px 1px 3px 1px rgba(60, 64, 67, 0.15);\n",
       "      fill: #174EA6;\n",
       "    }\n",
       "\n",
       "    [theme=dark] .colab-df-convert {\n",
       "      background-color: #3B4455;\n",
       "      fill: #D2E3FC;\n",
       "    }\n",
       "\n",
       "    [theme=dark] .colab-df-convert:hover {\n",
       "      background-color: #434B5C;\n",
       "      box-shadow: 0px 1px 3px 1px rgba(0, 0, 0, 0.15);\n",
       "      filter: drop-shadow(0px 1px 2px rgba(0, 0, 0, 0.3));\n",
       "      fill: #FFFFFF;\n",
       "    }\n",
       "  </style>\n",
       "\n",
       "      <script>\n",
       "        const buttonEl =\n",
       "          document.querySelector('#df-985c1c0e-8494-4416-b223-05b69d34fb44 button.colab-df-convert');\n",
       "        buttonEl.style.display =\n",
       "          google.colab.kernel.accessAllowed ? 'block' : 'none';\n",
       "\n",
       "        async function convertToInteractive(key) {\n",
       "          const element = document.querySelector('#df-985c1c0e-8494-4416-b223-05b69d34fb44');\n",
       "          const dataTable =\n",
       "            await google.colab.kernel.invokeFunction('convertToInteractive',\n",
       "                                                     [key], {});\n",
       "          if (!dataTable) return;\n",
       "\n",
       "          const docLinkHtml = 'Like what you see? Visit the ' +\n",
       "            '<a target=\"_blank\" href=https://colab.research.google.com/notebooks/data_table.ipynb>data table notebook</a>'\n",
       "            + ' to learn more about interactive tables.';\n",
       "          element.innerHTML = '';\n",
       "          dataTable['output_type'] = 'display_data';\n",
       "          await google.colab.output.renderOutput(dataTable, element);\n",
       "          const docLink = document.createElement('div');\n",
       "          docLink.innerHTML = docLinkHtml;\n",
       "          element.appendChild(docLink);\n",
       "        }\n",
       "      </script>\n",
       "    </div>\n",
       "  </div>\n",
       "  "
      ],
      "text/plain": [
       "      MPG  Cylinders  Displacement  Horsepower  Weight  Acceleration  \\\n",
       "0    18.0          8         307.0       130.0    3504          12.0   \n",
       "1    15.0          8         350.0       165.0    3693          11.5   \n",
       "2    18.0          8         318.0       150.0    3436          11.0   \n",
       "3    16.0          8         304.0       150.0    3433          12.0   \n",
       "4    17.0          8         302.0       140.0    3449          10.5   \n",
       "..    ...        ...           ...         ...     ...           ...   \n",
       "393  27.0          4         140.0        86.0    2790          15.6   \n",
       "394  44.0          4          97.0        52.0    2130          24.6   \n",
       "395  32.0          4         135.0        84.0    2295          11.6   \n",
       "396  28.0          4         120.0        79.0    2625          18.6   \n",
       "397  31.0          4         119.0        82.0    2720          19.4   \n",
       "\n",
       "     Model Year  アメ車  欧州車  日本車  \n",
       "0            70    1    0    0  \n",
       "1            70    1    0    0  \n",
       "2            70    1    0    0  \n",
       "3            70    1    0    0  \n",
       "4            70    1    0    0  \n",
       "..          ...  ...  ...  ...  \n",
       "393          82    1    0    0  \n",
       "394          82    0    1    0  \n",
       "395          82    1    0    0  \n",
       "396          82    1    0    0  \n",
       "397          82    1    0    0  \n",
       "\n",
       "[398 rows x 10 columns]"
      ]
     },
     "execution_count": 160,
     "metadata": {},
     "output_type": "execute_result"
    }
   ],
   "source": [
    "# ダミー化\n",
    "origin = pd.get_dummies(df2['Origin'], drop_first=False)\n",
    "df3 = pd.concat([df2, origin], axis=1)\n",
    "df3 = df3.drop('Origin', axis=1)\n",
    "df4 =df3.rename(columns={1:'アメ車', 2: '欧州車', 3: '日本車'})\n",
    "df4"
   ]
  },
  {
   "cell_type": "code",
   "execution_count": 161,
   "metadata": {
    "id": "eEmCb4NWjP5m"
   },
   "outputs": [],
   "source": [
    "# 訓練・検証データ、テストデータに分割\n",
    "train_val, test = train_test_split(df4, test_size=0.2, random_state=0)"
   ]
  },
  {
   "cell_type": "code",
   "execution_count": 162,
   "metadata": {
    "colab": {
     "base_uri": "https://localhost:8080/"
    },
    "id": "z7lEIUmoi6VD",
    "outputId": "8cec0cbb-9463-44e4-f579-108b4fda68ac"
   },
   "outputs": [
    {
     "data": {
      "text/plain": [
       "MPG             False\n",
       "Cylinders       False\n",
       "Displacement    False\n",
       "Horsepower       True\n",
       "Weight          False\n",
       "Acceleration    False\n",
       "Model Year      False\n",
       "アメ車             False\n",
       "欧州車             False\n",
       "日本車             False\n",
       "dtype: bool"
      ]
     },
     "execution_count": 162,
     "metadata": {},
     "output_type": "execute_result"
    }
   ],
   "source": [
    "# 欠損値の確認\n",
    "# ⇒Horsepowerに欠損値あり\n",
    "train_val.isnull().any(axis=0)"
   ]
  },
  {
   "cell_type": "code",
   "execution_count": 163,
   "metadata": {
    "colab": {
     "base_uri": "https://localhost:8080/"
    },
    "id": "wD_80FKmi_7f",
    "outputId": "a72aa0c6-fa42-4a1b-a21c-1f895035a0d1"
   },
   "outputs": [
    {
     "name": "stdout",
     "output_type": "stream",
     "text": [
      "欠損値の数：5\n"
     ]
    }
   ],
   "source": [
    "# 欠損値の数の確認\n",
    "print(f'欠損値の数：{train_val[\"Horsepower\"].isnull().sum()}')"
   ]
  },
  {
   "cell_type": "code",
   "execution_count": 164,
   "metadata": {
    "id": "u0j70sV6jdmW"
   },
   "outputs": [],
   "source": [
    "# 欠損値を一旦、平均値で穴埋め\n",
    "train_val_mean = train_val.mean()\n",
    "train_val2=train_val.fillna(train_val_mean)"
   ]
  },
  {
   "cell_type": "code",
   "execution_count": 165,
   "metadata": {
    "colab": {
     "base_uri": "https://localhost:8080/"
    },
    "id": "goJ3h16VkMeU",
    "outputId": "9e35400c-74b4-479a-c8f0-b6f013d807e4"
   },
   "outputs": [
    {
     "data": {
      "text/plain": [
       "MPG             False\n",
       "Cylinders       False\n",
       "Displacement    False\n",
       "Horsepower      False\n",
       "Weight          False\n",
       "Acceleration    False\n",
       "Model Year      False\n",
       "アメ車             False\n",
       "欧州車             False\n",
       "日本車             False\n",
       "dtype: bool"
      ]
     },
     "execution_count": 165,
     "metadata": {},
     "output_type": "execute_result"
    }
   ],
   "source": [
    "# 念のため欠損値が穴埋めされたか確認\n",
    "# ⇒欠損値の穴埋め完了\n",
    "train_val2.isnull().any(axis=0)"
   ]
  },
  {
   "cell_type": "code",
   "execution_count": 166,
   "metadata": {
    "colab": {
     "base_uri": "https://localhost:8080/",
     "height": 1000
    },
    "id": "Qk6KTzqikcex",
    "outputId": "1b4277d2-8d3f-46a8-bba7-b5490e8d807f"
   },
   "outputs": [
    {
     "data": {
      "image/png": "[encoded data removed]",
      "text/plain": [
       "<Figure size 432x288 with 1 Axes>"
      ]
     },
     "metadata": {
      "needs_background": "light"
     },
     "output_type": "display_data"
    },
    {
     "data": {
      "image/png": "[encoded data removed]",
      "text/plain": [
       "<Figure size 432x288 with 1 Axes>"
      ]
     },
     "metadata": {
      "needs_background": "light"
     },
     "output_type": "display_data"
    },
    {
     "data": {
      "image/png": "[encoded data removed]",
      "text/plain": [
       "<Figure size 432x288 with 1 Axes>"
      ]
     },
     "metadata": {
      "needs_background": "light"
     },
     "output_type": "display_data"
    },
    {
     "data": {
      "image/png": "[encoded data removed]",
      "text/plain": [
       "<Figure size 432x288 with 1 Axes>"
      ]
     },
     "metadata": {
      "needs_background": "light"
     },
     "output_type": "display_data"
    },
    {
     "data": {
      "image/png": "[encoded data removed]",
      "text/plain": [
       "<Figure size 432x288 with 1 Axes>"
      ]
     },
     "metadata": {
      "needs_background": "light"
     },
     "output_type": "display_data"
    },
    {
     "data": {
      "image/png": "[encoded data removed]",
      "text/plain": [
       "<Figure size 432x288 with 1 Axes>"
      ]
     },
     "metadata": {
      "needs_background": "light"
     },
     "output_type": "display_data"
    },
    {
     "data": {
      "image/png": "[encoded data removed]",
      "text/plain": [
       "<Figure size 432x288 with 1 Axes>"
      ]
     },
     "metadata": {
      "needs_background": "light"
     },
     "output_type": "display_data"
    },
    {
     "data": {
      "image/png": "[encoded data removed]",
      "text/plain": [
       "<Figure size 432x288 with 1 Axes>"
      ]
     },
     "metadata": {
      "needs_background": "light"
     },
     "output_type": "display_data"
    },
    {
     "data": {
      "image/png": "[encoded data removed]",
      "text/plain": [
       "<Figure size 432x288 with 1 Axes>"
      ]
     },
     "metadata": {
      "needs_background": "light"
     },
     "output_type": "display_data"
    },
    {
     "data": {
      "image/png": "[encoded data removed]",
      "text/plain": [
       "<Figure size 432x288 with 1 Axes>"
      ]
     },
     "metadata": {
      "needs_background": "light"
     },
     "output_type": "display_data"
    }
   ],
   "source": [
    "# 散布図の作成\n",
    "colname = train_val2.columns\n",
    "for name in colname:\n",
    "  train_val2.plot(kind='scatter', x=name, y='MPG')"
   ]
  },
  {
   "cell_type": "code",
   "execution_count": 167,
   "metadata": {
    "colab": {
     "base_uri": "https://localhost:8080/"
    },
    "id": "UIlsRIMrlBv9",
    "outputId": "a836cc1d-7f61-4832-db08-36cd8801e744"
   },
   "outputs": [
    {
     "data": {
      "text/plain": [
       "MPG             1.000000\n",
       "Weight          0.823764\n",
       "Displacement    0.798952\n",
       "Horsepower      0.786905\n",
       "Cylinders       0.766144\n",
       "アメ車             0.574236\n",
       "Model Year      0.573256\n",
       "Acceleration    0.462807\n",
       "日本車             0.455004\n",
       "欧州車             0.249051\n",
       "Name: MPG, dtype: float64"
      ]
     },
     "execution_count": 167,
     "metadata": {},
     "output_type": "execute_result"
    }
   ],
   "source": [
    "# 相関係数の確認\n",
    "train_val2.corr()['MPG'].map(abs).sort_values(ascending=False)"
   ]
  },
  {
   "cell_type": "code",
   "execution_count": 168,
   "metadata": {
    "id": "TDkVonZyljEc"
   },
   "outputs": [],
   "source": [
    "# 訓練データ・テストデータの抜き出し\n",
    "x_col = ['Weight', 'Displacement', 'Horsepower','Cylinders','アメ車', 'Model Year', 'Acceleration', '日本車', '欧州車', ]\n",
    "x = train_val2[x_col]\n",
    "t = train_val2[['MPG']]"
   ]
  },
  {
   "cell_type": "code",
   "execution_count": 169,
   "metadata": {
    "id": "0Goo7I61mMkO"
   },
   "outputs": [],
   "source": [
    "# 標準化と学習関数の作成\n",
    "from sklearn.preprocessing import StandardScaler\n",
    "\n",
    "def learn(x, t):\n",
    "  x_train, x_val, y_train, y_val = train_test_split(x, t, test_size=0.2, random_state=0)\n",
    "  \n",
    "  sc_model_x = StandardScaler()\n",
    "  sc_model_y = StandardScaler()\n",
    "\n",
    "  sc_model_x.fit(x_train)\n",
    "  sc_x_train = sc_model_x.transform(x_train)\n",
    "\n",
    "  sc_model_y.fit(y_train)\n",
    "  sc_y_train = sc_model_y.transform(y_train)\n",
    "\n",
    "  model = LinearRegression()\n",
    "  model.fit(sc_x_train, sc_y_train)\n",
    "\n",
    "  sc_x_val = sc_model_x.transform(x_val)\n",
    "  sc_y_val = sc_model_y.transform(y_val)\n",
    "\n",
    "  train_score = model.score(sc_x_train, sc_y_train)\n",
    "  val_score = model.score(sc_x_val, sc_y_val)\n",
    "\n",
    "  # 戻り値：作成したモデル、特徴量の標準化、正解データの標準化、訓練スコア、検証スコア\n",
    "  return model, sc_model_x, sc_model_y, train_score, val_score"
   ]
  },
  {
   "cell_type": "code",
   "execution_count": 170,
   "metadata": {
    "colab": {
     "base_uri": "https://localhost:8080/"
    },
    "id": "RYMshaX7noC7",
    "outputId": "8d595e22-a0e7-4c69-ebc5-542dca86b3ef"
   },
   "outputs": [
    {
     "name": "stdout",
     "output_type": "stream",
     "text": [
      "訓練データスコア：0.8219880516063901\n",
      "検証データスコア：0.8086313420316465\n"
     ]
    }
   ],
   "source": [
    "# 訓練データ・検証データのスコア確認\n",
    "model, sc_model_x, sc_model_y, s1, s2 = learn(x, t)\n",
    "\n",
    "print(f'訓練データスコア：{s1}')\n",
    "print(f'検証データスコア：{s2}')"
   ]
  },
  {
   "cell_type": "code",
   "execution_count": 171,
   "metadata": {
    "colab": {
     "base_uri": "https://localhost:8080/"
    },
    "id": "9mMgXH65osg2",
    "outputId": "b5a4f9c1-5064-486c-c560-300c3f31123f"
   },
   "outputs": [
    {
     "data": {
      "text/plain": [
       "MPG             False\n",
       "Cylinders       False\n",
       "Displacement    False\n",
       "Horsepower       True\n",
       "Weight          False\n",
       "Acceleration    False\n",
       "Model Year      False\n",
       "アメ車             False\n",
       "欧州車             False\n",
       "日本車             False\n",
       "dtype: bool"
      ]
     },
     "execution_count": 171,
     "metadata": {},
     "output_type": "execute_result"
    }
   ],
   "source": [
    "# テストデータの欠損値の確認\n",
    "# ⇒Horsepowerに欠損値あり\n",
    "test.isnull().any(axis=0)"
   ]
  },
  {
   "cell_type": "code",
   "execution_count": 172,
   "metadata": {
    "colab": {
     "base_uri": "https://localhost:8080/"
    },
    "id": "jAhccPEIpDgr",
    "outputId": "621f457e-7bd3-4ab8-daba-e44482d15e16"
   },
   "outputs": [
    {
     "name": "stdout",
     "output_type": "stream",
     "text": [
      "欠損値の数：1\n"
     ]
    }
   ],
   "source": [
    "# 欠損値の数の確認\n",
    "print(f'欠損値の数：{test[\"Horsepower\"].isnull().sum()}')"
   ]
  },
  {
   "cell_type": "code",
   "execution_count": 173,
   "metadata": {
    "id": "XtCbcMPopILB"
   },
   "outputs": [],
   "source": [
    "# テストデータの欠損値を訓練データの平均で穴埋め\n",
    "test2 = test.fillna(train_val.mean())"
   ]
  },
  {
   "cell_type": "code",
   "execution_count": 174,
   "metadata": {
    "colab": {
     "base_uri": "https://localhost:8080/"
    },
    "id": "zys6Bp9opZsi",
    "outputId": "68d19bb7-ed50-406b-faae-1b77364a76e9"
   },
   "outputs": [
    {
     "name": "stdout",
     "output_type": "stream",
     "text": [
      "テストデータのスコア：0.833523343337763\n"
     ]
    }
   ],
   "source": [
    "# テストデータの決定係数を確認\n",
    "x_test = test2[x_col]\n",
    "y_test = test2[['MPG']]\n",
    "\n",
    "sc_x_test = sc_model_x.transform(x_test)\n",
    "sc_y_test = sc_model_y.transform(y_test)\n",
    "\n",
    "print(f'テストデータのスコア：{model.score(sc_x_test, sc_y_test)}')"
   ]
  },
  {
   "cell_type": "code",
   "execution_count": 175,
   "metadata": {
    "colab": {
     "base_uri": "https://localhost:8080/"
    },
    "id": "tAXfHfnCrkgM",
    "outputId": "92b25ecc-4706-495b-ec56-b560b300572c"
   },
   "outputs": [
    {
     "data": {
      "text/plain": [
       "array([  4.76335855,   9.20776934,   2.65910332,  12.0703223 ,\n",
       "         6.52862643,   3.33940937,   5.13709448,   4.63511761,\n",
       "        33.6822807 ,  10.14521621,  17.45359033, 101.35864088,\n",
       "        14.33295353,   6.93286354,  19.36865348,   6.04292622,\n",
       "        31.03512004,  10.73412661,   5.20421073,  23.19946743,\n",
       "         5.24197936,   5.3494735 ,   5.34440424,   6.09080284,\n",
       "         7.43856238,   7.11213439,   9.76211697,  23.28919555,\n",
       "         5.45128453,  10.46491613,   7.15176052,   5.5514353 ,\n",
       "         4.37577611,   5.04955996,   9.64734201,   4.4944552 ,\n",
       "         9.92243229,   5.41052434,   5.49763704,   3.39110321,\n",
       "        10.58767421,   6.4197677 ,   9.80894518,   9.03697689,\n",
       "         5.78171716,  18.73849914,   3.54519511,   3.72623957,\n",
       "         1.75315549,   4.44945726,   7.29242353,   7.52485191,\n",
       "         2.29049513,   3.51015508,   4.83205445,  26.82799187,\n",
       "         5.11369356,   9.10244275,   3.33451061,   3.05337013,\n",
       "         9.92977209,   3.39625634,   3.00812879,  24.15406224,\n",
       "         3.98254886,  22.50725698,   9.33373066,  80.87848096,\n",
       "        26.26414778,   9.91342572,   6.52016965,   9.18601072,\n",
       "        32.09636393,   7.06407791,   7.61304031,   4.44595598,\n",
       "         8.5552618 ,  15.97033568,   2.25356241,  11.2225295 ,\n",
       "        12.90771377,   5.94489687,   8.81421905,   6.66099038,\n",
       "         8.51000054,   2.28548504,  16.27594048,   7.6284533 ,\n",
       "         1.93024605,   2.13294133,   5.62417795,  11.57152765,\n",
       "         5.98256428,   4.28885514,   9.48103103,  10.1726992 ,\n",
       "         4.67938257,   5.44464245,   5.35812396,   8.71305771,\n",
       "         9.41335771,   6.83414109,   4.24712871,  12.60632454,\n",
       "         4.95252956,   5.91432362,   9.61486094,   2.16423471,\n",
       "         8.47405598,  17.82745453,   9.92805011,  56.56866794,\n",
       "        12.66014403,   8.64900897,  17.48561254,  11.41204294,\n",
       "        22.4943111 ,   7.73335101,   9.14711437,   4.65753466,\n",
       "         5.47122382,   7.5977343 ,  19.45112669,  16.02868342,\n",
       "         5.5447367 ,   8.91036166,   2.11654122,  15.6308147 ,\n",
       "        51.60042176,   8.29696429,   6.01844233,  21.14539201,\n",
       "         2.52103874,   5.34979104,   5.55293352,   7.97097511,\n",
       "        12.39851629,  11.52139726,   5.27502404,   5.14206148,\n",
       "         6.58731151,   5.94342805,   5.03647577,   4.49450417,\n",
       "         3.94982665,  12.66761408,  11.35797346, 262.72879231,\n",
       "         8.39409013,   6.95182452,   5.95714939,   3.95979825,\n",
       "         7.49598362,  16.70729364,  17.72391628,  10.46043862,\n",
       "         9.52804916,   9.48199758,  14.97601722,   4.7453118 ,\n",
       "         4.59821302,   4.96484797,   4.75764779,   6.6288139 ,\n",
       "         4.51175899,   3.60159545,   6.20831541,   3.83783298,\n",
       "         6.11843775,   4.87422695,   4.74761476,   9.14212975,\n",
       "        10.8101845 ,   1.52577957,   3.24120294,   6.28582077,\n",
       "        20.54652967,   5.36792485,   5.77708863,   4.35623191,\n",
       "        13.3522951 ,  15.1411669 ,   1.98213809,   6.53552587,\n",
       "        11.95049014,  16.28709343,   4.12997687,   6.38728424,\n",
       "         4.62083402,  27.94110179,   5.61621395,   8.51760993,\n",
       "         2.63110816,  12.23364212,   6.33300626,   1.78302016,\n",
       "        18.49532462,  25.07671869,   7.12939935,   5.26247934,\n",
       "        16.54738173,   7.91470881,   9.0057716 ,   5.14349356,\n",
       "         4.72430243,   6.34167595,  25.15627467,   5.99309276,\n",
       "        11.39933225,   7.24235299,  13.7062069 ,  26.34098783,\n",
       "         6.64735813,  12.71957965,   4.58099794,   9.03282322,\n",
       "        12.41685936,  17.87091381,   8.95961969,   4.01493096,\n",
       "         6.2262254 ,   7.50152627,   4.68906848,   9.81103045,\n",
       "         3.04193582,  62.32963507,  13.88710822,  74.46217618,\n",
       "         3.89920169,   4.42125537,   6.24829978,   4.7614176 ,\n",
       "        17.78891141,  12.13154597,   2.2456461 ,   6.53208038,\n",
       "         7.31138162,   5.35222073,   8.38282788,  13.1526748 ,\n",
       "         5.45161736,   6.62938683,  13.75165166,  10.84407268,\n",
       "         5.22336369,  13.16175473,   5.47467965,  27.54499028,\n",
       "        22.40655385,   4.93959415,   4.99886864,   6.76098739,\n",
       "        12.19418085,   4.84901036,   3.73841785,   4.36766647,\n",
       "         5.97538741,  15.47871151,   8.7361912 ,  11.75753996,\n",
       "         4.00529922,   6.4972713 ,   7.40293288,   8.83987837,\n",
       "         5.58703411,   5.63542079,   8.77603713,  66.16388805,\n",
       "         3.19533283,  13.4667314 ,   3.9787079 ,  10.12452229,\n",
       "        10.39531866,   5.68460417,  36.3585553 ,   4.86619182,\n",
       "         6.73738623,   7.21625063,   6.4094244 ,  28.26936163,\n",
       "         2.81321459,   5.80964034,  10.80752229,   5.15943571,\n",
       "         4.62643975,   4.62776744,   4.00346431,   4.74781106,\n",
       "        16.74677829,   5.9951744 ,   4.46696961,   6.02685812,\n",
       "        18.19376466,  55.49206555,  13.29704116,   2.97556242,\n",
       "         4.6622851 ,  12.07169225,   5.11225031,  20.98126464,\n",
       "         5.60299587,   6.00593381,   5.81280656,  32.74950632,\n",
       "         6.78025404,  13.99829732,   7.27695088,  26.47413621,\n",
       "        33.42634907,  42.75944369,  19.26672021,  14.09597514,\n",
       "         7.39298726,   7.80160499,   4.95438645,   8.13787269,\n",
       "         9.43642714,   2.99312495])"
      ]
     },
     "execution_count": 175,
     "metadata": {},
     "output_type": "execute_result"
    }
   ],
   "source": [
    "# マハラノビス距離の測定\n",
    "from sklearn.covariance import MinCovDet\n",
    "\n",
    "train_val3 = train_val2.iloc[:,1:8]\n",
    "mcd = MinCovDet(random_state=0, support_fraction=0.7)\n",
    "mcd.fit(train_val3)\n",
    "\n",
    "distance = mcd.mahalanobis(train_val3)\n",
    "distance"
   ]
  },
  {
   "cell_type": "code",
   "execution_count": 176,
   "metadata": {
    "colab": {
     "base_uri": "https://localhost:8080/",
     "height": 282
    },
    "id": "xRUuXkeJsOGM",
    "outputId": "ba22cd26-abf3-452c-8ce4-14f0aad0b479"
   },
   "outputs": [
    {
     "data": {
      "text/plain": [
       "<matplotlib.axes._subplots.AxesSubplot at 0x7fcbd3e7bc90>"
      ]
     },
     "execution_count": 176,
     "metadata": {},
     "output_type": "execute_result"
    },
    {
     "data": {
      "image/png": "[encoded data removed]",
      "text/plain": [
       "<Figure size 432x288 with 1 Axes>"
      ]
     },
     "metadata": {
      "needs_background": "light"
     },
     "output_type": "display_data"
    }
   ],
   "source": [
    "# 箱ひげ図の表示\n",
    "distance = pd.Series(distance)\n",
    "distance.plot(kind='box')"
   ]
  },
  {
   "cell_type": "code",
   "execution_count": 177,
   "metadata": {
    "colab": {
     "base_uri": "https://localhost:8080/"
    },
    "id": "PRrKC4PqtUg_",
    "outputId": "5b4a3998-3a32-42be-ec36-5072b0a42cfe"
   },
   "outputs": [
    {
     "data": {
      "text/plain": [
       "count    318.000000\n",
       "mean      11.570744\n",
       "std       18.357644\n",
       "min        1.525780\n",
       "25%        5.008270\n",
       "50%        7.088106\n",
       "75%       12.040364\n",
       "max      262.728792\n",
       "dtype: float64"
      ]
     },
     "execution_count": 177,
     "metadata": {},
     "output_type": "execute_result"
    }
   ],
   "source": [
    "# 外れ値の削除\n",
    "tmp = distance.describe()\n",
    "tmp"
   ]
  },
  {
   "cell_type": "code",
   "execution_count": 178,
   "metadata": {
    "colab": {
     "base_uri": "https://localhost:8080/"
    },
    "id": "rCsqbUATt0Uk",
    "outputId": "5526a64c-ca09-4030-f838-674b886b4e83"
   },
   "outputs": [
    {
     "data": {
      "text/plain": [
       "8       33.682281\n",
       "11     101.358641\n",
       "16      31.035120\n",
       "19      23.199467\n",
       "27      23.289196\n",
       "55      26.827992\n",
       "63      24.154062\n",
       "67      80.878481\n",
       "68      26.264148\n",
       "72      32.096364\n",
       "111     56.568668\n",
       "128     51.600422\n",
       "147    262.728792\n",
       "189     27.941102\n",
       "197     25.076719\n",
       "206     25.156275\n",
       "211     26.340988\n",
       "225     62.329635\n",
       "227     74.462176\n",
       "247     27.544990\n",
       "267     66.163888\n",
       "274     36.358555\n",
       "279     28.269362\n",
       "293     55.492066\n",
       "303     32.749506\n",
       "307     26.474136\n",
       "308     33.426349\n",
       "309     42.759444\n",
       "dtype: float64"
      ]
     },
     "execution_count": 178,
     "metadata": {},
     "output_type": "execute_result"
    }
   ],
   "source": [
    "# マハラノビス距離による外れ値の一覧\n",
    "iqr = tmp['75%'] - tmp['25%']\n",
    "jougen = 1.5 * (iqr) + tmp['75%']\n",
    "kagen = tmp['25%'] - 1.5 * (iqr)\n",
    "\n",
    "outliner = distance[ (distance > jougen) | (distance < kagen)]\n",
    "outliner"
   ]
  },
  {
   "cell_type": "code",
   "execution_count": 179,
   "metadata": {
    "colab": {
     "base_uri": "https://localhost:8080/",
     "height": 423
    },
    "id": "UhEiAR3QuQok",
    "outputId": "4fd6bef0-9c91-43b4-d4f0-96010df338c8"
   },
   "outputs": [
    {
     "data": {
      "text/html": [
       "\n",
       "  <div id=\"df-48875a52-0c92-43c5-ad19-cf0834cc778b\">\n",
       "    <div class=\"colab-df-container\">\n",
       "      <div>\n",
       "<style scoped>\n",
       "    .dataframe tbody tr th:only-of-type {\n",
       "        vertical-align: middle;\n",
       "    }\n",
       "\n",
       "    .dataframe tbody tr th {\n",
       "        vertical-align: top;\n",
       "    }\n",
       "\n",
       "    .dataframe thead th {\n",
       "        text-align: right;\n",
       "    }\n",
       "</style>\n",
       "<table border=\"1\" class=\"dataframe\">\n",
       "  <thead>\n",
       "    <tr style=\"text-align: right;\">\n",
       "      <th></th>\n",
       "      <th>MPG</th>\n",
       "      <th>Cylinders</th>\n",
       "      <th>Displacement</th>\n",
       "      <th>Horsepower</th>\n",
       "      <th>Weight</th>\n",
       "      <th>Acceleration</th>\n",
       "      <th>Model Year</th>\n",
       "      <th>アメ車</th>\n",
       "      <th>欧州車</th>\n",
       "      <th>日本車</th>\n",
       "    </tr>\n",
       "  </thead>\n",
       "  <tbody>\n",
       "    <tr>\n",
       "      <th>64</th>\n",
       "      <td>15.0</td>\n",
       "      <td>8</td>\n",
       "      <td>318.0</td>\n",
       "      <td>150.0</td>\n",
       "      <td>4135</td>\n",
       "      <td>13.5</td>\n",
       "      <td>72</td>\n",
       "      <td>1</td>\n",
       "      <td>0</td>\n",
       "      <td>0</td>\n",
       "    </tr>\n",
       "    <tr>\n",
       "      <th>55</th>\n",
       "      <td>27.0</td>\n",
       "      <td>4</td>\n",
       "      <td>97.0</td>\n",
       "      <td>60.0</td>\n",
       "      <td>1834</td>\n",
       "      <td>19.0</td>\n",
       "      <td>71</td>\n",
       "      <td>0</td>\n",
       "      <td>1</td>\n",
       "      <td>0</td>\n",
       "    </tr>\n",
       "    <tr>\n",
       "      <th>317</th>\n",
       "      <td>34.3</td>\n",
       "      <td>4</td>\n",
       "      <td>97.0</td>\n",
       "      <td>78.0</td>\n",
       "      <td>2188</td>\n",
       "      <td>15.8</td>\n",
       "      <td>80</td>\n",
       "      <td>0</td>\n",
       "      <td>1</td>\n",
       "      <td>0</td>\n",
       "    </tr>\n",
       "    <tr>\n",
       "      <th>102</th>\n",
       "      <td>26.0</td>\n",
       "      <td>4</td>\n",
       "      <td>97.0</td>\n",
       "      <td>46.0</td>\n",
       "      <td>1950</td>\n",
       "      <td>21.0</td>\n",
       "      <td>73</td>\n",
       "      <td>0</td>\n",
       "      <td>1</td>\n",
       "      <td>0</td>\n",
       "    </tr>\n",
       "    <tr>\n",
       "      <th>358</th>\n",
       "      <td>31.6</td>\n",
       "      <td>4</td>\n",
       "      <td>120.0</td>\n",
       "      <td>74.0</td>\n",
       "      <td>2635</td>\n",
       "      <td>18.3</td>\n",
       "      <td>81</td>\n",
       "      <td>0</td>\n",
       "      <td>0</td>\n",
       "      <td>1</td>\n",
       "    </tr>\n",
       "    <tr>\n",
       "      <th>...</th>\n",
       "      <td>...</td>\n",
       "      <td>...</td>\n",
       "      <td>...</td>\n",
       "      <td>...</td>\n",
       "      <td>...</td>\n",
       "      <td>...</td>\n",
       "      <td>...</td>\n",
       "      <td>...</td>\n",
       "      <td>...</td>\n",
       "      <td>...</td>\n",
       "    </tr>\n",
       "    <tr>\n",
       "      <th>323</th>\n",
       "      <td>27.9</td>\n",
       "      <td>4</td>\n",
       "      <td>156.0</td>\n",
       "      <td>105.0</td>\n",
       "      <td>2800</td>\n",
       "      <td>14.4</td>\n",
       "      <td>80</td>\n",
       "      <td>1</td>\n",
       "      <td>0</td>\n",
       "      <td>0</td>\n",
       "    </tr>\n",
       "    <tr>\n",
       "      <th>192</th>\n",
       "      <td>22.0</td>\n",
       "      <td>6</td>\n",
       "      <td>250.0</td>\n",
       "      <td>105.0</td>\n",
       "      <td>3353</td>\n",
       "      <td>14.5</td>\n",
       "      <td>76</td>\n",
       "      <td>1</td>\n",
       "      <td>0</td>\n",
       "      <td>0</td>\n",
       "    </tr>\n",
       "    <tr>\n",
       "      <th>117</th>\n",
       "      <td>29.0</td>\n",
       "      <td>4</td>\n",
       "      <td>68.0</td>\n",
       "      <td>49.0</td>\n",
       "      <td>1867</td>\n",
       "      <td>19.5</td>\n",
       "      <td>73</td>\n",
       "      <td>0</td>\n",
       "      <td>1</td>\n",
       "      <td>0</td>\n",
       "    </tr>\n",
       "    <tr>\n",
       "      <th>47</th>\n",
       "      <td>19.0</td>\n",
       "      <td>6</td>\n",
       "      <td>250.0</td>\n",
       "      <td>100.0</td>\n",
       "      <td>3282</td>\n",
       "      <td>15.0</td>\n",
       "      <td>71</td>\n",
       "      <td>1</td>\n",
       "      <td>0</td>\n",
       "      <td>0</td>\n",
       "    </tr>\n",
       "    <tr>\n",
       "      <th>172</th>\n",
       "      <td>25.0</td>\n",
       "      <td>4</td>\n",
       "      <td>90.0</td>\n",
       "      <td>71.0</td>\n",
       "      <td>2223</td>\n",
       "      <td>16.5</td>\n",
       "      <td>75</td>\n",
       "      <td>0</td>\n",
       "      <td>1</td>\n",
       "      <td>0</td>\n",
       "    </tr>\n",
       "  </tbody>\n",
       "</table>\n",
       "<p>290 rows × 10 columns</p>\n",
       "</div>\n",
       "      <button class=\"colab-df-convert\" onclick=\"convertToInteractive('df-48875a52-0c92-43c5-ad19-cf0834cc778b')\"\n",
       "              title=\"Convert this dataframe to an interactive table.\"\n",
       "              style=\"display:none;\">\n",
       "        \n",
       "  <svg xmlns=\"http://www.w3.org/2000/svg\" height=\"24px\"viewBox=\"0 0 24 24\"\n",
       "       width=\"24px\">\n",
       "    <path d=\"M0 0h24v24H0V0z\" fill=\"none\"/>\n",
       "    <path d=\"M18.56 5.44l.94 2.06.94-2.06 2.06-.94-2.06-.94-.94-2.06-.94 2.06-2.06.94zm-11 1L8.5 8.5l.94-2.06 2.06-.94-2.06-.94L8.5 2.5l-.94 2.06-2.06.94zm10 10l.94 2.06.94-2.06 2.06-.94-2.06-.94-.94-2.06-.94 2.06-2.06.94z\"/><path d=\"M17.41 7.96l-1.37-1.37c-.4-.4-.92-.59-1.43-.59-.52 0-1.04.2-1.43.59L10.3 9.45l-7.72 7.72c-.78.78-.78 2.05 0 2.83L4 21.41c.39.39.9.59 1.41.59.51 0 1.02-.2 1.41-.59l7.78-7.78 2.81-2.81c.8-.78.8-2.07 0-2.86zM5.41 20L4 18.59l7.72-7.72 1.47 1.35L5.41 20z\"/>\n",
       "  </svg>\n",
       "      </button>\n",
       "      \n",
       "  <style>\n",
       "    .colab-df-container {\n",
       "      display:flex;\n",
       "      flex-wrap:wrap;\n",
       "      gap: 12px;\n",
       "    }\n",
       "\n",
       "    .colab-df-convert {\n",
       "      background-color: #E8F0FE;\n",
       "      border: none;\n",
       "      border-radius: 50%;\n",
       "      cursor: pointer;\n",
       "      display: none;\n",
       "      fill: #1967D2;\n",
       "      height: 32px;\n",
       "      padding: 0 0 0 0;\n",
       "      width: 32px;\n",
       "    }\n",
       "\n",
       "    .colab-df-convert:hover {\n",
       "      background-color: #E2EBFA;\n",
       "      box-shadow: 0px 1px 2px rgba(60, 64, 67, 0.3), 0px 1px 3px 1px rgba(60, 64, 67, 0.15);\n",
       "      fill: #174EA6;\n",
       "    }\n",
       "\n",
       "    [theme=dark] .colab-df-convert {\n",
       "      background-color: #3B4455;\n",
       "      fill: #D2E3FC;\n",
       "    }\n",
       "\n",
       "    [theme=dark] .colab-df-convert:hover {\n",
       "      background-color: #434B5C;\n",
       "      box-shadow: 0px 1px 3px 1px rgba(0, 0, 0, 0.15);\n",
       "      filter: drop-shadow(0px 1px 2px rgba(0, 0, 0, 0.3));\n",
       "      fill: #FFFFFF;\n",
       "    }\n",
       "  </style>\n",
       "\n",
       "      <script>\n",
       "        const buttonEl =\n",
       "          document.querySelector('#df-48875a52-0c92-43c5-ad19-cf0834cc778b button.colab-df-convert');\n",
       "        buttonEl.style.display =\n",
       "          google.colab.kernel.accessAllowed ? 'block' : 'none';\n",
       "\n",
       "        async function convertToInteractive(key) {\n",
       "          const element = document.querySelector('#df-48875a52-0c92-43c5-ad19-cf0834cc778b');\n",
       "          const dataTable =\n",
       "            await google.colab.kernel.invokeFunction('convertToInteractive',\n",
       "                                                     [key], {});\n",
       "          if (!dataTable) return;\n",
       "\n",
       "          const docLinkHtml = 'Like what you see? Visit the ' +\n",
       "            '<a target=\"_blank\" href=https://colab.research.google.com/notebooks/data_table.ipynb>data table notebook</a>'\n",
       "            + ' to learn more about interactive tables.';\n",
       "          element.innerHTML = '';\n",
       "          dataTable['output_type'] = 'display_data';\n",
       "          await google.colab.output.renderOutput(dataTable, element);\n",
       "          const docLink = document.createElement('div');\n",
       "          docLink.innerHTML = docLinkHtml;\n",
       "          element.appendChild(docLink);\n",
       "        }\n",
       "      </script>\n",
       "    </div>\n",
       "  </div>\n",
       "  "
      ],
      "text/plain": [
       "      MPG  Cylinders  Displacement  Horsepower  Weight  Acceleration  \\\n",
       "64   15.0          8         318.0       150.0    4135          13.5   \n",
       "55   27.0          4          97.0        60.0    1834          19.0   \n",
       "317  34.3          4          97.0        78.0    2188          15.8   \n",
       "102  26.0          4          97.0        46.0    1950          21.0   \n",
       "358  31.6          4         120.0        74.0    2635          18.3   \n",
       "..    ...        ...           ...         ...     ...           ...   \n",
       "323  27.9          4         156.0       105.0    2800          14.4   \n",
       "192  22.0          6         250.0       105.0    3353          14.5   \n",
       "117  29.0          4          68.0        49.0    1867          19.5   \n",
       "47   19.0          6         250.0       100.0    3282          15.0   \n",
       "172  25.0          4          90.0        71.0    2223          16.5   \n",
       "\n",
       "     Model Year  アメ車  欧州車  日本車  \n",
       "64           72    1    0    0  \n",
       "55           71    0    1    0  \n",
       "317          80    0    1    0  \n",
       "102          73    0    1    0  \n",
       "358          81    0    0    1  \n",
       "..          ...  ...  ...  ...  \n",
       "323          80    1    0    0  \n",
       "192          76    1    0    0  \n",
       "117          73    0    1    0  \n",
       "47           71    1    0    0  \n",
       "172          75    0    1    0  \n",
       "\n",
       "[290 rows x 10 columns]"
      ]
     },
     "execution_count": 179,
     "metadata": {},
     "output_type": "execute_result"
    }
   ],
   "source": [
    "# 外れ値の削除\n",
    "train_val3 = train_val2.drop(train_val2.index[outliner.index])\n",
    "train_val3"
   ]
  },
  {
   "cell_type": "code",
   "execution_count": 180,
   "metadata": {
    "colab": {
     "base_uri": "https://localhost:8080/"
    },
    "id": "bpyAyzZUukmh",
    "outputId": "a2796b8f-8f1b-4a57-8334-7fcb4d3c3f8d"
   },
   "outputs": [
    {
     "name": "stdout",
     "output_type": "stream",
     "text": [
      "訓練データスコア：0.815865865672666\n",
      "検証データスコア：0.7842791497571195\n"
     ]
    }
   ],
   "source": [
    "# 外れ値処理後の訓練データ・テストデータの抜き出し\n",
    "x2 = train_val3[x_col]\n",
    "t2 = train_val3[['MPG']]\n",
    "\n",
    "# 訓練データ・検証データのスコア確認\n",
    "model2, sc_model_x2, sc_model_y2, s3, s4 = learn(x2, t2)\n",
    "\n",
    "print(f'訓練データスコア：{s3}')    # 訓練データはスコアDOWN\n",
    "print(f'検証データスコア：{s4}')    # 検証データはスコアUP"
   ]
  },
  {
   "cell_type": "code",
   "execution_count": 181,
   "metadata": {
    "colab": {
     "base_uri": "https://localhost:8080/"
    },
    "id": "QBuN6vwsvlY5",
    "outputId": "a0608d46-0273-46e7-dc06-9a682a65ed67"
   },
   "outputs": [
    {
     "name": "stdout",
     "output_type": "stream",
     "text": [
      "テストデータのスコア：0.8300009741186072\n"
     ]
    }
   ],
   "source": [
    "# テストデータの決定係数を確認\n",
    "x_test = test2[x_col]\n",
    "y_test = test2[['MPG']]\n",
    "\n",
    "sc_x_test = sc_model_x2.transform(x_test)\n",
    "sc_y_test = sc_model_y2.transform(y_test)\n",
    "\n",
    "print(f'テストデータのスコア：{model2.score(sc_x_test, sc_y_test)}')  # テストデータはスコアDOWN"
   ]
  },
  {
   "cell_type": "code",
   "execution_count": 182,
   "metadata": {
    "id": "RctldwIIwMJw"
   },
   "outputs": [],
   "source": [
    "# 特徴量エンジニアリング（自動）を行ったlearn関数\n",
    "from sklearn.preprocessing import PolynomialFeatures\n",
    "\n",
    "def learn2(x, t):\n",
    "  x_train, x_val, y_train, y_val = train_test_split(x, t, test_size=0.2, random_state=0)\n",
    "  \n",
    "  sc_model_x = StandardScaler()\n",
    "  sc_model_y = StandardScaler()\n",
    "  pf = PolynomialFeatures(degree=2, include_bias=False)\n",
    "\n",
    "  sc_model_x.fit(x_train)\n",
    "  sc_x_train = sc_model_x.transform(x_train)\n",
    "  pf_sc_x_train = pf.fit_transform(sc_x_train)\n",
    "\n",
    "  sc_model_y.fit(y_train)\n",
    "  sc_y_train = sc_model_y.transform(y_train)\n",
    "\n",
    "  model = LinearRegression()\n",
    "  model.fit(pf_sc_x_train, sc_y_train)\n",
    "\n",
    "  sc_x_val = sc_model_x.transform(x_val)\n",
    "  pf_sc_x_val = pf.fit_transform(sc_x_val)\n",
    "  sc_y_val = sc_model_y.transform(y_val)\n",
    "\n",
    "  train_score = model.score(pf_sc_x_train, sc_y_train)\n",
    "  val_score = model.score(pf_sc_x_val, sc_y_val)\n",
    "\n",
    "  # 戻り値：作成したモデル、特徴量の標準化、正解データの標準化、特徴量エンジニアリング（一括）、訓練スコア、検証スコア\n",
    "  return model, sc_model_x, sc_model_y, pf, train_score, val_score\n",
    "  "
   ]
  },
  {
   "cell_type": "code",
   "execution_count": 183,
   "metadata": {
    "colab": {
     "base_uri": "https://localhost:8080/"
    },
    "id": "-Hf4Xup1y4BV",
    "outputId": "51fe24c9-d375-4bdc-cfae-9656504eacb2"
   },
   "outputs": [
    {
     "name": "stdout",
     "output_type": "stream",
     "text": [
      "訓練データスコア：0.9042348318760116\n",
      "検証データスコア：0.7792745824552083\n"
     ]
    }
   ],
   "source": [
    "# 訓練データ・検証データのスコア確認\n",
    "model3, sc_model_x3, sc_model_y3, pf, s5, s6 = learn2(x2, t2)\n",
    "\n",
    "print(f'訓練データスコア：{s5}')    # 訓練データはスコアUP\n",
    "print(f'検証データスコア：{s6}')    # 検証データはスコアDOWN"
   ]
  },
  {
   "cell_type": "code",
   "execution_count": 184,
   "metadata": {
    "colab": {
     "base_uri": "https://localhost:8080/"
    },
    "id": "wOO6tk04z8K6",
    "outputId": "c5a679a5-cfb0-44b0-c316-b42a62b758f9"
   },
   "outputs": [
    {
     "name": "stdout",
     "output_type": "stream",
     "text": [
      "テストデータのスコア：0.7809452438221666\n"
     ]
    }
   ],
   "source": [
    "# 特徴量エンジニアリングを行った場合のテストデータのスコア\n",
    "pf_sc_x_test = pf.fit_transform(sc_x_test)\n",
    "print(f'テストデータのスコア：{model3.score(pf_sc_x_test, sc_y_test)}')  # テストデータはスコアDOWN"
   ]
  },
  {
   "cell_type": "code",
   "execution_count": 185,
   "metadata": {
    "id": "Da2TLel-0t2u"
   },
   "outputs": [],
   "source": [
    "# リッジ回帰を使用したlearn関数\n",
    "from sklearn.linear_model import Ridge\n",
    "\n",
    "def learn3(x, t, a=10):\n",
    "  x_train, x_val, y_train, y_val = train_test_split(x, t, test_size=0.2, random_state=0)\n",
    "  \n",
    "  sc_model_x = StandardScaler()\n",
    "  sc_model_y = StandardScaler()\n",
    "  pf = PolynomialFeatures(degree=2, include_bias=False)\n",
    "\n",
    "  sc_model_x.fit(x_train)\n",
    "  sc_x_train = sc_model_x.transform(x_train)\n",
    "  pf_sc_x_train = pf.fit_transform(sc_x_train)\n",
    "\n",
    "  sc_model_y.fit(y_train)\n",
    "  sc_y_train = sc_model_y.transform(y_train)\n",
    "\n",
    "  model = Ridge(alpha = a)\n",
    "  model.fit(pf_sc_x_train, sc_y_train)\n",
    "\n",
    "  sc_x_val = sc_model_x.transform(x_val)\n",
    "  pf_sc_x_val = pf.fit_transform(sc_x_val)\n",
    "  sc_y_val = sc_model_y.transform(y_val)\n",
    "\n",
    "  train_score = model.score(pf_sc_x_train, sc_y_train)\n",
    "  val_score = model.score(pf_sc_x_val, sc_y_val)\n",
    "\n",
    "  # 戻り値：作成したモデル、特徴量の標準化、正解データの標準化、特徴量エンジニアリング（一括）、訓練スコア、検証スコア\n",
    "  return model, sc_model_x, sc_model_y, pf, train_score, val_score"
   ]
  },
  {
   "cell_type": "code",
   "execution_count": 186,
   "metadata": {
    "colab": {
     "base_uri": "https://localhost:8080/"
    },
    "id": "YSY7nDG61lYj",
    "outputId": "97d5759d-a9cd-4ed6-f120-41ca8d565a71"
   },
   "outputs": [
    {
     "name": "stdout",
     "output_type": "stream",
     "text": [
      "訓練データスコア：0.8949075084378377\n",
      "検証データスコア：0.8391324752450036\n"
     ]
    }
   ],
   "source": [
    "# 訓練データ・検証データのスコア確認\n",
    "ridgeModel, sc_model_x4, sc_model_y4, pf2, s7, s8 = learn3(x2, t2)\n",
    "\n",
    "print(f'訓練データスコア：{s7}')    # 訓練データはスコアUP\n",
    "print(f'検証データスコア：{s8}')    # 検証データはスコアUP"
   ]
  },
  {
   "cell_type": "code",
   "execution_count": 187,
   "metadata": {
    "colab": {
     "base_uri": "https://localhost:8080/"
    },
    "id": "46zE8bCx1_ln",
    "outputId": "ab7a3ca7-5e81-4c1b-b95d-0a677b9c9c1d"
   },
   "outputs": [
    {
     "name": "stdout",
     "output_type": "stream",
     "text": [
      "αの最大値:20.0\n",
      "訓練データの最大スコア：0.8892344253045849\n",
      "検証データの最大スコア：0.8430783587386779\n"
     ]
    }
   ],
   "source": [
    "# リッジ回帰のalphaの最大値を探る\n",
    "maxTrainScore = 0\n",
    "maxValScore = 0\n",
    "maxIndex = 0\n",
    "maxRidgeModel = \"\"\n",
    "\n",
    "\n",
    "for i in range(1, 2001):\n",
    "  num = i / 100\n",
    "  ridgeModel2, sc_model_x5, sc_model_y5, pf3, s7, s8 = learn3(x2, t2, num)\n",
    "\n",
    "  if s8 > maxValScore:\n",
    "    maxTrainScore = s7\n",
    "    maxValScore = s8\n",
    "    max_index = num\n",
    "    maxRidgeModel = ridgeModel2\n",
    "\n",
    "print(f'αの最大値:{num}')\n",
    "print(f'訓練データの最大スコア：{maxTrainScore}')\n",
    "print(f'検証データの最大スコア：{maxValScore}')"
   ]
  },
  {
   "cell_type": "code",
   "execution_count": 188,
   "metadata": {
    "colab": {
     "base_uri": "https://localhost:8080/"
    },
    "id": "hUivGv1Z8w7F",
    "outputId": "1b6ddd08-52f7-4746-8bb7-62e6123c2d66"
   },
   "outputs": [
    {
     "name": "stdout",
     "output_type": "stream",
     "text": [
      "テストデータのスコア：0.8602337555899456\n"
     ]
    }
   ],
   "source": [
    "# リッジ回帰でのテストデータのスコア\n",
    "print(f'テストデータのスコア：{maxRidgeModel.score(pf_sc_x_test, sc_y_test)}')  # テストデータはスコアUP"
   ]
  },
  {
   "cell_type": "code",
   "execution_count": 189,
   "metadata": {
    "id": "3RjbPax662Lm"
   },
   "outputs": [],
   "source": [
    "# ラッソ回帰を使ったlearn関数\n",
    "from sklearn.linear_model import Lasso\n",
    "\n",
    "def learn4(x, t, alpha=0.1):\n",
    "  x_train, x_val, y_train, y_val = train_test_split(x, t, test_size=0.2, random_state=0)\n",
    "  \n",
    "  sc_model_x = StandardScaler()\n",
    "  sc_model_y = StandardScaler()\n",
    "  pf = PolynomialFeatures(degree=2, include_bias=False)\n",
    "\n",
    "  sc_model_x.fit(x_train)\n",
    "  sc_x_train = sc_model_x.transform(x_train)\n",
    "  pf_sc_x_train = pf.fit_transform(sc_x_train)\n",
    "\n",
    "  sc_model_y.fit(y_train)\n",
    "  sc_y_train = sc_model_y.transform(y_train)\n",
    "\n",
    "  model = Lasso(alpha = alpha)\n",
    "  model.fit(pf_sc_x_train, sc_y_train)\n",
    "\n",
    "  sc_x_val = sc_model_x.transform(x_val)\n",
    "  pf_sc_x_val = pf.fit_transform(sc_x_val)\n",
    "  sc_y_val = sc_model_y.transform(y_val)\n",
    "\n",
    "  train_score = model.score(pf_sc_x_train, sc_y_train)\n",
    "  val_score = model.score(pf_sc_x_val, sc_y_val)\n",
    "\n",
    "  # 戻り値：作成したモデル、特徴量の標準化、正解データの標準化、特徴量エンジニアリング（一括）、訓練スコア、検証スコア\n",
    "  return model, sc_model_x, sc_model_y, pf, train_score, val_score"
   ]
  },
  {
   "cell_type": "code",
   "execution_count": 190,
   "metadata": {
    "colab": {
     "base_uri": "https://localhost:8080/"
    },
    "id": "UAG-FNOB7XDU",
    "outputId": "80b0891a-1325-4142-eadf-26c7aa896669"
   },
   "outputs": [
    {
     "name": "stdout",
     "output_type": "stream",
     "text": [
      "訓練データスコア：0.9015997434496485\n",
      "検証データスコア：0.8223682438185091\n"
     ]
    },
    {
     "name": "stderr",
     "output_type": "stream",
     "text": [
      "/usr/local/lib/python3.7/dist-packages/sklearn/linear_model/_coordinate_descent.py:648: ConvergenceWarning: Objective did not converge. You might want to increase the number of iterations, check the scale of the features or consider increasing regularisation. Duality gap: 3.159e-02, tolerance: 2.320e-02\n",
      "  coef_, l1_reg, l2_reg, X, y, max_iter, tol, rng, random, positive\n"
     ]
    }
   ],
   "source": [
    "# 訓練データ・検証データのスコア確認（α＝0.001のときの確認）\n",
    "lassoModel, sc_model_x5, sc_model_y5, pf3, s9, s10 = learn4(x2, t2, 0.001)\n",
    "\n",
    "print(f'訓練データスコア：{s9}')    # 訓練データはスコアUP\n",
    "print(f'検証データスコア：{s10}')   # 検証データはスコアUP"
   ]
  },
  {
   "cell_type": "code",
   "execution_count": 191,
   "metadata": {
    "colab": {
     "base_uri": "https://localhost:8080/"
    },
    "id": "v_JJdOJg9Cvo",
    "outputId": "579ce32d-ec38-4766-c248-cab0f2c6168d"
   },
   "outputs": [
    {
     "name": "stdout",
     "output_type": "stream",
     "text": [
      "αの最大値:0.015\n",
      "訓練データスコア：0.8844628336104191\n",
      "検証データスコア：0.8485982020568821\n"
     ]
    },
    {
     "name": "stderr",
     "output_type": "stream",
     "text": [
      "/usr/local/lib/python3.7/dist-packages/sklearn/linear_model/_coordinate_descent.py:648: ConvergenceWarning: Objective did not converge. You might want to increase the number of iterations, check the scale of the features or consider increasing regularisation. Duality gap: 3.159e-02, tolerance: 2.320e-02\n",
      "  coef_, l1_reg, l2_reg, X, y, max_iter, tol, rng, random, positive\n"
     ]
    }
   ],
   "source": [
    "# 訓練データ・検証データのスコア確認\n",
    "max_s9 = 0\n",
    "max_s10 = 0\n",
    "max_alpha = 0\n",
    "max_lassoModel = ''\n",
    "\n",
    "# 1～0.001までのαの数値を変化させて最大値を求めている。\n",
    "for alpha in range(1000, 0, -1):\n",
    "  alpha /= 1000\n",
    "  lassoModel, sc_model_x5, sc_model_y5, pf3, s9, s10 = learn4(x2, t2, alpha)\n",
    "\n",
    "  if s10 > max_s10:\n",
    "    max_s9 = s9\n",
    "    max_s10 = s10\n",
    "    max_alpha = alpha\n",
    "    max_lassoModel = lassoModel\n",
    "\n",
    "print(f'αの最大値:{max_alpha}')\n",
    "print(f'訓練データスコア：{max_s9}')    # 訓練データはスコアUP\n",
    "print(f'検証データスコア：{max_s10}')   # 検証データはスコアUP\n"
   ]
  },
  {
   "cell_type": "code",
   "execution_count": 192,
   "metadata": {
    "colab": {
     "base_uri": "https://localhost:8080/"
    },
    "id": "kCBtowXu8ebQ",
    "outputId": "bad2c8eb-668d-488e-aea3-942db6243611"
   },
   "outputs": [
    {
     "name": "stderr",
     "output_type": "stream",
     "text": [
      "/usr/local/lib/python3.7/dist-packages/sklearn/utils/deprecation.py:87: FutureWarning: Function get_feature_names is deprecated; get_feature_names is deprecated in 1.0 and will be removed in 1.2. Please use get_feature_names_out instead.\n",
      "  warnings.warn(msg, category=FutureWarning)\n"
     ]
    },
    {
     "data": {
      "text/plain": [
       "x0      -0.672132\n",
       "x1      -0.091383\n",
       "x2      -0.072592\n",
       "x3      -0.000000\n",
       "x4      -0.018314\n",
       "x5       0.341925\n",
       "x6      -0.000000\n",
       "x7       0.000000\n",
       "x8       0.000000\n",
       "x0^2     0.119866\n",
       "x0 x1    0.000000\n",
       "x0 x2    0.000000\n",
       "x0 x3    0.000000\n",
       "x0 x4    0.000000\n",
       "x0 x5   -0.000000\n",
       "x0 x6    0.010861\n",
       "x0 x7   -0.000000\n",
       "x0 x8    0.000000\n",
       "x1^2     0.000000\n",
       "x1 x2    0.000000\n",
       "x1 x3   -0.000000\n",
       "x1 x4    0.000000\n",
       "x1 x5   -0.000000\n",
       "x1 x6    0.000000\n",
       "x1 x7   -0.000000\n",
       "x1 x8   -0.000000\n",
       "x2^2    -0.000000\n",
       "x2 x3   -0.000000\n",
       "x2 x4    0.000000\n",
       "x2 x5   -0.069574\n",
       "x2 x6    0.000000\n",
       "x2 x7   -0.000000\n",
       "x2 x8    0.000000\n",
       "x3^2    -0.000000\n",
       "x3 x4   -0.000000\n",
       "x3 x5   -0.000000\n",
       "x3 x6    0.003020\n",
       "x3 x7    0.000000\n",
       "x3 x8   -0.000000\n",
       "x4^2     0.000000\n",
       "x4 x5   -0.046811\n",
       "x4 x6   -0.090185\n",
       "x4 x7   -0.000000\n",
       "x4 x8   -0.000000\n",
       "x5^2     0.047182\n",
       "x5 x6    0.000568\n",
       "x5 x7    0.003089\n",
       "x5 x8    0.000000\n",
       "x6^2     0.028315\n",
       "x6 x7    0.000000\n",
       "x6 x8    0.028572\n",
       "x7^2     0.019178\n",
       "x7 x8   -0.000000\n",
       "x8^2     0.000000\n",
       "dtype: float64"
      ]
     },
     "execution_count": 192,
     "metadata": {},
     "output_type": "execute_result"
    }
   ],
   "source": [
    "# 回帰式の係数を確認\n",
    "weight = max_lassoModel.coef_\n",
    "pd.Series(weight, index = pf.get_feature_names())"
   ]
  },
  {
   "cell_type": "code",
   "execution_count": 193,
   "metadata": {
    "colab": {
     "base_uri": "https://localhost:8080/"
    },
    "id": "W_70cdHZ-LXB",
    "outputId": "922945d2-82fc-4d5b-948a-7e024c1507a8"
   },
   "outputs": [
    {
     "name": "stdout",
     "output_type": "stream",
     "text": [
      "テストデータのスコア：0.8641516021259243\n"
     ]
    }
   ],
   "source": [
    "# ラッソ回帰でのテストデータのスコア\n",
    "# ⇒検証データほどスコア伸びず。\n",
    "print(f'テストデータのスコア：{max_lassoModel.score(pf_sc_x_test, sc_y_test)}')  # テストデータはスコアUP"
   ]
  },
  {
   "cell_type": "code",
   "execution_count": 194,
   "metadata": {
    "id": "aTzpoOoJAlEQ"
   },
   "outputs": [],
   "source": [
    "# アダブーストによる回帰\n",
    "from sklearn.ensemble import AdaBoostRegressor\n",
    "from sklearn.tree import DecisionTreeRegressor\n",
    "\n",
    "\n",
    "def learn5(x, t):\n",
    "  x_train, x_val, y_train, y_val = train_test_split(x, t, test_size=0.2, random_state=0)\n",
    "\n",
    "  sc_model_x = StandardScaler()\n",
    "  sc_model_y = StandardScaler()\n",
    "  pf = PolynomialFeatures(degree=2, include_bias=False)\n",
    "\n",
    "  sc_model_x.fit(x_train)\n",
    "  sc_x_train = sc_model_x.transform(x_train)\n",
    "  pf_sc_x_train = pf.fit_transform(sc_x_train)\n",
    "\n",
    "  sc_model_y.fit(y_train)\n",
    "  sc_y_train = sc_model_y.transform(y_train)\n",
    "\n",
    "  base = DecisionTreeRegressor(random_state=0, max_depth=3)\n",
    "  model = AdaBoostRegressor(random_state=0, n_estimators=100, base_estimator=base)\n",
    "  model.fit(pf_sc_x_train, sc_y_train)\n",
    "\n",
    "  sc_x_val = sc_model_x.transform(x_val)\n",
    "  pf_sc_x_val = pf.fit_transform(sc_x_val)\n",
    "  sc_y_val = sc_model_y.transform(y_val)\n",
    "  \n",
    "  train_score = model.score(pf_sc_x_train, sc_y_train)\n",
    "  val_score = model.score(pf_sc_x_val, sc_y_val)\n",
    "\n",
    "  # 戻り値：作成したモデル、特徴量の標準化、正解データの標準化、特徴量エンジニアリング（一括）、訓練スコア、検証スコア\n",
    "  return model, sc_model_x, sc_model_y, pf, train_score, val_score"
   ]
  },
  {
   "cell_type": "code",
   "execution_count": 195,
   "metadata": {
    "colab": {
     "base_uri": "https://localhost:8080/"
    },
    "id": "Fg3u_nq2CmpH",
    "outputId": "8bb72625-446f-4114-98f4-5be6917154ea"
   },
   "outputs": [
    {
     "name": "stderr",
     "output_type": "stream",
     "text": [
      "/usr/local/lib/python3.7/dist-packages/sklearn/utils/validation.py:993: DataConversionWarning: A column-vector y was passed when a 1d array was expected. Please change the shape of y to (n_samples, ), for example using ravel().\n",
      "  y = column_or_1d(y, warn=True)\n"
     ]
    },
    {
     "name": "stdout",
     "output_type": "stream",
     "text": [
      "訓練データスコア：0.9015997434496485\n",
      "検証データスコア：0.8223682438185091\n"
     ]
    }
   ],
   "source": [
    "# 訓練データ・検証データのスコア確認\n",
    "adaBoostModel, sc_model_x6, sc_model_y6, pf4, s11, s12 = learn5(x2, t2)\n",
    "\n",
    "print(f'訓練データスコア：{s9}')    # 訓練データはスコアUP\n",
    "print(f'検証データスコア：{s10}')   # 検証データはスコアUP"
   ]
  },
  {
   "cell_type": "code",
   "execution_count": 196,
   "metadata": {
    "colab": {
     "base_uri": "https://localhost:8080/"
    },
    "id": "8ThiPfyzDniB",
    "outputId": "e38d3b2f-9f00-487b-b5c1-4fddd58254ea"
   },
   "outputs": [
    {
     "name": "stdout",
     "output_type": "stream",
     "text": [
      "テストデータのスコア：0.8705495698990993\n"
     ]
    }
   ],
   "source": [
    "# アダブーストでのテストデータのスコア\n",
    "print(f'テストデータのスコア：{adaBoostModel.score(pf_sc_x_test, sc_y_test)}')  # テストデータはスコアUP"
   ]
  },
  {
   "cell_type": "code",
   "execution_count": 197,
   "metadata": {
    "id": "DUiGmdBYFnOu"
   },
   "outputs": [],
   "source": [
    "# ランダムフォレストによる回帰\n",
    "from sklearn.ensemble import RandomForestRegressor\n",
    "\n",
    "def learn6(x, t):\n",
    "  x_train, x_val, y_train, y_val = train_test_split(x, t, test_size=0.2, random_state=0)\n",
    "\n",
    "  sc_model_x = StandardScaler()\n",
    "  sc_model_y = StandardScaler()\n",
    "  pf = PolynomialFeatures(degree=2, include_bias=False)\n",
    "\n",
    "  sc_model_x.fit(x_train)\n",
    "  sc_x_train = sc_model_x.transform(x_train)\n",
    "  pf_sc_x_train = pf.fit_transform(sc_x_train)\n",
    "\n",
    "  sc_model_y.fit(y_train)\n",
    "  sc_y_train = sc_model_y.transform(y_train)\n",
    "\n",
    "  model = RandomForestRegressor(random_state=0, n_estimators=100)\n",
    "  model.fit(pf_sc_x_train, sc_y_train)\n",
    "\n",
    "  sc_x_val = sc_model_x.transform(x_val)\n",
    "  pf_sc_x_val = pf.fit_transform(sc_x_val)\n",
    "  sc_y_val = sc_model_y.transform(y_val)\n",
    "  \n",
    "  train_score = model.score(pf_sc_x_train, sc_y_train)\n",
    "  val_score = model.score(pf_sc_x_val, sc_y_val)\n",
    "\n",
    "  # 戻り値：作成したモデル、特徴量の標準化、正解データの標準化、特徴量エンジニアリング（一括）、訓練スコア、検証スコア\n",
    "  return model, sc_model_x, sc_model_y, pf, train_score, val_score"
   ]
  },
  {
   "cell_type": "code",
   "execution_count": 198,
   "metadata": {
    "colab": {
     "base_uri": "https://localhost:8080/"
    },
    "id": "ycyHD_QgF-ya",
    "outputId": "4ff1d543-bf51-4a2b-c5d9-5264799df58f"
   },
   "outputs": [
    {
     "name": "stderr",
     "output_type": "stream",
     "text": [
      "/usr/local/lib/python3.7/dist-packages/ipykernel_launcher.py:19: DataConversionWarning: A column-vector y was passed when a 1d array was expected. Please change the shape of y to (n_samples,), for example using ravel().\n"
     ]
    },
    {
     "name": "stdout",
     "output_type": "stream",
     "text": [
      "訓練データスコア：0.9015997434496485\n",
      "検証データスコア：0.8223682438185091\n"
     ]
    }
   ],
   "source": [
    "# 訓練データ・検証データのスコア確認\n",
    "randForestModel, sc_model_x7, sc_model_y7, pf5, s13, s14 = learn6(x2, t2)\n",
    "\n",
    "print(f'訓練データスコア：{s9}')    # 訓練データはスコアUP\n",
    "print(f'検証データスコア：{s10}')   # 検証データはスコアUP"
   ]
  },
  {
   "cell_type": "code",
   "execution_count": 199,
   "metadata": {
    "colab": {
     "base_uri": "https://localhost:8080/"
    },
    "id": "-_RwLIRoGJzt",
    "outputId": "c2aa5c1f-3128-4be4-c244-7df99effa090"
   },
   "outputs": [
    {
     "name": "stdout",
     "output_type": "stream",
     "text": [
      "テストデータのスコア：0.8927271668580681\n"
     ]
    }
   ],
   "source": [
    "# ランダムフォレストでのテストデータのスコア\n",
    "print(f'テストデータのスコア：{randForestModel.score(pf_sc_x_test, sc_y_test)}')  # テストデータはスコアUP"
   ]
  },
  {
   "cell_type": "markdown",
   "metadata": {
    "id": "xuwK7az--ac5"
   },
   "source": [
    "# 上記結果のまとめ\n",
    "## ①外れ値処理前\n",
    "## 　線形モデル（特徴量エンジニアリングなし）：0.833523343337763\n",
    "## ②外れ値処理後\n",
    "## 　線形モデル（特徴量エンジニアリングなし）：0.8300009741186072\n",
    "## 　線形モデル（特徴量エンジニアリングあり）：0.7809452438221666\n",
    "## 　リッジ回帰モデル：0.8602337555899456\n",
    "## 　ラッソ回帰モデル：0.8641516021259243\n",
    "## 　アダブースト：0.8705495698990993\n",
    "## 　ランダムフォレスト：0.8927271668580681\n",
    "\n",
    "\n",
    "### 上記より、ランダムフォレストモデルが一番高い。"
   ]
  },
  {
   "cell_type": "code",
   "execution_count": 200,
   "metadata": {
    "id": "xLl8yR9Z7O78"
   },
   "outputs": [],
   "source": [
    "# モデルの保存\n",
    "import pickle\n",
    "\n",
    "# 線形モデル（特徴量エンジニアリングなし）\n",
    "with open('lineModel1.pkl', 'wb') as f:\n",
    "  pickle.dump(model, f)\n",
    "\n",
    "# 線形モデル（特徴量エンジニアリングあり）\n",
    "with open('lineModel2.pkl', 'wb') as f:\n",
    "  pickle.dump(model3, f)\n",
    "\n",
    "# リッジ回帰モデル\n",
    "with open('ridgeModel.pkl', 'wb') as f:\n",
    "  pickle.dump(maxRidgeModel, f)\n",
    "\n",
    "# ラッソ回帰モデル\n",
    "with open('lassoModel.pkl', 'wb') as f:\n",
    "  pickle.dump(max_lassoModel, f)\n",
    "\n",
    "# アダブーストモデル\n",
    "with open('adaBoostModel.pkl', 'wb') as f:\n",
    "  pickle.dump(adaBoostModel, f)\n",
    "\n",
    "# ランダムフォレストモデル\n",
    "with open('randForestModel.pkl', 'wb') as f:\n",
    "  pickle.dump(randForestModel, f)"
   ]
  }
 ],
 "metadata": {
  "colab": {
   "name": "kouka_回帰_長野校_川野正広.ipynb",
   "provenance": []
  },
  "kernelspec": {
   "display_name": "Python 3",
   "language": "python",
   "name": "python3"
  },
  "language_info": {
   "codemirror_mode": {
    "name": "ipython",
    "version": 3
   },
   "file_extension": ".py",
   "mimetype": "text/x-python",
   "name": "python",
   "nbconvert_exporter": "python",
   "pygments_lexer": "ipython3",
   "version": "3.8.5"
  }
 },
 "nbformat": 4,
 "nbformat_minor": 1
}
