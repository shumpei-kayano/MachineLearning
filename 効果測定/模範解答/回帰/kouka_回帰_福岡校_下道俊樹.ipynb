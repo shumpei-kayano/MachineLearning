{
 "cells": [
  {
   "cell_type": "markdown",
   "metadata": {
    "id": "4Jhl2A-iXgXD"
   },
   "source": [
    "#機械学習（回帰）"
   ]
  },
  {
   "cell_type": "markdown",
   "metadata": {
    "id": "n7fA3bMnXgXH"
   },
   "source": [
    "###各種インポート"
   ]
  },
  {
   "cell_type": "code",
   "execution_count": 21,
   "metadata": {
    "colab": {
     "base_uri": "https://localhost:8080/"
    },
    "id": "PHJIjJlPk0DL",
    "outputId": "1ecabf3e-8d05-4618-dc4e-aa65d1086517"
   },
   "outputs": [
    {
     "name": "stdout",
     "output_type": "stream",
     "text": [
      "Requirement already satisfied: japanize_matplotlib in /usr/local/lib/python3.7/dist-packages (1.1.3)\n",
      "Requirement already satisfied: matplotlib in /usr/local/lib/python3.7/dist-packages (from japanize_matplotlib) (3.2.2)\n",
      "Requirement already satisfied: kiwisolver>=1.0.1 in /usr/local/lib/python3.7/dist-packages (from matplotlib->japanize_matplotlib) (1.3.2)\n",
      "Requirement already satisfied: python-dateutil>=2.1 in /usr/local/lib/python3.7/dist-packages (from matplotlib->japanize_matplotlib) (2.8.2)\n",
      "Requirement already satisfied: numpy>=1.11 in /usr/local/lib/python3.7/dist-packages (from matplotlib->japanize_matplotlib) (1.21.5)\n",
      "Requirement already satisfied: pyparsing!=2.0.4,!=2.1.2,!=2.1.6,>=2.0.1 in /usr/local/lib/python3.7/dist-packages (from matplotlib->japanize_matplotlib) (3.0.7)\n",
      "Requirement already satisfied: cycler>=0.10 in /usr/local/lib/python3.7/dist-packages (from matplotlib->japanize_matplotlib) (0.11.0)\n",
      "Requirement already satisfied: six>=1.5 in /usr/local/lib/python3.7/dist-packages (from python-dateutil>=2.1->matplotlib->japanize_matplotlib) (1.15.0)\n"
     ]
    }
   ],
   "source": [
    "!pip install japanize_matplotlib\n",
    "%matplotlib inline\n",
    "\n",
    "import matplotlib.pyplot as plt\n",
    "import japanize_matplotlib\n",
    "import pandas as pd\n",
    "from sklearn.covariance import MinCovDet as MCD\n",
    "from sklearn.model_selection import train_test_split\n",
    "from sklearn.preprocessing import StandardScaler as SS\n",
    "from sklearn.preprocessing import PolynomialFeatures as PF\n",
    "\n",
    "from sklearn.linear_model import SGDRegressor as SGDR\n",
    "from sklearn.linear_model import Lasso as L\n",
    "from sklearn.linear_model import ElasticNet as EN\n",
    "from sklearn.linear_model import Ridge as R\n",
    "from sklearn.svm import SVR\n",
    "from sklearn.ensemble import BaggingRegressor as BR\n",
    "from sklearn.tree import DecisionTreeRegressor as DTR\n",
    "\n",
    "import warnings\n",
    "import pickle\n",
    "\n",
    "#警告文の非表示\n",
    "warnings.simplefilter(\"ignore\")"
   ]
  },
  {
   "cell_type": "markdown",
   "metadata": {
    "id": "nnEKznrSXgXJ"
   },
   "source": [
    "##関数の定義"
   ]
  },
  {
   "cell_type": "markdown",
   "metadata": {
    "id": "3Cw0HG1LXgXJ"
   },
   "source": [
    "###外れ値の除外"
   ]
  },
  {
   "cell_type": "code",
   "execution_count": 22,
   "metadata": {
    "id": "jzUGl24Ck0DN"
   },
   "outputs": [],
   "source": [
    "def outliers(df):\n",
    "    df2 = df\n",
    "    #種類が少ない列は除外\n",
    "    for name in df2.columns:\n",
    "        if len(df2[name].unique()) < 5:\n",
    "            df2 = df2.drop(name,axis=1)\n",
    "    \n",
    "    #除外対象がない場合終了\n",
    "    if len(df2.columns) == 0:\n",
    "        print(\"外れ値除外対象なし\")\n",
    "        return df\n",
    "\n",
    "    #箱ひげ図の描画\n",
    "    for plt_x in df2.columns:\n",
    "        plt.boxplot(df2[plt_x])\n",
    "        plt.title(plt_x)\n",
    "        plt.show()\n",
    "\n",
    "    #マハラノビス距離で外れ値の除外\n",
    "    mcd = MCD(random_state= 0).fit(df2)\n",
    "    distance = pd.Series(mcd.mahalanobis(df2),index=df2.index)\n",
    "    tmp = distance.describe()\n",
    "    iqr = tmp[\"75%\"] - tmp[\"25%\"]\n",
    "    upper = 1.5 * iqr + tmp[\"75%\"]\n",
    "    lower = tmp[\"25%\"] - 1.5 * iqr\n",
    "    outliner = distance[ (distance > upper) | (distance < lower) ]\n",
    "    df = df.drop(outliner.index,axis = 0)\n",
    "    \n",
    "    return df"
   ]
  },
  {
   "cell_type": "markdown",
   "metadata": {
    "id": "Eh188f1-XgXK"
   },
   "source": [
    "###最適特徴量選択"
   ]
  },
  {
   "cell_type": "code",
   "execution_count": 23,
   "metadata": {
    "id": "Ubm6uqOzk0DN"
   },
   "outputs": [],
   "source": [
    "def feature(x,t,target,specify_degree,col=[-1]):\n",
    "    #特徴量一括追加\n",
    "    pf = PF(degree = specify_degree,include_bias = False).fit(x)\n",
    "    pf_x = pf.transform(x)\n",
    "    t_df = pd.DataFrame(t)\n",
    "    x_df = pd.DataFrame(pf_x,index=t_df.index)\n",
    "    pf_df = pd.concat([x_df,t_df],axis = 1)\n",
    "\n",
    "    #相関係数の計算\n",
    "    se = pf_df.corr()[target]\n",
    "    se = se.map(abs)\n",
    "    se = se.sort_values(ascending = False)\n",
    "    se_df = pd.DataFrame(se)\n",
    "\n",
    "    if col[0] == -1: \n",
    "        col_len = len(se_df[se_df[target] > 0.25].index)\n",
    "        x_col = se_df.index[1:col_len+1]\n",
    "    else:\n",
    "        #カラムの指定がある場合指定されたカラムを使用\n",
    "        x_col = col\n",
    "\n",
    "    x = pf_df[x_col]\n",
    "    t = pf_df[[target]]\n",
    "    \n",
    "    return x,t"
   ]
  },
  {
   "cell_type": "markdown",
   "metadata": {
    "id": "LRe9CQN2XgXL"
   },
   "source": [
    "###標準化"
   ]
  },
  {
   "cell_type": "code",
   "execution_count": 24,
   "metadata": {
    "id": "YKpTgZ0pk0DN"
   },
   "outputs": [],
   "source": [
    "def scaler(x,t):\n",
    "    #訓練データと検証データに分割\n",
    "    x_train,x_val,y_train,y_val = train_test_split(x,t,test_size = 0.2,random_state=0)\n",
    "\n",
    "    #標準化\n",
    "    sc_x_model = SS().fit(x_train)\n",
    "    sc_y_model = SS().fit(y_train)\n",
    "    sc_x_train = sc_x_model.transform(x_train)\n",
    "    sc_x_val = sc_x_model.transform(x_val)\n",
    "    sc_y_train = sc_y_model.transform(y_train)\n",
    "    sc_y_val = sc_y_model.transform(y_val)\n",
    "    \n",
    "    return sc_x_model,sc_y_model,sc_x_train,sc_x_val,sc_y_train,sc_y_val"
   ]
  },
  {
   "cell_type": "markdown",
   "metadata": {
    "id": "p3jqOKK3XgXM"
   },
   "source": [
    "###SGDRegressorモデル"
   ]
  },
  {
   "cell_type": "code",
   "execution_count": 25,
   "metadata": {
    "id": "03mQwyZ5k0DO"
   },
   "outputs": [],
   "source": [
    "def sgdr_model(sc_x_train,sc_x_val,sc_y_train,sc_y_val):\n",
    "    p_score = -1\n",
    "    count = 0\n",
    "\n",
    "    #パラメータ調整\n",
    "    for i in range(1,10001):\n",
    "        p_model = SGDR(max_iter=i).fit(sc_x_train,sc_y_train)\n",
    "        p_train_score = p_model.score(sc_x_train,sc_y_train)\n",
    "        p_val_score = p_model.score(sc_x_val,sc_y_val)\n",
    "\n",
    "        if p_val_score > p_score:\n",
    "            #決定係数が高ければ更新\n",
    "            p_score = p_val_score\n",
    "            count = 0\n",
    "        else:\n",
    "            count += 1\n",
    "            if count > 5:\n",
    "                #5回続けて決定係数が下がった場合、変数を戻しbreak\n",
    "                i -= 5\n",
    "                p_model = SGDR(max_iter=i).fit(sc_x_train,sc_y_train)\n",
    "                p_train_score = p_model.score(sc_x_train,sc_y_train)\n",
    "                p_val_score = p_model.score(sc_x_val,sc_y_val)\n",
    "                break\n",
    "\n",
    "    return p_model,p_train_score,p_val_score"
   ]
  },
  {
   "cell_type": "markdown",
   "metadata": {
    "id": "UcL4W2EXXgXN"
   },
   "source": [
    "###Lassoモデル"
   ]
  },
  {
   "cell_type": "code",
   "execution_count": 26,
   "metadata": {
    "id": "g3K4NGl8k0DO"
   },
   "outputs": [],
   "source": [
    "def l_model(sc_x_train,sc_x_val,sc_y_train,sc_y_val):\n",
    "    p_score = -1\n",
    "    count = 0\n",
    "\n",
    "    #パラメータ調整\n",
    "    for i in range(1,10001):\n",
    "        p_model = L(alpha=i/1000).fit(sc_x_train,sc_y_train)\n",
    "        p_train_score = p_model.score(sc_x_train,sc_y_train)\n",
    "        p_val_score = p_model.score(sc_x_val,sc_y_val)\n",
    "        \n",
    "        if p_val_score > p_score:\n",
    "            #決定係数が高ければ更新\n",
    "            p_score = p_val_score\n",
    "            count = 0\n",
    "        else:\n",
    "            count += 1\n",
    "            if count > 5:\n",
    "                #5回続けて決定係数が下がった場合、変数を戻しbreak\n",
    "                i -= 5\n",
    "                p_model = L(alpha=i/1000).fit(sc_x_train,sc_y_train)\n",
    "                p_train_score = p_model.score(sc_x_train,sc_y_train)\n",
    "                p_val_score = p_model.score(sc_x_val,sc_y_val)\n",
    "                break\n",
    "    \n",
    "    return p_model,p_train_score,p_val_score"
   ]
  },
  {
   "cell_type": "markdown",
   "metadata": {
    "id": "FNyOnwW5XgXO"
   },
   "source": [
    "###ElatsicNetモデル"
   ]
  },
  {
   "cell_type": "code",
   "execution_count": 27,
   "metadata": {
    "id": "hCotLhgKXgXO"
   },
   "outputs": [],
   "source": [
    "def en_model(sc_x_train,sc_x_val,sc_y_train,sc_y_val):\n",
    "    p_score = -1\n",
    "    count = 0\n",
    "\n",
    "    #パラメータ調整\n",
    "    for i in range(1,10001):\n",
    "        p_model = EN(alpha=i/1000).fit(sc_x_train,sc_y_train)\n",
    "        p_train_score = p_model.score(sc_x_train,sc_y_train)\n",
    "        p_val_score = p_model.score(sc_x_val,sc_y_val)\n",
    "        \n",
    "        if p_val_score > p_score:\n",
    "            #決定係数が高ければ更新\n",
    "            p_score = p_val_score\n",
    "            count = 0\n",
    "        else:\n",
    "            count += 1\n",
    "            if count > 5:\n",
    "                #5回続けて決定係数が下がった場合、変数を戻しbreak\n",
    "                i -= 5\n",
    "                p_model = EN(alpha=i/1000).fit(sc_x_train,sc_y_train)\n",
    "                p_train_score = p_model.score(sc_x_train,sc_y_train)\n",
    "                p_val_score = p_model.score(sc_x_val,sc_y_val)\n",
    "                break\n",
    "\n",
    "    return p_model,p_train_score,p_val_score"
   ]
  },
  {
   "cell_type": "markdown",
   "metadata": {
    "id": "4TH9YXLIXgXM"
   },
   "source": [
    "###Ridgeモデル"
   ]
  },
  {
   "cell_type": "code",
   "execution_count": 28,
   "metadata": {
    "id": "VPTAxd8Uk0DO"
   },
   "outputs": [],
   "source": [
    "def r_model(sc_x_train,sc_x_val,sc_y_train,sc_y_val):\n",
    "    p_score = -1\n",
    "    count = 0\n",
    "\n",
    "    #パラメータ調整\n",
    "    for i in range(1,10001):\n",
    "        p_model = R(alpha=i/1000).fit(sc_x_train,sc_y_train)\n",
    "        p_train_score = p_model.score(sc_x_train,sc_y_train)\n",
    "        p_val_score = p_model.score(sc_x_val,sc_y_val)\n",
    "        \n",
    "        if p_val_score > p_score:\n",
    "            #決定係数が高ければ更新\n",
    "            p_score = p_val_score\n",
    "            count = 0\n",
    "        else:\n",
    "            count += 1\n",
    "            if count > 5:\n",
    "                #5回続けて決定係数が下がった場合、変数を戻しbreak\n",
    "                i -= 5\n",
    "                p_model = R(alpha=i/1000).fit(sc_x_train,sc_y_train)\n",
    "                p_train_score = p_model.score(sc_x_train,sc_y_train)\n",
    "                p_val_score = p_model.score(sc_x_val,sc_y_val)\n",
    "                break\n",
    "        \n",
    "    return p_model,p_train_score,p_val_score"
   ]
  },
  {
   "cell_type": "markdown",
   "metadata": {
    "id": "Jbdov4TdXgXO"
   },
   "source": [
    "###linearSVRモデル"
   ]
  },
  {
   "cell_type": "code",
   "execution_count": 29,
   "metadata": {
    "id": "0b40VjzwXgXO"
   },
   "outputs": [],
   "source": [
    "def lsvr_model(sc_x_train,sc_x_val,sc_y_train,sc_y_val):\n",
    "    p_score = -1\n",
    "    count = 0\n",
    "\n",
    "    #パラメータ調整\n",
    "    for i in range(1,10001):\n",
    "        p_model = SVR(kernel=\"linear\", C=i/10, epsilon=2.0).fit(sc_x_train,sc_y_train)\n",
    "        p_train_score = p_model.score(sc_x_train,sc_y_train)\n",
    "        p_val_score = p_model.score(sc_x_val,sc_y_val)\n",
    "        \n",
    "        if p_val_score > p_score:\n",
    "            #決定係数が高ければ更新\n",
    "            p_score = p_val_score\n",
    "            count = 0\n",
    "        else:\n",
    "            count += 1\n",
    "            if count > 5:\n",
    "                #5回続けて決定係数が下がった場合、変数を戻しbreak\n",
    "                i -= 5\n",
    "                p_model = SVR(kernel=\"linear\", C=i/10, epsilon=2.0).fit(sc_x_train,sc_y_train)\n",
    "                p_train_score = p_model.score(sc_x_train,sc_y_train)\n",
    "                p_val_score = p_model.score(sc_x_val,sc_y_val)\n",
    "                break\n",
    "\n",
    "    return p_model,p_train_score,p_val_score"
   ]
  },
  {
   "cell_type": "markdown",
   "metadata": {
    "id": "aNqCiQuDXgXO"
   },
   "source": [
    "###rbfSVRモデル"
   ]
  },
  {
   "cell_type": "code",
   "execution_count": 30,
   "metadata": {
    "id": "Z-rQcISrXgXP"
   },
   "outputs": [],
   "source": [
    "def rsvr_model(sc_x_train,sc_x_val,sc_y_train,sc_y_val):\n",
    "    p_score = -1\n",
    "    i_count = 0\n",
    "\n",
    "    #パラメータ調整\n",
    "    for i in range(1,10001):\n",
    "        j_count = 0\n",
    "        for j in range(1,10001):\n",
    "            p_model = SVR(kernel=\"rbf\", C=i/10, gamma=j/100, epsilon=0.1).fit(sc_x_train,sc_y_train)\n",
    "            p_train_score = p_model.score(sc_x_train,sc_y_train)\n",
    "            p_val_score = p_model.score(sc_x_val,sc_y_val)\n",
    "\n",
    "            if p_val_score > p_score:\n",
    "                #決定係数が高ければ更新\n",
    "                p_score = p_val_score\n",
    "                j_count = 0\n",
    "            else:\n",
    "                j_count += 1\n",
    "                if j_count > 5:\n",
    "                    #5回続けて決定係数が下がった場合、変数を戻しbreak\n",
    "                    j -= 5\n",
    "                    p_model = SVR(kernel=\"rbf\", C=i/10, gamma=j/100, epsilon=0.1).fit(sc_x_train,sc_y_train)\n",
    "                    p_train_score = p_model.score(sc_x_train,sc_y_train)\n",
    "                    p_val_score = p_model.score(sc_x_val,sc_y_val)\n",
    "                    break\n",
    "\n",
    "        p_model = SVR(kernel=\"rbf\", C=i/10, gamma=j/100, epsilon=0.1).fit(sc_x_train,sc_y_train)\n",
    "        p_train_score = p_model.score(sc_x_train,sc_y_train)\n",
    "        p_val_score = p_model.score(sc_x_val,sc_y_val)\n",
    "\n",
    "        if p_val_score > p_score:\n",
    "            #決定係数が高ければ更新\n",
    "            p_score = p_val_score\n",
    "            i_count = 0\n",
    "        else:\n",
    "            i_count += 1\n",
    "            if i_count > 5:\n",
    "                #5回続けて決定係数が下がった場合、変数を戻しbreak\n",
    "                i -= 5\n",
    "                p_model = SVR(kernel=\"rbf\", C=i/10, gamma=j/100, epsilon=0.1).fit(sc_x_train,sc_y_train)\n",
    "                p_train_score = p_model.score(sc_x_train,sc_y_train)\n",
    "                p_val_score = p_model.score(sc_x_val,sc_y_val)\n",
    "                break\n",
    "\n",
    "    return p_model,p_train_score,p_val_score"
   ]
  },
  {
   "cell_type": "markdown",
   "metadata": {
    "id": "wR1ZeMy-XgXP"
   },
   "source": [
    "###BaggingRegressorモデル"
   ]
  },
  {
   "cell_type": "code",
   "execution_count": 31,
   "metadata": {
    "id": "ENgS9UUIXgXP"
   },
   "outputs": [],
   "source": [
    "def br_model(sc_x_train,sc_x_val,sc_y_train,sc_y_val):\n",
    "    p_score = -1\n",
    "    count = 0\n",
    "\n",
    "    #パラメータ調整\n",
    "    for i in range(1,10001):\n",
    "        p_model = BR(DTR(), n_estimators=i, max_samples=0.3).fit(sc_x_train,sc_y_train)\n",
    "        p_train_score = p_model.score(sc_x_train,sc_y_train)\n",
    "        p_val_score = p_model.score(sc_x_val,sc_y_val)\n",
    "        if p_val_score > p_score:\n",
    "            #決定係数が高ければ更新\n",
    "            p_score = p_val_score\n",
    "            count = 0\n",
    "        else:\n",
    "            count += 1\n",
    "            if count > 5:\n",
    "                #5回続けて決定係数が下がった場合、変数を戻しbreak\n",
    "                i -= 5\n",
    "                p_model = BR(DTR(), n_estimators=i, max_samples=0.3).fit(sc_x_train,sc_y_train)\n",
    "                p_train_score = p_model.score(sc_x_train,sc_y_train)\n",
    "                p_val_score = p_model.score(sc_x_val,sc_y_val)\n",
    "                break\n",
    "    \n",
    "    return p_model,p_train_score,p_val_score"
   ]
  },
  {
   "cell_type": "markdown",
   "metadata": {
    "id": "fJMXJoC2XgXP"
   },
   "source": [
    "###最適モデル選択"
   ]
  },
  {
   "cell_type": "code",
   "execution_count": 32,
   "metadata": {
    "id": "pj4py3PLk0DP"
   },
   "outputs": [],
   "source": [
    "def model_selection(sc_x_train,sc_x_val,sc_y_train,sc_y_val):\n",
    "    print(\"▮\",end=\"\")\n",
    "    val_score,model,train_score,val_score = -1,-1,-1,-1\n",
    "\n",
    "    #SGDRegressorモデル\n",
    "    p_sgdr_model,p_sgdr_train_score,p_sgdr_val_score = sgdr_model(sc_x_train,sc_x_val,sc_y_train,sc_y_val)\n",
    "    if p_sgdr_val_score > val_score:\n",
    "        #決定係数が高ければ更新\n",
    "        model = p_sgdr_model\n",
    "        train_score = p_sgdr_train_score\n",
    "        val_score = p_sgdr_val_score\n",
    "\n",
    "    #Lassoモデル\n",
    "    p_l_model,p_l_train_score,p_l_val_score = l_model(sc_x_train,sc_x_val,sc_y_train,sc_y_val)\n",
    "    if p_l_val_score > val_score:\n",
    "        #決定係数が高ければ更新\n",
    "        model = p_l_model\n",
    "        train_score = p_l_train_score\n",
    "        val_score = p_l_val_score\n",
    "   \n",
    "    print(\"▮\",end=\"\")\n",
    "   \n",
    "    #ElasticNetモデル\n",
    "    p_en_model,p_en_train_score,p_en_val_score = en_model(sc_x_train,sc_x_val,sc_y_train,sc_y_val)\n",
    "    if p_en_val_score > val_score:\n",
    "        #決定係数が高ければ更新\n",
    "        model = p_en_model\n",
    "        train_score = p_en_train_score\n",
    "        val_score = p_en_val_score\n",
    "\n",
    "    #Rigdeモデル\n",
    "    p_r_model,p_r_train_score,p_r_val_score = r_model(sc_x_train,sc_x_val,sc_y_train,sc_y_val)\n",
    "    if p_r_val_score > val_score:\n",
    "        #決定係数が高ければ更新\n",
    "        model = p_r_model\n",
    "        train_score = p_r_train_score\n",
    "        val_score = p_r_val_score\n",
    "\n",
    "    print(\"▮\",end=\"\")\n",
    "\n",
    "    #linearSVRモデル\n",
    "    p_lsvr_model,p_lsvr_train_score,p_lsvr_val_score = lsvr_model(sc_x_train,sc_x_val,sc_y_train,sc_y_val)\n",
    "    if p_lsvr_val_score > val_score:\n",
    "        #決定係数が高ければ更新\n",
    "        model = p_lsvr_model\n",
    "        train_score = p_lsvr_train_score\n",
    "        val_score = p_lsvr_val_score\n",
    "\n",
    "    print(\"▮\",end=\"\")\n",
    "\n",
    "    #rbfSVRモデル\n",
    "    p_rsvr_model,p_rsvr_train_score,p_rsvr_val_score = rsvr_model(sc_x_train,sc_x_val,sc_y_train,sc_y_val)\n",
    "    if p_rsvr_val_score > val_score:\n",
    "        #決定係数が高ければ更新\n",
    "        model = p_rsvr_model\n",
    "        train_score = p_rsvr_train_score\n",
    "        val_score = p_rsvr_val_score\n",
    "\n",
    "    #BaggingRegressorモデル\n",
    "    p_br_model,p_br_train_score,p_br_val_score = br_model(sc_x_train,sc_x_val,sc_y_train,sc_y_val)\n",
    "    if p_br_val_score > val_score:\n",
    "        #決定係数が高ければ更新\n",
    "        model = p_br_model\n",
    "        train_score = p_br_train_score\n",
    "        val_score = p_br_val_score\n",
    "\n",
    "    print(\"▮▮|\",end=\"\")\n",
    "    \n",
    "    return model,train_score,val_score"
   ]
  },
  {
   "cell_type": "markdown",
   "metadata": {
    "id": "fyaNCtoXXgXQ"
   },
   "source": [
    "###最適処理"
   ]
  },
  {
   "cell_type": "code",
   "execution_count": 33,
   "metadata": {
    "id": "N5ItVj4kk0DP"
   },
   "outputs": [],
   "source": [
    "def optimal(df,target):\n",
    "    print(\"0%  20%  40%  60%  80%  100%\\n|\",end=\"\")\n",
    "\n",
    "    #特徴量、正解データ準備\n",
    "    x_col = df.drop(target,axis = 1).columns\n",
    "    x = df[x_col]\n",
    "    t = df[[target]]\n",
    "    val_score,col = -1,[-1]\n",
    "\n",
    "    #特徴量次数分繰り返し\n",
    "    for i in range(1,4):\n",
    "\n",
    "        #特徴量一括追加\n",
    "        x2,t2 = feature(x,t,target,i)\n",
    "        \n",
    "        #標準化\n",
    "        p_sc_x_model,p_sc_y_model,sc_x_train,sc_x_val,sc_y_train,sc_y_val = scaler(x2,t2)\n",
    "\n",
    "        #最適モデル選択\n",
    "        p_model,p_train_score,p_val_score = model_selection(sc_x_train,sc_x_val,sc_y_train,sc_y_val)\n",
    "\n",
    "        #決定係数が高ければ更新\n",
    "        if p_val_score > val_score:\n",
    "            model = p_model\n",
    "            train_score = p_train_score\n",
    "            val_score = p_val_score\n",
    "            specify_degree = i\n",
    "            sc_x_model = p_sc_x_model\n",
    "            sc_y_model = p_sc_y_model\n",
    "            col = x2.columns\n",
    "\n",
    "    print(\"▮▮▮▮▮▮|\")\n",
    "    print(\"選択モデル:{}\\n訓練データ決定係数:{}\\t検証データ決定係数:{}\\n特徴量次数:{}\".format(model,round(train_score,3),round(val_score,3),specify_degree))\n",
    "\n",
    "    return model,specify_degree,sc_x_model,sc_y_model,col"
   ]
  },
  {
   "cell_type": "markdown",
   "metadata": {
    "id": "1iUpE39OXgXQ"
   },
   "source": [
    "##実行文"
   ]
  },
  {
   "cell_type": "markdown",
   "metadata": {
    "id": "iEvg1E_FXgXQ"
   },
   "source": [
    "###データフレームの作成"
   ]
  },
  {
   "cell_type": "code",
   "execution_count": 34,
   "metadata": {
    "colab": {
     "base_uri": "https://localhost:8080/",
     "height": 143
    },
    "id": "JGmQKYv6k0DQ",
    "outputId": "500bfa66-203b-4003-cc0b-d9d18f94c3ab"
   },
   "outputs": [
    {
     "data": {
      "text/html": [
       "\n",
       "  <div id=\"df-0779242e-7653-4d71-9371-4bdaadb46e22\">\n",
       "    <div class=\"colab-df-container\">\n",
       "      <div>\n",
       "<style scoped>\n",
       "    .dataframe tbody tr th:only-of-type {\n",
       "        vertical-align: middle;\n",
       "    }\n",
       "\n",
       "    .dataframe tbody tr th {\n",
       "        vertical-align: top;\n",
       "    }\n",
       "\n",
       "    .dataframe thead th {\n",
       "        text-align: right;\n",
       "    }\n",
       "</style>\n",
       "<table border=\"1\" class=\"dataframe\">\n",
       "  <thead>\n",
       "    <tr style=\"text-align: right;\">\n",
       "      <th></th>\n",
       "      <th>Unnamed: 0</th>\n",
       "      <th>MPG</th>\n",
       "      <th>Cylinders</th>\n",
       "      <th>Displacement</th>\n",
       "      <th>Horsepower</th>\n",
       "      <th>Weight</th>\n",
       "      <th>Acceleration</th>\n",
       "      <th>Model Year</th>\n",
       "      <th>Origin</th>\n",
       "    </tr>\n",
       "  </thead>\n",
       "  <tbody>\n",
       "    <tr>\n",
       "      <th>0</th>\n",
       "      <td>0</td>\n",
       "      <td>18.0</td>\n",
       "      <td>8</td>\n",
       "      <td>307.0</td>\n",
       "      <td>130.0</td>\n",
       "      <td>3504</td>\n",
       "      <td>12.0</td>\n",
       "      <td>70</td>\n",
       "      <td>1</td>\n",
       "    </tr>\n",
       "    <tr>\n",
       "      <th>1</th>\n",
       "      <td>1</td>\n",
       "      <td>15.0</td>\n",
       "      <td>8</td>\n",
       "      <td>350.0</td>\n",
       "      <td>165.0</td>\n",
       "      <td>3693</td>\n",
       "      <td>11.5</td>\n",
       "      <td>70</td>\n",
       "      <td>1</td>\n",
       "    </tr>\n",
       "    <tr>\n",
       "      <th>2</th>\n",
       "      <td>2</td>\n",
       "      <td>18.0</td>\n",
       "      <td>8</td>\n",
       "      <td>318.0</td>\n",
       "      <td>150.0</td>\n",
       "      <td>3436</td>\n",
       "      <td>11.0</td>\n",
       "      <td>70</td>\n",
       "      <td>1</td>\n",
       "    </tr>\n",
       "  </tbody>\n",
       "</table>\n",
       "</div>\n",
       "      <button class=\"colab-df-convert\" onclick=\"convertToInteractive('df-0779242e-7653-4d71-9371-4bdaadb46e22')\"\n",
       "              title=\"Convert this dataframe to an interactive table.\"\n",
       "              style=\"display:none;\">\n",
       "        \n",
       "  <svg xmlns=\"http://www.w3.org/2000/svg\" height=\"24px\"viewBox=\"0 0 24 24\"\n",
       "       width=\"24px\">\n",
       "    <path d=\"M0 0h24v24H0V0z\" fill=\"none\"/>\n",
       "    <path d=\"M18.56 5.44l.94 2.06.94-2.06 2.06-.94-2.06-.94-.94-2.06-.94 2.06-2.06.94zm-11 1L8.5 8.5l.94-2.06 2.06-.94-2.06-.94L8.5 2.5l-.94 2.06-2.06.94zm10 10l.94 2.06.94-2.06 2.06-.94-2.06-.94-.94-2.06-.94 2.06-2.06.94z\"/><path d=\"M17.41 7.96l-1.37-1.37c-.4-.4-.92-.59-1.43-.59-.52 0-1.04.2-1.43.59L10.3 9.45l-7.72 7.72c-.78.78-.78 2.05 0 2.83L4 21.41c.39.39.9.59 1.41.59.51 0 1.02-.2 1.41-.59l7.78-7.78 2.81-2.81c.8-.78.8-2.07 0-2.86zM5.41 20L4 18.59l7.72-7.72 1.47 1.35L5.41 20z\"/>\n",
       "  </svg>\n",
       "      </button>\n",
       "      \n",
       "  <style>\n",
       "    .colab-df-container {\n",
       "      display:flex;\n",
       "      flex-wrap:wrap;\n",
       "      gap: 12px;\n",
       "    }\n",
       "\n",
       "    .colab-df-convert {\n",
       "      background-color: #E8F0FE;\n",
       "      border: none;\n",
       "      border-radius: 50%;\n",
       "      cursor: pointer;\n",
       "      display: none;\n",
       "      fill: #1967D2;\n",
       "      height: 32px;\n",
       "      padding: 0 0 0 0;\n",
       "      width: 32px;\n",
       "    }\n",
       "\n",
       "    .colab-df-convert:hover {\n",
       "      background-color: #E2EBFA;\n",
       "      box-shadow: 0px 1px 2px rgba(60, 64, 67, 0.3), 0px 1px 3px 1px rgba(60, 64, 67, 0.15);\n",
       "      fill: #174EA6;\n",
       "    }\n",
       "\n",
       "    [theme=dark] .colab-df-convert {\n",
       "      background-color: #3B4455;\n",
       "      fill: #D2E3FC;\n",
       "    }\n",
       "\n",
       "    [theme=dark] .colab-df-convert:hover {\n",
       "      background-color: #434B5C;\n",
       "      box-shadow: 0px 1px 3px 1px rgba(0, 0, 0, 0.15);\n",
       "      filter: drop-shadow(0px 1px 2px rgba(0, 0, 0, 0.3));\n",
       "      fill: #FFFFFF;\n",
       "    }\n",
       "  </style>\n",
       "\n",
       "      <script>\n",
       "        const buttonEl =\n",
       "          document.querySelector('#df-0779242e-7653-4d71-9371-4bdaadb46e22 button.colab-df-convert');\n",
       "        buttonEl.style.display =\n",
       "          google.colab.kernel.accessAllowed ? 'block' : 'none';\n",
       "\n",
       "        async function convertToInteractive(key) {\n",
       "          const element = document.querySelector('#df-0779242e-7653-4d71-9371-4bdaadb46e22');\n",
       "          const dataTable =\n",
       "            await google.colab.kernel.invokeFunction('convertToInteractive',\n",
       "                                                     [key], {});\n",
       "          if (!dataTable) return;\n",
       "\n",
       "          const docLinkHtml = 'Like what you see? Visit the ' +\n",
       "            '<a target=\"_blank\" href=https://colab.research.google.com/notebooks/data_table.ipynb>data table notebook</a>'\n",
       "            + ' to learn more about interactive tables.';\n",
       "          element.innerHTML = '';\n",
       "          dataTable['output_type'] = 'display_data';\n",
       "          await google.colab.output.renderOutput(dataTable, element);\n",
       "          const docLink = document.createElement('div');\n",
       "          docLink.innerHTML = docLinkHtml;\n",
       "          element.appendChild(docLink);\n",
       "        }\n",
       "      </script>\n",
       "    </div>\n",
       "  </div>\n",
       "  "
      ],
      "text/plain": [
       "   Unnamed: 0   MPG  Cylinders  Displacement  Horsepower  Weight  \\\n",
       "0           0  18.0          8         307.0       130.0    3504   \n",
       "1           1  15.0          8         350.0       165.0    3693   \n",
       "2           2  18.0          8         318.0       150.0    3436   \n",
       "\n",
       "   Acceleration  Model Year  Origin  \n",
       "0          12.0          70       1  \n",
       "1          11.5          70       1  \n",
       "2          11.0          70       1  "
      ]
     },
     "execution_count": 34,
     "metadata": {},
     "output_type": "execute_result"
    }
   ],
   "source": [
    "#データフレームの読み込み\n",
    "df = pd.read_csv(\"auto_mgp.csv\",encoding = \"cp932\")\n",
    "\n",
    "#正解データの列名\n",
    "target = \"MPG\"\n",
    "\n",
    "df.head(3)"
   ]
  },
  {
   "cell_type": "markdown",
   "metadata": {
    "id": "IDnrW9h3XgXR"
   },
   "source": [
    "###ダミー変数化"
   ]
  },
  {
   "cell_type": "code",
   "execution_count": 35,
   "metadata": {
    "colab": {
     "base_uri": "https://localhost:8080/",
     "height": 161
    },
    "id": "zP3Un9RUk0DQ",
    "outputId": "e2f0e759-3a54-42ff-de9f-85ac2dba04ca"
   },
   "outputs": [
    {
     "name": "stdout",
     "output_type": "stream",
     "text": [
      "ダミー変数化対象なし\n"
     ]
    },
    {
     "data": {
      "text/html": [
       "\n",
       "  <div id=\"df-0f947059-35e7-4a28-b80b-95da6c9f3d40\">\n",
       "    <div class=\"colab-df-container\">\n",
       "      <div>\n",
       "<style scoped>\n",
       "    .dataframe tbody tr th:only-of-type {\n",
       "        vertical-align: middle;\n",
       "    }\n",
       "\n",
       "    .dataframe tbody tr th {\n",
       "        vertical-align: top;\n",
       "    }\n",
       "\n",
       "    .dataframe thead th {\n",
       "        text-align: right;\n",
       "    }\n",
       "</style>\n",
       "<table border=\"1\" class=\"dataframe\">\n",
       "  <thead>\n",
       "    <tr style=\"text-align: right;\">\n",
       "      <th></th>\n",
       "      <th>Unnamed: 0</th>\n",
       "      <th>MPG</th>\n",
       "      <th>Cylinders</th>\n",
       "      <th>Displacement</th>\n",
       "      <th>Horsepower</th>\n",
       "      <th>Weight</th>\n",
       "      <th>Acceleration</th>\n",
       "      <th>Model Year</th>\n",
       "      <th>Origin</th>\n",
       "    </tr>\n",
       "  </thead>\n",
       "  <tbody>\n",
       "    <tr>\n",
       "      <th>0</th>\n",
       "      <td>0</td>\n",
       "      <td>18.0</td>\n",
       "      <td>8</td>\n",
       "      <td>307.0</td>\n",
       "      <td>130.0</td>\n",
       "      <td>3504</td>\n",
       "      <td>12.0</td>\n",
       "      <td>70</td>\n",
       "      <td>1</td>\n",
       "    </tr>\n",
       "    <tr>\n",
       "      <th>1</th>\n",
       "      <td>1</td>\n",
       "      <td>15.0</td>\n",
       "      <td>8</td>\n",
       "      <td>350.0</td>\n",
       "      <td>165.0</td>\n",
       "      <td>3693</td>\n",
       "      <td>11.5</td>\n",
       "      <td>70</td>\n",
       "      <td>1</td>\n",
       "    </tr>\n",
       "    <tr>\n",
       "      <th>2</th>\n",
       "      <td>2</td>\n",
       "      <td>18.0</td>\n",
       "      <td>8</td>\n",
       "      <td>318.0</td>\n",
       "      <td>150.0</td>\n",
       "      <td>3436</td>\n",
       "      <td>11.0</td>\n",
       "      <td>70</td>\n",
       "      <td>1</td>\n",
       "    </tr>\n",
       "  </tbody>\n",
       "</table>\n",
       "</div>\n",
       "      <button class=\"colab-df-convert\" onclick=\"convertToInteractive('df-0f947059-35e7-4a28-b80b-95da6c9f3d40')\"\n",
       "              title=\"Convert this dataframe to an interactive table.\"\n",
       "              style=\"display:none;\">\n",
       "        \n",
       "  <svg xmlns=\"http://www.w3.org/2000/svg\" height=\"24px\"viewBox=\"0 0 24 24\"\n",
       "       width=\"24px\">\n",
       "    <path d=\"M0 0h24v24H0V0z\" fill=\"none\"/>\n",
       "    <path d=\"M18.56 5.44l.94 2.06.94-2.06 2.06-.94-2.06-.94-.94-2.06-.94 2.06-2.06.94zm-11 1L8.5 8.5l.94-2.06 2.06-.94-2.06-.94L8.5 2.5l-.94 2.06-2.06.94zm10 10l.94 2.06.94-2.06 2.06-.94-2.06-.94-.94-2.06-.94 2.06-2.06.94z\"/><path d=\"M17.41 7.96l-1.37-1.37c-.4-.4-.92-.59-1.43-.59-.52 0-1.04.2-1.43.59L10.3 9.45l-7.72 7.72c-.78.78-.78 2.05 0 2.83L4 21.41c.39.39.9.59 1.41.59.51 0 1.02-.2 1.41-.59l7.78-7.78 2.81-2.81c.8-.78.8-2.07 0-2.86zM5.41 20L4 18.59l7.72-7.72 1.47 1.35L5.41 20z\"/>\n",
       "  </svg>\n",
       "      </button>\n",
       "      \n",
       "  <style>\n",
       "    .colab-df-container {\n",
       "      display:flex;\n",
       "      flex-wrap:wrap;\n",
       "      gap: 12px;\n",
       "    }\n",
       "\n",
       "    .colab-df-convert {\n",
       "      background-color: #E8F0FE;\n",
       "      border: none;\n",
       "      border-radius: 50%;\n",
       "      cursor: pointer;\n",
       "      display: none;\n",
       "      fill: #1967D2;\n",
       "      height: 32px;\n",
       "      padding: 0 0 0 0;\n",
       "      width: 32px;\n",
       "    }\n",
       "\n",
       "    .colab-df-convert:hover {\n",
       "      background-color: #E2EBFA;\n",
       "      box-shadow: 0px 1px 2px rgba(60, 64, 67, 0.3), 0px 1px 3px 1px rgba(60, 64, 67, 0.15);\n",
       "      fill: #174EA6;\n",
       "    }\n",
       "\n",
       "    [theme=dark] .colab-df-convert {\n",
       "      background-color: #3B4455;\n",
       "      fill: #D2E3FC;\n",
       "    }\n",
       "\n",
       "    [theme=dark] .colab-df-convert:hover {\n",
       "      background-color: #434B5C;\n",
       "      box-shadow: 0px 1px 3px 1px rgba(0, 0, 0, 0.15);\n",
       "      filter: drop-shadow(0px 1px 2px rgba(0, 0, 0, 0.3));\n",
       "      fill: #FFFFFF;\n",
       "    }\n",
       "  </style>\n",
       "\n",
       "      <script>\n",
       "        const buttonEl =\n",
       "          document.querySelector('#df-0f947059-35e7-4a28-b80b-95da6c9f3d40 button.colab-df-convert');\n",
       "        buttonEl.style.display =\n",
       "          google.colab.kernel.accessAllowed ? 'block' : 'none';\n",
       "\n",
       "        async function convertToInteractive(key) {\n",
       "          const element = document.querySelector('#df-0f947059-35e7-4a28-b80b-95da6c9f3d40');\n",
       "          const dataTable =\n",
       "            await google.colab.kernel.invokeFunction('convertToInteractive',\n",
       "                                                     [key], {});\n",
       "          if (!dataTable) return;\n",
       "\n",
       "          const docLinkHtml = 'Like what you see? Visit the ' +\n",
       "            '<a target=\"_blank\" href=https://colab.research.google.com/notebooks/data_table.ipynb>data table notebook</a>'\n",
       "            + ' to learn more about interactive tables.';\n",
       "          element.innerHTML = '';\n",
       "          dataTable['output_type'] = 'display_data';\n",
       "          await google.colab.output.renderOutput(dataTable, element);\n",
       "          const docLink = document.createElement('div');\n",
       "          docLink.innerHTML = docLinkHtml;\n",
       "          element.appendChild(docLink);\n",
       "        }\n",
       "      </script>\n",
       "    </div>\n",
       "  </div>\n",
       "  "
      ],
      "text/plain": [
       "   Unnamed: 0   MPG  Cylinders  Displacement  Horsepower  Weight  \\\n",
       "0           0  18.0          8         307.0       130.0    3504   \n",
       "1           1  15.0          8         350.0       165.0    3693   \n",
       "2           2  18.0          8         318.0       150.0    3436   \n",
       "\n",
       "   Acceleration  Model Year  Origin  \n",
       "0          12.0          70       1  \n",
       "1          11.5          70       1  \n",
       "2          11.0          70       1  "
      ]
     },
     "execution_count": 35,
     "metadata": {},
     "output_type": "execute_result"
    }
   ],
   "source": [
    "#質的データ列の抽出\n",
    "dum_col = df.select_dtypes(\"object\").columns\n",
    "if len(dum_col) > 0:\n",
    "    df2 = pd.get_dummies(df[dum_col],drop_first=False)\n",
    "    df2 = pd.concat([df,df2],axis=1)\n",
    "    df2 = df2.drop(columns=dum_col)\n",
    "else:\n",
    "    #質的データがない場合変数名のみ変更\n",
    "    print(\"ダミー変数化対象なし\")\n",
    "    df2 = df\n",
    "    \n",
    "df2.head(3)"
   ]
  },
  {
   "cell_type": "markdown",
   "metadata": {
    "id": "NWR7scjWXgXR"
   },
   "source": [
    "###欠損値処理"
   ]
  },
  {
   "cell_type": "code",
   "execution_count": 36,
   "metadata": {
    "colab": {
     "base_uri": "https://localhost:8080/",
     "height": 1000
    },
    "id": "OXuVkZgYk0DQ",
    "outputId": "bd2a3ca4-675f-41d5-c2b0-fd85ef6481ce"
   },
   "outputs": [
    {
     "name": "stdout",
     "output_type": "stream",
     "text": [
      "Unnamed: 0      0\n",
      "MPG             0\n",
      "Cylinders       0\n",
      "Displacement    0\n",
      "Horsepower      6\n",
      "Weight          0\n",
      "Acceleration    0\n",
      "Model Year      0\n",
      "Origin          0\n",
      "dtype: int64\n"
     ]
    },
    {
     "data": {
      "image/png": "[encoded data removed]",
      "text/plain": [
       "<Figure size 432x288 with 1 Axes>"
      ]
     },
     "metadata": {
      "needs_background": "light"
     },
     "output_type": "display_data"
    },
    {
     "data": {
      "image/png": "[encoded data removed]",
      "text/plain": [
       "<Figure size 432x288 with 1 Axes>"
      ]
     },
     "metadata": {
      "needs_background": "light"
     },
     "output_type": "display_data"
    },
    {
     "data": {
      "image/png": "[encoded data removed]",
      "text/plain": [
       "<Figure size 432x288 with 1 Axes>"
      ]
     },
     "metadata": {
      "needs_background": "light"
     },
     "output_type": "display_data"
    },
    {
     "data": {
      "image/png": "[encoded data removed]",
      "text/plain": [
       "<Figure size 432x288 with 1 Axes>"
      ]
     },
     "metadata": {
      "needs_background": "light"
     },
     "output_type": "display_data"
    },
    {
     "data": {
      "image/png": "[encoded data removed]",
      "text/plain": [
       "<Figure size 432x288 with 1 Axes>"
      ]
     },
     "metadata": {
      "needs_background": "light"
     },
     "output_type": "display_data"
    },
    {
     "data": {
      "image/png": "[encoded data removed]",
      "text/plain": [
       "<Figure size 432x288 with 1 Axes>"
      ]
     },
     "metadata": {
      "needs_background": "light"
     },
     "output_type": "display_data"
    },
    {
     "data": {
      "image/png": "[encoded data removed]",
      "text/plain": [
       "<Figure size 432x288 with 1 Axes>"
      ]
     },
     "metadata": {
      "needs_background": "light"
     },
     "output_type": "display_data"
    },
    {
     "data": {
      "image/png": "[encoded data removed]",
      "text/plain": [
       "<Figure size 432x288 with 1 Axes>"
      ]
     },
     "metadata": {
      "needs_background": "light"
     },
     "output_type": "display_data"
    },
    {
     "name": "stdout",
     "output_type": "stream",
     "text": [
      "0%  20%  40%  60%  80%  100%\n",
      "|▮▮▮▮▮▮|▮▮▮▮▮▮|▮▮▮▮▮▮|▮▮▮▮▮▮|\n",
      "選択モデル:ElasticNet(alpha=0.002)\n",
      "訓練データ決定係数:0.935\t検証データ決定係数:0.949\n",
      "特徴量次数:2\n"
     ]
    },
    {
     "data": {
      "text/html": [
       "\n",
       "  <div id=\"df-b358b28b-60cf-4847-ac1d-4e58da60cc60\">\n",
       "    <div class=\"colab-df-container\">\n",
       "      <div>\n",
       "<style scoped>\n",
       "    .dataframe tbody tr th:only-of-type {\n",
       "        vertical-align: middle;\n",
       "    }\n",
       "\n",
       "    .dataframe tbody tr th {\n",
       "        vertical-align: top;\n",
       "    }\n",
       "\n",
       "    .dataframe thead th {\n",
       "        text-align: right;\n",
       "    }\n",
       "</style>\n",
       "<table border=\"1\" class=\"dataframe\">\n",
       "  <thead>\n",
       "    <tr style=\"text-align: right;\">\n",
       "      <th></th>\n",
       "      <th>Unnamed: 0</th>\n",
       "      <th>MPG</th>\n",
       "      <th>Cylinders</th>\n",
       "      <th>Displacement</th>\n",
       "      <th>Horsepower</th>\n",
       "      <th>Weight</th>\n",
       "      <th>Acceleration</th>\n",
       "      <th>Model Year</th>\n",
       "      <th>Origin</th>\n",
       "    </tr>\n",
       "  </thead>\n",
       "  <tbody>\n",
       "    <tr>\n",
       "      <th>0</th>\n",
       "      <td>0</td>\n",
       "      <td>18.0</td>\n",
       "      <td>8</td>\n",
       "      <td>307.0</td>\n",
       "      <td>130.0</td>\n",
       "      <td>3504</td>\n",
       "      <td>12.0</td>\n",
       "      <td>70</td>\n",
       "      <td>1</td>\n",
       "    </tr>\n",
       "    <tr>\n",
       "      <th>1</th>\n",
       "      <td>1</td>\n",
       "      <td>15.0</td>\n",
       "      <td>8</td>\n",
       "      <td>350.0</td>\n",
       "      <td>165.0</td>\n",
       "      <td>3693</td>\n",
       "      <td>11.5</td>\n",
       "      <td>70</td>\n",
       "      <td>1</td>\n",
       "    </tr>\n",
       "    <tr>\n",
       "      <th>2</th>\n",
       "      <td>2</td>\n",
       "      <td>18.0</td>\n",
       "      <td>8</td>\n",
       "      <td>318.0</td>\n",
       "      <td>150.0</td>\n",
       "      <td>3436</td>\n",
       "      <td>11.0</td>\n",
       "      <td>70</td>\n",
       "      <td>1</td>\n",
       "    </tr>\n",
       "  </tbody>\n",
       "</table>\n",
       "</div>\n",
       "      <button class=\"colab-df-convert\" onclick=\"convertToInteractive('df-b358b28b-60cf-4847-ac1d-4e58da60cc60')\"\n",
       "              title=\"Convert this dataframe to an interactive table.\"\n",
       "              style=\"display:none;\">\n",
       "        \n",
       "  <svg xmlns=\"http://www.w3.org/2000/svg\" height=\"24px\"viewBox=\"0 0 24 24\"\n",
       "       width=\"24px\">\n",
       "    <path d=\"M0 0h24v24H0V0z\" fill=\"none\"/>\n",
       "    <path d=\"M18.56 5.44l.94 2.06.94-2.06 2.06-.94-2.06-.94-.94-2.06-.94 2.06-2.06.94zm-11 1L8.5 8.5l.94-2.06 2.06-.94-2.06-.94L8.5 2.5l-.94 2.06-2.06.94zm10 10l.94 2.06.94-2.06 2.06-.94-2.06-.94-.94-2.06-.94 2.06-2.06.94z\"/><path d=\"M17.41 7.96l-1.37-1.37c-.4-.4-.92-.59-1.43-.59-.52 0-1.04.2-1.43.59L10.3 9.45l-7.72 7.72c-.78.78-.78 2.05 0 2.83L4 21.41c.39.39.9.59 1.41.59.51 0 1.02-.2 1.41-.59l7.78-7.78 2.81-2.81c.8-.78.8-2.07 0-2.86zM5.41 20L4 18.59l7.72-7.72 1.47 1.35L5.41 20z\"/>\n",
       "  </svg>\n",
       "      </button>\n",
       "      \n",
       "  <style>\n",
       "    .colab-df-container {\n",
       "      display:flex;\n",
       "      flex-wrap:wrap;\n",
       "      gap: 12px;\n",
       "    }\n",
       "\n",
       "    .colab-df-convert {\n",
       "      background-color: #E8F0FE;\n",
       "      border: none;\n",
       "      border-radius: 50%;\n",
       "      cursor: pointer;\n",
       "      display: none;\n",
       "      fill: #1967D2;\n",
       "      height: 32px;\n",
       "      padding: 0 0 0 0;\n",
       "      width: 32px;\n",
       "    }\n",
       "\n",
       "    .colab-df-convert:hover {\n",
       "      background-color: #E2EBFA;\n",
       "      box-shadow: 0px 1px 2px rgba(60, 64, 67, 0.3), 0px 1px 3px 1px rgba(60, 64, 67, 0.15);\n",
       "      fill: #174EA6;\n",
       "    }\n",
       "\n",
       "    [theme=dark] .colab-df-convert {\n",
       "      background-color: #3B4455;\n",
       "      fill: #D2E3FC;\n",
       "    }\n",
       "\n",
       "    [theme=dark] .colab-df-convert:hover {\n",
       "      background-color: #434B5C;\n",
       "      box-shadow: 0px 1px 3px 1px rgba(0, 0, 0, 0.15);\n",
       "      filter: drop-shadow(0px 1px 2px rgba(0, 0, 0, 0.3));\n",
       "      fill: #FFFFFF;\n",
       "    }\n",
       "  </style>\n",
       "\n",
       "      <script>\n",
       "        const buttonEl =\n",
       "          document.querySelector('#df-b358b28b-60cf-4847-ac1d-4e58da60cc60 button.colab-df-convert');\n",
       "        buttonEl.style.display =\n",
       "          google.colab.kernel.accessAllowed ? 'block' : 'none';\n",
       "\n",
       "        async function convertToInteractive(key) {\n",
       "          const element = document.querySelector('#df-b358b28b-60cf-4847-ac1d-4e58da60cc60');\n",
       "          const dataTable =\n",
       "            await google.colab.kernel.invokeFunction('convertToInteractive',\n",
       "                                                     [key], {});\n",
       "          if (!dataTable) return;\n",
       "\n",
       "          const docLinkHtml = 'Like what you see? Visit the ' +\n",
       "            '<a target=\"_blank\" href=https://colab.research.google.com/notebooks/data_table.ipynb>data table notebook</a>'\n",
       "            + ' to learn more about interactive tables.';\n",
       "          element.innerHTML = '';\n",
       "          dataTable['output_type'] = 'display_data';\n",
       "          await google.colab.output.renderOutput(dataTable, element);\n",
       "          const docLink = document.createElement('div');\n",
       "          docLink.innerHTML = docLinkHtml;\n",
       "          element.appendChild(docLink);\n",
       "        }\n",
       "      </script>\n",
       "    </div>\n",
       "  </div>\n",
       "  "
      ],
      "text/plain": [
       "   Unnamed: 0   MPG  Cylinders  Displacement  Horsepower  Weight  \\\n",
       "0           0  18.0          8         307.0       130.0    3504   \n",
       "1           1  15.0          8         350.0       165.0    3693   \n",
       "2           2  18.0          8         318.0       150.0    3436   \n",
       "\n",
       "   Acceleration  Model Year  Origin  \n",
       "0          12.0          70       1  \n",
       "1          11.5          70       1  \n",
       "2          11.0          70       1  "
      ]
     },
     "execution_count": 36,
     "metadata": {},
     "output_type": "execute_result"
    }
   ],
   "source": [
    "df3 = df2\n",
    "\n",
    "non = df3.isnull().sum()\n",
    "print(non)\n",
    "\n",
    "non_f = False\n",
    "\n",
    "for i in range(len(non)):\n",
    "    if non[i] > 0:\n",
    "        non_f = True\n",
    "\n",
    "if non_f:\n",
    "    #欠損値のある列の検索\n",
    "    non_col = df3.loc[:,df3.isnull().any()].columns\n",
    "\n",
    "    #欠損値処理のための欠損値行の削除\n",
    "    non_df = df3.dropna()\n",
    "\n",
    "    #欠損値処理のための外れ値の除外\n",
    "    non_df = outliers(non_df)\n",
    "\n",
    "    #欠損値のある列分繰り返し\n",
    "    for name in non_col:\n",
    "        #欠損値処理のための最適処理\n",
    "        model,specify_degree,sc_x_model,sc_y_model,col = optimal(non_df,name)\n",
    "        \n",
    "        #欠損値処理のための特徴量、正解データ準備\n",
    "        non_data = df3.loc[df3[name].isnull()]\n",
    "        non_x_col = non_data.drop(name,axis = 1).columns\n",
    "        x = non_data[non_x_col]\n",
    "        t = non_data[[name]]\n",
    "        non_x,non_t = feature(x,t,name,specify_degree,col)\n",
    "\n",
    "        #穴埋値の予測\n",
    "        sc_non_x = sc_x_model.transform(non_x)\n",
    "        sc_pred = model.predict(sc_non_x)\n",
    "        pred = sc_y_model.inverse_transform([sc_pred])\n",
    "        t_pred = []\n",
    "        for val in pred[0]:\n",
    "            t_pred.append(val)\n",
    "\n",
    "        #欠損値の補完\n",
    "        df3.loc[df3[name].isnull(),name] = t_pred\n",
    "\n",
    "else:\n",
    "    #欠損値がない場合変数名のみ変更\n",
    "    print(\"欠損値処理対象なし\")\n",
    "\n",
    "df3.head(3)"
   ]
  },
  {
   "cell_type": "markdown",
   "metadata": {
    "id": "kX41W03mXgXS"
   },
   "source": [
    "###訓練・検証データとテストデータに分割"
   ]
  },
  {
   "cell_type": "code",
   "execution_count": 37,
   "metadata": {
    "id": "5eIhqx2Sk0DR"
   },
   "outputs": [],
   "source": [
    "train_val,test = train_test_split(df3,test_size=0.2,random_state=0)"
   ]
  },
  {
   "cell_type": "markdown",
   "metadata": {
    "id": "jS9TSyIMXgXS"
   },
   "source": [
    "###外れ値の除外"
   ]
  },
  {
   "cell_type": "code",
   "execution_count": 38,
   "metadata": {
    "colab": {
     "base_uri": "https://localhost:8080/",
     "height": 1000
    },
    "id": "GVGTjoXEk0DR",
    "outputId": "c1cd8a1d-8c07-4722-f613-23b6fcc62cc2"
   },
   "outputs": [
    {
     "data": {
      "image/png": "[encoded data removed]",
      "text/plain": [
       "<Figure size 432x288 with 1 Axes>"
      ]
     },
     "metadata": {
      "needs_background": "light"
     },
     "output_type": "display_data"
    },
    {
     "data": {
      "image/png": "[encoded data removed]",
      "text/plain": [
       "<Figure size 432x288 with 1 Axes>"
      ]
     },
     "metadata": {
      "needs_background": "light"
     },
     "output_type": "display_data"
    },
    {
     "data": {
      "image/png": "[encoded data removed]",
      "text/plain": [
       "<Figure size 432x288 with 1 Axes>"
      ]
     },
     "metadata": {
      "needs_background": "light"
     },
     "output_type": "display_data"
    },
    {
     "data": {
      "image/png": "[encoded data removed]",
      "text/plain": [
       "<Figure size 432x288 with 1 Axes>"
      ]
     },
     "metadata": {
      "needs_background": "light"
     },
     "output_type": "display_data"
    },
    {
     "data": {
      "image/png": "[encoded data removed]",
      "text/plain": [
       "<Figure size 432x288 with 1 Axes>"
      ]
     },
     "metadata": {
      "needs_background": "light"
     },
     "output_type": "display_data"
    },
    {
     "data": {
      "image/png": "[encoded data removed]",
      "text/plain": [
       "<Figure size 432x288 with 1 Axes>"
      ]
     },
     "metadata": {
      "needs_background": "light"
     },
     "output_type": "display_data"
    },
    {
     "data": {
      "image/png": "[encoded data removed]",
      "text/plain": [
       "<Figure size 432x288 with 1 Axes>"
      ]
     },
     "metadata": {
      "needs_background": "light"
     },
     "output_type": "display_data"
    },
    {
     "data": {
      "image/png": "[encoded data removed]",
      "text/plain": [
       "<Figure size 432x288 with 1 Axes>"
      ]
     },
     "metadata": {
      "needs_background": "light"
     },
     "output_type": "display_data"
    }
   ],
   "source": [
    "train_val2 = outliers(train_val)"
   ]
  },
  {
   "cell_type": "markdown",
   "metadata": {
    "id": "sy2c37iNXgXS"
   },
   "source": [
    "###学習・評価"
   ]
  },
  {
   "cell_type": "code",
   "execution_count": 39,
   "metadata": {
    "colab": {
     "base_uri": "https://localhost:8080/"
    },
    "id": "0c1SCP-Hk0DR",
    "outputId": "f27692cd-2569-416b-b085-0121f480d894"
   },
   "outputs": [
    {
     "name": "stdout",
     "output_type": "stream",
     "text": [
      "0%  20%  40%  60%  80%  100%\n",
      "|▮▮▮▮▮▮|▮▮▮▮▮▮|▮▮▮▮▮▮|▮▮▮▮▮▮|\n",
      "選択モデル:BaggingRegressor(base_estimator=DecisionTreeRegressor(), max_samples=0.3,\n",
      "                 n_estimators=22)\n",
      "訓練データ決定係数:0.927\t検証データ決定係数:0.926\n",
      "特徴量次数:1\n",
      "テストデータ決定係数:0.872\n"
     ]
    }
   ],
   "source": [
    "#訓練・検証データの最適処理\n",
    "model,specify_degree,sc_x_model,sc_y_model,col = optimal(train_val2,target)\n",
    "\n",
    "#テストデータの特徴量、正解データ準備\n",
    "x_col = test.drop(target,axis = 1).columns\n",
    "x = test[x_col]\n",
    "t = test[[target]]\n",
    "\n",
    "x_test,t_test = feature(x,t,target,specify_degree,col)\n",
    "\n",
    "#テストデータの標準化\n",
    "sc_x_test = sc_x_model.transform(x_test)\n",
    "sc_y_test = sc_y_model.transform(t_test)\n",
    "\n",
    "#テストデータの決定係数\n",
    "test_score= model.score(sc_x_test,sc_y_test)\n",
    "print(\"テストデータ決定係数:{}\".format(round(test_score,3)))"
   ]
  },
  {
   "cell_type": "markdown",
   "metadata": {
    "id": "7YzSt6TKXgXS"
   },
   "source": [
    "###モデルの保存"
   ]
  },
  {
   "cell_type": "code",
   "execution_count": 40,
   "metadata": {
    "id": "n_NbXRTxXgXS"
   },
   "outputs": [],
   "source": [
    "with open(\"regression.pkl\",\"wb\") as f:\n",
    "    pickle.dump(model,f)\n",
    "\n",
    "with open(\"sc_x_model\",\"wb\") as f:\n",
    "    pickle.dump(sc_x_model,f)\n",
    "\n",
    "with open(\"sc_y_model\",\"wb\") as f:\n",
    "    pickle.dump(sc_y_model,f)"
   ]
  }
 ],
 "metadata": {
  "colab": {
   "collapsed_sections": [],
   "name": "機械学習（回帰）.ipynb",
   "provenance": []
  },
  "kernelspec": {
   "display_name": "Python 3",
   "language": "python",
   "name": "python3"
  },
  "language_info": {
   "codemirror_mode": {
    "name": "ipython",
    "version": 3
   },
   "file_extension": ".py",
   "mimetype": "text/x-python",
   "name": "python",
   "nbconvert_exporter": "python",
   "pygments_lexer": "ipython3",
   "version": "3.8.5"
  }
 },
 "nbformat": 4,
 "nbformat_minor": 1
}
