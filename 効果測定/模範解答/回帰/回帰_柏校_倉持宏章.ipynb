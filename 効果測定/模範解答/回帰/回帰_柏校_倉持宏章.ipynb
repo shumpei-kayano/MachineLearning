{
 "cells": [
  {
   "cell_type": "code",
   "execution_count": null,
   "metadata": {
    "colab": {
     "base_uri": "https://localhost:8080/"
    },
    "id": "a_v8uOAnPzjw",
    "outputId": "b5d5f683-266c-4972-f85c-c8b2cb5ae579"
   },
   "outputs": [
    {
     "name": "stdout",
     "output_type": "stream",
     "text": [
      "/content/data\n"
     ]
    }
   ],
   "source": [
    "cd data"
   ]
  },
  {
   "cell_type": "code",
   "execution_count": null,
   "metadata": {
    "colab": {
     "base_uri": "https://localhost:8080/",
     "height": 206
    },
    "id": "dtPWh4V5QANW",
    "outputId": "09c3f708-4338-4170-aa8f-e092e434493d"
   },
   "outputs": [
    {
     "data": {
      "text/html": [
       "\n",
       "  <div id=\"df-7abfc7ec-ae9a-4644-8cf9-b02c37f0238d\">\n",
       "    <div class=\"colab-df-container\">\n",
       "      <div>\n",
       "<style scoped>\n",
       "    .dataframe tbody tr th:only-of-type {\n",
       "        vertical-align: middle;\n",
       "    }\n",
       "\n",
       "    .dataframe tbody tr th {\n",
       "        vertical-align: top;\n",
       "    }\n",
       "\n",
       "    .dataframe thead th {\n",
       "        text-align: right;\n",
       "    }\n",
       "</style>\n",
       "<table border=\"1\" class=\"dataframe\">\n",
       "  <thead>\n",
       "    <tr style=\"text-align: right;\">\n",
       "      <th></th>\n",
       "      <th>Unnamed: 0</th>\n",
       "      <th>MPG</th>\n",
       "      <th>Cylinders</th>\n",
       "      <th>Displacement</th>\n",
       "      <th>Horsepower</th>\n",
       "      <th>Weight</th>\n",
       "      <th>Acceleration</th>\n",
       "      <th>Model Year</th>\n",
       "      <th>Origin</th>\n",
       "    </tr>\n",
       "  </thead>\n",
       "  <tbody>\n",
       "    <tr>\n",
       "      <th>0</th>\n",
       "      <td>0</td>\n",
       "      <td>18.0</td>\n",
       "      <td>8</td>\n",
       "      <td>307.0</td>\n",
       "      <td>130.0</td>\n",
       "      <td>3504</td>\n",
       "      <td>12.0</td>\n",
       "      <td>70</td>\n",
       "      <td>1</td>\n",
       "    </tr>\n",
       "    <tr>\n",
       "      <th>1</th>\n",
       "      <td>1</td>\n",
       "      <td>15.0</td>\n",
       "      <td>8</td>\n",
       "      <td>350.0</td>\n",
       "      <td>165.0</td>\n",
       "      <td>3693</td>\n",
       "      <td>11.5</td>\n",
       "      <td>70</td>\n",
       "      <td>1</td>\n",
       "    </tr>\n",
       "    <tr>\n",
       "      <th>2</th>\n",
       "      <td>2</td>\n",
       "      <td>18.0</td>\n",
       "      <td>8</td>\n",
       "      <td>318.0</td>\n",
       "      <td>150.0</td>\n",
       "      <td>3436</td>\n",
       "      <td>11.0</td>\n",
       "      <td>70</td>\n",
       "      <td>1</td>\n",
       "    </tr>\n",
       "    <tr>\n",
       "      <th>3</th>\n",
       "      <td>3</td>\n",
       "      <td>16.0</td>\n",
       "      <td>8</td>\n",
       "      <td>304.0</td>\n",
       "      <td>150.0</td>\n",
       "      <td>3433</td>\n",
       "      <td>12.0</td>\n",
       "      <td>70</td>\n",
       "      <td>1</td>\n",
       "    </tr>\n",
       "    <tr>\n",
       "      <th>4</th>\n",
       "      <td>4</td>\n",
       "      <td>17.0</td>\n",
       "      <td>8</td>\n",
       "      <td>302.0</td>\n",
       "      <td>140.0</td>\n",
       "      <td>3449</td>\n",
       "      <td>10.5</td>\n",
       "      <td>70</td>\n",
       "      <td>1</td>\n",
       "    </tr>\n",
       "  </tbody>\n",
       "</table>\n",
       "</div>\n",
       "      <button class=\"colab-df-convert\" onclick=\"convertToInteractive('df-7abfc7ec-ae9a-4644-8cf9-b02c37f0238d')\"\n",
       "              title=\"Convert this dataframe to an interactive table.\"\n",
       "              style=\"display:none;\">\n",
       "        \n",
       "  <svg xmlns=\"http://www.w3.org/2000/svg\" height=\"24px\"viewBox=\"0 0 24 24\"\n",
       "       width=\"24px\">\n",
       "    <path d=\"M0 0h24v24H0V0z\" fill=\"none\"/>\n",
       "    <path d=\"M18.56 5.44l.94 2.06.94-2.06 2.06-.94-2.06-.94-.94-2.06-.94 2.06-2.06.94zm-11 1L8.5 8.5l.94-2.06 2.06-.94-2.06-.94L8.5 2.5l-.94 2.06-2.06.94zm10 10l.94 2.06.94-2.06 2.06-.94-2.06-.94-.94-2.06-.94 2.06-2.06.94z\"/><path d=\"M17.41 7.96l-1.37-1.37c-.4-.4-.92-.59-1.43-.59-.52 0-1.04.2-1.43.59L10.3 9.45l-7.72 7.72c-.78.78-.78 2.05 0 2.83L4 21.41c.39.39.9.59 1.41.59.51 0 1.02-.2 1.41-.59l7.78-7.78 2.81-2.81c.8-.78.8-2.07 0-2.86zM5.41 20L4 18.59l7.72-7.72 1.47 1.35L5.41 20z\"/>\n",
       "  </svg>\n",
       "      </button>\n",
       "      \n",
       "  <style>\n",
       "    .colab-df-container {\n",
       "      display:flex;\n",
       "      flex-wrap:wrap;\n",
       "      gap: 12px;\n",
       "    }\n",
       "\n",
       "    .colab-df-convert {\n",
       "      background-color: #E8F0FE;\n",
       "      border: none;\n",
       "      border-radius: 50%;\n",
       "      cursor: pointer;\n",
       "      display: none;\n",
       "      fill: #1967D2;\n",
       "      height: 32px;\n",
       "      padding: 0 0 0 0;\n",
       "      width: 32px;\n",
       "    }\n",
       "\n",
       "    .colab-df-convert:hover {\n",
       "      background-color: #E2EBFA;\n",
       "      box-shadow: 0px 1px 2px rgba(60, 64, 67, 0.3), 0px 1px 3px 1px rgba(60, 64, 67, 0.15);\n",
       "      fill: #174EA6;\n",
       "    }\n",
       "\n",
       "    [theme=dark] .colab-df-convert {\n",
       "      background-color: #3B4455;\n",
       "      fill: #D2E3FC;\n",
       "    }\n",
       "\n",
       "    [theme=dark] .colab-df-convert:hover {\n",
       "      background-color: #434B5C;\n",
       "      box-shadow: 0px 1px 3px 1px rgba(0, 0, 0, 0.15);\n",
       "      filter: drop-shadow(0px 1px 2px rgba(0, 0, 0, 0.3));\n",
       "      fill: #FFFFFF;\n",
       "    }\n",
       "  </style>\n",
       "\n",
       "      <script>\n",
       "        const buttonEl =\n",
       "          document.querySelector('#df-7abfc7ec-ae9a-4644-8cf9-b02c37f0238d button.colab-df-convert');\n",
       "        buttonEl.style.display =\n",
       "          google.colab.kernel.accessAllowed ? 'block' : 'none';\n",
       "\n",
       "        async function convertToInteractive(key) {\n",
       "          const element = document.querySelector('#df-7abfc7ec-ae9a-4644-8cf9-b02c37f0238d');\n",
       "          const dataTable =\n",
       "            await google.colab.kernel.invokeFunction('convertToInteractive',\n",
       "                                                     [key], {});\n",
       "          if (!dataTable) return;\n",
       "\n",
       "          const docLinkHtml = 'Like what you see? Visit the ' +\n",
       "            '<a target=\"_blank\" href=https://colab.research.google.com/notebooks/data_table.ipynb>data table notebook</a>'\n",
       "            + ' to learn more about interactive tables.';\n",
       "          element.innerHTML = '';\n",
       "          dataTable['output_type'] = 'display_data';\n",
       "          await google.colab.output.renderOutput(dataTable, element);\n",
       "          const docLink = document.createElement('div');\n",
       "          docLink.innerHTML = docLinkHtml;\n",
       "          element.appendChild(docLink);\n",
       "        }\n",
       "      </script>\n",
       "    </div>\n",
       "  </div>\n",
       "  "
      ],
      "text/plain": [
       "   Unnamed: 0   MPG  Cylinders  Displacement  Horsepower  Weight  \\\n",
       "0           0  18.0          8         307.0       130.0    3504   \n",
       "1           1  15.0          8         350.0       165.0    3693   \n",
       "2           2  18.0          8         318.0       150.0    3436   \n",
       "3           3  16.0          8         304.0       150.0    3433   \n",
       "4           4  17.0          8         302.0       140.0    3449   \n",
       "\n",
       "   Acceleration  Model Year  Origin  \n",
       "0          12.0          70       1  \n",
       "1          11.5          70       1  \n",
       "2          11.0          70       1  \n",
       "3          12.0          70       1  \n",
       "4          10.5          70       1  "
      ]
     },
     "execution_count": 3,
     "metadata": {},
     "output_type": "execute_result"
    }
   ],
   "source": [
    "# pandasをインポート\n",
    "import pandas as pd\n",
    "\n",
    "# auto_mgp.csvファイルを読み込んで、データフレームに変換\n",
    "df = pd.read_csv('auto_mgp.csv')\n",
    "# 先頭５行の表示\n",
    "df.head()"
   ]
  },
  {
   "cell_type": "code",
   "execution_count": null,
   "metadata": {
    "colab": {
     "base_uri": "https://localhost:8080/"
    },
    "id": "N3l9UOylQwC8",
    "outputId": "af997578-1708-4015-bc36-0467f8f0065b"
   },
   "outputs": [
    {
     "data": {
      "text/plain": [
       "Unnamed: 0      False\n",
       "MPG             False\n",
       "Cylinders       False\n",
       "Displacement    False\n",
       "Horsepower       True\n",
       "Weight          False\n",
       "Acceleration    False\n",
       "Model Year      False\n",
       "Origin          False\n",
       "dtype: bool"
      ]
     },
     "execution_count": 4,
     "metadata": {},
     "output_type": "execute_result"
    }
   ],
   "source": [
    "# 欠損値の確認\n",
    "df.isnull().any(axis=0)"
   ]
  },
  {
   "cell_type": "code",
   "execution_count": null,
   "metadata": {
    "colab": {
     "base_uri": "https://localhost:8080/"
    },
    "id": "g_6ETSi0Q7us",
    "outputId": "02ab1762-af82-4ed8-b11c-a589d4a4dca9"
   },
   "outputs": [
    {
     "data": {
      "text/plain": [
       "6"
      ]
     },
     "execution_count": 5,
     "metadata": {},
     "output_type": "execute_result"
    }
   ],
   "source": [
    "# 欠損値がいくつあるか集計\n",
    "df['Horsepower'].isnull().sum()"
   ]
  },
  {
   "cell_type": "code",
   "execution_count": null,
   "metadata": {
    "colab": {
     "base_uri": "https://localhost:8080/"
    },
    "id": "m13HCgA-SOZ0",
    "outputId": "c7b7f269-6790-4d65-8921-00029d80daf4"
   },
   "outputs": [
    {
     "data": {
      "text/plain": [
       "False"
      ]
     },
     "execution_count": 6,
     "metadata": {},
     "output_type": "execute_result"
    }
   ],
   "source": [
    "# 欠損値を平均で補完\n",
    "df2 = df.fillna(df.mean())\n",
    "\n",
    "# 穴埋めができたか確認\n",
    "df2['Horsepower'].isnull().any(axis=0)"
   ]
  },
  {
   "cell_type": "code",
   "execution_count": null,
   "metadata": {
    "colab": {
     "base_uri": "https://localhost:8080/",
     "height": 1000
    },
    "id": "9E9EcQrpSy1T",
    "outputId": "1091c97d-5d61-4f9f-969c-defda60a7f0d"
   },
   "outputs": [
    {
     "data": {
      "image/png": "[encoded data removed]",
      "text/plain": [
       "<Figure size 432x288 with 1 Axes>"
      ]
     },
     "metadata": {
      "needs_background": "light"
     },
     "output_type": "display_data"
    },
    {
     "data": {
      "image/png": "[encoded data removed]",
      "text/plain": [
       "<Figure size 432x288 with 1 Axes>"
      ]
     },
     "metadata": {
      "needs_background": "light"
     },
     "output_type": "display_data"
    },
    {
     "data": {
      "image/png": "[encoded data removed]",
      "text/plain": [
       "<Figure size 432x288 with 1 Axes>"
      ]
     },
     "metadata": {
      "needs_background": "light"
     },
     "output_type": "display_data"
    },
    {
     "data": {
      "image/png": "[encoded data removed]",
      "text/plain": [
       "<Figure size 432x288 with 1 Axes>"
      ]
     },
     "metadata": {
      "needs_background": "light"
     },
     "output_type": "display_data"
    },
    {
     "data": {
      "image/png": "[encoded data removed]",
      "text/plain": [
       "<Figure size 432x288 with 1 Axes>"
      ]
     },
     "metadata": {
      "needs_background": "light"
     },
     "output_type": "display_data"
    },
    {
     "data": {
      "image/png": "[encoded data removed]",
      "text/plain": [
       "<Figure size 432x288 with 1 Axes>"
      ]
     },
     "metadata": {
      "needs_background": "light"
     },
     "output_type": "display_data"
    },
    {
     "data": {
      "image/png": "[encoded data removed]",
      "text/plain": [
       "<Figure size 432x288 with 1 Axes>"
      ]
     },
     "metadata": {
      "needs_background": "light"
     },
     "output_type": "display_data"
    },
    {
     "data": {
      "image/png": "[encoded data removed]",
      "text/plain": [
       "<Figure size 432x288 with 1 Axes>"
      ]
     },
     "metadata": {
      "needs_background": "light"
     },
     "output_type": "display_data"
    }
   ],
   "source": [
    "# 散布図で外れ値の確認\n",
    "%matplotlib inline\n",
    "\n",
    "# 特徴量の列と家賃列の相関関係を示す散布図を描く\n",
    "colname = df2.columns\n",
    "for name in colname:\n",
    "  # MPG(燃費)列を除く\n",
    "  if name !=  'MPG':\n",
    "      df2.plot(kind = 'scatter', x = name, y = 'MPG')\n"
   ]
  },
  {
   "cell_type": "code",
   "execution_count": null,
   "metadata": {
    "colab": {
     "base_uri": "https://localhost:8080/"
    },
    "id": "BPYecjqCU4a0",
    "outputId": "0b0e15fd-74fe-4f24-af4c-22bdcb4c9499"
   },
   "outputs": [
    {
     "name": "stdout",
     "output_type": "stream",
     "text": [
      "(398, 7)\n",
      "(398,)\n"
     ]
    }
   ],
   "source": [
    "# 散布図だとあからさまな外れ値が見つからない\n",
    "# スライス構文で特徴量と正解データを取り出す\n",
    "x = df2.loc[:,'Cylinders':]\n",
    "\n",
    "t = df2['MPG']\n",
    "\n",
    "print(x.shape)\n",
    "print(t.shape)"
   ]
  },
  {
   "cell_type": "code",
   "execution_count": null,
   "metadata": {
    "colab": {
     "base_uri": "https://localhost:8080/"
    },
    "id": "YaIaUW69Wgy7",
    "outputId": "954572f8-4464-4b70-f264-b787942aad75"
   },
   "outputs": [
    {
     "name": "stdout",
     "output_type": "stream",
     "text": [
      "(318, 7)\n",
      "(80, 7)\n"
     ]
    }
   ],
   "source": [
    "# 訓練データとテストデータに分割　テストデータを２割\n",
    "from sklearn.model_selection import train_test_split\n",
    "x_train,x_test,y_train,y_test = train_test_split(x,t,test_size=0.2,random_state = 0)\n",
    "print(x_train.shape)\n",
    "print(x_test.shape)"
   ]
  },
  {
   "cell_type": "code",
   "execution_count": null,
   "metadata": {
    "colab": {
     "base_uri": "https://localhost:8080/"
    },
    "id": "MPKoShC7Wpca",
    "outputId": "bdc3b45c-f7d7-4371-fbad-862ba5f9be72"
   },
   "outputs": [
    {
     "data": {
      "text/plain": [
       "0.8188396884147471"
      ]
     },
     "execution_count": 11,
     "metadata": {},
     "output_type": "execute_result"
    }
   ],
   "source": [
    "# 重回帰モデルを作成\n",
    "from sklearn.linear_model import LinearRegression\n",
    "model = LinearRegression()\n",
    "\n",
    "# 訓練データで学習\n",
    "model.fit(x_train,y_train)\n",
    "\n",
    "# 正解率を確認　81.88%\n",
    "model.score(x_test,y_test)"
   ]
  },
  {
   "cell_type": "code",
   "execution_count": null,
   "metadata": {
    "colab": {
     "base_uri": "https://localhost:8080/"
    },
    "id": "CAiunv3vi_yR",
    "outputId": "dd4ab2c5-7989-4e99-85c8-afc8f897c972"
   },
   "outputs": [
    {
     "data": {
      "text/plain": [
       "0.8197870231083595"
      ]
     },
     "execution_count": 13,
     "metadata": {},
     "output_type": "execute_result"
    }
   ],
   "source": [
    "# リッジ回帰を試す 正解率81.97% 重回帰モデルとあまり変わらず\n",
    "from sklearn.linear_model import Ridge\n",
    "ridgeModel = Ridge(alpha = 10)\n",
    "ridgeModel.fit(x_train,y_train)\n",
    "ridgeModel.score(x_test,y_test)"
   ]
  },
  {
   "cell_type": "code",
   "execution_count": null,
   "metadata": {
    "colab": {
     "base_uri": "https://localhost:8080/"
    },
    "id": "3FEWnFQHoU8E",
    "outputId": "372b9662-ee83-4323-d99c-a7576cc275b5"
   },
   "outputs": [
    {
     "data": {
      "text/plain": [
       "0.8210121971894562"
      ]
     },
     "execution_count": 14,
     "metadata": {},
     "output_type": "execute_result"
    }
   ],
   "source": [
    "# ラッソ回帰を試す　正解率82.1%\n",
    "from sklearn.linear_model import Lasso\n",
    "\n",
    "lassoModel = Lasso(alpha=0.1)\n",
    "lassoModel.fit(x_train,y_train)\n",
    "lassoModel.score(x_test,y_test)"
   ]
  },
  {
   "cell_type": "code",
   "execution_count": null,
   "metadata": {
    "colab": {
     "base_uri": "https://localhost:8080/"
    },
    "id": "L_vG8bSzpXpA",
    "outputId": "4d83b061-ba3a-4b7d-c65e-1f734df786c5"
   },
   "outputs": [
    {
     "name": "stdout",
     "output_type": "stream",
     "text": [
      "深さ 3 の正解率 0.7974029032290296\n",
      "深さ 4 の正解率 0.8404125884867986\n",
      "深さ 5 の正解率 0.8579321238549911\n",
      "深さ 6 の正解率 0.8719250750296256\n",
      "深さ 7 の正解率 0.8698807009756317\n",
      "深さ 8 の正解率 0.8759663144795707\n",
      "深さ 9 の正解率 0.8616594491966614\n",
      "深さ 10 の正解率 0.869481539688878\n",
      "深さ 11 の正解率 0.8662276799540198\n",
      "深さ 12 の正解率 0.8698905170596798\n",
      "深さ 13 の正解率 0.8630596522468823\n",
      "深さ 14 の正解率 0.8630596522468823\n",
      "深さ 15 の正解率 0.8630596522468823\n",
      "深さ 16 の正解率 0.8630596522468823\n",
      "深さ 17 の正解率 0.8630596522468823\n",
      "深さ 18 の正解率 0.8630596522468823\n",
      "深さ 19 の正解率 0.8630596522468823\n",
      "深さ 20 の正解率 0.8630596522468823\n"
     ]
    }
   ],
   "source": [
    "# 回帰木を試す 深さ８が87.59%で正解率が一番良い\n",
    "from sklearn.tree import DecisionTreeRegressor\n",
    "\n",
    "for i in range(3,21):\n",
    "  treeModel = DecisionTreeRegressor(max_depth=i,random_state=0)\n",
    "  treeModel.fit(x_train,y_train)\n",
    "  print(\"深さ\",i,\"の正解率\",treeModel.score(x_test,y_test))"
   ]
  },
  {
   "cell_type": "code",
   "execution_count": null,
   "metadata": {
    "colab": {
     "base_uri": "https://localhost:8080/"
    },
    "id": "0qLu47Xeqc1l",
    "outputId": "46a91ab4-8a16-48bf-bf9d-dc2733746e4d"
   },
   "outputs": [
    {
     "data": {
      "text/plain": [
       "Cylinders       0.567107\n",
       "Displacement    0.030473\n",
       "Horsepower      0.130573\n",
       "Weight          0.119109\n",
       "Acceleration    0.033352\n",
       "Model Year      0.111091\n",
       "Origin          0.008295\n",
       "dtype: float64"
      ]
     },
     "execution_count": 16,
     "metadata": {},
     "output_type": "execute_result"
    }
   ],
   "source": [
    "# 特徴量の重要度を確認 シリンダーの数が一番重要、次いで馬力、重量、発表年\n",
    "# 散布図だとシリンダーは相関関係がないが…\n",
    "pd.Series(treeModel.feature_importances_, index = x.columns)"
   ]
  },
  {
   "cell_type": "code",
   "execution_count": null,
   "metadata": {
    "colab": {
     "base_uri": "https://localhost:8080/"
    },
    "id": "2xwPImxfrFjn",
    "outputId": "60e4b5cb-6cd8-49be-8220-a1d493b218ae"
   },
   "outputs": [
    {
     "data": {
      "text/plain": [
       "LinearRegression()"
      ]
     },
     "execution_count": 24,
     "metadata": {},
     "output_type": "execute_result"
    }
   ],
   "source": [
    "# 欠損データの本来の値を予測してみる\n",
    "# Horsepower列に6つの欠損値がある\n",
    "horse_df = pd.read_csv('auto_mgp.csv')\n",
    "# 欠損値を含む行を削除\n",
    "non_df = horse_df.dropna()\n",
    "\n",
    "x1 = non_df[['MPG','Cylinders','Displacement','Weight','Acceleration','Model Year','Origin']]\n",
    "t1 = non_df['Horsepower']\n",
    "model2 = LinearRegression() \n",
    "model2.fit(x,t)"
   ]
  },
  {
   "cell_type": "code",
   "execution_count": null,
   "metadata": {
    "colab": {
     "base_uri": "https://localhost:8080/",
     "height": 237
    },
    "id": "rBdMVm0ECMlX",
    "outputId": "0b629c25-a41a-4a4a-ef35-1a9728355d0f"
   },
   "outputs": [
    {
     "data": {
      "text/html": [
       "\n",
       "  <div id=\"df-4be4d6c1-569d-4838-847d-340924a4bcd8\">\n",
       "    <div class=\"colab-df-container\">\n",
       "      <div>\n",
       "<style scoped>\n",
       "    .dataframe tbody tr th:only-of-type {\n",
       "        vertical-align: middle;\n",
       "    }\n",
       "\n",
       "    .dataframe tbody tr th {\n",
       "        vertical-align: top;\n",
       "    }\n",
       "\n",
       "    .dataframe thead th {\n",
       "        text-align: right;\n",
       "    }\n",
       "</style>\n",
       "<table border=\"1\" class=\"dataframe\">\n",
       "  <thead>\n",
       "    <tr style=\"text-align: right;\">\n",
       "      <th></th>\n",
       "      <th>Unnamed: 0</th>\n",
       "      <th>MPG</th>\n",
       "      <th>Cylinders</th>\n",
       "      <th>Displacement</th>\n",
       "      <th>Horsepower</th>\n",
       "      <th>Weight</th>\n",
       "      <th>Acceleration</th>\n",
       "      <th>Model Year</th>\n",
       "      <th>Origin</th>\n",
       "    </tr>\n",
       "  </thead>\n",
       "  <tbody>\n",
       "    <tr>\n",
       "      <th>32</th>\n",
       "      <td>32</td>\n",
       "      <td>25.0</td>\n",
       "      <td>4</td>\n",
       "      <td>98.0</td>\n",
       "      <td>NaN</td>\n",
       "      <td>2046</td>\n",
       "      <td>19.0</td>\n",
       "      <td>71</td>\n",
       "      <td>1</td>\n",
       "    </tr>\n",
       "    <tr>\n",
       "      <th>126</th>\n",
       "      <td>126</td>\n",
       "      <td>21.0</td>\n",
       "      <td>6</td>\n",
       "      <td>200.0</td>\n",
       "      <td>NaN</td>\n",
       "      <td>2875</td>\n",
       "      <td>17.0</td>\n",
       "      <td>74</td>\n",
       "      <td>1</td>\n",
       "    </tr>\n",
       "    <tr>\n",
       "      <th>330</th>\n",
       "      <td>330</td>\n",
       "      <td>40.9</td>\n",
       "      <td>4</td>\n",
       "      <td>85.0</td>\n",
       "      <td>NaN</td>\n",
       "      <td>1835</td>\n",
       "      <td>17.3</td>\n",
       "      <td>80</td>\n",
       "      <td>2</td>\n",
       "    </tr>\n",
       "    <tr>\n",
       "      <th>336</th>\n",
       "      <td>336</td>\n",
       "      <td>23.6</td>\n",
       "      <td>4</td>\n",
       "      <td>140.0</td>\n",
       "      <td>NaN</td>\n",
       "      <td>2905</td>\n",
       "      <td>14.3</td>\n",
       "      <td>80</td>\n",
       "      <td>1</td>\n",
       "    </tr>\n",
       "    <tr>\n",
       "      <th>354</th>\n",
       "      <td>354</td>\n",
       "      <td>34.5</td>\n",
       "      <td>4</td>\n",
       "      <td>100.0</td>\n",
       "      <td>NaN</td>\n",
       "      <td>2320</td>\n",
       "      <td>15.8</td>\n",
       "      <td>81</td>\n",
       "      <td>2</td>\n",
       "    </tr>\n",
       "    <tr>\n",
       "      <th>374</th>\n",
       "      <td>374</td>\n",
       "      <td>23.0</td>\n",
       "      <td>4</td>\n",
       "      <td>151.0</td>\n",
       "      <td>NaN</td>\n",
       "      <td>3035</td>\n",
       "      <td>20.5</td>\n",
       "      <td>82</td>\n",
       "      <td>1</td>\n",
       "    </tr>\n",
       "  </tbody>\n",
       "</table>\n",
       "</div>\n",
       "      <button class=\"colab-df-convert\" onclick=\"convertToInteractive('df-4be4d6c1-569d-4838-847d-340924a4bcd8')\"\n",
       "              title=\"Convert this dataframe to an interactive table.\"\n",
       "              style=\"display:none;\">\n",
       "        \n",
       "  <svg xmlns=\"http://www.w3.org/2000/svg\" height=\"24px\"viewBox=\"0 0 24 24\"\n",
       "       width=\"24px\">\n",
       "    <path d=\"M0 0h24v24H0V0z\" fill=\"none\"/>\n",
       "    <path d=\"M18.56 5.44l.94 2.06.94-2.06 2.06-.94-2.06-.94-.94-2.06-.94 2.06-2.06.94zm-11 1L8.5 8.5l.94-2.06 2.06-.94-2.06-.94L8.5 2.5l-.94 2.06-2.06.94zm10 10l.94 2.06.94-2.06 2.06-.94-2.06-.94-.94-2.06-.94 2.06-2.06.94z\"/><path d=\"M17.41 7.96l-1.37-1.37c-.4-.4-.92-.59-1.43-.59-.52 0-1.04.2-1.43.59L10.3 9.45l-7.72 7.72c-.78.78-.78 2.05 0 2.83L4 21.41c.39.39.9.59 1.41.59.51 0 1.02-.2 1.41-.59l7.78-7.78 2.81-2.81c.8-.78.8-2.07 0-2.86zM5.41 20L4 18.59l7.72-7.72 1.47 1.35L5.41 20z\"/>\n",
       "  </svg>\n",
       "      </button>\n",
       "      \n",
       "  <style>\n",
       "    .colab-df-container {\n",
       "      display:flex;\n",
       "      flex-wrap:wrap;\n",
       "      gap: 12px;\n",
       "    }\n",
       "\n",
       "    .colab-df-convert {\n",
       "      background-color: #E8F0FE;\n",
       "      border: none;\n",
       "      border-radius: 50%;\n",
       "      cursor: pointer;\n",
       "      display: none;\n",
       "      fill: #1967D2;\n",
       "      height: 32px;\n",
       "      padding: 0 0 0 0;\n",
       "      width: 32px;\n",
       "    }\n",
       "\n",
       "    .colab-df-convert:hover {\n",
       "      background-color: #E2EBFA;\n",
       "      box-shadow: 0px 1px 2px rgba(60, 64, 67, 0.3), 0px 1px 3px 1px rgba(60, 64, 67, 0.15);\n",
       "      fill: #174EA6;\n",
       "    }\n",
       "\n",
       "    [theme=dark] .colab-df-convert {\n",
       "      background-color: #3B4455;\n",
       "      fill: #D2E3FC;\n",
       "    }\n",
       "\n",
       "    [theme=dark] .colab-df-convert:hover {\n",
       "      background-color: #434B5C;\n",
       "      box-shadow: 0px 1px 3px 1px rgba(0, 0, 0, 0.15);\n",
       "      filter: drop-shadow(0px 1px 2px rgba(0, 0, 0, 0.3));\n",
       "      fill: #FFFFFF;\n",
       "    }\n",
       "  </style>\n",
       "\n",
       "      <script>\n",
       "        const buttonEl =\n",
       "          document.querySelector('#df-4be4d6c1-569d-4838-847d-340924a4bcd8 button.colab-df-convert');\n",
       "        buttonEl.style.display =\n",
       "          google.colab.kernel.accessAllowed ? 'block' : 'none';\n",
       "\n",
       "        async function convertToInteractive(key) {\n",
       "          const element = document.querySelector('#df-4be4d6c1-569d-4838-847d-340924a4bcd8');\n",
       "          const dataTable =\n",
       "            await google.colab.kernel.invokeFunction('convertToInteractive',\n",
       "                                                     [key], {});\n",
       "          if (!dataTable) return;\n",
       "\n",
       "          const docLinkHtml = 'Like what you see? Visit the ' +\n",
       "            '<a target=\"_blank\" href=https://colab.research.google.com/notebooks/data_table.ipynb>data table notebook</a>'\n",
       "            + ' to learn more about interactive tables.';\n",
       "          element.innerHTML = '';\n",
       "          dataTable['output_type'] = 'display_data';\n",
       "          await google.colab.output.renderOutput(dataTable, element);\n",
       "          const docLink = document.createElement('div');\n",
       "          docLink.innerHTML = docLinkHtml;\n",
       "          element.appendChild(docLink);\n",
       "        }\n",
       "      </script>\n",
       "    </div>\n",
       "  </div>\n",
       "  "
      ],
      "text/plain": [
       "     Unnamed: 0   MPG  Cylinders  Displacement  Horsepower  Weight  \\\n",
       "32           32  25.0          4          98.0         NaN    2046   \n",
       "126         126  21.0          6         200.0         NaN    2875   \n",
       "330         330  40.9          4          85.0         NaN    1835   \n",
       "336         336  23.6          4         140.0         NaN    2905   \n",
       "354         354  34.5          4         100.0         NaN    2320   \n",
       "374         374  23.0          4         151.0         NaN    3035   \n",
       "\n",
       "     Acceleration  Model Year  Origin  \n",
       "32           19.0          71       1  \n",
       "126          17.0          74       1  \n",
       "330          17.3          80       2  \n",
       "336          14.3          80       1  \n",
       "354          15.8          81       2  \n",
       "374          20.5          82       1  "
      ]
     },
     "execution_count": 25,
     "metadata": {},
     "output_type": "execute_result"
    }
   ],
   "source": [
    "# 欠損行の抜き出しと表示\n",
    "condition = horse_df['Horsepower'].isnull()\n",
    "non_data = horse_df.loc[condition]\n",
    "non_data"
   ]
  },
  {
   "cell_type": "code",
   "execution_count": null,
   "metadata": {
    "colab": {
     "base_uri": "https://localhost:8080/"
    },
    "id": "REF8Ir0iC9tO",
    "outputId": "f9318358-0814-4ccb-84f6-e5a4848d8357"
   },
   "outputs": [
    {
     "name": "stderr",
     "output_type": "stream",
     "text": [
      "/usr/local/lib/python3.7/dist-packages/sklearn/base.py:493: FutureWarning: The feature names should match those that were passed during fit. Starting version 1.2, an error will be raised.\n",
      "Feature names unseen at fit time:\n",
      "- MPG\n",
      "Feature names seen at fit time, yet now missing:\n",
      "- Horsepower\n",
      "\n",
      "  warnings.warn(message, FutureWarning)\n"
     ]
    },
    {
     "data": {
      "text/plain": [
       "array([13.79530086, 10.84006027, 16.76454808, 14.45982945, 16.61487597,\n",
       "       15.86187914])"
      ]
     },
     "execution_count": 27,
     "metadata": {},
     "output_type": "execute_result"
    }
   ],
   "source": [
    "# 欠損行の入力に利用する特徴量を抜き出す\n",
    "x3 = non_data[['MPG','Cylinders','Displacement','Weight','Acceleration','Model Year','Origin']]\n",
    "pred = model2.predict(x3)\n",
    "pred"
   ]
  },
  {
   "cell_type": "code",
   "execution_count": null,
   "metadata": {
    "colab": {
     "base_uri": "https://localhost:8080/"
    },
    "id": "dX38-U4UDulz",
    "outputId": "c77c8973-cab3-437e-bd2e-224d38b6eb3a"
   },
   "outputs": [
    {
     "data": {
      "text/plain": [
       "False"
      ]
     },
     "execution_count": 29,
     "metadata": {},
     "output_type": "execute_result"
    }
   ],
   "source": [
    "# 欠損行のHoresepowerを抜き出してpredで代入\n",
    "horse_df.loc[condition,'Horsepower'] = pred\n",
    "# 穴埋めできたか確認\n",
    "horse_df['Horsepower'].isnull().any(axis=0)"
   ]
  },
  {
   "cell_type": "code",
   "execution_count": null,
   "metadata": {
    "id": "yHc2kxxaEXeX"
   },
   "outputs": [],
   "source": [
    "# 改めて各手法で正解率を確認する\n",
    "# スライス構文で特徴量と正解データを取り出す\n",
    "x = horse_df.loc[:,'Cylinders':]\n",
    "\n",
    "t = horse_df['MPG']"
   ]
  },
  {
   "cell_type": "code",
   "execution_count": null,
   "metadata": {
    "colab": {
     "base_uri": "https://localhost:8080/"
    },
    "id": "gS4ysfaIEwvF",
    "outputId": "e97bb127-955d-405d-d294-0711099f8ad8"
   },
   "outputs": [
    {
     "data": {
      "text/plain": [
       "0.8230022185279607"
      ]
     },
     "execution_count": 31,
     "metadata": {},
     "output_type": "execute_result"
    }
   ],
   "source": [
    "# 訓練データとテストデータに分割　テストデータを２割\n",
    "from sklearn.model_selection import train_test_split\n",
    "x_train,x_test,y_train,y_test = train_test_split(x,t,test_size=0.2,random_state = 0)\n",
    "\n",
    "# 重回帰モデル\n",
    "model = LinearRegression()\n",
    "\n",
    "# 訓練データで学習\n",
    "model.fit(x_train,y_train)\n",
    "\n",
    "# 正解率を確認　81.88%→82.3%\n",
    "model.score(x_test,y_test)"
   ]
  },
  {
   "cell_type": "code",
   "execution_count": null,
   "metadata": {
    "colab": {
     "base_uri": "https://localhost:8080/"
    },
    "id": "ezzApLemFFI_",
    "outputId": "08d75f7d-6cc1-4816-9649-77b5bce191c3"
   },
   "outputs": [
    {
     "data": {
      "text/plain": [
       "0.823715454937912"
      ]
     },
     "execution_count": 32,
     "metadata": {},
     "output_type": "execute_result"
    }
   ],
   "source": [
    "# リッジ回帰を試す 正解率81.97%→82.37%\n",
    "from sklearn.linear_model import Ridge\n",
    "ridgeModel = Ridge(alpha = 10)\n",
    "ridgeModel.fit(x_train,y_train)\n",
    "ridgeModel.score(x_test,y_test)"
   ]
  },
  {
   "cell_type": "code",
   "execution_count": null,
   "metadata": {
    "colab": {
     "base_uri": "https://localhost:8080/"
    },
    "id": "csgukWoUFVzM",
    "outputId": "d2874fe5-a874-4ec7-d57f-b50ba599daae"
   },
   "outputs": [
    {
     "data": {
      "text/plain": [
       "0.8248760708380835"
      ]
     },
     "execution_count": 33,
     "metadata": {},
     "output_type": "execute_result"
    }
   ],
   "source": [
    "# ラッソ回帰を試す　正解率82.1%→82.48%\n",
    "from sklearn.linear_model import Lasso\n",
    "\n",
    "lassoModel = Lasso(alpha=0.1)\n",
    "lassoModel.fit(x_train,y_train)\n",
    "lassoModel.score(x_test,y_test)"
   ]
  },
  {
   "cell_type": "code",
   "execution_count": null,
   "metadata": {
    "colab": {
     "base_uri": "https://localhost:8080/"
    },
    "id": "I7_rOwubFhAi",
    "outputId": "17e6150b-0df0-41de-ea65-79cba9347d17"
   },
   "outputs": [
    {
     "name": "stdout",
     "output_type": "stream",
     "text": [
      "深さ 3 の正解率 0.8220977477991225\n",
      "深さ 4 の正解率 0.8552204071242837\n",
      "深さ 5 の正解率 0.8840453221351532\n",
      "深さ 6 の正解率 0.8878986617237519\n",
      "深さ 7 の正解率 0.8998728617646259\n"
     ]
    }
   ],
   "source": [
    "# 回帰木を試す 深さ7が89.98%で正解率が一番良い\n",
    "from sklearn.tree import DecisionTreeRegressor\n",
    "\n",
    "for i in range(3,8):\n",
    "  treeModel = DecisionTreeRegressor(max_depth=i,random_state=0)\n",
    "  treeModel.fit(x_train,y_train)\n",
    "  print(\"深さ\",i,\"の正解率\",treeModel.score(x_test,y_test))"
   ]
  },
  {
   "cell_type": "code",
   "execution_count": null,
   "metadata": {
    "id": "UY7NDkJlGAKv"
   },
   "outputs": [],
   "source": [
    "# 回帰木で作成したモデルを保存する\n",
    "import pickle\n",
    "with open('auto_mgp.pkl','wb')as f :\n",
    "  pickle.dump(treeModel,f)"
   ]
  },
  {
   "cell_type": "code",
   "execution_count": null,
   "metadata": {
    "id": "yZDvoyrXGjCV"
   },
   "outputs": [],
   "source": [
    "# データ分析の大切さ、難しさ、奥深さを学ばさせていただけました。ありがとうございました。"
   ]
  }
 ],
 "metadata": {
  "colab": {
   "name": "回帰_柏校_倉持宏章.ipynb",
   "provenance": []
  },
  "kernelspec": {
   "display_name": "Python 3",
   "language": "python",
   "name": "python3"
  },
  "language_info": {
   "codemirror_mode": {
    "name": "ipython",
    "version": 3
   },
   "file_extension": ".py",
   "mimetype": "text/x-python",
   "name": "python",
   "nbconvert_exporter": "python",
   "pygments_lexer": "ipython3",
   "version": "3.8.5"
  }
 },
 "nbformat": 4,
 "nbformat_minor": 1
}
