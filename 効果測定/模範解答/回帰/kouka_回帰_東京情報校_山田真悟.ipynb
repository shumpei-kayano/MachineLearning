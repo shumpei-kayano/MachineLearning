{
 "cells": [
  {
   "cell_type": "markdown",
   "metadata": {
    "id": "iaAVtt_43_kr"
   },
   "source": [
    "**車の走行距離を計測してみよう！**"
   ]
  },
  {
   "cell_type": "markdown",
   "metadata": {
    "id": "4L_Zxx604PTl"
   },
   "source": [
    "燃料1ガロン当たり、どのくらい車が走行できるかを予測するAIを作成してみましょう。\n",
    "\n",
    "今回使用するデータ「auto_mgp.csv」は、以下のような内容です。"
   ]
  },
  {
   "cell_type": "markdown",
   "metadata": {
    "id": "Cyol4zdB4cJM"
   },
   "source": [
    "![回帰.png](data:image/png;base64,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)"
   ]
  },
  {
   "cell_type": "code",
   "execution_count": null,
   "metadata": {
    "id": "P8MJHueRBHYJ"
   },
   "outputs": [],
   "source": []
  },
  {
   "cell_type": "markdown",
   "metadata": {
    "id": "HKKJ7lFJ4g5b"
   },
   "source": [
    "正解データ：MPG\n",
    "\n",
    "特徴量データ：Cylinders、Displacement、Horsepower、Weight、Acceleration、Model Year、Origin\n",
    "\n",
    "※A列のデータはただの行番号の為、今回は使用しません\n",
    "\n",
    "※それぞれの列の役割は下記を参照してください。\n",
    "\n",
    "　MPG\t\t燃料1ガロンあたりにつき何マイル走るかの燃費\n",
    "\n",
    "　Cylinders\tエンジンのシリンダー数\n",
    "\n",
    "　Displacement\t排気量\n",
    "\n",
    "　Horsepower\t馬力\n",
    "\n",
    "　Weight\t\t車重\n",
    "\n",
    "　Acceleration\t加速度\n",
    "\n",
    "　Model Year\t発表年\n",
    "\n",
    "　Origin\t\t(origin == 1)はアメ車、(origin == 2)は欧州車、(origin == 3)は日本車\n"
   ]
  },
  {
   "cell_type": "markdown",
   "metadata": {
    "id": "sSx_kAncaBTF"
   },
   "source": [
    "準備作業１．ドライブのマウント"
   ]
  },
  {
   "cell_type": "code",
   "execution_count": 1,
   "metadata": {
    "colab": {
     "base_uri": "https://localhost:8080/"
    },
    "executionInfo": {
     "elapsed": 21512,
     "status": "ok",
     "timestamp": 1646989906128,
     "user": {
      "displayName": "trip bad",
      "photoUrl": "https://lh3.googleusercontent.com/a/default-user=s64",
      "userId": "13313197196674665217"
     },
     "user_tz": -540
    },
    "id": "HozAibykcsWs",
    "outputId": "e3e58f68-4b41-42e3-840d-e9a4282ca942"
   },
   "outputs": [
    {
     "name": "stdout",
     "output_type": "stream",
     "text": [
      "Mounted at /content/drive\n"
     ]
    }
   ],
   "source": [
    "from google.colab import drive\n",
    "drive.mount('/content/drive')"
   ]
  },
  {
   "cell_type": "markdown",
   "metadata": {
    "id": "uVpIm7W-cwv0"
   },
   "source": [
    "準備作業２．ディレクトリの作成"
   ]
  },
  {
   "cell_type": "code",
   "execution_count": 2,
   "metadata": {
    "executionInfo": {
     "elapsed": 431,
     "status": "ok",
     "timestamp": 1646989910327,
     "user": {
      "displayName": "trip bad",
      "photoUrl": "https://lh3.googleusercontent.com/a/default-user=s64",
      "userId": "13313197196674665217"
     },
     "user_tz": -540
    },
    "id": "UA8qtbSRc6pM"
   },
   "outputs": [],
   "source": [
    "mkdir data"
   ]
  },
  {
   "cell_type": "markdown",
   "metadata": {
    "id": "gQgMIDpfc-BE"
   },
   "source": [
    "準備作業３．ディレクトリへの移動"
   ]
  },
  {
   "cell_type": "code",
   "execution_count": 3,
   "metadata": {
    "colab": {
     "base_uri": "https://localhost:8080/"
    },
    "executionInfo": {
     "elapsed": 296,
     "status": "ok",
     "timestamp": 1646989913933,
     "user": {
      "displayName": "trip bad",
      "photoUrl": "https://lh3.googleusercontent.com/a/default-user=s64",
      "userId": "13313197196674665217"
     },
     "user_tz": -540
    },
    "id": "eroPEhitdEjU",
    "outputId": "4b4dad0f-e563-46b7-9139-d755893c8488"
   },
   "outputs": [
    {
     "name": "stdout",
     "output_type": "stream",
     "text": [
      "/content/data\n"
     ]
    }
   ],
   "source": [
    "cd data"
   ]
  },
  {
   "cell_type": "markdown",
   "metadata": {
    "id": "9ueCsrnMeU5U"
   },
   "source": [
    "準備作業４．今回使用するauto_mgp.csvをアップロード\n",
    "※コードなし"
   ]
  },
  {
   "cell_type": "markdown",
   "metadata": {
    "id": "am6RvmMgdLqU"
   },
   "source": [
    "準備作業５．今回使用するライブラリのインストール\n",
    "\n"
   ]
  },
  {
   "cell_type": "code",
   "execution_count": 4,
   "metadata": {
    "executionInfo": {
     "elapsed": 1358,
     "status": "ok",
     "timestamp": 1646989947338,
     "user": {
      "displayName": "trip bad",
      "photoUrl": "https://lh3.googleusercontent.com/a/default-user=s64",
      "userId": "13313197196674665217"
     },
     "user_tz": -540
    },
    "id": "yFgIangjY4QE"
   },
   "outputs": [],
   "source": [
    "# pandsライブラリの使用\n",
    "import pandas as pd\n",
    "\n",
    "# モデルデータのインポート\n",
    "# 今回は予測分析を行っていく為、モデルは重回帰分析で行っていきます。\n",
    "from sklearn.linear_model import LinearRegression\n",
    "\n",
    "# 訓練データ、検証データ、テストデータを分割する為に使用(後述)\n",
    "from sklearn.model_selection import train_test_split"
   ]
  },
  {
   "cell_type": "markdown",
   "metadata": {
    "id": "Q8s6ObJpZrMs"
   },
   "source": [
    "・CSVファイルの読み込みと表示\n",
    "\n",
    "※データが正しく読み込まれているかを確認する為、必ずデータの表示を行いましょう。"
   ]
  },
  {
   "cell_type": "code",
   "execution_count": 5,
   "metadata": {
    "colab": {
     "base_uri": "https://localhost:8080/"
    },
    "executionInfo": {
     "elapsed": 22,
     "status": "ok",
     "timestamp": 1646989947338,
     "user": {
      "displayName": "trip bad",
      "photoUrl": "https://lh3.googleusercontent.com/a/default-user=s64",
      "userId": "13313197196674665217"
     },
     "user_tz": -540
    },
    "id": "k0_yJXf2eD91",
    "outputId": "a41acb22-beea-4dd8-e4b5-2c7636d4b8c9"
   },
   "outputs": [
    {
     "name": "stdout",
     "output_type": "stream",
     "text": [
      "-----先頭5行-----\n",
      "   Unnamed: 0   MPG  Cylinders  Displacement  Horsepower  Weight  \\\n",
      "0           0  18.0          8         307.0       130.0    3504   \n",
      "1           1  15.0          8         350.0       165.0    3693   \n",
      "2           2  18.0          8         318.0       150.0    3436   \n",
      "3           3  16.0          8         304.0       150.0    3433   \n",
      "4           4  17.0          8         302.0       140.0    3449   \n",
      "\n",
      "   Acceleration  Model Year  Origin  \n",
      "0          12.0          70       1  \n",
      "1          11.5          70       1  \n",
      "2          11.0          70       1  \n",
      "3          12.0          70       1  \n",
      "4          10.5          70       1  \n",
      "-----末尾5行-----\n",
      "     Unnamed: 0   MPG  Cylinders  Displacement  Horsepower  Weight  \\\n",
      "393         393  27.0          4         140.0        86.0    2790   \n",
      "394         394  44.0          4          97.0        52.0    2130   \n",
      "395         395  32.0          4         135.0        84.0    2295   \n",
      "396         396  28.0          4         120.0        79.0    2625   \n",
      "397         397  31.0          4         119.0        82.0    2720   \n",
      "\n",
      "     Acceleration  Model Year  Origin  \n",
      "393          15.6          82       1  \n",
      "394          24.6          82       2  \n",
      "395          11.6          82       1  \n",
      "396          18.6          82       1  \n",
      "397          19.4          82       1  \n"
     ]
    }
   ],
   "source": [
    "# csvファイルの読み込み\n",
    "df = pd.read_csv('auto_mgp.csv')\n",
    "\n",
    "# データの確認(先頭5行・末尾5行)\n",
    "print('-----先頭5行-----')\n",
    "print(df.head(5))\n",
    "print('-----末尾5行-----')\n",
    "print(df.tail(5))"
   ]
  },
  {
   "cell_type": "markdown",
   "metadata": {
    "id": "7a0qNNxVAp0M"
   },
   "source": [
    "【前処理】\n",
    "\n",
    "機械学習を始めるための下準備として、前処理を行います。\n",
    "\n",
    "データを学習させるために正しく整形しておくこのステップは、とても大切です。\n",
    "\n",
    "前処理には、「ダミー変数化」、「欠損値の確認と処理」、「外れ値の確認と処理」があります。\n",
    "\n",
    "ダミー変数化：質的データを学習に使えるように変換します。\n",
    "\n",
    "欠損値の処理：値が入っていないセルを、計算できるように仮の値で埋めます。\n",
    "\n",
    "外れ値の処理：イレギュラーな値が入っていた場合、学習結果に影響を及ぼす事があるため、学習に使用されないように削除します。\n",
    "\n",
    "今回は、ダミー変数化後、【訓練データ、検証データ、テストデータの分割】を先に行ってから、欠損値・外れ値の確認と処理を行います。\n",
    "\n",
    "こうしておく事で、テスト環境で欠損値や外れ値が入っているデータで確認が出来る為、本番環境での精度を保証する事が出来ます。"
   ]
  },
  {
   "cell_type": "markdown",
   "metadata": {
    "id": "k71MVlKX0t6N"
   },
   "source": [
    "【質的データの確認】\n",
    "\n",
    "\n",
    "・文字列のデータ\n",
    "\n",
    "・0、1、2などの範囲の狭い整数\n",
    "\n",
    "これらのデータをダミー変数化します。\n",
    "\n",
    "ダミー変数化するポイントは、文字列かどうか、「数値として計算する意味があるかどうか」です。\n",
    "\n",
    "今回のOrigin列は1～3の値しかないですし、内容もどこの国産かの値ですので、ダミー変数化してしまいます。"
   ]
  },
  {
   "cell_type": "code",
   "execution_count": 6,
   "metadata": {
    "colab": {
     "base_uri": "https://localhost:8080/"
    },
    "executionInfo": {
     "elapsed": 19,
     "status": "ok",
     "timestamp": 1646989947339,
     "user": {
      "displayName": "trip bad",
      "photoUrl": "https://lh3.googleusercontent.com/a/default-user=s64",
      "userId": "13313197196674665217"
     },
     "user_tz": -540
    },
    "id": "kFq19_p_AZf0",
    "outputId": "04cdde30-fc32-49b7-a645-8f443d5756ee"
   },
   "outputs": [
    {
     "data": {
      "text/plain": [
       "1    249\n",
       "3     79\n",
       "2     70\n",
       "Name: Origin, dtype: int64"
      ]
     },
     "execution_count": 6,
     "metadata": {},
     "output_type": "execute_result"
    }
   ],
   "source": [
    "# Origin列にデータが何種類あるか調べる\n",
    "df['Origin'].value_counts()"
   ]
  },
  {
   "cell_type": "markdown",
   "metadata": {
    "id": "nFyyS2IcBuMu"
   },
   "source": [
    "Origin列はデータが3種類しかなく、意味も「数値として計算する意味」はない為、ダミー変数化します。"
   ]
  },
  {
   "cell_type": "code",
   "execution_count": 7,
   "metadata": {
    "colab": {
     "base_uri": "https://localhost:8080/",
     "height": 112
    },
    "executionInfo": {
     "elapsed": 15,
     "status": "ok",
     "timestamp": 1646989947340,
     "user": {
      "displayName": "trip bad",
      "photoUrl": "https://lh3.googleusercontent.com/a/default-user=s64",
      "userId": "13313197196674665217"
     },
     "user_tz": -540
    },
    "id": "WhQMEMBlCCnj",
    "outputId": "87862ca1-dd36-4087-c75b-b9197a420533"
   },
   "outputs": [
    {
     "data": {
      "text/html": [
       "\n",
       "  <div id=\"df-804938db-7879-4055-9416-a85302cb8a54\">\n",
       "    <div class=\"colab-df-container\">\n",
       "      <div>\n",
       "<style scoped>\n",
       "    .dataframe tbody tr th:only-of-type {\n",
       "        vertical-align: middle;\n",
       "    }\n",
       "\n",
       "    .dataframe tbody tr th {\n",
       "        vertical-align: top;\n",
       "    }\n",
       "\n",
       "    .dataframe thead th {\n",
       "        text-align: right;\n",
       "    }\n",
       "</style>\n",
       "<table border=\"1\" class=\"dataframe\">\n",
       "  <thead>\n",
       "    <tr style=\"text-align: right;\">\n",
       "      <th></th>\n",
       "      <th>Unnamed: 0</th>\n",
       "      <th>MPG</th>\n",
       "      <th>Cylinders</th>\n",
       "      <th>Displacement</th>\n",
       "      <th>Horsepower</th>\n",
       "      <th>Weight</th>\n",
       "      <th>Acceleration</th>\n",
       "      <th>Model Year</th>\n",
       "      <th>2</th>\n",
       "      <th>3</th>\n",
       "    </tr>\n",
       "  </thead>\n",
       "  <tbody>\n",
       "    <tr>\n",
       "      <th>0</th>\n",
       "      <td>0</td>\n",
       "      <td>18.0</td>\n",
       "      <td>8</td>\n",
       "      <td>307.0</td>\n",
       "      <td>130.0</td>\n",
       "      <td>3504</td>\n",
       "      <td>12.0</td>\n",
       "      <td>70</td>\n",
       "      <td>0</td>\n",
       "      <td>0</td>\n",
       "    </tr>\n",
       "    <tr>\n",
       "      <th>1</th>\n",
       "      <td>1</td>\n",
       "      <td>15.0</td>\n",
       "      <td>8</td>\n",
       "      <td>350.0</td>\n",
       "      <td>165.0</td>\n",
       "      <td>3693</td>\n",
       "      <td>11.5</td>\n",
       "      <td>70</td>\n",
       "      <td>0</td>\n",
       "      <td>0</td>\n",
       "    </tr>\n",
       "  </tbody>\n",
       "</table>\n",
       "</div>\n",
       "      <button class=\"colab-df-convert\" onclick=\"convertToInteractive('df-804938db-7879-4055-9416-a85302cb8a54')\"\n",
       "              title=\"Convert this dataframe to an interactive table.\"\n",
       "              style=\"display:none;\">\n",
       "        \n",
       "  <svg xmlns=\"http://www.w3.org/2000/svg\" height=\"24px\"viewBox=\"0 0 24 24\"\n",
       "       width=\"24px\">\n",
       "    <path d=\"M0 0h24v24H0V0z\" fill=\"none\"/>\n",
       "    <path d=\"M18.56 5.44l.94 2.06.94-2.06 2.06-.94-2.06-.94-.94-2.06-.94 2.06-2.06.94zm-11 1L8.5 8.5l.94-2.06 2.06-.94-2.06-.94L8.5 2.5l-.94 2.06-2.06.94zm10 10l.94 2.06.94-2.06 2.06-.94-2.06-.94-.94-2.06-.94 2.06-2.06.94z\"/><path d=\"M17.41 7.96l-1.37-1.37c-.4-.4-.92-.59-1.43-.59-.52 0-1.04.2-1.43.59L10.3 9.45l-7.72 7.72c-.78.78-.78 2.05 0 2.83L4 21.41c.39.39.9.59 1.41.59.51 0 1.02-.2 1.41-.59l7.78-7.78 2.81-2.81c.8-.78.8-2.07 0-2.86zM5.41 20L4 18.59l7.72-7.72 1.47 1.35L5.41 20z\"/>\n",
       "  </svg>\n",
       "      </button>\n",
       "      \n",
       "  <style>\n",
       "    .colab-df-container {\n",
       "      display:flex;\n",
       "      flex-wrap:wrap;\n",
       "      gap: 12px;\n",
       "    }\n",
       "\n",
       "    .colab-df-convert {\n",
       "      background-color: #E8F0FE;\n",
       "      border: none;\n",
       "      border-radius: 50%;\n",
       "      cursor: pointer;\n",
       "      display: none;\n",
       "      fill: #1967D2;\n",
       "      height: 32px;\n",
       "      padding: 0 0 0 0;\n",
       "      width: 32px;\n",
       "    }\n",
       "\n",
       "    .colab-df-convert:hover {\n",
       "      background-color: #E2EBFA;\n",
       "      box-shadow: 0px 1px 2px rgba(60, 64, 67, 0.3), 0px 1px 3px 1px rgba(60, 64, 67, 0.15);\n",
       "      fill: #174EA6;\n",
       "    }\n",
       "\n",
       "    [theme=dark] .colab-df-convert {\n",
       "      background-color: #3B4455;\n",
       "      fill: #D2E3FC;\n",
       "    }\n",
       "\n",
       "    [theme=dark] .colab-df-convert:hover {\n",
       "      background-color: #434B5C;\n",
       "      box-shadow: 0px 1px 3px 1px rgba(0, 0, 0, 0.15);\n",
       "      filter: drop-shadow(0px 1px 2px rgba(0, 0, 0, 0.3));\n",
       "      fill: #FFFFFF;\n",
       "    }\n",
       "  </style>\n",
       "\n",
       "      <script>\n",
       "        const buttonEl =\n",
       "          document.querySelector('#df-804938db-7879-4055-9416-a85302cb8a54 button.colab-df-convert');\n",
       "        buttonEl.style.display =\n",
       "          google.colab.kernel.accessAllowed ? 'block' : 'none';\n",
       "\n",
       "        async function convertToInteractive(key) {\n",
       "          const element = document.querySelector('#df-804938db-7879-4055-9416-a85302cb8a54');\n",
       "          const dataTable =\n",
       "            await google.colab.kernel.invokeFunction('convertToInteractive',\n",
       "                                                     [key], {});\n",
       "          if (!dataTable) return;\n",
       "\n",
       "          const docLinkHtml = 'Like what you see? Visit the ' +\n",
       "            '<a target=\"_blank\" href=https://colab.research.google.com/notebooks/data_table.ipynb>data table notebook</a>'\n",
       "            + ' to learn more about interactive tables.';\n",
       "          element.innerHTML = '';\n",
       "          dataTable['output_type'] = 'display_data';\n",
       "          await google.colab.output.renderOutput(dataTable, element);\n",
       "          const docLink = document.createElement('div');\n",
       "          docLink.innerHTML = docLinkHtml;\n",
       "          element.appendChild(docLink);\n",
       "        }\n",
       "      </script>\n",
       "    </div>\n",
       "  </div>\n",
       "  "
      ],
      "text/plain": [
       "   Unnamed: 0   MPG  Cylinders  Displacement  Horsepower  Weight  \\\n",
       "0           0  18.0          8         307.0       130.0    3504   \n",
       "1           1  15.0          8         350.0       165.0    3693   \n",
       "\n",
       "   Acceleration  Model Year  2  3  \n",
       "0          12.0          70  0  0  \n",
       "1          11.5          70  0  0  "
      ]
     },
     "execution_count": 7,
     "metadata": {},
     "output_type": "execute_result"
    }
   ],
   "source": [
    "# ダミー変数化\n",
    "origin = pd.get_dummies(df['Origin'], drop_first = True)\n",
    "\n",
    "# dfとダミー変数化した列を連結し、元のOriginを削除\n",
    "df2 = pd.concat([df, origin], axis = 1)\n",
    "df2 = df2.drop(['Origin'], axis = 1)\n",
    "df2.head(2)"
   ]
  },
  {
   "cell_type": "markdown",
   "metadata": {
    "id": "8aCUogdvDJCN"
   },
   "source": [
    "データの分割：\n",
    "\n",
    "　訓練データ、検証データ、テストデータを分割します。"
   ]
  },
  {
   "cell_type": "code",
   "execution_count": 8,
   "metadata": {
    "executionInfo": {
     "elapsed": 13,
     "status": "ok",
     "timestamp": 1646989947341,
     "user": {
      "displayName": "trip bad",
      "photoUrl": "https://lh3.googleusercontent.com/a/default-user=s64",
      "userId": "13313197196674665217"
     },
     "user_tz": -540
    },
    "id": "2UQ_rCx_DPyq"
   },
   "outputs": [],
   "source": [
    "# 訓練データ&検証データとテストデータに分割する\n",
    "train_val, test = train_test_split(df2, test_size = 0.2, random_state = 0)"
   ]
  },
  {
   "cell_type": "markdown",
   "metadata": {
    "id": "D7-WFSRwBX0_"
   },
   "source": [
    "欠損値の確認"
   ]
  },
  {
   "cell_type": "code",
   "execution_count": 9,
   "metadata": {
    "colab": {
     "base_uri": "https://localhost:8080/"
    },
    "executionInfo": {
     "elapsed": 14,
     "status": "ok",
     "timestamp": 1646989947342,
     "user": {
      "displayName": "trip bad",
      "photoUrl": "https://lh3.googleusercontent.com/a/default-user=s64",
      "userId": "13313197196674665217"
     },
     "user_tz": -540
    },
    "id": "WQXNZOg2BaWe",
    "outputId": "affcadc2-a4f4-42dd-a862-3f25767c09f0"
   },
   "outputs": [
    {
     "data": {
      "text/plain": [
       "Unnamed: 0      False\n",
       "MPG             False\n",
       "Cylinders       False\n",
       "Displacement    False\n",
       "Horsepower       True\n",
       "Weight          False\n",
       "Acceleration    False\n",
       "Model Year      False\n",
       "2               False\n",
       "3               False\n",
       "dtype: bool"
      ]
     },
     "execution_count": 9,
     "metadata": {},
     "output_type": "execute_result"
    }
   ],
   "source": [
    "# 欠損値の確認\n",
    "train_val.isnull().any(axis = 0)"
   ]
  },
  {
   "cell_type": "markdown",
   "metadata": {
    "id": "eEtDXBPwBi1W"
   },
   "source": [
    "Horsepower列に欠損値がある事が分かりました。\n",
    "\n",
    "※Horsepower列は「馬力」"
   ]
  },
  {
   "cell_type": "code",
   "execution_count": 10,
   "metadata": {
    "colab": {
     "base_uri": "https://localhost:8080/"
    },
    "executionInfo": {
     "elapsed": 601,
     "status": "ok",
     "timestamp": 1646989947933,
     "user": {
      "displayName": "trip bad",
      "photoUrl": "https://lh3.googleusercontent.com/a/default-user=s64",
      "userId": "13313197196674665217"
     },
     "user_tz": -540
    },
    "id": "wckhaIVFCTsR",
    "outputId": "c6b12ba9-6c9c-4549-a5fb-d82c9afd0c72"
   },
   "outputs": [
    {
     "data": {
      "text/plain": [
       "Unnamed: 0      0\n",
       "MPG             0\n",
       "Cylinders       0\n",
       "Displacement    0\n",
       "Horsepower      5\n",
       "Weight          0\n",
       "Acceleration    0\n",
       "Model Year      0\n",
       "2               0\n",
       "3               0\n",
       "dtype: int64"
      ]
     },
     "execution_count": 10,
     "metadata": {},
     "output_type": "execute_result"
    }
   ],
   "source": [
    "# 欠損値が具体的に何個あるか確認してみましょう。\n",
    "train_val.isnull().sum()"
   ]
  },
  {
   "cell_type": "markdown",
   "metadata": {
    "id": "Bio8pExyJVJz"
   },
   "source": [
    "欠損値の処理：\n",
    "\n",
    "　欠損値の処理の仕方で、このAIモデルの精度にも影響が出てきます。\n",
    "\n",
    "　今回は平均値で補完しておきましょう。"
   ]
  },
  {
   "cell_type": "code",
   "execution_count": 11,
   "metadata": {
    "colab": {
     "base_uri": "https://localhost:8080/"
    },
    "executionInfo": {
     "elapsed": 8,
     "status": "ok",
     "timestamp": 1646989947934,
     "user": {
      "displayName": "trip bad",
      "photoUrl": "https://lh3.googleusercontent.com/a/default-user=s64",
      "userId": "13313197196674665217"
     },
     "user_tz": -540
    },
    "id": "kPZWXLa7J4Fq",
    "outputId": "02273b1b-592e-4e57-c5c6-8e428c955b37"
   },
   "outputs": [
    {
     "data": {
      "text/plain": [
       "Unnamed: 0      False\n",
       "MPG             False\n",
       "Cylinders       False\n",
       "Displacement    False\n",
       "Horsepower      False\n",
       "Weight          False\n",
       "Acceleration    False\n",
       "Model Year      False\n",
       "2               False\n",
       "3               False\n",
       "dtype: bool"
      ]
     },
     "execution_count": 11,
     "metadata": {},
     "output_type": "execute_result"
    }
   ],
   "source": [
    "# 欠損値を平均値で穴埋め\n",
    "train_val2 = train_val.fillna(train_val.mean())\n",
    "# 穴埋めできたか確認\n",
    "train_val2.isnull().any(axis = 0)"
   ]
  },
  {
   "cell_type": "markdown",
   "metadata": {
    "id": "15V9fv7-LQ5E"
   },
   "source": [
    "外れ値の確認：\n",
    "\n",
    "　外れ値の確認は、散布図を作成すると確認がしやすくなります。\n",
    "\n",
    "　コラボラトリー上にグラフ描画をし、それを日本語化する為に以下のコードを実行しましょう。"
   ]
  },
  {
   "cell_type": "code",
   "execution_count": 12,
   "metadata": {
    "colab": {
     "base_uri": "https://localhost:8080/"
    },
    "executionInfo": {
     "elapsed": 6243,
     "status": "ok",
     "timestamp": 1646989954172,
     "user": {
      "displayName": "trip bad",
      "photoUrl": "https://lh3.googleusercontent.com/a/default-user=s64",
      "userId": "13313197196674665217"
     },
     "user_tz": -540
    },
    "id": "Wg1pRq_2Lmlk",
    "outputId": "7b2b58cf-042f-41b8-c1fd-2fcff98a7752"
   },
   "outputs": [
    {
     "name": "stdout",
     "output_type": "stream",
     "text": [
      "Collecting japanize-matplotlib\n",
      "  Downloading japanize-matplotlib-1.1.3.tar.gz (4.1 MB)\n",
      "\u001b[K     |████████████████████████████████| 4.1 MB 3.1 MB/s \n",
      "\u001b[?25hRequirement already satisfied: matplotlib in /usr/local/lib/python3.7/dist-packages (from japanize-matplotlib) (3.2.2)\n",
      "Requirement already satisfied: kiwisolver>=1.0.1 in /usr/local/lib/python3.7/dist-packages (from matplotlib->japanize-matplotlib) (1.3.2)\n",
      "Requirement already satisfied: cycler>=0.10 in /usr/local/lib/python3.7/dist-packages (from matplotlib->japanize-matplotlib) (0.11.0)\n",
      "Requirement already satisfied: python-dateutil>=2.1 in /usr/local/lib/python3.7/dist-packages (from matplotlib->japanize-matplotlib) (2.8.2)\n",
      "Requirement already satisfied: pyparsing!=2.0.4,!=2.1.2,!=2.1.6,>=2.0.1 in /usr/local/lib/python3.7/dist-packages (from matplotlib->japanize-matplotlib) (3.0.7)\n",
      "Requirement already satisfied: numpy>=1.11 in /usr/local/lib/python3.7/dist-packages (from matplotlib->japanize-matplotlib) (1.21.5)\n",
      "Requirement already satisfied: six>=1.5 in /usr/local/lib/python3.7/dist-packages (from python-dateutil>=2.1->matplotlib->japanize-matplotlib) (1.15.0)\n",
      "Building wheels for collected packages: japanize-matplotlib\n",
      "  Building wheel for japanize-matplotlib (setup.py) ... \u001b[?25l\u001b[?25hdone\n",
      "  Created wheel for japanize-matplotlib: filename=japanize_matplotlib-1.1.3-py3-none-any.whl size=4120275 sha256=7ec30992a08f67354b5778bd9ae0c60a7303dd39552f44141c194f5a475ea79f\n",
      "  Stored in directory: /root/.cache/pip/wheels/83/97/6b/e9e0cde099cc40f972b8dd23367308f7705ae06cd6d4714658\n",
      "Successfully built japanize-matplotlib\n",
      "Installing collected packages: japanize-matplotlib\n",
      "Successfully installed japanize-matplotlib-1.1.3\n"
     ]
    }
   ],
   "source": [
    "# グラフの日本語化を行う為にインストール\n",
    "!pip install japanize-matplotlib\n",
    "\n",
    "# グラフを行内表示に設定\n",
    "%matplotlib inline"
   ]
  },
  {
   "cell_type": "markdown",
   "metadata": {
    "id": "hwvhMw49Pp4W"
   },
   "source": [
    "外れ値の確認は「散布図」を使うと分かり易くなります。\n",
    "\n",
    "各特徴量と正解データの相関関係を表示しましょう。"
   ]
  },
  {
   "cell_type": "code",
   "execution_count": 13,
   "metadata": {
    "colab": {
     "base_uri": "https://localhost:8080/",
     "height": 1000
    },
    "executionInfo": {
     "elapsed": 1648,
     "status": "ok",
     "timestamp": 1646989955812,
     "user": {
      "displayName": "trip bad",
      "photoUrl": "https://lh3.googleusercontent.com/a/default-user=s64",
      "userId": "13313197196674665217"
     },
     "user_tz": -540
    },
    "id": "2HJFPebGL4Hd",
    "outputId": "aa7a3b60-09cd-46e4-eb9e-fb70726cb0a1"
   },
   "outputs": [
    {
     "data": {
      "application/vnd.google.colaboratory.intrinsic+json": {
       "type": "string"
      },
      "text/plain": [
       "\"\\n# 以下のように、forを使用して指定する事も可能です。\\n# 今回は元データが1列目は使用しない、2列目が正解データなので、forのループ回数に注目してください\\n\\n# データフレームから列名のリストを取得\\ncolname = train_val2.columns\\n# 正解データの列名を取得する\\nans = colname[1]\\n# colnameリストのindex:2～最後までを取得(0と1はそれぞれ行番号及び正解データの為切り取る)\\nval = colname[2:]\\n# forループで全ての要素を散布図で出力\\nfor name in val:\\n  train_val2.plot(kind = 'scatter', x = name, y = ans)\\n\""
      ]
     },
     "execution_count": 13,
     "metadata": {},
     "output_type": "execute_result"
    },
    {
     "data": {
      "image/png": "[encoded data removed]",
      "text/plain": [
       "<Figure size 432x288 with 1 Axes>"
      ]
     },
     "metadata": {
      "needs_background": "light"
     },
     "output_type": "display_data"
    },
    {
     "data": {
      "image/png": "[encoded data removed]",
      "text/plain": [
       "<Figure size 432x288 with 1 Axes>"
      ]
     },
     "metadata": {
      "needs_background": "light"
     },
     "output_type": "display_data"
    },
    {
     "data": {
      "image/png": "[encoded data removed]",
      "text/plain": [
       "<Figure size 432x288 with 1 Axes>"
      ]
     },
     "metadata": {
      "needs_background": "light"
     },
     "output_type": "display_data"
    },
    {
     "data": {
      "image/png": "[encoded data removed]",
      "text/plain": [
       "<Figure size 432x288 with 1 Axes>"
      ]
     },
     "metadata": {
      "needs_background": "light"
     },
     "output_type": "display_data"
    },
    {
     "data": {
      "image/png": "[encoded data removed]",
      "text/plain": [
       "<Figure size 432x288 with 1 Axes>"
      ]
     },
     "metadata": {
      "needs_background": "light"
     },
     "output_type": "display_data"
    },
    {
     "data": {
      "image/png": "[encoded data removed]",
      "text/plain": [
       "<Figure size 432x288 with 1 Axes>"
      ]
     },
     "metadata": {
      "needs_background": "light"
     },
     "output_type": "display_data"
    }
   ],
   "source": [
    "# plotメソッドのkind引数に「scatter」を指定すると散布図になります。\n",
    "# x引数に特徴量、y引数に正解データの列名をそれぞれ指定します。\n",
    "train_val2.plot(kind = 'scatter', x = 'Cylinders', y = 'MPG')\n",
    "train_val2.plot(kind = 'scatter', x = 'Displacement', y = 'MPG')\n",
    "train_val2.plot(kind = 'scatter', x = 'Horsepower', y = 'MPG')\n",
    "train_val2.plot(kind = 'scatter', x = 'Weight', y = 'MPG')\n",
    "train_val2.plot(kind = 'scatter', x = 'Acceleration', y = 'MPG')\n",
    "train_val2.plot(kind = 'scatter', x = 'Model Year', y = 'MPG')\n",
    "\n",
    "\n",
    "\"\"\"\n",
    "# 以下のように、forを使用して指定する事も可能です。\n",
    "# 今回は元データが1列目は使用しない、2列目が正解データなので、forのループ回数に注目してください\n",
    "\n",
    "# データフレームから列名のリストを取得\n",
    "colname = train_val2.columns\n",
    "# 正解データの列名を取得する\n",
    "ans = colname[1]\n",
    "# colnameリストのindex:2～最後までを取得(0と1はそれぞれ行番号及び正解データの為切り取る)\n",
    "val = colname[2:]\n",
    "# forループで全ての要素を散布図で出力\n",
    "for name in val:\n",
    "  train_val2.plot(kind = 'scatter', x = name, y = ans)\n",
    "\"\"\""
   ]
  },
  {
   "cell_type": "markdown",
   "metadata": {
    "id": "VgkB6tMkJiaE"
   },
   "source": [
    "相関関係を見て、正解データのMPGと関連してそうな列をピックアップします。\n",
    "\n",
    "全体のデータがバラバラな列は正解データとあまり関連がないので、今回は以下の列をピックアップします。\n",
    "\n",
    "Displacement\n",
    "\n",
    "Horsepower\n",
    "\n",
    "Weight\n",
    "\n",
    "Model Year\n",
    "\n",
    "これら4つの列がMPGと関係がありそうです。\n",
    "\n",
    "この中から、外れ値がありそうな列だけ外れ値処理を行っておきましょう。"
   ]
  },
  {
   "cell_type": "markdown",
   "metadata": {
    "id": "T7prZ-Xz9GeK"
   },
   "source": [
    "![散布図.png](data:image/png;base64,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)"
   ]
  },
  {
   "cell_type": "markdown",
   "metadata": {
    "id": "4QzQP4s_-c4C"
   },
   "source": [
    "外れ値の処理\n",
    "\n",
    "外れ値の処理を行う場合は、対象となる行を削除します。\n",
    "\n",
    "対象となる行番号を調べて、削除の手順で処理を行います。"
   ]
  },
  {
   "cell_type": "code",
   "execution_count": 14,
   "metadata": {
    "colab": {
     "base_uri": "https://localhost:8080/"
    },
    "executionInfo": {
     "elapsed": 39,
     "status": "ok",
     "timestamp": 1646989955813,
     "user": {
      "displayName": "trip bad",
      "photoUrl": "https://lh3.googleusercontent.com/a/default-user=s64",
      "userId": "13313197196674665217"
     },
     "user_tz": -540
    },
    "id": "bU11Tz9V6lXK",
    "outputId": "5e84ee41-bf92-4915-c763-60e3d7bc192f"
   },
   "outputs": [
    {
     "name": "stdout",
     "output_type": "stream",
     "text": [
      "Int64Index([387], dtype='int64')\n"
     ]
    }
   ],
   "source": [
    "# 外れ値が存在するインデックスを調べる\n",
    "out_line1 = train_val2[(train_val2['Displacement'] > 250) & (train_val2['MPG'] > 35)].index\n",
    "\n",
    "# インデックス番号を出力して確認\n",
    "print(out_line1)"
   ]
  },
  {
   "cell_type": "code",
   "execution_count": 15,
   "metadata": {
    "executionInfo": {
     "elapsed": 37,
     "status": "ok",
     "timestamp": 1646989955814,
     "user": {
      "displayName": "trip bad",
      "photoUrl": "https://lh3.googleusercontent.com/a/default-user=s64",
      "userId": "13313197196674665217"
     },
     "user_tz": -540
    },
    "id": "Z4mxyw_xIIe2"
   },
   "outputs": [],
   "source": [
    "# 外れ値の行を削除する\n",
    "train_val3 = train_val2.drop([387], axis = 0)"
   ]
  },
  {
   "cell_type": "code",
   "execution_count": 16,
   "metadata": {
    "colab": {
     "base_uri": "https://localhost:8080/",
     "height": 143
    },
    "executionInfo": {
     "elapsed": 37,
     "status": "ok",
     "timestamp": 1646989955814,
     "user": {
      "displayName": "trip bad",
      "photoUrl": "https://lh3.googleusercontent.com/a/default-user=s64",
      "userId": "13313197196674665217"
     },
     "user_tz": -540
    },
    "id": "wGOYFV6hJAXz",
    "outputId": "07196c85-4c99-4e76-8e39-d3a82d468915"
   },
   "outputs": [
    {
     "data": {
      "text/html": [
       "\n",
       "  <div id=\"df-a57c78c2-cfd5-428f-b2eb-8abaf88634ed\">\n",
       "    <div class=\"colab-df-container\">\n",
       "      <div>\n",
       "<style scoped>\n",
       "    .dataframe tbody tr th:only-of-type {\n",
       "        vertical-align: middle;\n",
       "    }\n",
       "\n",
       "    .dataframe tbody tr th {\n",
       "        vertical-align: top;\n",
       "    }\n",
       "\n",
       "    .dataframe thead th {\n",
       "        text-align: right;\n",
       "    }\n",
       "</style>\n",
       "<table border=\"1\" class=\"dataframe\">\n",
       "  <thead>\n",
       "    <tr style=\"text-align: right;\">\n",
       "      <th></th>\n",
       "      <th>MPG</th>\n",
       "      <th>Displacement</th>\n",
       "      <th>Horsepower</th>\n",
       "      <th>Weight</th>\n",
       "      <th>Model Year</th>\n",
       "    </tr>\n",
       "  </thead>\n",
       "  <tbody>\n",
       "    <tr>\n",
       "      <th>64</th>\n",
       "      <td>15.0</td>\n",
       "      <td>318.0</td>\n",
       "      <td>150.0</td>\n",
       "      <td>4135</td>\n",
       "      <td>72</td>\n",
       "    </tr>\n",
       "    <tr>\n",
       "      <th>55</th>\n",
       "      <td>27.0</td>\n",
       "      <td>97.0</td>\n",
       "      <td>60.0</td>\n",
       "      <td>1834</td>\n",
       "      <td>71</td>\n",
       "    </tr>\n",
       "    <tr>\n",
       "      <th>317</th>\n",
       "      <td>34.3</td>\n",
       "      <td>97.0</td>\n",
       "      <td>78.0</td>\n",
       "      <td>2188</td>\n",
       "      <td>80</td>\n",
       "    </tr>\n",
       "  </tbody>\n",
       "</table>\n",
       "</div>\n",
       "      <button class=\"colab-df-convert\" onclick=\"convertToInteractive('df-a57c78c2-cfd5-428f-b2eb-8abaf88634ed')\"\n",
       "              title=\"Convert this dataframe to an interactive table.\"\n",
       "              style=\"display:none;\">\n",
       "        \n",
       "  <svg xmlns=\"http://www.w3.org/2000/svg\" height=\"24px\"viewBox=\"0 0 24 24\"\n",
       "       width=\"24px\">\n",
       "    <path d=\"M0 0h24v24H0V0z\" fill=\"none\"/>\n",
       "    <path d=\"M18.56 5.44l.94 2.06.94-2.06 2.06-.94-2.06-.94-.94-2.06-.94 2.06-2.06.94zm-11 1L8.5 8.5l.94-2.06 2.06-.94-2.06-.94L8.5 2.5l-.94 2.06-2.06.94zm10 10l.94 2.06.94-2.06 2.06-.94-2.06-.94-.94-2.06-.94 2.06-2.06.94z\"/><path d=\"M17.41 7.96l-1.37-1.37c-.4-.4-.92-.59-1.43-.59-.52 0-1.04.2-1.43.59L10.3 9.45l-7.72 7.72c-.78.78-.78 2.05 0 2.83L4 21.41c.39.39.9.59 1.41.59.51 0 1.02-.2 1.41-.59l7.78-7.78 2.81-2.81c.8-.78.8-2.07 0-2.86zM5.41 20L4 18.59l7.72-7.72 1.47 1.35L5.41 20z\"/>\n",
       "  </svg>\n",
       "      </button>\n",
       "      \n",
       "  <style>\n",
       "    .colab-df-container {\n",
       "      display:flex;\n",
       "      flex-wrap:wrap;\n",
       "      gap: 12px;\n",
       "    }\n",
       "\n",
       "    .colab-df-convert {\n",
       "      background-color: #E8F0FE;\n",
       "      border: none;\n",
       "      border-radius: 50%;\n",
       "      cursor: pointer;\n",
       "      display: none;\n",
       "      fill: #1967D2;\n",
       "      height: 32px;\n",
       "      padding: 0 0 0 0;\n",
       "      width: 32px;\n",
       "    }\n",
       "\n",
       "    .colab-df-convert:hover {\n",
       "      background-color: #E2EBFA;\n",
       "      box-shadow: 0px 1px 2px rgba(60, 64, 67, 0.3), 0px 1px 3px 1px rgba(60, 64, 67, 0.15);\n",
       "      fill: #174EA6;\n",
       "    }\n",
       "\n",
       "    [theme=dark] .colab-df-convert {\n",
       "      background-color: #3B4455;\n",
       "      fill: #D2E3FC;\n",
       "    }\n",
       "\n",
       "    [theme=dark] .colab-df-convert:hover {\n",
       "      background-color: #434B5C;\n",
       "      box-shadow: 0px 1px 3px 1px rgba(0, 0, 0, 0.15);\n",
       "      filter: drop-shadow(0px 1px 2px rgba(0, 0, 0, 0.3));\n",
       "      fill: #FFFFFF;\n",
       "    }\n",
       "  </style>\n",
       "\n",
       "      <script>\n",
       "        const buttonEl =\n",
       "          document.querySelector('#df-a57c78c2-cfd5-428f-b2eb-8abaf88634ed button.colab-df-convert');\n",
       "        buttonEl.style.display =\n",
       "          google.colab.kernel.accessAllowed ? 'block' : 'none';\n",
       "\n",
       "        async function convertToInteractive(key) {\n",
       "          const element = document.querySelector('#df-a57c78c2-cfd5-428f-b2eb-8abaf88634ed');\n",
       "          const dataTable =\n",
       "            await google.colab.kernel.invokeFunction('convertToInteractive',\n",
       "                                                     [key], {});\n",
       "          if (!dataTable) return;\n",
       "\n",
       "          const docLinkHtml = 'Like what you see? Visit the ' +\n",
       "            '<a target=\"_blank\" href=https://colab.research.google.com/notebooks/data_table.ipynb>data table notebook</a>'\n",
       "            + ' to learn more about interactive tables.';\n",
       "          element.innerHTML = '';\n",
       "          dataTable['output_type'] = 'display_data';\n",
       "          await google.colab.output.renderOutput(dataTable, element);\n",
       "          const docLink = document.createElement('div');\n",
       "          docLink.innerHTML = docLinkHtml;\n",
       "          element.appendChild(docLink);\n",
       "        }\n",
       "      </script>\n",
       "    </div>\n",
       "  </div>\n",
       "  "
      ],
      "text/plain": [
       "      MPG  Displacement  Horsepower  Weight  Model Year\n",
       "64   15.0         318.0       150.0    4135          72\n",
       "55   27.0          97.0        60.0    1834          71\n",
       "317  34.3          97.0        78.0    2188          80"
      ]
     },
     "execution_count": 16,
     "metadata": {},
     "output_type": "execute_result"
    }
   ],
   "source": [
    "# 相関関係で、今回対象とする列を取り出す\n",
    "col = ['MPG','Displacement', 'Horsepower', 'Weight', 'Model Year']\n",
    "\n",
    "train_val4 = train_val3[col]\n",
    "train_val4.head(3)"
   ]
  },
  {
   "cell_type": "markdown",
   "metadata": {
    "id": "fEiR4i0YLtYN"
   },
   "source": [
    "特徴量は正解データの相関係数が大きいほど、特徴量が予測に与える影響が大きく、モデルの予測性能が高くなる可能性がある。\n",
    "\n",
    "その為、列同士の相関係数を調べる事で、より予測精度を上げる事が出来るので、相関係数を使って特徴量の絞り込みを行います"
   ]
  },
  {
   "cell_type": "code",
   "execution_count": 17,
   "metadata": {
    "colab": {
     "base_uri": "https://localhost:8080/",
     "height": 206
    },
    "executionInfo": {
     "elapsed": 36,
     "status": "ok",
     "timestamp": 1646989955815,
     "user": {
      "displayName": "trip bad",
      "photoUrl": "https://lh3.googleusercontent.com/a/default-user=s64",
      "userId": "13313197196674665217"
     },
     "user_tz": -540
    },
    "id": "8Ocfc0Q9LH2B",
    "outputId": "4b6e31ea-f2b4-4763-8870-0f2b4b7dee03"
   },
   "outputs": [
    {
     "data": {
      "text/html": [
       "\n",
       "  <div id=\"df-150d55be-63d3-4068-9bc8-1334febb561b\">\n",
       "    <div class=\"colab-df-container\">\n",
       "      <div>\n",
       "<style scoped>\n",
       "    .dataframe tbody tr th:only-of-type {\n",
       "        vertical-align: middle;\n",
       "    }\n",
       "\n",
       "    .dataframe tbody tr th {\n",
       "        vertical-align: top;\n",
       "    }\n",
       "\n",
       "    .dataframe thead th {\n",
       "        text-align: right;\n",
       "    }\n",
       "</style>\n",
       "<table border=\"1\" class=\"dataframe\">\n",
       "  <thead>\n",
       "    <tr style=\"text-align: right;\">\n",
       "      <th></th>\n",
       "      <th>MPG</th>\n",
       "      <th>Displacement</th>\n",
       "      <th>Horsepower</th>\n",
       "      <th>Weight</th>\n",
       "      <th>Model Year</th>\n",
       "    </tr>\n",
       "  </thead>\n",
       "  <tbody>\n",
       "    <tr>\n",
       "      <th>MPG</th>\n",
       "      <td>1.000000</td>\n",
       "      <td>-0.807965</td>\n",
       "      <td>-0.788586</td>\n",
       "      <td>-0.828652</td>\n",
       "      <td>0.569262</td>\n",
       "    </tr>\n",
       "    <tr>\n",
       "      <th>Displacement</th>\n",
       "      <td>-0.807965</td>\n",
       "      <td>1.000000</td>\n",
       "      <td>0.894243</td>\n",
       "      <td>0.933676</td>\n",
       "      <td>-0.353566</td>\n",
       "    </tr>\n",
       "    <tr>\n",
       "      <th>Horsepower</th>\n",
       "      <td>-0.788586</td>\n",
       "      <td>0.894243</td>\n",
       "      <td>1.000000</td>\n",
       "      <td>0.863366</td>\n",
       "      <td>-0.407420</td>\n",
       "    </tr>\n",
       "    <tr>\n",
       "      <th>Weight</th>\n",
       "      <td>-0.828652</td>\n",
       "      <td>0.933676</td>\n",
       "      <td>0.863366</td>\n",
       "      <td>1.000000</td>\n",
       "      <td>-0.292003</td>\n",
       "    </tr>\n",
       "    <tr>\n",
       "      <th>Model Year</th>\n",
       "      <td>0.569262</td>\n",
       "      <td>-0.353566</td>\n",
       "      <td>-0.407420</td>\n",
       "      <td>-0.292003</td>\n",
       "      <td>1.000000</td>\n",
       "    </tr>\n",
       "  </tbody>\n",
       "</table>\n",
       "</div>\n",
       "      <button class=\"colab-df-convert\" onclick=\"convertToInteractive('df-150d55be-63d3-4068-9bc8-1334febb561b')\"\n",
       "              title=\"Convert this dataframe to an interactive table.\"\n",
       "              style=\"display:none;\">\n",
       "        \n",
       "  <svg xmlns=\"http://www.w3.org/2000/svg\" height=\"24px\"viewBox=\"0 0 24 24\"\n",
       "       width=\"24px\">\n",
       "    <path d=\"M0 0h24v24H0V0z\" fill=\"none\"/>\n",
       "    <path d=\"M18.56 5.44l.94 2.06.94-2.06 2.06-.94-2.06-.94-.94-2.06-.94 2.06-2.06.94zm-11 1L8.5 8.5l.94-2.06 2.06-.94-2.06-.94L8.5 2.5l-.94 2.06-2.06.94zm10 10l.94 2.06.94-2.06 2.06-.94-2.06-.94-.94-2.06-.94 2.06-2.06.94z\"/><path d=\"M17.41 7.96l-1.37-1.37c-.4-.4-.92-.59-1.43-.59-.52 0-1.04.2-1.43.59L10.3 9.45l-7.72 7.72c-.78.78-.78 2.05 0 2.83L4 21.41c.39.39.9.59 1.41.59.51 0 1.02-.2 1.41-.59l7.78-7.78 2.81-2.81c.8-.78.8-2.07 0-2.86zM5.41 20L4 18.59l7.72-7.72 1.47 1.35L5.41 20z\"/>\n",
       "  </svg>\n",
       "      </button>\n",
       "      \n",
       "  <style>\n",
       "    .colab-df-container {\n",
       "      display:flex;\n",
       "      flex-wrap:wrap;\n",
       "      gap: 12px;\n",
       "    }\n",
       "\n",
       "    .colab-df-convert {\n",
       "      background-color: #E8F0FE;\n",
       "      border: none;\n",
       "      border-radius: 50%;\n",
       "      cursor: pointer;\n",
       "      display: none;\n",
       "      fill: #1967D2;\n",
       "      height: 32px;\n",
       "      padding: 0 0 0 0;\n",
       "      width: 32px;\n",
       "    }\n",
       "\n",
       "    .colab-df-convert:hover {\n",
       "      background-color: #E2EBFA;\n",
       "      box-shadow: 0px 1px 2px rgba(60, 64, 67, 0.3), 0px 1px 3px 1px rgba(60, 64, 67, 0.15);\n",
       "      fill: #174EA6;\n",
       "    }\n",
       "\n",
       "    [theme=dark] .colab-df-convert {\n",
       "      background-color: #3B4455;\n",
       "      fill: #D2E3FC;\n",
       "    }\n",
       "\n",
       "    [theme=dark] .colab-df-convert:hover {\n",
       "      background-color: #434B5C;\n",
       "      box-shadow: 0px 1px 3px 1px rgba(0, 0, 0, 0.15);\n",
       "      filter: drop-shadow(0px 1px 2px rgba(0, 0, 0, 0.3));\n",
       "      fill: #FFFFFF;\n",
       "    }\n",
       "  </style>\n",
       "\n",
       "      <script>\n",
       "        const buttonEl =\n",
       "          document.querySelector('#df-150d55be-63d3-4068-9bc8-1334febb561b button.colab-df-convert');\n",
       "        buttonEl.style.display =\n",
       "          google.colab.kernel.accessAllowed ? 'block' : 'none';\n",
       "\n",
       "        async function convertToInteractive(key) {\n",
       "          const element = document.querySelector('#df-150d55be-63d3-4068-9bc8-1334febb561b');\n",
       "          const dataTable =\n",
       "            await google.colab.kernel.invokeFunction('convertToInteractive',\n",
       "                                                     [key], {});\n",
       "          if (!dataTable) return;\n",
       "\n",
       "          const docLinkHtml = 'Like what you see? Visit the ' +\n",
       "            '<a target=\"_blank\" href=https://colab.research.google.com/notebooks/data_table.ipynb>data table notebook</a>'\n",
       "            + ' to learn more about interactive tables.';\n",
       "          element.innerHTML = '';\n",
       "          dataTable['output_type'] = 'display_data';\n",
       "          await google.colab.output.renderOutput(dataTable, element);\n",
       "          const docLink = document.createElement('div');\n",
       "          docLink.innerHTML = docLinkHtml;\n",
       "          element.appendChild(docLink);\n",
       "        }\n",
       "      </script>\n",
       "    </div>\n",
       "  </div>\n",
       "  "
      ],
      "text/plain": [
       "                   MPG  Displacement  Horsepower    Weight  Model Year\n",
       "MPG           1.000000     -0.807965   -0.788586 -0.828652    0.569262\n",
       "Displacement -0.807965      1.000000    0.894243  0.933676   -0.353566\n",
       "Horsepower   -0.788586      0.894243    1.000000  0.863366   -0.407420\n",
       "Weight       -0.828652      0.933676    0.863366  1.000000   -0.292003\n",
       "Model Year    0.569262     -0.353566   -0.407420 -0.292003    1.000000"
      ]
     },
     "execution_count": 17,
     "metadata": {},
     "output_type": "execute_result"
    }
   ],
   "source": [
    "# 列同士の相関係数を調べる\n",
    "train_val4.corr()"
   ]
  },
  {
   "cell_type": "markdown",
   "metadata": {
    "id": "kjn6i55O0FQd"
   },
   "source": [
    "正の相関関係が強いと1に近づき、負の相関関係が強いと-1に近づきます。\n",
    "\n",
    "正解データ(MPG)とそれぞれの列との相関関係を数値で確認してみましょう。"
   ]
  },
  {
   "cell_type": "code",
   "execution_count": 18,
   "metadata": {
    "colab": {
     "base_uri": "https://localhost:8080/"
    },
    "executionInfo": {
     "elapsed": 35,
     "status": "ok",
     "timestamp": 1646989955815,
     "user": {
      "displayName": "trip bad",
      "photoUrl": "https://lh3.googleusercontent.com/a/default-user=s64",
      "userId": "13313197196674665217"
     },
     "user_tz": -540
    },
    "id": "L6xOkY7DuCPZ",
    "outputId": "4e95ad0b-0778-4b01-a43a-62e7f0687a12"
   },
   "outputs": [
    {
     "data": {
      "text/plain": [
       "MPG             1.000000\n",
       "Displacement   -0.807965\n",
       "Horsepower     -0.788586\n",
       "Weight         -0.828652\n",
       "Model Year      0.569262\n",
       "Name: MPG, dtype: float64"
      ]
     },
     "execution_count": 18,
     "metadata": {},
     "output_type": "execute_result"
    }
   ],
   "source": [
    "# 各列とPRICE列との相関係数を見る\n",
    "train_cor = train_val4.corr()['MPG']\n",
    "train_cor"
   ]
  },
  {
   "cell_type": "markdown",
   "metadata": {
    "id": "D46CFm3kHkll"
   },
   "source": [
    "正負関係なく、相関関係が高いかどうかを確認する為には、abs関数で絶対値に変換すると見やすくなります。"
   ]
  },
  {
   "cell_type": "code",
   "execution_count": 19,
   "metadata": {
    "colab": {
     "base_uri": "https://localhost:8080/"
    },
    "executionInfo": {
     "elapsed": 32,
     "status": "ok",
     "timestamp": 1646989955816,
     "user": {
      "displayName": "trip bad",
      "photoUrl": "https://lh3.googleusercontent.com/a/default-user=s64",
      "userId": "13313197196674665217"
     },
     "user_tz": -540
    },
    "id": "QLfPPZ9tHh2u",
    "outputId": "4812f4d7-6cfd-4fae-d90f-bc807a66cfa3"
   },
   "outputs": [
    {
     "data": {
      "text/plain": [
       "MPG             1.000000\n",
       "Displacement    0.807965\n",
       "Horsepower      0.788586\n",
       "Weight          0.828652\n",
       "Model Year      0.569262\n",
       "Name: MPG, dtype: float64"
      ]
     },
     "execution_count": 19,
     "metadata": {},
     "output_type": "execute_result"
    }
   ],
   "source": [
    "# abs関数とmapメソッドを組み合わせて、絶対値に変換\n",
    "abs_cor = train_cor.map(abs)\n",
    "abs_cor"
   ]
  },
  {
   "cell_type": "markdown",
   "metadata": {
    "id": "9MANz2qoIxdP"
   },
   "source": [
    "更に確認しやすくする為、降順に並び替えてみましょう。"
   ]
  },
  {
   "cell_type": "code",
   "execution_count": 20,
   "metadata": {
    "colab": {
     "base_uri": "https://localhost:8080/"
    },
    "executionInfo": {
     "elapsed": 28,
     "status": "ok",
     "timestamp": 1646989955817,
     "user": {
      "displayName": "trip bad",
      "photoUrl": "https://lh3.googleusercontent.com/a/default-user=s64",
      "userId": "13313197196674665217"
     },
     "user_tz": -540
    },
    "id": "bg7uZMs3Iey3",
    "outputId": "c9c246d3-1191-4554-f68b-2ef9920b2560"
   },
   "outputs": [
    {
     "data": {
      "text/plain": [
       "MPG             1.000000\n",
       "Weight          0.828652\n",
       "Displacement    0.807965\n",
       "Horsepower      0.788586\n",
       "Model Year      0.569262\n",
       "Name: MPG, dtype: float64"
      ]
     },
     "execution_count": 20,
     "metadata": {},
     "output_type": "execute_result"
    }
   ],
   "source": [
    "# 降順に並び替えるascending引数がTrue = 昇順、False = 降順となります。\n",
    "abs_cor.sort_values(ascending = False)"
   ]
  },
  {
   "cell_type": "markdown",
   "metadata": {
    "id": "IF3ECVn1MZBZ"
   },
   "source": [
    "Model Yearが低めな事が分かりました。\n",
    "\n",
    "今回はWeight、Displacement、Horsepowerを使用してモデルを作成していきます。"
   ]
  },
  {
   "cell_type": "code",
   "execution_count": 21,
   "metadata": {
    "executionInfo": {
     "elapsed": 24,
     "status": "ok",
     "timestamp": 1646989955817,
     "user": {
      "displayName": "trip bad",
      "photoUrl": "https://lh3.googleusercontent.com/a/default-user=s64",
      "userId": "13313197196674665217"
     },
     "user_tz": -540
    },
    "id": "jrlINEC4I-Fw"
   },
   "outputs": [],
   "source": [
    "# 使用する特徴量の列を抽出する\n",
    "col = ['Weight', 'Displacement', 'Horsepower']\n",
    "x = train_val4[col]\n",
    "t = train_val4[['MPG']]\n",
    "\n",
    "#訓練データと検証データの分割\n",
    "x_train, x_val, y_train, y_val = train_test_split(x, t, test_size = 0.2, random_state = 0)\n"
   ]
  },
  {
   "cell_type": "markdown",
   "metadata": {
    "id": "FgL7hZHOORjd"
   },
   "source": [
    "【標準化】\n",
    "　特徴量の平均値とばらつきを統一させる処理\n",
    "\n",
    "　データは項目や値によって数値の重みが変わってきます。\n",
    "\n",
    "　元のデータ集合がどのような分布でも、標準化後のデータ集合は「平均値が0、標準偏差が1」の分布となります。\n",
    "\n",
    "　こうする事で、適切な比較と分析が可能になり、機械学習手法によっては予測性能が向上します。\n",
    "\n"
   ]
  },
  {
   "cell_type": "code",
   "execution_count": 22,
   "metadata": {
    "colab": {
     "base_uri": "https://localhost:8080/"
    },
    "executionInfo": {
     "elapsed": 25,
     "status": "ok",
     "timestamp": 1646989955818,
     "user": {
      "displayName": "trip bad",
      "photoUrl": "https://lh3.googleusercontent.com/a/default-user=s64",
      "userId": "13313197196674665217"
     },
     "user_tz": -540
    },
    "id": "y6NSbQ7cNCTu",
    "outputId": "92581301-8143-40dd-cf33-b3c90a9b1746"
   },
   "outputs": [
    {
     "data": {
      "text/plain": [
       "array([[-9.76090308e-01, -9.31028993e-01, -9.83645855e-01],\n",
       "       [-1.12530316e+00, -1.04979137e+00, -1.03750162e+00],\n",
       "       [-2.89711198e-01, -1.09927570e+00,  1.74253032e-01],\n",
       "       [-8.86562598e-01, -6.83607368e-01, -4.72016114e-01],\n",
       "       [-9.64153280e-01, -7.92472883e-01, -6.33583400e-01],\n",
       "       [-1.06084321e+00, -1.10917256e+00, -9.02862211e-01],\n",
       "       [-8.82981490e-01, -1.00030705e+00, -8.75934330e-01],\n",
       "       [ 2.33130629e-01,  5.83191351e-01, -8.49006449e-01],\n",
       "       [ 1.12721403e+00,  3.95150916e-01,  1.74253032e-01],\n",
       "       [-9.99964364e-01, -9.21132128e-01, -9.02862211e-01],\n",
       "       [-4.38924048e-01, -1.78867254e-01,  3.08892438e-01],\n",
       "       [ 2.46261360e-01,  1.09782833e+00,  6.85882773e-01],\n",
       "       [-1.20886235e+00, -1.10917256e+00, -9.83645855e-01],\n",
       "       [ 1.78255686e+00,  1.57287785e+00,  1.52064709e+00],\n",
       "       [-1.39388629e+00, -9.90410183e-01, -1.36063619e+00],\n",
       "       [-1.32823263e+00, -9.90410183e-01, -9.83645855e-01],\n",
       "       [-7.91066374e-01, -7.13297963e-01, -1.75809422e-01],\n",
       "       [ 8.14463892e-01,  5.83191351e-01,  1.74253032e-01],\n",
       "       [ 1.40654048e+00,  1.09782833e+00,  9.82089465e-01],\n",
       "       [-1.10739762e+00, -1.04979137e+00, -1.38756407e+00],\n",
       "       [ 1.28836390e+00,  1.09782833e+00,  9.01305822e-01],\n",
       "       [ 4.80227108e-01,  6.82160001e-01,  1.74253032e-01],\n",
       "       [-9.93995850e-01, -9.31028993e-01, -4.18160352e-01],\n",
       "       [-2.11280677e-02, -6.93504233e-01, -1.48881541e-01],\n",
       "       [ 1.63811882e+00,  1.58277471e+00,  1.22444040e+00],\n",
       "       [ 2.74598826e-03,  8.83481011e-02, -4.98943995e-01],\n",
       "       [-7.31381234e-01, -8.22163478e-01, -7.68222806e-01],\n",
       "       [ 9.09960116e-01,  1.57287785e+00,  3.96136270e-02],\n",
       "       [-6.65727580e-01, -7.13297963e-01, -1.75809422e-01],\n",
       "       [-5.45163597e-01, -7.03401098e-01, -1.75809422e-01],\n",
       "       [ 3.22658339e-01,  3.35769726e-01, -9.50257785e-02],\n",
       "       [-9.22373682e-01, -9.31028993e-01, -6.87439163e-01],\n",
       "       [ 1.02455559e+00,  1.67184650e+00,  1.92456530e+00],\n",
       "       [-2.25251247e-01,  7.84512361e-02, -1.75809422e-01],\n",
       "       [-7.36509910e-02,  4.05047781e-01, -9.50257785e-02],\n",
       "       [ 1.67154250e+00,  1.58277471e+00,  1.46679133e+00],\n",
       "       [-1.18737570e+00, -1.01020391e+00, -1.17214102e+00],\n",
       "       [ 4.99326353e-01,  3.35769726e-01, -3.64304589e-01],\n",
       "       [-5.64262842e-01, -5.54948123e-01, -5.25871876e-01],\n",
       "       [ 1.33372461e+00,  1.25617817e+00,  9.82089465e-01],\n",
       "       [ 5.57817790e-01,  3.35769726e-01, -9.50257785e-02],\n",
       "       [ 2.11643978e-01, -2.77835904e-01,  5.78171249e-01],\n",
       "       [-1.10655778e-01, -5.05463798e-01, -4.18160352e-01],\n",
       "       [-1.44163440e+00, -1.10917256e+00, -1.22599678e+00],\n",
       "       [ 1.19286768e+00,  1.11762206e+00,  4.43531843e-01],\n",
       "       [-6.10817251e-01, -6.83607368e-01, -6.33583400e-01],\n",
       "       [-2.47931600e-01, -5.05463798e-01, -3.91232471e-01],\n",
       "       [ 2.29549520e-01,  8.83481011e-02, -2.29665184e-01],\n",
       "       [-4.85478457e-01, -3.96598283e-01, -3.64304589e-01],\n",
       "       [ 1.18451176e+00,  1.58277471e+00,  9.28233703e-01],\n",
       "       [ 3.59663126e-01,  3.35769726e-01, -2.29665184e-01],\n",
       "       [ 2.89234660e-01,  1.09782833e+00,  9.55161584e-01],\n",
       "       [-8.32845972e-01, -8.22163478e-01, -7.68222806e-01],\n",
       "       [-5.95299115e-01, -8.32060343e-01, -4.72016114e-01],\n",
       "       [ 2.10450276e-01,  5.83191351e-01, -4.18160352e-01],\n",
       "       [ 1.79210649e+00,  2.06772110e+00,  1.92456530e+00],\n",
       "       [ 9.21897144e-01,  1.25617817e+00,  9.82089465e-01],\n",
       "       [-3.48202635e-01, -6.93504233e-01,  3.08892438e-01],\n",
       "       [-9.60572172e-01, -7.42988558e-01, -7.68222806e-01],\n",
       "       [-1.34733188e+00, -9.31028993e-01, -1.17214102e+00],\n",
       "       [-3.39846715e-01, -3.96598283e-01, -3.64304589e-01],\n",
       "       [-1.17305127e+00, -8.51854073e-01, -7.95150687e-01],\n",
       "       [ 1.69422286e+00,  1.25617817e+00,  2.86704114e+00],\n",
       "       [-1.08829837e+00, -9.21132128e-01, -1.09135738e+00],\n",
       "       [-1.00593288e+00, -9.21132128e-01, -9.02862211e-01],\n",
       "       [ 1.16660622e+00,  1.25617817e+00,  1.25136828e+00],\n",
       "       [ 1.28084782e-01,  8.83481011e-02, -4.98943995e-01],\n",
       "       [-1.18498830e+00, -9.90410183e-01, -9.56717974e-01],\n",
       "       [ 9.76807473e-01,  5.83191351e-01, -9.50257785e-02],\n",
       "       [-7.79129346e-01, -6.83607368e-01, -4.98943995e-01],\n",
       "       [-9.64153280e-01, -9.21132128e-01, -9.56717974e-01],\n",
       "       [ 2.11201884e+00,  1.11762206e+00,  2.40926716e+00],\n",
       "       [ 1.16660622e+00,  1.67184650e+00,  1.25136828e+00],\n",
       "       [-9.23567385e-01, -9.40925858e-01, -9.29790092e-01],\n",
       "       [-8.44783000e-01, -9.21132128e-01, -6.60511281e-01],\n",
       "       [ 5.68561116e-01,  3.35769726e-01,  3.96136270e-02],\n",
       "       [-7.91066374e-01, -9.31028993e-01, -6.87439163e-01],\n",
       "       [ 1.78375057e+00,  1.25617817e+00,  1.25136828e+00],\n",
       "       [ 1.74197097e+00,  2.06772110e+00,  2.32848352e+00],\n",
       "       [ 2.54263415e-02, -1.98660984e-01, -1.75809422e-01],\n",
       "       [-8.92531112e-01, -8.51854073e-01, -1.09135738e+00],\n",
       "       [ 5.75723332e-01,  3.95150916e-01,  1.65528649e+00],\n",
       "       [-1.04687264e-01,  8.83481011e-02,  4.68480998e-03],\n",
       "       [-7.49286776e-01, -1.00030705e+00, -1.49527560e+00],\n",
       "       [-9.10436654e-01, -8.51854073e-01, -9.02862211e-01],\n",
       "       [-2.11280677e-02,  4.05047781e-01, -9.50257785e-02],\n",
       "       [ 1.42205862e+00,  1.58277471e+00,  1.33215192e+00],\n",
       "       [-3.91175936e-01, -7.03401098e-01, -7.95150687e-01],\n",
       "       [-5.02190296e-01, -7.03401098e-01, -7.68222806e-01],\n",
       "       [-1.29839006e+00, -1.03989451e+00, -1.06442950e+00],\n",
       "       [-8.32845972e-01, -9.21132128e-01, -3.64304589e-01],\n",
       "       [ 1.57007777e+00,  2.06772110e+00,  3.40559876e+00],\n",
       "       [ 1.11527700e+00,  5.83191351e-01,  3.96136270e-02],\n",
       "       [ 1.46503192e+00,  1.25617817e+00,  1.25136828e+00],\n",
       "       [-5.81328546e-02,  4.05047781e-01, -9.50257785e-02],\n",
       "       [ 1.99981077e+00,  1.09782833e+00,  9.82089465e-01],\n",
       "       [-8.56720028e-01, -8.22163478e-01, -9.02862211e-01],\n",
       "       [ 1.43518935e+00,  1.57287785e+00,  1.78992590e+00],\n",
       "       [ 1.49487449e+00,  1.12751893e+00,  9.82089465e-01],\n",
       "       [-1.56816690e+00, -1.13886316e+00, -1.38756407e+00],\n",
       "       [ 4.74258594e-01,  3.35769726e-01,  1.74253032e-01],\n",
       "       [ 2.37343975e+00,  2.61204867e+00,  3.27095936e+00],\n",
       "       [-1.20886235e+00, -9.31028993e-01, -1.54913136e+00],\n",
       "       [ 5.51849276e-01,  3.95150916e-01,  3.96136270e-02],\n",
       "       [-1.16111424e+00, -1.04979137e+00, -9.02862211e-01],\n",
       "       [-1.17901978e+00, -1.04979137e+00, -1.03750162e+00],\n",
       "       [-6.35885010e-01, -8.32060343e-01, -3.64304589e-01],\n",
       "       [ 1.11885811e+00,  1.57287785e+00,  5.78171249e-01],\n",
       "       [ 3.08333905e-01,  7.01953731e-01,  1.74253032e-01],\n",
       "       [ 2.12873068e+00,  2.06772110e+00,  1.78992590e+00],\n",
       "       [ 4.98132650e-01,  3.95150916e-01,  3.96136270e-02],\n",
       "       [ 1.69780396e+00,  2.06772110e+00,  1.92456530e+00],\n",
       "       [-1.16708276e+00, -1.00030705e+00, -1.49527560e+00],\n",
       "       [-8.77012976e-01, -7.72679153e-01, -2.29665184e-01],\n",
       "       [-3.85207422e-01, -7.82576018e-01, -4.18160352e-01],\n",
       "       [-3.92369639e-01,  4.05047781e-01, -9.50257785e-02],\n",
       "       [-1.05964950e+00, -9.21132128e-01, -5.52799757e-01],\n",
       "       [-9.24761088e-01, -9.31028993e-01, -6.87439163e-01],\n",
       "       [ 1.74555208e+00,  2.61204867e+00,  3.27095936e+00],\n",
       "       [-9.93995850e-01, -9.31028993e-01, -4.18160352e-01],\n",
       "       [-1.34494447e+00, -1.18834748e+00, -1.03750162e+00],\n",
       "       [ 1.35759867e+00,  1.57287785e+00,  1.92456530e+00],\n",
       "       [-1.20289384e+00, -9.90410183e-01, -9.02862211e-01],\n",
       "       [-6.80363414e-03, -7.03401098e-01, -4.18160352e-01],\n",
       "       [-1.22079938e+00, -9.31028993e-01, -6.87439163e-01],\n",
       "       [-4.15049992e-01, -7.13297963e-01, -9.50257785e-02],\n",
       "       [-1.51595537e-02, -6.93504233e-01, -9.83645855e-01],\n",
       "       [-9.53409955e-01, -9.21132128e-01, -6.33583400e-01],\n",
       "       [ 8.46693868e-01,  1.11762206e+00,  1.25136828e+00],\n",
       "       [ 1.02336188e+00, -2.28351579e-01,  4.43531843e-01],\n",
       "       [ 5.88500199e-02,  8.83481011e-02, -6.06655519e-01],\n",
       "       [-1.42014775e+00, -1.18834748e+00, -1.03750162e+00],\n",
       "       [ 7.24936182e-01,  1.09782833e+00,  9.55161584e-01],\n",
       "       [-3.91175936e-01, -3.96598283e-01, -5.25871876e-01],\n",
       "       [-3.49396338e-01, -3.96598283e-01, -3.64304589e-01],\n",
       "       [-6.82439419e-01, -8.22163478e-01, -2.83520946e-01],\n",
       "       [ 6.46151798e-01,  1.14731266e+00,  7.12810654e-01],\n",
       "       [ 5.99597388e-01,  3.35769726e-01, -4.98943995e-01],\n",
       "       [ 2.59904958e+00,  2.06772110e+00,  1.92456530e+00],\n",
       "       [-4.66379212e-01, -5.05463798e-01, -3.10448827e-01],\n",
       "       [-8.98499626e-01, -8.32060343e-01, -7.68222806e-01],\n",
       "       [ 3.19077230e-01, -4.95566933e-01, -6.33583400e-01],\n",
       "       [-4.03112964e-01, -7.03401098e-01, -6.60511281e-01],\n",
       "       [-7.01538664e-01, -8.61750938e-01, -2.29665184e-01],\n",
       "       [ 2.03562186e+00,  2.06772110e+00,  1.78992590e+00],\n",
       "       [-1.28561320e-01, -3.96598283e-01, -4.98943995e-01],\n",
       "       [-4.26987020e-01, -7.82576018e-01, -4.18160352e-01],\n",
       "       [-1.94214974e-01, -3.47113958e-01,  3.96136270e-02],\n",
       "       [-9.98770661e-01, -9.26080560e-01, -6.33583400e-01],\n",
       "       [-1.19095681e+00, -9.90410183e-01, -9.83645855e-01],\n",
       "       [ 5.64980007e-01,  1.25617817e+00,  1.25136828e+00],\n",
       "       [ 3.66825342e-01, -7.03401098e-01, -4.18160352e-01],\n",
       "       [-8.86562598e-01, -7.42988558e-01, -6.06655519e-01],\n",
       "       [-1.33420115e+00, -1.01020391e+00, -1.11828526e+00],\n",
       "       [-4.80703646e-01, -5.64844988e-01, -2.29665184e-01],\n",
       "       [-1.35807520e+00, -1.10917256e+00, -1.22599678e+00],\n",
       "       [ 7.96558350e-01,  3.35769726e-01, -9.50257785e-02],\n",
       "       [-1.16624292e-01, -5.05463798e-01, -3.10448827e-01],\n",
       "       [-6.95570150e-01, -9.21132128e-01, -1.03750162e+00],\n",
       "       [-1.38791777e+00, -9.90410183e-01, -1.17214102e+00],\n",
       "       [ 9.45771200e-01,  1.25617817e+00,  1.25136828e+00],\n",
       "       [ 1.39937826e+00,  1.25617817e+00,  1.25136828e+00],\n",
       "       [-8.16134133e-01, -9.31028993e-01, -4.18160352e-01],\n",
       "       [-6.29076658e-02, -2.28351579e-01,  7.66666417e-01],\n",
       "       [-6.62146472e-01, -5.05463798e-01, -8.49006449e-01],\n",
       "       [ 4.65902675e-01,  5.83191351e-01,  3.96136270e-02],\n",
       "       [-4.62798104e-01, -7.82576018e-01, -4.98943995e-01],\n",
       "       [ 1.33014350e+00,  1.25617817e+00,  1.25136828e+00],\n",
       "       [-1.13043183e-01, -6.93504233e-01,  2.28108795e-01],\n",
       "       [ 3.25885583e-02,  8.83481011e-02, -4.98943995e-01],\n",
       "       [-9.08049248e-01, -8.91441533e-01, -5.52799757e-01],\n",
       "       [ 1.88963625e-01,  3.35769726e-01,  3.96136270e-02],\n",
       "       [-1.30793969e+00, -1.21803808e+00, -1.46834771e+00],\n",
       "       [ 3.60856828e-01,  4.05047781e-01, -3.64304589e-01],\n",
       "       [ 4.81066947e-02, -3.96598283e-01, -3.64304589e-01],\n",
       "       [-8.05390808e-01, -9.31028993e-01, -3.10448827e-01],\n",
       "       [-5.39195083e-01, -6.93504233e-01, -7.41294925e-01],\n",
       "       [-1.16708276e+00, -9.90410183e-01, -9.56717974e-01],\n",
       "       [ 1.30388204e+00,  1.57287785e+00,  1.11672887e+00],\n",
       "       [-1.06561802e+00, -1.04979137e+00, -9.02862211e-01],\n",
       "       [ 3.36982772e-01,  3.95150916e-01,  3.08892438e-01],\n",
       "       [ 2.23581006e-01, -6.04432448e-01, -4.11700163e-02],\n",
       "       [-1.34613818e+00, -9.31028993e-01, -1.54913136e+00],\n",
       "       [ 2.07262664e+00,  1.57287785e+00,  1.25136828e+00],\n",
       "       [-1.00235177e+00, -7.42988558e-01, -3.64304589e-01],\n",
       "       [-1.16708276e+00, -9.31028993e-01, -9.83645855e-01],\n",
       "       [-1.14917721e+00, -1.10917256e+00, -9.83645855e-01],\n",
       "       [-3.20747471e-01, -7.52885423e-01, -2.29665184e-01],\n",
       "       [ 3.81149776e-01,  5.83191351e-01, -9.50257785e-02],\n",
       "       [ 6.77188070e-01, -7.98986037e-02, -7.14367044e-01],\n",
       "       [-5.22483244e-01, -5.54948123e-01, -5.25871876e-01],\n",
       "       [ 3.42951286e-01, -4.46082608e-01, -9.83645855e-01],\n",
       "       [-5.34420272e-01, -5.64844988e-01, -2.29665184e-01],\n",
       "       [-4.50861076e-01, -3.47113958e-01, -3.10448827e-01],\n",
       "       [-4.09081478e-01, -3.47113958e-01, -3.10448827e-01],\n",
       "       [ 2.74910227e-01,  6.62366271e-01, -2.29665184e-01],\n",
       "       [ 1.10930848e+00,  1.11762206e+00,  1.25136828e+00],\n",
       "       [-1.52435376e-01,  4.05047781e-01,  2.28108795e-01],\n",
       "       [ 9.15928630e-01,  6.62366271e-01,  1.74253032e-01],\n",
       "       [-2.65837142e-01, -3.96598283e-01, -4.18160352e-01],\n",
       "       [-4.48473670e-01,  8.83481011e-02, -4.98943995e-01],\n",
       "       [ 2.01891002e+00,  1.67184650e+00,  1.78992590e+00],\n",
       "       [ 1.04723594e+00,  1.12751893e+00,  7.12810654e-01],\n",
       "       [ 1.54501001e+00,  1.11762206e+00,  1.25136828e+00],\n",
       "       [-1.39388629e+00, -9.90410183e-01, -1.36063619e+00],\n",
       "       [ 2.35518034e-01, -4.55979473e-01, -7.41294925e-01],\n",
       "       [ 1.09498405e+00,  1.12751893e+00,  1.11672887e+00],\n",
       "       [-7.00698826e-02,  6.85543711e-02, -2.29665184e-01],\n",
       "       [-1.09426689e+00, -9.21132128e-01,  4.68480998e-03],\n",
       "       [-3.75657799e-01,  7.84512361e-02, -3.64304589e-01],\n",
       "       [ 9.72032662e-01,  1.25617817e+00,  1.25136828e+00],\n",
       "       [ 5.61398899e-01,  1.11762206e+00,  1.25136828e+00],\n",
       "       [-6.96763853e-01, -8.22163478e-01, -2.56593065e-01],\n",
       "       [ 6.71219556e-01,  5.83191351e-01, -1.48881541e-01],\n",
       "       [ 5.20813004e-01,  1.25617817e+00,  1.25136828e+00],\n",
       "       [ 1.35282386e+00,  1.25617817e+00,  1.25136828e+00],\n",
       "       [-1.22438049e+00, -1.00030705e+00, -9.02862211e-01],\n",
       "       [ 1.08304702e+00,  1.09782833e+00,  7.12810654e-01],\n",
       "       [ 1.99384226e+00,  2.35473018e+00,  2.81318538e+00],\n",
       "       [ 1.66283272e-01,  6.85543711e-02, -2.29665184e-01],\n",
       "       [-8.03003402e-01, -8.32060343e-01, -8.49006449e-01],\n",
       "       [-1.22438049e+00, -1.00030705e+00, -9.02862211e-01],\n",
       "       [-6.88761798e-02, -5.05463798e-01,  4.68480998e-03],\n",
       "       [-5.52325814e-01, -6.83607368e-01, -4.18160352e-01],\n",
       "       [ 5.33943734e-01, -2.77835904e-01,  7.93594298e-01],\n",
       "       [-3.00454523e-01, -5.64844988e-01, -3.64304589e-01],\n",
       "       [ 1.35521126e+00,  1.14731266e+00,  7.12810654e-01],\n",
       "       [ 8.46693868e-01,  1.11762206e+00,  1.25136828e+00],\n",
       "       [-1.02980693e+00, -9.31028993e-01, -4.18160352e-01],\n",
       "       [-3.90336098e-02, -3.47113958e-01,  1.20397270e-01],\n",
       "       [ 1.30268834e+00,  1.58277471e+00,  1.03594523e+00],\n",
       "       [ 1.50084300e+00,  2.06772110e+00,  2.05920471e+00],\n",
       "       [-1.51595537e-02, -3.96598283e-01, -3.64304589e-01],\n",
       "       [ 1.76345762e+00,  1.57287785e+00,  1.11672887e+00],\n",
       "       [ 1.22390395e+00,  1.57287785e+00,  1.11672887e+00],\n",
       "       [ 6.83156584e-01,  3.95150916e-01,  3.96136270e-02],\n",
       "       [-4.32955534e-01, -6.93504233e-01,  1.74253032e-01],\n",
       "       [-1.01786991e+00, -1.03989451e+00, -1.03750162e+00],\n",
       "       [-6.77664608e-01, -6.83607368e-01, -4.72016114e-01],\n",
       "       [-9.45054035e-01, -9.31028993e-01, -7.68222806e-01],\n",
       "       [-2.06152002e-01, -5.05463798e-01, -4.72016114e-01],\n",
       "       [-8.79400381e-01, -6.83607368e-01, -4.72016114e-01],\n",
       "       [ 1.97235561e+00,  1.67184650e+00,  3.00168055e+00],\n",
       "       [-1.35807520e+00, -9.31028993e-01, -8.75934330e-01],\n",
       "       [ 1.03529891e+00,  1.25617817e+00,  8.47450060e-01],\n",
       "       [ 1.56530295e+00,  1.57287785e+00,  1.65528649e+00],\n",
       "       [-9.99964364e-01, -8.51854073e-01, -1.09135738e+00],\n",
       "       [ 7.71490592e-01,  1.47390920e+00,  1.52064709e+00],\n",
       "       [ 7.66715780e-01,  7.51438055e-01,  5.78171249e-01],\n",
       "       [-7.67192318e-01, -9.01338398e-01,  4.68480998e-03],\n",
       "       [-7.91066374e-01, -6.83607368e-01, -2.02737303e-01],\n",
       "       [-1.09546059e+00, -9.21132128e-01, -9.56717974e-01],\n",
       "       [-9.64153280e-01, -9.31028993e-01, -7.68222806e-01]])"
      ]
     },
     "execution_count": 22,
     "metadata": {},
     "output_type": "execute_result"
    }
   ],
   "source": [
    "# scikit-learnのpreprocessingモジュールを使用して、データを標準化させる\n",
    "from sklearn.preprocessing import StandardScaler\n",
    "\n",
    "sc_model_x = StandardScaler()\n",
    "# 各列の平均値や標準偏差を調べて、sc_model_xに格納している\n",
    "sc_model_x.fit(x_train)\n",
    "\n",
    "# 各列のデータを標準化してsc_xに代入\n",
    "sc_x = sc_model_x.transform(x_train)\n",
    "sc_x"
   ]
  },
  {
   "cell_type": "markdown",
   "metadata": {
    "id": "ioFPUVsZPi9T"
   },
   "source": [
    "【標準化されているか確認】"
   ]
  },
  {
   "cell_type": "code",
   "execution_count": 23,
   "metadata": {
    "colab": {
     "base_uri": "https://localhost:8080/"
    },
    "executionInfo": {
     "elapsed": 334,
     "status": "ok",
     "timestamp": 1646989956130,
     "user": {
      "displayName": "trip bad",
      "photoUrl": "https://lh3.googleusercontent.com/a/default-user=s64",
      "userId": "13313197196674665217"
     },
     "user_tz": -540
    },
    "id": "3ioX8CKpPS1s",
    "outputId": "0bfca8f7-8a0e-4ab4-ebb8-5f0027a03468"
   },
   "outputs": [
    {
     "data": {
      "text/plain": [
       "Weight          1.799176e-17\n",
       "Displacement   -1.158494e-16\n",
       "Horsepower      2.031752e-16\n",
       "dtype: float64"
      ]
     },
     "execution_count": 23,
     "metadata": {},
     "output_type": "execute_result"
    }
   ],
   "source": [
    "# 平均値0を確認する\n",
    "# arry型だと見づらいのでデータフレームに変換\n",
    "tmp_df = pd.DataFrame(sc_x, columns = x_train.columns)\n",
    "\n",
    "# 平均値の計算(厳密な0にはならないが、限りなく0に近い値(e-16やe-17)であればOK)\n",
    "tmp_df.mean()"
   ]
  },
  {
   "cell_type": "code",
   "execution_count": 24,
   "metadata": {
    "colab": {
     "base_uri": "https://localhost:8080/"
    },
    "executionInfo": {
     "elapsed": 43,
     "status": "ok",
     "timestamp": 1646989956131,
     "user": {
      "displayName": "trip bad",
      "photoUrl": "https://lh3.googleusercontent.com/a/default-user=s64",
      "userId": "13313197196674665217"
     },
     "user_tz": -540
    },
    "id": "rToG3KGNWA6P",
    "outputId": "d96929fb-ef6d-4486-960f-6264f24efe1b"
   },
   "outputs": [
    {
     "data": {
      "text/plain": [
       "Weight          1.001982\n",
       "Displacement    1.001982\n",
       "Horsepower      1.001982\n",
       "dtype: float64"
      ]
     },
     "execution_count": 24,
     "metadata": {},
     "output_type": "execute_result"
    }
   ],
   "source": [
    "# 標準偏差1を確認する\n",
    "tmp_df.std()"
   ]
  },
  {
   "cell_type": "markdown",
   "metadata": {
    "id": "G_JZ10-yWURx"
   },
   "source": [
    "【正解データの標準化】\n",
    "\n",
    "　一般的には特徴量と併せて、正解データも標準化します。"
   ]
  },
  {
   "cell_type": "code",
   "execution_count": 25,
   "metadata": {
    "executionInfo": {
     "elapsed": 42,
     "status": "ok",
     "timestamp": 1646989956131,
     "user": {
      "displayName": "trip bad",
      "photoUrl": "https://lh3.googleusercontent.com/a/default-user=s64",
      "userId": "13313197196674665217"
     },
     "user_tz": -540
    },
    "id": "M_iq6jt0WRkn"
   },
   "outputs": [],
   "source": [
    "# 正解データの標準化\n",
    "sc_model_y = StandardScaler()\n",
    "sc_model_y.fit(y_train)\n",
    "\n",
    "sc_y = sc_model_y.transform(y_train)\n",
    "# 結果の出力は割愛"
   ]
  },
  {
   "cell_type": "markdown",
   "metadata": {
    "id": "C-R-1cKiWtVY"
   },
   "source": [
    "モデルの評価とチューニング\n",
    "\n"
   ]
  },
  {
   "cell_type": "code",
   "execution_count": 26,
   "metadata": {
    "colab": {
     "base_uri": "https://localhost:8080/"
    },
    "executionInfo": {
     "elapsed": 42,
     "status": "ok",
     "timestamp": 1646989956132,
     "user": {
      "displayName": "trip bad",
      "photoUrl": "https://lh3.googleusercontent.com/a/default-user=s64",
      "userId": "13313197196674665217"
     },
     "user_tz": -540
    },
    "id": "s_aT9AXfWoJy",
    "outputId": "b5cb64ca-c47e-4cfa-d976-29cb100465ff"
   },
   "outputs": [
    {
     "name": "stderr",
     "output_type": "stream",
     "text": [
      "/usr/local/lib/python3.7/dist-packages/sklearn/base.py:444: UserWarning: X has feature names, but LinearRegression was fitted without feature names\n",
      "  f\"X has feature names, but {self.__class__.__name__} was fitted without\"\n"
     ]
    },
    {
     "data": {
      "text/plain": [
       "-34905.89196917619"
      ]
     },
     "execution_count": 26,
     "metadata": {},
     "output_type": "execute_result"
    }
   ],
   "source": [
    "# 標準化したデータで学習を行う\n",
    "model = LinearRegression()\n",
    "model.fit(sc_x, sc_y)\n",
    "\n",
    "\n",
    "# 標準化データを使用した場合の注意点\n",
    "model.score(x_val, y_val)"
   ]
  },
  {
   "cell_type": "markdown",
   "metadata": {
    "id": "IclHYD5-Ym5x"
   },
   "source": [
    "決定係数がマイナスに振り切っています。\n",
    "\n",
    "これは、標準化した時は、検証データも標準化する必要がある為です。"
   ]
  },
  {
   "cell_type": "code",
   "execution_count": 27,
   "metadata": {
    "colab": {
     "base_uri": "https://localhost:8080/"
    },
    "executionInfo": {
     "elapsed": 38,
     "status": "ok",
     "timestamp": 1646989956132,
     "user": {
      "displayName": "trip bad",
      "photoUrl": "https://lh3.googleusercontent.com/a/default-user=s64",
      "userId": "13313197196674665217"
     },
     "user_tz": -540
    },
    "id": "ruoJi4DEXHWg",
    "outputId": "09c61623-b658-410d-f158-c1c0c47956fe"
   },
   "outputs": [
    {
     "data": {
      "text/plain": [
       "0.684668987490802"
      ]
     },
     "execution_count": 27,
     "metadata": {},
     "output_type": "execute_result"
    }
   ],
   "source": [
    "# 検証データを標準化する\n",
    "sc_x_val = sc_model_x.transform(x_val)\n",
    "sc_y_val = sc_model_y.transform(y_val)\n",
    "\n",
    "# 標準化した検証データで決定係数を計算\n",
    "model.score(sc_x_val, sc_y_val)"
   ]
  },
  {
   "cell_type": "markdown",
   "metadata": {
    "id": "hYSGCyHcZP5r"
   },
   "source": [
    "正しく決定係数が出力されました。"
   ]
  },
  {
   "cell_type": "markdown",
   "metadata": {
    "id": "wdXRqpp-ZT3N"
   },
   "source": [
    "チューニングの目標と準備\n",
    "\n",
    "この後色々なパターンでテストをしていくので、チューニングを楽にするために専用の関数を用意しましょう。"
   ]
  },
  {
   "cell_type": "code",
   "execution_count": 28,
   "metadata": {
    "executionInfo": {
     "elapsed": 37,
     "status": "ok",
     "timestamp": 1646989956133,
     "user": {
      "displayName": "trip bad",
      "photoUrl": "https://lh3.googleusercontent.com/a/default-user=s64",
      "userId": "13313197196674665217"
     },
     "user_tz": -540
    },
    "id": "9NuSuadwY_Ms"
   },
   "outputs": [],
   "source": [
    "# learn関数の定義\n",
    "def learn(x, t):\n",
    "  x_train, x_val, y_train, y_val = train_test_split(x, t, test_size = 0.2, random_state = 0)\n",
    "  # 訓練データを標準化\n",
    "  sc_model_x = StandardScaler()\n",
    "  sc_model_y = StandardScaler()\n",
    "  sc_model_x.fit(x_train)\n",
    "  sc_x_train = sc_model_x.transform(x_train)\n",
    "  sc_model_y.fit(y_train)\n",
    "  sc_y_train = sc_model_y.transform(y_train)\n",
    "  # 学習\n",
    "  model = LinearRegression()\n",
    "  model.fit(sc_x_train, sc_y_train)\n",
    "\n",
    "  # 検証データを標準化\n",
    "  sc_x_val = sc_model_x.transform(x_val)\n",
    "  sc_y_val = sc_model_y.transform(y_val)\n",
    "  # 訓練データと検証データの決定係数検索\n",
    "  train_score = model.score(sc_x_train, sc_y_train)\n",
    "  val_score = model.score(sc_x_val, sc_y_val)\n",
    "\n",
    "  return train_score, val_score"
   ]
  },
  {
   "cell_type": "markdown",
   "metadata": {
    "id": "BUC8ZkQEZ0mE"
   },
   "source": [
    "learn関数のテスト"
   ]
  },
  {
   "cell_type": "code",
   "execution_count": 29,
   "metadata": {
    "colab": {
     "base_uri": "https://localhost:8080/"
    },
    "executionInfo": {
     "elapsed": 37,
     "status": "ok",
     "timestamp": 1646989956134,
     "user": {
      "displayName": "trip bad",
      "photoUrl": "https://lh3.googleusercontent.com/a/default-user=s64",
      "userId": "13313197196674665217"
     },
     "user_tz": -540
    },
    "id": "Z3U32fPhZ2_1",
    "outputId": "61bec1d0-ad1e-4d03-dfe7-7a236f87a42b"
   },
   "outputs": [
    {
     "name": "stdout",
     "output_type": "stream",
     "text": [
      "0.7144606277778914 0.684668987490802\n"
     ]
    }
   ],
   "source": [
    "x = train_val3.loc[ :,['Weight', 'Displacement', 'Horsepower']]\n",
    "t = train_val3[['MPG']]\n",
    "\n",
    "s1, s2 = learn(x, t)\n",
    "print(s1, s2)"
   ]
  },
  {
   "cell_type": "markdown",
   "metadata": {
    "id": "zraHeWsZe6Rq"
   },
   "source": [
    "特徴量エンジニアリング\n",
    "\n",
    "　準備されたデータをもとに新しい列を作成して、特徴量に加える事を、特徴量エンジニアリングといいます。\n",
    "\n",
    "　特徴量エンジニアリングを行う事で、スコアがどう変化していくのかを確認していきましょう。"
   ]
  },
  {
   "cell_type": "markdown",
   "metadata": {
    "id": "zatEpv4hgP_V"
   },
   "source": [
    "多項式特徴量\n",
    "\n",
    "　元のデータの列に対して2乗した値の列や、3乗した値の列を生成して、特徴量に加える方法。"
   ]
  },
  {
   "cell_type": "code",
   "execution_count": 30,
   "metadata": {
    "colab": {
     "base_uri": "https://localhost:8080/",
     "height": 112
    },
    "executionInfo": {
     "elapsed": 35,
     "status": "ok",
     "timestamp": 1646989956134,
     "user": {
      "displayName": "trip bad",
      "photoUrl": "https://lh3.googleusercontent.com/a/default-user=s64",
      "userId": "13313197196674665217"
     },
     "user_tz": -540
    },
    "id": "h3-ws-LPe2fZ",
    "outputId": "88d9ac66-6f87-4497-8080-f54078078eb3"
   },
   "outputs": [
    {
     "data": {
      "text/html": [
       "\n",
       "  <div id=\"df-3f8560b6-10f6-403a-a6f8-9a9ac4f911e3\">\n",
       "    <div class=\"colab-df-container\">\n",
       "      <div>\n",
       "<style scoped>\n",
       "    .dataframe tbody tr th:only-of-type {\n",
       "        vertical-align: middle;\n",
       "    }\n",
       "\n",
       "    .dataframe tbody tr th {\n",
       "        vertical-align: top;\n",
       "    }\n",
       "\n",
       "    .dataframe thead th {\n",
       "        text-align: right;\n",
       "    }\n",
       "</style>\n",
       "<table border=\"1\" class=\"dataframe\">\n",
       "  <thead>\n",
       "    <tr style=\"text-align: right;\">\n",
       "      <th></th>\n",
       "      <th>Weight</th>\n",
       "      <th>Displacement</th>\n",
       "      <th>Horsepower</th>\n",
       "      <th>Weight2</th>\n",
       "    </tr>\n",
       "  </thead>\n",
       "  <tbody>\n",
       "    <tr>\n",
       "      <th>64</th>\n",
       "      <td>4135</td>\n",
       "      <td>318.0</td>\n",
       "      <td>150.0</td>\n",
       "      <td>17098225</td>\n",
       "    </tr>\n",
       "    <tr>\n",
       "      <th>55</th>\n",
       "      <td>1834</td>\n",
       "      <td>97.0</td>\n",
       "      <td>60.0</td>\n",
       "      <td>3363556</td>\n",
       "    </tr>\n",
       "  </tbody>\n",
       "</table>\n",
       "</div>\n",
       "      <button class=\"colab-df-convert\" onclick=\"convertToInteractive('df-3f8560b6-10f6-403a-a6f8-9a9ac4f911e3')\"\n",
       "              title=\"Convert this dataframe to an interactive table.\"\n",
       "              style=\"display:none;\">\n",
       "        \n",
       "  <svg xmlns=\"http://www.w3.org/2000/svg\" height=\"24px\"viewBox=\"0 0 24 24\"\n",
       "       width=\"24px\">\n",
       "    <path d=\"M0 0h24v24H0V0z\" fill=\"none\"/>\n",
       "    <path d=\"M18.56 5.44l.94 2.06.94-2.06 2.06-.94-2.06-.94-.94-2.06-.94 2.06-2.06.94zm-11 1L8.5 8.5l.94-2.06 2.06-.94-2.06-.94L8.5 2.5l-.94 2.06-2.06.94zm10 10l.94 2.06.94-2.06 2.06-.94-2.06-.94-.94-2.06-.94 2.06-2.06.94z\"/><path d=\"M17.41 7.96l-1.37-1.37c-.4-.4-.92-.59-1.43-.59-.52 0-1.04.2-1.43.59L10.3 9.45l-7.72 7.72c-.78.78-.78 2.05 0 2.83L4 21.41c.39.39.9.59 1.41.59.51 0 1.02-.2 1.41-.59l7.78-7.78 2.81-2.81c.8-.78.8-2.07 0-2.86zM5.41 20L4 18.59l7.72-7.72 1.47 1.35L5.41 20z\"/>\n",
       "  </svg>\n",
       "      </button>\n",
       "      \n",
       "  <style>\n",
       "    .colab-df-container {\n",
       "      display:flex;\n",
       "      flex-wrap:wrap;\n",
       "      gap: 12px;\n",
       "    }\n",
       "\n",
       "    .colab-df-convert {\n",
       "      background-color: #E8F0FE;\n",
       "      border: none;\n",
       "      border-radius: 50%;\n",
       "      cursor: pointer;\n",
       "      display: none;\n",
       "      fill: #1967D2;\n",
       "      height: 32px;\n",
       "      padding: 0 0 0 0;\n",
       "      width: 32px;\n",
       "    }\n",
       "\n",
       "    .colab-df-convert:hover {\n",
       "      background-color: #E2EBFA;\n",
       "      box-shadow: 0px 1px 2px rgba(60, 64, 67, 0.3), 0px 1px 3px 1px rgba(60, 64, 67, 0.15);\n",
       "      fill: #174EA6;\n",
       "    }\n",
       "\n",
       "    [theme=dark] .colab-df-convert {\n",
       "      background-color: #3B4455;\n",
       "      fill: #D2E3FC;\n",
       "    }\n",
       "\n",
       "    [theme=dark] .colab-df-convert:hover {\n",
       "      background-color: #434B5C;\n",
       "      box-shadow: 0px 1px 3px 1px rgba(0, 0, 0, 0.15);\n",
       "      filter: drop-shadow(0px 1px 2px rgba(0, 0, 0, 0.3));\n",
       "      fill: #FFFFFF;\n",
       "    }\n",
       "  </style>\n",
       "\n",
       "      <script>\n",
       "        const buttonEl =\n",
       "          document.querySelector('#df-3f8560b6-10f6-403a-a6f8-9a9ac4f911e3 button.colab-df-convert');\n",
       "        buttonEl.style.display =\n",
       "          google.colab.kernel.accessAllowed ? 'block' : 'none';\n",
       "\n",
       "        async function convertToInteractive(key) {\n",
       "          const element = document.querySelector('#df-3f8560b6-10f6-403a-a6f8-9a9ac4f911e3');\n",
       "          const dataTable =\n",
       "            await google.colab.kernel.invokeFunction('convertToInteractive',\n",
       "                                                     [key], {});\n",
       "          if (!dataTable) return;\n",
       "\n",
       "          const docLinkHtml = 'Like what you see? Visit the ' +\n",
       "            '<a target=\"_blank\" href=https://colab.research.google.com/notebooks/data_table.ipynb>data table notebook</a>'\n",
       "            + ' to learn more about interactive tables.';\n",
       "          element.innerHTML = '';\n",
       "          dataTable['output_type'] = 'display_data';\n",
       "          await google.colab.output.renderOutput(dataTable, element);\n",
       "          const docLink = document.createElement('div');\n",
       "          docLink.innerHTML = docLinkHtml;\n",
       "          element.appendChild(docLink);\n",
       "        }\n",
       "      </script>\n",
       "    </div>\n",
       "  </div>\n",
       "  "
      ],
      "text/plain": [
       "    Weight  Displacement  Horsepower   Weight2\n",
       "64    4135         318.0       150.0  17098225\n",
       "55    1834          97.0        60.0   3363556"
      ]
     },
     "execution_count": 30,
     "metadata": {},
     "output_type": "execute_result"
    }
   ],
   "source": [
    "# 関係係数が最も高いWeight列を2乗して変化を確認する\n",
    "\n",
    "# 新規列Weight2にWeightの2乗を代入\n",
    "x['Weight2'] = x['Weight'] ** 2\n",
    "x.head(2)\n"
   ]
  },
  {
   "cell_type": "markdown",
   "metadata": {
    "id": "tkncOPLguXPe"
   },
   "source": [
    "再学習をして決定係数を確認します。"
   ]
  },
  {
   "cell_type": "code",
   "execution_count": 31,
   "metadata": {
    "colab": {
     "base_uri": "https://localhost:8080/"
    },
    "executionInfo": {
     "elapsed": 35,
     "status": "ok",
     "timestamp": 1646989956135,
     "user": {
      "displayName": "trip bad",
      "photoUrl": "https://lh3.googleusercontent.com/a/default-user=s64",
      "userId": "13313197196674665217"
     },
     "user_tz": -540
    },
    "id": "ai0lUSwLuLo9",
    "outputId": "92bd60b1-db0b-4eb6-ec7b-f83413f9ff14"
   },
   "outputs": [
    {
     "name": "stdout",
     "output_type": "stream",
     "text": [
      "0.7379970874651185 0.7272442049922678\n"
     ]
    }
   ],
   "source": [
    "s1, s2 = learn(x, t)\n",
    "print(s1, s2)"
   ]
  },
  {
   "cell_type": "markdown",
   "metadata": {
    "id": "MannYHzgueFF"
   },
   "source": [
    "決定係数が上がりました。\n",
    "更に、Displacement列とHorsepower列も2乗してみましょう。"
   ]
  },
  {
   "cell_type": "code",
   "execution_count": 32,
   "metadata": {
    "colab": {
     "base_uri": "https://localhost:8080/"
    },
    "executionInfo": {
     "elapsed": 33,
     "status": "ok",
     "timestamp": 1646989956135,
     "user": {
      "displayName": "trip bad",
      "photoUrl": "https://lh3.googleusercontent.com/a/default-user=s64",
      "userId": "13313197196674665217"
     },
     "user_tz": -540
    },
    "id": "Jsa9DTDcucJl",
    "outputId": "39b914c0-4815-4bc3-a746-5444789b2931"
   },
   "outputs": [
    {
     "name": "stdout",
     "output_type": "stream",
     "text": [
      "0.7622085359799569 0.709289479971016\n",
      "0.7656937654268144 0.7271447642740612\n"
     ]
    }
   ],
   "source": [
    "# Displacement列の2乗を追加\n",
    "x['Displacement2'] = x['Displacement'] ** 2\n",
    "s1, s2 = learn(x, t)\n",
    "print(s1, s2)\n",
    "\n",
    "# Horsepower列の2乗を追加\n",
    "x['Horsepower2'] = x['Horsepower'] ** 2\n",
    "s1, s2 = learn(x, t)\n",
    "print(s1, s2)"
   ]
  },
  {
   "cell_type": "markdown",
   "metadata": {
    "id": "zbQi6-qdvFK0"
   },
   "source": [
    "あまり変化がありません。\n",
    "こういう時は、3乗や4乗も試してみましょう。"
   ]
  },
  {
   "cell_type": "code",
   "execution_count": 33,
   "metadata": {
    "colab": {
     "base_uri": "https://localhost:8080/"
    },
    "executionInfo": {
     "elapsed": 32,
     "status": "ok",
     "timestamp": 1646989956137,
     "user": {
      "displayName": "trip bad",
      "photoUrl": "https://lh3.googleusercontent.com/a/default-user=s64",
      "userId": "13313197196674665217"
     },
     "user_tz": -540
    },
    "id": "1Wn6MJxwvBAd",
    "outputId": "b881b8d2-f4d3-4a74-be4a-7bdb0f0a300c"
   },
   "outputs": [
    {
     "name": "stdout",
     "output_type": "stream",
     "text": [
      "0.7664986991127657 0.7256425918795737\n",
      "0.7680924223506955 0.7418654240012732\n"
     ]
    }
   ],
   "source": [
    "# Displacement列の3乗を追加\n",
    "x['Displacement3'] = x['Displacement'] ** 3\n",
    "s1, s2 = learn(x, t)\n",
    "print(s1, s2)\n",
    "\n",
    "# Horsepower列の4乗を追加\n",
    "x['Horsepower4'] = x['Horsepower'] ** 4\n",
    "s1, s2 = learn(x, t)\n",
    "print(s1, s2)"
   ]
  },
  {
   "cell_type": "markdown",
   "metadata": {
    "id": "FUir0LFbvRjG"
   },
   "source": [
    "大きな変化は見られませんが、少しだけ上がりました。"
   ]
  },
  {
   "cell_type": "markdown",
   "metadata": {
    "id": "v86f4i4MvUwQ"
   },
   "source": [
    "交互作用特徴量\n",
    "\n",
    "　特徴量同士を組み合わせて新しい特徴量を作る手法"
   ]
  },
  {
   "cell_type": "code",
   "execution_count": 34,
   "metadata": {
    "colab": {
     "base_uri": "https://localhost:8080/",
     "height": 112
    },
    "executionInfo": {
     "elapsed": 31,
     "status": "ok",
     "timestamp": 1646989956138,
     "user": {
      "displayName": "trip bad",
      "photoUrl": "https://lh3.googleusercontent.com/a/default-user=s64",
      "userId": "13313197196674665217"
     },
     "user_tz": -540
    },
    "id": "tyBDWs83vO_K",
    "outputId": "ce320896-b5f9-4c4d-cdd9-06f76f1ee71b"
   },
   "outputs": [
    {
     "data": {
      "text/html": [
       "\n",
       "  <div id=\"df-a5581b2e-c348-4d5a-bebe-f71f4e45b0ce\">\n",
       "    <div class=\"colab-df-container\">\n",
       "      <div>\n",
       "<style scoped>\n",
       "    .dataframe tbody tr th:only-of-type {\n",
       "        vertical-align: middle;\n",
       "    }\n",
       "\n",
       "    .dataframe tbody tr th {\n",
       "        vertical-align: top;\n",
       "    }\n",
       "\n",
       "    .dataframe thead th {\n",
       "        text-align: right;\n",
       "    }\n",
       "</style>\n",
       "<table border=\"1\" class=\"dataframe\">\n",
       "  <thead>\n",
       "    <tr style=\"text-align: right;\">\n",
       "      <th></th>\n",
       "      <th>Weight</th>\n",
       "      <th>Displacement</th>\n",
       "      <th>Horsepower</th>\n",
       "      <th>Weight * Displacement</th>\n",
       "    </tr>\n",
       "  </thead>\n",
       "  <tbody>\n",
       "    <tr>\n",
       "      <th>64</th>\n",
       "      <td>4135</td>\n",
       "      <td>318.0</td>\n",
       "      <td>150.0</td>\n",
       "      <td>1314930.0</td>\n",
       "    </tr>\n",
       "    <tr>\n",
       "      <th>55</th>\n",
       "      <td>1834</td>\n",
       "      <td>97.0</td>\n",
       "      <td>60.0</td>\n",
       "      <td>177898.0</td>\n",
       "    </tr>\n",
       "  </tbody>\n",
       "</table>\n",
       "</div>\n",
       "      <button class=\"colab-df-convert\" onclick=\"convertToInteractive('df-a5581b2e-c348-4d5a-bebe-f71f4e45b0ce')\"\n",
       "              title=\"Convert this dataframe to an interactive table.\"\n",
       "              style=\"display:none;\">\n",
       "        \n",
       "  <svg xmlns=\"http://www.w3.org/2000/svg\" height=\"24px\"viewBox=\"0 0 24 24\"\n",
       "       width=\"24px\">\n",
       "    <path d=\"M0 0h24v24H0V0z\" fill=\"none\"/>\n",
       "    <path d=\"M18.56 5.44l.94 2.06.94-2.06 2.06-.94-2.06-.94-.94-2.06-.94 2.06-2.06.94zm-11 1L8.5 8.5l.94-2.06 2.06-.94-2.06-.94L8.5 2.5l-.94 2.06-2.06.94zm10 10l.94 2.06.94-2.06 2.06-.94-2.06-.94-.94-2.06-.94 2.06-2.06.94z\"/><path d=\"M17.41 7.96l-1.37-1.37c-.4-.4-.92-.59-1.43-.59-.52 0-1.04.2-1.43.59L10.3 9.45l-7.72 7.72c-.78.78-.78 2.05 0 2.83L4 21.41c.39.39.9.59 1.41.59.51 0 1.02-.2 1.41-.59l7.78-7.78 2.81-2.81c.8-.78.8-2.07 0-2.86zM5.41 20L4 18.59l7.72-7.72 1.47 1.35L5.41 20z\"/>\n",
       "  </svg>\n",
       "      </button>\n",
       "      \n",
       "  <style>\n",
       "    .colab-df-container {\n",
       "      display:flex;\n",
       "      flex-wrap:wrap;\n",
       "      gap: 12px;\n",
       "    }\n",
       "\n",
       "    .colab-df-convert {\n",
       "      background-color: #E8F0FE;\n",
       "      border: none;\n",
       "      border-radius: 50%;\n",
       "      cursor: pointer;\n",
       "      display: none;\n",
       "      fill: #1967D2;\n",
       "      height: 32px;\n",
       "      padding: 0 0 0 0;\n",
       "      width: 32px;\n",
       "    }\n",
       "\n",
       "    .colab-df-convert:hover {\n",
       "      background-color: #E2EBFA;\n",
       "      box-shadow: 0px 1px 2px rgba(60, 64, 67, 0.3), 0px 1px 3px 1px rgba(60, 64, 67, 0.15);\n",
       "      fill: #174EA6;\n",
       "    }\n",
       "\n",
       "    [theme=dark] .colab-df-convert {\n",
       "      background-color: #3B4455;\n",
       "      fill: #D2E3FC;\n",
       "    }\n",
       "\n",
       "    [theme=dark] .colab-df-convert:hover {\n",
       "      background-color: #434B5C;\n",
       "      box-shadow: 0px 1px 3px 1px rgba(0, 0, 0, 0.15);\n",
       "      filter: drop-shadow(0px 1px 2px rgba(0, 0, 0, 0.3));\n",
       "      fill: #FFFFFF;\n",
       "    }\n",
       "  </style>\n",
       "\n",
       "      <script>\n",
       "        const buttonEl =\n",
       "          document.querySelector('#df-a5581b2e-c348-4d5a-bebe-f71f4e45b0ce button.colab-df-convert');\n",
       "        buttonEl.style.display =\n",
       "          google.colab.kernel.accessAllowed ? 'block' : 'none';\n",
       "\n",
       "        async function convertToInteractive(key) {\n",
       "          const element = document.querySelector('#df-a5581b2e-c348-4d5a-bebe-f71f4e45b0ce');\n",
       "          const dataTable =\n",
       "            await google.colab.kernel.invokeFunction('convertToInteractive',\n",
       "                                                     [key], {});\n",
       "          if (!dataTable) return;\n",
       "\n",
       "          const docLinkHtml = 'Like what you see? Visit the ' +\n",
       "            '<a target=\"_blank\" href=https://colab.research.google.com/notebooks/data_table.ipynb>data table notebook</a>'\n",
       "            + ' to learn more about interactive tables.';\n",
       "          element.innerHTML = '';\n",
       "          dataTable['output_type'] = 'display_data';\n",
       "          await google.colab.output.renderOutput(dataTable, element);\n",
       "          const docLink = document.createElement('div');\n",
       "          docLink.innerHTML = docLinkHtml;\n",
       "          element.appendChild(docLink);\n",
       "        }\n",
       "      </script>\n",
       "    </div>\n",
       "  </div>\n",
       "  "
      ],
      "text/plain": [
       "    Weight  Displacement  Horsepower  Weight * Displacement\n",
       "64    4135         318.0       150.0              1314930.0\n",
       "55    1834          97.0        60.0               177898.0"
      ]
     },
     "execution_count": 34,
     "metadata": {},
     "output_type": "execute_result"
    }
   ],
   "source": [
    "# データ比較の為、一度xを初期化\n",
    "x = train_val3.loc[ :,['Weight', 'Displacement', 'Horsepower']]\n",
    "\n",
    "# 交互作用特徴量を追加する\n",
    "x['Weight * Displacement'] = x['Weight'] * x['Displacement']\n",
    "x.head(2)"
   ]
  },
  {
   "cell_type": "code",
   "execution_count": 35,
   "metadata": {
    "colab": {
     "base_uri": "https://localhost:8080/"
    },
    "executionInfo": {
     "elapsed": 31,
     "status": "ok",
     "timestamp": 1646989956139,
     "user": {
      "displayName": "trip bad",
      "photoUrl": "https://lh3.googleusercontent.com/a/default-user=s64",
      "userId": "13313197196674665217"
     },
     "user_tz": -540
    },
    "id": "d0u-g81XwVyw",
    "outputId": "96bf1de5-1356-4eed-ff6a-f466d2a6a31f"
   },
   "outputs": [
    {
     "name": "stdout",
     "output_type": "stream",
     "text": [
      "0.7531069697175834 0.715975419334083\n"
     ]
    }
   ],
   "source": [
    "s1, s2 = learn(x, t)\n",
    "print(s1, s2)"
   ]
  },
  {
   "cell_type": "markdown",
   "metadata": {
    "id": "sQy14ZRvxfy3"
   },
   "source": [
    "他の列も組み合わせてみます。"
   ]
  },
  {
   "cell_type": "code",
   "execution_count": 36,
   "metadata": {
    "colab": {
     "base_uri": "https://localhost:8080/"
    },
    "executionInfo": {
     "elapsed": 30,
     "status": "ok",
     "timestamp": 1646989956140,
     "user": {
      "displayName": "trip bad",
      "photoUrl": "https://lh3.googleusercontent.com/a/default-user=s64",
      "userId": "13313197196674665217"
     },
     "user_tz": -540
    },
    "id": "VxchQlY5waaq",
    "outputId": "b96a54ce-1d91-458d-d974-f41394088094"
   },
   "outputs": [
    {
     "name": "stdout",
     "output_type": "stream",
     "text": [
      "0.7535224093252028 0.7255285448622442\n"
     ]
    }
   ],
   "source": [
    "x['Weight * Horsepower'] = x['Weight'] * x['Horsepower']\n",
    "\n",
    "s1, s2 = learn(x, t)\n",
    "print(s1, s2)"
   ]
  },
  {
   "cell_type": "code",
   "execution_count": 37,
   "metadata": {
    "colab": {
     "base_uri": "https://localhost:8080/"
    },
    "executionInfo": {
     "elapsed": 29,
     "status": "ok",
     "timestamp": 1646989956141,
     "user": {
      "displayName": "trip bad",
      "photoUrl": "https://lh3.googleusercontent.com/a/default-user=s64",
      "userId": "13313197196674665217"
     },
     "user_tz": -540
    },
    "id": "gOGQUlSzyCLS",
    "outputId": "48006c1a-c514-48c4-8630-25c56512815e"
   },
   "outputs": [
    {
     "name": "stdout",
     "output_type": "stream",
     "text": [
      "0.7687685351697306 0.7231047997512061\n"
     ]
    }
   ],
   "source": [
    "x['Displacement * Horsepower'] = x['Displacement'] * x['Horsepower']\n",
    "\n",
    "s1, s2 = learn(x, t)\n",
    "print(s1, s2)"
   ]
  },
  {
   "cell_type": "markdown",
   "metadata": {
    "id": "6rm8ZWASyWvV"
   },
   "source": [
    "少しずつですが、上がっている事が分かります。\n",
    "\n",
    "多項式特徴量と交互作用特徴量を組み合わせる事も可能です。\n",
    "この組み合わせを使って、0.8を目指してみましょう。"
   ]
  },
  {
   "cell_type": "code",
   "execution_count": 38,
   "metadata": {
    "colab": {
     "base_uri": "https://localhost:8080/"
    },
    "executionInfo": {
     "elapsed": 28,
     "status": "ok",
     "timestamp": 1646989956142,
     "user": {
      "displayName": "trip bad",
      "photoUrl": "https://lh3.googleusercontent.com/a/default-user=s64",
      "userId": "13313197196674665217"
     },
     "user_tz": -540
    },
    "id": "LhOK3APAyTwF",
    "outputId": "1492de97-c6f5-4320-d8ef-723779dea92c"
   },
   "outputs": [
    {
     "name": "stdout",
     "output_type": "stream",
     "text": [
      "0.7622421278680784 0.7079742164579516\n"
     ]
    }
   ],
   "source": [
    "# データ比較の為、一度xを初期化\n",
    "x = train_val3.loc[ :,['Weight', 'Displacement', 'Horsepower']]\n",
    "\n",
    "# 新規列Weight2にWeightの2乗を代入\n",
    "x['Weight2'] = x['Weight'] ** 2\n",
    "x['Displacement2'] = x['Displacement'] ** 2\n",
    "\n",
    "# 交互作用特徴量を追加する\n",
    "x['Weight2 * Displacement2'] = x['Weight2'] * x['Displacement2']\n",
    "\n",
    "s1, s2 = learn(x, t)\n",
    "print(s1, s2)"
   ]
  },
  {
   "cell_type": "markdown",
   "metadata": {
    "id": "oPZYzn1RzbvO"
   },
   "source": [
    "このように、複数のパターンを試していって、より高い決定係数を探っていきましょう。\n",
    "\n",
    "今回は最も高い多項式特徴量のパターンでテストデータでの評価を行ってみましょう。"
   ]
  },
  {
   "cell_type": "code",
   "execution_count": 39,
   "metadata": {
    "colab": {
     "base_uri": "https://localhost:8080/"
    },
    "executionInfo": {
     "elapsed": 25,
     "status": "ok",
     "timestamp": 1646989956142,
     "user": {
      "displayName": "trip bad",
      "photoUrl": "https://lh3.googleusercontent.com/a/default-user=s64",
      "userId": "13313197196674665217"
     },
     "user_tz": -540
    },
    "id": "j-A8K2JdyzPq",
    "outputId": "0ddf73d7-5ed5-488f-b672-a41a1303af80"
   },
   "outputs": [
    {
     "name": "stdout",
     "output_type": "stream",
     "text": [
      "0.7680924223506955 0.7418654240012732\n"
     ]
    }
   ],
   "source": [
    "# データ比較の為、一度xを初期化\n",
    "x = train_val3.loc[ :,['Weight', 'Displacement', 'Horsepower']]\n",
    "\n",
    "\n",
    "# 新規列Weight2にWeightの2乗を代入\n",
    "x['Weight2'] = x['Weight'] ** 2\n",
    "# Displacement列の2乗を追加\n",
    "x['Displacement2'] = x['Displacement'] ** 2\n",
    "# Horsepower列の2乗を追加\n",
    "x['Horsepower2'] = x['Horsepower'] ** 2\n",
    "# Displacement列の3乗を追加\n",
    "x['Displacement3'] = x['Displacement'] ** 3\n",
    "# Horsepower列の4乗を追加\n",
    "x['Horsepower4'] = x['Horsepower'] ** 4\n",
    "\n",
    "s1, s2 = learn(x, t)\n",
    "print(s1, s2)"
   ]
  },
  {
   "cell_type": "markdown",
   "metadata": {
    "id": "NSLu1FVQ0Uxv"
   },
   "source": [
    "最適な前処理やモデルチューニングが判明したら、モデルに再学習させます。\n",
    "\n",
    "この場合、再学習するデータは訓練データと検証データを合わせた前データ(テストデータを除く)です。\n",
    "再学習の前に、データの標準化も忘れないように注意しましょう。"
   ]
  },
  {
   "cell_type": "code",
   "execution_count": 40,
   "metadata": {
    "colab": {
     "base_uri": "https://localhost:8080/"
    },
    "executionInfo": {
     "elapsed": 291,
     "status": "ok",
     "timestamp": 1646989956411,
     "user": {
      "displayName": "trip bad",
      "photoUrl": "https://lh3.googleusercontent.com/a/default-user=s64",
      "userId": "13313197196674665217"
     },
     "user_tz": -540
    },
    "id": "CSLZcyobzsAO",
    "outputId": "8c6a6694-361d-4fb8-8ab9-75b479623ea1"
   },
   "outputs": [
    {
     "data": {
      "text/plain": [
       "LinearRegression()"
      ]
     },
     "execution_count": 40,
     "metadata": {},
     "output_type": "execute_result"
    }
   ],
   "source": [
    "# 訓練データと検証データを合わせて再学習させるので、再度標準化する\n",
    "sc_model_x2 = StandardScaler()\n",
    "sc_model_x2.fit(x)\n",
    "sc_x = sc_model_x2.transform(x)\n",
    "\n",
    "sc_model_y2 = StandardScaler()\n",
    "sc_model_y2.fit(t)\n",
    "sc_y = sc_model_y2.transform(t)\n",
    "model = LinearRegression()\n",
    "model.fit(sc_x, sc_y)"
   ]
  },
  {
   "cell_type": "markdown",
   "metadata": {
    "id": "cgYEe9zs1Jix"
   },
   "source": [
    "テストデータも同様に前処理を行います。\n",
    "\n",
    "但し、未知のデータでの予測性能を評価するためには、外れ値があっても恣意的に削除してはいけません。\n",
    "\n",
    "前処理において外れ値の処理は行わない点に注意してください。"
   ]
  },
  {
   "cell_type": "code",
   "execution_count": 41,
   "metadata": {
    "executionInfo": {
     "elapsed": 8,
     "status": "ok",
     "timestamp": 1646989956412,
     "user": {
      "displayName": "trip bad",
      "photoUrl": "https://lh3.googleusercontent.com/a/default-user=s64",
      "userId": "13313197196674665217"
     },
     "user_tz": -540
    },
    "id": "oCORPiKq1FB5"
   },
   "outputs": [],
   "source": [
    "test2 = test.fillna(train_val.mean()) # 欠損値を平均値で補完\n",
    "x_test = test2.loc[ :, ['Weight',\t'Displacement',\t'Horsepower']]\n",
    "y_test = test2[['MPG']]\n",
    "\n",
    "x_test['Weight2'] = x_test['Weight'] ** 2\n",
    "x_test['Displacement2'] = x_test['Displacement'] ** 2\n",
    "x_test['Horsepower2'] = x_test['Horsepower'] ** 2\n",
    "x_test['Displacement3'] = x_test['Displacement'] ** 3\n",
    "x_test['Horsepower4'] = x_test['Horsepower'] ** 4\n",
    "\n",
    "sc_x_test = sc_model_x2.transform(x_test)\n",
    "sc_y_test = sc_model_y2.transform(y_test)"
   ]
  },
  {
   "cell_type": "markdown",
   "metadata": {
    "id": "-Fe5XhrL2Npy"
   },
   "source": [
    "決定係数の計算をしてみましょう"
   ]
  },
  {
   "cell_type": "code",
   "execution_count": 42,
   "metadata": {
    "colab": {
     "base_uri": "https://localhost:8080/"
    },
    "executionInfo": {
     "elapsed": 7,
     "status": "ok",
     "timestamp": 1646989956412,
     "user": {
      "displayName": "trip bad",
      "photoUrl": "https://lh3.googleusercontent.com/a/default-user=s64",
      "userId": "13313197196674665217"
     },
     "user_tz": -540
    },
    "id": "Qq53ZjCA2F3l",
    "outputId": "f8f51a36-28ca-4d9c-f342-8dee4dd484b5"
   },
   "outputs": [
    {
     "data": {
      "text/plain": [
       "0.7153619836616814"
      ]
     },
     "execution_count": 42,
     "metadata": {},
     "output_type": "execute_result"
    }
   ],
   "source": [
    "model.score(sc_x_test, sc_y_test)"
   ]
  },
  {
   "cell_type": "markdown",
   "metadata": {
    "id": "ZIErUqWz2XVg"
   },
   "source": [
    "最後にモデルの保存をして完了です"
   ]
  },
  {
   "cell_type": "code",
   "execution_count": 43,
   "metadata": {
    "executionInfo": {
     "elapsed": 6,
     "status": "ok",
     "timestamp": 1646989956412,
     "user": {
      "displayName": "trip bad",
      "photoUrl": "https://lh3.googleusercontent.com/a/default-user=s64",
      "userId": "13313197196674665217"
     },
     "user_tz": -540
    },
    "id": "Gl5e3n6F2SRm"
   },
   "outputs": [],
   "source": [
    "import pickle\n",
    "with open('auto_mpg.pkl', 'wb') as f:\n",
    "  pickle.dump(model, f)"
   ]
  },
  {
   "cell_type": "markdown",
   "metadata": {
    "id": "P0g9QvGyO3tl"
   },
   "source": [
    "【Tips】\n",
    "　他のモデルを使った時に、今回の決定係数【0.71】がどう変化するか見てみましょう。\n",
    "\n",
    "　ここまでの手順と同じ為、細かい解説は省略していきます。"
   ]
  },
  {
   "cell_type": "markdown",
   "metadata": {
    "id": "oyCvvjl7PPGk"
   },
   "source": [
    "【リッジ回帰】\n",
    "\n",
    "　係数をできるだけ小さくしつつ、予測と実際の誤差を少なくするモデル。\n",
    "\n",
    "　「係数の2乗の合計」を使用する。"
   ]
  },
  {
   "cell_type": "code",
   "execution_count": 44,
   "metadata": {
    "executionInfo": {
     "elapsed": 8,
     "status": "ok",
     "timestamp": 1646990100411,
     "user": {
      "displayName": "trip bad",
      "photoUrl": "https://lh3.googleusercontent.com/a/default-user=s64",
      "userId": "13313197196674665217"
     },
     "user_tz": -540
    },
    "id": "xbkmj2CbPvIj"
   },
   "outputs": [],
   "source": [
    "# 必要な物をインポート\n",
    "import pandas as pd\n",
    "from sklearn.model_selection import train_test_split\n",
    "%matplotlib inline\n",
    "from sklearn.preprocessing import StandardScaler"
   ]
  },
  {
   "cell_type": "code",
   "execution_count": 48,
   "metadata": {
    "executionInfo": {
     "elapsed": 237,
     "status": "ok",
     "timestamp": 1646990378656,
     "user": {
      "displayName": "trip bad",
      "photoUrl": "https://lh3.googleusercontent.com/a/default-user=s64",
      "userId": "13313197196674665217"
     },
     "user_tz": -540
    },
    "id": "Rv2p6usoQoRT"
   },
   "outputs": [],
   "source": [
    "# データの読み込み\n",
    "df = pd.read_csv('auto_mgp.csv')\n",
    "# 欠損値補完\n",
    "df = df.fillna(df.mean())\n",
    "# 外れ値の駆除\n",
    "df = df.drop([387], axis = 0)\n",
    "\n",
    "# 正解データ抜き出し\n",
    "t = df[['MPG']]\n",
    "# 特徴量抜き出し\n",
    "x = df.loc[:, ['Weight', 'Displacement', 'Horsepower']]\n",
    "\n",
    "# 標準化\n",
    "sc = StandardScaler()\n",
    "sc_x = sc.fit_transform(x)\n",
    "sc2 = StandardScaler()\n",
    "sc_t = sc2.fit_transform(t)"
   ]
  },
  {
   "cell_type": "code",
   "execution_count": 49,
   "metadata": {
    "colab": {
     "base_uri": "https://localhost:8080/"
    },
    "executionInfo": {
     "elapsed": 4,
     "status": "ok",
     "timestamp": 1646990483713,
     "user": {
      "displayName": "trip bad",
      "photoUrl": "https://lh3.googleusercontent.com/a/default-user=s64",
      "userId": "13313197196674665217"
     },
     "user_tz": -540
    },
    "id": "VAQSVyLjRg9I",
    "outputId": "f956d8b3-5641-47d3-bc53-36e9f7bcea2d"
   },
   "outputs": [
    {
     "data": {
      "text/plain": [
       "(397, 9)"
      ]
     },
     "execution_count": 49,
     "metadata": {},
     "output_type": "execute_result"
    }
   ],
   "source": [
    "# 累乗列と交互作用特徴量を一括追加する\n",
    "from sklearn.preprocessing import PolynomialFeatures\n",
    "\n",
    "# degree引数で乗数を指定\n",
    "pf = PolynomialFeatures(degree = 2, include_bias = False)\n",
    "# 2乗列と交互作用特徴量の追加\n",
    "pf_x = pf.fit_transform(sc_x)\n",
    "# 行数と列数\n",
    "pf_x.shape"
   ]
  },
  {
   "cell_type": "code",
   "execution_count": 50,
   "metadata": {
    "colab": {
     "base_uri": "https://localhost:8080/"
    },
    "executionInfo": {
     "elapsed": 8,
     "status": "ok",
     "timestamp": 1646990503235,
     "user": {
      "displayName": "trip bad",
      "photoUrl": "https://lh3.googleusercontent.com/a/default-user=s64",
      "userId": "13313197196674665217"
     },
     "user_tz": -540
    },
    "id": "M4D8vqdNSF8d",
    "outputId": "e5b6a8fe-3f1c-43d9-8f78-fee978d5b87e"
   },
   "outputs": [
    {
     "name": "stderr",
     "output_type": "stream",
     "text": [
      "/usr/local/lib/python3.7/dist-packages/sklearn/utils/deprecation.py:87: FutureWarning: Function get_feature_names is deprecated; get_feature_names is deprecated in 1.0 and will be removed in 1.2. Please use get_feature_names_out instead.\n",
      "  warnings.warn(msg, category=FutureWarning)\n"
     ]
    },
    {
     "data": {
      "text/plain": [
       "['x0', 'x1', 'x2', 'x0^2', 'x0 x1', 'x0 x2', 'x1^2', 'x1 x2', 'x2^2']"
      ]
     },
     "execution_count": 50,
     "metadata": {},
     "output_type": "execute_result"
    }
   ],
   "source": [
    "# 列名を確認する処理\n",
    "pf.get_feature_names()"
   ]
  },
  {
   "cell_type": "code",
   "execution_count": 53,
   "metadata": {
    "executionInfo": {
     "elapsed": 3,
     "status": "ok",
     "timestamp": 1646990781342,
     "user": {
      "displayName": "trip bad",
      "photoUrl": "https://lh3.googleusercontent.com/a/default-user=s64",
      "userId": "13313197196674665217"
     },
     "user_tz": -540
    },
    "id": "cwaIGjTJSwf0"
   },
   "outputs": [],
   "source": [
    "# データの分割\n",
    "x_train, x_test, y_train, y_test = train_test_split(pf_x, sc_t, test_size = 0.3, random_state = 0)"
   ]
  },
  {
   "cell_type": "code",
   "execution_count": 56,
   "metadata": {
    "colab": {
     "base_uri": "https://localhost:8080/"
    },
    "executionInfo": {
     "elapsed": 298,
     "status": "ok",
     "timestamp": 1646990803918,
     "user": {
      "displayName": "trip bad",
      "photoUrl": "https://lh3.googleusercontent.com/a/default-user=s64",
      "userId": "13313197196674665217"
     },
     "user_tz": -540
    },
    "id": "djRzvlL_SKta",
    "outputId": "ce7e4157-bca9-42b9-af67-056d54230546"
   },
   "outputs": [
    {
     "name": "stdout",
     "output_type": "stream",
     "text": [
      "0.758810767001904\n",
      "0.7635123998791967\n"
     ]
    }
   ],
   "source": [
    "# リッジ回帰を使用して測定\n",
    "from sklearn.linear_model import Ridge\n",
    "\n",
    "# モデルの作成\n",
    "ridgeModel = Ridge(alpha = 10)\n",
    "ridgeModel.fit(x_train, y_train) # 学習\n",
    "print(ridgeModel.score(x_train, y_train))\n",
    "print(ridgeModel.score(x_test, y_test))"
   ]
  },
  {
   "cell_type": "markdown",
   "metadata": {
    "id": "og0I5musTbGq"
   },
   "source": [
    "【ラッソ回帰】\n",
    "\n",
    "　係数が小さくなるように回帰式を作成する手法。\n",
    "\n",
    "　「係数の絶対値の合計」を使用する。"
   ]
  },
  {
   "cell_type": "code",
   "execution_count": 58,
   "metadata": {
    "colab": {
     "base_uri": "https://localhost:8080/"
    },
    "executionInfo": {
     "elapsed": 263,
     "status": "ok",
     "timestamp": 1646991018163,
     "user": {
      "displayName": "trip bad",
      "photoUrl": "https://lh3.googleusercontent.com/a/default-user=s64",
      "userId": "13313197196674665217"
     },
     "user_tz": -540
    },
    "id": "qpAuNiClSlJP",
    "outputId": "125d272d-7ee1-496a-8d8d-cfe6f785a586"
   },
   "outputs": [
    {
     "name": "stdout",
     "output_type": "stream",
     "text": [
      "0.7090152163597226\n",
      "0.742975175904216\n"
     ]
    }
   ],
   "source": [
    "# ラッソ回帰の使用\n",
    "from sklearn.linear_model import Lasso\n",
    "\n",
    "# ラッソ回帰のモデル作成\n",
    "model = Lasso(alpha = 0.1)\n",
    "model.fit(x_train, y_train)\n",
    "\n",
    "print(model.score(x_train, y_train))\n",
    "print(model.score(x_test, y_test))"
   ]
  },
  {
   "cell_type": "markdown",
   "metadata": {
    "id": "r-b0LxYkULzZ"
   },
   "source": [
    "　これらのモデルは、用途や元データによって使い分け、最も予測値の高い前処理・モデルを探していけるように練習しておきましょう。"
   ]
  }
 ],
 "metadata": {
  "colab": {
   "authorship_tag": "ABX9TyPzeEl4J+Iiqnu2Fl8xc0Ap",
   "collapsed_sections": [],
   "name": "kouka_回帰_東京情報校_山田真悟.ipynb",
   "provenance": []
  },
  "kernelspec": {
   "display_name": "Python 3",
   "language": "python",
   "name": "python3"
  },
  "language_info": {
   "codemirror_mode": {
    "name": "ipython",
    "version": 3
   },
   "file_extension": ".py",
   "mimetype": "text/x-python",
   "name": "python",
   "nbconvert_exporter": "python",
   "pygments_lexer": "ipython3",
   "version": "3.8.5"
  }
 },
 "nbformat": 4,
 "nbformat_minor": 1
}
