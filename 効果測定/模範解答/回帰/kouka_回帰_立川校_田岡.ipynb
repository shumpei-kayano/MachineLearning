{
 "cells": [
  {
   "cell_type": "markdown",
   "metadata": {
    "id": "KvMFvNyQsHH_"
   },
   "source": [
    "##燃費を予測する"
   ]
  },
  {
   "cell_type": "code",
   "execution_count": 1,
   "metadata": {
    "id": "5BfeCLkhkt6M"
   },
   "outputs": [],
   "source": [
    "mkdir data"
   ]
  },
  {
   "cell_type": "code",
   "execution_count": 2,
   "metadata": {
    "colab": {
     "base_uri": "https://localhost:8080/"
    },
    "id": "Rh4l2iBib6-G",
    "outputId": "296dceb7-902b-42d7-c5c0-1293a6db8519"
   },
   "outputs": [
    {
     "name": "stdout",
     "output_type": "stream",
     "text": [
      "/content/data\n"
     ]
    }
   ],
   "source": [
    "cd data"
   ]
  },
  {
   "cell_type": "markdown",
   "metadata": {
    "id": "0FHr21VM9u5q"
   },
   "source": [
    "## プログラムの実装（まずはインポートなど実装準備）"
   ]
  },
  {
   "cell_type": "markdown",
   "metadata": {
    "id": "Cqnd24AFs3rc"
   },
   "source": [
    "## ※ matplotlib日本語化のためのライブラリのインストール\n",
    "### ▶ 以下を実行してください。"
   ]
  },
  {
   "cell_type": "code",
   "execution_count": 3,
   "metadata": {
    "colab": {
     "base_uri": "https://localhost:8080/"
    },
    "id": "Hr2NVV3Ic7iw",
    "outputId": "e52c4b78-9b18-4b47-daab-d4833d4b1df5"
   },
   "outputs": [
    {
     "name": "stdout",
     "output_type": "stream",
     "text": [
      "Collecting japanize-matplotlib\n",
      "  Downloading japanize-matplotlib-1.1.3.tar.gz (4.1 MB)\n",
      "\u001b[K     |████████████████████████████████| 4.1 MB 5.4 MB/s \n",
      "\u001b[?25hRequirement already satisfied: matplotlib in /usr/local/lib/python3.7/dist-packages (from japanize-matplotlib) (3.2.2)\n",
      "Requirement already satisfied: pyparsing!=2.0.4,!=2.1.2,!=2.1.6,>=2.0.1 in /usr/local/lib/python3.7/dist-packages (from matplotlib->japanize-matplotlib) (3.0.7)\n",
      "Requirement already satisfied: cycler>=0.10 in /usr/local/lib/python3.7/dist-packages (from matplotlib->japanize-matplotlib) (0.11.0)\n",
      "Requirement already satisfied: numpy>=1.11 in /usr/local/lib/python3.7/dist-packages (from matplotlib->japanize-matplotlib) (1.21.5)\n",
      "Requirement already satisfied: kiwisolver>=1.0.1 in /usr/local/lib/python3.7/dist-packages (from matplotlib->japanize-matplotlib) (1.3.2)\n",
      "Requirement already satisfied: python-dateutil>=2.1 in /usr/local/lib/python3.7/dist-packages (from matplotlib->japanize-matplotlib) (2.8.2)\n",
      "Requirement already satisfied: six>=1.5 in /usr/local/lib/python3.7/dist-packages (from python-dateutil>=2.1->matplotlib->japanize-matplotlib) (1.15.0)\n",
      "Building wheels for collected packages: japanize-matplotlib\n",
      "  Building wheel for japanize-matplotlib (setup.py) ... \u001b[?25l\u001b[?25hdone\n",
      "  Created wheel for japanize-matplotlib: filename=japanize_matplotlib-1.1.3-py3-none-any.whl size=4120275 sha256=28bcbeb11015d18a589073c5d328d757508e792d7f6b5ee6987695aa9a0db4fd\n",
      "  Stored in directory: /root/.cache/pip/wheels/83/97/6b/e9e0cde099cc40f972b8dd23367308f7705ae06cd6d4714658\n",
      "Successfully built japanize-matplotlib\n",
      "Installing collected packages: japanize-matplotlib\n",
      "Successfully installed japanize-matplotlib-1.1.3\n"
     ]
    }
   ],
   "source": [
    "!pip install japanize-matplotlib"
   ]
  },
  {
   "cell_type": "markdown",
   "metadata": {
    "id": "npBSlaRfkVdP"
   },
   "source": [
    "##必要なライブラリのインポート"
   ]
  },
  {
   "cell_type": "code",
   "execution_count": 4,
   "metadata": {
    "id": "l0yx0ElADup_"
   },
   "outputs": [],
   "source": [
    "import pandas as pd\n",
    "%matplotlib inline\n",
    "from sklearn.linear_model import LinearRegression\n",
    "from sklearn.model_selection import train_test_split\n",
    "from sklearn import tree\n",
    "import matplotlib.pyplot as plt\n",
    "import japanize_matplotlib "
   ]
  },
  {
   "cell_type": "markdown",
   "metadata": {
    "id": "Y--nHD92tEtM"
   },
   "source": [
    "## CSVファイル auto_mgp.csv の読み込み。エンコーディングは cp932 を使用。"
   ]
  },
  {
   "cell_type": "code",
   "execution_count": 5,
   "metadata": {
    "id": "VlvVIcatEmkU"
   },
   "outputs": [],
   "source": [
    "df = pd.read_csv('auto_mgp.csv', encoding='cp932')"
   ]
  },
  {
   "cell_type": "markdown",
   "metadata": {
    "id": "ocXMMC38nJpH"
   },
   "source": [
    "##読み込んだCSVファイルの先頭５行と末尾５行を表示。"
   ]
  },
  {
   "cell_type": "code",
   "execution_count": 6,
   "metadata": {
    "colab": {
     "base_uri": "https://localhost:8080/",
     "height": 206
    },
    "id": "2vj1byc6Eq70",
    "outputId": "29172846-881f-495d-bda8-9b57cf011574"
   },
   "outputs": [
    {
     "data": {
      "text/html": [
       "\n",
       "  <div id=\"df-1bc5717c-4dd6-4c6c-b07e-ce8a375f376c\">\n",
       "    <div class=\"colab-df-container\">\n",
       "      <div>\n",
       "<style scoped>\n",
       "    .dataframe tbody tr th:only-of-type {\n",
       "        vertical-align: middle;\n",
       "    }\n",
       "\n",
       "    .dataframe tbody tr th {\n",
       "        vertical-align: top;\n",
       "    }\n",
       "\n",
       "    .dataframe thead th {\n",
       "        text-align: right;\n",
       "    }\n",
       "</style>\n",
       "<table border=\"1\" class=\"dataframe\">\n",
       "  <thead>\n",
       "    <tr style=\"text-align: right;\">\n",
       "      <th></th>\n",
       "      <th>Unnamed: 0</th>\n",
       "      <th>MPG</th>\n",
       "      <th>Cylinders</th>\n",
       "      <th>Displacement</th>\n",
       "      <th>Horsepower</th>\n",
       "      <th>Weight</th>\n",
       "      <th>Acceleration</th>\n",
       "      <th>Model Year</th>\n",
       "      <th>Origin</th>\n",
       "    </tr>\n",
       "  </thead>\n",
       "  <tbody>\n",
       "    <tr>\n",
       "      <th>0</th>\n",
       "      <td>0</td>\n",
       "      <td>18.0</td>\n",
       "      <td>8</td>\n",
       "      <td>307.0</td>\n",
       "      <td>130.0</td>\n",
       "      <td>3504</td>\n",
       "      <td>12.0</td>\n",
       "      <td>70</td>\n",
       "      <td>1</td>\n",
       "    </tr>\n",
       "    <tr>\n",
       "      <th>1</th>\n",
       "      <td>1</td>\n",
       "      <td>15.0</td>\n",
       "      <td>8</td>\n",
       "      <td>350.0</td>\n",
       "      <td>165.0</td>\n",
       "      <td>3693</td>\n",
       "      <td>11.5</td>\n",
       "      <td>70</td>\n",
       "      <td>1</td>\n",
       "    </tr>\n",
       "    <tr>\n",
       "      <th>2</th>\n",
       "      <td>2</td>\n",
       "      <td>18.0</td>\n",
       "      <td>8</td>\n",
       "      <td>318.0</td>\n",
       "      <td>150.0</td>\n",
       "      <td>3436</td>\n",
       "      <td>11.0</td>\n",
       "      <td>70</td>\n",
       "      <td>1</td>\n",
       "    </tr>\n",
       "    <tr>\n",
       "      <th>3</th>\n",
       "      <td>3</td>\n",
       "      <td>16.0</td>\n",
       "      <td>8</td>\n",
       "      <td>304.0</td>\n",
       "      <td>150.0</td>\n",
       "      <td>3433</td>\n",
       "      <td>12.0</td>\n",
       "      <td>70</td>\n",
       "      <td>1</td>\n",
       "    </tr>\n",
       "    <tr>\n",
       "      <th>4</th>\n",
       "      <td>4</td>\n",
       "      <td>17.0</td>\n",
       "      <td>8</td>\n",
       "      <td>302.0</td>\n",
       "      <td>140.0</td>\n",
       "      <td>3449</td>\n",
       "      <td>10.5</td>\n",
       "      <td>70</td>\n",
       "      <td>1</td>\n",
       "    </tr>\n",
       "  </tbody>\n",
       "</table>\n",
       "</div>\n",
       "      <button class=\"colab-df-convert\" onclick=\"convertToInteractive('df-1bc5717c-4dd6-4c6c-b07e-ce8a375f376c')\"\n",
       "              title=\"Convert this dataframe to an interactive table.\"\n",
       "              style=\"display:none;\">\n",
       "        \n",
       "  <svg xmlns=\"http://www.w3.org/2000/svg\" height=\"24px\"viewBox=\"0 0 24 24\"\n",
       "       width=\"24px\">\n",
       "    <path d=\"M0 0h24v24H0V0z\" fill=\"none\"/>\n",
       "    <path d=\"M18.56 5.44l.94 2.06.94-2.06 2.06-.94-2.06-.94-.94-2.06-.94 2.06-2.06.94zm-11 1L8.5 8.5l.94-2.06 2.06-.94-2.06-.94L8.5 2.5l-.94 2.06-2.06.94zm10 10l.94 2.06.94-2.06 2.06-.94-2.06-.94-.94-2.06-.94 2.06-2.06.94z\"/><path d=\"M17.41 7.96l-1.37-1.37c-.4-.4-.92-.59-1.43-.59-.52 0-1.04.2-1.43.59L10.3 9.45l-7.72 7.72c-.78.78-.78 2.05 0 2.83L4 21.41c.39.39.9.59 1.41.59.51 0 1.02-.2 1.41-.59l7.78-7.78 2.81-2.81c.8-.78.8-2.07 0-2.86zM5.41 20L4 18.59l7.72-7.72 1.47 1.35L5.41 20z\"/>\n",
       "  </svg>\n",
       "      </button>\n",
       "      \n",
       "  <style>\n",
       "    .colab-df-container {\n",
       "      display:flex;\n",
       "      flex-wrap:wrap;\n",
       "      gap: 12px;\n",
       "    }\n",
       "\n",
       "    .colab-df-convert {\n",
       "      background-color: #E8F0FE;\n",
       "      border: none;\n",
       "      border-radius: 50%;\n",
       "      cursor: pointer;\n",
       "      display: none;\n",
       "      fill: #1967D2;\n",
       "      height: 32px;\n",
       "      padding: 0 0 0 0;\n",
       "      width: 32px;\n",
       "    }\n",
       "\n",
       "    .colab-df-convert:hover {\n",
       "      background-color: #E2EBFA;\n",
       "      box-shadow: 0px 1px 2px rgba(60, 64, 67, 0.3), 0px 1px 3px 1px rgba(60, 64, 67, 0.15);\n",
       "      fill: #174EA6;\n",
       "    }\n",
       "\n",
       "    [theme=dark] .colab-df-convert {\n",
       "      background-color: #3B4455;\n",
       "      fill: #D2E3FC;\n",
       "    }\n",
       "\n",
       "    [theme=dark] .colab-df-convert:hover {\n",
       "      background-color: #434B5C;\n",
       "      box-shadow: 0px 1px 3px 1px rgba(0, 0, 0, 0.15);\n",
       "      filter: drop-shadow(0px 1px 2px rgba(0, 0, 0, 0.3));\n",
       "      fill: #FFFFFF;\n",
       "    }\n",
       "  </style>\n",
       "\n",
       "      <script>\n",
       "        const buttonEl =\n",
       "          document.querySelector('#df-1bc5717c-4dd6-4c6c-b07e-ce8a375f376c button.colab-df-convert');\n",
       "        buttonEl.style.display =\n",
       "          google.colab.kernel.accessAllowed ? 'block' : 'none';\n",
       "\n",
       "        async function convertToInteractive(key) {\n",
       "          const element = document.querySelector('#df-1bc5717c-4dd6-4c6c-b07e-ce8a375f376c');\n",
       "          const dataTable =\n",
       "            await google.colab.kernel.invokeFunction('convertToInteractive',\n",
       "                                                     [key], {});\n",
       "          if (!dataTable) return;\n",
       "\n",
       "          const docLinkHtml = 'Like what you see? Visit the ' +\n",
       "            '<a target=\"_blank\" href=https://colab.research.google.com/notebooks/data_table.ipynb>data table notebook</a>'\n",
       "            + ' to learn more about interactive tables.';\n",
       "          element.innerHTML = '';\n",
       "          dataTable['output_type'] = 'display_data';\n",
       "          await google.colab.output.renderOutput(dataTable, element);\n",
       "          const docLink = document.createElement('div');\n",
       "          docLink.innerHTML = docLinkHtml;\n",
       "          element.appendChild(docLink);\n",
       "        }\n",
       "      </script>\n",
       "    </div>\n",
       "  </div>\n",
       "  "
      ],
      "text/plain": [
       "   Unnamed: 0   MPG  Cylinders  Displacement  Horsepower  Weight  \\\n",
       "0           0  18.0          8         307.0       130.0    3504   \n",
       "1           1  15.0          8         350.0       165.0    3693   \n",
       "2           2  18.0          8         318.0       150.0    3436   \n",
       "3           3  16.0          8         304.0       150.0    3433   \n",
       "4           4  17.0          8         302.0       140.0    3449   \n",
       "\n",
       "   Acceleration  Model Year  Origin  \n",
       "0          12.0          70       1  \n",
       "1          11.5          70       1  \n",
       "2          11.0          70       1  \n",
       "3          12.0          70       1  \n",
       "4          10.5          70       1  "
      ]
     },
     "execution_count": 6,
     "metadata": {},
     "output_type": "execute_result"
    }
   ],
   "source": [
    "df.head(5)"
   ]
  },
  {
   "cell_type": "code",
   "execution_count": 7,
   "metadata": {
    "colab": {
     "base_uri": "https://localhost:8080/",
     "height": 206
    },
    "id": "gG_hpPbqEsoe",
    "outputId": "e91ef005-2d34-4b4c-b128-83397e60c794"
   },
   "outputs": [
    {
     "data": {
      "text/html": [
       "\n",
       "  <div id=\"df-8c3455cf-216d-41bd-b852-8101e187f8eb\">\n",
       "    <div class=\"colab-df-container\">\n",
       "      <div>\n",
       "<style scoped>\n",
       "    .dataframe tbody tr th:only-of-type {\n",
       "        vertical-align: middle;\n",
       "    }\n",
       "\n",
       "    .dataframe tbody tr th {\n",
       "        vertical-align: top;\n",
       "    }\n",
       "\n",
       "    .dataframe thead th {\n",
       "        text-align: right;\n",
       "    }\n",
       "</style>\n",
       "<table border=\"1\" class=\"dataframe\">\n",
       "  <thead>\n",
       "    <tr style=\"text-align: right;\">\n",
       "      <th></th>\n",
       "      <th>Unnamed: 0</th>\n",
       "      <th>MPG</th>\n",
       "      <th>Cylinders</th>\n",
       "      <th>Displacement</th>\n",
       "      <th>Horsepower</th>\n",
       "      <th>Weight</th>\n",
       "      <th>Acceleration</th>\n",
       "      <th>Model Year</th>\n",
       "      <th>Origin</th>\n",
       "    </tr>\n",
       "  </thead>\n",
       "  <tbody>\n",
       "    <tr>\n",
       "      <th>393</th>\n",
       "      <td>393</td>\n",
       "      <td>27.0</td>\n",
       "      <td>4</td>\n",
       "      <td>140.0</td>\n",
       "      <td>86.0</td>\n",
       "      <td>2790</td>\n",
       "      <td>15.6</td>\n",
       "      <td>82</td>\n",
       "      <td>1</td>\n",
       "    </tr>\n",
       "    <tr>\n",
       "      <th>394</th>\n",
       "      <td>394</td>\n",
       "      <td>44.0</td>\n",
       "      <td>4</td>\n",
       "      <td>97.0</td>\n",
       "      <td>52.0</td>\n",
       "      <td>2130</td>\n",
       "      <td>24.6</td>\n",
       "      <td>82</td>\n",
       "      <td>2</td>\n",
       "    </tr>\n",
       "    <tr>\n",
       "      <th>395</th>\n",
       "      <td>395</td>\n",
       "      <td>32.0</td>\n",
       "      <td>4</td>\n",
       "      <td>135.0</td>\n",
       "      <td>84.0</td>\n",
       "      <td>2295</td>\n",
       "      <td>11.6</td>\n",
       "      <td>82</td>\n",
       "      <td>1</td>\n",
       "    </tr>\n",
       "    <tr>\n",
       "      <th>396</th>\n",
       "      <td>396</td>\n",
       "      <td>28.0</td>\n",
       "      <td>4</td>\n",
       "      <td>120.0</td>\n",
       "      <td>79.0</td>\n",
       "      <td>2625</td>\n",
       "      <td>18.6</td>\n",
       "      <td>82</td>\n",
       "      <td>1</td>\n",
       "    </tr>\n",
       "    <tr>\n",
       "      <th>397</th>\n",
       "      <td>397</td>\n",
       "      <td>31.0</td>\n",
       "      <td>4</td>\n",
       "      <td>119.0</td>\n",
       "      <td>82.0</td>\n",
       "      <td>2720</td>\n",
       "      <td>19.4</td>\n",
       "      <td>82</td>\n",
       "      <td>1</td>\n",
       "    </tr>\n",
       "  </tbody>\n",
       "</table>\n",
       "</div>\n",
       "      <button class=\"colab-df-convert\" onclick=\"convertToInteractive('df-8c3455cf-216d-41bd-b852-8101e187f8eb')\"\n",
       "              title=\"Convert this dataframe to an interactive table.\"\n",
       "              style=\"display:none;\">\n",
       "        \n",
       "  <svg xmlns=\"http://www.w3.org/2000/svg\" height=\"24px\"viewBox=\"0 0 24 24\"\n",
       "       width=\"24px\">\n",
       "    <path d=\"M0 0h24v24H0V0z\" fill=\"none\"/>\n",
       "    <path d=\"M18.56 5.44l.94 2.06.94-2.06 2.06-.94-2.06-.94-.94-2.06-.94 2.06-2.06.94zm-11 1L8.5 8.5l.94-2.06 2.06-.94-2.06-.94L8.5 2.5l-.94 2.06-2.06.94zm10 10l.94 2.06.94-2.06 2.06-.94-2.06-.94-.94-2.06-.94 2.06-2.06.94z\"/><path d=\"M17.41 7.96l-1.37-1.37c-.4-.4-.92-.59-1.43-.59-.52 0-1.04.2-1.43.59L10.3 9.45l-7.72 7.72c-.78.78-.78 2.05 0 2.83L4 21.41c.39.39.9.59 1.41.59.51 0 1.02-.2 1.41-.59l7.78-7.78 2.81-2.81c.8-.78.8-2.07 0-2.86zM5.41 20L4 18.59l7.72-7.72 1.47 1.35L5.41 20z\"/>\n",
       "  </svg>\n",
       "      </button>\n",
       "      \n",
       "  <style>\n",
       "    .colab-df-container {\n",
       "      display:flex;\n",
       "      flex-wrap:wrap;\n",
       "      gap: 12px;\n",
       "    }\n",
       "\n",
       "    .colab-df-convert {\n",
       "      background-color: #E8F0FE;\n",
       "      border: none;\n",
       "      border-radius: 50%;\n",
       "      cursor: pointer;\n",
       "      display: none;\n",
       "      fill: #1967D2;\n",
       "      height: 32px;\n",
       "      padding: 0 0 0 0;\n",
       "      width: 32px;\n",
       "    }\n",
       "\n",
       "    .colab-df-convert:hover {\n",
       "      background-color: #E2EBFA;\n",
       "      box-shadow: 0px 1px 2px rgba(60, 64, 67, 0.3), 0px 1px 3px 1px rgba(60, 64, 67, 0.15);\n",
       "      fill: #174EA6;\n",
       "    }\n",
       "\n",
       "    [theme=dark] .colab-df-convert {\n",
       "      background-color: #3B4455;\n",
       "      fill: #D2E3FC;\n",
       "    }\n",
       "\n",
       "    [theme=dark] .colab-df-convert:hover {\n",
       "      background-color: #434B5C;\n",
       "      box-shadow: 0px 1px 3px 1px rgba(0, 0, 0, 0.15);\n",
       "      filter: drop-shadow(0px 1px 2px rgba(0, 0, 0, 0.3));\n",
       "      fill: #FFFFFF;\n",
       "    }\n",
       "  </style>\n",
       "\n",
       "      <script>\n",
       "        const buttonEl =\n",
       "          document.querySelector('#df-8c3455cf-216d-41bd-b852-8101e187f8eb button.colab-df-convert');\n",
       "        buttonEl.style.display =\n",
       "          google.colab.kernel.accessAllowed ? 'block' : 'none';\n",
       "\n",
       "        async function convertToInteractive(key) {\n",
       "          const element = document.querySelector('#df-8c3455cf-216d-41bd-b852-8101e187f8eb');\n",
       "          const dataTable =\n",
       "            await google.colab.kernel.invokeFunction('convertToInteractive',\n",
       "                                                     [key], {});\n",
       "          if (!dataTable) return;\n",
       "\n",
       "          const docLinkHtml = 'Like what you see? Visit the ' +\n",
       "            '<a target=\"_blank\" href=https://colab.research.google.com/notebooks/data_table.ipynb>data table notebook</a>'\n",
       "            + ' to learn more about interactive tables.';\n",
       "          element.innerHTML = '';\n",
       "          dataTable['output_type'] = 'display_data';\n",
       "          await google.colab.output.renderOutput(dataTable, element);\n",
       "          const docLink = document.createElement('div');\n",
       "          docLink.innerHTML = docLinkHtml;\n",
       "          element.appendChild(docLink);\n",
       "        }\n",
       "      </script>\n",
       "    </div>\n",
       "  </div>\n",
       "  "
      ],
      "text/plain": [
       "     Unnamed: 0   MPG  Cylinders  Displacement  Horsepower  Weight  \\\n",
       "393         393  27.0          4         140.0        86.0    2790   \n",
       "394         394  44.0          4          97.0        52.0    2130   \n",
       "395         395  32.0          4         135.0        84.0    2295   \n",
       "396         396  28.0          4         120.0        79.0    2625   \n",
       "397         397  31.0          4         119.0        82.0    2720   \n",
       "\n",
       "     Acceleration  Model Year  Origin  \n",
       "393          15.6          82       1  \n",
       "394          24.6          82       2  \n",
       "395          11.6          82       1  \n",
       "396          18.6          82       1  \n",
       "397          19.4          82       1  "
      ]
     },
     "execution_count": 7,
     "metadata": {},
     "output_type": "execute_result"
    }
   ],
   "source": [
    "df.tail(5)"
   ]
  },
  {
   "cell_type": "markdown",
   "metadata": {
    "id": "KTVFrSzApwHd"
   },
   "source": [
    "## 訓練データ＆検証データ＆テストデータに分割する"
   ]
  },
  {
   "cell_type": "code",
   "execution_count": 8,
   "metadata": {
    "id": "x-4iEJiJH9RW"
   },
   "outputs": [],
   "source": [
    "train_val,test = train_test_split(df,test_size = 0.2,random_state = 0)"
   ]
  },
  {
   "cell_type": "markdown",
   "metadata": {
    "id": "JuprZpFEvEVC"
   },
   "source": [
    "## 欠損値の確認"
   ]
  },
  {
   "cell_type": "code",
   "execution_count": 9,
   "metadata": {
    "colab": {
     "base_uri": "https://localhost:8080/"
    },
    "id": "VZCyozfgLO3-",
    "outputId": "3dcf320e-5994-4062-c49f-163cfc816071"
   },
   "outputs": [
    {
     "data": {
      "text/plain": [
       "Unnamed: 0      0\n",
       "MPG             0\n",
       "Cylinders       0\n",
       "Displacement    0\n",
       "Horsepower      5\n",
       "Weight          0\n",
       "Acceleration    0\n",
       "Model Year      0\n",
       "Origin          0\n",
       "dtype: int64"
      ]
     },
     "execution_count": 9,
     "metadata": {},
     "output_type": "execute_result"
    }
   ],
   "source": [
    "train_val.isnull().sum()"
   ]
  },
  {
   "cell_type": "markdown",
   "metadata": {
    "id": "b-V9gOievhxI"
   },
   "source": [
    "## 外れ値の処理"
   ]
  },
  {
   "cell_type": "code",
   "execution_count": 10,
   "metadata": {
    "id": "zfRhEuQankmt"
   },
   "outputs": [],
   "source": [
    "#欠損値を平均値で穴埋めする\n",
    "train_val_mean = train_val.mean() #各列の平均値の計算\n",
    "train_val2 = train_val.fillna(train_val_mean) #平均値で穴埋め"
   ]
  },
  {
   "cell_type": "code",
   "execution_count": 11,
   "metadata": {
    "colab": {
     "base_uri": "https://localhost:8080/",
     "height": 1000
    },
    "id": "9Dp_f-W4MSp6",
    "outputId": "01498ada-fe29-4244-f9a0-2831cf1b56ba"
   },
   "outputs": [
    {
     "data": {
      "image/png": "[encoded data removed]",
      "text/plain": [
       "<Figure size 432x288 with 1 Axes>"
      ]
     },
     "metadata": {
      "needs_background": "light"
     },
     "output_type": "display_data"
    },
    {
     "data": {
      "image/png": "[encoded data removed]",
      "text/plain": [
       "<Figure size 432x288 with 1 Axes>"
      ]
     },
     "metadata": {
      "needs_background": "light"
     },
     "output_type": "display_data"
    },
    {
     "data": {
      "image/png": "[encoded data removed]",
      "text/plain": [
       "<Figure size 432x288 with 1 Axes>"
      ]
     },
     "metadata": {
      "needs_background": "light"
     },
     "output_type": "display_data"
    },
    {
     "data": {
      "image/png": "[encoded data removed]",
      "text/plain": [
       "<Figure size 432x288 with 1 Axes>"
      ]
     },
     "metadata": {
      "needs_background": "light"
     },
     "output_type": "display_data"
    },
    {
     "data": {
      "image/png": "[encoded data removed]",
      "text/plain": [
       "<Figure size 432x288 with 1 Axes>"
      ]
     },
     "metadata": {
      "needs_background": "light"
     },
     "output_type": "display_data"
    },
    {
     "data": {
      "image/png": "[encoded data removed]",
      "text/plain": [
       "<Figure size 432x288 with 1 Axes>"
      ]
     },
     "metadata": {
      "needs_background": "light"
     },
     "output_type": "display_data"
    },
    {
     "data": {
      "image/png": "[encoded data removed]",
      "text/plain": [
       "<Figure size 432x288 with 1 Axes>"
      ]
     },
     "metadata": {
      "needs_background": "light"
     },
     "output_type": "display_data"
    },
    {
     "data": {
      "image/png": "[encoded data removed]",
      "text/plain": [
       "<Figure size 432x288 with 1 Axes>"
      ]
     },
     "metadata": {
      "needs_background": "light"
     },
     "output_type": "display_data"
    },
    {
     "data": {
      "image/png": "[encoded data removed]",
      "text/plain": [
       "<Figure size 432x288 with 1 Axes>"
      ]
     },
     "metadata": {
      "needs_background": "light"
     },
     "output_type": "display_data"
    }
   ],
   "source": [
    "#外れ値の確認\n",
    "colname = train_val2.columns\n",
    "for name in colname:\n",
    "  train_val2.plot(kind = 'scatter', x = name,y= 'MPG')"
   ]
  },
  {
   "cell_type": "code",
   "execution_count": 12,
   "metadata": {
    "colab": {
     "base_uri": "https://localhost:8080/"
    },
    "id": "w2Gl4X0lhQFY",
    "outputId": "ad69fa63-2762-44e0-b041-48559582abca"
   },
   "outputs": [
    {
     "name": "stdout",
     "output_type": "stream",
     "text": [
      "Int64Index([387], dtype='int64') Int64Index([298, 364], dtype='int64') Int64Index([333], dtype='int64') Int64Index([155], dtype='int64') Int64Index([111], dtype='int64') Int64Index([327, 387], dtype='int64') Int64Index([322, 329], dtype='int64') Int64Index([299], dtype='int64') Int64Index([28], dtype='int64')\n"
     ]
    }
   ],
   "source": [
    "#外れ値が存在するインデックスを確認する\n",
    "#displacementの外れ値\n",
    "out_line1 = train_val2[(train_val2['MPG'] > 35) & (train_val2['Displacement'] > 250)].index\n",
    "out_line2 = train_val2[(train_val2['MPG'] > 20) & (train_val2['Displacement'] > 325)].index\n",
    "#Horsepowerの外れ値\n",
    "out_line3 = train_val2[(train_val2['MPG'] > 30) & (train_val2['Horsepower'] > 125)].index\n",
    "out_line4 = train_val2[(train_val2['MPG'] < 20) & (train_val2['Horsepower'] < 75)].index\n",
    "#Weightの外れ値\n",
    "out_line5 = train_val2[(train_val2['MPG'] < 20) & (train_val2['Weight'] < 2200)].index\n",
    "out_line6 = train_val2[(train_val2['MPG'] > 35) & (train_val2['Weight'] > 2900)].index\n",
    "#Accelerationの外れ値\n",
    "out_line7 = train_val2[(train_val2['MPG'] > 43) & (train_val2['Acceleration'] < 20)].index\n",
    "out_line8 = train_val2[(train_val2['MPG'] < 30) & (train_val2['Acceleration'] > 23)].index\n",
    "out_line9 = train_val2[(train_val2['MPG'] < 10) & (train_val2['Acceleration'] > 17.5)].index\n",
    "\n",
    "print(out_line1, out_line2, out_line3, out_line4,out_line5,out_line6,out_line7, out_line8, out_line9)\n"
   ]
  },
  {
   "cell_type": "markdown",
   "metadata": {
    "id": "jXtsYFMoybyi"
   },
   "source": [
    "## 外れ値を削除する"
   ]
  },
  {
   "cell_type": "code",
   "execution_count": 13,
   "metadata": {
    "colab": {
     "base_uri": "https://localhost:8080/",
     "height": 206
    },
    "id": "EL5lVmAL0bSz",
    "outputId": "9a5803bf-4b85-464c-a9d9-956c4e1135f6"
   },
   "outputs": [
    {
     "data": {
      "text/html": [
       "\n",
       "  <div id=\"df-0d2ef4f6-3f42-47c4-943e-2553423ae288\">\n",
       "    <div class=\"colab-df-container\">\n",
       "      <div>\n",
       "<style scoped>\n",
       "    .dataframe tbody tr th:only-of-type {\n",
       "        vertical-align: middle;\n",
       "    }\n",
       "\n",
       "    .dataframe tbody tr th {\n",
       "        vertical-align: top;\n",
       "    }\n",
       "\n",
       "    .dataframe thead th {\n",
       "        text-align: right;\n",
       "    }\n",
       "</style>\n",
       "<table border=\"1\" class=\"dataframe\">\n",
       "  <thead>\n",
       "    <tr style=\"text-align: right;\">\n",
       "      <th></th>\n",
       "      <th>MPG</th>\n",
       "      <th>Displacement</th>\n",
       "      <th>Horsepower</th>\n",
       "      <th>Weight</th>\n",
       "      <th>Acceleration</th>\n",
       "    </tr>\n",
       "  </thead>\n",
       "  <tbody>\n",
       "    <tr>\n",
       "      <th>64</th>\n",
       "      <td>15.0</td>\n",
       "      <td>318.0</td>\n",
       "      <td>150.0</td>\n",
       "      <td>4135</td>\n",
       "      <td>13.5</td>\n",
       "    </tr>\n",
       "    <tr>\n",
       "      <th>55</th>\n",
       "      <td>27.0</td>\n",
       "      <td>97.0</td>\n",
       "      <td>60.0</td>\n",
       "      <td>1834</td>\n",
       "      <td>19.0</td>\n",
       "    </tr>\n",
       "    <tr>\n",
       "      <th>317</th>\n",
       "      <td>34.3</td>\n",
       "      <td>97.0</td>\n",
       "      <td>78.0</td>\n",
       "      <td>2188</td>\n",
       "      <td>15.8</td>\n",
       "    </tr>\n",
       "    <tr>\n",
       "      <th>102</th>\n",
       "      <td>26.0</td>\n",
       "      <td>97.0</td>\n",
       "      <td>46.0</td>\n",
       "      <td>1950</td>\n",
       "      <td>21.0</td>\n",
       "    </tr>\n",
       "    <tr>\n",
       "      <th>358</th>\n",
       "      <td>31.6</td>\n",
       "      <td>120.0</td>\n",
       "      <td>74.0</td>\n",
       "      <td>2635</td>\n",
       "      <td>18.3</td>\n",
       "    </tr>\n",
       "  </tbody>\n",
       "</table>\n",
       "</div>\n",
       "      <button class=\"colab-df-convert\" onclick=\"convertToInteractive('df-0d2ef4f6-3f42-47c4-943e-2553423ae288')\"\n",
       "              title=\"Convert this dataframe to an interactive table.\"\n",
       "              style=\"display:none;\">\n",
       "        \n",
       "  <svg xmlns=\"http://www.w3.org/2000/svg\" height=\"24px\"viewBox=\"0 0 24 24\"\n",
       "       width=\"24px\">\n",
       "    <path d=\"M0 0h24v24H0V0z\" fill=\"none\"/>\n",
       "    <path d=\"M18.56 5.44l.94 2.06.94-2.06 2.06-.94-2.06-.94-.94-2.06-.94 2.06-2.06.94zm-11 1L8.5 8.5l.94-2.06 2.06-.94-2.06-.94L8.5 2.5l-.94 2.06-2.06.94zm10 10l.94 2.06.94-2.06 2.06-.94-2.06-.94-.94-2.06-.94 2.06-2.06.94z\"/><path d=\"M17.41 7.96l-1.37-1.37c-.4-.4-.92-.59-1.43-.59-.52 0-1.04.2-1.43.59L10.3 9.45l-7.72 7.72c-.78.78-.78 2.05 0 2.83L4 21.41c.39.39.9.59 1.41.59.51 0 1.02-.2 1.41-.59l7.78-7.78 2.81-2.81c.8-.78.8-2.07 0-2.86zM5.41 20L4 18.59l7.72-7.72 1.47 1.35L5.41 20z\"/>\n",
       "  </svg>\n",
       "      </button>\n",
       "      \n",
       "  <style>\n",
       "    .colab-df-container {\n",
       "      display:flex;\n",
       "      flex-wrap:wrap;\n",
       "      gap: 12px;\n",
       "    }\n",
       "\n",
       "    .colab-df-convert {\n",
       "      background-color: #E8F0FE;\n",
       "      border: none;\n",
       "      border-radius: 50%;\n",
       "      cursor: pointer;\n",
       "      display: none;\n",
       "      fill: #1967D2;\n",
       "      height: 32px;\n",
       "      padding: 0 0 0 0;\n",
       "      width: 32px;\n",
       "    }\n",
       "\n",
       "    .colab-df-convert:hover {\n",
       "      background-color: #E2EBFA;\n",
       "      box-shadow: 0px 1px 2px rgba(60, 64, 67, 0.3), 0px 1px 3px 1px rgba(60, 64, 67, 0.15);\n",
       "      fill: #174EA6;\n",
       "    }\n",
       "\n",
       "    [theme=dark] .colab-df-convert {\n",
       "      background-color: #3B4455;\n",
       "      fill: #D2E3FC;\n",
       "    }\n",
       "\n",
       "    [theme=dark] .colab-df-convert:hover {\n",
       "      background-color: #434B5C;\n",
       "      box-shadow: 0px 1px 3px 1px rgba(0, 0, 0, 0.15);\n",
       "      filter: drop-shadow(0px 1px 2px rgba(0, 0, 0, 0.3));\n",
       "      fill: #FFFFFF;\n",
       "    }\n",
       "  </style>\n",
       "\n",
       "      <script>\n",
       "        const buttonEl =\n",
       "          document.querySelector('#df-0d2ef4f6-3f42-47c4-943e-2553423ae288 button.colab-df-convert');\n",
       "        buttonEl.style.display =\n",
       "          google.colab.kernel.accessAllowed ? 'block' : 'none';\n",
       "\n",
       "        async function convertToInteractive(key) {\n",
       "          const element = document.querySelector('#df-0d2ef4f6-3f42-47c4-943e-2553423ae288');\n",
       "          const dataTable =\n",
       "            await google.colab.kernel.invokeFunction('convertToInteractive',\n",
       "                                                     [key], {});\n",
       "          if (!dataTable) return;\n",
       "\n",
       "          const docLinkHtml = 'Like what you see? Visit the ' +\n",
       "            '<a target=\"_blank\" href=https://colab.research.google.com/notebooks/data_table.ipynb>data table notebook</a>'\n",
       "            + ' to learn more about interactive tables.';\n",
       "          element.innerHTML = '';\n",
       "          dataTable['output_type'] = 'display_data';\n",
       "          await google.colab.output.renderOutput(dataTable, element);\n",
       "          const docLink = document.createElement('div');\n",
       "          docLink.innerHTML = docLinkHtml;\n",
       "          element.appendChild(docLink);\n",
       "        }\n",
       "      </script>\n",
       "    </div>\n",
       "  </div>\n",
       "  "
      ],
      "text/plain": [
       "      MPG  Displacement  Horsepower  Weight  Acceleration\n",
       "64   15.0         318.0       150.0    4135          13.5\n",
       "55   27.0          97.0        60.0    1834          19.0\n",
       "317  34.3          97.0        78.0    2188          15.8\n",
       "102  26.0          97.0        46.0    1950          21.0\n",
       "358  31.6         120.0        74.0    2635          18.3"
      ]
     },
     "execution_count": 13,
     "metadata": {},
     "output_type": "execute_result"
    }
   ],
   "source": [
    "train_val3 = train_val2.drop([387,298,364,333,155,111,327,322,329,299,28],axis = 0)\n",
    "\n",
    "#絞り込んだ列以外を取り除く\n",
    "col = ['MPG','Displacement','Horsepower','Weight','Acceleration']\n",
    "train_val4 = train_val3[col]\n",
    "train_val4.head(5)"
   ]
  },
  {
   "cell_type": "markdown",
   "metadata": {
    "id": "MghU8R4AxXCU"
   },
   "source": [
    "## 相関関係による特徴量の絞り込み\n"
   ]
  },
  {
   "cell_type": "code",
   "execution_count": 14,
   "metadata": {
    "colab": {
     "base_uri": "https://localhost:8080/",
     "height": 206
    },
    "id": "Zaz3zixuMbVs",
    "outputId": "a33520fc-7d98-4fce-e138-8995e233e8a8"
   },
   "outputs": [
    {
     "data": {
      "text/html": [
       "\n",
       "  <div id=\"df-0305f7d7-1b05-4171-9417-92ddd4036a4d\">\n",
       "    <div class=\"colab-df-container\">\n",
       "      <div>\n",
       "<style scoped>\n",
       "    .dataframe tbody tr th:only-of-type {\n",
       "        vertical-align: middle;\n",
       "    }\n",
       "\n",
       "    .dataframe tbody tr th {\n",
       "        vertical-align: top;\n",
       "    }\n",
       "\n",
       "    .dataframe thead th {\n",
       "        text-align: right;\n",
       "    }\n",
       "</style>\n",
       "<table border=\"1\" class=\"dataframe\">\n",
       "  <thead>\n",
       "    <tr style=\"text-align: right;\">\n",
       "      <th></th>\n",
       "      <th>MPG</th>\n",
       "      <th>Displacement</th>\n",
       "      <th>Horsepower</th>\n",
       "      <th>Weight</th>\n",
       "      <th>Acceleration</th>\n",
       "    </tr>\n",
       "  </thead>\n",
       "  <tbody>\n",
       "    <tr>\n",
       "      <th>MPG</th>\n",
       "      <td>1.000000</td>\n",
       "      <td>-0.828741</td>\n",
       "      <td>-0.803977</td>\n",
       "      <td>-0.847011</td>\n",
       "      <td>0.499976</td>\n",
       "    </tr>\n",
       "    <tr>\n",
       "      <th>Displacement</th>\n",
       "      <td>-0.828741</td>\n",
       "      <td>1.000000</td>\n",
       "      <td>0.904838</td>\n",
       "      <td>0.936196</td>\n",
       "      <td>-0.584401</td>\n",
       "    </tr>\n",
       "    <tr>\n",
       "      <th>Horsepower</th>\n",
       "      <td>-0.803977</td>\n",
       "      <td>0.904838</td>\n",
       "      <td>1.000000</td>\n",
       "      <td>0.867931</td>\n",
       "      <td>-0.709139</td>\n",
       "    </tr>\n",
       "    <tr>\n",
       "      <th>Weight</th>\n",
       "      <td>-0.847011</td>\n",
       "      <td>0.936196</td>\n",
       "      <td>0.867931</td>\n",
       "      <td>1.000000</td>\n",
       "      <td>-0.465092</td>\n",
       "    </tr>\n",
       "    <tr>\n",
       "      <th>Acceleration</th>\n",
       "      <td>0.499976</td>\n",
       "      <td>-0.584401</td>\n",
       "      <td>-0.709139</td>\n",
       "      <td>-0.465092</td>\n",
       "      <td>1.000000</td>\n",
       "    </tr>\n",
       "  </tbody>\n",
       "</table>\n",
       "</div>\n",
       "      <button class=\"colab-df-convert\" onclick=\"convertToInteractive('df-0305f7d7-1b05-4171-9417-92ddd4036a4d')\"\n",
       "              title=\"Convert this dataframe to an interactive table.\"\n",
       "              style=\"display:none;\">\n",
       "        \n",
       "  <svg xmlns=\"http://www.w3.org/2000/svg\" height=\"24px\"viewBox=\"0 0 24 24\"\n",
       "       width=\"24px\">\n",
       "    <path d=\"M0 0h24v24H0V0z\" fill=\"none\"/>\n",
       "    <path d=\"M18.56 5.44l.94 2.06.94-2.06 2.06-.94-2.06-.94-.94-2.06-.94 2.06-2.06.94zm-11 1L8.5 8.5l.94-2.06 2.06-.94-2.06-.94L8.5 2.5l-.94 2.06-2.06.94zm10 10l.94 2.06.94-2.06 2.06-.94-2.06-.94-.94-2.06-.94 2.06-2.06.94z\"/><path d=\"M17.41 7.96l-1.37-1.37c-.4-.4-.92-.59-1.43-.59-.52 0-1.04.2-1.43.59L10.3 9.45l-7.72 7.72c-.78.78-.78 2.05 0 2.83L4 21.41c.39.39.9.59 1.41.59.51 0 1.02-.2 1.41-.59l7.78-7.78 2.81-2.81c.8-.78.8-2.07 0-2.86zM5.41 20L4 18.59l7.72-7.72 1.47 1.35L5.41 20z\"/>\n",
       "  </svg>\n",
       "      </button>\n",
       "      \n",
       "  <style>\n",
       "    .colab-df-container {\n",
       "      display:flex;\n",
       "      flex-wrap:wrap;\n",
       "      gap: 12px;\n",
       "    }\n",
       "\n",
       "    .colab-df-convert {\n",
       "      background-color: #E8F0FE;\n",
       "      border: none;\n",
       "      border-radius: 50%;\n",
       "      cursor: pointer;\n",
       "      display: none;\n",
       "      fill: #1967D2;\n",
       "      height: 32px;\n",
       "      padding: 0 0 0 0;\n",
       "      width: 32px;\n",
       "    }\n",
       "\n",
       "    .colab-df-convert:hover {\n",
       "      background-color: #E2EBFA;\n",
       "      box-shadow: 0px 1px 2px rgba(60, 64, 67, 0.3), 0px 1px 3px 1px rgba(60, 64, 67, 0.15);\n",
       "      fill: #174EA6;\n",
       "    }\n",
       "\n",
       "    [theme=dark] .colab-df-convert {\n",
       "      background-color: #3B4455;\n",
       "      fill: #D2E3FC;\n",
       "    }\n",
       "\n",
       "    [theme=dark] .colab-df-convert:hover {\n",
       "      background-color: #434B5C;\n",
       "      box-shadow: 0px 1px 3px 1px rgba(0, 0, 0, 0.15);\n",
       "      filter: drop-shadow(0px 1px 2px rgba(0, 0, 0, 0.3));\n",
       "      fill: #FFFFFF;\n",
       "    }\n",
       "  </style>\n",
       "\n",
       "      <script>\n",
       "        const buttonEl =\n",
       "          document.querySelector('#df-0305f7d7-1b05-4171-9417-92ddd4036a4d button.colab-df-convert');\n",
       "        buttonEl.style.display =\n",
       "          google.colab.kernel.accessAllowed ? 'block' : 'none';\n",
       "\n",
       "        async function convertToInteractive(key) {\n",
       "          const element = document.querySelector('#df-0305f7d7-1b05-4171-9417-92ddd4036a4d');\n",
       "          const dataTable =\n",
       "            await google.colab.kernel.invokeFunction('convertToInteractive',\n",
       "                                                     [key], {});\n",
       "          if (!dataTable) return;\n",
       "\n",
       "          const docLinkHtml = 'Like what you see? Visit the ' +\n",
       "            '<a target=\"_blank\" href=https://colab.research.google.com/notebooks/data_table.ipynb>data table notebook</a>'\n",
       "            + ' to learn more about interactive tables.';\n",
       "          element.innerHTML = '';\n",
       "          dataTable['output_type'] = 'display_data';\n",
       "          await google.colab.output.renderOutput(dataTable, element);\n",
       "          const docLink = document.createElement('div');\n",
       "          docLink.innerHTML = docLinkHtml;\n",
       "          element.appendChild(docLink);\n",
       "        }\n",
       "      </script>\n",
       "    </div>\n",
       "  </div>\n",
       "  "
      ],
      "text/plain": [
       "                   MPG  Displacement  Horsepower    Weight  Acceleration\n",
       "MPG           1.000000     -0.828741   -0.803977 -0.847011      0.499976\n",
       "Displacement -0.828741      1.000000    0.904838  0.936196     -0.584401\n",
       "Horsepower   -0.803977      0.904838    1.000000  0.867931     -0.709139\n",
       "Weight       -0.847011      0.936196    0.867931  1.000000     -0.465092\n",
       "Acceleration  0.499976     -0.584401   -0.709139 -0.465092      1.000000"
      ]
     },
     "execution_count": 14,
     "metadata": {},
     "output_type": "execute_result"
    }
   ],
   "source": [
    "#列同士の相関係数を調べる\n",
    "train_val4.corr()\n"
   ]
  },
  {
   "cell_type": "code",
   "execution_count": 15,
   "metadata": {
    "colab": {
     "base_uri": "https://localhost:8080/"
    },
    "id": "hhucbzullMVl",
    "outputId": "cbd6b740-69cf-48d3-903b-1dc0adba9e6c"
   },
   "outputs": [
    {
     "data": {
      "text/plain": [
       "MPG             1.000000\n",
       "Displacement   -0.828741\n",
       "Horsepower     -0.803977\n",
       "Weight         -0.847011\n",
       "Acceleration    0.499976\n",
       "Name: MPG, dtype: float64"
      ]
     },
     "execution_count": 15,
     "metadata": {},
     "output_type": "execute_result"
    }
   ],
   "source": [
    "#各列とtarget列との相関係数を見る\n",
    "train_cor = train_val4.corr()['MPG']\n",
    "train_cor"
   ]
  },
  {
   "cell_type": "code",
   "execution_count": 16,
   "metadata": {
    "colab": {
     "base_uri": "https://localhost:8080/"
    },
    "id": "0w5w7m19EUSR",
    "outputId": "bc801c04-b1e9-4974-fc7d-17c549d5d745"
   },
   "outputs": [
    {
     "data": {
      "text/plain": [
       "MPG             1.000000\n",
       "Weight          0.847011\n",
       "Displacement    0.828741\n",
       "Horsepower      0.803977\n",
       "Acceleration    0.499976\n",
       "Name: MPG, dtype: float64"
      ]
     },
     "execution_count": 16,
     "metadata": {},
     "output_type": "execute_result"
    }
   ],
   "source": [
    "#abs関数で絶対値に変換\n",
    "abs_cor = train_cor.map(abs)\n",
    "#降順で並び替える\n",
    "abs_cor.sort_values(ascending = False)"
   ]
  },
  {
   "cell_type": "code",
   "execution_count": 17,
   "metadata": {
    "id": "RjQSaHXUE5Xl"
   },
   "outputs": [],
   "source": [
    "#訓練データと検証データの分割\n",
    "col = ['Displacement','Horsepower','Weight']\n",
    "x = train_val4[col]\n",
    "t = train_val4[['MPG']]\n",
    "x_train, x_val, y_train, y_val = train_test_split(x, t, test_size = 0.2, random_state = 0)"
   ]
  },
  {
   "cell_type": "markdown",
   "metadata": {
    "id": "Tvi2pU5TGpPI"
   },
   "source": [
    "##データの標準化"
   ]
  },
  {
   "cell_type": "code",
   "execution_count": 18,
   "metadata": {
    "colab": {
     "base_uri": "https://localhost:8080/"
    },
    "id": "PBErsz1LGwWm",
    "outputId": "9777c056-3749-4419-c8d1-959931004317"
   },
   "outputs": [
    {
     "data": {
      "text/plain": [
       "array([[ 6.67003684e-01,  4.55839730e-01,  5.47587465e-01],\n",
       "       [ 8.99666166e-02, -5.22960760e-01,  4.19270609e-02],\n",
       "       [ 8.99666166e-02, -2.43303477e-01,  2.40579362e-01],\n",
       "       [ 1.59225277e+00,  1.35074304e+00,  1.51676991e+00],\n",
       "       [-1.05415860e+00, -9.42446685e-01, -1.06571001e+00],\n",
       "       [-7.05946580e-01, -1.87372021e-01, -5.61253564e-01],\n",
       "       [ 4.08331895e-01, -1.03474836e-01, -1.22508395e-02],\n",
       "       [-5.06968280e-01, -3.27200662e-01, -4.61325436e-01],\n",
       "       [ 1.10475594e+00,  7.07531285e-01,  2.57434709e-01],\n",
       "       [-1.11385209e+00, -9.42446685e-01, -1.06089420e+00],\n",
       "       [-9.34771623e-01, -1.02634387e+00, -1.16804605e+00],\n",
       "       [ 1.58230386e+00,  1.71429750e+00,  1.50954619e+00],\n",
       "       [ 3.98382980e-01,  3.16011089e-01,  3.48935163e-01],\n",
       "       [-1.05415860e+00, -1.44582979e+00, -1.10784838e+00],\n",
       "       [ 1.10475594e+00,  9.31257111e-01,  1.30848598e+00],\n",
       "       [ 1.59225277e+00,  9.59222840e-01,  1.20374204e+00],\n",
       "       [ 3.38689490e-01, -2.43303477e-01,  9.99069969e-01],\n",
       "       [-1.00441403e+00, -9.42446685e-01, -1.22583581e+00],\n",
       "       [-7.45742239e-01, -8.02618043e-01, -9.59762120e-01],\n",
       "       [-5.06968280e-01, -4.39063575e-01, -7.84682734e-02],\n",
       "       [ 1.12465377e+00,  1.29481158e+00,  8.63023241e-01],\n",
       "       [ 2.47770621e+00,  3.11258392e+00,  2.14282564e+00],\n",
       "       [-8.25333559e-01, -8.02618043e-01, -8.30939113e-01],\n",
       "       [-7.05946580e-01, -4.39063575e-01,  2.19660059e-03],\n",
       "       [-7.91649375e-02, -7.46686587e-01,  6.92061866e-01],\n",
       "       [-6.95997665e-01, -1.59406292e-01, -1.22508395e-02],\n",
       "       [-8.25333559e-01, -2.71269206e-01, -6.93688432e-01],\n",
       "       [-5.56712855e-01, -5.50926489e-01, -5.60049611e-01],\n",
       "       [ 1.58230386e+00,  1.85412615e+00,  1.45657224e+00],\n",
       "       [-3.47785641e-01, -3.27200662e-01, -4.03535676e-01],\n",
       "       [ 3.98382980e-01,  3.63538057e-02,  5.65646765e-01],\n",
       "       [-5.66661770e-01, -2.43303477e-01, -4.75772877e-01],\n",
       "       [ 1.26393858e+00,  1.29481158e+00,  5.34343978e-01],\n",
       "       [-1.01436294e+00, -9.14480957e-01, -1.16202628e+00],\n",
       "       [-1.78654087e-01,  3.16011089e-01, -3.07219409e-01],\n",
       "       [-5.06968280e-01, -4.39063575e-01, -1.02547340e-01],\n",
       "       [-7.85537899e-01, -4.39063575e-01, -4.21594976e-01],\n",
       "       [ 5.87412364e-01, -1.59406292e-01,  6.86042099e-01],\n",
       "       [-1.11385209e+00, -1.02634387e+00, -1.14998675e+00],\n",
       "       [-1.09395426e+00, -1.22210397e+00, -1.43893555e+00],\n",
       "       [-9.94465113e-01, -9.98378142e-01, -1.11988792e+00],\n",
       "       [-5.06968280e-01, -3.27200662e-01, -1.08567107e-01],\n",
       "       [-1.04420969e+00, -1.11024105e+00, -1.30048092e+00],\n",
       "       [ 3.98382980e-01,  1.76182447e-01,  1.14595228e+00],\n",
       "       [-9.34771623e-01, -8.02618043e-01, -9.63373980e-01],\n",
       "       [ 2.07974961e+00,  1.99395479e+00,  1.81655429e+00],\n",
       "       [-8.94975964e-01, -5.78892217e-01, -9.06788173e-01],\n",
       "       [ 6.86901514e-01, -3.83132119e-01,  5.59626998e-01],\n",
       "       [-9.34771623e-01, -1.22210397e+00, -1.34984300e+00],\n",
       "       [-8.55180304e-01, -9.42446685e-01, -9.09196080e-01],\n",
       "       [-3.97530216e-01,  7.87715631e-05,  9.61049613e-02],\n",
       "       [-9.94465113e-01, -1.02634387e+00, -1.19212512e+00],\n",
       "       [-5.66661770e-01, -3.83132119e-01, -2.93975922e-01],\n",
       "       [-1.05415860e+00, -9.42446685e-01, -1.16202628e+00],\n",
       "       [-9.34771623e-01, -7.18720858e-01, -1.22222395e+00],\n",
       "       [ 1.26393858e+00,  8.75325655e-01,  1.05324787e+00],\n",
       "       [ 8.99666166e-02, -5.22960760e-01,  1.18282273e-02],\n",
       "       [ 2.07974961e+00,  1.85412615e+00,  2.15606913e+00],\n",
       "       [-3.47785641e-01, -3.27200662e-01, -4.45674043e-01],\n",
       "       [ 1.58230386e+00,  1.15498294e+00,  1.78765941e+00],\n",
       "       [-5.06968280e-01, -3.83132119e-01, -8.32143066e-01],\n",
       "       [ 8.99666166e-02,  7.87715631e-05, -9.65275735e-02],\n",
       "       [-5.06968280e-01, -4.39063575e-01, -2.83140342e-01],\n",
       "       [ 1.59225277e+00,  1.07108575e+00,  1.32293342e+00],\n",
       "       [ 4.08331895e-01, -1.03474836e-01, -4.95733932e-02],\n",
       "       [ 1.68179301e+00,  1.29481158e+00,  1.18568274e+00],\n",
       "       [ 1.59225277e+00,  1.37870876e+00,  1.44332875e+00],\n",
       "       [-1.00441403e+00, -9.14480957e-01, -8.81505153e-01],\n",
       "       [-9.34771623e-01, -8.02618043e-01, -9.44110727e-01],\n",
       "       [ 1.58230386e+00,  1.57446886e+00,  1.80692266e+00],\n",
       "       [-3.97530216e-01, -5.50926489e-01, -3.85476376e-01],\n",
       "       [-3.97530216e-01, -3.83132119e-01, -3.43338009e-01],\n",
       "       [-1.98551917e-01, -1.87372021e-01,  3.47033408e-02],\n",
       "       [-3.47785641e-01,  1.20250991e-01, -3.03101397e-02],\n",
       "       [ 8.99666166e-02, -5.22960760e-01,  1.38243328e-01],\n",
       "       [ 4.08331895e-01, -1.03474836e-01, -3.86680329e-01],\n",
       "       [ 2.07974961e+00,  1.85412615e+00,  2.06216077e+00],\n",
       "       [ 1.48281471e+00,  1.57446886e+00,  7.87174180e-01],\n",
       "       [-9.24822708e-01, -6.90755130e-01, -8.42978646e-01],\n",
       "       [-1.20339233e+00, -1.87372021e-01, -7.52682145e-01],\n",
       "       [-7.05946580e-01, -8.30583772e-01, -3.85476376e-01],\n",
       "       [-9.24822708e-01, -9.42446685e-01, -9.99492581e-01],\n",
       "       [ 7.00687867e-02, -2.43303477e-01,  1.76769835e-01],\n",
       "       [-4.47274791e-01,  4.55839730e-01, -3.03101397e-02],\n",
       "       [-6.86048750e-01, -5.22960760e-01, -7.76761212e-01],\n",
       "       [ 1.12465377e+00,  4.55839730e-01,  1.21216971e+00],\n",
       "       [-9.94465113e-01, -1.02634387e+00, -1.15600652e+00],\n",
       "       [-5.06968280e-01, -8.86515228e-01, -6.67201458e-01],\n",
       "       [-8.25333559e-01, -9.42446685e-01, -8.55018180e-01],\n",
       "       [-8.65129219e-01, -2.43303477e-01, -6.98504245e-01],\n",
       "       [-3.97530216e-01, -3.83132119e-01,  5.75784544e-02],\n",
       "       [ 1.10475594e+00,  7.07531285e-01,  9.26832768e-01],\n",
       "       [ 1.26393858e+00,  1.29481158e+00,  5.78890252e-01],\n",
       "       [-8.55180304e-01, -8.30583772e-01, -1.17406582e+00],\n",
       "       [-9.34771623e-01, -1.61362416e+00, -1.21018442e+00],\n",
       "       [-2.28398662e-01,  4.55839730e-01,  1.04120834e+00],\n",
       "       [ 2.07974961e+00,  1.99395479e+00,  2.63042675e+00],\n",
       "       [-3.47785641e-01,  3.63538057e-02, -2.53041508e-01],\n",
       "       [ 1.10475594e+00,  7.35497013e-01,  1.10140600e+00],\n",
       "       [ 6.67003684e-01,  1.76182447e-01,  9.32852535e-01],\n",
       "       [ 7.06799344e-01,  1.76182447e-01,  3.20040283e-01],\n",
       "       [-1.00441403e+00, -8.02618043e-01, -1.01995979e+00],\n",
       "       [-1.12380101e+00, -1.44582979e+00, -1.16804605e+00],\n",
       "       [-1.00441403e+00, -1.55769271e+00, -1.16804605e+00],\n",
       "       [ 1.91061805e+00,  2.13378343e+00,  2.40769538e+00],\n",
       "       [-7.85537899e-01, -4.39063575e-01, -3.79456609e-01],\n",
       "       [ 3.38689490e-01,  3.63538057e-02,  1.99644949e-01],\n",
       "       [-9.34771623e-01, -1.44582979e+00, -9.93472814e-01],\n",
       "       [-9.34771623e-01, -7.18720858e-01, -9.23643520e-01],\n",
       "       [-9.24822708e-01, -1.08227533e+00, -1.09580885e+00],\n",
       "       [-1.00441403e+00, -1.55769271e+00, -7.46662379e-01],\n",
       "       [ 1.10475594e+00,  9.87188568e-01,  7.40220000e-01],\n",
       "       [ 4.08331895e-01,  2.32113904e-01, -1.44685707e-01],\n",
       "       [ 2.62693993e+00,  3.39224120e+00,  1.76960011e+00],\n",
       "       [-6.95997665e-01,  2.60079632e-01, -8.68261666e-01],\n",
       "       [-8.25333559e-01, -2.99234934e-01, -6.79240992e-01],\n",
       "       [ 1.26393858e+00,  1.01515430e+00,  9.38872301e-01],\n",
       "       [ 3.98382980e-01,  1.71429750e+00,  5.89725832e-01],\n",
       "       [ 1.26393858e+00,  1.29481158e+00,  1.18568274e+00],\n",
       "       [-1.01436294e+00, -1.22210397e+00, -1.18851326e+00],\n",
       "       [-7.45742239e-01, -8.02618043e-01, -8.53814226e-01],\n",
       "       [-3.47785641e-01,  3.63538057e-02, -1.86824074e-01],\n",
       "       [ 3.38689490e-01, -5.22960760e-01,  6.13804899e-01],\n",
       "       [ 8.00177017e-02, -3.83132119e-01, -3.69824982e-01],\n",
       "       [ 3.38689490e-01, -1.03474836e-01,  5.71666532e-01],\n",
       "       [ 1.26393858e+00,  1.29481158e+00,  1.85748870e+00],\n",
       "       [-7.05946580e-01, -1.87372021e-01, -5.40786357e-01],\n",
       "       [-1.10390318e+00,  1.76182447e-01, -2.83140342e-01],\n",
       "       [-6.95997665e-01,  3.16011089e-01, -1.92843841e-01],\n",
       "       [-6.86048750e-01, -4.94995032e-01, -6.74425178e-01],\n",
       "       [-6.06457430e-01, -4.75433792e-02,  2.34559596e-01],\n",
       "       [-7.05946580e-01, -4.39063575e-01,  3.79033997e-01],\n",
       "       [-9.24822708e-01, -9.98378142e-01, -9.87453047e-01],\n",
       "       [-9.24822708e-01, -9.98378142e-01, -1.09580885e+00],\n",
       "       [-3.97530216e-01, -4.39063575e-01, -2.59061275e-01],\n",
       "       [ 6.86901514e-01,  1.76182447e-01,  4.93409565e-01],\n",
       "       [-4.97019366e-01, -6.62789402e-01,  3.30875863e-01],\n",
       "       [-9.34771623e-01, -9.14480957e-01, -1.36067858e+00],\n",
       "       [-9.24822708e-01, -6.62789402e-01, -9.52538400e-01],\n",
       "       [-6.86048750e-01, -2.15337749e-01, -7.88800746e-01],\n",
       "       [-7.45742239e-01, -6.34823674e-01, -8.85117013e-01],\n",
       "       [-9.90627675e-02,  1.76182447e-01, -1.22508395e-02],\n",
       "       [ 1.13460269e+00,  1.15498294e+00,  5.65646765e-01],\n",
       "       [-1.01436294e+00, -1.16617251e+00, -1.33659952e+00],\n",
       "       [-9.94465113e-01, -9.98378142e-01, -1.16804605e+00],\n",
       "       [-7.15895494e-01, -1.87372021e-01, -7.88800746e-01],\n",
       "       [ 1.13460269e+00,  1.15498294e+00,  1.11344554e+00],\n",
       "       [-2.78143237e-01,  5.95668372e-01,  2.22520062e-01],\n",
       "       [ 1.26393858e+00,  1.29481158e+00,  1.80812662e+00],\n",
       "       [ 1.26393858e+00,  1.29481158e+00,  1.42045364e+00],\n",
       "       [ 1.15450052e+00,  7.35497013e-01,  1.37590736e+00],\n",
       "       [ 1.12465377e+00,  1.29481158e+00,  1.12789298e+00],\n",
       "       [ 1.58230386e+00,  1.29481158e+00,  2.09948332e+00],\n",
       "       [ 5.87412364e-01,  3.63538057e-02,  4.78962124e-01],\n",
       "       [-7.85537899e-01, -5.22960760e-01, -4.57713576e-01],\n",
       "       [ 1.10475594e+00,  1.01515430e+00,  2.02604217e+00],\n",
       "       [ 1.10475594e+00,  1.01515430e+00,  1.42767736e+00],\n",
       "       [ 7.00687867e-02, -2.43303477e-01, -6.16129266e-02],\n",
       "       [ 3.98382980e-01,  1.76182447e-01,  1.00920775e-01],\n",
       "       [-9.94465113e-01, -1.41786407e+00, -1.39679718e+00],\n",
       "       [-1.22329016e+00, -1.52972698e+00, -1.31011254e+00],\n",
       "       [-5.06968280e-01,  7.87715631e-05, -6.04089732e-02],\n",
       "       [ 1.13460269e+00,  1.01515430e+00,  1.51676991e+00],\n",
       "       [-3.97530216e-01, -3.83132119e-01, -6.23107281e-03],\n",
       "       [-9.04924879e-01,  7.87715631e-05, -7.64721679e-01],\n",
       "       [ 3.38689490e-01, -1.03474836e-01,  8.12457200e-01],\n",
       "       [ 5.87412364e-01,  3.63538057e-02,  1.13391274e+00],\n",
       "       [-9.94465113e-01, -1.02634387e+00, -1.19212512e+00],\n",
       "       [ 3.38689490e-01,  3.63538057e-02,  5.82502112e-01],\n",
       "       [-6.95997665e-01, -7.74652315e-01, -5.34766590e-01],\n",
       "       [-9.94465113e-01, -1.41786407e+00, -1.39679718e+00],\n",
       "       [ 1.58230386e+00,  1.71429750e+00,  1.58780315e+00],\n",
       "       [-3.97530216e-01, -3.83132119e-01, -3.33706382e-01],\n",
       "       [-7.55691154e-01, -2.43303477e-01, -3.14443129e-01],\n",
       "       [ 5.87412364e-01, -1.03474836e-01,  3.93481437e-01],\n",
       "       [ 1.26393858e+00,  1.29481158e+00,  1.37349946e+00],\n",
       "       [-5.56712855e-01, -5.50926489e-01, -5.17911244e-01],\n",
       "       [ 2.07974961e+00,  2.13378343e+00,  1.52278967e+00],\n",
       "       [ 6.86901514e-01,  1.76182447e-01,  1.33015714e+00],\n",
       "       [ 3.38689490e-01, -1.03474836e-01,  3.34487723e-01],\n",
       "       [-9.24822708e-01, -1.13820678e+00, -1.08858513e+00],\n",
       "       [ 1.10475594e+00,  9.87188568e-01,  3.00777030e-01],\n",
       "       [ 2.62693993e+00,  3.39224120e+00,  1.57506582e-01],\n",
       "       [ 6.67003684e-01, -2.43303477e-01,  2.86329590e-01],\n",
       "       [ 1.26393858e+00,  1.01515430e+00,  1.35423620e+00],\n",
       "       [ 1.58230386e+00,  1.15498294e+00,  1.32413737e+00],\n",
       "       [-7.75588984e-01, -2.43303477e-01, -8.75485386e-01],\n",
       "       [-7.05946580e-01, -8.02618043e-01, -4.97444037e-01],\n",
       "       [-6.86048750e-01, -4.94995032e-01, -8.77893293e-01],\n",
       "       [ 8.99666166e-02, -6.34823674e-01,  6.84140345e-02],\n",
       "       [-4.47274791e-01, -1.87372021e-01, -1.68764774e-01],\n",
       "       [ 5.87412364e-01, -1.03474836e-01,  4.50067244e-01],\n",
       "       [ 3.38689490e-01,  1.76182447e-01,  4.87389798e-01],\n",
       "       [ 1.59225277e+00,  1.51853741e+00,  1.69495500e+00],\n",
       "       [-9.24822708e-01, -3.83132119e-01, -8.30939113e-01],\n",
       "       [ 1.13460269e+00,  7.35497013e-01,  1.06528740e+00],\n",
       "       [-8.25333559e-01, -8.02618043e-01, -7.28603079e-01],\n",
       "       [-8.55180304e-01, -1.13820678e+00, -8.91136780e-01],\n",
       "       [-4.57223706e-01, -7.74652315e-01,  2.46599129e-01],\n",
       "       [-7.15895494e-01, -1.03474836e-01, -4.09555443e-01],\n",
       "       [ 8.99666166e-02, -5.22960760e-01, -4.43266136e-01],\n",
       "       [-9.24822708e-01,  7.87715631e-05, -1.09460489e+00],\n",
       "       [ 1.26393858e+00,  1.29481158e+00,  1.54325688e+00],\n",
       "       [-8.35282474e-01, -3.83132119e-01, -6.32286811e-01],\n",
       "       [-9.94465113e-01, -9.98378142e-01, -1.18610535e+00],\n",
       "       [ 1.26393858e+00,  1.29481158e+00,  1.35062434e+00],\n",
       "       [-5.56712855e-01, -5.50926489e-01, -7.94820512e-01],\n",
       "       [-7.75588984e-01, -2.43303477e-01, -8.15287719e-01],\n",
       "       [-3.47785641e-01,  5.11771187e-01, -1.78396401e-01],\n",
       "       [-1.05415860e+00, -1.08227533e+00, -1.12590768e+00],\n",
       "       [-6.86048750e-01, -4.94995032e-01, -8.85117013e-01],\n",
       "       [-1.11385209e+00, -1.02634387e+00, -1.21018442e+00],\n",
       "       [-8.35282474e-01, -4.94995032e-01, -5.91352397e-01],\n",
       "       [-8.35282474e-01, -8.86515228e-01, -8.00840279e-01],\n",
       "       [ 1.98026046e+00,  2.41344071e+00,  1.07732694e+00],\n",
       "       [ 2.07974961e+00,  1.77022896e+00,  2.34870167e+00],\n",
       "       [ 1.68179301e+00,  3.11258392e+00,  1.99835124e+00],\n",
       "       [ 1.12465377e+00,  1.29481158e+00,  5.75278392e-01],\n",
       "       [-9.34771623e-01, -4.39063575e-01, -9.93472814e-01],\n",
       "       [-5.66661770e-01, -2.43303477e-01, -5.29950777e-01],\n",
       "       [ 7.56543918e-01,  5.95668372e-01,  7.82358367e-01],\n",
       "       [-7.95486814e-01, -6.62789402e-01, -9.63373980e-01],\n",
       "       [ 4.08331895e-01, -1.03474836e-01, -6.52247866e-02],\n",
       "       [-3.97530216e-01, -3.83132119e-01, -4.80588690e-01],\n",
       "       [ 1.68179301e+00,  1.99395479e+00,  1.04241229e+00],\n",
       "       [-1.00441403e+00, -1.55769271e+00, -1.04765071e+00],\n",
       "       [ 1.58230386e+00,  1.15498294e+00,  1.24347250e+00],\n",
       "       [-9.34771623e-01, -1.61362416e+00, -1.34863905e+00],\n",
       "       [-6.95997665e-01,  1.76182447e-01, -4.27614743e-01],\n",
       "       [ 1.12465377e+00,  1.29481158e+00,  1.56733595e+00],\n",
       "       [ 5.87412364e-01, -4.39063575e-01,  4.17560504e-01],\n",
       "       [-1.11385209e+00, -1.27803542e+00, -1.36067858e+00],\n",
       "       [-5.96508515e-01, -1.95776509e-02, -1.50705474e-01],\n",
       "       [ 1.59225277e+00,  1.26684585e+00,  1.66124431e+00],\n",
       "       [ 2.07974961e+00,  2.41344071e+00,  1.76598825e+00],\n",
       "       [-7.65640069e-01, -3.55166391e-01, -4.49285903e-01],\n",
       "       [-1.00441403e+00, -9.42446685e-01, -1.22583581e+00],\n",
       "       [ 5.87412364e-01,  1.76182447e-01,  8.30516501e-01],\n",
       "       [-9.94465113e-01, -9.42446685e-01, -1.20416465e+00],\n",
       "       [-9.29797166e-01, -6.62789402e-01, -9.98288627e-01],\n",
       "       [-7.15895494e-01, -1.87372021e-01, -6.62385645e-01],\n",
       "       [-9.24822708e-01, -9.98378142e-01, -9.63373980e-01],\n",
       "       [-1.78654087e-01,  3.16011089e-01, -4.33634510e-01],\n",
       "       [-9.24822708e-01, -5.78892217e-01, -1.05969025e+00],\n",
       "       [-9.94465113e-01, -1.22210397e+00, -1.39077742e+00]])"
      ]
     },
     "execution_count": 18,
     "metadata": {},
     "output_type": "execute_result"
    }
   ],
   "source": [
    "from sklearn.preprocessing import StandardScaler\n",
    "\n",
    "sc_model_x = StandardScaler()\n",
    "sc_model_x.fit(x_train)\n",
    "\n",
    "#各列のデータを標準化してsc_xに代入\n",
    "sc_x = sc_model_x.transform(x_train)\n",
    "sc_x"
   ]
  },
  {
   "cell_type": "code",
   "execution_count": 19,
   "metadata": {
    "colab": {
     "base_uri": "https://localhost:8080/"
    },
    "id": "SUrlzCrxHlFj",
    "outputId": "8c1a8d7d-dcad-4e5c-dd38-c3abdf49e4cc"
   },
   "outputs": [
    {
     "data": {
      "text/plain": [
       "Displacement    6.797284e-18\n",
       "Horsepower      1.151007e-16\n",
       "Weight          1.087565e-16\n",
       "dtype: float64"
      ]
     },
     "execution_count": 19,
     "metadata": {},
     "output_type": "execute_result"
    }
   ],
   "source": [
    "#平均値0を確認する\n",
    "tmp_df = pd.DataFrame(sc_x, columns = x_train.columns)\n",
    "#平均値の計算\n",
    "tmp_df.mean()"
   ]
  },
  {
   "cell_type": "code",
   "execution_count": 20,
   "metadata": {
    "colab": {
     "base_uri": "https://localhost:8080/"
    },
    "id": "MTHycAgYH8ub",
    "outputId": "0be66d78-9abc-4ca0-a3af-b762e16a0948"
   },
   "outputs": [
    {
     "data": {
      "text/plain": [
       "Displacement    1.002047\n",
       "Horsepower      1.002047\n",
       "Weight          1.002047\n",
       "dtype: float64"
      ]
     },
     "execution_count": 20,
     "metadata": {},
     "output_type": "execute_result"
    }
   ],
   "source": [
    "#標準偏差1を確認する\n",
    "tmp_df.std()"
   ]
  },
  {
   "cell_type": "code",
   "execution_count": 21,
   "metadata": {
    "id": "v8x6XIJ-IHM4"
   },
   "outputs": [],
   "source": [
    "#正解データを標準化する\n",
    "sc_model_y = StandardScaler()\n",
    "sc_model_y.fit(y_train)\n",
    "sc_y = sc_model_y.transform(y_train)"
   ]
  },
  {
   "cell_type": "code",
   "execution_count": 22,
   "metadata": {
    "colab": {
     "base_uri": "https://localhost:8080/"
    },
    "id": "BqzWPK5tIhmm",
    "outputId": "f01c6b37-8eb1-49f2-f2ed-41fc4b6efaf4"
   },
   "outputs": [
    {
     "name": "stderr",
     "output_type": "stream",
     "text": [
      "/usr/local/lib/python3.7/dist-packages/sklearn/base.py:444: UserWarning: X has feature names, but LinearRegression was fitted without feature names\n",
      "  f\"X has feature names, but {self.__class__.__name__} was fitted without\"\n"
     ]
    },
    {
     "data": {
      "text/plain": [
       "-38307.575114838044"
      ]
     },
     "execution_count": 22,
     "metadata": {},
     "output_type": "execute_result"
    }
   ],
   "source": [
    "#標準化したデータで学習させる\n",
    "model = LinearRegression()\n",
    "model.fit(sc_x, sc_y)\n",
    "\n",
    "#scoreメソッドで決定係数を求める\n",
    "model.score(x_val, y_val)"
   ]
  },
  {
   "cell_type": "code",
   "execution_count": 24,
   "metadata": {
    "colab": {
     "base_uri": "https://localhost:8080/"
    },
    "id": "j_7adhATJH-4",
    "outputId": "2a03ec05-b5d0-40f9-cac0-1f028ce8b714"
   },
   "outputs": [
    {
     "data": {
      "text/plain": [
       "0.7462588800368013"
      ]
     },
     "execution_count": 24,
     "metadata": {},
     "output_type": "execute_result"
    }
   ],
   "source": [
    "#検証データを標準化する\n",
    "sc_x_val = sc_model_x.transform(x_val)\n",
    "sc_y_val = sc_model_y.transform(y_val)\n",
    "#標準化した検証データで決定係数を計算\n",
    "model.score(sc_x_val, sc_y_val)"
   ]
  },
  {
   "cell_type": "markdown",
   "metadata": {
    "id": "0TNA-0LKypAJ"
   },
   "source": [
    "## 検証データの標準化（チューニングの実施）"
   ]
  },
  {
   "cell_type": "code",
   "execution_count": 25,
   "metadata": {
    "id": "6yoBzh3nx84q"
   },
   "outputs": [],
   "source": [
    "# learn関数の定義\n",
    "def learn(x,t):\n",
    "  x_train,x_val,y_train,y_val = train_test_split(x,t,test_size = 0.2, random_state = 0)\n",
    "\n",
    "  # 訓練データを標準化\n",
    "  sc_model_x = StandardScaler()\n",
    "  sc_model_y = StandardScaler()\n",
    "  sc_model_x.fit(x_train)\n",
    "  sc_x_train = sc_model_x.transform(x_train)\n",
    "  sc_model_y.fit(y_train)\n",
    "  sc_y_train = sc_model_y.transform(y_train)\n",
    "  # 学習\n",
    "  model = LinearRegression()\n",
    "  model.fit(sc_x_train, sc_y_train)\n",
    "  # 検証データを標準化\n",
    "  sc_x_val = sc_model_x.transform(x_val)\n",
    "  sc_y_val = sc_model_y.transform(y_val)\n",
    "  # 訓練データと検証データの決定係数計算\n",
    "  train_score = model.score(sc_x_train,sc_y_train)\n",
    "  val_score = model.score(sc_x_val,sc_y_val)\n",
    "\n",
    "  return train_score,val_score"
   ]
  },
  {
   "cell_type": "code",
   "execution_count": 26,
   "metadata": {
    "colab": {
     "base_uri": "https://localhost:8080/"
    },
    "id": "Q45Un1gf1I8Z",
    "outputId": "2d465d43-02be-4662-e124-0a3e78646600"
   },
   "outputs": [
    {
     "name": "stdout",
     "output_type": "stream",
     "text": [
      "0.732959426109451 0.7462588800368013\n"
     ]
    }
   ],
   "source": [
    "# learn関数を実行\n",
    "x = train_val4.loc[ :,['Displacement','Horsepower','Weight']]\n",
    "t = train_val4[['MPG']]\n",
    "s1,s2 = learn(x,t)\n",
    "print(s1,s2)"
   ]
  },
  {
   "cell_type": "code",
   "execution_count": 27,
   "metadata": {
    "colab": {
     "base_uri": "https://localhost:8080/"
    },
    "id": "X3JwLy4N4s2V",
    "outputId": "91ac8cbd-0f86-49ff-8fdd-8f28a1be4c32"
   },
   "outputs": [
    {
     "name": "stdout",
     "output_type": "stream",
     "text": [
      "0.7606877021868641 0.7926560321715101\n",
      "0.7749345035434654 0.7996579377868945\n",
      "0.7816400933705909 0.8177058475152126\n"
     ]
    }
   ],
   "source": [
    "#データフレームのWeight,Displacement,Horsepower,のデータを2乗する\n",
    "x['Weight2'] = x['Weight'] ** 2\n",
    "s1,s2 = learn(x,t)\n",
    "print(s1,s2)\n",
    "\n",
    "x['Displacement2'] = x['Displacement'] ** 2\n",
    "s1,s2 = learn(x,t)\n",
    "print(s1,s2)\n",
    "\n",
    "x['Horsepower2'] = x['Horsepower'] ** 2\n",
    "s1,s2 = learn(x,t)\n",
    "print(s1,s2)\n"
   ]
  },
  {
   "cell_type": "code",
   "execution_count": 29,
   "metadata": {
    "colab": {
     "base_uri": "https://localhost:8080/"
    },
    "id": "T0gyZm8XW2EV",
    "outputId": "989e9e7a-0908-40b7-d12a-6fe254fc9dfe"
   },
   "outputs": [
    {
     "name": "stdout",
     "output_type": "stream",
     "text": [
      "0.7860596742206246 0.813837210058203\n"
     ]
    }
   ],
   "source": [
    "#交互作用特徴量を追加する\n",
    "x['Weight * Displacement'] = x['Weight'] * x['Displacement']\n",
    "#特徴量を追加したので再学習を行う\n",
    "s1, s2 = learn(x,t)\n",
    "print(s1,s2)"
   ]
  },
  {
   "cell_type": "markdown",
   "metadata": {
    "id": "FbewpiOX3z0K"
   },
   "source": [
    "# 検証データでの決定係数が0.81を超えたので終了"
   ]
  }
 ],
 "metadata": {
  "colab": {
   "collapsed_sections": [],
   "name": "kouka_回帰_立川校_田岡.ipynb",
   "provenance": []
  },
  "kernelspec": {
   "display_name": "Python 3",
   "language": "python",
   "name": "python3"
  },
  "language_info": {
   "codemirror_mode": {
    "name": "ipython",
    "version": 3
   },
   "file_extension": ".py",
   "mimetype": "text/x-python",
   "name": "python",
   "nbconvert_exporter": "python",
   "pygments_lexer": "ipython3",
   "version": "3.8.5"
  }
 },
 "nbformat": 4,
 "nbformat_minor": 1
}
