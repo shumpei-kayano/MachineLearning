{
 "cells": [
  {
   "cell_type": "markdown",
   "metadata": {},
   "source": [
    "# きのこの判別"
   ]
  },
  {
   "cell_type": "markdown",
   "metadata": {},
   "source": [
    "### ≪機械学習の流れ≫\n",
    "１.データ収集<br>\n",
    "２.ダミー変数化（カテゴリ特徴量列）<br>\n",
    "３.テストデータの分離<br>\n",
    "４.前処理<br>　\n",
    " ①欠損値処理<br>　\n",
    " ②外れ値の処理<br>　\n",
    " ③特徴量の絞り込み<br>　\n",
    " ④標準化<br>　\n",
    " ⑤多項式特徴量、交互作用特徴量の追加<br>　\n",
    " ⑥特徴量と正解データに分割<br>　\n",
    " ⑦教師データの分割<br>\n",
    "５.学習<br>　\n",
    " ①未学習状態のモデルの生成<br>　\n",
    " ②訓練データで学習<br>\n",
    "６.評価<br>　\n",
    " ①検証データで評価し指標確認<br>　　\n",
    "⇒OK:最終性能評価（テストデータで評価）<br>　　\n",
    "⇒NG:改善案検討、前処理に戻る<br>"
   ]
  },
  {
   "cell_type": "markdown",
   "metadata": {},
   "source": [
    "準備：表形式のデータ構造(`データフレーム`)の処理に特化したライブラリ『**pandas**』をインポートします"
   ]
  },
  {
   "cell_type": "code",
   "execution_count": 1,
   "metadata": {
    "executionInfo": {
     "elapsed": 1016,
     "status": "ok",
     "timestamp": 1639540573330,
     "user": {
      "displayName": "本田忠",
      "photoUrl": "https://lh3.googleusercontent.com/a/default-user=s64",
      "userId": "18152980560466588609"
     },
     "user_tz": -540
    },
    "id": "0cMfibLd9UcE"
   },
   "outputs": [],
   "source": [
    "# pandasをインポートして別名をpdとする\n",
    "import pandas as pd"
   ]
  },
  {
   "cell_type": "markdown",
   "metadata": {},
   "source": [
    "### ≪機械学習の流れ≫　１.データ収集"
   ]
  },
  {
   "cell_type": "markdown",
   "metadata": {},
   "source": [
    "事前に準備しているCSVファイルを読み込み、pandasを利用してデータフレームを作成します。<br>\n",
    "読み込み後にデータフレームの先頭5行を表示します。"
   ]
  },
  {
   "cell_type": "code",
   "execution_count": 2,
   "metadata": {
    "colab": {
     "base_uri": "https://localhost:8080/",
     "height": 206
    },
    "executionInfo": {
     "elapsed": 274,
     "status": "ok",
     "timestamp": 1639540633535,
     "user": {
      "displayName": "本田忠",
      "photoUrl": "https://lh3.googleusercontent.com/a/default-user=s64",
      "userId": "18152980560466588609"
     },
     "user_tz": -540
    },
    "id": "TTi4H3RlKPw0",
    "outputId": "fc007b6d-56d2-4c9a-dcad-118270030109"
   },
   "outputs": [
    {
     "data": {
      "text/html": [
       "<div>\n",
       "<style scoped>\n",
       "    .dataframe tbody tr th:only-of-type {\n",
       "        vertical-align: middle;\n",
       "    }\n",
       "\n",
       "    .dataframe tbody tr th {\n",
       "        vertical-align: top;\n",
       "    }\n",
       "\n",
       "    .dataframe thead th {\n",
       "        text-align: right;\n",
       "    }\n",
       "</style>\n",
       "<table border=\"1\" class=\"dataframe\">\n",
       "  <thead>\n",
       "    <tr style=\"text-align: right;\">\n",
       "      <th></th>\n",
       "      <th>class</th>\n",
       "      <th>cap-shape</th>\n",
       "      <th>cap-surface</th>\n",
       "      <th>cap-color</th>\n",
       "      <th>bruises</th>\n",
       "      <th>odor</th>\n",
       "      <th>gill-attachment</th>\n",
       "      <th>gill-spacing</th>\n",
       "      <th>gill-size</th>\n",
       "      <th>gill-color</th>\n",
       "      <th>...</th>\n",
       "      <th>stalk-surface-below-ring</th>\n",
       "      <th>stalk-color-above-ring</th>\n",
       "      <th>stalk-color-below-ring</th>\n",
       "      <th>veil-type</th>\n",
       "      <th>veil-color</th>\n",
       "      <th>ring-number</th>\n",
       "      <th>ring-type</th>\n",
       "      <th>spore-print-color</th>\n",
       "      <th>population</th>\n",
       "      <th>habitat</th>\n",
       "    </tr>\n",
       "  </thead>\n",
       "  <tbody>\n",
       "    <tr>\n",
       "      <th>0</th>\n",
       "      <td>poisonous</td>\n",
       "      <td>convex</td>\n",
       "      <td>smooth</td>\n",
       "      <td>brown</td>\n",
       "      <td>yes</td>\n",
       "      <td>pungent</td>\n",
       "      <td>free</td>\n",
       "      <td>close</td>\n",
       "      <td>narrow</td>\n",
       "      <td>black</td>\n",
       "      <td>...</td>\n",
       "      <td>smooth</td>\n",
       "      <td>white</td>\n",
       "      <td>white</td>\n",
       "      <td>partial</td>\n",
       "      <td>white</td>\n",
       "      <td>one</td>\n",
       "      <td>pendant</td>\n",
       "      <td>black</td>\n",
       "      <td>scattered</td>\n",
       "      <td>urban</td>\n",
       "    </tr>\n",
       "    <tr>\n",
       "      <th>1</th>\n",
       "      <td>edible</td>\n",
       "      <td>convex</td>\n",
       "      <td>smooth</td>\n",
       "      <td>yellow</td>\n",
       "      <td>yes</td>\n",
       "      <td>almond</td>\n",
       "      <td>free</td>\n",
       "      <td>close</td>\n",
       "      <td>broad</td>\n",
       "      <td>black</td>\n",
       "      <td>...</td>\n",
       "      <td>smooth</td>\n",
       "      <td>white</td>\n",
       "      <td>white</td>\n",
       "      <td>partial</td>\n",
       "      <td>white</td>\n",
       "      <td>one</td>\n",
       "      <td>pendant</td>\n",
       "      <td>brown</td>\n",
       "      <td>numerous</td>\n",
       "      <td>grasses</td>\n",
       "    </tr>\n",
       "    <tr>\n",
       "      <th>2</th>\n",
       "      <td>edible</td>\n",
       "      <td>bell</td>\n",
       "      <td>smooth</td>\n",
       "      <td>white</td>\n",
       "      <td>yes</td>\n",
       "      <td>anise</td>\n",
       "      <td>free</td>\n",
       "      <td>close</td>\n",
       "      <td>broad</td>\n",
       "      <td>brown</td>\n",
       "      <td>...</td>\n",
       "      <td>smooth</td>\n",
       "      <td>white</td>\n",
       "      <td>white</td>\n",
       "      <td>partial</td>\n",
       "      <td>white</td>\n",
       "      <td>one</td>\n",
       "      <td>pendant</td>\n",
       "      <td>brown</td>\n",
       "      <td>numerous</td>\n",
       "      <td>meadows</td>\n",
       "    </tr>\n",
       "    <tr>\n",
       "      <th>3</th>\n",
       "      <td>poisonous</td>\n",
       "      <td>convex</td>\n",
       "      <td>scaly</td>\n",
       "      <td>white</td>\n",
       "      <td>yes</td>\n",
       "      <td>pungent</td>\n",
       "      <td>free</td>\n",
       "      <td>close</td>\n",
       "      <td>narrow</td>\n",
       "      <td>brown</td>\n",
       "      <td>...</td>\n",
       "      <td>smooth</td>\n",
       "      <td>white</td>\n",
       "      <td>white</td>\n",
       "      <td>partial</td>\n",
       "      <td>white</td>\n",
       "      <td>one</td>\n",
       "      <td>pendant</td>\n",
       "      <td>black</td>\n",
       "      <td>scattered</td>\n",
       "      <td>urban</td>\n",
       "    </tr>\n",
       "    <tr>\n",
       "      <th>4</th>\n",
       "      <td>edible</td>\n",
       "      <td>convex</td>\n",
       "      <td>smooth</td>\n",
       "      <td>gray</td>\n",
       "      <td>no</td>\n",
       "      <td>none</td>\n",
       "      <td>free</td>\n",
       "      <td>crowded</td>\n",
       "      <td>broad</td>\n",
       "      <td>black</td>\n",
       "      <td>...</td>\n",
       "      <td>smooth</td>\n",
       "      <td>white</td>\n",
       "      <td>white</td>\n",
       "      <td>partial</td>\n",
       "      <td>white</td>\n",
       "      <td>one</td>\n",
       "      <td>evanescent</td>\n",
       "      <td>brown</td>\n",
       "      <td>abundant</td>\n",
       "      <td>grasses</td>\n",
       "    </tr>\n",
       "  </tbody>\n",
       "</table>\n",
       "<p>5 rows × 23 columns</p>\n",
       "</div>"
      ],
      "text/plain": [
       "       class cap-shape cap-surface cap-color bruises     odor gill-attachment  \\\n",
       "0  poisonous    convex      smooth     brown     yes  pungent            free   \n",
       "1     edible    convex      smooth    yellow     yes   almond            free   \n",
       "2     edible      bell      smooth     white     yes    anise            free   \n",
       "3  poisonous    convex       scaly     white     yes  pungent            free   \n",
       "4     edible    convex      smooth      gray      no     none            free   \n",
       "\n",
       "  gill-spacing gill-size gill-color  ... stalk-surface-below-ring  \\\n",
       "0        close    narrow      black  ...                   smooth   \n",
       "1        close     broad      black  ...                   smooth   \n",
       "2        close     broad      brown  ...                   smooth   \n",
       "3        close    narrow      brown  ...                   smooth   \n",
       "4      crowded     broad      black  ...                   smooth   \n",
       "\n",
       "  stalk-color-above-ring stalk-color-below-ring veil-type veil-color  \\\n",
       "0                  white                  white   partial      white   \n",
       "1                  white                  white   partial      white   \n",
       "2                  white                  white   partial      white   \n",
       "3                  white                  white   partial      white   \n",
       "4                  white                  white   partial      white   \n",
       "\n",
       "  ring-number   ring-type spore-print-color population  habitat  \n",
       "0         one     pendant             black  scattered    urban  \n",
       "1         one     pendant             brown   numerous  grasses  \n",
       "2         one     pendant             brown   numerous  meadows  \n",
       "3         one     pendant             black  scattered    urban  \n",
       "4         one  evanescent             brown   abundant  grasses  \n",
       "\n",
       "[5 rows x 23 columns]"
      ]
     },
     "execution_count": 2,
     "metadata": {},
     "output_type": "execute_result"
    }
   ],
   "source": [
    "# mushrooms.csv を読み込みデータフレームを生成 \n",
    "# ※漢字等がある場合は, （encoding='shift_jis'）を引数に追加\n",
    "df = pd.read_csv('mushrooms.csv')\n",
    "\n",
    "# 先頭5行を表示\n",
    "df.head(5)"
   ]
  },
  {
   "cell_type": "markdown",
   "metadata": {},
   "source": [
    "### ≪機械学習の流れ≫　２.ダミー変数化（カテゴリ特徴量列）"
   ]
  },
  {
   "cell_type": "markdown",
   "metadata": {},
   "source": [
    "scikit-learnでは、特徴量には数値の列しか追加できません。<br>\n",
    "そのため、文字列である列を特徴量に加えたいときには、文字列を数値に変換します。"
   ]
  },
  {
   "cell_type": "code",
   "execution_count": 3,
   "metadata": {},
   "outputs": [],
   "source": [
    "# dfの「特徴量の列名」を取得\n",
    "# df.columns\n",
    "# 上記実行後に下記のプログラムに貼り付け"
   ]
  },
  {
   "cell_type": "code",
   "execution_count": 4,
   "metadata": {},
   "outputs": [
    {
     "data": {
      "text/html": [
       "<div>\n",
       "<style scoped>\n",
       "    .dataframe tbody tr th:only-of-type {\n",
       "        vertical-align: middle;\n",
       "    }\n",
       "\n",
       "    .dataframe tbody tr th {\n",
       "        vertical-align: top;\n",
       "    }\n",
       "\n",
       "    .dataframe thead th {\n",
       "        text-align: right;\n",
       "    }\n",
       "</style>\n",
       "<table border=\"1\" class=\"dataframe\">\n",
       "  <thead>\n",
       "    <tr style=\"text-align: right;\">\n",
       "      <th></th>\n",
       "      <th>class</th>\n",
       "      <th>cap-shape_conical</th>\n",
       "      <th>cap-shape_convex</th>\n",
       "      <th>cap-shape_flat</th>\n",
       "      <th>cap-shape_knobbed</th>\n",
       "      <th>cap-shape_sunken</th>\n",
       "      <th>cap-surface_groovesmooth</th>\n",
       "      <th>cap-surface_scaly</th>\n",
       "      <th>cap-surface_smooth</th>\n",
       "      <th>cap-color_buff</th>\n",
       "      <th>...</th>\n",
       "      <th>population_numerous</th>\n",
       "      <th>population_scattered</th>\n",
       "      <th>population_several</th>\n",
       "      <th>population_solitary</th>\n",
       "      <th>habitat_leaves</th>\n",
       "      <th>habitat_meadows</th>\n",
       "      <th>habitat_paths</th>\n",
       "      <th>habitat_urban</th>\n",
       "      <th>habitat_waste</th>\n",
       "      <th>habitat_woods</th>\n",
       "    </tr>\n",
       "  </thead>\n",
       "  <tbody>\n",
       "    <tr>\n",
       "      <th>0</th>\n",
       "      <td>poisonous</td>\n",
       "      <td>0</td>\n",
       "      <td>1</td>\n",
       "      <td>0</td>\n",
       "      <td>0</td>\n",
       "      <td>0</td>\n",
       "      <td>0</td>\n",
       "      <td>0</td>\n",
       "      <td>1</td>\n",
       "      <td>0</td>\n",
       "      <td>...</td>\n",
       "      <td>0</td>\n",
       "      <td>1</td>\n",
       "      <td>0</td>\n",
       "      <td>0</td>\n",
       "      <td>0</td>\n",
       "      <td>0</td>\n",
       "      <td>0</td>\n",
       "      <td>1</td>\n",
       "      <td>0</td>\n",
       "      <td>0</td>\n",
       "    </tr>\n",
       "    <tr>\n",
       "      <th>1</th>\n",
       "      <td>edible</td>\n",
       "      <td>0</td>\n",
       "      <td>1</td>\n",
       "      <td>0</td>\n",
       "      <td>0</td>\n",
       "      <td>0</td>\n",
       "      <td>0</td>\n",
       "      <td>0</td>\n",
       "      <td>1</td>\n",
       "      <td>0</td>\n",
       "      <td>...</td>\n",
       "      <td>1</td>\n",
       "      <td>0</td>\n",
       "      <td>0</td>\n",
       "      <td>0</td>\n",
       "      <td>0</td>\n",
       "      <td>0</td>\n",
       "      <td>0</td>\n",
       "      <td>0</td>\n",
       "      <td>0</td>\n",
       "      <td>0</td>\n",
       "    </tr>\n",
       "    <tr>\n",
       "      <th>2</th>\n",
       "      <td>edible</td>\n",
       "      <td>0</td>\n",
       "      <td>0</td>\n",
       "      <td>0</td>\n",
       "      <td>0</td>\n",
       "      <td>0</td>\n",
       "      <td>0</td>\n",
       "      <td>0</td>\n",
       "      <td>1</td>\n",
       "      <td>0</td>\n",
       "      <td>...</td>\n",
       "      <td>1</td>\n",
       "      <td>0</td>\n",
       "      <td>0</td>\n",
       "      <td>0</td>\n",
       "      <td>0</td>\n",
       "      <td>1</td>\n",
       "      <td>0</td>\n",
       "      <td>0</td>\n",
       "      <td>0</td>\n",
       "      <td>0</td>\n",
       "    </tr>\n",
       "  </tbody>\n",
       "</table>\n",
       "<p>3 rows × 96 columns</p>\n",
       "</div>"
      ],
      "text/plain": [
       "       class  cap-shape_conical  cap-shape_convex  cap-shape_flat  \\\n",
       "0  poisonous                  0                 1               0   \n",
       "1     edible                  0                 1               0   \n",
       "2     edible                  0                 0               0   \n",
       "\n",
       "   cap-shape_knobbed  cap-shape_sunken  cap-surface_groovesmooth  \\\n",
       "0                  0                 0                         0   \n",
       "1                  0                 0                         0   \n",
       "2                  0                 0                         0   \n",
       "\n",
       "   cap-surface_scaly  cap-surface_smooth  cap-color_buff  ...  \\\n",
       "0                  0                   1               0  ...   \n",
       "1                  0                   1               0  ...   \n",
       "2                  0                   1               0  ...   \n",
       "\n",
       "   population_numerous  population_scattered  population_several  \\\n",
       "0                    0                     1                   0   \n",
       "1                    1                     0                   0   \n",
       "2                    1                     0                   0   \n",
       "\n",
       "   population_solitary  habitat_leaves  habitat_meadows  habitat_paths  \\\n",
       "0                    0               0                0              0   \n",
       "1                    0               0                0              0   \n",
       "2                    0               0                1              0   \n",
       "\n",
       "   habitat_urban  habitat_waste  habitat_woods  \n",
       "0              1              0              0  \n",
       "1              0              0              0  \n",
       "2              0              0              0  \n",
       "\n",
       "[3 rows x 96 columns]"
      ]
     },
     "execution_count": 4,
     "metadata": {},
     "output_type": "execute_result"
    }
   ],
   "source": [
    "# 特徴量のみダミー変数化\n",
    "df2 = pd.get_dummies(df, drop_first=True, columns=['cap-shape', 'cap-surface', 'cap-color', 'bruises', 'odor',\n",
    "       'gill-attachment', 'gill-spacing', 'gill-size', 'gill-color',\n",
    "       'stalk-shape', 'stalk-root', 'stalk-surface-above-ring',\n",
    "       'stalk-surface-below-ring', 'stalk-color-above-ring',\n",
    "       'stalk-color-below-ring', 'veil-type', 'veil-color', 'ring-number',\n",
    "       'ring-type', 'spore-print-color', 'population', 'habitat'])\n",
    "\n",
    "df2.head(3)\n",
    "\n",
    "# df2 = pd.get_dummies(df,drop_first = True) \n",
    "# 上記プログラムだとデータフレーム全体（正解データを含む）がダミー変数化されるため使用しない"
   ]
  },
  {
   "cell_type": "markdown",
   "metadata": {},
   "source": [
    "### ≪機械学習の流れ≫　３.テストデータの分離"
   ]
  },
  {
   "cell_type": "markdown",
   "metadata": {},
   "source": [
    "訓練データ（訓練・検証）とテストデータに分割します。<br>\n",
    "<br>　\n",
    "訓練データ：学習に利用するデータ<br>　\n",
    "検証データ：学習には利用せず、チューニングの参考にするために利用するデータ<br>　\n",
    "テストデータ：最終的なモデルの予測性能を評価するためだけのデータ"
   ]
  },
  {
   "cell_type": "code",
   "execution_count": 5,
   "metadata": {},
   "outputs": [],
   "source": [
    "# データの分割で使用する関数をインポート\n",
    "from sklearn.model_selection import train_test_split\n",
    "\n",
    "# 訓練（訓練・検証）データとテストデータに分割します。　割合 8:2\n",
    "train_vol, test_vol = train_test_split(df2, test_size=0.2, random_state=0)"
   ]
  },
  {
   "cell_type": "markdown",
   "metadata": {},
   "source": [
    "### ≪機械学習の流れ≫　４.前処理　①欠損値処理"
   ]
  },
  {
   "cell_type": "markdown",
   "metadata": {},
   "source": [
    "欠損値（空欄のデータ）を確認します。<br>\n",
    "今回は３パータンで確認しています。"
   ]
  },
  {
   "cell_type": "code",
   "execution_count": 6,
   "metadata": {
    "colab": {
     "base_uri": "https://localhost:8080/",
     "height": 424
    },
    "executionInfo": {
     "elapsed": 269,
     "status": "ok",
     "timestamp": 1639540832386,
     "user": {
      "displayName": "本田忠",
      "photoUrl": "https://lh3.googleusercontent.com/a/default-user=s64",
      "userId": "18152980560466588609"
     },
     "user_tz": -540
    },
    "id": "s9FnR256ge3K",
    "outputId": "c421c5cc-a458-4e99-ab9c-ecbdf76ad317"
   },
   "outputs": [
    {
     "data": {
      "text/html": [
       "<div>\n",
       "<style scoped>\n",
       "    .dataframe tbody tr th:only-of-type {\n",
       "        vertical-align: middle;\n",
       "    }\n",
       "\n",
       "    .dataframe tbody tr th {\n",
       "        vertical-align: top;\n",
       "    }\n",
       "\n",
       "    .dataframe thead th {\n",
       "        text-align: right;\n",
       "    }\n",
       "</style>\n",
       "<table border=\"1\" class=\"dataframe\">\n",
       "  <thead>\n",
       "    <tr style=\"text-align: right;\">\n",
       "      <th></th>\n",
       "      <th>class</th>\n",
       "      <th>cap-shape_conical</th>\n",
       "      <th>cap-shape_convex</th>\n",
       "      <th>cap-shape_flat</th>\n",
       "      <th>cap-shape_knobbed</th>\n",
       "      <th>cap-shape_sunken</th>\n",
       "      <th>cap-surface_groovesmooth</th>\n",
       "      <th>cap-surface_scaly</th>\n",
       "      <th>cap-surface_smooth</th>\n",
       "      <th>cap-color_buff</th>\n",
       "      <th>...</th>\n",
       "      <th>population_numerous</th>\n",
       "      <th>population_scattered</th>\n",
       "      <th>population_several</th>\n",
       "      <th>population_solitary</th>\n",
       "      <th>habitat_leaves</th>\n",
       "      <th>habitat_meadows</th>\n",
       "      <th>habitat_paths</th>\n",
       "      <th>habitat_urban</th>\n",
       "      <th>habitat_waste</th>\n",
       "      <th>habitat_woods</th>\n",
       "    </tr>\n",
       "  </thead>\n",
       "  <tbody>\n",
       "    <tr>\n",
       "      <th>7434</th>\n",
       "      <td>False</td>\n",
       "      <td>False</td>\n",
       "      <td>False</td>\n",
       "      <td>False</td>\n",
       "      <td>False</td>\n",
       "      <td>False</td>\n",
       "      <td>False</td>\n",
       "      <td>False</td>\n",
       "      <td>False</td>\n",
       "      <td>False</td>\n",
       "      <td>...</td>\n",
       "      <td>False</td>\n",
       "      <td>False</td>\n",
       "      <td>False</td>\n",
       "      <td>False</td>\n",
       "      <td>False</td>\n",
       "      <td>False</td>\n",
       "      <td>False</td>\n",
       "      <td>False</td>\n",
       "      <td>False</td>\n",
       "      <td>False</td>\n",
       "    </tr>\n",
       "    <tr>\n",
       "      <th>7725</th>\n",
       "      <td>False</td>\n",
       "      <td>False</td>\n",
       "      <td>False</td>\n",
       "      <td>False</td>\n",
       "      <td>False</td>\n",
       "      <td>False</td>\n",
       "      <td>False</td>\n",
       "      <td>False</td>\n",
       "      <td>False</td>\n",
       "      <td>False</td>\n",
       "      <td>...</td>\n",
       "      <td>False</td>\n",
       "      <td>False</td>\n",
       "      <td>False</td>\n",
       "      <td>False</td>\n",
       "      <td>False</td>\n",
       "      <td>False</td>\n",
       "      <td>False</td>\n",
       "      <td>False</td>\n",
       "      <td>False</td>\n",
       "      <td>False</td>\n",
       "    </tr>\n",
       "    <tr>\n",
       "      <th>783</th>\n",
       "      <td>False</td>\n",
       "      <td>False</td>\n",
       "      <td>False</td>\n",
       "      <td>False</td>\n",
       "      <td>False</td>\n",
       "      <td>False</td>\n",
       "      <td>False</td>\n",
       "      <td>False</td>\n",
       "      <td>False</td>\n",
       "      <td>False</td>\n",
       "      <td>...</td>\n",
       "      <td>False</td>\n",
       "      <td>False</td>\n",
       "      <td>False</td>\n",
       "      <td>False</td>\n",
       "      <td>False</td>\n",
       "      <td>False</td>\n",
       "      <td>False</td>\n",
       "      <td>False</td>\n",
       "      <td>False</td>\n",
       "      <td>False</td>\n",
       "    </tr>\n",
       "    <tr>\n",
       "      <th>1928</th>\n",
       "      <td>False</td>\n",
       "      <td>False</td>\n",
       "      <td>False</td>\n",
       "      <td>False</td>\n",
       "      <td>False</td>\n",
       "      <td>False</td>\n",
       "      <td>False</td>\n",
       "      <td>False</td>\n",
       "      <td>False</td>\n",
       "      <td>False</td>\n",
       "      <td>...</td>\n",
       "      <td>False</td>\n",
       "      <td>False</td>\n",
       "      <td>False</td>\n",
       "      <td>False</td>\n",
       "      <td>False</td>\n",
       "      <td>False</td>\n",
       "      <td>False</td>\n",
       "      <td>False</td>\n",
       "      <td>False</td>\n",
       "      <td>False</td>\n",
       "    </tr>\n",
       "    <tr>\n",
       "      <th>7466</th>\n",
       "      <td>False</td>\n",
       "      <td>False</td>\n",
       "      <td>False</td>\n",
       "      <td>False</td>\n",
       "      <td>False</td>\n",
       "      <td>False</td>\n",
       "      <td>False</td>\n",
       "      <td>False</td>\n",
       "      <td>False</td>\n",
       "      <td>False</td>\n",
       "      <td>...</td>\n",
       "      <td>False</td>\n",
       "      <td>False</td>\n",
       "      <td>False</td>\n",
       "      <td>False</td>\n",
       "      <td>False</td>\n",
       "      <td>False</td>\n",
       "      <td>False</td>\n",
       "      <td>False</td>\n",
       "      <td>False</td>\n",
       "      <td>False</td>\n",
       "    </tr>\n",
       "    <tr>\n",
       "      <th>...</th>\n",
       "      <td>...</td>\n",
       "      <td>...</td>\n",
       "      <td>...</td>\n",
       "      <td>...</td>\n",
       "      <td>...</td>\n",
       "      <td>...</td>\n",
       "      <td>...</td>\n",
       "      <td>...</td>\n",
       "      <td>...</td>\n",
       "      <td>...</td>\n",
       "      <td>...</td>\n",
       "      <td>...</td>\n",
       "      <td>...</td>\n",
       "      <td>...</td>\n",
       "      <td>...</td>\n",
       "      <td>...</td>\n",
       "      <td>...</td>\n",
       "      <td>...</td>\n",
       "      <td>...</td>\n",
       "      <td>...</td>\n",
       "      <td>...</td>\n",
       "    </tr>\n",
       "    <tr>\n",
       "      <th>4931</th>\n",
       "      <td>False</td>\n",
       "      <td>False</td>\n",
       "      <td>False</td>\n",
       "      <td>False</td>\n",
       "      <td>False</td>\n",
       "      <td>False</td>\n",
       "      <td>False</td>\n",
       "      <td>False</td>\n",
       "      <td>False</td>\n",
       "      <td>False</td>\n",
       "      <td>...</td>\n",
       "      <td>False</td>\n",
       "      <td>False</td>\n",
       "      <td>False</td>\n",
       "      <td>False</td>\n",
       "      <td>False</td>\n",
       "      <td>False</td>\n",
       "      <td>False</td>\n",
       "      <td>False</td>\n",
       "      <td>False</td>\n",
       "      <td>False</td>\n",
       "    </tr>\n",
       "    <tr>\n",
       "      <th>3264</th>\n",
       "      <td>False</td>\n",
       "      <td>False</td>\n",
       "      <td>False</td>\n",
       "      <td>False</td>\n",
       "      <td>False</td>\n",
       "      <td>False</td>\n",
       "      <td>False</td>\n",
       "      <td>False</td>\n",
       "      <td>False</td>\n",
       "      <td>False</td>\n",
       "      <td>...</td>\n",
       "      <td>False</td>\n",
       "      <td>False</td>\n",
       "      <td>False</td>\n",
       "      <td>False</td>\n",
       "      <td>False</td>\n",
       "      <td>False</td>\n",
       "      <td>False</td>\n",
       "      <td>False</td>\n",
       "      <td>False</td>\n",
       "      <td>False</td>\n",
       "    </tr>\n",
       "    <tr>\n",
       "      <th>1653</th>\n",
       "      <td>False</td>\n",
       "      <td>False</td>\n",
       "      <td>False</td>\n",
       "      <td>False</td>\n",
       "      <td>False</td>\n",
       "      <td>False</td>\n",
       "      <td>False</td>\n",
       "      <td>False</td>\n",
       "      <td>False</td>\n",
       "      <td>False</td>\n",
       "      <td>...</td>\n",
       "      <td>False</td>\n",
       "      <td>False</td>\n",
       "      <td>False</td>\n",
       "      <td>False</td>\n",
       "      <td>False</td>\n",
       "      <td>False</td>\n",
       "      <td>False</td>\n",
       "      <td>False</td>\n",
       "      <td>False</td>\n",
       "      <td>False</td>\n",
       "    </tr>\n",
       "    <tr>\n",
       "      <th>2607</th>\n",
       "      <td>False</td>\n",
       "      <td>False</td>\n",
       "      <td>False</td>\n",
       "      <td>False</td>\n",
       "      <td>False</td>\n",
       "      <td>False</td>\n",
       "      <td>False</td>\n",
       "      <td>False</td>\n",
       "      <td>False</td>\n",
       "      <td>False</td>\n",
       "      <td>...</td>\n",
       "      <td>False</td>\n",
       "      <td>False</td>\n",
       "      <td>False</td>\n",
       "      <td>False</td>\n",
       "      <td>False</td>\n",
       "      <td>False</td>\n",
       "      <td>False</td>\n",
       "      <td>False</td>\n",
       "      <td>False</td>\n",
       "      <td>False</td>\n",
       "    </tr>\n",
       "    <tr>\n",
       "      <th>2732</th>\n",
       "      <td>False</td>\n",
       "      <td>False</td>\n",
       "      <td>False</td>\n",
       "      <td>False</td>\n",
       "      <td>False</td>\n",
       "      <td>False</td>\n",
       "      <td>False</td>\n",
       "      <td>False</td>\n",
       "      <td>False</td>\n",
       "      <td>False</td>\n",
       "      <td>...</td>\n",
       "      <td>False</td>\n",
       "      <td>False</td>\n",
       "      <td>False</td>\n",
       "      <td>False</td>\n",
       "      <td>False</td>\n",
       "      <td>False</td>\n",
       "      <td>False</td>\n",
       "      <td>False</td>\n",
       "      <td>False</td>\n",
       "      <td>False</td>\n",
       "    </tr>\n",
       "  </tbody>\n",
       "</table>\n",
       "<p>6499 rows × 96 columns</p>\n",
       "</div>"
      ],
      "text/plain": [
       "      class  cap-shape_conical  cap-shape_convex  cap-shape_flat  \\\n",
       "7434  False              False             False           False   \n",
       "7725  False              False             False           False   \n",
       "783   False              False             False           False   \n",
       "1928  False              False             False           False   \n",
       "7466  False              False             False           False   \n",
       "...     ...                ...               ...             ...   \n",
       "4931  False              False             False           False   \n",
       "3264  False              False             False           False   \n",
       "1653  False              False             False           False   \n",
       "2607  False              False             False           False   \n",
       "2732  False              False             False           False   \n",
       "\n",
       "      cap-shape_knobbed  cap-shape_sunken  cap-surface_groovesmooth  \\\n",
       "7434              False             False                     False   \n",
       "7725              False             False                     False   \n",
       "783               False             False                     False   \n",
       "1928              False             False                     False   \n",
       "7466              False             False                     False   \n",
       "...                 ...               ...                       ...   \n",
       "4931              False             False                     False   \n",
       "3264              False             False                     False   \n",
       "1653              False             False                     False   \n",
       "2607              False             False                     False   \n",
       "2732              False             False                     False   \n",
       "\n",
       "      cap-surface_scaly  cap-surface_smooth  cap-color_buff  ...  \\\n",
       "7434              False               False           False  ...   \n",
       "7725              False               False           False  ...   \n",
       "783               False               False           False  ...   \n",
       "1928              False               False           False  ...   \n",
       "7466              False               False           False  ...   \n",
       "...                 ...                 ...             ...  ...   \n",
       "4931              False               False           False  ...   \n",
       "3264              False               False           False  ...   \n",
       "1653              False               False           False  ...   \n",
       "2607              False               False           False  ...   \n",
       "2732              False               False           False  ...   \n",
       "\n",
       "      population_numerous  population_scattered  population_several  \\\n",
       "7434                False                 False               False   \n",
       "7725                False                 False               False   \n",
       "783                 False                 False               False   \n",
       "1928                False                 False               False   \n",
       "7466                False                 False               False   \n",
       "...                   ...                   ...                 ...   \n",
       "4931                False                 False               False   \n",
       "3264                False                 False               False   \n",
       "1653                False                 False               False   \n",
       "2607                False                 False               False   \n",
       "2732                False                 False               False   \n",
       "\n",
       "      population_solitary  habitat_leaves  habitat_meadows  habitat_paths  \\\n",
       "7434                False           False            False          False   \n",
       "7725                False           False            False          False   \n",
       "783                 False           False            False          False   \n",
       "1928                False           False            False          False   \n",
       "7466                False           False            False          False   \n",
       "...                   ...             ...              ...            ...   \n",
       "4931                False           False            False          False   \n",
       "3264                False           False            False          False   \n",
       "1653                False           False            False          False   \n",
       "2607                False           False            False          False   \n",
       "2732                False           False            False          False   \n",
       "\n",
       "      habitat_urban  habitat_waste  habitat_woods  \n",
       "7434          False          False          False  \n",
       "7725          False          False          False  \n",
       "783           False          False          False  \n",
       "1928          False          False          False  \n",
       "7466          False          False          False  \n",
       "...             ...            ...            ...  \n",
       "4931          False          False          False  \n",
       "3264          False          False          False  \n",
       "1653          False          False          False  \n",
       "2607          False          False          False  \n",
       "2732          False          False          False  \n",
       "\n",
       "[6499 rows x 96 columns]"
      ]
     },
     "execution_count": 6,
     "metadata": {},
     "output_type": "execute_result"
    }
   ],
   "source": [
    "# データフレーム全体で欠損値が存在するか確認\n",
    "train_vol.isnull()"
   ]
  },
  {
   "cell_type": "code",
   "execution_count": 7,
   "metadata": {
    "colab": {
     "base_uri": "https://localhost:8080/"
    },
    "executionInfo": {
     "elapsed": 329,
     "status": "ok",
     "timestamp": 1639540851551,
     "user": {
      "displayName": "本田忠",
      "photoUrl": "https://lh3.googleusercontent.com/a/default-user=s64",
      "userId": "18152980560466588609"
     },
     "user_tz": -540
    },
    "id": "2qeDKYFbheyg",
    "outputId": "fbf45eb3-6e4c-46b5-8c9f-99856c7d6a7b"
   },
   "outputs": [
    {
     "data": {
      "text/plain": [
       "class                False\n",
       "cap-shape_conical    False\n",
       "cap-shape_convex     False\n",
       "cap-shape_flat       False\n",
       "cap-shape_knobbed    False\n",
       "                     ...  \n",
       "habitat_meadows      False\n",
       "habitat_paths        False\n",
       "habitat_urban        False\n",
       "habitat_waste        False\n",
       "habitat_woods        False\n",
       "Length: 96, dtype: bool"
      ]
     },
     "execution_count": 7,
     "metadata": {},
     "output_type": "execute_result"
    }
   ],
   "source": [
    "# 列単位で欠損値が存在するか確認\n",
    "train_vol.isnull().any(axis=0)"
   ]
  },
  {
   "cell_type": "code",
   "execution_count": 8,
   "metadata": {
    "colab": {
     "base_uri": "https://localhost:8080/"
    },
    "executionInfo": {
     "elapsed": 410,
     "status": "ok",
     "timestamp": 1639540886151,
     "user": {
      "displayName": "本田忠",
      "photoUrl": "https://lh3.googleusercontent.com/a/default-user=s64",
      "userId": "18152980560466588609"
     },
     "user_tz": -540
    },
    "id": "WySz8yCTiiPF",
    "outputId": "5324cbc1-a77a-4de0-f148-15d6a32604c0"
   },
   "outputs": [
    {
     "data": {
      "text/plain": [
       "class                0\n",
       "cap-shape_conical    0\n",
       "cap-shape_convex     0\n",
       "cap-shape_flat       0\n",
       "cap-shape_knobbed    0\n",
       "                    ..\n",
       "habitat_meadows      0\n",
       "habitat_paths        0\n",
       "habitat_urban        0\n",
       "habitat_waste        0\n",
       "habitat_woods        0\n",
       "Length: 96, dtype: int64"
      ]
     },
     "execution_count": 8,
     "metadata": {},
     "output_type": "execute_result"
    }
   ],
   "source": [
    "# 列単位で欠損値の数を確認\n",
    "train_vol.isnull().sum()"
   ]
  },
  {
   "cell_type": "markdown",
   "metadata": {},
   "source": [
    "欠損値が\"ない\"ことが確認できました。<br>\n",
    "もし、欠損値があれば、下記のコードを実施します。<br>\n",
    "\n",
    "データフレーム.fillna(train_vol.mean())"
   ]
  },
  {
   "cell_type": "markdown",
   "metadata": {},
   "source": [
    "### ４.前処理 ⑥特徴量と正解データに分割"
   ]
  },
  {
   "cell_type": "markdown",
   "metadata": {},
   "source": [
    "「②外れ値の処理～⑤多項式特徴量、交互作用特徴量の追加」は「６．評価」後に検証します。<br>\n",
    "１回目の検証を行うために、特徴量と正解データを分割します。"
   ]
  },
  {
   "cell_type": "code",
   "execution_count": 9,
   "metadata": {},
   "outputs": [],
   "source": [
    "# 特徴量データを抽出\n",
    "x = train_vol.loc[ : , 'cap-shape_conical':'habitat_woods']\n",
    "\n",
    "# 正解データを抽出\n",
    "t = train_vol['class']"
   ]
  },
  {
   "cell_type": "markdown",
   "metadata": {},
   "source": [
    "### ４.前処理 ⑦教師データの分割"
   ]
  },
  {
   "cell_type": "markdown",
   "metadata": {},
   "source": [
    "訓練（訓練・検証）データを分割し、訓練データと検証データに分割します。<br>\n",
    "訓練データで学習し、検証データで評価します。"
   ]
  },
  {
   "cell_type": "code",
   "execution_count": 10,
   "metadata": {},
   "outputs": [],
   "source": [
    "# 訓練（訓練・検証）データを、訓練データと検証データに分割　割合 8:2\n",
    "x_train, x_test, t_train, t_test = train_test_split(x, t, test_size=0.2, random_state=0)"
   ]
  },
  {
   "cell_type": "markdown",
   "metadata": {},
   "source": [
    "### ≪機械学習の流れ≫　５.学習　①未学習状態のモデルの生成"
   ]
  },
  {
   "cell_type": "markdown",
   "metadata": {},
   "source": [
    "教師あり学習の分類には様々な手法がありますが、今回は「決定木」を使用します。<br>\n",
    "分析結果が直感的に非常に理解しやすい図であり、分岐条件などを確認しやすいためです。"
   ]
  },
  {
   "cell_type": "markdown",
   "metadata": {},
   "source": [
    "学習を行う前に、不均衡データ（正解データの比率に差があるか）を確認します。"
   ]
  },
  {
   "cell_type": "code",
   "execution_count": 11,
   "metadata": {},
   "outputs": [
    {
     "data": {
      "text/plain": [
       "edible       3356\n",
       "poisonous    3143\n",
       "Name: class, dtype: int64"
      ]
     },
     "execution_count": 11,
     "metadata": {},
     "output_type": "execute_result"
    }
   ],
   "source": [
    "# 正解データ（class：食用？毒？）の個数を表示\n",
    "train_vol['class'].value_counts()"
   ]
  },
  {
   "cell_type": "markdown",
   "metadata": {},
   "source": [
    "edibleが約51%、poisonousが約49%のため、不均衡データではないことが分かります。<br>\n",
    "今回は、引数に「class_weight = 'balanced'」を追加しません。"
   ]
  },
  {
   "cell_type": "code",
   "execution_count": 12,
   "metadata": {},
   "outputs": [],
   "source": [
    "# treeモジュールをインポート\n",
    "from sklearn import tree\n",
    "\n",
    "# 未学習状態のモデルを生成\n",
    "model = tree.DecisionTreeClassifier(random_state = 0)"
   ]
  },
  {
   "cell_type": "markdown",
   "metadata": {},
   "source": [
    "### ≪機械学習の流れ≫　５.学習　②訓練データで学習"
   ]
  },
  {
   "cell_type": "markdown",
   "metadata": {},
   "source": [
    "訓練データで学習を行い、検証データで正解率を計算します。"
   ]
  },
  {
   "cell_type": "code",
   "execution_count": 13,
   "metadata": {},
   "outputs": [
    {
     "data": {
      "text/plain": [
       "1.0"
      ]
     },
     "execution_count": 13,
     "metadata": {},
     "output_type": "execute_result"
    }
   ],
   "source": [
    "# モデルの学習\n",
    "model.fit(x_train, t_train) \n",
    "\n",
    "# 正解率を計算\n",
    "model.score(x_test, t_test)"
   ]
  },
  {
   "cell_type": "markdown",
   "metadata": {},
   "source": [
    "検証データの正解率は。。。100%！？<br>\n",
    "さすがに今までの処理内容のミスを疑いたくなりますので、前処理にミスがないか確認します・・・<br>\n",
    "間違いはなさそうなので、学習モデルを変更してみます。<br>\n",
    "<br>\n",
    "２つ目のモデルは、ランダムフォレストです。<br>\n",
    "複数のの決定木を作成して、多数決により最終的に１つの予測結果を出す方法となります。"
   ]
  },
  {
   "cell_type": "code",
   "execution_count": 14,
   "metadata": {},
   "outputs": [
    {
     "data": {
      "text/plain": [
       "1.0"
      ]
     },
     "execution_count": 14,
     "metadata": {},
     "output_type": "execute_result"
    }
   ],
   "source": [
    "# ランダムフォレスタで使用するモジュールをインポート\n",
    "from sklearn.ensemble import RandomForestClassifier\n",
    "\n",
    "# 未学習状態のモデルを生成\n",
    "model2 = RandomForestClassifier(n_estimators=200, random_state=0)\n",
    "\n",
    "# モデルの学習\n",
    "model2.fit(x_train, t_train) \n",
    "\n",
    "# 正解率を計算\n",
    "model2.score(x_test, t_test)"
   ]
  },
  {
   "cell_type": "markdown",
   "metadata": {},
   "source": [
    "こちらも正解率が、100％になりました。<br>\n",
    "予測しやすいデータであることを想定して、評価へ進みます。"
   ]
  },
  {
   "cell_type": "markdown",
   "metadata": {},
   "source": [
    "### ≪機械学習の流れ≫　６.評価　①検証データで評価し指標確認<br>　　"
   ]
  },
  {
   "cell_type": "markdown",
   "metadata": {},
   "source": [
    "検証データで100%となったため、「３.テストデータの分離」で行った”テストデータ”を使用して<br>\n",
    "学習させた決定木モデル（tree.DecisionTreeClassifier）の正解率を計算します。"
   ]
  },
  {
   "cell_type": "code",
   "execution_count": 15,
   "metadata": {},
   "outputs": [
    {
     "data": {
      "text/plain": [
       "1.0"
      ]
     },
     "execution_count": 15,
     "metadata": {},
     "output_type": "execute_result"
    }
   ],
   "source": [
    "# テストデータより特徴量を抽出\n",
    "x2 = test_vol.loc[ : , 'cap-shape_conical':'habitat_woods']\n",
    "\n",
    "# テストデータより正解データを抽出\n",
    "t2 = test_vol['class']\n",
    "\n",
    "# モデルの評価\n",
    "model.score(x2, t2)"
   ]
  },
  {
   "cell_type": "markdown",
   "metadata": {},
   "source": [
    "テストデータでも正答率は100%でした。<br>\n",
    "今回の「毒 or 食用」は判断しやすいデータだったと判断できます。<br>\n",
    "\n",
    "最終性能評価（テストデータで検証）が、100％であるため、再学習の必要はありませんが<br>\n",
    "念のために、木の深さによる変化を確認してみます。"
   ]
  },
  {
   "cell_type": "markdown",
   "metadata": {},
   "source": [
    "モデルのチューニングは一連の作業の繰り返しなので、それを自動化するlearn関数を定義します。<br>\n",
    "戻り値は、訓練データの正解率、テストデータの正解率、作成したモデルです。"
   ]
  },
  {
   "cell_type": "code",
   "execution_count": 16,
   "metadata": {},
   "outputs": [],
   "source": [
    "# 特徴量を抽出\n",
    "x = df2.loc[ : , 'cap-shape_conical':'habitat_woods']\n",
    "# 正解データを抽出\n",
    "t = df2['class']"
   ]
  },
  {
   "cell_type": "code",
   "execution_count": 17,
   "metadata": {},
   "outputs": [],
   "source": [
    "# x:特徴量　t:正解データ　depth:木の深さ\n",
    "def learn(x, t, depth):\n",
    "    x_train, x_test, y_train, y_test = train_test_split(x, t , test_size=0.2, random_state=0)\n",
    "    model = tree.DecisionTreeClassifier(max_depth = depth, random_state=0)\n",
    "    model.fit(x_train, y_train)\n",
    "\n",
    "    # 訓練データの正解率を計算\n",
    "    score = model.score(x_train, y_train)\n",
    "    # テストデータの正解率を計算\n",
    "    score2 = model.score(x_test, y_test)\n",
    "    # 訓練データのスコア、テストデータのスコア、モデルを返却　※スコアは四捨五入\n",
    "    return round(score, 3), round(score2, 3), model"
   ]
  },
  {
   "cell_type": "code",
   "execution_count": 18,
   "metadata": {},
   "outputs": [
    {
     "name": "stdout",
     "output_type": "stream",
     "text": [
      "深さ1:訓練データの正解率0.889テストデータの正解率0.879\n",
      "深さ2:訓練データの正解率0.954テストデータの正解率0.956\n",
      "深さ3:訓練データの正解率0.986テストデータの正解率0.983\n",
      "深さ4:訓練データの正解率0.994テストデータの正解率0.99\n",
      "深さ5:訓練データの正解率0.997テストデータの正解率0.994\n",
      "深さ6:訓練データの正解率0.997テストデータの正解率0.994\n",
      "深さ7:訓練データの正解率1.0テストデータの正解率1.0\n",
      "深さ8:訓練データの正解率1.0テストデータの正解率1.0\n",
      "深さ9:訓練データの正解率1.0テストデータの正解率1.0\n"
     ]
    }
   ],
   "source": [
    "for j in range(1,10): # jは木の深さ（1～9が入る）\n",
    "    train_score, test_score, model = learn(x, t, j)\n",
    "    sentence = '訓練データの正解率{}'\n",
    "    sentence2 = 'テストデータの正解率{}'\n",
    "    total_sentence = '深さ{}:' + sentence + sentence2\n",
    "    print(total_sentence.format(j , train_score, test_score))\n"
   ]
  },
  {
   "cell_type": "markdown",
   "metadata": {},
   "source": [
    "訓練データの正解率は、「深さ1」で88%を超えており、「深さ7」以降は100%となっています。<br>\n",
    "テストデータの正解率も同様に「深さ7」以降は100%のため、”過学習”は起きていないことが分かります。"
   ]
  },
  {
   "cell_type": "markdown",
   "metadata": {},
   "source": [
    "「深さ7」で、決定木分析の分類において、強い影響を与える特徴量であるかを図る『特徴量重要度』を確認します。"
   ]
  },
  {
   "cell_type": "code",
   "execution_count": 19,
   "metadata": {},
   "outputs": [
    {
     "data": {
      "text/plain": [
       "array([0.00061, 0.     , 0.     , 0.     , 0.     , 0.00245, 0.     ,\n",
       "       0.     , 0.     , 0.     , 0.     , 0.     , 0.     , 0.     ,\n",
       "       0.     , 0.     , 0.     , 0.     , 0.02382, 0.00774, 0.     ,\n",
       "       0.     , 0.     , 0.62181, 0.     , 0.     , 0.     , 0.00146,\n",
       "       0.00583, 0.     , 0.     , 0.     , 0.     , 0.     , 0.     ,\n",
       "       0.     , 0.     , 0.     , 0.     , 0.     , 0.     , 0.16988,\n",
       "       0.     , 0.     , 0.08727, 0.     , 0.     , 0.     , 0.01478,\n",
       "       0.     , 0.     , 0.     , 0.     , 0.     , 0.     , 0.     ,\n",
       "       0.     , 0.     , 0.     , 0.     , 0.     , 0.     , 0.     ,\n",
       "       0.     , 0.     , 0.     , 0.     , 0.     , 0.     , 0.     ,\n",
       "       0.     , 0.     , 0.     , 0.     , 0.     , 0.01771, 0.     ,\n",
       "       0.     , 0.     , 0.03453, 0.     , 0.01031, 0.     , 0.     ,\n",
       "       0.00181, 0.     , 0.     , 0.     , 0.     , 0.     , 0.     ,\n",
       "       0.     , 0.     , 0.     , 0.     ])"
      ]
     },
     "execution_count": 19,
     "metadata": {},
     "output_type": "execute_result"
    }
   ],
   "source": [
    "import numpy as np\n",
    "\n",
    "# 深さ7でlearn関数を呼び出し\n",
    "# train_score, test_score, model = learn(x, t, 7)\n",
    "\n",
    "x_train, x_test, y_train, y_test = train_test_split(x, t , test_size=0.2, random_state=0)\n",
    "model = tree.DecisionTreeClassifier(max_depth = 7, random_state=0)\n",
    "model.fit(x_train, y_train)\n",
    "\n",
    "# 配列の表示形式を指定（指数表記しない、小数点以下の5桁、末尾がゼロ埋めない）\n",
    "np.set_printoptions(suppress=True, precision=5, floatmode='maxprec')\n",
    "# 特徴量重要度を確認\n",
    "model.feature_importances_\n",
    "\n"
   ]
  },
  {
   "cell_type": "markdown",
   "metadata": {},
   "source": [
    "約90個ある項目のうち、分類に使用しているのは15項目程度であると確認できました。<br>\n",
    "項目名も確認できるように抽出し、特徴量重要度の降順で表示します。"
   ]
  },
  {
   "cell_type": "code",
   "execution_count": 20,
   "metadata": {},
   "outputs": [
    {
     "data": {
      "text/html": [
       "<div>\n",
       "<style scoped>\n",
       "    .dataframe tbody tr th:only-of-type {\n",
       "        vertical-align: middle;\n",
       "    }\n",
       "\n",
       "    .dataframe tbody tr th {\n",
       "        vertical-align: top;\n",
       "    }\n",
       "\n",
       "    .dataframe thead th {\n",
       "        text-align: right;\n",
       "    }\n",
       "</style>\n",
       "<table border=\"1\" class=\"dataframe\">\n",
       "  <thead>\n",
       "    <tr style=\"text-align: right;\">\n",
       "      <th></th>\n",
       "      <th>0</th>\n",
       "    </tr>\n",
       "  </thead>\n",
       "  <tbody>\n",
       "    <tr>\n",
       "      <th>odor_none</th>\n",
       "      <td>0.621806</td>\n",
       "    </tr>\n",
       "    <tr>\n",
       "      <th>stalk-root_club</th>\n",
       "      <td>0.169882</td>\n",
       "    </tr>\n",
       "    <tr>\n",
       "      <th>stalk-root_rooted</th>\n",
       "      <td>0.087265</td>\n",
       "    </tr>\n",
       "    <tr>\n",
       "      <th>spore-print-color_green</th>\n",
       "      <td>0.034527</td>\n",
       "    </tr>\n",
       "    <tr>\n",
       "      <th>odor_anise</th>\n",
       "      <td>0.023817</td>\n",
       "    </tr>\n",
       "    <tr>\n",
       "      <th>...</th>\n",
       "      <td>...</td>\n",
       "    </tr>\n",
       "    <tr>\n",
       "      <th>gill-color_green</th>\n",
       "      <td>0.000000</td>\n",
       "    </tr>\n",
       "    <tr>\n",
       "      <th>gill-color_gray</th>\n",
       "      <td>0.000000</td>\n",
       "    </tr>\n",
       "    <tr>\n",
       "      <th>gill-color_chocolate</th>\n",
       "      <td>0.000000</td>\n",
       "    </tr>\n",
       "    <tr>\n",
       "      <th>gill-color_buff</th>\n",
       "      <td>0.000000</td>\n",
       "    </tr>\n",
       "    <tr>\n",
       "      <th>habitat_woods</th>\n",
       "      <td>0.000000</td>\n",
       "    </tr>\n",
       "  </tbody>\n",
       "</table>\n",
       "<p>95 rows × 1 columns</p>\n",
       "</div>"
      ],
      "text/plain": [
       "                                0\n",
       "odor_none                0.621806\n",
       "stalk-root_club          0.169882\n",
       "stalk-root_rooted        0.087265\n",
       "spore-print-color_green  0.034527\n",
       "odor_anise               0.023817\n",
       "...                           ...\n",
       "gill-color_green         0.000000\n",
       "gill-color_gray          0.000000\n",
       "gill-color_chocolate     0.000000\n",
       "gill-color_buff          0.000000\n",
       "habitat_woods            0.000000\n",
       "\n",
       "[95 rows x 1 columns]"
      ]
     },
     "execution_count": 20,
     "metadata": {},
     "output_type": "execute_result"
    }
   ],
   "source": [
    "# 特徴量重要度をデータフレームに変換\n",
    "df3 = pd.DataFrame(model.feature_importances_, index=x_test.columns)\n",
    "\n",
    "# 降順に整列し表示\n",
    "df3.sort_values(0, ascending=False)"
   ]
  },
  {
   "cell_type": "markdown",
   "metadata": {},
   "source": [
    "臭いのn（odor_none）が0.613362、茎の根のc（stalk-root_club）が0.171585になっており<br>\n",
    "毒か食用の分類に大きな影響を与えていることが確認できました。"
   ]
  },
  {
   "cell_type": "markdown",
   "metadata": {},
   "source": [
    "「各ノードに到達したデータ数」と「決定木の描画」を行うことで<br>\n",
    "どういった条件で、どこに何個のデータが到達したかを”視覚的に”確認できます。"
   ]
  },
  {
   "cell_type": "code",
   "execution_count": 21,
   "metadata": {},
   "outputs": [
    {
     "name": "stdout",
     "output_type": "stream",
     "text": [
      "ノード番号6のデータ数 = [[   0. 2934.]]\n",
      "ノード番号8のデータ数 = [[15.  0.]]\n",
      "ノード番号9のデータ数 = [[ 0. 77.]]\n",
      "ノード番号10のデータ数 = [[17.  0.]]\n",
      "ノード番号11のデータ数 = [[40.  0.]]\n",
      "ノード番号12のデータ数 = [[156.   0.]]\n",
      "ノード番号14のデータ数 = [[ 0. 31.]]\n",
      "ノード番号15のデータ数 = [[394.   0.]]\n",
      "ノード番号21のデータ数 = [[2564.    0.]]\n",
      "ノード番号23のデータ数 = [[157.   0.]]\n",
      "ノード番号24のデータ数 = [[0. 3.]]\n",
      "ノード番号25のデータ数 = [[0. 1.]]\n",
      "ノード番号26のデータ数 = [[0. 4.]]\n",
      "ノード番号28のデータ数 = [[13.  0.]]\n",
      "ノード番号29のデータ数 = [[ 0. 34.]]\n",
      "ノード番号30のデータ数 = [[ 0. 59.]]\n"
     ]
    }
   ],
   "source": [
    "# リーフに到達したデータの数を表示\n",
    "ar = model.tree_.feature\n",
    "\n",
    "for i in range(len(ar)):\n",
    "  if ar[i] == -2:\n",
    "    print(\"ノード番号{}のデータ数 = {}\".format(i, model.tree_.value[i]))\n"
   ]
  },
  {
   "cell_type": "markdown",
   "metadata": {},
   "source": [
    "今回、学習したモデルの「決定木を描画」します。"
   ]
  },
  {
   "cell_type": "code",
   "execution_count": 22,
   "metadata": {},
   "outputs": [
    {
     "data": {
      "image/png": "[encoded data removed]",
      "text/plain": [
       "<Figure size 1080x720 with 1 Axes>"
      ]
     },
     "metadata": {
      "needs_background": "light"
     },
     "output_type": "display_data"
    }
   ],
   "source": [
    "# 描画関数の利用\n",
    "from sklearn.tree import plot_tree\n",
    "import matplotlib.pyplot as plt\n",
    "\n",
    "# plot_tree関数で決定木を描画\n",
    "plt.figure(figsize=(15, 10))\n",
    "plot_tree(model, feature_names = x_train.columns, filled = True)\n",
    "plt.show()"
   ]
  },
  {
   "cell_type": "markdown",
   "metadata": {},
   "source": [
    "### モデルを保存して、機械学習が終了です"
   ]
  },
  {
   "cell_type": "code",
   "execution_count": 23,
   "metadata": {
    "executionInfo": {
     "elapsed": 272,
     "status": "ok",
     "timestamp": 1639541622867,
     "user": {
      "displayName": "本田忠",
      "photoUrl": "https://lh3.googleusercontent.com/a/default-user=s64",
      "userId": "18152980560466588609"
     },
     "user_tz": -540
    },
    "id": "3Wbex3AjDI36"
   },
   "outputs": [],
   "source": [
    "# pickleのインポート\n",
    "import pickle\n",
    "\n",
    "# モデルを保存\n",
    "with open('mushrooms_model.pkl', 'wb') as f:\n",
    "    pickle.dump(model, f)\n"
   ]
  }
 ],
 "metadata": {
  "colab": {
   "collapsed_sections": [],
   "name": "ml_ex_2_stu.ipynb",
   "provenance": []
  },
  "kernelspec": {
   "display_name": "Python 3",
   "language": "python",
   "name": "python3"
  },
  "language_info": {
   "codemirror_mode": {
    "name": "ipython",
    "version": 3
   },
   "file_extension": ".py",
   "mimetype": "text/x-python",
   "name": "python",
   "nbconvert_exporter": "python",
   "pygments_lexer": "ipython3",
   "version": "3.8.5"
  }
 },
 "nbformat": 4,
 "nbformat_minor": 1
}
