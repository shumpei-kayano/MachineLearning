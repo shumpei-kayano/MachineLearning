{
 "cells": [
  {
   "cell_type": "markdown",
   "metadata": {
    "id": "VQ-7FKF0tCDz"
   },
   "source": [
    "**`機械学習　効果測定（分類）`**"
   ]
  },
  {
   "cell_type": "markdown",
   "metadata": {
    "id": "E02TLkWHt65Q"
   },
   "source": [
    "①データを保存するフォルダ「data」の作成<br>\n",
    "②ドライブのマウント"
   ]
  },
  {
   "cell_type": "code",
   "execution_count": null,
   "metadata": {
    "colab": {
     "base_uri": "https://localhost:8080/"
    },
    "id": "LY6YB-FGtA0x",
    "outputId": "2b5bdc25-d1f5-450a-bd2f-b3e7f1986037"
   },
   "outputs": [
    {
     "name": "stdout",
     "output_type": "stream",
     "text": [
      "/content/data\n"
     ]
    }
   ],
   "source": [
    "cd data"
   ]
  },
  {
   "cell_type": "code",
   "execution_count": null,
   "metadata": {
    "colab": {
     "base_uri": "https://localhost:8080/"
    },
    "id": "cu9msTZMukfx",
    "outputId": "0551b66c-9cac-4e26-bcea-9de79320bd7f"
   },
   "outputs": [
    {
     "name": "stdout",
     "output_type": "stream",
     "text": [
      "Mounted at /content/drive\n"
     ]
    }
   ],
   "source": [
    "from google.colab import drive\n",
    "drive.mount('/content/drive')"
   ]
  },
  {
   "cell_type": "markdown",
   "metadata": {
    "id": "m6CW_plDuihM"
   },
   "source": [
    "CSVファイルのアップロード"
   ]
  },
  {
   "cell_type": "code",
   "execution_count": null,
   "metadata": {
    "id": "GwXNAiMkvGCt"
   },
   "outputs": [],
   "source": [
    "# pandasをインポート\n",
    "import pandas as pd"
   ]
  },
  {
   "cell_type": "code",
   "execution_count": null,
   "metadata": {
    "colab": {
     "base_uri": "https://localhost:8080/",
     "height": 317
    },
    "id": "xl0ZhM1PwGD-",
    "outputId": "ef4b8cc1-49f2-4846-c7e5-928f9a9164be"
   },
   "outputs": [
    {
     "data": {
      "text/html": [
       "\n",
       "  <div id=\"df-fe3f50f7-1547-4e5b-9107-282164fed9ec\">\n",
       "    <div class=\"colab-df-container\">\n",
       "      <div>\n",
       "<style scoped>\n",
       "    .dataframe tbody tr th:only-of-type {\n",
       "        vertical-align: middle;\n",
       "    }\n",
       "\n",
       "    .dataframe tbody tr th {\n",
       "        vertical-align: top;\n",
       "    }\n",
       "\n",
       "    .dataframe thead th {\n",
       "        text-align: right;\n",
       "    }\n",
       "</style>\n",
       "<table border=\"1\" class=\"dataframe\">\n",
       "  <thead>\n",
       "    <tr style=\"text-align: right;\">\n",
       "      <th></th>\n",
       "      <th>Unnamed: 0</th>\n",
       "      <th>pixel_0_0</th>\n",
       "      <th>pixel_0_1</th>\n",
       "      <th>pixel_0_2</th>\n",
       "      <th>pixel_0_3</th>\n",
       "      <th>pixel_0_4</th>\n",
       "      <th>pixel_0_5</th>\n",
       "      <th>pixel_0_6</th>\n",
       "      <th>pixel_0_7</th>\n",
       "      <th>pixel_1_0</th>\n",
       "      <th>...</th>\n",
       "      <th>pixel_6_7</th>\n",
       "      <th>pixel_7_0</th>\n",
       "      <th>pixel_7_1</th>\n",
       "      <th>pixel_7_2</th>\n",
       "      <th>pixel_7_3</th>\n",
       "      <th>pixel_7_4</th>\n",
       "      <th>pixel_7_5</th>\n",
       "      <th>pixel_7_6</th>\n",
       "      <th>pixel_7_7</th>\n",
       "      <th>target</th>\n",
       "    </tr>\n",
       "  </thead>\n",
       "  <tbody>\n",
       "    <tr>\n",
       "      <th>0</th>\n",
       "      <td>0</td>\n",
       "      <td>0</td>\n",
       "      <td>0</td>\n",
       "      <td>5</td>\n",
       "      <td>13</td>\n",
       "      <td>9</td>\n",
       "      <td>1</td>\n",
       "      <td>0</td>\n",
       "      <td>0</td>\n",
       "      <td>0</td>\n",
       "      <td>...</td>\n",
       "      <td>0</td>\n",
       "      <td>0</td>\n",
       "      <td>0</td>\n",
       "      <td>6</td>\n",
       "      <td>13</td>\n",
       "      <td>10</td>\n",
       "      <td>0</td>\n",
       "      <td>0</td>\n",
       "      <td>0</td>\n",
       "      <td>0</td>\n",
       "    </tr>\n",
       "    <tr>\n",
       "      <th>1</th>\n",
       "      <td>1</td>\n",
       "      <td>0</td>\n",
       "      <td>0</td>\n",
       "      <td>0</td>\n",
       "      <td>12</td>\n",
       "      <td>13</td>\n",
       "      <td>5</td>\n",
       "      <td>0</td>\n",
       "      <td>0</td>\n",
       "      <td>0</td>\n",
       "      <td>...</td>\n",
       "      <td>0</td>\n",
       "      <td>0</td>\n",
       "      <td>0</td>\n",
       "      <td>0</td>\n",
       "      <td>11</td>\n",
       "      <td>16</td>\n",
       "      <td>10</td>\n",
       "      <td>0</td>\n",
       "      <td>0</td>\n",
       "      <td>1</td>\n",
       "    </tr>\n",
       "    <tr>\n",
       "      <th>2</th>\n",
       "      <td>2</td>\n",
       "      <td>0</td>\n",
       "      <td>0</td>\n",
       "      <td>0</td>\n",
       "      <td>4</td>\n",
       "      <td>15</td>\n",
       "      <td>12</td>\n",
       "      <td>0</td>\n",
       "      <td>0</td>\n",
       "      <td>0</td>\n",
       "      <td>...</td>\n",
       "      <td>0</td>\n",
       "      <td>0</td>\n",
       "      <td>0</td>\n",
       "      <td>0</td>\n",
       "      <td>3</td>\n",
       "      <td>11</td>\n",
       "      <td>16</td>\n",
       "      <td>9</td>\n",
       "      <td>0</td>\n",
       "      <td>2</td>\n",
       "    </tr>\n",
       "    <tr>\n",
       "      <th>3</th>\n",
       "      <td>3</td>\n",
       "      <td>0</td>\n",
       "      <td>0</td>\n",
       "      <td>7</td>\n",
       "      <td>15</td>\n",
       "      <td>13</td>\n",
       "      <td>1</td>\n",
       "      <td>0</td>\n",
       "      <td>0</td>\n",
       "      <td>0</td>\n",
       "      <td>...</td>\n",
       "      <td>0</td>\n",
       "      <td>0</td>\n",
       "      <td>0</td>\n",
       "      <td>7</td>\n",
       "      <td>13</td>\n",
       "      <td>13</td>\n",
       "      <td>9</td>\n",
       "      <td>0</td>\n",
       "      <td>0</td>\n",
       "      <td>3</td>\n",
       "    </tr>\n",
       "    <tr>\n",
       "      <th>4</th>\n",
       "      <td>4</td>\n",
       "      <td>0</td>\n",
       "      <td>0</td>\n",
       "      <td>0</td>\n",
       "      <td>1</td>\n",
       "      <td>11</td>\n",
       "      <td>0</td>\n",
       "      <td>0</td>\n",
       "      <td>0</td>\n",
       "      <td>0</td>\n",
       "      <td>...</td>\n",
       "      <td>0</td>\n",
       "      <td>0</td>\n",
       "      <td>0</td>\n",
       "      <td>0</td>\n",
       "      <td>2</td>\n",
       "      <td>16</td>\n",
       "      <td>4</td>\n",
       "      <td>0</td>\n",
       "      <td>0</td>\n",
       "      <td>4</td>\n",
       "    </tr>\n",
       "  </tbody>\n",
       "</table>\n",
       "<p>5 rows × 66 columns</p>\n",
       "</div>\n",
       "      <button class=\"colab-df-convert\" onclick=\"convertToInteractive('df-fe3f50f7-1547-4e5b-9107-282164fed9ec')\"\n",
       "              title=\"Convert this dataframe to an interactive table.\"\n",
       "              style=\"display:none;\">\n",
       "        \n",
       "  <svg xmlns=\"http://www.w3.org/2000/svg\" height=\"24px\"viewBox=\"0 0 24 24\"\n",
       "       width=\"24px\">\n",
       "    <path d=\"M0 0h24v24H0V0z\" fill=\"none\"/>\n",
       "    <path d=\"M18.56 5.44l.94 2.06.94-2.06 2.06-.94-2.06-.94-.94-2.06-.94 2.06-2.06.94zm-11 1L8.5 8.5l.94-2.06 2.06-.94-2.06-.94L8.5 2.5l-.94 2.06-2.06.94zm10 10l.94 2.06.94-2.06 2.06-.94-2.06-.94-.94-2.06-.94 2.06-2.06.94z\"/><path d=\"M17.41 7.96l-1.37-1.37c-.4-.4-.92-.59-1.43-.59-.52 0-1.04.2-1.43.59L10.3 9.45l-7.72 7.72c-.78.78-.78 2.05 0 2.83L4 21.41c.39.39.9.59 1.41.59.51 0 1.02-.2 1.41-.59l7.78-7.78 2.81-2.81c.8-.78.8-2.07 0-2.86zM5.41 20L4 18.59l7.72-7.72 1.47 1.35L5.41 20z\"/>\n",
       "  </svg>\n",
       "      </button>\n",
       "      \n",
       "  <style>\n",
       "    .colab-df-container {\n",
       "      display:flex;\n",
       "      flex-wrap:wrap;\n",
       "      gap: 12px;\n",
       "    }\n",
       "\n",
       "    .colab-df-convert {\n",
       "      background-color: #E8F0FE;\n",
       "      border: none;\n",
       "      border-radius: 50%;\n",
       "      cursor: pointer;\n",
       "      display: none;\n",
       "      fill: #1967D2;\n",
       "      height: 32px;\n",
       "      padding: 0 0 0 0;\n",
       "      width: 32px;\n",
       "    }\n",
       "\n",
       "    .colab-df-convert:hover {\n",
       "      background-color: #E2EBFA;\n",
       "      box-shadow: 0px 1px 2px rgba(60, 64, 67, 0.3), 0px 1px 3px 1px rgba(60, 64, 67, 0.15);\n",
       "      fill: #174EA6;\n",
       "    }\n",
       "\n",
       "    [theme=dark] .colab-df-convert {\n",
       "      background-color: #3B4455;\n",
       "      fill: #D2E3FC;\n",
       "    }\n",
       "\n",
       "    [theme=dark] .colab-df-convert:hover {\n",
       "      background-color: #434B5C;\n",
       "      box-shadow: 0px 1px 3px 1px rgba(0, 0, 0, 0.15);\n",
       "      filter: drop-shadow(0px 1px 2px rgba(0, 0, 0, 0.3));\n",
       "      fill: #FFFFFF;\n",
       "    }\n",
       "  </style>\n",
       "\n",
       "      <script>\n",
       "        const buttonEl =\n",
       "          document.querySelector('#df-fe3f50f7-1547-4e5b-9107-282164fed9ec button.colab-df-convert');\n",
       "        buttonEl.style.display =\n",
       "          google.colab.kernel.accessAllowed ? 'block' : 'none';\n",
       "\n",
       "        async function convertToInteractive(key) {\n",
       "          const element = document.querySelector('#df-fe3f50f7-1547-4e5b-9107-282164fed9ec');\n",
       "          const dataTable =\n",
       "            await google.colab.kernel.invokeFunction('convertToInteractive',\n",
       "                                                     [key], {});\n",
       "          if (!dataTable) return;\n",
       "\n",
       "          const docLinkHtml = 'Like what you see? Visit the ' +\n",
       "            '<a target=\"_blank\" href=https://colab.research.google.com/notebooks/data_table.ipynb>data table notebook</a>'\n",
       "            + ' to learn more about interactive tables.';\n",
       "          element.innerHTML = '';\n",
       "          dataTable['output_type'] = 'display_data';\n",
       "          await google.colab.output.renderOutput(dataTable, element);\n",
       "          const docLink = document.createElement('div');\n",
       "          docLink.innerHTML = docLinkHtml;\n",
       "          element.appendChild(docLink);\n",
       "        }\n",
       "      </script>\n",
       "    </div>\n",
       "  </div>\n",
       "  "
      ],
      "text/plain": [
       "   Unnamed: 0  pixel_0_0  pixel_0_1  pixel_0_2  pixel_0_3  pixel_0_4  \\\n",
       "0           0          0          0          5         13          9   \n",
       "1           1          0          0          0         12         13   \n",
       "2           2          0          0          0          4         15   \n",
       "3           3          0          0          7         15         13   \n",
       "4           4          0          0          0          1         11   \n",
       "\n",
       "   pixel_0_5  pixel_0_6  pixel_0_7  pixel_1_0  ...  pixel_6_7  pixel_7_0  \\\n",
       "0          1          0          0          0  ...          0          0   \n",
       "1          5          0          0          0  ...          0          0   \n",
       "2         12          0          0          0  ...          0          0   \n",
       "3          1          0          0          0  ...          0          0   \n",
       "4          0          0          0          0  ...          0          0   \n",
       "\n",
       "   pixel_7_1  pixel_7_2  pixel_7_3  pixel_7_4  pixel_7_5  pixel_7_6  \\\n",
       "0          0          6         13         10          0          0   \n",
       "1          0          0         11         16         10          0   \n",
       "2          0          0          3         11         16          9   \n",
       "3          0          7         13         13          9          0   \n",
       "4          0          0          2         16          4          0   \n",
       "\n",
       "   pixel_7_7  target  \n",
       "0          0       0  \n",
       "1          0       1  \n",
       "2          0       2  \n",
       "3          0       3  \n",
       "4          0       4  \n",
       "\n",
       "[5 rows x 66 columns]"
      ]
     },
     "execution_count": 6,
     "metadata": {},
     "output_type": "execute_result"
    }
   ],
   "source": [
    "# digits.csvファイルを読み込んで、データフレームに変換\n",
    "df = pd.read_csv('digits.csv')\n",
    "# 先頭５行の表示\n",
    "df.head()"
   ]
  },
  {
   "cell_type": "markdown",
   "metadata": {
    "id": "EmC_9mK-vcC9"
   },
   "source": []
  },
  {
   "cell_type": "code",
   "execution_count": null,
   "metadata": {
    "colab": {
     "base_uri": "https://localhost:8080/"
    },
    "id": "2oTHv9O3ANiF",
    "outputId": "0cb4bcba-18f4-4a9c-f6da-1c1d938ebc60"
   },
   "outputs": [
    {
     "data": {
      "text/plain": [
       "Unnamed: 0    False\n",
       "pixel_0_0     False\n",
       "pixel_0_1     False\n",
       "pixel_0_2     False\n",
       "pixel_0_3     False\n",
       "              ...  \n",
       "pixel_7_4     False\n",
       "pixel_7_5     False\n",
       "pixel_7_6     False\n",
       "pixel_7_7     False\n",
       "target        False\n",
       "Length: 66, dtype: bool"
      ]
     },
     "execution_count": 7,
     "metadata": {},
     "output_type": "execute_result"
    }
   ],
   "source": [
    "# 欠損値の確認\n",
    "df.isnull().any(axis=0)"
   ]
  },
  {
   "cell_type": "code",
   "execution_count": null,
   "metadata": {
    "id": "UWyW-Dwq0GZb"
   },
   "outputs": [],
   "source": [
    "# 欠損値がない為、まずは決定木分析で予測モデルを作成してみる\n",
    "# 正解データ\n",
    "t = df['target']\n",
    "# 特徴量 スライス構文で取り出す\n",
    "x = df.loc[ : ,'pixel_0_0':'pixel_7_7']\n"
   ]
  },
  {
   "cell_type": "code",
   "execution_count": null,
   "metadata": {
    "colab": {
     "base_uri": "https://localhost:8080/"
    },
    "id": "R30iN4WaCZd5",
    "outputId": "7118c5a7-2d24-4177-9dbd-1ebd54a0e23e"
   },
   "outputs": [
    {
     "name": "stdout",
     "output_type": "stream",
     "text": [
      "(1437, 64)\n",
      "(360, 64)\n"
     ]
    }
   ],
   "source": [
    "# 訓練データとテストデータに分割　テストデータを２割\n",
    "from sklearn.model_selection import train_test_split\n",
    "x_train,x_test,y_train,y_test = train_test_split(x,t,test_size=0.2,random_state = 0)\n",
    "# 訓練データとテストデータの表示\n",
    "print(x_train.shape)\n",
    "print(x_test.shape)"
   ]
  },
  {
   "cell_type": "code",
   "execution_count": null,
   "metadata": {
    "id": "OASTamI7FBfk"
   },
   "outputs": [],
   "source": [
    "# 決定木モデルの作成\n",
    "from sklearn import tree\n",
    "# とりあえず深さ２\n",
    "model = tree.DecisionTreeClassifier(max_depth=2,random_state=0)"
   ]
  },
  {
   "cell_type": "code",
   "execution_count": null,
   "metadata": {
    "colab": {
     "base_uri": "https://localhost:8080/"
    },
    "id": "4gZ18IZBF9Dz",
    "outputId": "f1bc9680-c84d-41f3-c2bf-d23c3d2ed73c"
   },
   "outputs": [
    {
     "data": {
      "text/plain": [
       "0.2611111111111111"
      ]
     },
     "execution_count": 11,
     "metadata": {},
     "output_type": "execute_result"
    }
   ],
   "source": [
    "# 訓練データで学習\n",
    "model.fit(x_train,y_train)\n",
    "\n",
    "# テストデータで正解率を計算\n",
    "model.score(x_test,y_test)"
   ]
  },
  {
   "cell_type": "code",
   "execution_count": null,
   "metadata": {
    "colab": {
     "base_uri": "https://localhost:8080/"
    },
    "id": "_WBG3iW6GvaK",
    "outputId": "17b9776f-df19-4284-b8df-08342f159df9"
   },
   "outputs": [
    {
     "name": "stdout",
     "output_type": "stream",
     "text": [
      "深さ 3 の正解率 0.425\n",
      "深さ 4 の正解率 0.6277777777777778\n",
      "深さ 5 の正解率 0.7305555555555555\n",
      "深さ 6 の正解率 0.7916666666666666\n",
      "深さ 7 の正解率 0.8333333333333334\n",
      "深さ 8 の正解率 0.8444444444444444\n",
      "深さ 9 の正解率 0.85\n",
      "深さ 10 の正解率 0.8638888888888889\n",
      "深さ 11 の正解率 0.8638888888888889\n",
      "深さ 12 の正解率 0.8416666666666667\n",
      "深さ 13 の正解率 0.8472222222222222\n",
      "深さ 14 の正解率 0.8472222222222222\n"
     ]
    }
   ],
   "source": [
    "# 深さをどれくらいにすれば正解率が高くなるか\n",
    "for i in range(3,15):\n",
    "  model2 = tree.DecisionTreeClassifier(max_depth=i,random_state=0)\n",
    "  model2.fit(x_train,y_train)\n",
    "  print(\"深さ\",i,\"の正解率\",model2.score(x_test,y_test))"
   ]
  },
  {
   "cell_type": "code",
   "execution_count": null,
   "metadata": {
    "id": "Md6i6NnqHeFZ"
   },
   "outputs": [],
   "source": [
    "# 深さを10、11が正解率が一番良い。86.38%\n",
    "# 深さ11以上だと正解率が下がる。"
   ]
  },
  {
   "cell_type": "code",
   "execution_count": null,
   "metadata": {
    "id": "ROtooGqbPTpI"
   },
   "outputs": [],
   "source": [
    "# ロジスティック回帰を使ってみる\n",
    "from sklearn.linear_model import LogisticRegression\n",
    "\n",
    "model2 = LogisticRegression(random_state= 0, C=0.1,multi_class='auto',solver='lbfgs')\n"
   ]
  },
  {
   "cell_type": "code",
   "execution_count": null,
   "metadata": {
    "colab": {
     "base_uri": "https://localhost:8080/"
    },
    "id": "0-BynjA-gSDg",
    "outputId": "cbe68217-15ce-4009-fff7-24f7a763b6eb"
   },
   "outputs": [
    {
     "name": "stderr",
     "output_type": "stream",
     "text": [
      "/usr/local/lib/python3.7/dist-packages/sklearn/linear_model/_logistic.py:818: ConvergenceWarning: lbfgs failed to converge (status=1):\n",
      "STOP: TOTAL NO. of ITERATIONS REACHED LIMIT.\n",
      "\n",
      "Increase the number of iterations (max_iter) or scale the data as shown in:\n",
      "    https://scikit-learn.org/stable/modules/preprocessing.html\n",
      "Please also refer to the documentation for alternative solver options:\n",
      "    https://scikit-learn.org/stable/modules/linear_model.html#logistic-regression\n",
      "  extra_warning_msg=_LOGISTIC_SOLVER_CONVERGENCE_MSG,\n"
     ]
    },
    {
     "data": {
      "text/plain": [
       "0.9694444444444444"
      ]
     },
     "execution_count": 15,
     "metadata": {},
     "output_type": "execute_result"
    }
   ],
   "source": [
    "# 正解率の確認 96.94%\n",
    "model2.fit(x_train,y_train)\n",
    "model2.score(x_test,y_test)"
   ]
  },
  {
   "cell_type": "code",
   "execution_count": null,
   "metadata": {
    "id": "hkiU2DcShGQY"
   },
   "outputs": [],
   "source": [
    "# ランダムフォレストの場合 テキストP439\n",
    "from sklearn.ensemble import RandomForestClassifier\n",
    "\n",
    "model3 = RandomForestClassifier(n_estimators=200,random_state=0)"
   ]
  },
  {
   "cell_type": "code",
   "execution_count": null,
   "metadata": {
    "colab": {
     "base_uri": "https://localhost:8080/"
    },
    "id": "qlc1bC9dhqHD",
    "outputId": "b80b5962-65b4-4c80-d816-4ccb99dfd6e7"
   },
   "outputs": [
    {
     "data": {
      "text/plain": [
       "0.9722222222222222"
      ]
     },
     "execution_count": 17,
     "metadata": {},
     "output_type": "execute_result"
    }
   ],
   "source": [
    "# 正解率の確認 97.22%\n",
    "model3.fit(x_train,y_train)\n",
    "model3.score(x_test,y_test)"
   ]
  },
  {
   "cell_type": "code",
   "execution_count": null,
   "metadata": {
    "colab": {
     "base_uri": "https://localhost:8080/"
    },
    "id": "v2pA5p1YiGq-",
    "outputId": "df032ddf-b7a7-4571-ac08-4ae88dddd04c"
   },
   "outputs": [
    {
     "data": {
      "text/plain": [
       "0.9888888888888889"
      ]
     },
     "execution_count": 18,
     "metadata": {},
     "output_type": "execute_result"
    }
   ],
   "source": [
    "from pandas.core.common import random_state\n",
    "# アダブーストの場合 テキストP449\n",
    "from sklearn.ensemble import AdaBoostClassifier\n",
    "\n",
    "# 最大深さ10の決定木を作る\n",
    "base_model = tree.DecisionTreeClassifier(random_state=0,max_depth = 10)\n",
    "\n",
    "# 決定木を500個作成 正解率は98.8%\n",
    "model4 = AdaBoostClassifier(n_estimators=500,random_state=0,base_estimator= base_model)\n",
    "model4.fit(x_train,y_train)\n",
    "model4.score(x_test,y_test)"
   ]
  },
  {
   "cell_type": "code",
   "execution_count": null,
   "metadata": {
    "colab": {
     "base_uri": "https://localhost:8080/"
    },
    "id": "xxKdnsVkj9cD",
    "outputId": "a5dfa1ef-fe9c-4497-8006-65315eaf532b"
   },
   "outputs": [
    {
     "name": "stdout",
     "output_type": "stream",
     "text": [
      "0.9861111111111112\n",
      "0.9888888888888889\n",
      "0.9916666666666667\n"
     ]
    }
   ],
   "source": [
    "# アダブースト、作成するモデルの数を色々試し、100%に近づけたい\n",
    "# 作成するモデルの数を増やすと実行に時間がかかる…\n",
    "model4 = AdaBoostClassifier(n_estimators=300,random_state=0,base_estimator= base_model)\n",
    "model4.fit(x_train,y_train)\n",
    "print(model4.score(x_test,y_test))\n",
    "\n",
    "model4 = AdaBoostClassifier(n_estimators=750,random_state=0,base_estimator= base_model)\n",
    "model4.fit(x_train,y_train)\n",
    "print(model4.score(x_test,y_test))\n",
    "\n",
    "model4 = AdaBoostClassifier(n_estimators=1000,random_state=0,base_estimator= base_model)\n",
    "model4.fit(x_train,y_train)\n",
    "print(model4.score(x_test,y_test))"
   ]
  },
  {
   "cell_type": "code",
   "execution_count": null,
   "metadata": {
    "id": "XWUJyMpikoPd"
   },
   "outputs": [],
   "source": [
    "# 最終結果一覧 正解率の降順\n",
    "# 1位：アダブースト99.16%\n",
    "# 2位：ランダムフォレスト97.22%\n",
    "# 3位：ロジスティック回帰96.94%"
   ]
  },
  {
   "cell_type": "code",
   "execution_count": null,
   "metadata": {
    "id": "mSFHb-RXlQwD"
   },
   "outputs": [],
   "source": [
    "# アダブーストで作成したモデルを保存する\n",
    "import pickle\n",
    "with open('digits.pkl','wb')as f :\n",
    "  pickle.dump(model4,f)"
   ]
  },
  {
   "cell_type": "code",
   "execution_count": null,
   "metadata": {
    "id": "vhBWTDUfl4uG"
   },
   "outputs": [],
   "source": [
    "# 未知のデータでの予測ができていない"
   ]
  }
 ],
 "metadata": {
  "colab": {
   "name": "分類_柏校_倉持.ipynb",
   "provenance": []
  },
  "kernelspec": {
   "display_name": "Python 3",
   "language": "python",
   "name": "python3"
  },
  "language_info": {
   "codemirror_mode": {
    "name": "ipython",
    "version": 3
   },
   "file_extension": ".py",
   "mimetype": "text/x-python",
   "name": "python",
   "nbconvert_exporter": "python",
   "pygments_lexer": "ipython3",
   "version": "3.8.5"
  }
 },
 "nbformat": 4,
 "nbformat_minor": 1
}
