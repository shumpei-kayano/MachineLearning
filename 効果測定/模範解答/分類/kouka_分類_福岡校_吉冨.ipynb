{
 "cells": [
  {
   "cell_type": "markdown",
   "metadata": {
    "id": "9oUY5PNrAZgB"
   },
   "source": [
    "# **【分類】キノコの有毒／無毒を予測する**"
   ]
  },
  {
   "cell_type": "markdown",
   "metadata": {
    "id": "QlK94AjnAFdN"
   },
   "source": [
    "#1.準備作業"
   ]
  },
  {
   "cell_type": "markdown",
   "metadata": {
    "id": "zF8MtY5anYm0"
   },
   "source": [
    "※0章のコマンドはLinuxコマンドであることを留意すること"
   ]
  },
  {
   "cell_type": "markdown",
   "metadata": {
    "id": "74_7W2B5AjIp"
   },
   "source": [
    "##ドライブのマウント"
   ]
  },
  {
   "cell_type": "markdown",
   "metadata": {
    "id": "72K1701Wmb2x"
   },
   "source": [
    "■ドライブをマウントする"
   ]
  },
  {
   "cell_type": "code",
   "execution_count": null,
   "metadata": {
    "colab": {
     "base_uri": "https://localhost:8080/"
    },
    "id": "mcGIiXOmAixR",
    "outputId": "0fc0f61d-ce2d-4fa4-bad4-e1e269aa3c5e"
   },
   "outputs": [
    {
     "name": "stdout",
     "output_type": "stream",
     "text": [
      "Mounted at /content/drive\n"
     ]
    }
   ],
   "source": [
    "from google.colab import drive\n",
    "drive.mount('/content/drive')"
   ]
  },
  {
   "cell_type": "markdown",
   "metadata": {
    "id": "BMCGo8bCAzQh"
   },
   "source": [
    "□結果：「Mounted at /content/drive」と表示されること\n",
    "\n",
    "---\n",
    "\n"
   ]
  },
  {
   "cell_type": "markdown",
   "metadata": {
    "id": "dUpGhZMiA-Ph"
   },
   "source": [
    "##ディレクトリの作成"
   ]
  },
  {
   "cell_type": "markdown",
   "metadata": {
    "id": "vWvC8KRsmKIH"
   },
   "source": [
    "■ディレクトリが存在しないことを確認する"
   ]
  },
  {
   "cell_type": "code",
   "execution_count": null,
   "metadata": {
    "colab": {
     "base_uri": "https://localhost:8080/"
    },
    "id": "gZ62ndr-B-zu",
    "outputId": "e4bc0ed4-d04c-4536-bb86-d543e5c7983a"
   },
   "outputs": [
    {
     "name": "stdout",
     "output_type": "stream",
     "text": [
      "drwxr-xr-x 1 root root 4096 Mar  9 14:48 \u001b[01;34msample_data\u001b[0m/\n"
     ]
    }
   ],
   "source": [
    "ls -la /content | grep data"
   ]
  },
  {
   "cell_type": "markdown",
   "metadata": {
    "id": "ep2v5j_PCDmk"
   },
   "source": [
    "□結果：「data」ディレクトリが存在しないこと"
   ]
  },
  {
   "cell_type": "markdown",
   "metadata": {
    "id": "ickhTdFymOT4"
   },
   "source": [
    "■ディレクトリを作成する"
   ]
  },
  {
   "cell_type": "code",
   "execution_count": null,
   "metadata": {
    "id": "Axb10wxwArBf"
   },
   "outputs": [],
   "source": [
    "mkdir /content/data"
   ]
  },
  {
   "cell_type": "markdown",
   "metadata": {
    "id": "KM9iwB07CG_Z"
   },
   "source": [
    "□結果：エラーが発生しないこと"
   ]
  },
  {
   "cell_type": "markdown",
   "metadata": {
    "id": "UeNqG2nimpox"
   },
   "source": [
    "■ディレクトリが作成されたことを確認する"
   ]
  },
  {
   "cell_type": "code",
   "execution_count": null,
   "metadata": {
    "colab": {
     "base_uri": "https://localhost:8080/"
    },
    "id": "6hRVZMb9BgxU",
    "outputId": "775917ef-6288-4b5c-f65f-f631fbe21f2b"
   },
   "outputs": [
    {
     "name": "stdout",
     "output_type": "stream",
     "text": [
      "drwxr-xr-x 2 root root 4096 Mar 15 14:43 \u001b[01;34mdata\u001b[0m/\n",
      "drwxr-xr-x 1 root root 4096 Mar  9 14:48 \u001b[01;34msample_data\u001b[0m/\n"
     ]
    }
   ],
   "source": [
    "ls -la /content | grep data"
   ]
  },
  {
   "cell_type": "markdown",
   "metadata": {
    "id": "G48ze3Q1BNzL"
   },
   "source": [
    "□結果：「data」ディレクトリが存在すること"
   ]
  },
  {
   "cell_type": "markdown",
   "metadata": {
    "id": "qAhhLlF5CVGv"
   },
   "source": [
    "##カレントディレクトの移動"
   ]
  },
  {
   "cell_type": "markdown",
   "metadata": {
    "id": "82XobZv7mw9p"
   },
   "source": [
    "■カレントディレクトリを移動する"
   ]
  },
  {
   "cell_type": "code",
   "execution_count": null,
   "metadata": {
    "colab": {
     "base_uri": "https://localhost:8080/"
    },
    "id": "ku_Ba9lVCc4Z",
    "outputId": "b089c3e7-9f27-49c0-95df-b954bc7eadc9"
   },
   "outputs": [
    {
     "name": "stdout",
     "output_type": "stream",
     "text": [
      "/content/data\n"
     ]
    }
   ],
   "source": [
    "cd /content/data"
   ]
  },
  {
   "cell_type": "markdown",
   "metadata": {
    "id": "nty3iROVCi6t"
   },
   "source": [
    "□結果：「/content/data」と表示されること"
   ]
  },
  {
   "cell_type": "markdown",
   "metadata": {
    "id": "w7V7-XbYCkpc"
   },
   "source": [
    "##データの格納"
   ]
  },
  {
   "cell_type": "markdown",
   "metadata": {
    "id": "gMzN0o9MCq8E"
   },
   "source": [
    "■/content/dataディレクトリにmushrooms.csvを手動で格納する"
   ]
  },
  {
   "cell_type": "markdown",
   "metadata": {
    "id": "dn0aJzbuodVo"
   },
   "source": [
    "□結果：エラーが発生しないこと"
   ]
  },
  {
   "cell_type": "markdown",
   "metadata": {
    "id": "gNJNnyronCvx"
   },
   "source": [
    "■格納したファイルが存在することを確認する"
   ]
  },
  {
   "cell_type": "code",
   "execution_count": null,
   "metadata": {
    "colab": {
     "base_uri": "https://localhost:8080/"
    },
    "id": "cfJdioMTCzL_",
    "outputId": "c4f49b84-3384-4d59-ca43-e5e1f686a233"
   },
   "outputs": [
    {
     "name": "stdout",
     "output_type": "stream",
     "text": [
      "-rw-r--r-- 1 root root 1229339 Mar 15 14:44 mushrooms.csv\n"
     ]
    }
   ],
   "source": [
    "ls -la | grep mushrooms.csv"
   ]
  },
  {
   "cell_type": "markdown",
   "metadata": {
    "id": "HV9gQ0t_C5Nv"
   },
   "source": [
    "□結果：「mushrooms.csv」が存在すること"
   ]
  },
  {
   "cell_type": "markdown",
   "metadata": {
    "id": "1OVRuoH23Amk"
   },
   "source": [
    "#2.前処理とチューニング"
   ]
  },
  {
   "cell_type": "markdown",
   "metadata": {
    "id": "eGwU6jTBGnNu"
   },
   "source": [
    "###2.1.CSVファイルの読み込み"
   ]
  },
  {
   "cell_type": "code",
   "execution_count": null,
   "metadata": {
    "colab": {
     "base_uri": "https://localhost:8080/",
     "height": 540
    },
    "id": "FKJ4emK4G4gc",
    "outputId": "05f07534-2854-4651-a1cb-f930b962739d"
   },
   "outputs": [
    {
     "data": {
      "text/html": [
       "\n",
       "  <div id=\"df-c36bbfda-375f-4e23-92e6-af4261a3de37\">\n",
       "    <div class=\"colab-df-container\">\n",
       "      <div>\n",
       "<style scoped>\n",
       "    .dataframe tbody tr th:only-of-type {\n",
       "        vertical-align: middle;\n",
       "    }\n",
       "\n",
       "    .dataframe tbody tr th {\n",
       "        vertical-align: top;\n",
       "    }\n",
       "\n",
       "    .dataframe thead th {\n",
       "        text-align: right;\n",
       "    }\n",
       "</style>\n",
       "<table border=\"1\" class=\"dataframe\">\n",
       "  <thead>\n",
       "    <tr style=\"text-align: right;\">\n",
       "      <th></th>\n",
       "      <th>class</th>\n",
       "      <th>cap-shape</th>\n",
       "      <th>cap-surface</th>\n",
       "      <th>cap-color</th>\n",
       "      <th>bruises</th>\n",
       "      <th>odor</th>\n",
       "      <th>gill-attachment</th>\n",
       "      <th>gill-spacing</th>\n",
       "      <th>gill-size</th>\n",
       "      <th>gill-color</th>\n",
       "      <th>...</th>\n",
       "      <th>stalk-surface-below-ring</th>\n",
       "      <th>stalk-color-above-ring</th>\n",
       "      <th>stalk-color-below-ring</th>\n",
       "      <th>veil-type</th>\n",
       "      <th>veil-color</th>\n",
       "      <th>ring-number</th>\n",
       "      <th>ring-type</th>\n",
       "      <th>spore-print-color</th>\n",
       "      <th>population</th>\n",
       "      <th>habitat</th>\n",
       "    </tr>\n",
       "  </thead>\n",
       "  <tbody>\n",
       "    <tr>\n",
       "      <th>0</th>\n",
       "      <td>poisonous</td>\n",
       "      <td>convex</td>\n",
       "      <td>smooth</td>\n",
       "      <td>brown</td>\n",
       "      <td>yes</td>\n",
       "      <td>pungent</td>\n",
       "      <td>free</td>\n",
       "      <td>close</td>\n",
       "      <td>narrow</td>\n",
       "      <td>black</td>\n",
       "      <td>...</td>\n",
       "      <td>smooth</td>\n",
       "      <td>white</td>\n",
       "      <td>white</td>\n",
       "      <td>partial</td>\n",
       "      <td>white</td>\n",
       "      <td>one</td>\n",
       "      <td>pendant</td>\n",
       "      <td>black</td>\n",
       "      <td>scattered</td>\n",
       "      <td>urban</td>\n",
       "    </tr>\n",
       "    <tr>\n",
       "      <th>1</th>\n",
       "      <td>edible</td>\n",
       "      <td>convex</td>\n",
       "      <td>smooth</td>\n",
       "      <td>yellow</td>\n",
       "      <td>yes</td>\n",
       "      <td>almond</td>\n",
       "      <td>free</td>\n",
       "      <td>close</td>\n",
       "      <td>broad</td>\n",
       "      <td>black</td>\n",
       "      <td>...</td>\n",
       "      <td>smooth</td>\n",
       "      <td>white</td>\n",
       "      <td>white</td>\n",
       "      <td>partial</td>\n",
       "      <td>white</td>\n",
       "      <td>one</td>\n",
       "      <td>pendant</td>\n",
       "      <td>brown</td>\n",
       "      <td>numerous</td>\n",
       "      <td>grasses</td>\n",
       "    </tr>\n",
       "    <tr>\n",
       "      <th>2</th>\n",
       "      <td>edible</td>\n",
       "      <td>bell</td>\n",
       "      <td>smooth</td>\n",
       "      <td>white</td>\n",
       "      <td>yes</td>\n",
       "      <td>anise</td>\n",
       "      <td>free</td>\n",
       "      <td>close</td>\n",
       "      <td>broad</td>\n",
       "      <td>brown</td>\n",
       "      <td>...</td>\n",
       "      <td>smooth</td>\n",
       "      <td>white</td>\n",
       "      <td>white</td>\n",
       "      <td>partial</td>\n",
       "      <td>white</td>\n",
       "      <td>one</td>\n",
       "      <td>pendant</td>\n",
       "      <td>brown</td>\n",
       "      <td>numerous</td>\n",
       "      <td>meadows</td>\n",
       "    </tr>\n",
       "    <tr>\n",
       "      <th>3</th>\n",
       "      <td>poisonous</td>\n",
       "      <td>convex</td>\n",
       "      <td>scaly</td>\n",
       "      <td>white</td>\n",
       "      <td>yes</td>\n",
       "      <td>pungent</td>\n",
       "      <td>free</td>\n",
       "      <td>close</td>\n",
       "      <td>narrow</td>\n",
       "      <td>brown</td>\n",
       "      <td>...</td>\n",
       "      <td>smooth</td>\n",
       "      <td>white</td>\n",
       "      <td>white</td>\n",
       "      <td>partial</td>\n",
       "      <td>white</td>\n",
       "      <td>one</td>\n",
       "      <td>pendant</td>\n",
       "      <td>black</td>\n",
       "      <td>scattered</td>\n",
       "      <td>urban</td>\n",
       "    </tr>\n",
       "    <tr>\n",
       "      <th>4</th>\n",
       "      <td>edible</td>\n",
       "      <td>convex</td>\n",
       "      <td>smooth</td>\n",
       "      <td>gray</td>\n",
       "      <td>no</td>\n",
       "      <td>none</td>\n",
       "      <td>free</td>\n",
       "      <td>crowded</td>\n",
       "      <td>broad</td>\n",
       "      <td>black</td>\n",
       "      <td>...</td>\n",
       "      <td>smooth</td>\n",
       "      <td>white</td>\n",
       "      <td>white</td>\n",
       "      <td>partial</td>\n",
       "      <td>white</td>\n",
       "      <td>one</td>\n",
       "      <td>evanescent</td>\n",
       "      <td>brown</td>\n",
       "      <td>abundant</td>\n",
       "      <td>grasses</td>\n",
       "    </tr>\n",
       "    <tr>\n",
       "      <th>...</th>\n",
       "      <td>...</td>\n",
       "      <td>...</td>\n",
       "      <td>...</td>\n",
       "      <td>...</td>\n",
       "      <td>...</td>\n",
       "      <td>...</td>\n",
       "      <td>...</td>\n",
       "      <td>...</td>\n",
       "      <td>...</td>\n",
       "      <td>...</td>\n",
       "      <td>...</td>\n",
       "      <td>...</td>\n",
       "      <td>...</td>\n",
       "      <td>...</td>\n",
       "      <td>...</td>\n",
       "      <td>...</td>\n",
       "      <td>...</td>\n",
       "      <td>...</td>\n",
       "      <td>...</td>\n",
       "      <td>...</td>\n",
       "      <td>...</td>\n",
       "    </tr>\n",
       "    <tr>\n",
       "      <th>8119</th>\n",
       "      <td>edible</td>\n",
       "      <td>knobbed</td>\n",
       "      <td>smooth</td>\n",
       "      <td>brown</td>\n",
       "      <td>no</td>\n",
       "      <td>none</td>\n",
       "      <td>attached</td>\n",
       "      <td>close</td>\n",
       "      <td>broad</td>\n",
       "      <td>yellow</td>\n",
       "      <td>...</td>\n",
       "      <td>smooth</td>\n",
       "      <td>orange</td>\n",
       "      <td>orange</td>\n",
       "      <td>partial</td>\n",
       "      <td>orange</td>\n",
       "      <td>one</td>\n",
       "      <td>pendant</td>\n",
       "      <td>buff</td>\n",
       "      <td>clustered</td>\n",
       "      <td>leaves</td>\n",
       "    </tr>\n",
       "    <tr>\n",
       "      <th>8120</th>\n",
       "      <td>edible</td>\n",
       "      <td>convex</td>\n",
       "      <td>smooth</td>\n",
       "      <td>brown</td>\n",
       "      <td>no</td>\n",
       "      <td>none</td>\n",
       "      <td>attached</td>\n",
       "      <td>close</td>\n",
       "      <td>broad</td>\n",
       "      <td>yellow</td>\n",
       "      <td>...</td>\n",
       "      <td>smooth</td>\n",
       "      <td>orange</td>\n",
       "      <td>orange</td>\n",
       "      <td>partial</td>\n",
       "      <td>brown</td>\n",
       "      <td>one</td>\n",
       "      <td>pendant</td>\n",
       "      <td>buff</td>\n",
       "      <td>several</td>\n",
       "      <td>leaves</td>\n",
       "    </tr>\n",
       "    <tr>\n",
       "      <th>8121</th>\n",
       "      <td>edible</td>\n",
       "      <td>flat</td>\n",
       "      <td>smooth</td>\n",
       "      <td>brown</td>\n",
       "      <td>no</td>\n",
       "      <td>none</td>\n",
       "      <td>attached</td>\n",
       "      <td>close</td>\n",
       "      <td>broad</td>\n",
       "      <td>brown</td>\n",
       "      <td>...</td>\n",
       "      <td>smooth</td>\n",
       "      <td>orange</td>\n",
       "      <td>orange</td>\n",
       "      <td>partial</td>\n",
       "      <td>orange</td>\n",
       "      <td>one</td>\n",
       "      <td>pendant</td>\n",
       "      <td>buff</td>\n",
       "      <td>clustered</td>\n",
       "      <td>leaves</td>\n",
       "    </tr>\n",
       "    <tr>\n",
       "      <th>8122</th>\n",
       "      <td>poisonous</td>\n",
       "      <td>knobbed</td>\n",
       "      <td>scaly</td>\n",
       "      <td>brown</td>\n",
       "      <td>no</td>\n",
       "      <td>fishy</td>\n",
       "      <td>free</td>\n",
       "      <td>close</td>\n",
       "      <td>narrow</td>\n",
       "      <td>buff</td>\n",
       "      <td>...</td>\n",
       "      <td>silky</td>\n",
       "      <td>white</td>\n",
       "      <td>white</td>\n",
       "      <td>partial</td>\n",
       "      <td>white</td>\n",
       "      <td>one</td>\n",
       "      <td>evanescent</td>\n",
       "      <td>white</td>\n",
       "      <td>several</td>\n",
       "      <td>leaves</td>\n",
       "    </tr>\n",
       "    <tr>\n",
       "      <th>8123</th>\n",
       "      <td>edible</td>\n",
       "      <td>convex</td>\n",
       "      <td>smooth</td>\n",
       "      <td>brown</td>\n",
       "      <td>no</td>\n",
       "      <td>none</td>\n",
       "      <td>attached</td>\n",
       "      <td>close</td>\n",
       "      <td>broad</td>\n",
       "      <td>yellow</td>\n",
       "      <td>...</td>\n",
       "      <td>smooth</td>\n",
       "      <td>orange</td>\n",
       "      <td>orange</td>\n",
       "      <td>partial</td>\n",
       "      <td>orange</td>\n",
       "      <td>one</td>\n",
       "      <td>pendant</td>\n",
       "      <td>orange</td>\n",
       "      <td>clustered</td>\n",
       "      <td>leaves</td>\n",
       "    </tr>\n",
       "  </tbody>\n",
       "</table>\n",
       "<p>8124 rows × 23 columns</p>\n",
       "</div>\n",
       "      <button class=\"colab-df-convert\" onclick=\"convertToInteractive('df-c36bbfda-375f-4e23-92e6-af4261a3de37')\"\n",
       "              title=\"Convert this dataframe to an interactive table.\"\n",
       "              style=\"display:none;\">\n",
       "        \n",
       "  <svg xmlns=\"http://www.w3.org/2000/svg\" height=\"24px\"viewBox=\"0 0 24 24\"\n",
       "       width=\"24px\">\n",
       "    <path d=\"M0 0h24v24H0V0z\" fill=\"none\"/>\n",
       "    <path d=\"M18.56 5.44l.94 2.06.94-2.06 2.06-.94-2.06-.94-.94-2.06-.94 2.06-2.06.94zm-11 1L8.5 8.5l.94-2.06 2.06-.94-2.06-.94L8.5 2.5l-.94 2.06-2.06.94zm10 10l.94 2.06.94-2.06 2.06-.94-2.06-.94-.94-2.06-.94 2.06-2.06.94z\"/><path d=\"M17.41 7.96l-1.37-1.37c-.4-.4-.92-.59-1.43-.59-.52 0-1.04.2-1.43.59L10.3 9.45l-7.72 7.72c-.78.78-.78 2.05 0 2.83L4 21.41c.39.39.9.59 1.41.59.51 0 1.02-.2 1.41-.59l7.78-7.78 2.81-2.81c.8-.78.8-2.07 0-2.86zM5.41 20L4 18.59l7.72-7.72 1.47 1.35L5.41 20z\"/>\n",
       "  </svg>\n",
       "      </button>\n",
       "      \n",
       "  <style>\n",
       "    .colab-df-container {\n",
       "      display:flex;\n",
       "      flex-wrap:wrap;\n",
       "      gap: 12px;\n",
       "    }\n",
       "\n",
       "    .colab-df-convert {\n",
       "      background-color: #E8F0FE;\n",
       "      border: none;\n",
       "      border-radius: 50%;\n",
       "      cursor: pointer;\n",
       "      display: none;\n",
       "      fill: #1967D2;\n",
       "      height: 32px;\n",
       "      padding: 0 0 0 0;\n",
       "      width: 32px;\n",
       "    }\n",
       "\n",
       "    .colab-df-convert:hover {\n",
       "      background-color: #E2EBFA;\n",
       "      box-shadow: 0px 1px 2px rgba(60, 64, 67, 0.3), 0px 1px 3px 1px rgba(60, 64, 67, 0.15);\n",
       "      fill: #174EA6;\n",
       "    }\n",
       "\n",
       "    [theme=dark] .colab-df-convert {\n",
       "      background-color: #3B4455;\n",
       "      fill: #D2E3FC;\n",
       "    }\n",
       "\n",
       "    [theme=dark] .colab-df-convert:hover {\n",
       "      background-color: #434B5C;\n",
       "      box-shadow: 0px 1px 3px 1px rgba(0, 0, 0, 0.15);\n",
       "      filter: drop-shadow(0px 1px 2px rgba(0, 0, 0, 0.3));\n",
       "      fill: #FFFFFF;\n",
       "    }\n",
       "  </style>\n",
       "\n",
       "      <script>\n",
       "        const buttonEl =\n",
       "          document.querySelector('#df-c36bbfda-375f-4e23-92e6-af4261a3de37 button.colab-df-convert');\n",
       "        buttonEl.style.display =\n",
       "          google.colab.kernel.accessAllowed ? 'block' : 'none';\n",
       "\n",
       "        async function convertToInteractive(key) {\n",
       "          const element = document.querySelector('#df-c36bbfda-375f-4e23-92e6-af4261a3de37');\n",
       "          const dataTable =\n",
       "            await google.colab.kernel.invokeFunction('convertToInteractive',\n",
       "                                                     [key], {});\n",
       "          if (!dataTable) return;\n",
       "\n",
       "          const docLinkHtml = 'Like what you see? Visit the ' +\n",
       "            '<a target=\"_blank\" href=https://colab.research.google.com/notebooks/data_table.ipynb>data table notebook</a>'\n",
       "            + ' to learn more about interactive tables.';\n",
       "          element.innerHTML = '';\n",
       "          dataTable['output_type'] = 'display_data';\n",
       "          await google.colab.output.renderOutput(dataTable, element);\n",
       "          const docLink = document.createElement('div');\n",
       "          docLink.innerHTML = docLinkHtml;\n",
       "          element.appendChild(docLink);\n",
       "        }\n",
       "      </script>\n",
       "    </div>\n",
       "  </div>\n",
       "  "
      ],
      "text/plain": [
       "          class cap-shape cap-surface cap-color bruises     odor  \\\n",
       "0     poisonous    convex      smooth     brown     yes  pungent   \n",
       "1        edible    convex      smooth    yellow     yes   almond   \n",
       "2        edible      bell      smooth     white     yes    anise   \n",
       "3     poisonous    convex       scaly     white     yes  pungent   \n",
       "4        edible    convex      smooth      gray      no     none   \n",
       "...         ...       ...         ...       ...     ...      ...   \n",
       "8119     edible   knobbed      smooth     brown      no     none   \n",
       "8120     edible    convex      smooth     brown      no     none   \n",
       "8121     edible      flat      smooth     brown      no     none   \n",
       "8122  poisonous   knobbed       scaly     brown      no    fishy   \n",
       "8123     edible    convex      smooth     brown      no     none   \n",
       "\n",
       "     gill-attachment gill-spacing gill-size gill-color  ...  \\\n",
       "0               free        close    narrow      black  ...   \n",
       "1               free        close     broad      black  ...   \n",
       "2               free        close     broad      brown  ...   \n",
       "3               free        close    narrow      brown  ...   \n",
       "4               free      crowded     broad      black  ...   \n",
       "...              ...          ...       ...        ...  ...   \n",
       "8119        attached        close     broad     yellow  ...   \n",
       "8120        attached        close     broad     yellow  ...   \n",
       "8121        attached        close     broad      brown  ...   \n",
       "8122            free        close    narrow       buff  ...   \n",
       "8123        attached        close     broad     yellow  ...   \n",
       "\n",
       "     stalk-surface-below-ring stalk-color-above-ring stalk-color-below-ring  \\\n",
       "0                      smooth                  white                  white   \n",
       "1                      smooth                  white                  white   \n",
       "2                      smooth                  white                  white   \n",
       "3                      smooth                  white                  white   \n",
       "4                      smooth                  white                  white   \n",
       "...                       ...                    ...                    ...   \n",
       "8119                   smooth                 orange                 orange   \n",
       "8120                   smooth                 orange                 orange   \n",
       "8121                   smooth                 orange                 orange   \n",
       "8122                    silky                  white                  white   \n",
       "8123                   smooth                 orange                 orange   \n",
       "\n",
       "     veil-type veil-color ring-number   ring-type spore-print-color  \\\n",
       "0      partial      white         one     pendant             black   \n",
       "1      partial      white         one     pendant             brown   \n",
       "2      partial      white         one     pendant             brown   \n",
       "3      partial      white         one     pendant             black   \n",
       "4      partial      white         one  evanescent             brown   \n",
       "...        ...        ...         ...         ...               ...   \n",
       "8119   partial     orange         one     pendant              buff   \n",
       "8120   partial      brown         one     pendant              buff   \n",
       "8121   partial     orange         one     pendant              buff   \n",
       "8122   partial      white         one  evanescent             white   \n",
       "8123   partial     orange         one     pendant            orange   \n",
       "\n",
       "     population  habitat  \n",
       "0     scattered    urban  \n",
       "1      numerous  grasses  \n",
       "2      numerous  meadows  \n",
       "3     scattered    urban  \n",
       "4      abundant  grasses  \n",
       "...         ...      ...  \n",
       "8119  clustered   leaves  \n",
       "8120    several   leaves  \n",
       "8121  clustered   leaves  \n",
       "8122    several   leaves  \n",
       "8123  clustered   leaves  \n",
       "\n",
       "[8124 rows x 23 columns]"
      ]
     },
     "execution_count": 16,
     "metadata": {},
     "output_type": "execute_result"
    }
   ],
   "source": [
    "#pandasをインポート\n",
    "import pandas as pd\n",
    "\n",
    "#mushroom.csvのデータを読み込む\n",
    "df = pd.read_csv('mushrooms.csv')\n",
    "\n",
    "#データの内容を確認\n",
    "df"
   ]
  },
  {
   "cell_type": "markdown",
   "metadata": {
    "id": "HRPEb1RBnso9"
   },
   "source": [
    "##2.2.欠損値処理"
   ]
  },
  {
   "cell_type": "code",
   "execution_count": null,
   "metadata": {
    "colab": {
     "base_uri": "https://localhost:8080/"
    },
    "id": "tjJpRvSKIWVm",
    "outputId": "db301d25-3973-4b58-9946-e8f18eab7cb4"
   },
   "outputs": [
    {
     "data": {
      "text/plain": [
       "class                       0\n",
       "cap-shape                   0\n",
       "cap-surface                 0\n",
       "cap-color                   0\n",
       "bruises                     0\n",
       "odor                        0\n",
       "gill-attachment             0\n",
       "gill-spacing                0\n",
       "gill-size                   0\n",
       "gill-color                  0\n",
       "stalk-shape                 0\n",
       "stalk-root                  0\n",
       "stalk-surface-above-ring    0\n",
       "stalk-surface-below-ring    0\n",
       "stalk-color-above-ring      0\n",
       "stalk-color-below-ring      0\n",
       "veil-type                   0\n",
       "veil-color                  0\n",
       "ring-number                 0\n",
       "ring-type                   0\n",
       "spore-print-color           0\n",
       "population                  0\n",
       "habitat                     0\n",
       "dtype: int64"
      ]
     },
     "execution_count": 17,
     "metadata": {},
     "output_type": "execute_result"
    }
   ],
   "source": [
    "#欠損値の数を確認する\n",
    "df.isnull().sum()"
   ]
  },
  {
   "cell_type": "markdown",
   "metadata": {
    "id": "jiU4CKueF-r_"
   },
   "source": [
    "※欠損値が存在しない為、欠損値処理は不要"
   ]
  },
  {
   "cell_type": "code",
   "execution_count": null,
   "metadata": {
    "id": "nLwIbegFRVZd"
   },
   "outputs": [],
   "source": [
    "#(欠損値は存在しないが)元データと区別する為に欠損値なし変数にコピー\n",
    "non_df = df.copy()"
   ]
  },
  {
   "cell_type": "markdown",
   "metadata": {
    "id": "x2P0y_l6BDc6"
   },
   "source": [
    "##2.3.外れ値処理"
   ]
  },
  {
   "cell_type": "code",
   "execution_count": null,
   "metadata": {
    "colab": {
     "base_uri": "https://localhost:8080/"
    },
    "id": "Mf76y7hKBanU",
    "outputId": "88e6365c-80a9-4b55-fbcf-5fde89aa6105"
   },
   "outputs": [
    {
     "name": "stdout",
     "output_type": "stream",
     "text": [
      "edible       4208\n",
      "poisonous    3916\n",
      "Name: class, dtype: int64\n",
      "convex     3656\n",
      "flat       3152\n",
      "knobbed     828\n",
      "bell        452\n",
      "sunken       32\n",
      "conical       4\n",
      "Name: cap-shape, dtype: int64\n",
      "scaly           3244\n",
      "smooth          2556\n",
      "fibrous         2320\n",
      "groovesmooth       4\n",
      "Name: cap-surface, dtype: int64\n",
      "brown       2284\n",
      "gray        1840\n",
      "red         1500\n",
      "yellow      1072\n",
      "white       1040\n",
      "buff         168\n",
      "pink         144\n",
      "cinnamon      44\n",
      "purple        16\n",
      "green         16\n",
      "Name: cap-color, dtype: int64\n",
      "no     4748\n",
      "yes    3376\n",
      "Name: bruises, dtype: int64\n",
      "none        3528\n",
      "foul        2160\n",
      "fishy        576\n",
      "spicy        576\n",
      "almond       400\n",
      "anise        400\n",
      "pungent      256\n",
      "creosote     192\n",
      "musty         36\n",
      "Name: odor, dtype: int64\n",
      "free        7914\n",
      "attached     210\n",
      "Name: gill-attachment, dtype: int64\n",
      "close      6812\n",
      "crowded    1312\n",
      "Name: gill-spacing, dtype: int64\n",
      "broad     5612\n",
      "narrow    2512\n",
      "Name: gill-size, dtype: int64\n",
      "buff         1728\n",
      "pink         1492\n",
      "white        1202\n",
      "brown        1048\n",
      "gray          752\n",
      "chocolate     732\n",
      "purple        492\n",
      "black         408\n",
      "red            96\n",
      "yellow         86\n",
      "orange         64\n",
      "green          24\n",
      "Name: gill-color, dtype: int64\n",
      "tapering     4608\n",
      "enlarging    3516\n",
      "Name: stalk-shape, dtype: int64\n",
      "bulbous    3776\n",
      "missing    2480\n",
      "equal      1120\n",
      "club        556\n",
      "rooted      192\n",
      "Name: stalk-root, dtype: int64\n",
      "smooth     5176\n",
      "silky      2372\n",
      "fibrous     552\n",
      "scaly        24\n",
      "Name: stalk-surface-above-ring, dtype: int64\n",
      "smooth     4936\n",
      "silky      2304\n",
      "fibrous     600\n",
      "scaly       284\n",
      "Name: stalk-surface-below-ring, dtype: int64\n",
      "white       4464\n",
      "pink        1872\n",
      "gray         576\n",
      "brown        448\n",
      "buff         432\n",
      "orange       192\n",
      "e             96\n",
      "cinnamon      36\n",
      "yellow         8\n",
      "Name: stalk-color-above-ring, dtype: int64\n",
      "white       4384\n",
      "pink        1872\n",
      "gray         576\n",
      "brown        512\n",
      "buff         432\n",
      "orange       192\n",
      "e             96\n",
      "cinnamon      36\n",
      "yellow        24\n",
      "Name: stalk-color-below-ring, dtype: int64\n",
      "partial    8124\n",
      "Name: veil-type, dtype: int64\n",
      "white     7924\n",
      "brown       96\n",
      "orange      96\n",
      "yellow       8\n",
      "Name: veil-color, dtype: int64\n",
      "one     7488\n",
      "two      600\n",
      "none      36\n",
      "Name: ring-number, dtype: int64\n",
      "pendant       3968\n",
      "evanescent    2776\n",
      "large         1296\n",
      "flaring         48\n",
      "none            36\n",
      "Name: ring-type, dtype: int64\n",
      "white        2388\n",
      "brown        1968\n",
      "black        1872\n",
      "chocolate    1632\n",
      "green          72\n",
      "purple         48\n",
      "orange         48\n",
      "yellow         48\n",
      "buff           48\n",
      "Name: spore-print-color, dtype: int64\n",
      "several      4040\n",
      "solitary     1712\n",
      "scattered    1248\n",
      "numerous      400\n",
      "abundant      384\n",
      "clustered     340\n",
      "Name: population, dtype: int64\n",
      "woods      3148\n",
      "grasses    2148\n",
      "paths      1144\n",
      "leaves      832\n",
      "urban       368\n",
      "meadows     292\n",
      "waste       192\n",
      "Name: habitat, dtype: int64\n"
     ]
    }
   ],
   "source": [
    "#ユニークな要素と要素の数を出力\n",
    "for col in non_df.columns:\n",
    "    print(non_df[col].value_counts())"
   ]
  },
  {
   "cell_type": "markdown",
   "metadata": {
    "id": "bkqWZ_ZeGGmU"
   },
   "source": [
    "※外れ値は存在しない為、外れ値処理は不要  \n",
    "※「stalk-color-above-ring」の「e」と、「stalk-color-below-ring」の「e」は、「red」への変換ミスだと思われる。"
   ]
  },
  {
   "cell_type": "code",
   "execution_count": null,
   "metadata": {
    "id": "ZYk0x5vuDatY"
   },
   "outputs": [],
   "source": [
    "#(外れ値は存在しないが)元データと区別する為に外れ値なし変数にコピー\n",
    "non_noo_df = non_df.copy()"
   ]
  },
  {
   "cell_type": "markdown",
   "metadata": {
    "id": "UNncj3VloRsu"
   },
   "source": [
    "##2.4.ダミー変数化"
   ]
  },
  {
   "cell_type": "markdown",
   "metadata": {
    "id": "HGS84eXYoiFO"
   },
   "source": [
    "【説明】  \n",
    "■名義尺度  \n",
    "他と区別し分類するための名称のようなもの  \n",
    "例：男女、血液型、郵便番号、住所、本籍地、所属学部、学籍番号  \n",
    "使える統計量：各ケースの数、計数（count）、頻度（frequency）、最頻値、連関係数  \n",
    "対処法：get_dummiesを用いてダミー変数化する。その際、変数同士の相関が高いと多重共線性という問題が発生するため、回避するためのオプション（drop_first=True）を使用する。"
   ]
  },
  {
   "cell_type": "code",
   "execution_count": null,
   "metadata": {
    "colab": {
     "base_uri": "https://localhost:8080/",
     "height": 522
    },
    "id": "03NMm76qhiF3",
    "outputId": "1e3e72bd-fa13-4dc5-e8f7-dbef3e960e0e"
   },
   "outputs": [
    {
     "data": {
      "text/html": [
       "\n",
       "  <div id=\"df-53aef3b4-79eb-4bcd-a4f3-9f204424cd7b\">\n",
       "    <div class=\"colab-df-container\">\n",
       "      <div>\n",
       "<style scoped>\n",
       "    .dataframe tbody tr th:only-of-type {\n",
       "        vertical-align: middle;\n",
       "    }\n",
       "\n",
       "    .dataframe tbody tr th {\n",
       "        vertical-align: top;\n",
       "    }\n",
       "\n",
       "    .dataframe thead th {\n",
       "        text-align: right;\n",
       "    }\n",
       "</style>\n",
       "<table border=\"1\" class=\"dataframe\">\n",
       "  <thead>\n",
       "    <tr style=\"text-align: right;\">\n",
       "      <th></th>\n",
       "      <th>class</th>\n",
       "      <th>gill-spacing</th>\n",
       "      <th>gill-size</th>\n",
       "      <th>ring-number</th>\n",
       "      <th>population</th>\n",
       "      <th>cap-shape_conical</th>\n",
       "      <th>cap-shape_convex</th>\n",
       "      <th>cap-shape_flat</th>\n",
       "      <th>cap-shape_knobbed</th>\n",
       "      <th>cap-shape_sunken</th>\n",
       "      <th>...</th>\n",
       "      <th>spore-print-color_orange</th>\n",
       "      <th>spore-print-color_purple</th>\n",
       "      <th>spore-print-color_white</th>\n",
       "      <th>spore-print-color_yellow</th>\n",
       "      <th>habitat_leaves</th>\n",
       "      <th>habitat_meadows</th>\n",
       "      <th>habitat_paths</th>\n",
       "      <th>habitat_urban</th>\n",
       "      <th>habitat_waste</th>\n",
       "      <th>habitat_woods</th>\n",
       "    </tr>\n",
       "  </thead>\n",
       "  <tbody>\n",
       "    <tr>\n",
       "      <th>0</th>\n",
       "      <td>poisonous</td>\n",
       "      <td>close</td>\n",
       "      <td>narrow</td>\n",
       "      <td>one</td>\n",
       "      <td>scattered</td>\n",
       "      <td>0</td>\n",
       "      <td>1</td>\n",
       "      <td>0</td>\n",
       "      <td>0</td>\n",
       "      <td>0</td>\n",
       "      <td>...</td>\n",
       "      <td>0</td>\n",
       "      <td>0</td>\n",
       "      <td>0</td>\n",
       "      <td>0</td>\n",
       "      <td>0</td>\n",
       "      <td>0</td>\n",
       "      <td>0</td>\n",
       "      <td>1</td>\n",
       "      <td>0</td>\n",
       "      <td>0</td>\n",
       "    </tr>\n",
       "    <tr>\n",
       "      <th>1</th>\n",
       "      <td>edible</td>\n",
       "      <td>close</td>\n",
       "      <td>broad</td>\n",
       "      <td>one</td>\n",
       "      <td>numerous</td>\n",
       "      <td>0</td>\n",
       "      <td>1</td>\n",
       "      <td>0</td>\n",
       "      <td>0</td>\n",
       "      <td>0</td>\n",
       "      <td>...</td>\n",
       "      <td>0</td>\n",
       "      <td>0</td>\n",
       "      <td>0</td>\n",
       "      <td>0</td>\n",
       "      <td>0</td>\n",
       "      <td>0</td>\n",
       "      <td>0</td>\n",
       "      <td>0</td>\n",
       "      <td>0</td>\n",
       "      <td>0</td>\n",
       "    </tr>\n",
       "    <tr>\n",
       "      <th>2</th>\n",
       "      <td>edible</td>\n",
       "      <td>close</td>\n",
       "      <td>broad</td>\n",
       "      <td>one</td>\n",
       "      <td>numerous</td>\n",
       "      <td>0</td>\n",
       "      <td>0</td>\n",
       "      <td>0</td>\n",
       "      <td>0</td>\n",
       "      <td>0</td>\n",
       "      <td>...</td>\n",
       "      <td>0</td>\n",
       "      <td>0</td>\n",
       "      <td>0</td>\n",
       "      <td>0</td>\n",
       "      <td>0</td>\n",
       "      <td>1</td>\n",
       "      <td>0</td>\n",
       "      <td>0</td>\n",
       "      <td>0</td>\n",
       "      <td>0</td>\n",
       "    </tr>\n",
       "    <tr>\n",
       "      <th>3</th>\n",
       "      <td>poisonous</td>\n",
       "      <td>close</td>\n",
       "      <td>narrow</td>\n",
       "      <td>one</td>\n",
       "      <td>scattered</td>\n",
       "      <td>0</td>\n",
       "      <td>1</td>\n",
       "      <td>0</td>\n",
       "      <td>0</td>\n",
       "      <td>0</td>\n",
       "      <td>...</td>\n",
       "      <td>0</td>\n",
       "      <td>0</td>\n",
       "      <td>0</td>\n",
       "      <td>0</td>\n",
       "      <td>0</td>\n",
       "      <td>0</td>\n",
       "      <td>0</td>\n",
       "      <td>1</td>\n",
       "      <td>0</td>\n",
       "      <td>0</td>\n",
       "    </tr>\n",
       "    <tr>\n",
       "      <th>4</th>\n",
       "      <td>edible</td>\n",
       "      <td>crowded</td>\n",
       "      <td>broad</td>\n",
       "      <td>one</td>\n",
       "      <td>abundant</td>\n",
       "      <td>0</td>\n",
       "      <td>1</td>\n",
       "      <td>0</td>\n",
       "      <td>0</td>\n",
       "      <td>0</td>\n",
       "      <td>...</td>\n",
       "      <td>0</td>\n",
       "      <td>0</td>\n",
       "      <td>0</td>\n",
       "      <td>0</td>\n",
       "      <td>0</td>\n",
       "      <td>0</td>\n",
       "      <td>0</td>\n",
       "      <td>0</td>\n",
       "      <td>0</td>\n",
       "      <td>0</td>\n",
       "    </tr>\n",
       "    <tr>\n",
       "      <th>...</th>\n",
       "      <td>...</td>\n",
       "      <td>...</td>\n",
       "      <td>...</td>\n",
       "      <td>...</td>\n",
       "      <td>...</td>\n",
       "      <td>...</td>\n",
       "      <td>...</td>\n",
       "      <td>...</td>\n",
       "      <td>...</td>\n",
       "      <td>...</td>\n",
       "      <td>...</td>\n",
       "      <td>...</td>\n",
       "      <td>...</td>\n",
       "      <td>...</td>\n",
       "      <td>...</td>\n",
       "      <td>...</td>\n",
       "      <td>...</td>\n",
       "      <td>...</td>\n",
       "      <td>...</td>\n",
       "      <td>...</td>\n",
       "      <td>...</td>\n",
       "    </tr>\n",
       "    <tr>\n",
       "      <th>8119</th>\n",
       "      <td>edible</td>\n",
       "      <td>close</td>\n",
       "      <td>broad</td>\n",
       "      <td>one</td>\n",
       "      <td>clustered</td>\n",
       "      <td>0</td>\n",
       "      <td>0</td>\n",
       "      <td>0</td>\n",
       "      <td>1</td>\n",
       "      <td>0</td>\n",
       "      <td>...</td>\n",
       "      <td>0</td>\n",
       "      <td>0</td>\n",
       "      <td>0</td>\n",
       "      <td>0</td>\n",
       "      <td>1</td>\n",
       "      <td>0</td>\n",
       "      <td>0</td>\n",
       "      <td>0</td>\n",
       "      <td>0</td>\n",
       "      <td>0</td>\n",
       "    </tr>\n",
       "    <tr>\n",
       "      <th>8120</th>\n",
       "      <td>edible</td>\n",
       "      <td>close</td>\n",
       "      <td>broad</td>\n",
       "      <td>one</td>\n",
       "      <td>several</td>\n",
       "      <td>0</td>\n",
       "      <td>1</td>\n",
       "      <td>0</td>\n",
       "      <td>0</td>\n",
       "      <td>0</td>\n",
       "      <td>...</td>\n",
       "      <td>0</td>\n",
       "      <td>0</td>\n",
       "      <td>0</td>\n",
       "      <td>0</td>\n",
       "      <td>1</td>\n",
       "      <td>0</td>\n",
       "      <td>0</td>\n",
       "      <td>0</td>\n",
       "      <td>0</td>\n",
       "      <td>0</td>\n",
       "    </tr>\n",
       "    <tr>\n",
       "      <th>8121</th>\n",
       "      <td>edible</td>\n",
       "      <td>close</td>\n",
       "      <td>broad</td>\n",
       "      <td>one</td>\n",
       "      <td>clustered</td>\n",
       "      <td>0</td>\n",
       "      <td>0</td>\n",
       "      <td>1</td>\n",
       "      <td>0</td>\n",
       "      <td>0</td>\n",
       "      <td>...</td>\n",
       "      <td>0</td>\n",
       "      <td>0</td>\n",
       "      <td>0</td>\n",
       "      <td>0</td>\n",
       "      <td>1</td>\n",
       "      <td>0</td>\n",
       "      <td>0</td>\n",
       "      <td>0</td>\n",
       "      <td>0</td>\n",
       "      <td>0</td>\n",
       "    </tr>\n",
       "    <tr>\n",
       "      <th>8122</th>\n",
       "      <td>poisonous</td>\n",
       "      <td>close</td>\n",
       "      <td>narrow</td>\n",
       "      <td>one</td>\n",
       "      <td>several</td>\n",
       "      <td>0</td>\n",
       "      <td>0</td>\n",
       "      <td>0</td>\n",
       "      <td>1</td>\n",
       "      <td>0</td>\n",
       "      <td>...</td>\n",
       "      <td>0</td>\n",
       "      <td>0</td>\n",
       "      <td>1</td>\n",
       "      <td>0</td>\n",
       "      <td>1</td>\n",
       "      <td>0</td>\n",
       "      <td>0</td>\n",
       "      <td>0</td>\n",
       "      <td>0</td>\n",
       "      <td>0</td>\n",
       "    </tr>\n",
       "    <tr>\n",
       "      <th>8123</th>\n",
       "      <td>edible</td>\n",
       "      <td>close</td>\n",
       "      <td>broad</td>\n",
       "      <td>one</td>\n",
       "      <td>clustered</td>\n",
       "      <td>0</td>\n",
       "      <td>1</td>\n",
       "      <td>0</td>\n",
       "      <td>0</td>\n",
       "      <td>0</td>\n",
       "      <td>...</td>\n",
       "      <td>1</td>\n",
       "      <td>0</td>\n",
       "      <td>0</td>\n",
       "      <td>0</td>\n",
       "      <td>1</td>\n",
       "      <td>0</td>\n",
       "      <td>0</td>\n",
       "      <td>0</td>\n",
       "      <td>0</td>\n",
       "      <td>0</td>\n",
       "    </tr>\n",
       "  </tbody>\n",
       "</table>\n",
       "<p>8124 rows × 91 columns</p>\n",
       "</div>\n",
       "      <button class=\"colab-df-convert\" onclick=\"convertToInteractive('df-53aef3b4-79eb-4bcd-a4f3-9f204424cd7b')\"\n",
       "              title=\"Convert this dataframe to an interactive table.\"\n",
       "              style=\"display:none;\">\n",
       "        \n",
       "  <svg xmlns=\"http://www.w3.org/2000/svg\" height=\"24px\"viewBox=\"0 0 24 24\"\n",
       "       width=\"24px\">\n",
       "    <path d=\"M0 0h24v24H0V0z\" fill=\"none\"/>\n",
       "    <path d=\"M18.56 5.44l.94 2.06.94-2.06 2.06-.94-2.06-.94-.94-2.06-.94 2.06-2.06.94zm-11 1L8.5 8.5l.94-2.06 2.06-.94-2.06-.94L8.5 2.5l-.94 2.06-2.06.94zm10 10l.94 2.06.94-2.06 2.06-.94-2.06-.94-.94-2.06-.94 2.06-2.06.94z\"/><path d=\"M17.41 7.96l-1.37-1.37c-.4-.4-.92-.59-1.43-.59-.52 0-1.04.2-1.43.59L10.3 9.45l-7.72 7.72c-.78.78-.78 2.05 0 2.83L4 21.41c.39.39.9.59 1.41.59.51 0 1.02-.2 1.41-.59l7.78-7.78 2.81-2.81c.8-.78.8-2.07 0-2.86zM5.41 20L4 18.59l7.72-7.72 1.47 1.35L5.41 20z\"/>\n",
       "  </svg>\n",
       "      </button>\n",
       "      \n",
       "  <style>\n",
       "    .colab-df-container {\n",
       "      display:flex;\n",
       "      flex-wrap:wrap;\n",
       "      gap: 12px;\n",
       "    }\n",
       "\n",
       "    .colab-df-convert {\n",
       "      background-color: #E8F0FE;\n",
       "      border: none;\n",
       "      border-radius: 50%;\n",
       "      cursor: pointer;\n",
       "      display: none;\n",
       "      fill: #1967D2;\n",
       "      height: 32px;\n",
       "      padding: 0 0 0 0;\n",
       "      width: 32px;\n",
       "    }\n",
       "\n",
       "    .colab-df-convert:hover {\n",
       "      background-color: #E2EBFA;\n",
       "      box-shadow: 0px 1px 2px rgba(60, 64, 67, 0.3), 0px 1px 3px 1px rgba(60, 64, 67, 0.15);\n",
       "      fill: #174EA6;\n",
       "    }\n",
       "\n",
       "    [theme=dark] .colab-df-convert {\n",
       "      background-color: #3B4455;\n",
       "      fill: #D2E3FC;\n",
       "    }\n",
       "\n",
       "    [theme=dark] .colab-df-convert:hover {\n",
       "      background-color: #434B5C;\n",
       "      box-shadow: 0px 1px 3px 1px rgba(0, 0, 0, 0.15);\n",
       "      filter: drop-shadow(0px 1px 2px rgba(0, 0, 0, 0.3));\n",
       "      fill: #FFFFFF;\n",
       "    }\n",
       "  </style>\n",
       "\n",
       "      <script>\n",
       "        const buttonEl =\n",
       "          document.querySelector('#df-53aef3b4-79eb-4bcd-a4f3-9f204424cd7b button.colab-df-convert');\n",
       "        buttonEl.style.display =\n",
       "          google.colab.kernel.accessAllowed ? 'block' : 'none';\n",
       "\n",
       "        async function convertToInteractive(key) {\n",
       "          const element = document.querySelector('#df-53aef3b4-79eb-4bcd-a4f3-9f204424cd7b');\n",
       "          const dataTable =\n",
       "            await google.colab.kernel.invokeFunction('convertToInteractive',\n",
       "                                                     [key], {});\n",
       "          if (!dataTable) return;\n",
       "\n",
       "          const docLinkHtml = 'Like what you see? Visit the ' +\n",
       "            '<a target=\"_blank\" href=https://colab.research.google.com/notebooks/data_table.ipynb>data table notebook</a>'\n",
       "            + ' to learn more about interactive tables.';\n",
       "          element.innerHTML = '';\n",
       "          dataTable['output_type'] = 'display_data';\n",
       "          await google.colab.output.renderOutput(dataTable, element);\n",
       "          const docLink = document.createElement('div');\n",
       "          docLink.innerHTML = docLinkHtml;\n",
       "          element.appendChild(docLink);\n",
       "        }\n",
       "      </script>\n",
       "    </div>\n",
       "  </div>\n",
       "  "
      ],
      "text/plain": [
       "          class gill-spacing gill-size ring-number population  \\\n",
       "0     poisonous        close    narrow         one  scattered   \n",
       "1        edible        close     broad         one   numerous   \n",
       "2        edible        close     broad         one   numerous   \n",
       "3     poisonous        close    narrow         one  scattered   \n",
       "4        edible      crowded     broad         one   abundant   \n",
       "...         ...          ...       ...         ...        ...   \n",
       "8119     edible        close     broad         one  clustered   \n",
       "8120     edible        close     broad         one    several   \n",
       "8121     edible        close     broad         one  clustered   \n",
       "8122  poisonous        close    narrow         one    several   \n",
       "8123     edible        close     broad         one  clustered   \n",
       "\n",
       "      cap-shape_conical  cap-shape_convex  cap-shape_flat  cap-shape_knobbed  \\\n",
       "0                     0                 1               0                  0   \n",
       "1                     0                 1               0                  0   \n",
       "2                     0                 0               0                  0   \n",
       "3                     0                 1               0                  0   \n",
       "4                     0                 1               0                  0   \n",
       "...                 ...               ...             ...                ...   \n",
       "8119                  0                 0               0                  1   \n",
       "8120                  0                 1               0                  0   \n",
       "8121                  0                 0               1                  0   \n",
       "8122                  0                 0               0                  1   \n",
       "8123                  0                 1               0                  0   \n",
       "\n",
       "      cap-shape_sunken  ...  spore-print-color_orange  \\\n",
       "0                    0  ...                         0   \n",
       "1                    0  ...                         0   \n",
       "2                    0  ...                         0   \n",
       "3                    0  ...                         0   \n",
       "4                    0  ...                         0   \n",
       "...                ...  ...                       ...   \n",
       "8119                 0  ...                         0   \n",
       "8120                 0  ...                         0   \n",
       "8121                 0  ...                         0   \n",
       "8122                 0  ...                         0   \n",
       "8123                 0  ...                         1   \n",
       "\n",
       "      spore-print-color_purple  spore-print-color_white  \\\n",
       "0                            0                        0   \n",
       "1                            0                        0   \n",
       "2                            0                        0   \n",
       "3                            0                        0   \n",
       "4                            0                        0   \n",
       "...                        ...                      ...   \n",
       "8119                         0                        0   \n",
       "8120                         0                        0   \n",
       "8121                         0                        0   \n",
       "8122                         0                        1   \n",
       "8123                         0                        0   \n",
       "\n",
       "      spore-print-color_yellow  habitat_leaves  habitat_meadows  \\\n",
       "0                            0               0                0   \n",
       "1                            0               0                0   \n",
       "2                            0               0                1   \n",
       "3                            0               0                0   \n",
       "4                            0               0                0   \n",
       "...                        ...             ...              ...   \n",
       "8119                         0               1                0   \n",
       "8120                         0               1                0   \n",
       "8121                         0               1                0   \n",
       "8122                         0               1                0   \n",
       "8123                         0               1                0   \n",
       "\n",
       "      habitat_paths  habitat_urban  habitat_waste  habitat_woods  \n",
       "0                 0              1              0              0  \n",
       "1                 0              0              0              0  \n",
       "2                 0              0              0              0  \n",
       "3                 0              1              0              0  \n",
       "4                 0              0              0              0  \n",
       "...             ...            ...            ...            ...  \n",
       "8119              0              0              0              0  \n",
       "8120              0              0              0              0  \n",
       "8121              0              0              0              0  \n",
       "8122              0              0              0              0  \n",
       "8123              0              0              0              0  \n",
       "\n",
       "[8124 rows x 91 columns]"
      ]
     },
     "execution_count": 36,
     "metadata": {},
     "output_type": "execute_result"
    }
   ],
   "source": [
    "#名義尺度の列をダミー変数化\n",
    "non_noo_df = pd.get_dummies(non_noo_df, drop_first=True, columns=[\"cap-shape\",\"cap-surface\",\"cap-color\",\"bruises\",\"odor\",\"gill-attachment\",\"gill-color\",\"stalk-shape\",\"stalk-root\",\"stalk-surface-above-ring\",\"stalk-surface-below-ring\",\"stalk-color-above-ring\",\"stalk-color-below-ring\",\"veil-type\",\"veil-color\",\"ring-type\",\"spore-print-color\",\"habitat\"])\n",
    "\n",
    "#データの内容を確認\n",
    "non_noo_df"
   ]
  },
  {
   "cell_type": "markdown",
   "metadata": {
    "id": "n_cl2lVzKML0"
   },
   "source": []
  },
  {
   "cell_type": "markdown",
   "metadata": {
    "id": "0-WEnUWvpWzL"
   },
   "source": [
    "□結果：名義尺度として指定した列がダミー変数化されていること"
   ]
  },
  {
   "cell_type": "markdown",
   "metadata": {
    "id": "KnMIY_IqsUzJ"
   },
   "source": [
    "##2.5.カテゴリ変数化"
   ]
  },
  {
   "cell_type": "markdown",
   "metadata": {
    "id": "egrv2it9sczw"
   },
   "source": [
    "【説明】  \n",
    "■順序尺度  \n",
    "順序や大小には意味があるが間隔には意味がないもの  \n",
    "例えば、1位＋2位≠3位のように、足し算引き算ができないもの  \n",
    "例：1位 / 2位 / 3位…、1. 好き / 2. ふつう / 3. 嫌い、統計検定®1級 / 2級 / 3級 / 4級、がんのステージ分類におけるステージI / II / III / IV  \n",
    "使える統計量：中央値、パーセンタイル  \n",
    "対処法：LabelEncoderを用いてカテゴリ変数化する。"
   ]
  },
  {
   "cell_type": "code",
   "execution_count": null,
   "metadata": {
    "colab": {
     "base_uri": "https://localhost:8080/",
     "height": 522
    },
    "id": "14JrhqlXigkj",
    "outputId": "dcac97f2-b9df-461d-b92e-a9863e4de4b7"
   },
   "outputs": [
    {
     "data": {
      "text/html": [
       "\n",
       "  <div id=\"df-a93edcc2-9ba6-4ef0-a70a-8d76b35e64f6\">\n",
       "    <div class=\"colab-df-container\">\n",
       "      <div>\n",
       "<style scoped>\n",
       "    .dataframe tbody tr th:only-of-type {\n",
       "        vertical-align: middle;\n",
       "    }\n",
       "\n",
       "    .dataframe tbody tr th {\n",
       "        vertical-align: top;\n",
       "    }\n",
       "\n",
       "    .dataframe thead th {\n",
       "        text-align: right;\n",
       "    }\n",
       "</style>\n",
       "<table border=\"1\" class=\"dataframe\">\n",
       "  <thead>\n",
       "    <tr style=\"text-align: right;\">\n",
       "      <th></th>\n",
       "      <th>class</th>\n",
       "      <th>gill-spacing</th>\n",
       "      <th>gill-size</th>\n",
       "      <th>ring-number</th>\n",
       "      <th>population</th>\n",
       "      <th>cap-shape_conical</th>\n",
       "      <th>cap-shape_convex</th>\n",
       "      <th>cap-shape_flat</th>\n",
       "      <th>cap-shape_knobbed</th>\n",
       "      <th>cap-shape_sunken</th>\n",
       "      <th>...</th>\n",
       "      <th>spore-print-color_orange</th>\n",
       "      <th>spore-print-color_purple</th>\n",
       "      <th>spore-print-color_white</th>\n",
       "      <th>spore-print-color_yellow</th>\n",
       "      <th>habitat_leaves</th>\n",
       "      <th>habitat_meadows</th>\n",
       "      <th>habitat_paths</th>\n",
       "      <th>habitat_urban</th>\n",
       "      <th>habitat_waste</th>\n",
       "      <th>habitat_woods</th>\n",
       "    </tr>\n",
       "  </thead>\n",
       "  <tbody>\n",
       "    <tr>\n",
       "      <th>0</th>\n",
       "      <td>1</td>\n",
       "      <td>0</td>\n",
       "      <td>1</td>\n",
       "      <td>1</td>\n",
       "      <td>3</td>\n",
       "      <td>0</td>\n",
       "      <td>1</td>\n",
       "      <td>0</td>\n",
       "      <td>0</td>\n",
       "      <td>0</td>\n",
       "      <td>...</td>\n",
       "      <td>0</td>\n",
       "      <td>0</td>\n",
       "      <td>0</td>\n",
       "      <td>0</td>\n",
       "      <td>0</td>\n",
       "      <td>0</td>\n",
       "      <td>0</td>\n",
       "      <td>1</td>\n",
       "      <td>0</td>\n",
       "      <td>0</td>\n",
       "    </tr>\n",
       "    <tr>\n",
       "      <th>1</th>\n",
       "      <td>0</td>\n",
       "      <td>0</td>\n",
       "      <td>0</td>\n",
       "      <td>1</td>\n",
       "      <td>2</td>\n",
       "      <td>0</td>\n",
       "      <td>1</td>\n",
       "      <td>0</td>\n",
       "      <td>0</td>\n",
       "      <td>0</td>\n",
       "      <td>...</td>\n",
       "      <td>0</td>\n",
       "      <td>0</td>\n",
       "      <td>0</td>\n",
       "      <td>0</td>\n",
       "      <td>0</td>\n",
       "      <td>0</td>\n",
       "      <td>0</td>\n",
       "      <td>0</td>\n",
       "      <td>0</td>\n",
       "      <td>0</td>\n",
       "    </tr>\n",
       "    <tr>\n",
       "      <th>2</th>\n",
       "      <td>0</td>\n",
       "      <td>0</td>\n",
       "      <td>0</td>\n",
       "      <td>1</td>\n",
       "      <td>2</td>\n",
       "      <td>0</td>\n",
       "      <td>0</td>\n",
       "      <td>0</td>\n",
       "      <td>0</td>\n",
       "      <td>0</td>\n",
       "      <td>...</td>\n",
       "      <td>0</td>\n",
       "      <td>0</td>\n",
       "      <td>0</td>\n",
       "      <td>0</td>\n",
       "      <td>0</td>\n",
       "      <td>1</td>\n",
       "      <td>0</td>\n",
       "      <td>0</td>\n",
       "      <td>0</td>\n",
       "      <td>0</td>\n",
       "    </tr>\n",
       "    <tr>\n",
       "      <th>3</th>\n",
       "      <td>1</td>\n",
       "      <td>0</td>\n",
       "      <td>1</td>\n",
       "      <td>1</td>\n",
       "      <td>3</td>\n",
       "      <td>0</td>\n",
       "      <td>1</td>\n",
       "      <td>0</td>\n",
       "      <td>0</td>\n",
       "      <td>0</td>\n",
       "      <td>...</td>\n",
       "      <td>0</td>\n",
       "      <td>0</td>\n",
       "      <td>0</td>\n",
       "      <td>0</td>\n",
       "      <td>0</td>\n",
       "      <td>0</td>\n",
       "      <td>0</td>\n",
       "      <td>1</td>\n",
       "      <td>0</td>\n",
       "      <td>0</td>\n",
       "    </tr>\n",
       "    <tr>\n",
       "      <th>4</th>\n",
       "      <td>0</td>\n",
       "      <td>1</td>\n",
       "      <td>0</td>\n",
       "      <td>1</td>\n",
       "      <td>0</td>\n",
       "      <td>0</td>\n",
       "      <td>1</td>\n",
       "      <td>0</td>\n",
       "      <td>0</td>\n",
       "      <td>0</td>\n",
       "      <td>...</td>\n",
       "      <td>0</td>\n",
       "      <td>0</td>\n",
       "      <td>0</td>\n",
       "      <td>0</td>\n",
       "      <td>0</td>\n",
       "      <td>0</td>\n",
       "      <td>0</td>\n",
       "      <td>0</td>\n",
       "      <td>0</td>\n",
       "      <td>0</td>\n",
       "    </tr>\n",
       "    <tr>\n",
       "      <th>...</th>\n",
       "      <td>...</td>\n",
       "      <td>...</td>\n",
       "      <td>...</td>\n",
       "      <td>...</td>\n",
       "      <td>...</td>\n",
       "      <td>...</td>\n",
       "      <td>...</td>\n",
       "      <td>...</td>\n",
       "      <td>...</td>\n",
       "      <td>...</td>\n",
       "      <td>...</td>\n",
       "      <td>...</td>\n",
       "      <td>...</td>\n",
       "      <td>...</td>\n",
       "      <td>...</td>\n",
       "      <td>...</td>\n",
       "      <td>...</td>\n",
       "      <td>...</td>\n",
       "      <td>...</td>\n",
       "      <td>...</td>\n",
       "      <td>...</td>\n",
       "    </tr>\n",
       "    <tr>\n",
       "      <th>8119</th>\n",
       "      <td>0</td>\n",
       "      <td>0</td>\n",
       "      <td>0</td>\n",
       "      <td>1</td>\n",
       "      <td>1</td>\n",
       "      <td>0</td>\n",
       "      <td>0</td>\n",
       "      <td>0</td>\n",
       "      <td>1</td>\n",
       "      <td>0</td>\n",
       "      <td>...</td>\n",
       "      <td>0</td>\n",
       "      <td>0</td>\n",
       "      <td>0</td>\n",
       "      <td>0</td>\n",
       "      <td>1</td>\n",
       "      <td>0</td>\n",
       "      <td>0</td>\n",
       "      <td>0</td>\n",
       "      <td>0</td>\n",
       "      <td>0</td>\n",
       "    </tr>\n",
       "    <tr>\n",
       "      <th>8120</th>\n",
       "      <td>0</td>\n",
       "      <td>0</td>\n",
       "      <td>0</td>\n",
       "      <td>1</td>\n",
       "      <td>4</td>\n",
       "      <td>0</td>\n",
       "      <td>1</td>\n",
       "      <td>0</td>\n",
       "      <td>0</td>\n",
       "      <td>0</td>\n",
       "      <td>...</td>\n",
       "      <td>0</td>\n",
       "      <td>0</td>\n",
       "      <td>0</td>\n",
       "      <td>0</td>\n",
       "      <td>1</td>\n",
       "      <td>0</td>\n",
       "      <td>0</td>\n",
       "      <td>0</td>\n",
       "      <td>0</td>\n",
       "      <td>0</td>\n",
       "    </tr>\n",
       "    <tr>\n",
       "      <th>8121</th>\n",
       "      <td>0</td>\n",
       "      <td>0</td>\n",
       "      <td>0</td>\n",
       "      <td>1</td>\n",
       "      <td>1</td>\n",
       "      <td>0</td>\n",
       "      <td>0</td>\n",
       "      <td>1</td>\n",
       "      <td>0</td>\n",
       "      <td>0</td>\n",
       "      <td>...</td>\n",
       "      <td>0</td>\n",
       "      <td>0</td>\n",
       "      <td>0</td>\n",
       "      <td>0</td>\n",
       "      <td>1</td>\n",
       "      <td>0</td>\n",
       "      <td>0</td>\n",
       "      <td>0</td>\n",
       "      <td>0</td>\n",
       "      <td>0</td>\n",
       "    </tr>\n",
       "    <tr>\n",
       "      <th>8122</th>\n",
       "      <td>1</td>\n",
       "      <td>0</td>\n",
       "      <td>1</td>\n",
       "      <td>1</td>\n",
       "      <td>4</td>\n",
       "      <td>0</td>\n",
       "      <td>0</td>\n",
       "      <td>0</td>\n",
       "      <td>1</td>\n",
       "      <td>0</td>\n",
       "      <td>...</td>\n",
       "      <td>0</td>\n",
       "      <td>0</td>\n",
       "      <td>1</td>\n",
       "      <td>0</td>\n",
       "      <td>1</td>\n",
       "      <td>0</td>\n",
       "      <td>0</td>\n",
       "      <td>0</td>\n",
       "      <td>0</td>\n",
       "      <td>0</td>\n",
       "    </tr>\n",
       "    <tr>\n",
       "      <th>8123</th>\n",
       "      <td>0</td>\n",
       "      <td>0</td>\n",
       "      <td>0</td>\n",
       "      <td>1</td>\n",
       "      <td>1</td>\n",
       "      <td>0</td>\n",
       "      <td>1</td>\n",
       "      <td>0</td>\n",
       "      <td>0</td>\n",
       "      <td>0</td>\n",
       "      <td>...</td>\n",
       "      <td>1</td>\n",
       "      <td>0</td>\n",
       "      <td>0</td>\n",
       "      <td>0</td>\n",
       "      <td>1</td>\n",
       "      <td>0</td>\n",
       "      <td>0</td>\n",
       "      <td>0</td>\n",
       "      <td>0</td>\n",
       "      <td>0</td>\n",
       "    </tr>\n",
       "  </tbody>\n",
       "</table>\n",
       "<p>8124 rows × 91 columns</p>\n",
       "</div>\n",
       "      <button class=\"colab-df-convert\" onclick=\"convertToInteractive('df-a93edcc2-9ba6-4ef0-a70a-8d76b35e64f6')\"\n",
       "              title=\"Convert this dataframe to an interactive table.\"\n",
       "              style=\"display:none;\">\n",
       "        \n",
       "  <svg xmlns=\"http://www.w3.org/2000/svg\" height=\"24px\"viewBox=\"0 0 24 24\"\n",
       "       width=\"24px\">\n",
       "    <path d=\"M0 0h24v24H0V0z\" fill=\"none\"/>\n",
       "    <path d=\"M18.56 5.44l.94 2.06.94-2.06 2.06-.94-2.06-.94-.94-2.06-.94 2.06-2.06.94zm-11 1L8.5 8.5l.94-2.06 2.06-.94-2.06-.94L8.5 2.5l-.94 2.06-2.06.94zm10 10l.94 2.06.94-2.06 2.06-.94-2.06-.94-.94-2.06-.94 2.06-2.06.94z\"/><path d=\"M17.41 7.96l-1.37-1.37c-.4-.4-.92-.59-1.43-.59-.52 0-1.04.2-1.43.59L10.3 9.45l-7.72 7.72c-.78.78-.78 2.05 0 2.83L4 21.41c.39.39.9.59 1.41.59.51 0 1.02-.2 1.41-.59l7.78-7.78 2.81-2.81c.8-.78.8-2.07 0-2.86zM5.41 20L4 18.59l7.72-7.72 1.47 1.35L5.41 20z\"/>\n",
       "  </svg>\n",
       "      </button>\n",
       "      \n",
       "  <style>\n",
       "    .colab-df-container {\n",
       "      display:flex;\n",
       "      flex-wrap:wrap;\n",
       "      gap: 12px;\n",
       "    }\n",
       "\n",
       "    .colab-df-convert {\n",
       "      background-color: #E8F0FE;\n",
       "      border: none;\n",
       "      border-radius: 50%;\n",
       "      cursor: pointer;\n",
       "      display: none;\n",
       "      fill: #1967D2;\n",
       "      height: 32px;\n",
       "      padding: 0 0 0 0;\n",
       "      width: 32px;\n",
       "    }\n",
       "\n",
       "    .colab-df-convert:hover {\n",
       "      background-color: #E2EBFA;\n",
       "      box-shadow: 0px 1px 2px rgba(60, 64, 67, 0.3), 0px 1px 3px 1px rgba(60, 64, 67, 0.15);\n",
       "      fill: #174EA6;\n",
       "    }\n",
       "\n",
       "    [theme=dark] .colab-df-convert {\n",
       "      background-color: #3B4455;\n",
       "      fill: #D2E3FC;\n",
       "    }\n",
       "\n",
       "    [theme=dark] .colab-df-convert:hover {\n",
       "      background-color: #434B5C;\n",
       "      box-shadow: 0px 1px 3px 1px rgba(0, 0, 0, 0.15);\n",
       "      filter: drop-shadow(0px 1px 2px rgba(0, 0, 0, 0.3));\n",
       "      fill: #FFFFFF;\n",
       "    }\n",
       "  </style>\n",
       "\n",
       "      <script>\n",
       "        const buttonEl =\n",
       "          document.querySelector('#df-a93edcc2-9ba6-4ef0-a70a-8d76b35e64f6 button.colab-df-convert');\n",
       "        buttonEl.style.display =\n",
       "          google.colab.kernel.accessAllowed ? 'block' : 'none';\n",
       "\n",
       "        async function convertToInteractive(key) {\n",
       "          const element = document.querySelector('#df-a93edcc2-9ba6-4ef0-a70a-8d76b35e64f6');\n",
       "          const dataTable =\n",
       "            await google.colab.kernel.invokeFunction('convertToInteractive',\n",
       "                                                     [key], {});\n",
       "          if (!dataTable) return;\n",
       "\n",
       "          const docLinkHtml = 'Like what you see? Visit the ' +\n",
       "            '<a target=\"_blank\" href=https://colab.research.google.com/notebooks/data_table.ipynb>data table notebook</a>'\n",
       "            + ' to learn more about interactive tables.';\n",
       "          element.innerHTML = '';\n",
       "          dataTable['output_type'] = 'display_data';\n",
       "          await google.colab.output.renderOutput(dataTable, element);\n",
       "          const docLink = document.createElement('div');\n",
       "          docLink.innerHTML = docLinkHtml;\n",
       "          element.appendChild(docLink);\n",
       "        }\n",
       "      </script>\n",
       "    </div>\n",
       "  </div>\n",
       "  "
      ],
      "text/plain": [
       "     class gill-spacing gill-size ring-number population  cap-shape_conical  \\\n",
       "0        1            0         1           1          3                  0   \n",
       "1        0            0         0           1          2                  0   \n",
       "2        0            0         0           1          2                  0   \n",
       "3        1            0         1           1          3                  0   \n",
       "4        0            1         0           1          0                  0   \n",
       "...    ...          ...       ...         ...        ...                ...   \n",
       "8119     0            0         0           1          1                  0   \n",
       "8120     0            0         0           1          4                  0   \n",
       "8121     0            0         0           1          1                  0   \n",
       "8122     1            0         1           1          4                  0   \n",
       "8123     0            0         0           1          1                  0   \n",
       "\n",
       "      cap-shape_convex  cap-shape_flat  cap-shape_knobbed  cap-shape_sunken  \\\n",
       "0                    1               0                  0                 0   \n",
       "1                    1               0                  0                 0   \n",
       "2                    0               0                  0                 0   \n",
       "3                    1               0                  0                 0   \n",
       "4                    1               0                  0                 0   \n",
       "...                ...             ...                ...               ...   \n",
       "8119                 0               0                  1                 0   \n",
       "8120                 1               0                  0                 0   \n",
       "8121                 0               1                  0                 0   \n",
       "8122                 0               0                  1                 0   \n",
       "8123                 1               0                  0                 0   \n",
       "\n",
       "      ...  spore-print-color_orange  spore-print-color_purple  \\\n",
       "0     ...                         0                         0   \n",
       "1     ...                         0                         0   \n",
       "2     ...                         0                         0   \n",
       "3     ...                         0                         0   \n",
       "4     ...                         0                         0   \n",
       "...   ...                       ...                       ...   \n",
       "8119  ...                         0                         0   \n",
       "8120  ...                         0                         0   \n",
       "8121  ...                         0                         0   \n",
       "8122  ...                         0                         0   \n",
       "8123  ...                         1                         0   \n",
       "\n",
       "      spore-print-color_white  spore-print-color_yellow  habitat_leaves  \\\n",
       "0                           0                         0               0   \n",
       "1                           0                         0               0   \n",
       "2                           0                         0               0   \n",
       "3                           0                         0               0   \n",
       "4                           0                         0               0   \n",
       "...                       ...                       ...             ...   \n",
       "8119                        0                         0               1   \n",
       "8120                        0                         0               1   \n",
       "8121                        0                         0               1   \n",
       "8122                        1                         0               1   \n",
       "8123                        0                         0               1   \n",
       "\n",
       "      habitat_meadows  habitat_paths  habitat_urban  habitat_waste  \\\n",
       "0                   0              0              1              0   \n",
       "1                   0              0              0              0   \n",
       "2                   1              0              0              0   \n",
       "3                   0              0              1              0   \n",
       "4                   0              0              0              0   \n",
       "...               ...            ...            ...            ...   \n",
       "8119                0              0              0              0   \n",
       "8120                0              0              0              0   \n",
       "8121                0              0              0              0   \n",
       "8122                0              0              0              0   \n",
       "8123                0              0              0              0   \n",
       "\n",
       "      habitat_woods  \n",
       "0                 0  \n",
       "1                 0  \n",
       "2                 0  \n",
       "3                 0  \n",
       "4                 0  \n",
       "...             ...  \n",
       "8119              0  \n",
       "8120              0  \n",
       "8121              0  \n",
       "8122              0  \n",
       "8123              0  \n",
       "\n",
       "[8124 rows x 91 columns]"
      ]
     },
     "execution_count": 37,
     "metadata": {},
     "output_type": "execute_result"
    }
   ],
   "source": [
    "#sklearnをインポート\n",
    "from sklearn import preprocessing\n",
    "\n",
    "#順序尺度の列をカテゴリ変数化\n",
    "for column in [\"class\", \"gill-spacing\", \"gill-size\", \"ring-number\", \"population\"]:\n",
    "    selected_column = non_noo_df[column]\n",
    "    #LabelEncoderでカテゴリ変数化する\n",
    "    le = preprocessing.LabelEncoder()\n",
    "    le.fit(selected_column)\n",
    "    column_le = le.transform(selected_column)\n",
    "    #カテゴリ変数化した値でnon_noo_df内のデータを書き換える\n",
    "    non_noo_df[column] = pd.Series(column_le).astype('category')\n",
    "\n",
    "#データの内容を確認\n",
    "non_noo_df"
   ]
  },
  {
   "cell_type": "markdown",
   "metadata": {
    "id": "OCbk29l0piE8"
   },
   "source": [
    "□結果：順序尺度として指定した列がカテゴリ変数化されていること"
   ]
  },
  {
   "cell_type": "markdown",
   "metadata": {
    "id": "zUNt6_SisM2h"
   },
   "source": [
    "##2.6.データの分割"
   ]
  },
  {
   "cell_type": "code",
   "execution_count": null,
   "metadata": {
    "colab": {
     "base_uri": "https://localhost:8080/"
    },
    "id": "V4mWymwyirU7",
    "outputId": "71fa3135-bb69-4d0a-c0f3-605cee954417"
   },
   "outputs": [
    {
     "name": "stdout",
     "output_type": "stream",
     "text": [
      "(6499, 90) (1625, 90) (6499,) (1625,)\n"
     ]
    }
   ],
   "source": [
    "#train_test_splitをインポート\n",
    "from sklearn.model_selection import train_test_split\n",
    "\n",
    "#正解データ：1列目(class列(毒の有無))\n",
    "t = non_noo_df.iloc[:, 0]\n",
    "\n",
    "#特徴量：2列目以降(class列以外)\n",
    "x = non_noo_df.iloc[:, 1:]\n",
    "\n",
    "#学習データとテストデータに分割\n",
    "(x_train, x_test, y_train, y_test) = train_test_split(x, t, test_size = 0.2, random_state = 0)\n",
    "\n",
    "#分割されたデータ数の表示\n",
    "print(x_train.shape, x_test.shape, y_train.shape, y_test.shape)"
   ]
  },
  {
   "cell_type": "markdown",
   "metadata": {
    "id": "q70t3pqIusTH"
   },
   "source": [
    "#3.学習"
   ]
  },
  {
   "cell_type": "markdown",
   "metadata": {
    "id": "yj2z7scsAjAj"
   },
   "source": [
    "##3.1.決定木モデルでの実装"
   ]
  },
  {
   "cell_type": "markdown",
   "metadata": {
    "id": "f5iMLeYQxzli"
   },
   "source": [
    "###3.1.0.learn関数の実装"
   ]
  },
  {
   "cell_type": "code",
   "execution_count": null,
   "metadata": {
    "id": "3OZixPj_FMv9"
   },
   "outputs": [],
   "source": [
    "#treeのインポート\n",
    "from sklearn import tree\n",
    "\n",
    "# learn関数\n",
    "def learn(x, t, depth = 3):\n",
    "    #テストデータと訓練データへ分割\n",
    "    x_train, x_test, y_train, y_test = train_test_split(x, t, test_size = 0.2, random_state = 0)\n",
    "    #学習\n",
    "    model = tree.DecisionTreeClassifier(max_depth = depth, random_state = 0, class_weight = \"balanced\")\n",
    "    model.fit(x_train, y_train)\n",
    "\n",
    "    score = model.score(X = x_train, y = y_train)\n",
    "    score2 = model.score(X = x_test, y = y_test)\n",
    "    return round(score, 3), round(score2, 3), model"
   ]
  },
  {
   "cell_type": "markdown",
   "metadata": {
    "id": "llON9WwvrEd7"
   },
   "source": [
    "###3.1.1.学習"
   ]
  },
  {
   "cell_type": "code",
   "execution_count": null,
   "metadata": {
    "colab": {
     "base_uri": "https://localhost:8080/"
    },
    "id": "nCkb8APXvn80",
    "outputId": "8a7385dc-2020-41c9-f5a4-2c6de86d4880"
   },
   "outputs": [
    {
     "name": "stdout",
     "output_type": "stream",
     "text": [
      "深さ 1 \t 訓練データの正解率0.889 \t テストデータの精度0.879\n",
      "深さ 2 \t 訓練データの正解率0.954 \t テストデータの精度0.956\n",
      "深さ 3 \t 訓練データの正解率0.986 \t テストデータの精度0.983\n",
      "深さ 4 \t 訓練データの正解率0.994 \t テストデータの精度0.990\n",
      "深さ 5 \t 訓練データの正解率0.997 \t テストデータの精度0.994\n",
      "深さ 6 \t 訓練データの正解率0.997 \t テストデータの精度0.994\n",
      "深さ 7 \t 訓練データの正解率1.000 \t テストデータの精度1.000\n",
      "深さ 8 \t 訓練データの正解率1.000 \t テストデータの精度1.000\n",
      "深さ 9 \t 訓練データの正解率1.000 \t テストデータの精度1.000\n",
      "深さ10 \t 訓練データの正解率1.000 \t テストデータの精度1.000\n",
      "深さ11 \t 訓練データの正解率1.000 \t テストデータの精度1.000\n",
      "深さ12 \t 訓練データの正解率1.000 \t テストデータの精度1.000\n",
      "深さ13 \t 訓練データの正解率1.000 \t テストデータの精度1.000\n",
      "深さ14 \t 訓練データの正解率1.000 \t テストデータの精度1.000\n",
      "深さ15 \t 訓練データの正解率1.000 \t テストデータの精度1.000\n"
     ]
    }
   ],
   "source": [
    "# learn関数を用いて深さごとに学習し、正解率と精度を確認\n",
    "for j in range(1, 16):\n",
    "    # learn関数による学習\n",
    "    train_score, test_score, model = learn(x, t, depth = j)\n",
    "\n",
    "    #正解率と精度の出力\n",
    "    total_sentence = '深さ{:2} \\t 訓練データの正解率{:.3f} \\t テストデータの精度{:.3f}'\n",
    "    print(total_sentence.format(j, train_score, test_score))"
   ]
  },
  {
   "cell_type": "code",
   "execution_count": null,
   "metadata": {
    "colab": {
     "base_uri": "https://localhost:8080/"
    },
    "id": "FJvySgg2Aihd",
    "outputId": "611956ee-3545-4dd4-b5f6-7838abb17fea"
   },
   "outputs": [
    {
     "data": {
      "text/plain": [
       "DecisionTreeClassifier(max_depth=7, random_state=0)"
      ]
     },
     "execution_count": 25,
     "metadata": {},
     "output_type": "execute_result"
    }
   ],
   "source": [
    "#深さ7以降で正解率と正答率が最大となっているため、深さ7を採用する\n",
    "# 学習\n",
    "model = tree.DecisionTreeClassifier(max_depth = 7, random_state = 0)\n",
    "model.fit(x_train, y_train)"
   ]
  },
  {
   "cell_type": "markdown",
   "metadata": {
    "id": "P_YLiGQUrCo7"
   },
   "source": [
    "###3.1.2.予測"
   ]
  },
  {
   "cell_type": "code",
   "execution_count": null,
   "metadata": {
    "colab": {
     "base_uri": "https://localhost:8080/"
    },
    "id": "AkfJhPlUrQmf",
    "outputId": "edf059cc-45ce-43cd-c0c8-d86b45ccbc5d"
   },
   "outputs": [
    {
     "data": {
      "text/plain": [
       "array([1, 0, 0, ..., 1, 0, 0])"
      ]
     },
     "execution_count": 26,
     "metadata": {},
     "output_type": "execute_result"
    }
   ],
   "source": [
    "#テストデータを渡して予測結果を取得\n",
    "predict = model.predict(x_test)\n",
    "\n",
    "#予測結果の出力\n",
    "predict"
   ]
  },
  {
   "cell_type": "markdown",
   "metadata": {
    "id": "6mT5V6b_rUI3"
   },
   "source": [
    "###3.1.3.精度"
   ]
  },
  {
   "cell_type": "code",
   "execution_count": null,
   "metadata": {
    "colab": {
     "base_uri": "https://localhost:8080/"
    },
    "id": "UOG08pONrVzW",
    "outputId": "40965cd3-7932-4b65-9a0f-4083e9cac524"
   },
   "outputs": [
    {
     "name": "stdout",
     "output_type": "stream",
     "text": [
      "正解率 = 1.0\n",
      "レポート =\n",
      "               precision    recall  f1-score   support\n",
      "\n",
      "           0       1.00      1.00      1.00       852\n",
      "           1       1.00      1.00      1.00       773\n",
      "\n",
      "    accuracy                           1.00      1625\n",
      "   macro avg       1.00      1.00      1.00      1625\n",
      "weighted avg       1.00      1.00      1.00      1625\n",
      "\n"
     ]
    }
   ],
   "source": [
    "#metricsをインポート\n",
    "from sklearn import metrics \n",
    "\n",
    "#予測結果の精度を確認\n",
    "ac_score = metrics.accuracy_score(y_test, predict)\n",
    "cl_report = metrics.classification_report(y_test, predict)\n",
    "print(\"正解率 =\", ac_score)\n",
    "print(\"レポート =\\n\", cl_report)"
   ]
  },
  {
   "cell_type": "markdown",
   "metadata": {
    "id": "h9S2H3DuAaMQ"
   },
   "source": [
    "##3.2.ランダムフォレストでの実装"
   ]
  },
  {
   "cell_type": "markdown",
   "metadata": {
    "id": "XqAhLyKrrzOW"
   },
   "source": [
    "###3.2.1.学習"
   ]
  },
  {
   "cell_type": "code",
   "execution_count": null,
   "metadata": {
    "colab": {
     "base_uri": "https://localhost:8080/"
    },
    "id": "LBLnhozajvyK",
    "outputId": "125f0d8f-c11a-4d70-c31c-6996261ec1f5"
   },
   "outputs": [
    {
     "data": {
      "text/plain": [
       "RandomForestClassifier()"
      ]
     },
     "execution_count": 28,
     "metadata": {},
     "output_type": "execute_result"
    }
   ],
   "source": [
    "#RandomForestClassifierのインポート\n",
    "from sklearn.ensemble import RandomForestClassifier\n",
    "\n",
    "# 学習\n",
    "model = RandomForestClassifier()\n",
    "model.fit(x_train, y_train)"
   ]
  },
  {
   "cell_type": "markdown",
   "metadata": {
    "id": "Q-z2tOp1_fAO"
   },
   "source": [
    "###3.2.2.予測"
   ]
  },
  {
   "cell_type": "code",
   "execution_count": null,
   "metadata": {
    "colab": {
     "base_uri": "https://localhost:8080/"
    },
    "id": "r-psoiF7_g-K",
    "outputId": "32ef6098-b524-4612-961e-140d08e1e7c4"
   },
   "outputs": [
    {
     "data": {
      "text/plain": [
       "array([1, 0, 0, ..., 1, 0, 0])"
      ]
     },
     "execution_count": 29,
     "metadata": {},
     "output_type": "execute_result"
    }
   ],
   "source": [
    "#テストデータを渡して予測結果を取得\n",
    "predict = model.predict(x_test)\n",
    "\n",
    "#予測結果の出力\n",
    "predict"
   ]
  },
  {
   "cell_type": "markdown",
   "metadata": {
    "id": "j1gfBHjp_7sF"
   },
   "source": [
    "###3.2.3.精度"
   ]
  },
  {
   "cell_type": "code",
   "execution_count": null,
   "metadata": {
    "colab": {
     "base_uri": "https://localhost:8080/"
    },
    "id": "CAMtcrL5kHLr",
    "outputId": "705ebc96-d99d-4adc-8ebd-e0367e6a7e18"
   },
   "outputs": [
    {
     "name": "stdout",
     "output_type": "stream",
     "text": [
      "正解率 = 1.0\n",
      "レポート =\n",
      "               precision    recall  f1-score   support\n",
      "\n",
      "           0       1.00      1.00      1.00       852\n",
      "           1       1.00      1.00      1.00       773\n",
      "\n",
      "    accuracy                           1.00      1625\n",
      "   macro avg       1.00      1.00      1.00      1625\n",
      "weighted avg       1.00      1.00      1.00      1625\n",
      "\n"
     ]
    }
   ],
   "source": [
    "#metricsをインポート\n",
    "from sklearn import metrics \n",
    "\n",
    "#予測結果の精度を確認\n",
    "ac_score = metrics.accuracy_score(y_test, predict)\n",
    "cl_report = metrics.classification_report(y_test, predict)\n",
    "print(\"正解率 =\", ac_score)\n",
    "print(\"レポート =\\n\", cl_report)"
   ]
  },
  {
   "cell_type": "markdown",
   "metadata": {
    "id": "KgoNasCZt9db"
   },
   "source": [
    "#4.モデルの保存"
   ]
  },
  {
   "cell_type": "code",
   "execution_count": null,
   "metadata": {
    "id": "l20o9Xb4uK5t"
   },
   "outputs": [],
   "source": [
    "#pickleをインポート\n",
    "import pickle\n",
    "\n",
    "#モデルを保存\n",
    "with open('mushrooms.pkl', 'wb') as f:\n",
    "    pickle.dump(model, f)"
   ]
  },
  {
   "cell_type": "code",
   "execution_count": null,
   "metadata": {
    "colab": {
     "base_uri": "https://localhost:8080/"
    },
    "id": "cA1J51gcufHM",
    "outputId": "b6f3f27a-fa49-43e9-8bd0-d9b56ccf5413"
   },
   "outputs": [
    {
     "name": "stdout",
     "output_type": "stream",
     "text": [
      "-rw-r--r-- 1 root root  555931 Mar 15 14:51 mushrooms.pkl\n"
     ]
    }
   ],
   "source": [
    "ls -l | grep mushrooms.pkl"
   ]
  },
  {
   "cell_type": "markdown",
   "metadata": {
    "id": "gqENSNY-uiK0"
   },
   "source": [
    "□結果：「mushrooms.pkl」が存在すること"
   ]
  },
  {
   "cell_type": "markdown",
   "metadata": {
    "id": "rkk8Esi_5zQG"
   },
   "source": [
    "#5.備考"
   ]
  },
  {
   "cell_type": "markdown",
   "metadata": {
    "id": "VgVx9D_b51c9"
   },
   "source": [
    "※欠損値が存在しない為、欠損値処理は不要  \n",
    "※正解データはclass列を用いる  \n",
    "※特徴量はclass列を除く全ての列を使用できる為、特徴量の絞り込みは不要  \n",
    "※十分な正解率と精度を有する為、多項式特徴量や交互作用特徴量の追加は不要"
   ]
  }
 ],
 "metadata": {
  "colab": {
   "collapsed_sections": [],
   "name": "kouka_分類_福岡校_吉冨.ipynb",
   "provenance": [],
   "toc_visible": true
  },
  "kernelspec": {
   "display_name": "Python 3",
   "language": "python",
   "name": "python3"
  },
  "language_info": {
   "codemirror_mode": {
    "name": "ipython",
    "version": 3
   },
   "file_extension": ".py",
   "mimetype": "text/x-python",
   "name": "python",
   "nbconvert_exporter": "python",
   "pygments_lexer": "ipython3",
   "version": "3.8.5"
  }
 },
 "nbformat": 4,
 "nbformat_minor": 1
}
