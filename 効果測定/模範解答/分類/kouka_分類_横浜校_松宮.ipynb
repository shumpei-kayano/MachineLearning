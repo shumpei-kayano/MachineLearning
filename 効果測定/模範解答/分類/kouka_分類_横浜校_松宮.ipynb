{
 "cells": [
  {
   "cell_type": "code",
   "execution_count": 2,
   "metadata": {
    "colab": {
     "base_uri": "https://localhost:8080/",
     "height": 36
    },
    "executionInfo": {
     "elapsed": 274,
     "status": "ok",
     "timestamp": 1647326202854,
     "user": {
      "displayName": "松宮正弥",
      "photoUrl": "https://lh3.googleusercontent.com/a/default-user=s64",
      "userId": "03574679515194343736"
     },
     "user_tz": -540
    },
    "id": "WcnmfdiTuFQB",
    "outputId": "45d7b764-ac7d-4049-da8d-22b2ba449f97"
   },
   "outputs": [
    {
     "data": {
      "application/vnd.google.colaboratory.intrinsic+json": {
       "type": "string"
      },
      "text/plain": [
       "'/content'"
      ]
     },
     "execution_count": 2,
     "metadata": {},
     "output_type": "execute_result"
    }
   ],
   "source": [
    "pwd"
   ]
  },
  {
   "cell_type": "code",
   "execution_count": 3,
   "metadata": {
    "executionInfo": {
     "elapsed": 287,
     "status": "ok",
     "timestamp": 1647326206180,
     "user": {
      "displayName": "松宮正弥",
      "photoUrl": "https://lh3.googleusercontent.com/a/default-user=s64",
      "userId": "03574679515194343736"
     },
     "user_tz": -540
    },
    "id": "rQ28HkInvOUB"
   },
   "outputs": [],
   "source": [
    "mkdir data"
   ]
  },
  {
   "cell_type": "code",
   "execution_count": 4,
   "metadata": {
    "colab": {
     "base_uri": "https://localhost:8080/"
    },
    "executionInfo": {
     "elapsed": 281,
     "status": "ok",
     "timestamp": 1647326209719,
     "user": {
      "displayName": "松宮正弥",
      "photoUrl": "https://lh3.googleusercontent.com/a/default-user=s64",
      "userId": "03574679515194343736"
     },
     "user_tz": -540
    },
    "id": "9N3PGdfevUYk",
    "outputId": "ea1acc2c-0255-43af-f521-2b80bcb2876b"
   },
   "outputs": [
    {
     "name": "stdout",
     "output_type": "stream",
     "text": [
      "/content/data\n"
     ]
    }
   ],
   "source": [
    "cd data"
   ]
  },
  {
   "cell_type": "markdown",
   "metadata": {
    "id": "h1L9l798Tlm7"
   },
   "source": [
    "必要なライブラリのインポートとCSVデータの取り込みを行う"
   ]
  },
  {
   "cell_type": "code",
   "execution_count": 5,
   "metadata": {
    "colab": {
     "base_uri": "https://localhost:8080/",
     "height": 508
    },
    "executionInfo": {
     "elapsed": 2060,
     "status": "ok",
     "timestamp": 1647326244747,
     "user": {
      "displayName": "松宮正弥",
      "photoUrl": "https://lh3.googleusercontent.com/a/default-user=s64",
      "userId": "03574679515194343736"
     },
     "user_tz": -540
    },
    "id": "pygg9ITivVcm",
    "outputId": "596a6e94-0e67-494d-fc2c-440883ff613c"
   },
   "outputs": [
    {
     "data": {
      "text/html": [
       "\n",
       "  <div id=\"df-09d7db16-5a67-436e-941d-7c1d083637ed\">\n",
       "    <div class=\"colab-df-container\">\n",
       "      <div>\n",
       "<style scoped>\n",
       "    .dataframe tbody tr th:only-of-type {\n",
       "        vertical-align: middle;\n",
       "    }\n",
       "\n",
       "    .dataframe tbody tr th {\n",
       "        vertical-align: top;\n",
       "    }\n",
       "\n",
       "    .dataframe thead th {\n",
       "        text-align: right;\n",
       "    }\n",
       "</style>\n",
       "<table border=\"1\" class=\"dataframe\">\n",
       "  <thead>\n",
       "    <tr style=\"text-align: right;\">\n",
       "      <th></th>\n",
       "      <th>class</th>\n",
       "      <th>cap-shape</th>\n",
       "      <th>cap-surface</th>\n",
       "      <th>cap-color</th>\n",
       "      <th>bruises</th>\n",
       "      <th>odor</th>\n",
       "      <th>gill-attachment</th>\n",
       "      <th>gill-spacing</th>\n",
       "      <th>gill-size</th>\n",
       "      <th>gill-color</th>\n",
       "      <th>...</th>\n",
       "      <th>stalk-surface-below-ring</th>\n",
       "      <th>stalk-color-above-ring</th>\n",
       "      <th>stalk-color-below-ring</th>\n",
       "      <th>veil-type</th>\n",
       "      <th>veil-color</th>\n",
       "      <th>ring-number</th>\n",
       "      <th>ring-type</th>\n",
       "      <th>spore-print-color</th>\n",
       "      <th>population</th>\n",
       "      <th>habitat</th>\n",
       "    </tr>\n",
       "  </thead>\n",
       "  <tbody>\n",
       "    <tr>\n",
       "      <th>0</th>\n",
       "      <td>poisonous</td>\n",
       "      <td>convex</td>\n",
       "      <td>smooth</td>\n",
       "      <td>brown</td>\n",
       "      <td>yes</td>\n",
       "      <td>pungent</td>\n",
       "      <td>free</td>\n",
       "      <td>close</td>\n",
       "      <td>narrow</td>\n",
       "      <td>black</td>\n",
       "      <td>...</td>\n",
       "      <td>smooth</td>\n",
       "      <td>white</td>\n",
       "      <td>white</td>\n",
       "      <td>partial</td>\n",
       "      <td>white</td>\n",
       "      <td>one</td>\n",
       "      <td>pendant</td>\n",
       "      <td>black</td>\n",
       "      <td>scattered</td>\n",
       "      <td>urban</td>\n",
       "    </tr>\n",
       "    <tr>\n",
       "      <th>1</th>\n",
       "      <td>edible</td>\n",
       "      <td>convex</td>\n",
       "      <td>smooth</td>\n",
       "      <td>yellow</td>\n",
       "      <td>yes</td>\n",
       "      <td>almond</td>\n",
       "      <td>free</td>\n",
       "      <td>close</td>\n",
       "      <td>broad</td>\n",
       "      <td>black</td>\n",
       "      <td>...</td>\n",
       "      <td>smooth</td>\n",
       "      <td>white</td>\n",
       "      <td>white</td>\n",
       "      <td>partial</td>\n",
       "      <td>white</td>\n",
       "      <td>one</td>\n",
       "      <td>pendant</td>\n",
       "      <td>brown</td>\n",
       "      <td>numerous</td>\n",
       "      <td>grasses</td>\n",
       "    </tr>\n",
       "    <tr>\n",
       "      <th>2</th>\n",
       "      <td>edible</td>\n",
       "      <td>bell</td>\n",
       "      <td>smooth</td>\n",
       "      <td>white</td>\n",
       "      <td>yes</td>\n",
       "      <td>anise</td>\n",
       "      <td>free</td>\n",
       "      <td>close</td>\n",
       "      <td>broad</td>\n",
       "      <td>brown</td>\n",
       "      <td>...</td>\n",
       "      <td>smooth</td>\n",
       "      <td>white</td>\n",
       "      <td>white</td>\n",
       "      <td>partial</td>\n",
       "      <td>white</td>\n",
       "      <td>one</td>\n",
       "      <td>pendant</td>\n",
       "      <td>brown</td>\n",
       "      <td>numerous</td>\n",
       "      <td>meadows</td>\n",
       "    </tr>\n",
       "    <tr>\n",
       "      <th>3</th>\n",
       "      <td>poisonous</td>\n",
       "      <td>convex</td>\n",
       "      <td>scaly</td>\n",
       "      <td>white</td>\n",
       "      <td>yes</td>\n",
       "      <td>pungent</td>\n",
       "      <td>free</td>\n",
       "      <td>close</td>\n",
       "      <td>narrow</td>\n",
       "      <td>brown</td>\n",
       "      <td>...</td>\n",
       "      <td>smooth</td>\n",
       "      <td>white</td>\n",
       "      <td>white</td>\n",
       "      <td>partial</td>\n",
       "      <td>white</td>\n",
       "      <td>one</td>\n",
       "      <td>pendant</td>\n",
       "      <td>black</td>\n",
       "      <td>scattered</td>\n",
       "      <td>urban</td>\n",
       "    </tr>\n",
       "    <tr>\n",
       "      <th>4</th>\n",
       "      <td>edible</td>\n",
       "      <td>convex</td>\n",
       "      <td>smooth</td>\n",
       "      <td>gray</td>\n",
       "      <td>no</td>\n",
       "      <td>none</td>\n",
       "      <td>free</td>\n",
       "      <td>crowded</td>\n",
       "      <td>broad</td>\n",
       "      <td>black</td>\n",
       "      <td>...</td>\n",
       "      <td>smooth</td>\n",
       "      <td>white</td>\n",
       "      <td>white</td>\n",
       "      <td>partial</td>\n",
       "      <td>white</td>\n",
       "      <td>one</td>\n",
       "      <td>evanescent</td>\n",
       "      <td>brown</td>\n",
       "      <td>abundant</td>\n",
       "      <td>grasses</td>\n",
       "    </tr>\n",
       "    <tr>\n",
       "      <th>5</th>\n",
       "      <td>edible</td>\n",
       "      <td>convex</td>\n",
       "      <td>scaly</td>\n",
       "      <td>yellow</td>\n",
       "      <td>yes</td>\n",
       "      <td>almond</td>\n",
       "      <td>free</td>\n",
       "      <td>close</td>\n",
       "      <td>broad</td>\n",
       "      <td>brown</td>\n",
       "      <td>...</td>\n",
       "      <td>smooth</td>\n",
       "      <td>white</td>\n",
       "      <td>white</td>\n",
       "      <td>partial</td>\n",
       "      <td>white</td>\n",
       "      <td>one</td>\n",
       "      <td>pendant</td>\n",
       "      <td>black</td>\n",
       "      <td>numerous</td>\n",
       "      <td>grasses</td>\n",
       "    </tr>\n",
       "    <tr>\n",
       "      <th>6</th>\n",
       "      <td>edible</td>\n",
       "      <td>bell</td>\n",
       "      <td>smooth</td>\n",
       "      <td>white</td>\n",
       "      <td>yes</td>\n",
       "      <td>almond</td>\n",
       "      <td>free</td>\n",
       "      <td>close</td>\n",
       "      <td>broad</td>\n",
       "      <td>gray</td>\n",
       "      <td>...</td>\n",
       "      <td>smooth</td>\n",
       "      <td>white</td>\n",
       "      <td>white</td>\n",
       "      <td>partial</td>\n",
       "      <td>white</td>\n",
       "      <td>one</td>\n",
       "      <td>pendant</td>\n",
       "      <td>black</td>\n",
       "      <td>numerous</td>\n",
       "      <td>meadows</td>\n",
       "    </tr>\n",
       "    <tr>\n",
       "      <th>7</th>\n",
       "      <td>edible</td>\n",
       "      <td>bell</td>\n",
       "      <td>scaly</td>\n",
       "      <td>white</td>\n",
       "      <td>yes</td>\n",
       "      <td>anise</td>\n",
       "      <td>free</td>\n",
       "      <td>close</td>\n",
       "      <td>broad</td>\n",
       "      <td>brown</td>\n",
       "      <td>...</td>\n",
       "      <td>smooth</td>\n",
       "      <td>white</td>\n",
       "      <td>white</td>\n",
       "      <td>partial</td>\n",
       "      <td>white</td>\n",
       "      <td>one</td>\n",
       "      <td>pendant</td>\n",
       "      <td>brown</td>\n",
       "      <td>scattered</td>\n",
       "      <td>meadows</td>\n",
       "    </tr>\n",
       "    <tr>\n",
       "      <th>8</th>\n",
       "      <td>poisonous</td>\n",
       "      <td>convex</td>\n",
       "      <td>scaly</td>\n",
       "      <td>white</td>\n",
       "      <td>yes</td>\n",
       "      <td>pungent</td>\n",
       "      <td>free</td>\n",
       "      <td>close</td>\n",
       "      <td>narrow</td>\n",
       "      <td>pink</td>\n",
       "      <td>...</td>\n",
       "      <td>smooth</td>\n",
       "      <td>white</td>\n",
       "      <td>white</td>\n",
       "      <td>partial</td>\n",
       "      <td>white</td>\n",
       "      <td>one</td>\n",
       "      <td>pendant</td>\n",
       "      <td>black</td>\n",
       "      <td>several</td>\n",
       "      <td>grasses</td>\n",
       "    </tr>\n",
       "    <tr>\n",
       "      <th>9</th>\n",
       "      <td>edible</td>\n",
       "      <td>bell</td>\n",
       "      <td>smooth</td>\n",
       "      <td>yellow</td>\n",
       "      <td>yes</td>\n",
       "      <td>almond</td>\n",
       "      <td>free</td>\n",
       "      <td>close</td>\n",
       "      <td>broad</td>\n",
       "      <td>gray</td>\n",
       "      <td>...</td>\n",
       "      <td>smooth</td>\n",
       "      <td>white</td>\n",
       "      <td>white</td>\n",
       "      <td>partial</td>\n",
       "      <td>white</td>\n",
       "      <td>one</td>\n",
       "      <td>pendant</td>\n",
       "      <td>black</td>\n",
       "      <td>scattered</td>\n",
       "      <td>meadows</td>\n",
       "    </tr>\n",
       "  </tbody>\n",
       "</table>\n",
       "<p>10 rows × 23 columns</p>\n",
       "</div>\n",
       "      <button class=\"colab-df-convert\" onclick=\"convertToInteractive('df-09d7db16-5a67-436e-941d-7c1d083637ed')\"\n",
       "              title=\"Convert this dataframe to an interactive table.\"\n",
       "              style=\"display:none;\">\n",
       "        \n",
       "  <svg xmlns=\"http://www.w3.org/2000/svg\" height=\"24px\"viewBox=\"0 0 24 24\"\n",
       "       width=\"24px\">\n",
       "    <path d=\"M0 0h24v24H0V0z\" fill=\"none\"/>\n",
       "    <path d=\"M18.56 5.44l.94 2.06.94-2.06 2.06-.94-2.06-.94-.94-2.06-.94 2.06-2.06.94zm-11 1L8.5 8.5l.94-2.06 2.06-.94-2.06-.94L8.5 2.5l-.94 2.06-2.06.94zm10 10l.94 2.06.94-2.06 2.06-.94-2.06-.94-.94-2.06-.94 2.06-2.06.94z\"/><path d=\"M17.41 7.96l-1.37-1.37c-.4-.4-.92-.59-1.43-.59-.52 0-1.04.2-1.43.59L10.3 9.45l-7.72 7.72c-.78.78-.78 2.05 0 2.83L4 21.41c.39.39.9.59 1.41.59.51 0 1.02-.2 1.41-.59l7.78-7.78 2.81-2.81c.8-.78.8-2.07 0-2.86zM5.41 20L4 18.59l7.72-7.72 1.47 1.35L5.41 20z\"/>\n",
       "  </svg>\n",
       "      </button>\n",
       "      \n",
       "  <style>\n",
       "    .colab-df-container {\n",
       "      display:flex;\n",
       "      flex-wrap:wrap;\n",
       "      gap: 12px;\n",
       "    }\n",
       "\n",
       "    .colab-df-convert {\n",
       "      background-color: #E8F0FE;\n",
       "      border: none;\n",
       "      border-radius: 50%;\n",
       "      cursor: pointer;\n",
       "      display: none;\n",
       "      fill: #1967D2;\n",
       "      height: 32px;\n",
       "      padding: 0 0 0 0;\n",
       "      width: 32px;\n",
       "    }\n",
       "\n",
       "    .colab-df-convert:hover {\n",
       "      background-color: #E2EBFA;\n",
       "      box-shadow: 0px 1px 2px rgba(60, 64, 67, 0.3), 0px 1px 3px 1px rgba(60, 64, 67, 0.15);\n",
       "      fill: #174EA6;\n",
       "    }\n",
       "\n",
       "    [theme=dark] .colab-df-convert {\n",
       "      background-color: #3B4455;\n",
       "      fill: #D2E3FC;\n",
       "    }\n",
       "\n",
       "    [theme=dark] .colab-df-convert:hover {\n",
       "      background-color: #434B5C;\n",
       "      box-shadow: 0px 1px 3px 1px rgba(0, 0, 0, 0.15);\n",
       "      filter: drop-shadow(0px 1px 2px rgba(0, 0, 0, 0.3));\n",
       "      fill: #FFFFFF;\n",
       "    }\n",
       "  </style>\n",
       "\n",
       "      <script>\n",
       "        const buttonEl =\n",
       "          document.querySelector('#df-09d7db16-5a67-436e-941d-7c1d083637ed button.colab-df-convert');\n",
       "        buttonEl.style.display =\n",
       "          google.colab.kernel.accessAllowed ? 'block' : 'none';\n",
       "\n",
       "        async function convertToInteractive(key) {\n",
       "          const element = document.querySelector('#df-09d7db16-5a67-436e-941d-7c1d083637ed');\n",
       "          const dataTable =\n",
       "            await google.colab.kernel.invokeFunction('convertToInteractive',\n",
       "                                                     [key], {});\n",
       "          if (!dataTable) return;\n",
       "\n",
       "          const docLinkHtml = 'Like what you see? Visit the ' +\n",
       "            '<a target=\"_blank\" href=https://colab.research.google.com/notebooks/data_table.ipynb>data table notebook</a>'\n",
       "            + ' to learn more about interactive tables.';\n",
       "          element.innerHTML = '';\n",
       "          dataTable['output_type'] = 'display_data';\n",
       "          await google.colab.output.renderOutput(dataTable, element);\n",
       "          const docLink = document.createElement('div');\n",
       "          docLink.innerHTML = docLinkHtml;\n",
       "          element.appendChild(docLink);\n",
       "        }\n",
       "      </script>\n",
       "    </div>\n",
       "  </div>\n",
       "  "
      ],
      "text/plain": [
       "       class cap-shape cap-surface cap-color bruises     odor gill-attachment  \\\n",
       "0  poisonous    convex      smooth     brown     yes  pungent            free   \n",
       "1     edible    convex      smooth    yellow     yes   almond            free   \n",
       "2     edible      bell      smooth     white     yes    anise            free   \n",
       "3  poisonous    convex       scaly     white     yes  pungent            free   \n",
       "4     edible    convex      smooth      gray      no     none            free   \n",
       "5     edible    convex       scaly    yellow     yes   almond            free   \n",
       "6     edible      bell      smooth     white     yes   almond            free   \n",
       "7     edible      bell       scaly     white     yes    anise            free   \n",
       "8  poisonous    convex       scaly     white     yes  pungent            free   \n",
       "9     edible      bell      smooth    yellow     yes   almond            free   \n",
       "\n",
       "  gill-spacing gill-size gill-color  ... stalk-surface-below-ring  \\\n",
       "0        close    narrow      black  ...                   smooth   \n",
       "1        close     broad      black  ...                   smooth   \n",
       "2        close     broad      brown  ...                   smooth   \n",
       "3        close    narrow      brown  ...                   smooth   \n",
       "4      crowded     broad      black  ...                   smooth   \n",
       "5        close     broad      brown  ...                   smooth   \n",
       "6        close     broad       gray  ...                   smooth   \n",
       "7        close     broad      brown  ...                   smooth   \n",
       "8        close    narrow       pink  ...                   smooth   \n",
       "9        close     broad       gray  ...                   smooth   \n",
       "\n",
       "  stalk-color-above-ring stalk-color-below-ring veil-type veil-color  \\\n",
       "0                  white                  white   partial      white   \n",
       "1                  white                  white   partial      white   \n",
       "2                  white                  white   partial      white   \n",
       "3                  white                  white   partial      white   \n",
       "4                  white                  white   partial      white   \n",
       "5                  white                  white   partial      white   \n",
       "6                  white                  white   partial      white   \n",
       "7                  white                  white   partial      white   \n",
       "8                  white                  white   partial      white   \n",
       "9                  white                  white   partial      white   \n",
       "\n",
       "  ring-number   ring-type spore-print-color population  habitat  \n",
       "0         one     pendant             black  scattered    urban  \n",
       "1         one     pendant             brown   numerous  grasses  \n",
       "2         one     pendant             brown   numerous  meadows  \n",
       "3         one     pendant             black  scattered    urban  \n",
       "4         one  evanescent             brown   abundant  grasses  \n",
       "5         one     pendant             black   numerous  grasses  \n",
       "6         one     pendant             black   numerous  meadows  \n",
       "7         one     pendant             brown  scattered  meadows  \n",
       "8         one     pendant             black    several  grasses  \n",
       "9         one     pendant             black  scattered  meadows  \n",
       "\n",
       "[10 rows x 23 columns]"
      ]
     },
     "execution_count": 5,
     "metadata": {},
     "output_type": "execute_result"
    }
   ],
   "source": [
    "import pandas as pd\n",
    "from sklearn import tree\n",
    "from sklearn.model_selection import train_test_split\n",
    "%matplotlib inline\n",
    "df = pd.read_csv('mushrooms.csv')\n",
    "df.head(10) # 先頭10行の確認"
   ]
  },
  {
   "cell_type": "markdown",
   "metadata": {
    "id": "gif29DgqUxRm"
   },
   "source": [
    "正解データの集計を行い、不均衡になっていないか確認する"
   ]
  },
  {
   "cell_type": "code",
   "execution_count": 6,
   "metadata": {
    "colab": {
     "base_uri": "https://localhost:8080/"
    },
    "executionInfo": {
     "elapsed": 299,
     "status": "ok",
     "timestamp": 1647326251534,
     "user": {
      "displayName": "松宮正弥",
      "photoUrl": "https://lh3.googleusercontent.com/a/default-user=s64",
      "userId": "03574679515194343736"
     },
     "user_tz": -540
    },
    "id": "o0xCL8M4wGjB",
    "outputId": "29314ccb-25fa-496f-da2f-56ce65afc802"
   },
   "outputs": [
    {
     "data": {
      "text/plain": [
       "edible       4208\n",
       "poisonous    3916\n",
       "Name: class, dtype: int64"
      ]
     },
     "execution_count": 6,
     "metadata": {},
     "output_type": "execute_result"
    }
   ],
   "source": [
    "df['class'].value_counts()"
   ]
  },
  {
   "cell_type": "markdown",
   "metadata": {
    "id": "IyDXyHuVU4JT"
   },
   "source": [
    "どうやら不均等ではないようだ\n",
    "\n",
    "欠損値がないか確認する"
   ]
  },
  {
   "cell_type": "code",
   "execution_count": 7,
   "metadata": {
    "colab": {
     "base_uri": "https://localhost:8080/"
    },
    "executionInfo": {
     "elapsed": 455,
     "status": "ok",
     "timestamp": 1647326255267,
     "user": {
      "displayName": "松宮正弥",
      "photoUrl": "https://lh3.googleusercontent.com/a/default-user=s64",
      "userId": "03574679515194343736"
     },
     "user_tz": -540
    },
    "id": "j-HneIMoxR8-",
    "outputId": "ec3d318a-f989-427a-c7e0-728cb826b8cb"
   },
   "outputs": [
    {
     "data": {
      "text/plain": [
       "class                       0\n",
       "cap-shape                   0\n",
       "cap-surface                 0\n",
       "cap-color                   0\n",
       "bruises                     0\n",
       "odor                        0\n",
       "gill-attachment             0\n",
       "gill-spacing                0\n",
       "gill-size                   0\n",
       "gill-color                  0\n",
       "stalk-shape                 0\n",
       "stalk-root                  0\n",
       "stalk-surface-above-ring    0\n",
       "stalk-surface-below-ring    0\n",
       "stalk-color-above-ring      0\n",
       "stalk-color-below-ring      0\n",
       "veil-type                   0\n",
       "veil-color                  0\n",
       "ring-number                 0\n",
       "ring-type                   0\n",
       "spore-print-color           0\n",
       "population                  0\n",
       "habitat                     0\n",
       "dtype: int64"
      ]
     },
     "execution_count": 7,
     "metadata": {},
     "output_type": "execute_result"
    }
   ],
   "source": [
    "df.isnull().sum()"
   ]
  },
  {
   "cell_type": "markdown",
   "metadata": {
    "id": "BjJQO8A0x9V9"
   },
   "source": [
    "欠損値はなかった"
   ]
  },
  {
   "cell_type": "code",
   "execution_count": 8,
   "metadata": {
    "colab": {
     "base_uri": "https://localhost:8080/"
    },
    "executionInfo": {
     "elapsed": 383,
     "status": "ok",
     "timestamp": 1647326259402,
     "user": {
      "displayName": "松宮正弥",
      "photoUrl": "https://lh3.googleusercontent.com/a/default-user=s64",
      "userId": "03574679515194343736"
     },
     "user_tz": -540
    },
    "id": "FM4Pq7zAx54Y",
    "outputId": "22e917ab-6f38-4ba2-f0b9-eeee7cc385a7"
   },
   "outputs": [
    {
     "data": {
      "text/plain": [
       "(8124, 23)"
      ]
     },
     "execution_count": 8,
     "metadata": {},
     "output_type": "execute_result"
    }
   ],
   "source": [
    "df.shape"
   ]
  },
  {
   "cell_type": "markdown",
   "metadata": {
    "id": "3wVN1bpIJphH"
   },
   "source": [
    "すべての列が文字列データのためダミー変数化する"
   ]
  },
  {
   "cell_type": "code",
   "execution_count": 11,
   "metadata": {
    "colab": {
     "base_uri": "https://localhost:8080/",
     "height": 505
    },
    "executionInfo": {
     "elapsed": 287,
     "status": "ok",
     "timestamp": 1647326873330,
     "user": {
      "displayName": "松宮正弥",
      "photoUrl": "https://lh3.googleusercontent.com/a/default-user=s64",
      "userId": "03574679515194343736"
     },
     "user_tz": -540
    },
    "id": "7pKcfWXbyGyg",
    "outputId": "1bbd557b-4458-41e9-9b14-7f3cf296c0b6"
   },
   "outputs": [
    {
     "data": {
      "text/html": [
       "\n",
       "  <div id=\"df-5735703e-84f0-4792-8650-b32da18cee49\">\n",
       "    <div class=\"colab-df-container\">\n",
       "      <div>\n",
       "<style scoped>\n",
       "    .dataframe tbody tr th:only-of-type {\n",
       "        vertical-align: middle;\n",
       "    }\n",
       "\n",
       "    .dataframe tbody tr th {\n",
       "        vertical-align: top;\n",
       "    }\n",
       "\n",
       "    .dataframe thead th {\n",
       "        text-align: right;\n",
       "    }\n",
       "</style>\n",
       "<table border=\"1\" class=\"dataframe\">\n",
       "  <thead>\n",
       "    <tr style=\"text-align: right;\">\n",
       "      <th></th>\n",
       "      <th>class_poisonous</th>\n",
       "      <th>cap-shape_conical</th>\n",
       "      <th>cap-shape_convex</th>\n",
       "      <th>cap-shape_flat</th>\n",
       "      <th>cap-shape_knobbed</th>\n",
       "      <th>cap-shape_sunken</th>\n",
       "      <th>cap-surface_groovesmooth</th>\n",
       "      <th>cap-surface_scaly</th>\n",
       "      <th>cap-surface_smooth</th>\n",
       "      <th>cap-color_buff</th>\n",
       "      <th>...</th>\n",
       "      <th>population_numerous</th>\n",
       "      <th>population_scattered</th>\n",
       "      <th>population_several</th>\n",
       "      <th>population_solitary</th>\n",
       "      <th>habitat_leaves</th>\n",
       "      <th>habitat_meadows</th>\n",
       "      <th>habitat_paths</th>\n",
       "      <th>habitat_urban</th>\n",
       "      <th>habitat_waste</th>\n",
       "      <th>habitat_woods</th>\n",
       "    </tr>\n",
       "  </thead>\n",
       "  <tbody>\n",
       "    <tr>\n",
       "      <th>0</th>\n",
       "      <td>1</td>\n",
       "      <td>0</td>\n",
       "      <td>1</td>\n",
       "      <td>0</td>\n",
       "      <td>0</td>\n",
       "      <td>0</td>\n",
       "      <td>0</td>\n",
       "      <td>0</td>\n",
       "      <td>1</td>\n",
       "      <td>0</td>\n",
       "      <td>...</td>\n",
       "      <td>0</td>\n",
       "      <td>1</td>\n",
       "      <td>0</td>\n",
       "      <td>0</td>\n",
       "      <td>0</td>\n",
       "      <td>0</td>\n",
       "      <td>0</td>\n",
       "      <td>1</td>\n",
       "      <td>0</td>\n",
       "      <td>0</td>\n",
       "    </tr>\n",
       "    <tr>\n",
       "      <th>1</th>\n",
       "      <td>0</td>\n",
       "      <td>0</td>\n",
       "      <td>1</td>\n",
       "      <td>0</td>\n",
       "      <td>0</td>\n",
       "      <td>0</td>\n",
       "      <td>0</td>\n",
       "      <td>0</td>\n",
       "      <td>1</td>\n",
       "      <td>0</td>\n",
       "      <td>...</td>\n",
       "      <td>1</td>\n",
       "      <td>0</td>\n",
       "      <td>0</td>\n",
       "      <td>0</td>\n",
       "      <td>0</td>\n",
       "      <td>0</td>\n",
       "      <td>0</td>\n",
       "      <td>0</td>\n",
       "      <td>0</td>\n",
       "      <td>0</td>\n",
       "    </tr>\n",
       "    <tr>\n",
       "      <th>2</th>\n",
       "      <td>0</td>\n",
       "      <td>0</td>\n",
       "      <td>0</td>\n",
       "      <td>0</td>\n",
       "      <td>0</td>\n",
       "      <td>0</td>\n",
       "      <td>0</td>\n",
       "      <td>0</td>\n",
       "      <td>1</td>\n",
       "      <td>0</td>\n",
       "      <td>...</td>\n",
       "      <td>1</td>\n",
       "      <td>0</td>\n",
       "      <td>0</td>\n",
       "      <td>0</td>\n",
       "      <td>0</td>\n",
       "      <td>1</td>\n",
       "      <td>0</td>\n",
       "      <td>0</td>\n",
       "      <td>0</td>\n",
       "      <td>0</td>\n",
       "    </tr>\n",
       "    <tr>\n",
       "      <th>3</th>\n",
       "      <td>1</td>\n",
       "      <td>0</td>\n",
       "      <td>1</td>\n",
       "      <td>0</td>\n",
       "      <td>0</td>\n",
       "      <td>0</td>\n",
       "      <td>0</td>\n",
       "      <td>1</td>\n",
       "      <td>0</td>\n",
       "      <td>0</td>\n",
       "      <td>...</td>\n",
       "      <td>0</td>\n",
       "      <td>1</td>\n",
       "      <td>0</td>\n",
       "      <td>0</td>\n",
       "      <td>0</td>\n",
       "      <td>0</td>\n",
       "      <td>0</td>\n",
       "      <td>1</td>\n",
       "      <td>0</td>\n",
       "      <td>0</td>\n",
       "    </tr>\n",
       "    <tr>\n",
       "      <th>4</th>\n",
       "      <td>0</td>\n",
       "      <td>0</td>\n",
       "      <td>1</td>\n",
       "      <td>0</td>\n",
       "      <td>0</td>\n",
       "      <td>0</td>\n",
       "      <td>0</td>\n",
       "      <td>0</td>\n",
       "      <td>1</td>\n",
       "      <td>0</td>\n",
       "      <td>...</td>\n",
       "      <td>0</td>\n",
       "      <td>0</td>\n",
       "      <td>0</td>\n",
       "      <td>0</td>\n",
       "      <td>0</td>\n",
       "      <td>0</td>\n",
       "      <td>0</td>\n",
       "      <td>0</td>\n",
       "      <td>0</td>\n",
       "      <td>0</td>\n",
       "    </tr>\n",
       "    <tr>\n",
       "      <th>...</th>\n",
       "      <td>...</td>\n",
       "      <td>...</td>\n",
       "      <td>...</td>\n",
       "      <td>...</td>\n",
       "      <td>...</td>\n",
       "      <td>...</td>\n",
       "      <td>...</td>\n",
       "      <td>...</td>\n",
       "      <td>...</td>\n",
       "      <td>...</td>\n",
       "      <td>...</td>\n",
       "      <td>...</td>\n",
       "      <td>...</td>\n",
       "      <td>...</td>\n",
       "      <td>...</td>\n",
       "      <td>...</td>\n",
       "      <td>...</td>\n",
       "      <td>...</td>\n",
       "      <td>...</td>\n",
       "      <td>...</td>\n",
       "      <td>...</td>\n",
       "    </tr>\n",
       "    <tr>\n",
       "      <th>8119</th>\n",
       "      <td>0</td>\n",
       "      <td>0</td>\n",
       "      <td>0</td>\n",
       "      <td>0</td>\n",
       "      <td>1</td>\n",
       "      <td>0</td>\n",
       "      <td>0</td>\n",
       "      <td>0</td>\n",
       "      <td>1</td>\n",
       "      <td>0</td>\n",
       "      <td>...</td>\n",
       "      <td>0</td>\n",
       "      <td>0</td>\n",
       "      <td>0</td>\n",
       "      <td>0</td>\n",
       "      <td>1</td>\n",
       "      <td>0</td>\n",
       "      <td>0</td>\n",
       "      <td>0</td>\n",
       "      <td>0</td>\n",
       "      <td>0</td>\n",
       "    </tr>\n",
       "    <tr>\n",
       "      <th>8120</th>\n",
       "      <td>0</td>\n",
       "      <td>0</td>\n",
       "      <td>1</td>\n",
       "      <td>0</td>\n",
       "      <td>0</td>\n",
       "      <td>0</td>\n",
       "      <td>0</td>\n",
       "      <td>0</td>\n",
       "      <td>1</td>\n",
       "      <td>0</td>\n",
       "      <td>...</td>\n",
       "      <td>0</td>\n",
       "      <td>0</td>\n",
       "      <td>1</td>\n",
       "      <td>0</td>\n",
       "      <td>1</td>\n",
       "      <td>0</td>\n",
       "      <td>0</td>\n",
       "      <td>0</td>\n",
       "      <td>0</td>\n",
       "      <td>0</td>\n",
       "    </tr>\n",
       "    <tr>\n",
       "      <th>8121</th>\n",
       "      <td>0</td>\n",
       "      <td>0</td>\n",
       "      <td>0</td>\n",
       "      <td>1</td>\n",
       "      <td>0</td>\n",
       "      <td>0</td>\n",
       "      <td>0</td>\n",
       "      <td>0</td>\n",
       "      <td>1</td>\n",
       "      <td>0</td>\n",
       "      <td>...</td>\n",
       "      <td>0</td>\n",
       "      <td>0</td>\n",
       "      <td>0</td>\n",
       "      <td>0</td>\n",
       "      <td>1</td>\n",
       "      <td>0</td>\n",
       "      <td>0</td>\n",
       "      <td>0</td>\n",
       "      <td>0</td>\n",
       "      <td>0</td>\n",
       "    </tr>\n",
       "    <tr>\n",
       "      <th>8122</th>\n",
       "      <td>1</td>\n",
       "      <td>0</td>\n",
       "      <td>0</td>\n",
       "      <td>0</td>\n",
       "      <td>1</td>\n",
       "      <td>0</td>\n",
       "      <td>0</td>\n",
       "      <td>1</td>\n",
       "      <td>0</td>\n",
       "      <td>0</td>\n",
       "      <td>...</td>\n",
       "      <td>0</td>\n",
       "      <td>0</td>\n",
       "      <td>1</td>\n",
       "      <td>0</td>\n",
       "      <td>1</td>\n",
       "      <td>0</td>\n",
       "      <td>0</td>\n",
       "      <td>0</td>\n",
       "      <td>0</td>\n",
       "      <td>0</td>\n",
       "    </tr>\n",
       "    <tr>\n",
       "      <th>8123</th>\n",
       "      <td>0</td>\n",
       "      <td>0</td>\n",
       "      <td>1</td>\n",
       "      <td>0</td>\n",
       "      <td>0</td>\n",
       "      <td>0</td>\n",
       "      <td>0</td>\n",
       "      <td>0</td>\n",
       "      <td>1</td>\n",
       "      <td>0</td>\n",
       "      <td>...</td>\n",
       "      <td>0</td>\n",
       "      <td>0</td>\n",
       "      <td>0</td>\n",
       "      <td>0</td>\n",
       "      <td>1</td>\n",
       "      <td>0</td>\n",
       "      <td>0</td>\n",
       "      <td>0</td>\n",
       "      <td>0</td>\n",
       "      <td>0</td>\n",
       "    </tr>\n",
       "  </tbody>\n",
       "</table>\n",
       "<p>8124 rows × 96 columns</p>\n",
       "</div>\n",
       "      <button class=\"colab-df-convert\" onclick=\"convertToInteractive('df-5735703e-84f0-4792-8650-b32da18cee49')\"\n",
       "              title=\"Convert this dataframe to an interactive table.\"\n",
       "              style=\"display:none;\">\n",
       "        \n",
       "  <svg xmlns=\"http://www.w3.org/2000/svg\" height=\"24px\"viewBox=\"0 0 24 24\"\n",
       "       width=\"24px\">\n",
       "    <path d=\"M0 0h24v24H0V0z\" fill=\"none\"/>\n",
       "    <path d=\"M18.56 5.44l.94 2.06.94-2.06 2.06-.94-2.06-.94-.94-2.06-.94 2.06-2.06.94zm-11 1L8.5 8.5l.94-2.06 2.06-.94-2.06-.94L8.5 2.5l-.94 2.06-2.06.94zm10 10l.94 2.06.94-2.06 2.06-.94-2.06-.94-.94-2.06-.94 2.06-2.06.94z\"/><path d=\"M17.41 7.96l-1.37-1.37c-.4-.4-.92-.59-1.43-.59-.52 0-1.04.2-1.43.59L10.3 9.45l-7.72 7.72c-.78.78-.78 2.05 0 2.83L4 21.41c.39.39.9.59 1.41.59.51 0 1.02-.2 1.41-.59l7.78-7.78 2.81-2.81c.8-.78.8-2.07 0-2.86zM5.41 20L4 18.59l7.72-7.72 1.47 1.35L5.41 20z\"/>\n",
       "  </svg>\n",
       "      </button>\n",
       "      \n",
       "  <style>\n",
       "    .colab-df-container {\n",
       "      display:flex;\n",
       "      flex-wrap:wrap;\n",
       "      gap: 12px;\n",
       "    }\n",
       "\n",
       "    .colab-df-convert {\n",
       "      background-color: #E8F0FE;\n",
       "      border: none;\n",
       "      border-radius: 50%;\n",
       "      cursor: pointer;\n",
       "      display: none;\n",
       "      fill: #1967D2;\n",
       "      height: 32px;\n",
       "      padding: 0 0 0 0;\n",
       "      width: 32px;\n",
       "    }\n",
       "\n",
       "    .colab-df-convert:hover {\n",
       "      background-color: #E2EBFA;\n",
       "      box-shadow: 0px 1px 2px rgba(60, 64, 67, 0.3), 0px 1px 3px 1px rgba(60, 64, 67, 0.15);\n",
       "      fill: #174EA6;\n",
       "    }\n",
       "\n",
       "    [theme=dark] .colab-df-convert {\n",
       "      background-color: #3B4455;\n",
       "      fill: #D2E3FC;\n",
       "    }\n",
       "\n",
       "    [theme=dark] .colab-df-convert:hover {\n",
       "      background-color: #434B5C;\n",
       "      box-shadow: 0px 1px 3px 1px rgba(0, 0, 0, 0.15);\n",
       "      filter: drop-shadow(0px 1px 2px rgba(0, 0, 0, 0.3));\n",
       "      fill: #FFFFFF;\n",
       "    }\n",
       "  </style>\n",
       "\n",
       "      <script>\n",
       "        const buttonEl =\n",
       "          document.querySelector('#df-5735703e-84f0-4792-8650-b32da18cee49 button.colab-df-convert');\n",
       "        buttonEl.style.display =\n",
       "          google.colab.kernel.accessAllowed ? 'block' : 'none';\n",
       "\n",
       "        async function convertToInteractive(key) {\n",
       "          const element = document.querySelector('#df-5735703e-84f0-4792-8650-b32da18cee49');\n",
       "          const dataTable =\n",
       "            await google.colab.kernel.invokeFunction('convertToInteractive',\n",
       "                                                     [key], {});\n",
       "          if (!dataTable) return;\n",
       "\n",
       "          const docLinkHtml = 'Like what you see? Visit the ' +\n",
       "            '<a target=\"_blank\" href=https://colab.research.google.com/notebooks/data_table.ipynb>data table notebook</a>'\n",
       "            + ' to learn more about interactive tables.';\n",
       "          element.innerHTML = '';\n",
       "          dataTable['output_type'] = 'display_data';\n",
       "          await google.colab.output.renderOutput(dataTable, element);\n",
       "          const docLink = document.createElement('div');\n",
       "          docLink.innerHTML = docLinkHtml;\n",
       "          element.appendChild(docLink);\n",
       "        }\n",
       "      </script>\n",
       "    </div>\n",
       "  </div>\n",
       "  "
      ],
      "text/plain": [
       "      class_poisonous  cap-shape_conical  cap-shape_convex  cap-shape_flat  \\\n",
       "0                   1                  0                 1               0   \n",
       "1                   0                  0                 1               0   \n",
       "2                   0                  0                 0               0   \n",
       "3                   1                  0                 1               0   \n",
       "4                   0                  0                 1               0   \n",
       "...               ...                ...               ...             ...   \n",
       "8119                0                  0                 0               0   \n",
       "8120                0                  0                 1               0   \n",
       "8121                0                  0                 0               1   \n",
       "8122                1                  0                 0               0   \n",
       "8123                0                  0                 1               0   \n",
       "\n",
       "      cap-shape_knobbed  cap-shape_sunken  cap-surface_groovesmooth  \\\n",
       "0                     0                 0                         0   \n",
       "1                     0                 0                         0   \n",
       "2                     0                 0                         0   \n",
       "3                     0                 0                         0   \n",
       "4                     0                 0                         0   \n",
       "...                 ...               ...                       ...   \n",
       "8119                  1                 0                         0   \n",
       "8120                  0                 0                         0   \n",
       "8121                  0                 0                         0   \n",
       "8122                  1                 0                         0   \n",
       "8123                  0                 0                         0   \n",
       "\n",
       "      cap-surface_scaly  cap-surface_smooth  cap-color_buff  ...  \\\n",
       "0                     0                   1               0  ...   \n",
       "1                     0                   1               0  ...   \n",
       "2                     0                   1               0  ...   \n",
       "3                     1                   0               0  ...   \n",
       "4                     0                   1               0  ...   \n",
       "...                 ...                 ...             ...  ...   \n",
       "8119                  0                   1               0  ...   \n",
       "8120                  0                   1               0  ...   \n",
       "8121                  0                   1               0  ...   \n",
       "8122                  1                   0               0  ...   \n",
       "8123                  0                   1               0  ...   \n",
       "\n",
       "      population_numerous  population_scattered  population_several  \\\n",
       "0                       0                     1                   0   \n",
       "1                       1                     0                   0   \n",
       "2                       1                     0                   0   \n",
       "3                       0                     1                   0   \n",
       "4                       0                     0                   0   \n",
       "...                   ...                   ...                 ...   \n",
       "8119                    0                     0                   0   \n",
       "8120                    0                     0                   1   \n",
       "8121                    0                     0                   0   \n",
       "8122                    0                     0                   1   \n",
       "8123                    0                     0                   0   \n",
       "\n",
       "      population_solitary  habitat_leaves  habitat_meadows  habitat_paths  \\\n",
       "0                       0               0                0              0   \n",
       "1                       0               0                0              0   \n",
       "2                       0               0                1              0   \n",
       "3                       0               0                0              0   \n",
       "4                       0               0                0              0   \n",
       "...                   ...             ...              ...            ...   \n",
       "8119                    0               1                0              0   \n",
       "8120                    0               1                0              0   \n",
       "8121                    0               1                0              0   \n",
       "8122                    0               1                0              0   \n",
       "8123                    0               1                0              0   \n",
       "\n",
       "      habitat_urban  habitat_waste  habitat_woods  \n",
       "0                 1              0              0  \n",
       "1                 0              0              0  \n",
       "2                 0              0              0  \n",
       "3                 1              0              0  \n",
       "4                 0              0              0  \n",
       "...             ...            ...            ...  \n",
       "8119              0              0              0  \n",
       "8120              0              0              0  \n",
       "8121              0              0              0  \n",
       "8122              0              0              0  \n",
       "8123              0              0              0  \n",
       "\n",
       "[8124 rows x 96 columns]"
      ]
     },
     "execution_count": 11,
     "metadata": {},
     "output_type": "execute_result"
    }
   ],
   "source": [
    "df=pd.get_dummies(df, drop_first=True)\n",
    "df"
   ]
  },
  {
   "cell_type": "code",
   "execution_count": 12,
   "metadata": {
    "colab": {
     "base_uri": "https://localhost:8080/"
    },
    "executionInfo": {
     "elapsed": 279,
     "status": "ok",
     "timestamp": 1647326877188,
     "user": {
      "displayName": "松宮正弥",
      "photoUrl": "https://lh3.googleusercontent.com/a/default-user=s64",
      "userId": "03574679515194343736"
     },
     "user_tz": -540
    },
    "id": "ozfb7pvF0MOf",
    "outputId": "c11875e2-1b85-4cb9-ed2b-2c314812f701"
   },
   "outputs": [
    {
     "data": {
      "text/plain": [
       "(8124, 96)"
      ]
     },
     "execution_count": 12,
     "metadata": {},
     "output_type": "execute_result"
    }
   ],
   "source": [
    "df.shape"
   ]
  },
  {
   "cell_type": "markdown",
   "metadata": {
    "id": "rpWvQ77rTDog"
   },
   "source": [
    "特徴量と正解データに分割する"
   ]
  },
  {
   "cell_type": "code",
   "execution_count": 14,
   "metadata": {
    "executionInfo": {
     "elapsed": 293,
     "status": "ok",
     "timestamp": 1647326902477,
     "user": {
      "displayName": "松宮正弥",
      "photoUrl": "https://lh3.googleusercontent.com/a/default-user=s64",
      "userId": "03574679515194343736"
     },
     "user_tz": -540
    },
    "id": "mF5knc7i0uLN"
   },
   "outputs": [],
   "source": [
    "x=df.loc[:,'cap-shape_conical':'habitat_woods']\n",
    "t=df['class_poisonous']"
   ]
  },
  {
   "cell_type": "markdown",
   "metadata": {
    "id": "_7xFsOtLTKy1"
   },
   "source": [
    "xとtを「訓練＆検証データ」と「テストデータ」に分割する\n",
    "\n",
    "さらに、「訓練＆検証データ」を訓練データと検証データに分割する"
   ]
  },
  {
   "cell_type": "code",
   "execution_count": 15,
   "metadata": {
    "executionInfo": {
     "elapsed": 287,
     "status": "ok",
     "timestamp": 1647326910495,
     "user": {
      "displayName": "松宮正弥",
      "photoUrl": "https://lh3.googleusercontent.com/a/default-user=s64",
      "userId": "03574679515194343736"
     },
     "user_tz": -540
    },
    "id": "bIfzRuQV4zE7"
   },
   "outputs": [],
   "source": [
    "x_train_val,x_test,y_train_val,y_test = train_test_split(x,t,\n",
    "test_size = 0.2,random_state = 0)\n",
    "\n",
    "x_train,x_val,y_train,y_val = train_test_split(x_train_val,y_train_val,\n",
    "test_size = 0.2,random_state = 0)"
   ]
  },
  {
   "cell_type": "markdown",
   "metadata": {
    "id": "lLUwLF62VzmI"
   },
   "source": [
    "決定木モデルを作成し、訓練データで学習する"
   ]
  },
  {
   "cell_type": "code",
   "execution_count": 16,
   "metadata": {
    "colab": {
     "base_uri": "https://localhost:8080/"
    },
    "executionInfo": {
     "elapsed": 296,
     "status": "ok",
     "timestamp": 1647326919843,
     "user": {
      "displayName": "松宮正弥",
      "photoUrl": "https://lh3.googleusercontent.com/a/default-user=s64",
      "userId": "03574679515194343736"
     },
     "user_tz": -540
    },
    "id": "ewxpDGb87E8c",
    "outputId": "e39308e8-5dc1-41b0-d9f5-6af90ce66f6d"
   },
   "outputs": [
    {
     "data": {
      "text/plain": [
       "DecisionTreeClassifier(class_weight='balanced', max_depth=5, random_state=0)"
      ]
     },
     "execution_count": 16,
     "metadata": {},
     "output_type": "execute_result"
    }
   ],
   "source": [
    "model = tree.DecisionTreeClassifier(max_depth = 5,\n",
    " random_state = 0,class_weight ='balanced')\n",
    "\n",
    "model.fit(x_train,y_train) # 学習"
   ]
  },
  {
   "cell_type": "markdown",
   "metadata": {
    "id": "Hs531ad1WYXG"
   },
   "source": [
    "検証データで正解率を求める"
   ]
  },
  {
   "cell_type": "code",
   "execution_count": 17,
   "metadata": {
    "colab": {
     "base_uri": "https://localhost:8080/"
    },
    "executionInfo": {
     "elapsed": 279,
     "status": "ok",
     "timestamp": 1647326958644,
     "user": {
      "displayName": "松宮正弥",
      "photoUrl": "https://lh3.googleusercontent.com/a/default-user=s64",
      "userId": "03574679515194343736"
     },
     "user_tz": -540
    },
    "id": "0B1UgpPQBL5e",
    "outputId": "74dcb9c6-d06d-44bc-93b5-1ee7b0757971"
   },
   "outputs": [
    {
     "data": {
      "text/plain": [
       "0.9976923076923077"
      ]
     },
     "execution_count": 17,
     "metadata": {},
     "output_type": "execute_result"
    }
   ],
   "source": [
    "model.score(X = x_val,y = y_val)"
   ]
  },
  {
   "cell_type": "markdown",
   "metadata": {
    "id": "_wKuKhAoWgHv"
   },
   "source": [
    "関数を定義し、木の深さを変化させて検証する"
   ]
  },
  {
   "cell_type": "code",
   "execution_count": null,
   "metadata": {
    "colab": {
     "base_uri": "https://localhost:8080/"
    },
    "executionInfo": {
     "elapsed": 571,
     "status": "ok",
     "timestamp": 1647141197183,
     "user": {
      "displayName": "松宮正弥",
      "photoUrl": "https://lh3.googleusercontent.com/a/default-user=s64",
      "userId": "03574679515194343736"
     },
     "user_tz": -540
    },
    "id": "18C_hc0N1mOH",
    "outputId": "05887ab6-1de6-4cdb-e644-87df7bc72d7b"
   },
   "outputs": [
    {
     "name": "stdout",
     "output_type": "stream",
     "text": [
      "深さ1:訓練データの正解率0.886検証データの正解率0.898\n",
      "深さ2:訓練データの正解率0.953検証データの正解率0.956\n",
      "深さ3:訓練データの正解率0.985検証データの正解率0.988\n",
      "深さ4:訓練データの正解率0.994検証データの正解率0.995\n",
      "深さ5:訓練データの正解率0.997検証データの正解率0.998\n",
      "深さ6:訓練データの正解率0.997検証データの正解率0.998\n",
      "深さ7:訓練データの正解率1.0検証データの正解率1.0\n",
      "深さ8:訓練データの正解率1.0検証データの正解率1.0\n",
      "深さ9:訓練データの正解率1.0検証データの正解率1.0\n",
      "深さ10:訓練データの正解率1.0検証データの正解率1.0\n",
      "深さ11:訓練データの正解率1.0検証データの正解率1.0\n",
      "深さ12:訓練データの正解率1.0検証データの正解率1.0\n",
      "深さ13:訓練データの正解率1.0検証データの正解率1.0\n",
      "深さ14:訓練データの正解率1.0検証データの正解率1.0\n"
     ]
    }
   ],
   "source": [
    "def learn(x,t,depth=3):\n",
    "    x_train,x_val,y_train,y_val = train_test_split(x,\n",
    "        t,test_size = 0.2,random_state = 0)\n",
    "    model = tree.DecisionTreeClassifier(max_depth =depth,random_state = 0,class_weight=\"balanced\")\n",
    "    model.fit(x_train,y_train)\n",
    "\n",
    "    score=model.score(X=x_train,y=y_train)\n",
    "    score2=model.score(X=x_val,y=y_val)\n",
    "    return round(score,3),round(score2,3),model\n",
    "\n",
    "for j in range(1,15): # jは木の深さ jには1～14が入る\n",
    "    # xは特徴量、tは正解データ\n",
    "    train_score,test_score,model = learn(x_train_val,y_train_val,depth = j)\n",
    "    sentence=\"訓練データの正解率{}\"\n",
    "    sentence2=\"検証データの正解率{}\"\n",
    "    total_sentence='深さ{}:'+sentence+sentence2\n",
    "    print(total_sentence.format(j,\n",
    "    train_score,test_score))"
   ]
  },
  {
   "cell_type": "markdown",
   "metadata": {
    "id": "POt7VfmC5XMr"
   },
   "source": [
    "深さ7で再学習しテストデータで正解率を求める"
   ]
  },
  {
   "cell_type": "code",
   "execution_count": null,
   "metadata": {
    "colab": {
     "base_uri": "https://localhost:8080/"
    },
    "executionInfo": {
     "elapsed": 204,
     "status": "ok",
     "timestamp": 1647141212590,
     "user": {
      "displayName": "松宮正弥",
      "photoUrl": "https://lh3.googleusercontent.com/a/default-user=s64",
      "userId": "03574679515194343736"
     },
     "user_tz": -540
    },
    "id": "UEpOnHBT5Hnp",
    "outputId": "566a560a-b6d5-4fae-ebb6-c935e721a8b3"
   },
   "outputs": [
    {
     "data": {
      "text/plain": [
       "1.0"
      ]
     },
     "execution_count": 26,
     "metadata": {},
     "output_type": "execute_result"
    }
   ],
   "source": [
    "model = tree.DecisionTreeClassifier(max_depth = 7,\n",
    " random_state = 0,class_weight ='balanced')\n",
    "\n",
    "model.fit(x_train,y_train) # 学習\n",
    "\n",
    "model.score(X = x_test,y = y_test)"
   ]
  },
  {
   "cell_type": "markdown",
   "metadata": {
    "id": "BV0hzVAXOe58"
   },
   "source": [
    "正解率1.0になった\n",
    "\n",
    "決定木を描画する"
   ]
  },
  {
   "cell_type": "code",
   "execution_count": null,
   "metadata": {
    "colab": {
     "base_uri": "https://localhost:8080/",
     "height": 858
    },
    "executionInfo": {
     "elapsed": 1329,
     "status": "ok",
     "timestamp": 1647140514322,
     "user": {
      "displayName": "松宮正弥",
      "photoUrl": "https://lh3.googleusercontent.com/a/default-user=s64",
      "userId": "03574679515194343736"
     },
     "user_tz": -540
    },
    "id": "Q6FTfuVVBVEm",
    "outputId": "18492d28-702c-480e-840a-0f9249345aaa"
   },
   "outputs": [
    {
     "data": {
      "text/plain": [
       "[Text(0.5789473684210527, 0.9375, 'odor_none <= 0.5\\ngini = 0.5\\nsamples = 5199\\nvalue = [2599.5, 2599.5]'),\n",
       " Text(0.3684210526315789, 0.8125, 'stalk-root_club <= 0.5\\ngini = 0.273\\nsamples = 2937\\nvalue = [489.648, 2510.716]'),\n",
       " Text(0.2631578947368421, 0.6875, 'stalk-root_rooted <= 0.5\\ngini = 0.126\\nsamples = 2593\\nvalue = [180.346, 2484.907]'),\n",
       " Text(0.21052631578947367, 0.5625, 'odor_anise <= 0.5\\ngini = 0.046\\nsamples = 2469\\nvalue = [60.115, 2484.907]'),\n",
       " Text(0.15789473684210525, 0.4375, 'spore-print-color_purple <= 0.5\\ngini = 0.019\\nsamples = 2432\\nvalue = [24.24, 2484.907]'),\n",
       " Text(0.10526315789473684, 0.3125, 'gill-spacing_crowded <= 0.5\\ngini = 0.009\\nsamples = 2419\\nvalue = [11.635, 2484.907]'),\n",
       " Text(0.05263157894736842, 0.1875, 'gini = -0.0\\nsamples = 2345\\nvalue = [0.0, 2420.901]'),\n",
       " Text(0.15789473684210525, 0.1875, 'odor_creosote <= 0.5\\ngini = 0.26\\nsamples = 74\\nvalue = [11.635, 64.007]'),\n",
       " Text(0.10526315789473684, 0.0625, 'gini = 0.0\\nsamples = 12\\nvalue = [11.635, 0.0]'),\n",
       " Text(0.21052631578947367, 0.0625, 'gini = -0.0\\nsamples = 62\\nvalue = [0.0, 64.007]'),\n",
       " Text(0.21052631578947367, 0.3125, 'gini = -0.0\\nsamples = 13\\nvalue = [12.605, 0.0]'),\n",
       " Text(0.2631578947368421, 0.4375, 'gini = -0.0\\nsamples = 37\\nvalue = [35.875, 0.0]'),\n",
       " Text(0.3157894736842105, 0.5625, 'gini = -0.0\\nsamples = 124\\nvalue = [120.231, 0.0]'),\n",
       " Text(0.47368421052631576, 0.6875, 'ring-type_pendant <= 0.5\\ngini = 0.142\\nsamples = 344\\nvalue = [309.303, 25.809]'),\n",
       " Text(0.42105263157894735, 0.5625, 'gini = 0.0\\nsamples = 25\\nvalue = [0.0, 25.809]'),\n",
       " Text(0.5263157894736842, 0.5625, 'gini = -0.0\\nsamples = 319\\nvalue = [309.303, 0.0]'),\n",
       " Text(0.7894736842105263, 0.8125, 'spore-print-color_green <= 0.5\\ngini = 0.078\\nsamples = 2262\\nvalue = [2109.852, 88.784]'),\n",
       " Text(0.7368421052631579, 0.6875, 'stalk-surface-below-ring_scaly <= 0.5\\ngini = 0.031\\nsamples = 2209\\nvalue = [2109.852, 34.068]'),\n",
       " Text(0.631578947368421, 0.5625, 'cap-surface_groovesmooth <= 0.5\\ngini = 0.007\\nsamples = 2175\\nvalue = [2102.095, 7.227]'),\n",
       " Text(0.5789473684210527, 0.4375, 'cap-shape_conical <= 0.5\\ngini = 0.004\\nsamples = 2172\\nvalue = [2102.095, 4.129]'),\n",
       " Text(0.5263157894736842, 0.3125, 'gill-size_narrow <= 0.5\\ngini = 0.003\\nsamples = 2171\\nvalue = [2102.095, 3.097]'),\n",
       " Text(0.47368421052631576, 0.1875, 'gini = -0.0\\nsamples = 2038\\nvalue = [1976.047, 0.0]'),\n",
       " Text(0.5789473684210527, 0.1875, 'population_clustered <= 0.5\\ngini = 0.047\\nsamples = 133\\nvalue = [126.048, 3.097]'),\n",
       " Text(0.5263157894736842, 0.0625, 'gini = 0.0\\nsamples = 130\\nvalue = [126.048, 0.0]'),\n",
       " Text(0.631578947368421, 0.0625, 'gini = -0.0\\nsamples = 3\\nvalue = [0.0, 3.097]'),\n",
       " Text(0.631578947368421, 0.3125, 'gini = -0.0\\nsamples = 1\\nvalue = [0.0, 1.032]'),\n",
       " Text(0.6842105263157895, 0.4375, 'gini = -0.0\\nsamples = 3\\nvalue = [0.0, 3.097]'),\n",
       " Text(0.8421052631578947, 0.5625, 'population_solitary <= 0.5\\ngini = 0.348\\nsamples = 34\\nvalue = [7.757, 26.842]'),\n",
       " Text(0.7894736842105263, 0.4375, 'gini = 0.0\\nsamples = 26\\nvalue = [0.0, 26.842]'),\n",
       " Text(0.8947368421052632, 0.4375, 'cap-shape_knobbed <= 0.5\\ngini = 0.0\\nsamples = 8\\nvalue = [7.757, 0.0]'),\n",
       " Text(0.8421052631578947, 0.3125, 'gini = 0.0\\nsamples = 6\\nvalue = [5.818, 0.0]'),\n",
       " Text(0.9473684210526315, 0.3125, 'gini = 0.0\\nsamples = 2\\nvalue = [1.939, 0.0]'),\n",
       " Text(0.8421052631578947, 0.6875, 'gini = -0.0\\nsamples = 53\\nvalue = [0.0, 54.715]')]"
      ]
     },
     "execution_count": 21,
     "metadata": {},
     "output_type": "execute_result"
    },
    {
     "data": {
      "image/png": "[encoded data removed]",
      "text/plain": [
       "<Figure size 432x288 with 1 Axes>"
      ]
     },
     "metadata": {
      "needs_background": "light"
     },
     "output_type": "display_data"
    }
   ],
   "source": [
    "from sklearn.tree import plot_tree\n",
    "# plot_tree関数で決定木を描画\n",
    "plot_tree(model, feature_names = x_train_val.columns,\n",
    "filled = True)"
   ]
  },
  {
   "cell_type": "markdown",
   "metadata": {
    "id": "Yh5HasvQ6VFp"
   },
   "source": [
    "ランダムフォレストも試してみる"
   ]
  },
  {
   "cell_type": "code",
   "execution_count": 18,
   "metadata": {
    "executionInfo": {
     "elapsed": 267,
     "status": "ok",
     "timestamp": 1647327351750,
     "user": {
      "displayName": "松宮正弥",
      "photoUrl": "https://lh3.googleusercontent.com/a/default-user=s64",
      "userId": "03574679515194343736"
     },
     "user_tz": -540
    },
    "id": "aQlQEFdPEIlp"
   },
   "outputs": [],
   "source": [
    "# ランダムフォレストのインポート\n",
    "from sklearn.ensemble import RandomForestClassifier\n",
    "\n",
    "model = RandomForestClassifier(n_estimators = 200,\n",
    "random_state = 0)"
   ]
  },
  {
   "cell_type": "code",
   "execution_count": 19,
   "metadata": {
    "colab": {
     "base_uri": "https://localhost:8080/"
    },
    "executionInfo": {
     "elapsed": 1068,
     "status": "ok",
     "timestamp": 1647327355576,
     "user": {
      "displayName": "松宮正弥",
      "photoUrl": "https://lh3.googleusercontent.com/a/default-user=s64",
      "userId": "03574679515194343736"
     },
     "user_tz": -540
    },
    "id": "lK57UoaP6vcb",
    "outputId": "c4598fdf-5c07-4f77-899b-e1025abea110"
   },
   "outputs": [
    {
     "name": "stdout",
     "output_type": "stream",
     "text": [
      "1.0\n",
      "1.0\n"
     ]
    }
   ],
   "source": [
    "model.fit(x_train, y_train)\n",
    "\n",
    "print(model.score(x_train, y_train)) #訓練データの正解率\n",
    "print(model.score(x_val, y_val))     #検証データの正解率"
   ]
  },
  {
   "cell_type": "markdown",
   "metadata": {
    "id": "lu6YuO5nRjH7"
   },
   "source": [
    "テストデータで試してみる"
   ]
  },
  {
   "cell_type": "code",
   "execution_count": 20,
   "metadata": {
    "colab": {
     "base_uri": "https://localhost:8080/"
    },
    "executionInfo": {
     "elapsed": 269,
     "status": "ok",
     "timestamp": 1647327360715,
     "user": {
      "displayName": "松宮正弥",
      "photoUrl": "https://lh3.googleusercontent.com/a/default-user=s64",
      "userId": "03574679515194343736"
     },
     "user_tz": -540
    },
    "id": "Oh5Xi83rRX0V",
    "outputId": "58858113-0c81-4db9-8558-d99e878bb616"
   },
   "outputs": [
    {
     "name": "stdout",
     "output_type": "stream",
     "text": [
      "1.0\n"
     ]
    }
   ],
   "source": [
    "print(model.score(x_test, y_test))     #テストデータの正解率"
   ]
  },
  {
   "cell_type": "markdown",
   "metadata": {
    "id": "_6gC6my8W8EK"
   },
   "source": [
    "特徴量の重要度を計算する"
   ]
  },
  {
   "cell_type": "code",
   "execution_count": 21,
   "metadata": {
    "colab": {
     "base_uri": "https://localhost:8080/"
    },
    "executionInfo": {
     "elapsed": 288,
     "status": "ok",
     "timestamp": 1647327364472,
     "user": {
      "displayName": "松宮正弥",
      "photoUrl": "https://lh3.googleusercontent.com/a/default-user=s64",
      "userId": "03574679515194343736"
     },
     "user_tz": -540
    },
    "id": "NDE4pZD97OSN",
    "outputId": "bcecd3a4-fb44-4899-8526-554984981fef"
   },
   "outputs": [
    {
     "data": {
      "text/plain": [
       "cap-shape_conical    0.000109\n",
       "cap-shape_convex     0.001114\n",
       "cap-shape_flat       0.000789\n",
       "cap-shape_knobbed    0.000513\n",
       "cap-shape_sunken     0.000416\n",
       "                       ...   \n",
       "habitat_meadows      0.004159\n",
       "habitat_paths        0.003469\n",
       "habitat_urban        0.008458\n",
       "habitat_waste        0.002490\n",
       "habitat_woods        0.009727\n",
       "Length: 95, dtype: float64"
      ]
     },
     "execution_count": 21,
     "metadata": {},
     "output_type": "execute_result"
    }
   ],
   "source": [
    "importance = model.feature_importances_ # 特徴量重要度\n",
    "\n",
    "# 列との対応がわかりやすいようにシリーズ変換\n",
    "pd.Series(importance, index = x_train.columns)"
   ]
  },
  {
   "cell_type": "markdown",
   "metadata": {
    "id": "AxppA2_CQV_r"
   },
   "source": [
    "アダブーストも試してみる"
   ]
  },
  {
   "cell_type": "code",
   "execution_count": 22,
   "metadata": {
    "colab": {
     "base_uri": "https://localhost:8080/"
    },
    "executionInfo": {
     "elapsed": 246,
     "status": "ok",
     "timestamp": 1647327371363,
     "user": {
      "displayName": "松宮正弥",
      "photoUrl": "https://lh3.googleusercontent.com/a/default-user=s64",
      "userId": "03574679515194343736"
     },
     "user_tz": -540
    },
    "id": "4PNZI1hB7k5-",
    "outputId": "2f3f14ba-fdef-4db7-b7cc-cbe05f1af839"
   },
   "outputs": [
    {
     "name": "stdout",
     "output_type": "stream",
     "text": [
      "1.0\n",
      "1.0\n"
     ]
    }
   ],
   "source": [
    "# アダブーストのインポート\n",
    "from sklearn.ensemble import AdaBoostClassifier\n",
    "\n",
    "\n",
    "# ベースとなるモデル\n",
    "from sklearn.tree import DecisionTreeClassifier\n",
    "\n",
    "# 最大の深さ5の決定木を何個も作っていく\n",
    "base_model = DecisionTreeClassifier(random_state = 0,\n",
    "max_depth = 5)\n",
    "\n",
    "# 決定木を500個作成\n",
    "model = AdaBoostClassifier(n_estimators = 500,\n",
    "random_state = 0, base_estimator = base_model)\n",
    "model.fit(x_train,y_train) # 学習\n",
    "\n",
    "print(model.score(x_train, y_train)) # 訓練データの正解率\n",
    "print(model.score(x_val, y_val)) # 検証データの正解率"
   ]
  },
  {
   "cell_type": "markdown",
   "metadata": {
    "id": "oOr-fCM4RnyN"
   },
   "source": [
    "テストデータで試してみる"
   ]
  },
  {
   "cell_type": "code",
   "execution_count": 23,
   "metadata": {
    "colab": {
     "base_uri": "https://localhost:8080/"
    },
    "executionInfo": {
     "elapsed": 255,
     "status": "ok",
     "timestamp": 1647327376354,
     "user": {
      "displayName": "松宮正弥",
      "photoUrl": "https://lh3.googleusercontent.com/a/default-user=s64",
      "userId": "03574679515194343736"
     },
     "user_tz": -540
    },
    "id": "Uco02aJtRJHh",
    "outputId": "e948dd8f-7ace-410f-a029-3c12ef4a96af"
   },
   "outputs": [
    {
     "name": "stdout",
     "output_type": "stream",
     "text": [
      "1.0\n"
     ]
    }
   ],
   "source": [
    "print(model.score(x_test, y_test)) # テストデータの正解率"
   ]
  },
  {
   "cell_type": "markdown",
   "metadata": {
    "id": "5ZguJU2GSDOV"
   },
   "source": [
    "正解率が1.0となった"
   ]
  },
  {
   "cell_type": "code",
   "execution_count": 28,
   "metadata": {
    "colab": {
     "base_uri": "https://localhost:8080/"
    },
    "executionInfo": {
     "elapsed": 293,
     "status": "ok",
     "timestamp": 1647328685889,
     "user": {
      "displayName": "松宮正弥",
      "photoUrl": "https://lh3.googleusercontent.com/a/default-user=s64",
      "userId": "03574679515194343736"
     },
     "user_tz": -540
    },
    "id": "6THIUE7eSn1m",
    "outputId": "86798553-82f0-4d9a-c614-25655d7542a6"
   },
   "outputs": [
    {
     "data": {
      "text/plain": [
       "(1625, 95)"
      ]
     },
     "execution_count": 28,
     "metadata": {},
     "output_type": "execute_result"
    }
   ],
   "source": [
    "x_test.shape"
   ]
  },
  {
   "cell_type": "markdown",
   "metadata": {
    "id": "gGN1EedUc-oY"
   },
   "source": [
    "未知のデータで試してみる"
   ]
  },
  {
   "cell_type": "code",
   "execution_count": 29,
   "metadata": {
    "colab": {
     "base_uri": "https://localhost:8080/"
    },
    "executionInfo": {
     "elapsed": 441,
     "status": "ok",
     "timestamp": 1647328849354,
     "user": {
      "displayName": "松宮正弥",
      "photoUrl": "https://lh3.googleusercontent.com/a/default-user=s64",
      "userId": "03574679515194343736"
     },
     "user_tz": -540
    },
    "id": "bePaBLWKbrMG",
    "outputId": "4747dd66-34ac-48e0-e427-c230abda6ea3"
   },
   "outputs": [
    {
     "name": "stderr",
     "output_type": "stream",
     "text": [
      "/usr/local/lib/python3.7/dist-packages/sklearn/base.py:451: UserWarning: X does not have valid feature names, but AdaBoostClassifier was fitted with feature names\n",
      "  \"X does not have valid feature names, but\"\n"
     ]
    },
    {
     "data": {
      "text/plain": [
       "array([1], dtype=uint8)"
      ]
     },
     "execution_count": 29,
     "metadata": {},
     "output_type": "execute_result"
    }
   ],
   "source": [
    "new = [[0,0,0,0,0,0,0,0,0,0,0,0,0,0,0,0,0,0,0,0,0,0,0,0,0,0,0,0,0,0,0,0,0,0,0,0,0,0,0,0,0,0,0,0,0,0,0,0,0,0,0,0,0,0,0,0,0,0,0,0,0,0,0,0,0,0,0,0,0,0,0,0,0,0,0,0,0,0,0,0,0,0,0,0,0,0,0,0,0,0,0,0,0,0,0]]\n",
    "model.predict(new)"
   ]
  },
  {
   "cell_type": "markdown",
   "metadata": {
    "id": "5S8IfDZvdlep"
   },
   "source": [
    "結果は１、つまり毒キノコとなった"
   ]
  },
  {
   "cell_type": "markdown",
   "metadata": {
    "id": "P0rNjDoCdORk"
   },
   "source": [
    "このアダブーストのモデルを保存する"
   ]
  },
  {
   "cell_type": "code",
   "execution_count": 24,
   "metadata": {
    "executionInfo": {
     "elapsed": 313,
     "status": "ok",
     "timestamp": 1647327439882,
     "user": {
      "displayName": "松宮正弥",
      "photoUrl": "https://lh3.googleusercontent.com/a/default-user=s64",
      "userId": "03574679515194343736"
     },
     "user_tz": -540
    },
    "id": "mQ2vy-fiRvxl"
   },
   "outputs": [],
   "source": [
    "import pickle\n",
    "with open('mushrooms.pkl',\"wb\") as f:\n",
    "    pickle.dump(model,f)"
   ]
  },
  {
   "cell_type": "code",
   "execution_count": null,
   "metadata": {
    "id": "4FWPCUj6c2lq"
   },
   "outputs": [],
   "source": []
  }
 ],
 "metadata": {
  "colab": {
   "authorship_tag": "ABX9TyOQVmwVEdik4Tnc5GLayQAo",
   "collapsed_sections": [],
   "mount_file_id": "1yG71a7XCAo_zGRbi_4ltsXDUkPKGPt6a",
   "name": "kouka_bunrui.ipynb",
   "provenance": []
  },
  "kernelspec": {
   "display_name": "Python 3",
   "language": "python",
   "name": "python3"
  },
  "language_info": {
   "codemirror_mode": {
    "name": "ipython",
    "version": 3
   },
   "file_extension": ".py",
   "mimetype": "text/x-python",
   "name": "python",
   "nbconvert_exporter": "python",
   "pygments_lexer": "ipython3",
   "version": "3.8.5"
  }
 },
 "nbformat": 4,
 "nbformat_minor": 1
}
