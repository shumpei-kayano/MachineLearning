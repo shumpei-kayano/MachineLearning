{
 "cells": [
  {
   "cell_type": "markdown",
   "metadata": {
    "id": "cm4yhCTHec-i"
   },
   "source": [
    "# 分類：target を正解データとして、画像の数値を判断する"
   ]
  },
  {
   "cell_type": "code",
   "execution_count": 2,
   "metadata": {
    "id": "kq4C2gx3eryT"
   },
   "outputs": [],
   "source": []
  },
  {
   "cell_type": "markdown",
   "metadata": {
    "id": "PIN2Ro_iiBLC"
   },
   "source": [
    "ライブラリのインポート"
   ]
  },
  {
   "cell_type": "code",
   "execution_count": 3,
   "metadata": {
    "id": "3myQZlWGiBuD"
   },
   "outputs": [],
   "source": [
    "import pandas as pd\n",
    "#文字化けの防止\n",
    "%matplotlib inline\n",
    "from sklearn import tree\n",
    "from sklearn.model_selection import train_test_split\n",
    "from sklearn.preprocessing import StandardScaler\n",
    "from sklearn.linear_model import LogisticRegression\n",
    "from sklearn.ensemble import RandomForestClassifier\n",
    "from sklearn.ensemble import AdaBoostClassifier\n",
    "from sklearn.ensemble import RandomForestRegressor\n",
    "from sklearn.ensemble import AdaBoostRegressor"
   ]
  },
  {
   "cell_type": "markdown",
   "metadata": {
    "id": "F5iOFgqOiTtK"
   },
   "source": [
    "CSVファイルのインポート CSVファイルを読み込んで、先頭５行表示"
   ]
  },
  {
   "cell_type": "code",
   "execution_count": 4,
   "metadata": {
    "id": "x-tXQbSyiBy5"
   },
   "outputs": [],
   "source": [
    "df = pd.read_csv('digits.csv')\n",
    "#df.head(5)\n",
    "\n",
    "#左端の行番号削除\n",
    "df2 = df.drop(df.columns[[0, 0]], axis=1)\n",
    "#df2.head(5)"
   ]
  },
  {
   "cell_type": "markdown",
   "metadata": {
    "id": "DodZSmvtjvVw"
   },
   "source": [
    "☆カテゴリ特徴量列無し(ダミー変数化処理無し)"
   ]
  },
  {
   "cell_type": "markdown",
   "metadata": {
    "id": "VJfrNDsFkJDx"
   },
   "source": [
    "正解データの確認"
   ]
  },
  {
   "cell_type": "code",
   "execution_count": 5,
   "metadata": {
    "colab": {
     "base_uri": "https://localhost:8080/"
    },
    "id": "mv0iAp0liqVV",
    "outputId": "d04ff0e5-b814-4469-9acc-652e4b329315"
   },
   "outputs": [
    {
     "data": {
      "text/plain": [
       "3    183\n",
       "1    182\n",
       "5    182\n",
       "4    181\n",
       "6    181\n",
       "9    180\n",
       "7    179\n",
       "0    178\n",
       "2    177\n",
       "8    174\n",
       "Name: target, dtype: int64"
      ]
     },
     "execution_count": 5,
     "metadata": {},
     "output_type": "execute_result"
    }
   ],
   "source": [
    "#正解データ(target)の種類の確認 - 不均衡データの確認\n",
    "df2['target'].value_counts()"
   ]
  },
  {
   "cell_type": "markdown",
   "metadata": {
    "id": "DQ6N2Qh1kg1Y"
   },
   "source": [
    "☆欠損値の処理 - 欠損値無し"
   ]
  },
  {
   "cell_type": "code",
   "execution_count": 6,
   "metadata": {
    "colab": {
     "base_uri": "https://localhost:8080/"
    },
    "id": "QcaOVUhWkivl",
    "outputId": "11e47448-b6a2-48ba-b57e-25c99a5505de"
   },
   "outputs": [
    {
     "data": {
      "text/plain": [
       "pixel_0_0    0\n",
       "pixel_0_1    0\n",
       "pixel_0_2    0\n",
       "pixel_0_3    0\n",
       "pixel_0_4    0\n",
       "            ..\n",
       "pixel_7_4    0\n",
       "pixel_7_5    0\n",
       "pixel_7_6    0\n",
       "pixel_7_7    0\n",
       "target       0\n",
       "Length: 65, dtype: int64"
      ]
     },
     "execution_count": 6,
     "metadata": {},
     "output_type": "execute_result"
    }
   ],
   "source": [
    "#欠損値の確認\n",
    "df2.isnull().sum()\n",
    "\n",
    "#欠損値無し"
   ]
  },
  {
   "cell_type": "markdown",
   "metadata": {
    "id": "Nq61xjmetXCj"
   },
   "source": [
    "☆外れ値の処理 - 決定木は外れ値の処理無し"
   ]
  },
  {
   "cell_type": "markdown",
   "metadata": {
    "id": "LX6IZJGrmB7x"
   },
   "source": [
    "訓練データ＆検証データとテストデータに分離\n"
   ]
  },
  {
   "cell_type": "code",
   "execution_count": 7,
   "metadata": {
    "id": "NlPIEzdjmSXe"
   },
   "outputs": [],
   "source": [
    "#訓練データ&検証データとテストデータに分割\n",
    "train_val, test = train_test_split(df2, test_size=0.2, random_state=0)"
   ]
  },
  {
   "cell_type": "markdown",
   "metadata": {
    "id": "qynuAqDuvfS_"
   },
   "source": [
    "☆特徴量を取り出し標準化 - ばらつきが無いので標準化しない。正解データも取り出す"
   ]
  },
  {
   "cell_type": "code",
   "execution_count": 8,
   "metadata": {
    "colab": {
     "base_uri": "https://localhost:8080/"
    },
    "id": "_JocjaKiRFMS",
    "outputId": "ecdab36b-97e9-4e17-c633-31b1c4f26fac"
   },
   "outputs": [
    {
     "data": {
      "text/plain": [
       "pixel_0_0  pixel_0_1  pixel_0_2  pixel_0_3  pixel_0_4  pixel_0_5  pixel_0_6  pixel_0_7  pixel_1_0  pixel_1_1  pixel_1_2  pixel_1_3  pixel_1_4  pixel_1_5  pixel_1_6  pixel_1_7  pixel_2_0  pixel_2_1  pixel_2_2  pixel_2_3  pixel_2_4  pixel_2_5  pixel_2_6  pixel_2_7  pixel_3_0  pixel_3_1  pixel_3_2  pixel_3_3  pixel_3_4  pixel_3_5  pixel_3_6  pixel_3_7  pixel_4_0  pixel_4_1  pixel_4_2  pixel_4_3  pixel_4_4  pixel_4_5  pixel_4_6  pixel_4_7  pixel_5_0  pixel_5_1  pixel_5_2  pixel_5_3  pixel_5_4  pixel_5_5  pixel_5_6  pixel_5_7  pixel_6_0  pixel_6_1  pixel_6_2  pixel_6_3  pixel_6_4  pixel_6_5  pixel_6_6  pixel_6_7  pixel_7_0  pixel_7_1  pixel_7_2  pixel_7_3  pixel_7_4  pixel_7_5  pixel_7_6  pixel_7_7  target\n",
       "0          0          0          0          3          14         3          0          0          0          0          1          14         16         5          0          0          1          9          15         16         16         4          0          0          4          12         7          3          16         4          0          0          0          0          0          4          16         4          0          0          0          0          0          4          16         4          0          0          0          0          0          6          16         4          0          0          0          0          0          5          16         4          0          1         1\n",
       "                      6          16         16         9          0          0          0          0          14         9          12         11         0          0          0          0          1          0          9          6          0          0          0          0          1          6          16         10         6          0          0          0          10         16         14         11         5          0          0          0          5          15         2          0          0          0          0          0          3          13         0          0          0          0          0          0          7          8          0          0          0          0          7         1\n",
       "                      7          16         13         5          0          0          0          0          13         16         16         5          0          0          0          1          16         16         16         3          0          0          0          1          14         16         15         0          0          0          0          1          16         16         15         1          0          0          0          0          14         16         16         4          0          0          0          0          6          16         16         7          0          0          0          0          4          14         13         6          0          0          1         1\n",
       "                                                       4          0          0          0          0          7          16         16         9          0          0          0          0          1          16         16         9          0          0          0          0          3          16         16         9          0          0          0          0          8          16         16         8          0          0          0          0          10         16         16         4          0          0          0          0          9          16         14         1          0          0          0          0          4          12         14         8          0          0          1         1\n",
       "                                                       2          0          0          0          0          14         15         13         9          0          0          0          0          14         8          9          10         0          0          0          0          1          2          9          12         0          0          0          0          0          0          13         8          0          0          0          0          0          5          16         4          0          0          0          0          6          15         16         5          5          5          0          0          6          16         16         16         16         13         2         1\n",
       "                                                                                                                                                                                                                                                                                                                                                                                                                                                                                                                                                                                                                                                                                                                                         ..\n",
       "                      2          12         1          0          0          0          0          0          11         12         0          0          0          0          0          2          16         4          0          0          0          0          0          6          16         10         10         5          0          0          0          5          16         15         12         14         6          0          0          4          16         3          0          8          12         0          0          0          14         9          4          11         13         0          0          0          3          14         16         12         3          0          6         1\n",
       "                                                                                                              6          13         0          0          0          0          0          0          13         4          0          0          0          0          0          0          16         1          0          0          0          0          0          5          16         16         16         10         1          0          0          2          15         6          1          10         8          0          0          0          10         10         0          9          9          0          0          0          2          12         16         15         1          0          6         1\n",
       "                                 11         16         16         16         4          0          0          5          11         8          8          16         1          0          0          0          0          0          14         6          0          0          0          2          10         13         16         13         0          0          0          12         16         16         9          2          0          0          0          2          5          14         0          0          0          0          0          0          11         9          0          0          0          0          0          0          16         6          0          0          0          7         1\n",
       "                                                       12         2          0          0          0          11         7          4          7          8          0          0          5          14         4          0          8          4          0          0          2          15         9          6          11         0          0          0          0          3          16         11         0          0          0          0          0          9          13         11         0          0          0          0          0          12         10         16         1          0          0          0          0          2          12         16         3          0          0          8         1\n",
       "           8          16         12         15         16         7          0          0          13         16         14         6          4          1          0          0          12         10         0          0          0          0          0          0          3          16         10         0          0          0          0          0          0          6          15         9          0          0          0          0          0          0          4          16         2          0          0          0          1          4          6          16         5          0          0          0          7          16         16         10         0          0          0          5         1\n",
       "Length: 1797, dtype: int64"
      ]
     },
     "execution_count": 8,
     "metadata": {},
     "output_type": "execute_result"
    }
   ],
   "source": [
    "#データの種類\n",
    "df2.value_counts()"
   ]
  },
  {
   "cell_type": "code",
   "execution_count": 9,
   "metadata": {
    "id": "-qm_x2_Rvl4X"
   },
   "outputs": [],
   "source": [
    "#特徴量と正解データの取り出し\n",
    "x = train_val.drop(['target'], axis=1) #特徴量\n",
    "t = train_val[['target']] #正解\n",
    "\n",
    "#特徴量は標準化 - なし\n",
    "#sc = StandardScaler()\n",
    "#sc_x = sc.fit_transform(x)"
   ]
  },
  {
   "cell_type": "markdown",
   "metadata": {
    "id": "jbQwvul5mnmt"
   },
   "source": [
    "訓練データと検証データに分離"
   ]
  },
  {
   "cell_type": "code",
   "execution_count": 10,
   "metadata": {
    "id": "kh1LW716msWd"
   },
   "outputs": [],
   "source": [
    "#訓練データと検証データに分離\n",
    "x_train, x_test, y_train, y_test = train_test_split(x, t, test_size=0.2, random_state=0)"
   ]
  },
  {
   "cell_type": "code",
   "execution_count": 11,
   "metadata": {
    "id": "jWyNOkKPnJzg"
   },
   "outputs": [],
   "source": [
    "#確認用\n",
    "#x.head(5)\n",
    "#t.head(5)\n",
    "#print(x_train)"
   ]
  },
  {
   "cell_type": "markdown",
   "metadata": {
    "id": "YSBr2erbyRR4"
   },
   "source": [
    "★1 決定木の場合"
   ]
  },
  {
   "cell_type": "code",
   "execution_count": 12,
   "metadata": {
    "id": "VgLtUjS-ox4R"
   },
   "outputs": [],
   "source": [
    "#決定木モデルの作成と学習\n",
    "#訓練データ, 検証データ, 木の深さを引数とし、訓練データと検証データの正解率とモデルを返す\n",
    "def dtree_Learn(x_train, x_test, y_train, y_test, depth=3):\n",
    "  model = tree.DecisionTreeClassifier(max_depth=depth, random_state=0, class_weight='balanced')\n",
    "  model.fit(x_train, y_train) #学習\n",
    "\n",
    "  score1 = model.score(x_train, y_train)\n",
    "  score2 = model.score(x_test, y_test)\n",
    "  return round(score1, 3), round(score2, 3), model"
   ]
  },
  {
   "cell_type": "code",
   "execution_count": 13,
   "metadata": {
    "colab": {
     "base_uri": "https://localhost:8080/"
    },
    "id": "OM9I0JDWoOSF",
    "outputId": "1bf08e7a-ca0b-4bde-9d93-98980d9531fe"
   },
   "outputs": [
    {
     "name": "stdout",
     "output_type": "stream",
     "text": [
      "深さ1: 訓練データの正解率0.205  検証データの正解率0.205\n",
      "深さ2: 訓練データの正解率0.322  検証データの正解率0.299\n",
      "深さ3: 訓練データの正解率0.488  検証データの正解率0.469\n",
      "深さ4: 訓練データの正解率0.604  検証データの正解率0.594\n",
      "深さ5: 訓練データの正解率0.708  検証データの正解率0.708\n",
      "深さ6: 訓練データの正解率0.833  検証データの正解率0.757\n",
      "深さ7: 訓練データの正解率0.901  検証データの正解率0.802\n",
      "深さ8: 訓練データの正解率0.938  検証データの正解率0.823\n",
      "深さ9: 訓練データの正解率0.97  検証データの正解率0.83\n",
      "深さ10: 訓練データの正解率0.984  検証データの正解率0.823\n",
      "深さ11: 訓練データの正解率0.995  検証データの正解率0.837\n",
      "深さ12: 訓練データの正解率0.999  検証データの正解率0.837\n",
      "深さ13: 訓練データの正解率1.0  検証データの正解率0.837\n",
      "深さ14: 訓練データの正解率1.0  検証データの正解率0.837\n"
     ]
    }
   ],
   "source": [
    "for j in range(1,15): #jは木の深さ\n",
    "  train_score, test_score, model = dtree_Learn(x_train, x_test, y_train, y_test, j)\n",
    "  ret_str = '深さ{}: 訓練データの正解率{}  検証データの正解率{}'\n",
    "  print(ret_str.format(j, train_score,test_score))"
   ]
  },
  {
   "cell_type": "code",
   "execution_count": 14,
   "metadata": {
    "colab": {
     "base_uri": "https://localhost:8080/"
    },
    "id": "H51sbmnnZRHW",
    "outputId": "d7863c33-ad47-42ce-e530-6c83b2b7d66c"
   },
   "outputs": [
    {
     "name": "stdout",
     "output_type": "stream",
     "text": [
      "深さ11: 訓練データの正解率0.995  検証データの正解率0.837\n"
     ]
    }
   ],
   "source": [
    "#検証データの成果率から深さは11、深さ11の決定木モデルを作成\n",
    "dtree_train_score, dtree_test_score, dtree_model = dtree_Learn(x_train, x_test, y_train, y_test, 11)\n",
    "ret_str = '深さ{}: 訓練データの正解率{}  検証データの正解率{}'\n",
    "print(ret_str.format(11, dtree_train_score,dtree_test_score))"
   ]
  },
  {
   "cell_type": "markdown",
   "metadata": {
    "id": "wSQgv3YoykGg"
   },
   "source": [
    "★2 ロジスティック回帰の場合"
   ]
  },
  {
   "cell_type": "code",
   "execution_count": 15,
   "metadata": {
    "id": "Yck98bJ5yvGL"
   },
   "outputs": [],
   "source": [
    "#ロジスティック回帰モデルの作成と学習\n",
    "#訓練データ, 検証データ, 正則化項の定数を引数とし、訓練データと検証データの正解率とモデルを返す\n",
    "def logreg_Learn(x_train, x_test, y_train, y_test, wk=0.1):\n",
    "  model = LogisticRegression(random_state=0, C=wk, multi_class='auto', solver='lbfgs')\n",
    "  model.fit(x_train, y_train) #学習\n",
    "\n",
    "  score1 = model.score(x_train, y_train)\n",
    "  score2 = model.score(x_test, y_test)\n",
    "  return round(score1, 3), round(score2, 3), model"
   ]
  },
  {
   "cell_type": "code",
   "execution_count": 16,
   "metadata": {
    "colab": {
     "base_uri": "https://localhost:8080/"
    },
    "id": "NoyUBqHf0K31",
    "outputId": "5d57ec93-0f3b-4983-8af1-ac0ec3a193dd"
   },
   "outputs": [
    {
     "name": "stderr",
     "output_type": "stream",
     "text": [
      "/usr/local/lib/python3.7/dist-packages/sklearn/utils/validation.py:993: DataConversionWarning: A column-vector y was passed when a 1d array was expected. Please change the shape of y to (n_samples, ), for example using ravel().\n",
      "  y = column_or_1d(y, warn=True)\n",
      "/usr/local/lib/python3.7/dist-packages/sklearn/linear_model/_logistic.py:818: ConvergenceWarning: lbfgs failed to converge (status=1):\n",
      "STOP: TOTAL NO. of ITERATIONS REACHED LIMIT.\n",
      "\n",
      "Increase the number of iterations (max_iter) or scale the data as shown in:\n",
      "    https://scikit-learn.org/stable/modules/preprocessing.html\n",
      "Please also refer to the documentation for alternative solver options:\n",
      "    https://scikit-learn.org/stable/modules/linear_model.html#logistic-regression\n",
      "  extra_warning_msg=_LOGISTIC_SOLVER_CONVERGENCE_MSG,\n",
      "/usr/local/lib/python3.7/dist-packages/sklearn/utils/validation.py:993: DataConversionWarning: A column-vector y was passed when a 1d array was expected. Please change the shape of y to (n_samples, ), for example using ravel().\n",
      "  y = column_or_1d(y, warn=True)\n"
     ]
    },
    {
     "name": "stdout",
     "output_type": "stream",
     "text": [
      "正則化の影響力を調整する重み0.01: 訓練データの正解率0.991  検証データの正解率0.983\n"
     ]
    },
    {
     "name": "stderr",
     "output_type": "stream",
     "text": [
      "/usr/local/lib/python3.7/dist-packages/sklearn/linear_model/_logistic.py:818: ConvergenceWarning: lbfgs failed to converge (status=1):\n",
      "STOP: TOTAL NO. of ITERATIONS REACHED LIMIT.\n",
      "\n",
      "Increase the number of iterations (max_iter) or scale the data as shown in:\n",
      "    https://scikit-learn.org/stable/modules/preprocessing.html\n",
      "Please also refer to the documentation for alternative solver options:\n",
      "    https://scikit-learn.org/stable/modules/linear_model.html#logistic-regression\n",
      "  extra_warning_msg=_LOGISTIC_SOLVER_CONVERGENCE_MSG,\n",
      "/usr/local/lib/python3.7/dist-packages/sklearn/utils/validation.py:993: DataConversionWarning: A column-vector y was passed when a 1d array was expected. Please change the shape of y to (n_samples, ), for example using ravel().\n",
      "  y = column_or_1d(y, warn=True)\n"
     ]
    },
    {
     "name": "stdout",
     "output_type": "stream",
     "text": [
      "正則化の影響力を調整する重み0.02: 訓練データの正解率0.998  検証データの正解率0.983\n"
     ]
    },
    {
     "name": "stderr",
     "output_type": "stream",
     "text": [
      "/usr/local/lib/python3.7/dist-packages/sklearn/linear_model/_logistic.py:818: ConvergenceWarning: lbfgs failed to converge (status=1):\n",
      "STOP: TOTAL NO. of ITERATIONS REACHED LIMIT.\n",
      "\n",
      "Increase the number of iterations (max_iter) or scale the data as shown in:\n",
      "    https://scikit-learn.org/stable/modules/preprocessing.html\n",
      "Please also refer to the documentation for alternative solver options:\n",
      "    https://scikit-learn.org/stable/modules/linear_model.html#logistic-regression\n",
      "  extra_warning_msg=_LOGISTIC_SOLVER_CONVERGENCE_MSG,\n",
      "/usr/local/lib/python3.7/dist-packages/sklearn/utils/validation.py:993: DataConversionWarning: A column-vector y was passed when a 1d array was expected. Please change the shape of y to (n_samples, ), for example using ravel().\n",
      "  y = column_or_1d(y, warn=True)\n"
     ]
    },
    {
     "name": "stdout",
     "output_type": "stream",
     "text": [
      "正則化の影響力を調整する重み0.03: 訓練データの正解率0.998  検証データの正解率0.983\n"
     ]
    },
    {
     "name": "stderr",
     "output_type": "stream",
     "text": [
      "/usr/local/lib/python3.7/dist-packages/sklearn/linear_model/_logistic.py:818: ConvergenceWarning: lbfgs failed to converge (status=1):\n",
      "STOP: TOTAL NO. of ITERATIONS REACHED LIMIT.\n",
      "\n",
      "Increase the number of iterations (max_iter) or scale the data as shown in:\n",
      "    https://scikit-learn.org/stable/modules/preprocessing.html\n",
      "Please also refer to the documentation for alternative solver options:\n",
      "    https://scikit-learn.org/stable/modules/linear_model.html#logistic-regression\n",
      "  extra_warning_msg=_LOGISTIC_SOLVER_CONVERGENCE_MSG,\n",
      "/usr/local/lib/python3.7/dist-packages/sklearn/utils/validation.py:993: DataConversionWarning: A column-vector y was passed when a 1d array was expected. Please change the shape of y to (n_samples, ), for example using ravel().\n",
      "  y = column_or_1d(y, warn=True)\n"
     ]
    },
    {
     "name": "stdout",
     "output_type": "stream",
     "text": [
      "正則化の影響力を調整する重み0.04: 訓練データの正解率0.998  検証データの正解率0.983\n"
     ]
    },
    {
     "name": "stderr",
     "output_type": "stream",
     "text": [
      "/usr/local/lib/python3.7/dist-packages/sklearn/linear_model/_logistic.py:818: ConvergenceWarning: lbfgs failed to converge (status=1):\n",
      "STOP: TOTAL NO. of ITERATIONS REACHED LIMIT.\n",
      "\n",
      "Increase the number of iterations (max_iter) or scale the data as shown in:\n",
      "    https://scikit-learn.org/stable/modules/preprocessing.html\n",
      "Please also refer to the documentation for alternative solver options:\n",
      "    https://scikit-learn.org/stable/modules/linear_model.html#logistic-regression\n",
      "  extra_warning_msg=_LOGISTIC_SOLVER_CONVERGENCE_MSG,\n",
      "/usr/local/lib/python3.7/dist-packages/sklearn/utils/validation.py:993: DataConversionWarning: A column-vector y was passed when a 1d array was expected. Please change the shape of y to (n_samples, ), for example using ravel().\n",
      "  y = column_or_1d(y, warn=True)\n"
     ]
    },
    {
     "name": "stdout",
     "output_type": "stream",
     "text": [
      "正則化の影響力を調整する重み0.05: 訓練データの正解率0.998  検証データの正解率0.983\n"
     ]
    },
    {
     "name": "stderr",
     "output_type": "stream",
     "text": [
      "/usr/local/lib/python3.7/dist-packages/sklearn/linear_model/_logistic.py:818: ConvergenceWarning: lbfgs failed to converge (status=1):\n",
      "STOP: TOTAL NO. of ITERATIONS REACHED LIMIT.\n",
      "\n",
      "Increase the number of iterations (max_iter) or scale the data as shown in:\n",
      "    https://scikit-learn.org/stable/modules/preprocessing.html\n",
      "Please also refer to the documentation for alternative solver options:\n",
      "    https://scikit-learn.org/stable/modules/linear_model.html#logistic-regression\n",
      "  extra_warning_msg=_LOGISTIC_SOLVER_CONVERGENCE_MSG,\n",
      "/usr/local/lib/python3.7/dist-packages/sklearn/utils/validation.py:993: DataConversionWarning: A column-vector y was passed when a 1d array was expected. Please change the shape of y to (n_samples, ), for example using ravel().\n",
      "  y = column_or_1d(y, warn=True)\n"
     ]
    },
    {
     "name": "stdout",
     "output_type": "stream",
     "text": [
      "正則化の影響力を調整する重み0.06: 訓練データの正解率0.998  検証データの正解率0.983\n"
     ]
    },
    {
     "name": "stderr",
     "output_type": "stream",
     "text": [
      "/usr/local/lib/python3.7/dist-packages/sklearn/linear_model/_logistic.py:818: ConvergenceWarning: lbfgs failed to converge (status=1):\n",
      "STOP: TOTAL NO. of ITERATIONS REACHED LIMIT.\n",
      "\n",
      "Increase the number of iterations (max_iter) or scale the data as shown in:\n",
      "    https://scikit-learn.org/stable/modules/preprocessing.html\n",
      "Please also refer to the documentation for alternative solver options:\n",
      "    https://scikit-learn.org/stable/modules/linear_model.html#logistic-regression\n",
      "  extra_warning_msg=_LOGISTIC_SOLVER_CONVERGENCE_MSG,\n",
      "/usr/local/lib/python3.7/dist-packages/sklearn/utils/validation.py:993: DataConversionWarning: A column-vector y was passed when a 1d array was expected. Please change the shape of y to (n_samples, ), for example using ravel().\n",
      "  y = column_or_1d(y, warn=True)\n"
     ]
    },
    {
     "name": "stdout",
     "output_type": "stream",
     "text": [
      "正則化の影響力を調整する重み0.07: 訓練データの正解率0.998  検証データの正解率0.979\n"
     ]
    },
    {
     "name": "stderr",
     "output_type": "stream",
     "text": [
      "/usr/local/lib/python3.7/dist-packages/sklearn/linear_model/_logistic.py:818: ConvergenceWarning: lbfgs failed to converge (status=1):\n",
      "STOP: TOTAL NO. of ITERATIONS REACHED LIMIT.\n",
      "\n",
      "Increase the number of iterations (max_iter) or scale the data as shown in:\n",
      "    https://scikit-learn.org/stable/modules/preprocessing.html\n",
      "Please also refer to the documentation for alternative solver options:\n",
      "    https://scikit-learn.org/stable/modules/linear_model.html#logistic-regression\n",
      "  extra_warning_msg=_LOGISTIC_SOLVER_CONVERGENCE_MSG,\n",
      "/usr/local/lib/python3.7/dist-packages/sklearn/utils/validation.py:993: DataConversionWarning: A column-vector y was passed when a 1d array was expected. Please change the shape of y to (n_samples, ), for example using ravel().\n",
      "  y = column_or_1d(y, warn=True)\n"
     ]
    },
    {
     "name": "stdout",
     "output_type": "stream",
     "text": [
      "正則化の影響力を調整する重み0.08: 訓練データの正解率0.999  検証データの正解率0.979\n"
     ]
    },
    {
     "name": "stderr",
     "output_type": "stream",
     "text": [
      "/usr/local/lib/python3.7/dist-packages/sklearn/linear_model/_logistic.py:818: ConvergenceWarning: lbfgs failed to converge (status=1):\n",
      "STOP: TOTAL NO. of ITERATIONS REACHED LIMIT.\n",
      "\n",
      "Increase the number of iterations (max_iter) or scale the data as shown in:\n",
      "    https://scikit-learn.org/stable/modules/preprocessing.html\n",
      "Please also refer to the documentation for alternative solver options:\n",
      "    https://scikit-learn.org/stable/modules/linear_model.html#logistic-regression\n",
      "  extra_warning_msg=_LOGISTIC_SOLVER_CONVERGENCE_MSG,\n",
      "/usr/local/lib/python3.7/dist-packages/sklearn/utils/validation.py:993: DataConversionWarning: A column-vector y was passed when a 1d array was expected. Please change the shape of y to (n_samples, ), for example using ravel().\n",
      "  y = column_or_1d(y, warn=True)\n"
     ]
    },
    {
     "name": "stdout",
     "output_type": "stream",
     "text": [
      "正則化の影響力を調整する重み0.09: 訓練データの正解率0.999  検証データの正解率0.979\n",
      "正則化の影響力を調整する重み0.1: 訓練データの正解率1.0  検証データの正解率0.979\n"
     ]
    },
    {
     "name": "stderr",
     "output_type": "stream",
     "text": [
      "/usr/local/lib/python3.7/dist-packages/sklearn/linear_model/_logistic.py:818: ConvergenceWarning: lbfgs failed to converge (status=1):\n",
      "STOP: TOTAL NO. of ITERATIONS REACHED LIMIT.\n",
      "\n",
      "Increase the number of iterations (max_iter) or scale the data as shown in:\n",
      "    https://scikit-learn.org/stable/modules/preprocessing.html\n",
      "Please also refer to the documentation for alternative solver options:\n",
      "    https://scikit-learn.org/stable/modules/linear_model.html#logistic-regression\n",
      "  extra_warning_msg=_LOGISTIC_SOLVER_CONVERGENCE_MSG,\n"
     ]
    }
   ],
   "source": [
    "#ロジスティック回帰による学習\n",
    "#正則化項の定数を0.01 ～ 0.1まで0.01刻みで検証\n",
    "for i in range(1, 11):\n",
    "  num = i/100\n",
    "\n",
    "  train_score, test_score, model = logreg_Learn(x_train, x_test, y_train, y_test, num)\n",
    "  ret_str = '正則化の影響力を調整する重み{}: 訓練データの正解率{}  検証データの正解率{}'\n",
    "  print(ret_str.format(num, train_score, test_score))"
   ]
  },
  {
   "cell_type": "code",
   "execution_count": 17,
   "metadata": {
    "colab": {
     "base_uri": "https://localhost:8080/"
    },
    "id": "fhVa2N615ZGx",
    "outputId": "62f01cd3-42ff-4048-b10d-cd7fd08222ec"
   },
   "outputs": [
    {
     "name": "stderr",
     "output_type": "stream",
     "text": [
      "/usr/local/lib/python3.7/dist-packages/sklearn/utils/validation.py:993: DataConversionWarning: A column-vector y was passed when a 1d array was expected. Please change the shape of y to (n_samples, ), for example using ravel().\n",
      "  y = column_or_1d(y, warn=True)\n"
     ]
    },
    {
     "name": "stdout",
     "output_type": "stream",
     "text": [
      "正則化の影響力を調整する重み0.02: 訓練データの正解率0.998  検証データの正解率0.983\n"
     ]
    },
    {
     "name": "stderr",
     "output_type": "stream",
     "text": [
      "/usr/local/lib/python3.7/dist-packages/sklearn/linear_model/_logistic.py:818: ConvergenceWarning: lbfgs failed to converge (status=1):\n",
      "STOP: TOTAL NO. of ITERATIONS REACHED LIMIT.\n",
      "\n",
      "Increase the number of iterations (max_iter) or scale the data as shown in:\n",
      "    https://scikit-learn.org/stable/modules/preprocessing.html\n",
      "Please also refer to the documentation for alternative solver options:\n",
      "    https://scikit-learn.org/stable/modules/linear_model.html#logistic-regression\n",
      "  extra_warning_msg=_LOGISTIC_SOLVER_CONVERGENCE_MSG,\n"
     ]
    }
   ],
   "source": [
    "#正則化の影響力を調整する重み0.02: 訓練データの正解率0.998  検証データの正解率0.983\n",
    "#重み0.02のロジスティック回帰モデルを作成\n",
    "logreg_train_score, logreg_test_score, logreg_model = logreg_Learn(x_train, x_test, y_train, y_test, 0.02)\n",
    "ret_str = '正則化の影響力を調整する重み{}: 訓練データの正解率{}  検証データの正解率{}'\n",
    "print(ret_str.format(0.02, logreg_train_score, logreg_test_score))\n"
   ]
  },
  {
   "cell_type": "markdown",
   "metadata": {
    "id": "rcSKin7Pb6wC"
   },
   "source": [
    "★3 ランダムフォレストの場合"
   ]
  },
  {
   "cell_type": "code",
   "execution_count": 18,
   "metadata": {
    "id": "kqwPJDBOcCaq"
   },
   "outputs": [],
   "source": [
    "#ランダムフォレストの作成と学習\n",
    "#訓練データ, 検証データ, 正則化項の定数を引数とし、訓練データと検証データの正解率とモデルを返す\n",
    "def rndfst_Learn(x_train, x_test, y_train, y_test, wk=200):\n",
    "  model = RandomForestClassifier(n_estimators=wk, random_state=0)\n",
    "  model.fit(x_train, y_train) #学習\n",
    "\n",
    "  score1 = model.score(x_train, y_train)\n",
    "  score2 = model.score(x_test, y_test)\n",
    "  return round(score1, 3), round(score2, 3), model"
   ]
  },
  {
   "cell_type": "code",
   "execution_count": 19,
   "metadata": {
    "colab": {
     "base_uri": "https://localhost:8080/"
    },
    "id": "sSvAuGU6eIXn",
    "outputId": "3c3aedd3-ea27-43e0-a098-ed725a53a3ee"
   },
   "outputs": [
    {
     "name": "stderr",
     "output_type": "stream",
     "text": [
      "/usr/local/lib/python3.7/dist-packages/ipykernel_launcher.py:5: DataConversionWarning: A column-vector y was passed when a 1d array was expected. Please change the shape of y to (n_samples,), for example using ravel().\n",
      "  \"\"\"\n"
     ]
    },
    {
     "name": "stdout",
     "output_type": "stream",
     "text": [
      "木の個数 100: 訓練データの正解率1.0  検証データの正解率0.99\n"
     ]
    },
    {
     "name": "stderr",
     "output_type": "stream",
     "text": [
      "/usr/local/lib/python3.7/dist-packages/ipykernel_launcher.py:5: DataConversionWarning: A column-vector y was passed when a 1d array was expected. Please change the shape of y to (n_samples,), for example using ravel().\n",
      "  \"\"\"\n"
     ]
    },
    {
     "name": "stdout",
     "output_type": "stream",
     "text": [
      "木の個数 200: 訓練データの正解率1.0  検証データの正解率0.979\n"
     ]
    },
    {
     "name": "stderr",
     "output_type": "stream",
     "text": [
      "/usr/local/lib/python3.7/dist-packages/ipykernel_launcher.py:5: DataConversionWarning: A column-vector y was passed when a 1d array was expected. Please change the shape of y to (n_samples,), for example using ravel().\n",
      "  \"\"\"\n"
     ]
    },
    {
     "name": "stdout",
     "output_type": "stream",
     "text": [
      "木の個数 300: 訓練データの正解率1.0  検証データの正解率0.983\n"
     ]
    },
    {
     "name": "stderr",
     "output_type": "stream",
     "text": [
      "/usr/local/lib/python3.7/dist-packages/ipykernel_launcher.py:5: DataConversionWarning: A column-vector y was passed when a 1d array was expected. Please change the shape of y to (n_samples,), for example using ravel().\n",
      "  \"\"\"\n"
     ]
    },
    {
     "name": "stdout",
     "output_type": "stream",
     "text": [
      "木の個数 400: 訓練データの正解率1.0  検証データの正解率0.983\n"
     ]
    },
    {
     "name": "stderr",
     "output_type": "stream",
     "text": [
      "/usr/local/lib/python3.7/dist-packages/ipykernel_launcher.py:5: DataConversionWarning: A column-vector y was passed when a 1d array was expected. Please change the shape of y to (n_samples,), for example using ravel().\n",
      "  \"\"\"\n"
     ]
    },
    {
     "name": "stdout",
     "output_type": "stream",
     "text": [
      "木の個数 500: 訓練データの正解率1.0  検証データの正解率0.983\n"
     ]
    }
   ],
   "source": [
    "#ランダムフォレストの木の個数を確認\n",
    "#木の個数を100 ～ 500まで100刻みで検証\n",
    "for i in range(100, 501, 100):\n",
    "  train_score, test_score, model = rndfst_Learn(x_train, x_test, y_train, y_test, i)\n",
    "  ret_str = '木の個数 {}: 訓練データの正解率{}  検証データの正解率{}'\n",
    "  print(ret_str.format(i, train_score, test_score))"
   ]
  },
  {
   "cell_type": "code",
   "execution_count": 20,
   "metadata": {
    "colab": {
     "base_uri": "https://localhost:8080/"
    },
    "id": "fbcVOfr9eMIf",
    "outputId": "414015ed-5f53-4a6d-d492-dee39e90291f"
   },
   "outputs": [
    {
     "name": "stderr",
     "output_type": "stream",
     "text": [
      "/usr/local/lib/python3.7/dist-packages/ipykernel_launcher.py:5: DataConversionWarning: A column-vector y was passed when a 1d array was expected. Please change the shape of y to (n_samples,), for example using ravel().\n",
      "  \"\"\"\n"
     ]
    },
    {
     "name": "stdout",
     "output_type": "stream",
     "text": [
      "木の個数 100: 訓練データの正解率1.0  検証データの正解率0.99\n"
     ]
    }
   ],
   "source": [
    "#木の個数100: 訓練データの正解率1.0  検証データの正解率0.99 以降変、0.979と0.983の繰り返し\n",
    "#木の個数100でランダムフォレストを作成\n",
    "rndfst_train_score, rndfst_test_score, rndfst_model = rndfst_Learn(x_train, x_test, y_train, y_test, 100)\n",
    "ret_str = '木の個数 {}: 訓練データの正解率{}  検証データの正解率{}'\n",
    "print(ret_str.format(100, rndfst_train_score, rndfst_test_score))"
   ]
  },
  {
   "cell_type": "markdown",
   "metadata": {
    "id": "AHjAZm5bgg21"
   },
   "source": [
    "★4 アダブーストの場合"
   ]
  },
  {
   "cell_type": "code",
   "execution_count": 21,
   "metadata": {
    "id": "G6S-BLinggSu"
   },
   "outputs": [],
   "source": [
    "#アダブーストの作成と学習\n",
    "#訓練データ, 検証データ, 決定木の個数を引数とし、訓練データと検証データの正解率とモデルを返す\n",
    "def adbst_Learn(x_train, x_test, y_train, y_test, wk=500):\n",
    "  #★1の結果より 深さ11の決定木を作成\n",
    "  base_model = tree.DecisionTreeClassifier(max_depth=11, random_state=0)\n",
    "\n",
    "  model = AdaBoostClassifier(n_estimators=wk, random_state=0, base_estimator=base_model)\n",
    "  model.fit(x_train, y_train) #学習\n",
    "\n",
    "  score1 = model.score(x_train, y_train)\n",
    "  score2 = model.score(x_test, y_test)\n",
    "  return round(score1, 3), round(score2, 3), model"
   ]
  },
  {
   "cell_type": "code",
   "execution_count": 22,
   "metadata": {
    "colab": {
     "base_uri": "https://localhost:8080/"
    },
    "id": "2q_ZyQNjiWcn",
    "outputId": "adb9c962-9488-44c3-e727-4b491cb5f3fc"
   },
   "outputs": [
    {
     "name": "stdout",
     "output_type": "stream",
     "text": [
      "決定木の個数 100: 訓練データの正解率1.0  検証データの正解率0.903\n",
      "決定木の個数 200: 訓練データの正解率1.0  検証データの正解率0.903\n"
     ]
    },
    {
     "name": "stderr",
     "output_type": "stream",
     "text": [
      "/usr/local/lib/python3.7/dist-packages/sklearn/utils/validation.py:993: DataConversionWarning: A column-vector y was passed when a 1d array was expected. Please change the shape of y to (n_samples, ), for example using ravel().\n",
      "  y = column_or_1d(y, warn=True)\n",
      "/usr/local/lib/python3.7/dist-packages/sklearn/utils/validation.py:993: DataConversionWarning: A column-vector y was passed when a 1d array was expected. Please change the shape of y to (n_samples, ), for example using ravel().\n",
      "  y = column_or_1d(y, warn=True)\n",
      "/usr/local/lib/python3.7/dist-packages/sklearn/utils/validation.py:993: DataConversionWarning: A column-vector y was passed when a 1d array was expected. Please change the shape of y to (n_samples, ), for example using ravel().\n",
      "  y = column_or_1d(y, warn=True)\n"
     ]
    },
    {
     "name": "stdout",
     "output_type": "stream",
     "text": [
      "決定木の個数 300: 訓練データの正解率1.0  検証データの正解率0.903\n",
      "決定木の個数 400: 訓練データの正解率1.0  検証データの正解率0.903\n",
      "決定木の個数 500: 訓練データの正解率1.0  検証データの正解率0.903\n"
     ]
    },
    {
     "name": "stderr",
     "output_type": "stream",
     "text": [
      "/usr/local/lib/python3.7/dist-packages/sklearn/utils/validation.py:993: DataConversionWarning: A column-vector y was passed when a 1d array was expected. Please change the shape of y to (n_samples, ), for example using ravel().\n",
      "  y = column_or_1d(y, warn=True)\n",
      "/usr/local/lib/python3.7/dist-packages/sklearn/utils/validation.py:993: DataConversionWarning: A column-vector y was passed when a 1d array was expected. Please change the shape of y to (n_samples, ), for example using ravel().\n",
      "  y = column_or_1d(y, warn=True)\n",
      "/usr/local/lib/python3.7/dist-packages/sklearn/utils/validation.py:993: DataConversionWarning: A column-vector y was passed when a 1d array was expected. Please change the shape of y to (n_samples, ), for example using ravel().\n",
      "  y = column_or_1d(y, warn=True)\n"
     ]
    },
    {
     "name": "stdout",
     "output_type": "stream",
     "text": [
      "決定木の個数 600: 訓練データの正解率1.0  検証データの正解率0.903\n",
      "決定木の個数 700: 訓練データの正解率1.0  検証データの正解率0.903\n"
     ]
    },
    {
     "name": "stderr",
     "output_type": "stream",
     "text": [
      "/usr/local/lib/python3.7/dist-packages/sklearn/utils/validation.py:993: DataConversionWarning: A column-vector y was passed when a 1d array was expected. Please change the shape of y to (n_samples, ), for example using ravel().\n",
      "  y = column_or_1d(y, warn=True)\n"
     ]
    }
   ],
   "source": [
    "#アダブーストで使用する決定木の個数を確認\n",
    "#木の個数を300 ～ 700まで100刻みで検証\n",
    "for i in range(100, 701, 100):\n",
    "  train_score, test_score, model = adbst_Learn(x_train, x_test, y_train, y_test, i)\n",
    "  ret_str = '決定木の個数 {}: 訓練データの正解率{}  検証データの正解率{}'\n",
    "  print(ret_str.format(i, train_score, test_score))"
   ]
  },
  {
   "cell_type": "code",
   "execution_count": 23,
   "metadata": {
    "colab": {
     "base_uri": "https://localhost:8080/"
    },
    "id": "sQjQlKSgi0uS",
    "outputId": "30a4d675-4767-4421-8c45-6a4ee36d3677"
   },
   "outputs": [
    {
     "name": "stdout",
     "output_type": "stream",
     "text": [
      "決定木の個数 100: 訓練データの正解率1.0  検証データの正解率0.903\n"
     ]
    },
    {
     "name": "stderr",
     "output_type": "stream",
     "text": [
      "/usr/local/lib/python3.7/dist-packages/sklearn/utils/validation.py:993: DataConversionWarning: A column-vector y was passed when a 1d array was expected. Please change the shape of y to (n_samples, ), for example using ravel().\n",
      "  y = column_or_1d(y, warn=True)\n"
     ]
    }
   ],
   "source": [
    "#決定木の個数を100から増やしても、訓練データの正解率1.0  検証データの正解率0.903 以降、変わらない\n",
    "#決定木の個数100でアダブーストを作成\n",
    "adbst_train_score, adbst_test_score, adbst_model = adbst_Learn(x_train, x_test, y_train, y_test, 100)\n",
    "ret_str = '決定木の個数 {}: 訓練データの正解率{}  検証データの正解率{}'\n",
    "print(ret_str.format(100, adbst_train_score, adbst_test_score))"
   ]
  },
  {
   "cell_type": "markdown",
   "metadata": {
    "id": "GYpNNEl3j1Sl"
   },
   "source": [
    "★5 ランダムフォレスト回帰の場合"
   ]
  },
  {
   "cell_type": "code",
   "execution_count": 24,
   "metadata": {
    "id": "_aA_cgMDkbZK"
   },
   "outputs": [],
   "source": [
    "#ランダムフォレスト回帰の作成と学習\n",
    "#訓練データ, 検証データ, 正則化項の定数を引数とし、訓練データと検証データの正解率とモデルを返す\n",
    "def rndfst_reg_Learn(x_train, x_test, y_train, y_test, wk=200):\n",
    "  model = RandomForestRegressor(n_estimators=wk, random_state=0)\n",
    "  model.fit(x_train, y_train) #学習\n",
    "\n",
    "  score1 = model.score(x_train, y_train)\n",
    "  score2 = model.score(x_test, y_test)\n",
    "  return round(score1, 3), round(score2, 3), model"
   ]
  },
  {
   "cell_type": "code",
   "execution_count": 25,
   "metadata": {
    "colab": {
     "base_uri": "https://localhost:8080/"
    },
    "id": "B8NVGEP8knmw",
    "outputId": "76250364-1191-4ad1-acb4-a4b8c8680f1a"
   },
   "outputs": [
    {
     "name": "stderr",
     "output_type": "stream",
     "text": [
      "/usr/local/lib/python3.7/dist-packages/ipykernel_launcher.py:5: DataConversionWarning: A column-vector y was passed when a 1d array was expected. Please change the shape of y to (n_samples,), for example using ravel().\n",
      "  \"\"\"\n"
     ]
    },
    {
     "name": "stdout",
     "output_type": "stream",
     "text": [
      "木の個数 100: 訓練データの正解率0.98  検証データの正解率0.876\n"
     ]
    },
    {
     "name": "stderr",
     "output_type": "stream",
     "text": [
      "/usr/local/lib/python3.7/dist-packages/ipykernel_launcher.py:5: DataConversionWarning: A column-vector y was passed when a 1d array was expected. Please change the shape of y to (n_samples,), for example using ravel().\n",
      "  \"\"\"\n"
     ]
    },
    {
     "name": "stdout",
     "output_type": "stream",
     "text": [
      "木の個数 200: 訓練データの正解率0.98  検証データの正解率0.872\n"
     ]
    },
    {
     "name": "stderr",
     "output_type": "stream",
     "text": [
      "/usr/local/lib/python3.7/dist-packages/ipykernel_launcher.py:5: DataConversionWarning: A column-vector y was passed when a 1d array was expected. Please change the shape of y to (n_samples,), for example using ravel().\n",
      "  \"\"\"\n"
     ]
    },
    {
     "name": "stdout",
     "output_type": "stream",
     "text": [
      "木の個数 300: 訓練データの正解率0.981  検証データの正解率0.872\n"
     ]
    },
    {
     "name": "stderr",
     "output_type": "stream",
     "text": [
      "/usr/local/lib/python3.7/dist-packages/ipykernel_launcher.py:5: DataConversionWarning: A column-vector y was passed when a 1d array was expected. Please change the shape of y to (n_samples,), for example using ravel().\n",
      "  \"\"\"\n"
     ]
    },
    {
     "name": "stdout",
     "output_type": "stream",
     "text": [
      "木の個数 400: 訓練データの正解率0.981  検証データの正解率0.872\n"
     ]
    },
    {
     "name": "stderr",
     "output_type": "stream",
     "text": [
      "/usr/local/lib/python3.7/dist-packages/ipykernel_launcher.py:5: DataConversionWarning: A column-vector y was passed when a 1d array was expected. Please change the shape of y to (n_samples,), for example using ravel().\n",
      "  \"\"\"\n"
     ]
    },
    {
     "name": "stdout",
     "output_type": "stream",
     "text": [
      "木の個数 500: 訓練データの正解率0.981  検証データの正解率0.873\n"
     ]
    }
   ],
   "source": [
    "#ランダムフォレスト回帰の木の個数を確認\n",
    "#木の個数を100 ～ 500まで100刻みで検証\n",
    "for i in range(100, 501, 100):\n",
    "  train_score, test_score, model = rndfst_reg_Learn(x_train, x_test, y_train, y_test, i)\n",
    "  ret_str = '木の個数 {}: 訓練データの正解率{}  検証データの正解率{}'\n",
    "  print(ret_str.format(i, train_score, test_score))"
   ]
  },
  {
   "cell_type": "code",
   "execution_count": 26,
   "metadata": {
    "colab": {
     "base_uri": "https://localhost:8080/"
    },
    "id": "zp7T8RG_liIT",
    "outputId": "698202c7-a3a0-4986-a5c4-d065107fd5e2"
   },
   "outputs": [
    {
     "name": "stderr",
     "output_type": "stream",
     "text": [
      "/usr/local/lib/python3.7/dist-packages/ipykernel_launcher.py:5: DataConversionWarning: A column-vector y was passed when a 1d array was expected. Please change the shape of y to (n_samples,), for example using ravel().\n",
      "  \"\"\"\n"
     ]
    },
    {
     "name": "stdout",
     "output_type": "stream",
     "text": [
      "木の個数 100: 訓練データの正解率0.98  検証データの正解率0.876\n"
     ]
    }
   ],
   "source": [
    "#木の個数100: 訓練データの正解率0.98  検証データの正解率0.876 - 検証データの正解率が良い\n",
    "#木の個数100でランダムフォレスト回帰を作成\n",
    "rndfst_reg_train_score, rndfst_reg_test_score, rndfst_reg_model = rndfst_reg_Learn(x_train, x_test, y_train, y_test, 100)\n",
    "ret_str = '木の個数 {}: 訓練データの正解率{}  検証データの正解率{}'\n",
    "print(ret_str.format(100, rndfst_reg_train_score, rndfst_reg_test_score))"
   ]
  },
  {
   "cell_type": "markdown",
   "metadata": {
    "id": "ylamZrPGj5kj"
   },
   "source": [
    "★6 アダブースト回帰の場合"
   ]
  },
  {
   "cell_type": "code",
   "execution_count": 27,
   "metadata": {
    "id": "B3ZItivAmUcp"
   },
   "outputs": [],
   "source": [
    "#アダブースト回帰の作成と学習\n",
    "#訓練データ, 検証データ, 決定木の個数を引数とし、訓練データと検証データの正解率とモデルを返す\n",
    "def adbst_reg_Learn(x_train, x_test, y_train, y_test, wk=100):\n",
    "  #★1の結果より 深さ11の決定木を作成\n",
    "  base_model = tree.DecisionTreeRegressor(max_depth=11, random_state=0)\n",
    "\n",
    "  model = AdaBoostRegressor(n_estimators=wk, random_state=0, base_estimator=base_model)\n",
    "  model.fit(x_train, y_train) #学習\n",
    "\n",
    "  score1 = model.score(x_train, y_train)\n",
    "  score2 = model.score(x_test, y_test)\n",
    "  return round(score1, 3), round(score2, 3), model"
   ]
  },
  {
   "cell_type": "code",
   "execution_count": 28,
   "metadata": {
    "colab": {
     "base_uri": "https://localhost:8080/"
    },
    "id": "GIdCtGGYnj5s",
    "outputId": "6d9c357e-8c06-42a2-f111-1d0aa12c8f7e"
   },
   "outputs": [
    {
     "name": "stderr",
     "output_type": "stream",
     "text": [
      "/usr/local/lib/python3.7/dist-packages/sklearn/utils/validation.py:993: DataConversionWarning: A column-vector y was passed when a 1d array was expected. Please change the shape of y to (n_samples, ), for example using ravel().\n",
      "  y = column_or_1d(y, warn=True)\n"
     ]
    },
    {
     "name": "stdout",
     "output_type": "stream",
     "text": [
      "決定木の個数 100: 訓練データの正解率1.0  検証データの正解率0.978\n"
     ]
    },
    {
     "name": "stderr",
     "output_type": "stream",
     "text": [
      "/usr/local/lib/python3.7/dist-packages/sklearn/utils/validation.py:993: DataConversionWarning: A column-vector y was passed when a 1d array was expected. Please change the shape of y to (n_samples, ), for example using ravel().\n",
      "  y = column_or_1d(y, warn=True)\n"
     ]
    },
    {
     "name": "stdout",
     "output_type": "stream",
     "text": [
      "決定木の個数 200: 訓練データの正解率1.0  検証データの正解率0.977\n"
     ]
    },
    {
     "name": "stderr",
     "output_type": "stream",
     "text": [
      "/usr/local/lib/python3.7/dist-packages/sklearn/utils/validation.py:993: DataConversionWarning: A column-vector y was passed when a 1d array was expected. Please change the shape of y to (n_samples, ), for example using ravel().\n",
      "  y = column_or_1d(y, warn=True)\n"
     ]
    },
    {
     "name": "stdout",
     "output_type": "stream",
     "text": [
      "決定木の個数 300: 訓練データの正解率1.0  検証データの正解率0.977\n"
     ]
    },
    {
     "name": "stderr",
     "output_type": "stream",
     "text": [
      "/usr/local/lib/python3.7/dist-packages/sklearn/utils/validation.py:993: DataConversionWarning: A column-vector y was passed when a 1d array was expected. Please change the shape of y to (n_samples, ), for example using ravel().\n",
      "  y = column_or_1d(y, warn=True)\n"
     ]
    },
    {
     "name": "stdout",
     "output_type": "stream",
     "text": [
      "決定木の個数 400: 訓練データの正解率1.0  検証データの正解率0.976\n"
     ]
    },
    {
     "name": "stderr",
     "output_type": "stream",
     "text": [
      "/usr/local/lib/python3.7/dist-packages/sklearn/utils/validation.py:993: DataConversionWarning: A column-vector y was passed when a 1d array was expected. Please change the shape of y to (n_samples, ), for example using ravel().\n",
      "  y = column_or_1d(y, warn=True)\n"
     ]
    },
    {
     "name": "stdout",
     "output_type": "stream",
     "text": [
      "決定木の個数 500: 訓練データの正解率1.0  検証データの正解率0.978\n"
     ]
    }
   ],
   "source": [
    "#アダブースト回帰で使用する決定木の個数を確認\n",
    "#木の個数を100 ～ 500まで100刻みで検証\n",
    "for i in range(100, 501, 100):\n",
    "  train_score, test_score, model = adbst_reg_Learn(x_train, x_test, y_train, y_test, i)\n",
    "  ret_str = '決定木の個数 {}: 訓練データの正解率{}  検証データの正解率{}'\n",
    "  print(ret_str.format(i, train_score, test_score))"
   ]
  },
  {
   "cell_type": "code",
   "execution_count": 29,
   "metadata": {
    "colab": {
     "base_uri": "https://localhost:8080/"
    },
    "id": "bSQHc9jhm8y1",
    "outputId": "23cbc49b-084f-4cf5-90df-99671022294a"
   },
   "outputs": [
    {
     "name": "stderr",
     "output_type": "stream",
     "text": [
      "/usr/local/lib/python3.7/dist-packages/sklearn/utils/validation.py:993: DataConversionWarning: A column-vector y was passed when a 1d array was expected. Please change the shape of y to (n_samples, ), for example using ravel().\n",
      "  y = column_or_1d(y, warn=True)\n"
     ]
    },
    {
     "name": "stdout",
     "output_type": "stream",
     "text": [
      "決定木の個数 100: 訓練データの正解率1.0  検証データの正解率0.978\n"
     ]
    }
   ],
   "source": [
    "#上記結果より決定木の個数100でアダブースト回帰を作成\n",
    "adbst_reg_train_score, adbst_reg_test_score, adbst_reg_model = adbst_reg_Learn(x_train, x_test, y_train, y_test, 100)\n",
    "ret_str = '決定木の個数 {}: 訓練データの正解率{}  検証データの正解率{}'\n",
    "print(ret_str.format(100, adbst_reg_train_score, adbst_reg_test_score))"
   ]
  },
  {
   "cell_type": "markdown",
   "metadata": {
    "id": "I1mHkCPnYDhl"
   },
   "source": [
    "モデルの選択 - 下記結果より、ランダムフォレスト が良いと思われる"
   ]
  },
  {
   "cell_type": "code",
   "execution_count": 30,
   "metadata": {
    "colab": {
     "base_uri": "https://localhost:8080/"
    },
    "id": "XKnA5dMyZiXc",
    "outputId": "3c005fe3-fe47-4dc7-9b47-3dcd83c82367"
   },
   "outputs": [
    {
     "name": "stdout",
     "output_type": "stream",
     "text": [
      "決定木                ： 訓練データの正解率0.995  検証データの正解率0.837\n",
      "ロジスティック回帰    ： 訓練データの正解率0.998  検証データの正解率0.983\n",
      "ランダムフォレスト    ： 訓練データの正解率1.0  検証データの正解率0.99\n",
      "アダブースト          ： 訓練データの正解率1.0  検証データの正解率0.903\n",
      "ランダムフォレスト回帰： 訓練データの正解率0.98  検証データの正解率0.876\n",
      "アダブースト回帰      ： 訓練データの正解率1.0  検証データの正解率0.978\n"
     ]
    }
   ],
   "source": [
    "#比較\n",
    "print('決定木                ： 訓練データの正解率{}  検証データの正解率{}'.format(dtree_train_score,dtree_test_score))    #dtree_model\n",
    "print('ロジスティック回帰    ： 訓練データの正解率{}  検証データの正解率{}'.format(logreg_train_score,logreg_test_score))  #logreg_model\n",
    "print('ランダムフォレスト    ： 訓練データの正解率{}  検証データの正解率{}'.format(rndfst_train_score, rndfst_test_score)) #rndfst_model\n",
    "print('アダブースト          ： 訓練データの正解率{}  検証データの正解率{}'.format(adbst_train_score, adbst_test_score))   #adbst_model\n",
    "print('ランダムフォレスト回帰： 訓練データの正解率{}  検証データの正解率{}'.format(rndfst_reg_train_score, rndfst_reg_test_score)) #rndfst_reg_model\n",
    "print('アダブースト回帰      ： 訓練データの正解率{}  検証データの正解率{}'.format(adbst_reg_train_score, adbst_reg_test_score))   #adbst_reg_model"
   ]
  },
  {
   "cell_type": "markdown",
   "metadata": {
    "id": "txrbbXvFrs1o"
   },
   "source": [
    "正解率または決定係数の表示（testデータを使用する)"
   ]
  },
  {
   "cell_type": "code",
   "execution_count": 31,
   "metadata": {
    "id": "HlCIKfuPr2oO"
   },
   "outputs": [],
   "source": [
    "#testデータを特徴量と正解データに分割 - 標準化無し\n",
    "test_x = test.drop(['target'], axis=1)    #特徴量\n",
    "test_t = test[['target']] #正解"
   ]
  },
  {
   "cell_type": "code",
   "execution_count": 42,
   "metadata": {
    "colab": {
     "base_uri": "https://localhost:8080/"
    },
    "id": "92PIb3m9WgBH",
    "outputId": "6e4bf160-8765-47a3-a1f1-f1661ff28432"
   },
   "outputs": [
    {
     "name": "stdout",
     "output_type": "stream",
     "text": [
      "決定木                ： 訓練データ0.995  検証データ0.837  テストデータ0.814\n",
      "ロジスティック回帰    ： 訓練データ0.998  検証データ0.983  テストデータ0.961\n",
      "ランダムフォレスト★  ： 訓練データ1.000  検証データ0.990  テストデータ0.975\n",
      "アダブースト          ： 訓練データ1.000  検証データ0.903  テストデータ0.903\n",
      "ランダムフォレスト回帰： 訓練データ0.980  検証データ0.876  テストデータ0.867\n",
      "アダブースト回帰      ： 訓練データ1.000  検証データ0.978  テストデータ0.943\n"
     ]
    }
   ],
   "source": [
    "#比較\n",
    "msg_str = '訓練データ{:.3f}  検証データ{:.3f}  テストデータ{:.3f}'\n",
    "print('決定木                ：', msg_str.format(dtree_train_score, dtree_test_score, dtree_model.score(test_x, test_t)))    #dtree_model\n",
    "print('ロジスティック回帰    ：' ,msg_str.format(logreg_train_score, logreg_test_score, logreg_model.score(test_x, test_t)))  #logreg_model\n",
    "print('ランダムフォレスト★  ：' ,msg_str.format(rndfst_train_score, rndfst_test_score, rndfst_model.score(test_x, test_t))) #rndfst_model\n",
    "print('アダブースト          ：' ,msg_str.format(adbst_train_score, adbst_test_score, adbst_model.score(test_x, test_t)))   #adbst_model\n",
    "print('ランダムフォレスト回帰：' ,msg_str.format(rndfst_reg_train_score, rndfst_reg_test_score, rndfst_reg_model.score(test_x, test_t))) #rndfst_reg_model\n",
    "print('アダブースト回帰      ：' ,msg_str.format(adbst_reg_train_score, adbst_reg_test_score, adbst_reg_model.score(test_x, test_t)))   #adbst_reg_model"
   ]
  },
  {
   "cell_type": "markdown",
   "metadata": {
    "id": "Ecl2azYHs7mX"
   },
   "source": [
    "保存：モデルは digits.pkl, 選択モデルはランダムフォレスト"
   ]
  },
  {
   "cell_type": "code",
   "execution_count": 43,
   "metadata": {
    "id": "gTDvpnWFtH_7"
   },
   "outputs": [],
   "source": [
    "import pickle\n",
    "\n",
    "with open('digits.pkl', 'wb') as f:\n",
    "  pickle.dump(rndfst_model, f)"
   ]
  }
 ],
 "metadata": {
  "colab": {
   "collapsed_sections": [],
   "name": "kouka_分類_大宮校_佐藤夏..ipynb",
   "provenance": []
  },
  "kernelspec": {
   "display_name": "Python 3",
   "language": "python",
   "name": "python3"
  },
  "language_info": {
   "codemirror_mode": {
    "name": "ipython",
    "version": 3
   },
   "file_extension": ".py",
   "mimetype": "text/x-python",
   "name": "python",
   "nbconvert_exporter": "python",
   "pygments_lexer": "ipython3",
   "version": "3.8.5"
  }
 },
 "nbformat": 4,
 "nbformat_minor": 1
}
