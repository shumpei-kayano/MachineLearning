{
  "nbformat": 4,
  "nbformat_minor": 0,
  "metadata": {
    "colab": {
      "name": "ml_ex_5_stu.ipynb",
      "provenance": [],
      "collapsed_sections": []
    },
    "kernelspec": {
      "name": "python3",
      "display_name": "Python 3"
    },
    "language_info": {
      "name": "python"
    }
  },
  "cells": [
    {
      "cell_type": "markdown",
      "source": [
        "# 機械学習　第８章　実習問題（回帰）"
      ],
      "metadata": {
        "id": "KvMFvNyQsHH_"
      }
    },
    {
      "cell_type": "code",
      "source": [
        ""
      ],
      "metadata": {
        "id": "mzj4yCrScv1e"
      },
      "execution_count": null,
      "outputs": []
    },
    {
      "cell_type": "markdown",
      "source": [
        "## 問題文に従って各問題ごとにセルを複数追加してプログラムを実装してください。"
      ],
      "metadata": {
        "id": "0FHr21VM9u5q"
      }
    },
    {
      "cell_type": "markdown",
      "source": [
        "## ※ 準備作業\n",
        "### ▶ 以下を実施してください。"
      ],
      "metadata": {
        "id": "U6XLVgl_sfYE"
      }
    },
    {
      "cell_type": "code",
      "source": [
        "from google.colab import drive\n",
        "drive.mount('/content/drive')"
      ],
      "metadata": {
        "colab": {
          "base_uri": "https://localhost:8080/"
        },
        "id": "DIHXMs1_fQWr",
        "outputId": "77a7908d-b8fa-49da-9da2-6b2436f4bd2e"
      },
      "execution_count": null,
      "outputs": [
        {
          "output_type": "stream",
          "name": "stdout",
          "text": [
            "Mounted at /content/drive\n"
          ]
        }
      ]
    },
    {
      "cell_type": "code",
      "source": [
        ""
      ],
      "metadata": {
        "id": "fx-kvZYtcwdG"
      },
      "execution_count": null,
      "outputs": []
    },
    {
      "cell_type": "code",
      "source": [
        "cd drive/MyDrive/ml_ex_5"
      ],
      "metadata": {
        "colab": {
          "base_uri": "https://localhost:8080/"
        },
        "id": "sAGn5Gw6f7uf",
        "outputId": "29744c65-7e0d-4da0-c991-59a0a3e8d54b"
      },
      "execution_count": null,
      "outputs": [
        {
          "output_type": "stream",
          "name": "stdout",
          "text": [
            "/content/drive/MyDrive/ml_ex_5\n"
          ]
        }
      ]
    },
    {
      "cell_type": "code",
      "source": [
        "# ドライブのマウント\n",
        "# ディレクトリの作成\n",
        "# ディレクトリへの移動\n",
        "# house_rent.csv のアップロード"
      ],
      "metadata": {
        "id": "uOs7q2IctJ6Y"
      },
      "execution_count": null,
      "outputs": []
    },
    {
      "cell_type": "markdown",
      "source": [
        "## ※ matplotlib日本語化のためのライブラリのインストール\n",
        "### ▶ 以下を実行してください。"
      ],
      "metadata": {
        "id": "Mi5qPaSysqQk"
      }
    },
    {
      "cell_type": "code",
      "source": [
        "!pip install japanize-matplotlib"
      ],
      "metadata": {
        "colab": {
          "base_uri": "https://localhost:8080/"
        },
        "id": "wWSmggEfAm-D",
        "outputId": "5cd402b4-2fc7-4829-ef55-ae2469b1ef5b"
      },
      "execution_count": null,
      "outputs": [
        {
          "output_type": "stream",
          "name": "stdout",
          "text": [
            "Collecting japanize-matplotlib\n",
            "  Downloading japanize-matplotlib-1.1.3.tar.gz (4.1 MB)\n",
            "\u001b[K     |████████████████████████████████| 4.1 MB 4.2 MB/s \n",
            "\u001b[?25hRequirement already satisfied: matplotlib in /usr/local/lib/python3.7/dist-packages (from japanize-matplotlib) (3.2.2)\n",
            "Requirement already satisfied: pyparsing!=2.0.4,!=2.1.2,!=2.1.6,>=2.0.1 in /usr/local/lib/python3.7/dist-packages (from matplotlib->japanize-matplotlib) (3.0.7)\n",
            "Requirement already satisfied: numpy>=1.11 in /usr/local/lib/python3.7/dist-packages (from matplotlib->japanize-matplotlib) (1.19.5)\n",
            "Requirement already satisfied: cycler>=0.10 in /usr/local/lib/python3.7/dist-packages (from matplotlib->japanize-matplotlib) (0.11.0)\n",
            "Requirement already satisfied: python-dateutil>=2.1 in /usr/local/lib/python3.7/dist-packages (from matplotlib->japanize-matplotlib) (2.8.2)\n",
            "Requirement already satisfied: kiwisolver>=1.0.1 in /usr/local/lib/python3.7/dist-packages (from matplotlib->japanize-matplotlib) (1.3.2)\n",
            "Requirement already satisfied: six>=1.5 in /usr/local/lib/python3.7/dist-packages (from python-dateutil>=2.1->matplotlib->japanize-matplotlib) (1.15.0)\n",
            "Building wheels for collected packages: japanize-matplotlib\n",
            "  Building wheel for japanize-matplotlib (setup.py) ... \u001b[?25l\u001b[?25hdone\n",
            "  Created wheel for japanize-matplotlib: filename=japanize_matplotlib-1.1.3-py3-none-any.whl size=4120275 sha256=07c9d47cb4d9bbaad378a164126d9314976ffa6b95d2aca74be4c81bfc8d4e2a\n",
            "  Stored in directory: /root/.cache/pip/wheels/83/97/6b/e9e0cde099cc40f972b8dd23367308f7705ae06cd6d4714658\n",
            "Successfully built japanize-matplotlib\n",
            "Installing collected packages: japanize-matplotlib\n",
            "Successfully installed japanize-matplotlib-1.1.3\n"
          ]
        }
      ]
    },
    {
      "cell_type": "markdown",
      "source": [
        "## データ分析対象データ\n",
        "\n",
        "![ml_ex_5_data_excel.PNG](data:image/png;base64,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)"
      ],
      "metadata": {
        "id": "tCTQhwakoCYW"
      }
    },
    {
      "cell_type": "markdown",
      "source": [
        "### ■ 正解データ　：　家賃（円）\n",
        "### ■ 特徴量候補　：　所在地、敷金（か月）、礼金（か月）、面積（㎡）、築年数（年）、駅徒歩、間取、方位、構造"
      ],
      "metadata": {
        "id": "NlkS8UqqpOQC"
      }
    },
    {
      "cell_type": "markdown",
      "source": [
        "## 問題１　本データのデータ分析において使用する各種ライブラリをインポートしてください。\n",
        "## また、グラフ表示が同一タブ上に表示されるようにしてください。"
      ],
      "metadata": {
        "id": "Cqnd24AFs3rc"
      }
    },
    {
      "cell_type": "code",
      "source": [
        "import pandas as pd\n",
        "%matplotlib inline\n",
        "from sklearn.linear_model import LinearRegression\n",
        "from sklearn.model_selection import train_test_split"
      ],
      "metadata": {
        "id": "YgBaMFZMh59R"
      },
      "execution_count": null,
      "outputs": []
    },
    {
      "cell_type": "markdown",
      "source": [
        "## 問題２　CSVファイル house_rent.csv を読み込んでください。ただし、エンコーディングは cp932 を使用してください。"
      ],
      "metadata": {
        "id": "Y--nHD92tEtM"
      }
    },
    {
      "cell_type": "code",
      "source": [
        "df = pd.read_csv('house_rent.csv',encoding='cp932')\n",
        "df.head(2)"
      ],
      "metadata": {
        "colab": {
          "base_uri": "https://localhost:8080/",
          "height": 112
        },
        "id": "OVv7OOuwiGQn",
        "outputId": "3c5e7d5e-4d69-4b2c-8460-d72c055e6dcb"
      },
      "execution_count": null,
      "outputs": [
        {
          "output_type": "execute_result",
          "data": {
            "text/html": [
              "\n",
              "  <div id=\"df-c2f32121-cc07-4c9b-9d5a-fe137c5d38fc\">\n",
              "    <div class=\"colab-df-container\">\n",
              "      <div>\n",
              "<style scoped>\n",
              "    .dataframe tbody tr th:only-of-type {\n",
              "        vertical-align: middle;\n",
              "    }\n",
              "\n",
              "    .dataframe tbody tr th {\n",
              "        vertical-align: top;\n",
              "    }\n",
              "\n",
              "    .dataframe thead th {\n",
              "        text-align: right;\n",
              "    }\n",
              "</style>\n",
              "<table border=\"1\" class=\"dataframe\">\n",
              "  <thead>\n",
              "    <tr style=\"text-align: right;\">\n",
              "      <th></th>\n",
              "      <th>所在地</th>\n",
              "      <th>家賃(円)</th>\n",
              "      <th>敷金(か月)</th>\n",
              "      <th>礼金(か月）</th>\n",
              "      <th>面積(㎡)</th>\n",
              "      <th>築年数(年)</th>\n",
              "      <th>駅徒歩分</th>\n",
              "      <th>間取</th>\n",
              "      <th>方位</th>\n",
              "      <th>構造</th>\n",
              "    </tr>\n",
              "  </thead>\n",
              "  <tbody>\n",
              "    <tr>\n",
              "      <th>0</th>\n",
              "      <td>市川市真間</td>\n",
              "      <td>60000</td>\n",
              "      <td>1</td>\n",
              "      <td>1.0</td>\n",
              "      <td>23.15</td>\n",
              "      <td>19.0</td>\n",
              "      <td>7.0</td>\n",
              "      <td>1K</td>\n",
              "      <td>南</td>\n",
              "      <td>軽量鉄骨</td>\n",
              "    </tr>\n",
              "    <tr>\n",
              "      <th>1</th>\n",
              "      <td>市川市新田</td>\n",
              "      <td>77000</td>\n",
              "      <td>2</td>\n",
              "      <td>1.0</td>\n",
              "      <td>23.19</td>\n",
              "      <td>16.0</td>\n",
              "      <td>2.0</td>\n",
              "      <td>1K</td>\n",
              "      <td>南東</td>\n",
              "      <td>木造</td>\n",
              "    </tr>\n",
              "  </tbody>\n",
              "</table>\n",
              "</div>\n",
              "      <button class=\"colab-df-convert\" onclick=\"convertToInteractive('df-c2f32121-cc07-4c9b-9d5a-fe137c5d38fc')\"\n",
              "              title=\"Convert this dataframe to an interactive table.\"\n",
              "              style=\"display:none;\">\n",
              "        \n",
              "  <svg xmlns=\"http://www.w3.org/2000/svg\" height=\"24px\"viewBox=\"0 0 24 24\"\n",
              "       width=\"24px\">\n",
              "    <path d=\"M0 0h24v24H0V0z\" fill=\"none\"/>\n",
              "    <path d=\"M18.56 5.44l.94 2.06.94-2.06 2.06-.94-2.06-.94-.94-2.06-.94 2.06-2.06.94zm-11 1L8.5 8.5l.94-2.06 2.06-.94-2.06-.94L8.5 2.5l-.94 2.06-2.06.94zm10 10l.94 2.06.94-2.06 2.06-.94-2.06-.94-.94-2.06-.94 2.06-2.06.94z\"/><path d=\"M17.41 7.96l-1.37-1.37c-.4-.4-.92-.59-1.43-.59-.52 0-1.04.2-1.43.59L10.3 9.45l-7.72 7.72c-.78.78-.78 2.05 0 2.83L4 21.41c.39.39.9.59 1.41.59.51 0 1.02-.2 1.41-.59l7.78-7.78 2.81-2.81c.8-.78.8-2.07 0-2.86zM5.41 20L4 18.59l7.72-7.72 1.47 1.35L5.41 20z\"/>\n",
              "  </svg>\n",
              "      </button>\n",
              "      \n",
              "  <style>\n",
              "    .colab-df-container {\n",
              "      display:flex;\n",
              "      flex-wrap:wrap;\n",
              "      gap: 12px;\n",
              "    }\n",
              "\n",
              "    .colab-df-convert {\n",
              "      background-color: #E8F0FE;\n",
              "      border: none;\n",
              "      border-radius: 50%;\n",
              "      cursor: pointer;\n",
              "      display: none;\n",
              "      fill: #1967D2;\n",
              "      height: 32px;\n",
              "      padding: 0 0 0 0;\n",
              "      width: 32px;\n",
              "    }\n",
              "\n",
              "    .colab-df-convert:hover {\n",
              "      background-color: #E2EBFA;\n",
              "      box-shadow: 0px 1px 2px rgba(60, 64, 67, 0.3), 0px 1px 3px 1px rgba(60, 64, 67, 0.15);\n",
              "      fill: #174EA6;\n",
              "    }\n",
              "\n",
              "    [theme=dark] .colab-df-convert {\n",
              "      background-color: #3B4455;\n",
              "      fill: #D2E3FC;\n",
              "    }\n",
              "\n",
              "    [theme=dark] .colab-df-convert:hover {\n",
              "      background-color: #434B5C;\n",
              "      box-shadow: 0px 1px 3px 1px rgba(0, 0, 0, 0.15);\n",
              "      filter: drop-shadow(0px 1px 2px rgba(0, 0, 0, 0.3));\n",
              "      fill: #FFFFFF;\n",
              "    }\n",
              "  </style>\n",
              "\n",
              "      <script>\n",
              "        const buttonEl =\n",
              "          document.querySelector('#df-c2f32121-cc07-4c9b-9d5a-fe137c5d38fc button.colab-df-convert');\n",
              "        buttonEl.style.display =\n",
              "          google.colab.kernel.accessAllowed ? 'block' : 'none';\n",
              "\n",
              "        async function convertToInteractive(key) {\n",
              "          const element = document.querySelector('#df-c2f32121-cc07-4c9b-9d5a-fe137c5d38fc');\n",
              "          const dataTable =\n",
              "            await google.colab.kernel.invokeFunction('convertToInteractive',\n",
              "                                                     [key], {});\n",
              "          if (!dataTable) return;\n",
              "\n",
              "          const docLinkHtml = 'Like what you see? Visit the ' +\n",
              "            '<a target=\"_blank\" href=https://colab.research.google.com/notebooks/data_table.ipynb>data table notebook</a>'\n",
              "            + ' to learn more about interactive tables.';\n",
              "          element.innerHTML = '';\n",
              "          dataTable['output_type'] = 'display_data';\n",
              "          await google.colab.output.renderOutput(dataTable, element);\n",
              "          const docLink = document.createElement('div');\n",
              "          docLink.innerHTML = docLinkHtml;\n",
              "          element.appendChild(docLink);\n",
              "        }\n",
              "      </script>\n",
              "    </div>\n",
              "  </div>\n",
              "  "
            ],
            "text/plain": [
              "     所在地  家賃(円)  敷金(か月)  礼金(か月）  面積(㎡)  築年数(年)  駅徒歩分  間取  方位    構造\n",
              "0  市川市真間  60000       1     1.0  23.15    19.0   7.0  1K   南  軽量鉄骨\n",
              "1  市川市新田  77000       2     1.0  23.19    16.0   2.0  1K  南東    木造"
            ]
          },
          "metadata": {},
          "execution_count": 7
        }
      ]
    },
    {
      "cell_type": "markdown",
      "source": [
        "## 問題３　読み込んだCSVファイルの先頭５行と末尾５行を表示してください。"
      ],
      "metadata": {
        "id": "ocXMMC38nJpH"
      }
    },
    {
      "cell_type": "code",
      "source": [
        "df.head(5)"
      ],
      "metadata": {
        "colab": {
          "base_uri": "https://localhost:8080/",
          "height": 206
        },
        "id": "Nd-R_h4ljENW",
        "outputId": "854993ec-250d-44ee-9b4f-cc23a5c09324"
      },
      "execution_count": null,
      "outputs": [
        {
          "output_type": "execute_result",
          "data": {
            "text/html": [
              "\n",
              "  <div id=\"df-dc264a39-de70-4110-b8b8-b8176b0520cf\">\n",
              "    <div class=\"colab-df-container\">\n",
              "      <div>\n",
              "<style scoped>\n",
              "    .dataframe tbody tr th:only-of-type {\n",
              "        vertical-align: middle;\n",
              "    }\n",
              "\n",
              "    .dataframe tbody tr th {\n",
              "        vertical-align: top;\n",
              "    }\n",
              "\n",
              "    .dataframe thead th {\n",
              "        text-align: right;\n",
              "    }\n",
              "</style>\n",
              "<table border=\"1\" class=\"dataframe\">\n",
              "  <thead>\n",
              "    <tr style=\"text-align: right;\">\n",
              "      <th></th>\n",
              "      <th>所在地</th>\n",
              "      <th>家賃(円)</th>\n",
              "      <th>敷金(か月)</th>\n",
              "      <th>礼金(か月）</th>\n",
              "      <th>面積(㎡)</th>\n",
              "      <th>築年数(年)</th>\n",
              "      <th>駅徒歩分</th>\n",
              "      <th>間取</th>\n",
              "      <th>方位</th>\n",
              "      <th>構造</th>\n",
              "    </tr>\n",
              "  </thead>\n",
              "  <tbody>\n",
              "    <tr>\n",
              "      <th>0</th>\n",
              "      <td>市川市真間</td>\n",
              "      <td>60000</td>\n",
              "      <td>1</td>\n",
              "      <td>1.0</td>\n",
              "      <td>23.15</td>\n",
              "      <td>19.0</td>\n",
              "      <td>7.0</td>\n",
              "      <td>1K</td>\n",
              "      <td>南</td>\n",
              "      <td>軽量鉄骨</td>\n",
              "    </tr>\n",
              "    <tr>\n",
              "      <th>1</th>\n",
              "      <td>市川市新田</td>\n",
              "      <td>77000</td>\n",
              "      <td>2</td>\n",
              "      <td>1.0</td>\n",
              "      <td>23.19</td>\n",
              "      <td>16.0</td>\n",
              "      <td>2.0</td>\n",
              "      <td>1K</td>\n",
              "      <td>南東</td>\n",
              "      <td>木造</td>\n",
              "    </tr>\n",
              "    <tr>\n",
              "      <th>2</th>\n",
              "      <td>市川市市川南</td>\n",
              "      <td>65500</td>\n",
              "      <td>1</td>\n",
              "      <td>1.0</td>\n",
              "      <td>NaN</td>\n",
              "      <td>20.0</td>\n",
              "      <td>6.0</td>\n",
              "      <td>1K</td>\n",
              "      <td>西</td>\n",
              "      <td>木造</td>\n",
              "    </tr>\n",
              "    <tr>\n",
              "      <th>3</th>\n",
              "      <td>市川市大洲</td>\n",
              "      <td>65000</td>\n",
              "      <td>2</td>\n",
              "      <td>1.0</td>\n",
              "      <td>28.92</td>\n",
              "      <td>120.0</td>\n",
              "      <td>10.0</td>\n",
              "      <td>1DK</td>\n",
              "      <td>南東</td>\n",
              "      <td>木造</td>\n",
              "    </tr>\n",
              "    <tr>\n",
              "      <th>4</th>\n",
              "      <td>市川市真間</td>\n",
              "      <td>60000</td>\n",
              "      <td>1</td>\n",
              "      <td>1.0</td>\n",
              "      <td>32.05</td>\n",
              "      <td>19.0</td>\n",
              "      <td>10.0</td>\n",
              "      <td>1DK</td>\n",
              "      <td>南</td>\n",
              "      <td>木造</td>\n",
              "    </tr>\n",
              "  </tbody>\n",
              "</table>\n",
              "</div>\n",
              "      <button class=\"colab-df-convert\" onclick=\"convertToInteractive('df-dc264a39-de70-4110-b8b8-b8176b0520cf')\"\n",
              "              title=\"Convert this dataframe to an interactive table.\"\n",
              "              style=\"display:none;\">\n",
              "        \n",
              "  <svg xmlns=\"http://www.w3.org/2000/svg\" height=\"24px\"viewBox=\"0 0 24 24\"\n",
              "       width=\"24px\">\n",
              "    <path d=\"M0 0h24v24H0V0z\" fill=\"none\"/>\n",
              "    <path d=\"M18.56 5.44l.94 2.06.94-2.06 2.06-.94-2.06-.94-.94-2.06-.94 2.06-2.06.94zm-11 1L8.5 8.5l.94-2.06 2.06-.94-2.06-.94L8.5 2.5l-.94 2.06-2.06.94zm10 10l.94 2.06.94-2.06 2.06-.94-2.06-.94-.94-2.06-.94 2.06-2.06.94z\"/><path d=\"M17.41 7.96l-1.37-1.37c-.4-.4-.92-.59-1.43-.59-.52 0-1.04.2-1.43.59L10.3 9.45l-7.72 7.72c-.78.78-.78 2.05 0 2.83L4 21.41c.39.39.9.59 1.41.59.51 0 1.02-.2 1.41-.59l7.78-7.78 2.81-2.81c.8-.78.8-2.07 0-2.86zM5.41 20L4 18.59l7.72-7.72 1.47 1.35L5.41 20z\"/>\n",
              "  </svg>\n",
              "      </button>\n",
              "      \n",
              "  <style>\n",
              "    .colab-df-container {\n",
              "      display:flex;\n",
              "      flex-wrap:wrap;\n",
              "      gap: 12px;\n",
              "    }\n",
              "\n",
              "    .colab-df-convert {\n",
              "      background-color: #E8F0FE;\n",
              "      border: none;\n",
              "      border-radius: 50%;\n",
              "      cursor: pointer;\n",
              "      display: none;\n",
              "      fill: #1967D2;\n",
              "      height: 32px;\n",
              "      padding: 0 0 0 0;\n",
              "      width: 32px;\n",
              "    }\n",
              "\n",
              "    .colab-df-convert:hover {\n",
              "      background-color: #E2EBFA;\n",
              "      box-shadow: 0px 1px 2px rgba(60, 64, 67, 0.3), 0px 1px 3px 1px rgba(60, 64, 67, 0.15);\n",
              "      fill: #174EA6;\n",
              "    }\n",
              "\n",
              "    [theme=dark] .colab-df-convert {\n",
              "      background-color: #3B4455;\n",
              "      fill: #D2E3FC;\n",
              "    }\n",
              "\n",
              "    [theme=dark] .colab-df-convert:hover {\n",
              "      background-color: #434B5C;\n",
              "      box-shadow: 0px 1px 3px 1px rgba(0, 0, 0, 0.15);\n",
              "      filter: drop-shadow(0px 1px 2px rgba(0, 0, 0, 0.3));\n",
              "      fill: #FFFFFF;\n",
              "    }\n",
              "  </style>\n",
              "\n",
              "      <script>\n",
              "        const buttonEl =\n",
              "          document.querySelector('#df-dc264a39-de70-4110-b8b8-b8176b0520cf button.colab-df-convert');\n",
              "        buttonEl.style.display =\n",
              "          google.colab.kernel.accessAllowed ? 'block' : 'none';\n",
              "\n",
              "        async function convertToInteractive(key) {\n",
              "          const element = document.querySelector('#df-dc264a39-de70-4110-b8b8-b8176b0520cf');\n",
              "          const dataTable =\n",
              "            await google.colab.kernel.invokeFunction('convertToInteractive',\n",
              "                                                     [key], {});\n",
              "          if (!dataTable) return;\n",
              "\n",
              "          const docLinkHtml = 'Like what you see? Visit the ' +\n",
              "            '<a target=\"_blank\" href=https://colab.research.google.com/notebooks/data_table.ipynb>data table notebook</a>'\n",
              "            + ' to learn more about interactive tables.';\n",
              "          element.innerHTML = '';\n",
              "          dataTable['output_type'] = 'display_data';\n",
              "          await google.colab.output.renderOutput(dataTable, element);\n",
              "          const docLink = document.createElement('div');\n",
              "          docLink.innerHTML = docLinkHtml;\n",
              "          element.appendChild(docLink);\n",
              "        }\n",
              "      </script>\n",
              "    </div>\n",
              "  </div>\n",
              "  "
            ],
            "text/plain": [
              "      所在地  家賃(円)  敷金(か月)  礼金(か月）  面積(㎡)  築年数(年)  駅徒歩分   間取  方位    構造\n",
              "0   市川市真間  60000       1     1.0  23.15    19.0   7.0   1K   南  軽量鉄骨\n",
              "1   市川市新田  77000       2     1.0  23.19    16.0   2.0   1K  南東    木造\n",
              "2  市川市市川南  65500       1     1.0    NaN    20.0   6.0   1K   西    木造\n",
              "3   市川市大洲  65000       2     1.0  28.92   120.0  10.0  1DK  南東    木造\n",
              "4   市川市真間  60000       1     1.0  32.05    19.0  10.0  1DK   南    木造"
            ]
          },
          "metadata": {},
          "execution_count": 8
        }
      ]
    },
    {
      "cell_type": "code",
      "source": [
        "df.tail(5)"
      ],
      "metadata": {
        "colab": {
          "base_uri": "https://localhost:8080/",
          "height": 206
        },
        "id": "KQUNhb4hj_Rm",
        "outputId": "4f7811c1-79d8-4fc8-f2e0-e3a70b957717"
      },
      "execution_count": null,
      "outputs": [
        {
          "output_type": "execute_result",
          "data": {
            "text/html": [
              "\n",
              "  <div id=\"df-f3358175-ddbf-4b6c-962b-d927bef5a905\">\n",
              "    <div class=\"colab-df-container\">\n",
              "      <div>\n",
              "<style scoped>\n",
              "    .dataframe tbody tr th:only-of-type {\n",
              "        vertical-align: middle;\n",
              "    }\n",
              "\n",
              "    .dataframe tbody tr th {\n",
              "        vertical-align: top;\n",
              "    }\n",
              "\n",
              "    .dataframe thead th {\n",
              "        text-align: right;\n",
              "    }\n",
              "</style>\n",
              "<table border=\"1\" class=\"dataframe\">\n",
              "  <thead>\n",
              "    <tr style=\"text-align: right;\">\n",
              "      <th></th>\n",
              "      <th>所在地</th>\n",
              "      <th>家賃(円)</th>\n",
              "      <th>敷金(か月)</th>\n",
              "      <th>礼金(か月）</th>\n",
              "      <th>面積(㎡)</th>\n",
              "      <th>築年数(年)</th>\n",
              "      <th>駅徒歩分</th>\n",
              "      <th>間取</th>\n",
              "      <th>方位</th>\n",
              "      <th>構造</th>\n",
              "    </tr>\n",
              "  </thead>\n",
              "  <tbody>\n",
              "    <tr>\n",
              "      <th>299</th>\n",
              "      <td>市川市新田</td>\n",
              "      <td>64000</td>\n",
              "      <td>2</td>\n",
              "      <td>1.0</td>\n",
              "      <td>22.01</td>\n",
              "      <td>NaN</td>\n",
              "      <td>5.0</td>\n",
              "      <td>1R</td>\n",
              "      <td>南</td>\n",
              "      <td>木造</td>\n",
              "    </tr>\n",
              "    <tr>\n",
              "      <th>300</th>\n",
              "      <td>市川市新田</td>\n",
              "      <td>52000</td>\n",
              "      <td>1</td>\n",
              "      <td>0.0</td>\n",
              "      <td>18.02</td>\n",
              "      <td>25.0</td>\n",
              "      <td>13.0</td>\n",
              "      <td>1K</td>\n",
              "      <td>南東</td>\n",
              "      <td>軽量鉄骨</td>\n",
              "    </tr>\n",
              "    <tr>\n",
              "      <th>301</th>\n",
              "      <td>市川市新田</td>\n",
              "      <td>57000</td>\n",
              "      <td>1</td>\n",
              "      <td>1.0</td>\n",
              "      <td>21.70</td>\n",
              "      <td>20.0</td>\n",
              "      <td>10.0</td>\n",
              "      <td>1K</td>\n",
              "      <td>南</td>\n",
              "      <td>木造</td>\n",
              "    </tr>\n",
              "    <tr>\n",
              "      <th>302</th>\n",
              "      <td>市川市真間</td>\n",
              "      <td>60000</td>\n",
              "      <td>1</td>\n",
              "      <td>1.0</td>\n",
              "      <td>20.37</td>\n",
              "      <td>13.0</td>\n",
              "      <td>14.0</td>\n",
              "      <td>1K</td>\n",
              "      <td>西</td>\n",
              "      <td>鉄骨造</td>\n",
              "    </tr>\n",
              "    <tr>\n",
              "      <th>303</th>\n",
              "      <td>市川市新田</td>\n",
              "      <td>72000</td>\n",
              "      <td>2</td>\n",
              "      <td>1.0</td>\n",
              "      <td>20.70</td>\n",
              "      <td>0.0</td>\n",
              "      <td>2.0</td>\n",
              "      <td>1K</td>\n",
              "      <td>東</td>\n",
              "      <td>鉄骨造</td>\n",
              "    </tr>\n",
              "  </tbody>\n",
              "</table>\n",
              "</div>\n",
              "      <button class=\"colab-df-convert\" onclick=\"convertToInteractive('df-f3358175-ddbf-4b6c-962b-d927bef5a905')\"\n",
              "              title=\"Convert this dataframe to an interactive table.\"\n",
              "              style=\"display:none;\">\n",
              "        \n",
              "  <svg xmlns=\"http://www.w3.org/2000/svg\" height=\"24px\"viewBox=\"0 0 24 24\"\n",
              "       width=\"24px\">\n",
              "    <path d=\"M0 0h24v24H0V0z\" fill=\"none\"/>\n",
              "    <path d=\"M18.56 5.44l.94 2.06.94-2.06 2.06-.94-2.06-.94-.94-2.06-.94 2.06-2.06.94zm-11 1L8.5 8.5l.94-2.06 2.06-.94-2.06-.94L8.5 2.5l-.94 2.06-2.06.94zm10 10l.94 2.06.94-2.06 2.06-.94-2.06-.94-.94-2.06-.94 2.06-2.06.94z\"/><path d=\"M17.41 7.96l-1.37-1.37c-.4-.4-.92-.59-1.43-.59-.52 0-1.04.2-1.43.59L10.3 9.45l-7.72 7.72c-.78.78-.78 2.05 0 2.83L4 21.41c.39.39.9.59 1.41.59.51 0 1.02-.2 1.41-.59l7.78-7.78 2.81-2.81c.8-.78.8-2.07 0-2.86zM5.41 20L4 18.59l7.72-7.72 1.47 1.35L5.41 20z\"/>\n",
              "  </svg>\n",
              "      </button>\n",
              "      \n",
              "  <style>\n",
              "    .colab-df-container {\n",
              "      display:flex;\n",
              "      flex-wrap:wrap;\n",
              "      gap: 12px;\n",
              "    }\n",
              "\n",
              "    .colab-df-convert {\n",
              "      background-color: #E8F0FE;\n",
              "      border: none;\n",
              "      border-radius: 50%;\n",
              "      cursor: pointer;\n",
              "      display: none;\n",
              "      fill: #1967D2;\n",
              "      height: 32px;\n",
              "      padding: 0 0 0 0;\n",
              "      width: 32px;\n",
              "    }\n",
              "\n",
              "    .colab-df-convert:hover {\n",
              "      background-color: #E2EBFA;\n",
              "      box-shadow: 0px 1px 2px rgba(60, 64, 67, 0.3), 0px 1px 3px 1px rgba(60, 64, 67, 0.15);\n",
              "      fill: #174EA6;\n",
              "    }\n",
              "\n",
              "    [theme=dark] .colab-df-convert {\n",
              "      background-color: #3B4455;\n",
              "      fill: #D2E3FC;\n",
              "    }\n",
              "\n",
              "    [theme=dark] .colab-df-convert:hover {\n",
              "      background-color: #434B5C;\n",
              "      box-shadow: 0px 1px 3px 1px rgba(0, 0, 0, 0.15);\n",
              "      filter: drop-shadow(0px 1px 2px rgba(0, 0, 0, 0.3));\n",
              "      fill: #FFFFFF;\n",
              "    }\n",
              "  </style>\n",
              "\n",
              "      <script>\n",
              "        const buttonEl =\n",
              "          document.querySelector('#df-f3358175-ddbf-4b6c-962b-d927bef5a905 button.colab-df-convert');\n",
              "        buttonEl.style.display =\n",
              "          google.colab.kernel.accessAllowed ? 'block' : 'none';\n",
              "\n",
              "        async function convertToInteractive(key) {\n",
              "          const element = document.querySelector('#df-f3358175-ddbf-4b6c-962b-d927bef5a905');\n",
              "          const dataTable =\n",
              "            await google.colab.kernel.invokeFunction('convertToInteractive',\n",
              "                                                     [key], {});\n",
              "          if (!dataTable) return;\n",
              "\n",
              "          const docLinkHtml = 'Like what you see? Visit the ' +\n",
              "            '<a target=\"_blank\" href=https://colab.research.google.com/notebooks/data_table.ipynb>data table notebook</a>'\n",
              "            + ' to learn more about interactive tables.';\n",
              "          element.innerHTML = '';\n",
              "          dataTable['output_type'] = 'display_data';\n",
              "          await google.colab.output.renderOutput(dataTable, element);\n",
              "          const docLink = document.createElement('div');\n",
              "          docLink.innerHTML = docLinkHtml;\n",
              "          element.appendChild(docLink);\n",
              "        }\n",
              "      </script>\n",
              "    </div>\n",
              "  </div>\n",
              "  "
            ],
            "text/plain": [
              "       所在地  家賃(円)  敷金(か月)  礼金(か月）  面積(㎡)  築年数(年)  駅徒歩分  間取  方位    構造\n",
              "299  市川市新田  64000       2     1.0  22.01     NaN   5.0  1R   南    木造\n",
              "300  市川市新田  52000       1     0.0  18.02    25.0  13.0  1K  南東  軽量鉄骨\n",
              "301  市川市新田  57000       1     1.0  21.70    20.0  10.0  1K   南    木造\n",
              "302  市川市真間  60000       1     1.0  20.37    13.0  14.0  1K   西   鉄骨造\n",
              "303  市川市新田  72000       2     1.0  20.70     0.0   2.0  1K   東   鉄骨造"
            ]
          },
          "metadata": {},
          "execution_count": 9
        }
      ]
    },
    {
      "cell_type": "markdown",
      "source": [
        "## 問題４　質的データの列をすべて挙げてください。つぎに、それらの列にデータが何種類あるかを調べて表示してください。"
      ],
      "metadata": {
        "id": "KTVFrSzApwHd"
      }
    },
    {
      "cell_type": "markdown",
      "source": [
        "質的データ：文字データや「0，1，2」のように狭い範囲の整数"
      ],
      "metadata": {
        "id": "lgD_uS17l90k"
      }
    },
    {
      "cell_type": "code",
      "source": [
        "df['所在地'].value_counts()"
      ],
      "metadata": {
        "colab": {
          "base_uri": "https://localhost:8080/"
        },
        "id": "5DdXlihklfbU",
        "outputId": "9e1d974d-f06c-4f70-8177-63dc7675f33d"
      },
      "execution_count": null,
      "outputs": [
        {
          "output_type": "execute_result",
          "data": {
            "text/plain": [
              "市川市新田     104\n",
              "市川市市川南     74\n",
              "市川市真間      42\n",
              "市川市大洲      30\n",
              "市川市市川      26\n",
              "市川市菅野      20\n",
              "市川市須和田      3\n",
              "市川市平田       3\n",
              "市川市大町       1\n",
              "市川市大和田      1\n",
              "Name: 所在地, dtype: int64"
            ]
          },
          "metadata": {},
          "execution_count": 10
        }
      ]
    },
    {
      "cell_type": "code",
      "source": [
        "df['敷金(か月)'].value_counts()"
      ],
      "metadata": {
        "colab": {
          "base_uri": "https://localhost:8080/"
        },
        "id": "WfcjcH41ljmT",
        "outputId": "1d52c6bb-4374-4f12-ed3c-6a0cbb0e01fb"
      },
      "execution_count": null,
      "outputs": [
        {
          "output_type": "execute_result",
          "data": {
            "text/plain": [
              "2    166\n",
              "1    129\n",
              "0      9\n",
              "Name: 敷金(か月), dtype: int64"
            ]
          },
          "metadata": {},
          "execution_count": 11
        }
      ]
    },
    {
      "cell_type": "code",
      "source": [
        "df['間取'].value_counts()"
      ],
      "metadata": {
        "colab": {
          "base_uri": "https://localhost:8080/"
        },
        "id": "vtUP2fZ8mPiu",
        "outputId": "2f08c74c-eb49-4b71-b382-5543e8599345"
      },
      "execution_count": null,
      "outputs": [
        {
          "output_type": "execute_result",
          "data": {
            "text/plain": [
              "1K     229\n",
              "1R      44\n",
              "1DK     31\n",
              "Name: 間取, dtype: int64"
            ]
          },
          "metadata": {},
          "execution_count": 12
        }
      ]
    },
    {
      "cell_type": "code",
      "source": [
        "df['方位'].value_counts()"
      ],
      "metadata": {
        "colab": {
          "base_uri": "https://localhost:8080/"
        },
        "id": "pKUYxiplmbKH",
        "outputId": "76aaafb8-388a-466c-c471-0dae9a6238d5"
      },
      "execution_count": null,
      "outputs": [
        {
          "output_type": "execute_result",
          "data": {
            "text/plain": [
              "南     167\n",
              "南東     48\n",
              "東      30\n",
              "西      26\n",
              "南西     26\n",
              "北東      4\n",
              "北       3\n",
              "Name: 方位, dtype: int64"
            ]
          },
          "metadata": {},
          "execution_count": 13
        }
      ]
    },
    {
      "cell_type": "code",
      "source": [
        "df['構造'].value_counts()"
      ],
      "metadata": {
        "colab": {
          "base_uri": "https://localhost:8080/"
        },
        "id": "vVpuT7B1mccI",
        "outputId": "7335e0e0-0806-48e4-effe-2e64a198ebee"
      },
      "execution_count": null,
      "outputs": [
        {
          "output_type": "execute_result",
          "data": {
            "text/plain": [
              "木造      249\n",
              "軽量鉄骨     44\n",
              "鉄骨造      10\n",
              "Name: 構造, dtype: int64"
            ]
          },
          "metadata": {},
          "execution_count": 14
        }
      ]
    },
    {
      "cell_type": "markdown",
      "source": [
        "## 問題５　質的データをすべてダミー化してデータ分析させるデータフレームを作成して下さい。次に、作成したデータフレームの先頭５行を表示してください。"
      ],
      "metadata": {
        "id": "JuprZpFEvEVC"
      }
    },
    {
      "cell_type": "code",
      "source": [
        "shozaichi = pd.get_dummies(df['所在地'], drop_first = True)\n",
        "df2 = pd.concat([df, shozaichi], axis = 1)\n",
        "df2 = df2.drop(['所在地'], axis = 1)"
      ],
      "metadata": {
        "id": "AAcA_5qVpkab"
      },
      "execution_count": null,
      "outputs": []
    },
    {
      "cell_type": "code",
      "source": [
        "shikikin = pd.get_dummies(df['敷金(か月)'], drop_first = True)\n",
        "df2 = pd.concat([df2, shikikin], axis = 1)\n",
        "df2 = df2.drop(['敷金(か月)'], axis = 1)"
      ],
      "metadata": {
        "id": "i4Q_QhjKpqfz"
      },
      "execution_count": null,
      "outputs": []
    },
    {
      "cell_type": "code",
      "source": [
        "madori = pd.get_dummies(df2['間取'], drop_first = True)\n",
        "df2 = pd.concat([df2, madori], axis = 1)\n",
        "df2 = df2.drop(['間取'], axis = 1)"
      ],
      "metadata": {
        "id": "aCMg8epWp8VP"
      },
      "execution_count": null,
      "outputs": []
    },
    {
      "cell_type": "code",
      "source": [
        "houi = pd.get_dummies(df2['方位'], drop_first = True)\n",
        "df2 = pd.concat([df2, houi], axis = 1)\n",
        "df2 = df2.drop(['方位'], axis = 1)"
      ],
      "metadata": {
        "id": "UKv46GS7qCjf"
      },
      "execution_count": null,
      "outputs": []
    },
    {
      "cell_type": "code",
      "source": [
        "kouzou = pd.get_dummies(df2['構造'], drop_first = True)\n",
        "df2 = pd.concat([df2, kouzou], axis = 1)\n",
        "df2 = df2.drop(['構造'], axis = 1)"
      ],
      "metadata": {
        "id": "R6Ff1UuJqGim"
      },
      "execution_count": null,
      "outputs": []
    },
    {
      "cell_type": "code",
      "source": [
        "df2.head(5)"
      ],
      "metadata": {
        "colab": {
          "base_uri": "https://localhost:8080/",
          "height": 337
        },
        "id": "IpZ1-Aj7qPbx",
        "outputId": "bdc55ee6-0ddf-48e3-959b-10a74cc1e3ce"
      },
      "execution_count": null,
      "outputs": [
        {
          "output_type": "execute_result",
          "data": {
            "text/html": [
              "\n",
              "  <div id=\"df-893511fb-28b3-4493-bc2c-c5b1d3a5377c\">\n",
              "    <div class=\"colab-df-container\">\n",
              "      <div>\n",
              "<style scoped>\n",
              "    .dataframe tbody tr th:only-of-type {\n",
              "        vertical-align: middle;\n",
              "    }\n",
              "\n",
              "    .dataframe tbody tr th {\n",
              "        vertical-align: top;\n",
              "    }\n",
              "\n",
              "    .dataframe thead th {\n",
              "        text-align: right;\n",
              "    }\n",
              "</style>\n",
              "<table border=\"1\" class=\"dataframe\">\n",
              "  <thead>\n",
              "    <tr style=\"text-align: right;\">\n",
              "      <th></th>\n",
              "      <th>家賃(円)</th>\n",
              "      <th>礼金(か月）</th>\n",
              "      <th>面積(㎡)</th>\n",
              "      <th>築年数(年)</th>\n",
              "      <th>駅徒歩分</th>\n",
              "      <th>市川市大洲</th>\n",
              "      <th>市川市大町</th>\n",
              "      <th>市川市市川</th>\n",
              "      <th>市川市市川南</th>\n",
              "      <th>市川市平田</th>\n",
              "      <th>市川市新田</th>\n",
              "      <th>市川市真間</th>\n",
              "      <th>市川市菅野</th>\n",
              "      <th>市川市須和田</th>\n",
              "      <th>1</th>\n",
              "      <th>2</th>\n",
              "      <th>1K</th>\n",
              "      <th>1R</th>\n",
              "      <th>北東</th>\n",
              "      <th>南</th>\n",
              "      <th>南東</th>\n",
              "      <th>南西</th>\n",
              "      <th>東</th>\n",
              "      <th>西</th>\n",
              "      <th>軽量鉄骨</th>\n",
              "      <th>鉄骨造</th>\n",
              "    </tr>\n",
              "  </thead>\n",
              "  <tbody>\n",
              "    <tr>\n",
              "      <th>0</th>\n",
              "      <td>60000</td>\n",
              "      <td>1.0</td>\n",
              "      <td>23.15</td>\n",
              "      <td>19.0</td>\n",
              "      <td>7.0</td>\n",
              "      <td>0</td>\n",
              "      <td>0</td>\n",
              "      <td>0</td>\n",
              "      <td>0</td>\n",
              "      <td>0</td>\n",
              "      <td>0</td>\n",
              "      <td>1</td>\n",
              "      <td>0</td>\n",
              "      <td>0</td>\n",
              "      <td>1</td>\n",
              "      <td>0</td>\n",
              "      <td>1</td>\n",
              "      <td>0</td>\n",
              "      <td>0</td>\n",
              "      <td>1</td>\n",
              "      <td>0</td>\n",
              "      <td>0</td>\n",
              "      <td>0</td>\n",
              "      <td>0</td>\n",
              "      <td>1</td>\n",
              "      <td>0</td>\n",
              "    </tr>\n",
              "    <tr>\n",
              "      <th>1</th>\n",
              "      <td>77000</td>\n",
              "      <td>1.0</td>\n",
              "      <td>23.19</td>\n",
              "      <td>16.0</td>\n",
              "      <td>2.0</td>\n",
              "      <td>0</td>\n",
              "      <td>0</td>\n",
              "      <td>0</td>\n",
              "      <td>0</td>\n",
              "      <td>0</td>\n",
              "      <td>1</td>\n",
              "      <td>0</td>\n",
              "      <td>0</td>\n",
              "      <td>0</td>\n",
              "      <td>0</td>\n",
              "      <td>1</td>\n",
              "      <td>1</td>\n",
              "      <td>0</td>\n",
              "      <td>0</td>\n",
              "      <td>0</td>\n",
              "      <td>1</td>\n",
              "      <td>0</td>\n",
              "      <td>0</td>\n",
              "      <td>0</td>\n",
              "      <td>0</td>\n",
              "      <td>0</td>\n",
              "    </tr>\n",
              "    <tr>\n",
              "      <th>2</th>\n",
              "      <td>65500</td>\n",
              "      <td>1.0</td>\n",
              "      <td>NaN</td>\n",
              "      <td>20.0</td>\n",
              "      <td>6.0</td>\n",
              "      <td>0</td>\n",
              "      <td>0</td>\n",
              "      <td>0</td>\n",
              "      <td>1</td>\n",
              "      <td>0</td>\n",
              "      <td>0</td>\n",
              "      <td>0</td>\n",
              "      <td>0</td>\n",
              "      <td>0</td>\n",
              "      <td>1</td>\n",
              "      <td>0</td>\n",
              "      <td>1</td>\n",
              "      <td>0</td>\n",
              "      <td>0</td>\n",
              "      <td>0</td>\n",
              "      <td>0</td>\n",
              "      <td>0</td>\n",
              "      <td>0</td>\n",
              "      <td>1</td>\n",
              "      <td>0</td>\n",
              "      <td>0</td>\n",
              "    </tr>\n",
              "    <tr>\n",
              "      <th>3</th>\n",
              "      <td>65000</td>\n",
              "      <td>1.0</td>\n",
              "      <td>28.92</td>\n",
              "      <td>120.0</td>\n",
              "      <td>10.0</td>\n",
              "      <td>1</td>\n",
              "      <td>0</td>\n",
              "      <td>0</td>\n",
              "      <td>0</td>\n",
              "      <td>0</td>\n",
              "      <td>0</td>\n",
              "      <td>0</td>\n",
              "      <td>0</td>\n",
              "      <td>0</td>\n",
              "      <td>0</td>\n",
              "      <td>1</td>\n",
              "      <td>0</td>\n",
              "      <td>0</td>\n",
              "      <td>0</td>\n",
              "      <td>0</td>\n",
              "      <td>1</td>\n",
              "      <td>0</td>\n",
              "      <td>0</td>\n",
              "      <td>0</td>\n",
              "      <td>0</td>\n",
              "      <td>0</td>\n",
              "    </tr>\n",
              "    <tr>\n",
              "      <th>4</th>\n",
              "      <td>60000</td>\n",
              "      <td>1.0</td>\n",
              "      <td>32.05</td>\n",
              "      <td>19.0</td>\n",
              "      <td>10.0</td>\n",
              "      <td>0</td>\n",
              "      <td>0</td>\n",
              "      <td>0</td>\n",
              "      <td>0</td>\n",
              "      <td>0</td>\n",
              "      <td>0</td>\n",
              "      <td>1</td>\n",
              "      <td>0</td>\n",
              "      <td>0</td>\n",
              "      <td>1</td>\n",
              "      <td>0</td>\n",
              "      <td>0</td>\n",
              "      <td>0</td>\n",
              "      <td>0</td>\n",
              "      <td>1</td>\n",
              "      <td>0</td>\n",
              "      <td>0</td>\n",
              "      <td>0</td>\n",
              "      <td>0</td>\n",
              "      <td>0</td>\n",
              "      <td>0</td>\n",
              "    </tr>\n",
              "  </tbody>\n",
              "</table>\n",
              "</div>\n",
              "      <button class=\"colab-df-convert\" onclick=\"convertToInteractive('df-893511fb-28b3-4493-bc2c-c5b1d3a5377c')\"\n",
              "              title=\"Convert this dataframe to an interactive table.\"\n",
              "              style=\"display:none;\">\n",
              "        \n",
              "  <svg xmlns=\"http://www.w3.org/2000/svg\" height=\"24px\"viewBox=\"0 0 24 24\"\n",
              "       width=\"24px\">\n",
              "    <path d=\"M0 0h24v24H0V0z\" fill=\"none\"/>\n",
              "    <path d=\"M18.56 5.44l.94 2.06.94-2.06 2.06-.94-2.06-.94-.94-2.06-.94 2.06-2.06.94zm-11 1L8.5 8.5l.94-2.06 2.06-.94-2.06-.94L8.5 2.5l-.94 2.06-2.06.94zm10 10l.94 2.06.94-2.06 2.06-.94-2.06-.94-.94-2.06-.94 2.06-2.06.94z\"/><path d=\"M17.41 7.96l-1.37-1.37c-.4-.4-.92-.59-1.43-.59-.52 0-1.04.2-1.43.59L10.3 9.45l-7.72 7.72c-.78.78-.78 2.05 0 2.83L4 21.41c.39.39.9.59 1.41.59.51 0 1.02-.2 1.41-.59l7.78-7.78 2.81-2.81c.8-.78.8-2.07 0-2.86zM5.41 20L4 18.59l7.72-7.72 1.47 1.35L5.41 20z\"/>\n",
              "  </svg>\n",
              "      </button>\n",
              "      \n",
              "  <style>\n",
              "    .colab-df-container {\n",
              "      display:flex;\n",
              "      flex-wrap:wrap;\n",
              "      gap: 12px;\n",
              "    }\n",
              "\n",
              "    .colab-df-convert {\n",
              "      background-color: #E8F0FE;\n",
              "      border: none;\n",
              "      border-radius: 50%;\n",
              "      cursor: pointer;\n",
              "      display: none;\n",
              "      fill: #1967D2;\n",
              "      height: 32px;\n",
              "      padding: 0 0 0 0;\n",
              "      width: 32px;\n",
              "    }\n",
              "\n",
              "    .colab-df-convert:hover {\n",
              "      background-color: #E2EBFA;\n",
              "      box-shadow: 0px 1px 2px rgba(60, 64, 67, 0.3), 0px 1px 3px 1px rgba(60, 64, 67, 0.15);\n",
              "      fill: #174EA6;\n",
              "    }\n",
              "\n",
              "    [theme=dark] .colab-df-convert {\n",
              "      background-color: #3B4455;\n",
              "      fill: #D2E3FC;\n",
              "    }\n",
              "\n",
              "    [theme=dark] .colab-df-convert:hover {\n",
              "      background-color: #434B5C;\n",
              "      box-shadow: 0px 1px 3px 1px rgba(0, 0, 0, 0.15);\n",
              "      filter: drop-shadow(0px 1px 2px rgba(0, 0, 0, 0.3));\n",
              "      fill: #FFFFFF;\n",
              "    }\n",
              "  </style>\n",
              "\n",
              "      <script>\n",
              "        const buttonEl =\n",
              "          document.querySelector('#df-893511fb-28b3-4493-bc2c-c5b1d3a5377c button.colab-df-convert');\n",
              "        buttonEl.style.display =\n",
              "          google.colab.kernel.accessAllowed ? 'block' : 'none';\n",
              "\n",
              "        async function convertToInteractive(key) {\n",
              "          const element = document.querySelector('#df-893511fb-28b3-4493-bc2c-c5b1d3a5377c');\n",
              "          const dataTable =\n",
              "            await google.colab.kernel.invokeFunction('convertToInteractive',\n",
              "                                                     [key], {});\n",
              "          if (!dataTable) return;\n",
              "\n",
              "          const docLinkHtml = 'Like what you see? Visit the ' +\n",
              "            '<a target=\"_blank\" href=https://colab.research.google.com/notebooks/data_table.ipynb>data table notebook</a>'\n",
              "            + ' to learn more about interactive tables.';\n",
              "          element.innerHTML = '';\n",
              "          dataTable['output_type'] = 'display_data';\n",
              "          await google.colab.output.renderOutput(dataTable, element);\n",
              "          const docLink = document.createElement('div');\n",
              "          docLink.innerHTML = docLinkHtml;\n",
              "          element.appendChild(docLink);\n",
              "        }\n",
              "      </script>\n",
              "    </div>\n",
              "  </div>\n",
              "  "
            ],
            "text/plain": [
              "   家賃(円)  礼金(か月）  面積(㎡)  築年数(年)  駅徒歩分  市川市大洲  市川市大町  ...  南  南東  南西  東  西  軽量鉄骨  鉄骨造\n",
              "0  60000     1.0  23.15    19.0   7.0      0      0  ...  1   0   0  0  0     1    0\n",
              "1  77000     1.0  23.19    16.0   2.0      0      0  ...  0   1   0  0  0     0    0\n",
              "2  65500     1.0    NaN    20.0   6.0      0      0  ...  0   0   0  0  1     0    0\n",
              "3  65000     1.0  28.92   120.0  10.0      1      0  ...  0   1   0  0  0     0    0\n",
              "4  60000     1.0  32.05    19.0  10.0      0      0  ...  1   0   0  0  0     0    0\n",
              "\n",
              "[5 rows x 26 columns]"
            ]
          },
          "metadata": {},
          "execution_count": 20
        }
      ]
    },
    {
      "cell_type": "markdown",
      "source": [
        "## 問題６　問題５で作成したデータフレームにおいて、訓練データ、検証データ、テストデータに分割してください。\n",
        "### ただし、訓練データとテストデータの比率は８：２、乱数シードは０とします。(訓練データ＆検証データと自己変換しました。)"
      ],
      "metadata": {
        "id": "b-V9gOievhxI"
      }
    },
    {
      "cell_type": "code",
      "source": [
        "train_val, test = train_test_split(df2,test_size = 0.2, random_state = 0)"
      ],
      "metadata": {
        "id": "Bml5UgRdrar9"
      },
      "execution_count": null,
      "outputs": []
    },
    {
      "cell_type": "markdown",
      "source": [
        "## 問題７　訓練データにおいて、欠損値を確認して表示し、平均値で穴埋めしてください。欠損値処理した訓練データの先頭５行を表示してください。"
      ],
      "metadata": {
        "id": "MghU8R4AxXCU"
      }
    },
    {
      "cell_type": "code",
      "source": [
        "train_val.isnull().sum()"
      ],
      "metadata": {
        "colab": {
          "base_uri": "https://localhost:8080/"
        },
        "id": "-4c0B1xwrfaN",
        "outputId": "69bb8e87-e575-4fd0-8881-171bfd34b48b"
      },
      "execution_count": null,
      "outputs": [
        {
          "output_type": "execute_result",
          "data": {
            "text/plain": [
              "家賃(円)     0\n",
              "礼金(か月）    0\n",
              "面積(㎡)     1\n",
              "築年数(年)    1\n",
              "駅徒歩分      1\n",
              "市川市大洲     0\n",
              "市川市大町     0\n",
              "市川市市川     0\n",
              "市川市市川南    0\n",
              "市川市平田     0\n",
              "市川市新田     0\n",
              "市川市真間     0\n",
              "市川市菅野     0\n",
              "市川市須和田    0\n",
              "1         0\n",
              "2         0\n",
              "1K        0\n",
              "1R        0\n",
              "北東        0\n",
              "南         0\n",
              "南東        0\n",
              "南西        0\n",
              "東         0\n",
              "西         0\n",
              "軽量鉄骨      0\n",
              "鉄骨造       0\n",
              "dtype: int64"
            ]
          },
          "metadata": {},
          "execution_count": 22
        }
      ]
    },
    {
      "cell_type": "code",
      "source": [
        "train_val_mean = train_val.mean() # 各列の平均値の計算\n",
        "train_val2=train_val.fillna(train_val_mean) # 平均値で穴埋め\n",
        "train_val2.head(5)"
      ],
      "metadata": {
        "colab": {
          "base_uri": "https://localhost:8080/",
          "height": 337
        },
        "id": "wQM28wizr1xT",
        "outputId": "fe1c46f2-90c5-4892-953f-5d91c2b86940"
      },
      "execution_count": null,
      "outputs": [
        {
          "output_type": "execute_result",
          "data": {
            "text/html": [
              "\n",
              "  <div id=\"df-6cc62fa2-1e00-4768-8f90-0a4ee6b55cf8\">\n",
              "    <div class=\"colab-df-container\">\n",
              "      <div>\n",
              "<style scoped>\n",
              "    .dataframe tbody tr th:only-of-type {\n",
              "        vertical-align: middle;\n",
              "    }\n",
              "\n",
              "    .dataframe tbody tr th {\n",
              "        vertical-align: top;\n",
              "    }\n",
              "\n",
              "    .dataframe thead th {\n",
              "        text-align: right;\n",
              "    }\n",
              "</style>\n",
              "<table border=\"1\" class=\"dataframe\">\n",
              "  <thead>\n",
              "    <tr style=\"text-align: right;\">\n",
              "      <th></th>\n",
              "      <th>家賃(円)</th>\n",
              "      <th>礼金(か月）</th>\n",
              "      <th>面積(㎡)</th>\n",
              "      <th>築年数(年)</th>\n",
              "      <th>駅徒歩分</th>\n",
              "      <th>市川市大洲</th>\n",
              "      <th>市川市大町</th>\n",
              "      <th>市川市市川</th>\n",
              "      <th>市川市市川南</th>\n",
              "      <th>市川市平田</th>\n",
              "      <th>市川市新田</th>\n",
              "      <th>市川市真間</th>\n",
              "      <th>市川市菅野</th>\n",
              "      <th>市川市須和田</th>\n",
              "      <th>1</th>\n",
              "      <th>2</th>\n",
              "      <th>1K</th>\n",
              "      <th>1R</th>\n",
              "      <th>北東</th>\n",
              "      <th>南</th>\n",
              "      <th>南東</th>\n",
              "      <th>南西</th>\n",
              "      <th>東</th>\n",
              "      <th>西</th>\n",
              "      <th>軽量鉄骨</th>\n",
              "      <th>鉄骨造</th>\n",
              "    </tr>\n",
              "  </thead>\n",
              "  <tbody>\n",
              "    <tr>\n",
              "      <th>176</th>\n",
              "      <td>69000</td>\n",
              "      <td>1.0</td>\n",
              "      <td>19.87</td>\n",
              "      <td>1.0</td>\n",
              "      <td>2.0</td>\n",
              "      <td>0</td>\n",
              "      <td>0</td>\n",
              "      <td>0</td>\n",
              "      <td>1</td>\n",
              "      <td>0</td>\n",
              "      <td>0</td>\n",
              "      <td>0</td>\n",
              "      <td>0</td>\n",
              "      <td>0</td>\n",
              "      <td>0</td>\n",
              "      <td>1</td>\n",
              "      <td>1</td>\n",
              "      <td>0</td>\n",
              "      <td>0</td>\n",
              "      <td>0</td>\n",
              "      <td>0</td>\n",
              "      <td>0</td>\n",
              "      <td>0</td>\n",
              "      <td>1</td>\n",
              "      <td>0</td>\n",
              "      <td>1</td>\n",
              "    </tr>\n",
              "    <tr>\n",
              "      <th>26</th>\n",
              "      <td>70000</td>\n",
              "      <td>2.0</td>\n",
              "      <td>31.53</td>\n",
              "      <td>28.0</td>\n",
              "      <td>8.0</td>\n",
              "      <td>0</td>\n",
              "      <td>0</td>\n",
              "      <td>0</td>\n",
              "      <td>0</td>\n",
              "      <td>0</td>\n",
              "      <td>1</td>\n",
              "      <td>0</td>\n",
              "      <td>0</td>\n",
              "      <td>0</td>\n",
              "      <td>0</td>\n",
              "      <td>1</td>\n",
              "      <td>0</td>\n",
              "      <td>0</td>\n",
              "      <td>0</td>\n",
              "      <td>1</td>\n",
              "      <td>0</td>\n",
              "      <td>0</td>\n",
              "      <td>0</td>\n",
              "      <td>0</td>\n",
              "      <td>0</td>\n",
              "      <td>0</td>\n",
              "    </tr>\n",
              "    <tr>\n",
              "      <th>74</th>\n",
              "      <td>65000</td>\n",
              "      <td>1.0</td>\n",
              "      <td>28.92</td>\n",
              "      <td>12.0</td>\n",
              "      <td>10.0</td>\n",
              "      <td>1</td>\n",
              "      <td>0</td>\n",
              "      <td>0</td>\n",
              "      <td>0</td>\n",
              "      <td>0</td>\n",
              "      <td>0</td>\n",
              "      <td>0</td>\n",
              "      <td>0</td>\n",
              "      <td>0</td>\n",
              "      <td>0</td>\n",
              "      <td>1</td>\n",
              "      <td>0</td>\n",
              "      <td>0</td>\n",
              "      <td>0</td>\n",
              "      <td>0</td>\n",
              "      <td>1</td>\n",
              "      <td>0</td>\n",
              "      <td>0</td>\n",
              "      <td>0</td>\n",
              "      <td>0</td>\n",
              "      <td>0</td>\n",
              "    </tr>\n",
              "    <tr>\n",
              "      <th>101</th>\n",
              "      <td>51000</td>\n",
              "      <td>1.0</td>\n",
              "      <td>20.50</td>\n",
              "      <td>20.0</td>\n",
              "      <td>2.0</td>\n",
              "      <td>0</td>\n",
              "      <td>0</td>\n",
              "      <td>1</td>\n",
              "      <td>0</td>\n",
              "      <td>0</td>\n",
              "      <td>0</td>\n",
              "      <td>0</td>\n",
              "      <td>0</td>\n",
              "      <td>0</td>\n",
              "      <td>1</td>\n",
              "      <td>0</td>\n",
              "      <td>1</td>\n",
              "      <td>0</td>\n",
              "      <td>0</td>\n",
              "      <td>1</td>\n",
              "      <td>0</td>\n",
              "      <td>0</td>\n",
              "      <td>0</td>\n",
              "      <td>0</td>\n",
              "      <td>0</td>\n",
              "      <td>0</td>\n",
              "    </tr>\n",
              "    <tr>\n",
              "      <th>154</th>\n",
              "      <td>72000</td>\n",
              "      <td>1.0</td>\n",
              "      <td>20.70</td>\n",
              "      <td>0.0</td>\n",
              "      <td>2.0</td>\n",
              "      <td>0</td>\n",
              "      <td>0</td>\n",
              "      <td>0</td>\n",
              "      <td>0</td>\n",
              "      <td>0</td>\n",
              "      <td>1</td>\n",
              "      <td>0</td>\n",
              "      <td>0</td>\n",
              "      <td>0</td>\n",
              "      <td>0</td>\n",
              "      <td>1</td>\n",
              "      <td>1</td>\n",
              "      <td>0</td>\n",
              "      <td>0</td>\n",
              "      <td>0</td>\n",
              "      <td>0</td>\n",
              "      <td>0</td>\n",
              "      <td>1</td>\n",
              "      <td>0</td>\n",
              "      <td>0</td>\n",
              "      <td>0</td>\n",
              "    </tr>\n",
              "  </tbody>\n",
              "</table>\n",
              "</div>\n",
              "      <button class=\"colab-df-convert\" onclick=\"convertToInteractive('df-6cc62fa2-1e00-4768-8f90-0a4ee6b55cf8')\"\n",
              "              title=\"Convert this dataframe to an interactive table.\"\n",
              "              style=\"display:none;\">\n",
              "        \n",
              "  <svg xmlns=\"http://www.w3.org/2000/svg\" height=\"24px\"viewBox=\"0 0 24 24\"\n",
              "       width=\"24px\">\n",
              "    <path d=\"M0 0h24v24H0V0z\" fill=\"none\"/>\n",
              "    <path d=\"M18.56 5.44l.94 2.06.94-2.06 2.06-.94-2.06-.94-.94-2.06-.94 2.06-2.06.94zm-11 1L8.5 8.5l.94-2.06 2.06-.94-2.06-.94L8.5 2.5l-.94 2.06-2.06.94zm10 10l.94 2.06.94-2.06 2.06-.94-2.06-.94-.94-2.06-.94 2.06-2.06.94z\"/><path d=\"M17.41 7.96l-1.37-1.37c-.4-.4-.92-.59-1.43-.59-.52 0-1.04.2-1.43.59L10.3 9.45l-7.72 7.72c-.78.78-.78 2.05 0 2.83L4 21.41c.39.39.9.59 1.41.59.51 0 1.02-.2 1.41-.59l7.78-7.78 2.81-2.81c.8-.78.8-2.07 0-2.86zM5.41 20L4 18.59l7.72-7.72 1.47 1.35L5.41 20z\"/>\n",
              "  </svg>\n",
              "      </button>\n",
              "      \n",
              "  <style>\n",
              "    .colab-df-container {\n",
              "      display:flex;\n",
              "      flex-wrap:wrap;\n",
              "      gap: 12px;\n",
              "    }\n",
              "\n",
              "    .colab-df-convert {\n",
              "      background-color: #E8F0FE;\n",
              "      border: none;\n",
              "      border-radius: 50%;\n",
              "      cursor: pointer;\n",
              "      display: none;\n",
              "      fill: #1967D2;\n",
              "      height: 32px;\n",
              "      padding: 0 0 0 0;\n",
              "      width: 32px;\n",
              "    }\n",
              "\n",
              "    .colab-df-convert:hover {\n",
              "      background-color: #E2EBFA;\n",
              "      box-shadow: 0px 1px 2px rgba(60, 64, 67, 0.3), 0px 1px 3px 1px rgba(60, 64, 67, 0.15);\n",
              "      fill: #174EA6;\n",
              "    }\n",
              "\n",
              "    [theme=dark] .colab-df-convert {\n",
              "      background-color: #3B4455;\n",
              "      fill: #D2E3FC;\n",
              "    }\n",
              "\n",
              "    [theme=dark] .colab-df-convert:hover {\n",
              "      background-color: #434B5C;\n",
              "      box-shadow: 0px 1px 3px 1px rgba(0, 0, 0, 0.15);\n",
              "      filter: drop-shadow(0px 1px 2px rgba(0, 0, 0, 0.3));\n",
              "      fill: #FFFFFF;\n",
              "    }\n",
              "  </style>\n",
              "\n",
              "      <script>\n",
              "        const buttonEl =\n",
              "          document.querySelector('#df-6cc62fa2-1e00-4768-8f90-0a4ee6b55cf8 button.colab-df-convert');\n",
              "        buttonEl.style.display =\n",
              "          google.colab.kernel.accessAllowed ? 'block' : 'none';\n",
              "\n",
              "        async function convertToInteractive(key) {\n",
              "          const element = document.querySelector('#df-6cc62fa2-1e00-4768-8f90-0a4ee6b55cf8');\n",
              "          const dataTable =\n",
              "            await google.colab.kernel.invokeFunction('convertToInteractive',\n",
              "                                                     [key], {});\n",
              "          if (!dataTable) return;\n",
              "\n",
              "          const docLinkHtml = 'Like what you see? Visit the ' +\n",
              "            '<a target=\"_blank\" href=https://colab.research.google.com/notebooks/data_table.ipynb>data table notebook</a>'\n",
              "            + ' to learn more about interactive tables.';\n",
              "          element.innerHTML = '';\n",
              "          dataTable['output_type'] = 'display_data';\n",
              "          await google.colab.output.renderOutput(dataTable, element);\n",
              "          const docLink = document.createElement('div');\n",
              "          docLink.innerHTML = docLinkHtml;\n",
              "          element.appendChild(docLink);\n",
              "        }\n",
              "      </script>\n",
              "    </div>\n",
              "  </div>\n",
              "  "
            ],
            "text/plain": [
              "     家賃(円)  礼金(か月）  面積(㎡)  築年数(年)  駅徒歩分  市川市大洲  ...  南東  南西  東  西  軽量鉄骨  鉄骨造\n",
              "176  69000     1.0  19.87     1.0   2.0      0  ...   0   0  0  1     0    1\n",
              "26   70000     2.0  31.53    28.0   8.0      0  ...   0   0  0  0     0    0\n",
              "74   65000     1.0  28.92    12.0  10.0      1  ...   1   0  0  0     0    0\n",
              "101  51000     1.0  20.50    20.0   2.0      0  ...   0   0  0  0     0    0\n",
              "154  72000     1.0  20.70     0.0   2.0      0  ...   0   0  1  0     0    0\n",
              "\n",
              "[5 rows x 26 columns]"
            ]
          },
          "metadata": {},
          "execution_count": 23
        }
      ]
    },
    {
      "cell_type": "markdown",
      "source": [
        "## 問題８　外れ値処理をしてください。\n",
        "### ただし、処理過程を説明できるようにセルを構成してください。"
      ],
      "metadata": {
        "id": "fgfE3xvJx-61"
      }
    },
    {
      "cell_type": "code",
      "source": [
        "# 日本語化\n",
        "import japanize_matplotlib \n",
        "colname = train_val2.columns\n",
        "for name in colname:\n",
        "    train_val2.plot(kind = 'scatter', x = name, y = '家賃(円)')"
      ],
      "metadata": {
        "colab": {
          "base_uri": "https://localhost:8080/",
          "height": 1000
        },
        "id": "siEBTM6othsy",
        "outputId": "37b4f6ce-9924-4d6a-9a62-228fe55a0072"
      },
      "execution_count": null,
      "outputs": [
        {
          "output_type": "stream",
          "name": "stderr",
          "text": [
            "/usr/local/lib/python3.7/dist-packages/pandas/plotting/_matplotlib/core.py:345: RuntimeWarning: More than 20 figures have been opened. Figures created through the pyplot interface (`matplotlib.pyplot.figure`) are retained until explicitly closed and may consume too much memory. (To control this warning, see the rcParam `figure.max_open_warning`).\n",
            "  fig = self.plt.figure(figsize=self.figsize)\n"
          ]
        },
        {
          "output_type": "display_data",
          "data": {
            "image/png": "[encoded data removed]",
            "text/plain": [
              "<Figure size 432x288 with 1 Axes>"
            ]
          },
          "metadata": {
            "needs_background": "light"
          }
        },
        {
          "output_type": "display_data",
          "data": {
            "image/png": "[encoded data removed]",
            "text/plain": [
              "<Figure size 432x288 with 1 Axes>"
            ]
          },
          "metadata": {
            "needs_background": "light"
          }
        },
        {
          "output_type": "display_data",
          "data": {
            "image/png": "[encoded data removed]",
            "text/plain": [
              "<Figure size 432x288 with 1 Axes>"
            ]
          },
          "metadata": {
            "needs_background": "light"
          }
        },
        {
          "output_type": "display_data",
          "data": {
            "image/png": "[encoded data removed]",
            "text/plain": [
              "<Figure size 432x288 with 1 Axes>"
            ]
          },
          "metadata": {
            "needs_background": "light"
          }
        },
        {
          "output_type": "display_data",
          "data": {
            "image/png": "[encoded data removed]",
            "text/plain": [
              "<Figure size 432x288 with 1 Axes>"
            ]
          },
          "metadata": {
            "needs_background": "light"
          }
        },
        {
          "output_type": "display_data",
          "data": {
            "image/png": "[encoded data removed]",
            "text/plain": [
              "<Figure size 432x288 with 1 Axes>"
            ]
          },
          "metadata": {
            "needs_background": "light"
          }
        },
        {
          "output_type": "display_data",
          "data": {
            "image/png": "[encoded data removed]",
            "text/plain": [
              "<Figure size 432x288 with 1 Axes>"
            ]
          },
          "metadata": {
            "needs_background": "light"
          }
        },
        {
          "output_type": "display_data",
          "data": {
            "image/png": "[encoded data removed]",
            "text/plain": [
              "<Figure size 432x288 with 1 Axes>"
            ]
          },
          "metadata": {
            "needs_background": "light"
          }
        },
        {
          "output_type": "display_data",
          "data": {
            "image/png": "[encoded data removed]",
            "text/plain": [
              "<Figure size 432x288 with 1 Axes>"
            ]
          },
          "metadata": {
            "needs_background": "light"
          }
        },
        {
          "output_type": "display_data",
          "data": {
            "image/png": "[encoded data removed]",
            "text/plain": [
              "<Figure size 432x288 with 1 Axes>"
            ]
          },
          "metadata": {
            "needs_background": "light"
          }
        },
        {
          "output_type": "display_data",
          "data": {
            "image/png": "[encoded data removed]",
            "text/plain": [
              "<Figure size 432x288 with 1 Axes>"
            ]
          },
          "metadata": {
            "needs_background": "light"
          }
        },
        {
          "output_type": "display_data",
          "data": {
            "image/png": "[encoded data removed]",
            "text/plain": [
              "<Figure size 432x288 with 1 Axes>"
            ]
          },
          "metadata": {
            "needs_background": "light"
          }
        },
        {
          "output_type": "display_data",
          "data": {
            "image/png": "[encoded data removed]",
            "text/plain": [
              "<Figure size 432x288 with 1 Axes>"
            ]
          },
          "metadata": {
            "needs_background": "light"
          }
        },
        {
          "output_type": "display_data",
          "data": {
            "image/png": "[encoded data removed]",
            "text/plain": [
              "<Figure size 432x288 with 1 Axes>"
            ]
          },
          "metadata": {
            "needs_background": "light"
          }
        },
        {
          "output_type": "display_data",
          "data": {
            "image/png": "[encoded data removed]",
            "text/plain": [
              "<Figure size 432x288 with 1 Axes>"
            ]
          },
          "metadata": {
            "needs_background": "light"
          }
        },
        {
          "output_type": "display_data",
          "data": {
            "image/png": "[encoded data removed]",
            "text/plain": [
              "<Figure size 432x288 with 1 Axes>"
            ]
          },
          "metadata": {
            "needs_background": "light"
          }
        },
        {
          "output_type": "display_data",
          "data": {
            "image/png": "[encoded data removed]",
            "text/plain": [
              "<Figure size 432x288 with 1 Axes>"
            ]
          },
          "metadata": {
            "needs_background": "light"
          }
        },
        {
          "output_type": "display_data",
          "data": {
            "image/png": "[encoded data removed]",
            "text/plain": [
              "<Figure size 432x288 with 1 Axes>"
            ]
          },
          "metadata": {
            "needs_background": "light"
          }
        },
        {
          "output_type": "display_data",
          "data": {
            "image/png": "[encoded data removed]",
            "text/plain": [
              "<Figure size 432x288 with 1 Axes>"
            ]
          },
          "metadata": {
            "needs_background": "light"
          }
        },
        {
          "output_type": "display_data",
          "data": {
            "image/png": "[encoded data removed]",
            "text/plain": [
              "<Figure size 432x288 with 1 Axes>"
            ]
          },
          "metadata": {
            "needs_background": "light"
          }
        },
        {
          "output_type": "display_data",
          "data": {
            "image/png": "[encoded data removed]",
            "text/plain": [
              "<Figure size 432x288 with 1 Axes>"
            ]
          },
          "metadata": {
            "needs_background": "light"
          }
        },
        {
          "output_type": "display_data",
          "data": {
            "image/png": "[encoded data removed]",
            "text/plain": [
              "<Figure size 432x288 with 1 Axes>"
            ]
          },
          "metadata": {
            "needs_background": "light"
          }
        },
        {
          "output_type": "display_data",
          "data": {
            "image/png": "[encoded data removed]",
            "text/plain": [
              "<Figure size 432x288 with 1 Axes>"
            ]
          },
          "metadata": {
            "needs_background": "light"
          }
        },
        {
          "output_type": "display_data",
          "data": {
            "image/png": "[encoded data removed]",
            "text/plain": [
              "<Figure size 432x288 with 1 Axes>"
            ]
          },
          "metadata": {
            "needs_background": "light"
          }
        },
        {
          "output_type": "display_data",
          "data": {
            "image/png": "[encoded data removed]",
            "text/plain": [
              "<Figure size 432x288 with 1 Axes>"
            ]
          },
          "metadata": {
            "needs_background": "light"
          }
        },
        {
          "output_type": "display_data",
          "data": {
            "image/png": "[encoded data removed]",
            "text/plain": [
              "<Figure size 432x288 with 1 Axes>"
            ]
          },
          "metadata": {
            "needs_background": "light"
          }
        }
      ]
    },
    {
      "cell_type": "code",
      "source": [
        "#面積(m2)が250以上、築年数が100年以上\n",
        "\n",
        "out_line1 = train_val2[(train_val2['面積(㎡)'] >= 250)].index\n",
        "\n",
        "out_line2 = train_val2[(train_val2['築年数(年)'] > 100)].index\n",
        "\n",
        "print(out_line1, out_line2)"
      ],
      "metadata": {
        "colab": {
          "base_uri": "https://localhost:8080/"
        },
        "id": "oi0H23QS4Rn9",
        "outputId": "403fc390-7dec-4a5e-bf0d-2319c06d7b78"
      },
      "execution_count": null,
      "outputs": [
        {
          "output_type": "stream",
          "name": "stdout",
          "text": [
            "Int64Index([95], dtype='int64') Int64Index([3], dtype='int64')\n"
          ]
        }
      ]
    },
    {
      "cell_type": "code",
      "source": [
        "#面積削除\n",
        "train_val3 = train_val2.drop([95], axis = 0)"
      ],
      "metadata": {
        "id": "ss8BK6s15DCs"
      },
      "execution_count": null,
      "outputs": []
    },
    {
      "cell_type": "code",
      "source": [
        "#築年数削除\n",
        "train_val4 = train_val3.drop([3], axis = 0)"
      ],
      "metadata": {
        "id": "9-aKgdNK5fyO"
      },
      "execution_count": null,
      "outputs": []
    },
    {
      "cell_type": "markdown",
      "source": [
        "## 問題９　外れ値処理の結果を表示してください。"
      ],
      "metadata": {
        "id": "jXtsYFMoybyi"
      }
    },
    {
      "cell_type": "code",
      "source": [
        "train_val4.plot(kind = 'scatter', x = '面積(㎡)', y = '家賃(円)')"
      ],
      "metadata": {
        "colab": {
          "base_uri": "https://localhost:8080/",
          "height": 295
        },
        "id": "VO0I75406D18",
        "outputId": "672339c0-bf60-434f-b5c1-d02f86a5a239"
      },
      "execution_count": null,
      "outputs": [
        {
          "output_type": "execute_result",
          "data": {
            "text/plain": [
              "<matplotlib.axes._subplots.AxesSubplot at 0x7fa9ff7cc6d0>"
            ]
          },
          "metadata": {},
          "execution_count": 28
        },
        {
          "output_type": "display_data",
          "data": {
            "image/png": "[encoded data removed]",
            "text/plain": [
              "<Figure size 432x288 with 1 Axes>"
            ]
          },
          "metadata": {
            "needs_background": "light"
          }
        }
      ]
    },
    {
      "cell_type": "code",
      "source": [
        "train_val4.plot(kind = 'scatter', x = '築年数(年)', y = '家賃(円)')"
      ],
      "metadata": {
        "colab": {
          "base_uri": "https://localhost:8080/",
          "height": 296
        },
        "id": "keQph2G96OK0",
        "outputId": "11d36e62-870c-4cd8-c48f-05e8842af334"
      },
      "execution_count": null,
      "outputs": [
        {
          "output_type": "execute_result",
          "data": {
            "text/plain": [
              "<matplotlib.axes._subplots.AxesSubplot at 0x7fa9ff2f2490>"
            ]
          },
          "metadata": {},
          "execution_count": 29
        },
        {
          "output_type": "display_data",
          "data": {
            "image/png": "[encoded data removed]",
            "text/plain": [
              "<Figure size 432x288 with 1 Axes>"
            ]
          },
          "metadata": {
            "needs_background": "light"
          }
        }
      ]
    },
    {
      "cell_type": "markdown",
      "source": [
        "## 問題１０　正解データと各特徴量の相関関係を説明できるように表示してください。"
      ],
      "metadata": {
        "id": "Hc-z-0Ksy25J"
      }
    },
    {
      "cell_type": "code",
      "source": [
        "train_cor = train_val4.corr()['家賃(円)']\n",
        "train_cor"
      ],
      "metadata": {
        "colab": {
          "base_uri": "https://localhost:8080/"
        },
        "id": "xwHcj_7Z7Q0s",
        "outputId": "31b2cd7d-2f3f-4109-d14e-753618139b9f"
      },
      "execution_count": null,
      "outputs": [
        {
          "output_type": "execute_result",
          "data": {
            "text/plain": [
              "家賃(円)     1.000000\n",
              "礼金(か月）    0.207592\n",
              "面積(㎡)     0.554909\n",
              "築年数(年)   -0.555607\n",
              "駅徒歩分     -0.366214\n",
              "市川市大洲    -0.173506\n",
              "市川市大町    -0.033703\n",
              "市川市市川    -0.281801\n",
              "市川市市川南   -0.037861\n",
              "市川市平田    -0.073220\n",
              "市川市新田     0.380378\n",
              "市川市真間     0.018408\n",
              "市川市菅野    -0.206971\n",
              "市川市須和田    0.143410\n",
              "1        -0.226254\n",
              "2         0.233202\n",
              "1K        0.142605\n",
              "1R       -0.194899\n",
              "北東       -0.031544\n",
              "南        -0.074658\n",
              "南東        0.205735\n",
              "南西        0.050751\n",
              "東        -0.093566\n",
              "西        -0.042591\n",
              "軽量鉄骨     -0.030630\n",
              "鉄骨造       0.043055\n",
              "Name: 家賃(円), dtype: float64"
            ]
          },
          "metadata": {},
          "execution_count": 30
        }
      ]
    },
    {
      "cell_type": "code",
      "source": [
        "abs_cor = train_cor.map(abs)\n",
        "abs_cor"
      ],
      "metadata": {
        "colab": {
          "base_uri": "https://localhost:8080/"
        },
        "id": "pXhIYEVd8HGV",
        "outputId": "a621e7a8-e09a-4df0-aa80-3635aedd3a3d"
      },
      "execution_count": null,
      "outputs": [
        {
          "output_type": "execute_result",
          "data": {
            "text/plain": [
              "家賃(円)     1.000000\n",
              "礼金(か月）    0.207592\n",
              "面積(㎡)     0.554909\n",
              "築年数(年)    0.555607\n",
              "駅徒歩分      0.366214\n",
              "市川市大洲     0.173506\n",
              "市川市大町     0.033703\n",
              "市川市市川     0.281801\n",
              "市川市市川南    0.037861\n",
              "市川市平田     0.073220\n",
              "市川市新田     0.380378\n",
              "市川市真間     0.018408\n",
              "市川市菅野     0.206971\n",
              "市川市須和田    0.143410\n",
              "1         0.226254\n",
              "2         0.233202\n",
              "1K        0.142605\n",
              "1R        0.194899\n",
              "北東        0.031544\n",
              "南         0.074658\n",
              "南東        0.205735\n",
              "南西        0.050751\n",
              "東         0.093566\n",
              "西         0.042591\n",
              "軽量鉄骨      0.030630\n",
              "鉄骨造       0.043055\n",
              "Name: 家賃(円), dtype: float64"
            ]
          },
          "metadata": {},
          "execution_count": 31
        }
      ]
    },
    {
      "cell_type": "code",
      "source": [
        "abs_cor.sort_values(ascending = False)"
      ],
      "metadata": {
        "colab": {
          "base_uri": "https://localhost:8080/"
        },
        "id": "hOnmYygk8JuF",
        "outputId": "bbd9e482-6e45-4485-8f4c-63579ac00e9e"
      },
      "execution_count": null,
      "outputs": [
        {
          "output_type": "execute_result",
          "data": {
            "text/plain": [
              "家賃(円)     1.000000\n",
              "築年数(年)    0.555607\n",
              "面積(㎡)     0.554909\n",
              "市川市新田     0.380378\n",
              "駅徒歩分      0.366214\n",
              "市川市市川     0.281801\n",
              "2         0.233202\n",
              "1         0.226254\n",
              "礼金(か月）    0.207592\n",
              "市川市菅野     0.206971\n",
              "南東        0.205735\n",
              "1R        0.194899\n",
              "市川市大洲     0.173506\n",
              "市川市須和田    0.143410\n",
              "1K        0.142605\n",
              "東         0.093566\n",
              "南         0.074658\n",
              "市川市平田     0.073220\n",
              "南西        0.050751\n",
              "鉄骨造       0.043055\n",
              "西         0.042591\n",
              "市川市市川南    0.037861\n",
              "市川市大町     0.033703\n",
              "北東        0.031544\n",
              "軽量鉄骨      0.030630\n",
              "市川市真間     0.018408\n",
              "Name: 家賃(円), dtype: float64"
            ]
          },
          "metadata": {},
          "execution_count": 32
        }
      ]
    },
    {
      "cell_type": "markdown",
      "source": [
        "## 問題１１　正解データと特徴量を抽出し、それぞれの先頭５行を表示してください。"
      ],
      "metadata": {
        "id": "IYkGLlzizGug"
      }
    },
    {
      "cell_type": "code",
      "source": [
        "col =['築年数(年)', '面積(㎡)','市川市新田','駅徒歩分', '市川市市川', 2,1, '礼金(か月）', '市川市菅野', '南東']\n",
        "x = train_val4[col]\n",
        "t = train_val4[['家賃(円)']]"
      ],
      "metadata": {
        "id": "FxM6AOIG8pZk"
      },
      "execution_count": null,
      "outputs": []
    },
    {
      "cell_type": "code",
      "source": [
        "x.head(5)"
      ],
      "metadata": {
        "colab": {
          "base_uri": "https://localhost:8080/",
          "height": 206
        },
        "id": "OeZ0v3vZEHN7",
        "outputId": "ee70d9da-8d29-40cb-ebd7-8f905acee3e7"
      },
      "execution_count": null,
      "outputs": [
        {
          "output_type": "execute_result",
          "data": {
            "text/html": [
              "\n",
              "  <div id=\"df-39c57504-581b-4e31-a087-fc9622cc1735\">\n",
              "    <div class=\"colab-df-container\">\n",
              "      <div>\n",
              "<style scoped>\n",
              "    .dataframe tbody tr th:only-of-type {\n",
              "        vertical-align: middle;\n",
              "    }\n",
              "\n",
              "    .dataframe tbody tr th {\n",
              "        vertical-align: top;\n",
              "    }\n",
              "\n",
              "    .dataframe thead th {\n",
              "        text-align: right;\n",
              "    }\n",
              "</style>\n",
              "<table border=\"1\" class=\"dataframe\">\n",
              "  <thead>\n",
              "    <tr style=\"text-align: right;\">\n",
              "      <th></th>\n",
              "      <th>築年数(年)</th>\n",
              "      <th>面積(㎡)</th>\n",
              "      <th>市川市新田</th>\n",
              "      <th>駅徒歩分</th>\n",
              "      <th>市川市市川</th>\n",
              "      <th>2</th>\n",
              "      <th>1</th>\n",
              "      <th>礼金(か月）</th>\n",
              "      <th>市川市菅野</th>\n",
              "      <th>南東</th>\n",
              "    </tr>\n",
              "  </thead>\n",
              "  <tbody>\n",
              "    <tr>\n",
              "      <th>176</th>\n",
              "      <td>1.0</td>\n",
              "      <td>19.87</td>\n",
              "      <td>0</td>\n",
              "      <td>2.0</td>\n",
              "      <td>0</td>\n",
              "      <td>1</td>\n",
              "      <td>0</td>\n",
              "      <td>1.0</td>\n",
              "      <td>0</td>\n",
              "      <td>0</td>\n",
              "    </tr>\n",
              "    <tr>\n",
              "      <th>26</th>\n",
              "      <td>28.0</td>\n",
              "      <td>31.53</td>\n",
              "      <td>1</td>\n",
              "      <td>8.0</td>\n",
              "      <td>0</td>\n",
              "      <td>1</td>\n",
              "      <td>0</td>\n",
              "      <td>2.0</td>\n",
              "      <td>0</td>\n",
              "      <td>0</td>\n",
              "    </tr>\n",
              "    <tr>\n",
              "      <th>74</th>\n",
              "      <td>12.0</td>\n",
              "      <td>28.92</td>\n",
              "      <td>0</td>\n",
              "      <td>10.0</td>\n",
              "      <td>0</td>\n",
              "      <td>1</td>\n",
              "      <td>0</td>\n",
              "      <td>1.0</td>\n",
              "      <td>0</td>\n",
              "      <td>1</td>\n",
              "    </tr>\n",
              "    <tr>\n",
              "      <th>101</th>\n",
              "      <td>20.0</td>\n",
              "      <td>20.50</td>\n",
              "      <td>0</td>\n",
              "      <td>2.0</td>\n",
              "      <td>1</td>\n",
              "      <td>0</td>\n",
              "      <td>1</td>\n",
              "      <td>1.0</td>\n",
              "      <td>0</td>\n",
              "      <td>0</td>\n",
              "    </tr>\n",
              "    <tr>\n",
              "      <th>154</th>\n",
              "      <td>0.0</td>\n",
              "      <td>20.70</td>\n",
              "      <td>1</td>\n",
              "      <td>2.0</td>\n",
              "      <td>0</td>\n",
              "      <td>1</td>\n",
              "      <td>0</td>\n",
              "      <td>1.0</td>\n",
              "      <td>0</td>\n",
              "      <td>0</td>\n",
              "    </tr>\n",
              "  </tbody>\n",
              "</table>\n",
              "</div>\n",
              "      <button class=\"colab-df-convert\" onclick=\"convertToInteractive('df-39c57504-581b-4e31-a087-fc9622cc1735')\"\n",
              "              title=\"Convert this dataframe to an interactive table.\"\n",
              "              style=\"display:none;\">\n",
              "        \n",
              "  <svg xmlns=\"http://www.w3.org/2000/svg\" height=\"24px\"viewBox=\"0 0 24 24\"\n",
              "       width=\"24px\">\n",
              "    <path d=\"M0 0h24v24H0V0z\" fill=\"none\"/>\n",
              "    <path d=\"M18.56 5.44l.94 2.06.94-2.06 2.06-.94-2.06-.94-.94-2.06-.94 2.06-2.06.94zm-11 1L8.5 8.5l.94-2.06 2.06-.94-2.06-.94L8.5 2.5l-.94 2.06-2.06.94zm10 10l.94 2.06.94-2.06 2.06-.94-2.06-.94-.94-2.06-.94 2.06-2.06.94z\"/><path d=\"M17.41 7.96l-1.37-1.37c-.4-.4-.92-.59-1.43-.59-.52 0-1.04.2-1.43.59L10.3 9.45l-7.72 7.72c-.78.78-.78 2.05 0 2.83L4 21.41c.39.39.9.59 1.41.59.51 0 1.02-.2 1.41-.59l7.78-7.78 2.81-2.81c.8-.78.8-2.07 0-2.86zM5.41 20L4 18.59l7.72-7.72 1.47 1.35L5.41 20z\"/>\n",
              "  </svg>\n",
              "      </button>\n",
              "      \n",
              "  <style>\n",
              "    .colab-df-container {\n",
              "      display:flex;\n",
              "      flex-wrap:wrap;\n",
              "      gap: 12px;\n",
              "    }\n",
              "\n",
              "    .colab-df-convert {\n",
              "      background-color: #E8F0FE;\n",
              "      border: none;\n",
              "      border-radius: 50%;\n",
              "      cursor: pointer;\n",
              "      display: none;\n",
              "      fill: #1967D2;\n",
              "      height: 32px;\n",
              "      padding: 0 0 0 0;\n",
              "      width: 32px;\n",
              "    }\n",
              "\n",
              "    .colab-df-convert:hover {\n",
              "      background-color: #E2EBFA;\n",
              "      box-shadow: 0px 1px 2px rgba(60, 64, 67, 0.3), 0px 1px 3px 1px rgba(60, 64, 67, 0.15);\n",
              "      fill: #174EA6;\n",
              "    }\n",
              "\n",
              "    [theme=dark] .colab-df-convert {\n",
              "      background-color: #3B4455;\n",
              "      fill: #D2E3FC;\n",
              "    }\n",
              "\n",
              "    [theme=dark] .colab-df-convert:hover {\n",
              "      background-color: #434B5C;\n",
              "      box-shadow: 0px 1px 3px 1px rgba(0, 0, 0, 0.15);\n",
              "      filter: drop-shadow(0px 1px 2px rgba(0, 0, 0, 0.3));\n",
              "      fill: #FFFFFF;\n",
              "    }\n",
              "  </style>\n",
              "\n",
              "      <script>\n",
              "        const buttonEl =\n",
              "          document.querySelector('#df-39c57504-581b-4e31-a087-fc9622cc1735 button.colab-df-convert');\n",
              "        buttonEl.style.display =\n",
              "          google.colab.kernel.accessAllowed ? 'block' : 'none';\n",
              "\n",
              "        async function convertToInteractive(key) {\n",
              "          const element = document.querySelector('#df-39c57504-581b-4e31-a087-fc9622cc1735');\n",
              "          const dataTable =\n",
              "            await google.colab.kernel.invokeFunction('convertToInteractive',\n",
              "                                                     [key], {});\n",
              "          if (!dataTable) return;\n",
              "\n",
              "          const docLinkHtml = 'Like what you see? Visit the ' +\n",
              "            '<a target=\"_blank\" href=https://colab.research.google.com/notebooks/data_table.ipynb>data table notebook</a>'\n",
              "            + ' to learn more about interactive tables.';\n",
              "          element.innerHTML = '';\n",
              "          dataTable['output_type'] = 'display_data';\n",
              "          await google.colab.output.renderOutput(dataTable, element);\n",
              "          const docLink = document.createElement('div');\n",
              "          docLink.innerHTML = docLinkHtml;\n",
              "          element.appendChild(docLink);\n",
              "        }\n",
              "      </script>\n",
              "    </div>\n",
              "  </div>\n",
              "  "
            ],
            "text/plain": [
              "     築年数(年)  面積(㎡)  市川市新田  駅徒歩分  市川市市川  2  1  礼金(か月）  市川市菅野  南東\n",
              "176     1.0  19.87      0   2.0      0  1  0     1.0      0   0\n",
              "26     28.0  31.53      1   8.0      0  1  0     2.0      0   0\n",
              "74     12.0  28.92      0  10.0      0  1  0     1.0      0   1\n",
              "101    20.0  20.50      0   2.0      1  0  1     1.0      0   0\n",
              "154     0.0  20.70      1   2.0      0  1  0     1.0      0   0"
            ]
          },
          "metadata": {},
          "execution_count": 34
        }
      ]
    },
    {
      "cell_type": "code",
      "source": [
        "t.head(5)"
      ],
      "metadata": {
        "colab": {
          "base_uri": "https://localhost:8080/",
          "height": 206
        },
        "id": "DUpnuZ1TEKdL",
        "outputId": "97dc6a1e-7176-4f1c-f158-75466e130183"
      },
      "execution_count": null,
      "outputs": [
        {
          "output_type": "execute_result",
          "data": {
            "text/html": [
              "\n",
              "  <div id=\"df-4db2f04b-8fb8-4e28-8a66-dc45ea791d27\">\n",
              "    <div class=\"colab-df-container\">\n",
              "      <div>\n",
              "<style scoped>\n",
              "    .dataframe tbody tr th:only-of-type {\n",
              "        vertical-align: middle;\n",
              "    }\n",
              "\n",
              "    .dataframe tbody tr th {\n",
              "        vertical-align: top;\n",
              "    }\n",
              "\n",
              "    .dataframe thead th {\n",
              "        text-align: right;\n",
              "    }\n",
              "</style>\n",
              "<table border=\"1\" class=\"dataframe\">\n",
              "  <thead>\n",
              "    <tr style=\"text-align: right;\">\n",
              "      <th></th>\n",
              "      <th>家賃(円)</th>\n",
              "    </tr>\n",
              "  </thead>\n",
              "  <tbody>\n",
              "    <tr>\n",
              "      <th>176</th>\n",
              "      <td>69000</td>\n",
              "    </tr>\n",
              "    <tr>\n",
              "      <th>26</th>\n",
              "      <td>70000</td>\n",
              "    </tr>\n",
              "    <tr>\n",
              "      <th>74</th>\n",
              "      <td>65000</td>\n",
              "    </tr>\n",
              "    <tr>\n",
              "      <th>101</th>\n",
              "      <td>51000</td>\n",
              "    </tr>\n",
              "    <tr>\n",
              "      <th>154</th>\n",
              "      <td>72000</td>\n",
              "    </tr>\n",
              "  </tbody>\n",
              "</table>\n",
              "</div>\n",
              "      <button class=\"colab-df-convert\" onclick=\"convertToInteractive('df-4db2f04b-8fb8-4e28-8a66-dc45ea791d27')\"\n",
              "              title=\"Convert this dataframe to an interactive table.\"\n",
              "              style=\"display:none;\">\n",
              "        \n",
              "  <svg xmlns=\"http://www.w3.org/2000/svg\" height=\"24px\"viewBox=\"0 0 24 24\"\n",
              "       width=\"24px\">\n",
              "    <path d=\"M0 0h24v24H0V0z\" fill=\"none\"/>\n",
              "    <path d=\"M18.56 5.44l.94 2.06.94-2.06 2.06-.94-2.06-.94-.94-2.06-.94 2.06-2.06.94zm-11 1L8.5 8.5l.94-2.06 2.06-.94-2.06-.94L8.5 2.5l-.94 2.06-2.06.94zm10 10l.94 2.06.94-2.06 2.06-.94-2.06-.94-.94-2.06-.94 2.06-2.06.94z\"/><path d=\"M17.41 7.96l-1.37-1.37c-.4-.4-.92-.59-1.43-.59-.52 0-1.04.2-1.43.59L10.3 9.45l-7.72 7.72c-.78.78-.78 2.05 0 2.83L4 21.41c.39.39.9.59 1.41.59.51 0 1.02-.2 1.41-.59l7.78-7.78 2.81-2.81c.8-.78.8-2.07 0-2.86zM5.41 20L4 18.59l7.72-7.72 1.47 1.35L5.41 20z\"/>\n",
              "  </svg>\n",
              "      </button>\n",
              "      \n",
              "  <style>\n",
              "    .colab-df-container {\n",
              "      display:flex;\n",
              "      flex-wrap:wrap;\n",
              "      gap: 12px;\n",
              "    }\n",
              "\n",
              "    .colab-df-convert {\n",
              "      background-color: #E8F0FE;\n",
              "      border: none;\n",
              "      border-radius: 50%;\n",
              "      cursor: pointer;\n",
              "      display: none;\n",
              "      fill: #1967D2;\n",
              "      height: 32px;\n",
              "      padding: 0 0 0 0;\n",
              "      width: 32px;\n",
              "    }\n",
              "\n",
              "    .colab-df-convert:hover {\n",
              "      background-color: #E2EBFA;\n",
              "      box-shadow: 0px 1px 2px rgba(60, 64, 67, 0.3), 0px 1px 3px 1px rgba(60, 64, 67, 0.15);\n",
              "      fill: #174EA6;\n",
              "    }\n",
              "\n",
              "    [theme=dark] .colab-df-convert {\n",
              "      background-color: #3B4455;\n",
              "      fill: #D2E3FC;\n",
              "    }\n",
              "\n",
              "    [theme=dark] .colab-df-convert:hover {\n",
              "      background-color: #434B5C;\n",
              "      box-shadow: 0px 1px 3px 1px rgba(0, 0, 0, 0.15);\n",
              "      filter: drop-shadow(0px 1px 2px rgba(0, 0, 0, 0.3));\n",
              "      fill: #FFFFFF;\n",
              "    }\n",
              "  </style>\n",
              "\n",
              "      <script>\n",
              "        const buttonEl =\n",
              "          document.querySelector('#df-4db2f04b-8fb8-4e28-8a66-dc45ea791d27 button.colab-df-convert');\n",
              "        buttonEl.style.display =\n",
              "          google.colab.kernel.accessAllowed ? 'block' : 'none';\n",
              "\n",
              "        async function convertToInteractive(key) {\n",
              "          const element = document.querySelector('#df-4db2f04b-8fb8-4e28-8a66-dc45ea791d27');\n",
              "          const dataTable =\n",
              "            await google.colab.kernel.invokeFunction('convertToInteractive',\n",
              "                                                     [key], {});\n",
              "          if (!dataTable) return;\n",
              "\n",
              "          const docLinkHtml = 'Like what you see? Visit the ' +\n",
              "            '<a target=\"_blank\" href=https://colab.research.google.com/notebooks/data_table.ipynb>data table notebook</a>'\n",
              "            + ' to learn more about interactive tables.';\n",
              "          element.innerHTML = '';\n",
              "          dataTable['output_type'] = 'display_data';\n",
              "          await google.colab.output.renderOutput(dataTable, element);\n",
              "          const docLink = document.createElement('div');\n",
              "          docLink.innerHTML = docLinkHtml;\n",
              "          element.appendChild(docLink);\n",
              "        }\n",
              "      </script>\n",
              "    </div>\n",
              "  </div>\n",
              "  "
            ],
            "text/plain": [
              "     家賃(円)\n",
              "176  69000\n",
              "26   70000\n",
              "74   65000\n",
              "101  51000\n",
              "154  72000"
            ]
          },
          "metadata": {},
          "execution_count": 35
        }
      ]
    },
    {
      "cell_type": "markdown",
      "source": [
        "## 問題１２　問題１１で抽出した正解データと特徴量を使用して、訓練データと検証データに分割してください。\n",
        "### ただし、訓練データと検証データの比率は８：２、乱数シードは０とします。"
      ],
      "metadata": {
        "id": "B0ZbGXyOzUaw"
      }
    },
    {
      "cell_type": "code",
      "source": [
        "#訓練データと検証データに分割\n",
        "x_train, x_val, y_train, y_val = train_test_split(x, t,\n",
        "    test_size = 0.2, random_state = 0)"
      ],
      "metadata": {
        "id": "movuVmPDERWj"
      },
      "execution_count": null,
      "outputs": []
    },
    {
      "cell_type": "markdown",
      "source": [
        "## 問題１３　線形重回帰モデルを使用して学習さて、検証データで決定係数を求めて表示してください。"
      ],
      "metadata": {
        "id": "16uh7U0QzvpA"
      }
    },
    {
      "cell_type": "code",
      "source": [
        "from sklearn.preprocessing import StandardScaler\n",
        "\n",
        "sc_model_x = StandardScaler()\n",
        "sc_model_x.fit(x_train)\n",
        "\n",
        "# 各列のデータを標準化してsc_xに代入\n",
        "sc_x = sc_model_x.transform(x_train)\n",
        "sc_x # 表示"
      ],
      "metadata": {
        "colab": {
          "base_uri": "https://localhost:8080/"
        },
        "id": "mdKmOjpwEgwc",
        "outputId": "6fec17a8-65d7-425a-cb7f-9f16e39f7902"
      },
      "execution_count": null,
      "outputs": [
        {
          "output_type": "stream",
          "name": "stderr",
          "text": [
            "/usr/local/lib/python3.7/dist-packages/sklearn/utils/validation.py:1692: FutureWarning: Feature names only support names that are all strings. Got feature names with dtypes: ['int', 'str']. An error will be raised in 1.2.\n",
            "  FutureWarning,\n",
            "/usr/local/lib/python3.7/dist-packages/sklearn/utils/validation.py:1692: FutureWarning: Feature names only support names that are all strings. Got feature names with dtypes: ['int', 'str']. An error will be raised in 1.2.\n",
            "  FutureWarning,\n"
          ]
        },
        {
          "output_type": "execute_result",
          "data": {
            "text/plain": [
              "array([[ 0.00833804, -0.72804351, -0.67419986, ...,  2.42883983,\n",
              "        -0.28044908, -0.45557345],\n",
              "       [ 0.00833804, -0.28916014,  1.4832397 , ...,  0.04956816,\n",
              "        -0.28044908, -0.45557345],\n",
              "       [ 0.248896  , -0.58174905, -0.67419986, ...,  0.04956816,\n",
              "        -0.28044908, -0.45557345],\n",
              "       ...,\n",
              "       [-1.91612563,  1.14452554,  1.4832397 , ...,  2.42883983,\n",
              "        -0.28044908, -0.45557345],\n",
              "       [-0.3524989 ,  1.73214161, -0.67419986, ...,  0.04956816,\n",
              "        -0.28044908, -0.45557345],\n",
              "       [ 2.65447557,  0.52521234, -0.67419986, ..., -2.32970351,\n",
              "        -0.28044908,  2.19503572]])"
            ]
          },
          "metadata": {},
          "execution_count": 37
        }
      ]
    },
    {
      "cell_type": "code",
      "source": [
        "# array 型だと見づらいのでデータフレームに変換\n",
        "tmp_df = pd.DataFrame(sc_x, columns = x_train.columns)\n",
        "# 平均値の計算\n",
        "tmp_df.mean()"
      ],
      "metadata": {
        "colab": {
          "base_uri": "https://localhost:8080/"
        },
        "id": "gG2E-_KEEx5C",
        "outputId": "ffc5d475-56e4-4266-e928-86289e51d990"
      },
      "execution_count": null,
      "outputs": [
        {
          "output_type": "execute_result",
          "data": {
            "text/plain": [
              "築年数(年)   -8.095376e-17\n",
              "面積(㎡)    -5.267777e-16\n",
              "市川市新田     1.676899e-16\n",
              "駅徒歩分     -4.163336e-17\n",
              "市川市市川    -1.329955e-17\n",
              "2         1.156482e-18\n",
              "1         2.046974e-16\n",
              "礼金(か月）    9.945748e-17\n",
              "市川市菅野    -9.078386e-17\n",
              "南東       -2.775558e-17\n",
              "dtype: float64"
            ]
          },
          "metadata": {},
          "execution_count": 38
        }
      ]
    },
    {
      "cell_type": "code",
      "source": [
        "tmp_df.std() # 標準偏差の計算"
      ],
      "metadata": {
        "colab": {
          "base_uri": "https://localhost:8080/"
        },
        "id": "YFEtW_y5E2ui",
        "outputId": "bcc68bf4-3f55-4a73-e653-0c245f37310c"
      },
      "execution_count": null,
      "outputs": [
        {
          "output_type": "execute_result",
          "data": {
            "text/plain": [
              "築年数(年)    1.002614\n",
              "面積(㎡)     1.002614\n",
              "市川市新田     1.002614\n",
              "駅徒歩分      1.002614\n",
              "市川市市川     1.002614\n",
              "2         1.002614\n",
              "1         1.002614\n",
              "礼金(か月）    1.002614\n",
              "市川市菅野     1.002614\n",
              "南東        1.002614\n",
              "dtype: float64"
            ]
          },
          "metadata": {},
          "execution_count": 39
        }
      ]
    },
    {
      "cell_type": "code",
      "source": [
        "sc_model_y = StandardScaler()\n",
        "sc_model_y.fit(y_train)\n",
        "\n",
        "sc_y = sc_model_y.transform(y_train)"
      ],
      "metadata": {
        "id": "FxJbbi1fE6sb"
      },
      "execution_count": null,
      "outputs": []
    },
    {
      "cell_type": "code",
      "source": [
        "model = LinearRegression()\n",
        "model.fit(sc_x, sc_y)"
      ],
      "metadata": {
        "colab": {
          "base_uri": "https://localhost:8080/"
        },
        "id": "A8IJ1BKEFISa",
        "outputId": "28c94819-b7a2-4d21-e2ca-7d4cb6cf2c34"
      },
      "execution_count": null,
      "outputs": [
        {
          "output_type": "execute_result",
          "data": {
            "text/plain": [
              "LinearRegression()"
            ]
          },
          "metadata": {},
          "execution_count": 41
        }
      ]
    },
    {
      "cell_type": "code",
      "source": [
        "sc_x_val = sc_model_x.transform(x_val)\n",
        "sc_y_val = sc_model_y.transform(y_val)\n",
        "# 標準化した検証データで決定係数を計算\n",
        "model.score(sc_x_val, sc_y_val)"
      ],
      "metadata": {
        "colab": {
          "base_uri": "https://localhost:8080/"
        },
        "id": "jRx-es9GGD6p",
        "outputId": "50c31234-e40f-41db-b45f-d3b4f6ae8ce3"
      },
      "execution_count": null,
      "outputs": [
        {
          "output_type": "stream",
          "name": "stderr",
          "text": [
            "/usr/local/lib/python3.7/dist-packages/sklearn/utils/validation.py:1692: FutureWarning: Feature names only support names that are all strings. Got feature names with dtypes: ['int', 'str']. An error will be raised in 1.2.\n",
            "  FutureWarning,\n"
          ]
        },
        {
          "output_type": "execute_result",
          "data": {
            "text/plain": [
              "0.5793887354765959"
            ]
          },
          "metadata": {},
          "execution_count": 42
        }
      ]
    },
    {
      "cell_type": "markdown",
      "source": [
        "## 問題１４　問題１３で学習したモデルを使用して以下のデータを使用して家賃がいくらになるか予測させてください。\n",
        "### 予測させるデータは以下の通りです。\n",
        "#### 敷金：１か月\n",
        "#### 礼金；１か月\n",
        "#### 面積：３０㎡\n",
        "#### 築年数：３年\n",
        "#### 駅徒歩分：１０分\n",
        "#### 所在地：市川市新田\n",
        "#### 間取：１DK\n",
        "#### 方位：南向き\n",
        "#### 構造：鉄骨造\n"
      ],
      "metadata": {
        "id": "z0YIiiBa0f-f"
      }
    },
    {
      "cell_type": "code",
      "source": [
        "sc_model_x2 = sc_model_x.inverse_transform(sc_x)\n",
        "sc_model_y2 = sc_model_y.inverse_transform(sc_y)\n",
        "model2 = LinearRegression()\n",
        "model2.fit(sc_model_x2, sc_model_y2)\n",
        "new = [[3, 30, 1, 10, 0,0, 1, 1, 0, 0]]\n",
        "model2.predict(new)"
      ],
      "metadata": {
        "colab": {
          "base_uri": "https://localhost:8080/"
        },
        "id": "ZrYg_66EfzhP",
        "outputId": "4fd09b24-4600-47fb-b888-bbc007e6cbdb"
      },
      "execution_count": null,
      "outputs": [
        {
          "output_type": "execute_result",
          "data": {
            "text/plain": [
              "array([[74911.57026705]])"
            ]
          },
          "metadata": {},
          "execution_count": 43
        }
      ]
    },
    {
      "cell_type": "markdown",
      "source": [
        "## 問題１５　特徴量エンジニアリングで訓練データと検証データの決定係数が特徴量エンジニアリングを行う前より良くなるようにしてください。\n",
        "### ただし、特徴量エンジニアリングの過程が理解できるようにセルを構成してください。"
      ],
      "metadata": {
        "id": "8p44MGFX6K9q"
      }
    },
    {
      "cell_type": "markdown",
      "source": [
        "## 問題１６　チューニング結果を受けて、データの標準化後再学習をしてください。"
      ],
      "metadata": {
        "id": "9uFQCjI-OFp1"
      }
    },
    {
      "cell_type": "markdown",
      "source": [
        "## 問題１７　テストデータを使用してモデルを評価してください。\n",
        "## ただし、決定係数の値が 0.65 以上となるようにしてください。"
      ],
      "metadata": {
        "id": "5ILwXXWIPARS"
      }
    },
    {
      "cell_type": "markdown",
      "source": [
        "## 問題１８　モデルとStandardScalerオブジェクトを保存してください。\n",
        "### ただし、モデルは house_rent.pkl、StandardScalerオブジェクトは house_rent_scx と house_rent_scy とします。"
      ],
      "metadata": {
        "id": "UhXbYFJtPs3g"
      }
    }
  ]
}