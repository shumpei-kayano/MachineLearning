{
  "nbformat": 4,
  "nbformat_minor": 0,
  "metadata": {
    "colab": {
      "name": "ml_ex_2_stu.ipynb",
      "provenance": [],
      "collapsed_sections": []
    },
    "kernelspec": {
      "name": "python3",
      "display_name": "Python 3"
    },
    "language_info": {
      "name": "python"
    }
  },
  "cells": [
    {
      "cell_type": "markdown",
      "metadata": {
        "id": "UafVA-Gk9jO4"
      },
      "source": [
        "# 機械学習　第５章　実習問題（分類：決定木）"
      ]
    },
    {
      "cell_type": "markdown",
      "metadata": {
        "id": "cR2A2VFC9YY7"
      },
      "source": [
        "### ※ 準備作業\n",
        "### ⓵ドライブのマウント\n",
        "### ⓶ディレクトリの作成\n",
        "### ⓷作成したディレクトリへの移動\n",
        "### ⓸csvファイル wine.csvのアップロード"
      ]
    },
    {
      "cell_type": "markdown",
      "metadata": {
        "id": "CSfzgjpQG0YT"
      },
      "source": [
        "### ※ 使用するデータ（wine.csv）\n",
        "\n",
        "![ml_ex_1_run1.PNG](data:image/png;base64,iVBORw0KGgoAAAANSUhEUgAAAnwAAAFBCAYAAADt4XK4AAAAAXNSR0IArs4c6QAAAARnQU1BAACxjwv8YQUAAAAJcEhZcwAADsMAAA7DAcdvqGQAAGArSURBVHhe7Z1Nkus8jq7Pgipy1hOvoiJ7AzXStAZZa6hZR/j0Mr7JiZ54CXd0o0c58yLuEnwBkiAhEpQoZfonhZcRT+iYgmDZLwFClNLn181on5+f6V9oXho099egub8Gzf01aO6v9TRHwYcWGjT316C5vwbN/TVo7q/1NEfBhxYaNPfXoLm/Bs39NWjur/U0bwq+X79+AQAAAACAH4rVfnElqLEOBAAAAAAAP4O6tgv1XSr8chPj//P//hc4QfSG7n6A5v6A5v6A5v5grRmroeADWW/o7gdo7g9o7g9o7g/WmrEaCj6Q9YbufoDm/oDm/oDm/mCtGauh4ANZb+juB2juD2juD2juD9aasRoKPpD1hu5+gOb+gOb+gOb+YK0Zq6HgA1lv6D7IX/95+9t//Oftv/6XX//P7b/++m+Tv6xjXwRo7g9o7g9obvPX//5PwNr302GtGauh4HsCMtgK/33753/Q9/4f/zL2qWPZ7i8apP/7r9vfSKO//0V9XFyQXfD77zfyIYXIOKL3S+kePuPb7W//0IXT/6Tvaftn/B6ouPtHOicu+nibtJC4Kbzd/snnmD4Ha5WPMX0/FtFati+D6P7vByRj0uPvHE9V/3/9g/QjnXj/r1801qr9Fqxt0J2PM/a/Ai+r+RrfMCZCbuQ4fMS4eiF+rOYdeK60Lq4Lrb7xmH/d/k65O+bl/779nWPVJOXtysdPQj6L1b6n4JNkN0Sc/Ew/mTix/+0/ftKXP3jO3QKhh5pwwvdM/mnwxoIvFUBpkgkTFReNYj8Iv4/evgYpKGcTaPq8S5MwfUe8+na/cRPPoSkUWJt//Iv2Ff25YP9nKB7+FZPRv+ncms/0HF5Tc9GXc8T8wse2r+ALIi7I+TsWSA+7yI7FO9vw/pG4XC440rnviL9HwZ9Bb38GXxwTjNaWLxYtm4PyMzXvE+Y40dKiya0yfiJ/C7lYjSOZSym2+TXn6U1j6wWRz2q17yn4uGKmQPr7P5aRoAsJtvHBXzwl55Qwo7ADwTlYbK4XmTvYc84p+eTJI0xSVKDI+clro2AJA/LfvLokg5RtaQAH21ggxVUnHrzxime2QtiBvx+9fQ32FHxlEmeWJui/+Lup+laTScB475A4VMEXEkp9FcnjhIsPucqsfDwYPie9fQXiKoz+zgrWSpwmrJ4GWyoM6HvmYzi5lwLQ/s75PUvBF214HISxE/pY7zju1laY5Pz5XP/r3/+i8+D3HchhD4LPTW9/Al8ZE4GUb4P+KW8u3iGQnE651dz/w+DvSW9/OiFHmxdVaW6wagsm1Akc3/MCsMdd6oUHIZ/Bat9T8BnwhKcr5XzLo3sFPJ/ghws+ClCruMwEce81we4455SAePIIhZlarSuvOTml13LeOXFZ0Ht2Ct+Rgct2evsa7Cn4InmsdT5/3N+OCf7uzTGUiN9//d6dBJLO+69/07FcKNB78oUBH/vXyER1Z/gc9fbZ5Ild5wcZ870kLiS9ZSWvFF5pfy6+59qFCyJ5Le+VikUeH38TXaWArAu+We5R9gouOu1893j4fPT21fnSmCD0RUCO9ZxH44phfYyddxSsOY2HoWLzBfhpmq+xueCjOTTeXeGxRLrxgonO+2k8/OQCrybEDGG1uxV8sfiJX2S5SluYqKtAHi74VojvfaeCb885p2P+lguIFarBHZIYrxSF/XF14i9JUmK7cRDz++jta7C/4AukAqtJDKk42D4meu8d+//+b/rOwwofT/5SHMTPEP7N7xtWFqL92mrRvXkdzfWqLF/oxJXp8MxN00fQ9zc/vh0nMQ7n+rZFYIpdWe0Jr+MxfHzQJ/Sx3h3NxIfAcRnGyGsWBKK1bF+XL44JLvCDDkkLmuSzLSOPVjCkf3guOh9v5R2N5IGfUSSI1rL96YTYDppVmvLYYF1q3XK+L/yd7OM4svnpxZ98DqvdueDjBJqCVxKrYRuQ5JkE6xVPfKukre77dAu+MAFzgh7DHAR7zjkdU088zQpffb6SxLiISSsWfAwnLy4wom7pvcMgN3x0EL2/Q/fvw0q8vaJrjLLy19Fzkd57x/6m4KNtGBuklznJDGpzL15G8zT+rdUxkyqht/GddKqL/SpWdV8YC7J/gbEiPY1b62LjyfBn0NuX5QtjYhbjpFdZbJjDWvLqu2hetLXyToWMlRfUuIY/m97+dOIcu0BHEzku6izzJ+3TOUD3Gz5+CvJdWO0BBZ+9vyEFqgReWzyVq74tgiwWfOmzjmC+555zng2w8lq/l/29kS8qHLgoDM8l8a0iLhBDkUhFRrpqYb/teSzD76m3r4GVePcXfCXx7yn2mOWCL1wY0DiINjwm4vOVUpzz69kt+ifzSpqH7yXoo77bFFtFq/TdVhNxM9YlnuoJu9d/D6q88Cq8kuZr7B8TfBEszzWPwPbq1v5IwUdIPtmXSx7HT9L8bszmWJ5bk8YdXl3TNeRzWO1OBV/6QoevgGSiLIXOLJGrJXrzDz4W6BZ8X2bnOeukJQWbhdgLZmEoxHMIn5ULD+7b8D2xD719DazEu3VcMaUI+9o4ED9qAlL94bZR6uNxML8ImPMKCYXPQ2+fTY7TcHuGV0TjhMqF8tItm7rg607EnSJM/nhHjlvGGj/xom4em+X1K93a5fPR21dn75iIxAvkNdo8kuJ8Lcc88gLiC/w0zXtwnDb60TzZ3afiLuRjmhc5T/yTxtDf6IKA55E4B0cdY76I88sr5OevwFozVrtPwbf1CjfZ6+CRRP7PvOwel+hnxxFrD9rHousrE32HveccjuPzScXLAu3AS8kovWd4P52YclG47fPye+nty7IxyZaHtvl7oqJg5TsJf2BhjaFE9NUp+OSWPBESDOmei4h0vvF1ffxzeDXNxwouotJejtMJu6dRsZv3Z602XUgw4peLkqJ/yElhgqF9m33eDz4fvX119o6JyHp+7eVJyeP5Ao7yQhuzrL09J70S/Dn19mdS4ndG0L2zT+JO5lvSsGi6PDZQ8G0hFx2DE1uelLV9JeLCZD2aFL5VxC+cc51M4vmrxCPfnzFRlM9KiSYVILPPFQZ3fP8tn5ft9fZVid/d+meLE260ZeSvNy1bjfhfRmvO2Akn/lEOFwLxajL+HMvrJBM+F719NnFs199tC2sbiqvc1ybv+Xes9KljSl3dj2lf+U7Hdy9sufiz+p8En7/evjr7xwQTx0VPmybvalIeDcduvMh8NX6a5j1CfOb4TTGtCz6lz8yW52reFzQVvdOFWbo4izlA9XVqjZ8Ca81Y7VsLvrKiMvqcVLodQldKTeAFX+zna1dQUiR930T7lXNOk1M18cg5xmVnLg7sAiUntmQfBnB6r/zdU6Epq5qj353oLdvXI37n4TMbhfCMENj8+eN3Mf4szxpSONgFn7XCJzbl3L/zfL6GaC3bZzM6ucfCrLLTeSd97/w/oPCzrmUstOOm+FKTRhg/HNulj5/D5NWcpnhQF2evousSr6b5Gl8aE1Lw/SP90VRFHBtGDlfH5rFDfN/88Vh+muY9YhEnf52bLuhDkZfilGNQtE2vY7xTTuZtjmsZV1FXk7U55sWRz2G1byz40qTMovyA5PcUUjHCE0d87oBvR5fnfTI8ufBtRH74mOxk4MaBngarFHa8zQWFDFRKWLyP+kaKPrbT29eBPnO+Pa4/3zKhIJ89iH1PpBCcw0V7OXcqRFjPbPf1C5mvwueht09HYoO/p2aS5jjh768e50vEwjtOEsZ3rVbn4gTAxSJrJu/BcclxWN7TXrFP+wNkz8cFou/a/pnwOerty/OlMdEWbS29go+g8ZEvnF9Mxy3w59Tbn0os6it0wVfvq8eDLvjySh7Pw9YK38/Vm5HvwGrfusIH1uBJiBKXGqQ8OYTCThIPryZwoRAmnPnA5UEf/tuw2QTGvqykRP3hvXSfjej9irrnyfjJBVKfqKVeAZBnAUNBwRrkSYUTTNQ2/88qT+L1NI8XjIs/xcExQeP/e1bT4sVEvOInvaTw4/fgQoKLv5T4wwpfKOzsAoEnDS48YnEvPF/jGj4vvX19vjAmVEE/609IXjn64gR/R3r7M0nzZZ4LeW7jOFUFX/h3tI8Xep2CLxV4szFk8FNXdBn5DFZDwQey3tDdD9DcH9DcH9DcH6w1YzUUfCDrDd39AM39Ac39Ac39wVozVkPBB7Le0N0P0Nwf0Nwf0NwfrDVjNRR8IOsN3f0Azf0Bzf0Bzf3BWjNWQ8EHst7Q3Q/Q3B/Q3B/Q3B+sNWO1bsEHfKEHCvABNPcHNPcHNPeJ1X59fn7eNNaB4Pjcbv/X7AfHBZr7A5r7A5r7pK7tQn1Ho2HWxJgHCfCB6A3d/QDN/QHN/QHN/cFaR73b1vQWY9sZOB6iN3T3AzT3BzT3BzT3B2sd9W5b01uMbWfgeIje0N0P0Nwf0Nwf0NwfrHXUu21NbzG2nYHjIXpDdz9Ac39Ac39Ac3+w1lHvtjW9xdh2Bo6H6A3d/QDN/QHN/QHN/cFaR73b1vQWY9sZOB6iN3T3AzT3BzT3xxbNr9c/AWsf+Dmw1lHvtjW9xdh2Bo6H6A3d/QDN/QHN/dHT/Hr9fbtcPm7T9Eb73m5nej2RDdu18P75sVfaXibad/pIvrhY5K3NVR0P7ovoZrWmtxjbzsAOKBDOp/i9Thdjf0YF3fTb2K/5czuHYE32FJTTub46M2woMOc2mAiexvC4IK4ft1PWsaIeKwN+eZ/egvsTJkjRTLGm/ZUn5qQnc5pokjXs1vIH9+steBBb4jxxOb+VeD+9zwquOXs0p3mhGk+xYEvQeOP35vmEX8eCrcwbYRzTe/E5csE32yafNc3nvrznfadm3gJfQb5XqzW9xdh2BrZAwTIruJYD/hoCJwX6YsFXApaD9Xx+v53kdQ6euc1F2dTnwH16C+7NtnER4Eljeqcrck3ykcfKuF/ep7fg3kg80kVXpWN/MidkYuRJnybecAFHOcK6cFvLH9D80eyIcyLoyPasOeftcOx8lW1mu1fzMLbY77wA7CHnHi5AzrrgozkojcdYMEa/PEbDa/2eifgZ6bz5fXmV0LAB+xC9rNb0FmPbGdgGB/yJAjEGwVLAxyu1iZJ6uGJbKvho8p8oyGeBIhODHBeuKslG+6ltEqI3dH8c4+OiT1wxer9dZn1jfqH5o0mT6qbJTSbiucY26/kDmj+e7XGe9NOap2PblbCdmqdVu7gix3eGeAVPHZfuJpjnKnOIwUSFXyxOK5rzSuOav5d0DosXPWAT8r1brektxrYzsJOVgI9Xavw8RAoaI3gXkUDsHkdBHoKrPQfRG7o/geGJoKI7Ccz39/xC80dTJjl7v0WayAeKxJH8Ac2fyGicW/pJXzUOdmsuc4UiF40d6vOOhVrcd8rnJQVoWtmTW9n1eaXzDT7X8hjYjOhitaa3GNvOwE6WAl4HwELw9ilL8o1/8ceEZ0HawBK9ofsTGJ0IZgys/Kz4heaPRgq+d/U8nn1rNpNzwcfsWdywYmTYreUPaP5ERuM82c31Mwr/b9BcnimNxZYUa7RP+9b9fFy4u8TH8e1mGpP8uFD44w3KRbyPbMP5a6rzisWi5C7js4EvId+71ZreYmw7AztZCPgYMGnALwSvTSn2zKskvsoKzwq9Rb8cmJWN6A3dn8Cegm9kjKDgezFUnMoztazhgkZZZz4mPMNX/nhDx/po/hCtZQseyDcXfF/WXI2teEu1U6wl8nnzcel9rzSG+XYwj+0L3xbOxeHSCl+Kg/qz4LbutyGaWa3pLca2M7CTXsCnwJsFFGuwNJlnVoq9GjOZYCJ4KqMTgSImyJVjVvxC80dDsUoXXrw6l/vWYt3cX03+G/IHNH8io3Fu5ujv15xzyImf8U4rdaczXUyIz5l/KeLKsbGY4z9I4fekc0qv83nW6POSczXAbd3vQb5PqzW9xdh2BnbSCXj9LETLwi07Vewt3haaUSWOBPvQW/BANhd8ovvKFTEKvtdHJr8qHpv91uSfcsOW/MF9egseyGicW5pX4+TLmodzofxx5q3Yd4q1RD7v9Dks5DnApRU+OfdT+gv1SPo8vTgAmxA9rNb0FmPbGdhJL+ApKPQPVOZbPTT4w28jaVuFBE43gVCS4Ns/s6umzgQjekP3JzA6EQgdDRtW/ELzB8O3zAb/ar7Q3v5q9N+QP6D5ExmO83lBH/rSsTmXf1Vz8hdWmoNfuXCUIo2Q3+HLhRtTfEZKgZg/k4zNmjy+5WJ1XpQOX8SCIeR7t1rTW4xtZ2Ab+dfH5cqGf7+IX/cGtgTNbBKQ4EoBkQOr/U2v8Cf2s2P4amr5mSHRG7o/jvVxUWkux0qR0Cn4RscbNH80vXjU+raa59Wc6hm+buFg5o8INH88e+J8prk5Tio2a04FHG9Vwbe8akhU+UaeIbwkH3KXiX9+hsc327JP/rz5uIXzlMdUcFv364hmVmt6i7HtDGxDBnJNd2CPFHwy6VvowKRkE1YV8j46PgWmhvfpLbg/6+OinQiYnJiNpMmMjjfu01vwACgew29jii48oc8m8Z7m5WJNT64mKPhein1xXv1gczNOKvZqrgu+vJJHmCt86XzDGI7nJRcd8TPSuExjW/6KfH6xQj7Sa/NiRea0zoUsGCd8j4TVmt5ibDsDx0P0hu5+gOb+gOb+WNRcCr5U4LHNErFQ49uvxkVHKDrt/okKvvktXHBPRC+rNb3F2HYGjofoDd39AM39Ac39Ac39wVpHvdvW9BZj2xk4HqI3dPcDNPcHNPcHNPcHax31blvTW4xtZ+B4iN7Q3Q/Q3B/Q3B/Q3B+sddS7bU1vMbadgeMhekN3P0Bzf0Bzf0Bzf7DWUe+2Nb3F2HYGjofoDd39AM39Ac39Ac39wVpHvdvW9Iox8IUeKMAH0Nwf0Nwf0NwnVvv1+fl501gHguODpOAPaO4PaO4PaO6TurYL9R2NhlkTYx4kwAeiN3T3AzT3BzT3BzT3B2sd9W5b01uMbWfgeIje0N0P0Nwf0Nwf0NwfrHXUu21NbzG2nYHjIXpDdz9Ac39Ac39Ac3+w1lHvtjW9xdh2Bo6H6A3d/QDN/QHN/QHN/cFaR73b1vQWY9sZOB6iN3T3AzT3BzT3BzT3B2sd9W5b01uMbWfgeIje0N0P0Nwf0NwfWzS/Xv8ErH3g58BaR73b1vQWY9sZOB6iN3T3AzT3BzT3R0/z6/X37XL5uE3TG+17u53p9UQ2bNfC++fHXml7mWjf6SP54mKRtzZXdTy4L6Kb1ZreYmw7A3eCguV8it/9dDH23/7cziE4ow0H4URB1tppjGPO7TG8T2/Bg1jVXHH9uJ2yjhXTb2U7Nk54n96CR6Im15l2FiN6QvOXZkucJy7ntxLvp/dZwRX2c7El+xW1f+7T2wiNl3Q+zGn6oKIsru4FqBDk9+a5gl/Hgq2Mp/DeNG75HLngm22Tz5rmc1/e876TMSeB/cj3arWmtxjbzsB3QwE1S9ZWUigBGoLz/H47rSaQ+TFndUwdYNynt+DejGhewZPG9E5X5JrkIxcNSvMzX1nTFTw0fzmuYYJME/piwTcS99D8ddkR50QYH2zPhR5rHo7Vq2yiORX2VU6oC0PRWrYzQtHFfssYWkLOnQvCicdaLvRofkkXGLFgjH75oiO81u+ZiJ+RYoDfl1cJDRuwD9HLak1vMbadge+Hk8KJEn8MFCMphCtEChA9OcgVUm/CoGMmPkYHU+cY0Ru6P45VzQeIV/nvt4v0ySqg1tfqI6D5s4ire9MlrfL14pcZiXto/tJsj3NZ/VVxnY4tBXwq0AYKJVPztGoXV+SoMKPibXbLNY0f81xl/BlMVPiFcVdTjcN8/vy9pHOoC1WwH/nerdb0FmPbGbgjw0mBAjZdBW4qFOrJIiF6Q/cnMKx5RTMJMFYRYRcW0Pw5xNU9fu7JLsqWseIemv8IRuN8qYDPBV4pmGbHGpiayzygyBcgHerzzquQxCmfV/SRV/bkVnZ9nrqgNPMY+Aqii9Wa3mJsOwN3ZC0pSOAz4bmOLUFSlu1r/6I3dH8CoxPBDNFSrQIkJBGHVQUuEMIKQ7sSAM2fgJ7orIm9x0rcQ/MfwGicSzE2GxepGGsKvvd8+15uoc58EUuay3OAsdiSYo326XGq+/m4cOeIj+PbzTTu+FGD8McblIt4H9nG81FUYzyOV8ld9WcDX0W+d6s1vcXYdgbuyGrBJ89xUUJnnTjILLuGUuxZV1KiN3R/AnsKvpVigSd89hnhWzbQ/BWIE2Oa2DYVfOtxD81fnHsUfNSXn+3k/YZ/0Vq2GX0REW6pdoq1RCn46Lh0Hld6X74dzOdz4dvCuThcWuFL564KvFh44rbudyGaWa3pLca2M3BHtkz+ZmKwWC72GNEbuj+BHQWfXJm3xyitqSgIz3DSvwPVOOE+vQV3ZrZqUl4PFXyaJu6h+Y9gNM7NvG4UfHQBwCu62aYznnqacw45hbESV+pO549UrBVf8VyliCvHxmKOV5L5/eic0ut8njXWeRrgtu73IN+n1ZreYmw7A3dk0+RfJwGLMhlYy/2C6A3dn8Dmgk80Na6Ik69Z4swJdr4qBM0fi37mqWV0pZ6p4h6a/wxG49wq3KRvKdd3bEzNw7lQ/jjzVsZIp1hL5PNOn8NCngNcWuErjx/wirWQYmNxLgOjiB5Wa3qLse0M3JFeUqBg5ucmzKS+ECQSXGtJRvSG7k9gdCIQlnRPvuZXylIgYvJ/KjT56R+izbfhSMfwG2jmMQNxD81/BsNxLoWX0q7WmG+/rv31dsLUnGzD6mA4Ri4cpUgj5Hf4cuHGFJ+RUiDmzyRjsyafkz0uFy9iwWbke7da01uMbWfg+8m/UC5XP+H3tIg8+Etw9Z/ZEJsUNDn43tSVVCI8byHHYSJ4BuOaV0lQErtZ6Jdjwu9kkb/8g7wjEwF4HBKfM11qzbfFPTR/PfbEeV4NPvHtVtFc54HeuKhyBWFrTgUcb1XBt7wCTVT5Rp5HvSQfcgeJf35G/mCIffLnzceZY175o33zCxewB9HMak1vMbadge9HBnvN/Mqeglw/n0P/lh+7jFSJQwoDiyp4uU9vwf1Z17ydCJicmI2kGajHCSdjnXQTvE9vwYMZKvjYbi3uDRto/jLsi/P4l9bZngs/lQMCpHn4jcYlG4L36e0MXfDllTzCXOFL5xveN76nXHTEz0hjLp1P/Gtxlav43NhXem2ucsp8ZV7Igi2E75GwWtNbjG1n4HiI3tDdD9DcH9DcH4uaS8GXCjy2WSIWanz7tazoZcIFjN0/UcE3v4UL7onoZbWmtxjbzsDxEL2hux+guT+guT+guT9Y66h325reYmw7A8dD9IbufoDm/oDm/oDm/mCto95ta3qLse0MHA/RG7r7AZr7A5r7A5r7g7WOeret6S3GtjNwPERv6O4HaO4PaO4PaO4P1jrq3bamtxjbzsDxEL2hux+guT+guT+guT9Y66h325peMQa+0AMF+ACa+wOa+wOa+8Rqvz4/P28a60BwfJAU/AHN/QHN/QHNfVLXdqG+o9Ewa2LMgwT4QPSG7n6A5v6A5v6A5v5graPebWt6i7HtDBwP0Ru6+wGa+wOa+wOa+4O1jnq3rektxrYzcDxEb+juB2juD2juD2juD9Y66t22prcY287A8RC9obsfoLk/oLk/oLk/WOuod9ua3mJsOwPHQ/SG7n6A5v6A5v6A5v5graPebWt6i7HtDBwP0Ru6+wGa+wOa+2OL5tfrn4C1D/wcWOuod9ua3mJsOwPHQ/SG7n6A5v6A5v7oaX69/r5dLh+3aXqjfW+3M72eyIbtWnj//NgrbS8T7Tt9JF9cLPLW5qqOB/dFdLNa01uMbWdgBxQI51P8XqeLsf/253YOgRdtOMAmCqDWrmLVLwUnB3WyYU4TBWhlw/16Cx6Bofl5TfOxcQLNX5MwQSZNNL3YFdb1HBsXvE9vwYMYyNM1l/Pb7SR6nt5nBVfkK5rTsdV4igVbgsYbvzfnI34dC7biO4zjiQo5Okcu+Gbb5LOm+dyX97zvtJr3wBbke7Va01uMbWdgCxQss6C0Ar4EXwi88/vttJocRvwSElScMChoQ4I4tYmBbfQW3Ju55meleT/5DY4TaP6iiH6kxfQ+o53MFat6qnFx5tWUUhzWYwmaP5rBPF1xlcKJNec4D8fqVbbxOYP79HZGGFvst/hbQnyHCxAea7nQoxyWxmMsGKNfHqPhtX7PRPyMVNTy+/IqoWED9iF6Wa3pLca2M7ANDvgTXQ3FIDACPlz90eAnm9wnSV73Vaz6zUnh/XaZ9beI3tD9QZDmE2uuE92a5kPjBJq/LkmbTZPbgJ7XuBozGxdWHwHNH896nq6RW6tK83RsLuA3zBmm5mnVLq7IUWFGxdvslmsaP+a5yvsYTFT4xeK0ojqnPK75e0nnsHjRAzYh37vVmt5ibDsDOxkOeArGdIW3bkt0/abEMTDBiN7Q/Yl0EnYfa5xA89elTHL2fosRPZPNzK/VB82fymj+Xyrgu+OgP2eYmhtF20QFYBgzHWq/eRWSOOXzij7yyp7cyq7HvC4o07ngtu73IbpYrektxrYzsJO1gJegZsIzG4MB0PObE8fH7FmPcLWp7Qju11vwaGQlZ2F8CEvjBJq/MFLwvavn8dpb7TMG9ZTJN/bH24h8qw+avxCjBZ8UY7MiqVP4D8wZS5rLM6Wx2JJijfYlv/FcVT8fF+5O8HF8u5nGHd9SDn+88X678D6yDeejmX0WGa+ygtn5bGA38r1brektxrYzsJPVgo+fz+FneihZswYcQJZdzVrBR5w4GeDZnhelFHtDV7lL4wSavzBKZ54k87NZSzlhXM/5s2J8m64dS7xPb8EDuUvBtz5ndDXXxWK4pdop1hKl4KPj0nlcaQzz7eC4wsgXG9HH8gpfigP1WWLhidu634VoZrWmtxjbzsBORgOeMYO+w1rBN5A4RG/o/mg2Fns19TiB5i8MaU2TM6/C5T5TL8WQnmoM0YQfng3l/YZfaP5ERvO/mfvtGJ7RmTN6mnORdQpjJa7Unc50MUE24fzSuIvnKkVcOTYWc7ySzO9H55Re5/Os0eckY9pgVw4EDfJ9Wq3pLca2M7CT0YAPDAS40PO7NFlUD4GL3tD9kZSJevG23iLVOIHmPwvRqxfnI3qm+J9NlnlSheYvw2j+tzRfGycBe84wNQ/n8hb+AriMERlXNvm80+ewkOcAl1b4yuMHvDIppIuUkfkOrCJ6WK3pLca2M7CThcKMb9OYCXskALqJpF067/kVvaH745DEtzoBCEPjBJq/LHzLbPAvKwsDeiYf89URuZhAwfcydPN0TVXQM7XGQ7kgYmpO/sJKc/Art1KlSCMu0Vcp3JjiM1IKxPyZ5Bxq8vi2x2Xpx23d70C+d6s1vcXYdga2kX99XK5swm9lEXlgl8DpP9sjNiUg1v2WoiI80Kue/6mTDvfpLbgzOTG+qavcRHgWhu1qzUfGCTR/XXr66UnOiPNVPcsx4bfRKAfkP/CoCknRWrbg/ozn/47mi+NkORcworVsI1TA8VYVfPk9e1SFZPxDDXrv5EPuUvDPz/A5sS375M+bj5O8Z1zgxOf4+PvRFy5gD6KZ1ZreYmw7A9uQgVwzvzqjANbP3tC/5YcsI21SGPJL8IO1kgx0YGp4n96COxOS5Fy3TE6srebr4yQCzV8U0i/8fppowxN6nsQZQ3NiVc96XLCNnmgTvE9vwf1Zz9OW5vEvrbN9M06IwVzA+/R2hi748koeYa7wJd9hDMf3lOIyfkYac+l85K/I5xcr5CO9rovSgOTEqrAE2wnfI2G1prcY287A8RC9obsfoLk/oLk/FjWXgi8VeGyzRCzU+ParddHBPuz+iQq++S1ccE9EL6s1vcXYdgaOh+gN3f0Azf0Bzf0Bzf3BWke929b0FmPbGTgeojd09wM09wc09wc09wdrHfVuW9NbjG1n4HiI3tDdD9DcH9DcH9DcH6x11LttTW8xtp2B4yF6Q3c/QHN/QHN/QHN/sNZR77Y1vcXYdgaOh+gN3f0Azf0Bzf0Bzf3BWke929b0ijHwhR4owAfQ3B/Q3B/Q3CdW+/X5+XnTWAeC44Ok4A9o7g9o7g9o7pO6tgv1HY2GWRNjHiTAB6I3dPcDNPcHNPcHNPcHax31blvTW4xtZ+B4iN7Q3Q/Q3B/Q3B/Q3B+sddS7bU1vMbadgeMhekN3P0Bzf0Bzf0Bzf7DWUe+2Nb3F2HYGjofoDd39AM39Ac39Ac39wVpHvdvW9BZj2xk4HqI3dPcDNPcHNPcHNPcHax31blvTW4xtZ+B4iN7Q3Q/Q3B/Q3B9bNL9e/wSsfeDnwFpHvdvW9BZj2xk4HqI3dPcDNPcHNPdHT/Pr9fftcvm4TdMb7Xu7nen1RDZs18L758deaXuZaN/pI/niYpG3Nld1PLgvopvVmt5ibDsDO6BAOJ/i9zpdjP0ZFXTTb2O/5s/tHII12VNQThR0ef/143bK+yoq39ynt+BBDI8LodL89H67VIk0JGHZr6j9c5/eghdgQ8zOWckFCd6nt+AxXM5vRVeKWV082YzpeeWCLeUP5jRR8VXZcL/eRsh/dVws2BLkl893OsfXsWAr7x9yDI1H/lxc8M22yWdNk98u73nfid5ntg98Cflerdb0FmPbGdgCBcsscJcn9msInJQc1hJ8CtgQrOf326kuHLiYmN7pCk6TzgUF35PZNi4EKeay5uFYKvqyjYwLmiAq7etJRrSWLXgBNsRsQeWCM6+mlCKgnkih+eMJOZ3140Ivx+x8xWzOoJ5SMLFfKshCgUhzR10YitaynRF88LnMC8AekqNCocnnlgu9DzqH+L6xYIx++VzCa/2eifi90FzH78urhIYN2IfoZbWmtxjbzsA2eGI/UbKOQbA0scfVvYmCN6zyLRV8YWWIAkbbSAJYOC4WDLpAiIje0P1xjI+LhKz+6OSYji0TQUrcAwkUmv8MejGbkXGh497qI6D5o5E7Nkq/JmYrhvSUAm1hXCRMzdOqXVyRo8KMirfZLdf0fmZOknnGYKLCL5xnTTUO8/lTvxR+66ueYBT53q3W9BZj2xnYycrEHlf3+HkIO1kvQwEcAmehcFhINKI3dH8CK+MiI4l2ZCIYGDvQ/AewELMF6wLRvmiE5g9mqXjrXpSN6Jle772wk1yiyAsNHer8lFcuiVM+j+gjr+zJIyvVOJwVlENjHGxBdLFa01uMbWdgJ0sTuw4AK0n0EFsmPBvSC5rlK0LRG7o/gaVxoZEkbU0EOeFKwfeunu2xn/+B5q/O+CqOTL5hxZgv/sLqcVsMQPMHMxSzLat65jniY/asX7Sf+xKtZavJj4iEYkuKNdqn5yPdz8dRERdzC9+ipvfmx0vYT3ieOH22mtnnl88n43r9+wDbkO/dak1vMbadgZ0sTOwxYNKA31TwyTM/lBD4GA46027Zp+gN3Z/AaMEniTHf/uCJgF+z7pIspUjg5K+f82v9i9ayBS/GljxAzJ8J5dt0KPKfzs6Cj1nUU8YGcQrP8O14blP5iDmlU6wlSsFHx6Vzv1J+4dvBIRfxbeFcHC6t8KUcpT5/zGO4rftdiGZWa3qLse0M7KQ3safAmwUUazCY6DNmcolIYdArKkRv6P4Ehgu++W2UABf7vNUFH/XxlX4+rjOeRGvZgtdiLWYLqsinyX/iZ3tZbwaaP5ddBd+AnmZM235Fa9kKPL5OwXdcqTudqWgkmzDeZnOSFHHl2FjMpQtOXnlMr8tFaYU+Tzl3A9zW/R7k+7Ra01uMbWdgJ52JvZnEZ6zfzin0EokkkP4VFL+X3oIHsqHgC3Ci5Qeu+TbtyMWB2AxOBOAVWI/ZTBo/s8kyT6rz/AHNH4wVn514zIzoafnNxdaA5uE9aGydeSv2nWItkfNTOj8LeQ5waYWv3K7mO1NCmgO7RTDYguhhtaa3GNvOwE56EzsFhfw4ZfzLqXQbjgZ/+G0kbZuPiUv4ZlKog2YtwRCiN3R/Ar1xMUJ9LN+WGfzrbWj+wgzEbCbpO18dkYIRBd9zMYowUy/FkJ7ptR4fnTFjak7vEe4ChPeSiwop0gj5Hb5cuDHFZ6QUiCX/pHOoybnHHpelH7d1vwP53q3W9BZj2xnYRv71cbmyCb+tRPQGtgTNbIKW4JKAKMG29qyWJBAUfK/F+rioNU8Pb9Pr+BtYorlOnr1x0SZSaP7CLMZsLxekcUFjKD/IjyL/6eQ7OPysnRmP+/Sc+VXP8NX5X7SWbYQKON6qgm/5ThNRjcVwO5f6LsmH/GEY/8yU/IEJ++S8lo8z5zblj/Z1C2EwjGhmtaa3GNvOwDZkINd0B/ZQwcd21Kef76B/y49fanIgG0Em8H69BfdnfVxYmpfEHmw54eaJQ2z4NooeFzQh1DYE79Nb8Dosx+xALuAJWE+0CWj+DOKFWtamicf9evIfTcQCMtkY+Z/36e0MXfDllTzCXOFLvkN+ie8pxWXMZfT+6Zzlr4XnRSn5SK+bRQlm8SIHbCF8j4TVmt5ibDsDx0P0hu5+gOb+gOb+WNRcCr5U4LHNErFQ49uvRnEZFirs/okKvvktXHBPRC+rNb3F2HYGjofoDd39AM39Ac39Ac39wVpHvdvW9BZj2xk4HqI3dPcDNPcHNPcHNPcHax31blvTW4xtZ+B4iN7Q3Q/Q3B/Q3B/Q3B+sddS7bU1vMbadgeMhekN3P0Bzf0Bzf0Bzf7DWUe+2Nb3F2HYGjofoDd39AM39Ac39Ac39wVpHvdvW9Iox8IUeKMAH0Nwf0Nwf0NwnVvv1+fl501gHguODpOAPaO4PaO4PaO6TurYL9R2NhlkTYx4kwAeiN3T3AzT3BzT3BzT3B2sd9W5b01uMbWfgeIje0N0P0Nwf0Nwf0NwfrHXUu21NbzG2nYHjIXpDdz9Ac39Ac39Ac3+w1lHvtjW9xdh2Bo6H6A3d/QDN/QHN/QHN/cFaR73b1vQWY9sZOB6iN3T3AzT3BzT3BzT3B2sd9W5b01uMbWfgeIje0N0P0Nwf0NwfWzS/Xv8ErH3g58BaR73b1vQWY9sZOB6iN3T3AzT3BzT3R0/z6/X37XL5uE3TG+17u53p9UQ2bNfC++fHXml7mWjf6SP54mKRtzZXdTy4L6Kb1ZreYmw7AzugQDif4vc6XYz9tz+3cwi8aMMBNlEAtXYa45hz7xgVzNPvZj/36y14BFv0i4QEm+0L8zFV+T293y5GsuV9egseyXI8zhnJDWNjiffpLXgQq/m/5XJ+u51ET4phXXDN2ZPbabyk82FO0wcVZXF1L0CFIL83jyF+HQu2Mp5CHqL34nPkgm+2TT5rms99ec/7Tit5D2xDvlerNb3F2HYGtkDBMkvEVsCX4AuBd36/nVaTw/yYszrGCp5rCMiUQFDwvQDb9JsfQ5P59D5DTwZSFOaxRP/+9YuKvpkvaP5M1uKxMJIbxseSaC1bcG9G8n9LGB9sz4VejuH5KtvMdm9uD0UX+y1jaAk5dy4Ip7Mu+GjcpYuQWDBGv3xhEl7r90zEz0jnze/Lq4SGDdiH6GW1prcY287ANjjgTxSIMQiMgA9XfzT4dbDK1U9vMqBjJj5GB0r3mHgFONFVWrgS3JoUwPezST8hJeWl5HiNV+aWX0z+r8J6PGZGcsOGsQTNH89q/m9I40JfpHVieHduT6t2cUWOV4OrW64pj5jnKmPLYKLCLxanFc15pVzG30s6h/4KJtiKfO9Wa3qLse0M7GQ44CkYQxCM2Co6ST5eAdJkIMXAaFIAj6WjX6EkSXs/Yfno6A7Nn8NIPPYZzA2dsQTNn8ho/rfGhfRVF3u7c7uMD0UuGjvU5x0LtbjvlM9LCtC0shcuWMimPq90vsFnOpf+nQ2wFdHFak1vMbadgZ2sBbwELROe2dgSAGVJfuZfB9bWpAAeSEc/y4Zv4yZbuW2SbcyJPiXyarKA5k9gMB4bNuWG/liC5k9ktOAbjeFvyO358Y9QbEmxRvu0b93Px4UVZT6ObzdT0cePGoQ/3uBnhdN51lTnFYtFWcE0Phv4EvK9W63pLca2M7CT1YKProbCM1npeQwOIMuuoST4+iopBmIKpJ1JAdybvn5zlN3s+Tw9piThyi0SfoYo2qDgez6j8dgwnBuWxxI0fyLfXPB9ObfLMQHOF51iLVEKPjouve+VchDfDg55hm8L5+JwaYUvjdH6s+C27rchmlmt6S3GtjOwk9GAZ8ygt1hI8CmgZ4Ha8Sl6Q/dHM1rsMWRLkz4/D5T7DE31rZYAFwq8VQmWEa1lC+7MhnhcpJsb1scSNH8i31nwfUNu5yLrxM9+ppW60/kjFWu0f+ZfirhybCzm0sUkXXzK63LBWaHPS87VYD0HghHk+7Ra01uMbWdgJ1sKPuOKrqUk+PZnGoyJf8Z8hYD79BY8gmX9hpDkWY8TTsb8UDb77UwG0PyxbInHZazcMDaWeL/eggcymv+teK3i/Mu5PZzLW/gL4ObWaod83lKQGshzgEsrfHLup7BiLaTPszjfgVFED6s1vcXYdgZ20gt4CmZ+JmJ2ddObyBUSON0EQsEmP3oZ/yIr3QIkn+E3l5St6A3dH8eqfjV8y2XtLzYtOuMOmj+YDfFYjhnLDaNjCZo/kV7+b5DCSxVu6dg8Dr6a28lfuFMQ/JbHP2SlLv8OXy7cmOIzUgrE/JlkbNbk/CQXJvUFjvTjtu53IN+71ZreYmw7A9vIvz4uVzb8+0X8Og/sEjjDz2blwGp/ky38ib16/4wcYxQHojd0fxBD+lWad8eJTpJ8m4Wf84o/tVBs2hUkaP5kzHgc1dyaZNdzATR/POP5v8RxXsHjP9Ax47xic26nAo63quDL79mjWnyQZwgvyYesLPPPz/BYZVv2yZ83H7dwnvE5Pv5++ivUYAzRzGpNbzG2nYFtyECumV+1U9CH5ynSfvq3/JBlpEoKIciKrxlVYGY2JwVwN4b0aycCHifhd9myLf/FZtonkM7lr3hpnHFSNiYK3qe34MGY8WhrvpgbNuQC7tNbcH/W87+hebpwy/ZWnGv25vZUrLHvspJHmCt86XxDDornJRcd8TNS0ZfGafjdQeqfFa7sK702VzllHPfmLzBM+B4JqzW9xdh2Bo6H6A3d/QDN/QHN/bGouRR8qcBjmyVioca3X8uKXiYUnXb/1P2rcnAPRC+rNb3F2HYGjofoDd39AM39Ac39Ac39wVpHvdvW9BZj2xk4HqI3dPcDNPcHNPcHNPcHax31blvTW4xtZ+B4iN7Q3Q/Q3B/Q3B/Q3B+sddS7bU1vMbadgeMhekN3P0Bzf0Bzf0Bzf7DWUe+2Nb3F2HYGjofoDd39AM39Ac39Ac39wVpHvdvW9Iox8IUeKMAH0Nwf0Nwf0NwnVvv1+fl501gHguODpOAPaO4PaO4PaO6TurYL9R2NhlkTYx4kwAeiN3T3AzT3BzT3BzT3B2sd9W5b01uMbWfgeIje0N0P0Nwf0Nwf0NwfrHXUu21NbzG2nYHjIXpDdz9Ac39Ac39Ac3+w1lHvtjW9xdh2Bo6H6A3d/QDN/QHN/QHN/cFaR73b1vQWY9sZOB6iN3T3AzT3BzT3BzT3B2sd9W5b01uMbWfgeIje0N0P0Nwf0NwfWzS/Xv8ErH3g58BaR73b1vQWY9sZOB6iN3T3AzT3BzT3R0/z6/X37XL5uE3TG+17u53p9UQ2bNfC++fHXml7mWjf6SP54mKRtzZXdTy4L6Kb1ZreYmw7A3eCguV8it/9dDH2Z1RgTr+N/Zo/t3MI6GRPgTud2ys40Vu24EEMa05cP26nrGNFNQ6unMiTX+Y0UVJW+xnu11vwGEa0yQxqHiZew6YeU9ynt+BBbInzxOX8VrQ/vc8KrrD/S5rTvFCNwViwJWiM8nvzXMGvY8FW5o3w3jT++By54Jttk8+a5nNf3vO+kzEngf3I92q1prcY287Ad0MBNSvKlpPCNQRXSgaLBV8Jag7o8/n9dpLXVYBxn96Ce7NN8wBPGtM7XZFrkg89DiSR8iRBiToU/DReJkro2h/b6C14AIPaZIY0lzgnP5VtXSRA80ezI86JkOPZnscJ5+1wrF5l+ybNw3hkv/MCsIece7hoOeuCj+aXNIZjwRj98rgOr/V7JuJnpHmM35dXCQ0bsA/Ry2pNbzG2nYHvh5PCiRJ4DJSlpBBX9yaaLMIq31LBR5PFRJPJLJhkwqmOE72h++MY17xPvMp/v11ynyRu3WcDzR/NuDZLdDUfmDSh+ePZHudyB0dpnI4tF+pf1Dyt2sUVOSrMqHib3XJNK8vmucocYjBR4ZdXJTXNPJXOn7+XdA51oQr2I9+71ZreYmw7A3dkJSnE1T0KcrnV0wTSChKs1XGiN3R/AsMTQUUzCTBpssDk/4KMa9PF1LxMnjNbA2j+REbj3Mrt0pfHzhc1l3lAkRcROtTnnVchiVM+r+gjr+zJrez6PHVBaY5p8BVEF6s1vcXYdgbuyFJS0EGyq+BLScLwL3pD9ycwOhHMEC2r1aI8Lj5mz26GFQZtR0DzB7NBG5uO5nnyf1fPBtq3iaH5ExmNcynGZrm9vlj4Hs3lOcBYbEmxRvv0XKP7+bhw54iP49vNNI75+T/2c6JxyfvINp6PopqnYrEo47j+bOCryPdutaa3GNvOwB1ZSAoxqFJQbC74SrFnXUmJ3tD9Cewp+Hr6Sz9xCs+JlT8QqHWH5g9mgzYm3ZhXsc2Tb37mqx1TorVswQO5R8FHfbs1V+Mx3lLtFGuJ7JePS+dxpffl28F8Phe+LZyLw6UVvnTuqsCLhSdu634XopnVmt5ibDsDd6SXFFJwzoKOdRoq+JaLPUb0hu5PYEfBJ1fmvXGyPFlEoPmD2aCNRVdzju+JJnztt5MfoPkT+e6C74ua83g68TPeaaXudKYLELIJ55d8xXOVIq4cG4s5/oMUfj86p/Q6n2eNdZ4GQxc+YBX5Pq3W9BZj2xm4I52koJ+XaKlv8WhKsWct9wu8X2/BA9lc8ImmxhXxUlFRjRNo/mA2aNOyoLmFvBeK/NdhNM6tcdLRc8YWzcO50Fg687a6tdohn7cUpAbyHODSCp/MZSe+HZ1J89vAhQ9YR/SwWtNbjG1n4I70kgIFjv4Ry7yETwESfj9J2yokuNaSjOgN3Z/A1oJvMfmnwkDvw+T/Ioxr07Bkx7fieKVGFwgyKc+KS2j+VIbj3LgISMfmFbCvak62YXUwHCMXEVKkEfI7fLlwY4rPSCkQ82eScVqTz0kuXOoLnI0XNGAR+d6t1vQWY9sZ+H7yL5TL1Q//xhG/7g1+CaxZcEsApqDJwdf+VlP4M3zlT/SG7o9jXfNKTzlWEnunSMirwdVzYvVEI1rLFtyfdW32aF4m3vnzXO3kKVrLFtyfPXE+Gyemnl/VnAo43qqCL79nj2rshdu51HdJPuQOEv/8DJ8T27JP/rz5OHPeUv5oH27rfh3RzGpNbzG2nYHvRwZ7TXfwjxR8MklYVMHLfXoL7s+65vbknxOzkTQFfpg6TgDxeOt2Pu/TW/AYlrXZqTkVFefwPFbyy4VCNfEzorVswf3ZF+fVDzZben6H5rrgyyt5hLnCl843vG98T7lQiZ+RxnI6H/nL81nhyr7Sa3OVU+arzoUsGCd8j4TVmt5ibDsDx0P0hu5+gOb+gOb+WNRcCr5U4LHNErFQ49uvxkVkWISw+ycq+JafUQXfiehltaa3GNvOwPEQvaG7H6C5P6C5P6C5P1jrqHfbmt5ibDsDx0P0hu5+gOb+gOb+gOb+YK2j3m1reoux7QwcD9EbuvsBmvsDmvsDmvuDtY56t63pLca2M3A8RG/o7gdo7g9o7g9o7g/WOurdtqa3GNvOwPEQvaG7H6C5P6C5P6C5P1jrqHfbml4xBr7QAwX4AJr7A5r7A5r7xGq/Pj8/bxrrQHB8kBT8Ac39Ac39Ac19Utd2ob6j0TBrYsyDBPhA9IbufoDm/oDm/oDm/mCto95ta3qLse0MHA/RG7r7AZr7A5r7A5r7g7WOeret6S3GtjNwPERv6O4HaO4PaO4PaO4P1jrq3bamtxjbzsDxEL2hux+guT+guT+guT9Y66h325reYmw7A8dD9IbufoDm/oDm/oDm/mCto95ta3qLse0MHA/RG7r7AZr7A5r7Y4vm1+ufgLUP/BxY66h325reYmw7A8dD9IbufoDm/oDm/uhpfr3+vl0uH7dpeqN9b7czvZ7Ihu1aeP/82CttLxPtO30kX1ws8tbmqo4H90V0s1rTW4xtZ2AHFAjnU/xep4uxP6OCbvpt7Nf8uZ1DsCZ7CsqJgm7R5vR+uxiBx/v0FjyI4XEhrGh+/bid8r6Kajxxn96C+xMmSK1JYll7Q/PzPM5H/XKf3oIHsTnOSdPzW4llytu64IqsjwtGtJZthI5N58Ocpg8qyuLqXoAKQX5v9sevY8FWfIfxRvmEz5ELvtk2+axpPvflPe87GecN9iPfq9Wa3mJsOwNboGCZBeVywF9D4KRAXyz4SsCGYD2/305GQpGJINuw319U9M18YSJ4PNvGRURpfuarZro6z69TwuSJZXqnq3ZNeh8UfE9G9KOJudKoncyFeZyfVZyXSXLcLzR/NHviPM0DbM+FXs7bepVtZFxEuE9vZ4Sii/0Wf0vIuXNBOHEOyoUenUO68IwFY/TLF6PhtX7PRPyMNNfx+/IqoWED9iF6Wa3pLca2M7ANDvgTTbYxCJYCPq7uTXQ1FVb5lgq+cMVIAaNt5IpJ+mS1RwdTstmUFMBdGB8XCdFTa271VcSiH0X+80mT6pbJjeJ84jg3YrhoPu4Xmj+ezXGe7/KomK3z9tC4iJiap1W7uCLHK4PVLdeUV8xzlfcxmKjwi8VpRZOf0pjl7yWdQ/+iB2xFvnerNb3F2HYGdrIS8HF1jwJ4YBJvoQAOgaP8Wwmg41v0hu5PYGVcFKwLgZWLg+S7LvAZaP5oyiRn7x+kietxv9D8iYzG+dKF3VJRb+V7wtRcbBV5oaFDfd55FZI45fOKPvLKntzKrsemLigXchTYh+hitaa3GNvOwE6WAl4HQKcoMxFbJjznoYLGTAApqKvEIXpD9yewNC4qJMmGFQMu8sPqQW8SSIWAsbrHQPNHI4XZe74VL7e9bHsL0VSPl3G/0PyJjMb5hrxdsMZFZEnz/MhPKLakWKN9ej7S/XxcWF3k4/h2M+UjflyI/YTnw9N51lRzWcxjkpfWPhvYinzvVmt6i7HtDOxkIeBjwKQBv6ngk2e2aOLnYzjo8n4JPlku5wIhaouC74XYUPAx82eC+HZMp2BYGUfQ/NGUSXn+TO2o9ur4mebjfrlPb8EDuVvB1xsXka7merEgzBGdYi2Rz5uPS+dxpbHGt4PD3MK3hXNxuLTCl85XfZY4L+G27nchmlmt6S3GtjOwk17Az66myuuhgk9jJAq97B73UYDyFgXf6zBc8KnEToV9eIaHtWSMsSLFfc8v79NbcG9IP4o/Xp3NfcOxvjSpj/uF5k/kLgXf0riI9DTn/HAKOSSu1J3OH6lYo/2zOUmKuHJsLObSAgLfYUivyyJDhTU2DXqfAWxDvk+rNb3F2HYGdtIJ+KYom2HfjrPpJAUOTH5Al2/xYCJ4PTZOBLOkmJNnPU5kIuhfNUPzF0D0ayZyTZnUh2//dvxC8ycyGudWjjb1HBsXpubhXCg3nHlb3VrtkM87fQ4LeQ5waYWvPJbCd6aENAcuxgEYRfSwWtNbjG1nYCe9gKegkB+njH85lW7J0OAPv42kbfMx8Sc5zMl/KWg65yB6Q/cnMDoRJLv5VbAk/argGxgL0PzB8C2ztb+sN5AJsjs+NviF5k9kNM5z4aVi2oj91XGRMDUnf2FFOPgtj/zISl3+Hb5cuDHFZ6QUiPkcJO/U5HHYyVe5H7d1vwP53q3W9BZj2xnYRv71cbmyCb+hRvQGtgTNLFlLcElAlGDrP7eTHuqnY+JvJolNHWyYCJ7B+rjoaZ70JNv8w6vVxJ4nfBR8L0QvZvUkV2meJ1DSfLYiQoRnpkb9RqD549ke56WY6/4O39C4iNiaUwHHW1XwLd9pIqpcEm7nhkWJ6ENWGfnnZ3gcsi375M+bjzPnNuWP9uG27tcRzazW9BZj2xnYhgzkmu7AHir42I769HNc9G/58csM+Sp/uUfvyQGaE02B9+ktuD/r42JAc060VYJncvI2EqvA+/UWPADSL/x+pugX/rJe21SaS+FuoSfgVb8R3qe34P7sivN0sZ7taz1HxwXBfXo7Qxd8eSWPMFf40vmGsRbfSxYX4mekXJTGYPwVAZWH+PzZV3ptrkrKZ6rOH2wnfI+E1ZreYmw7A8dD9IbufoDm/oDm/ljUXAq+VOCxzRKxUOPbr2VFLxMWKuz+iQq++q4SuB+il9Wa3mJsOwPHQ/SG7n6A5v6A5v6A5v5graPebWt6i7HtDBwP0Ru6+wGa+wOa+wOa+4O1jnq3rektxrYzcDxEb+juB2juD2juD2juD9Y66t22prcY287A8RC9obsfoLk/oLk/oLk/WOuod9ua3mJsOwPHQ/SG7n6A5v6A5v6A5v5graPebWt6xRj4Qg8U4ANo7g9o7g9o7hOr/fr8/LxprAPB8UFS8Ac09wc09wc090ld24X6jkbDrIkxDxLgA9EbuvsBmvsDmvsDmvuDtY56t63pLca2M3A8RG/o7gdo7g9o7g9o7g/WOurdtqa3GNvOwPEQvaG7H6C5P6C5P6C5P1jrqHfbmt5ibDsDx0P0hu5+gOb+gOb+gOb+YK2j3m1reoux7QwcD9EbuvsBmvsDmvsDmvuDtY56t63pLca2M3A8RG/o7gdo7g9o7o8tml+vfwLWPvBzYK2j3m1reoux7QwcD9EbuvsBmvsDmvujp/n1+vt2uXzcpumN9r3dzvR6Ihu2a+H982OvtL1MtO/0kXxxschbm6s6HtwX0c1qTW8xtp2BHVAgnE/xe50uxv6MCrrpt7F/zuX8djuJ/el9FpTClYM6vTdzmihAKxvu11vwCP7cziHZijZvt+k8cHW9MpZCEs4+C7Ut9+ktuD+j2tSsxTk0f3GG83/hvrmdck91XCzYEuSX35vzEb+OBVvJTWG80fzE58gF32ybfNY0n/vynvedRvIeGEa+V6s1vcXYdga2QMEym9SXA/4aAicF+krBF2zZjpPB+T0lh/mVWA4qtqGgDQUG+Z8ouLUvttFbcG9KwuVkG/ST193kNzKWxC9pPL3PqCcMPl5vwb0Z10azHufQ/HXZlv+Fh+X24IP9zgvAHnLuodA864KPclh631gwRr98LuG1fs9E/Iw01/H78iqhYQP2IXpZrektxrYzsA0O+BMVbzEIlgI+ru5NFLxhlW+x4JOVwPfbRfqS/1IwSBArmw6iN3R/EHTFP1FyniU6SeALuq+PpaT5QAKF5o9mXJvChjiH5i/JeP4XHpDb06pdXJGjwoyKt9kt12ta4bPOVfKUwUSFXyxOK5qcls6fv5d0DksXPWAb8r1brektxrYzsJOVgA8Dn5N2CrbFgs+ykb6c+FPiwETwM5BEuqS70B1LJZHO+1ug+aMZ1yYzFOfQ/Eewkv8zj8jtRtGWFxo61OedVyGJU3VeeWVPbmXXYzN9nuAznQtu634foovVmt5ibDsDO1kKeB0AVsDXSMDObKokkP18zJ4VC1eb+ZiI6C1b8Gjkir0zPmq6Y0km/3f1bE97m4eB5o9mXJvMSJxD85/BUv7XPDC3y7OfsdiSYo326flI9/Nx4e4EH8e3m+m9+fk/9nN6v114H9nK+WRmn0WKRVmdrD4b+DLyvVut6S3GtjOwk4WAjwFTB/M3FXzEKTznUR7wra+mRG/ZgkdSir3hq9zuWFK+OBHn539aW9FatuDejGuTGYlzaP4zWMj/Mx6V25WPeEu1U6wl8nnzcek8rjTW+HYwj8EL3xbOxeHSCl8ar3n8SuGJ27rfhWhmtaa3GNvOwE56AZ8CbxZQrMF3FXyLk0VE9Ibuj2ZHscd0Jw/yN9GErzXvjCdo/mjGtcmMxDk0/xl0Y7biQbmdi6wTP0ecVupOZyoaySacX/IfzzX61ecdizn+gxQ+B3q/9DqfQ401Ng025UDQRb5PqzW9xdh2BnbSCXj9LERL56FcK+ClbyQpVH75vfQWPIJS7C3e1rMYnTyYelwkoPkL0NGm2b8U5xbQ/PUYjdkRzS2bLbk9nMtb+Avg5tZqh3zeUpAayHOASyt8Mt+d+BGETJoDl8Y0GEb0sFrTW4xtZ2AnvYCnoNA/UJlvydDgD7+NpG0zRnAn/+UqKRUUOogwEbwMkviGiraahbEU/vpXTwSSoGeTAzR/OBu0KQzEOTT/GfRituEBuZ38hRXh4FdupUqRRsjv8OXCjSk+I3Ke6jPJOdTkcSgXufOitPTjtu53IN+71ZreYmw7A9vIvz4uVzb8+0X8ujewF6/eSkDklcGF32qa2ajnPOqkI3rLFtyZnBjf1FVuIjwLw3aG5qtjqSTh+fNcbSKF5o9mRJs9cQ7NX5nxmN2i+VdzOxVwvFUFX/bXoyok5bnzS/Ihdyn452d4HLIt++TPm48z5zblj/bhtu7XEc2s1vQWY9sZ2IYM5JruwB4s+DhoZz/qyYGvEoLAD9bGhBGPt24f8j69BXcmJEnRpCIn1lbzobFEE8w5PJuT9nfGBe/TW/AAVrXZGefQ/GVZj9kn5nZd8OWVPMJc4Uu+w1iL7ynFZfyM9P5pDMpfC8+LUvKRXpurnJITq8ISbCd8j4TVmt5ibDsDx0P0hu5+gOb+gOb+WNRcCr5U4LHNErFQ49uvRnEZFirs/okKvvktXHBPRC+rNb3F2HYGjofoDd39AM39Ac39Ac39wVpHvdvW9BZj2xk4HqI3dPcDNPcHNPcHNPcHax31blvTW4xtZ+B4iN7Q3Q/Q3B/Q3B/Q3B+sddS7bU1vMbadgeMhekN3P0Bzf0Bzf0Bzf7DWUe+2Nb3F2HYGjofoDd39AM39Ac39Ac39wVpHvdvW9Iox8IUeKMAH0Nwf0Nwf0NwnVvv1+fl501gHguODpOAPaO4PaO4PaO6TurYL9R2NhlkTYx4kwAeiN3T3AzT3BzT3BzT3B2sd9W5b01uMbWfgeIje0N0P0Nwf0Nwf0NwfrHXUu21NbzG2nYHjIXpDdz9Ac39Ac39Ac3+w1lHvtjW9xdh2Bo6H6A3d/QDN/QHN/QHN/cFaR73b1vQWY9sZOB6iN3T3AzT3BzT3BzT3B2sd9W5b01uMbWfgeIje0N0P0Nwf0NwfWzS/Xv8ErH3g58BaR73b1vQWY9sZOB6iN3T3AzT3BzT3R0/z6/X37XL5uE3TG+17u53p9UQ2bNfC++fHXml7mWjf6SP54mKRtzZXdTy4L6Kb1ZreYmw7AzugQDif4vc6XYz9GRV0029jv+bP7RyCNdlTUE4UdNttMBE8jeFxUbhykk7HMKeJEq5htzaWRGvZgtcgTKKim2J5fBhxfkacvww74vxyfrudRM/T+6zginwlt9OxVQ6JBVuCcgy/N48hfh0LtuI7jFHKKXyOXPDNtslnTfO5L+9538kYq2A/8r1arektxrYzsAUKlllQLgf8NQROCvTFgq8E7OnMV1ClCCjBo2w4oM/vt1Mn6XCf3oJ7s21cZCRJ8gRASTgkfBovVqJfG0uitWzBKyAxS5pO7zPaCV+Yx/lZxXk9kULzR7MvzkPssj3HOesZjtWrbCP5P8J9ejsj5BP2W/wtIeceLjr5fXOhR+Mu5aBYMEa/nJfCa/2eifgZKT/x+/IqoWED9iF6Wa3pLca2M7ANDvgTTbgxCJYCPq7ITDSRh5WZpYLvGq/AZjZ1X7iqpKDSNlIwVL5Fb+j+OMbHhSBJ+f12Mfdr1scSNH9FksZbJkCK84njXB+DOH8Ztsd5ilkd5+nYXMyN5P+EqXlatYsrcrwaXN1yTb7Mc5WxZTBR4RfOoabJP2mc8/eSzqF/QQO2It+71ZreYmw7AztZCfi4IsPPQ9iBO8eayPuTe4SCPARXew6iN3R/AlsngoFiYGQsQfNXpEyE9v5BZFKu/EDzJzIa50vFXI798fxvam4UbfnisEN93nkVkjhV55VX9uRWdj2edUGZzgW3db8P0cVqTW8xtp2BnSwFvA6AhUlaIwEXrh65mAtXkkYxIP6Y8CxIG1iiN3R/Apsngo/ZsztR/9ZubSxB81dECr539Zymfcu+j6wEt2MKmj+R0TiXYmwWs+3F3mj+X9JcnheNxZYUa7RP5xDdz8eFFWU+jm830znw40LhjzfebxfeR7bh/DVV/onnLiuY7WcDX0O+d6s1vcXYdgZ2shDw+a+d+PXCJF3DQS56xaV5Y2Lgq6zwHBAlBLbjwKxsRG/o/gS2FnzEKTzDZz+3MzqWoPkrUoq1/Nwt60esjo+AOt7IBdD8iXxzwceM5H/RWrYZlU/iLdVOsZYoBR8dl87jSuOTbwfzuLvwbeFcHC6t8KUxqj5LLDxxW/e7EM2s1vQWY9sZ2Ekv4FPgzQKKNVgs+FRip8k/PMPDx6wdZyYTTARPZWvBtzQRbBhL0PwVobimizNetcl9Q/mAWS72GGj+RL614BvP/9yntwIXWadwXFypO53pApJswvnN8ogUceXYWMzxqiK/H51Tep3Ps8Yazwa4rfs9yPdptaa3GNvOwE46Aa+fhWjpPKCffM0CJAdS55hAnTgi7EtvwQP5joIvab5lLHGf3oIXRXSvYnZOKQCWbv9C8yfylTivx8CG/G9qHo5/C38BXOw7xVoin3d6bwt5DnBpha/ciua7TkLKW4tjHIwielit6S3GtjOwk17AU1DoH6jMt3Fo8IffRtK2ghXwOemnAKYEwLf8zKSAgu916I2LhqSv1q7Wc8NYguYvCN9WG/zLeo1MomtjCJo/keE4n1/Ehb4634/k/4SpOR0fVpGDH7mVKkUaIb/Dlws3pviMlAIxf6ZcdFbksWufY+nHbd3vQL53qzW9xdh2BraRf31crmzC7yYRvYEtQTNL8BJcEhDldfg9JPKXH+TPx5WAXHseSPSWLbg/6+Oi1lyt4FXP8HUnEXMsRaD5K9KLWT0RVuMiT7KUC2arJkR4rkqOg+bP4MtxvjIG+vk/YmtOBRxvVcG3fHeAqBYJ5FnhS/IhK8v88zPyxyPskz9vPm4hH8Xn+Pj70UUs2INoZrWmtxjbzsA2ZCDXdAf2UMHHdtSnn91Iwa+DsrGhf8sPZGp4n96C+7M+LgzNCX5QOk4Acd/SLTwUfD8Qitnw+5miMU/6Sv9mXIQJN9nWVJM09+ktuD/74jz+1W22b8YAMZL/Cd6ntzN0wZdX8ghzhS+dbxif8T3lQjN+Rnr/dD7yywHzC1TykV6bF6gyjqsxC7YTvkfCak1vMbadgeMhekN3P0Bzf0BzfyxqLgVfKvDYZolYqPHtV+NCM1xc2v0TFXzzW7jgnoheVmt6i7HtDBwP0Ru6+wGa+wOa+wOa+4O1jnq3rektxrYzcDxEb+juB2juD2juD2juD9Y66t22prcY287A8RC9obsfoLk/oLk/oLk/WOuod9ua3mJsOwPHQ/SG7n6A5v6A5v6A5v5graPebWt6i7HtDBwP0Ru6+wGa+wOa+wOa+4O1jnq3rekVY+ALPVCAD6C5P6C5P6C5T6z26/Pz86axDgTHB0nBH9DcH9DcH9DcJ3VtF+o7Gg2zJsY8SIAPRG/o7gdo7g9o7g9o7g/WOurdtqa3GNvOwPEQvaG7H6C5P6C5P6C5P1jrqHfbmt5ibDsDx0P0hu5+gOb+gOb+gOb+YK2j3m1reoux7QwcD9EbuvsBmvsDmvsDmvuDtY56t63pLca2M3A8RG/o7gdo7g9o7g9o7g/WOurdtqa3GNvOwPEQvaG7H6C5P6C5P7Zofr3+CVj7wM+BtY56t63pLca2M3A8RG/o7gdo7g9o7o+e5tfr79vl8nGbpjfa93Y70+uJbNiuhffPj73S9jLRvtNH8sXFIm9trup4cF9EN6s1vcXYdgZ2QIFwPsXvdboY+29/bucQeNGGA2yiAGrtNGPHXDmo03szp4kCtLLhfr0FD2J1XNSsax6ScN5fqP1zn96CO3P9uJ2UHjOm3/YxAUPzcx3nIzbQ/GlsjnOK4/NbGS+n91nBlRnwa2tO46WaE2LBlqA5g9+bxxC/jgVbGU8hx9CY5XPkgm+2TT5rmvO7vOd9J2Osgv3I92q1prcY287AFihYZonYCswSfCHwzu+302pyUMec+QqqFHWz4JGg4oRBQRsmhVNbJLCN3oJ7MzIuakbGidiQxtP7jHrC4OP0FtwZnpwrTeLqCunVLfjmmp+V5iXOR2wi3Ke34N7siXO6SJfCifM26xmO1ats4355n97OCPMD+y1jaAl5j7CIwPNOLvRo3KU5JRaM0S/PM+G1fs9E/IxU1PL78iqhYQP2IXpZrektxrYzsA0OzBMl9BgERmCGqzQa/DrpS6HWmwhktUDvb/okiN9vF7HpIHpD98exOi5qhsZJ0nwggULz5xNXYxfikzSfWHOtZ635iE0Cmj+ezXF+k1uralykY3UBP+rX1Dyt2sUVOV4N5hU8dVyaS0yfMrYMJir8YnFaUY3DnKf4/NM5mCuYYBfyvVut6S3GtjOwk+GAp2BMV3h925QUZoFU96XXmPxfm+FxUWONk5JIW/s50PzJGJP4EDLhLmncsYHmT2Q0zpcu5q1cvuLX1FzGh2KiArD/DF/rP69CEqd8XtFHXtkLF6lkU49VXVCmc9kcB6CL6GK1prcY287ATtYCXoKaCc9sLAeABFy4yuPJP1zxqYSQE8fH7PmeaD/3xf16Cx7I6EQgLI4TKfje1XOb7S18Bpo/k/HV9zly3NJ46dtA8ycyGudSjM2KpIWL9xW/S5rL876x2JJijfbpgkz383FhRZmP49vNNK/w4yXhjzdoLPM+sg3nr6kKvjh3ydhf+GxgF/K9W63pLca2M7CT1YJPnvGhwo014ACy7BRc5IlecWleTeyqMDhxYdB7zo/gPr0FD2Rzwbc0Tspkn5/zYxvDPzR/IvlirFr5WERp210NWbaB5k/k1Qo+feEYbql2irVE9s/HpfO4Un7h28E87i58WzgXh0srfGmMqs8SC0/c1v0uRDOrNb3F2HYGdrJlYjeDXqMSO0344RmepFs+xpxU7MTBx+kteCBbxkVNM05oXFAxyKu42aZTXEDz5yErK+Oaf73YY6D5ExmNczP3f3/Bx2PwFOaNuFJ3On+kYo32p5wRfUoRV46NxRzfVeLzpHNKr/N51lj5yKA/tsEW5Pu0WtNbjG1nYCebJvaFAGeSr1mA5EBKKz5LBV91K0n0hu5PYNO4qFkZJ4yMAxT5L4IUZqMrGqWQs27Nj9tA86cyGudW3u7EcGBPwReOofF35m11a7VD9p/ez0KeA1xa4SuPIvFdCiEtWCzlMTCM6GG1prcY287ATnqBScHMt1rN4m1LwZeTvgRweq19YPJ/PVYSdmZknPBtmdW/5I1A8yexFtsVMkEujY8RGwaaP5HROLcuys18P9/X82tqTseEuwDhWLnwkCKNkN/hy4UbU3xGSoGY31vGdk3OPfUcJUg/but+B/K9W63pLca2M7CN/OvjcmUTfjePyAO7BE7/uSuxkYAor8PvIZG//IcZxtVUeLhfPcNXJwfu01twf8bHRa35yDipbdpEKlrLFjyINEHbBV+leZ5AKc5nKyJEeGZq0CYBzR/P9jiv8nYnhtf9RmzNqYDjrSr48nv2qMZr/EMNyjHJh6ws88/EyB8Psk8+r3ycjNXq4pORxxzMohZsQjSzWtNbjG1nYBsykGvmKzUU9Po5PPq3/JBlpE0KzTEcdFWCZ/jB2pgwko1xy4f36S24P+vjYkDzZpxEm/B7fdmGJo1qEmB4n96Cx5AnVmPSazSX4tBCJuARmwT36S24P7vinAqy2R/kGTE8NK8Q3Ke3M3TBl1fyCHOFL/kN+SW+l1xoxnOhuSXlHfkliPmCA/lIr+sFh4CMY/NCCGwhfI+E1ZreYmw7A8dD9IbufoDm/oDm/ljUXAq+VOCxzRKxUOPbr8bCQVi9s/snKvjmt3DBPRG9rNb0FmPbGTgeojd09wM09wc09wc09wdrHfVuW9NbjG1n4HiI3tDdD9DcH9DcH9DcH6x11LttTW8xtp2B4yF6Q3c/QHN/QHN/QHN/sNZR77Y1vcXYdgaOh+gN3f0Azf0Bzf0Bzf3BWke929b0FmPbGTgeojd09wM09wc09wc09wdrHfVuW9MrxsAXeqAAH0Bzf0Bzf0Bzn1jt1+fn501jHQiOD5KCP6C5P6C5P6C5T+raLtR3NBpmTYx5kAAfiN7Q3Q/Q3B/Q3B/Q3B+sddS7bU1vMbadgeMhekN3P0Bzf0Bzf0Bzf7DWUe+2Nb3F2HYGjofoDd39AM39Ac39Ac39wVpHvdvW9BZj2xk4HqI3dPcDNPcHNPcHNPcHax31blvTW4xtZ+B4iN7Q3Q/Q3B/Q3B/Q3B+sddS7bU1vMbadgeMhekN3P0Bzf0Bzf2zR/Hr9E7D2gZ8Dax31blvTW4xtZ+B4iN7Q3Q/Q3B/Q3B89za/X37fL5eM2TW+07+12ptcT2bBdC++fH3ul7WWifaeP5IuLRd7aXNXx4L6IblZreoux7QzcCQqW8yl+99PF2J9RgTn9NvZXDPgVvaH7I/lzO4dkm7SkpDqdB66uB/S8ciJPNsxpoqRc2XC/3oL7EybIpImmG+/Xj9vJsA+o2B/1y316Cx7EcG4X1nPD1zQn/1V+iAVbgvIHjzt+T34dC7by/uG9afxdznSOVPDNtslnTfO5L+9532kk74Fh5Hu1WtNbjG1n4LuhgJoF93JSuIbgeosTwWLBN+6X9+ktuDcl4XKyPZ/fbyd53U1+g3pKIj29386UqMPEQeNlooSu7dhGb8G9Ec1Ji+l9hl49mcGFQmUbV2TIT479cb/Q/NFsy+2RkdzwTZqHXMGrd+U9l5BzDxeUZ13w0Xmm/BILxuiXc054rd8zEeYxsgmfjVcJDRuwD9HLak1vMbadge+Hk8KJEngMlKWkEFf3JprIwyrfYsE37lf0hu4PgibyiYqwWaKTQm1B03U9JXG/3y6z/hZo/miSNl+c3OLKjtZ33C80fzzjuT0xlBu+qHlatYsrclSYUfE2u+WaVpbNc5VzMZio8DNXpJucls6fv5d0Dt2LHrAZ+d6t1vQWY9sZuCMrSSGu7lGQy62eJpA6rPgVvaH7E2mS+gJdPdOFACb/F6RMcvb+AZLu81Xgcb/Q/Ims5OBFmtzwRc3FnyIvInSozzsWanHfKeeb6COv7Mmt7Po8dUFpjmnwFUQXqzW9xdh2Bu7IUlLQQYKC72CkBL6g0YyennlcfMyeAQorDNqOEK1lC+6NTNLv6vnKeNvLtq+RMVKv3o77heZPZCUH97Fyw/doLs8BxmJLijXap+ca3c/HhRVIPu79duaij5//Yz8nGpe8j2zj+SiqeSoWizKO0zEDF6lgDPnerdb0FmPbGbgjC0khBlUKChR8B6Ik9OGr3LWCj32FZ/jKH2/UvkVr2YJ7o3TmSZKfzaJ/8+teXM7oxvy4X9FatuCB7Cr4ernhGzRXuSLeUu0Ua4nsl49L89CV3pdvB/P5XPi28NAKXzp3VeDFwhO3db8L0cxqTW8xtp2BO7Iykc+CjnVCwffD6SX0FdYKvtm4sK+gofmjIa0nmpi1NhviWFZj2hge9wvNn8jmgm8pN3xdcx5PJ35WMK3Unc50cSjnl3zFc5Uirhwbizn+gxR+P8or6XXONTXWeRpsyoGgi3yfVmt6i7HtDNyRTlLQz0u0rD+gj4LvFSkJffy2XmJPwVeNE2j+Aoheq7ezZKwMroJ0/ELzJ7Kp4NuRG7ZoHs6FxtKZt9Wt1Q75vNPnsJDnAJdW+GQuO/Ht6Eya31bjAIwgelit6S3GtjNwR7oTefkBy/jXVWkJnwIk/H6StrVYSTaiN3R/HJL4xiaAiq6eaaLQiROT/2vAt8x4RUUX4zJ5VqsyDUuF4Qa/0PyJrORgzWpu+KrmZBtWB8MxchEhRRohv8OXCzem+IyUAjGfp4zTmnxOUsjWixQbL2jAIvK9W63pLca2M/D95F8ol6sf/o0jft0b/BJYs+CWACxBM+pX9IbuDyInxjd1lZsIz8Kw3T4982pw9QxfPXlA80dTJsj5c1d6kms1D8hkbq6AjPiNQPPHsx6zleabcsNezamA460q+JbvIhHV2JNnyi/Jh6xE8s/P8DmxLfvkz5uPM+ct5Y/24bbu1xHNrNb0FmPbGfh+ZLDXdAf/YME36pf79BbcGZnALXJi3a8nP0wdJwAGf7H5MtDkfw7PTSVtuCifTdCt5kyejI2JMrDqN8L79Bbcn/WYrTQfyg3Ed2iuC768kkeYK3zpfMP7xveUi8j4GSnPpPORXwWYX3ySj/TaXLmUz21e1IAthO+RsFrTW4xtZ+B4iN7Q3Q/Q3B/Q3B+LmkvBlwo8tlkiFmp8+9W4iAyLEHb/RAXf6nPm4NsQvazW9BZj2xk4HqI3dPcDNPcHNPcHNPcHax31blvTW4xtZ+B4iN7Q3Q/Q3B/Q3B/Q3B+sddS7bU1vMbadgeMhekN3P0Bzf0Bzf0Bzf7DWUe+2Nb3F2HYGjofoDd39AM39Ac39Ac39wVpHvdvW9BZj2xk4HqI3dPcDNPcHNPcHNPcHax31blvTK8bAF3qgAB9Ac39Ac39Ac59Y7dfn5+dNYx0Ijg+Sgj+guT+guT+guU/q2i7UdzQaZk2MeZAAH4je0N0P0Nwf0Nwf0NwfrHXUu21NbzG2nYHjIXpDdz9Ac39Ac39Ac3+w1lHvtjW9xdh2Bo6H6A3d/QDN/QHN/QHN/cFaR73b1vQWY9sZOB6iN3T3AzT3BzT3BzT3B2sd9a7b7fb/ARiLzoY0D+O4AAAAAElFTkSuQmCC)"
      ]
    },
    {
      "cell_type": "markdown",
      "metadata": {
        "id": "dN2eJGz2_yYy"
      },
      "source": [
        "## ※ 実施内容\n",
        "### 決定木モデルを使用し、アルコール度数、リンゴ酸、色の濃さ、色合いを特徴量として品種を分類する\n"
      ]
    },
    {
      "cell_type": "markdown",
      "metadata": {
        "id": "lUtqwORJIAYO"
      },
      "source": [
        "## 問題１\n",
        "### scikit-learnからtreeモジュールをインポートしてください。\n",
        "### また、pandasをインポートして別名をpdにしてください。"
      ]
    },
    {
      "cell_type": "code",
      "metadata": {
        "id": "0cMfibLd9UcE"
      },
      "source": [
        "# treeモジュールをインポート\n",
        "# 実装\n",
        "from sklearn import tree\n",
        "# pandasをインポートして別名をpdとする\n",
        "# 実装\n",
        "import pandas as pd"
      ],
      "execution_count": 1,
      "outputs": []
    },
    {
      "cell_type": "markdown",
      "metadata": {
        "id": "ezor_xPAJnTc"
      },
      "source": [
        "## 問題２\n",
        "### アップロードした wine.csv を読み込んでデータフレームを生成して先頭の５行を表示してください。"
      ]
    },
    {
      "cell_type": "code",
      "metadata": {
        "id": "TTi4H3RlKPw0",
        "colab": {
          "base_uri": "https://localhost:8080/",
          "height": 174
        },
        "outputId": "abb29b3e-bde5-45c6-9804-4f6573cc7daf"
      },
      "source": [
        "# wine.csv を読み込みデータフレームを生成（ただし、漢字コードをshift_jisとする\n",
        "# 実装\n",
        "df = pd.read_csv('wine.csv',encoding='shift_jis')\n",
        "# 表示\n",
        "# 実装\n",
        "df.head(4)"
      ],
      "execution_count": 3,
      "outputs": [
        {
          "output_type": "execute_result",
          "data": {
            "text/html": [
              "<div>\n",
              "<style scoped>\n",
              "    .dataframe tbody tr th:only-of-type {\n",
              "        vertical-align: middle;\n",
              "    }\n",
              "\n",
              "    .dataframe tbody tr th {\n",
              "        vertical-align: top;\n",
              "    }\n",
              "\n",
              "    .dataframe thead th {\n",
              "        text-align: right;\n",
              "    }\n",
              "</style>\n",
              "<table border=\"1\" class=\"dataframe\">\n",
              "  <thead>\n",
              "    <tr style=\"text-align: right;\">\n",
              "      <th></th>\n",
              "      <th>アルコール度数</th>\n",
              "      <th>リンゴ酸</th>\n",
              "      <th>色の濃さ</th>\n",
              "      <th>色合い</th>\n",
              "      <th>品種</th>\n",
              "    </tr>\n",
              "  </thead>\n",
              "  <tbody>\n",
              "    <tr>\n",
              "      <th>0</th>\n",
              "      <td>14.23</td>\n",
              "      <td>1.71</td>\n",
              "      <td>5.64</td>\n",
              "      <td>1.04</td>\n",
              "      <td>種類A</td>\n",
              "    </tr>\n",
              "    <tr>\n",
              "      <th>1</th>\n",
              "      <td>13.20</td>\n",
              "      <td>1.78</td>\n",
              "      <td>4.38</td>\n",
              "      <td>1.05</td>\n",
              "      <td>種類A</td>\n",
              "    </tr>\n",
              "    <tr>\n",
              "      <th>2</th>\n",
              "      <td>13.16</td>\n",
              "      <td>2.36</td>\n",
              "      <td>5.68</td>\n",
              "      <td>1.03</td>\n",
              "      <td>種類A</td>\n",
              "    </tr>\n",
              "    <tr>\n",
              "      <th>3</th>\n",
              "      <td>14.37</td>\n",
              "      <td>1.95</td>\n",
              "      <td>7.80</td>\n",
              "      <td>0.86</td>\n",
              "      <td>種類A</td>\n",
              "    </tr>\n",
              "  </tbody>\n",
              "</table>\n",
              "</div>"
            ],
            "text/plain": [
              "   アルコール度数  リンゴ酸  色の濃さ   色合い   品種\n",
              "0    14.23  1.71  5.64  1.04  種類A\n",
              "1    13.20  1.78  4.38  1.05  種類A\n",
              "2    13.16  2.36  5.68  1.03  種類A\n",
              "3    14.37  1.95  7.80  0.86  種類A"
            ]
          },
          "metadata": {},
          "execution_count": 3
        }
      ]
    },
    {
      "cell_type": "markdown",
      "metadata": {
        "id": "htKCuA8IK0SJ"
      },
      "source": [
        "### ▶実行結果\n",
        "\n",
        "![ml_ex_1_run2.PNG](data:image/png;base64,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)"
      ]
    },
    {
      "cell_type": "markdown",
      "metadata": {
        "id": "HH8WLNgJLNPH"
      },
      "source": [
        "## 問題３\n",
        "### 問題２で生成したデータフレームの末尾５行を表示して下さい。"
      ]
    },
    {
      "cell_type": "code",
      "metadata": {
        "colab": {
          "base_uri": "https://localhost:8080/",
          "height": 206
        },
        "id": "fFaAUTbRNXJo",
        "outputId": "65bcd09f-8276-4c5e-b26a-08d4d1b145bc"
      },
      "source": [
        "# データフレームの末尾５行を表示\n",
        "# 実装\n",
        "df.tail(5)"
      ],
      "execution_count": 4,
      "outputs": [
        {
          "output_type": "execute_result",
          "data": {
            "text/html": [
              "<div>\n",
              "<style scoped>\n",
              "    .dataframe tbody tr th:only-of-type {\n",
              "        vertical-align: middle;\n",
              "    }\n",
              "\n",
              "    .dataframe tbody tr th {\n",
              "        vertical-align: top;\n",
              "    }\n",
              "\n",
              "    .dataframe thead th {\n",
              "        text-align: right;\n",
              "    }\n",
              "</style>\n",
              "<table border=\"1\" class=\"dataframe\">\n",
              "  <thead>\n",
              "    <tr style=\"text-align: right;\">\n",
              "      <th></th>\n",
              "      <th>アルコール度数</th>\n",
              "      <th>リンゴ酸</th>\n",
              "      <th>色の濃さ</th>\n",
              "      <th>色合い</th>\n",
              "      <th>品種</th>\n",
              "    </tr>\n",
              "  </thead>\n",
              "  <tbody>\n",
              "    <tr>\n",
              "      <th>176</th>\n",
              "      <td>13.40</td>\n",
              "      <td>3.91</td>\n",
              "      <td>7.3</td>\n",
              "      <td>0.70</td>\n",
              "      <td>種類C</td>\n",
              "    </tr>\n",
              "    <tr>\n",
              "      <th>177</th>\n",
              "      <td>13.27</td>\n",
              "      <td>4.28</td>\n",
              "      <td>10.2</td>\n",
              "      <td>0.59</td>\n",
              "      <td>種類C</td>\n",
              "    </tr>\n",
              "    <tr>\n",
              "      <th>178</th>\n",
              "      <td>NaN</td>\n",
              "      <td>5.23</td>\n",
              "      <td>10.4</td>\n",
              "      <td>0.60</td>\n",
              "      <td>種類C</td>\n",
              "    </tr>\n",
              "    <tr>\n",
              "      <th>179</th>\n",
              "      <td>13.17</td>\n",
              "      <td>2.59</td>\n",
              "      <td>9.3</td>\n",
              "      <td>0.60</td>\n",
              "      <td>種類C</td>\n",
              "    </tr>\n",
              "    <tr>\n",
              "      <th>180</th>\n",
              "      <td>14.13</td>\n",
              "      <td>4.10</td>\n",
              "      <td>9.2</td>\n",
              "      <td>0.61</td>\n",
              "      <td>種類C</td>\n",
              "    </tr>\n",
              "  </tbody>\n",
              "</table>\n",
              "</div>"
            ],
            "text/plain": [
              "     アルコール度数  リンゴ酸  色の濃さ   色合い   品種\n",
              "176    13.40  3.91   7.3  0.70  種類C\n",
              "177    13.27  4.28  10.2  0.59  種類C\n",
              "178      NaN  5.23  10.4  0.60  種類C\n",
              "179    13.17  2.59   9.3  0.60  種類C\n",
              "180    14.13  4.10   9.2  0.61  種類C"
            ]
          },
          "metadata": {},
          "execution_count": 4
        }
      ]
    },
    {
      "cell_type": "markdown",
      "metadata": {
        "id": "wuIk5k3Ab-X7"
      },
      "source": [
        "### ▶実行結果\n",
        "\n",
        "![ml_ex_2_newrun1.PNG](data:image/png;base64,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)"
      ]
    },
    {
      "cell_type": "markdown",
      "metadata": {
        "id": "EEtgVLZLbFH-"
      },
      "source": [
        "## 問題４\n",
        "### 正解データ（品種列）の値を確認して表示してください。"
      ]
    },
    {
      "cell_type": "code",
      "metadata": {
        "id": "VlVrOeYUbfIK",
        "colab": {
          "base_uri": "https://localhost:8080/"
        },
        "outputId": "3c39fa6f-75a8-4fa4-a55a-337370e8d49d"
      },
      "source": [
        "# 品種列の値の種類を表示\n",
        "# 実装\n",
        "s = df['品種'].unique()\n",
        "print('品種列の値の種類は')\n",
        "print(s[0])\n",
        "print(s[1])\n",
        "print(s[2])\n",
        "print('です。')"
      ],
      "execution_count": 9,
      "outputs": [
        {
          "output_type": "stream",
          "name": "stdout",
          "text": [
            "品種列の値の種類は\n",
            "種類A\n",
            "種類B\n",
            "種類C\n",
            "です。\n"
          ]
        }
      ]
    },
    {
      "cell_type": "markdown",
      "metadata": {
        "id": "FcjrtjK3epVz"
      },
      "source": [
        "### ▶実行結果\n",
        "\n",
        "![ml_ex_2_newrun2.PNG](data:image/png;base64,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)"
      ]
    },
    {
      "cell_type": "markdown",
      "metadata": {
        "id": "aeZPIiQSc28c"
      },
      "source": [
        "## 問題５\n",
        "### 正解データ（品種列）のデータの出現回数を表示してください。"
      ]
    },
    {
      "cell_type": "code",
      "metadata": {
        "id": "3MUi6riufL7s",
        "colab": {
          "base_uri": "https://localhost:8080/"
        },
        "outputId": "7557315a-4b40-4dee-d5b1-d204dd35e296"
      },
      "source": [
        "# 品種列のデータの出現回数を表示\n",
        "# 実装\n",
        "df['品種'].value_counts()"
      ],
      "execution_count": 10,
      "outputs": [
        {
          "output_type": "execute_result",
          "data": {
            "text/plain": [
              "種類B    72\n",
              "種類A    60\n",
              "種類C    49\n",
              "Name: 品種, dtype: int64"
            ]
          },
          "metadata": {},
          "execution_count": 10
        }
      ]
    },
    {
      "cell_type": "markdown",
      "metadata": {
        "id": "JKxb2Ac2f86r"
      },
      "source": [
        "### ▶実行結果\n",
        "\n",
        "![ml_ex_2_newrun3.PNG](data:image/png;base64,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)"
      ]
    },
    {
      "cell_type": "markdown",
      "metadata": {
        "id": "PHM3aiADgGRE"
      },
      "source": [
        "## 問題６\n",
        "### ワインデータの各マスが欠損値がどうかを調べて表示してください。"
      ]
    },
    {
      "cell_type": "code",
      "metadata": {
        "id": "s9FnR256ge3K",
        "colab": {
          "base_uri": "https://localhost:8080/",
          "height": 423
        },
        "outputId": "2b6a38d0-df00-4bba-8e8b-224ed555658a"
      },
      "source": [
        "# ワインデータの各マスが欠損値かどうかを表示\n",
        "# 実装\n",
        "df.isnull()"
      ],
      "execution_count": 11,
      "outputs": [
        {
          "output_type": "execute_result",
          "data": {
            "text/html": [
              "<div>\n",
              "<style scoped>\n",
              "    .dataframe tbody tr th:only-of-type {\n",
              "        vertical-align: middle;\n",
              "    }\n",
              "\n",
              "    .dataframe tbody tr th {\n",
              "        vertical-align: top;\n",
              "    }\n",
              "\n",
              "    .dataframe thead th {\n",
              "        text-align: right;\n",
              "    }\n",
              "</style>\n",
              "<table border=\"1\" class=\"dataframe\">\n",
              "  <thead>\n",
              "    <tr style=\"text-align: right;\">\n",
              "      <th></th>\n",
              "      <th>アルコール度数</th>\n",
              "      <th>リンゴ酸</th>\n",
              "      <th>色の濃さ</th>\n",
              "      <th>色合い</th>\n",
              "      <th>品種</th>\n",
              "    </tr>\n",
              "  </thead>\n",
              "  <tbody>\n",
              "    <tr>\n",
              "      <th>0</th>\n",
              "      <td>False</td>\n",
              "      <td>False</td>\n",
              "      <td>False</td>\n",
              "      <td>False</td>\n",
              "      <td>False</td>\n",
              "    </tr>\n",
              "    <tr>\n",
              "      <th>1</th>\n",
              "      <td>False</td>\n",
              "      <td>False</td>\n",
              "      <td>False</td>\n",
              "      <td>False</td>\n",
              "      <td>False</td>\n",
              "    </tr>\n",
              "    <tr>\n",
              "      <th>2</th>\n",
              "      <td>False</td>\n",
              "      <td>False</td>\n",
              "      <td>False</td>\n",
              "      <td>False</td>\n",
              "      <td>False</td>\n",
              "    </tr>\n",
              "    <tr>\n",
              "      <th>3</th>\n",
              "      <td>False</td>\n",
              "      <td>False</td>\n",
              "      <td>False</td>\n",
              "      <td>False</td>\n",
              "      <td>False</td>\n",
              "    </tr>\n",
              "    <tr>\n",
              "      <th>4</th>\n",
              "      <td>False</td>\n",
              "      <td>False</td>\n",
              "      <td>False</td>\n",
              "      <td>False</td>\n",
              "      <td>False</td>\n",
              "    </tr>\n",
              "    <tr>\n",
              "      <th>...</th>\n",
              "      <td>...</td>\n",
              "      <td>...</td>\n",
              "      <td>...</td>\n",
              "      <td>...</td>\n",
              "      <td>...</td>\n",
              "    </tr>\n",
              "    <tr>\n",
              "      <th>176</th>\n",
              "      <td>False</td>\n",
              "      <td>False</td>\n",
              "      <td>False</td>\n",
              "      <td>False</td>\n",
              "      <td>False</td>\n",
              "    </tr>\n",
              "    <tr>\n",
              "      <th>177</th>\n",
              "      <td>False</td>\n",
              "      <td>False</td>\n",
              "      <td>False</td>\n",
              "      <td>False</td>\n",
              "      <td>False</td>\n",
              "    </tr>\n",
              "    <tr>\n",
              "      <th>178</th>\n",
              "      <td>True</td>\n",
              "      <td>False</td>\n",
              "      <td>False</td>\n",
              "      <td>False</td>\n",
              "      <td>False</td>\n",
              "    </tr>\n",
              "    <tr>\n",
              "      <th>179</th>\n",
              "      <td>False</td>\n",
              "      <td>False</td>\n",
              "      <td>False</td>\n",
              "      <td>False</td>\n",
              "      <td>False</td>\n",
              "    </tr>\n",
              "    <tr>\n",
              "      <th>180</th>\n",
              "      <td>False</td>\n",
              "      <td>False</td>\n",
              "      <td>False</td>\n",
              "      <td>False</td>\n",
              "      <td>False</td>\n",
              "    </tr>\n",
              "  </tbody>\n",
              "</table>\n",
              "<p>181 rows × 5 columns</p>\n",
              "</div>"
            ],
            "text/plain": [
              "     アルコール度数   リンゴ酸   色の濃さ    色合い     品種\n",
              "0      False  False  False  False  False\n",
              "1      False  False  False  False  False\n",
              "2      False  False  False  False  False\n",
              "3      False  False  False  False  False\n",
              "4      False  False  False  False  False\n",
              "..       ...    ...    ...    ...    ...\n",
              "176    False  False  False  False  False\n",
              "177    False  False  False  False  False\n",
              "178     True  False  False  False  False\n",
              "179    False  False  False  False  False\n",
              "180    False  False  False  False  False\n",
              "\n",
              "[181 rows x 5 columns]"
            ]
          },
          "metadata": {},
          "execution_count": 11
        }
      ]
    },
    {
      "cell_type": "markdown",
      "metadata": {
        "id": "IyCq_LvAg4dp"
      },
      "source": [
        "### ▶実行結果\n",
        "\n",
        "![ml_ex_2_newrun4.PNG](data:image/png;base64,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)"
      ]
    },
    {
      "cell_type": "markdown",
      "metadata": {
        "id": "GCfqcU3ShSH4"
      },
      "source": [
        "## 問題７\n",
        "### ワインデータの列単位での欠損データを調べて表示してください。"
      ]
    },
    {
      "cell_type": "code",
      "metadata": {
        "id": "2qeDKYFbheyg",
        "colab": {
          "base_uri": "https://localhost:8080/"
        },
        "outputId": "96527d39-15e7-4dd3-f1f3-d879d7b9befd"
      },
      "source": [
        "# ワインデータの列単位で欠損値が存在するかどうかを表示\n",
        "# 実装\n",
        "df.isnull().any(axis=0)"
      ],
      "execution_count": 12,
      "outputs": [
        {
          "output_type": "execute_result",
          "data": {
            "text/plain": [
              "アルコール度数     True\n",
              "リンゴ酸       False\n",
              "色の濃さ        True\n",
              "色合い         True\n",
              "品種         False\n",
              "dtype: bool"
            ]
          },
          "metadata": {},
          "execution_count": 12
        }
      ]
    },
    {
      "cell_type": "markdown",
      "metadata": {
        "id": "Mk0PYCXciEf4"
      },
      "source": [
        "### ▶実行結果\n",
        "\n",
        "![ml_ex_2_newrun5.PNG](data:image/png;base64,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)"
      ]
    },
    {
      "cell_type": "markdown",
      "metadata": {
        "id": "7v-MfPuniLrQ"
      },
      "source": [
        "## 問題８\n",
        "### ワインデータの各列の欠損値の数を表示してください。"
      ]
    },
    {
      "cell_type": "code",
      "metadata": {
        "id": "WySz8yCTiiPF",
        "colab": {
          "base_uri": "https://localhost:8080/"
        },
        "outputId": "6c878084-dff9-4536-bcd0-835ffac8ab55"
      },
      "source": [
        "# 各列の欠損値の数を表示\n",
        "# 実装\n",
        "df.isnull().sum()"
      ],
      "execution_count": 16,
      "outputs": [
        {
          "output_type": "execute_result",
          "data": {
            "text/plain": [
              "アルコール度数    1\n",
              "リンゴ酸       0\n",
              "色の濃さ       1\n",
              "色合い        1\n",
              "品種         0\n",
              "dtype: int64"
            ]
          },
          "metadata": {},
          "execution_count": 16
        }
      ]
    },
    {
      "cell_type": "markdown",
      "metadata": {
        "id": "cZ9DY2vjjZrW"
      },
      "source": [
        "## 問題９\n",
        "### 欠損値がある行を削除した場合、各列の欠損値の数を表示してください。"
      ]
    },
    {
      "cell_type": "code",
      "metadata": {
        "id": "Noync_trj07M",
        "colab": {
          "base_uri": "https://localhost:8080/"
        },
        "outputId": "c4616d80-699d-44fb-c569-d740a2f2e927"
      },
      "source": [
        "# 欠損値が存在する行を削除し、各列の欠損値の数を表示\n",
        "# 実装\n",
        "df2 = df.dropna(how = 'any', axis = 0)\n",
        "df2.isnull().sum()"
      ],
      "execution_count": 18,
      "outputs": [
        {
          "output_type": "execute_result",
          "data": {
            "text/plain": [
              "アルコール度数    0\n",
              "リンゴ酸       0\n",
              "色の濃さ       0\n",
              "色合い        0\n",
              "品種         0\n",
              "dtype: int64"
            ]
          },
          "metadata": {},
          "execution_count": 18
        }
      ]
    },
    {
      "cell_type": "markdown",
      "metadata": {
        "id": "w42SIm1XlJ5b"
      },
      "source": [
        "### ▶実行結果\n",
        "\n",
        "![ml_ex_2_newrun6.PNG](data:image/png;base64,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)"
      ]
    },
    {
      "cell_type": "markdown",
      "metadata": {
        "id": "mZ6xCrZRlAAF"
      },
      "source": [
        "## 問題１０\n",
        "### ワインデータの各列の欠損値を各列の平均値で埋めて、穴埋めができたことを確認してください。"
      ]
    },
    {
      "cell_type": "code",
      "metadata": {
        "id": "suxbXOKAl4BB",
        "colab": {
          "base_uri": "https://localhost:8080/"
        },
        "outputId": "b4051df5-55c4-4d87-8f4d-759f0ad9b28f"
      },
      "source": [
        "# 各列の欠損値を各列の平均値で穴埋め\n",
        "# 実装\n",
        "df3 = df.fillna(df.mean())\n",
        "# 欠損値がある否かを確認\n",
        "# 実装\n",
        "df3.isnull().sum()"
      ],
      "execution_count": 22,
      "outputs": [
        {
          "output_type": "execute_result",
          "data": {
            "text/plain": [
              "アルコール度数    0\n",
              "リンゴ酸       0\n",
              "色の濃さ       0\n",
              "色合い        0\n",
              "品種         0\n",
              "dtype: int64"
            ]
          },
          "metadata": {},
          "execution_count": 22
        }
      ]
    },
    {
      "cell_type": "markdown",
      "metadata": {
        "id": "Gz5G_ynJnKTI"
      },
      "source": [
        "### ▶実行結果\n",
        "\n",
        "![ml_ex_2_newrun7.PNG](data:image/png;base64,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)"
      ]
    },
    {
      "cell_type": "markdown",
      "metadata": {
        "id": "aCdxu6r5NsVF"
      },
      "source": [
        "## 問題１１\n",
        "### 特徴量を変数 x に代入して先頭の５行を表示してください。（ただし、データフレームは問題１０で穴埋めしたデータフレームを使用してください。）"
      ]
    },
    {
      "cell_type": "code",
      "metadata": {
        "id": "qgZvQJeyOEET",
        "colab": {
          "base_uri": "https://localhost:8080/",
          "height": 206
        },
        "outputId": "907ebbb0-6296-4c11-c346-ed5fa037a7da"
      },
      "source": [
        "# アルコール度数、リンゴ酸、色の濃さ、色合い列を変数 x に代入\n",
        "# 実装\n",
        "x = df3[['アルコール度数','リンゴ酸','色の濃さ','色合い']]\n",
        "# 特徴量の先頭の５行を表示\n",
        "# 実装\n",
        "x.head(5)"
      ],
      "execution_count": 26,
      "outputs": [
        {
          "output_type": "execute_result",
          "data": {
            "text/html": [
              "<div>\n",
              "<style scoped>\n",
              "    .dataframe tbody tr th:only-of-type {\n",
              "        vertical-align: middle;\n",
              "    }\n",
              "\n",
              "    .dataframe tbody tr th {\n",
              "        vertical-align: top;\n",
              "    }\n",
              "\n",
              "    .dataframe thead th {\n",
              "        text-align: right;\n",
              "    }\n",
              "</style>\n",
              "<table border=\"1\" class=\"dataframe\">\n",
              "  <thead>\n",
              "    <tr style=\"text-align: right;\">\n",
              "      <th></th>\n",
              "      <th>アルコール度数</th>\n",
              "      <th>リンゴ酸</th>\n",
              "      <th>色の濃さ</th>\n",
              "      <th>色合い</th>\n",
              "    </tr>\n",
              "  </thead>\n",
              "  <tbody>\n",
              "    <tr>\n",
              "      <th>0</th>\n",
              "      <td>14.23</td>\n",
              "      <td>1.71</td>\n",
              "      <td>5.64</td>\n",
              "      <td>1.04</td>\n",
              "    </tr>\n",
              "    <tr>\n",
              "      <th>1</th>\n",
              "      <td>13.20</td>\n",
              "      <td>1.78</td>\n",
              "      <td>4.38</td>\n",
              "      <td>1.05</td>\n",
              "    </tr>\n",
              "    <tr>\n",
              "      <th>2</th>\n",
              "      <td>13.16</td>\n",
              "      <td>2.36</td>\n",
              "      <td>5.68</td>\n",
              "      <td>1.03</td>\n",
              "    </tr>\n",
              "    <tr>\n",
              "      <th>3</th>\n",
              "      <td>14.37</td>\n",
              "      <td>1.95</td>\n",
              "      <td>7.80</td>\n",
              "      <td>0.86</td>\n",
              "    </tr>\n",
              "    <tr>\n",
              "      <th>4</th>\n",
              "      <td>13.24</td>\n",
              "      <td>2.59</td>\n",
              "      <td>4.32</td>\n",
              "      <td>1.04</td>\n",
              "    </tr>\n",
              "  </tbody>\n",
              "</table>\n",
              "</div>"
            ],
            "text/plain": [
              "   アルコール度数  リンゴ酸  色の濃さ   色合い\n",
              "0    14.23  1.71  5.64  1.04\n",
              "1    13.20  1.78  4.38  1.05\n",
              "2    13.16  2.36  5.68  1.03\n",
              "3    14.37  1.95  7.80  0.86\n",
              "4    13.24  2.59  4.32  1.04"
            ]
          },
          "metadata": {},
          "execution_count": 26
        }
      ]
    },
    {
      "cell_type": "markdown",
      "metadata": {
        "id": "XX_WopUx5ADt"
      },
      "source": [
        "### ▶実行結果\n",
        "\n",
        "![ml_ex_2_newrun8.PNG](data:image/png;base64,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)"
      ]
    },
    {
      "cell_type": "markdown",
      "metadata": {
        "id": "uac8Rkuc5E0U"
      },
      "source": [
        "## 問題１２\n",
        "### 問題１１で作成した特徴量の末尾５行を表示してください。"
      ]
    },
    {
      "cell_type": "code",
      "metadata": {
        "id": "29PaMRlO5UBH",
        "colab": {
          "base_uri": "https://localhost:8080/",
          "height": 206
        },
        "outputId": "9f896487-6797-4623-f08b-0b91dafb55e5"
      },
      "source": [
        "# 特徴量の末尾５行を表示\n",
        "# 実装\n",
        "x.tail(5)"
      ],
      "execution_count": 27,
      "outputs": [
        {
          "output_type": "execute_result",
          "data": {
            "text/html": [
              "<div>\n",
              "<style scoped>\n",
              "    .dataframe tbody tr th:only-of-type {\n",
              "        vertical-align: middle;\n",
              "    }\n",
              "\n",
              "    .dataframe tbody tr th {\n",
              "        vertical-align: top;\n",
              "    }\n",
              "\n",
              "    .dataframe thead th {\n",
              "        text-align: right;\n",
              "    }\n",
              "</style>\n",
              "<table border=\"1\" class=\"dataframe\">\n",
              "  <thead>\n",
              "    <tr style=\"text-align: right;\">\n",
              "      <th></th>\n",
              "      <th>アルコール度数</th>\n",
              "      <th>リンゴ酸</th>\n",
              "      <th>色の濃さ</th>\n",
              "      <th>色合い</th>\n",
              "    </tr>\n",
              "  </thead>\n",
              "  <tbody>\n",
              "    <tr>\n",
              "      <th>176</th>\n",
              "      <td>13.400000</td>\n",
              "      <td>3.91</td>\n",
              "      <td>7.3</td>\n",
              "      <td>0.70</td>\n",
              "    </tr>\n",
              "    <tr>\n",
              "      <th>177</th>\n",
              "      <td>13.270000</td>\n",
              "      <td>4.28</td>\n",
              "      <td>10.2</td>\n",
              "      <td>0.59</td>\n",
              "    </tr>\n",
              "    <tr>\n",
              "      <th>178</th>\n",
              "      <td>12.996889</td>\n",
              "      <td>5.23</td>\n",
              "      <td>10.4</td>\n",
              "      <td>0.60</td>\n",
              "    </tr>\n",
              "    <tr>\n",
              "      <th>179</th>\n",
              "      <td>13.170000</td>\n",
              "      <td>2.59</td>\n",
              "      <td>9.3</td>\n",
              "      <td>0.60</td>\n",
              "    </tr>\n",
              "    <tr>\n",
              "      <th>180</th>\n",
              "      <td>14.130000</td>\n",
              "      <td>4.10</td>\n",
              "      <td>9.2</td>\n",
              "      <td>0.61</td>\n",
              "    </tr>\n",
              "  </tbody>\n",
              "</table>\n",
              "</div>"
            ],
            "text/plain": [
              "       アルコール度数  リンゴ酸  色の濃さ   色合い\n",
              "176  13.400000  3.91   7.3  0.70\n",
              "177  13.270000  4.28  10.2  0.59\n",
              "178  12.996889  5.23  10.4  0.60\n",
              "179  13.170000  2.59   9.3  0.60\n",
              "180  14.130000  4.10   9.2  0.61"
            ]
          },
          "metadata": {},
          "execution_count": 27
        }
      ]
    },
    {
      "cell_type": "markdown",
      "metadata": {
        "id": "iFeiHuwu5j3P"
      },
      "source": [
        "### ▶実行結果\n",
        "\n",
        "![ml_ex_2_newrun9.PNG](data:image/png;base64,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)"
      ]
    },
    {
      "cell_type": "markdown",
      "metadata": {
        "id": "rc3rXbp2O_9i"
      },
      "source": [
        "## 問題１３\n",
        "### 正解データを変数 t に代入して、先頭の５行を表示してください。"
      ]
    },
    {
      "cell_type": "code",
      "metadata": {
        "id": "ADgL1lYSPbpo",
        "colab": {
          "base_uri": "https://localhost:8080/"
        },
        "outputId": "6951ca7d-fcbf-44a8-961e-60b9eddee660"
      },
      "source": [
        "# データフレームから品種列を取り出して変数 t に代入\n",
        "# 実装\n",
        "t= df3['品種']\n",
        "# 正解データの先頭の５行を表示\n",
        "# 実装\n",
        "t.head(5)"
      ],
      "execution_count": 28,
      "outputs": [
        {
          "output_type": "execute_result",
          "data": {
            "text/plain": [
              "0    種類A\n",
              "1    種類A\n",
              "2    種類A\n",
              "3    種類A\n",
              "4    種類A\n",
              "Name: 品種, dtype: object"
            ]
          },
          "metadata": {},
          "execution_count": 28
        }
      ]
    },
    {
      "cell_type": "markdown",
      "metadata": {
        "id": "PKzCF9adP9vj"
      },
      "source": [
        "### ▶実行結果\n",
        "\n",
        "![ml_ex_1_run5.PNG](data:image/png;base64,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)"
      ]
    },
    {
      "cell_type": "markdown",
      "metadata": {
        "id": "yQfVZL5HQCD7"
      },
      "source": [
        "## 問題１４\n",
        "### 決定木モデルを準備して、学習の実行をさせてください。\n",
        "### ただし、決定木の深さの最大値を 5 としてくださう。"
      ]
    },
    {
      "cell_type": "code",
      "metadata": {
        "id": "p_a1pWXdRrcZ"
      },
      "source": [
        "# モジュールのインポート\n",
        "# 実装\n",
        "from sklearn import tree\n",
        "# 決定木モデルの準備\n",
        "# 実装\n",
        "model = tree.DecisionTreeClassifier(max_depth = 5, random_state = 0)"
      ],
      "execution_count": 30,
      "outputs": []
    },
    {
      "cell_type": "markdown",
      "metadata": {
        "id": "UDAcWhl06svf"
      },
      "source": [
        "## 問題１５\n",
        "### 問題１４で作成したモデルを学習し、正解率を表示してください。"
      ]
    },
    {
      "cell_type": "code",
      "metadata": {
        "id": "PU-rK-8O6_z6",
        "colab": {
          "base_uri": "https://localhost:8080/"
        },
        "outputId": "74b39faa-6582-4b31-ac32-2f67b2e1d13f"
      },
      "source": [
        "# モデルの学習\n",
        "# 実装\n",
        "model.fit(x,t)\n",
        "\n",
        "# 正解率を計算\n",
        "# 実装\n",
        "print('ワインの品質予測モデルの正解率 = ', model.score(x,t))"
      ],
      "execution_count": 33,
      "outputs": [
        {
          "output_type": "stream",
          "name": "stdout",
          "text": [
            "ワインの品質予測モデルの正解率 =  0.9668508287292817\n"
          ]
        }
      ]
    },
    {
      "cell_type": "markdown",
      "metadata": {
        "id": "p8KKUivEHk8j"
      },
      "source": [
        "### ▶実行結果\n",
        "\n",
        "![ml_ex_2_newrun14.PNG](data:image/png;base64,iVBORw0KGgoAAAANSUhEUgAAAcEAAAAgCAYAAABq1MN7AAAAAXNSR0IArs4c6QAAAARnQU1BAACxjwv8YQUAAAAJcEhZcwAADsMAAA7DAcdvqGQAAASmSURBVHhe7dlriiQ5DATguUrd/5A9iEEghB4h21lVPY4PTFdaIaVzl8U/9s8PERHRpXgJEhHRtXgJEhHRtXgJEhHRtXgJEhHRtXgJEhHRtXgJEhHRtXgJEhHRtXgJEhHRtXgJEhHRtXgJEhHRtXgJbnq9XuWqZPlsPxJl7arYetcX7T1N3/mJd7+L/vO232j37EKgOSL6Z+sS9P+RZmvHbj/Cn1cXosp1M7I6+u4OMkczNlvtvVN0DsRKPlqdqCdbEbsfZaq6PE/Xt9k9W9f/ZN3WkEzkybqtIZnI03WB9Op6yvYl2Nk5PDr/1Dv8HPT9ma5f6n5l+7Iqvt7lPZvX39GeJ/vdqkR5XSifXe3dmaPQnuq9YvUsaO7TVr9Pdf3vfvZOz58+e6fn7z4L2Yv2I2huxddegtO+lff4nmhGN7eqT2r6nO0jshmR6D126Z6yvzNI5gn+veg5kL7pN03ykvVL95Xd97Kcz2f9n7R7xq7/3c/e6fnTZ+/0/N1nle17aG7FV16CT3ywnxm9I3tvdR6pVasT9fg1McnbbPQ7q2eQzBP8e1fPmvVNvmsl6/9O+J7uGSV9fp3k503nd/3dvGl9d/67n62otjt/91ll+xaS2fF1l6Dkn/hoPzN6R/beJ86jutnVmaarYuv6O9qrIBlL8uiq+HqXF1Em66vmrbxbSdYvpb/tXsf2TPo+wZ9vet6uX5/lbzQbravo2S4vylvds7Uy36pq4on5aH81VyGZHVuXIAL9AMlp9vRHR/PQPXH6PJbM7tZElu/m2Pdp1vbY38rmu4WaZJXviWasZFS2L6K5fmW05v8K7bXL070sZ+vfxp9pekb/ndE8n7G6utBMVrOmz0L2dFWy+m6/iup2r3tHVtO+lV4Lyex49BJEP9DnTn50Nivan2b9UlXNq2qiq3tRHnm/zVR7FSTTWZnhe6IZKxmV7Qtkbkaz2V+Rzcv2M9P80/x5Vs4nPdrXzTv97D01H93PcmKnpvUsh+5P+y0ks+Pjl2Dk1EdXc3xtkhVV/3R2tyZ8vuvXus1VexUk01mZ4Xu6Z4Fk1KRWZT3J+uVFe5VpPmPPpOskP293fjfv9LP3xPxoTyH9YjKjEmUns7Nsd4aufsJjl+DO4U98ODLDZrI8ul/NymaIqia6ujfJ26z8tkv3lP2dQTKd6Ywoj54byVX9wte7vJX1yt9oWVG9W9/Enyc7X3b2rv+3P4toTyH9YjLDQubv9otqhujqJxy/BOXQuwff6Z++v8pXc3zNPlc1T2rdmpjkT2enZ/VW+qMe3UPPnOXQfgvpUUjvZJ6Y5j8F+XYh+1Gt6//fnj00P91X3fzdfjWd84Rjl6Ac9tSBp3P03Sfej87ydftc1SJZveuLoD3VGaMZk7l+ddCcl/WszhPai/b73GqfQPcq0/wnyVl1rej6f3Pd1pBMJqvZXl0eWkMymaomuvoJj/4/wVXv+PBd+i/XLlXVrKqmkIzQHJIVNhf1+Do69xb6z2SyrOjZ74lorzLNE93uKy9BIiKid+AlSERE1+IlSERE1+IlSERE1+IlSERE1+IlSERE1+IlSERE1+IlSEREl/r5+QsExGhofoRojQAAAABJRU5ErkJggg==)"
      ]
    },
    {
      "cell_type": "markdown",
      "metadata": {
        "id": "vvIeYaz479WD"
      },
      "source": [
        "## 問題１６\n",
        "### 問題１１で作成した特徴量と正解データにおいて\n",
        "### 訓練データを７割、テストデータを３割にして分割してください。"
      ]
    },
    {
      "cell_type": "code",
      "metadata": {
        "id": "wIEbloFC9En1"
      },
      "source": [
        "# 関数のインポート\n",
        "# 実装\n",
        "from sklearn.model_selection import train_test_split\n",
        "# 訓練データとテストデータに分割\n",
        "# 実装\n",
        "x_train, x_test, y_train, y_test = train_test_split(x, t,test_size = 0.3, random_state = 0)"
      ],
      "execution_count": 34,
      "outputs": []
    },
    {
      "cell_type": "markdown",
      "metadata": {
        "id": "-uYEesGy9-p2"
      },
      "source": [
        "## 問題１７\n",
        "### 問題１６で分割した訓練データとテストデータの行数と列数をそれぞれ表示してください。"
      ]
    },
    {
      "cell_type": "code",
      "metadata": {
        "id": "FHEW2dj5_Q7F",
        "colab": {
          "base_uri": "https://localhost:8080/"
        },
        "outputId": "7896ba66-05fe-434d-e1f0-bffc6db41343"
      },
      "source": [
        "# 訓練データの行数と列数を表示\n",
        "# 実装\n",
        "lx = x_train.shape\n",
        "print('x_train:行数 = ',lx[0],'、','列数 = ',lx[1])\n",
        "# テストデータの行数と列数を表示\n",
        "# 実装\n",
        "ly = x_test.shape\n",
        "print('x_test:行数 = ',ly[0],'、','列数 = ',ly[1])"
      ],
      "execution_count": 38,
      "outputs": [
        {
          "output_type": "stream",
          "name": "stdout",
          "text": [
            "x_train:行数 =  126 、 列数 =  4\n",
            "x_test:行数 =  55 、 列数 =  4\n"
          ]
        }
      ]
    },
    {
      "cell_type": "markdown",
      "metadata": {
        "id": "c3oGMGuzBjgU"
      },
      "source": [
        "### ▶実行結果\n",
        "\n",
        "![ml_ex_2_newrun12.PNG](data:image/png;base64,iVBORw0KGgoAAAANSUhEUgAAAP4AAAAxCAYAAAD6KBQwAAAAAXNSR0IArs4c6QAAAARnQU1BAACxjwv8YQUAAAAJcEhZcwAADsMAAA7DAcdvqGQAAATGSURBVHhe7ZkLjuQ6CEVnK73/RfYbNO9KCIExOI6r2/dIKDZ/J4WiqP58E0Kug4NPyIVw8Am5EA4+IRfCwSfkQjj4hFwIB5+QC+Hgb+Lr6+v/VR8vxxN5yT+ye/mb7z8HfwPRD8YTD+jtVYhi3mbUh9ggHpl9BZ3bCuxArzXWdybmFN1+jgz+Gzfv1AN6sq6X69S5NNJD1IfVV/dPMdNfVtuz7+q3g/TS7YeDv4lufTxMK5ntbaK6Vl/dP8VMf56P6DzJbCdYqf9rB/9JOjd49YyoqfPYnJ0aOi+kQxRn9dl+F1JHC4jWlixWGMVH6LyQDojrxpcH3xaqFhZ/SARskR/0ng1ENuizeE3FV7C+iI9Eo3X6qvXA7t9kprbnA51cd/Vv8+p9tAaig15ftR7Y/Zvo3jq03virRbM4sUc+Vj/rB2zuyK+Lze8xW9P6Zfs3mant+YhO63ecweaM6mW1R3mELH4XlTNEfOzgzxL5zuortWbJcs7UzPrf0XeF7hmt/ulzIJ/OO7O2RDboR7G7mT3DiPY3/srBs9gZuxaPWX3kt0KWc2QXmycAa62roHNCOoziKrZu/Rkk96ieVxsxVgDWWldB54RU8OJFqvy4N761Rb6z+lEtID4zfiDzrdg930ovuxj1ULHtPsuoXlQ784niTtDthYM/qAXEZ8YPZL4ju61lfbEf5XiDqH7WV3Qe8OS5qr0IotN664O9F3uCbh/lwY9uRBWJi2KznIiFn+cf5bD6yG+FLOdMTfHJep3Js4uoNvrWYhnZhEhfYSbHyMfrL9ufoNtD+xufxEQPQ/SQCGvHOooZ5frJdM8lcTOxkZ/VY+35CpH+03l88HHjPCGEfAZ84xNyIRx8Qi6Eg0/IhXDwCbkQDj4hF8LBb/LEvxReDv77MU92r3h/Yzj4DaIflCce0NurEMW8hdS3osnsq3j5IbADvdZY35mYU5zq58jg7z7szvxP5vZynfohgKz+W/1FdbS+0+tb/c8gvZzqh4PfpFsDD9tKZnuLrN5b/UR1tN7zEZ0nme0EJ+tz8P/SeQCrZ0BNncfm7NTQeSEVMv9qvi66f10zWluyWGEUH6HzQjogrhu/SnnwbaPVxsUfEpH5jOwjW0THX4P4SDRap69aD+z+DXQvXv3M/gQ2r95HayA66PVV64Hdv4nu7QStN/5q06M4a6vuhVH+VSR3ln+2vvXL9m9Q7WlHj6Ma0dpjlEfI4ndROcMufvzge3T7miXLv9Ij9LvPMMsTZ63gnX9mbYls0I9idzN7hp20v/FXGh7Fis2KZWQTIv1TZPlHdvRtBWCtdRV0TsgKWfxq/hFe/3rv1UaMFYC11lXQOSEVvHiRt/n4N36G59/JUYnJfCt2z7fSy9PY2tX904zqRbUznyjuBKd64Tf+X8S/EpP5juy2lvXFfpRjJ1E/oLpfIcvl2UWn9dYHey/2BKf6KA9+dCOrSFwUC1vXLmT2FbK8M3W9/rL9W6C3qP6MfZWZHCMfr79sf4JTPbS/8W8meliih0RYO9ZRzCjXJ9PtW+JmYiM/q8fa8xUi/W/n8cHHjfeEEPIZ8I1PyIVw8Am5EA4+IRfCwSfkQjj4hFwIB5+QC+HgE3IhHHxCLoSDT8h1fH//B1K5nyDCupQGAAAAAElFTkSuQmCC)"
      ]
    },
    {
      "cell_type": "markdown",
      "metadata": {
        "id": "ggVQc-ZOBo8D"
      },
      "source": [
        "## 問題１８\n",
        "### 訓練データで学習させて、正解率を計算し表示してください。"
      ]
    },
    {
      "cell_type": "code",
      "metadata": {
        "id": "vc28OeKpB-Il",
        "colab": {
          "base_uri": "https://localhost:8080/"
        },
        "outputId": "144926bb-f723-4412-8b34-6202a575bc14"
      },
      "source": [
        "# 訓練データで再学習\n",
        "# 実装\n",
        "model.fit(x_train,y_train)\n",
        "# テストデータを使用して成果率を計算し表示\n",
        "# 実装\n",
        "print('ワインの品質予測モデルの正解率 = ',model.score(x_test,y_test))"
      ],
      "execution_count": 40,
      "outputs": [
        {
          "output_type": "stream",
          "name": "stdout",
          "text": [
            "ワインの品質予測モデルの正解率 =  0.8363636363636363\n"
          ]
        }
      ]
    },
    {
      "cell_type": "markdown",
      "source": [
        "### ▶実行結果\n",
        "\n",
        "![ml_ex_2_run18.PNG](data:image/png;base64,iVBORw0KGgoAAAANSUhEUgAAAZEAAAAfCAYAAAAm7PBLAAAAAXNSR0IArs4c6QAAAARnQU1BAACxjwv8YQUAAAAJcEhZcwAADsMAAA7DAcdvqGQAAAPjSURBVHhe7dlbiuw4DIDh2Urvf5F90IMoIXSzE6fSw/+BqEQX2+nh4If57xcAgE1cIgCAbVwiAIBtXCIAgG1cIgCAbVwiAIBtXCIAgG1cIgCAbVwijZ+fnzIiWV+Wt6IeGxGb7/qj3N10jyf2OkX/fvYbbM5GpasDf92lS8T/Y8pix+5cxZ9Lo1LVs9pqfmpyFttT5U6K9q2s9EWRiXqzsOy7r4moLr+r8S27Z6jmqL2/dsrlS6Sz8zHVzO4fyM74+W6/TFaTvI8sLxHx+azPs336HOWUvHcRifo0Or5ndWZnXnW91T5ide+u/rTV86tqjtrHW2snve4SmfavrOt7o9lsvWqfyTr6nuUr2awVrWtDc8o+e1XtTn6fbt9J//Tskz7p8aF5ZfMqq1d9T9s9SzVH7eOttZNedYnc+dG6VrRmtk/WW0Um6vUxMemzPdFzVveq2p38Pqtnyvon51/p8b8Tvrd7r0ivj6v8GtM1V+Zsbbq+YC52x9xJr7lEpO/Oj9a1ojWzfU7sn/F1eV+NiM3rc5SLVDVL+qYR8fmsT0S16bpiZS8lPT6UPttcxvZO+p/gzzE918qcremz/FYzgrnYHXMnXbpEJiYfqj13fbRdJ1oz2+eu/YWs1cVE1lflbWhO+edpdCY9yvdGs5qrat6kV959eJrzv0JnbCh9ntS/xe+9chbp1fCyms9l9SyvsnqWV1k9y6usnuVVVs/yKqtneZXVff6ko5dI9SHRh97x4ZM1s31sXp59qKqmopzV1dV0bc3ZWpWLVLXOyqzvjWY1V9W8SW82a2lP9iv8Ov69s9p/l91zr8zZGnMf35w76WuXSOTqR0fzPlftYWvV3GRNyXUx4fuyOc3bepWLVLXOyqzvrd67Xiuqrcwr6fHhRbnItC9i99e4yq8xXXNlztaY+/jm3EnHLpGdD7jy0dM/Ztbn89V71yuinNXV1aTP9sizDc0p++xVtc50NurrztfVxTSf9VnZjPxGUdWq+Aa/b3SO6HzVO7WPt9ZOuv0SkYPvHn5nbrpf1Rflfc6+VzUluS4mJn3TtUTVu7KOdXV/zXVny+rdnFX1qsnMZB0x7XvK9Nu6PvtO7eOttZNuu0TkwFcPPZ3Xva7s163h8/a9qlmr+UjXW50lmp2s5yPT1b2sd3UdoTPdnK+v9otpLjLte5KcSWNFNUft/bVTjv4/kVVPfnjH/sfQUFVNRDmv69H6ZB0V9fp6t97/hX7rSuicZWtWlItM+4C/6lWXCADgb+ESAQBs4xIBAGzjEgEAbOMSAQBs4xIBAGzjEgEAbOMSAQBs4xIBAGzjEgEAbPr9/QcGxw984V2JWwAAAABJRU5ErkJggg==)"
      ],
      "metadata": {
        "id": "bcXDdkB-pYPU"
      }
    },
    {
      "cell_type": "markdown",
      "metadata": {
        "id": "O1A4QdJFC8G6"
      },
      "source": [
        "## 問題１９\n",
        "### 問題１８で作成したモデルを wine_model.pkl という名前で保存してください。"
      ]
    },
    {
      "cell_type": "code",
      "metadata": {
        "id": "3Wbex3AjDI36"
      },
      "source": [
        "# pickleのインポート\n",
        "# 実装\n",
        "import pickle\n",
        "# モデルを保存\n",
        "# 実装\n",
        "with open('wine_model.pkl ','wb') as f:\n",
        "  pickle.dump(model,f)"
      ],
      "execution_count": 41,
      "outputs": []
    },
    {
      "cell_type": "markdown",
      "metadata": {
        "id": "Lz6bbHf0ENdx"
      },
      "source": [
        "### ▶実行結果\n",
        "\n",
        "![ml_ex_2_newrun13.PNG](data:image/png;base64,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)"
      ]
    },
    {
      "cell_type": "markdown",
      "metadata": {
        "id": "ZezhjwUyESww"
      },
      "source": [
        "### 問題２０\n",
        "### 分岐条件の列を決定して表示してください。"
      ]
    },
    {
      "cell_type": "code",
      "metadata": {
        "id": "MtuskhGVIAR7",
        "colab": {
          "base_uri": "https://localhost:8080/"
        },
        "outputId": "d1a84655-c12f-417b-c125-bfcea14bea52"
      },
      "source": [
        "# 分岐条件の列を表示\n",
        "# 実装\n",
        "model.tree_.feature"
      ],
      "execution_count": 42,
      "outputs": [
        {
          "output_type": "execute_result",
          "data": {
            "text/plain": [
              "array([ 2,  0, -2,  1,  0, -2, -2, -2,  3,  3, -2,  3, -2, -2,  0,  1, -2,\n",
              "        0, -2, -2, -2], dtype=int64)"
            ]
          },
          "metadata": {},
          "execution_count": 42
        }
      ]
    },
    {
      "cell_type": "markdown",
      "metadata": {
        "id": "DQZ9OOAjIhXr"
      },
      "source": [
        "### ▶実行結果\n",
        "\n",
        "![ml_ex_2_newrun16.PNG](data:image/png;base64,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)"
      ]
    },
    {
      "cell_type": "markdown",
      "metadata": {
        "id": "dbyX_rjDIloa"
      },
      "source": [
        "## 問題２１\n",
        "### 条件分岐のしきい値をもとめて表示してください。"
      ]
    },
    {
      "cell_type": "code",
      "metadata": {
        "id": "Zg9meGaYIz8b",
        "colab": {
          "base_uri": "https://localhost:8080/"
        },
        "outputId": "533f1345-475b-4170-b975-3c0f5dc24a6f"
      },
      "source": [
        "# 条件分岐のしきい値を返す\n",
        "# 実装\n",
        "model.tree_.threshold"
      ],
      "execution_count": 43,
      "outputs": [
        {
          "output_type": "execute_result",
          "data": {
            "text/plain": [
              "array([ 3.94500005, 13.05999994, -2.        ,  1.73499995, 13.20499992,\n",
              "       -2.        , -2.        , -2.        ,  0.85500002,  0.82999998,\n",
              "       -2.        ,  0.845     , -2.        , -2.        , 13.13499975,\n",
              "        1.505     , -2.        , 12.24500036, -2.        , -2.        ,\n",
              "       -2.        ])"
            ]
          },
          "metadata": {},
          "execution_count": 43
        }
      ]
    },
    {
      "cell_type": "markdown",
      "metadata": {
        "id": "PnBkDX6YJT5r"
      },
      "source": [
        "### ▶実行結果\n",
        "\n",
        "![ml_ex_2_newrun17.PNG](data:image/png;base64,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)"
      ]
    },
    {
      "cell_type": "markdown",
      "metadata": {
        "id": "I0di0al_Y_br"
      },
      "source": [
        "## 問題２２\n",
        "### 各リーフに到達したデータの数を表示してください。（ただし for 文を使用してください）"
      ]
    },
    {
      "cell_type": "code",
      "metadata": {
        "id": "SFUdBfYZZK_p",
        "colab": {
          "base_uri": "https://localhost:8080/"
        },
        "outputId": "f43cbf1c-6384-4206-e8e7-6d12b9431aec"
      },
      "source": [
        "# リーフに到達したデータの数を表示\n",
        "# 実装\n",
        "#print(len(model.tree_.threshold))\n",
        "num = 0\n",
        "array = model.tree_.feature\n",
        "for i in array :\n",
        "  if i == -2:\n",
        "    print('ノード番号', num, 'のデータ数 = ', model.tree_.value[num])\n",
        "  num += 1\n",
        "    \n",
        "\n",
        "\n"
      ],
      "execution_count": 132,
      "outputs": [
        {
          "output_type": "stream",
          "name": "stdout",
          "text": [
            "ノード番号 2 のデータ数 =  [[ 0. 42.  0.]]\n",
            "ノード番号 5 のデータ数 =  [[1. 0. 0.]]\n",
            "ノード番号 6 のデータ数 =  [[0. 3. 0.]]\n",
            "ノード番号 7 のデータ数 =  [[2. 0. 0.]]\n",
            "ノード番号 10 のデータ数 =  [[ 0.  0. 30.]]\n",
            "ノード番号 12 のデータ数 =  [[0. 1. 0.]]\n",
            "ノード番号 13 のデータ数 =  [[0. 0. 1.]]\n",
            "ノード番号 16 のデータ数 =  [[0. 6. 0.]]\n",
            "ノード番号 18 のデータ数 =  [[0. 1. 0.]]\n",
            "ノード番号 19 のデータ数 =  [[2. 0. 0.]]\n",
            "ノード番号 20 のデータ数 =  [[37.  0.  0.]]\n"
          ]
        }
      ]
    },
    {
      "cell_type": "markdown",
      "source": [
        "### ▶実行結果\n",
        "\n",
        "![ml_ex_2_run22.PNG](data:image/png;base64,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)"
      ],
      "metadata": {
        "id": "gQkyQnGap1I7"
      }
    },
    {
      "cell_type": "markdown",
      "metadata": {
        "id": "F8JBkRl_SI0G"
      },
      "source": [
        "## 問題２２\n",
        "### アルコール度数 = 11.2、リンゴ酸 = 2.95、色の濃さ = 2.3、色合い = 0.95 のワインの品質を予測させてください。"
      ]
    },
    {
      "cell_type": "code",
      "metadata": {
        "id": "twEcTiOTUM7g",
        "colab": {
          "base_uri": "https://localhost:8080/"
        },
        "outputId": "35238e93-ef30-4a6b-d574-356c5a9cc117"
      },
      "source": [
        "# アルコール度数 = 11.2、リンゴ酸 = 2.95、色の濃さ = 2.3、色合い = 0.95 のワインの品質を予測\n",
        "# 実装\n",
        "model.predict([[11.2,2.95,2.3,0.95]])"
      ],
      "execution_count": 50,
      "outputs": [
        {
          "output_type": "stream",
          "name": "stderr",
          "text": [
            "/usr/local/lib/python3.7/dist-packages/sklearn/base.py:446: UserWarning: X does not have valid feature names, but DecisionTreeClassifier was fitted with feature names\n",
            "  \"X does not have valid feature names, but\"\n"
          ]
        },
        {
          "output_type": "execute_result",
          "data": {
            "text/plain": [
              "array(['種類B'], dtype=object)"
            ]
          },
          "metadata": {},
          "execution_count": 50
        }
      ]
    },
    {
      "cell_type": "markdown",
      "metadata": {
        "id": "8eYL-je3U4u3"
      },
      "source": [
        "### ▶実行結果\n",
        "\n",
        "![ml_ex_1_run7.PNG](data:image/png;base64,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)"
      ]
    },
    {
      "cell_type": "markdown",
      "metadata": {
        "id": "lp63UbSGU-If"
      },
      "source": [
        "## 問題２３\n",
        "### アルコール度数 = 14.44、リンゴ酸 = 1.69、色の濃さ = 5.5、色合い = 10.8のワインと\n",
        "### アルコール度数 = 12.77、リンゴ酸 = 2.95、色の濃さ = 5.2、色合い = 0.78のワインの品質を予測させてください。"
      ]
    },
    {
      "cell_type": "code",
      "metadata": {
        "id": "LiwhG4qoFRU0",
        "colab": {
          "base_uri": "https://localhost:8080/"
        },
        "outputId": "f2898e26-3cc0-4be2-cd79-4774ae9c0a35"
      },
      "source": [
        "# アルコール度数 = 14.44、リンゴ酸 = 1.69、色の濃さ = 5.5、色合い = 10.8のワインのデータ\n",
        "# 実装\n",
        "list1 = [14.44,1.69,5.5,10.8]\n",
        "# アルコール度数 = 12.77、リンゴ酸 = 2.95、色の濃さ = 5.2、色合い = 0.78のワインのデータ\n",
        "# 実装\n",
        "list2 = [12.77,2.95,5.2,0.78]\n",
        "# ２つのワインの品質を一括で予測\n",
        "# 実装\n",
        "#↓この書式でもできる！\n",
        "#model.predict([[14.44,1.69,5.5,10.8],[12.77,2.95,5.2,0.78]])\n",
        "model.predict([list1,list2])"
      ],
      "execution_count": 115,
      "outputs": [
        {
          "output_type": "stream",
          "name": "stderr",
          "text": [
            "/usr/local/lib/python3.7/dist-packages/sklearn/base.py:446: UserWarning: X does not have valid feature names, but DecisionTreeClassifier was fitted with feature names\n",
            "  \"X does not have valid feature names, but\"\n"
          ]
        },
        {
          "output_type": "execute_result",
          "data": {
            "text/plain": [
              "array(['種類A', '種類C'], dtype=object)"
            ]
          },
          "metadata": {},
          "execution_count": 115
        }
      ]
    },
    {
      "cell_type": "markdown",
      "metadata": {
        "id": "AaO0XvwNGsJE"
      },
      "source": [
        "### ▶実行結果\n",
        "\n",
        "![ml_ex_1_run8.PNG](data:image/png;base64,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)"
      ]
    },
    {
      "cell_type": "markdown",
      "metadata": {
        "id": "lJphpRYWYnXD"
      },
      "source": [
        "## 問題２４\n",
        "### 問題１４、１５で作成した決定木モデルの描画をしてください。\n",
        "### 但し、漢字表示がデフォルトでできないため下記のように列名を英語で記述します。\n",
        "### アルコール度数 = Alcohol_degree\n",
        "### リンゴ酸 = Malic_acid\n",
        "### 色の濃さ = Color_intensity\n",
        "### 色合い = Tint"
      ]
    },
    {
      "cell_type": "code",
      "metadata": {
        "id": "Qdj8N5dbbXTU",
        "colab": {
          "base_uri": "https://localhost:8080/",
          "height": 625
        },
        "outputId": "62ef8067-b22f-4a3d-e8bd-caba300223b2"
      },
      "source": [
        "# 描画関数の仕様上、和名の特徴量を英字に直す\n",
        "# 実装\n",
        "x_train.columns = ['gaku_nagasa','gaku_haba','kaben_nagasa','kaben_haba']\n",
        "# 描画関数の利用\n",
        "# 実装\n",
        "from sklearn.tree import plot_tree\n",
        "# plot_tree関数で決定木を描画\n",
        "# 実装\n",
        "plot_tree(model, feature_names = x_train.columns, filled = True)"
      ],
      "execution_count": 57,
      "outputs": [
        {
          "output_type": "execute_result",
          "data": {
            "text/plain": [
              "[Text(133.92000000000002, 199.32, 'kaben_nagasa <= 3.945\\ngini = 0.651\\nsamples = 126\\nvalue = [42, 53, 31]'),\n",
              " Text(44.64, 163.07999999999998, 'gaku_nagasa <= 13.06\\ngini = 0.117\\nsamples = 48\\nvalue = [3, 45, 0]'),\n",
              " Text(22.32, 126.83999999999999, 'gini = 0.0\\nsamples = 42\\nvalue = [0, 42, 0]'),\n",
              " Text(66.96000000000001, 126.83999999999999, 'gaku_haba <= 1.735\\ngini = 0.5\\nsamples = 6\\nvalue = [3, 3, 0]'),\n",
              " Text(44.64, 90.6, 'gaku_nagasa <= 13.205\\ngini = 0.375\\nsamples = 4\\nvalue = [1, 3, 0]'),\n",
              " Text(22.32, 54.359999999999985, 'gini = 0.0\\nsamples = 1\\nvalue = [1, 0, 0]'),\n",
              " Text(66.96000000000001, 54.359999999999985, 'gini = 0.0\\nsamples = 3\\nvalue = [0, 3, 0]'),\n",
              " Text(89.28, 90.6, 'gini = 0.0\\nsamples = 2\\nvalue = [2, 0, 0]'),\n",
              " Text(223.2, 163.07999999999998, 'kaben_haba <= 0.855\\ngini = 0.582\\nsamples = 78\\nvalue = [39, 8, 31]'),\n",
              " Text(156.24, 126.83999999999999, 'kaben_haba <= 0.83\\ngini = 0.061\\nsamples = 32\\nvalue = [0, 1, 31]'),\n",
              " Text(133.92000000000002, 90.6, 'gini = 0.0\\nsamples = 30\\nvalue = [0, 0, 30]'),\n",
              " Text(178.56, 90.6, 'kaben_haba <= 0.845\\ngini = 0.5\\nsamples = 2\\nvalue = [0, 1, 1]'),\n",
              " Text(156.24, 54.359999999999985, 'gini = 0.0\\nsamples = 1\\nvalue = [0, 1, 0]'),\n",
              " Text(200.88, 54.359999999999985, 'gini = 0.0\\nsamples = 1\\nvalue = [0, 0, 1]'),\n",
              " Text(290.16, 126.83999999999999, 'gaku_nagasa <= 13.135\\ngini = 0.258\\nsamples = 46\\nvalue = [39, 7, 0]'),\n",
              " Text(267.84000000000003, 90.6, 'gaku_haba <= 1.505\\ngini = 0.346\\nsamples = 9\\nvalue = [2, 7, 0]'),\n",
              " Text(245.52, 54.359999999999985, 'gini = 0.0\\nsamples = 6\\nvalue = [0, 6, 0]'),\n",
              " Text(290.16, 54.359999999999985, 'gaku_nagasa <= 12.245\\ngini = 0.444\\nsamples = 3\\nvalue = [2, 1, 0]'),\n",
              " Text(267.84000000000003, 18.119999999999976, 'gini = 0.0\\nsamples = 1\\nvalue = [0, 1, 0]'),\n",
              " Text(312.48, 18.119999999999976, 'gini = 0.0\\nsamples = 2\\nvalue = [2, 0, 0]'),\n",
              " Text(312.48, 90.6, 'gini = 0.0\\nsamples = 37\\nvalue = [37, 0, 0]')]"
            ]
          },
          "metadata": {},
          "execution_count": 57
        },
        {
          "output_type": "display_data",
          "data": {
            "image/png": "[encoded data removed]",
            "text/plain": [
              "<Figure size 432x288 with 1 Axes>"
            ]
          },
          "metadata": {
            "needs_background": "light"
          }
        }
      ]
    },
    {
      "cell_type": "markdown",
      "metadata": {
        "id": "o9AIjWVhcAGz"
      },
      "source": [
        "### ▶実行結果\n",
        "![P175_5-28_run.PNG](data:image/png;base64,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)"
      ]
    },
    {
      "cell_type": "markdown",
      "metadata": {
        "id": "dkLLOsXRcFh8"
      },
      "source": [
        ""
      ]
    }
  ]
}