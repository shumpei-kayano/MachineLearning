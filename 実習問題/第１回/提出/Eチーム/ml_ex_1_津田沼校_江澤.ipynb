{
  "nbformat": 4,
  "nbformat_minor": 0,
  "metadata": {
    "colab": {
      "name": "ml_ex_1_stu.ipynb",
      "provenance": [],
      "collapsed_sections": []
    },
    "kernelspec": {
      "name": "python3",
      "display_name": "Python 3"
    },
    "language_info": {
      "name": "python"
    }
  },
  "cells": [
    {
      "cell_type": "markdown",
      "metadata": {
        "id": "UafVA-Gk9jO4"
      },
      "source": [
        "# 機械学習　第４章　実習問題（分類：決定木１）"
      ]
    },
    {
      "cell_type": "code",
      "source": [
        "cd data\n"
      ],
      "metadata": {
        "colab": {
          "base_uri": "https://localhost:8080/"
        },
        "id": "iP59gNSlfE10",
        "outputId": "3ac8edcd-07ca-4b9b-b5f3-3486e9c96d28"
      },
      "execution_count": 7,
      "outputs": [
        {
          "output_type": "stream",
          "name": "stdout",
          "text": [
            "/content/data\n"
          ]
        }
      ]
    },
    {
      "cell_type": "markdown",
      "metadata": {
        "id": "cR2A2VFC9YY7"
      },
      "source": [
        "### ※ 準備作業\n",
        "### ⓵ドライブのマウント\n",
        "### ⓶ディレクトリの作成\n",
        "### ⓷作成したディレクトリへの移動\n",
        "### ⓸csvファイル udon.csvのアップロード"
      ]
    },
    {
      "cell_type": "markdown",
      "metadata": {
        "id": "bF5VAjpfRQNp"
      },
      "source": [
        "### ※ 使用するデータ（udon.csv）\n",
        "\n",
        "![ml_ex_0_run1.PNG](data:image/png;base64,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)"
      ]
    },
    {
      "cell_type": "markdown",
      "metadata": {
        "id": "dN2eJGz2_yYy"
      },
      "source": [
        "## ※ 実施内容\n",
        "### 決定木モデルを使用し、かけうどん価格、エビ天価格を特徴量として「食べる」「食べない」を予測する。\n"
      ]
    },
    {
      "cell_type": "markdown",
      "metadata": {
        "id": "lUtqwORJIAYO"
      },
      "source": [
        "## 問題１\n",
        "### scikit-learnからtreeモジュールをインポートしてください。\n",
        "### また、pandasをインポートして別名をpdにしてください。"
      ]
    },
    {
      "cell_type": "code",
      "metadata": {
        "id": "0cMfibLd9UcE"
      },
      "source": [
        "# treeモジュールをインポート\n",
        "# 実装\n",
        "from sklearn import tree\n",
        "# pandasをインポートして別名をpdとする\n",
        "# 実装\n",
        "import pandas as pd\n",
        "\n"
      ],
      "execution_count": 9,
      "outputs": []
    },
    {
      "cell_type": "markdown",
      "metadata": {
        "id": "ezor_xPAJnTc"
      },
      "source": [
        "## 問題２\n",
        "### アップロードした udon.csv を読み込んでデータフレームを生成して表示してください。"
      ]
    },
    {
      "cell_type": "code",
      "metadata": {
        "id": "TTi4H3RlKPw0",
        "colab": {
          "base_uri": "https://localhost:8080/",
          "height": 363
        },
        "outputId": "c5a88897-d1ab-4522-8d7f-273c6235bef0"
      },
      "source": [
        "# wine.csv を読み込みデータフレームを生成（ただし、漢字コードをshift_jisとする\n",
        "# 実装\n",
        "df = pd.read_csv('udon.csv',encoding='shift-jis')\n",
        "\n",
        "# 表示\n",
        "# 実装\n",
        "df\n"
      ],
      "execution_count": 11,
      "outputs": [
        {
          "output_type": "execute_result",
          "data": {
            "text/html": [
              "<div>\n",
              "<style scoped>\n",
              "    .dataframe tbody tr th:only-of-type {\n",
              "        vertical-align: middle;\n",
              "    }\n",
              "\n",
              "    .dataframe tbody tr th {\n",
              "        vertical-align: top;\n",
              "    }\n",
              "\n",
              "    .dataframe thead th {\n",
              "        text-align: right;\n",
              "    }\n",
              "</style>\n",
              "<table border=\"1\" class=\"dataframe\">\n",
              "  <thead>\n",
              "    <tr style=\"text-align: right;\">\n",
              "      <th></th>\n",
              "      <th>かけうどん価格</th>\n",
              "      <th>エビ天価格</th>\n",
              "      <th>選択</th>\n",
              "    </tr>\n",
              "  </thead>\n",
              "  <tbody>\n",
              "    <tr>\n",
              "      <th>0</th>\n",
              "      <td>300</td>\n",
              "      <td>120</td>\n",
              "      <td>食べる</td>\n",
              "    </tr>\n",
              "    <tr>\n",
              "      <th>1</th>\n",
              "      <td>300</td>\n",
              "      <td>140</td>\n",
              "      <td>食べる</td>\n",
              "    </tr>\n",
              "    <tr>\n",
              "      <th>2</th>\n",
              "      <td>300</td>\n",
              "      <td>160</td>\n",
              "      <td>食べる</td>\n",
              "    </tr>\n",
              "    <tr>\n",
              "      <th>3</th>\n",
              "      <td>350</td>\n",
              "      <td>120</td>\n",
              "      <td>食べる</td>\n",
              "    </tr>\n",
              "    <tr>\n",
              "      <th>4</th>\n",
              "      <td>350</td>\n",
              "      <td>120</td>\n",
              "      <td>食べる</td>\n",
              "    </tr>\n",
              "    <tr>\n",
              "      <th>5</th>\n",
              "      <td>350</td>\n",
              "      <td>140</td>\n",
              "      <td>食べる</td>\n",
              "    </tr>\n",
              "    <tr>\n",
              "      <th>6</th>\n",
              "      <td>350</td>\n",
              "      <td>160</td>\n",
              "      <td>食べない</td>\n",
              "    </tr>\n",
              "    <tr>\n",
              "      <th>7</th>\n",
              "      <td>350</td>\n",
              "      <td>160</td>\n",
              "      <td>食べない</td>\n",
              "    </tr>\n",
              "    <tr>\n",
              "      <th>8</th>\n",
              "      <td>400</td>\n",
              "      <td>140</td>\n",
              "      <td>食べない</td>\n",
              "    </tr>\n",
              "    <tr>\n",
              "      <th>9</th>\n",
              "      <td>400</td>\n",
              "      <td>140</td>\n",
              "      <td>食べない</td>\n",
              "    </tr>\n",
              "  </tbody>\n",
              "</table>\n",
              "</div>"
            ],
            "text/plain": [
              "   かけうどん価格  エビ天価格    選択\n",
              "0      300    120   食べる\n",
              "1      300    140   食べる\n",
              "2      300    160   食べる\n",
              "3      350    120   食べる\n",
              "4      350    120   食べる\n",
              "5      350    140   食べる\n",
              "6      350    160  食べない\n",
              "7      350    160  食べない\n",
              "8      400    140  食べない\n",
              "9      400    140  食べない"
            ]
          },
          "metadata": {},
          "execution_count": 11
        }
      ]
    },
    {
      "cell_type": "markdown",
      "metadata": {
        "id": "jdV0qI-2TUvU"
      },
      "source": [
        "### ▶実行結果\n",
        "\n",
        "![ml_ex_0_run2.PNG](data:image/png;base64,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)"
      ]
    },
    {
      "cell_type": "markdown",
      "metadata": {
        "id": "aCdxu6r5NsVF"
      },
      "source": [
        "## 問題３\n",
        "### 特徴量を変数 x に代入して表示してください。"
      ]
    },
    {
      "cell_type": "code",
      "metadata": {
        "id": "qgZvQJeyOEET",
        "colab": {
          "base_uri": "https://localhost:8080/",
          "height": 363
        },
        "outputId": "c7f2af25-d955-48b2-ed55-6c1f09ae569d"
      },
      "source": [
        "# かけうどん価格、エビ天価格列を変数 x に代入\n",
        "# 実装\n",
        "xcol = ['かけうどん価格','エビ天価格']\n",
        "x = df[xcol]\n",
        "# 特徴量を表示\n",
        "# 実装\n",
        "x\n"
      ],
      "execution_count": 12,
      "outputs": [
        {
          "output_type": "execute_result",
          "data": {
            "text/html": [
              "<div>\n",
              "<style scoped>\n",
              "    .dataframe tbody tr th:only-of-type {\n",
              "        vertical-align: middle;\n",
              "    }\n",
              "\n",
              "    .dataframe tbody tr th {\n",
              "        vertical-align: top;\n",
              "    }\n",
              "\n",
              "    .dataframe thead th {\n",
              "        text-align: right;\n",
              "    }\n",
              "</style>\n",
              "<table border=\"1\" class=\"dataframe\">\n",
              "  <thead>\n",
              "    <tr style=\"text-align: right;\">\n",
              "      <th></th>\n",
              "      <th>かけうどん価格</th>\n",
              "      <th>エビ天価格</th>\n",
              "    </tr>\n",
              "  </thead>\n",
              "  <tbody>\n",
              "    <tr>\n",
              "      <th>0</th>\n",
              "      <td>300</td>\n",
              "      <td>120</td>\n",
              "    </tr>\n",
              "    <tr>\n",
              "      <th>1</th>\n",
              "      <td>300</td>\n",
              "      <td>140</td>\n",
              "    </tr>\n",
              "    <tr>\n",
              "      <th>2</th>\n",
              "      <td>300</td>\n",
              "      <td>160</td>\n",
              "    </tr>\n",
              "    <tr>\n",
              "      <th>3</th>\n",
              "      <td>350</td>\n",
              "      <td>120</td>\n",
              "    </tr>\n",
              "    <tr>\n",
              "      <th>4</th>\n",
              "      <td>350</td>\n",
              "      <td>120</td>\n",
              "    </tr>\n",
              "    <tr>\n",
              "      <th>5</th>\n",
              "      <td>350</td>\n",
              "      <td>140</td>\n",
              "    </tr>\n",
              "    <tr>\n",
              "      <th>6</th>\n",
              "      <td>350</td>\n",
              "      <td>160</td>\n",
              "    </tr>\n",
              "    <tr>\n",
              "      <th>7</th>\n",
              "      <td>350</td>\n",
              "      <td>160</td>\n",
              "    </tr>\n",
              "    <tr>\n",
              "      <th>8</th>\n",
              "      <td>400</td>\n",
              "      <td>140</td>\n",
              "    </tr>\n",
              "    <tr>\n",
              "      <th>9</th>\n",
              "      <td>400</td>\n",
              "      <td>140</td>\n",
              "    </tr>\n",
              "  </tbody>\n",
              "</table>\n",
              "</div>"
            ],
            "text/plain": [
              "   かけうどん価格  エビ天価格\n",
              "0      300    120\n",
              "1      300    140\n",
              "2      300    160\n",
              "3      350    120\n",
              "4      350    120\n",
              "5      350    140\n",
              "6      350    160\n",
              "7      350    160\n",
              "8      400    140\n",
              "9      400    140"
            ]
          },
          "metadata": {},
          "execution_count": 12
        }
      ]
    },
    {
      "cell_type": "markdown",
      "metadata": {
        "id": "KeHR__17bbGA"
      },
      "source": [
        "### ▶実行結果\n",
        "\n",
        "![ml_ex_0_run3.PNG](data:image/png;base64,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)"
      ]
    },
    {
      "cell_type": "markdown",
      "metadata": {
        "id": "rc3rXbp2O_9i"
      },
      "source": [
        "## 問題４\n",
        "### 正解データを変数 t に代入して、表示してください。"
      ]
    },
    {
      "cell_type": "code",
      "metadata": {
        "id": "ADgL1lYSPbpo",
        "colab": {
          "base_uri": "https://localhost:8080/"
        },
        "outputId": "d06909ad-ac42-419a-b75a-b2578fd6e101"
      },
      "source": [
        "# データフレームから「選択」列を取り出して変数 t に代入\n",
        "# 実装\n",
        "t = df['選択']\n",
        "# 正解データを表示\n",
        "# 実装\n",
        "t\n"
      ],
      "execution_count": 14,
      "outputs": [
        {
          "output_type": "execute_result",
          "data": {
            "text/plain": [
              "0     食べる\n",
              "1     食べる\n",
              "2     食べる\n",
              "3     食べる\n",
              "4     食べる\n",
              "5     食べる\n",
              "6    食べない\n",
              "7    食べない\n",
              "8    食べない\n",
              "9    食べない\n",
              "Name: 選択, dtype: object"
            ]
          },
          "metadata": {},
          "execution_count": 14
        }
      ]
    },
    {
      "cell_type": "markdown",
      "metadata": {
        "id": "P1aj1Uj2b-mh"
      },
      "source": [
        "### ▶実行結果\n",
        "\n",
        "![ml_ex_0_run4.PNG](data:image/png;base64,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)"
      ]
    },
    {
      "cell_type": "markdown",
      "metadata": {
        "id": "yQfVZL5HQCD7"
      },
      "source": [
        "## 問題５\n",
        "### 決定木モデルを準備して、学習の実行をさせてください。"
      ]
    },
    {
      "cell_type": "code",
      "metadata": {
        "id": "p_a1pWXdRrcZ",
        "colab": {
          "base_uri": "https://localhost:8080/"
        },
        "outputId": "3b8921e1-10f5-4853-b4d8-7a20a8c1e760"
      },
      "source": [
        "# 決定木モデルの準備\n",
        "# 実装\n",
        "model = tree.DecisionTreeClassifier(random_state=0)\n",
        "# 学習の実行\n",
        "model.fit(x,t)\n",
        "# 実装\n"
      ],
      "execution_count": 15,
      "outputs": [
        {
          "output_type": "execute_result",
          "data": {
            "text/plain": [
              "DecisionTreeClassifier(random_state=0)"
            ]
          },
          "metadata": {},
          "execution_count": 15
        }
      ]
    },
    {
      "cell_type": "markdown",
      "metadata": {
        "id": "izG2pE4xSDmf"
      },
      "source": [
        "### ▶実行結果\n",
        "\n",
        "![ml_ex_1_run6.PNG](data:image/png;base64,iVBORw0KGgoAAAANSUhEUgAAAUwAAAAgCAYAAAB5L0HKAAAAAXNSR0IArs4c6QAAAARnQU1BAACxjwv8YQUAAAAJcEhZcwAADsMAAA7DAcdvqGQAAAM4SURBVHhe7dYNiuQ6DATgvUrf/5AzCLbACP2U7TgJPfVB6LFkye70e2L//YiICEUDU0SEpIEpIkLSwBQRIWlgioiQNDBFREgamCIiJA1MERGSBqaICEkDU0SEpIEpf97n8/n/l3yLU7/p0sC0y+D5i8bv/+R76M5+6l6sJ98dvOEdvf13eiP8t1O9uxPvdXlgwolLwW7vk3czp/tXmN/gyfuZ6nzmbnfc/+l3ZN5wB2/3Tie/k++dnXXiDtsD05x6Obt9T90LTvfPROeysTtV5zN3O33/p98PvOUeo907nfxOvnd11tX3ePXAfLunvnd0Lht7izfc7S3v542/0+6dduqt1j+jbj2qciuODUyL4Yl0edPlTtUjluWByWU9EI9ypspnNV61r+pvdvOGqV2pN1094syeSFePeJbDZ5Q3Yy7ag3yVw98r0COqr3JQ7alywOzJ+JrunCsdGZi7a2DjV9fbeoyxfUa+x8jHd9eZbN/ued0asripcsD2jfZZrDujylf1Ph6tx1i13+817Np/srr+pup5R31lpn62d+cVAzOT7bu6fnYNWdzM5HbXmdV9Xd0V5zM9sj0+Hu3b6W+Yeujuc2rtP1nM/pme0d6q3udmzjIz9bO9O8cGpn9Gfp2p9mW9R1nOx2fXkMVNl/PPiMl7bAzQF49X5UyXN6s5yPbg3PHxophX7enqcS6e0V1r/znDavBEup5jfbS3qve1fi+TH/n1qMqtuOVfmB77JXb3sfHZNWRxs5ozK3k2Znx85bwRe86o62lW+sLunpncU2v/uSqqr3r63G79LOZ82D3L2x6Y0YW6L9StgY1fXb/b38zkZtdmjEV5w8avXkMWN1UO2L7RPqa/Yc8YdefPrO3v1Xr/yer6m6rnHfUVtn62L2N5YOLJdHu6vOlyp+p9LOuTxU2VM5bHE+nyhslnUIs9fq/Pe13erOagq8cTYfqb1XqcjX3jfl/r1yarBeSzXPQ5A72r2irv66N9Y95DLst3mPrV3pWlgSnyTU78jyXPOvWbamCKfBn8yyt6ZI8GpogISQNTRISkgSkiQtLAFBEhaWCKiJA0MEVESBqYIiIkDUwREcrPzy+h+aA8UUL9NwAAAABJRU5ErkJggg==)"
      ]
    },
    {
      "cell_type": "markdown",
      "metadata": {
        "id": "F8JBkRl_SI0G"
      },
      "source": [
        "## 問題６\n",
        "### かけうどん価格 = 300、エビ天価格 = 170のうどんを食べるか食べないかを予測させてください。"
      ]
    },
    {
      "cell_type": "code",
      "metadata": {
        "id": "twEcTiOTUM7g",
        "colab": {
          "base_uri": "https://localhost:8080/"
        },
        "outputId": "5564e47c-4816-4e37-9753-444057aa21d2"
      },
      "source": [
        "# かけうどん価格 = 300、エビ天価格 = 170のうどんを食べるか食べないかを予測\n",
        "hiro = [[300,170]]\n",
        "model.predict(hiro)\n",
        "# 実装\n"
      ],
      "execution_count": 17,
      "outputs": [
        {
          "output_type": "stream",
          "name": "stderr",
          "text": [
            "/usr/local/lib/python3.7/dist-packages/sklearn/base.py:446: UserWarning: X does not have valid feature names, but DecisionTreeClassifier was fitted with feature names\n",
            "  \"X does not have valid feature names, but\"\n"
          ]
        },
        {
          "output_type": "execute_result",
          "data": {
            "text/plain": [
              "array(['食べる'], dtype=object)"
            ]
          },
          "metadata": {},
          "execution_count": 17
        }
      ]
    },
    {
      "cell_type": "markdown",
      "metadata": {
        "id": "MtCY6D21dM8m"
      },
      "source": [
        "### ▶実行結果\n",
        "\n",
        "![ml_ex_0_run5.PNG](data:image/png;base64,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)"
      ]
    },
    {
      "cell_type": "markdown",
      "metadata": {
        "id": "lp63UbSGU-If"
      },
      "source": [
        "## 問題７\n",
        "### かけうどん価格 = 250、エビ天価格 = 250のうどんと\n",
        "### かけうどん価格 = 350、エビ天価格 = 200のうどん\n",
        "### を食べるか食べないかを予測させてください。"
      ]
    },
    {
      "cell_type": "code",
      "metadata": {
        "id": "LiwhG4qoFRU0",
        "colab": {
          "base_uri": "https://localhost:8080/"
        },
        "outputId": "33ef9b84-04f3-4124-abbd-3c7aaf05d28b"
      },
      "source": [
        "# かけうどん価格 = 250、エビ天価格 = 250のうどんのデータ\n",
        "# 実装\n",
        "a = [250,250]\n",
        "\n",
        "# かけうどん価格 = 350、エビ天価格 = 200のうどんのデータ\n",
        "# 実装\n",
        "b = [350,200]\n",
        "\n",
        "# ２つのうどんに対して食べるか食べないかを一括で予測\n",
        "# 実装\n",
        "new_data = [a,b]\n",
        "model.predict(new_data)\n"
      ],
      "execution_count": 18,
      "outputs": [
        {
          "output_type": "stream",
          "name": "stderr",
          "text": [
            "/usr/local/lib/python3.7/dist-packages/sklearn/base.py:446: UserWarning: X does not have valid feature names, but DecisionTreeClassifier was fitted with feature names\n",
            "  \"X does not have valid feature names, but\"\n"
          ]
        },
        {
          "output_type": "execute_result",
          "data": {
            "text/plain": [
              "array(['食べる', '食べない'], dtype=object)"
            ]
          },
          "metadata": {},
          "execution_count": 18
        }
      ]
    },
    {
      "cell_type": "markdown",
      "metadata": {
        "id": "R30IzQ9tehip"
      },
      "source": [
        "### ▶実行結果\n",
        "\n",
        "![ml_ex_0_run6.PNG](data:image/png;base64,iVBORw0KGgoAAAANSUhEUgAAAeMAAABFCAYAAAB5RY5/AAAAAXNSR0IArs4c6QAAAARnQU1BAACxjwv8YQUAAAAJcEhZcwAADsMAAA7DAcdvqGQAAAtoSURBVHhe7ZsJjhzJDkPnKr7/IT1fwBDQF7TFllvxAYnqEEUqMivbAXg8//wlhBBCyK3wMCaEEEJuhocxIYQQcjM8jAkhhJCb4WFMCCGE3AwPY0IIIeRmeBgTQgghN8PDmBBCCLkZHsaEEELIzfAwJoQQQm5m+jD+8+fPfz/dw93zV+Hzezd8fu/m178/vr/P41OH8RP3FLFz/zO+K5/VFbNkBq5RtLebkfV0/F/ijfc7sudu75ueg97rG7+/k1TPw9OlhmuWqcN4ZeAOovlP3Zdldv+77nu0v0OWeWKexuavzqv8s/rKvlbv6SRP3pvH6H67/W95Dnafb/v+TiLPInsenl6tu/Aw3kh3/uz+d933aH+HLPPEPI3NX51X+Wf1lX2t3tNJnrw3j9H9dvvf8hzsPt/2/Z1EnkX2PDy9WncZPoxnB+0im//kvYET+x/xnXpGJ+5rlpV5lbeTfeJ+r36GIzx5b5aZvXY9b3gO3h7f9P2tIPeZ3Su0qCfSs0yN9GW9Ww7jzuawEU8TUM96hBUty17VhUwDK/5IR10+ZzIqv61568groF71RDpqkW7p9ERU3kjXe8t6IuD3ejKtA3xZBrQZ3dainsgPtG77oNk6qHQw47e1LCMC2Zm30vFpezLN4ukdP7RTegY8kd/WohmRH0DL/PoT6HrkFSr9ksO4WgtS8+qWrCfSbH33GkR1TdZT+bO5WhudUfmrteDVgGhar/K8deYX0ONpI1T+aDbI9tCte32RVxDNXhpb83TNytpqQuUXsozVtcbTRvJGs4WRfMHLkZpXF6wW9QmeVvlPryukX3t25wtZvpDpsq78HYYO42iItzlNZ3M7eiK92k9ntqY7x3JKt/VuH+j4URvNFqr81bWl0jMyb6R19zda13R6Irr7A7P9VR/w+nTN6qPriKiv8kPv9llsfSYn83Tzu/VslnC639LxozaaDbQvyxesXq27XHIYC1LD5RHVNVVPN7tae0iPvjyqnFO6rXf7QMeP2mi2UOWvri2VHjGb291fli8aLo/MW2G9XhZm49J4/RrPY0FP1htp2tfpiai0yB/VLVEP/PqydPQIq0W93brXJzV9Wbpa1JNh+z0/aqPZgni8C3iaXED/LNh1l/ZhnA0Y3Yynz3gsUY+tV2tLtz/LqWYIo/sAtu71ZdmiaT3qrTIirHb1Gkg90oRdWtSbZWi8vq7XQ7zab7NG1xboUV8nL5uRaR6j+Rbbi3WVEemjPq8/yzjt7+RrRvuB9Hm9th7lRXVgcyI6OZpqDaSeZW8/jL2B1VrwappKF6Keav7qGkR1IdNA1ZPN1ZrXl2VDszmWXdrVayD1SBN2aNmMbt3ri7wd4JXPTvbK2mpC5Rekpi/N6lrwamAkbyQHjOQLXk6ULezwa73K270GUvc01CIdZJpQ+UEnR1OtgdSz7NZhnAUAPcjrh+5pQlQXMk1TZeDyGNW9vszboeqr8uXT65nN1XR7OvOjnlP+LpG3k6lnz+TA3+kZpeNBNnqtx+oar9di/bon6tfA6/UKmR55NCP+KC+qC8jOvFq3fZFPqHozrwBdPqNeaLpXY3VLpWd0PDO5EVWWp0sN1yzbDuOT3D1/lac/v1X96/D9O4/sUV87ecP9n+Tt91/t/yvf79A/4CKEEELIfngYE0IIITfDw5gQQgi5GR7GhBBCyM3wMCaEEEJuhocxIYQQcjOXHcbyz8/xT9D1z4QQ8uvwz0dy6WEM7ItWrUfhi/z//Mrz2HWfszni47v3Pa74TvUMvkO/ySWHcfWi2drqy/jFl3nlnr74PDyq++w+h5nndfoZ/8p3+ER2PPssQ2v8nn+Xx/w3Y7yEp1/8t7JyT7/yC17dZ/c5zDyv08/4V77DJ7Lj2fP7IxU8jF/Cyj39yh8Eu+5zJuf0M/6V7/CJ7Hj2/P5IxWMOY2HlhRUv/F4OdE8TVvUMeDI/NE/PtA7wZRnQPN3Wop7IX7ErP9OEygu9yrHAqzMsK3qmCbYeZeAz0iOtAp7MD83Tdd3TBfTM6isgM8q3NW8deQkBnziMtc976U+vK6Rfe2byvVoX8Wp/NW/3umJXfjW345OfqxyPzGO10bWwki9ILcro+DNsdpUXre0nWF2vInk6c2a+VyNE84m/pq5+GXavR9kxb2UPnXxNNj/TQJXvkeVbop7K2/V19mDJPKP5nr6av+rPGPVH/fYTjK53s2M/p/dI3g8P4/8ha3tZMq3CekbXwsxc0M3XlwW1SLPXKPBEXp2d9WR0fVWOR+YRzV6Wjh5htRm/vUaw/Z5fZ0f99hPAoy9Lpq1iM0fXwol9kW/xiMO48zJnVP7RdcVq/8x+Rmdqds7PtBVG8qN51T66virHI/OM7svrH8lf9Y9Sze+u7Sew64qoX+qjWUK1n2otzMwlv8XnDmP5ucrbva7YkT86U7NjvtCtR30Vq/nV3I5Pfq5yPDKP1UbXQjdffl7xC1mvR+Xvru0nWF0DqUdahvXZDKtZXfBqhGg+cRgL+pfA80P3NGFVz7AeL6OTX+kR1uNlIBta1BNh/TOM5Hu9mV/I9Cq7ojNbz7BY3evTuqXjzYC/6vOwHi/D5useW9MakBouj0oHle4BT5avtU4PIZbH/DdjQgg5CQ9C8mR4GBNCCCE3w8OYEEIIuRkexoQQQsjN8DAmhBBCboaHMSGEEHIzPIwJIYSQm/nkYVz9f36V3mWk9wmM3t8ob3l+d86NZkO7a2/kLPxeScXnDuPspa9+IUb+MERft38X2KO9Ooz0zjC6F/15JTMzd+xTMqqcK57HFTOu5C3387XnTvbCw9gw0mM/V5jNOt0/Siff3uuOPVVZUvcuYNeWTBuhytk1J8ObccXcU3T3fvIeO9lvfsbkPJ86jKuXfYeue+zPlR94vVh3M4SRXmG0f5QqX3TdY3+u/MDrxbrK6Ohez2qusKtnlZn7ezLdvZ+8xyfsgbwbHsYNxAcvfvYurUdoLeurWPFejX4m+Nm7tB6htawvYsYjdHyz2ZodGRXejCvmRshse40w2n+C7h6esFfyTNqHMX5JopcJ9aino2eaxusRojqo9A6zswWvZ2ZP4vGuNxDts7N/r2fkvrPeKmd2f6PsyPCQXGTbGdBsHXj9GqyrjEyvyPyoRTqotMyf6Zlm6fSQ36R1GNsXyHuhqpcx0219dA2iOqj0DpIRXRmZXnk12ayRnLvA/r0rI9MrL1jJ2DGjw6rfQ2fKz96MbK7VvLWudfpH6OTpWpTfrY+uhSjb0u0jv8fUX1PPvIwjL2GWn+Xs3ENElLGyL+HKnjuJ9pfte8d9n9ZBty9i1e9hM70Z1VzoHe/oumJXfrfezdN0eoRuH/k9pv6a2nuhqpeso+vLgpqngUwTKr2DZETXKlmG1aKZO/ZxEuzbu1bJMjxNz868QqWDbl/Eqt/DZnozqrnQO15vbS9NR9eMrkFWt5fGrj06PUK3j/weW/+aOiPTO/nCygyh0jvoDJu3Oz/i1B7Eu+LvcGrvoJvhza680LO+KqOiyp7Jtx4vo5Mb9Uhda7avk51R5XXnjdZBpQudHqHbR36PTx3GwsicGaK97sgGVdapPYh/NaPi1N41nayZfXR6Vqnmz8zWniijkxv1oN7NjnIiKr+sdS3K79ZH10KUren0kN9l6q+psdZUL1pHx4W1pvKDrK+bkSEZ+tK1K9F72Dl/V06Et2f985XYfXQ4vc8qf3a+vs8oQ/dYorqQaQDZnV6PzI9apINKy/yVLnR0QiKm/gHX1Yy+xFE/fllmfik63tnsp3By73g22YxK/zLd53MH1dy79tWleq5X8PRnRO7nFYcxIYQQ8mV4GBNCCCE3w8OYEEIIuRkexoQQQsjN8DAmhBBCboaHMSGEEHIzPIwJIYSQm+FhTAghhNzK37//AqPmY09xF4OVAAAAAElFTkSuQmCC)"
      ]
    },
    {
      "cell_type": "markdown",
      "metadata": {
        "id": "4K4qz7oTGyP7"
      },
      "source": [
        "## 問題８\n",
        "### 問題５で学習したモデルの正解率を表示してください。"
      ]
    },
    {
      "cell_type": "code",
      "metadata": {
        "id": "YcgoFF3QHKtC",
        "colab": {
          "base_uri": "https://localhost:8080/"
        },
        "outputId": "85b7bf92-4819-4b68-d1ca-232f612c2d59"
      },
      "source": [
        "# 正解率の計算\n",
        "# 実装\n",
        "print(\"うどんを食べる食べない予測モデルの正解率 = \",model.score(x,t))\n",
        "\n"
      ],
      "execution_count": 43,
      "outputs": [
        {
          "output_type": "stream",
          "name": "stdout",
          "text": [
            "うどんを食べる食べない予測モデルの正解率 =  1.0\n"
          ]
        }
      ]
    },
    {
      "cell_type": "markdown",
      "metadata": {
        "id": "opXx76AyfA5G"
      },
      "source": [
        "### ▶実行結果\n",
        "\n",
        "![ml_ex_0_run7.PNG](data:image/png;base64,iVBORw0KGgoAAAANSUhEUgAAAZ4AAAAeCAYAAAAcu3hjAAAAAXNSR0IArs4c6QAAAARnQU1BAACxjwv8YQUAAAAJcEhZcwAADsMAAA7DAcdvqGQAAARhSURBVHhe7ZpRjiQ5CETnKnX/Q1aLD0YoBBhwpjNbHU9C5YQIjL0f1vbuvy8hhBByED48hBBCjsKHhxBCyFH48BBCCDkKHx5CCCFH4cNDCCHkKHx4CCGEHIUPDyGEkKPw4SGEEHKUSx+ez+fzP6Z4Xs1V++7sL+z6hSt6PMlT8z+5bxYZtr7yebm70T2f2PsUet/2jDZno0JVR2bc9m883X/QiqfXXLVXd0/E+mXd7af63Tm66KwYXdQz8e6yM+9dVPp7d5blTuLNUWGi92KF54nCw+Y9TVaX7268kZ25njjb6/7Utnv4id9ePEYX9eDvDtNek71xr0kPZNVL8l4o+I1ktS7Yq9vb6nXt5RDJryLD02tUQe3Uu9NHqXqyfYXpLFXdG5BZp/NO72eXV/43Hu8yqheye3FTP86I62pfT6vf1R5CRyvgvriu9vO0+r3qUal7mt2+iOorPtTItw3NKXYdUdHcAe5bnaPi656poxcthuYVm0ciHeoj/xuYzvbUGV/3pzZBPV3/ZC9E96z2slrrxbD1CFvLdCs6XjuTrr2w9Qhby3QRE49Q8XV7d/RW662jekRFcwe473TWyNc510SLvx3Qs/quIj6MO5j2Rd9d8yGXPTx6qRqW7mG8HhUmHks0t86z6h/VVz7B01R8iHi8qBDpKn5PU91XyLSrPtP5BMl3I8PWde3lMioai+irkYH1lV7wNJEv6zfZWxEthqJrm1thPR3fk0znRN+p8x77U1v1QDsXaKMLeia9rAcjI6uvvJZsr0of9XuRkdVXXmWnxxV7IJG2MosNzSl2rVj9Kqp0tAp6vB4TjRLlBa8vRoTW8FdQrw1Ec5HO1t/KdDb0nTrjqx6enUPvXGDk7c4T6bM+lT1OaaJ65rtzX2W3rlR1gqfN/FqzmiyXUdGsmPRAj9djolGivFDpG6Ha6FeI+kX5iK7+FNO50HfqfK95eHYO7HmrOcRqujOJPopdsh5Yi/ZczaE+L3bJeng1u3fmFVZ1paoTUFudweqyXEZFs2LSAz2rb6GiUTq1TIuIFgPxchldfYSdSeMOpn3Rd9d8yJGHp3KYnQN73moOuWoO7LPTV+nO351hx1uh2sPbe+XVeqZb9bBMtbK2oTnFriMqmhXdHp6+OndFl/kFrK/0lsgrv15YvPoq3shqrmh2zJ06369/eCLf9EKncwjRnjs9kVWvnRl2vFXumqOi6dDpc7V29wwTv+fRXHXmSFf1WyoepeLt9BO6+qdZzSv1yr2cOvetD0902AjVR+ER5YWVN8L6bKzw9HZ9CjtDZ3/PY9cnwTkqXDlntRfq7LfXo9MXY0VVh0SeaT9BvVU/6qY+oZrL6OqfZmde8Wqc4vKH54lDPE3lzG++k98+/5VU7sJidZ4H69W+fwW9k05YvG/MCV4uo6snPY79zwWEEEKIwIeHEELIUfjwEEIIOQofHkIIIUfhw0MIIeQofHgIIYQchQ8PIYSQo/DhIYQQcpDv9wdn3jy8Arv0VgAAAABJRU5ErkJggg==)"
      ]
    },
    {
      "cell_type": "markdown",
      "metadata": {
        "id": "AL-2sCcfH4cu"
      },
      "source": [
        "## 問題９\n",
        "### 問題５で作成したモデルを udon.pkl というファイル名で保存してください。"
      ]
    },
    {
      "cell_type": "code",
      "metadata": {
        "id": "zoUHn6WEIWwf"
      },
      "source": [
        "# pickleのインポート\n",
        "# 実装\n",
        "import pickle\n",
        "# 学習したモデルを wine.pkl に保存\n",
        "# 実装\n",
        "with open('udon.pkl','wb') as f:\n",
        "  pickle.dump(model,f)"
      ],
      "execution_count": 45,
      "outputs": []
    },
    {
      "cell_type": "markdown",
      "metadata": {
        "id": "4FSxJ-UPfZwz"
      },
      "source": [
        "### ▶実行結果\n",
        "\n",
        "![ml_ex_0_run8.PNG](data:image/png;base64,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)"
      ]
    },
    {
      "cell_type": "markdown",
      "metadata": {
        "id": "Yspq3UbPJGtd"
      },
      "source": [
        "### 問題１０\n",
        "### 問題９で保存したモデルを読み込んで\n",
        "### かけうどん価格 = 400、エビ天価格 = 170のうどんを食べるか食べないかを予測させてください。"
      ]
    },
    {
      "cell_type": "code",
      "metadata": {
        "id": "5273-EoNJtAa",
        "colab": {
          "base_uri": "https://localhost:8080/"
        },
        "outputId": "d9ae2e72-52c2-41b0-e7d7-af4a6a2367fc"
      },
      "source": [
        "# pickleのインポート\n",
        "# 実装\n",
        "import pickle\n",
        "# wine.pklを読み込む\n",
        "# 実装\n",
        "with open('udon.pkl','rb') as f:\n",
        "  model2 = pickle.load(f)\n",
        "\n",
        "\n",
        "# かけうどん価格 = 400、エビ天価格 = 170のうどんを食べるか食べないかを予測\n",
        "# 実装\n",
        "c = [[400,170]]\n",
        "model2.predict(c)\n"
      ],
      "execution_count": 46,
      "outputs": [
        {
          "output_type": "stream",
          "name": "stderr",
          "text": [
            "/usr/local/lib/python3.7/dist-packages/sklearn/base.py:446: UserWarning: X does not have valid feature names, but DecisionTreeClassifier was fitted with feature names\n",
            "  \"X does not have valid feature names, but\"\n"
          ]
        },
        {
          "output_type": "execute_result",
          "data": {
            "text/plain": [
              "array(['食べない'], dtype=object)"
            ]
          },
          "metadata": {},
          "execution_count": 46
        }
      ]
    },
    {
      "cell_type": "markdown",
      "metadata": {
        "id": "9_89Hrm2KjW5"
      },
      "source": [
        "### ▶実行結果\n",
        "\n",
        "![ml_ex_0_run9.PNG](data:image/png;base64,iVBORw0KGgoAAAANSUhEUgAAAe0AAABECAYAAACs0G1pAAAAAXNSR0IArs4c6QAAAARnQU1BAACxjwv8YQUAAAAJcEhZcwAADsMAAA7DAcdvqGQAAArXSURBVHhe7dsJjiM3DAXQXGXuf8gJCOQDDMFNW7lk/wcU3BIXqcp2C+hM/vlLREREV+ChTUREdAke2kRERJfgoU1ERHQJHtpERESX4KFNRER0CR7aREREl9h6aP/58+e/nz7j0+uv4vO7G5/f3X79/ePn9w5ff2i/cU+RnfufqXvyWT2xlqyBa5Su7fbIcjr13+TG+x3Zczf3pueg93rj+3dS9Ty8uMzh2mnbob17Y6Oi9d+6L2t2/7vuezS/I+t5Yj3N9l9dr6qfja/sa/WeTnrz3jyj++3m3/Ic7D5ve/9OkmeRPQ8vXo1X8NA+rLv+7P533fdofkfW88R6mu2/ul5VPxtf2dfqPZ305r15Rvfbzb/lOdh93vb+nSTPInseXrwar9hyaO/c0Ixs/TfvDU7sf6Tu1DM6cV+zVtaraju9T9zv089wxJv3Zs3stVtzw3Pw9njT+7dC7jO7V8SinCie9dQkr5sLxw7tzk1gw15MYD7LESuxrPdqXGQxWKmP4piX15keVb2d88ZRrcB8lRPFMRfFrU5OpKqN4npvWU4E9V5OFutAXdYDsZm4nYtyonrQcZuHmJ2HKg4z9XYu6xFB76y2iuPV5mQxy4t36hE7Fc+gJqq3c9EaUT0gltXrV9DzUa2o4p6PHdrVWMicN29lOVHMzu8eQzSvZTlVfbaujo2uUdVXY+HNgcR0vOrnjbN6gRwvNqKqj9aGbA/deS8vqhUSs5dm57y4tjK2MVHVi6zH6ljzYiP9RnuLkf7C6yNz3rywsShPeLGq/vS4Ivm6Znd/kfUXWVzGVf2s5UM72ox3E1rnJnbkRPFqP521te461qm4ne/mQacec6O9RdV/dWxV8UxWG8W6+xud1zo5ke7+YDa/ygMvT8/Z+Og4EuVV9Yh38yw7P9Mnq+n2785na4nT+VanHnOjvUHXZf2FjVfjFR87tIXM4fJE81qV0+1djT2Soy9P1edU3M5386BTj7nR3qLqvzq2qnhktm93f1l/ieHyZLUVW+v1wtq4NC9f82os5GS5UUzXdXIiVSyqj+atKAf1+rI68YiNRbndeS9P5vRldWNRTsbme/WYG+0tpMa7wIvJBfpnYccrlg7tbCOjm/biMzVWlGPnq7HVzc/6VGuI0X2Anffyst4S0/Eot+oRsbGnxyDzUUzsikW5WQ/Ny+vWeqRW19teo2ML8Siv0y9bI4t5RvtbNhfjqkcUH63z8rMep+s7/bXRfJA8L9fOR/2iebB9Ip0+WjUGma96W48c2t7GqrHw5rQqLqKcav3VMUTzIotBlZOtq2NeXtYbMdvH2hV7egwyH8XEjli2Rnfey4tqO1Arr53eK2MbE1W9kDl9aatj4c3BSL+RPjDSX3h9ot5iR72OV/12j0HmvRjmojhkMVHVQ6ePVo1B5qve1vSh3VlIb8jLR9yLiWheZDGt6oHLMxr38rLajiqv6i+vXs5sX62b01k/yjlV3xXVdnrqtWf6oL6TM6pTg97ItTU2rnm5lq3XOVG+hlovV2TxqEYbqY/6RfMCvbNaHbd5UZ2ocrNagbi8RrmI6VzNxq0qnunUzPSNVL28uMzh2unooX3Sp9df9fbntxr/dvz8nSd71NdON9z/Sbfff7X/b35/l/8hGhERET2DhzYREdEleGgTERFdgoc2ERHRJXhoExERXYKHNhER0SU+emjLP8vHP83XPxMR/Tr+fiTPxw9tsB/IajyKH/j/+5Xnses+Z/tIHT973+eJ91Svwc8QwccO7eoDaedWP7Tf+KFfuadvfB6e6j67z2HmeZ1+xr/yHr7Rjmef9dAxvs+kvfq/aePDevoLcquVe/qVXwTVfXafw8zzOv2Mf+U9fKMdz57vH83goX2xlXv6lV8Yu+5zps/pZ/wr7+Eb7Xj2fP9oxqsPbbHywZZa1Ht9EPdiYjWeQU1Wj5gXz2IdqMt6IObF7VyUE9VXdvXPYqKqRbzqY6FW97BW4llM2PmoB16jeBSroCarR8yL63kvLpAzG1+BnlF/O+eNo1qizNce2rrO+3KcHlckX9fM9PfmuqRW11fr7R5XdvWv1u3Uyc9VH09WY2OjY7HSX8hc1KNTn7G9q37R2L7C6niV9NM9Z9b35ogqX/vn8epLs3s8asd6K3vo9Ney9bMYVP09WX8ryqlqu3WdPVhZzWh/L77af7U+M1of5dtXGB3vtmM/p/dI34mH9n+8sb2sLFaxNaNjMbMudPvry8JcFLPXKNREtbp3lpPp1lV9PFmNxOxldeIRG5upt9cIm+/V695Rvn0F1OjLymKrbM/RsTixL/p+rz20Ox/6TFU/Oq6s5s/sZ3RNbef6WWzFSP9ovWof3bqqjyerGd2Xlz/Sf7V+VLV+d2xfwY4rUb7Mj/YS1X6qsZhZl+gnDm35ueq3e1zZ0X90TW3H+qI7H+VVVvtX63bq5OeqjyersbHRsej2l59X6kWW66nqu2P7CqtjkPkolrF1toeN2bjw5ogqX3toC/1l8eoR92JiNZ6xNV6PTv8qHrE1Xg/0RizKidj6GSP9vdysXmTxqnels7Zew7JxL0/HrU5tBvVVnsfWeD1sf51j53QMZA6Xp4pDFfegJuuvY50coo5X/zdtIqKTeGDSbXhoExERXYKHNhER0SV4aBMREV2ChzYREdEleGgTERFdgoc2ERHRJX7m0K7+P8kq3jWSu9Mn143WRuxTe6Oz+L4SPe8nDu3sl0v1i2fk0EFeN3+nmTV37FN6VH2eeB5PrPGkW+7n25470dvx0G780hnJsa8rql4y711gx1YWG1H12bVOxlvjiXVP6e795D12et/8jIlu9PWHdvVLZUdc59ifq3rwcjGuenTiXs5qX7ErZ9XM/b1Zd+8n7/ENeyCi/+OhPfkLR+pQi5+9S8cjOpblRWZqRKdutre2o0fFW+OJdSOytr1GjOaf0N3DG/ZK9CuWDm38Moq+tJiPcjrxLKZ5OSKahyreMbu28HJG9pTlVn1m9zdqRw+P9EVvuwZidh68fA3jqkcWr2T1mIviUMWy+iyexaxODhHtMX1o2y+q98WtvvRZ3M6PjiGahyreIT2iK5PFq1pY6bFjjY7Veo/uKT97a2Tr2pg31nOd/BGdfnou6t+dHx2LqLfVzSOiddv+PD7zpR/5smf9sz479xCJeqzsS6zufTUO3bzIar3H9vTWqNZFvFM7Oq7s6t+d7/bTOjmim0dE67b9edz74lZf5k5cXxbmvBhkMVHFO6RHdK3KengxvXZWK6o4dPMiq/Ue29Nbo1oX8U6tN7aX1olro2PI5u2l2bGnkyO6eUS07vifxzNZvNNfrKwhqniH7mH77e6f8dauahHP8qoelar3TH9b4/Xo9I1yZF7HbF6nd6bq111vdB6quOjkiG4eEa37+kNbjKwzI9rrjt7Q6TWzj07Oqmr9mbV1TdSj0zfKwXy3d9QnUtXLWM9F/bvzo2MR9dY6OUS0z7Y/j2OsVV/oThwXxlpVD1let0dGeuhLzz3N7qPj9D6r/rPr6/uMeugcK5oXWQzQu5PryeoxF8WhimX1VVx04kT0nG3/EO1po78sonz8Upr55dOpne39DbrP5xOqdT+1r67quT7h7c+I6Btde2gTERH9Gh7aREREl+ChTUREdAke2kRERJfgoU1ERHQJHtpERESX4KFNRER0CR7aREREl+ChTUREdAke2kRERFf4+/dfbCm+3XFTai4AAAAASUVORK5CYII=)"
      ]
    }
  ]
}